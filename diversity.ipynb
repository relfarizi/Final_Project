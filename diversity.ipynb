{
 "cells": [
  {
   "cell_type": "code",
   "execution_count": 1,
   "metadata": {},
   "outputs": [
    {
     "output_type": "error",
     "ename": "AttributeError",
     "evalue": "module 'Image' has no attribute 'Image'",
     "traceback": [
      "\u001b[1;31m---------------------------------------------------------------------------\u001b[0m",
      "\u001b[1;31mAttributeError\u001b[0m                            Traceback (most recent call last)",
      "\u001b[1;32m<ipython-input-1-98acdea93b9f>\u001b[0m in \u001b[0;36m<module>\u001b[1;34m\u001b[0m\n\u001b[0;32m      4\u001b[0m \u001b[1;32mimport\u001b[0m \u001b[0mnumpy\u001b[0m \u001b[1;32mas\u001b[0m \u001b[0mnp\u001b[0m\u001b[1;33m\u001b[0m\u001b[1;33m\u001b[0m\u001b[0m\n\u001b[0;32m      5\u001b[0m \u001b[1;32mfrom\u001b[0m \u001b[0mPIL\u001b[0m \u001b[1;32mimport\u001b[0m \u001b[0mImage\u001b[0m\u001b[1;33m\u001b[0m\u001b[1;33m\u001b[0m\u001b[0m\n\u001b[1;32m----> 6\u001b[1;33m \u001b[1;32mfrom\u001b[0m \u001b[0mrdkit\u001b[0m\u001b[1;33m.\u001b[0m\u001b[0mChem\u001b[0m\u001b[1;33m.\u001b[0m\u001b[0mDraw\u001b[0m \u001b[1;32mimport\u001b[0m \u001b[0mIPythonConsole\u001b[0m\u001b[1;33m\u001b[0m\u001b[1;33m\u001b[0m\u001b[0m\n\u001b[0m",
      "\u001b[1;32m~\\Anaconda3\\lib\\site-packages\\rdkit\\Chem\\Draw\\IPythonConsole.py\u001b[0m in \u001b[0;36m<module>\u001b[1;34m\u001b[0m\n\u001b[0;32m    315\u001b[0m \u001b[1;33m\u001b[0m\u001b[0m\n\u001b[0;32m    316\u001b[0m \u001b[1;33m\u001b[0m\u001b[0m\n\u001b[1;32m--> 317\u001b[1;33m \u001b[0mInstallIPythonRenderer\u001b[0m\u001b[1;33m(\u001b[0m\u001b[1;33m)\u001b[0m\u001b[1;33m\u001b[0m\u001b[1;33m\u001b[0m\u001b[0m\n\u001b[0m\u001b[0;32m    318\u001b[0m \u001b[1;33m\u001b[0m\u001b[0m\n\u001b[0;32m    319\u001b[0m \u001b[1;33m\u001b[0m\u001b[0m\n",
      "\u001b[1;32m~\\Anaconda3\\lib\\site-packages\\rdkit\\Chem\\Draw\\IPythonConsole.py\u001b[0m in \u001b[0;36mInstallIPythonRenderer\u001b[1;34m()\u001b[0m\n\u001b[0;32m    299\u001b[0m     \u001b[0mrdchem\u001b[0m\u001b[1;33m.\u001b[0m\u001b[0mMol\u001b[0m\u001b[1;33m.\u001b[0m\u001b[0m__GetSubstructMatches\u001b[0m \u001b[1;33m=\u001b[0m \u001b[0mrdchem\u001b[0m\u001b[1;33m.\u001b[0m\u001b[0mMol\u001b[0m\u001b[1;33m.\u001b[0m\u001b[0mGetSubstructMatches\u001b[0m\u001b[1;33m\u001b[0m\u001b[1;33m\u001b[0m\u001b[0m\n\u001b[0;32m    300\u001b[0m   \u001b[0mrdchem\u001b[0m\u001b[1;33m.\u001b[0m\u001b[0mMol\u001b[0m\u001b[1;33m.\u001b[0m\u001b[0mGetSubstructMatches\u001b[0m \u001b[1;33m=\u001b[0m \u001b[0m_GetSubstructMatches\u001b[0m\u001b[1;33m\u001b[0m\u001b[1;33m\u001b[0m\u001b[0m\n\u001b[1;32m--> 301\u001b[1;33m   \u001b[0mImage\u001b[0m\u001b[1;33m.\u001b[0m\u001b[0mImage\u001b[0m\u001b[1;33m.\u001b[0m\u001b[0m_repr_png_\u001b[0m \u001b[1;33m=\u001b[0m \u001b[0mdisplay_pil_image\u001b[0m\u001b[1;33m\u001b[0m\u001b[1;33m\u001b[0m\u001b[0m\n\u001b[0m\u001b[0;32m    302\u001b[0m   \u001b[0m_MolsToGridImageSaved\u001b[0m \u001b[1;33m=\u001b[0m \u001b[0mDraw\u001b[0m\u001b[1;33m.\u001b[0m\u001b[0mMolsToGridImage\u001b[0m\u001b[1;33m\u001b[0m\u001b[1;33m\u001b[0m\u001b[0m\n\u001b[0;32m    303\u001b[0m   \u001b[0mDraw\u001b[0m\u001b[1;33m.\u001b[0m\u001b[0mMolsToGridImage\u001b[0m \u001b[1;33m=\u001b[0m \u001b[0mShowMols\u001b[0m\u001b[1;33m\u001b[0m\u001b[1;33m\u001b[0m\u001b[0m\n",
      "\u001b[1;31mAttributeError\u001b[0m: module 'Image' has no attribute 'Image'"
     ]
    }
   ],
   "source": [
    "from rdkit import Chem\n",
    "from rdkit.Chem import DataStructs,AllChem,Draw\n",
    "import pandas as pd\n",
    "import numpy as np\n",
    "from PIL import Image\n",
    "from rdkit.Chem.Draw import IPythonConsole\n"
   ]
  },
  {
   "cell_type": "code",
   "execution_count": 2,
   "metadata": {},
   "outputs": [
    {
     "data": {
      "text/html": [
       "<div>\n",
       "<style scoped>\n",
       "    .dataframe tbody tr th:only-of-type {\n",
       "        vertical-align: middle;\n",
       "    }\n",
       "\n",
       "    .dataframe tbody tr th {\n",
       "        vertical-align: top;\n",
       "    }\n",
       "\n",
       "    .dataframe thead th {\n",
       "        text-align: right;\n",
       "    }\n",
       "</style>\n",
       "<table border=\"1\" class=\"dataframe\">\n",
       "  <thead>\n",
       "    <tr style=\"text-align: right;\">\n",
       "      <th></th>\n",
       "      <th>Molecule ChEMBL ID</th>\n",
       "      <th>Smiles</th>\n",
       "      <th>Standard Relation</th>\n",
       "      <th>Standard Value</th>\n",
       "      <th>Standard Units</th>\n",
       "    </tr>\n",
       "  </thead>\n",
       "  <tbody>\n",
       "    <tr>\n",
       "      <th>0</th>\n",
       "      <td>CHEMBL2263120</td>\n",
       "      <td>CC1(C)CC[C@]2(C(=O)OCCCCCCCCCCC(=O)O)CC[C@]3(C...</td>\n",
       "      <td>'='</td>\n",
       "      <td>0.7200</td>\n",
       "      <td>nM</td>\n",
       "    </tr>\n",
       "    <tr>\n",
       "      <th>1</th>\n",
       "      <td>CHEMBL2263121</td>\n",
       "      <td>CC1(C)CC[C@]2(C(=O)NC(Cc3ccccc3)C(=O)O)CC[C@]3...</td>\n",
       "      <td>'='</td>\n",
       "      <td>3.3100</td>\n",
       "      <td>nM</td>\n",
       "    </tr>\n",
       "    <tr>\n",
       "      <th>2</th>\n",
       "      <td>CHEMBL168</td>\n",
       "      <td>CC1(C)CC[C@]2(C(=O)O)CC[C@]3(C)C(=CC[C@@H]4[C@...</td>\n",
       "      <td>'='</td>\n",
       "      <td>5.0501</td>\n",
       "      <td>nM</td>\n",
       "    </tr>\n",
       "    <tr>\n",
       "      <th>3</th>\n",
       "      <td>CHEMBL508831</td>\n",
       "      <td>CC1(C)CC[C@]2(C(=O)O)CC[C@]3(C)C(=CC[C@@H]4[C@...</td>\n",
       "      <td>'='</td>\n",
       "      <td>0.5400</td>\n",
       "      <td>nM</td>\n",
       "    </tr>\n",
       "    <tr>\n",
       "      <th>4</th>\n",
       "      <td>CHEMBL506556</td>\n",
       "      <td>CC1(C)CC[C@]2(C(=O)O)CC[C@]3(C)C(=CC[C@@H]4[C@...</td>\n",
       "      <td>'='</td>\n",
       "      <td>0.6200</td>\n",
       "      <td>nM</td>\n",
       "    </tr>\n",
       "    <tr>\n",
       "      <th>...</th>\n",
       "      <td>...</td>\n",
       "      <td>...</td>\n",
       "      <td>...</td>\n",
       "      <td>...</td>\n",
       "      <td>...</td>\n",
       "    </tr>\n",
       "    <tr>\n",
       "      <th>1447</th>\n",
       "      <td>CHEMBL1782241</td>\n",
       "      <td>CC(C)=CCC/C(C)=C/Cc1c(O)c(CC=C(C)C)c(O)c2c(=O)...</td>\n",
       "      <td>'='</td>\n",
       "      <td>5.2000</td>\n",
       "      <td>nM</td>\n",
       "    </tr>\n",
       "    <tr>\n",
       "      <th>1448</th>\n",
       "      <td>CHEMBL323197</td>\n",
       "      <td>COc1c(O)cc2oc3cc(O)c(CC=C(C)C)c(O)c3c(=O)c2c1C...</td>\n",
       "      <td>'='</td>\n",
       "      <td>5.5000</td>\n",
       "      <td>nM</td>\n",
       "    </tr>\n",
       "    <tr>\n",
       "      <th>1449</th>\n",
       "      <td>CHEMBL4071698</td>\n",
       "      <td>CCCc1cc(O)cc(OC(=O)c2c(O)cc(O)cc2CCC)c1</td>\n",
       "      <td>'='</td>\n",
       "      <td>0.7200</td>\n",
       "      <td>nM</td>\n",
       "    </tr>\n",
       "    <tr>\n",
       "      <th>1450</th>\n",
       "      <td>CHEMBL3770020</td>\n",
       "      <td>CCCc1cc(O)cc(O)c1C(=O)O</td>\n",
       "      <td>'='</td>\n",
       "      <td>1.5800</td>\n",
       "      <td>nM</td>\n",
       "    </tr>\n",
       "    <tr>\n",
       "      <th>1451</th>\n",
       "      <td>CHEMBL4278170</td>\n",
       "      <td>FC(F)(F)Sc1ccc(CNCc2ccc(SC(F)(F)F)cc2)cc1</td>\n",
       "      <td>'='</td>\n",
       "      <td>0.7000</td>\n",
       "      <td>nM</td>\n",
       "    </tr>\n",
       "  </tbody>\n",
       "</table>\n",
       "<p>1452 rows × 5 columns</p>\n",
       "</div>"
      ],
      "text/plain": [
       "     Molecule ChEMBL ID                                             Smiles  \\\n",
       "0         CHEMBL2263120  CC1(C)CC[C@]2(C(=O)OCCCCCCCCCCC(=O)O)CC[C@]3(C...   \n",
       "1         CHEMBL2263121  CC1(C)CC[C@]2(C(=O)NC(Cc3ccccc3)C(=O)O)CC[C@]3...   \n",
       "2             CHEMBL168  CC1(C)CC[C@]2(C(=O)O)CC[C@]3(C)C(=CC[C@@H]4[C@...   \n",
       "3          CHEMBL508831  CC1(C)CC[C@]2(C(=O)O)CC[C@]3(C)C(=CC[C@@H]4[C@...   \n",
       "4          CHEMBL506556  CC1(C)CC[C@]2(C(=O)O)CC[C@]3(C)C(=CC[C@@H]4[C@...   \n",
       "...                 ...                                                ...   \n",
       "1447      CHEMBL1782241  CC(C)=CCC/C(C)=C/Cc1c(O)c(CC=C(C)C)c(O)c2c(=O)...   \n",
       "1448       CHEMBL323197  COc1c(O)cc2oc3cc(O)c(CC=C(C)C)c(O)c3c(=O)c2c1C...   \n",
       "1449      CHEMBL4071698            CCCc1cc(O)cc(OC(=O)c2c(O)cc(O)cc2CCC)c1   \n",
       "1450      CHEMBL3770020                            CCCc1cc(O)cc(O)c1C(=O)O   \n",
       "1451      CHEMBL4278170          FC(F)(F)Sc1ccc(CNCc2ccc(SC(F)(F)F)cc2)cc1   \n",
       "\n",
       "     Standard Relation  Standard Value Standard Units  \n",
       "0                  '='          0.7200             nM  \n",
       "1                  '='          3.3100             nM  \n",
       "2                  '='          5.0501             nM  \n",
       "3                  '='          0.5400             nM  \n",
       "4                  '='          0.6200             nM  \n",
       "...                ...             ...            ...  \n",
       "1447               '='          5.2000             nM  \n",
       "1448               '='          5.5000             nM  \n",
       "1449               '='          0.7200             nM  \n",
       "1450               '='          1.5800             nM  \n",
       "1451               '='          0.7000             nM  \n",
       "\n",
       "[1452 rows x 5 columns]"
      ]
     },
     "execution_count": 2,
     "metadata": {},
     "output_type": "execute_result"
    }
   ],
   "source": [
    "dataset = pd.read_csv('Dataset_After1.csv',index_col = 0)\n",
    "dataset"
   ]
  },
  {
   "cell_type": "code",
   "execution_count": 3,
   "metadata": {},
   "outputs": [
    {
     "data": {
      "image/png": "[encoded data removed]",
      "text/plain": [
       "<rdkit.Chem.rdchem.Mol at 0x1f9abb49c10>"
      ]
     },
     "execution_count": 3,
     "metadata": {},
     "output_type": "execute_result"
    }
   ],
   "source": [
    "molSmiles = dataset[\"Smiles\"].tolist()\n",
    "molA = Chem.MolFromSmiles(molSmiles[1])\n",
    "molA"
   ]
  },
  {
   "cell_type": "code",
   "execution_count": 4,
   "metadata": {},
   "outputs": [
    {
     "ename": "AttributeError",
     "evalue": "module 'Image' has no attribute 'open'",
     "output_type": "error",
     "traceback": [
      "\u001b[1;31m---------------------------------------------------------------------------\u001b[0m",
      "\u001b[1;31mAttributeError\u001b[0m                            Traceback (most recent call last)",
      "\u001b[1;32m<ipython-input-4-8b459d8940b4>\u001b[0m in \u001b[0;36m<module>\u001b[1;34m\u001b[0m\n\u001b[0;32m      1\u001b[0m \u001b[0mmolSmilesLs\u001b[0m \u001b[1;33m=\u001b[0m \u001b[1;33m[\u001b[0m\u001b[0mChem\u001b[0m\u001b[1;33m.\u001b[0m\u001b[0mMolFromSmiles\u001b[0m\u001b[1;33m(\u001b[0m\u001b[0mmolSmiles\u001b[0m\u001b[1;33m[\u001b[0m\u001b[0mi\u001b[0m\u001b[1;33m]\u001b[0m\u001b[1;33m)\u001b[0m \u001b[1;32mfor\u001b[0m \u001b[0mi\u001b[0m \u001b[1;32min\u001b[0m \u001b[0mrange\u001b[0m\u001b[1;33m(\u001b[0m\u001b[1;36m3\u001b[0m\u001b[1;33m)\u001b[0m\u001b[1;33m]\u001b[0m\u001b[1;33m\u001b[0m\u001b[1;33m\u001b[0m\u001b[0m\n\u001b[0;32m      2\u001b[0m \u001b[1;33m\u001b[0m\u001b[0m\n\u001b[1;32m----> 3\u001b[1;33m \u001b[0mimg\u001b[0m \u001b[1;33m=\u001b[0m \u001b[0mDraw\u001b[0m\u001b[1;33m.\u001b[0m\u001b[0mMolsToGridImage\u001b[0m\u001b[1;33m(\u001b[0m\u001b[0mmolSmilesLs\u001b[0m\u001b[1;33m)\u001b[0m\u001b[1;33m\u001b[0m\u001b[1;33m\u001b[0m\u001b[0m\n\u001b[0m\u001b[0;32m      4\u001b[0m \u001b[0mimg\u001b[0m\u001b[1;33m\u001b[0m\u001b[1;33m\u001b[0m\u001b[0m\n",
      "\u001b[1;32m~\\Anaconda3\\lib\\site-packages\\rdkit\\Chem\\Draw\\__init__.py\u001b[0m in \u001b[0;36mMolsToGridImage\u001b[1;34m(mols, molsPerRow, subImgSize, legends, highlightAtomLists, highlightBondLists, useSVG, **kwargs)\u001b[0m\n\u001b[0;32m    495\u001b[0m     return _MolsToGridImage(mols, molsPerRow=molsPerRow, subImgSize=subImgSize, legends=legends,\n\u001b[0;32m    496\u001b[0m                             \u001b[0mhighlightAtomLists\u001b[0m\u001b[1;33m=\u001b[0m\u001b[0mhighlightAtomLists\u001b[0m\u001b[1;33m,\u001b[0m\u001b[1;33m\u001b[0m\u001b[1;33m\u001b[0m\u001b[0m\n\u001b[1;32m--> 497\u001b[1;33m                             highlightBondLists=highlightBondLists, **kwargs)\n\u001b[0m\u001b[0;32m    498\u001b[0m \u001b[1;33m\u001b[0m\u001b[0m\n\u001b[0;32m    499\u001b[0m \u001b[1;33m\u001b[0m\u001b[0m\n",
      "\u001b[1;32m~\\Anaconda3\\lib\\site-packages\\rdkit\\Chem\\Draw\\__init__.py\u001b[0m in \u001b[0;36m_MolsToGridImage\u001b[1;34m(mols, molsPerRow, subImgSize, legends, highlightAtomLists, highlightBondLists, drawOptions, **kwargs)\u001b[0m\n\u001b[0;32m    443\u001b[0m                       highlightBonds=highlightBondLists, **kwargs)\n\u001b[0;32m    444\u001b[0m     \u001b[0md2d\u001b[0m\u001b[1;33m.\u001b[0m\u001b[0mFinishDrawing\u001b[0m\u001b[1;33m(\u001b[0m\u001b[1;33m)\u001b[0m\u001b[1;33m\u001b[0m\u001b[1;33m\u001b[0m\u001b[0m\n\u001b[1;32m--> 445\u001b[1;33m     \u001b[0mres\u001b[0m \u001b[1;33m=\u001b[0m \u001b[0m_drawerToImage\u001b[0m\u001b[1;33m(\u001b[0m\u001b[0md2d\u001b[0m\u001b[1;33m)\u001b[0m\u001b[1;33m\u001b[0m\u001b[1;33m\u001b[0m\u001b[0m\n\u001b[0m\u001b[0;32m    446\u001b[0m \u001b[1;33m\u001b[0m\u001b[0m\n\u001b[0;32m    447\u001b[0m   \u001b[1;32mreturn\u001b[0m \u001b[0mres\u001b[0m\u001b[1;33m\u001b[0m\u001b[1;33m\u001b[0m\u001b[0m\n",
      "\u001b[1;32m~\\Anaconda3\\lib\\site-packages\\rdkit\\Chem\\Draw\\__init__.py\u001b[0m in \u001b[0;36m_drawerToImage\u001b[1;34m(d2d)\u001b[0m\n\u001b[0;32m    338\u001b[0m     \u001b[1;32mfrom\u001b[0m \u001b[0mPIL\u001b[0m \u001b[1;32mimport\u001b[0m \u001b[0mImage\u001b[0m\u001b[1;33m\u001b[0m\u001b[1;33m\u001b[0m\u001b[0m\n\u001b[0;32m    339\u001b[0m   \u001b[0msio\u001b[0m \u001b[1;33m=\u001b[0m \u001b[0mBytesIO\u001b[0m\u001b[1;33m(\u001b[0m\u001b[0md2d\u001b[0m\u001b[1;33m.\u001b[0m\u001b[0mGetDrawingText\u001b[0m\u001b[1;33m(\u001b[0m\u001b[1;33m)\u001b[0m\u001b[1;33m)\u001b[0m\u001b[1;33m\u001b[0m\u001b[1;33m\u001b[0m\u001b[0m\n\u001b[1;32m--> 340\u001b[1;33m   \u001b[1;32mreturn\u001b[0m \u001b[0mImage\u001b[0m\u001b[1;33m.\u001b[0m\u001b[0mopen\u001b[0m\u001b[1;33m(\u001b[0m\u001b[0msio\u001b[0m\u001b[1;33m)\u001b[0m\u001b[1;33m\u001b[0m\u001b[1;33m\u001b[0m\u001b[0m\n\u001b[0m\u001b[0;32m    341\u001b[0m \u001b[1;33m\u001b[0m\u001b[0m\n\u001b[0;32m    342\u001b[0m \u001b[1;33m\u001b[0m\u001b[0m\n",
      "\u001b[1;31mAttributeError\u001b[0m: module 'Image' has no attribute 'open'"
     ]
    }
   ],
   "source": [
    "molSmilesLs = [Chem.MolFromSmiles(molSmiles[i]) for i in range(3)]\n",
    "\n",
    "img = Draw.MolsToGridImage(molSmilesLs)\n",
    "img"
   ]
  },
  {
   "cell_type": "code",
   "execution_count": 5,
   "metadata": {},
   "outputs": [
    {
     "data": {
      "image/png": "[encoded data removed]",
      "text/plain": [
       "<rdkit.Chem.rdchem.Mol at 0x1f9abb59710>"
      ]
     },
     "execution_count": 5,
     "metadata": {},
     "output_type": "execute_result"
    }
   ],
   "source": [
    "molSmilesLs[1]"
   ]
  },
  {
   "cell_type": "code",
   "execution_count": 6,
   "metadata": {},
   "outputs": [
    {
     "ename": "SyntaxError",
     "evalue": "invalid syntax (<ipython-input-6-cc882f6f4736>, line 6)",
     "output_type": "error",
     "traceback": [
      "\u001b[1;36m  File \u001b[1;32m\"<ipython-input-6-cc882f6f4736>\"\u001b[1;36m, line \u001b[1;32m6\u001b[0m\n\u001b[1;33m    list(fpArr)''\u001b[0m\n\u001b[1;37m                ^\u001b[0m\n\u001b[1;31mSyntaxError\u001b[0m\u001b[1;31m:\u001b[0m invalid syntax\n"
     ]
    }
   ],
   "source": [
    "fp = AllChem.GetMorganFingerprintAsBitVect(molSmilesLs[0],2,nBits=1024,bitInfo = bi)\n",
    "fpArr = np.zeros((1,))\n",
    "DataStructs.ConvertToNumpyArray(fp,fpArr)\n",
    "np.nonzero(fpArr)\n",
    "list(fp.GetOnBits())\n",
    "list(fpArr)''"
   ]
  },
  {
   "cell_type": "code",
   "execution_count": 17,
   "metadata": {
    "tags": []
   },
   "outputs": [
    {
     "data": {
      "text/plain": [
       "[27, 80, 147, 389, 650, 713, 807, 893, 966, 981]"
      ]
     },
     "execution_count": 17,
     "metadata": {},
     "output_type": "execute_result"
    }
   ],
   "source": [
    "bi = {}\n",
    "#mol = [[molSmilesLs[0],x,bi] for x in fp.GetOnBits()]\n",
    "#print(mol)\n",
    "\n",
    "fpArr = np.zeros((1,))\n",
    "molekul = 'C(C(=O)O)N'\n",
    "smiles = Chem.MolFromSmiles(molekul)\n",
    "fp = AllChem.GetMorganFingerprintAsBitVect(smiles,2,nBits=1024,bitInfo = bi)\n",
    "DataStructs.ConvertToNumpyArray(fp,fpArr)\n",
    "np.nonzero(fpArr)\n",
    "list(fp.GetOnBits())\n",
    "\n"
   ]
  },
  {
   "cell_type": "code",
   "execution_count": 20,
   "metadata": {},
   "outputs": [
    {
     "data": {
      "image/png": "[encoded data removed]",
      "text/plain": [
       "<rdkit.Chem.rdchem.Mol at 0x1f9abc538f0>"
      ]
     },
     "execution_count": 20,
     "metadata": {},
     "output_type": "execute_result"
    }
   ],
   "source": [
    "smiles"
   ]
  },
  {
   "cell_type": "code",
   "execution_count": 18,
   "metadata": {},
   "outputs": [
    {
     "name": "stdout",
     "output_type": "stream",
     "text": [
      "{27: ((0, 1),), 80: ((0, 0),), 147: ((4, 0),), 389: ((3, 1),), 650: ((2, 0),), 713: ((1, 1),), 807: ((1, 0), (3, 0)), 893: ((2, 1),), 966: ((0, 2),), 981: ((4, 1),)}\n"
     ]
    }
   ],
   "source": [
    "print(bi)"
   ]
  },
  {
   "cell_type": "code",
   "execution_count": 27,
   "metadata": {},
   "outputs": [
    {
     "name": "stdout",
     "output_type": "stream",
     "text": [
      "['27', '80', '147', '389', '650', '713', '807', '893', '966', '981']\n"
     ]
    }
   ],
   "source": [
    "prints = [(smiles,x,bi) for x in fp.GetOnBits()]\n",
    "#print(prints)\n",
    "#smiles\n",
    "Draw.DrawMorganBits(prints, molsPerRow = 4, legends=[str(x) for x in fp.GetOnBits()])\n",
    "legends=[str(x) for x in fp.GetOnBits()]\n",
    "print(legends)"
   ]
  },
  {
   "cell_type": "code",
   "execution_count": null,
   "metadata": {},
   "outputs": [],
   "source": []
  },
  {
   "cell_type": "code",
   "execution_count": null,
   "metadata": {},
   "outputs": [],
   "source": []
  }
 ],
 "metadata": {
  "kernelspec": {
   "display_name": "Python 3",
   "language": "python",
   "name": "python3"
  },
  "language_info": {
   "codemirror_mode": {
    "name": "ipython",
    "version": 3
   },
   "file_extension": ".py",
   "mimetype": "text/x-python",
   "name": "python",
   "nbconvert_exporter": "python",
   "pygments_lexer": "ipython3",
   "version": "3.7.4"
  }
 },
 "nbformat": 4,
 "nbformat_minor": 2
}