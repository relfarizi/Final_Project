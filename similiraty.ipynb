{
 "cells": [
  {
   "cell_type": "code",
   "execution_count": 1,
   "metadata": {},
   "outputs": [],
   "source": [
    "import pandas as pd\n",
    "import numpy as np\n",
    "from rdkit import Chem\n",
    "from rdkit import DataStructs"
   ]
  },
  {
   "cell_type": "code",
   "execution_count": 2,
   "metadata": {},
   "outputs": [
    {
     "output_type": "execute_result",
     "data": {
      "text/plain": "  Molecule ChEMBL ID                                             Smiles  \\\n0      CHEMBL2263120  CC1(C)CC[C@]2(C(=O)OCCCCCCCCCCC(=O)O)CC[C@]3(C...   \n1      CHEMBL2263121  CC1(C)CC[C@]2(C(=O)NC(Cc3ccccc3)C(=O)O)CC[C@]3...   \n2          CHEMBL168  CC1(C)CC[C@]2(C(=O)O)CC[C@]3(C)C(=CC[C@@H]4[C@...   \n3       CHEMBL508831  CC1(C)CC[C@]2(C(=O)O)CC[C@]3(C)C(=CC[C@@H]4[C@...   \n4       CHEMBL506556  CC1(C)CC[C@]2(C(=O)O)CC[C@]3(C)C(=CC[C@@H]4[C@...   \n\n  Standard Relation  Standard Value Standard Units  \n0               '='          0.7200             nM  \n1               '='          3.3100             nM  \n2               '='          5.0501             nM  \n3               '='          0.5400             nM  \n4               '='          0.6200             nM  ",
      "text/html": "<div>\n<style scoped>\n    .dataframe tbody tr th:only-of-type {\n        vertical-align: middle;\n    }\n\n    .dataframe tbody tr th {\n        vertical-align: top;\n    }\n\n    .dataframe thead th {\n        text-align: right;\n    }\n</style>\n<table border=\"1\" class=\"dataframe\">\n  <thead>\n    <tr style=\"text-align: right;\">\n      <th></th>\n      <th>Molecule ChEMBL ID</th>\n      <th>Smiles</th>\n      <th>Standard Relation</th>\n      <th>Standard Value</th>\n      <th>Standard Units</th>\n    </tr>\n  </thead>\n  <tbody>\n    <tr>\n      <th>0</th>\n      <td>CHEMBL2263120</td>\n      <td>CC1(C)CC[C@]2(C(=O)OCCCCCCCCCCC(=O)O)CC[C@]3(C...</td>\n      <td>'='</td>\n      <td>0.7200</td>\n      <td>nM</td>\n    </tr>\n    <tr>\n      <th>1</th>\n      <td>CHEMBL2263121</td>\n      <td>CC1(C)CC[C@]2(C(=O)NC(Cc3ccccc3)C(=O)O)CC[C@]3...</td>\n      <td>'='</td>\n      <td>3.3100</td>\n      <td>nM</td>\n    </tr>\n    <tr>\n      <th>2</th>\n      <td>CHEMBL168</td>\n      <td>CC1(C)CC[C@]2(C(=O)O)CC[C@]3(C)C(=CC[C@@H]4[C@...</td>\n      <td>'='</td>\n      <td>5.0501</td>\n      <td>nM</td>\n    </tr>\n    <tr>\n      <th>3</th>\n      <td>CHEMBL508831</td>\n      <td>CC1(C)CC[C@]2(C(=O)O)CC[C@]3(C)C(=CC[C@@H]4[C@...</td>\n      <td>'='</td>\n      <td>0.5400</td>\n      <td>nM</td>\n    </tr>\n    <tr>\n      <th>4</th>\n      <td>CHEMBL506556</td>\n      <td>CC1(C)CC[C@]2(C(=O)O)CC[C@]3(C)C(=CC[C@@H]4[C@...</td>\n      <td>'='</td>\n      <td>0.6200</td>\n      <td>nM</td>\n    </tr>\n  </tbody>\n</table>\n</div>"
     },
     "metadata": {},
     "execution_count": 2
    }
   ],
   "source": [
    "data = pd.read_csv('dataset_after1.csv',index_col=0)\n",
    "data.head()"
   ]
  },
  {
   "cell_type": "code",
   "execution_count": 3,
   "metadata": {},
   "outputs": [
    {
     "output_type": "execute_result",
     "data": {
      "text/plain": "Index(['Molecule ChEMBL ID', 'Smiles', 'Standard Relation', 'Standard Value',\n       'Standard Units'],\n      dtype='object')"
     },
     "metadata": {},
     "execution_count": 3
    }
   ],
   "source": [
    "data.columns"
   ]
  },
  {
   "cell_type": "code",
   "execution_count": 4,
   "metadata": {},
   "outputs": [
    {
     "output_type": "execute_result",
     "data": {
      "text/plain": "[<rdkit.Chem.rdchem.Mol at 0x29d90c01760>,\n <rdkit.Chem.rdchem.Mol at 0x29d90c01ad0>,\n <rdkit.Chem.rdchem.Mol at 0x29d90c01b20>,\n <rdkit.Chem.rdchem.Mol at 0x29d90c01b70>,\n <rdkit.Chem.rdchem.Mol at 0x29d90c01bc0>]"
     },
     "metadata": {},
     "execution_count": 4
    }
   ],
   "source": [
    "list_smiles = data[\"Smiles\"].values.tolist()\n",
    "list_smiles = [Chem.MolFromSmiles(x) for x in list_smiles[:5]]\n",
    "list_smiles"
   ]
  },
  {
   "cell_type": "code",
   "execution_count": 5,
   "metadata": {},
   "outputs": [
    {
     "output_type": "execute_result",
     "data": {
      "text/plain": "[<rdkit.DataStructs.cDataStructs.ExplicitBitVect at 0x29d90c01e90>,\n <rdkit.DataStructs.cDataStructs.ExplicitBitVect at 0x29d90c07080>,\n <rdkit.DataStructs.cDataStructs.ExplicitBitVect at 0x29d90c070d0>,\n <rdkit.DataStructs.cDataStructs.ExplicitBitVect at 0x29d90c01d00>,\n <rdkit.DataStructs.cDataStructs.ExplicitBitVect at 0x29d90bf98f0>]"
     },
     "metadata": {},
     "execution_count": 5
    }
   ],
   "source": [
    "fps = [Chem.RDKFingerprint(x) for x in list_smiles]\n",
    "fps"
   ]
  },
  {
   "cell_type": "code",
   "execution_count": 6,
   "metadata": {},
   "outputs": [],
   "source": [
    "fps_list = []\n",
    "for i in range(len(fps)):\n",
    "    for j in range(len(fps)):\n",
    "        if (j > i):\n",
    "            tmp = DataStructs.FingerprintSimilarity(fps[i],fps[j])\n",
    "            fps_list.append(tmp)"
   ]
  },
  {
   "cell_type": "code",
   "execution_count": 7,
   "metadata": {},
   "outputs": [
    {
     "output_type": "execute_result",
     "data": {
      "text/plain": "0.6369825435809657"
     },
     "metadata": {},
     "execution_count": 7
    }
   ],
   "source": [
    "similarity = np.average(fps_list)\n",
    "similarity"
   ]
  },
  {
   "cell_type": "code",
   "execution_count": 8,
   "metadata": {
    "tags": []
   },
   "outputs": [
    {
     "output_type": "stream",
     "name": "stdout",
     "text": "3\n[[0.60653066 0.60653066 0.60653066]\n [0.60653066 0.60653066 0.60653066]\n [0.60653066 0.60653066 0.60653066]]\n"
    }
   ],
   "source": [
    "simLs = [\n",
    "    [1,1,1,1,1],\n",
    "    [0,0,0,0,0],\n",
    "    [0,0,0,0,0],\n",
    "    [0,0,0,0,0],\n",
    "    [0,0,0,0,0]\n",
    "]\n",
    "n = len(simLs)\n",
    "\n",
    "n = 3\n",
    "\n",
    "simLs = np.zeros([n,n])\n",
    "print(n)\n",
    "\n",
    "divLs = np.ones([n,n])\n",
    "for i in range(n) :\n",
    "    for j in range(n) :\n",
    "        dx = 1-simLs[i][j]\n",
    "        fx = np.exp(-0.5*dx)\n",
    "        divLs[i][j] = fx\n",
    "print(divLs)"
   ]
  },
  {
   "cell_type": "code",
   "execution_count": 9,
   "metadata": {
    "tags": []
   },
   "outputs": [
    {
     "output_type": "execute_result",
     "data": {
      "text/plain": "1.648718386888504"
     },
     "metadata": {},
     "execution_count": 9
    }
   ],
   "source": [
    "def diversity(n):\n",
    "    simLs = np.zeros([n,n])\n",
    "    matDiv = [np.ones([n,n]),np.zeros([n,n])]\n",
    "\n",
    "    matSumDiv = []\n",
    "    for i in range(len(matDiv)) :\n",
    "        simLs = matDiv[i]\n",
    "        divLs = np.ones([n,n])\n",
    "        for i in range(n) :\n",
    "            for  j in range(n) :\n",
    "                dx = 1-simLs[i][j]\n",
    "                fx = np.exp(-0.5*dx)\n",
    "                divLs[i][j] = fx\n",
    "        #print(divLs)\n",
    "\n",
    "\n",
    "        #handle determinan = 0\n",
    "\n",
    "        handleDet = 0.0000000001\n",
    "        countDet = 1\n",
    "        sameCorr = []\n",
    "        for i in range(n) :\n",
    "            for j in range(n) :\n",
    "                if i > j :\n",
    "                    if divLs[i][j] in sameCorr :\n",
    "                        if divLs[i][j] == 0.0 :\n",
    "                            a = divLs[i][j] + (countDet*handleDet)\n",
    "                        else :\n",
    "                            a = divLs[i][j] - (countDet*handleDet)\n",
    "                        #print(a)\n",
    "                        #print(divLs[i][j],a)\n",
    "                        divLs[i][j] = a\n",
    "                        divLs[j][i] = a\n",
    "                        countDet += 1\n",
    "                    else :\n",
    "                        sameCorr.append(divLs[i][j])\n",
    "        #print(divLs)\n",
    "\n",
    "\n",
    "\n",
    "        #print(divLs)\n",
    "        #print(np.linalg.det(divLs))\n",
    "        #print(divLs)\n",
    "        e = np.ones(n)\n",
    "        eT = np.transpose(e)\n",
    "        divLsInv = np.linalg.inv(divLs)\n",
    "        #print(divLsInv)\n",
    "        sumDiverse = e.dot(divLsInv).dot(eT)\n",
    "        matSumDiv.append(sumDiverse)\n",
    "\n",
    "    return matSumDiv\n",
    "diversity(10)[1]"
   ]
  },
  {
   "cell_type": "code",
   "execution_count": 10,
   "metadata": {
    "tags": []
   },
   "outputs": [
    {
     "output_type": "stream",
     "name": "stdout",
     "text": "{5: {'min': 0.9999990463256836, 'max': 1.6487185955047607}, 10: {'min': 1.000000586733222, 'max': 1.648718386888504}, 25: {'min': 0.9999998887942638, 'max': 1.6487182869605022}, 50: {'min': 1.000000504811375, 'max': 1.6487211864717466}, 100: {'min': 0.9999996809032357, 'max': 1.6487192886860622}}\n"
    },
    {
     "output_type": "execute_result",
     "data": {
      "text/plain": "          5         10        25        50        100\nmin  0.999999  1.000001  1.000000  1.000001  1.000000\nmax  1.648719  1.648718  1.648718  1.648721  1.648719",
      "text/html": "<div>\n<style scoped>\n    .dataframe tbody tr th:only-of-type {\n        vertical-align: middle;\n    }\n\n    .dataframe tbody tr th {\n        vertical-align: top;\n    }\n\n    .dataframe thead th {\n        text-align: right;\n    }\n</style>\n<table border=\"1\" class=\"dataframe\">\n  <thead>\n    <tr style=\"text-align: right;\">\n      <th></th>\n      <th>5</th>\n      <th>10</th>\n      <th>25</th>\n      <th>50</th>\n      <th>100</th>\n    </tr>\n  </thead>\n  <tbody>\n    <tr>\n      <th>min</th>\n      <td>0.999999</td>\n      <td>1.000001</td>\n      <td>1.000000</td>\n      <td>1.000001</td>\n      <td>1.000000</td>\n    </tr>\n    <tr>\n      <th>max</th>\n      <td>1.648719</td>\n      <td>1.648718</td>\n      <td>1.648718</td>\n      <td>1.648721</td>\n      <td>1.648719</td>\n    </tr>\n  </tbody>\n</table>\n</div>"
     },
     "metadata": {},
     "execution_count": 10
    }
   ],
   "source": [
    "import pandas as pd\n",
    "nList = [5,10,25,50,100]\n",
    "\n",
    "minLs = []\n",
    "maxLs = []\n",
    "dicta = {x : {} for x in (nList)}\n",
    "#print(dicta)\n",
    "for i in nList :\n",
    "    dicta[i][\"min\"] = diversity(i)[0]\n",
    "    dicta[i][\"max\"] = diversity(i)[1]\n",
    "print(dicta)  \n",
    "\n",
    "dfDivers = pd.DataFrame(dicta)\n",
    "dfDivers"
   ]
  },
  {
   "cell_type": "code",
   "execution_count": null,
   "metadata": {},
   "outputs": [],
   "source": []
  }
 ],
 "metadata": {
  "kernelspec": {
   "display_name": "Python 3",
   "language": "python",
   "name": "python3"
  },
  "language_info": {
   "codemirror_mode": {
    "name": "ipython",
    "version": 3
   },
   "file_extension": ".py",
   "mimetype": "text/x-python",
   "name": "python",
   "nbconvert_exporter": "python",
   "pygments_lexer": "ipython3",
   "version": "3.6.9"
  }
 },
 "nbformat": 4,
 "nbformat_minor": 2
}