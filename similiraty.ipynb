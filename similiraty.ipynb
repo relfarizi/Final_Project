{
 "cells": [
  {
   "cell_type": "code",
   "execution_count": 18,
   "metadata": {},
   "outputs": [],
   "source": [
    "import pandas as pd\n",
    "import numpy as np\n",
    "from rdkit import Chem\n",
    "from rdkit import DataStructs"
   ]
  },
  {
   "cell_type": "code",
   "execution_count": 6,
   "metadata": {},
   "outputs": [
    {
     "data": {
      "text/html": [
       "<div>\n",
       "<style scoped>\n",
       "    .dataframe tbody tr th:only-of-type {\n",
       "        vertical-align: middle;\n",
       "    }\n",
       "\n",
       "    .dataframe tbody tr th {\n",
       "        vertical-align: top;\n",
       "    }\n",
       "\n",
       "    .dataframe thead th {\n",
       "        text-align: right;\n",
       "    }\n",
       "</style>\n",
       "<table border=\"1\" class=\"dataframe\">\n",
       "  <thead>\n",
       "    <tr style=\"text-align: right;\">\n",
       "      <th></th>\n",
       "      <th>Unnamed: 0</th>\n",
       "      <th>Smiles</th>\n",
       "      <th>IC50</th>\n",
       "      <th>Molecule Activity</th>\n",
       "      <th>Probability Activity</th>\n",
       "    </tr>\n",
       "  </thead>\n",
       "  <tbody>\n",
       "    <tr>\n",
       "      <th>0</th>\n",
       "      <td>CHEMBL2263120</td>\n",
       "      <td>CC1(C)CC[C@]2(C(=O)OCCCCCCCCCCC(=O)O)CC[C@]3(C...</td>\n",
       "      <td>0.72</td>\n",
       "      <td>0.486752</td>\n",
       "      <td>0.000787</td>\n",
       "    </tr>\n",
       "    <tr>\n",
       "      <th>1</th>\n",
       "      <td>CHEMBL2263121</td>\n",
       "      <td>CC1(C)CC[C@]2(C(=O)NC(Cc3ccccc3)C(=O)O)CC[C@]3...</td>\n",
       "      <td>3.31</td>\n",
       "      <td>0.036516</td>\n",
       "      <td>0.000059</td>\n",
       "    </tr>\n",
       "    <tr>\n",
       "      <th>2</th>\n",
       "      <td>CHEMBL168</td>\n",
       "      <td>CC1(C)CC[C@]2(C(=O)O)CC[C@]3(C)C(=CC[C@@H]4[C@...</td>\n",
       "      <td>1.10</td>\n",
       "      <td>0.332871</td>\n",
       "      <td>0.000538</td>\n",
       "    </tr>\n",
       "    <tr>\n",
       "      <th>3</th>\n",
       "      <td>CHEMBL508831</td>\n",
       "      <td>CC1(C)CC[C@]2(C(=O)O)CC[C@]3(C)C(=CC[C@@H]4[C@...</td>\n",
       "      <td>0.54</td>\n",
       "      <td>0.582748</td>\n",
       "      <td>0.000943</td>\n",
       "    </tr>\n",
       "    <tr>\n",
       "      <th>4</th>\n",
       "      <td>CHEMBL506556</td>\n",
       "      <td>CC1(C)CC[C@]2(C(=O)O)CC[C@]3(C)C(=CC[C@@H]4[C@...</td>\n",
       "      <td>0.62</td>\n",
       "      <td>0.537944</td>\n",
       "      <td>0.000870</td>\n",
       "    </tr>\n",
       "  </tbody>\n",
       "</table>\n",
       "</div>"
      ],
      "text/plain": [
       "      Unnamed: 0                                             Smiles  IC50  \\\n",
       "0  CHEMBL2263120  CC1(C)CC[C@]2(C(=O)OCCCCCCCCCCC(=O)O)CC[C@]3(C...  0.72   \n",
       "1  CHEMBL2263121  CC1(C)CC[C@]2(C(=O)NC(Cc3ccccc3)C(=O)O)CC[C@]3...  3.31   \n",
       "2      CHEMBL168  CC1(C)CC[C@]2(C(=O)O)CC[C@]3(C)C(=CC[C@@H]4[C@...  1.10   \n",
       "3   CHEMBL508831  CC1(C)CC[C@]2(C(=O)O)CC[C@]3(C)C(=CC[C@@H]4[C@...  0.54   \n",
       "4   CHEMBL506556  CC1(C)CC[C@]2(C(=O)O)CC[C@]3(C)C(=CC[C@@H]4[C@...  0.62   \n",
       "\n",
       "   Molecule Activity  Probability Activity  \n",
       "0           0.486752              0.000787  \n",
       "1           0.036516              0.000059  \n",
       "2           0.332871              0.000538  \n",
       "3           0.582748              0.000943  \n",
       "4           0.537944              0.000870  "
      ]
     },
     "execution_count": 6,
     "metadata": {},
     "output_type": "execute_result"
    }
   ],
   "source": [
    "data = pd.read_csv('dataset.csv', sep=';')\n",
    "data.head()"
   ]
  },
  {
   "cell_type": "code",
   "execution_count": 13,
   "metadata": {},
   "outputs": [
    {
     "data": {
      "text/plain": [
       "[<rdkit.Chem.rdchem.Mol at 0x11accd490>,\n",
       " <rdkit.Chem.rdchem.Mol at 0x11accd620>,\n",
       " <rdkit.Chem.rdchem.Mol at 0x11accd580>,\n",
       " <rdkit.Chem.rdchem.Mol at 0x11accd4e0>,\n",
       " <rdkit.Chem.rdchem.Mol at 0x11accd670>,\n",
       " <rdkit.Chem.rdchem.Mol at 0x11accd3f0>]"
      ]
     },
     "execution_count": 13,
     "metadata": {},
     "output_type": "execute_result"
    }
   ],
   "source": [
    "list_smiles = data.loc[:5,'Smiles'].values.tolist()\n",
    "list_smiles = [Chem.MolFromSmiles(x) for x in list_smiles]\n",
    "list_smiles"
   ]
  },
  {
   "cell_type": "code",
   "execution_count": 14,
   "metadata": {},
   "outputs": [
    {
     "data": {
      "text/plain": [
       "[<rdkit.DataStructs.cDataStructs.ExplicitBitVect at 0x11accd850>,\n",
       " <rdkit.DataStructs.cDataStructs.ExplicitBitVect at 0x11accd6c0>,\n",
       " <rdkit.DataStructs.cDataStructs.ExplicitBitVect at 0x11accd800>,\n",
       " <rdkit.DataStructs.cDataStructs.ExplicitBitVect at 0x11accd8f0>,\n",
       " <rdkit.DataStructs.cDataStructs.ExplicitBitVect at 0x11accd940>,\n",
       " <rdkit.DataStructs.cDataStructs.ExplicitBitVect at 0x11accd990>]"
      ]
     },
     "execution_count": 14,
     "metadata": {},
     "output_type": "execute_result"
    }
   ],
   "source": [
    "fps = [Chem.RDKFingerprint(x) for x in list_smiles]\n",
    "fps"
   ]
  },
  {
   "cell_type": "code",
   "execution_count": 16,
   "metadata": {},
   "outputs": [],
   "source": [
    "fps_list = []\n",
    "for i in range(len(fps)):\n",
    "    for j in range(len(fps)):\n",
    "        if (j > i):\n",
    "            tmp = DataStructs.FingerprintSimilarity(fps[i],fps[j])\n",
    "            fps_list.append(tmp)"
   ]
  },
  {
   "cell_type": "code",
   "execution_count": 21,
   "metadata": {},
   "outputs": [
    {
     "data": {
      "text/plain": [
       "0.5880619639671624"
      ]
     },
     "execution_count": 21,
     "metadata": {},
     "output_type": "execute_result"
    }
   ],
   "source": [
    "similarity = np.average(fps_list)\n",
    "similarity"
   ]
  },
  {
   "cell_type": "code",
   "execution_count": null,
   "metadata": {},
   "outputs": [],
   "source": []
  }
 ],
 "metadata": {
  "kernelspec": {
   "display_name": "Python 3",
   "language": "python",
   "name": "python3"
  },
  "language_info": {
   "codemirror_mode": {
    "name": "ipython",
    "version": 3
   },
   "file_extension": ".py",
   "mimetype": "text/x-python",
   "name": "python",
   "nbconvert_exporter": "python",
   "pygments_lexer": "ipython3",
   "version": "3.6.9"
  }
 },
 "nbformat": 4,
 "nbformat_minor": 2
}
