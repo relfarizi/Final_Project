{
 "cells": [
  {
   "cell_type": "markdown",
   "metadata": {
    "colab_type": "text",
    "id": "LTqadf5GKMCw"
   },
   "source": [
    "## Import Library"
   ]
  },
  {
   "cell_type": "code",
   "metadata": {
    "colab_type": "code",
    "id": "SIw0TvdNcFQY",
    "colab": {}
   },
   "source": [
    "# Install rdkit\n",
    "\n",
    "def install_rdkit():\n",
    "  !wget -c https://repo.continuum.io/miniconda/Miniconda3-latest-Linux-x86_64.sh\n",
    "  !chmod +x Miniconda3-latest-Linux-x86_64.sh\n",
    "  !time bash ./Miniconda3-latest-Linux-x86_64.sh -b -f -p /usr/local\n",
    "  !time conda install -q -y -c conda-forge rdkit\n",
    "\n",
    "# install_rdkit()"
   ],
   "execution_count": 1,
   "outputs": []
  },
  {
   "cell_type": "code",
   "metadata": {
    "colab_type": "code",
    "id": "IePXvtoVkn3q",
    "colab": {}
   },
   "source": [
    "# Data\n",
    "\n",
    "#from google.colab import files\n",
    "import pandas as pd\n",
    "import numpy as np\n",
    "import regex as re\n",
    "\n",
    "# rdkit\n",
    "import sys\n",
    "#sys.path.append('/usr/local/lib/python3.7/site-packages/')\n",
    "from rdkit import Chem\n",
    "from rdkit.Chem import DataStructs\n",
    "\n",
    "# random\n",
    "import random as rd\n",
    "\n",
    "import math"
   ],
   "execution_count": 2,
   "outputs": [
    {
     "output_type": "stream",
     "name": "stderr",
     "text": "RDKit WARNING: [21:54:55] Enabling RDKit 2019.09.1 jupyter extensions\n"
    }
   ]
  },
  {
   "cell_type": "markdown",
   "metadata": {
    "colab_type": "text",
    "id": "HMV8zmkwk9_z"
   },
   "source": [
    "## Data"
   ]
  },
  {
   "cell_type": "markdown",
   "metadata": {
    "colab_type": "text",
    "id": "MpX9zUAt82Tr"
   },
   "source": [
    "### Pre-Processing Data"
   ]
  },
  {
   "cell_type": "code",
   "metadata": {
    "colab_type": "code",
    "id": "OzqDxFp0kCaT",
    "colab": {},
    "tags": [
     "outputPrepend"
    ]
   },
   "source": [
    "def preprocessing_data(link_of_data) :\n",
    "  dataset = pd.read_csv(link_of_data,sep=\";\")\n",
    "  dataset = dataset.iloc[:,[0,7,9,10,11]]\n",
    "\n",
    "  sameMol = []\n",
    "  sameMolCount = {}\n",
    "  dataset_handle = []\n",
    "\n",
    "  for x in dataset.values:\n",
    "    mol_name = x[0]\n",
    "    if mol_name in sameMol:\n",
    "      print(\"uye\")\n",
    "      x[0] = mol_name+\"(\"+str(sameMolCount[mol_name])+\")\"\n",
    "      sameMolCount[mol_name] += 1\n",
    "    else:\n",
    "      sameMol.append(x[0])\n",
    "      sameMolCount[mol_name] = 1\n",
    "    dataset_handle.append(x)\n",
    "\n",
    "  #print(dataset_handle)\n",
    "    \n",
    "  list_of_column_dataframe = dataset.columns\n",
    "  list_of_dataset_after = []\n",
    "\n",
    "  list_of_dataset_before = np.array(dataset_handle)\n",
    "  \n",
    "  for data in list_of_dataset_before :\n",
    "    if data[2] == \"'='\" :\n",
    "      if data[4] == \"nM\" :\n",
    "        if data[3] < 10000 :\n",
    "          data[3] = data[3]/1000\n",
    "          list_of_dataset_after.append(data)\n",
    "  \n",
    "  dataframe_of_dataset_after = pd.DataFrame(list_of_dataset_after)\n",
    "  dataframe_of_dataset_after.columns = list_of_column_dataframe\n",
    "  name_of_file_download = \"Dataset_After.csv\"\n",
    "  dataframe_of_dataset_after.to_csv(name_of_file_download)\n",
    "  #files.download(name_of_file_download)\n",
    "  return dataframe_of_dataset_after\n",
    "\n",
    "\n"
   ],
   "execution_count": 3,
   "outputs": []
  },
  {
   "cell_type": "code",
   "metadata": {
    "colab_type": "code",
    "id": "W47O-_Df2HU-",
    "colab": {},
    "tags": [
     "outputPrepend",
     "outputPrepend"
    ]
   },
   "source": [
    "#preprocessing_data(\"https://raw.githubusercontent.com/relfarizi/Final_Project/master/Data/Dataset_Before.csv\")"
   ],
   "execution_count": 4,
   "outputs": []
  },
  {
   "cell_type": "markdown",
   "metadata": {
    "colab_type": "text",
    "id": "n_V57Wl-9BWQ"
   },
   "source": [
    "### Data After Pre-Processing"
   ]
  },
  {
   "cell_type": "code",
   "metadata": {
    "colab_type": "code",
    "id": "RA5IvTTn2pNb",
    "scrolled": true,
    "colab": {}
   },
   "source": [
    "# for colab\n",
    "\n",
    "#dataset = pd.read_csv('https://raw.githubusercontent.com/relfarizi/Final_Project/master/Data/Dataset_After.csv', index_col= 0)\n",
    "\n",
    "\n",
    "dataset = pd.read_csv('Dataset_After.csv',index_col = 0)\n",
    "dataset.head(5)"
   ],
   "execution_count": 5,
   "outputs": [
    {
     "output_type": "execute_result",
     "data": {
      "text/plain": "  Molecule ChEMBL ID                                             Smiles  \\\n0      CHEMBL2263120  CC1(C)CC[C@]2(C(=O)OCCCCCCCCCCC(=O)O)CC[C@]3(C...   \n1      CHEMBL2263121  CC1(C)CC[C@]2(C(=O)NC(Cc3ccccc3)C(=O)O)CC[C@]3...   \n2          CHEMBL168  CC1(C)CC[C@]2(C(=O)O)CC[C@]3(C)C(=CC[C@@H]4[C@...   \n3       CHEMBL508831  CC1(C)CC[C@]2(C(=O)O)CC[C@]3(C)C(=CC[C@@H]4[C@...   \n4       CHEMBL506556  CC1(C)CC[C@]2(C(=O)O)CC[C@]3(C)C(=CC[C@@H]4[C@...   \n\n  Standard Relation  Standard Value Standard Units  \n0               '='          0.7200             nM  \n1               '='          3.3100             nM  \n2               '='          5.0501             nM  \n3               '='          0.5400             nM  \n4               '='          0.6200             nM  ",
      "text/html": "<div>\n<style scoped>\n    .dataframe tbody tr th:only-of-type {\n        vertical-align: middle;\n    }\n\n    .dataframe tbody tr th {\n        vertical-align: top;\n    }\n\n    .dataframe thead th {\n        text-align: right;\n    }\n</style>\n<table border=\"1\" class=\"dataframe\">\n  <thead>\n    <tr style=\"text-align: right;\">\n      <th></th>\n      <th>Molecule ChEMBL ID</th>\n      <th>Smiles</th>\n      <th>Standard Relation</th>\n      <th>Standard Value</th>\n      <th>Standard Units</th>\n    </tr>\n  </thead>\n  <tbody>\n    <tr>\n      <th>0</th>\n      <td>CHEMBL2263120</td>\n      <td>CC1(C)CC[C@]2(C(=O)OCCCCCCCCCCC(=O)O)CC[C@]3(C...</td>\n      <td>'='</td>\n      <td>0.7200</td>\n      <td>nM</td>\n    </tr>\n    <tr>\n      <th>1</th>\n      <td>CHEMBL2263121</td>\n      <td>CC1(C)CC[C@]2(C(=O)NC(Cc3ccccc3)C(=O)O)CC[C@]3...</td>\n      <td>'='</td>\n      <td>3.3100</td>\n      <td>nM</td>\n    </tr>\n    <tr>\n      <th>2</th>\n      <td>CHEMBL168</td>\n      <td>CC1(C)CC[C@]2(C(=O)O)CC[C@]3(C)C(=CC[C@@H]4[C@...</td>\n      <td>'='</td>\n      <td>5.0501</td>\n      <td>nM</td>\n    </tr>\n    <tr>\n      <th>3</th>\n      <td>CHEMBL508831</td>\n      <td>CC1(C)CC[C@]2(C(=O)O)CC[C@]3(C)C(=CC[C@@H]4[C@...</td>\n      <td>'='</td>\n      <td>0.5400</td>\n      <td>nM</td>\n    </tr>\n    <tr>\n      <th>4</th>\n      <td>CHEMBL506556</td>\n      <td>CC1(C)CC[C@]2(C(=O)O)CC[C@]3(C)C(=CC[C@@H]4[C@...</td>\n      <td>'='</td>\n      <td>0.6200</td>\n      <td>nM</td>\n    </tr>\n  </tbody>\n</table>\n</div>"
     },
     "metadata": {},
     "execution_count": 5
    }
   ]
  },
  {
   "cell_type": "code",
   "metadata": {
    "colab_type": "code",
    "id": "hmjrEPcEgMFh",
    "colab": {}
   },
   "source": [
    "#dataset = dataset.drop_duplicates(keep=False,inplace=True)\n",
    "dataset = dataset.dropna()\n",
    "mol_smiles = dataset.iloc[:,1].values.tolist()\n",
    "row_drop = []\n",
    "for i in range(len(mol_smiles)) :\n",
    "  #print(mol_smiles[i])\n",
    "  if len(str(mol_smiles[i])) < 5 :\n",
    "    row_drop.append(i)\n",
    "print(row_drop)\n",
    "dataset.drop(row_drop)\n",
    "#dataset = dataset.iloc[:500,:]"
   ],
   "execution_count": 6,
   "outputs": [
    {
     "output_type": "stream",
     "name": "stdout",
     "text": "[]\n"
    },
    {
     "output_type": "execute_result",
     "data": {
      "text/plain": "     Molecule ChEMBL ID                                             Smiles  \\\n0         CHEMBL2263120  CC1(C)CC[C@]2(C(=O)OCCCCCCCCCCC(=O)O)CC[C@]3(C...   \n1         CHEMBL2263121  CC1(C)CC[C@]2(C(=O)NC(Cc3ccccc3)C(=O)O)CC[C@]3...   \n2             CHEMBL168  CC1(C)CC[C@]2(C(=O)O)CC[C@]3(C)C(=CC[C@@H]4[C@...   \n3          CHEMBL508831  CC1(C)CC[C@]2(C(=O)O)CC[C@]3(C)C(=CC[C@@H]4[C@...   \n4          CHEMBL506556  CC1(C)CC[C@]2(C(=O)O)CC[C@]3(C)C(=CC[C@@H]4[C@...   \n...                 ...                                                ...   \n1855      CHEMBL1782241  CC(C)=CCC/C(C)=C/Cc1c(O)c(CC=C(C)C)c(O)c2c(=O)...   \n1856       CHEMBL323197  COc1c(O)cc2oc3cc(O)c(CC=C(C)C)c(O)c3c(=O)c2c1C...   \n1857      CHEMBL4071698            CCCc1cc(O)cc(OC(=O)c2c(O)cc(O)cc2CCC)c1   \n1858      CHEMBL3770020                            CCCc1cc(O)cc(O)c1C(=O)O   \n1859      CHEMBL4278170          FC(F)(F)Sc1ccc(CNCc2ccc(SC(F)(F)F)cc2)cc1   \n\n     Standard Relation  Standard Value Standard Units  \n0                  '='          0.7200             nM  \n1                  '='          3.3100             nM  \n2                  '='          5.0501             nM  \n3                  '='          0.5400             nM  \n4                  '='          0.6200             nM  \n...                ...             ...            ...  \n1855               '='          5.2000             nM  \n1856               '='          5.5000             nM  \n1857               '='          0.7200             nM  \n1858               '='          1.5800             nM  \n1859               '='          0.7000             nM  \n\n[1852 rows x 5 columns]",
      "text/html": "<div>\n<style scoped>\n    .dataframe tbody tr th:only-of-type {\n        vertical-align: middle;\n    }\n\n    .dataframe tbody tr th {\n        vertical-align: top;\n    }\n\n    .dataframe thead th {\n        text-align: right;\n    }\n</style>\n<table border=\"1\" class=\"dataframe\">\n  <thead>\n    <tr style=\"text-align: right;\">\n      <th></th>\n      <th>Molecule ChEMBL ID</th>\n      <th>Smiles</th>\n      <th>Standard Relation</th>\n      <th>Standard Value</th>\n      <th>Standard Units</th>\n    </tr>\n  </thead>\n  <tbody>\n    <tr>\n      <th>0</th>\n      <td>CHEMBL2263120</td>\n      <td>CC1(C)CC[C@]2(C(=O)OCCCCCCCCCCC(=O)O)CC[C@]3(C...</td>\n      <td>'='</td>\n      <td>0.7200</td>\n      <td>nM</td>\n    </tr>\n    <tr>\n      <th>1</th>\n      <td>CHEMBL2263121</td>\n      <td>CC1(C)CC[C@]2(C(=O)NC(Cc3ccccc3)C(=O)O)CC[C@]3...</td>\n      <td>'='</td>\n      <td>3.3100</td>\n      <td>nM</td>\n    </tr>\n    <tr>\n      <th>2</th>\n      <td>CHEMBL168</td>\n      <td>CC1(C)CC[C@]2(C(=O)O)CC[C@]3(C)C(=CC[C@@H]4[C@...</td>\n      <td>'='</td>\n      <td>5.0501</td>\n      <td>nM</td>\n    </tr>\n    <tr>\n      <th>3</th>\n      <td>CHEMBL508831</td>\n      <td>CC1(C)CC[C@]2(C(=O)O)CC[C@]3(C)C(=CC[C@@H]4[C@...</td>\n      <td>'='</td>\n      <td>0.5400</td>\n      <td>nM</td>\n    </tr>\n    <tr>\n      <th>4</th>\n      <td>CHEMBL506556</td>\n      <td>CC1(C)CC[C@]2(C(=O)O)CC[C@]3(C)C(=CC[C@@H]4[C@...</td>\n      <td>'='</td>\n      <td>0.6200</td>\n      <td>nM</td>\n    </tr>\n    <tr>\n      <th>...</th>\n      <td>...</td>\n      <td>...</td>\n      <td>...</td>\n      <td>...</td>\n      <td>...</td>\n    </tr>\n    <tr>\n      <th>1855</th>\n      <td>CHEMBL1782241</td>\n      <td>CC(C)=CCC/C(C)=C/Cc1c(O)c(CC=C(C)C)c(O)c2c(=O)...</td>\n      <td>'='</td>\n      <td>5.2000</td>\n      <td>nM</td>\n    </tr>\n    <tr>\n      <th>1856</th>\n      <td>CHEMBL323197</td>\n      <td>COc1c(O)cc2oc3cc(O)c(CC=C(C)C)c(O)c3c(=O)c2c1C...</td>\n      <td>'='</td>\n      <td>5.5000</td>\n      <td>nM</td>\n    </tr>\n    <tr>\n      <th>1857</th>\n      <td>CHEMBL4071698</td>\n      <td>CCCc1cc(O)cc(OC(=O)c2c(O)cc(O)cc2CCC)c1</td>\n      <td>'='</td>\n      <td>0.7200</td>\n      <td>nM</td>\n    </tr>\n    <tr>\n      <th>1858</th>\n      <td>CHEMBL3770020</td>\n      <td>CCCc1cc(O)cc(O)c1C(=O)O</td>\n      <td>'='</td>\n      <td>1.5800</td>\n      <td>nM</td>\n    </tr>\n    <tr>\n      <th>1859</th>\n      <td>CHEMBL4278170</td>\n      <td>FC(F)(F)Sc1ccc(CNCc2ccc(SC(F)(F)F)cc2)cc1</td>\n      <td>'='</td>\n      <td>0.7000</td>\n      <td>nM</td>\n    </tr>\n  </tbody>\n</table>\n<p>1852 rows × 5 columns</p>\n</div>"
     },
     "metadata": {},
     "execution_count": 6
    }
   ]
  },
  {
   "cell_type": "code",
   "execution_count": 7,
   "metadata": {},
   "outputs": [],
   "source": [
    "#dataset.to_csv(\"Dataset.csv\")"
   ]
  },
  {
   "cell_type": "markdown",
   "metadata": {
    "colab_type": "text",
    "id": "jr6v-7v0j-JM"
   },
   "source": [
    "## Probability Activity"
   ]
  },
  {
   "cell_type": "markdown",
   "metadata": {
    "colab_type": "text",
    "id": "Ppj_X-CZ720j"
   },
   "source": [
    "### 1. Molecule Activity\n",
    "Untuk mencari jumlah dari nilai aktivitas masing2 molekul\n",
    "\n",
    "variabel yang digunakan :\n",
    "* mol_name = list nama molekul\n",
    "* mol_smile = list smile molekul\n",
    "* mol_act = list berisi nilai IC50\n",
    "* act = nilai aktivitas tiap molekul\n",
    "* sum_act = Nilai jumlah dari a"
   ]
  },
  {
   "cell_type": "code",
   "metadata": {
    "colab_type": "code",
    "id": "cIMuhWGr7zlj",
    "colab": {}
   },
   "source": [
    "mol_name = dataset.iloc[:,0].values.tolist()\n",
    "mol_smiles = dataset.iloc[:,1].values.tolist()\n",
    "mol_act = dataset.iloc[:,3].values.tolist()\n",
    "sum_act = 0\n",
    "for molekul in mol_act :\n",
    "  act = np.exp(-molekul)\n",
    "  sum_act  += act\n",
    "print(sum_act)"
   ],
   "execution_count": 8,
   "outputs": [
    {
     "output_type": "stream",
     "name": "stdout",
     "text": "616.3006027743246\n"
    }
   ]
  },
  {
   "cell_type": "markdown",
   "metadata": {
    "colab_type": "text",
    "id": "iYqPm_bI8VZ1"
   },
   "source": [
    "### 2. Probability Succes\n",
    "\n",
    "\n",
    "Mencari nilai probabilitas kesuksesan untuk setiap molekul\n",
    "\n",
    "Variabel yang digunakan :\n",
    "* n = banyaknya molekul\n",
    "* mol_prob = list probabilitas setiap molekul\n",
    "* act = nilai aktivitas molekul\n",
    "* prob = nilai probabilitas kesuksesan molekul\n",
    "* sum_pro = nilai jumlah dari Probabiliras Kesuksesan\n",
    "\n",
    "\n"
   ]
  },
  {
   "cell_type": "code",
   "metadata": {
    "colab_type": "code",
    "id": "J9ISKgMpljNb",
    "colab": {}
   },
   "source": [
    "n = len(mol_act)\n",
    "#p_avg = 1/n\n",
    "mol_prob = []\n",
    "\n",
    "# act = probabilitas kesuksesan\n",
    "\n",
    "sum_pro = 0\n",
    "for molekul in mol_act :\n",
    "  #act = (molekul[1]*p_avg*n)/sum_act\n",
    "  act = np.exp(-molekul)\n",
    "  prob = act/sum_act\n",
    "  prob = round(prob,8)\n",
    "  mol_prob.append(prob)\n",
    "  sum_pro += prob\n",
    "print(sum_pro)\n"
   ],
   "execution_count": 9,
   "outputs": [
    {
     "output_type": "stream",
     "name": "stdout",
     "text": "0.9999999799999977\n"
    }
   ]
  },
  {
   "cell_type": "markdown",
   "metadata": {
    "id": "NH1drdfpv36v",
    "colab_type": "text"
   },
   "source": [
    "## Cost (Trial)\n",
    "\n",
    "Menentukan cost dari setiap molekul. cell ini baru coba di-generate hanya dengan mengalikan dengan sum_of_cost dengan probability kesuksesannya. sehingga nilai probabilitas terbesar diasumsikan memiliki cost yang besar pula"
   ]
  },
  {
   "cell_type": "code",
   "metadata": {
    "id": "l-3pPCk9v36x",
    "colab_type": "code",
    "colab": {}
   },
   "source": [
    "sum_of_cost = 500000\n",
    "mol_cost = []\n",
    "sum_cost = 0\n",
    "for mol in mol_prob:\n",
    "    cost = mol*sum_of_cost\n",
    "    mol_cost.append(round(cost,4))\n",
    "    sum_cost += cost\n",
    "print(sum_cost)"
   ],
   "execution_count": 10,
   "outputs": [
    {
     "output_type": "stream",
     "name": "stdout",
     "text": "499999.99000000075\n"
    }
   ]
  },
  {
   "cell_type": "markdown",
   "metadata": {
    "colab_type": "text",
    "id": "3enxBzZ33Hn1"
   },
   "source": [
    "## Fingerprint\n",
    "\n",
    "berisi bit biner dari sifat yang menggambarkan suatu molekul (baca lagi)\n",
    "\n",
    "Variabel yang digunakan :\n",
    "* fingerprint suatu molekul (dalam bit biner)\n",
    "* mol_fp = list dari fingerprint setiap molekul\n"
   ]
  },
  {
   "cell_type": "code",
   "metadata": {
    "colab_type": "code",
    "id": "w9iB6gWO3PAo",
    "colab": {},
    "tags": [
     "outputPrepend"
    ]
   },
   "source": [
    "mol_fp = []\n",
    "for molekul in mol_smiles :\n",
    "  smiles = Chem.MolFromSmiles(str(molekul))\n",
    "  fp = Chem.RDKFingerprint(smiles)\n",
    "  mol_fp.append(fp)"
   ],
   "execution_count": 11,
   "outputs": []
  },
  {
   "cell_type": "markdown",
   "metadata": {
    "colab_type": "text",
    "id": "zzqnv1Ri-UO6"
   },
   "source": [
    "## To DataFrame"
   ]
  },
  {
   "cell_type": "code",
   "metadata": {
    "colab_type": "code",
    "id": "zsyu8ksX-UqX",
    "colab": {}
   },
   "source": [
    "#df_mol = pd.DataFrame.from_dict(mol_act_dict, orient='index')\n",
    "#df_mol.columns = [\"IC50\",\"Molecule Activity\", \"Probability Activity\"]\n",
    "#df_mol.sort_values(by=[\"IC50\"], ascending=False)\n",
    "#mol_name = pd.Series(mol_name)\n",
    "#mol_act = pd.Series(mol_act)\n",
    "#df_mol = pd.concat(mol_name,mol_act)\n",
    "#print(len(mol_name))\n",
    "#print(len(mol_smiles))\n",
    "#print(len(mol_fp))\n",
    "#print(len(mol_act))\n",
    "#print(len(mol_prob))\n",
    "\n",
    "df = pd.DataFrame({'mol_name':mol_name,\n",
    "                       'mol_smiles' : mol_smiles,\n",
    "                       'mol_act':mol_act,\n",
    "                       'mol_fp' : mol_fp,\n",
    "                       'mol_prob' : mol_prob,\n",
    "                       'mol_cost' : mol_cost\n",
    "                       })\n",
    "\n",
    "df.head()"
   ],
   "execution_count": 12,
   "outputs": [
    {
     "output_type": "execute_result",
     "data": {
      "text/plain": "        mol_name                                         mol_smiles  mol_act  \\\n0  CHEMBL2263120  CC1(C)CC[C@]2(C(=O)OCCCCCCCCCCC(=O)O)CC[C@]3(C...   0.7200   \n1  CHEMBL2263121  CC1(C)CC[C@]2(C(=O)NC(Cc3ccccc3)C(=O)O)CC[C@]3...   3.3100   \n2      CHEMBL168  CC1(C)CC[C@]2(C(=O)O)CC[C@]3(C)C(=CC[C@@H]4[C@...   5.0501   \n3   CHEMBL508831  CC1(C)CC[C@]2(C(=O)O)CC[C@]3(C)C(=CC[C@@H]4[C@...   0.5400   \n4   CHEMBL506556  CC1(C)CC[C@]2(C(=O)O)CC[C@]3(C)C(=CC[C@@H]4[C@...   0.6200   \n\n                                              mol_fp  mol_prob  mol_cost  \n0  [0, 0, 1, 0, 0, 0, 1, 0, 1, 1, 0, 0, 0, 0, 0, ...  0.000790   394.900  \n1  [0, 0, 0, 0, 0, 0, 1, 1, 1, 0, 1, 0, 0, 0, 0, ...  0.000059    29.625  \n2  [0, 0, 0, 0, 0, 0, 1, 0, 1, 1, 0, 0, 0, 0, 0, ...  0.000010     5.200  \n3  [0, 0, 0, 0, 0, 0, 1, 0, 1, 1, 0, 0, 0, 0, 0, ...  0.000946   472.780  \n4  [0, 0, 0, 0, 0, 0, 1, 0, 1, 1, 0, 0, 0, 0, 1, ...  0.000873   436.430  ",
      "text/html": "<div>\n<style scoped>\n    .dataframe tbody tr th:only-of-type {\n        vertical-align: middle;\n    }\n\n    .dataframe tbody tr th {\n        vertical-align: top;\n    }\n\n    .dataframe thead th {\n        text-align: right;\n    }\n</style>\n<table border=\"1\" class=\"dataframe\">\n  <thead>\n    <tr style=\"text-align: right;\">\n      <th></th>\n      <th>mol_name</th>\n      <th>mol_smiles</th>\n      <th>mol_act</th>\n      <th>mol_fp</th>\n      <th>mol_prob</th>\n      <th>mol_cost</th>\n    </tr>\n  </thead>\n  <tbody>\n    <tr>\n      <th>0</th>\n      <td>CHEMBL2263120</td>\n      <td>CC1(C)CC[C@]2(C(=O)OCCCCCCCCCCC(=O)O)CC[C@]3(C...</td>\n      <td>0.7200</td>\n      <td>[0, 0, 1, 0, 0, 0, 1, 0, 1, 1, 0, 0, 0, 0, 0, ...</td>\n      <td>0.000790</td>\n      <td>394.900</td>\n    </tr>\n    <tr>\n      <th>1</th>\n      <td>CHEMBL2263121</td>\n      <td>CC1(C)CC[C@]2(C(=O)NC(Cc3ccccc3)C(=O)O)CC[C@]3...</td>\n      <td>3.3100</td>\n      <td>[0, 0, 0, 0, 0, 0, 1, 1, 1, 0, 1, 0, 0, 0, 0, ...</td>\n      <td>0.000059</td>\n      <td>29.625</td>\n    </tr>\n    <tr>\n      <th>2</th>\n      <td>CHEMBL168</td>\n      <td>CC1(C)CC[C@]2(C(=O)O)CC[C@]3(C)C(=CC[C@@H]4[C@...</td>\n      <td>5.0501</td>\n      <td>[0, 0, 0, 0, 0, 0, 1, 0, 1, 1, 0, 0, 0, 0, 0, ...</td>\n      <td>0.000010</td>\n      <td>5.200</td>\n    </tr>\n    <tr>\n      <th>3</th>\n      <td>CHEMBL508831</td>\n      <td>CC1(C)CC[C@]2(C(=O)O)CC[C@]3(C)C(=CC[C@@H]4[C@...</td>\n      <td>0.5400</td>\n      <td>[0, 0, 0, 0, 0, 0, 1, 0, 1, 1, 0, 0, 0, 0, 0, ...</td>\n      <td>0.000946</td>\n      <td>472.780</td>\n    </tr>\n    <tr>\n      <th>4</th>\n      <td>CHEMBL506556</td>\n      <td>CC1(C)CC[C@]2(C(=O)O)CC[C@]3(C)C(=CC[C@@H]4[C@...</td>\n      <td>0.6200</td>\n      <td>[0, 0, 0, 0, 0, 0, 1, 0, 1, 1, 0, 0, 0, 0, 1, ...</td>\n      <td>0.000873</td>\n      <td>436.430</td>\n    </tr>\n  </tbody>\n</table>\n</div>"
     },
     "metadata": {},
     "execution_count": 12
    }
   ]
  },
  {
   "cell_type": "code",
   "metadata": {
    "id": "vRWCXOctv37L",
    "colab_type": "code",
    "colab": {}
   },
   "source": [
    "df_mol = df.iloc[:,[0,2,3,5]]\n",
    "df_mol"
   ],
   "execution_count": 13,
   "outputs": [
    {
     "output_type": "execute_result",
     "data": {
      "text/plain": "           mol_name  mol_act  \\\n0     CHEMBL2263120   0.7200   \n1     CHEMBL2263121   3.3100   \n2         CHEMBL168   5.0501   \n3      CHEMBL508831   0.5400   \n4      CHEMBL506556   0.6200   \n...             ...      ...   \n1847  CHEMBL1782241   5.2000   \n1848   CHEMBL323197   5.5000   \n1849  CHEMBL4071698   0.7200   \n1850  CHEMBL3770020   1.5800   \n1851  CHEMBL4278170   0.7000   \n\n                                                 mol_fp  mol_cost  \n0     [0, 0, 1, 0, 0, 0, 1, 0, 1, 1, 0, 0, 0, 0, 0, ...   394.900  \n1     [0, 0, 0, 0, 0, 0, 1, 1, 1, 0, 1, 0, 0, 0, 0, ...    29.625  \n2     [0, 0, 0, 0, 0, 0, 1, 0, 1, 1, 0, 0, 0, 0, 0, ...     5.200  \n3     [0, 0, 0, 0, 0, 0, 1, 0, 1, 1, 0, 0, 0, 0, 0, ...   472.780  \n4     [0, 0, 0, 0, 0, 0, 1, 0, 1, 1, 0, 0, 0, 0, 1, ...   436.430  \n...                                                 ...       ...  \n1847  [0, 1, 0, 0, 0, 0, 1, 1, 1, 0, 0, 0, 0, 1, 0, ...     4.475  \n1848  [1, 1, 0, 0, 0, 1, 1, 1, 1, 0, 0, 0, 1, 1, 0, ...     3.315  \n1849  [1, 0, 0, 0, 0, 1, 1, 0, 0, 0, 1, 0, 0, 0, 0, ...   394.900  \n1850  [1, 0, 0, 0, 0, 1, 1, 0, 0, 0, 1, 0, 0, 0, 0, ...   167.105  \n1851  [0, 0, 0, 0, 0, 1, 0, 0, 0, 0, 1, 0, 0, 1, 0, ...   402.875  \n\n[1852 rows x 4 columns]",
      "text/html": "<div>\n<style scoped>\n    .dataframe tbody tr th:only-of-type {\n        vertical-align: middle;\n    }\n\n    .dataframe tbody tr th {\n        vertical-align: top;\n    }\n\n    .dataframe thead th {\n        text-align: right;\n    }\n</style>\n<table border=\"1\" class=\"dataframe\">\n  <thead>\n    <tr style=\"text-align: right;\">\n      <th></th>\n      <th>mol_name</th>\n      <th>mol_act</th>\n      <th>mol_fp</th>\n      <th>mol_cost</th>\n    </tr>\n  </thead>\n  <tbody>\n    <tr>\n      <th>0</th>\n      <td>CHEMBL2263120</td>\n      <td>0.7200</td>\n      <td>[0, 0, 1, 0, 0, 0, 1, 0, 1, 1, 0, 0, 0, 0, 0, ...</td>\n      <td>394.900</td>\n    </tr>\n    <tr>\n      <th>1</th>\n      <td>CHEMBL2263121</td>\n      <td>3.3100</td>\n      <td>[0, 0, 0, 0, 0, 0, 1, 1, 1, 0, 1, 0, 0, 0, 0, ...</td>\n      <td>29.625</td>\n    </tr>\n    <tr>\n      <th>2</th>\n      <td>CHEMBL168</td>\n      <td>5.0501</td>\n      <td>[0, 0, 0, 0, 0, 0, 1, 0, 1, 1, 0, 0, 0, 0, 0, ...</td>\n      <td>5.200</td>\n    </tr>\n    <tr>\n      <th>3</th>\n      <td>CHEMBL508831</td>\n      <td>0.5400</td>\n      <td>[0, 0, 0, 0, 0, 0, 1, 0, 1, 1, 0, 0, 0, 0, 0, ...</td>\n      <td>472.780</td>\n    </tr>\n    <tr>\n      <th>4</th>\n      <td>CHEMBL506556</td>\n      <td>0.6200</td>\n      <td>[0, 0, 0, 0, 0, 0, 1, 0, 1, 1, 0, 0, 0, 0, 1, ...</td>\n      <td>436.430</td>\n    </tr>\n    <tr>\n      <th>...</th>\n      <td>...</td>\n      <td>...</td>\n      <td>...</td>\n      <td>...</td>\n    </tr>\n    <tr>\n      <th>1847</th>\n      <td>CHEMBL1782241</td>\n      <td>5.2000</td>\n      <td>[0, 1, 0, 0, 0, 0, 1, 1, 1, 0, 0, 0, 0, 1, 0, ...</td>\n      <td>4.475</td>\n    </tr>\n    <tr>\n      <th>1848</th>\n      <td>CHEMBL323197</td>\n      <td>5.5000</td>\n      <td>[1, 1, 0, 0, 0, 1, 1, 1, 1, 0, 0, 0, 1, 1, 0, ...</td>\n      <td>3.315</td>\n    </tr>\n    <tr>\n      <th>1849</th>\n      <td>CHEMBL4071698</td>\n      <td>0.7200</td>\n      <td>[1, 0, 0, 0, 0, 1, 1, 0, 0, 0, 1, 0, 0, 0, 0, ...</td>\n      <td>394.900</td>\n    </tr>\n    <tr>\n      <th>1850</th>\n      <td>CHEMBL3770020</td>\n      <td>1.5800</td>\n      <td>[1, 0, 0, 0, 0, 1, 1, 0, 0, 0, 1, 0, 0, 0, 0, ...</td>\n      <td>167.105</td>\n    </tr>\n    <tr>\n      <th>1851</th>\n      <td>CHEMBL4278170</td>\n      <td>0.7000</td>\n      <td>[0, 0, 0, 0, 0, 1, 0, 0, 0, 0, 1, 0, 0, 1, 0, ...</td>\n      <td>402.875</td>\n    </tr>\n  </tbody>\n</table>\n<p>1852 rows × 4 columns</p>\n</div>"
     },
     "metadata": {},
     "execution_count": 13
    }
   ]
  },
  {
   "cell_type": "markdown",
   "metadata": {
    "id": "9_1rELu8v37S",
    "colab_type": "text"
   },
   "source": [
    "## Individu\n",
    "suatu fungsi yang bertujuan untuk me-return dari suatu populasi (kumpulan individu berdasarkan subset yang diberikan). \n",
    "\n",
    "return :\n",
    "* mol_name\n",
    "* rata-rata dari act\n",
    "* rata-rata dari mol_fp\n",
    "\n",
    "cara menyari diversity :\n",
    "\n",
    "dengan menghitung semua similarity antar molekul kemudian hasilnya di rata2kan\n",
    "\n",
    "sebagai contoh :\n",
    "\n",
    "ada 3 (subset) molekul (A,B,C), maka menghitungnya\n",
    "\n",
    "* A -> B\n",
    "* A -> C\n",
    "* B -> C\n",
    "\n",
    "kemudian dirata2kan"
   ]
  },
  {
   "cell_type": "code",
   "execution_count": 14,
   "metadata": {},
   "outputs": [
    {
     "output_type": "stream",
     "name": "stdout",
     "text": "sumDup\n"
    }
   ],
   "source": [
    "dictDup = {}\n",
    "for x in df_mol[\"mol_name\"]:\n",
    "    if x in dictDup.keys() :\n",
    "        dictDup[i] += 1\n",
    "    else :\n",
    "        dictDup[i] = 1\n",
    "print(\"sumDup\")\n",
    "\n",
    "for i in dictDup :\n",
    "    if dictDup[i] > 1 :\n",
    "        print(i,dictDup[i])"
   ]
  },
  {
   "cell_type": "code",
   "execution_count": 90,
   "metadata": {},
   "outputs": [
    {
     "output_type": "execute_result",
     "data": {
      "text/plain": "False"
     },
     "metadata": {},
     "execution_count": 90
    }
   ],
   "source": [
    "# checked\n",
    "\n",
    "\n",
    "def isDupInd(individu,population,dfMol = df_mol) :\n",
    "    same = False\n",
    "    molName = dfMol[\"mol_name\"]\n",
    "    molNameList = []\n",
    "    for gen in individu :\n",
    "        molNameList.append(gen)\n",
    "    individu = molNameList\n",
    "    sizeList = len(individu)\n",
    "    #print(sizeList)\n",
    "    count = 0\n",
    "    for ind in population :\n",
    "        ind = ind[0]\n",
    "        for gen in individu :\n",
    "            if gen in ind :\n",
    "                count += 1\n",
    "        \n",
    "        if count == sizeList :\n",
    "            #print(count)\n",
    "            #print(\"masuk\")\n",
    "            same = True\n",
    "            break\n",
    "        else :\n",
    "            count = 0\n",
    "    return same\n",
    "pop=population[1]\n",
    "#print(pop)\n",
    "pop = ['CHEMBL197884', 'CHEMBL3238195', 'cek', 'CHEMBL208985', 'CHEMBL252710', 'CHEMBL280388', 'CHEMBL9321(1)', 'CHEMBL1783782', 'CHEMBL393682', 'CHEMBL2263121', 'CHEMBL267022', 'CHEMBL57157', 'CHEMBL4214309', 'CHEMBL9070(1)', 'CHEMBL253269', 'CHEMBL1935610', 'CHEMBL515146', 'CHEMBL246454', 'CHEMBL1766712', 'CHEMBL263348', 'CHEMBL4067159', 'CHEMBL578429', 'CHEMBL1085070(1)', 'CHEMBL3238201', 'CHEMBL4288744', 'CHEMBL52290', 'CHEMBL2263121(1)', 'CHEMBL1164828', 'CHEMBL1240534', 'CHEMBL169(22)', 'CHEMBL565795', 'CHEMBL1242552', 'CHEMBL2436037', 'CHEMBL2262830(1)', 'CHEMBL2263114', 'CHEMBL1086226', 'CHEMBL210837', 'CHEMBL2436032', 'CHEMBL1650892', 'CHEMBL266753(1)', 'CHEMBL190535', 'CHEMBL395156', 'CHEMBL3219582', 'CHEMBL1779053', 'CHEMBL445491', 'CHEMBL451520', 'CHEMBL3758490', 'CHEMBL1086228(1)', 'CHEMBL300119', 'CHEMBL4069413', 'CHEMBL2262832(1)', 'CHEMBL1163827', 'CHEMBL437964(2)', 'CHEMBL1778902', 'CHEMBL2424711(1)', 'CHEMBL1163236', 'CHEMBL557450', 'CHEMBL7152', 'CHEMBL3310429', 'CHEMBL3786595', 'CHEMBL24843(1)', 'CHEMBL25558', 'CHEMBL211369(1)', 'CHEMBL1086230', 'CHEMBL4066472', 'CHEMBL4095230', 'CHEMBL371929', 'CHEMBL426373', 'CHEMBL523885', 'CHEMBL1778901', 'CHEMBL323712', 'CHEMBL2087688', 'CHEMBL403117', 'CHEMBL4086351', 'CHEMBL1823960', 'CHEMBL2349151', 'CHEMBL279242', 'CHEMBL298849', 'CHEMBL1778913', 'CHEMBL246870', 'CHEMBL2424709(1)', 'CHEMBL370584', 'CHEMBL24141', 'CHEMBL57036', 'CHEMBL377905', 'CHEMBL83179', 'CHEMBL403746', 'CHEMBL25628', 'CHEMBL3098944', 'CHEMBL169(2)', 'CHEMBL2087690', 'CHEMBL110642', 'CHEMBL506260', 'CHEMBL2373418', 'CHEMBL1242736', 'CHEMBL378992', 'CHEMBL3633139', 'CHEMBL2208256', 'CHEMBL117869(1)', 'CHEMBL2205521']\n",
    "#print(pop)\n",
    "#print(population[0])\n",
    "isDupInd(pop,population)"
   ]
  },
  {
   "cell_type": "code",
   "metadata": {
    "colab_type": "code",
    "id": "GYPOqUS0drKW",
    "colab": {}
   },
   "source": [
    "n_subset = 5\n",
    "\n",
    "def bundleIndividu(individu,dfMol = df_mol):\n",
    "    #subset = np.array(subset.values.tolist())\n",
    "    #print((individu))\n",
    "    molName = dfMol[\"mol_name\"].tolist()\n",
    "    molAct = dfMol[\"mol_act\"].tolist()\n",
    "    molFp = dfMol[\"mol_fp\"].tolist()\n",
    "    #print(mol_name)\n",
    "    #print(mol_act)\n",
    "    #print(mol_fp[1])\n",
    "\n",
    "    #cek duplicate\n",
    "    \"\"\"\n",
    "    sumDup = 0\n",
    "    listDup = []\n",
    "    dictDup = {}\n",
    "    for i in individu :\n",
    "        if i in dictDup.keys() :\n",
    "            dictDup[i] += 1\n",
    "        else :\n",
    "            dictDup[i] = 1\n",
    "    print(\"sumDup\")\n",
    "    \n",
    "\n",
    "    for i in dictDup :\n",
    "        if dictDup[i] > 1 :\n",
    "            print(i,dictDup[i])\n",
    "    \"\"\"\n",
    "    bitString = []\n",
    "    sumBit = 0\n",
    "    #print(\"ind\",(individu))\n",
    "    for mol in molName:\n",
    "        #print(\"mol\",mol)\n",
    "        if mol in individu :\n",
    "            bit = 1\n",
    "            sumBit+=1\n",
    "        else :\n",
    "            bit = 0\n",
    "        bitString.append(bit)\n",
    "    #print(\"bitstring\" ,sumBit)\n",
    "    fp_list = []\n",
    "    n = len(molName)\n",
    "\n",
    "    def fObjective(individu = individu,dfMol = df_mol) :\n",
    "    \n",
    "        def fObj1(individu = individu,dfMol = dfMol) :\n",
    "            act = []\n",
    "            for idx,x in enumerate(molName) :\n",
    "                if x  in individu :\n",
    "                    act.append(dfMol[\"mol_act\"][idx])\n",
    "            #print(np.mean(act))\n",
    "            return np.mean(act)\n",
    "        \n",
    "        def fObj2(individu = individu, dfMol = dfMol) :\n",
    "            fpList = []\n",
    "            \n",
    "            #print(n)\n",
    "            molFp = []\n",
    "            \n",
    "            for idx,x in enumerate(molName) :\n",
    "                if x in individu :\n",
    "                    molFp.append(dfMol[\"mol_fp\"][idx])\n",
    "            n = len(molFp)\n",
    "            for i in range(n):\n",
    "                for j in range(n):\n",
    "                    if i > j :\n",
    "                        tmpFp = DataStructs.FingerprintSimilarity(molFp[i],molFp[j])\n",
    "                        fpList.append(tmpFp)\n",
    "            #print(\"fplist\",fpList)\n",
    "            return 1/(np.mean(fpList))\n",
    "\n",
    "        return fObj1(), fObj2()\n",
    "\n",
    "    fObj1,fObj2 = fObjective()\n",
    "    \n",
    "    if [individu,fObj1,fObj2] is not None :\n",
    "        return [individu,fObj1,fObj2]\n",
    "    else :\n",
    "        return []\n",
    "#print(bundleIndividu(population[0][0]))\n"
   ],
   "execution_count": 16,
   "outputs": []
  },
  {
   "cell_type": "markdown",
   "metadata": {
    "id": "P7Roz7DLv37k",
    "colab_type": "text"
   },
   "source": [
    "### NSGA-II"
   ]
  },
  {
   "cell_type": "markdown",
   "metadata": {
    "pycharm": {
     "name": "#%% md\n"
    }
   },
   "source": [
    "## Inisialisasi populasi bit string"
   ]
  },
  {
   "cell_type": "code",
   "execution_count": 80,
   "metadata": {
    "tags": [
     "outputPrepend",
     "outputPrepend",
     "outputPrepend",
     "outputPrepend",
     "outputPrepend",
     "outputPrepend",
     "outputPrepend",
     "outputPrepend",
     "outputPrepend"
    ],
    "pycharm": {
     "name": "#%%\n"
    }
   },
   "outputs": [
    {
     "output_type": "stream",
     "name": "stdout",
     "text": "100\n"
    }
   ],
   "source": [
    "\n",
    "def initPopulation(nPortfolio,nGen,dfMol=df_mol):\n",
    "    def initIndividu(dfMol = df_mol,nGen=nGen):\n",
    "        randIndividu = []\n",
    "        while(len(randIndividu) < nGen) :\n",
    "            gen = rd.randint(0,len(dfMol)-1)\n",
    "            if gen not in randIndividu:\n",
    "                randIndividu.append(gen)\n",
    "        return randIndividu\n",
    "\n",
    "    molName = dfMol[\"mol_name\"].tolist()\n",
    "    #print(len(molName))\n",
    "    molAct = dfMol[\"mol_act\"].tolist()\n",
    "    molFp = dfMol[\"mol_fp\"].tolist()\n",
    "    #print(molFp)\n",
    "    population = []\n",
    "    \n",
    "    nSubset = dfMol.shape[0]\n",
    "    #print(nPortfolio)\n",
    "\n",
    "    for i in range(nPortfolio) :\n",
    "        #randIndividu = [rd.randint(0,len(df_mol)-1) for i in range(nGen)]\n",
    "        #print(len(randIndividu))\n",
    "        randIndividu = initIndividu()\n",
    "\n",
    "        if i > 0 :\n",
    "            while(isDupInd(randIndividu,population)) :\n",
    "                randIndividu = initIndividu()\n",
    "        #print(randIndividu)\n",
    "\n",
    "        molNameList = []\n",
    "        for j in randIndividu :\n",
    "            molNameList.append(molName[j])\n",
    "        #print(len(molNameList))        \n",
    "        individu = molNameList\n",
    "        bInd = bundleIndividu(individu)\n",
    "        #print(bInd)\n",
    "        #bitString = bInd[0]\n",
    "        population.append(bInd)\n",
    "    return population\n",
    "        \n",
    "\n",
    "population=((initPopulation(10,100)))\n",
    "print(len(population[2][0]))"
   ]
  },
  {
   "cell_type": "markdown",
   "metadata": {},
   "source": [
    "## cek duplikat"
   ]
  },
  {
   "cell_type": "code",
   "execution_count": 18,
   "metadata": {},
   "outputs": [
    {
     "output_type": "stream",
     "name": "stdout",
     "text": "individu {2: 3}\n"
    }
   ],
   "source": [
    "def duplicate(individu) :\n",
    "    dupInd = {}\n",
    "    individu = individu[0]\n",
    "    #print(population)\n",
    "    dupMol = {}\n",
    "    for mol in individu :\n",
    "        #print(mol)\n",
    "        if mol in dupMol.keys() :\n",
    "            dupMol[mol] += 1\n",
    "        else :\n",
    "            dupMol[mol] = 1\n",
    "\n",
    "    listDup = {}\n",
    "    for mol in dupMol :\n",
    "        if (dupMol[mol]) > 1 :\n",
    "            listDup[mol] = dupMol[mol]\n",
    "    print(\"individu\", end =\" \")\n",
    "    if len(listDup) > 0 :\n",
    "        print(listDup)\n",
    "    else :\n",
    "        print(\"Non Duplicate\")\n",
    "\n",
    "duplicate([[1,2,2,2],0,0])\n",
    "         \n"
   ]
  },
  {
   "cell_type": "code",
   "execution_count": 20,
   "metadata": {},
   "outputs": [
    {
     "output_type": "stream",
     "name": "stdout",
     "text": "individu Non Duplicate\nindividu Non Duplicate\nindividu Non Duplicate\nindividu Non Duplicate\nindividu Non Duplicate\nindividu Non Duplicate\nindividu Non Duplicate\nindividu Non Duplicate\nindividu Non Duplicate\nindividu Non Duplicate\n"
    }
   ],
   "source": [
    "for ind in population :\n",
    "    duplicate(ind)"
   ]
  },
  {
   "cell_type": "code",
   "execution_count": 22,
   "metadata": {},
   "outputs": [],
   "source": [
    "def unpackInd(population) :\n",
    "    fMaxObj1 = []\n",
    "    fMaxObj2 = []\n",
    "    solution = []\n",
    "    for idx,individu in enumerate(population) :\n",
    "        #print(idx)\n",
    "        solution.append(individu[0])\n",
    "        fMaxObj1.append(individu[1]) # Probabilitas Kesuksesan\n",
    "        fMaxObj2.append(individu[2]) # Diversity   \n",
    "    return [solution,fMaxObj1,fMaxObj2]"
   ]
  },
  {
   "cell_type": "code",
   "execution_count": 23,
   "metadata": {},
   "outputs": [
    {
     "output_type": "execute_result",
     "data": {
      "text/plain": "(0, [])"
     },
     "metadata": {},
     "execution_count": 23
    }
   ],
   "source": [
    "def duplicateInd(population) :\n",
    "    population = unpackInd(population)[0]\n",
    "    def isSame(ind1,ind2):\n",
    "        same = False\n",
    "        sizeList = len(ind1)\n",
    "        count = 0\n",
    "        for i in ind1 :\n",
    "            if i in ind2 :\n",
    "                count += 1\n",
    "        \n",
    "        if count == sizeList:\n",
    "            same = True\n",
    "        return same\n",
    "\n",
    "    count = 0\n",
    "    sameInd = []\n",
    "    for i in range(len(population)) :\n",
    "        for j in range(len(population)) :\n",
    "            if i > j :\n",
    "                if isSame(population[i],population[j]) :\n",
    "                    count+=1\n",
    "                    sameInd.append([population[i],population[j]])\n",
    "    return count,sameInd\n",
    "\n",
    "dupInd = duplicateInd(population)\n",
    "dupInd"
   ]
  },
  {
   "cell_type": "markdown",
   "metadata": {},
   "source": [
    "#### Generate Offspring ( crossover and mutation )"
   ]
  },
  {
   "cell_type": "code",
   "execution_count": 24,
   "metadata": {},
   "outputs": [
    {
     "output_type": "stream",
     "name": "stdout",
     "text": "100\n"
    }
   ],
   "source": [
    "print(len(population[1][0]))"
   ]
  },
  {
   "cell_type": "code",
   "execution_count": 106,
   "metadata": {
    "tags": [
     "outputPrepend",
     "outputPrepend",
     "outputPrepend",
     "outputPrepend",
     "outputPrepend",
     "outputPrepend",
     "outputPrepend"
    ]
   },
   "outputs": [
    {
     "output_type": "execute_result",
     "data": {
      "text/plain": "0"
     },
     "metadata": {},
     "execution_count": 106
    }
   ],
   "source": [
    "def generateOffspring(population,dfMol = df_mol) :\n",
    "    sizeOfPop = len(population)\n",
    "\n",
    "    def duplicateMol(parent) :\n",
    "        parent1,parent2 = parent\n",
    "        dupGen = []\n",
    "        #print(\"par\",len(parent1))\n",
    "        for gen in parent1 :\n",
    "            if gen in parent2 :\n",
    "                dupGen.append(gen)\n",
    "        return dupGen\n",
    "\n",
    "    def generateParent(population=population, sizeOfPop = sizeOfPop):\n",
    "        #sizeOfPop = len(population[0])\n",
    "        parent1 = population[rd.randint(0,sizeOfPop-1)][0]\n",
    "        parent2 = population[rd.randint(0,sizeOfPop-1)][0]\n",
    "        #print(\"parent1\",parent1)\n",
    "        return [parent1,parent2]\n",
    "\n",
    "    def crossover(parent,pCo = 0.5) :\n",
    "       \n",
    "        randCo = rd.random()\n",
    "        #print(randCo)\n",
    "        parents = generateParent()\n",
    "        parent1,parent2 = (parents)\n",
    "        dupMol = ((duplicateMol(parents)))\n",
    "        parent1 = list(set(parent1)-set(dupMol))\n",
    "        parent2 = list(set(parent2)-set(dupMol))\n",
    "        #print(\"parent\",parent1)\n",
    "        #print(parent1)\n",
    "        nGen = len(parent1)\n",
    "        #print(\"nGen\",nGen)\n",
    "        \n",
    "        nPoint = 0.5\n",
    "        #barier =(math.floor(len(population[0])*nPoint))\n",
    "        barier = math.floor(nGen*nPoint) \n",
    "\n",
    "        if randCo < pCo :\n",
    "            offspring1 = parent1[:barier]+parent2[barier:]\n",
    "            offspring2 = parent2[:barier]+parent1[barier:]\n",
    "        else :\n",
    "            offspring1 = parent1\n",
    "            offspring2 = parent2\n",
    "        offspring1 += dupMol\n",
    "        offspring2 += dupMol\n",
    "        #print(\"oofspring\",offspring1)\n",
    "        #print(\"moltobit\",sum(molToBit([offspring1,offspring2])[1]))\n",
    "        return ([offspring1,offspring2])\n",
    "\n",
    "   # Flip mutation \n",
    "    def mutation(individu,pMut = 0.2,pMr = 0.5,dfMol = dfMol) :\n",
    "        randMut = rd.uniform(0,1)\n",
    "        #print(randMut)\n",
    "        newOffspring = []\n",
    "        if randMut > pMut :\n",
    "            newInd = []\n",
    "            molName = [mol for mol in dfMol[\"mol_name\"] if mol not in individu]\n",
    "            for idx,gen in enumerate(individu) :\n",
    "                randRep = rd.uniform(0,1)\n",
    "                if randRep > pMr :\n",
    "                    newMol = rd.choice(molName)\n",
    "                    while(newMol in individu) :\n",
    "                        individu[idx] = rd.choice(molName)\n",
    "            #individu = newInd\n",
    "\n",
    "\n",
    "        return individu\n",
    "\n",
    "\n",
    "\n",
    "    \n",
    "    # Start Generate\n",
    "    solution = []\n",
    "    while(len(solution) < 2*sizeOfPop):\n",
    "        parents = generateParent()\n",
    "        #print(parents)\n",
    "        offSpring = crossover(parents)\n",
    "        for x in offSpring :\n",
    "            if len(solution) > 0 :\n",
    "                #print(\"x\",x)\n",
    "                \n",
    "                if not isDupInd(x,solution) :\n",
    "                    solution.append(bundleIndividu(mutation(x),dfMol))\n",
    "                else :\n",
    "                    continue\n",
    "            else :\n",
    "                 solution.append(bundleIndividu(mutation(x),dfMol))\n",
    "        #print(len(solution))\n",
    "    return solution\n",
    "\n",
    "genOff = ((generateOffspring(population)))\n",
    "dupOff = duplicateInd(genOff)[0]\n",
    "dupOff\n"
   ]
  },
  {
   "cell_type": "code",
   "execution_count": 95,
   "metadata": {
    "pycharm": {
     "name": "#%%\n"
    }
   },
   "outputs": [],
   "source": [
    "def fast_non_dominated_sort(values1, values2):\n",
    "    S=[[] for i in range(0,len(values1))]\n",
    "    front = [[]]\n",
    "    n=[0 for i in range(0,len(values1))]\n",
    "    rank = [0 for i in range(0, len(values1))]\n",
    "\n",
    "    for p in range(0,len(values1)):\n",
    "        S[p]=[]\n",
    "        n[p]=0\n",
    "        for q in range(0, len(values1)):\n",
    "            if (values1[p] > values1[q] and values2[p] > values2[q]) or (values1[p] >= values1[q] and values2[p] > values2[q]) or (values1[p] > values1[q] and values2[p] >= values2[q]):\n",
    "                if q not in S[p]:\n",
    "                    S[p].append(q)\n",
    "            elif (values1[q] > values1[p] and values2[q] > values2[p]) or (values1[q] >= values1[p] and values2[q] > values2[p]) or (values1[q] > values1[p] and values2[q] >= values2[p]):\n",
    "                n[p] = n[p] + 1\n",
    "        if n[p]==0:\n",
    "            rank[p] = 0\n",
    "            if p not in front[0]:\n",
    "                front[0].append(p)\n",
    "\n",
    "    i = 0\n",
    "    while(front[i] != []):\n",
    "        Q=[]\n",
    "        for p in front[i]:\n",
    "            for q in S[p]:\n",
    "                n[q] =n[q] - 1\n",
    "                if( n[q]==0):\n",
    "                    rank[q]=i+1\n",
    "                    if q not in Q:\n",
    "                        Q.append(q)\n",
    "        i = i+1\n",
    "        front.append(Q)\n",
    "\n",
    "    del front[len(front)-1]\n",
    "    return front\n",
    "\n"
   ]
  },
  {
   "cell_type": "code",
   "execution_count": 96,
   "metadata": {},
   "outputs": [],
   "source": [
    "#fast_non_dominated_sort(fMaxObj1,fMaxObj2)"
   ]
  },
  {
   "cell_type": "code",
   "execution_count": 97,
   "metadata": {},
   "outputs": [],
   "source": [
    "import math\n",
    "def sort_by_values(list1, values):\n",
    "    sorted_list = []\n",
    "    while(len(sorted_list)!=len(list1)):\n",
    "        if index_of(min(values),values) in list1:\n",
    "            sorted_list.append(index_of(min(values),values))\n",
    "        values[index_of(min(values),values)] = math.inf\n",
    "    return sorted_list\n"
   ]
  },
  {
   "cell_type": "code",
   "execution_count": 98,
   "outputs": [],
   "source": [
    "def fast_non_dominated_sort(values1, values2):\n",
    "    S=[[] for i in range(0,len(values1))]\n",
    "    front = [[]]\n",
    "    n=[0 for i in range(0,len(values1))]\n",
    "    rank = [0 for i in range(0, len(values1))]\n",
    "\n",
    "    for p in range(0,len(values1)):\n",
    "        S[p]=[]\n",
    "        n[p]=0\n",
    "        for q in range(0, len(values1)):\n",
    "            if (values1[p] > values1[q] and values2[p] > values2[q]) or (values1[p] >= values1[q] and values2[p] > values2[q]) or (values1[p] > values1[q] and values2[p] >= values2[q]):\n",
    "                if q not in S[p]:\n",
    "                    S[p].append(q)\n",
    "            elif (values1[q] > values1[p] and values2[q] > values2[p]) or (values1[q] >= values1[p] and values2[q] > values2[p]) or (values1[q] > values1[p] and values2[q] >= values2[p]):\n",
    "                n[p] = n[p] + 1\n",
    "        if n[p]==0:\n",
    "            rank[p] = 0\n",
    "            if p not in front[0]:\n",
    "                front[0].append(p)\n",
    "\n",
    "    i = 0\n",
    "    while(front[i] != []):\n",
    "        Q=[]\n",
    "        for p in front[i]:\n",
    "            for q in S[p]:\n",
    "                n[q] =n[q] - 1\n",
    "                if( n[q]==0):\n",
    "                    rank[q]=i+1\n",
    "                    if q not in Q:\n",
    "                        Q.append(q)\n",
    "        i = i+1\n",
    "        front.append(Q)\n",
    "\n",
    "    del front[len(front)-1]\n",
    "    return front\n"
   ],
   "metadata": {
    "collapsed": false,
    "pycharm": {
     "name": "#%%\n"
    }
   }
  },
  {
   "cell_type": "code",
   "execution_count": 99,
   "metadata": {},
   "outputs": [],
   "source": [
    "def crowding_distance(values1, values2, front):\n",
    "    distance = [0 for i in range(0,len(front))]\n",
    "    #print(distance)\n",
    "    #print(values2)\n",
    "    sorted1 = sort_by_values(front, values1[:])\n",
    "    #print(\"sorted1\",sorted1)\n",
    "    sorted2 = sort_by_values(front, values2[:])\n",
    "    \n",
    "    distance[0] = math.inf\n",
    "    distance[len(front) - 1] = math.inf\n",
    "    for k in range(1,len(front)-1):\n",
    "        #print(\"k=\",k)\n",
    "        distance[k] = distance[k]+ (values1[sorted1[k+1]] - values2[sorted1[k-1]])/(max(values1)-min(values1))\n",
    "        \n",
    "    for k in range(1,len(front)-1):\n",
    "        distance[k] = distance[k]+ (values1[sorted2[k+1]] - values2[sorted2[k-1]])/(max(values2)-min(values2))\n",
    "    return distance"
   ]
  },
  {
   "cell_type": "code",
   "execution_count": 100,
   "metadata": {},
   "outputs": [],
   "source": [
    "def index_of(a,list):\n",
    "    for i in range(0,len(list)):\n",
    "        if list[i] == a:\n",
    "            return i\n",
    "    return -1"
   ]
  },
  {
   "cell_type": "markdown",
   "metadata": {
    "pycharm": {
     "name": "#%% md\n"
    }
   },
   "source": [
    "### Coba NSGA"
   ]
  },
  {
   "cell_type": "code",
   "execution_count": 101,
   "metadata": {},
   "outputs": [],
   "source": [
    "#ls = cSave\n",
    "\n",
    "def sortByValue(ls) :\n",
    "    sort = sorted((value,index) for index,value in enumerate(ls))\n",
    "    sortLs = []\n",
    "    for x in sort :\n",
    "        sortLs.append((x[1]))\n",
    "    return sortLs\n",
    "#sortByValue(ls)"
   ]
  },
  {
   "cell_type": "code",
   "execution_count": 102,
   "metadata": {
    "pycharm": {
     "name": "#%%\n"
    }
   },
   "outputs": [
    {
     "output_type": "stream",
     "name": "stdout",
     "text": "uye Non Duplicate\n"
    }
   ],
   "source": [
    "def elDup(ls,name) :\n",
    "    dupDict = {}\n",
    "    for x in ls :\n",
    "        if x in dupDict :\n",
    "            dupDict[x] += 1\n",
    "        else :\n",
    "            dupDict[x] = 1\n",
    "    listDupt = {}\n",
    "\n",
    "    for x in dupDict :\n",
    "        if dupDict[x] > 1 :\n",
    "            listDupt[x] = dupDict[x]\n",
    "            \n",
    "    print(name,end=\" \")\n",
    "    if len(listDupt) > 0 :\n",
    "        print(listDupt)\n",
    "    else :\n",
    "        print(\"Non Duplicate\")\n",
    "elDup([1,2,3],\"uye\")"
   ]
  },
  {
   "cell_type": "code",
   "execution_count": 122,
   "metadata": {
    "tags": [
     "outputPrepend",
     "outputPrepend",
     "outputPrepend"
    ]
   },
   "outputs": [
    {
     "output_type": "stream",
     "name": "stdout",
     "text": "gen 0\nfObj1 Non Duplicate\nfront22 Non Duplicate\nfront Non Duplicate\nnew_sol Non Duplicate\ngen 1\nfObj1 Non Duplicate\nfront22 Non Duplicate\nfront Non Duplicate\nnew_sol Non Duplicate\ngen 2\nfObj1 Non Duplicate\nfront22 Non Duplicate\nfront Non Duplicate\nnew_sol Non Duplicate\ngen 3\nfObj1 Non Duplicate\nfront22 Non Duplicate\nfront Non Duplicate\nnew_sol Non Duplicate\ngen 4\nfObj1 Non Duplicate\nfront22 Non Duplicate\nfront Non Duplicate\nnew_sol Non Duplicate\ngen 5\nfObj1 Non Duplicate\nfront22 Non Duplicate\nfront Non Duplicate\nnew_sol Non Duplicate\ngen 6\nfObj1 {3.4567293: 2}\nfront22 Non Duplicate\nfront Non Duplicate\nnew_sol Non Duplicate\ngen 7\nfObj1 Non Duplicate\nfront22 Non Duplicate\nfront Non Duplicate\nnew_sol Non Duplicate\ngen 8\nfObj1 Non Duplicate\nfront22 Non Duplicate\nfront Non Duplicate\nnew_sol Non Duplicate\ngen 9\nfObj1 Non Duplicate\nfront22 Non Duplicate\nfront Non Duplicate\nnew_sol Non Duplicate\ngen 10\nfObj1 Non Duplicate\nfront22 Non Duplicate\nfront Non Duplicate\nnew_sol Non Duplicate\ngen 11\nfObj1 Non Duplicate\nfront22 Non Duplicate\nfront Non Duplicate\nnew_sol Non Duplicate\ngen 12\nfObj1 Non Duplicate\nfront22 Non Duplicate\nfront Non Duplicate\nnew_sol Non Duplicate\ngen 13\nfObj1 Non Duplicate\nfront22 Non Duplicate\nfront Non Duplicate\nnew_sol Non Duplicate\ngen 14\nfObj1 Non Duplicate\nfront22 Non Duplicate\nfront Non Duplicate\nnew_sol Non Duplicate\ngen 15\nfObj1 Non Duplicate\nfront22 Non Duplicate\nfront Non Duplicate\nnew_sol Non Duplicate\ngen 16\nfObj1 Non Duplicate\nfront22 Non Duplicate\nfront Non Duplicate\nnew_sol Non Duplicate\ngen 17\nfObj1 Non Duplicate\nfront22 Non Duplicate\nfront Non Duplicate\nnew_sol Non Duplicate\ngen 18\nfObj1 Non Duplicate\nfront22 Non Duplicate\nfront Non Duplicate\nnew_sol Non Duplicate\ngen 19\nfObj1 Non Duplicate\nfront22 Non Duplicate\nfront Non Duplicate\nnew_sol Non Duplicate\ngen 20\nfObj1 Non Duplicate\nfront22 Non Duplicate\nfront Non Duplicate\nnew_sol Non Duplicate\ngen 21\nfObj1 Non Duplicate\nfront22 Non Duplicate\nfront Non Duplicate\nnew_sol Non Duplicate\ngen 22\nfObj1 Non Duplicate\nfront22 Non Duplicate\nfront Non Duplicate\nnew_sol Non Duplicate\ngen 23\nfObj1 Non Duplicate\nfront22 Non Duplicate\nfront Non Duplicate\nnew_sol Non Duplicate\ngen 24\nfObj1 Non Duplicate\nfront22 Non Duplicate\nfront Non Duplicate\nnew_sol Non Duplicate\ngen 25\nfObj1 Non Duplicate\nfront22 Non Duplicate\nfront Non Duplicate\nnew_sol Non Duplicate\ngen 26\nfObj1 Non Duplicate\nfront22 Non Duplicate\nfront Non Duplicate\nnew_sol Non Duplicate\ngen 27\nfObj1 Non Duplicate\nfront22 Non Duplicate\nfront Non Duplicate\nnew_sol Non Duplicate\ngen 28\nfObj1 Non Duplicate\nfront22 Non Duplicate\nfront Non Duplicate\nnew_sol Non Duplicate\ngen 29\nfObj1 Non Duplicate\nfront22 Non Duplicate\nfront Non Duplicate\nnew_sol Non Duplicate\ngen 30\nfObj1 Non Duplicate\nfront22 Non Duplicate\nfront Non Duplicate\nnew_sol Non Duplicate\ngen 31\nfObj1 Non Duplicate\nfront22 Non Duplicate\nfront Non Duplicate\nnew_sol Non Duplicate\ngen 32\nfObj1 Non Duplicate\nfront22 Non Duplicate\nfront Non Duplicate\nnew_sol Non Duplicate\ngen 33\nfObj1 {5.2451597: 2}\nfront22 Non Duplicate\nfront Non Duplicate\nnew_sol Non Duplicate\ngen 34\nfObj1 Non Duplicate\nfront22 Non Duplicate\nfront Non Duplicate\nnew_sol Non Duplicate\ngen 35\nfObj1 Non Duplicate\nfront22 Non Duplicate\nfront Non Duplicate\nnew_sol Non Duplicate\ngen 36\nfObj1 {5.096838300000001: 2}\nfront22 Non Duplicate\nfront Non Duplicate\nnew_sol Non Duplicate\ngen 37\nfObj1 Non Duplicate\nfront22 Non Duplicate\nfront Non Duplicate\nnew_sol Non Duplicate\ngen 38\nfObj1 Non Duplicate\nfront22 Non Duplicate\nfront Non Duplicate\nnew_sol Non Duplicate\ngen 39\nfObj1 Non Duplicate\nfront22 Non Duplicate\nfront Non Duplicate\nnew_sol Non Duplicate\ngen 40\nfObj1 Non Duplicate\nfront22 Non Duplicate\nfront Non Duplicate\nnew_sol Non Duplicate\ngen 41\nfObj1 {5.5349900000000005: 2}\nfront22 Non Duplicate\nfront Non Duplicate\nnew_sol Non Duplicate\ngen 42\nfObj1 {5.582190000000001: 2, 5.49479: 2}\nfront22 Non Duplicate\nfront Non Duplicate\nnew_sol Non Duplicate\ngen 43\nfObj1 {5.582190000000001: 2}\nfront22 Non Duplicate\nfront Non Duplicate\nnew_sol Non Duplicate\ngen 44\nfObj1 {5.51829: 2}\nfront22 Non Duplicate\nfront Non Duplicate\nnew_sol Non Duplicate\ngen 45\nfObj1 {5.47619: 2, 5.49849: 2}\nfront22 Non Duplicate\nfront Non Duplicate\nnew_sol Non Duplicate\ngen 46\nfObj1 Non Duplicate\nfront22 Non Duplicate\nfront Non Duplicate\nnew_sol Non Duplicate\ngen 47\nfObj1 {5.53177: 2}\nfront22 Non Duplicate\nfront Non Duplicate\nnew_sol Non Duplicate\ngen 48\nfObj1 Non Duplicate\nfront22 Non Duplicate\nfront Non Duplicate\nnew_sol Non Duplicate\ngen 49\nfObj1 Non Duplicate\nfront22 Non Duplicate\nfront Non Duplicate\nnew_sol Non Duplicate\ngen 50\nfObj1 Non Duplicate\nfront22 Non Duplicate\nfront Non Duplicate\nnew_sol Non Duplicate\ngen 51\nfObj1 Non Duplicate\nfront22 Non Duplicate\nfront Non Duplicate\nnew_sol Non Duplicate\ngen 52\nfObj1 {5.686990000000001: 2}\nfront22 Non Duplicate\nfront Non Duplicate\nnew_sol Non Duplicate\ngen 53\nfObj1 {5.584970000000001: 2}\nfront22 Non Duplicate\nfront Non Duplicate\nnew_sol Non Duplicate\ngen 54\nfObj1 Non Duplicate\nfront22 Non Duplicate\nfront Non Duplicate\nnew_sol Non Duplicate\ngen 55\nfObj1 Non Duplicate\nfront22 Non Duplicate\nfront Non Duplicate\nnew_sol Non Duplicate\ngen 56\nfObj1 {5.702070000000001: 2, 5.56197: 2, 5.510353000000001: 2}\nfront22 Non Duplicate\nfront Non Duplicate\nnew_sol Non Duplicate\ngen 57\nfObj1 {5.360869300000001: 2}\nfront22 Non Duplicate\nfront Non Duplicate\nnew_sol Non Duplicate\ngen 58\nfObj1 Non Duplicate\nfront22 Non Duplicate\nfront Non Duplicate\nnew_sol Non Duplicate\ngen 59\nfObj1 Non Duplicate\nfront22 Non Duplicate\nfront Non Duplicate\nnew_sol Non Duplicate\ngen 60\nfObj1 Non Duplicate\nfront22 Non Duplicate\nfront Non Duplicate\nnew_sol Non Duplicate\ngen 61\nfObj1 {5.5834529999999996: 2, 5.615353: 2}\nfront22 Non Duplicate\nfront Non Duplicate\nnew_sol Non Duplicate\ngen 62\nfObj1 {5.705450000000001: 2, 5.75635: 2, 5.617733: 2, 5.596033: 2, 5.653733: 2}\nfront22 Non Duplicate\nfront Non Duplicate\nnew_sol Non Duplicate\ngen 63\nfObj1 {5.615353: 2, 5.749350000000001: 2}\nfront22 Non Duplicate\nfront Non Duplicate\nnew_sol Non Duplicate\ngen 64\nfObj1 {5.547733000000001: 2, 5.82067: 2, 5.800750000000001: 2}\nfront22 Non Duplicate\nfront Non Duplicate\nnew_sol Non Duplicate\ngen 65\nfObj1 Non Duplicate\nfront22 Non Duplicate\nfront Non Duplicate\nnew_sol Non Duplicate\ngen 66\nfObj1 Non Duplicate\nfront22 Non Duplicate\nfront Non Duplicate\nnew_sol Non Duplicate\ngen 67\nfObj1 {5.77067: 2, 5.84255: 2}\nfront22 Non Duplicate\nfront Non Duplicate\nnew_sol Non Duplicate\ngen 68\nfObj1 {5.759253: 2}\nfront22 Non Duplicate\nfront Non Duplicate\nnew_sol Non Duplicate\ngen 69\nfObj1 {5.759253: 2, 5.707052999999999: 2, 5.633852999999999: 2}\nfront22 Non Duplicate\nfront Non Duplicate\nnew_sol Non Duplicate\ngen 70\nfObj1 {5.747853: 2, 5.7251330000000005: 2, 5.712853: 2, 5.7941329999999995: 2, 5.73115: 2, 5.661853: 2, 5.683933: 2, 5.6280529999999995: 2, 5.654853: 2, 5.85155: 2}\nfront22 Non Duplicate\nfront Non Duplicate\nnew_sol Non Duplicate\ngen 71\nfObj1 {5.83155: 3, 5.79147: 2, 5.7251330000000005: 2, 5.711053: 2, 5.7703500000000005: 2, 5.75067: 2, 5.7099329999999995: 2, 5.821549999999999: 2, 5.800470000000001: 2, 5.5100713: 2, 5.79935: 2}\nfront22 Non Duplicate\nfront Non Duplicate\nnew_sol Non Duplicate\ngen 72\nfObj1 {5.800470000000001: 2, 5.821549999999999: 2, 5.5100713: 2, 5.83155: 2, 5.703133: 2, 5.6607330000000005: 2, 5.647733000000001: 2, 5.7703500000000005: 2, 5.7251330000000005: 2, 5.5306513: 2}\nfront22 Non Duplicate\nfront Non Duplicate\nnew_sol Non Duplicate\ngen 73\nfObj1 {5.6730529999999995: 2, 5.567152999999999: 2, 5.587771299999999: 2, 5.7251330000000005: 2, 5.5100713: 2, 5.7273883: 2, 5.647733000000001: 2, 5.5306513: 2, 5.673133: 2}\nfront22 Non Duplicate\nfront Non Duplicate\nnew_sol Non Duplicate\ngen 74\nfObj1 {5.700933: 2, 5.703133: 2, 5.778932999999999: 2, 5.757853: 2, 5.8482683: 2, 5.6290512999999995: 2, 5.741133: 2, 5.777470000000001: 2, 5.82255: 2, 5.673133: 2, 5.587771299999999: 2, 5.647733000000001: 2, 5.742133: 2}\nfront22 Non Duplicate\nfront Non Duplicate\nnew_sol Non Duplicate\ngen 75\nfObj1 {5.778932999999999: 2, 5.769132999999999: 2, 5.6290512999999995: 2, 5.752133: 2, 5.690133: 2, 5.659851300000001: 2, 5.661853: 2, 5.7529330000000005: 2, 5.6638513: 2, 5.700933: 3, 5.74335: 2, 5.730933: 2}\nfront22 Non Duplicate\nfront Non Duplicate\nnew_sol Non Duplicate\ngen 76\nfObj1 {5.752133: 3, 5.730933: 3, 5.77355: 2, 5.82255: 2, 5.741133: 2, 5.659851300000001: 2, 5.6638513: 2, 5.80135: 2, 5.778932999999999: 2, 5.6046513000000004: 2, 5.753933: 2, 5.7854683: 2, 5.661853: 2}\nfront22 Non Duplicate\nfront Non Duplicate\nnew_sol Non Duplicate\ngen 77\nfObj1 {5.6638513: 2, 5.671733: 2, 5.730933: 2, 5.779933: 2, 5.778932999999999: 3, 5.6508513: 2, 5.6046513000000004: 2, 5.753933: 2, 5.659851300000001: 2}\nfront22 Non Duplicate\nfront Non Duplicate\nnew_sol Non Duplicate\ngen 78\nfObj1 {5.882750000000001: 2, 5.671733: 2, 5.581771300000001: 2, 5.818133: 2, 5.623051299999999: 2, 5.6057713: 2, 5.753933: 2, 5.741933: 2, 5.6046513000000004: 2, 5.6508513: 2, 5.722933: 2, 5.791132999999999: 2, 5.82255: 2, 5.7038513: 2}\nfront22 Non Duplicate\nfront Non Duplicate\nnew_sol Non Duplicate\ngen 79\nfObj1 {5.623051299999999: 2, 5.7929330000000006: 2, 5.818133: 3, 5.659851300000001: 2, 5.753933: 2, 5.82255: 2, 5.703133: 3, 5.763133: 2, 5.7008529999999995: 2, 5.581771300000001: 2, 5.774933000000001: 2}\nfront22 Non Duplicate\nfront Non Duplicate\nnew_sol Non Duplicate\ngen 80\nfObj1 {5.605851299999999: 2, 5.703133: 2, 5.6410513: 2, 5.7130513: 2, 5.7529330000000005: 2, 5.6848513: 2, 5.82255: 2, 5.8189329999999995: 2, 5.6850513000000005: 2}\nfront22 Non Duplicate\nfront Non Duplicate\nnew_sol Non Duplicate\ngen 81\nfObj1 {5.787133000000001: 2, 5.703133: 2, 5.769133: 2, 5.727133: 2, 5.6410513: 2, 5.6870513: 2, 5.8355500000000005: 2, 5.6500513: 2, 5.738133: 2, 5.6049713: 2, 5.710933: 2, 5.8131330000000005: 2, 5.660851299999999: 2, 5.801933: 2, 5.742133: 2, 5.776133: 2, 5.621771300000001: 2, 5.590851300000001: 2}\nfront22 Non Duplicate\nfront Non Duplicate\nnew_sol Non Duplicate\ngen 82\nfObj1 {5.6410513: 2, 5.697333000000001: 2, 5.685053: 2, 5.660851299999999: 2, 5.769133: 2, 5.7731330000000005: 2, 5.738133: 3, 5.7651330000000005: 4, 5.7330513: 2, 5.776133: 2, 5.6049713: 2, 5.866550000000001: 2}\nfront22 Non Duplicate\nfront Non Duplicate\nnew_sol Non Duplicate\ngen 83\nfObj1 {5.710851299999999: 2, 5.738133: 3, 5.7330513: 2, 5.6848513: 2, 5.706333: 2, 5.8131330000000005: 2, 5.6410513: 2, 5.80055: 2, 5.776133: 2, 5.6500513: 2, 5.710333: 2, 5.7328513: 2}\nfront22 Non Duplicate\nfront Non Duplicate\nnew_sol Non Duplicate\ngen 84\nfObj1 {5.562571299999999: 2, 5.710851299999999: 2, 5.790933: 2, 5.710333: 2, 5.718053: 2, 5.738133: 3, 5.6410513: 2, 5.6580512999999995: 2, 5.6478513: 2, 5.8131330000000005: 2, 5.829133000000001: 2, 5.667051300000001: 2, 5.660851299999999: 2, 5.6848513: 2, 5.634051299999999: 2, 5.785933: 2, 5.760933: 2, 5.7330513: 2, 5.712051300000001: 2, 5.83355: 2, 5.6830513: 2, 5.747133000000002: 2}\nfront22 Non Duplicate\nfront Non Duplicate\nnew_sol Non Duplicate\ngen 85\nfObj1 {5.8131330000000005: 2, 5.6830513: 2, 5.760933: 2, 5.667051300000001: 2, 5.7330513: 2, 5.6478513: 2, 5.6410513: 2, 5.710851299999999: 2, 5.738133: 3, 5.8435500000000005: 2, 5.763133: 2, 5.562571299999999: 2, 5.801933: 2, 5.802933: 2, 5.737051300000001: 2, 5.6848513: 3, 5.699051300000001: 2, 5.604051300000001: 2, 5.6062513: 2, 5.790933: 3, 5.776932999999999: 2}\nfront22 Non Duplicate\nfront Non Duplicate\nnew_sol Non Duplicate\ngen 86\nfObj1 {5.6478513: 2, 5.766133: 3, 5.763133: 2, 5.6200513: 2, 5.796133: 2, 5.738133: 2, 5.7331330000000005: 2, 5.667051300000001: 2, 5.710851299999999: 2, 5.6848513: 2, 5.562571299999999: 2, 5.604051300000001: 2, 5.790933: 2, 5.6830513: 2, 5.5776513: 2, 5.6580512999999995: 2, 5.6938513: 2, 5.802133: 2, 5.776932999999999: 2, 5.6410513: 2, 5.6308513: 2, 5.700133000000001: 2, 5.8131330000000005: 2, 5.6740512999999995: 2, 5.85635: 2}\nfront22 Non Duplicate\nfront Non Duplicate\nnew_sol Non Duplicate\ngen 87\nfObj1 {5.790933: 2, 5.8131330000000005: 2, 5.710851299999999: 2, 5.760933: 2, 5.7331330000000005: 4, 5.7651330000000005: 2, 5.6740512999999995: 2, 5.604051300000001: 2, 5.7369330000000005: 2, 5.6938513: 2, 5.6478513: 2, 5.6200513: 2, 5.6830513: 2, 5.6302513: 2, 5.6848513: 2, 5.667051300000001: 2, 5.6410513: 2, 5.90955: 2, 5.774933000000001: 2, 5.763133: 2, 5.791132999999999: 2, 5.6308513: 2, 5.776932999999999: 2, 5.7238513: 2, 5.7148513: 2, 5.588971300000001: 2, 5.738133: 2, 5.660851299999999: 2, 5.796133: 2}\nfront22 Non Duplicate\nfront Non Duplicate\nnew_sol Non Duplicate\ngen 88\nfObj1 {5.738133: 2, 5.6938513: 2, 5.763133: 2, 5.6580512999999995: 2, 5.7499329999999995: 2, 5.6200513: 2, 5.6308513: 2, 5.6478513: 2, 5.790933: 2, 5.710851299999999: 2, 5.801933: 2, 5.6410513: 2, 5.760933: 2, 5.7238513: 2, 5.85635: 2, 5.766133: 2, 5.812133: 2, 5.6830513: 2, 5.8131330000000005: 2, 5.796133: 2, 5.802133: 2, 5.6848513: 2, 5.7331330000000005: 2, 5.785933: 2, 5.667051300000001: 2, 5.7369330000000005: 2, 5.784933: 2}\nfront22 Non Duplicate\nfront Non Duplicate\nnew_sol Non Duplicate\ngen 89\nfObj1 {5.667051300000001: 2, 5.6938513: 2, 5.6848513: 3, 5.6410513: 2, 5.812133: 3, 5.790933: 2, 5.7331330000000005: 2, 5.6830513: 2, 5.738133: 2, 5.710851299999999: 2, 5.6308513: 2, 5.796133: 2, 5.818133: 2, 5.700133000000001: 2, 5.6478513: 2, 5.6200513: 3, 5.803133: 2, 5.7238513: 2, 5.763133: 2, 5.604051300000001: 2, 5.6302513: 2}\nfront22 Non Duplicate\nfront Non Duplicate\nnew_sol Non Duplicate\ngen 90\nfObj1 {5.6308513: 2, 5.6848513: 3, 5.790933: 2, 5.7331330000000005: 2, 5.667051300000001: 2, 5.6938513: 2, 5.796133: 2, 5.6410513: 2, 5.7238513: 2, 5.776932999999999: 2, 5.8131330000000005: 2, 5.763133: 2, 5.6200513: 2, 5.6830513: 2, 5.803133: 2, 5.760933: 2, 5.864349999999999: 2, 5.6478513: 2, 5.6740512999999995: 2, 5.604051300000001: 2, 5.812133: 2, 5.85355: 2}\nfront22 Non Duplicate\nfront Non Duplicate\nnew_sol Non Duplicate\ngen 91\nfObj1 {5.7238513: 2, 5.763133: 3, 5.760933: 2, 5.790933: 2, 5.667051300000001: 2, 5.803133: 2, 5.6938513: 2, 5.604051300000001: 2, 5.6478513: 2, 5.796133: 2, 5.812133: 2, 5.801933: 2, 5.6580512999999995: 2, 5.88855: 2, 5.816133: 2, 5.710851299999999: 2, 5.6410513: 2, 5.7331330000000005: 2, 5.660851299999999: 2, 5.6848513: 2, 5.6830513: 2, 5.828932999999999: 2, 5.766133: 2, 5.864349999999999: 2, 5.6200513: 2, 5.855550000000001: 2}\nfront22 Non Duplicate\nfront Non Duplicate\nnew_sol Non Duplicate\ngen 92\nfObj1 {5.667051300000001: 2, 5.738133: 2, 5.6200513: 3, 5.710851299999999: 2, 5.6410513: 2, 5.816133: 2, 5.6830513: 2, 5.6848513: 2, 5.6478513: 2, 5.90455: 2, 5.7238513: 2, 5.6938513: 2, 5.803133: 2, 5.796133: 2, 5.8779330000000005: 2, 5.802133: 2, 5.6308513: 2, 5.7160513: 2, 5.801933: 2, 5.864349999999999: 2, 5.790933: 3, 5.8131330000000005: 2, 5.724132999999999: 2, 5.716133: 2, 5.6580512999999995: 2, 5.604051300000001: 2}\nfront22 Non Duplicate\nfront Non Duplicate\nnew_sol Non Duplicate\ngen 93\nfObj1 {5.7238513: 2, 5.6308513: 2, 5.737051300000001: 2, 5.8779330000000005: 2, 5.7651330000000005: 2, 5.90455: 2, 5.6580512999999995: 2, 5.6200513: 3, 5.667051300000001: 2, 5.8131330000000005: 2, 5.738133: 2, 5.784933: 2, 5.776932999999999: 2, 5.803133: 2, 5.816133: 2, 5.6410513: 2, 5.86655: 2, 5.810933: 2, 5.700133000000001: 2, 5.801933: 2, 5.790933: 2, 5.6830513: 2, 5.7638513: 2, 5.6938513: 2, 5.7331330000000005: 3, 5.6478513: 2, 5.660851299999999: 2, 5.738932999999999: 2, 5.796133: 2, 5.604051300000001: 2, 5.760933: 2, 5.6848513: 3, 5.864349999999999: 2, 5.6740512999999995: 2, 5.812133: 2, 5.861549999999999: 2, 5.679051300000001: 2, 5.764933000000001: 2}\nfront22 Non Duplicate\nfront Non Duplicate\nnew_sol Non Duplicate\ngen 94\nfObj1 {5.6580512999999995: 2, 5.667051300000001: 2, 5.839933000000001: 2, 5.796133: 2, 5.784933: 2, 5.816133: 2, 5.6478513: 2, 5.6830513: 2, 5.803133: 2, 5.790933: 2, 5.864349999999999: 2, 5.6410513: 2, 5.812133: 2, 5.760933: 2, 5.736133: 2, 5.6200513: 3, 5.6848513: 2, 5.738133: 2, 5.92055: 2, 5.801933: 2, 5.763133: 2, 5.6740512999999995: 2, 5.776932999999999: 2, 5.775133: 2, 5.810933: 2, 5.7331330000000005: 2, 5.828932999999999: 2, 5.759333000000001: 2}\nfront22 Non Duplicate\nfront Non Duplicate\nnew_sol Non Duplicate\ngen 95\nfObj1 {5.796133: 3, 5.810933: 2, 5.90235: 2, 5.6478513: 2, 5.816133: 2, 5.790933: 2, 5.6410513: 2, 5.710851299999999: 3, 5.6848513: 2, 5.604051300000001: 2, 5.92055: 2, 5.760933: 2, 5.7331330000000005: 3, 5.8557500000000005: 2, 5.803133: 2, 5.763133: 2, 5.6200513: 2, 5.6830513: 2, 5.738133: 2, 5.737133: 2, 5.7238513: 2, 5.861133: 2, 5.756933: 2, 5.7369330000000005: 2, 5.6740512999999995: 2}\nfront22 Non Duplicate\nfront Non Duplicate\nnew_sol Non Duplicate\ngen 96\nfObj1 {5.763133: 2, 5.6200513: 3, 5.6740512999999995: 2, 5.6478513: 2, 5.861133: 2, 5.803133: 2, 5.6410513: 2, 5.6938513: 2, 5.8131330000000005: 3, 5.790933: 2, 5.812133: 3, 5.85855: 2, 5.6580512999999995: 2, 5.822933000000001: 2, 5.738133: 2, 5.6830513: 2, 5.6848513: 3, 5.819933000000001: 2, 5.90235: 2, 5.865133000000001: 2, 5.6308513: 2, 5.783133: 2, 5.90455: 2, 5.760933: 2}\nfront22 Non Duplicate\nfront Non Duplicate\nnew_sol Non Duplicate\ngen 97\nfObj1 {5.790933: 2, 5.6848513: 2, 5.812133: 2, 5.6740512999999995: 2, 5.8098513: 2, 5.810933: 2, 5.801933: 2, 5.90455: 2, 5.6478513: 2, 5.802133: 2, 5.738133: 2, 5.816133: 2, 5.865133000000001: 2, 5.803133: 2, 5.6580512999999995: 2, 5.8131330000000005: 3, 5.6410513: 2, 5.783133: 2, 5.850549999999999: 2, 5.796133: 2, 5.6830513: 2, 5.6200513: 2, 5.763133: 2}\nfront22 Non Duplicate\nfront Non Duplicate\nnew_sol Non Duplicate\ngen 98\nfObj1 {5.6830513: 2, 5.790933: 2, 5.812133: 2, 5.783133: 2, 5.716133: 2, 5.90455: 2, 5.810933: 2, 5.6200513: 2, 5.6848513: 2, 5.6478513: 2, 5.738133: 2, 5.6938513: 2, 5.803133: 2, 5.710851299999999: 2, 5.796133: 2, 5.865133000000001: 2, 5.850933: 2, 5.759333000000001: 2, 5.6302513: 2, 5.8131330000000005: 2, 5.763133: 2, 5.801933: 2, 5.760933: 2, 5.766133: 2, 5.7369330000000005: 2, 5.881133: 2}\nfront22 Non Duplicate\nfront Non Duplicate\nnew_sol Non Duplicate\ngen 99\nfObj1 {5.760933: 2, 5.803133: 2, 5.812133: 4, 5.810933: 2, 5.6830513: 2, 5.710333: 2, 5.737133: 2, 5.790933: 2, 5.783133: 2, 5.801933: 3, 5.7651330000000005: 2, 5.816133: 2, 5.6848513: 2, 5.6478513: 2, 5.7238513: 2, 5.832133: 2, 5.881133: 2, 5.796133: 2, 5.710851299999999: 2, 5.6580512999999995: 2, 5.822933000000001: 2, 5.6410513: 2, 5.766133: 2, 5.667051300000001: 2, 5.6938513: 2, 5.7861329999999995: 2, 5.865133000000001: 2, 5.721051299999999: 2}\nfront22 Non Duplicate\nfront Non Duplicate\nnew_sol Non Duplicate\ngen 100\nfObj1 {5.6830513: 2, 5.6938513: 2, 5.7238513: 2, 5.6848513: 2, 5.810933: 2, 5.667051300000001: 2, 5.784933: 2, 5.783133: 2, 5.6410513: 2, 5.812133: 2, 5.6200513: 2, 5.790933: 2, 5.660851299999999: 2, 5.803133: 2, 5.6740512999999995: 2, 5.763133: 2, 5.6308513: 2, 5.6302513: 2, 5.710851299999999: 3, 5.865133000000001: 2, 5.6478513: 2, 5.822933000000001: 2, 5.764933: 2, 5.796133: 2, 5.7898513000000005: 2, 5.766133: 2, 5.881133: 2}\nfront22 Non Duplicate\nfront Non Duplicate\nnew_sol Non Duplicate\ngen 101\nfObj1 {5.710851299999999: 2, 5.881133: 2, 5.6410513: 2, 5.810933: 2, 5.6308513: 2, 5.790933: 2, 5.91935: 2, 5.796133: 2, 5.760933: 2, 5.783133: 2, 5.667051300000001: 2, 5.6200513: 2, 5.6848513: 2, 5.763133: 2, 5.832133: 2, 5.784933: 2, 5.812133: 2, 5.6830513: 2, 5.801933: 2, 5.823133: 2, 5.7238513: 2, 5.766133: 2, 5.764933: 2, 5.822933000000001: 2, 5.795133000000001: 2, 5.6938513: 2}\nfront22 Non Duplicate\nfront Non Duplicate\nnew_sol Non Duplicate\ngen 102\nfObj1 {5.8767499999999995: 2, 5.710851299999999: 2, 5.6580512999999995: 2, 5.790933: 2, 5.7331330000000005: 2, 5.6848513: 2, 5.6938513: 2, 5.6830513: 2, 5.6200513: 2, 5.812133: 3, 5.823133: 2, 5.8219330000000005: 2, 5.783133: 2, 5.810933: 2, 5.667051300000001: 2, 5.763133: 2, 5.7238513: 2, 5.784933: 2, 5.91935: 2, 5.6410513: 2, 5.796133: 2, 5.7369330000000005: 2, 5.710333: 2, 5.766133: 2}\nfront22 Non Duplicate\nfront Non Duplicate\nnew_sol Non Duplicate\ngen 103\nfObj1 {5.812133: 2, 5.796133: 2, 5.784933: 2, 5.667051300000001: 2, 5.7853330000000005: 2, 5.783133: 2, 5.775133: 2, 5.6830513: 2, 5.6848513: 2, 5.763133: 2, 5.7331330000000005: 2, 5.730851299999999: 2, 5.790933: 2, 5.8131330000000005: 2, 5.6938513: 2, 5.7238513: 2, 5.801933: 2, 5.6200513: 2, 5.803133: 2, 5.710851299999999: 2, 5.6308513: 2, 5.6302513: 2, 5.6410513: 2, 5.738133: 2, 5.91935: 2, 5.810933: 2, 5.8219330000000005: 2, 5.7369330000000005: 2}\nfront22 Non Duplicate\nfront Non Duplicate\nnew_sol Non Duplicate\ngen 104\nfObj1 {5.810933: 2, 5.6938513: 2, 5.6302513: 2, 5.7331330000000005: 2, 5.7238513: 2, 5.790933: 2, 5.763133: 2, 5.822933000000001: 2, 5.783133: 2, 5.667051300000001: 3, 5.6848513: 2, 5.91935: 2, 5.6740512999999995: 2, 5.710851299999999: 2, 5.7598513: 2, 5.6830513: 2, 5.760933: 2, 5.730851299999999: 2, 5.728133000000001: 2, 5.6200513: 2, 5.812133: 2, 5.796133: 2, 5.8098513: 2, 5.802933: 2, 5.721851300000001: 2, 5.6580512999999995: 2}\nfront22 Non Duplicate\nfront Non Duplicate\nnew_sol Non Duplicate\ngen 105\nfObj1 {5.6830513: 2, 5.6938513: 2, 5.6200513: 3, 5.7238513: 2, 5.783133: 2, 5.7331330000000005: 2, 5.710851299999999: 2, 5.812133: 2, 5.7438513: 2, 5.667051300000001: 2, 5.790933: 2, 5.6848513: 2, 5.6308513: 2, 5.604051300000001: 2, 5.810933: 2, 5.803133: 2, 5.730851299999999: 2, 5.796133: 2, 5.763133: 2, 5.6580512999999995: 2, 5.660851299999999: 2, 5.784933: 2, 5.764933: 2, 5.756933: 2, 5.91935: 2, 5.6740512999999995: 2}\nfront22 Non Duplicate\nfront Non Duplicate\nnew_sol Non Duplicate\ngen 106\nfObj1 {5.784933: 3, 5.7238513: 2, 5.790933: 2, 5.812133: 2, 5.604051300000001: 2, 5.6848513: 2, 5.7853330000000005: 2, 5.763133: 2, 5.803133: 3, 5.760933: 2, 5.810933: 2, 5.91935: 2, 5.730851299999999: 2, 5.783133: 2, 5.8219330000000005: 2, 5.710851299999999: 2, 5.667051300000001: 2, 5.796133: 2, 5.6830513: 2, 5.8131330000000005: 2, 5.829133: 2}\nfront22 Non Duplicate\nfront Non Duplicate\nnew_sol Non Duplicate\ngen 107\nfObj1 {5.783133: 2, 5.810933: 2, 5.803133: 2, 5.90855: 2, 5.790933: 2, 5.730851299999999: 2, 5.6410513: 2, 5.760933: 2, 5.775133: 3, 5.710851299999999: 2, 5.667051300000001: 2, 5.796133: 2, 5.805333000000001: 2, 5.6200513: 2, 5.604051300000001: 2, 5.845933: 2, 5.763133: 2, 5.822933000000001: 2, 5.6740512999999995: 2, 5.6848513: 2, 5.6830513: 2, 5.7369330000000005: 2, 5.91935: 2, 5.743932999999999: 2, 5.816133: 2, 5.7238513: 2, 5.7598513: 2}\nfront22 Non Duplicate\nfront Non Duplicate\nnew_sol Non Duplicate\ngen 108\nfObj1 {5.6200513: 2, 5.796133: 2, 5.763133: 2, 5.710851299999999: 2, 5.810933: 2, 5.784933: 3, 5.7238513: 2, 5.6848513: 2, 5.822933000000001: 2, 5.738133: 2, 5.790933: 2, 5.6410513: 2, 5.6830513: 2, 5.764933: 2, 5.667051300000001: 2, 5.756933: 2, 5.760933: 2, 5.812133: 2, 5.6740512999999995: 2, 5.604051300000001: 2, 5.773468299999999: 2, 5.7048513000000005: 2, 5.770133: 2, 5.723933: 2, 5.7853330000000005: 2, 5.775133: 2, 5.8432683: 2, 5.730851299999999: 2}\nfront22 Non Duplicate\nfront Non Duplicate\nnew_sol Non Duplicate\ngen 109\nfObj1 {5.6830513: 2, 5.6848513: 2, 5.783133: 2, 5.710851299999999: 2, 5.604051300000001: 2, 5.810933: 2, 5.816133: 2, 5.6938513: 2, 5.790933: 2, 5.766133: 2, 5.760933: 2, 5.6410513: 2, 5.667051300000001: 2, 5.723933: 2, 5.6200513: 2, 5.734132999999999: 2, 5.796133: 2, 5.7238513: 2, 5.730851299999999: 2, 5.822933000000001: 2, 5.7331330000000005: 2, 5.791132999999999: 2, 5.812133: 2, 5.706333: 2}\nfront22 Non Duplicate\nfront Non Duplicate\nnew_sol Non Duplicate\ngen 110\nfObj1 {5.810933: 2, 5.784933: 3, 5.6938513: 2, 5.6200513: 2, 5.6740512999999995: 2, 5.8189329999999995: 2, 5.791132999999999: 2, 5.790933: 2, 5.803133: 2, 5.796133: 2, 5.667051300000001: 2, 5.812133: 2, 5.710851299999999: 2, 5.6410513: 2, 5.8131330000000005: 2, 5.6830513: 2, 5.783133: 2, 5.865933: 2, 5.822933000000001: 2, 5.660851299999999: 2, 5.722851299999999: 2, 5.734132999999999: 2, 5.706333: 2, 5.730851299999999: 2, 5.7331330000000005: 2, 5.7238513: 2, 5.6848513: 2}\nfront22 Non Duplicate\nfront Non Duplicate\nnew_sol Non Duplicate\ngen 111\nfObj1 {5.667051300000001: 2, 5.822933000000001: 2, 5.7331330000000005: 2, 5.6938513: 2, 5.734132999999999: 2, 5.812133: 2, 5.6410513: 2, 5.710851299999999: 2, 5.7598513: 2, 5.6302513: 2, 5.6830513: 2, 5.6740512999999995: 2, 5.790933: 2, 5.803133: 2, 5.774132999999999: 2, 5.783133: 2, 5.6848513: 2, 5.760933: 2, 5.764933000000001: 2, 5.833133: 2, 5.796133: 2, 5.784933: 2}\nfront22 Non Duplicate\nfront Non Duplicate\nnew_sol Non Duplicate\ngen 112\nfObj1 {5.796133: 2, 5.6938513: 2, 5.783133: 2, 5.90855: 2, 5.7331330000000005: 2, 5.803133: 2, 5.6410513: 2, 5.7238513: 2, 5.6302513: 2, 5.6870513: 2, 5.822933000000001: 3, 5.710851299999999: 2, 5.667051300000001: 2, 5.810933: 2, 5.790933: 2, 5.760933: 3, 5.6848513: 2, 5.763133: 2, 5.6830513: 2, 5.6978513: 2, 5.812133: 2}\nfront22 Non Duplicate\nfront Non Duplicate\nnew_sol Non Duplicate\ngen 113\nfObj1 {5.7238513: 2, 5.6308513: 2, 5.730851299999999: 2, 5.790933: 2, 5.783133: 2, 5.710851299999999: 2, 5.8131330000000005: 2, 5.822933000000001: 2, 5.723933: 2, 5.780933: 2, 5.760933: 2, 5.8104683: 2, 5.6848513: 2, 5.763133: 2, 5.6410513: 2, 5.7331330000000005: 2, 5.6938513: 2, 5.6830513: 2, 5.6870513: 2, 5.83875: 2}\nfront22 Non Duplicate\nfront Non Duplicate\nnew_sol Non Duplicate\ngen 114\nfObj1 {5.723933: 2, 5.801933: 2, 5.710851299999999: 2, 5.763133: 2, 5.760933: 3, 5.7331330000000005: 2, 5.790933: 2, 5.7651330000000005: 2, 5.6848513: 2, 5.6830513: 2, 5.784933: 3, 5.783133: 2, 5.780933: 2, 5.660851299999999: 2, 5.6870513: 2, 5.822933000000001: 2, 5.6938513: 2, 5.7369330000000005: 2, 5.7898513000000005: 2, 5.6410513: 2, 5.810933: 2}\nfront22 Non Duplicate\nfront Non Duplicate\nnew_sol Non Duplicate\ngen 115\nfObj1 {5.706333: 2, 5.810933: 2, 5.803133: 2, 5.6830513: 2, 5.6938513: 2, 5.8219330000000005: 2, 5.6848513: 3, 5.7331330000000005: 2, 5.783133: 2, 5.660851299999999: 2, 5.710851299999999: 2, 5.6978513: 2, 5.780933: 2, 5.6740512999999995: 2, 5.763133: 2, 5.784933: 2, 5.6410513: 2, 5.822933000000001: 2, 5.91935: 2, 5.6870513: 2, 5.8131330000000005: 2, 5.723933: 2, 5.667051300000001: 2, 5.790933: 2, 5.812133: 2, 5.832133: 2, 5.7238513: 2}\nfront22 Non Duplicate\nfront Non Duplicate\nnew_sol Non Duplicate\ngen 116\nfObj1 {5.6848513: 2, 5.710851299999999: 2, 5.7238513: 2, 5.6830513: 2, 5.812133: 2, 5.7728513: 3, 5.828932999999999: 3, 5.6870513: 2, 5.6478513: 2, 5.763133: 2, 5.780933: 2, 5.790933: 2, 5.7638513: 2, 5.8131330000000005: 2, 5.796133: 2, 5.852468300000001: 2, 5.6978513: 2, 5.667051300000001: 2, 5.91935: 2, 5.6410513: 2, 5.660851299999999: 2, 5.6938513: 2, 5.810933: 2, 5.723933: 2, 5.6580512999999995: 2, 5.7331330000000005: 2}\nfront22 Non Duplicate\nfront Non Duplicate\nnew_sol Non Duplicate\ngen 117\nfObj1 {5.6978513: 2, 5.6478513: 2, 5.6870513: 2, 5.91935: 2, 5.796932999999999: 2, 5.6938513: 2, 5.723933: 2, 5.710851299999999: 2, 5.764933000000001: 2, 5.763133: 2, 5.6740512999999995: 2, 5.812133: 2, 5.6830513: 2, 5.803133: 2, 5.667051300000001: 2, 5.810933: 2, 5.85635: 2, 5.780933: 2, 5.784933: 2, 5.790933: 2, 5.760933: 2, 5.7331330000000005: 2, 5.7238513: 2, 5.796133: 2, 5.737133: 3}\nfront22 Non Duplicate\nfront Non Duplicate\nnew_sol Non Duplicate\ngen 118\nfObj1 {5.660851299999999: 2, 5.780933: 2, 5.737133: 2, 5.723933: 2, 5.91355: 2, 5.667051300000001: 2, 5.730851299999999: 2, 5.811933: 2, 5.6580512999999995: 2, 5.6830513: 2, 5.790933: 2, 5.812133: 2, 5.822933000000001: 2, 5.774132999999999: 2, 5.803133: 2, 5.710333: 2, 5.6740512999999995: 2, 5.801933: 2, 5.7331330000000005: 2, 5.763133: 2, 5.816133: 2, 5.783133: 2, 5.810933: 2, 5.7238513: 2, 5.700133000000001: 2, 5.7853330000000005: 2, 5.6848513: 2, 5.710851299999999: 2, 5.6410513: 2, 5.722851299999999: 2, 5.802933: 2}\nfront22 Non Duplicate\nfront Non Duplicate\nnew_sol Non Duplicate\ngen 119\nfObj1 {5.790933: 2, 5.7138513: 2, 5.783133: 2, 5.710851299999999: 2, 5.6740512999999995: 2, 5.667051300000001: 2, 5.7238513: 2, 5.730851299999999: 2, 5.812133: 2, 5.7331330000000005: 2, 5.760933: 2, 5.7369330000000005: 2, 5.810933: 2, 5.803133: 2, 5.763133: 2, 5.6848513: 2, 5.6830513: 2, 5.6410513: 2, 5.796133: 2, 5.822933000000001: 3, 5.6938513: 2}\nfront22 Non Duplicate\nfront Non Duplicate\nnew_sol Non Duplicate\ngen 120\nfObj1 {5.6938513: 2, 5.803133: 2, 5.6410513: 2, 5.812133: 2, 5.763133: 2, 5.6848513: 2, 5.775133: 2, 5.6830513: 2, 5.730851299999999: 2, 5.7331330000000005: 3, 5.91935: 2, 5.790933: 2, 5.780933: 2, 5.760933: 3, 5.810933: 2, 5.822933000000001: 2, 5.784933: 2, 5.783133: 2, 5.6580512999999995: 2, 5.667051300000001: 2, 5.710851299999999: 2, 5.816133: 2, 5.706933: 2}\nfront22 Non Duplicate\nfront Non Duplicate\nnew_sol Non Duplicate\ngen 121\nfObj1 {5.780933: 2, 5.730851299999999: 2, 5.667051300000001: 2, 5.710851299999999: 2, 5.790933: 2, 5.91935: 2, 5.783133: 2, 5.6830513: 2, 5.6410513: 2, 5.703051299999999: 2, 5.7598513: 2, 5.6848513: 2, 5.816133: 2, 5.810933: 2, 5.8763499999999995: 2, 5.822933000000001: 2, 5.763133: 2, 5.812133: 2, 5.7238513: 2, 5.760933: 2, 5.784933: 3, 5.7898513000000005: 2, 5.6478513: 2, 5.753133: 2, 5.832133: 2}\nfront22 Non Duplicate\nfront Non Duplicate\nnew_sol Non Duplicate\ngen 122\nfObj1 {5.770133: 2, 5.760933: 2, 5.783133: 2, 5.6978513: 2, 5.790933: 2, 5.812133: 2, 5.6830513: 2, 5.8763499999999995: 2, 5.816133: 2, 5.775933: 2, 5.710851299999999: 2, 5.780933: 2, 5.723933: 2, 5.6410513: 2, 5.7238513: 2, 5.763133: 2, 5.6478513: 2, 5.721851300000001: 2, 5.6848513: 2, 5.6938513: 2, 5.6801330000000005: 2, 5.796133: 2, 5.775133: 2, 5.810933: 2, 5.7331330000000005: 2, 5.753133: 2, 5.832133: 2, 5.822933000000001: 2, 5.730851299999999: 2, 5.91935: 2, 5.785933: 2, 5.7898513000000005: 2}\nfront22 Non Duplicate\nfront Non Duplicate\nnew_sol Non Duplicate\ngen 123\nfObj1 {5.723933: 2, 5.7331330000000005: 2, 5.7238513: 2, 5.796133: 2, 5.774132999999999: 2, 5.775133: 2, 5.784933: 2, 5.696133: 2, 5.6938513: 2, 5.91935: 2, 5.710851299999999: 2, 5.6978513: 2, 5.6478513: 2, 5.810933: 2, 5.6740512999999995: 2, 5.816133: 2, 5.790933: 2, 5.763133: 2, 5.822933000000001: 2, 5.730851299999999: 2, 5.780933: 2, 5.6830513: 2, 5.776932999999999: 2, 5.8763499999999995: 2, 5.803133: 2, 5.783133: 2, 5.760933: 2, 5.6848513: 2, 5.6302513: 2, 5.8219330000000005: 2}\nfront22 Non Duplicate\nfront Non Duplicate\nnew_sol Non Duplicate\ngen 124\nfObj1 {5.790933: 2, 5.776932999999999: 2, 5.730851299999999: 2, 5.803133: 2, 5.6938513: 2, 5.6978513: 2, 5.810933: 2, 5.6478513: 2, 5.763133: 2, 5.710851299999999: 2, 5.6410513: 2, 5.6848513: 2, 5.723933: 2, 5.750133000000001: 2, 5.6830513: 2, 5.703051299999999: 2, 5.780933: 2, 5.6200513: 2, 5.737133: 2, 5.822933000000001: 2, 5.91355: 2, 5.784933: 3, 5.785933: 2, 5.832133: 2, 5.667051300000001: 2, 5.783133: 2, 5.91935: 2, 5.7331330000000005: 2, 5.722851299999999: 2, 5.604051300000001: 2, 5.6870513: 2, 5.773468299999999: 2}\nfront22 Non Duplicate\nfront Non Duplicate\nnew_sol Non Duplicate\ngen 125\nfObj1 {5.783133: 2, 5.730851299999999: 2, 5.703051299999999: 2, 5.803133: 2, 5.667051300000001: 2, 5.810933: 2, 5.6848513: 2, 5.710851299999999: 2, 5.780933: 2, 5.7331330000000005: 2, 5.91935: 2, 5.822933000000001: 2, 5.865933: 2, 5.8131330000000005: 2, 5.6478513: 2, 5.604051300000001: 2, 5.710333: 2, 5.738133: 2, 5.790933: 2, 5.6978513: 2, 5.6938513: 2, 5.6830513: 2, 5.763133: 2, 5.8557500000000005: 2, 5.760933: 2, 5.723933: 2, 5.6308513: 2, 5.865550000000001: 2}\nfront22 Non Duplicate\nfront Non Duplicate\nnew_sol Non Duplicate\ngen 126\nfObj1 {5.710851299999999: 2, 5.803133: 2, 5.784933: 2, 5.7598513: 2, 5.763133: 2, 5.91935: 2, 5.810933: 2, 5.6978513: 2, 5.6830513: 2, 5.8131330000000005: 2, 5.730851299999999: 2, 5.667051300000001: 2, 5.90855: 2, 5.604051300000001: 2, 5.6308513: 2, 5.703051299999999: 2, 5.790933: 2, 5.737133: 3, 5.6938513: 2, 5.796133: 2, 5.6848513: 2, 5.6478513: 2, 5.6940513: 2, 5.723933: 2, 5.785933: 2, 5.734132999999999: 2, 5.780933: 2, 5.822933000000001: 2, 5.6410513: 2, 5.812133: 2, 5.753051299999999: 2, 5.760933: 2, 5.6502513: 2}\nfront22 Non Duplicate\nfront Non Duplicate\nnew_sol Non Duplicate\ngen 127\nfObj1 {5.6848513: 2, 5.667051300000001: 2, 5.790933: 2, 5.803133: 2, 5.833133: 2, 5.796133: 2, 5.763133: 2, 5.703051299999999: 2, 5.6580512999999995: 2, 5.822933000000001: 2, 5.6938513: 2, 5.810933: 2, 5.91935: 2, 5.722851299999999: 2, 5.812133: 2, 5.6478513: 2, 5.604051300000001: 2, 5.6940513: 2, 5.90855: 2, 5.780933: 2, 5.6308513: 2, 5.710851299999999: 2, 5.6830513: 2, 5.8632683: 2, 5.6410513: 2, 5.760933: 2, 5.784933: 2, 5.6870513: 2, 5.723933: 2, 5.730851299999999: 2, 5.737133: 2, 5.753133: 2, 5.6978513: 2}\nfront22 Non Duplicate\nfront Non Duplicate\nnew_sol Non Duplicate\ngen 128\nfObj1 {5.604051300000001: 2, 5.865933: 2, 5.780933: 2, 5.6940513: 2, 5.6870513: 4, 5.810933: 2, 5.6580512999999995: 2, 5.796133: 2, 5.676851300000001: 2, 5.784933: 2, 5.91935: 2, 5.6478513: 2, 5.822933000000001: 2, 5.833133: 2, 5.667051300000001: 2, 5.812133: 2, 5.6938513: 2, 5.6848513: 2, 5.760933: 2, 5.6308513: 2, 5.734132999999999: 2, 5.723933: 2, 5.790933: 2, 5.730851299999999: 2, 5.7331330000000005: 3, 5.6830513: 2, 5.803133: 2, 5.90855: 2, 5.743932999999999: 2, 5.737133: 2, 5.763133: 2, 5.7638513: 2, 5.6200513: 2, 5.7428513: 2, 5.6410513: 2, 5.703051299999999: 2}\nfront22 Non Duplicate\nfront Non Duplicate\nnew_sol Non Duplicate\ngen 129\nfObj1 {5.730851299999999: 2, 5.7638513: 2, 5.812133: 2, 5.710851299999999: 2, 5.780933: 2, 5.6478513: 2, 5.723933: 2, 5.6870513: 2, 5.660851299999999: 2, 5.6830513: 2, 5.760933: 2, 5.6938513: 2, 5.790933: 2, 5.803133: 2, 5.7598513: 2, 5.7331330000000005: 2, 5.6848513: 2, 5.6978513: 2, 5.775133: 2, 5.6400513: 2, 5.737133: 2, 5.810933: 2, 5.796133: 2, 5.6410513: 2, 5.763133: 2, 5.782133: 2, 5.667051300000001: 2, 5.823133: 2, 5.6308513: 2, 5.703051299999999: 2, 5.710933: 2, 5.7238513: 2}\nfront22 Non Duplicate\nfront Non Duplicate\nnew_sol Non Duplicate\ngen 130\nfObj1 {5.6978513: 2, 5.734132999999999: 2, 5.6410513: 2, 5.822933000000001: 2, 5.790933: 2, 5.810933: 2, 5.829133000000001: 2, 5.88255: 2, 5.763133: 2, 5.899349999999999: 2, 5.710851299999999: 2, 5.783133: 2, 5.6938513: 2, 5.6940513: 2, 5.7238513: 2, 5.7331330000000005: 2, 5.6848513: 2, 5.6308513: 2, 5.6870513: 2, 5.780933: 2, 5.796133: 2, 5.6830513: 2, 5.760933: 2, 5.667051300000001: 2, 5.775133: 2, 5.803133: 2, 5.6740512999999995: 2, 5.812133: 2, 5.90855: 2, 5.730851299999999: 2, 5.823133: 2}\nfront22 Non Duplicate\nfront Non Duplicate\nnew_sol Non Duplicate\ngen 131\nfObj1 {5.760933: 2, 5.734132999999999: 2, 5.783133: 2, 5.7331330000000005: 2, 5.763133: 2, 5.667051300000001: 2, 5.6938513: 2, 5.823133: 2, 5.703051299999999: 2, 5.6830513: 2, 5.812133: 2, 5.7238513: 2, 5.6308513: 2, 5.803133: 2, 5.726933: 2, 5.6848513: 2, 5.730851299999999: 2, 5.6978513: 2, 5.796133: 2, 5.710851299999999: 2, 5.90855: 2, 5.6870513: 4, 5.6740512999999995: 2, 5.6940513: 2, 5.810933: 2, 5.790933: 2, 5.756933: 2, 5.780933: 2, 5.7598513: 2}\nfront22 Non Duplicate\nfront Non Duplicate\nnew_sol Non Duplicate\ngen 132\nfObj1 {5.780933: 2, 5.812133: 2, 5.784933: 3, 5.790933: 2, 5.823133: 2, 5.6870513: 2, 5.6848513: 2, 5.730851299999999: 2, 5.810933: 2, 5.710851299999999: 2, 5.7331330000000005: 2, 5.6940513: 2, 5.8131330000000005: 2, 5.803133: 2, 5.783133: 2, 5.91935: 2, 5.6978513: 2, 5.7238513: 2, 5.753133: 2, 5.6938513: 2, 5.802133: 2, 5.775133: 2, 5.703051299999999: 2, 5.796133: 2, 5.7369330000000005: 2, 5.6830513: 2, 5.805333000000001: 2, 5.88855: 2, 5.776932999999999: 2, 5.899349999999999: 2, 5.760933: 2}\nfront22 Non Duplicate\nfront Non Duplicate\nnew_sol Non Duplicate\ngen 133\nfObj1 {5.703051299999999: 2, 5.750133000000001: 2, 5.6938513: 2, 5.816133: 2, 5.91935: 2, 5.706333: 2, 5.90855: 2, 5.6740512999999995: 2, 5.706933: 2, 5.6940513: 2, 5.810933: 2, 5.6830513: 2, 5.6978513: 2, 5.7331330000000005: 2, 5.899349999999999: 2, 5.803133: 2, 5.796133: 2, 5.7238513: 2, 5.730851299999999: 2, 5.812133: 2, 5.6478513: 2, 5.763133: 2, 5.7369330000000005: 2, 5.790933: 2, 5.6400513: 2, 5.802133: 2, 5.760933: 2}\nfront22 Non Duplicate\nfront Non Duplicate\nnew_sol Non Duplicate\ngen 134\nfObj1 {5.7238513: 2, 5.6740512999999995: 2, 5.776932999999999: 2, 5.6940513: 2, 5.790933: 2, 5.783133: 2, 5.6938513: 2, 5.763133: 2, 5.766133: 2, 5.6848513: 2, 5.6830513: 2, 5.796133: 2, 5.6478513: 2, 5.730851299999999: 2, 5.90855: 2, 5.803133: 2, 5.710333: 2, 5.710851299999999: 2, 5.760933: 2, 5.750133000000001: 2, 5.7331330000000005: 2, 5.7598513: 2, 5.7438513: 2, 5.810933: 2, 5.812133: 2, 5.6870513: 3, 5.7638513: 2}\nfront22 Non Duplicate\nfront Non Duplicate\nnew_sol Non Duplicate\ngen 135\nfObj1 {5.6830513: 2, 5.810933: 2, 5.790933: 2, 5.766133: 2, 5.6308513: 2, 5.6848513: 2, 5.6938513: 2, 5.763133: 2, 5.812133: 2, 5.6870513: 2, 5.7238513: 2, 5.730851299999999: 2, 5.760933: 2, 5.6478513: 2, 5.7438513: 2, 5.660851299999999: 2, 5.796133: 2, 5.832133: 2, 5.803133: 2, 5.6940513: 2, 5.90855: 2, 5.7331330000000005: 2, 5.734132999999999: 2}\nfront22 Non Duplicate\nfront Non Duplicate\nnew_sol Non Duplicate\ngen 136\nfObj1 {5.7238513: 2, 5.775133: 2, 5.763133: 2, 5.801133: 2, 5.90855: 2, 5.812133: 2, 5.790933: 2, 5.796133: 2, 5.730851299999999: 2, 5.759333000000001: 2, 5.760933: 2, 5.737051300000001: 2, 5.6940513: 2, 5.710851299999999: 2, 5.6478513: 2, 5.737133: 2, 5.7331330000000005: 3, 5.667051300000001: 2, 5.703051299999999: 2, 5.865550000000001: 2, 5.7050513: 2, 5.91935: 2, 5.816133: 2, 5.771133: 2}\nfront22 Non Duplicate\nfront Non Duplicate\nnew_sol Non Duplicate\ngen 137\nfObj1 {5.91935: 2, 5.703051299999999: 2, 5.760933: 2, 5.7331330000000005: 2, 5.790933: 2, 5.812133: 2, 5.796133: 2, 5.776932999999999: 2, 5.667051300000001: 2, 5.763133: 2, 5.6848513: 2, 5.6938513: 2, 5.737133: 3, 5.764933: 2, 5.660851299999999: 2, 5.6740512999999995: 2, 5.6940513: 2, 5.810933: 2, 5.90855: 2, 5.710851299999999: 2, 5.780933: 2, 5.7238513: 2, 5.6400513: 2}\nfront22 Non Duplicate\nfront Non Duplicate\nnew_sol Non Duplicate\ngen 138\nfObj1 {5.810933: 2, 5.730851299999999: 2, 5.7238513: 2, 5.710851299999999: 2, 5.737133: 2, 5.6938513: 2, 5.790933: 2, 5.796133: 2, 5.8131330000000005: 2, 5.6830513: 2, 5.6848513: 2, 5.763133: 2, 5.90855: 2, 5.667051300000001: 2, 5.738133: 2, 5.760933: 2, 5.706333: 2, 5.780933: 2, 5.801133: 2, 5.6740512999999995: 2, 5.812133: 2, 5.7598513: 2, 5.783133: 2}\nfront22 Non Duplicate\nfront Non Duplicate\nnew_sol Non Duplicate\ngen 139\nfObj1 {5.790933: 2, 5.667051300000001: 2, 5.6938513: 2, 5.763133: 2, 5.780933: 2, 5.810933: 2, 5.6410513: 2, 5.6848513: 2, 5.783133: 2, 5.812133: 2, 5.784933: 2, 5.6830513: 2, 5.710851299999999: 2, 5.803133: 2, 5.7238513: 2, 5.730851299999999: 2, 5.8131330000000005: 2, 5.776932999999999: 2, 5.731851300000001: 2, 5.6740512999999995: 2, 5.6870513: 2, 5.6940513: 2, 5.760933: 2, 5.90855: 2, 5.805333000000001: 2}\nfront22 Non Duplicate\nfront Non Duplicate\nnew_sol Non Duplicate\ngen 140\nfObj1 {5.6830513: 2, 5.763133: 2, 5.790933: 2, 5.730851299999999: 2, 5.737133: 3, 5.676851300000001: 2, 5.710851299999999: 2, 5.812133: 2, 5.7238513: 2, 5.6848513: 2, 5.6938513: 2, 5.6580512999999995: 2, 5.780933: 2, 5.810933: 2, 5.6410513: 2, 5.6870513: 2, 5.7369330000000005: 2, 5.783133: 2, 5.803133: 2, 5.760933: 2, 5.90855: 2, 5.805333000000001: 2, 5.776932999999999: 2, 5.796133: 2, 5.91935: 2}\nfront22 Non Duplicate\nfront Non Duplicate\nnew_sol Non Duplicate\ngen 141\nfObj1 {5.812133: 2, 5.6978513: 2, 5.91935: 2, 5.667051300000001: 2, 5.790933: 2, 5.775133: 2, 5.706333: 2, 5.703051299999999: 2, 5.6938513: 2, 5.8632683: 2, 5.710333: 2, 5.6410513: 2, 5.6830513: 2, 5.776932999999999: 2, 5.6740512999999995: 2, 5.6848513: 2, 5.796133: 2, 5.90855: 2, 5.6870513: 2, 5.780933: 2, 5.763133: 2, 5.7238513: 2, 5.810933: 2, 5.6478513: 2}\nfront22 Non Duplicate\nfront Non Duplicate\nnew_sol Non Duplicate\ngen 142\nfObj1 {5.6978513: 2, 5.710851299999999: 2, 5.780933: 2, 5.7238513: 2, 5.6848513: 2, 5.790933: 2, 5.783133: 2, 5.822933000000001: 2, 5.784933: 2, 5.703051299999999: 2, 5.810933: 2, 5.6938513: 2, 5.8632683: 2, 5.7853330000000005: 2, 5.7541329999999995: 2, 5.760933: 2, 5.6200513: 2, 5.6478513: 2, 5.6870513: 2, 5.6410513: 2, 5.6308513: 2, 5.764933: 2, 5.763133: 2, 5.660851299999999: 2, 5.7331330000000005: 2, 5.775133: 4, 5.730851299999999: 2}\nfront22 Non Duplicate\nfront Non Duplicate\nnew_sol Non Duplicate\ngen 143\nfObj1 {5.8632683: 2, 5.710851299999999: 2, 5.723933: 2, 5.7331330000000005: 2, 5.790933: 2, 5.763133: 2, 5.6830513: 2, 5.6410513: 2, 5.6870513: 3, 5.796133: 2, 5.91935: 2, 5.6938513: 2, 5.660851299999999: 2, 5.784933: 2, 5.6308513: 2, 5.810933: 2, 5.812133: 2, 5.6478513: 2, 5.6848513: 2, 5.783133: 2, 5.775133: 2, 5.730851299999999: 2, 5.780933: 2, 5.676851300000001: 2}\nfront22 Non Duplicate\nfront Non Duplicate\nnew_sol Non Duplicate\ngen 144\nfObj1 {5.8131330000000005: 2, 5.810933: 2, 5.6308513: 2, 5.91935: 2, 5.6938513: 2, 5.770133: 3, 5.710851299999999: 2, 5.783133: 2, 5.6848513: 2, 5.7929330000000006: 2, 5.760933: 2, 5.730933: 2, 5.6870513: 3, 5.6830513: 2, 5.775133: 2, 5.790933: 2, 5.791132999999999: 2, 5.676851300000001: 2, 5.796133: 2, 5.763133: 2, 5.812133: 2, 5.7238513: 2, 5.6478513: 2, 5.730851299999999: 2, 5.780933: 2, 5.796932999999999: 2, 5.803133: 2, 5.7331330000000005: 2, 5.6410513: 2, 5.784933: 2, 5.7942683: 2}\nfront22 Non Duplicate\nfront Non Duplicate\nnew_sol Non Duplicate\ngen 145\nfObj1 {5.710851299999999: 2, 5.760933: 2, 5.6410513: 2, 5.6830513: 2, 5.812133: 2, 5.6870513: 2, 5.803133: 2, 5.6848513: 2, 5.6580512999999995: 2, 5.7238513: 2, 5.604051300000001: 2, 5.763133: 2, 5.6938513: 2, 5.810933: 2, 5.7331330000000005: 2, 5.775133: 2, 5.783133: 2, 5.780933: 2, 5.770133: 2, 5.790933: 2, 5.91935: 2, 5.83355: 2, 5.730851299999999: 2, 5.667051300000001: 2, 5.796133: 2, 5.753133: 2, 5.660851299999999: 2, 5.796932999999999: 2, 5.766133: 2}\nfront22 Non Duplicate\nfront Non Duplicate\nnew_sol Non Duplicate\ngen 146\nfObj1 {5.7331330000000005: 2, 5.710851299999999: 2, 5.6978513: 2, 5.6848513: 2, 5.810933: 2, 5.6938513: 2, 5.7238513: 2, 5.91935: 2, 5.796133: 2, 5.784933: 2, 5.7438513: 2, 5.803133: 2, 5.780933: 2, 5.6870513: 4, 5.6410513: 2, 5.775133: 2, 5.763133: 2, 5.812133: 2, 5.676851300000001: 2, 5.728133000000001: 2, 5.604051300000001: 2, 5.667051300000001: 2, 5.703051299999999: 2, 5.790933: 2, 5.783133: 2, 5.85355: 2, 5.760933: 2, 5.90855: 2, 5.753133: 2}\nfront22 Non Duplicate\nfront Non Duplicate\nnew_sol Non Duplicate\ngen 147\nfObj1 {5.776932999999999: 2, 5.703051299999999: 2, 5.775133: 2, 5.812133: 2, 5.816133: 2, 5.796133: 2, 5.784933: 2, 5.604051300000001: 2, 5.763133: 2, 5.730851299999999: 2, 5.780933: 2, 5.760933: 2, 5.6938513: 2, 5.6410513: 2, 5.810933: 2, 5.667051300000001: 2, 5.660851299999999: 2, 5.6580512999999995: 2, 5.790933: 2, 5.783133: 2, 5.803133: 2, 5.6978513: 2, 5.700133000000001: 2, 5.6848513: 2, 5.676851300000001: 2, 5.7331330000000005: 2, 5.91935: 2, 5.743932999999999: 3, 5.6830513: 2, 5.90855: 2, 5.710851299999999: 2, 5.6870513: 2, 5.6940513: 2, 5.899349999999999: 2, 5.730333000000001: 2}\nfront22 Non Duplicate\nfront Non Duplicate\nnew_sol Non Duplicate\ngen 148\nfObj1 {5.780933: 2, 5.763133: 2, 5.783133: 2, 5.803133: 2, 5.6848513: 2, 5.6870513: 2, 5.810933: 2, 5.667051300000001: 2, 5.676851300000001: 2, 5.90855: 2, 5.7331330000000005: 2, 5.710851299999999: 2, 5.730851299999999: 2, 5.6580512999999995: 2, 5.6978513: 2, 5.6938513: 2, 5.790933: 2, 5.775133: 2, 5.6830513: 2, 5.812133: 2, 5.7238513: 2, 5.753133: 2, 5.604051300000001: 2, 5.6478513: 2, 5.723933: 2, 5.6678513: 2}\nfront22 Non Duplicate\nfront Non Duplicate\nnew_sol Non Duplicate\ngen 149\nfObj1 {5.6830513: 2, 5.6740512999999995: 2, 5.730851299999999: 2, 5.604051300000001: 2, 5.812133: 2, 5.90855: 2, 5.667051300000001: 2, 5.7238513: 2, 5.766133: 2, 5.723933: 2, 5.8131330000000005: 3, 5.790933: 2, 5.6938513: 2, 5.760933: 2, 5.710851299999999: 2, 5.6848513: 2, 5.6410513: 2, 5.796133: 2, 5.810933: 2, 5.7138513: 2, 5.7331330000000005: 2, 5.6478513: 2}\nfront22 Non Duplicate\nfront Non Duplicate\nnew_sol Non Duplicate\n"
    }
   ],
   "source": [
    "maxGen = 150\n",
    "gen_0 = 0\n",
    "nGen = 100\n",
    "nPortfolio = 100 # banyaknya individu dalam satu populasi\n",
    "\n",
    "population = initPopulation(nPortfolio,nGen)\n",
    "\n",
    "initFobj1 = unpackInd(population)[1]\n",
    "initFobj2 = unpackInd(population)[2]\n",
    "for x in population :\n",
    "    #duplicate(x)\n",
    "    break\n",
    "for gen in range(maxGen) :\n",
    "    print(\"gen\", gen)\n",
    "\n",
    "\n",
    "    # Step 1 Generate Offsprings\n",
    "   \n",
    "    offsprings = generateOffspring(population)\n",
    "    \n",
    "    # Step 2 assingn nilai fungsi\n",
    "    fObj1 = unpackInd(offsprings)[1]\n",
    "    fObj2 = unpackInd(offsprings)[2]\n",
    "    elDup(fObj1,\"fObj1\")\n",
    "    \n",
    "    # Step 3 Fast Non Dominated\n",
    "    nonDominatedSorted = fast_non_dominated_sort(fObj1[:],fObj2[:])\n",
    "    \n",
    "    # Step 4 crowding distance\n",
    "    #print(nonDominatedSorted)\n",
    "    crowdingDistance = []\n",
    "    for i in range(len(nonDominatedSorted)) :\n",
    "        crowdingDistance.append(crowding_distance(fObj1[:],fObj2[:],nonDominatedSorted[i][:]))\n",
    "    \n",
    "\n",
    "    # Step 5 Individu selection\n",
    "    newNonDominatedSorted = []\n",
    "    new_solution = []\n",
    "    for i in range(0,len(nonDominatedSorted)):    \n",
    "        # step 5.1 assign sort by index dari crowding distance\n",
    "        #front22 = sort_by_values([x for x in range(len(crowdingDistance[i][:]))], crowdingDistance[i][:])\n",
    "        front22 = sortByValue(crowdingDistance[i][:])\n",
    "        if gen == 1 :\n",
    "            cSave = crowdingDistance[i][:]\n",
    "            fSave = front22\n",
    "\n",
    "        # step 5.2 memasukkan nilai dari non_dominated .. berdasrkan urutan crowding\n",
    "        front = []\n",
    "        for j in range(len(nonDominatedSorted[i])):\n",
    "            front.append(nonDominatedSorted[i][front22[j]])\n",
    "\n",
    "        # Step 5.3 masukin ke new_sol sesuai dengan keperluan pop_size\n",
    "        for value in front:\n",
    "            new_solution.append(value)\n",
    "            \n",
    "            if(len(new_solution)==nPortfolio):\n",
    "                break\n",
    "                \n",
    "        if (len(new_solution) == nPortfolio):\n",
    "            break\n",
    "    elDup(front22,\"front22\")\n",
    "    \n",
    "    #print(nonDominatedSorted)\n",
    "    #print(\"newSol\",new_solution)\n",
    "    population = [offsprings[i] for i in new_solution]\n",
    "\n",
    "    maxFObj1 = unpackInd(population)[1]\n",
    "    maxFObj2 = unpackInd(population)[2]\n",
    "\n",
    "    for x in population :\n",
    "        #elDup(x[0],\"individu\")\n",
    "        continue\n",
    "    #print(\"pop\",len(population))\n",
    "\n",
    "    elDup(front,\"front\")\n",
    "    elDup(new_solution,\"new_sol\")\n",
    "    \n",
    "\n",
    "    #print(population)\n",
    "\n",
    "    "
   ]
  },
  {
   "cell_type": "code",
   "execution_count": 123,
   "metadata": {},
   "outputs": [
    {
     "output_type": "stream",
     "name": "stdout",
     "text": "newSol Non Duplicate\n"
    }
   ],
   "source": [
    "elDup(new_solution,\"newSol\")"
   ]
  },
  {
   "cell_type": "code",
   "execution_count": 124,
   "metadata": {},
   "outputs": [
    {
     "output_type": "display_data",
     "data": {
      "text/plain": "<Figure size 432x288 with 1 Axes>",
      "image/svg+xml": "<?xml version=\"1.0\" encoding=\"utf-8\" standalone=\"no\"?>\r\n<!DOCTYPE svg PUBLIC \"-//W3C//DTD SVG 1.1//EN\"\r\n  \"http://www.w3.org/Graphics/SVG/1.1/DTD/svg11.dtd\">\r\n<!-- Created with matplotlib (https://matplotlib.org/) -->\r\n<svg height=\"267.035312pt\" version=\"1.1\" viewBox=\"0 0 390.620312 267.035312\" width=\"390.620312pt\" xmlns=\"http://www.w3.org/2000/svg\" xmlns:xlink=\"http://www.w3.org/1999/xlink\">\r\n <defs>\r\n  <style type=\"text/css\">\r\n*{stroke-linecap:butt;stroke-linejoin:round;}\r\n  </style>\r\n </defs>\r\n <g id=\"figure_1\">\r\n  <g id=\"patch_1\">\r\n   <path d=\"M 0 267.035312 \r\nL 390.620312 267.035312 \r\nL 390.620312 0 \r\nL 0 0 \r\nz\r\n\" style=\"fill:none;\"/>\r\n  </g>\r\n  <g id=\"axes_1\">\r\n   <g id=\"patch_2\">\r\n    <path d=\"M 48.620313 224.64 \r\nL 383.420313 224.64 \r\nL 383.420313 7.2 \r\nL 48.620313 7.2 \r\nz\r\n\" style=\"fill:#ffffff;\"/>\r\n   </g>\r\n   <g id=\"PathCollection_1\">\r\n    <defs>\r\n     <path d=\"M 0 3 \r\nC 0.795609 3 1.55874 2.683901 2.12132 2.12132 \r\nC 2.683901 1.55874 3 0.795609 3 0 \r\nC 3 -0.795609 2.683901 -1.55874 2.12132 -2.12132 \r\nC 1.55874 -2.683901 0.795609 -3 0 -3 \r\nC -0.795609 -3 -1.55874 -2.683901 -2.12132 -2.12132 \r\nC -2.683901 -1.55874 -3 -0.795609 -3 0 \r\nC -3 0.795609 -2.683901 1.55874 -2.12132 2.12132 \r\nC -1.55874 2.683901 -0.795609 3 0 3 \r\nz\r\n\" id=\"m85c1f978b0\" style=\"stroke:#1f77b4;\"/>\r\n    </defs>\r\n    <g clip-path=\"url(#p451b22a94c)\">\r\n     <use style=\"fill:#1f77b4;stroke:#1f77b4;\" x=\"256.732179\" xlink:href=\"#m85c1f978b0\" y=\"88.971538\"/>\r\n     <use style=\"fill:#1f77b4;stroke:#1f77b4;\" x=\"221.27421\" xlink:href=\"#m85c1f978b0\" y=\"62.061599\"/>\r\n     <use style=\"fill:#1f77b4;stroke:#1f77b4;\" x=\"225.993786\" xlink:href=\"#m85c1f978b0\" y=\"118.617767\"/>\r\n     <use style=\"fill:#1f77b4;stroke:#1f77b4;\" x=\"179.776941\" xlink:href=\"#m85c1f978b0\" y=\"135.063014\"/>\r\n     <use style=\"fill:#1f77b4;stroke:#1f77b4;\" x=\"268.0304\" xlink:href=\"#m85c1f978b0\" y=\"166.976696\"/>\r\n     <use style=\"fill:#1f77b4;stroke:#1f77b4;\" x=\"250.99827\" xlink:href=\"#m85c1f978b0\" y=\"145.208806\"/>\r\n     <use style=\"fill:#1f77b4;stroke:#1f77b4;\" x=\"171.915159\" xlink:href=\"#m85c1f978b0\" y=\"144.575398\"/>\r\n     <use style=\"fill:#1f77b4;stroke:#1f77b4;\" x=\"290.896315\" xlink:href=\"#m85c1f978b0\" y=\"133.802911\"/>\r\n     <use style=\"fill:#1f77b4;stroke:#1f77b4;\" x=\"283.751752\" xlink:href=\"#m85c1f978b0\" y=\"105.646826\"/>\r\n     <use style=\"fill:#1f77b4;stroke:#1f77b4;\" x=\"163.720987\" xlink:href=\"#m85c1f978b0\" y=\"137.17762\"/>\r\n     <use style=\"fill:#1f77b4;stroke:#1f77b4;\" x=\"228.329601\" xlink:href=\"#m85c1f978b0\" y=\"134.054782\"/>\r\n     <use style=\"fill:#1f77b4;stroke:#1f77b4;\" x=\"226.67015\" xlink:href=\"#m85c1f978b0\" y=\"133.421389\"/>\r\n     <use style=\"fill:#1f77b4;stroke:#1f77b4;\" x=\"197.522766\" xlink:href=\"#m85c1f978b0\" y=\"195.00028\"/>\r\n     <use style=\"fill:#1f77b4;stroke:#1f77b4;\" x=\"233.479264\" xlink:href=\"#m85c1f978b0\" y=\"195.189528\"/>\r\n     <use style=\"fill:#1f77b4;stroke:#1f77b4;\" x=\"225.090597\" xlink:href=\"#m85c1f978b0\" y=\"175.021162\"/>\r\n     <use style=\"fill:#1f77b4;stroke:#1f77b4;\" x=\"192.399954\" xlink:href=\"#m85c1f978b0\" y=\"133.23408\"/>\r\n     <use style=\"fill:#1f77b4;stroke:#1f77b4;\" x=\"186.807707\" xlink:href=\"#m85c1f978b0\" y=\"162.287724\"/>\r\n     <use style=\"fill:#1f77b4;stroke:#1f77b4;\" x=\"224.792934\" xlink:href=\"#m85c1f978b0\" y=\"127.238938\"/>\r\n     <use style=\"fill:#1f77b4;stroke:#1f77b4;\" x=\"209.97974\" xlink:href=\"#m85c1f978b0\" y=\"194.920955\"/>\r\n     <use style=\"fill:#1f77b4;stroke:#1f77b4;\" x=\"286.71142\" xlink:href=\"#m85c1f978b0\" y=\"214.756364\"/>\r\n     <use style=\"fill:#1f77b4;stroke:#1f77b4;\" x=\"175.674869\" xlink:href=\"#m85c1f978b0\" y=\"106.366242\"/>\r\n     <use style=\"fill:#1f77b4;stroke:#1f77b4;\" x=\"241.515616\" xlink:href=\"#m85c1f978b0\" y=\"109.88823\"/>\r\n     <use style=\"fill:#1f77b4;stroke:#1f77b4;\" x=\"189.810142\" xlink:href=\"#m85c1f978b0\" y=\"162.568284\"/>\r\n     <use style=\"fill:#1f77b4;stroke:#1f77b4;\" x=\"280.130167\" xlink:href=\"#m85c1f978b0\" y=\"65.622206\"/>\r\n     <use style=\"fill:#1f77b4;stroke:#1f77b4;\" x=\"178.581413\" xlink:href=\"#m85c1f978b0\" y=\"129.743396\"/>\r\n     <use style=\"fill:#1f77b4;stroke:#1f77b4;\" x=\"245.649778\" xlink:href=\"#m85c1f978b0\" y=\"135.004504\"/>\r\n     <use style=\"fill:#1f77b4;stroke:#1f77b4;\" x=\"133.057017\" xlink:href=\"#m85c1f978b0\" y=\"209.035333\"/>\r\n     <use style=\"fill:#1f77b4;stroke:#1f77b4;\" x=\"201.373253\" xlink:href=\"#m85c1f978b0\" y=\"155.251197\"/>\r\n     <use style=\"fill:#1f77b4;stroke:#1f77b4;\" x=\"127.92174\" xlink:href=\"#m85c1f978b0\" y=\"72.428237\"/>\r\n     <use style=\"fill:#1f77b4;stroke:#1f77b4;\" x=\"212.151154\" xlink:href=\"#m85c1f978b0\" y=\"136.294207\"/>\r\n     <use style=\"fill:#1f77b4;stroke:#1f77b4;\" x=\"143.705518\" xlink:href=\"#m85c1f978b0\" y=\"149.514551\"/>\r\n     <use style=\"fill:#1f77b4;stroke:#1f77b4;\" x=\"257.978808\" xlink:href=\"#m85c1f978b0\" y=\"126.868007\"/>\r\n     <use style=\"fill:#1f77b4;stroke:#1f77b4;\" x=\"192.531799\" xlink:href=\"#m85c1f978b0\" y=\"103.781344\"/>\r\n     <use style=\"fill:#1f77b4;stroke:#1f77b4;\" x=\"270.56541\" xlink:href=\"#m85c1f978b0\" y=\"116.521289\"/>\r\n     <use style=\"fill:#1f77b4;stroke:#1f77b4;\" x=\"204.975664\" xlink:href=\"#m85c1f978b0\" y=\"81.243812\"/>\r\n     <use style=\"fill:#1f77b4;stroke:#1f77b4;\" x=\"197.220864\" xlink:href=\"#m85c1f978b0\" y=\"169.216297\"/>\r\n     <use style=\"fill:#1f77b4;stroke:#1f77b4;\" x=\"189.670061\" xlink:href=\"#m85c1f978b0\" y=\"196.259736\"/>\r\n     <use style=\"fill:#1f77b4;stroke:#1f77b4;\" x=\"209.751042\" xlink:href=\"#m85c1f978b0\" y=\"92.868276\"/>\r\n     <use style=\"fill:#1f77b4;stroke:#1f77b4;\" x=\"180.092517\" xlink:href=\"#m85c1f978b0\" y=\"109.896427\"/>\r\n     <use style=\"fill:#1f77b4;stroke:#1f77b4;\" x=\"345.910981\" xlink:href=\"#m85c1f978b0\" y=\"150.084528\"/>\r\n     <use style=\"fill:#1f77b4;stroke:#1f77b4;\" x=\"199.343182\" xlink:href=\"#m85c1f978b0\" y=\"211.765719\"/>\r\n     <use style=\"fill:#1f77b4;stroke:#1f77b4;\" x=\"266.119238\" xlink:href=\"#m85c1f978b0\" y=\"180.099339\"/>\r\n     <use style=\"fill:#1f77b4;stroke:#1f77b4;\" x=\"143.142569\" xlink:href=\"#m85c1f978b0\" y=\"164.58322\"/>\r\n     <use style=\"fill:#1f77b4;stroke:#1f77b4;\" x=\"94.864254\" xlink:href=\"#m85c1f978b0\" y=\"188.107139\"/>\r\n     <use style=\"fill:#1f77b4;stroke:#1f77b4;\" x=\"261.206202\" xlink:href=\"#m85c1f978b0\" y=\"174.397082\"/>\r\n     <use style=\"fill:#1f77b4;stroke:#1f77b4;\" x=\"215.493033\" xlink:href=\"#m85c1f978b0\" y=\"132.568927\"/>\r\n     <use style=\"fill:#1f77b4;stroke:#1f77b4;\" x=\"186.866616\" xlink:href=\"#m85c1f978b0\" y=\"139.415149\"/>\r\n     <use style=\"fill:#1f77b4;stroke:#1f77b4;\" x=\"160.49989\" xlink:href=\"#m85c1f978b0\" y=\"143.38776\"/>\r\n     <use style=\"fill:#1f77b4;stroke:#1f77b4;\" x=\"203.598369\" xlink:href=\"#m85c1f978b0\" y=\"62.850718\"/>\r\n     <use style=\"fill:#1f77b4;stroke:#1f77b4;\" x=\"147.081232\" xlink:href=\"#m85c1f978b0\" y=\"192.624858\"/>\r\n     <use style=\"fill:#1f77b4;stroke:#1f77b4;\" x=\"145.379458\" xlink:href=\"#m85c1f978b0\" y=\"160.336439\"/>\r\n     <use style=\"fill:#1f77b4;stroke:#1f77b4;\" x=\"187.249252\" xlink:href=\"#m85c1f978b0\" y=\"175.544969\"/>\r\n     <use style=\"fill:#1f77b4;stroke:#1f77b4;\" x=\"234.348393\" xlink:href=\"#m85c1f978b0\" y=\"119.437456\"/>\r\n     <use style=\"fill:#1f77b4;stroke:#1f77b4;\" x=\"233.189387\" xlink:href=\"#m85c1f978b0\" y=\"148.415169\"/>\r\n     <use style=\"fill:#1f77b4;stroke:#1f77b4;\" x=\"225.880036\" xlink:href=\"#m85c1f978b0\" y=\"117.743932\"/>\r\n     <use style=\"fill:#1f77b4;stroke:#1f77b4;\" x=\"269.747875\" xlink:href=\"#m85c1f978b0\" y=\"162.491795\"/>\r\n     <use style=\"fill:#1f77b4;stroke:#1f77b4;\" x=\"243.482911\" xlink:href=\"#m85c1f978b0\" y=\"149.335747\"/>\r\n     <use style=\"fill:#1f77b4;stroke:#1f77b4;\" x=\"202.594908\" xlink:href=\"#m85c1f978b0\" y=\"115.612903\"/>\r\n     <use style=\"fill:#1f77b4;stroke:#1f77b4;\" x=\"63.838494\" xlink:href=\"#m85c1f978b0\" y=\"186.462606\"/>\r\n     <use style=\"fill:#1f77b4;stroke:#1f77b4;\" x=\"161.291252\" xlink:href=\"#m85c1f978b0\" y=\"131.261068\"/>\r\n     <use style=\"fill:#1f77b4;stroke:#1f77b4;\" x=\"194.076634\" xlink:href=\"#m85c1f978b0\" y=\"153.470974\"/>\r\n     <use style=\"fill:#1f77b4;stroke:#1f77b4;\" x=\"252.375697\" xlink:href=\"#m85c1f978b0\" y=\"143.599895\"/>\r\n     <use style=\"fill:#1f77b4;stroke:#1f77b4;\" x=\"185.354208\" xlink:href=\"#m85c1f978b0\" y=\"103.257654\"/>\r\n     <use style=\"fill:#1f77b4;stroke:#1f77b4;\" x=\"227.023208\" xlink:href=\"#m85c1f978b0\" y=\"181.158485\"/>\r\n     <use style=\"fill:#1f77b4;stroke:#1f77b4;\" x=\"301.335946\" xlink:href=\"#m85c1f978b0\" y=\"95.46782\"/>\r\n     <use style=\"fill:#1f77b4;stroke:#1f77b4;\" x=\"190.105065\" xlink:href=\"#m85c1f978b0\" y=\"122.069964\"/>\r\n     <use style=\"fill:#1f77b4;stroke:#1f77b4;\" x=\"209.257989\" xlink:href=\"#m85c1f978b0\" y=\"106.533999\"/>\r\n     <use style=\"fill:#1f77b4;stroke:#1f77b4;\" x=\"214.710648\" xlink:href=\"#m85c1f978b0\" y=\"149.747516\"/>\r\n     <use style=\"fill:#1f77b4;stroke:#1f77b4;\" x=\"193.507473\" xlink:href=\"#m85c1f978b0\" y=\"133.041541\"/>\r\n     <use style=\"fill:#1f77b4;stroke:#1f77b4;\" x=\"212.197082\" xlink:href=\"#m85c1f978b0\" y=\"89.432767\"/>\r\n     <use style=\"fill:#1f77b4;stroke:#1f77b4;\" x=\"211.442946\" xlink:href=\"#m85c1f978b0\" y=\"177.917366\"/>\r\n     <use style=\"fill:#1f77b4;stroke:#1f77b4;\" x=\"235.795325\" xlink:href=\"#m85c1f978b0\" y=\"175.596663\"/>\r\n     <use style=\"fill:#1f77b4;stroke:#1f77b4;\" x=\"242.960026\" xlink:href=\"#m85c1f978b0\" y=\"178.913008\"/>\r\n     <use style=\"fill:#1f77b4;stroke:#1f77b4;\" x=\"201.272927\" xlink:href=\"#m85c1f978b0\" y=\"83.968352\"/>\r\n     <use style=\"fill:#1f77b4;stroke:#1f77b4;\" x=\"273.645193\" xlink:href=\"#m85c1f978b0\" y=\"111.355238\"/>\r\n     <use style=\"fill:#1f77b4;stroke:#1f77b4;\" x=\"236.360283\" xlink:href=\"#m85c1f978b0\" y=\"154.13122\"/>\r\n     <use style=\"fill:#1f77b4;stroke:#1f77b4;\" x=\"183.307913\" xlink:href=\"#m85c1f978b0\" y=\"165.197134\"/>\r\n     <use style=\"fill:#1f77b4;stroke:#1f77b4;\" x=\"208.255859\" xlink:href=\"#m85c1f978b0\" y=\"161.217017\"/>\r\n     <use style=\"fill:#1f77b4;stroke:#1f77b4;\" x=\"250.171319\" xlink:href=\"#m85c1f978b0\" y=\"137.899416\"/>\r\n     <use style=\"fill:#1f77b4;stroke:#1f77b4;\" x=\"200.44824\" xlink:href=\"#m85c1f978b0\" y=\"114.612868\"/>\r\n     <use style=\"fill:#1f77b4;stroke:#1f77b4;\" x=\"182.48738\" xlink:href=\"#m85c1f978b0\" y=\"144.326744\"/>\r\n     <use style=\"fill:#1f77b4;stroke:#1f77b4;\" x=\"368.202131\" xlink:href=\"#m85c1f978b0\" y=\"122.211515\"/>\r\n     <use style=\"fill:#1f77b4;stroke:#1f77b4;\" x=\"193.13562\" xlink:href=\"#m85c1f978b0\" y=\"164.876648\"/>\r\n     <use style=\"fill:#1f77b4;stroke:#1f77b4;\" x=\"261.43827\" xlink:href=\"#m85c1f978b0\" y=\"104.17284\"/>\r\n     <use style=\"fill:#1f77b4;stroke:#1f77b4;\" x=\"180.027587\" xlink:href=\"#m85c1f978b0\" y=\"136.170534\"/>\r\n     <use style=\"fill:#1f77b4;stroke:#1f77b4;\" x=\"182.976427\" xlink:href=\"#m85c1f978b0\" y=\"133.875067\"/>\r\n     <use style=\"fill:#1f77b4;stroke:#1f77b4;\" x=\"246.122332\" xlink:href=\"#m85c1f978b0\" y=\"159.234884\"/>\r\n     <use style=\"fill:#1f77b4;stroke:#1f77b4;\" x=\"157.549462\" xlink:href=\"#m85c1f978b0\" y=\"174.510502\"/>\r\n     <use style=\"fill:#1f77b4;stroke:#1f77b4;\" x=\"284.619251\" xlink:href=\"#m85c1f978b0\" y=\"80.608231\"/>\r\n     <use style=\"fill:#1f77b4;stroke:#1f77b4;\" x=\"180.756522\" xlink:href=\"#m85c1f978b0\" y=\"112.507267\"/>\r\n     <use style=\"fill:#1f77b4;stroke:#1f77b4;\" x=\"186.041346\" xlink:href=\"#m85c1f978b0\" y=\"213.341725\"/>\r\n     <use style=\"fill:#1f77b4;stroke:#1f77b4;\" x=\"267.316192\" xlink:href=\"#m85c1f978b0\" y=\"17.083636\"/>\r\n     <use style=\"fill:#1f77b4;stroke:#1f77b4;\" x=\"174.859531\" xlink:href=\"#m85c1f978b0\" y=\"109.367669\"/>\r\n     <use style=\"fill:#1f77b4;stroke:#1f77b4;\" x=\"165.30265\" xlink:href=\"#m85c1f978b0\" y=\"149.016127\"/>\r\n     <use style=\"fill:#1f77b4;stroke:#1f77b4;\" x=\"157.076516\" xlink:href=\"#m85c1f978b0\" y=\"179.434892\"/>\r\n     <use style=\"fill:#1f77b4;stroke:#1f77b4;\" x=\"212.620423\" xlink:href=\"#m85c1f978b0\" y=\"160.750691\"/>\r\n     <use style=\"fill:#1f77b4;stroke:#1f77b4;\" x=\"188.989322\" xlink:href=\"#m85c1f978b0\" y=\"159.947836\"/>\r\n     <use style=\"fill:#1f77b4;stroke:#1f77b4;\" x=\"233.386948\" xlink:href=\"#m85c1f978b0\" y=\"191.683817\"/>\r\n     <use style=\"fill:#1f77b4;stroke:#1f77b4;\" x=\"283.03598\" xlink:href=\"#m85c1f978b0\" y=\"173.59956\"/>\r\n     <use style=\"fill:#1f77b4;stroke:#1f77b4;\" x=\"321.907055\" xlink:href=\"#m85c1f978b0\" y=\"132.118539\"/>\r\n    </g>\r\n   </g>\r\n   <g id=\"matplotlib.axis_1\">\r\n    <g id=\"xtick_1\">\r\n     <g id=\"line2d_1\">\r\n      <defs>\r\n       <path d=\"M 0 0 \r\nL 0 3.5 \r\n\" id=\"m8d8cf20b16\" style=\"stroke:#000000;stroke-width:0.8;\"/>\r\n      </defs>\r\n      <g>\r\n       <use style=\"stroke:#000000;stroke-width:0.8;\" x=\"96.310958\" xlink:href=\"#m8d8cf20b16\" y=\"224.64\"/>\r\n      </g>\r\n     </g>\r\n     <g id=\"text_1\">\r\n      <!-- 2.9 -->\r\n      <defs>\r\n       <path d=\"M 19.1875 8.296875 \r\nL 53.609375 8.296875 \r\nL 53.609375 0 \r\nL 7.328125 0 \r\nL 7.328125 8.296875 \r\nQ 12.9375 14.109375 22.625 23.890625 \r\nQ 32.328125 33.6875 34.8125 36.53125 \r\nQ 39.546875 41.84375 41.421875 45.53125 \r\nQ 43.3125 49.21875 43.3125 52.78125 \r\nQ 43.3125 58.59375 39.234375 62.25 \r\nQ 35.15625 65.921875 28.609375 65.921875 \r\nQ 23.96875 65.921875 18.8125 64.3125 \r\nQ 13.671875 62.703125 7.8125 59.421875 \r\nL 7.8125 69.390625 \r\nQ 13.765625 71.78125 18.9375 73 \r\nQ 24.125 74.21875 28.421875 74.21875 \r\nQ 39.75 74.21875 46.484375 68.546875 \r\nQ 53.21875 62.890625 53.21875 53.421875 \r\nQ 53.21875 48.921875 51.53125 44.890625 \r\nQ 49.859375 40.875 45.40625 35.40625 \r\nQ 44.1875 33.984375 37.640625 27.21875 \r\nQ 31.109375 20.453125 19.1875 8.296875 \r\nz\r\n\" id=\"DejaVuSans-50\"/>\r\n       <path d=\"M 10.6875 12.40625 \r\nL 21 12.40625 \r\nL 21 0 \r\nL 10.6875 0 \r\nz\r\n\" id=\"DejaVuSans-46\"/>\r\n       <path d=\"M 10.984375 1.515625 \r\nL 10.984375 10.5 \r\nQ 14.703125 8.734375 18.5 7.8125 \r\nQ 22.3125 6.890625 25.984375 6.890625 \r\nQ 35.75 6.890625 40.890625 13.453125 \r\nQ 46.046875 20.015625 46.78125 33.40625 \r\nQ 43.953125 29.203125 39.59375 26.953125 \r\nQ 35.25 24.703125 29.984375 24.703125 \r\nQ 19.046875 24.703125 12.671875 31.3125 \r\nQ 6.296875 37.9375 6.296875 49.421875 \r\nQ 6.296875 60.640625 12.9375 67.421875 \r\nQ 19.578125 74.21875 30.609375 74.21875 \r\nQ 43.265625 74.21875 49.921875 64.515625 \r\nQ 56.59375 54.828125 56.59375 36.375 \r\nQ 56.59375 19.140625 48.40625 8.859375 \r\nQ 40.234375 -1.421875 26.421875 -1.421875 \r\nQ 22.703125 -1.421875 18.890625 -0.6875 \r\nQ 15.09375 0.046875 10.984375 1.515625 \r\nz\r\nM 30.609375 32.421875 \r\nQ 37.25 32.421875 41.125 36.953125 \r\nQ 45.015625 41.5 45.015625 49.421875 \r\nQ 45.015625 57.28125 41.125 61.84375 \r\nQ 37.25 66.40625 30.609375 66.40625 \r\nQ 23.96875 66.40625 20.09375 61.84375 \r\nQ 16.21875 57.28125 16.21875 49.421875 \r\nQ 16.21875 41.5 20.09375 36.953125 \r\nQ 23.96875 32.421875 30.609375 32.421875 \r\nz\r\n\" id=\"DejaVuSans-57\"/>\r\n      </defs>\r\n      <g transform=\"translate(88.359395 239.238437)scale(0.1 -0.1)\">\r\n       <use xlink:href=\"#DejaVuSans-50\"/>\r\n       <use x=\"63.623047\" xlink:href=\"#DejaVuSans-46\"/>\r\n       <use x=\"95.410156\" xlink:href=\"#DejaVuSans-57\"/>\r\n      </g>\r\n     </g>\r\n    </g>\r\n    <g id=\"xtick_2\">\r\n     <g id=\"line2d_2\">\r\n      <g>\r\n       <use style=\"stroke:#000000;stroke-width:0.8;\" x=\"151.691086\" xlink:href=\"#m8d8cf20b16\" y=\"224.64\"/>\r\n      </g>\r\n     </g>\r\n     <g id=\"text_2\">\r\n      <!-- 3.0 -->\r\n      <defs>\r\n       <path d=\"M 40.578125 39.3125 \r\nQ 47.65625 37.796875 51.625 33 \r\nQ 55.609375 28.21875 55.609375 21.1875 \r\nQ 55.609375 10.40625 48.1875 4.484375 \r\nQ 40.765625 -1.421875 27.09375 -1.421875 \r\nQ 22.515625 -1.421875 17.65625 -0.515625 \r\nQ 12.796875 0.390625 7.625 2.203125 \r\nL 7.625 11.71875 \r\nQ 11.71875 9.328125 16.59375 8.109375 \r\nQ 21.484375 6.890625 26.8125 6.890625 \r\nQ 36.078125 6.890625 40.9375 10.546875 \r\nQ 45.796875 14.203125 45.796875 21.1875 \r\nQ 45.796875 27.640625 41.28125 31.265625 \r\nQ 36.765625 34.90625 28.71875 34.90625 \r\nL 20.21875 34.90625 \r\nL 20.21875 43.015625 \r\nL 29.109375 43.015625 \r\nQ 36.375 43.015625 40.234375 45.921875 \r\nQ 44.09375 48.828125 44.09375 54.296875 \r\nQ 44.09375 59.90625 40.109375 62.90625 \r\nQ 36.140625 65.921875 28.71875 65.921875 \r\nQ 24.65625 65.921875 20.015625 65.03125 \r\nQ 15.375 64.15625 9.8125 62.3125 \r\nL 9.8125 71.09375 \r\nQ 15.4375 72.65625 20.34375 73.4375 \r\nQ 25.25 74.21875 29.59375 74.21875 \r\nQ 40.828125 74.21875 47.359375 69.109375 \r\nQ 53.90625 64.015625 53.90625 55.328125 \r\nQ 53.90625 49.265625 50.4375 45.09375 \r\nQ 46.96875 40.921875 40.578125 39.3125 \r\nz\r\n\" id=\"DejaVuSans-51\"/>\r\n       <path d=\"M 31.78125 66.40625 \r\nQ 24.171875 66.40625 20.328125 58.90625 \r\nQ 16.5 51.421875 16.5 36.375 \r\nQ 16.5 21.390625 20.328125 13.890625 \r\nQ 24.171875 6.390625 31.78125 6.390625 \r\nQ 39.453125 6.390625 43.28125 13.890625 \r\nQ 47.125 21.390625 47.125 36.375 \r\nQ 47.125 51.421875 43.28125 58.90625 \r\nQ 39.453125 66.40625 31.78125 66.40625 \r\nz\r\nM 31.78125 74.21875 \r\nQ 44.046875 74.21875 50.515625 64.515625 \r\nQ 56.984375 54.828125 56.984375 36.375 \r\nQ 56.984375 17.96875 50.515625 8.265625 \r\nQ 44.046875 -1.421875 31.78125 -1.421875 \r\nQ 19.53125 -1.421875 13.0625 8.265625 \r\nQ 6.59375 17.96875 6.59375 36.375 \r\nQ 6.59375 54.828125 13.0625 64.515625 \r\nQ 19.53125 74.21875 31.78125 74.21875 \r\nz\r\n\" id=\"DejaVuSans-48\"/>\r\n      </defs>\r\n      <g transform=\"translate(143.739523 239.238437)scale(0.1 -0.1)\">\r\n       <use xlink:href=\"#DejaVuSans-51\"/>\r\n       <use x=\"63.623047\" xlink:href=\"#DejaVuSans-46\"/>\r\n       <use x=\"95.410156\" xlink:href=\"#DejaVuSans-48\"/>\r\n      </g>\r\n     </g>\r\n    </g>\r\n    <g id=\"xtick_3\">\r\n     <g id=\"line2d_3\">\r\n      <g>\r\n       <use style=\"stroke:#000000;stroke-width:0.8;\" x=\"207.071214\" xlink:href=\"#m8d8cf20b16\" y=\"224.64\"/>\r\n      </g>\r\n     </g>\r\n     <g id=\"text_3\">\r\n      <!-- 3.1 -->\r\n      <defs>\r\n       <path d=\"M 12.40625 8.296875 \r\nL 28.515625 8.296875 \r\nL 28.515625 63.921875 \r\nL 10.984375 60.40625 \r\nL 10.984375 69.390625 \r\nL 28.421875 72.90625 \r\nL 38.28125 72.90625 \r\nL 38.28125 8.296875 \r\nL 54.390625 8.296875 \r\nL 54.390625 0 \r\nL 12.40625 0 \r\nz\r\n\" id=\"DejaVuSans-49\"/>\r\n      </defs>\r\n      <g transform=\"translate(199.119651 239.238437)scale(0.1 -0.1)\">\r\n       <use xlink:href=\"#DejaVuSans-51\"/>\r\n       <use x=\"63.623047\" xlink:href=\"#DejaVuSans-46\"/>\r\n       <use x=\"95.410156\" xlink:href=\"#DejaVuSans-49\"/>\r\n      </g>\r\n     </g>\r\n    </g>\r\n    <g id=\"xtick_4\">\r\n     <g id=\"line2d_4\">\r\n      <g>\r\n       <use style=\"stroke:#000000;stroke-width:0.8;\" x=\"262.451342\" xlink:href=\"#m8d8cf20b16\" y=\"224.64\"/>\r\n      </g>\r\n     </g>\r\n     <g id=\"text_4\">\r\n      <!-- 3.2 -->\r\n      <g transform=\"translate(254.499779 239.238437)scale(0.1 -0.1)\">\r\n       <use xlink:href=\"#DejaVuSans-51\"/>\r\n       <use x=\"63.623047\" xlink:href=\"#DejaVuSans-46\"/>\r\n       <use x=\"95.410156\" xlink:href=\"#DejaVuSans-50\"/>\r\n      </g>\r\n     </g>\r\n    </g>\r\n    <g id=\"xtick_5\">\r\n     <g id=\"line2d_5\">\r\n      <g>\r\n       <use style=\"stroke:#000000;stroke-width:0.8;\" x=\"317.83147\" xlink:href=\"#m8d8cf20b16\" y=\"224.64\"/>\r\n      </g>\r\n     </g>\r\n     <g id=\"text_5\">\r\n      <!-- 3.3 -->\r\n      <g transform=\"translate(309.879907 239.238437)scale(0.1 -0.1)\">\r\n       <use xlink:href=\"#DejaVuSans-51\"/>\r\n       <use x=\"63.623047\" xlink:href=\"#DejaVuSans-46\"/>\r\n       <use x=\"95.410156\" xlink:href=\"#DejaVuSans-51\"/>\r\n      </g>\r\n     </g>\r\n    </g>\r\n    <g id=\"xtick_6\">\r\n     <g id=\"line2d_6\">\r\n      <g>\r\n       <use style=\"stroke:#000000;stroke-width:0.8;\" x=\"373.211598\" xlink:href=\"#m8d8cf20b16\" y=\"224.64\"/>\r\n      </g>\r\n     </g>\r\n     <g id=\"text_6\">\r\n      <!-- 3.4 -->\r\n      <defs>\r\n       <path d=\"M 37.796875 64.3125 \r\nL 12.890625 25.390625 \r\nL 37.796875 25.390625 \r\nz\r\nM 35.203125 72.90625 \r\nL 47.609375 72.90625 \r\nL 47.609375 25.390625 \r\nL 58.015625 25.390625 \r\nL 58.015625 17.1875 \r\nL 47.609375 17.1875 \r\nL 47.609375 0 \r\nL 37.796875 0 \r\nL 37.796875 17.1875 \r\nL 4.890625 17.1875 \r\nL 4.890625 26.703125 \r\nz\r\n\" id=\"DejaVuSans-52\"/>\r\n      </defs>\r\n      <g transform=\"translate(365.260035 239.238437)scale(0.1 -0.1)\">\r\n       <use xlink:href=\"#DejaVuSans-51\"/>\r\n       <use x=\"63.623047\" xlink:href=\"#DejaVuSans-46\"/>\r\n       <use x=\"95.410156\" xlink:href=\"#DejaVuSans-52\"/>\r\n      </g>\r\n     </g>\r\n    </g>\r\n    <g id=\"text_7\">\r\n     <!-- Function 1 -->\r\n     <defs>\r\n      <path d=\"M 9.8125 72.90625 \r\nL 51.703125 72.90625 \r\nL 51.703125 64.59375 \r\nL 19.671875 64.59375 \r\nL 19.671875 43.109375 \r\nL 48.578125 43.109375 \r\nL 48.578125 34.8125 \r\nL 19.671875 34.8125 \r\nL 19.671875 0 \r\nL 9.8125 0 \r\nz\r\n\" id=\"DejaVuSans-70\"/>\r\n      <path d=\"M 8.5 21.578125 \r\nL 8.5 54.6875 \r\nL 17.484375 54.6875 \r\nL 17.484375 21.921875 \r\nQ 17.484375 14.15625 20.5 10.265625 \r\nQ 23.53125 6.390625 29.59375 6.390625 \r\nQ 36.859375 6.390625 41.078125 11.03125 \r\nQ 45.3125 15.671875 45.3125 23.6875 \r\nL 45.3125 54.6875 \r\nL 54.296875 54.6875 \r\nL 54.296875 0 \r\nL 45.3125 0 \r\nL 45.3125 8.40625 \r\nQ 42.046875 3.421875 37.71875 1 \r\nQ 33.40625 -1.421875 27.6875 -1.421875 \r\nQ 18.265625 -1.421875 13.375 4.4375 \r\nQ 8.5 10.296875 8.5 21.578125 \r\nz\r\nM 31.109375 56 \r\nz\r\n\" id=\"DejaVuSans-117\"/>\r\n      <path d=\"M 54.890625 33.015625 \r\nL 54.890625 0 \r\nL 45.90625 0 \r\nL 45.90625 32.71875 \r\nQ 45.90625 40.484375 42.875 44.328125 \r\nQ 39.84375 48.1875 33.796875 48.1875 \r\nQ 26.515625 48.1875 22.3125 43.546875 \r\nQ 18.109375 38.921875 18.109375 30.90625 \r\nL 18.109375 0 \r\nL 9.078125 0 \r\nL 9.078125 54.6875 \r\nL 18.109375 54.6875 \r\nL 18.109375 46.1875 \r\nQ 21.34375 51.125 25.703125 53.5625 \r\nQ 30.078125 56 35.796875 56 \r\nQ 45.21875 56 50.046875 50.171875 \r\nQ 54.890625 44.34375 54.890625 33.015625 \r\nz\r\n\" id=\"DejaVuSans-110\"/>\r\n      <path d=\"M 48.78125 52.59375 \r\nL 48.78125 44.1875 \r\nQ 44.96875 46.296875 41.140625 47.34375 \r\nQ 37.3125 48.390625 33.40625 48.390625 \r\nQ 24.65625 48.390625 19.8125 42.84375 \r\nQ 14.984375 37.3125 14.984375 27.296875 \r\nQ 14.984375 17.28125 19.8125 11.734375 \r\nQ 24.65625 6.203125 33.40625 6.203125 \r\nQ 37.3125 6.203125 41.140625 7.25 \r\nQ 44.96875 8.296875 48.78125 10.40625 \r\nL 48.78125 2.09375 \r\nQ 45.015625 0.34375 40.984375 -0.53125 \r\nQ 36.96875 -1.421875 32.421875 -1.421875 \r\nQ 20.0625 -1.421875 12.78125 6.34375 \r\nQ 5.515625 14.109375 5.515625 27.296875 \r\nQ 5.515625 40.671875 12.859375 48.328125 \r\nQ 20.21875 56 33.015625 56 \r\nQ 37.15625 56 41.109375 55.140625 \r\nQ 45.0625 54.296875 48.78125 52.59375 \r\nz\r\n\" id=\"DejaVuSans-99\"/>\r\n      <path d=\"M 18.3125 70.21875 \r\nL 18.3125 54.6875 \r\nL 36.8125 54.6875 \r\nL 36.8125 47.703125 \r\nL 18.3125 47.703125 \r\nL 18.3125 18.015625 \r\nQ 18.3125 11.328125 20.140625 9.421875 \r\nQ 21.96875 7.515625 27.59375 7.515625 \r\nL 36.8125 7.515625 \r\nL 36.8125 0 \r\nL 27.59375 0 \r\nQ 17.1875 0 13.234375 3.875 \r\nQ 9.28125 7.765625 9.28125 18.015625 \r\nL 9.28125 47.703125 \r\nL 2.6875 47.703125 \r\nL 2.6875 54.6875 \r\nL 9.28125 54.6875 \r\nL 9.28125 70.21875 \r\nz\r\n\" id=\"DejaVuSans-116\"/>\r\n      <path d=\"M 9.421875 54.6875 \r\nL 18.40625 54.6875 \r\nL 18.40625 0 \r\nL 9.421875 0 \r\nz\r\nM 9.421875 75.984375 \r\nL 18.40625 75.984375 \r\nL 18.40625 64.59375 \r\nL 9.421875 64.59375 \r\nz\r\n\" id=\"DejaVuSans-105\"/>\r\n      <path d=\"M 30.609375 48.390625 \r\nQ 23.390625 48.390625 19.1875 42.75 \r\nQ 14.984375 37.109375 14.984375 27.296875 \r\nQ 14.984375 17.484375 19.15625 11.84375 \r\nQ 23.34375 6.203125 30.609375 6.203125 \r\nQ 37.796875 6.203125 41.984375 11.859375 \r\nQ 46.1875 17.53125 46.1875 27.296875 \r\nQ 46.1875 37.015625 41.984375 42.703125 \r\nQ 37.796875 48.390625 30.609375 48.390625 \r\nz\r\nM 30.609375 56 \r\nQ 42.328125 56 49.015625 48.375 \r\nQ 55.71875 40.765625 55.71875 27.296875 \r\nQ 55.71875 13.875 49.015625 6.21875 \r\nQ 42.328125 -1.421875 30.609375 -1.421875 \r\nQ 18.84375 -1.421875 12.171875 6.21875 \r\nQ 5.515625 13.875 5.515625 27.296875 \r\nQ 5.515625 40.765625 12.171875 48.375 \r\nQ 18.84375 56 30.609375 56 \r\nz\r\n\" id=\"DejaVuSans-111\"/>\r\n      <path id=\"DejaVuSans-32\"/>\r\n     </defs>\r\n     <g transform=\"translate(176.967578 256.715781)scale(0.15 -0.15)\">\r\n      <use xlink:href=\"#DejaVuSans-70\"/>\r\n      <use x=\"52.019531\" xlink:href=\"#DejaVuSans-117\"/>\r\n      <use x=\"115.398438\" xlink:href=\"#DejaVuSans-110\"/>\r\n      <use x=\"178.777344\" xlink:href=\"#DejaVuSans-99\"/>\r\n      <use x=\"233.757812\" xlink:href=\"#DejaVuSans-116\"/>\r\n      <use x=\"272.966797\" xlink:href=\"#DejaVuSans-105\"/>\r\n      <use x=\"300.75\" xlink:href=\"#DejaVuSans-111\"/>\r\n      <use x=\"361.931641\" xlink:href=\"#DejaVuSans-110\"/>\r\n      <use x=\"425.310547\" xlink:href=\"#DejaVuSans-32\"/>\r\n      <use x=\"457.097656\" xlink:href=\"#DejaVuSans-49\"/>\r\n     </g>\r\n    </g>\r\n   </g>\r\n   <g id=\"matplotlib.axis_2\">\r\n    <g id=\"ytick_1\">\r\n     <g id=\"line2d_7\">\r\n      <defs>\r\n       <path d=\"M 0 0 \r\nL -3.5 0 \r\n\" id=\"m3bb852c889\" style=\"stroke:#000000;stroke-width:0.8;\"/>\r\n      </defs>\r\n      <g>\r\n       <use style=\"stroke:#000000;stroke-width:0.8;\" x=\"48.620313\" xlink:href=\"#m3bb852c889\" y=\"199.445328\"/>\r\n      </g>\r\n     </g>\r\n     <g id=\"text_8\">\r\n      <!-- 2.4 -->\r\n      <g transform=\"translate(25.717188 203.244547)scale(0.1 -0.1)\">\r\n       <use xlink:href=\"#DejaVuSans-50\"/>\r\n       <use x=\"63.623047\" xlink:href=\"#DejaVuSans-46\"/>\r\n       <use x=\"95.410156\" xlink:href=\"#DejaVuSans-52\"/>\r\n      </g>\r\n     </g>\r\n    </g>\r\n    <g id=\"ytick_2\">\r\n     <g id=\"line2d_8\">\r\n      <g>\r\n       <use style=\"stroke:#000000;stroke-width:0.8;\" x=\"48.620313\" xlink:href=\"#m3bb852c889\" y=\"170.065806\"/>\r\n      </g>\r\n     </g>\r\n     <g id=\"text_9\">\r\n      <!-- 2.6 -->\r\n      <defs>\r\n       <path d=\"M 33.015625 40.375 \r\nQ 26.375 40.375 22.484375 35.828125 \r\nQ 18.609375 31.296875 18.609375 23.390625 \r\nQ 18.609375 15.53125 22.484375 10.953125 \r\nQ 26.375 6.390625 33.015625 6.390625 \r\nQ 39.65625 6.390625 43.53125 10.953125 \r\nQ 47.40625 15.53125 47.40625 23.390625 \r\nQ 47.40625 31.296875 43.53125 35.828125 \r\nQ 39.65625 40.375 33.015625 40.375 \r\nz\r\nM 52.59375 71.296875 \r\nL 52.59375 62.3125 \r\nQ 48.875 64.0625 45.09375 64.984375 \r\nQ 41.3125 65.921875 37.59375 65.921875 \r\nQ 27.828125 65.921875 22.671875 59.328125 \r\nQ 17.53125 52.734375 16.796875 39.40625 \r\nQ 19.671875 43.65625 24.015625 45.921875 \r\nQ 28.375 48.1875 33.59375 48.1875 \r\nQ 44.578125 48.1875 50.953125 41.515625 \r\nQ 57.328125 34.859375 57.328125 23.390625 \r\nQ 57.328125 12.15625 50.6875 5.359375 \r\nQ 44.046875 -1.421875 33.015625 -1.421875 \r\nQ 20.359375 -1.421875 13.671875 8.265625 \r\nQ 6.984375 17.96875 6.984375 36.375 \r\nQ 6.984375 53.65625 15.1875 63.9375 \r\nQ 23.390625 74.21875 37.203125 74.21875 \r\nQ 40.921875 74.21875 44.703125 73.484375 \r\nQ 48.484375 72.75 52.59375 71.296875 \r\nz\r\n\" id=\"DejaVuSans-54\"/>\r\n      </defs>\r\n      <g transform=\"translate(25.717188 173.865025)scale(0.1 -0.1)\">\r\n       <use xlink:href=\"#DejaVuSans-50\"/>\r\n       <use x=\"63.623047\" xlink:href=\"#DejaVuSans-46\"/>\r\n       <use x=\"95.410156\" xlink:href=\"#DejaVuSans-54\"/>\r\n      </g>\r\n     </g>\r\n    </g>\r\n    <g id=\"ytick_3\">\r\n     <g id=\"line2d_9\">\r\n      <g>\r\n       <use style=\"stroke:#000000;stroke-width:0.8;\" x=\"48.620313\" xlink:href=\"#m3bb852c889\" y=\"140.686284\"/>\r\n      </g>\r\n     </g>\r\n     <g id=\"text_10\">\r\n      <!-- 2.8 -->\r\n      <defs>\r\n       <path d=\"M 31.78125 34.625 \r\nQ 24.75 34.625 20.71875 30.859375 \r\nQ 16.703125 27.09375 16.703125 20.515625 \r\nQ 16.703125 13.921875 20.71875 10.15625 \r\nQ 24.75 6.390625 31.78125 6.390625 \r\nQ 38.8125 6.390625 42.859375 10.171875 \r\nQ 46.921875 13.96875 46.921875 20.515625 \r\nQ 46.921875 27.09375 42.890625 30.859375 \r\nQ 38.875 34.625 31.78125 34.625 \r\nz\r\nM 21.921875 38.8125 \r\nQ 15.578125 40.375 12.03125 44.71875 \r\nQ 8.5 49.078125 8.5 55.328125 \r\nQ 8.5 64.0625 14.71875 69.140625 \r\nQ 20.953125 74.21875 31.78125 74.21875 \r\nQ 42.671875 74.21875 48.875 69.140625 \r\nQ 55.078125 64.0625 55.078125 55.328125 \r\nQ 55.078125 49.078125 51.53125 44.71875 \r\nQ 48 40.375 41.703125 38.8125 \r\nQ 48.828125 37.15625 52.796875 32.3125 \r\nQ 56.78125 27.484375 56.78125 20.515625 \r\nQ 56.78125 9.90625 50.3125 4.234375 \r\nQ 43.84375 -1.421875 31.78125 -1.421875 \r\nQ 19.734375 -1.421875 13.25 4.234375 \r\nQ 6.78125 9.90625 6.78125 20.515625 \r\nQ 6.78125 27.484375 10.78125 32.3125 \r\nQ 14.796875 37.15625 21.921875 38.8125 \r\nz\r\nM 18.3125 54.390625 \r\nQ 18.3125 48.734375 21.84375 45.5625 \r\nQ 25.390625 42.390625 31.78125 42.390625 \r\nQ 38.140625 42.390625 41.71875 45.5625 \r\nQ 45.3125 48.734375 45.3125 54.390625 \r\nQ 45.3125 60.0625 41.71875 63.234375 \r\nQ 38.140625 66.40625 31.78125 66.40625 \r\nQ 25.390625 66.40625 21.84375 63.234375 \r\nQ 18.3125 60.0625 18.3125 54.390625 \r\nz\r\n\" id=\"DejaVuSans-56\"/>\r\n      </defs>\r\n      <g transform=\"translate(25.717188 144.485502)scale(0.1 -0.1)\">\r\n       <use xlink:href=\"#DejaVuSans-50\"/>\r\n       <use x=\"63.623047\" xlink:href=\"#DejaVuSans-46\"/>\r\n       <use x=\"95.410156\" xlink:href=\"#DejaVuSans-56\"/>\r\n      </g>\r\n     </g>\r\n    </g>\r\n    <g id=\"ytick_4\">\r\n     <g id=\"line2d_10\">\r\n      <g>\r\n       <use style=\"stroke:#000000;stroke-width:0.8;\" x=\"48.620313\" xlink:href=\"#m3bb852c889\" y=\"111.306761\"/>\r\n      </g>\r\n     </g>\r\n     <g id=\"text_11\">\r\n      <!-- 3.0 -->\r\n      <g transform=\"translate(25.717188 115.10598)scale(0.1 -0.1)\">\r\n       <use xlink:href=\"#DejaVuSans-51\"/>\r\n       <use x=\"63.623047\" xlink:href=\"#DejaVuSans-46\"/>\r\n       <use x=\"95.410156\" xlink:href=\"#DejaVuSans-48\"/>\r\n      </g>\r\n     </g>\r\n    </g>\r\n    <g id=\"ytick_5\">\r\n     <g id=\"line2d_11\">\r\n      <g>\r\n       <use style=\"stroke:#000000;stroke-width:0.8;\" x=\"48.620313\" xlink:href=\"#m3bb852c889\" y=\"81.927239\"/>\r\n      </g>\r\n     </g>\r\n     <g id=\"text_12\">\r\n      <!-- 3.2 -->\r\n      <g transform=\"translate(25.717188 85.726458)scale(0.1 -0.1)\">\r\n       <use xlink:href=\"#DejaVuSans-51\"/>\r\n       <use x=\"63.623047\" xlink:href=\"#DejaVuSans-46\"/>\r\n       <use x=\"95.410156\" xlink:href=\"#DejaVuSans-50\"/>\r\n      </g>\r\n     </g>\r\n    </g>\r\n    <g id=\"ytick_6\">\r\n     <g id=\"line2d_12\">\r\n      <g>\r\n       <use style=\"stroke:#000000;stroke-width:0.8;\" x=\"48.620313\" xlink:href=\"#m3bb852c889\" y=\"52.547717\"/>\r\n      </g>\r\n     </g>\r\n     <g id=\"text_13\">\r\n      <!-- 3.4 -->\r\n      <g transform=\"translate(25.717188 56.346935)scale(0.1 -0.1)\">\r\n       <use xlink:href=\"#DejaVuSans-51\"/>\r\n       <use x=\"63.623047\" xlink:href=\"#DejaVuSans-46\"/>\r\n       <use x=\"95.410156\" xlink:href=\"#DejaVuSans-52\"/>\r\n      </g>\r\n     </g>\r\n    </g>\r\n    <g id=\"ytick_7\">\r\n     <g id=\"line2d_13\">\r\n      <g>\r\n       <use style=\"stroke:#000000;stroke-width:0.8;\" x=\"48.620313\" xlink:href=\"#m3bb852c889\" y=\"23.168194\"/>\r\n      </g>\r\n     </g>\r\n     <g id=\"text_14\">\r\n      <!-- 3.6 -->\r\n      <g transform=\"translate(25.717188 26.967413)scale(0.1 -0.1)\">\r\n       <use xlink:href=\"#DejaVuSans-51\"/>\r\n       <use x=\"63.623047\" xlink:href=\"#DejaVuSans-46\"/>\r\n       <use x=\"95.410156\" xlink:href=\"#DejaVuSans-54\"/>\r\n      </g>\r\n     </g>\r\n    </g>\r\n    <g id=\"text_15\">\r\n     <!-- Function 2 -->\r\n     <g transform=\"translate(18.597656 154.972734)rotate(-90)scale(0.15 -0.15)\">\r\n      <use xlink:href=\"#DejaVuSans-70\"/>\r\n      <use x=\"52.019531\" xlink:href=\"#DejaVuSans-117\"/>\r\n      <use x=\"115.398438\" xlink:href=\"#DejaVuSans-110\"/>\r\n      <use x=\"178.777344\" xlink:href=\"#DejaVuSans-99\"/>\r\n      <use x=\"233.757812\" xlink:href=\"#DejaVuSans-116\"/>\r\n      <use x=\"272.966797\" xlink:href=\"#DejaVuSans-105\"/>\r\n      <use x=\"300.75\" xlink:href=\"#DejaVuSans-111\"/>\r\n      <use x=\"361.931641\" xlink:href=\"#DejaVuSans-110\"/>\r\n      <use x=\"425.310547\" xlink:href=\"#DejaVuSans-32\"/>\r\n      <use x=\"457.097656\" xlink:href=\"#DejaVuSans-50\"/>\r\n     </g>\r\n    </g>\r\n   </g>\r\n   <g id=\"patch_3\">\r\n    <path d=\"M 48.620313 224.64 \r\nL 48.620313 7.2 \r\n\" style=\"fill:none;stroke:#000000;stroke-linecap:square;stroke-linejoin:miter;stroke-width:0.8;\"/>\r\n   </g>\r\n   <g id=\"patch_4\">\r\n    <path d=\"M 383.420313 224.64 \r\nL 383.420313 7.2 \r\n\" style=\"fill:none;stroke:#000000;stroke-linecap:square;stroke-linejoin:miter;stroke-width:0.8;\"/>\r\n   </g>\r\n   <g id=\"patch_5\">\r\n    <path d=\"M 48.620312 224.64 \r\nL 383.420312 224.64 \r\n\" style=\"fill:none;stroke:#000000;stroke-linecap:square;stroke-linejoin:miter;stroke-width:0.8;\"/>\r\n   </g>\r\n   <g id=\"patch_6\">\r\n    <path d=\"M 48.620312 7.2 \r\nL 383.420312 7.2 \r\n\" style=\"fill:none;stroke:#000000;stroke-linecap:square;stroke-linejoin:miter;stroke-width:0.8;\"/>\r\n   </g>\r\n  </g>\r\n </g>\r\n <defs>\r\n  <clipPath id=\"p451b22a94c\">\r\n   <rect height=\"217.44\" width=\"334.8\" x=\"48.620313\" y=\"7.2\"/>\r\n  </clipPath>\r\n </defs>\r\n</svg>\r\n",
      "image/png": "[encoded data removed]"
     },
     "metadata": {
      "needs_background": "light"
     }
    }
   ],
   "source": [
    "import matplotlib.pyplot as plt\n",
    "#f1 = [i * -1 for i in function1_values]\n",
    "#f2 = [j * -1 for j in function2_values]\n",
    "#f1 = look[0]\n",
    "#f2 = look[1]\n",
    "f1 = initFobj1\n",
    "f2 = initFobj2\n",
    "#print(f1)\n",
    "#print(f2)\n",
    "#print(lookNonDom)\n",
    "plt.xlabel('Function 1', fontsize=15)\n",
    "plt.ylabel('Function 2', fontsize=15)\n",
    "#plt.plot(f1,f2, '.b-')\n",
    "plt.scatter(f2,f1)\n",
    "plt.show()"
   ]
  },
  {
   "cell_type": "code",
   "execution_count": 127,
   "metadata": {},
   "outputs": [
    {
     "output_type": "display_data",
     "data": {
      "text/plain": "<Figure size 432x288 with 1 Axes>",
      "image/svg+xml": "<?xml version=\"1.0\" encoding=\"utf-8\" standalone=\"no\"?>\r\n<!DOCTYPE svg PUBLIC \"-//W3C//DTD SVG 1.1//EN\"\r\n  \"http://www.w3.org/Graphics/SVG/1.1/DTD/svg11.dtd\">\r\n<!-- Created with matplotlib (https://matplotlib.org/) -->\r\n<svg height=\"267.035313pt\" version=\"1.1\" viewBox=\"0 0 396.982812 267.035313\" width=\"396.982812pt\" xmlns=\"http://www.w3.org/2000/svg\" xmlns:xlink=\"http://www.w3.org/1999/xlink\">\r\n <defs>\r\n  <style type=\"text/css\">\r\n*{stroke-linecap:butt;stroke-linejoin:round;}\r\n  </style>\r\n </defs>\r\n <g id=\"figure_1\">\r\n  <g id=\"patch_1\">\r\n   <path d=\"M 0 267.035313 \r\nL 396.982812 267.035313 \r\nL 396.982812 0 \r\nL 0 0 \r\nz\r\n\" style=\"fill:none;\"/>\r\n  </g>\r\n  <g id=\"axes_1\">\r\n   <g id=\"patch_2\">\r\n    <path d=\"M 54.982813 224.64 \r\nL 389.782813 224.64 \r\nL 389.782813 7.2 \r\nL 54.982813 7.2 \r\nz\r\n\" style=\"fill:#ffffff;\"/>\r\n   </g>\r\n   <g id=\"PathCollection_1\">\r\n    <defs>\r\n     <path d=\"M 0 3 \r\nC 0.795609 3 1.55874 2.683901 2.12132 2.12132 \r\nC 2.683901 1.55874 3 0.795609 3 0 \r\nC 3 -0.795609 2.683901 -1.55874 2.12132 -2.12132 \r\nC 1.55874 -2.683901 0.795609 -3 0 -3 \r\nC -0.795609 -3 -1.55874 -2.683901 -2.12132 -2.12132 \r\nC -2.683901 -1.55874 -3 -0.795609 -3 0 \r\nC -3 0.795609 -2.683901 1.55874 -2.12132 2.12132 \r\nC -1.55874 2.683901 -0.795609 3 0 3 \r\nz\r\n\" id=\"m29538131ab\" style=\"stroke:#1f77b4;\"/>\r\n    </defs>\r\n    <g clip-path=\"url(#p1c5814b07e)\">\r\n     <use style=\"fill:#1f77b4;stroke:#1f77b4;\" x=\"97.947257\" xlink:href=\"#m29538131ab\" y=\"29.836766\"/>\r\n     <use style=\"fill:#1f77b4;stroke:#1f77b4;\" x=\"233.375404\" xlink:href=\"#m29538131ab\" y=\"109.766706\"/>\r\n     <use style=\"fill:#1f77b4;stroke:#1f77b4;\" x=\"345.884836\" xlink:href=\"#m29538131ab\" y=\"192.286563\"/>\r\n     <use style=\"fill:#1f77b4;stroke:#1f77b4;\" x=\"165.96805\" xlink:href=\"#m29538131ab\" y=\"65.312938\"/>\r\n     <use style=\"fill:#1f77b4;stroke:#1f77b4;\" x=\"216.629518\" xlink:href=\"#m29538131ab\" y=\"98.106701\"/>\r\n     <use style=\"fill:#1f77b4;stroke:#1f77b4;\" x=\"99.314699\" xlink:href=\"#m29538131ab\" y=\"33.35906\"/>\r\n     <use style=\"fill:#1f77b4;stroke:#1f77b4;\" x=\"312.212147\" xlink:href=\"#m29538131ab\" y=\"164.351135\"/>\r\n     <use style=\"fill:#1f77b4;stroke:#1f77b4;\" x=\"374.564631\" xlink:href=\"#m29538131ab\" y=\"214.756364\"/>\r\n     <use style=\"fill:#1f77b4;stroke:#1f77b4;\" x=\"241.84858\" xlink:href=\"#m29538131ab\" y=\"115.718167\"/>\r\n     <use style=\"fill:#1f77b4;stroke:#1f77b4;\" x=\"115.27021\" xlink:href=\"#m29538131ab\" y=\"37.002811\"/>\r\n     <use style=\"fill:#1f77b4;stroke:#1f77b4;\" x=\"113.920715\" xlink:href=\"#m29538131ab\" y=\"33.480518\"/>\r\n     <use style=\"fill:#1f77b4;stroke:#1f77b4;\" x=\"296.523029\" xlink:href=\"#m29538131ab\" y=\"153.419881\"/>\r\n     <use style=\"fill:#1f77b4;stroke:#1f77b4;\" x=\"134.549217\" xlink:href=\"#m29538131ab\" y=\"49.148649\"/>\r\n     <use style=\"fill:#1f77b4;stroke:#1f77b4;\" x=\"312.97619\" xlink:href=\"#m29538131ab\" y=\"165.687177\"/>\r\n     <use style=\"fill:#1f77b4;stroke:#1f77b4;\" x=\"70.200994\" xlink:href=\"#m29538131ab\" y=\"17.083636\"/>\r\n     <use style=\"fill:#1f77b4;stroke:#1f77b4;\" x=\"276.250181\" xlink:href=\"#m29538131ab\" y=\"137.751749\"/>\r\n     <use style=\"fill:#1f77b4;stroke:#1f77b4;\" x=\"241.183236\" xlink:href=\"#m29538131ab\" y=\"113.896291\"/>\r\n     <use style=\"fill:#1f77b4;stroke:#1f77b4;\" x=\"297.467244\" xlink:href=\"#m29538131ab\" y=\"156.406725\"/>\r\n     <use style=\"fill:#1f77b4;stroke:#1f77b4;\" x=\"147.203122\" xlink:href=\"#m29538131ab\" y=\"57.335977\"/>\r\n     <use style=\"fill:#1f77b4;stroke:#1f77b4;\" x=\"342.281492\" xlink:href=\"#m29538131ab\" y=\"188.156978\"/>\r\n     <use style=\"fill:#1f77b4;stroke:#1f77b4;\" x=\"226.924316\" xlink:href=\"#m29538131ab\" y=\"101.264619\"/>\r\n     <use style=\"fill:#1f77b4;stroke:#1f77b4;\" x=\"149.435733\" xlink:href=\"#m29538131ab\" y=\"58.379486\"/>\r\n     <use style=\"fill:#1f77b4;stroke:#1f77b4;\" x=\"307.6085\" xlink:href=\"#m29538131ab\" y=\"160.828842\"/>\r\n     <use style=\"fill:#1f77b4;stroke:#1f77b4;\" x=\"207.98846\" xlink:href=\"#m29538131ab\" y=\"89.118781\"/>\r\n     <use style=\"fill:#1f77b4;stroke:#1f77b4;\" x=\"277.261\" xlink:href=\"#m29538131ab\" y=\"139.524009\"/>\r\n     <use style=\"fill:#1f77b4;stroke:#1f77b4;\" x=\"280.856986\" xlink:href=\"#m29538131ab\" y=\"141.953177\"/>\r\n     <use style=\"fill:#1f77b4;stroke:#1f77b4;\" x=\"89.169429\" xlink:href=\"#m29538131ab\" y=\"26.800307\"/>\r\n     <use style=\"fill:#1f77b4;stroke:#1f77b4;\" x=\"125.367396\" xlink:href=\"#m29538131ab\" y=\"43.197188\"/>\r\n     <use style=\"fill:#1f77b4;stroke:#1f77b4;\" x=\"286.619132\" xlink:href=\"#m29538131ab\" y=\"146.690054\"/>\r\n     <use style=\"fill:#1f77b4;stroke:#1f77b4;\" x=\"281.073231\" xlink:href=\"#m29538131ab\" y=\"142.002793\"/>\r\n     <use style=\"fill:#1f77b4;stroke:#1f77b4;\" x=\"322.613319\" xlink:href=\"#m29538131ab\" y=\"170.545513\"/>\r\n     <use style=\"fill:#1f77b4;stroke:#1f77b4;\" x=\"192.400238\" xlink:href=\"#m29538131ab\" y=\"78.066068\"/>\r\n     <use style=\"fill:#1f77b4;stroke:#1f77b4;\" x=\"184.508017\" xlink:href=\"#m29538131ab\" y=\"75.029609\"/>\r\n     <use style=\"fill:#1f77b4;stroke:#1f77b4;\" x=\"261.41499\" xlink:href=\"#m29538131ab\" y=\"129.564422\"/>\r\n     <use style=\"fill:#1f77b4;stroke:#1f77b4;\" x=\"342.281492\" xlink:href=\"#m29538131ab\" y=\"188.156978\"/>\r\n     <use style=\"fill:#1f77b4;stroke:#1f77b4;\" x=\"218.404741\" xlink:href=\"#m29538131ab\" y=\"99.442743\"/>\r\n     <use style=\"fill:#1f77b4;stroke:#1f77b4;\" x=\"272.413633\" xlink:href=\"#m29538131ab\" y=\"136.366091\"/>\r\n     <use style=\"fill:#1f77b4;stroke:#1f77b4;\" x=\"259.991489\" xlink:href=\"#m29538131ab\" y=\"126.042129\"/>\r\n     <use style=\"fill:#1f77b4;stroke:#1f77b4;\" x=\"197.452839\" xlink:href=\"#m29538131ab\" y=\"84.138987\"/>\r\n     <use style=\"fill:#1f77b4;stroke:#1f77b4;\" x=\"333.468158\" xlink:href=\"#m29538131ab\" y=\"182.569892\"/>\r\n     <use style=\"fill:#1f77b4;stroke:#1f77b4;\" x=\"315.799744\" xlink:href=\"#m29538131ab\" y=\"166.780303\"/>\r\n     <use style=\"fill:#1f77b4;stroke:#1f77b4;\" x=\"256.306917\" xlink:href=\"#m29538131ab\" y=\"123.612961\"/>\r\n     <use style=\"fill:#1f77b4;stroke:#1f77b4;\" x=\"305.45808\" xlink:href=\"#m29538131ab\" y=\"160.22155\"/>\r\n     <use style=\"fill:#1f77b4;stroke:#1f77b4;\" x=\"173.465285\" xlink:href=\"#m29538131ab\" y=\"65.92023\"/>\r\n     <use style=\"fill:#1f77b4;stroke:#1f77b4;\" x=\"272.413633\" xlink:href=\"#m29538131ab\" y=\"136.366091\"/>\r\n     <use style=\"fill:#1f77b4;stroke:#1f77b4;\" x=\"298.678575\" xlink:href=\"#m29538131ab\" y=\"157.742767\"/>\r\n     <use style=\"fill:#1f77b4;stroke:#1f77b4;\" x=\"303.669247\" xlink:href=\"#m29538131ab\" y=\"158.399674\"/>\r\n     <use style=\"fill:#1f77b4;stroke:#1f77b4;\" x=\"237.604328\" xlink:href=\"#m29538131ab\" y=\"111.588582\"/>\r\n     <use style=\"fill:#1f77b4;stroke:#1f77b4;\" x=\"203.660626\" xlink:href=\"#m29538131ab\" y=\"88.997322\"/>\r\n     <use style=\"fill:#1f77b4;stroke:#1f77b4;\" x=\"331.419823\" xlink:href=\"#m29538131ab\" y=\"181.9626\"/>\r\n     <use style=\"fill:#1f77b4;stroke:#1f77b4;\" x=\"237.297552\" xlink:href=\"#m29538131ab\" y=\"111.467123\"/>\r\n     <use style=\"fill:#1f77b4;stroke:#1f77b4;\" x=\"207.98846\" xlink:href=\"#m29538131ab\" y=\"89.118781\"/>\r\n     <use style=\"fill:#1f77b4;stroke:#1f77b4;\" x=\"216.629518\" xlink:href=\"#m29538131ab\" y=\"98.106701\"/>\r\n     <use style=\"fill:#1f77b4;stroke:#1f77b4;\" x=\"291.144626\" xlink:href=\"#m29538131ab\" y=\"147.46842\"/>\r\n     <use style=\"fill:#1f77b4;stroke:#1f77b4;\" x=\"242.912452\" xlink:href=\"#m29538131ab\" y=\"116.93275\"/>\r\n     <use style=\"fill:#1f77b4;stroke:#1f77b4;\" x=\"345.884836\" xlink:href=\"#m29538131ab\" y=\"192.286563\"/>\r\n     <use style=\"fill:#1f77b4;stroke:#1f77b4;\" x=\"209.408861\" xlink:href=\"#m29538131ab\" y=\"92.641074\"/>\r\n     <use style=\"fill:#1f77b4;stroke:#1f77b4;\" x=\"251.321732\" xlink:href=\"#m29538131ab\" y=\"119.483376\"/>\r\n     <use style=\"fill:#1f77b4;stroke:#1f77b4;\" x=\"203.584703\" xlink:href=\"#m29538131ab\" y=\"88.390031\"/>\r\n     <use style=\"fill:#1f77b4;stroke:#1f77b4;\" x=\"296.922836\" xlink:href=\"#m29538131ab\" y=\"154.634465\"/>\r\n     <use style=\"fill:#1f77b4;stroke:#1f77b4;\" x=\"229.5584\" xlink:href=\"#m29538131ab\" y=\"106.001496\"/>\r\n     <use style=\"fill:#1f77b4;stroke:#1f77b4;\" x=\"326.349475\" xlink:href=\"#m29538131ab\" y=\"172.97468\"/>\r\n     <use style=\"fill:#1f77b4;stroke:#1f77b4;\" x=\"312.97619\" xlink:href=\"#m29538131ab\" y=\"165.687177\"/>\r\n     <use style=\"fill:#1f77b4;stroke:#1f77b4;\" x=\"193.815403\" xlink:href=\"#m29538131ab\" y=\"81.588361\"/>\r\n     <use style=\"fill:#1f77b4;stroke:#1f77b4;\" x=\"329.764509\" xlink:href=\"#m29538131ab\" y=\"178.440307\"/>\r\n     <use style=\"fill:#1f77b4;stroke:#1f77b4;\" x=\"195.911084\" xlink:href=\"#m29538131ab\" y=\"82.43857\"/>\r\n     <use style=\"fill:#1f77b4;stroke:#1f77b4;\" x=\"295.048441\" xlink:href=\"#m29538131ab\" y=\"149.897588\"/>\r\n     <use style=\"fill:#1f77b4;stroke:#1f77b4;\" x=\"165.35708\" xlink:href=\"#m29538131ab\" y=\"62.88377\"/>\r\n     <use style=\"fill:#1f77b4;stroke:#1f77b4;\" x=\"146.734853\" xlink:href=\"#m29538131ab\" y=\"53.1671\"/>\r\n     <use style=\"fill:#1f77b4;stroke:#1f77b4;\" x=\"372.81456\" xlink:href=\"#m29538131ab\" y=\"211.234071\"/>\r\n     <use style=\"fill:#1f77b4;stroke:#1f77b4;\" x=\"260.763851\" xlink:href=\"#m29538131ab\" y=\"127.864005\"/>\r\n     <use style=\"fill:#1f77b4;stroke:#1f77b4;\" x=\"305.45808\" xlink:href=\"#m29538131ab\" y=\"160.22155\"/>\r\n     <use style=\"fill:#1f77b4;stroke:#1f77b4;\" x=\"228.375885\" xlink:href=\"#m29538131ab\" y=\"104.786912\"/>\r\n     <use style=\"fill:#1f77b4;stroke:#1f77b4;\" x=\"226.924316\" xlink:href=\"#m29538131ab\" y=\"101.264619\"/>\r\n     <use style=\"fill:#1f77b4;stroke:#1f77b4;\" x=\"203.286343\" xlink:href=\"#m29538131ab\" y=\"87.782739\"/>\r\n     <use style=\"fill:#1f77b4;stroke:#1f77b4;\" x=\"142.94075\" xlink:href=\"#m29538131ab\" y=\"51.820734\"/>\r\n     <use style=\"fill:#1f77b4;stroke:#1f77b4;\" x=\"247.426303\" xlink:href=\"#m29538131ab\" y=\"117.054209\"/>\r\n     <use style=\"fill:#1f77b4;stroke:#1f77b4;\" x=\"133.169033\" xlink:href=\"#m29538131ab\" y=\"45.626356\"/>\r\n     <use style=\"fill:#1f77b4;stroke:#1f77b4;\" x=\"87.792375\" xlink:href=\"#m29538131ab\" y=\"23.278014\"/>\r\n     <use style=\"fill:#1f77b4;stroke:#1f77b4;\" x=\"268.749482\" xlink:href=\"#m29538131ab\" y=\"132.893414\"/>\r\n     <use style=\"fill:#1f77b4;stroke:#1f77b4;\" x=\"283.245302\" xlink:href=\"#m29538131ab\" y=\"142.560469\"/>\r\n     <use style=\"fill:#1f77b4;stroke:#1f77b4;\" x=\"280.856986\" xlink:href=\"#m29538131ab\" y=\"141.953177\"/>\r\n     <use style=\"fill:#1f77b4;stroke:#1f77b4;\" x=\"334.677821\" xlink:href=\"#m29538131ab\" y=\"182.691351\"/>\r\n     <use style=\"fill:#1f77b4;stroke:#1f77b4;\" x=\"328.05224\" xlink:href=\"#m29538131ab\" y=\"176.496973\"/>\r\n     <use style=\"fill:#1f77b4;stroke:#1f77b4;\" x=\"350.616608\" xlink:href=\"#m29538131ab\" y=\"195.323023\"/>\r\n     <use style=\"fill:#1f77b4;stroke:#1f77b4;\" x=\"183.082961\" xlink:href=\"#m29538131ab\" y=\"71.507315\"/>\r\n     <use style=\"fill:#1f77b4;stroke:#1f77b4;\" x=\"344.188812\" xlink:href=\"#m29538131ab\" y=\"188.76427\"/>\r\n     <use style=\"fill:#1f77b4;stroke:#1f77b4;\" x=\"281.073231\" xlink:href=\"#m29538131ab\" y=\"142.002793\"/>\r\n     <use style=\"fill:#1f77b4;stroke:#1f77b4;\" x=\"272.14475\" xlink:href=\"#m29538131ab\" y=\"135.322582\"/>\r\n     <use style=\"fill:#1f77b4;stroke:#1f77b4;\" x=\"264.851544\" xlink:href=\"#m29538131ab\" y=\"129.807339\"/>\r\n     <use style=\"fill:#1f77b4;stroke:#1f77b4;\" x=\"252.755374\" xlink:href=\"#m29538131ab\" y=\"123.005669\"/>\r\n     <use style=\"fill:#1f77b4;stroke:#1f77b4;\" x=\"328.05224\" xlink:href=\"#m29538131ab\" y=\"176.496973\"/>\r\n     <use style=\"fill:#1f77b4;stroke:#1f77b4;\" x=\"193.828352\" xlink:href=\"#m29538131ab\" y=\"81.831278\"/>\r\n     <use style=\"fill:#1f77b4;stroke:#1f77b4;\" x=\"97.947257\" xlink:href=\"#m29538131ab\" y=\"29.836766\"/>\r\n     <use style=\"fill:#1f77b4;stroke:#1f77b4;\" x=\"279.516009\" xlink:href=\"#m29538131ab\" y=\"140.131301\"/>\r\n     <use style=\"fill:#1f77b4;stroke:#1f77b4;\" x=\"203.584703\" xlink:href=\"#m29538131ab\" y=\"88.390031\"/>\r\n     <use style=\"fill:#1f77b4;stroke:#1f77b4;\" x=\"212.85149\" xlink:href=\"#m29538131ab\" y=\"93.855658\"/>\r\n     <use style=\"fill:#1f77b4;stroke:#1f77b4;\" x=\"222.538473\" xlink:href=\"#m29538131ab\" y=\"101.143161\"/>\r\n     <use style=\"fill:#1f77b4;stroke:#1f77b4;\" x=\"284.905708\" xlink:href=\"#m29538131ab\" y=\"146.082762\"/>\r\n     <use style=\"fill:#1f77b4;stroke:#1f77b4;\" x=\"355.793849\" xlink:href=\"#m29538131ab\" y=\"202.610525\"/>\r\n    </g>\r\n   </g>\r\n   <g id=\"matplotlib.axis_1\">\r\n    <g id=\"xtick_1\">\r\n     <g id=\"line2d_1\">\r\n      <defs>\r\n       <path d=\"M 0 0 \r\nL 0 3.5 \r\n\" id=\"m6c0b069beb\" style=\"stroke:#000000;stroke-width:0.8;\"/>\r\n      </defs>\r\n      <g>\r\n       <use style=\"stroke:#000000;stroke-width:0.8;\" x=\"71.633117\" xlink:href=\"#m6c0b069beb\" y=\"224.64\"/>\r\n      </g>\r\n     </g>\r\n     <g id=\"text_1\">\r\n      <!-- 4.20 -->\r\n      <defs>\r\n       <path d=\"M 37.796875 64.3125 \r\nL 12.890625 25.390625 \r\nL 37.796875 25.390625 \r\nz\r\nM 35.203125 72.90625 \r\nL 47.609375 72.90625 \r\nL 47.609375 25.390625 \r\nL 58.015625 25.390625 \r\nL 58.015625 17.1875 \r\nL 47.609375 17.1875 \r\nL 47.609375 0 \r\nL 37.796875 0 \r\nL 37.796875 17.1875 \r\nL 4.890625 17.1875 \r\nL 4.890625 26.703125 \r\nz\r\n\" id=\"DejaVuSans-52\"/>\r\n       <path d=\"M 10.6875 12.40625 \r\nL 21 12.40625 \r\nL 21 0 \r\nL 10.6875 0 \r\nz\r\n\" id=\"DejaVuSans-46\"/>\r\n       <path d=\"M 19.1875 8.296875 \r\nL 53.609375 8.296875 \r\nL 53.609375 0 \r\nL 7.328125 0 \r\nL 7.328125 8.296875 \r\nQ 12.9375 14.109375 22.625 23.890625 \r\nQ 32.328125 33.6875 34.8125 36.53125 \r\nQ 39.546875 41.84375 41.421875 45.53125 \r\nQ 43.3125 49.21875 43.3125 52.78125 \r\nQ 43.3125 58.59375 39.234375 62.25 \r\nQ 35.15625 65.921875 28.609375 65.921875 \r\nQ 23.96875 65.921875 18.8125 64.3125 \r\nQ 13.671875 62.703125 7.8125 59.421875 \r\nL 7.8125 69.390625 \r\nQ 13.765625 71.78125 18.9375 73 \r\nQ 24.125 74.21875 28.421875 74.21875 \r\nQ 39.75 74.21875 46.484375 68.546875 \r\nQ 53.21875 62.890625 53.21875 53.421875 \r\nQ 53.21875 48.921875 51.53125 44.890625 \r\nQ 49.859375 40.875 45.40625 35.40625 \r\nQ 44.1875 33.984375 37.640625 27.21875 \r\nQ 31.109375 20.453125 19.1875 8.296875 \r\nz\r\n\" id=\"DejaVuSans-50\"/>\r\n       <path d=\"M 31.78125 66.40625 \r\nQ 24.171875 66.40625 20.328125 58.90625 \r\nQ 16.5 51.421875 16.5 36.375 \r\nQ 16.5 21.390625 20.328125 13.890625 \r\nQ 24.171875 6.390625 31.78125 6.390625 \r\nQ 39.453125 6.390625 43.28125 13.890625 \r\nQ 47.125 21.390625 47.125 36.375 \r\nQ 47.125 51.421875 43.28125 58.90625 \r\nQ 39.453125 66.40625 31.78125 66.40625 \r\nz\r\nM 31.78125 74.21875 \r\nQ 44.046875 74.21875 50.515625 64.515625 \r\nQ 56.984375 54.828125 56.984375 36.375 \r\nQ 56.984375 17.96875 50.515625 8.265625 \r\nQ 44.046875 -1.421875 31.78125 -1.421875 \r\nQ 19.53125 -1.421875 13.0625 8.265625 \r\nQ 6.59375 17.96875 6.59375 36.375 \r\nQ 6.59375 54.828125 13.0625 64.515625 \r\nQ 19.53125 74.21875 31.78125 74.21875 \r\nz\r\n\" id=\"DejaVuSans-48\"/>\r\n      </defs>\r\n      <g transform=\"translate(60.500304 239.238438)scale(0.1 -0.1)\">\r\n       <use xlink:href=\"#DejaVuSans-52\"/>\r\n       <use x=\"63.623047\" xlink:href=\"#DejaVuSans-46\"/>\r\n       <use x=\"95.410156\" xlink:href=\"#DejaVuSans-50\"/>\r\n       <use x=\"159.033203\" xlink:href=\"#DejaVuSans-48\"/>\r\n      </g>\r\n     </g>\r\n    </g>\r\n    <g id=\"xtick_2\">\r\n     <g id=\"line2d_2\">\r\n      <g>\r\n       <use style=\"stroke:#000000;stroke-width:0.8;\" x=\"136.424584\" xlink:href=\"#m6c0b069beb\" y=\"224.64\"/>\r\n      </g>\r\n     </g>\r\n     <g id=\"text_2\">\r\n      <!-- 4.22 -->\r\n      <g transform=\"translate(125.291771 239.238438)scale(0.1 -0.1)\">\r\n       <use xlink:href=\"#DejaVuSans-52\"/>\r\n       <use x=\"63.623047\" xlink:href=\"#DejaVuSans-46\"/>\r\n       <use x=\"95.410156\" xlink:href=\"#DejaVuSans-50\"/>\r\n       <use x=\"159.033203\" xlink:href=\"#DejaVuSans-50\"/>\r\n      </g>\r\n     </g>\r\n    </g>\r\n    <g id=\"xtick_3\">\r\n     <g id=\"line2d_3\">\r\n      <g>\r\n       <use style=\"stroke:#000000;stroke-width:0.8;\" x=\"201.21605\" xlink:href=\"#m6c0b069beb\" y=\"224.64\"/>\r\n      </g>\r\n     </g>\r\n     <g id=\"text_3\">\r\n      <!-- 4.24 -->\r\n      <g transform=\"translate(190.083238 239.238438)scale(0.1 -0.1)\">\r\n       <use xlink:href=\"#DejaVuSans-52\"/>\r\n       <use x=\"63.623047\" xlink:href=\"#DejaVuSans-46\"/>\r\n       <use x=\"95.410156\" xlink:href=\"#DejaVuSans-50\"/>\r\n       <use x=\"159.033203\" xlink:href=\"#DejaVuSans-52\"/>\r\n      </g>\r\n     </g>\r\n    </g>\r\n    <g id=\"xtick_4\">\r\n     <g id=\"line2d_4\">\r\n      <g>\r\n       <use style=\"stroke:#000000;stroke-width:0.8;\" x=\"266.007517\" xlink:href=\"#m6c0b069beb\" y=\"224.64\"/>\r\n      </g>\r\n     </g>\r\n     <g id=\"text_4\">\r\n      <!-- 4.26 -->\r\n      <defs>\r\n       <path d=\"M 33.015625 40.375 \r\nQ 26.375 40.375 22.484375 35.828125 \r\nQ 18.609375 31.296875 18.609375 23.390625 \r\nQ 18.609375 15.53125 22.484375 10.953125 \r\nQ 26.375 6.390625 33.015625 6.390625 \r\nQ 39.65625 6.390625 43.53125 10.953125 \r\nQ 47.40625 15.53125 47.40625 23.390625 \r\nQ 47.40625 31.296875 43.53125 35.828125 \r\nQ 39.65625 40.375 33.015625 40.375 \r\nz\r\nM 52.59375 71.296875 \r\nL 52.59375 62.3125 \r\nQ 48.875 64.0625 45.09375 64.984375 \r\nQ 41.3125 65.921875 37.59375 65.921875 \r\nQ 27.828125 65.921875 22.671875 59.328125 \r\nQ 17.53125 52.734375 16.796875 39.40625 \r\nQ 19.671875 43.65625 24.015625 45.921875 \r\nQ 28.375 48.1875 33.59375 48.1875 \r\nQ 44.578125 48.1875 50.953125 41.515625 \r\nQ 57.328125 34.859375 57.328125 23.390625 \r\nQ 57.328125 12.15625 50.6875 5.359375 \r\nQ 44.046875 -1.421875 33.015625 -1.421875 \r\nQ 20.359375 -1.421875 13.671875 8.265625 \r\nQ 6.984375 17.96875 6.984375 36.375 \r\nQ 6.984375 53.65625 15.1875 63.9375 \r\nQ 23.390625 74.21875 37.203125 74.21875 \r\nQ 40.921875 74.21875 44.703125 73.484375 \r\nQ 48.484375 72.75 52.59375 71.296875 \r\nz\r\n\" id=\"DejaVuSans-54\"/>\r\n      </defs>\r\n      <g transform=\"translate(254.874704 239.238438)scale(0.1 -0.1)\">\r\n       <use xlink:href=\"#DejaVuSans-52\"/>\r\n       <use x=\"63.623047\" xlink:href=\"#DejaVuSans-46\"/>\r\n       <use x=\"95.410156\" xlink:href=\"#DejaVuSans-50\"/>\r\n       <use x=\"159.033203\" xlink:href=\"#DejaVuSans-54\"/>\r\n      </g>\r\n     </g>\r\n    </g>\r\n    <g id=\"xtick_5\">\r\n     <g id=\"line2d_5\">\r\n      <g>\r\n       <use style=\"stroke:#000000;stroke-width:0.8;\" x=\"330.798983\" xlink:href=\"#m6c0b069beb\" y=\"224.64\"/>\r\n      </g>\r\n     </g>\r\n     <g id=\"text_5\">\r\n      <!-- 4.28 -->\r\n      <defs>\r\n       <path d=\"M 31.78125 34.625 \r\nQ 24.75 34.625 20.71875 30.859375 \r\nQ 16.703125 27.09375 16.703125 20.515625 \r\nQ 16.703125 13.921875 20.71875 10.15625 \r\nQ 24.75 6.390625 31.78125 6.390625 \r\nQ 38.8125 6.390625 42.859375 10.171875 \r\nQ 46.921875 13.96875 46.921875 20.515625 \r\nQ 46.921875 27.09375 42.890625 30.859375 \r\nQ 38.875 34.625 31.78125 34.625 \r\nz\r\nM 21.921875 38.8125 \r\nQ 15.578125 40.375 12.03125 44.71875 \r\nQ 8.5 49.078125 8.5 55.328125 \r\nQ 8.5 64.0625 14.71875 69.140625 \r\nQ 20.953125 74.21875 31.78125 74.21875 \r\nQ 42.671875 74.21875 48.875 69.140625 \r\nQ 55.078125 64.0625 55.078125 55.328125 \r\nQ 55.078125 49.078125 51.53125 44.71875 \r\nQ 48 40.375 41.703125 38.8125 \r\nQ 48.828125 37.15625 52.796875 32.3125 \r\nQ 56.78125 27.484375 56.78125 20.515625 \r\nQ 56.78125 9.90625 50.3125 4.234375 \r\nQ 43.84375 -1.421875 31.78125 -1.421875 \r\nQ 19.734375 -1.421875 13.25 4.234375 \r\nQ 6.78125 9.90625 6.78125 20.515625 \r\nQ 6.78125 27.484375 10.78125 32.3125 \r\nQ 14.796875 37.15625 21.921875 38.8125 \r\nz\r\nM 18.3125 54.390625 \r\nQ 18.3125 48.734375 21.84375 45.5625 \r\nQ 25.390625 42.390625 31.78125 42.390625 \r\nQ 38.140625 42.390625 41.71875 45.5625 \r\nQ 45.3125 48.734375 45.3125 54.390625 \r\nQ 45.3125 60.0625 41.71875 63.234375 \r\nQ 38.140625 66.40625 31.78125 66.40625 \r\nQ 25.390625 66.40625 21.84375 63.234375 \r\nQ 18.3125 60.0625 18.3125 54.390625 \r\nz\r\n\" id=\"DejaVuSans-56\"/>\r\n      </defs>\r\n      <g transform=\"translate(319.666171 239.238438)scale(0.1 -0.1)\">\r\n       <use xlink:href=\"#DejaVuSans-52\"/>\r\n       <use x=\"63.623047\" xlink:href=\"#DejaVuSans-46\"/>\r\n       <use x=\"95.410156\" xlink:href=\"#DejaVuSans-50\"/>\r\n       <use x=\"159.033203\" xlink:href=\"#DejaVuSans-56\"/>\r\n      </g>\r\n     </g>\r\n    </g>\r\n    <g id=\"text_6\">\r\n     <!-- Function 1 -->\r\n     <defs>\r\n      <path d=\"M 9.8125 72.90625 \r\nL 51.703125 72.90625 \r\nL 51.703125 64.59375 \r\nL 19.671875 64.59375 \r\nL 19.671875 43.109375 \r\nL 48.578125 43.109375 \r\nL 48.578125 34.8125 \r\nL 19.671875 34.8125 \r\nL 19.671875 0 \r\nL 9.8125 0 \r\nz\r\n\" id=\"DejaVuSans-70\"/>\r\n      <path d=\"M 8.5 21.578125 \r\nL 8.5 54.6875 \r\nL 17.484375 54.6875 \r\nL 17.484375 21.921875 \r\nQ 17.484375 14.15625 20.5 10.265625 \r\nQ 23.53125 6.390625 29.59375 6.390625 \r\nQ 36.859375 6.390625 41.078125 11.03125 \r\nQ 45.3125 15.671875 45.3125 23.6875 \r\nL 45.3125 54.6875 \r\nL 54.296875 54.6875 \r\nL 54.296875 0 \r\nL 45.3125 0 \r\nL 45.3125 8.40625 \r\nQ 42.046875 3.421875 37.71875 1 \r\nQ 33.40625 -1.421875 27.6875 -1.421875 \r\nQ 18.265625 -1.421875 13.375 4.4375 \r\nQ 8.5 10.296875 8.5 21.578125 \r\nz\r\nM 31.109375 56 \r\nz\r\n\" id=\"DejaVuSans-117\"/>\r\n      <path d=\"M 54.890625 33.015625 \r\nL 54.890625 0 \r\nL 45.90625 0 \r\nL 45.90625 32.71875 \r\nQ 45.90625 40.484375 42.875 44.328125 \r\nQ 39.84375 48.1875 33.796875 48.1875 \r\nQ 26.515625 48.1875 22.3125 43.546875 \r\nQ 18.109375 38.921875 18.109375 30.90625 \r\nL 18.109375 0 \r\nL 9.078125 0 \r\nL 9.078125 54.6875 \r\nL 18.109375 54.6875 \r\nL 18.109375 46.1875 \r\nQ 21.34375 51.125 25.703125 53.5625 \r\nQ 30.078125 56 35.796875 56 \r\nQ 45.21875 56 50.046875 50.171875 \r\nQ 54.890625 44.34375 54.890625 33.015625 \r\nz\r\n\" id=\"DejaVuSans-110\"/>\r\n      <path d=\"M 48.78125 52.59375 \r\nL 48.78125 44.1875 \r\nQ 44.96875 46.296875 41.140625 47.34375 \r\nQ 37.3125 48.390625 33.40625 48.390625 \r\nQ 24.65625 48.390625 19.8125 42.84375 \r\nQ 14.984375 37.3125 14.984375 27.296875 \r\nQ 14.984375 17.28125 19.8125 11.734375 \r\nQ 24.65625 6.203125 33.40625 6.203125 \r\nQ 37.3125 6.203125 41.140625 7.25 \r\nQ 44.96875 8.296875 48.78125 10.40625 \r\nL 48.78125 2.09375 \r\nQ 45.015625 0.34375 40.984375 -0.53125 \r\nQ 36.96875 -1.421875 32.421875 -1.421875 \r\nQ 20.0625 -1.421875 12.78125 6.34375 \r\nQ 5.515625 14.109375 5.515625 27.296875 \r\nQ 5.515625 40.671875 12.859375 48.328125 \r\nQ 20.21875 56 33.015625 56 \r\nQ 37.15625 56 41.109375 55.140625 \r\nQ 45.0625 54.296875 48.78125 52.59375 \r\nz\r\n\" id=\"DejaVuSans-99\"/>\r\n      <path d=\"M 18.3125 70.21875 \r\nL 18.3125 54.6875 \r\nL 36.8125 54.6875 \r\nL 36.8125 47.703125 \r\nL 18.3125 47.703125 \r\nL 18.3125 18.015625 \r\nQ 18.3125 11.328125 20.140625 9.421875 \r\nQ 21.96875 7.515625 27.59375 7.515625 \r\nL 36.8125 7.515625 \r\nL 36.8125 0 \r\nL 27.59375 0 \r\nQ 17.1875 0 13.234375 3.875 \r\nQ 9.28125 7.765625 9.28125 18.015625 \r\nL 9.28125 47.703125 \r\nL 2.6875 47.703125 \r\nL 2.6875 54.6875 \r\nL 9.28125 54.6875 \r\nL 9.28125 70.21875 \r\nz\r\n\" id=\"DejaVuSans-116\"/>\r\n      <path d=\"M 9.421875 54.6875 \r\nL 18.40625 54.6875 \r\nL 18.40625 0 \r\nL 9.421875 0 \r\nz\r\nM 9.421875 75.984375 \r\nL 18.40625 75.984375 \r\nL 18.40625 64.59375 \r\nL 9.421875 64.59375 \r\nz\r\n\" id=\"DejaVuSans-105\"/>\r\n      <path d=\"M 30.609375 48.390625 \r\nQ 23.390625 48.390625 19.1875 42.75 \r\nQ 14.984375 37.109375 14.984375 27.296875 \r\nQ 14.984375 17.484375 19.15625 11.84375 \r\nQ 23.34375 6.203125 30.609375 6.203125 \r\nQ 37.796875 6.203125 41.984375 11.859375 \r\nQ 46.1875 17.53125 46.1875 27.296875 \r\nQ 46.1875 37.015625 41.984375 42.703125 \r\nQ 37.796875 48.390625 30.609375 48.390625 \r\nz\r\nM 30.609375 56 \r\nQ 42.328125 56 49.015625 48.375 \r\nQ 55.71875 40.765625 55.71875 27.296875 \r\nQ 55.71875 13.875 49.015625 6.21875 \r\nQ 42.328125 -1.421875 30.609375 -1.421875 \r\nQ 18.84375 -1.421875 12.171875 6.21875 \r\nQ 5.515625 13.875 5.515625 27.296875 \r\nQ 5.515625 40.765625 12.171875 48.375 \r\nQ 18.84375 56 30.609375 56 \r\nz\r\n\" id=\"DejaVuSans-111\"/>\r\n      <path id=\"DejaVuSans-32\"/>\r\n      <path d=\"M 12.40625 8.296875 \r\nL 28.515625 8.296875 \r\nL 28.515625 63.921875 \r\nL 10.984375 60.40625 \r\nL 10.984375 69.390625 \r\nL 28.421875 72.90625 \r\nL 38.28125 72.90625 \r\nL 38.28125 8.296875 \r\nL 54.390625 8.296875 \r\nL 54.390625 0 \r\nL 12.40625 0 \r\nz\r\n\" id=\"DejaVuSans-49\"/>\r\n     </defs>\r\n     <g transform=\"translate(183.330078 256.715781)scale(0.15 -0.15)\">\r\n      <use xlink:href=\"#DejaVuSans-70\"/>\r\n      <use x=\"52.019531\" xlink:href=\"#DejaVuSans-117\"/>\r\n      <use x=\"115.398438\" xlink:href=\"#DejaVuSans-110\"/>\r\n      <use x=\"178.777344\" xlink:href=\"#DejaVuSans-99\"/>\r\n      <use x=\"233.757812\" xlink:href=\"#DejaVuSans-116\"/>\r\n      <use x=\"272.966797\" xlink:href=\"#DejaVuSans-105\"/>\r\n      <use x=\"300.75\" xlink:href=\"#DejaVuSans-111\"/>\r\n      <use x=\"361.931641\" xlink:href=\"#DejaVuSans-110\"/>\r\n      <use x=\"425.310547\" xlink:href=\"#DejaVuSans-32\"/>\r\n      <use x=\"457.097656\" xlink:href=\"#DejaVuSans-49\"/>\r\n     </g>\r\n    </g>\r\n   </g>\r\n   <g id=\"matplotlib.axis_2\">\r\n    <g id=\"ytick_1\">\r\n     <g id=\"line2d_6\">\r\n      <defs>\r\n       <path d=\"M 0 0 \r\nL -3.5 0 \r\n\" id=\"m67e4d61b2f\" style=\"stroke:#000000;stroke-width:0.8;\"/>\r\n      </defs>\r\n      <g>\r\n       <use style=\"stroke:#000000;stroke-width:0.8;\" x=\"54.982813\" xlink:href=\"#m67e4d61b2f\" y=\"217.216685\"/>\r\n      </g>\r\n     </g>\r\n     <g id=\"text_7\">\r\n      <!-- 5.60 -->\r\n      <defs>\r\n       <path d=\"M 10.796875 72.90625 \r\nL 49.515625 72.90625 \r\nL 49.515625 64.59375 \r\nL 19.828125 64.59375 \r\nL 19.828125 46.734375 \r\nQ 21.96875 47.46875 24.109375 47.828125 \r\nQ 26.265625 48.1875 28.421875 48.1875 \r\nQ 40.625 48.1875 47.75 41.5 \r\nQ 54.890625 34.8125 54.890625 23.390625 \r\nQ 54.890625 11.625 47.5625 5.09375 \r\nQ 40.234375 -1.421875 26.90625 -1.421875 \r\nQ 22.3125 -1.421875 17.546875 -0.640625 \r\nQ 12.796875 0.140625 7.71875 1.703125 \r\nL 7.71875 11.625 \r\nQ 12.109375 9.234375 16.796875 8.0625 \r\nQ 21.484375 6.890625 26.703125 6.890625 \r\nQ 35.15625 6.890625 40.078125 11.328125 \r\nQ 45.015625 15.765625 45.015625 23.390625 \r\nQ 45.015625 31 40.078125 35.4375 \r\nQ 35.15625 39.890625 26.703125 39.890625 \r\nQ 22.75 39.890625 18.8125 39.015625 \r\nQ 14.890625 38.140625 10.796875 36.28125 \r\nz\r\n\" id=\"DejaVuSans-53\"/>\r\n      </defs>\r\n      <g transform=\"translate(25.717188 221.015904)scale(0.1 -0.1)\">\r\n       <use xlink:href=\"#DejaVuSans-53\"/>\r\n       <use x=\"63.623047\" xlink:href=\"#DejaVuSans-46\"/>\r\n       <use x=\"95.410156\" xlink:href=\"#DejaVuSans-54\"/>\r\n       <use x=\"159.033203\" xlink:href=\"#DejaVuSans-48\"/>\r\n      </g>\r\n     </g>\r\n    </g>\r\n    <g id=\"ytick_2\">\r\n     <g id=\"line2d_7\">\r\n      <g>\r\n       <use style=\"stroke:#000000;stroke-width:0.8;\" x=\"54.982813\" xlink:href=\"#m67e4d61b2f\" y=\"186.85209\"/>\r\n      </g>\r\n     </g>\r\n     <g id=\"text_8\">\r\n      <!-- 5.65 -->\r\n      <g transform=\"translate(25.717188 190.651309)scale(0.1 -0.1)\">\r\n       <use xlink:href=\"#DejaVuSans-53\"/>\r\n       <use x=\"63.623047\" xlink:href=\"#DejaVuSans-46\"/>\r\n       <use x=\"95.410156\" xlink:href=\"#DejaVuSans-54\"/>\r\n       <use x=\"159.033203\" xlink:href=\"#DejaVuSans-53\"/>\r\n      </g>\r\n     </g>\r\n    </g>\r\n    <g id=\"ytick_3\">\r\n     <g id=\"line2d_8\">\r\n      <g>\r\n       <use style=\"stroke:#000000;stroke-width:0.8;\" x=\"54.982813\" xlink:href=\"#m67e4d61b2f\" y=\"156.487494\"/>\r\n      </g>\r\n     </g>\r\n     <g id=\"text_9\">\r\n      <!-- 5.70 -->\r\n      <defs>\r\n       <path d=\"M 8.203125 72.90625 \r\nL 55.078125 72.90625 \r\nL 55.078125 68.703125 \r\nL 28.609375 0 \r\nL 18.3125 0 \r\nL 43.21875 64.59375 \r\nL 8.203125 64.59375 \r\nz\r\n\" id=\"DejaVuSans-55\"/>\r\n      </defs>\r\n      <g transform=\"translate(25.717188 160.286713)scale(0.1 -0.1)\">\r\n       <use xlink:href=\"#DejaVuSans-53\"/>\r\n       <use x=\"63.623047\" xlink:href=\"#DejaVuSans-46\"/>\r\n       <use x=\"95.410156\" xlink:href=\"#DejaVuSans-55\"/>\r\n       <use x=\"159.033203\" xlink:href=\"#DejaVuSans-48\"/>\r\n      </g>\r\n     </g>\r\n    </g>\r\n    <g id=\"ytick_4\">\r\n     <g id=\"line2d_9\">\r\n      <g>\r\n       <use style=\"stroke:#000000;stroke-width:0.8;\" x=\"54.982813\" xlink:href=\"#m67e4d61b2f\" y=\"126.122899\"/>\r\n      </g>\r\n     </g>\r\n     <g id=\"text_10\">\r\n      <!-- 5.75 -->\r\n      <g transform=\"translate(25.717188 129.922118)scale(0.1 -0.1)\">\r\n       <use xlink:href=\"#DejaVuSans-53\"/>\r\n       <use x=\"63.623047\" xlink:href=\"#DejaVuSans-46\"/>\r\n       <use x=\"95.410156\" xlink:href=\"#DejaVuSans-55\"/>\r\n       <use x=\"159.033203\" xlink:href=\"#DejaVuSans-53\"/>\r\n      </g>\r\n     </g>\r\n    </g>\r\n    <g id=\"ytick_5\">\r\n     <g id=\"line2d_10\">\r\n      <g>\r\n       <use style=\"stroke:#000000;stroke-width:0.8;\" x=\"54.982813\" xlink:href=\"#m67e4d61b2f\" y=\"95.758303\"/>\r\n      </g>\r\n     </g>\r\n     <g id=\"text_11\">\r\n      <!-- 5.80 -->\r\n      <g transform=\"translate(25.717188 99.557522)scale(0.1 -0.1)\">\r\n       <use xlink:href=\"#DejaVuSans-53\"/>\r\n       <use x=\"63.623047\" xlink:href=\"#DejaVuSans-46\"/>\r\n       <use x=\"95.410156\" xlink:href=\"#DejaVuSans-56\"/>\r\n       <use x=\"159.033203\" xlink:href=\"#DejaVuSans-48\"/>\r\n      </g>\r\n     </g>\r\n    </g>\r\n    <g id=\"ytick_6\">\r\n     <g id=\"line2d_11\">\r\n      <g>\r\n       <use style=\"stroke:#000000;stroke-width:0.8;\" x=\"54.982813\" xlink:href=\"#m67e4d61b2f\" y=\"65.393708\"/>\r\n      </g>\r\n     </g>\r\n     <g id=\"text_12\">\r\n      <!-- 5.85 -->\r\n      <g transform=\"translate(25.717188 69.192927)scale(0.1 -0.1)\">\r\n       <use xlink:href=\"#DejaVuSans-53\"/>\r\n       <use x=\"63.623047\" xlink:href=\"#DejaVuSans-46\"/>\r\n       <use x=\"95.410156\" xlink:href=\"#DejaVuSans-56\"/>\r\n       <use x=\"159.033203\" xlink:href=\"#DejaVuSans-53\"/>\r\n      </g>\r\n     </g>\r\n    </g>\r\n    <g id=\"ytick_7\">\r\n     <g id=\"line2d_12\">\r\n      <g>\r\n       <use style=\"stroke:#000000;stroke-width:0.8;\" x=\"54.982813\" xlink:href=\"#m67e4d61b2f\" y=\"35.029112\"/>\r\n      </g>\r\n     </g>\r\n     <g id=\"text_13\">\r\n      <!-- 5.90 -->\r\n      <defs>\r\n       <path d=\"M 10.984375 1.515625 \r\nL 10.984375 10.5 \r\nQ 14.703125 8.734375 18.5 7.8125 \r\nQ 22.3125 6.890625 25.984375 6.890625 \r\nQ 35.75 6.890625 40.890625 13.453125 \r\nQ 46.046875 20.015625 46.78125 33.40625 \r\nQ 43.953125 29.203125 39.59375 26.953125 \r\nQ 35.25 24.703125 29.984375 24.703125 \r\nQ 19.046875 24.703125 12.671875 31.3125 \r\nQ 6.296875 37.9375 6.296875 49.421875 \r\nQ 6.296875 60.640625 12.9375 67.421875 \r\nQ 19.578125 74.21875 30.609375 74.21875 \r\nQ 43.265625 74.21875 49.921875 64.515625 \r\nQ 56.59375 54.828125 56.59375 36.375 \r\nQ 56.59375 19.140625 48.40625 8.859375 \r\nQ 40.234375 -1.421875 26.421875 -1.421875 \r\nQ 22.703125 -1.421875 18.890625 -0.6875 \r\nQ 15.09375 0.046875 10.984375 1.515625 \r\nz\r\nM 30.609375 32.421875 \r\nQ 37.25 32.421875 41.125 36.953125 \r\nQ 45.015625 41.5 45.015625 49.421875 \r\nQ 45.015625 57.28125 41.125 61.84375 \r\nQ 37.25 66.40625 30.609375 66.40625 \r\nQ 23.96875 66.40625 20.09375 61.84375 \r\nQ 16.21875 57.28125 16.21875 49.421875 \r\nQ 16.21875 41.5 20.09375 36.953125 \r\nQ 23.96875 32.421875 30.609375 32.421875 \r\nz\r\n\" id=\"DejaVuSans-57\"/>\r\n      </defs>\r\n      <g transform=\"translate(25.717188 38.828331)scale(0.1 -0.1)\">\r\n       <use xlink:href=\"#DejaVuSans-53\"/>\r\n       <use x=\"63.623047\" xlink:href=\"#DejaVuSans-46\"/>\r\n       <use x=\"95.410156\" xlink:href=\"#DejaVuSans-57\"/>\r\n       <use x=\"159.033203\" xlink:href=\"#DejaVuSans-48\"/>\r\n      </g>\r\n     </g>\r\n    </g>\r\n    <g id=\"text_14\">\r\n     <!-- Function 2 -->\r\n     <g transform=\"translate(18.597656 154.972734)rotate(-90)scale(0.15 -0.15)\">\r\n      <use xlink:href=\"#DejaVuSans-70\"/>\r\n      <use x=\"52.019531\" xlink:href=\"#DejaVuSans-117\"/>\r\n      <use x=\"115.398438\" xlink:href=\"#DejaVuSans-110\"/>\r\n      <use x=\"178.777344\" xlink:href=\"#DejaVuSans-99\"/>\r\n      <use x=\"233.757812\" xlink:href=\"#DejaVuSans-116\"/>\r\n      <use x=\"272.966797\" xlink:href=\"#DejaVuSans-105\"/>\r\n      <use x=\"300.75\" xlink:href=\"#DejaVuSans-111\"/>\r\n      <use x=\"361.931641\" xlink:href=\"#DejaVuSans-110\"/>\r\n      <use x=\"425.310547\" xlink:href=\"#DejaVuSans-32\"/>\r\n      <use x=\"457.097656\" xlink:href=\"#DejaVuSans-50\"/>\r\n     </g>\r\n    </g>\r\n   </g>\r\n   <g id=\"patch_3\">\r\n    <path d=\"M 54.982813 224.64 \r\nL 54.982813 7.2 \r\n\" style=\"fill:none;stroke:#000000;stroke-linecap:square;stroke-linejoin:miter;stroke-width:0.8;\"/>\r\n   </g>\r\n   <g id=\"patch_4\">\r\n    <path d=\"M 389.782813 224.64 \r\nL 389.782813 7.2 \r\n\" style=\"fill:none;stroke:#000000;stroke-linecap:square;stroke-linejoin:miter;stroke-width:0.8;\"/>\r\n   </g>\r\n   <g id=\"patch_5\">\r\n    <path d=\"M 54.982813 224.64 \r\nL 389.782812 224.64 \r\n\" style=\"fill:none;stroke:#000000;stroke-linecap:square;stroke-linejoin:miter;stroke-width:0.8;\"/>\r\n   </g>\r\n   <g id=\"patch_6\">\r\n    <path d=\"M 54.982813 7.2 \r\nL 389.782812 7.2 \r\n\" style=\"fill:none;stroke:#000000;stroke-linecap:square;stroke-linejoin:miter;stroke-width:0.8;\"/>\r\n   </g>\r\n  </g>\r\n </g>\r\n <defs>\r\n  <clipPath id=\"p1c5814b07e\">\r\n   <rect height=\"217.44\" width=\"334.8\" x=\"54.982813\" y=\"7.2\"/>\r\n  </clipPath>\r\n </defs>\r\n</svg>\r\n",
      "image/png": "[encoded data removed]"
     },
     "metadata": {
      "needs_background": "light"
     }
    }
   ],
   "source": [
    "import matplotlib.pyplot as plt\n",
    "#f1 = [i * -1 for i in function1_values]\n",
    "#f2 = [j * -1 for j in function2_values]\n",
    "#f1 = look[0]\n",
    "#f2 = look[1]\n",
    "f1 = maxFObj1\n",
    "f2 = maxFObj2\n",
    "#print(f1)\n",
    "#print(f2)\n",
    "#print(lookNonDom)\n",
    "plt.xlabel('Function 1', fontsize=15)\n",
    "plt.ylabel('Function 2', fontsize=15)\n",
    "#plt.plot(f1,f2, '.b-')\n",
    "plt.scatter(f2,f1)\n",
    "plt.show()"
   ]
  },
  {
   "cell_type": "markdown",
   "source": [
    "## test Fast Non Dominated"
   ],
   "metadata": {
    "collapsed": false,
    "pycharm": {
     "name": "#%% md\n"
    }
   }
  },
  {
   "cell_type": "code",
   "execution_count": null,
   "outputs": [],
   "source": [
    "nC = 1000\n",
    "v1 = [rd.random() for x in range(nC)]\n",
    "v2 = [rd.random() for x in range(nC)]\n",
    "\n",
    "f = fast_non_dominated_sort(v1,v2)\n",
    "print(f)"
   ],
   "metadata": {
    "collapsed": false,
    "pycharm": {
     "name": "#%%\n"
    }
   }
  },
  {
   "cell_type": "code",
   "execution_count": null,
   "outputs": [],
   "source": [
    "# sebelum \n",
    "plt.xlabel('Function 1', fontsize=15)\n",
    "plt.ylabel('Function 2', fontsize=15)\n",
    "plt.scatter(v1, v2)\n",
    "plt.show()"
   ],
   "metadata": {
    "collapsed": false,
    "pycharm": {
     "name": "#%%\n"
    }
   }
  },
  {
   "cell_type": "markdown",
   "source": [
    "f_1 = f[0]\n",
    "#print(v1[38])\n",
    "v1New = []\n",
    "v2New = []\n",
    "print(int(nC/2))\n",
    "for i in f :\n",
    "    #print(i)\n",
    "    for j in i :\n",
    "        #print(v1[j])\n",
    "        if len(v1New) < int(nC/2) :\n",
    "            v1New.append(v1[j])\n",
    "            v2New.append(v2[j])\n",
    "        else :\n",
    "            break\n",
    "\n",
    "plt.xlabel('Function 1', fontsize=15)\n",
    "plt.ylabel('Function 2', fontsize=15)\n",
    "plt.scatter(v1New, v2New)\n",
    "plt.show()\n"
   ],
   "metadata": {
    "collapsed": false
   }
  },
  {
   "cell_type": "code",
   "execution_count": null,
   "outputs": [],
   "source": [
    "nC = 1000\n",
    "v1 = [rd.random() for x in range(nC)]\n",
    "v2 = [rd.random() for x in range(nC)]\n",
    "\n",
    "f = fast_non_dominated_sort(v1,v2)\n",
    "print(f)"
   ],
   "metadata": {
    "collapsed": false,
    "pycharm": {
     "name": "#%%\n"
    }
   }
  },
  {
   "cell_type": "code",
   "execution_count": null,
   "outputs": [],
   "source": [
    "# sebelum \n",
    "plt.xlabel('Function 1', fontsize=15)\n",
    "plt.ylabel('Function 2', fontsize=15)\n",
    "plt.scatter(v1, v2)\n",
    "plt.show()"
   ],
   "metadata": {
    "collapsed": false,
    "pycharm": {
     "name": "#%%\n"
    }
   }
  },
  {
   "cell_type": "code",
   "execution_count": null,
   "outputs": [],
   "source": [
    "def fast_non_dominated_sort(values1, values2):\n",
    "    S=[[] for i in range(0,len(values1))]\n",
    "    front = [[]]\n",
    "    n=[0 for i in range(0,len(values1))]\n",
    "    rank = [0 for i in range(0, len(values1))]\n",
    "\n",
    "    for p in range(0,len(values1)):\n",
    "        S[p]=[]\n",
    "        n[p]=0\n",
    "        for q in range(0, len(values1)):\n",
    "            if (values1[p] > values1[q] and values2[p] > values2[q]) or (values1[p] >= values1[q] and values2[p] > values2[q]) or (values1[p] > values1[q] and values2[p] >= values2[q]):\n",
    "                if q not in S[p]:\n",
    "                    S[p].append(q)\n",
    "            elif (values1[q] > values1[p] and values2[q] > values2[p]) or (values1[q] >= values1[p] and values2[q] > values2[p]) or (values1[q] > values1[p] and values2[q] >= values2[p]):\n",
    "                n[p] = n[p] + 1\n",
    "        if n[p]==0:\n",
    "            rank[p] = 0\n",
    "            if p not in front[0]:\n",
    "                front[0].append(p)\n",
    "\n",
    "    i = 0\n",
    "    while(front[i] != []):\n",
    "        Q=[]\n",
    "        for p in front[i]:\n",
    "            for q in S[p]:\n",
    "                n[q] =n[q] - 1\n",
    "                if( n[q]==0):\n",
    "                    rank[q]=i+1\n",
    "                    if q not in Q:\n",
    "                        Q.append(q)\n",
    "        i = i+1\n",
    "        front.append(Q)\n",
    "\n",
    "    del front[len(front)-1]\n",
    "    return front\n"
   ],
   "metadata": {
    "collapsed": false,
    "pycharm": {
     "name": "#%%\n"
    }
   }
  },
  {
   "cell_type": "code",
   "execution_count": null,
   "outputs": [],
   "source": [
    "f_1 = f[0]\n",
    "#print(v1[38])\n",
    "v1New = []\n",
    "v2New = []\n",
    "print(int(nC/2))\n",
    "for i in f :\n",
    "    #print(i)\n",
    "    for j in i :\n",
    "        #print(v1[j])\n",
    "        if len(v1New) < int(nC/2) :\n",
    "            v1New.append(v1[j])\n",
    "            v2New.append(v2[j])\n",
    "        else :\n",
    "            break\n",
    "\n",
    "plt.xlabel('Function 1', fontsize=15)\n",
    "plt.ylabel('Function 2', fontsize=15)\n",
    "plt.scatter(v1New, v2New)\n",
    "plt.show()\n"
   ],
   "metadata": {
    "collapsed": false,
    "pycharm": {
     "name": "#%%\n"
    }
   }
  },
  {
   "cell_type": "code",
   "execution_count": null,
   "outputs": [],
   "source": [],
   "metadata": {
    "collapsed": false,
    "pycharm": {
     "name": "#%%\n"
    }
   }
  },
  {
   "cell_type": "markdown",
   "source": [],
   "metadata": {
    "collapsed": false
   }
  },
  {
   "cell_type": "code",
   "execution_count": null,
   "outputs": [],
   "source": [
    "nC = 1000\n",
    "v1 = [rd.random() for x in range(nC)]\n",
    "v2 = [rd.random() for x in range(nC)]\n",
    "\n",
    "f = fast_non_dominated_sort(v1,v2)\n",
    "print(f)"
   ],
   "metadata": {
    "collapsed": false,
    "pycharm": {
     "name": "#%%\n"
    }
   }
  },
  {
   "cell_type": "code",
   "execution_count": null,
   "outputs": [],
   "source": [
    "# sebelum \n",
    "plt.xlabel('Function 1', fontsize=15)\n",
    "plt.ylabel('Function 2', fontsize=15)\n",
    "plt.scatter(v1, v2)\n",
    "plt.show()"
   ],
   "metadata": {
    "collapsed": false,
    "pycharm": {
     "name": "#%%\n"
    }
   }
  },
  {
   "cell_type": "code",
   "execution_count": null,
   "outputs": [],
   "source": [
    "def fast_non_dominated_sort(values1, values2):\n",
    "    S=[[] for i in range(0,len(values1))]\n",
    "    front = [[]]\n",
    "    n=[0 for i in range(0,len(values1))]\n",
    "    rank = [0 for i in range(0, len(values1))]\n",
    "\n",
    "    for p in range(0,len(values1)):\n",
    "        S[p]=[]\n",
    "        n[p]=0\n",
    "        for q in range(0, len(values1)):\n",
    "            if (values1[p] > values1[q] and values2[p] > values2[q]) or (values1[p] >= values1[q] and values2[p] > values2[q]) or (values1[p] > values1[q] and values2[p] >= values2[q]):\n",
    "                if q not in S[p]:\n",
    "                    S[p].append(q)\n",
    "            elif (values1[q] > values1[p] and values2[q] > values2[p]) or (values1[q] >= values1[p] and values2[q] > values2[p]) or (values1[q] > values1[p] and values2[q] >= values2[p]):\n",
    "                n[p] = n[p] + 1\n",
    "        if n[p]==0:\n",
    "            rank[p] = 0\n",
    "            if p not in front[0]:\n",
    "                front[0].append(p)\n",
    "\n",
    "    i = 0\n",
    "    while(front[i] != []):\n",
    "        Q=[]\n",
    "        for p in front[i]:\n",
    "            for q in S[p]:\n",
    "                n[q] =n[q] - 1\n",
    "                if( n[q]==0):\n",
    "                    rank[q]=i+1\n",
    "                    if q not in Q:\n",
    "                        Q.append(q)\n",
    "        i = i+1\n",
    "        front.append(Q)\n",
    "\n",
    "    del front[len(front)-1]\n",
    "    return front\n"
   ],
   "metadata": {
    "collapsed": false,
    "pycharm": {
     "name": "#%%\n"
    }
   }
  },
  {
   "cell_type": "code",
   "execution_count": null,
   "outputs": [],
   "source": [
    "f_1 = f[0]\n",
    "#print(v1[38])\n",
    "v1New = []\n",
    "v2New = []\n",
    "print(int(nC/2))\n",
    "for i in f :\n",
    "    #print(i)\n",
    "    for j in i :\n",
    "        #print(v1[j])\n",
    "        if len(v1New) < int(nC/2) :\n",
    "            v1New.append(v1[j])\n",
    "            v2New.append(v2[j])\n",
    "        else :\n",
    "            break\n",
    "\n",
    "plt.xlabel('Function 1', fontsize=15)\n",
    "plt.ylabel('Function 2', fontsize=15)\n",
    "plt.scatter(v1New, v2New)\n",
    "plt.show()\n"
   ],
   "metadata": {
    "collapsed": false,
    "pycharm": {
     "name": "#%%\n"
    }
   }
  },
  {
   "cell_type": "code",
   "execution_count": null,
   "outputs": [],
   "source": [],
   "metadata": {
    "collapsed": false,
    "pycharm": {
     "name": "#%%\n"
    }
   }
  },
  {
   "cell_type": "markdown",
   "source": [],
   "metadata": {
    "collapsed": false
   }
  },
  {
   "cell_type": "code",
   "execution_count": null,
   "outputs": [],
   "source": [
    "nC = 1000\n",
    "v1 = [rd.random() for x in range(nC)]\n",
    "v2 = [rd.random() for x in range(nC)]\n",
    "\n",
    "f = fast_non_dominated_sort(v1,v2)\n",
    "print(f)"
   ],
   "metadata": {
    "collapsed": false,
    "pycharm": {
     "name": "#%%\n"
    }
   }
  },
  {
   "cell_type": "code",
   "execution_count": null,
   "outputs": [],
   "source": [
    "# sebelum \n",
    "plt.xlabel('Function 1', fontsize=15)\n",
    "plt.ylabel('Function 2', fontsize=15)\n",
    "plt.scatter(v1, v2)\n",
    "plt.show()"
   ],
   "metadata": {
    "collapsed": false,
    "pycharm": {
     "name": "#%%\n"
    }
   }
  },
  {
   "cell_type": "code",
   "execution_count": null,
   "outputs": [],
   "source": [
    "def fast_non_dominated_sort(values1, values2):\n",
    "    S=[[] for i in range(0,len(values1))]\n",
    "    front = [[]]\n",
    "    n=[0 for i in range(0,len(values1))]\n",
    "    rank = [0 for i in range(0, len(values1))]\n",
    "\n",
    "    for p in range(0,len(values1)):\n",
    "        S[p]=[]\n",
    "        n[p]=0\n",
    "        for q in range(0, len(values1)):\n",
    "            if (values1[p] > values1[q] and values2[p] > values2[q]) or (values1[p] >= values1[q] and values2[p] > values2[q]) or (values1[p] > values1[q] and values2[p] >= values2[q]):\n",
    "                if q not in S[p]:\n",
    "                    S[p].append(q)\n",
    "            elif (values1[q] > values1[p] and values2[q] > values2[p]) or (values1[q] >= values1[p] and values2[q] > values2[p]) or (values1[q] > values1[p] and values2[q] >= values2[p]):\n",
    "                n[p] = n[p] + 1\n",
    "        if n[p]==0:\n",
    "            rank[p] = 0\n",
    "            if p not in front[0]:\n",
    "                front[0].append(p)\n",
    "\n",
    "    i = 0\n",
    "    while(front[i] != []):\n",
    "        Q=[]\n",
    "        for p in front[i]:\n",
    "            for q in S[p]:\n",
    "                n[q] =n[q] - 1\n",
    "                if( n[q]==0):\n",
    "                    rank[q]=i+1\n",
    "                    if q not in Q:\n",
    "                        Q.append(q)\n",
    "        i = i+1\n",
    "        front.append(Q)\n",
    "\n",
    "    del front[len(front)-1]\n",
    "    return front\n"
   ],
   "metadata": {
    "collapsed": false,
    "pycharm": {
     "name": "#%%\n"
    }
   }
  },
  {
   "cell_type": "code",
   "execution_count": null,
   "outputs": [],
   "source": [
    "f_1 = f[0]\n",
    "#print(v1[38])\n",
    "v1New = []\n",
    "v2New = []\n",
    "print(int(nC/2))\n",
    "for i in f :\n",
    "    #print(i)\n",
    "    for j in i :\n",
    "        #print(v1[j])\n",
    "        if len(v1New) < int(nC/2) :\n",
    "            v1New.append(v1[j])\n",
    "            v2New.append(v2[j])\n",
    "        else :\n",
    "            break\n",
    "\n",
    "plt.xlabel('Function 1', fontsize=15)\n",
    "plt.ylabel('Function 2', fontsize=15)\n",
    "plt.scatter(v1New, v2New)\n",
    "plt.show()\n"
   ],
   "metadata": {
    "collapsed": false,
    "pycharm": {
     "name": "#%%\n"
    }
   }
  },
  {
   "cell_type": "code",
   "execution_count": null,
   "outputs": [],
   "source": [],
   "metadata": {
    "collapsed": false,
    "pycharm": {
     "name": "#%%\n"
    }
   }
  },
  {
   "cell_type": "markdown",
   "source": [],
   "metadata": {
    "collapsed": false
   }
  },
  {
   "cell_type": "code",
   "execution_count": null,
   "outputs": [],
   "source": [
    "nC = 1000\n",
    "v1 = [rd.random() for x in range(nC)]\n",
    "v2 = [rd.random() for x in range(nC)]\n",
    "\n",
    "f = fast_non_dominated_sort(v1,v2)\n",
    "print(f)"
   ],
   "metadata": {
    "collapsed": false,
    "pycharm": {
     "name": "#%%\n"
    }
   }
  },
  {
   "cell_type": "code",
   "execution_count": null,
   "outputs": [],
   "source": [
    "# sebelum \n",
    "plt.xlabel('Function 1', fontsize=15)\n",
    "plt.ylabel('Function 2', fontsize=15)\n",
    "plt.scatter(v1, v2)\n",
    "plt.show()"
   ],
   "metadata": {
    "collapsed": false,
    "pycharm": {
     "name": "#%%\n"
    }
   }
  },
  {
   "cell_type": "code",
   "execution_count": null,
   "outputs": [],
   "source": [
    "def fast_non_dominated_sort(values1, values2):\n",
    "    S=[[] for i in range(0,len(values1))]\n",
    "    front = [[]]\n",
    "    n=[0 for i in range(0,len(values1))]\n",
    "    rank = [0 for i in range(0, len(values1))]\n",
    "\n",
    "    for p in range(0,len(values1)):\n",
    "        S[p]=[]\n",
    "        n[p]=0\n",
    "        for q in range(0, len(values1)):\n",
    "            if (values1[p] > values1[q] and values2[p] > values2[q]) or (values1[p] >= values1[q] and values2[p] > values2[q]) or (values1[p] > values1[q] and values2[p] >= values2[q]):\n",
    "                if q not in S[p]:\n",
    "                    S[p].append(q)\n",
    "            elif (values1[q] > values1[p] and values2[q] > values2[p]) or (values1[q] >= values1[p] and values2[q] > values2[p]) or (values1[q] > values1[p] and values2[q] >= values2[p]):\n",
    "                n[p] = n[p] + 1\n",
    "        if n[p]==0:\n",
    "            rank[p] = 0\n",
    "            if p not in front[0]:\n",
    "                front[0].append(p)\n",
    "\n",
    "    i = 0\n",
    "    while(front[i] != []):\n",
    "        Q=[]\n",
    "        for p in front[i]:\n",
    "            for q in S[p]:\n",
    "                n[q] =n[q] - 1\n",
    "                if( n[q]==0):\n",
    "                    rank[q]=i+1\n",
    "                    if q not in Q:\n",
    "                        Q.append(q)\n",
    "        i = i+1\n",
    "        front.append(Q)\n",
    "\n",
    "    del front[len(front)-1]\n",
    "    return front\n"
   ],
   "metadata": {
    "collapsed": false,
    "pycharm": {
     "name": "#%%\n"
    }
   }
  },
  {
   "cell_type": "code",
   "execution_count": null,
   "outputs": [],
   "source": [
    "f_1 = f[0]\n",
    "#print(v1[38])\n",
    "v1New = []\n",
    "v2New = []\n",
    "print(int(nC/2))\n",
    "for i in f :\n",
    "    #print(i)\n",
    "    for j in i :\n",
    "        #print(v1[j])\n",
    "        if len(v1New) < int(nC/2) :\n",
    "            v1New.append(v1[j])\n",
    "            v2New.append(v2[j])\n",
    "        else :\n",
    "            break\n",
    "\n",
    "plt.xlabel('Function 1', fontsize=15)\n",
    "plt.ylabel('Function 2', fontsize=15)\n",
    "plt.scatter(v1New, v2New)\n",
    "plt.show()\n"
   ],
   "metadata": {
    "collapsed": false,
    "pycharm": {
     "name": "#%%\n"
    }
   }
  },
  {
   "cell_type": "code",
   "execution_count": null,
   "outputs": [],
   "source": [],
   "metadata": {
    "collapsed": false,
    "pycharm": {
     "name": "#%%\n"
    }
   }
  },
  {
   "cell_type": "markdown",
   "source": [],
   "metadata": {
    "collapsed": false
   }
  },
  {
   "cell_type": "code",
   "execution_count": null,
   "outputs": [],
   "source": [
    "nC = 1000\n",
    "v1 = [rd.random() for x in range(nC)]\n",
    "v2 = [rd.random() for x in range(nC)]\n",
    "\n",
    "f = fast_non_dominated_sort(v1,v2)\n",
    "print(f)"
   ],
   "metadata": {
    "collapsed": false,
    "pycharm": {
     "name": "#%%\n"
    }
   }
  },
  {
   "cell_type": "code",
   "execution_count": null,
   "outputs": [],
   "source": [
    "# sebelum \n",
    "plt.xlabel('Function 1', fontsize=15)\n",
    "plt.ylabel('Function 2', fontsize=15)\n",
    "plt.scatter(v1, v2)\n",
    "plt.show()"
   ],
   "metadata": {
    "collapsed": false,
    "pycharm": {
     "name": "#%%\n"
    }
   }
  },
  {
   "cell_type": "code",
   "execution_count": null,
   "outputs": [],
   "source": [
    "def fast_non_dominated_sort(values1, values2):\n",
    "    S=[[] for i in range(0,len(values1))]\n",
    "    front = [[]]\n",
    "    n=[0 for i in range(0,len(values1))]\n",
    "    rank = [0 for i in range(0, len(values1))]\n",
    "\n",
    "    for p in range(0,len(values1)):\n",
    "        S[p]=[]\n",
    "        n[p]=0\n",
    "        for q in range(0, len(values1)):\n",
    "            if (values1[p] > values1[q] and values2[p] > values2[q]) or (values1[p] >= values1[q] and values2[p] > values2[q]) or (values1[p] > values1[q] and values2[p] >= values2[q]):\n",
    "                if q not in S[p]:\n",
    "                    S[p].append(q)\n",
    "            elif (values1[q] > values1[p] and values2[q] > values2[p]) or (values1[q] >= values1[p] and values2[q] > values2[p]) or (values1[q] > values1[p] and values2[q] >= values2[p]):\n",
    "                n[p] = n[p] + 1\n",
    "        if n[p]==0:\n",
    "            rank[p] = 0\n",
    "            if p not in front[0]:\n",
    "                front[0].append(p)\n",
    "\n",
    "    i = 0\n",
    "    while(front[i] != []):\n",
    "        Q=[]\n",
    "        for p in front[i]:\n",
    "            for q in S[p]:\n",
    "                n[q] =n[q] - 1\n",
    "                if( n[q]==0):\n",
    "                    rank[q]=i+1\n",
    "                    if q not in Q:\n",
    "                        Q.append(q)\n",
    "        i = i+1\n",
    "        front.append(Q)\n",
    "\n",
    "    del front[len(front)-1]\n",
    "    return front\n"
   ],
   "metadata": {
    "collapsed": false,
    "pycharm": {
     "name": "#%%\n"
    }
   }
  },
  {
   "cell_type": "code",
   "execution_count": null,
   "outputs": [],
   "source": [
    "f_1 = f[0]\n",
    "#print(v1[38])\n",
    "v1New = []\n",
    "v2New = []\n",
    "print(int(nC/2))\n",
    "for i in f :\n",
    "    #print(i)\n",
    "    for j in i :\n",
    "        #print(v1[j])\n",
    "        if len(v1New) < int(nC/2) :\n",
    "            v1New.append(v1[j])\n",
    "            v2New.append(v2[j])\n",
    "        else :\n",
    "            break\n",
    "\n",
    "plt.xlabel('Function 1', fontsize=15)\n",
    "plt.ylabel('Function 2', fontsize=15)\n",
    "plt.scatter(v1New, v2New)\n",
    "plt.show()\n"
   ],
   "metadata": {
    "collapsed": false,
    "pycharm": {
     "name": "#%%\n"
    }
   }
  },
  {
   "cell_type": "code",
   "execution_count": null,
   "outputs": [],
   "source": [],
   "metadata": {
    "collapsed": false,
    "pycharm": {
     "name": "#%%\n"
    }
   }
  },
  {
   "cell_type": "markdown",
   "source": [],
   "metadata": {
    "collapsed": false
   }
  },
  {
   "cell_type": "code",
   "execution_count": null,
   "outputs": [],
   "source": [
    "nC = 1000\n",
    "v1 = [rd.random() for x in range(nC)]\n",
    "v2 = [rd.random() for x in range(nC)]\n",
    "\n",
    "f = fast_non_dominated_sort(v1,v2)\n",
    "print(f)"
   ],
   "metadata": {
    "collapsed": false,
    "pycharm": {
     "name": "#%%\n"
    }
   }
  },
  {
   "cell_type": "code",
   "execution_count": null,
   "outputs": [],
   "source": [
    "# sebelum \n",
    "plt.xlabel('Function 1', fontsize=15)\n",
    "plt.ylabel('Function 2', fontsize=15)\n",
    "plt.scatter(v1, v2)\n",
    "plt.show()"
   ],
   "metadata": {
    "collapsed": false,
    "pycharm": {
     "name": "#%%\n"
    }
   }
  },
  {
   "cell_type": "code",
   "execution_count": null,
   "outputs": [],
   "source": [
    "def fast_non_dominated_sort(values1, values2):\n",
    "    S=[[] for i in range(0,len(values1))]\n",
    "    front = [[]]\n",
    "    n=[0 for i in range(0,len(values1))]\n",
    "    rank = [0 for i in range(0, len(values1))]\n",
    "\n",
    "    for p in range(0,len(values1)):\n",
    "        S[p]=[]\n",
    "        n[p]=0\n",
    "        for q in range(0, len(values1)):\n",
    "            if (values1[p] > values1[q] and values2[p] > values2[q]) or (values1[p] >= values1[q] and values2[p] > values2[q]) or (values1[p] > values1[q] and values2[p] >= values2[q]):\n",
    "                if q not in S[p]:\n",
    "                    S[p].append(q)\n",
    "            elif (values1[q] > values1[p] and values2[q] > values2[p]) or (values1[q] >= values1[p] and values2[q] > values2[p]) or (values1[q] > values1[p] and values2[q] >= values2[p]):\n",
    "                n[p] = n[p] + 1\n",
    "        if n[p]==0:\n",
    "            rank[p] = 0\n",
    "            if p not in front[0]:\n",
    "                front[0].append(p)\n",
    "\n",
    "    i = 0\n",
    "    while(front[i] != []):\n",
    "        Q=[]\n",
    "        for p in front[i]:\n",
    "            for q in S[p]:\n",
    "                n[q] =n[q] - 1\n",
    "                if( n[q]==0):\n",
    "                    rank[q]=i+1\n",
    "                    if q not in Q:\n",
    "                        Q.append(q)\n",
    "        i = i+1\n",
    "        front.append(Q)\n",
    "\n",
    "    del front[len(front)-1]\n",
    "    return front\n"
   ],
   "metadata": {
    "collapsed": false,
    "pycharm": {
     "name": "#%%\n"
    }
   }
  },
  {
   "cell_type": "code",
   "execution_count": null,
   "outputs": [],
   "source": [
    "f_1 = f[0]\n",
    "#print(v1[38])\n",
    "v1New = []\n",
    "v2New = []\n",
    "print(int(nC/2))\n",
    "for i in f :\n",
    "    #print(i)\n",
    "    for j in i :\n",
    "        #print(v1[j])\n",
    "        if len(v1New) < int(nC/2) :\n",
    "            v1New.append(v1[j])\n",
    "            v2New.append(v2[j])\n",
    "        else :\n",
    "            break\n",
    "\n",
    "plt.xlabel('Function 1', fontsize=15)\n",
    "plt.ylabel('Function 2', fontsize=15)\n",
    "plt.scatter(v1New, v2New)\n",
    "plt.show()\n"
   ],
   "metadata": {
    "collapsed": false,
    "pycharm": {
     "name": "#%%\n"
    }
   }
  },
  {
   "cell_type": "code",
   "execution_count": null,
   "outputs": [],
   "source": [],
   "metadata": {
    "collapsed": false,
    "pycharm": {
     "name": "#%%\n"
    }
   }
  },
  {
   "cell_type": "markdown",
   "source": [],
   "metadata": {
    "collapsed": false
   }
  },
  {
   "cell_type": "code",
   "execution_count": null,
   "outputs": [],
   "source": [
    "nC = 1000\n",
    "v1 = [rd.random() for x in range(nC)]\n",
    "v2 = [rd.random() for x in range(nC)]\n",
    "\n",
    "f = fast_non_dominated_sort(v1,v2)\n",
    "print(f)"
   ],
   "metadata": {
    "collapsed": false,
    "pycharm": {
     "name": "#%%\n"
    }
   }
  },
  {
   "cell_type": "code",
   "execution_count": null,
   "outputs": [],
   "source": [
    "# sebelum \n",
    "plt.xlabel('Function 1', fontsize=15)\n",
    "plt.ylabel('Function 2', fontsize=15)\n",
    "plt.scatter(v1, v2)\n",
    "plt.show()"
   ],
   "metadata": {
    "collapsed": false,
    "pycharm": {
     "name": "#%%\n"
    }
   }
  },
  {
   "cell_type": "code",
   "execution_count": null,
   "outputs": [],
   "source": [
    "def fast_non_dominated_sort(values1, values2):\n",
    "    S=[[] for i in range(0,len(values1))]\n",
    "    front = [[]]\n",
    "    n=[0 for i in range(0,len(values1))]\n",
    "    rank = [0 for i in range(0, len(values1))]\n",
    "\n",
    "    for p in range(0,len(values1)):\n",
    "        S[p]=[]\n",
    "        n[p]=0\n",
    "        for q in range(0, len(values1)):\n",
    "            if (values1[p] > values1[q] and values2[p] > values2[q]) or (values1[p] >= values1[q] and values2[p] > values2[q]) or (values1[p] > values1[q] and values2[p] >= values2[q]):\n",
    "                if q not in S[p]:\n",
    "                    S[p].append(q)\n",
    "            elif (values1[q] > values1[p] and values2[q] > values2[p]) or (values1[q] >= values1[p] and values2[q] > values2[p]) or (values1[q] > values1[p] and values2[q] >= values2[p]):\n",
    "                n[p] = n[p] + 1\n",
    "        if n[p]==0:\n",
    "            rank[p] = 0\n",
    "            if p not in front[0]:\n",
    "                front[0].append(p)\n",
    "\n",
    "    i = 0\n",
    "    while(front[i] != []):\n",
    "        Q=[]\n",
    "        for p in front[i]:\n",
    "            for q in S[p]:\n",
    "                n[q] =n[q] - 1\n",
    "                if( n[q]==0):\n",
    "                    rank[q]=i+1\n",
    "                    if q not in Q:\n",
    "                        Q.append(q)\n",
    "        i = i+1\n",
    "        front.append(Q)\n",
    "\n",
    "    del front[len(front)-1]\n",
    "    return front\n"
   ],
   "metadata": {
    "collapsed": false,
    "pycharm": {
     "name": "#%%\n"
    }
   }
  },
  {
   "cell_type": "code",
   "execution_count": null,
   "outputs": [],
   "source": [
    "f_1 = f[0]\n",
    "#print(v1[38])\n",
    "v1New = []\n",
    "v2New = []\n",
    "print(int(nC/2))\n",
    "for i in f :\n",
    "    #print(i)\n",
    "    for j in i :\n",
    "        #print(v1[j])\n",
    "        if len(v1New) < int(nC/2) :\n",
    "            v1New.append(v1[j])\n",
    "            v2New.append(v2[j])\n",
    "        else :\n",
    "            break\n",
    "\n",
    "plt.xlabel('Function 1', fontsize=15)\n",
    "plt.ylabel('Function 2', fontsize=15)\n",
    "plt.scatter(v1New, v2New)\n",
    "plt.show()\n"
   ],
   "metadata": {
    "collapsed": false,
    "pycharm": {
     "name": "#%%\n"
    }
   }
  },
  {
   "cell_type": "code",
   "execution_count": null,
   "outputs": [],
   "source": [],
   "metadata": {
    "collapsed": false,
    "pycharm": {
     "name": "#%%\n"
    }
   }
  },
  {
   "cell_type": "markdown",
   "source": [],
   "metadata": {
    "collapsed": false
   }
  },
  {
   "cell_type": "code",
   "execution_count": null,
   "outputs": [],
   "source": [
    "nC = 1000\n",
    "v1 = [rd.random() for x in range(nC)]\n",
    "v2 = [rd.random() for x in range(nC)]\n",
    "\n",
    "f = fast_non_dominated_sort(v1,v2)\n",
    "print(f)"
   ],
   "metadata": {
    "collapsed": false,
    "pycharm": {
     "name": "#%%\n"
    }
   }
  },
  {
   "cell_type": "code",
   "execution_count": null,
   "outputs": [],
   "source": [
    "# sebelum \n",
    "plt.xlabel('Function 1', fontsize=15)\n",
    "plt.ylabel('Function 2', fontsize=15)\n",
    "plt.scatter(v1, v2)\n",
    "plt.show()"
   ],
   "metadata": {
    "collapsed": false,
    "pycharm": {
     "name": "#%%\n"
    }
   }
  },
  {
   "cell_type": "code",
   "execution_count": null,
   "outputs": [],
   "source": [
    "def fast_non_dominated_sort(values1, values2):\n",
    "    S=[[] for i in range(0,len(values1))]\n",
    "    front = [[]]\n",
    "    n=[0 for i in range(0,len(values1))]\n",
    "    rank = [0 for i in range(0, len(values1))]\n",
    "\n",
    "    for p in range(0,len(values1)):\n",
    "        S[p]=[]\n",
    "        n[p]=0\n",
    "        for q in range(0, len(values1)):\n",
    "            if (values1[p] > values1[q] and values2[p] > values2[q]) or (values1[p] >= values1[q] and values2[p] > values2[q]) or (values1[p] > values1[q] and values2[p] >= values2[q]):\n",
    "                if q not in S[p]:\n",
    "                    S[p].append(q)\n",
    "            elif (values1[q] > values1[p] and values2[q] > values2[p]) or (values1[q] >= values1[p] and values2[q] > values2[p]) or (values1[q] > values1[p] and values2[q] >= values2[p]):\n",
    "                n[p] = n[p] + 1\n",
    "        if n[p]==0:\n",
    "            rank[p] = 0\n",
    "            if p not in front[0]:\n",
    "                front[0].append(p)\n",
    "\n",
    "    i = 0\n",
    "    while(front[i] != []):\n",
    "        Q=[]\n",
    "        for p in front[i]:\n",
    "            for q in S[p]:\n",
    "                n[q] =n[q] - 1\n",
    "                if( n[q]==0):\n",
    "                    rank[q]=i+1\n",
    "                    if q not in Q:\n",
    "                        Q.append(q)\n",
    "        i = i+1\n",
    "        front.append(Q)\n",
    "\n",
    "    del front[len(front)-1]\n",
    "    return front\n"
   ],
   "metadata": {
    "collapsed": false,
    "pycharm": {
     "name": "#%%\n"
    }
   }
  },
  {
   "cell_type": "code",
   "execution_count": null,
   "outputs": [],
   "source": [
    "f_1 = f[0]\n",
    "#print(v1[38])\n",
    "v1New = []\n",
    "v2New = []\n",
    "print(int(nC/2))\n",
    "for i in f :\n",
    "    #print(i)\n",
    "    for j in i :\n",
    "        #print(v1[j])\n",
    "        if len(v1New) < int(nC/2) :\n",
    "            v1New.append(v1[j])\n",
    "            v2New.append(v2[j])\n",
    "        else :\n",
    "            break\n",
    "\n",
    "plt.xlabel('Function 1', fontsize=15)\n",
    "plt.ylabel('Function 2', fontsize=15)\n",
    "plt.scatter(v1New, v2New)\n",
    "plt.show()\n"
   ],
   "metadata": {
    "collapsed": false,
    "pycharm": {
     "name": "#%%\n"
    }
   }
  },
  {
   "cell_type": "code",
   "execution_count": null,
   "outputs": [],
   "source": [],
   "metadata": {
    "collapsed": false,
    "pycharm": {
     "name": "#%%\n"
    }
   }
  },
  {
   "cell_type": "markdown",
   "source": [],
   "metadata": {
    "collapsed": false
   }
  },
  {
   "cell_type": "code",
   "execution_count": null,
   "outputs": [],
   "source": [
    "nC = 1000\n",
    "v1 = [rd.random() for x in range(nC)]\n",
    "v2 = [rd.random() for x in range(nC)]\n",
    "\n",
    "f = fast_non_dominated_sort(v1,v2)\n",
    "print(f)"
   ],
   "metadata": {
    "collapsed": false,
    "pycharm": {
     "name": "#%%\n"
    }
   }
  },
  {
   "cell_type": "code",
   "execution_count": null,
   "outputs": [],
   "source": [
    "# sebelum \n",
    "plt.xlabel('Function 1', fontsize=15)\n",
    "plt.ylabel('Function 2', fontsize=15)\n",
    "plt.scatter(v1, v2)\n",
    "plt.show()"
   ],
   "metadata": {
    "collapsed": false,
    "pycharm": {
     "name": "#%%\n"
    }
   }
  },
  {
   "cell_type": "code",
   "execution_count": null,
   "outputs": [],
   "source": [
    "def fast_non_dominated_sort(values1, values2):\n",
    "    S=[[] for i in range(0,len(values1))]\n",
    "    front = [[]]\n",
    "    n=[0 for i in range(0,len(values1))]\n",
    "    rank = [0 for i in range(0, len(values1))]\n",
    "\n",
    "    for p in range(0,len(values1)):\n",
    "        S[p]=[]\n",
    "        n[p]=0\n",
    "        for q in range(0, len(values1)):\n",
    "            if (values1[p] > values1[q] and values2[p] > values2[q]) or (values1[p] >= values1[q] and values2[p] > values2[q]) or (values1[p] > values1[q] and values2[p] >= values2[q]):\n",
    "                if q not in S[p]:\n",
    "                    S[p].append(q)\n",
    "            elif (values1[q] > values1[p] and values2[q] > values2[p]) or (values1[q] >= values1[p] and values2[q] > values2[p]) or (values1[q] > values1[p] and values2[q] >= values2[p]):\n",
    "                n[p] = n[p] + 1\n",
    "        if n[p]==0:\n",
    "            rank[p] = 0\n",
    "            if p not in front[0]:\n",
    "                front[0].append(p)\n",
    "\n",
    "    i = 0\n",
    "    while(front[i] != []):\n",
    "        Q=[]\n",
    "        for p in front[i]:\n",
    "            for q in S[p]:\n",
    "                n[q] =n[q] - 1\n",
    "                if( n[q]==0):\n",
    "                    rank[q]=i+1\n",
    "                    if q not in Q:\n",
    "                        Q.append(q)\n",
    "        i = i+1\n",
    "        front.append(Q)\n",
    "\n",
    "    del front[len(front)-1]\n",
    "    return front\n"
   ],
   "metadata": {
    "collapsed": false,
    "pycharm": {
     "name": "#%%\n"
    }
   }
  },
  {
   "cell_type": "code",
   "execution_count": null,
   "outputs": [],
   "source": [
    "f_1 = f[0]\n",
    "#print(v1[38])\n",
    "v1New = []\n",
    "v2New = []\n",
    "print(int(nC/2))\n",
    "for i in f :\n",
    "    #print(i)\n",
    "    for j in i :\n",
    "        #print(v1[j])\n",
    "        if len(v1New) < int(nC/2) :\n",
    "            v1New.append(v1[j])\n",
    "            v2New.append(v2[j])\n",
    "        else :\n",
    "            break\n",
    "\n",
    "plt.xlabel('Function 1', fontsize=15)\n",
    "plt.ylabel('Function 2', fontsize=15)\n",
    "plt.scatter(v1New, v2New)\n",
    "plt.show()\n"
   ],
   "metadata": {
    "collapsed": false,
    "pycharm": {
     "name": "#%%\n"
    }
   }
  },
  {
   "cell_type": "code",
   "execution_count": null,
   "outputs": [],
   "source": [],
   "metadata": {
    "collapsed": false,
    "pycharm": {
     "name": "#%%\n"
    }
   }
  },
  {
   "cell_type": "markdown",
   "source": [],
   "metadata": {
    "collapsed": false
   }
  },
  {
   "cell_type": "code",
   "execution_count": null,
   "outputs": [],
   "source": [
    "nC = 1000\n",
    "v1 = [rd.random() for x in range(nC)]\n",
    "v2 = [rd.random() for x in range(nC)]\n",
    "\n",
    "f = fast_non_dominated_sort(v1,v2)\n",
    "print(f)"
   ],
   "metadata": {
    "collapsed": false,
    "pycharm": {
     "name": "#%%\n"
    }
   }
  },
  {
   "cell_type": "code",
   "execution_count": null,
   "outputs": [],
   "source": [
    "# sebelum \n",
    "plt.xlabel('Function 1', fontsize=15)\n",
    "plt.ylabel('Function 2', fontsize=15)\n",
    "plt.scatter(v1, v2)\n",
    "plt.show()"
   ],
   "metadata": {
    "collapsed": false,
    "pycharm": {
     "name": "#%%\n"
    }
   }
  },
  {
   "cell_type": "code",
   "execution_count": null,
   "outputs": [],
   "source": [
    "def fast_non_dominated_sort(values1, values2):\n",
    "    S=[[] for i in range(0,len(values1))]\n",
    "    front = [[]]\n",
    "    n=[0 for i in range(0,len(values1))]\n",
    "    rank = [0 for i in range(0, len(values1))]\n",
    "\n",
    "    for p in range(0,len(values1)):\n",
    "        S[p]=[]\n",
    "        n[p]=0\n",
    "        for q in range(0, len(values1)):\n",
    "            if (values1[p] > values1[q] and values2[p] > values2[q]) or (values1[p] >= values1[q] and values2[p] > values2[q]) or (values1[p] > values1[q] and values2[p] >= values2[q]):\n",
    "                if q not in S[p]:\n",
    "                    S[p].append(q)\n",
    "            elif (values1[q] > values1[p] and values2[q] > values2[p]) or (values1[q] >= values1[p] and values2[q] > values2[p]) or (values1[q] > values1[p] and values2[q] >= values2[p]):\n",
    "                n[p] = n[p] + 1\n",
    "        if n[p]==0:\n",
    "            rank[p] = 0\n",
    "            if p not in front[0]:\n",
    "                front[0].append(p)\n",
    "\n",
    "    i = 0\n",
    "    while(front[i] != []):\n",
    "        Q=[]\n",
    "        for p in front[i]:\n",
    "            for q in S[p]:\n",
    "                n[q] =n[q] - 1\n",
    "                if( n[q]==0):\n",
    "                    rank[q]=i+1\n",
    "                    if q not in Q:\n",
    "                        Q.append(q)\n",
    "        i = i+1\n",
    "        front.append(Q)\n",
    "\n",
    "    del front[len(front)-1]\n",
    "    return front\n"
   ],
   "metadata": {
    "collapsed": false,
    "pycharm": {
     "name": "#%%\n"
    }
   }
  },
  {
   "cell_type": "code",
   "execution_count": null,
   "outputs": [],
   "source": [
    "f_1 = f[0]\n",
    "#print(v1[38])\n",
    "v1New = []\n",
    "v2New = []\n",
    "print(int(nC/2))\n",
    "for i in f :\n",
    "    #print(i)\n",
    "    for j in i :\n",
    "        #print(v1[j])\n",
    "        if len(v1New) < int(nC/2) :\n",
    "            v1New.append(v1[j])\n",
    "            v2New.append(v2[j])\n",
    "        else :\n",
    "            break\n",
    "\n",
    "plt.xlabel('Function 1', fontsize=15)\n",
    "plt.ylabel('Function 2', fontsize=15)\n",
    "plt.scatter(v1New, v2New)\n",
    "plt.show()\n"
   ],
   "metadata": {
    "collapsed": false,
    "pycharm": {
     "name": "#%%\n"
    }
   }
  },
  {
   "cell_type": "code",
   "execution_count": null,
   "outputs": [],
   "source": [],
   "metadata": {
    "collapsed": false,
    "pycharm": {
     "name": "#%%\n"
    }
   }
  },
  {
   "cell_type": "markdown",
   "metadata": {},
   "source": []
  },
  {
   "cell_type": "code",
   "execution_count": 106,
   "metadata": {},
   "outputs": [
    {
     "output_type": "stream",
     "name": "stdout",
     "text": "[[337, 460, 517, 625, 726, 769, 981], [546, 485, 737, 70, 190, 429, 111, 419], [89, 636, 802, 794, 672, 709, 105], [571, 439, 513, 616, 795, 312, 314, 578, 595, 267, 869, 504], [585, 88, 274, 966, 144, 413, 729, 736, 19, 576, 618, 78, 178, 333, 948], [670, 892, 297, 317, 551, 635, 701, 569, 17, 405, 128, 214, 810], [331, 509, 514, 880, 259, 269, 481, 949, 278, 235, 87, 165, 213, 425, 926, 265], [680, 835, 621, 192, 668, 988, 422, 491, 411, 783, 130, 276, 389, 127, 263, 507, 855, 72, 383, 547, 594, 665, 717], [396, 677, 203, 404, 605, 785, 131, 217, 482, 619, 472, 628, 75, 588, 61, 922, 678, 919, 870, 158], [520, 567, 98, 215, 441, 97, 921, 503, 528, 698, 886, 103, 539, 790, 960, 933, 182, 282, 827, 237, 837], [59, 958, 230, 313, 894, 415, 666, 260, 360, 456, 110, 505, 727, 185, 974, 80, 310, 738, 799, 889], [184, 927, 601, 290, 15, 603, 955, 344, 30, 492, 494, 807, 246, 840, 13, 336, 658, 815, 191, 11, 134, 695, 939, 822], [998, 862, 200, 637, 917, 137, 935, 159, 14, 584, 967, 891, 849, 4, 76, 250, 430, 530, 609, 226, 511, 674, 412, 506, 764, 220], [42, 136, 979, 248, 703, 118, 161, 298, 896, 119, 995, 164, 242, 932, 962, 3, 218, 983, 160, 568, 844, 321, 340, 431, 881, 77], [570, 780, 786, 57, 162, 633, 451, 193, 424, 622, 279, 171, 363, 408, 84, 644, 817, 984, 34, 403, 599, 308, 409, 524], [742, 38, 793, 806, 440, 613, 433, 656, 830, 416, 549, 244, 661, 796, 913, 519, 101, 651, 718, 306, 351], [168, 875, 741, 346, 728, 907, 170, 400, 60, 23, 5, 348, 720, 690, 125, 495, 645, 24, 442, 733, 775, 496, 893, 238, 483, 614, 37, 177, 502, 818], [204, 2, 142, 452, 752, 734, 273, 354, 140, 233, 510, 973, 407, 109, 788, 479, 789, 271, 924, 852, 557, 388, 572, 662], [355, 978, 252, 532, 501, 903, 231, 487, 833, 608, 446, 287, 327, 132, 611, 615, 208, 814, 916, 285, 832, 307, 325, 878, 583, 771, 515, 700, 800], [329, 620, 765, 721, 762, 986, 382, 535, 904, 631, 150, 243, 305, 309, 512, 663, 708, 641, 82, 209, 545, 675, 773, 379, 99, 684], [664, 172, 758, 951, 133, 112, 390, 304, 316, 210, 743, 141, 426, 691, 272, 301, 774, 781, 767, 345, 302, 961, 659, 198, 356, 759, 866], [318, 473, 975, 420, 777, 953, 751, 445, 946, 7, 256, 930, 453, 627, 434, 602, 261, 533, 972, 148, 239, 459, 291, 275], [175, 864, 925, 62, 64, 923, 811, 564, 534, 999, 820, 474, 865, 969, 74, 589, 982, 715, 918, 319, 821, 385, 438], [94, 335, 654, 227, 991, 32, 683, 911, 929, 322, 399, 359, 499, 529, 950, 353, 884, 770, 805, 906, 754, 768, 410, 650], [54, 155, 579, 370, 376, 35, 249, 366, 977, 181, 699, 784, 688, 387, 427, 989, 53, 216, 863, 463, 697, 277, 443, 444, 710, 392, 639], [115, 284, 380, 402, 47, 169, 755, 687, 854, 9, 16, 417, 44, 414, 648, 853, 938, 377, 676, 486, 763, 225, 324, 722, 993], [280, 647, 682, 642, 965, 895, 915, 52, 240, 262, 732, 406, 489, 681, 685, 58, 117, 79, 211, 96, 531, 587, 994, 885, 462], [839, 154, 69, 221, 311, 573, 66, 334, 725, 205, 624, 824, 581, 632, 829, 92, 100, 552, 591, 957, 679, 20, 574, 719, 841, 857], [183, 464, 43, 163, 488, 671, 816, 846, 879, 121, 320, 516, 180, 56, 803, 294, 469, 851, 713, 826, 724], [386, 49, 247, 330, 543, 596, 944, 197, 523, 478, 254, 236, 813, 823, 223, 268, 371, 436, 888, 65, 540, 825, 836], [458, 104, 638, 71, 597, 253, 33, 266, 93, 586, 928, 219, 706, 735, 842, 63, 526, 657, 996, 756, 153, 804, 941, 457, 498, 936, 147, 500], [222, 480, 990, 36, 566, 876, 744, 542, 694, 342, 776, 778, 704, 730, 295, 871, 797, 201, 861, 176, 135, 908, 791], [156, 630, 326, 50, 293, 470, 623, 761, 368, 914, 145, 384, 655, 361, 590, 372, 167, 484, 612, 860, 942, 288, 553], [299, 466, 723, 48, 21, 565, 887, 555, 296, 673, 593, 151, 692, 748, 257, 428, 992, 455, 971, 465], [544, 349, 856, 300, 899, 838, 264, 397, 81, 686, 423, 626, 634, 943, 716, 828, 883, 207, 562, 558, 471, 809], [521, 858, 375, 339, 418, 976, 106, 812, 890, 187, 705, 194, 391, 25, 212, 234, 490, 522, 847, 270, 357], [518, 467, 563, 152, 617, 696, 40, 113, 843, 224, 702, 798, 202, 580, 956, 964, 352, 980, 90, 338, 779, 959, 120, 712], [283, 45, 229, 448, 449, 206, 341, 747, 592, 667, 772, 476, 146, 598, 116, 122, 347, 643, 689], [600, 46, 315, 362, 753, 83, 186, 604, 228, 10, 536, 640, 114, 255], [108, 199, 897, 693, 537, 652, 801, 166, 468, 834, 149, 350, 435, 859, 124, 26, 86, 381, 707, 987, 51], [901, 328, 577, 129, 739, 808, 31, 538, 527, 541, 477, 378, 292, 931, 493, 561, 303, 73, 126], [189, 910, 912, 877, 0, 373, 508, 937, 173, 393, 963, 286, 757, 525], [374, 610, 556, 28, 179, 18, 582, 945, 195, 575, 831, 740], [281, 437, 454, 882, 395, 782, 711, 940, 985, 653, 123, 323], [660, 745, 401, 343, 952, 365, 398, 997, 143, 731], [867, 369, 138, 67, 29, 55, 95, 746, 873, 909, 970], [22, 107, 41, 6, 27, 497, 792, 550, 850, 934, 394, 461, 848, 607], [188, 874, 196, 241, 245, 560, 920, 749, 845, 968, 905], [669, 872, 157, 447, 649, 714, 12, 258, 947, 819, 68, 606, 629], [1, 898, 868, 367, 548, 364, 289], [554, 232, 450, 102, 559, 85], [900, 8, 332, 646, 902, 91, 766, 421, 475], [432, 251, 750, 39, 954], [139, 760], [358], [174, 787]]\n"
    }
   ],
   "source": [
    "nC = 1000\n",
    "v1 = [rd.random() for x in range(nC)]\n",
    "v2 = [rd.random() for x in range(nC)]\n",
    "\n",
    "f = fast_non_dominated_sort(v1,v2)\n",
    "print(f)"
   ]
  },
  {
   "cell_type": "code",
   "execution_count": 107,
   "metadata": {},
   "outputs": [
    {
     "output_type": "display_data",
     "data": {
      "text/plain": "<Figure size 432x288 with 1 Axes>",
      "image/svg+xml": "<?xml version=\"1.0\" encoding=\"utf-8\" standalone=\"no\"?>\r\n<!DOCTYPE svg PUBLIC \"-//W3C//DTD SVG 1.1//EN\"\r\n  \"http://www.w3.org/Graphics/SVG/1.1/DTD/svg11.dtd\">\r\n<!-- Created with matplotlib (https://matplotlib.org/) -->\r\n<svg height=\"267.035312pt\" version=\"1.1\" viewBox=\"0 0 390.620312 267.035312\" width=\"390.620312pt\" xmlns=\"http://www.w3.org/2000/svg\" xmlns:xlink=\"http://www.w3.org/1999/xlink\">\r\n <defs>\r\n  <style type=\"text/css\">\r\n*{stroke-linecap:butt;stroke-linejoin:round;}\r\n  </style>\r\n </defs>\r\n <g id=\"figure_1\">\r\n  <g id=\"patch_1\">\r\n   <path d=\"M 0 267.035312 \r\nL 390.620312 267.035312 \r\nL 390.620312 0 \r\nL 0 0 \r\nz\r\n\" style=\"fill:none;\"/>\r\n  </g>\r\n  <g id=\"axes_1\">\r\n   <g id=\"patch_2\">\r\n    <path d=\"M 48.620313 224.64 \r\nL 383.420313 224.64 \r\nL 383.420313 7.2 \r\nL 48.620313 7.2 \r\nz\r\n\" style=\"fill:#ffffff;\"/>\r\n   </g>\r\n   <g id=\"PathCollection_1\">\r\n    <defs>\r\n     <path d=\"M 0 3 \r\nC 0.795609 3 1.55874 2.683901 2.12132 2.12132 \r\nC 2.683901 1.55874 3 0.795609 3 0 \r\nC 3 -0.795609 2.683901 -1.55874 2.12132 -2.12132 \r\nC 1.55874 -2.683901 0.795609 -3 0 -3 \r\nC -0.795609 -3 -1.55874 -2.683901 -2.12132 -2.12132 \r\nC -2.683901 -1.55874 -3 -0.795609 -3 0 \r\nC -3 0.795609 -2.683901 1.55874 -2.12132 2.12132 \r\nC -1.55874 2.683901 -0.795609 3 0 3 \r\nz\r\n\" id=\"m5283cd44e2\" style=\"stroke:#1f77b4;\"/>\r\n    </defs>\r\n    <g clip-path=\"url(#pf3f6138dcc)\">\r\n     <use style=\"fill:#1f77b4;stroke:#1f77b4;\" x=\"130.254787\" xlink:href=\"#m5283cd44e2\" y=\"153.146102\"/>\r\n     <use style=\"fill:#1f77b4;stroke:#1f77b4;\" x=\"93.258724\" xlink:href=\"#m5283cd44e2\" y=\"190.916757\"/>\r\n     <use style=\"fill:#1f77b4;stroke:#1f77b4;\" x=\"331.049361\" xlink:href=\"#m5283cd44e2\" y=\"156.876662\"/>\r\n     <use style=\"fill:#1f77b4;stroke:#1f77b4;\" x=\"299.849643\" xlink:href=\"#m5283cd44e2\" y=\"63.711201\"/>\r\n     <use style=\"fill:#1f77b4;stroke:#1f77b4;\" x=\"305.952074\" xlink:href=\"#m5283cd44e2\" y=\"69.034538\"/>\r\n     <use style=\"fill:#1f77b4;stroke:#1f77b4;\" x=\"316.54865\" xlink:href=\"#m5283cd44e2\" y=\"126.785202\"/>\r\n     <use style=\"fill:#1f77b4;stroke:#1f77b4;\" x=\"117.211122\" xlink:href=\"#m5283cd44e2\" y=\"178.484476\"/>\r\n     <use style=\"fill:#1f77b4;stroke:#1f77b4;\" x=\"233.241207\" xlink:href=\"#m5283cd44e2\" y=\"74.142526\"/>\r\n     <use style=\"fill:#1f77b4;stroke:#1f77b4;\" x=\"73.548202\" xlink:href=\"#m5283cd44e2\" y=\"195.401665\"/>\r\n     <use style=\"fill:#1f77b4;stroke:#1f77b4;\" x=\"114.076039\" xlink:href=\"#m5283cd44e2\" y=\"61.874254\"/>\r\n     <use style=\"fill:#1f77b4;stroke:#1f77b4;\" x=\"196.799451\" xlink:href=\"#m5283cd44e2\" y=\"181.708681\"/>\r\n     <use style=\"fill:#1f77b4;stroke:#1f77b4;\" x=\"209.51892\" xlink:href=\"#m5283cd44e2\" y=\"26.909536\"/>\r\n     <use style=\"fill:#1f77b4;stroke:#1f77b4;\" x=\"96.471012\" xlink:href=\"#m5283cd44e2\" y=\"187.636715\"/>\r\n     <use style=\"fill:#1f77b4;stroke:#1f77b4;\" x=\"297.479883\" xlink:href=\"#m5283cd44e2\" y=\"47.291847\"/>\r\n     <use style=\"fill:#1f77b4;stroke:#1f77b4;\" x=\"346.566929\" xlink:href=\"#m5283cd44e2\" y=\"174.100998\"/>\r\n     <use style=\"fill:#1f77b4;stroke:#1f77b4;\" x=\"332.915766\" xlink:href=\"#m5283cd44e2\" y=\"99.249958\"/>\r\n     <use style=\"fill:#1f77b4;stroke:#1f77b4;\" x=\"103.312341\" xlink:href=\"#m5283cd44e2\" y=\"58.315364\"/>\r\n     <use style=\"fill:#1f77b4;stroke:#1f77b4;\" x=\"316.62706\" xlink:href=\"#m5283cd44e2\" y=\"22.785609\"/>\r\n     <use style=\"fill:#1f77b4;stroke:#1f77b4;\" x=\"127.074128\" xlink:href=\"#m5283cd44e2\" y=\"156.122891\"/>\r\n     <use style=\"fill:#1f77b4;stroke:#1f77b4;\" x=\"224.710786\" xlink:href=\"#m5283cd44e2\" y=\"20.976801\"/>\r\n     <use style=\"fill:#1f77b4;stroke:#1f77b4;\" x=\"240.216984\" xlink:href=\"#m5283cd44e2\" y=\"133.677725\"/>\r\n     <use style=\"fill:#1f77b4;stroke:#1f77b4;\" x=\"267.329995\" xlink:href=\"#m5283cd44e2\" y=\"204.675618\"/>\r\n     <use style=\"fill:#1f77b4;stroke:#1f77b4;\" x=\"69.305387\" xlink:href=\"#m5283cd44e2\" y=\"146.700232\"/>\r\n     <use style=\"fill:#1f77b4;stroke:#1f77b4;\" x=\"322.937944\" xlink:href=\"#m5283cd44e2\" y=\"132.017397\"/>\r\n     <use style=\"fill:#1f77b4;stroke:#1f77b4;\" x=\"285.029955\" xlink:href=\"#m5283cd44e2\" y=\"71.693231\"/>\r\n     <use style=\"fill:#1f77b4;stroke:#1f77b4;\" x=\"81.872572\" xlink:href=\"#m5283cd44e2\" y=\"100.414745\"/>\r\n     <use style=\"fill:#1f77b4;stroke:#1f77b4;\" x=\"183.994978\" xlink:href=\"#m5283cd44e2\" y=\"180.501609\"/>\r\n     <use style=\"fill:#1f77b4;stroke:#1f77b4;\" x=\"108.74494\" xlink:href=\"#m5283cd44e2\" y=\"178.29295\"/>\r\n     <use style=\"fill:#1f77b4;stroke:#1f77b4;\" x=\"129.871672\" xlink:href=\"#m5283cd44e2\" y=\"160.865836\"/>\r\n     <use style=\"fill:#1f77b4;stroke:#1f77b4;\" x=\"73.227448\" xlink:href=\"#m5283cd44e2\" y=\"150.191819\"/>\r\n     <use style=\"fill:#1f77b4;stroke:#1f77b4;\" x=\"317.872576\" xlink:href=\"#m5283cd44e2\" y=\"86.792775\"/>\r\n     <use style=\"fill:#1f77b4;stroke:#1f77b4;\" x=\"156.514942\" xlink:href=\"#m5283cd44e2\" y=\"163.290417\"/>\r\n     <use style=\"fill:#1f77b4;stroke:#1f77b4;\" x=\"295.400581\" xlink:href=\"#m5283cd44e2\" y=\"166.538704\"/>\r\n     <use style=\"fill:#1f77b4;stroke:#1f77b4;\" x=\"94.626922\" xlink:href=\"#m5283cd44e2\" y=\"79.391592\"/>\r\n     <use style=\"fill:#1f77b4;stroke:#1f77b4;\" x=\"298.453074\" xlink:href=\"#m5283cd44e2\" y=\"90.807066\"/>\r\n     <use style=\"fill:#1f77b4;stroke:#1f77b4;\" x=\"267.546947\" xlink:href=\"#m5283cd44e2\" y=\"138.140068\"/>\r\n     <use style=\"fill:#1f77b4;stroke:#1f77b4;\" x=\"276.755259\" xlink:href=\"#m5283cd44e2\" y=\"204.227998\"/>\r\n     <use style=\"fill:#1f77b4;stroke:#1f77b4;\" x=\"161.886824\" xlink:href=\"#m5283cd44e2\" y=\"39.156537\"/>\r\n     <use style=\"fill:#1f77b4;stroke:#1f77b4;\" x=\"332.740915\" xlink:href=\"#m5283cd44e2\" y=\"141.321951\"/>\r\n     <use style=\"fill:#1f77b4;stroke:#1f77b4;\" x=\"104.619327\" xlink:href=\"#m5283cd44e2\" y=\"210.769138\"/>\r\n     <use style=\"fill:#1f77b4;stroke:#1f77b4;\" x=\"126.795971\" xlink:href=\"#m5283cd44e2\" y=\"127.990526\"/>\r\n     <use style=\"fill:#1f77b4;stroke:#1f77b4;\" x=\"106.423232\" xlink:href=\"#m5283cd44e2\" y=\"170.625243\"/>\r\n     <use style=\"fill:#1f77b4;stroke:#1f77b4;\" x=\"343.357281\" xlink:href=\"#m5283cd44e2\" y=\"144.309328\"/>\r\n     <use style=\"fill:#1f77b4;stroke:#1f77b4;\" x=\"285.749405\" xlink:href=\"#m5283cd44e2\" y=\"181.968044\"/>\r\n     <use style=\"fill:#1f77b4;stroke:#1f77b4;\" x=\"177.294228\" xlink:href=\"#m5283cd44e2\" y=\"78.880886\"/>\r\n     <use style=\"fill:#1f77b4;stroke:#1f77b4;\" x=\"125.042529\" xlink:href=\"#m5283cd44e2\" y=\"125.582636\"/>\r\n     <use style=\"fill:#1f77b4;stroke:#1f77b4;\" x=\"118.90126\" xlink:href=\"#m5283cd44e2\" y=\"134.39544\"/>\r\n     <use style=\"fill:#1f77b4;stroke:#1f77b4;\" x=\"272.781959\" xlink:href=\"#m5283cd44e2\" y=\"145.052608\"/>\r\n     <use style=\"fill:#1f77b4;stroke:#1f77b4;\" x=\"269.854365\" xlink:href=\"#m5283cd44e2\" y=\"214.169507\"/>\r\n     <use style=\"fill:#1f77b4;stroke:#1f77b4;\" x=\"282.905361\" xlink:href=\"#m5283cd44e2\" y=\"197.04657\"/>\r\n     <use style=\"fill:#1f77b4;stroke:#1f77b4;\" x=\"74.005899\" xlink:href=\"#m5283cd44e2\" y=\"82.109917\"/>\r\n     <use style=\"fill:#1f77b4;stroke:#1f77b4;\" x=\"200.297322\" xlink:href=\"#m5283cd44e2\" y=\"209.411388\"/>\r\n     <use style=\"fill:#1f77b4;stroke:#1f77b4;\" x=\"128.261075\" xlink:href=\"#m5283cd44e2\" y=\"70.438292\"/>\r\n     <use style=\"fill:#1f77b4;stroke:#1f77b4;\" x=\"203.435185\" xlink:href=\"#m5283cd44e2\" y=\"84.42059\"/>\r\n     <use style=\"fill:#1f77b4;stroke:#1f77b4;\" x=\"301.229551\" xlink:href=\"#m5283cd44e2\" y=\"186.84757\"/>\r\n     <use style=\"fill:#1f77b4;stroke:#1f77b4;\" x=\"102.119356\" xlink:href=\"#m5283cd44e2\" y=\"155.317993\"/>\r\n     <use style=\"fill:#1f77b4;stroke:#1f77b4;\" x=\"185.903717\" xlink:href=\"#m5283cd44e2\" y=\"99.227287\"/>\r\n     <use style=\"fill:#1f77b4;stroke:#1f77b4;\" x=\"337.716951\" xlink:href=\"#m5283cd44e2\" y=\"151.498213\"/>\r\n     <use style=\"fill:#1f77b4;stroke:#1f77b4;\" x=\"206.386623\" xlink:href=\"#m5283cd44e2\" y=\"107.181049\"/>\r\n     <use style=\"fill:#1f77b4;stroke:#1f77b4;\" x=\"349.182513\" xlink:href=\"#m5283cd44e2\" y=\"109.186706\"/>\r\n     <use style=\"fill:#1f77b4;stroke:#1f77b4;\" x=\"327.161085\" xlink:href=\"#m5283cd44e2\" y=\"144.609125\"/>\r\n     <use style=\"fill:#1f77b4;stroke:#1f77b4;\" x=\"316.616942\" xlink:href=\"#m5283cd44e2\" y=\"55.721027\"/>\r\n     <use style=\"fill:#1f77b4;stroke:#1f77b4;\" x=\"323.889869\" xlink:href=\"#m5283cd44e2\" y=\"203.244823\"/>\r\n     <use style=\"fill:#1f77b4;stroke:#1f77b4;\" x=\"128.232005\" xlink:href=\"#m5283cd44e2\" y=\"82.561675\"/>\r\n     <use style=\"fill:#1f77b4;stroke:#1f77b4;\" x=\"319.396741\" xlink:href=\"#m5283cd44e2\" y=\"193.861467\"/>\r\n     <use style=\"fill:#1f77b4;stroke:#1f77b4;\" x=\"248.713128\" xlink:href=\"#m5283cd44e2\" y=\"170.672894\"/>\r\n     <use style=\"fill:#1f77b4;stroke:#1f77b4;\" x=\"291.507862\" xlink:href=\"#m5283cd44e2\" y=\"200.645604\"/>\r\n     <use style=\"fill:#1f77b4;stroke:#1f77b4;\" x=\"117.755\" xlink:href=\"#m5283cd44e2\" y=\"172.501238\"/>\r\n     <use style=\"fill:#1f77b4;stroke:#1f77b4;\" x=\"125.223307\" xlink:href=\"#m5283cd44e2\" y=\"203.03062\"/>\r\n     <use style=\"fill:#1f77b4;stroke:#1f77b4;\" x=\"298.92424\" xlink:href=\"#m5283cd44e2\" y=\"211.807054\"/>\r\n     <use style=\"fill:#1f77b4;stroke:#1f77b4;\" x=\"341.631251\" xlink:href=\"#m5283cd44e2\" y=\"19.70202\"/>\r\n     <use style=\"fill:#1f77b4;stroke:#1f77b4;\" x=\"265.076741\" xlink:href=\"#m5283cd44e2\" y=\"190.832348\"/>\r\n     <use style=\"fill:#1f77b4;stroke:#1f77b4;\" x=\"318.598095\" xlink:href=\"#m5283cd44e2\" y=\"45.400013\"/>\r\n     <use style=\"fill:#1f77b4;stroke:#1f77b4;\" x=\"195.12969\" xlink:href=\"#m5283cd44e2\" y=\"210.324335\"/>\r\n     <use style=\"fill:#1f77b4;stroke:#1f77b4;\" x=\"184.588747\" xlink:href=\"#m5283cd44e2\" y=\"70.398599\"/>\r\n     <use style=\"fill:#1f77b4;stroke:#1f77b4;\" x=\"284.395549\" xlink:href=\"#m5283cd44e2\" y=\"26.99064\"/>\r\n     <use style=\"fill:#1f77b4;stroke:#1f77b4;\" x=\"305.657847\" xlink:href=\"#m5283cd44e2\" y=\"60.50902\"/>\r\n     <use style=\"fill:#1f77b4;stroke:#1f77b4;\" x=\"98.20764\" xlink:href=\"#m5283cd44e2\" y=\"27.834443\"/>\r\n     <use style=\"fill:#1f77b4;stroke:#1f77b4;\" x=\"329.597388\" xlink:href=\"#m5283cd44e2\" y=\"22.168373\"/>\r\n     <use style=\"fill:#1f77b4;stroke:#1f77b4;\" x=\"151.696153\" xlink:href=\"#m5283cd44e2\" y=\"76.498515\"/>\r\n     <use style=\"fill:#1f77b4;stroke:#1f77b4;\" x=\"78.945672\" xlink:href=\"#m5283cd44e2\" y=\"24.614955\"/>\r\n     <use style=\"fill:#1f77b4;stroke:#1f77b4;\" x=\"170.557688\" xlink:href=\"#m5283cd44e2\" y=\"134.268302\"/>\r\n     <use style=\"fill:#1f77b4;stroke:#1f77b4;\" x=\"264.927991\" xlink:href=\"#m5283cd44e2\" y=\"93.609403\"/>\r\n     <use style=\"fill:#1f77b4;stroke:#1f77b4;\" x=\"165.705944\" xlink:href=\"#m5283cd44e2\" y=\"153.244569\"/>\r\n     <use style=\"fill:#1f77b4;stroke:#1f77b4;\" x=\"274.072586\" xlink:href=\"#m5283cd44e2\" y=\"53.954164\"/>\r\n     <use style=\"fill:#1f77b4;stroke:#1f77b4;\" x=\"120.006153\" xlink:href=\"#m5283cd44e2\" y=\"211.814545\"/>\r\n     <use style=\"fill:#1f77b4;stroke:#1f77b4;\" x=\"185.781332\" xlink:href=\"#m5283cd44e2\" y=\"187.995846\"/>\r\n     <use style=\"fill:#1f77b4;stroke:#1f77b4;\" x=\"362.860327\" xlink:href=\"#m5283cd44e2\" y=\"122.603915\"/>\r\n     <use style=\"fill:#1f77b4;stroke:#1f77b4;\" x=\"354.752403\" xlink:href=\"#m5283cd44e2\" y=\"67.5084\"/>\r\n     <use style=\"fill:#1f77b4;stroke:#1f77b4;\" x=\"348.983795\" xlink:href=\"#m5283cd44e2\" y=\"31.208012\"/>\r\n     <use style=\"fill:#1f77b4;stroke:#1f77b4;\" x=\"189.234175\" xlink:href=\"#m5283cd44e2\" y=\"161.051154\"/>\r\n     <use style=\"fill:#1f77b4;stroke:#1f77b4;\" x=\"105.718738\" xlink:href=\"#m5283cd44e2\" y=\"204.868126\"/>\r\n     <use style=\"fill:#1f77b4;stroke:#1f77b4;\" x=\"195.999367\" xlink:href=\"#m5283cd44e2\" y=\"98.987838\"/>\r\n     <use style=\"fill:#1f77b4;stroke:#1f77b4;\" x=\"87.410808\" xlink:href=\"#m5283cd44e2\" y=\"71.229759\"/>\r\n     <use style=\"fill:#1f77b4;stroke:#1f77b4;\" x=\"307.749005\" xlink:href=\"#m5283cd44e2\" y=\"180.213195\"/>\r\n     <use style=\"fill:#1f77b4;stroke:#1f77b4;\" x=\"99.888311\" xlink:href=\"#m5283cd44e2\" y=\"152.107839\"/>\r\n     <use style=\"fill:#1f77b4;stroke:#1f77b4;\" x=\"230.688088\" xlink:href=\"#m5283cd44e2\" y=\"118.343864\"/>\r\n     <use style=\"fill:#1f77b4;stroke:#1f77b4;\" x=\"352.154804\" xlink:href=\"#m5283cd44e2\" y=\"131.632233\"/>\r\n     <use style=\"fill:#1f77b4;stroke:#1f77b4;\" x=\"335.144767\" xlink:href=\"#m5283cd44e2\" y=\"78.721478\"/>\r\n     <use style=\"fill:#1f77b4;stroke:#1f77b4;\" x=\"113.903236\" xlink:href=\"#m5283cd44e2\" y=\"39.825807\"/>\r\n     <use style=\"fill:#1f77b4;stroke:#1f77b4;\" x=\"185.854026\" xlink:href=\"#m5283cd44e2\" y=\"98.900648\"/>\r\n     <use style=\"fill:#1f77b4;stroke:#1f77b4;\" x=\"166.756076\" xlink:href=\"#m5283cd44e2\" y=\"33.39291\"/>\r\n     <use style=\"fill:#1f77b4;stroke:#1f77b4;\" x=\"116.467615\" xlink:href=\"#m5283cd44e2\" y=\"205.281829\"/>\r\n     <use style=\"fill:#1f77b4;stroke:#1f77b4;\" x=\"268.088535\" xlink:href=\"#m5283cd44e2\" y=\"29.142003\"/>\r\n     <use style=\"fill:#1f77b4;stroke:#1f77b4;\" x=\"281.661815\" xlink:href=\"#m5283cd44e2\" y=\"214.339185\"/>\r\n     <use style=\"fill:#1f77b4;stroke:#1f77b4;\" x=\"164.588699\" xlink:href=\"#m5283cd44e2\" y=\"19.02048\"/>\r\n     <use style=\"fill:#1f77b4;stroke:#1f77b4;\" x=\"122.966821\" xlink:href=\"#m5283cd44e2\" y=\"104.405877\"/>\r\n     <use style=\"fill:#1f77b4;stroke:#1f77b4;\" x=\"118.948174\" xlink:href=\"#m5283cd44e2\" y=\"193.883631\"/>\r\n     <use style=\"fill:#1f77b4;stroke:#1f77b4;\" x=\"85.403767\" xlink:href=\"#m5283cd44e2\" y=\"117.579807\"/>\r\n     <use style=\"fill:#1f77b4;stroke:#1f77b4;\" x=\"185.764229\" xlink:href=\"#m5283cd44e2\" y=\"48.949008\"/>\r\n     <use style=\"fill:#1f77b4;stroke:#1f77b4;\" x=\"235.562861\" xlink:href=\"#m5283cd44e2\" y=\"32.081643\"/>\r\n     <use style=\"fill:#1f77b4;stroke:#1f77b4;\" x=\"88.061706\" xlink:href=\"#m5283cd44e2\" y=\"17.091992\"/>\r\n     <use style=\"fill:#1f77b4;stroke:#1f77b4;\" x=\"307.88295\" xlink:href=\"#m5283cd44e2\" y=\"161.578906\"/>\r\n     <use style=\"fill:#1f77b4;stroke:#1f77b4;\" x=\"127.52346\" xlink:href=\"#m5283cd44e2\" y=\"130.427947\"/>\r\n     <use style=\"fill:#1f77b4;stroke:#1f77b4;\" x=\"206.681996\" xlink:href=\"#m5283cd44e2\" y=\"203.887426\"/>\r\n     <use style=\"fill:#1f77b4;stroke:#1f77b4;\" x=\"300.427387\" xlink:href=\"#m5283cd44e2\" y=\"189.860787\"/>\r\n     <use style=\"fill:#1f77b4;stroke:#1f77b4;\" x=\"202.184839\" xlink:href=\"#m5283cd44e2\" y=\"193.020733\"/>\r\n     <use style=\"fill:#1f77b4;stroke:#1f77b4;\" x=\"201.673035\" xlink:href=\"#m5283cd44e2\" y=\"98.654052\"/>\r\n     <use style=\"fill:#1f77b4;stroke:#1f77b4;\" x=\"328.260567\" xlink:href=\"#m5283cd44e2\" y=\"114.496787\"/>\r\n     <use style=\"fill:#1f77b4;stroke:#1f77b4;\" x=\"251.745338\" xlink:href=\"#m5283cd44e2\" y=\"40.905162\"/>\r\n     <use style=\"fill:#1f77b4;stroke:#1f77b4;\" x=\"210.945275\" xlink:href=\"#m5283cd44e2\" y=\"174.586643\"/>\r\n     <use style=\"fill:#1f77b4;stroke:#1f77b4;\" x=\"92.417724\" xlink:href=\"#m5283cd44e2\" y=\"66.4685\"/>\r\n     <use style=\"fill:#1f77b4;stroke:#1f77b4;\" x=\"210.174979\" xlink:href=\"#m5283cd44e2\" y=\"212.171603\"/>\r\n     <use style=\"fill:#1f77b4;stroke:#1f77b4;\" x=\"159.463576\" xlink:href=\"#m5283cd44e2\" y=\"191.612066\"/>\r\n     <use style=\"fill:#1f77b4;stroke:#1f77b4;\" x=\"194.042402\" xlink:href=\"#m5283cd44e2\" y=\"192.946628\"/>\r\n     <use style=\"fill:#1f77b4;stroke:#1f77b4;\" x=\"197.321317\" xlink:href=\"#m5283cd44e2\" y=\"42.245268\"/>\r\n     <use style=\"fill:#1f77b4;stroke:#1f77b4;\" x=\"197.998792\" xlink:href=\"#m5283cd44e2\" y=\"212.819208\"/>\r\n     <use style=\"fill:#1f77b4;stroke:#1f77b4;\" x=\"312.01464\" xlink:href=\"#m5283cd44e2\" y=\"34.611017\"/>\r\n     <use style=\"fill:#1f77b4;stroke:#1f77b4;\" x=\"324.066611\" xlink:href=\"#m5283cd44e2\" y=\"47.767075\"/>\r\n     <use style=\"fill:#1f77b4;stroke:#1f77b4;\" x=\"86.40387\" xlink:href=\"#m5283cd44e2\" y=\"135.911679\"/>\r\n     <use style=\"fill:#1f77b4;stroke:#1f77b4;\" x=\"354.513764\" xlink:href=\"#m5283cd44e2\" y=\"108.349383\"/>\r\n     <use style=\"fill:#1f77b4;stroke:#1f77b4;\" x=\"352.875353\" xlink:href=\"#m5283cd44e2\" y=\"129.114222\"/>\r\n     <use style=\"fill:#1f77b4;stroke:#1f77b4;\" x=\"170.135684\" xlink:href=\"#m5283cd44e2\" y=\"46.222466\"/>\r\n     <use style=\"fill:#1f77b4;stroke:#1f77b4;\" x=\"299.372272\" xlink:href=\"#m5283cd44e2\" y=\"128.931256\"/>\r\n     <use style=\"fill:#1f77b4;stroke:#1f77b4;\" x=\"149.089751\" xlink:href=\"#m5283cd44e2\" y=\"26.266464\"/>\r\n     <use style=\"fill:#1f77b4;stroke:#1f77b4;\" x=\"228.565989\" xlink:href=\"#m5283cd44e2\" y=\"157.573478\"/>\r\n     <use style=\"fill:#1f77b4;stroke:#1f77b4;\" x=\"336.785479\" xlink:href=\"#m5283cd44e2\" y=\"131.72759\"/>\r\n     <use style=\"fill:#1f77b4;stroke:#1f77b4;\" x=\"330.60724\" xlink:href=\"#m5283cd44e2\" y=\"107.135918\"/>\r\n     <use style=\"fill:#1f77b4;stroke:#1f77b4;\" x=\"115.412595\" xlink:href=\"#m5283cd44e2\" y=\"167.833026\"/>\r\n     <use style=\"fill:#1f77b4;stroke:#1f77b4;\" x=\"72.921729\" xlink:href=\"#m5283cd44e2\" y=\"212.131669\"/>\r\n     <use style=\"fill:#1f77b4;stroke:#1f77b4;\" x=\"311.55932\" xlink:href=\"#m5283cd44e2\" y=\"126.726179\"/>\r\n     <use style=\"fill:#1f77b4;stroke:#1f77b4;\" x=\"224.177139\" xlink:href=\"#m5283cd44e2\" y=\"68.463227\"/>\r\n     <use style=\"fill:#1f77b4;stroke:#1f77b4;\" x=\"335.77832\" xlink:href=\"#m5283cd44e2\" y=\"173.433562\"/>\r\n     <use style=\"fill:#1f77b4;stroke:#1f77b4;\" x=\"161.871299\" xlink:href=\"#m5283cd44e2\" y=\"210.975878\"/>\r\n     <use style=\"fill:#1f77b4;stroke:#1f77b4;\" x=\"363.43241\" xlink:href=\"#m5283cd44e2\" y=\"97.199839\"/>\r\n     <use style=\"fill:#1f77b4;stroke:#1f77b4;\" x=\"113.433864\" xlink:href=\"#m5283cd44e2\" y=\"88.743872\"/>\r\n     <use style=\"fill:#1f77b4;stroke:#1f77b4;\" x=\"188.248727\" xlink:href=\"#m5283cd44e2\" y=\"163.722609\"/>\r\n     <use style=\"fill:#1f77b4;stroke:#1f77b4;\" x=\"241.46722\" xlink:href=\"#m5283cd44e2\" y=\"162.497503\"/>\r\n     <use style=\"fill:#1f77b4;stroke:#1f77b4;\" x=\"259.135266\" xlink:href=\"#m5283cd44e2\" y=\"111.393211\"/>\r\n     <use style=\"fill:#1f77b4;stroke:#1f77b4;\" x=\"116.831988\" xlink:href=\"#m5283cd44e2\" y=\"139.575333\"/>\r\n     <use style=\"fill:#1f77b4;stroke:#1f77b4;\" x=\"158.385601\" xlink:href=\"#m5283cd44e2\" y=\"52.029709\"/>\r\n     <use style=\"fill:#1f77b4;stroke:#1f77b4;\" x=\"64.507856\" xlink:href=\"#m5283cd44e2\" y=\"86.475092\"/>\r\n     <use style=\"fill:#1f77b4;stroke:#1f77b4;\" x=\"116.072042\" xlink:href=\"#m5283cd44e2\" y=\"107.477523\"/>\r\n     <use style=\"fill:#1f77b4;stroke:#1f77b4;\" x=\"220.525102\" xlink:href=\"#m5283cd44e2\" y=\"136.435862\"/>\r\n     <use style=\"fill:#1f77b4;stroke:#1f77b4;\" x=\"296.01949\" xlink:href=\"#m5283cd44e2\" y=\"209.071225\"/>\r\n     <use style=\"fill:#1f77b4;stroke:#1f77b4;\" x=\"302.507193\" xlink:href=\"#m5283cd44e2\" y=\"194.710436\"/>\r\n     <use style=\"fill:#1f77b4;stroke:#1f77b4;\" x=\"254.853725\" xlink:href=\"#m5283cd44e2\" y=\"186.376314\"/>\r\n     <use style=\"fill:#1f77b4;stroke:#1f77b4;\" x=\"88.273892\" xlink:href=\"#m5283cd44e2\" y=\"176.611147\"/>\r\n     <use style=\"fill:#1f77b4;stroke:#1f77b4;\" x=\"80.468826\" xlink:href=\"#m5283cd44e2\" y=\"23.374186\"/>\r\n     <use style=\"fill:#1f77b4;stroke:#1f77b4;\" x=\"308.140044\" xlink:href=\"#m5283cd44e2\" y=\"77.15372\"/>\r\n     <use style=\"fill:#1f77b4;stroke:#1f77b4;\" x=\"203.587653\" xlink:href=\"#m5283cd44e2\" y=\"35.543925\"/>\r\n     <use style=\"fill:#1f77b4;stroke:#1f77b4;\" x=\"322.004312\" xlink:href=\"#m5283cd44e2\" y=\"108.932782\"/>\r\n     <use style=\"fill:#1f77b4;stroke:#1f77b4;\" x=\"317.482449\" xlink:href=\"#m5283cd44e2\" y=\"104.101607\"/>\r\n     <use style=\"fill:#1f77b4;stroke:#1f77b4;\" x=\"287.183026\" xlink:href=\"#m5283cd44e2\" y=\"187.33844\"/>\r\n     <use style=\"fill:#1f77b4;stroke:#1f77b4;\" x=\"231.608431\" xlink:href=\"#m5283cd44e2\" y=\"40.445336\"/>\r\n     <use style=\"fill:#1f77b4;stroke:#1f77b4;\" x=\"360.899699\" xlink:href=\"#m5283cd44e2\" y=\"103.831023\"/>\r\n     <use style=\"fill:#1f77b4;stroke:#1f77b4;\" x=\"150.087071\" xlink:href=\"#m5283cd44e2\" y=\"152.946049\"/>\r\n     <use style=\"fill:#1f77b4;stroke:#1f77b4;\" x=\"224.434288\" xlink:href=\"#m5283cd44e2\" y=\"157.096887\"/>\r\n     <use style=\"fill:#1f77b4;stroke:#1f77b4;\" x=\"337.522538\" xlink:href=\"#m5283cd44e2\" y=\"188.641689\"/>\r\n     <use style=\"fill:#1f77b4;stroke:#1f77b4;\" x=\"277.089334\" xlink:href=\"#m5283cd44e2\" y=\"167.527506\"/>\r\n     <use style=\"fill:#1f77b4;stroke:#1f77b4;\" x=\"300.653597\" xlink:href=\"#m5283cd44e2\" y=\"107.632476\"/>\r\n     <use style=\"fill:#1f77b4;stroke:#1f77b4;\" x=\"212.858651\" xlink:href=\"#m5283cd44e2\" y=\"42.050008\"/>\r\n     <use style=\"fill:#1f77b4;stroke:#1f77b4;\" x=\"326.407723\" xlink:href=\"#m5283cd44e2\" y=\"185.529549\"/>\r\n     <use style=\"fill:#1f77b4;stroke:#1f77b4;\" x=\"120.464575\" xlink:href=\"#m5283cd44e2\" y=\"144.009621\"/>\r\n     <use style=\"fill:#1f77b4;stroke:#1f77b4;\" x=\"80.084743\" xlink:href=\"#m5283cd44e2\" y=\"214.756364\"/>\r\n     <use style=\"fill:#1f77b4;stroke:#1f77b4;\" x=\"305.183449\" xlink:href=\"#m5283cd44e2\" y=\"171.357931\"/>\r\n     <use style=\"fill:#1f77b4;stroke:#1f77b4;\" x=\"227.175177\" xlink:href=\"#m5283cd44e2\" y=\"149.507126\"/>\r\n     <use style=\"fill:#1f77b4;stroke:#1f77b4;\" x=\"108.198035\" xlink:href=\"#m5283cd44e2\" y=\"30.434067\"/>\r\n     <use style=\"fill:#1f77b4;stroke:#1f77b4;\" x=\"330.42638\" xlink:href=\"#m5283cd44e2\" y=\"38.215625\"/>\r\n     <use style=\"fill:#1f77b4;stroke:#1f77b4;\" x=\"139.067192\" xlink:href=\"#m5283cd44e2\" y=\"163.624449\"/>\r\n     <use style=\"fill:#1f77b4;stroke:#1f77b4;\" x=\"181.870427\" xlink:href=\"#m5283cd44e2\" y=\"98.193102\"/>\r\n     <use style=\"fill:#1f77b4;stroke:#1f77b4;\" x=\"141.992329\" xlink:href=\"#m5283cd44e2\" y=\"60.495289\"/>\r\n     <use style=\"fill:#1f77b4;stroke:#1f77b4;\" x=\"309.609277\" xlink:href=\"#m5283cd44e2\" y=\"44.345221\"/>\r\n     <use style=\"fill:#1f77b4;stroke:#1f77b4;\" x=\"292.773665\" xlink:href=\"#m5283cd44e2\" y=\"207.563557\"/>\r\n     <use style=\"fill:#1f77b4;stroke:#1f77b4;\" x=\"347.375593\" xlink:href=\"#m5283cd44e2\" y=\"126.597869\"/>\r\n     <use style=\"fill:#1f77b4;stroke:#1f77b4;\" x=\"309.583623\" xlink:href=\"#m5283cd44e2\" y=\"46.20481\"/>\r\n     <use style=\"fill:#1f77b4;stroke:#1f77b4;\" x=\"150.364366\" xlink:href=\"#m5283cd44e2\" y=\"147.469009\"/>\r\n     <use style=\"fill:#1f77b4;stroke:#1f77b4;\" x=\"170.395245\" xlink:href=\"#m5283cd44e2\" y=\"134.349127\"/>\r\n     <use style=\"fill:#1f77b4;stroke:#1f77b4;\" x=\"65.71723\" xlink:href=\"#m5283cd44e2\" y=\"149.323422\"/>\r\n     <use style=\"fill:#1f77b4;stroke:#1f77b4;\" x=\"79.252479\" xlink:href=\"#m5283cd44e2\" y=\"118.011603\"/>\r\n     <use style=\"fill:#1f77b4;stroke:#1f77b4;\" x=\"305.005927\" xlink:href=\"#m5283cd44e2\" y=\"19.014743\"/>\r\n     <use style=\"fill:#1f77b4;stroke:#1f77b4;\" x=\"69.498292\" xlink:href=\"#m5283cd44e2\" y=\"25.304737\"/>\r\n     <use style=\"fill:#1f77b4;stroke:#1f77b4;\" x=\"330.430909\" xlink:href=\"#m5283cd44e2\" y=\"59.386649\"/>\r\n     <use style=\"fill:#1f77b4;stroke:#1f77b4;\" x=\"323.66826\" xlink:href=\"#m5283cd44e2\" y=\"111.883933\"/>\r\n     <use style=\"fill:#1f77b4;stroke:#1f77b4;\" x=\"94.012834\" xlink:href=\"#m5283cd44e2\" y=\"101.301854\"/>\r\n     <use style=\"fill:#1f77b4;stroke:#1f77b4;\" x=\"163.440468\" xlink:href=\"#m5283cd44e2\" y=\"192.021324\"/>\r\n     <use style=\"fill:#1f77b4;stroke:#1f77b4;\" x=\"89.615669\" xlink:href=\"#m5283cd44e2\" y=\"173.207099\"/>\r\n     <use style=\"fill:#1f77b4;stroke:#1f77b4;\" x=\"88.342788\" xlink:href=\"#m5283cd44e2\" y=\"69.803979\"/>\r\n     <use style=\"fill:#1f77b4;stroke:#1f77b4;\" x=\"94.79858\" xlink:href=\"#m5283cd44e2\" y=\"39.829772\"/>\r\n     <use style=\"fill:#1f77b4;stroke:#1f77b4;\" x=\"83.681699\" xlink:href=\"#m5283cd44e2\" y=\"116.01628\"/>\r\n     <use style=\"fill:#1f77b4;stroke:#1f77b4;\" x=\"324.383873\" xlink:href=\"#m5283cd44e2\" y=\"94.511947\"/>\r\n     <use style=\"fill:#1f77b4;stroke:#1f77b4;\" x=\"194.340044\" xlink:href=\"#m5283cd44e2\" y=\"144.251698\"/>\r\n     <use style=\"fill:#1f77b4;stroke:#1f77b4;\" x=\"149.93705\" xlink:href=\"#m5283cd44e2\" y=\"132.963104\"/>\r\n     <use style=\"fill:#1f77b4;stroke:#1f77b4;\" x=\"346.518524\" xlink:href=\"#m5283cd44e2\" y=\"81.067576\"/>\r\n     <use style=\"fill:#1f77b4;stroke:#1f77b4;\" x=\"336.679535\" xlink:href=\"#m5283cd44e2\" y=\"200.783377\"/>\r\n     <use style=\"fill:#1f77b4;stroke:#1f77b4;\" x=\"111.871989\" xlink:href=\"#m5283cd44e2\" y=\"71.154341\"/>\r\n     <use style=\"fill:#1f77b4;stroke:#1f77b4;\" x=\"166.714966\" xlink:href=\"#m5283cd44e2\" y=\"147.148238\"/>\r\n     <use style=\"fill:#1f77b4;stroke:#1f77b4;\" x=\"172.760856\" xlink:href=\"#m5283cd44e2\" y=\"147.922044\"/>\r\n     <use style=\"fill:#1f77b4;stroke:#1f77b4;\" x=\"220.274773\" xlink:href=\"#m5283cd44e2\" y=\"61.738876\"/>\r\n     <use style=\"fill:#1f77b4;stroke:#1f77b4;\" x=\"275.36202\" xlink:href=\"#m5283cd44e2\" y=\"97.940721\"/>\r\n     <use style=\"fill:#1f77b4;stroke:#1f77b4;\" x=\"152.224671\" xlink:href=\"#m5283cd44e2\" y=\"51.076967\"/>\r\n     <use style=\"fill:#1f77b4;stroke:#1f77b4;\" x=\"129.813657\" xlink:href=\"#m5283cd44e2\" y=\"74.145231\"/>\r\n     <use style=\"fill:#1f77b4;stroke:#1f77b4;\" x=\"66.398761\" xlink:href=\"#m5283cd44e2\" y=\"95.16589\"/>\r\n     <use style=\"fill:#1f77b4;stroke:#1f77b4;\" x=\"363.035187\" xlink:href=\"#m5283cd44e2\" y=\"170.563475\"/>\r\n     <use style=\"fill:#1f77b4;stroke:#1f77b4;\" x=\"326.70953\" xlink:href=\"#m5283cd44e2\" y=\"48.180777\"/>\r\n     <use style=\"fill:#1f77b4;stroke:#1f77b4;\" x=\"339.852809\" xlink:href=\"#m5283cd44e2\" y=\"81.384819\"/>\r\n     <use style=\"fill:#1f77b4;stroke:#1f77b4;\" x=\"208.98777\" xlink:href=\"#m5283cd44e2\" y=\"86.579066\"/>\r\n     <use style=\"fill:#1f77b4;stroke:#1f77b4;\" x=\"355.110468\" xlink:href=\"#m5283cd44e2\" y=\"148.503387\"/>\r\n     <use style=\"fill:#1f77b4;stroke:#1f77b4;\" x=\"298.054335\" xlink:href=\"#m5283cd44e2\" y=\"62.899465\"/>\r\n     <use style=\"fill:#1f77b4;stroke:#1f77b4;\" x=\"173.509783\" xlink:href=\"#m5283cd44e2\" y=\"115.491944\"/>\r\n     <use style=\"fill:#1f77b4;stroke:#1f77b4;\" x=\"101.384805\" xlink:href=\"#m5283cd44e2\" y=\"26.526414\"/>\r\n     <use style=\"fill:#1f77b4;stroke:#1f77b4;\" x=\"299.461965\" xlink:href=\"#m5283cd44e2\" y=\"213.6559\"/>\r\n     <use style=\"fill:#1f77b4;stroke:#1f77b4;\" x=\"249.557406\" xlink:href=\"#m5283cd44e2\" y=\"177.401471\"/>\r\n     <use style=\"fill:#1f77b4;stroke:#1f77b4;\" x=\"126.424615\" xlink:href=\"#m5283cd44e2\" y=\"81.000723\"/>\r\n     <use style=\"fill:#1f77b4;stroke:#1f77b4;\" x=\"163.036712\" xlink:href=\"#m5283cd44e2\" y=\"140.051017\"/>\r\n     <use style=\"fill:#1f77b4;stroke:#1f77b4;\" x=\"247.882635\" xlink:href=\"#m5283cd44e2\" y=\"125.354798\"/>\r\n     <use style=\"fill:#1f77b4;stroke:#1f77b4;\" x=\"277.814757\" xlink:href=\"#m5283cd44e2\" y=\"51.626059\"/>\r\n     <use style=\"fill:#1f77b4;stroke:#1f77b4;\" x=\"316.359913\" xlink:href=\"#m5283cd44e2\" y=\"205.752395\"/>\r\n     <use style=\"fill:#1f77b4;stroke:#1f77b4;\" x=\"68.20567\" xlink:href=\"#m5283cd44e2\" y=\"106.578975\"/>\r\n     <use style=\"fill:#1f77b4;stroke:#1f77b4;\" x=\"112.970595\" xlink:href=\"#m5283cd44e2\" y=\"119.118776\"/>\r\n     <use style=\"fill:#1f77b4;stroke:#1f77b4;\" x=\"334.485107\" xlink:href=\"#m5283cd44e2\" y=\"88.004257\"/>\r\n     <use style=\"fill:#1f77b4;stroke:#1f77b4;\" x=\"312.386348\" xlink:href=\"#m5283cd44e2\" y=\"145.122374\"/>\r\n     <use style=\"fill:#1f77b4;stroke:#1f77b4;\" x=\"88.855762\" xlink:href=\"#m5283cd44e2\" y=\"188.678558\"/>\r\n     <use style=\"fill:#1f77b4;stroke:#1f77b4;\" x=\"299.401616\" xlink:href=\"#m5283cd44e2\" y=\"121.831443\"/>\r\n     <use style=\"fill:#1f77b4;stroke:#1f77b4;\" x=\"72.62906\" xlink:href=\"#m5283cd44e2\" y=\"98.270192\"/>\r\n     <use style=\"fill:#1f77b4;stroke:#1f77b4;\" x=\"363.431224\" xlink:href=\"#m5283cd44e2\" y=\"190.12112\"/>\r\n     <use style=\"fill:#1f77b4;stroke:#1f77b4;\" x=\"145.561992\" xlink:href=\"#m5283cd44e2\" y=\"93.338576\"/>\r\n     <use style=\"fill:#1f77b4;stroke:#1f77b4;\" x=\"231.179392\" xlink:href=\"#m5283cd44e2\" y=\"27.733537\"/>\r\n     <use style=\"fill:#1f77b4;stroke:#1f77b4;\" x=\"137.348112\" xlink:href=\"#m5283cd44e2\" y=\"36.911604\"/>\r\n     <use style=\"fill:#1f77b4;stroke:#1f77b4;\" x=\"258.865674\" xlink:href=\"#m5283cd44e2\" y=\"109.469093\"/>\r\n     <use style=\"fill:#1f77b4;stroke:#1f77b4;\" x=\"89.632219\" xlink:href=\"#m5283cd44e2\" y=\"63.967906\"/>\r\n     <use style=\"fill:#1f77b4;stroke:#1f77b4;\" x=\"96.895229\" xlink:href=\"#m5283cd44e2\" y=\"176.231118\"/>\r\n     <use style=\"fill:#1f77b4;stroke:#1f77b4;\" x=\"219.032492\" xlink:href=\"#m5283cd44e2\" y=\"40.019408\"/>\r\n     <use style=\"fill:#1f77b4;stroke:#1f77b4;\" x=\"152.941628\" xlink:href=\"#m5283cd44e2\" y=\"46.090494\"/>\r\n     <use style=\"fill:#1f77b4;stroke:#1f77b4;\" x=\"280.577306\" xlink:href=\"#m5283cd44e2\" y=\"62.894998\"/>\r\n     <use style=\"fill:#1f77b4;stroke:#1f77b4;\" x=\"113.650413\" xlink:href=\"#m5283cd44e2\" y=\"187.394638\"/>\r\n     <use style=\"fill:#1f77b4;stroke:#1f77b4;\" x=\"278.22779\" xlink:href=\"#m5283cd44e2\" y=\"39.649031\"/>\r\n     <use style=\"fill:#1f77b4;stroke:#1f77b4;\" x=\"273.087831\" xlink:href=\"#m5283cd44e2\" y=\"188.152731\"/>\r\n     <use style=\"fill:#1f77b4;stroke:#1f77b4;\" x=\"319.806308\" xlink:href=\"#m5283cd44e2\" y=\"94.893499\"/>\r\n     <use style=\"fill:#1f77b4;stroke:#1f77b4;\" x=\"266.858446\" xlink:href=\"#m5283cd44e2\" y=\"137.348899\"/>\r\n     <use style=\"fill:#1f77b4;stroke:#1f77b4;\" x=\"297.877336\" xlink:href=\"#m5283cd44e2\" y=\"54.933316\"/>\r\n     <use style=\"fill:#1f77b4;stroke:#1f77b4;\" x=\"82.217799\" xlink:href=\"#m5283cd44e2\" y=\"206.798709\"/>\r\n     <use style=\"fill:#1f77b4;stroke:#1f77b4;\" x=\"333.566885\" xlink:href=\"#m5283cd44e2\" y=\"184.59293\"/>\r\n     <use style=\"fill:#1f77b4;stroke:#1f77b4;\" x=\"100.321033\" xlink:href=\"#m5283cd44e2\" y=\"79.445529\"/>\r\n     <use style=\"fill:#1f77b4;stroke:#1f77b4;\" x=\"189.319381\" xlink:href=\"#m5283cd44e2\" y=\"105.784497\"/>\r\n     <use style=\"fill:#1f77b4;stroke:#1f77b4;\" x=\"214.061555\" xlink:href=\"#m5283cd44e2\" y=\"214.613962\"/>\r\n     <use style=\"fill:#1f77b4;stroke:#1f77b4;\" x=\"217.933536\" xlink:href=\"#m5283cd44e2\" y=\"70.112438\"/>\r\n     <use style=\"fill:#1f77b4;stroke:#1f77b4;\" x=\"201.539764\" xlink:href=\"#m5283cd44e2\" y=\"151.024251\"/>\r\n     <use style=\"fill:#1f77b4;stroke:#1f77b4;\" x=\"95.837079\" xlink:href=\"#m5283cd44e2\" y=\"184.905026\"/>\r\n     <use style=\"fill:#1f77b4;stroke:#1f77b4;\" x=\"339.389847\" xlink:href=\"#m5283cd44e2\" y=\"58.295896\"/>\r\n     <use style=\"fill:#1f77b4;stroke:#1f77b4;\" x=\"352.149317\" xlink:href=\"#m5283cd44e2\" y=\"173.305253\"/>\r\n     <use style=\"fill:#1f77b4;stroke:#1f77b4;\" x=\"251.245588\" xlink:href=\"#m5283cd44e2\" y=\"101.208054\"/>\r\n     <use style=\"fill:#1f77b4;stroke:#1f77b4;\" x=\"100.19413\" xlink:href=\"#m5283cd44e2\" y=\"69.377289\"/>\r\n     <use style=\"fill:#1f77b4;stroke:#1f77b4;\" x=\"311.088775\" xlink:href=\"#m5283cd44e2\" y=\"28.754902\"/>\r\n     <use style=\"fill:#1f77b4;stroke:#1f77b4;\" x=\"138.172624\" xlink:href=\"#m5283cd44e2\" y=\"117.618233\"/>\r\n     <use style=\"fill:#1f77b4;stroke:#1f77b4;\" x=\"260.245303\" xlink:href=\"#m5283cd44e2\" y=\"22.208358\"/>\r\n     <use style=\"fill:#1f77b4;stroke:#1f77b4;\" x=\"92.106478\" xlink:href=\"#m5283cd44e2\" y=\"75.473658\"/>\r\n     <use style=\"fill:#1f77b4;stroke:#1f77b4;\" x=\"230.944185\" xlink:href=\"#m5283cd44e2\" y=\"19.972329\"/>\r\n     <use style=\"fill:#1f77b4;stroke:#1f77b4;\" x=\"114.309895\" xlink:href=\"#m5283cd44e2\" y=\"80.038913\"/>\r\n     <use style=\"fill:#1f77b4;stroke:#1f77b4;\" x=\"338.522134\" xlink:href=\"#m5283cd44e2\" y=\"54.203716\"/>\r\n     <use style=\"fill:#1f77b4;stroke:#1f77b4;\" x=\"224.065347\" xlink:href=\"#m5283cd44e2\" y=\"191.206945\"/>\r\n     <use style=\"fill:#1f77b4;stroke:#1f77b4;\" x=\"280.643687\" xlink:href=\"#m5283cd44e2\" y=\"74.718653\"/>\r\n     <use style=\"fill:#1f77b4;stroke:#1f77b4;\" x=\"194.320148\" xlink:href=\"#m5283cd44e2\" y=\"63.433936\"/>\r\n     <use style=\"fill:#1f77b4;stroke:#1f77b4;\" x=\"314.720312\" xlink:href=\"#m5283cd44e2\" y=\"140.11373\"/>\r\n     <use style=\"fill:#1f77b4;stroke:#1f77b4;\" x=\"349.623642\" xlink:href=\"#m5283cd44e2\" y=\"46.590714\"/>\r\n     <use style=\"fill:#1f77b4;stroke:#1f77b4;\" x=\"92.287899\" xlink:href=\"#m5283cd44e2\" y=\"44.937453\"/>\r\n     <use style=\"fill:#1f77b4;stroke:#1f77b4;\" x=\"359.53988\" xlink:href=\"#m5283cd44e2\" y=\"110.724257\"/>\r\n     <use style=\"fill:#1f77b4;stroke:#1f77b4;\" x=\"231.002284\" xlink:href=\"#m5283cd44e2\" y=\"108.224136\"/>\r\n     <use style=\"fill:#1f77b4;stroke:#1f77b4;\" x=\"343.790145\" xlink:href=\"#m5283cd44e2\" y=\"64.04166\"/>\r\n     <use style=\"fill:#1f77b4;stroke:#1f77b4;\" x=\"264.931154\" xlink:href=\"#m5283cd44e2\" y=\"49.131882\"/>\r\n     <use style=\"fill:#1f77b4;stroke:#1f77b4;\" x=\"296.768758\" xlink:href=\"#m5283cd44e2\" y=\"195.284304\"/>\r\n     <use style=\"fill:#1f77b4;stroke:#1f77b4;\" x=\"74.941436\" xlink:href=\"#m5283cd44e2\" y=\"126.09895\"/>\r\n     <use style=\"fill:#1f77b4;stroke:#1f77b4;\" x=\"311.228638\" xlink:href=\"#m5283cd44e2\" y=\"64.205738\"/>\r\n     <use style=\"fill:#1f77b4;stroke:#1f77b4;\" x=\"98.695427\" xlink:href=\"#m5283cd44e2\" y=\"106.650139\"/>\r\n     <use style=\"fill:#1f77b4;stroke:#1f77b4;\" x=\"298.88514\" xlink:href=\"#m5283cd44e2\" y=\"187.283022\"/>\r\n     <use style=\"fill:#1f77b4;stroke:#1f77b4;\" x=\"252.458527\" xlink:href=\"#m5283cd44e2\" y=\"72.396461\"/>\r\n     <use style=\"fill:#1f77b4;stroke:#1f77b4;\" x=\"175.30019\" xlink:href=\"#m5283cd44e2\" y=\"188.024256\"/>\r\n     <use style=\"fill:#1f77b4;stroke:#1f77b4;\" x=\"179.853854\" xlink:href=\"#m5283cd44e2\" y=\"52.17702\"/>\r\n     <use style=\"fill:#1f77b4;stroke:#1f77b4;\" x=\"239.325807\" xlink:href=\"#m5283cd44e2\" y=\"183.535648\"/>\r\n     <use style=\"fill:#1f77b4;stroke:#1f77b4;\" x=\"128.068565\" xlink:href=\"#m5283cd44e2\" y=\"210.652714\"/>\r\n     <use style=\"fill:#1f77b4;stroke:#1f77b4;\" x=\"325.820256\" xlink:href=\"#m5283cd44e2\" y=\"89.55309\"/>\r\n     <use style=\"fill:#1f77b4;stroke:#1f77b4;\" x=\"71.019466\" xlink:href=\"#m5283cd44e2\" y=\"40.440612\"/>\r\n     <use style=\"fill:#1f77b4;stroke:#1f77b4;\" x=\"191.758813\" xlink:href=\"#m5283cd44e2\" y=\"193.062496\"/>\r\n     <use style=\"fill:#1f77b4;stroke:#1f77b4;\" x=\"146.601062\" xlink:href=\"#m5283cd44e2\" y=\"103.530123\"/>\r\n     <use style=\"fill:#1f77b4;stroke:#1f77b4;\" x=\"149.451683\" xlink:href=\"#m5283cd44e2\" y=\"89.794009\"/>\r\n     <use style=\"fill:#1f77b4;stroke:#1f77b4;\" x=\"113.683552\" xlink:href=\"#m5283cd44e2\" y=\"82.170883\"/>\r\n     <use style=\"fill:#1f77b4;stroke:#1f77b4;\" x=\"149.580582\" xlink:href=\"#m5283cd44e2\" y=\"124.575099\"/>\r\n     <use style=\"fill:#1f77b4;stroke:#1f77b4;\" x=\"348.021167\" xlink:href=\"#m5283cd44e2\" y=\"62.861621\"/>\r\n     <use style=\"fill:#1f77b4;stroke:#1f77b4;\" x=\"327.112772\" xlink:href=\"#m5283cd44e2\" y=\"111.756061\"/>\r\n     <use style=\"fill:#1f77b4;stroke:#1f77b4;\" x=\"254.79175\" xlink:href=\"#m5283cd44e2\" y=\"202.902415\"/>\r\n     <use style=\"fill:#1f77b4;stroke:#1f77b4;\" x=\"266.325857\" xlink:href=\"#m5283cd44e2\" y=\"210.827108\"/>\r\n     <use style=\"fill:#1f77b4;stroke:#1f77b4;\" x=\"197.565487\" xlink:href=\"#m5283cd44e2\" y=\"66.233594\"/>\r\n     <use style=\"fill:#1f77b4;stroke:#1f77b4;\" x=\"268.005683\" xlink:href=\"#m5283cd44e2\" y=\"109.133316\"/>\r\n     <use style=\"fill:#1f77b4;stroke:#1f77b4;\" x=\"167.342932\" xlink:href=\"#m5283cd44e2\" y=\"175.113744\"/>\r\n     <use style=\"fill:#1f77b4;stroke:#1f77b4;\" x=\"168.842358\" xlink:href=\"#m5283cd44e2\" y=\"53.477872\"/>\r\n     <use style=\"fill:#1f77b4;stroke:#1f77b4;\" x=\"145.699226\" xlink:href=\"#m5283cd44e2\" y=\"45.342969\"/>\r\n     <use style=\"fill:#1f77b4;stroke:#1f77b4;\" x=\"121.522975\" xlink:href=\"#m5283cd44e2\" y=\"31.923972\"/>\r\n     <use style=\"fill:#1f77b4;stroke:#1f77b4;\" x=\"259.550557\" xlink:href=\"#m5283cd44e2\" y=\"88.110494\"/>\r\n     <use style=\"fill:#1f77b4;stroke:#1f77b4;\" x=\"181.52354\" xlink:href=\"#m5283cd44e2\" y=\"34.821401\"/>\r\n     <use style=\"fill:#1f77b4;stroke:#1f77b4;\" x=\"222.543143\" xlink:href=\"#m5283cd44e2\" y=\"62.24201\"/>\r\n     <use style=\"fill:#1f77b4;stroke:#1f77b4;\" x=\"100.693775\" xlink:href=\"#m5283cd44e2\" y=\"25.049914\"/>\r\n     <use style=\"fill:#1f77b4;stroke:#1f77b4;\" x=\"264.916705\" xlink:href=\"#m5283cd44e2\" y=\"164.555837\"/>\r\n     <use style=\"fill:#1f77b4;stroke:#1f77b4;\" x=\"365.888619\" xlink:href=\"#m5283cd44e2\" y=\"98.866762\"/>\r\n     <use style=\"fill:#1f77b4;stroke:#1f77b4;\" x=\"328.090274\" xlink:href=\"#m5283cd44e2\" y=\"87.934804\"/>\r\n     <use style=\"fill:#1f77b4;stroke:#1f77b4;\" x=\"365.861248\" xlink:href=\"#m5283cd44e2\" y=\"86.221375\"/>\r\n     <use style=\"fill:#1f77b4;stroke:#1f77b4;\" x=\"111.050354\" xlink:href=\"#m5283cd44e2\" y=\"130.98769\"/>\r\n     <use style=\"fill:#1f77b4;stroke:#1f77b4;\" x=\"170.834445\" xlink:href=\"#m5283cd44e2\" y=\"54.440379\"/>\r\n     <use style=\"fill:#1f77b4;stroke:#1f77b4;\" x=\"364.603561\" xlink:href=\"#m5283cd44e2\" y=\"165.219653\"/>\r\n     <use style=\"fill:#1f77b4;stroke:#1f77b4;\" x=\"315.615125\" xlink:href=\"#m5283cd44e2\" y=\"162.911202\"/>\r\n     <use style=\"fill:#1f77b4;stroke:#1f77b4;\" x=\"270.330026\" xlink:href=\"#m5283cd44e2\" y=\"130.303147\"/>\r\n     <use style=\"fill:#1f77b4;stroke:#1f77b4;\" x=\"87.108196\" xlink:href=\"#m5283cd44e2\" y=\"65.937297\"/>\r\n     <use style=\"fill:#1f77b4;stroke:#1f77b4;\" x=\"195.424214\" xlink:href=\"#m5283cd44e2\" y=\"29.806194\"/>\r\n     <use style=\"fill:#1f77b4;stroke:#1f77b4;\" x=\"298.16007\" xlink:href=\"#m5283cd44e2\" y=\"167.308296\"/>\r\n     <use style=\"fill:#1f77b4;stroke:#1f77b4;\" x=\"159.844575\" xlink:href=\"#m5283cd44e2\" y=\"195.463652\"/>\r\n     <use style=\"fill:#1f77b4;stroke:#1f77b4;\" x=\"250.490532\" xlink:href=\"#m5283cd44e2\" y=\"136.054343\"/>\r\n     <use style=\"fill:#1f77b4;stroke:#1f77b4;\" x=\"279.839942\" xlink:href=\"#m5283cd44e2\" y=\"89.752702\"/>\r\n     <use style=\"fill:#1f77b4;stroke:#1f77b4;\" x=\"267.961091\" xlink:href=\"#m5283cd44e2\" y=\"203.682165\"/>\r\n     <use style=\"fill:#1f77b4;stroke:#1f77b4;\" x=\"176.949423\" xlink:href=\"#m5283cd44e2\" y=\"49.001014\"/>\r\n     <use style=\"fill:#1f77b4;stroke:#1f77b4;\" x=\"64.961868\" xlink:href=\"#m5283cd44e2\" y=\"115.425942\"/>\r\n     <use style=\"fill:#1f77b4;stroke:#1f77b4;\" x=\"326.494218\" xlink:href=\"#m5283cd44e2\" y=\"170.393937\"/>\r\n     <use style=\"fill:#1f77b4;stroke:#1f77b4;\" x=\"108.805759\" xlink:href=\"#m5283cd44e2\" y=\"76.274438\"/>\r\n     <use style=\"fill:#1f77b4;stroke:#1f77b4;\" x=\"358.446522\" xlink:href=\"#m5283cd44e2\" y=\"95.782788\"/>\r\n     <use style=\"fill:#1f77b4;stroke:#1f77b4;\" x=\"71.083493\" xlink:href=\"#m5283cd44e2\" y=\"191.407751\"/>\r\n     <use style=\"fill:#1f77b4;stroke:#1f77b4;\" x=\"330.682893\" xlink:href=\"#m5283cd44e2\" y=\"40.655826\"/>\r\n     <use style=\"fill:#1f77b4;stroke:#1f77b4;\" x=\"291.441882\" xlink:href=\"#m5283cd44e2\" y=\"180.653323\"/>\r\n     <use style=\"fill:#1f77b4;stroke:#1f77b4;\" x=\"309.956997\" xlink:href=\"#m5283cd44e2\" y=\"182.322803\"/>\r\n     <use style=\"fill:#1f77b4;stroke:#1f77b4;\" x=\"305.408285\" xlink:href=\"#m5283cd44e2\" y=\"47.777502\"/>\r\n     <use style=\"fill:#1f77b4;stroke:#1f77b4;\" x=\"368.202131\" xlink:href=\"#m5283cd44e2\" y=\"198.152997\"/>\r\n     <use style=\"fill:#1f77b4;stroke:#1f77b4;\" x=\"199.370094\" xlink:href=\"#m5283cd44e2\" y=\"165.62381\"/>\r\n     <use style=\"fill:#1f77b4;stroke:#1f77b4;\" x=\"246.355563\" xlink:href=\"#m5283cd44e2\" y=\"213.636462\"/>\r\n     <use style=\"fill:#1f77b4;stroke:#1f77b4;\" x=\"137.817727\" xlink:href=\"#m5283cd44e2\" y=\"28.563526\"/>\r\n     <use style=\"fill:#1f77b4;stroke:#1f77b4;\" x=\"144.292339\" xlink:href=\"#m5283cd44e2\" y=\"138.062642\"/>\r\n     <use style=\"fill:#1f77b4;stroke:#1f77b4;\" x=\"160.093421\" xlink:href=\"#m5283cd44e2\" y=\"103.088292\"/>\r\n     <use style=\"fill:#1f77b4;stroke:#1f77b4;\" x=\"118.042593\" xlink:href=\"#m5283cd44e2\" y=\"164.546573\"/>\r\n     <use style=\"fill:#1f77b4;stroke:#1f77b4;\" x=\"312.315697\" xlink:href=\"#m5283cd44e2\" y=\"74.699313\"/>\r\n     <use style=\"fill:#1f77b4;stroke:#1f77b4;\" x=\"257.882231\" xlink:href=\"#m5283cd44e2\" y=\"101.706079\"/>\r\n     <use style=\"fill:#1f77b4;stroke:#1f77b4;\" x=\"335.98255\" xlink:href=\"#m5283cd44e2\" y=\"188.159587\"/>\r\n     <use style=\"fill:#1f77b4;stroke:#1f77b4;\" x=\"200.407749\" xlink:href=\"#m5283cd44e2\" y=\"192.889174\"/>\r\n     <use style=\"fill:#1f77b4;stroke:#1f77b4;\" x=\"312.851116\" xlink:href=\"#m5283cd44e2\" y=\"119.957406\"/>\r\n     <use style=\"fill:#1f77b4;stroke:#1f77b4;\" x=\"241.760275\" xlink:href=\"#m5283cd44e2\" y=\"192.463466\"/>\r\n     <use style=\"fill:#1f77b4;stroke:#1f77b4;\" x=\"126.243345\" xlink:href=\"#m5283cd44e2\" y=\"142.385737\"/>\r\n     <use style=\"fill:#1f77b4;stroke:#1f77b4;\" x=\"117.629676\" xlink:href=\"#m5283cd44e2\" y=\"30.346453\"/>\r\n     <use style=\"fill:#1f77b4;stroke:#1f77b4;\" x=\"180.329528\" xlink:href=\"#m5283cd44e2\" y=\"156.96703\"/>\r\n     <use style=\"fill:#1f77b4;stroke:#1f77b4;\" x=\"210.850478\" xlink:href=\"#m5283cd44e2\" y=\"76.86381\"/>\r\n     <use style=\"fill:#1f77b4;stroke:#1f77b4;\" x=\"313.432191\" xlink:href=\"#m5283cd44e2\" y=\"129.453431\"/>\r\n     <use style=\"fill:#1f77b4;stroke:#1f77b4;\" x=\"328.788053\" xlink:href=\"#m5283cd44e2\" y=\"161.489356\"/>\r\n     <use style=\"fill:#1f77b4;stroke:#1f77b4;\" x=\"106.946591\" xlink:href=\"#m5283cd44e2\" y=\"41.635395\"/>\r\n     <use style=\"fill:#1f77b4;stroke:#1f77b4;\" x=\"220.520601\" xlink:href=\"#m5283cd44e2\" y=\"190.32802\"/>\r\n     <use style=\"fill:#1f77b4;stroke:#1f77b4;\" x=\"90.405517\" xlink:href=\"#m5283cd44e2\" y=\"212.615676\"/>\r\n     <use style=\"fill:#1f77b4;stroke:#1f77b4;\" x=\"117.272581\" xlink:href=\"#m5283cd44e2\" y=\"53.322473\"/>\r\n     <use style=\"fill:#1f77b4;stroke:#1f77b4;\" x=\"351.596331\" xlink:href=\"#m5283cd44e2\" y=\"162.211378\"/>\r\n     <use style=\"fill:#1f77b4;stroke:#1f77b4;\" x=\"209.770809\" xlink:href=\"#m5283cd44e2\" y=\"147.592708\"/>\r\n     <use style=\"fill:#1f77b4;stroke:#1f77b4;\" x=\"101.672997\" xlink:href=\"#m5283cd44e2\" y=\"129.918014\"/>\r\n     <use style=\"fill:#1f77b4;stroke:#1f77b4;\" x=\"209.539899\" xlink:href=\"#m5283cd44e2\" y=\"40.150715\"/>\r\n     <use style=\"fill:#1f77b4;stroke:#1f77b4;\" x=\"100.105782\" xlink:href=\"#m5283cd44e2\" y=\"203.019336\"/>\r\n     <use style=\"fill:#1f77b4;stroke:#1f77b4;\" x=\"120.95583\" xlink:href=\"#m5283cd44e2\" y=\"187.46382\"/>\r\n     <use style=\"fill:#1f77b4;stroke:#1f77b4;\" x=\"277.607959\" xlink:href=\"#m5283cd44e2\" y=\"143.798867\"/>\r\n     <use style=\"fill:#1f77b4;stroke:#1f77b4;\" x=\"121.755813\" xlink:href=\"#m5283cd44e2\" y=\"203.938118\"/>\r\n     <use style=\"fill:#1f77b4;stroke:#1f77b4;\" x=\"159.731725\" xlink:href=\"#m5283cd44e2\" y=\"122.83552\"/>\r\n     <use style=\"fill:#1f77b4;stroke:#1f77b4;\" x=\"124.320031\" xlink:href=\"#m5283cd44e2\" y=\"188.845974\"/>\r\n     <use style=\"fill:#1f77b4;stroke:#1f77b4;\" x=\"311.503576\" xlink:href=\"#m5283cd44e2\" y=\"207.875195\"/>\r\n     <use style=\"fill:#1f77b4;stroke:#1f77b4;\" x=\"206.290461\" xlink:href=\"#m5283cd44e2\" y=\"127.042011\"/>\r\n     <use style=\"fill:#1f77b4;stroke:#1f77b4;\" x=\"176.229087\" xlink:href=\"#m5283cd44e2\" y=\"132.4271\"/>\r\n     <use style=\"fill:#1f77b4;stroke:#1f77b4;\" x=\"139.552795\" xlink:href=\"#m5283cd44e2\" y=\"154.870373\"/>\r\n     <use style=\"fill:#1f77b4;stroke:#1f77b4;\" x=\"76.930407\" xlink:href=\"#m5283cd44e2\" y=\"120.246485\"/>\r\n     <use style=\"fill:#1f77b4;stroke:#1f77b4;\" x=\"228.835674\" xlink:href=\"#m5283cd44e2\" y=\"197.238328\"/>\r\n     <use style=\"fill:#1f77b4;stroke:#1f77b4;\" x=\"286.001114\" xlink:href=\"#m5283cd44e2\" y=\"153.44989\"/>\r\n     <use style=\"fill:#1f77b4;stroke:#1f77b4;\" x=\"206.559759\" xlink:href=\"#m5283cd44e2\" y=\"93.415883\"/>\r\n     <use style=\"fill:#1f77b4;stroke:#1f77b4;\" x=\"104.656716\" xlink:href=\"#m5283cd44e2\" y=\"142.480198\"/>\r\n     <use style=\"fill:#1f77b4;stroke:#1f77b4;\" x=\"95.599404\" xlink:href=\"#m5283cd44e2\" y=\"38.472438\"/>\r\n     <use style=\"fill:#1f77b4;stroke:#1f77b4;\" x=\"306.802996\" xlink:href=\"#m5283cd44e2\" y=\"200.20211\"/>\r\n     <use style=\"fill:#1f77b4;stroke:#1f77b4;\" x=\"175.773492\" xlink:href=\"#m5283cd44e2\" y=\"180.249531\"/>\r\n     <use style=\"fill:#1f77b4;stroke:#1f77b4;\" x=\"300.163603\" xlink:href=\"#m5283cd44e2\" y=\"127.48533\"/>\r\n     <use style=\"fill:#1f77b4;stroke:#1f77b4;\" x=\"317.55541\" xlink:href=\"#m5283cd44e2\" y=\"40.84564\"/>\r\n     <use style=\"fill:#1f77b4;stroke:#1f77b4;\" x=\"107.200843\" xlink:href=\"#m5283cd44e2\" y=\"87.989677\"/>\r\n     <use style=\"fill:#1f77b4;stroke:#1f77b4;\" x=\"85.944916\" xlink:href=\"#m5283cd44e2\" y=\"48.201581\"/>\r\n     <use style=\"fill:#1f77b4;stroke:#1f77b4;\" x=\"261.120158\" xlink:href=\"#m5283cd44e2\" y=\"171.25589\"/>\r\n     <use style=\"fill:#1f77b4;stroke:#1f77b4;\" x=\"89.014033\" xlink:href=\"#m5283cd44e2\" y=\"55.179813\"/>\r\n     <use style=\"fill:#1f77b4;stroke:#1f77b4;\" x=\"154.762216\" xlink:href=\"#m5283cd44e2\" y=\"39.256768\"/>\r\n     <use style=\"fill:#1f77b4;stroke:#1f77b4;\" x=\"362.080248\" xlink:href=\"#m5283cd44e2\" y=\"191.778355\"/>\r\n     <use style=\"fill:#1f77b4;stroke:#1f77b4;\" x=\"302.67015\" xlink:href=\"#m5283cd44e2\" y=\"138.725383\"/>\r\n     <use style=\"fill:#1f77b4;stroke:#1f77b4;\" x=\"96.106229\" xlink:href=\"#m5283cd44e2\" y=\"102.643119\"/>\r\n     <use style=\"fill:#1f77b4;stroke:#1f77b4;\" x=\"81.652571\" xlink:href=\"#m5283cd44e2\" y=\"52.525291\"/>\r\n     <use style=\"fill:#1f77b4;stroke:#1f77b4;\" x=\"80.63627\" xlink:href=\"#m5283cd44e2\" y=\"143.344558\"/>\r\n     <use style=\"fill:#1f77b4;stroke:#1f77b4;\" x=\"136.062391\" xlink:href=\"#m5283cd44e2\" y=\"201.201458\"/>\r\n     <use style=\"fill:#1f77b4;stroke:#1f77b4;\" x=\"119.252034\" xlink:href=\"#m5283cd44e2\" y=\"159.982336\"/>\r\n     <use style=\"fill:#1f77b4;stroke:#1f77b4;\" x=\"349.312829\" xlink:href=\"#m5283cd44e2\" y=\"87.153777\"/>\r\n     <use style=\"fill:#1f77b4;stroke:#1f77b4;\" x=\"134.241394\" xlink:href=\"#m5283cd44e2\" y=\"105.722776\"/>\r\n     <use style=\"fill:#1f77b4;stroke:#1f77b4;\" x=\"118.986008\" xlink:href=\"#m5283cd44e2\" y=\"171.405447\"/>\r\n     <use style=\"fill:#1f77b4;stroke:#1f77b4;\" x=\"141.992932\" xlink:href=\"#m5283cd44e2\" y=\"55.063448\"/>\r\n     <use style=\"fill:#1f77b4;stroke:#1f77b4;\" x=\"306.628185\" xlink:href=\"#m5283cd44e2\" y=\"111.048596\"/>\r\n     <use style=\"fill:#1f77b4;stroke:#1f77b4;\" x=\"124.693623\" xlink:href=\"#m5283cd44e2\" y=\"188.355013\"/>\r\n     <use style=\"fill:#1f77b4;stroke:#1f77b4;\" x=\"307.754707\" xlink:href=\"#m5283cd44e2\" y=\"210.634247\"/>\r\n     <use style=\"fill:#1f77b4;stroke:#1f77b4;\" x=\"301.209577\" xlink:href=\"#m5283cd44e2\" y=\"94.218829\"/>\r\n     <use style=\"fill:#1f77b4;stroke:#1f77b4;\" x=\"320.812347\" xlink:href=\"#m5283cd44e2\" y=\"59.413989\"/>\r\n     <use style=\"fill:#1f77b4;stroke:#1f77b4;\" x=\"323.719646\" xlink:href=\"#m5283cd44e2\" y=\"34.030473\"/>\r\n     <use style=\"fill:#1f77b4;stroke:#1f77b4;\" x=\"83.014684\" xlink:href=\"#m5283cd44e2\" y=\"57.993413\"/>\r\n     <use style=\"fill:#1f77b4;stroke:#1f77b4;\" x=\"206.023806\" xlink:href=\"#m5283cd44e2\" y=\"54.22594\"/>\r\n     <use style=\"fill:#1f77b4;stroke:#1f77b4;\" x=\"217.038105\" xlink:href=\"#m5283cd44e2\" y=\"43.801062\"/>\r\n     <use style=\"fill:#1f77b4;stroke:#1f77b4;\" x=\"177.782876\" xlink:href=\"#m5283cd44e2\" y=\"33.264369\"/>\r\n     <use style=\"fill:#1f77b4;stroke:#1f77b4;\" x=\"263.790762\" xlink:href=\"#m5283cd44e2\" y=\"131.165163\"/>\r\n     <use style=\"fill:#1f77b4;stroke:#1f77b4;\" x=\"339.012117\" xlink:href=\"#m5283cd44e2\" y=\"67.888838\"/>\r\n     <use style=\"fill:#1f77b4;stroke:#1f77b4;\" x=\"207.242532\" xlink:href=\"#m5283cd44e2\" y=\"29.708227\"/>\r\n     <use style=\"fill:#1f77b4;stroke:#1f77b4;\" x=\"364.796711\" xlink:href=\"#m5283cd44e2\" y=\"98.140772\"/>\r\n     <use style=\"fill:#1f77b4;stroke:#1f77b4;\" x=\"174.762259\" xlink:href=\"#m5283cd44e2\" y=\"76.035989\"/>\r\n     <use style=\"fill:#1f77b4;stroke:#1f77b4;\" x=\"315.983099\" xlink:href=\"#m5283cd44e2\" y=\"74.6296\"/>\r\n     <use style=\"fill:#1f77b4;stroke:#1f77b4;\" x=\"209.374863\" xlink:href=\"#m5283cd44e2\" y=\"41.627732\"/>\r\n     <use style=\"fill:#1f77b4;stroke:#1f77b4;\" x=\"87.080333\" xlink:href=\"#m5283cd44e2\" y=\"57.075596\"/>\r\n     <use style=\"fill:#1f77b4;stroke:#1f77b4;\" x=\"244.627459\" xlink:href=\"#m5283cd44e2\" y=\"210.027825\"/>\r\n     <use style=\"fill:#1f77b4;stroke:#1f77b4;\" x=\"170.312938\" xlink:href=\"#m5283cd44e2\" y=\"18.520051\"/>\r\n     <use style=\"fill:#1f77b4;stroke:#1f77b4;\" x=\"298.6335\" xlink:href=\"#m5283cd44e2\" y=\"143.614225\"/>\r\n     <use style=\"fill:#1f77b4;stroke:#1f77b4;\" x=\"115.787932\" xlink:href=\"#m5283cd44e2\" y=\"206.998395\"/>\r\n     <use style=\"fill:#1f77b4;stroke:#1f77b4;\" x=\"326.705515\" xlink:href=\"#m5283cd44e2\" y=\"55.10704\"/>\r\n     <use style=\"fill:#1f77b4;stroke:#1f77b4;\" x=\"110.589889\" xlink:href=\"#m5283cd44e2\" y=\"103.051747\"/>\r\n     <use style=\"fill:#1f77b4;stroke:#1f77b4;\" x=\"343.329414\" xlink:href=\"#m5283cd44e2\" y=\"212.586541\"/>\r\n     <use style=\"fill:#1f77b4;stroke:#1f77b4;\" x=\"313.594639\" xlink:href=\"#m5283cd44e2\" y=\"24.559831\"/>\r\n     <use style=\"fill:#1f77b4;stroke:#1f77b4;\" x=\"216.776101\" xlink:href=\"#m5283cd44e2\" y=\"67.066266\"/>\r\n     <use style=\"fill:#1f77b4;stroke:#1f77b4;\" x=\"165.794754\" xlink:href=\"#m5283cd44e2\" y=\"72.018956\"/>\r\n     <use style=\"fill:#1f77b4;stroke:#1f77b4;\" x=\"174.653774\" xlink:href=\"#m5283cd44e2\" y=\"135.172763\"/>\r\n     <use style=\"fill:#1f77b4;stroke:#1f77b4;\" x=\"331.537283\" xlink:href=\"#m5283cd44e2\" y=\"19.332113\"/>\r\n     <use style=\"fill:#1f77b4;stroke:#1f77b4;\" x=\"301.591377\" xlink:href=\"#m5283cd44e2\" y=\"56.352986\"/>\r\n     <use style=\"fill:#1f77b4;stroke:#1f77b4;\" x=\"137.133874\" xlink:href=\"#m5283cd44e2\" y=\"28.45831\"/>\r\n     <use style=\"fill:#1f77b4;stroke:#1f77b4;\" x=\"67.752729\" xlink:href=\"#m5283cd44e2\" y=\"195.461795\"/>\r\n     <use style=\"fill:#1f77b4;stroke:#1f77b4;\" x=\"317.908167\" xlink:href=\"#m5283cd44e2\" y=\"114.472058\"/>\r\n     <use style=\"fill:#1f77b4;stroke:#1f77b4;\" x=\"239.071703\" xlink:href=\"#m5283cd44e2\" y=\"91.805425\"/>\r\n     <use style=\"fill:#1f77b4;stroke:#1f77b4;\" x=\"123.768846\" xlink:href=\"#m5283cd44e2\" y=\"141.312847\"/>\r\n     <use style=\"fill:#1f77b4;stroke:#1f77b4;\" x=\"222.968797\" xlink:href=\"#m5283cd44e2\" y=\"133.430928\"/>\r\n     <use style=\"fill:#1f77b4;stroke:#1f77b4;\" x=\"64.945133\" xlink:href=\"#m5283cd44e2\" y=\"120.349326\"/>\r\n     <use style=\"fill:#1f77b4;stroke:#1f77b4;\" x=\"83.333748\" xlink:href=\"#m5283cd44e2\" y=\"47.642299\"/>\r\n     <use style=\"fill:#1f77b4;stroke:#1f77b4;\" x=\"360.363941\" xlink:href=\"#m5283cd44e2\" y=\"62.53183\"/>\r\n     <use style=\"fill:#1f77b4;stroke:#1f77b4;\" x=\"327.285382\" xlink:href=\"#m5283cd44e2\" y=\"126.50714\"/>\r\n     <use style=\"fill:#1f77b4;stroke:#1f77b4;\" x=\"324.32412\" xlink:href=\"#m5283cd44e2\" y=\"74.611315\"/>\r\n     <use style=\"fill:#1f77b4;stroke:#1f77b4;\" x=\"274.519184\" xlink:href=\"#m5283cd44e2\" y=\"69.65929\"/>\r\n     <use style=\"fill:#1f77b4;stroke:#1f77b4;\" x=\"238.545401\" xlink:href=\"#m5283cd44e2\" y=\"108.445713\"/>\r\n     <use style=\"fill:#1f77b4;stroke:#1f77b4;\" x=\"249.57829\" xlink:href=\"#m5283cd44e2\" y=\"124.994922\"/>\r\n     <use style=\"fill:#1f77b4;stroke:#1f77b4;\" x=\"145.106081\" xlink:href=\"#m5283cd44e2\" y=\"51.913019\"/>\r\n     <use style=\"fill:#1f77b4;stroke:#1f77b4;\" x=\"202.723919\" xlink:href=\"#m5283cd44e2\" y=\"54.931653\"/>\r\n     <use style=\"fill:#1f77b4;stroke:#1f77b4;\" x=\"92.345025\" xlink:href=\"#m5283cd44e2\" y=\"180.677107\"/>\r\n     <use style=\"fill:#1f77b4;stroke:#1f77b4;\" x=\"99.835225\" xlink:href=\"#m5283cd44e2\" y=\"110.903852\"/>\r\n     <use style=\"fill:#1f77b4;stroke:#1f77b4;\" x=\"117.601944\" xlink:href=\"#m5283cd44e2\" y=\"120.324903\"/>\r\n     <use style=\"fill:#1f77b4;stroke:#1f77b4;\" x=\"114.194475\" xlink:href=\"#m5283cd44e2\" y=\"204.322758\"/>\r\n     <use style=\"fill:#1f77b4;stroke:#1f77b4;\" x=\"328.028752\" xlink:href=\"#m5283cd44e2\" y=\"119.90106\"/>\r\n     <use style=\"fill:#1f77b4;stroke:#1f77b4;\" x=\"331.08204\" xlink:href=\"#m5283cd44e2\" y=\"168.519412\"/>\r\n     <use style=\"fill:#1f77b4;stroke:#1f77b4;\" x=\"189.924506\" xlink:href=\"#m5283cd44e2\" y=\"65.509119\"/>\r\n     <use style=\"fill:#1f77b4;stroke:#1f77b4;\" x=\"134.317546\" xlink:href=\"#m5283cd44e2\" y=\"173.581021\"/>\r\n     <use style=\"fill:#1f77b4;stroke:#1f77b4;\" x=\"207.672381\" xlink:href=\"#m5283cd44e2\" y=\"156.328102\"/>\r\n     <use style=\"fill:#1f77b4;stroke:#1f77b4;\" x=\"349.568033\" xlink:href=\"#m5283cd44e2\" y=\"132.959965\"/>\r\n     <use style=\"fill:#1f77b4;stroke:#1f77b4;\" x=\"222.527982\" xlink:href=\"#m5283cd44e2\" y=\"145.56394\"/>\r\n     <use style=\"fill:#1f77b4;stroke:#1f77b4;\" x=\"260.804265\" xlink:href=\"#m5283cd44e2\" y=\"173.046156\"/>\r\n     <use style=\"fill:#1f77b4;stroke:#1f77b4;\" x=\"277.923002\" xlink:href=\"#m5283cd44e2\" y=\"129.899145\"/>\r\n     <use style=\"fill:#1f77b4;stroke:#1f77b4;\" x=\"363.085583\" xlink:href=\"#m5283cd44e2\" y=\"20.419395\"/>\r\n     <use style=\"fill:#1f77b4;stroke:#1f77b4;\" x=\"147.655052\" xlink:href=\"#m5283cd44e2\" y=\"202.149566\"/>\r\n     <use style=\"fill:#1f77b4;stroke:#1f77b4;\" x=\"73.693048\" xlink:href=\"#m5283cd44e2\" y=\"53.830204\"/>\r\n     <use style=\"fill:#1f77b4;stroke:#1f77b4;\" x=\"156.127493\" xlink:href=\"#m5283cd44e2\" y=\"70.979429\"/>\r\n     <use style=\"fill:#1f77b4;stroke:#1f77b4;\" x=\"265.656132\" xlink:href=\"#m5283cd44e2\" y=\"166.634922\"/>\r\n     <use style=\"fill:#1f77b4;stroke:#1f77b4;\" x=\"228.427185\" xlink:href=\"#m5283cd44e2\" y=\"180.546894\"/>\r\n     <use style=\"fill:#1f77b4;stroke:#1f77b4;\" x=\"244.40919\" xlink:href=\"#m5283cd44e2\" y=\"199.882303\"/>\r\n     <use style=\"fill:#1f77b4;stroke:#1f77b4;\" x=\"100.602682\" xlink:href=\"#m5283cd44e2\" y=\"106.306881\"/>\r\n     <use style=\"fill:#1f77b4;stroke:#1f77b4;\" x=\"147.412585\" xlink:href=\"#m5283cd44e2\" y=\"151.912305\"/>\r\n     <use style=\"fill:#1f77b4;stroke:#1f77b4;\" x=\"146.247554\" xlink:href=\"#m5283cd44e2\" y=\"82.016963\"/>\r\n     <use style=\"fill:#1f77b4;stroke:#1f77b4;\" x=\"158.561195\" xlink:href=\"#m5283cd44e2\" y=\"109.319361\"/>\r\n     <use style=\"fill:#1f77b4;stroke:#1f77b4;\" x=\"225.262804\" xlink:href=\"#m5283cd44e2\" y=\"184.959612\"/>\r\n     <use style=\"fill:#1f77b4;stroke:#1f77b4;\" x=\"360.890407\" xlink:href=\"#m5283cd44e2\" y=\"193.295999\"/>\r\n     <use style=\"fill:#1f77b4;stroke:#1f77b4;\" x=\"325.183338\" xlink:href=\"#m5283cd44e2\" y=\"188.080501\"/>\r\n     <use style=\"fill:#1f77b4;stroke:#1f77b4;\" x=\"224.416434\" xlink:href=\"#m5283cd44e2\" y=\"73.994999\"/>\r\n     <use style=\"fill:#1f77b4;stroke:#1f77b4;\" x=\"116.511138\" xlink:href=\"#m5283cd44e2\" y=\"212.876422\"/>\r\n     <use style=\"fill:#1f77b4;stroke:#1f77b4;\" x=\"199.782619\" xlink:href=\"#m5283cd44e2\" y=\"171.211134\"/>\r\n     <use style=\"fill:#1f77b4;stroke:#1f77b4;\" x=\"124.809742\" xlink:href=\"#m5283cd44e2\" y=\"142.788281\"/>\r\n     <use style=\"fill:#1f77b4;stroke:#1f77b4;\" x=\"172.693813\" xlink:href=\"#m5283cd44e2\" y=\"98.997496\"/>\r\n     <use style=\"fill:#1f77b4;stroke:#1f77b4;\" x=\"252.03815\" xlink:href=\"#m5283cd44e2\" y=\"58.485988\"/>\r\n     <use style=\"fill:#1f77b4;stroke:#1f77b4;\" x=\"251.695184\" xlink:href=\"#m5283cd44e2\" y=\"182.586054\"/>\r\n     <use style=\"fill:#1f77b4;stroke:#1f77b4;\" x=\"327.551106\" xlink:href=\"#m5283cd44e2\" y=\"50.438924\"/>\r\n     <use style=\"fill:#1f77b4;stroke:#1f77b4;\" x=\"354.746469\" xlink:href=\"#m5283cd44e2\" y=\"143.282875\"/>\r\n     <use style=\"fill:#1f77b4;stroke:#1f77b4;\" x=\"157.796735\" xlink:href=\"#m5283cd44e2\" y=\"38.034304\"/>\r\n     <use style=\"fill:#1f77b4;stroke:#1f77b4;\" x=\"215.332987\" xlink:href=\"#m5283cd44e2\" y=\"153.433585\"/>\r\n     <use style=\"fill:#1f77b4;stroke:#1f77b4;\" x=\"366.354641\" xlink:href=\"#m5283cd44e2\" y=\"72.207584\"/>\r\n     <use style=\"fill:#1f77b4;stroke:#1f77b4;\" x=\"235.004032\" xlink:href=\"#m5283cd44e2\" y=\"113.114728\"/>\r\n     <use style=\"fill:#1f77b4;stroke:#1f77b4;\" x=\"312.011516\" xlink:href=\"#m5283cd44e2\" y=\"140.757017\"/>\r\n     <use style=\"fill:#1f77b4;stroke:#1f77b4;\" x=\"291.903445\" xlink:href=\"#m5283cd44e2\" y=\"207.378965\"/>\r\n     <use style=\"fill:#1f77b4;stroke:#1f77b4;\" x=\"83.834875\" xlink:href=\"#m5283cd44e2\" y=\"58.722878\"/>\r\n     <use style=\"fill:#1f77b4;stroke:#1f77b4;\" x=\"192.180414\" xlink:href=\"#m5283cd44e2\" y=\"155.973028\"/>\r\n     <use style=\"fill:#1f77b4;stroke:#1f77b4;\" x=\"326.470328\" xlink:href=\"#m5283cd44e2\" y=\"53.289025\"/>\r\n     <use style=\"fill:#1f77b4;stroke:#1f77b4;\" x=\"350.487987\" xlink:href=\"#m5283cd44e2\" y=\"168.882092\"/>\r\n     <use style=\"fill:#1f77b4;stroke:#1f77b4;\" x=\"171.123432\" xlink:href=\"#m5283cd44e2\" y=\"187.055711\"/>\r\n     <use style=\"fill:#1f77b4;stroke:#1f77b4;\" x=\"227.684365\" xlink:href=\"#m5283cd44e2\" y=\"32.562435\"/>\r\n     <use style=\"fill:#1f77b4;stroke:#1f77b4;\" x=\"252.615315\" xlink:href=\"#m5283cd44e2\" y=\"58.306706\"/>\r\n     <use style=\"fill:#1f77b4;stroke:#1f77b4;\" x=\"294.194685\" xlink:href=\"#m5283cd44e2\" y=\"99.730065\"/>\r\n     <use style=\"fill:#1f77b4;stroke:#1f77b4;\" x=\"117.359954\" xlink:href=\"#m5283cd44e2\" y=\"193.421614\"/>\r\n     <use style=\"fill:#1f77b4;stroke:#1f77b4;\" x=\"231.575647\" xlink:href=\"#m5283cd44e2\" y=\"147.510038\"/>\r\n     <use style=\"fill:#1f77b4;stroke:#1f77b4;\" x=\"98.712527\" xlink:href=\"#m5283cd44e2\" y=\"53.116665\"/>\r\n     <use style=\"fill:#1f77b4;stroke:#1f77b4;\" x=\"246.413274\" xlink:href=\"#m5283cd44e2\" y=\"164.082312\"/>\r\n     <use style=\"fill:#1f77b4;stroke:#1f77b4;\" x=\"330.07263\" xlink:href=\"#m5283cd44e2\" y=\"180.124092\"/>\r\n     <use style=\"fill:#1f77b4;stroke:#1f77b4;\" x=\"112.04408\" xlink:href=\"#m5283cd44e2\" y=\"32.459431\"/>\r\n     <use style=\"fill:#1f77b4;stroke:#1f77b4;\" x=\"356.598758\" xlink:href=\"#m5283cd44e2\" y=\"212.946122\"/>\r\n     <use style=\"fill:#1f77b4;stroke:#1f77b4;\" x=\"98.703714\" xlink:href=\"#m5283cd44e2\" y=\"19.380656\"/>\r\n     <use style=\"fill:#1f77b4;stroke:#1f77b4;\" x=\"286.458682\" xlink:href=\"#m5283cd44e2\" y=\"37.402689\"/>\r\n     <use style=\"fill:#1f77b4;stroke:#1f77b4;\" x=\"175.844839\" xlink:href=\"#m5283cd44e2\" y=\"26.981098\"/>\r\n     <use style=\"fill:#1f77b4;stroke:#1f77b4;\" x=\"308.415491\" xlink:href=\"#m5283cd44e2\" y=\"26.787357\"/>\r\n     <use style=\"fill:#1f77b4;stroke:#1f77b4;\" x=\"126.273746\" xlink:href=\"#m5283cd44e2\" y=\"151.092766\"/>\r\n     <use style=\"fill:#1f77b4;stroke:#1f77b4;\" x=\"352.437466\" xlink:href=\"#m5283cd44e2\" y=\"83.459876\"/>\r\n     <use style=\"fill:#1f77b4;stroke:#1f77b4;\" x=\"303.457345\" xlink:href=\"#m5283cd44e2\" y=\"122.376526\"/>\r\n     <use style=\"fill:#1f77b4;stroke:#1f77b4;\" x=\"274.544082\" xlink:href=\"#m5283cd44e2\" y=\"48.731337\"/>\r\n     <use style=\"fill:#1f77b4;stroke:#1f77b4;\" x=\"245.038291\" xlink:href=\"#m5283cd44e2\" y=\"72.142498\"/>\r\n     <use style=\"fill:#1f77b4;stroke:#1f77b4;\" x=\"355.169764\" xlink:href=\"#m5283cd44e2\" y=\"45.311057\"/>\r\n     <use style=\"fill:#1f77b4;stroke:#1f77b4;\" x=\"357.068227\" xlink:href=\"#m5283cd44e2\" y=\"91.777577\"/>\r\n     <use style=\"fill:#1f77b4;stroke:#1f77b4;\" x=\"145.099501\" xlink:href=\"#m5283cd44e2\" y=\"39.718274\"/>\r\n     <use style=\"fill:#1f77b4;stroke:#1f77b4;\" x=\"155.622723\" xlink:href=\"#m5283cd44e2\" y=\"91.370419\"/>\r\n     <use style=\"fill:#1f77b4;stroke:#1f77b4;\" x=\"368.103709\" xlink:href=\"#m5283cd44e2\" y=\"51.067176\"/>\r\n     <use style=\"fill:#1f77b4;stroke:#1f77b4;\" x=\"238.731251\" xlink:href=\"#m5283cd44e2\" y=\"212.984457\"/>\r\n     <use style=\"fill:#1f77b4;stroke:#1f77b4;\" x=\"293.56216\" xlink:href=\"#m5283cd44e2\" y=\"89.160149\"/>\r\n     <use style=\"fill:#1f77b4;stroke:#1f77b4;\" x=\"349.734594\" xlink:href=\"#m5283cd44e2\" y=\"108.187233\"/>\r\n     <use style=\"fill:#1f77b4;stroke:#1f77b4;\" x=\"237.952972\" xlink:href=\"#m5283cd44e2\" y=\"204.555405\"/>\r\n     <use style=\"fill:#1f77b4;stroke:#1f77b4;\" x=\"206.26502\" xlink:href=\"#m5283cd44e2\" y=\"160.663411\"/>\r\n     <use style=\"fill:#1f77b4;stroke:#1f77b4;\" x=\"152.664399\" xlink:href=\"#m5283cd44e2\" y=\"98.004413\"/>\r\n     <use style=\"fill:#1f77b4;stroke:#1f77b4;\" x=\"134.967274\" xlink:href=\"#m5283cd44e2\" y=\"30.298152\"/>\r\n     <use style=\"fill:#1f77b4;stroke:#1f77b4;\" x=\"161.62528\" xlink:href=\"#m5283cd44e2\" y=\"176.768648\"/>\r\n     <use style=\"fill:#1f77b4;stroke:#1f77b4;\" x=\"133.186664\" xlink:href=\"#m5283cd44e2\" y=\"91.59722\"/>\r\n     <use style=\"fill:#1f77b4;stroke:#1f77b4;\" x=\"144.296474\" xlink:href=\"#m5283cd44e2\" y=\"148.572473\"/>\r\n     <use style=\"fill:#1f77b4;stroke:#1f77b4;\" x=\"359.523919\" xlink:href=\"#m5283cd44e2\" y=\"213.845351\"/>\r\n     <use style=\"fill:#1f77b4;stroke:#1f77b4;\" x=\"94.612417\" xlink:href=\"#m5283cd44e2\" y=\"52.725403\"/>\r\n     <use style=\"fill:#1f77b4;stroke:#1f77b4;\" x=\"297.384503\" xlink:href=\"#m5283cd44e2\" y=\"51.663981\"/>\r\n     <use style=\"fill:#1f77b4;stroke:#1f77b4;\" x=\"224.756117\" xlink:href=\"#m5283cd44e2\" y=\"116.081658\"/>\r\n     <use style=\"fill:#1f77b4;stroke:#1f77b4;\" x=\"335.183235\" xlink:href=\"#m5283cd44e2\" y=\"212.44446\"/>\r\n     <use style=\"fill:#1f77b4;stroke:#1f77b4;\" x=\"241.768632\" xlink:href=\"#m5283cd44e2\" y=\"99.392047\"/>\r\n     <use style=\"fill:#1f77b4;stroke:#1f77b4;\" x=\"142.215237\" xlink:href=\"#m5283cd44e2\" y=\"55.015891\"/>\r\n     <use style=\"fill:#1f77b4;stroke:#1f77b4;\" x=\"309.191451\" xlink:href=\"#m5283cd44e2\" y=\"137.943426\"/>\r\n     <use style=\"fill:#1f77b4;stroke:#1f77b4;\" x=\"193.371794\" xlink:href=\"#m5283cd44e2\" y=\"180.076484\"/>\r\n     <use style=\"fill:#1f77b4;stroke:#1f77b4;\" x=\"162.62977\" xlink:href=\"#m5283cd44e2\" y=\"163.373293\"/>\r\n     <use style=\"fill:#1f77b4;stroke:#1f77b4;\" x=\"151.130771\" xlink:href=\"#m5283cd44e2\" y=\"160.539101\"/>\r\n     <use style=\"fill:#1f77b4;stroke:#1f77b4;\" x=\"291.099997\" xlink:href=\"#m5283cd44e2\" y=\"32.826494\"/>\r\n     <use style=\"fill:#1f77b4;stroke:#1f77b4;\" x=\"232.118104\" xlink:href=\"#m5283cd44e2\" y=\"144.844483\"/>\r\n     <use style=\"fill:#1f77b4;stroke:#1f77b4;\" x=\"145.991319\" xlink:href=\"#m5283cd44e2\" y=\"155.702668\"/>\r\n     <use style=\"fill:#1f77b4;stroke:#1f77b4;\" x=\"87.037492\" xlink:href=\"#m5283cd44e2\" y=\"74.196215\"/>\r\n     <use style=\"fill:#1f77b4;stroke:#1f77b4;\" x=\"107.510678\" xlink:href=\"#m5283cd44e2\" y=\"75.943836\"/>\r\n     <use style=\"fill:#1f77b4;stroke:#1f77b4;\" x=\"249.23703\" xlink:href=\"#m5283cd44e2\" y=\"204.438686\"/>\r\n     <use style=\"fill:#1f77b4;stroke:#1f77b4;\" x=\"270.362596\" xlink:href=\"#m5283cd44e2\" y=\"95.731507\"/>\r\n     <use style=\"fill:#1f77b4;stroke:#1f77b4;\" x=\"362.170722\" xlink:href=\"#m5283cd44e2\" y=\"26.544739\"/>\r\n     <use style=\"fill:#1f77b4;stroke:#1f77b4;\" x=\"250.138638\" xlink:href=\"#m5283cd44e2\" y=\"23.274229\"/>\r\n     <use style=\"fill:#1f77b4;stroke:#1f77b4;\" x=\"124.118261\" xlink:href=\"#m5283cd44e2\" y=\"205.096153\"/>\r\n     <use style=\"fill:#1f77b4;stroke:#1f77b4;\" x=\"267.542636\" xlink:href=\"#m5283cd44e2\" y=\"57.075696\"/>\r\n     <use style=\"fill:#1f77b4;stroke:#1f77b4;\" x=\"74.681499\" xlink:href=\"#m5283cd44e2\" y=\"152.300655\"/>\r\n     <use style=\"fill:#1f77b4;stroke:#1f77b4;\" x=\"363.362182\" xlink:href=\"#m5283cd44e2\" y=\"100.756713\"/>\r\n     <use style=\"fill:#1f77b4;stroke:#1f77b4;\" x=\"149.727217\" xlink:href=\"#m5283cd44e2\" y=\"80.054412\"/>\r\n     <use style=\"fill:#1f77b4;stroke:#1f77b4;\" x=\"238.158087\" xlink:href=\"#m5283cd44e2\" y=\"180.284644\"/>\r\n     <use style=\"fill:#1f77b4;stroke:#1f77b4;\" x=\"93.167601\" xlink:href=\"#m5283cd44e2\" y=\"202.797549\"/>\r\n     <use style=\"fill:#1f77b4;stroke:#1f77b4;\" x=\"144.793518\" xlink:href=\"#m5283cd44e2\" y=\"123.34555\"/>\r\n     <use style=\"fill:#1f77b4;stroke:#1f77b4;\" x=\"150.261189\" xlink:href=\"#m5283cd44e2\" y=\"172.537211\"/>\r\n     <use style=\"fill:#1f77b4;stroke:#1f77b4;\" x=\"121.064972\" xlink:href=\"#m5283cd44e2\" y=\"37.051498\"/>\r\n     <use style=\"fill:#1f77b4;stroke:#1f77b4;\" x=\"218.050031\" xlink:href=\"#m5283cd44e2\" y=\"160.492262\"/>\r\n     <use style=\"fill:#1f77b4;stroke:#1f77b4;\" x=\"119.665851\" xlink:href=\"#m5283cd44e2\" y=\"208.782382\"/>\r\n     <use style=\"fill:#1f77b4;stroke:#1f77b4;\" x=\"104.749082\" xlink:href=\"#m5283cd44e2\" y=\"184.774224\"/>\r\n     <use style=\"fill:#1f77b4;stroke:#1f77b4;\" x=\"168.265945\" xlink:href=\"#m5283cd44e2\" y=\"181.409472\"/>\r\n     <use style=\"fill:#1f77b4;stroke:#1f77b4;\" x=\"173.686917\" xlink:href=\"#m5283cd44e2\" y=\"149.449842\"/>\r\n     <use style=\"fill:#1f77b4;stroke:#1f77b4;\" x=\"102.60919\" xlink:href=\"#m5283cd44e2\" y=\"107.336998\"/>\r\n     <use style=\"fill:#1f77b4;stroke:#1f77b4;\" x=\"147.386416\" xlink:href=\"#m5283cd44e2\" y=\"58.55548\"/>\r\n     <use style=\"fill:#1f77b4;stroke:#1f77b4;\" x=\"143.229328\" xlink:href=\"#m5283cd44e2\" y=\"103.618854\"/>\r\n     <use style=\"fill:#1f77b4;stroke:#1f77b4;\" x=\"271.637974\" xlink:href=\"#m5283cd44e2\" y=\"204.109816\"/>\r\n     <use style=\"fill:#1f77b4;stroke:#1f77b4;\" x=\"343.038529\" xlink:href=\"#m5283cd44e2\" y=\"81.477529\"/>\r\n     <use style=\"fill:#1f77b4;stroke:#1f77b4;\" x=\"198.978292\" xlink:href=\"#m5283cd44e2\" y=\"31.259352\"/>\r\n     <use style=\"fill:#1f77b4;stroke:#1f77b4;\" x=\"103.676977\" xlink:href=\"#m5283cd44e2\" y=\"20.3306\"/>\r\n     <use style=\"fill:#1f77b4;stroke:#1f77b4;\" x=\"343.047608\" xlink:href=\"#m5283cd44e2\" y=\"154.111113\"/>\r\n     <use style=\"fill:#1f77b4;stroke:#1f77b4;\" x=\"338.036707\" xlink:href=\"#m5283cd44e2\" y=\"31.302561\"/>\r\n     <use style=\"fill:#1f77b4;stroke:#1f77b4;\" x=\"86.07796\" xlink:href=\"#m5283cd44e2\" y=\"35.736167\"/>\r\n     <use style=\"fill:#1f77b4;stroke:#1f77b4;\" x=\"268.435191\" xlink:href=\"#m5283cd44e2\" y=\"166.236467\"/>\r\n     <use style=\"fill:#1f77b4;stroke:#1f77b4;\" x=\"251.895738\" xlink:href=\"#m5283cd44e2\" y=\"141.752641\"/>\r\n     <use style=\"fill:#1f77b4;stroke:#1f77b4;\" x=\"165.272841\" xlink:href=\"#m5283cd44e2\" y=\"197.998806\"/>\r\n     <use style=\"fill:#1f77b4;stroke:#1f77b4;\" x=\"169.919112\" xlink:href=\"#m5283cd44e2\" y=\"20.78753\"/>\r\n     <use style=\"fill:#1f77b4;stroke:#1f77b4;\" x=\"64.202332\" xlink:href=\"#m5283cd44e2\" y=\"114.624549\"/>\r\n     <use style=\"fill:#1f77b4;stroke:#1f77b4;\" x=\"365.960511\" xlink:href=\"#m5283cd44e2\" y=\"174.726763\"/>\r\n     <use style=\"fill:#1f77b4;stroke:#1f77b4;\" x=\"306.950765\" xlink:href=\"#m5283cd44e2\" y=\"196.276193\"/>\r\n     <use style=\"fill:#1f77b4;stroke:#1f77b4;\" x=\"91.65213\" xlink:href=\"#m5283cd44e2\" y=\"101.600267\"/>\r\n     <use style=\"fill:#1f77b4;stroke:#1f77b4;\" x=\"173.917318\" xlink:href=\"#m5283cd44e2\" y=\"89.534078\"/>\r\n     <use style=\"fill:#1f77b4;stroke:#1f77b4;\" x=\"115.429551\" xlink:href=\"#m5283cd44e2\" y=\"146.17383\"/>\r\n     <use style=\"fill:#1f77b4;stroke:#1f77b4;\" x=\"98.679747\" xlink:href=\"#m5283cd44e2\" y=\"38.46818\"/>\r\n     <use style=\"fill:#1f77b4;stroke:#1f77b4;\" x=\"348.558813\" xlink:href=\"#m5283cd44e2\" y=\"212.92011\"/>\r\n     <use style=\"fill:#1f77b4;stroke:#1f77b4;\" x=\"360.001088\" xlink:href=\"#m5283cd44e2\" y=\"73.025794\"/>\r\n     <use style=\"fill:#1f77b4;stroke:#1f77b4;\" x=\"170.586153\" xlink:href=\"#m5283cd44e2\" y=\"103.688263\"/>\r\n     <use style=\"fill:#1f77b4;stroke:#1f77b4;\" x=\"223.182737\" xlink:href=\"#m5283cd44e2\" y=\"113.130029\"/>\r\n     <use style=\"fill:#1f77b4;stroke:#1f77b4;\" x=\"301.38565\" xlink:href=\"#m5283cd44e2\" y=\"32.592415\"/>\r\n     <use style=\"fill:#1f77b4;stroke:#1f77b4;\" x=\"234.846336\" xlink:href=\"#m5283cd44e2\" y=\"91.640763\"/>\r\n     <use style=\"fill:#1f77b4;stroke:#1f77b4;\" x=\"209.1322\" xlink:href=\"#m5283cd44e2\" y=\"146.256599\"/>\r\n     <use style=\"fill:#1f77b4;stroke:#1f77b4;\" x=\"147.870456\" xlink:href=\"#m5283cd44e2\" y=\"76.675567\"/>\r\n     <use style=\"fill:#1f77b4;stroke:#1f77b4;\" x=\"84.215796\" xlink:href=\"#m5283cd44e2\" y=\"103.978921\"/>\r\n     <use style=\"fill:#1f77b4;stroke:#1f77b4;\" x=\"111.527832\" xlink:href=\"#m5283cd44e2\" y=\"96.872427\"/>\r\n     <use style=\"fill:#1f77b4;stroke:#1f77b4;\" x=\"68.27164\" xlink:href=\"#m5283cd44e2\" y=\"22.296923\"/>\r\n     <use style=\"fill:#1f77b4;stroke:#1f77b4;\" x=\"365.93785\" xlink:href=\"#m5283cd44e2\" y=\"99.147405\"/>\r\n     <use style=\"fill:#1f77b4;stroke:#1f77b4;\" x=\"109.678251\" xlink:href=\"#m5283cd44e2\" y=\"77.162427\"/>\r\n     <use style=\"fill:#1f77b4;stroke:#1f77b4;\" x=\"265.552867\" xlink:href=\"#m5283cd44e2\" y=\"195.645504\"/>\r\n     <use style=\"fill:#1f77b4;stroke:#1f77b4;\" x=\"190.12378\" xlink:href=\"#m5283cd44e2\" y=\"166.574106\"/>\r\n     <use style=\"fill:#1f77b4;stroke:#1f77b4;\" x=\"295.035492\" xlink:href=\"#m5283cd44e2\" y=\"88.610284\"/>\r\n     <use style=\"fill:#1f77b4;stroke:#1f77b4;\" x=\"94.234997\" xlink:href=\"#m5283cd44e2\" y=\"109.497756\"/>\r\n     <use style=\"fill:#1f77b4;stroke:#1f77b4;\" x=\"339.877967\" xlink:href=\"#m5283cd44e2\" y=\"121.867883\"/>\r\n     <use style=\"fill:#1f77b4;stroke:#1f77b4;\" x=\"235.208198\" xlink:href=\"#m5283cd44e2\" y=\"80.814428\"/>\r\n     <use style=\"fill:#1f77b4;stroke:#1f77b4;\" x=\"338.139781\" xlink:href=\"#m5283cd44e2\" y=\"110.514765\"/>\r\n     <use style=\"fill:#1f77b4;stroke:#1f77b4;\" x=\"140.866234\" xlink:href=\"#m5283cd44e2\" y=\"138.931252\"/>\r\n     <use style=\"fill:#1f77b4;stroke:#1f77b4;\" x=\"324.317937\" xlink:href=\"#m5283cd44e2\" y=\"63.462361\"/>\r\n     <use style=\"fill:#1f77b4;stroke:#1f77b4;\" x=\"120.475772\" xlink:href=\"#m5283cd44e2\" y=\"202.427075\"/>\r\n     <use style=\"fill:#1f77b4;stroke:#1f77b4;\" x=\"122.452562\" xlink:href=\"#m5283cd44e2\" y=\"197.146851\"/>\r\n     <use style=\"fill:#1f77b4;stroke:#1f77b4;\" x=\"294.790403\" xlink:href=\"#m5283cd44e2\" y=\"125.617833\"/>\r\n     <use style=\"fill:#1f77b4;stroke:#1f77b4;\" x=\"304.198098\" xlink:href=\"#m5283cd44e2\" y=\"60.354244\"/>\r\n     <use style=\"fill:#1f77b4;stroke:#1f77b4;\" x=\"65.863082\" xlink:href=\"#m5283cd44e2\" y=\"120.119451\"/>\r\n     <use style=\"fill:#1f77b4;stroke:#1f77b4;\" x=\"155.843448\" xlink:href=\"#m5283cd44e2\" y=\"43.964051\"/>\r\n     <use style=\"fill:#1f77b4;stroke:#1f77b4;\" x=\"222.356314\" xlink:href=\"#m5283cd44e2\" y=\"154.389901\"/>\r\n     <use style=\"fill:#1f77b4;stroke:#1f77b4;\" x=\"323.764921\" xlink:href=\"#m5283cd44e2\" y=\"125.449705\"/>\r\n     <use style=\"fill:#1f77b4;stroke:#1f77b4;\" x=\"131.2261\" xlink:href=\"#m5283cd44e2\" y=\"33.541043\"/>\r\n     <use style=\"fill:#1f77b4;stroke:#1f77b4;\" x=\"163.808091\" xlink:href=\"#m5283cd44e2\" y=\"44.324209\"/>\r\n     <use style=\"fill:#1f77b4;stroke:#1f77b4;\" x=\"338.419956\" xlink:href=\"#m5283cd44e2\" y=\"39.490983\"/>\r\n     <use style=\"fill:#1f77b4;stroke:#1f77b4;\" x=\"121.991472\" xlink:href=\"#m5283cd44e2\" y=\"109.408743\"/>\r\n     <use style=\"fill:#1f77b4;stroke:#1f77b4;\" x=\"156.055884\" xlink:href=\"#m5283cd44e2\" y=\"20.171071\"/>\r\n     <use style=\"fill:#1f77b4;stroke:#1f77b4;\" x=\"357.002261\" xlink:href=\"#m5283cd44e2\" y=\"160.95252\"/>\r\n     <use style=\"fill:#1f77b4;stroke:#1f77b4;\" x=\"324.715919\" xlink:href=\"#m5283cd44e2\" y=\"159.536727\"/>\r\n     <use style=\"fill:#1f77b4;stroke:#1f77b4;\" x=\"348.734184\" xlink:href=\"#m5283cd44e2\" y=\"75.750694\"/>\r\n     <use style=\"fill:#1f77b4;stroke:#1f77b4;\" x=\"242.631867\" xlink:href=\"#m5283cd44e2\" y=\"44.163763\"/>\r\n     <use style=\"fill:#1f77b4;stroke:#1f77b4;\" x=\"154.81299\" xlink:href=\"#m5283cd44e2\" y=\"104.509249\"/>\r\n     <use style=\"fill:#1f77b4;stroke:#1f77b4;\" x=\"122.281317\" xlink:href=\"#m5283cd44e2\" y=\"72.121913\"/>\r\n     <use style=\"fill:#1f77b4;stroke:#1f77b4;\" x=\"363.761741\" xlink:href=\"#m5283cd44e2\" y=\"48.508279\"/>\r\n     <use style=\"fill:#1f77b4;stroke:#1f77b4;\" x=\"105.870648\" xlink:href=\"#m5283cd44e2\" y=\"98.860932\"/>\r\n     <use style=\"fill:#1f77b4;stroke:#1f77b4;\" x=\"195.351454\" xlink:href=\"#m5283cd44e2\" y=\"69.04373\"/>\r\n     <use style=\"fill:#1f77b4;stroke:#1f77b4;\" x=\"361.001188\" xlink:href=\"#m5283cd44e2\" y=\"193.79352\"/>\r\n     <use style=\"fill:#1f77b4;stroke:#1f77b4;\" x=\"138.564317\" xlink:href=\"#m5283cd44e2\" y=\"205.895398\"/>\r\n     <use style=\"fill:#1f77b4;stroke:#1f77b4;\" x=\"273.736481\" xlink:href=\"#m5283cd44e2\" y=\"210.156825\"/>\r\n     <use style=\"fill:#1f77b4;stroke:#1f77b4;\" x=\"173.985596\" xlink:href=\"#m5283cd44e2\" y=\"52.765721\"/>\r\n     <use style=\"fill:#1f77b4;stroke:#1f77b4;\" x=\"174.883227\" xlink:href=\"#m5283cd44e2\" y=\"92.37841\"/>\r\n     <use style=\"fill:#1f77b4;stroke:#1f77b4;\" x=\"316.012661\" xlink:href=\"#m5283cd44e2\" y=\"101.437963\"/>\r\n     <use style=\"fill:#1f77b4;stroke:#1f77b4;\" x=\"85.160303\" xlink:href=\"#m5283cd44e2\" y=\"98.398055\"/>\r\n     <use style=\"fill:#1f77b4;stroke:#1f77b4;\" x=\"364.787718\" xlink:href=\"#m5283cd44e2\" y=\"195.714387\"/>\r\n     <use style=\"fill:#1f77b4;stroke:#1f77b4;\" x=\"360.57541\" xlink:href=\"#m5283cd44e2\" y=\"36.438485\"/>\r\n     <use style=\"fill:#1f77b4;stroke:#1f77b4;\" x=\"329.630993\" xlink:href=\"#m5283cd44e2\" y=\"102.636025\"/>\r\n     <use style=\"fill:#1f77b4;stroke:#1f77b4;\" x=\"278.417879\" xlink:href=\"#m5283cd44e2\" y=\"200.382511\"/>\r\n     <use style=\"fill:#1f77b4;stroke:#1f77b4;\" x=\"72.610659\" xlink:href=\"#m5283cd44e2\" y=\"51.278163\"/>\r\n     <use style=\"fill:#1f77b4;stroke:#1f77b4;\" x=\"192.121612\" xlink:href=\"#m5283cd44e2\" y=\"172.784859\"/>\r\n     <use style=\"fill:#1f77b4;stroke:#1f77b4;\" x=\"251.033663\" xlink:href=\"#m5283cd44e2\" y=\"77.744956\"/>\r\n     <use style=\"fill:#1f77b4;stroke:#1f77b4;\" x=\"266.054279\" xlink:href=\"#m5283cd44e2\" y=\"146.122092\"/>\r\n     <use style=\"fill:#1f77b4;stroke:#1f77b4;\" x=\"207.466757\" xlink:href=\"#m5283cd44e2\" y=\"197.276566\"/>\r\n     <use style=\"fill:#1f77b4;stroke:#1f77b4;\" x=\"280.256328\" xlink:href=\"#m5283cd44e2\" y=\"58.273068\"/>\r\n     <use style=\"fill:#1f77b4;stroke:#1f77b4;\" x=\"271.373754\" xlink:href=\"#m5283cd44e2\" y=\"63.100219\"/>\r\n     <use style=\"fill:#1f77b4;stroke:#1f77b4;\" x=\"77.765819\" xlink:href=\"#m5283cd44e2\" y=\"200.54602\"/>\r\n     <use style=\"fill:#1f77b4;stroke:#1f77b4;\" x=\"306.680892\" xlink:href=\"#m5283cd44e2\" y=\"207.855879\"/>\r\n     <use style=\"fill:#1f77b4;stroke:#1f77b4;\" x=\"194.510084\" xlink:href=\"#m5283cd44e2\" y=\"85.76681\"/>\r\n     <use style=\"fill:#1f77b4;stroke:#1f77b4;\" x=\"113.33212\" xlink:href=\"#m5283cd44e2\" y=\"192.840194\"/>\r\n     <use style=\"fill:#1f77b4;stroke:#1f77b4;\" x=\"82.47393\" xlink:href=\"#m5283cd44e2\" y=\"49.624195\"/>\r\n     <use style=\"fill:#1f77b4;stroke:#1f77b4;\" x=\"169.640012\" xlink:href=\"#m5283cd44e2\" y=\"38.713547\"/>\r\n     <use style=\"fill:#1f77b4;stroke:#1f77b4;\" x=\"154.318736\" xlink:href=\"#m5283cd44e2\" y=\"153.531954\"/>\r\n     <use style=\"fill:#1f77b4;stroke:#1f77b4;\" x=\"164.465668\" xlink:href=\"#m5283cd44e2\" y=\"202.847428\"/>\r\n     <use style=\"fill:#1f77b4;stroke:#1f77b4;\" x=\"319.716532\" xlink:href=\"#m5283cd44e2\" y=\"210.139445\"/>\r\n     <use style=\"fill:#1f77b4;stroke:#1f77b4;\" x=\"106.584761\" xlink:href=\"#m5283cd44e2\" y=\"84.33205\"/>\r\n     <use style=\"fill:#1f77b4;stroke:#1f77b4;\" x=\"232.447086\" xlink:href=\"#m5283cd44e2\" y=\"49.603168\"/>\r\n     <use style=\"fill:#1f77b4;stroke:#1f77b4;\" x=\"131.184865\" xlink:href=\"#m5283cd44e2\" y=\"90.20332\"/>\r\n     <use style=\"fill:#1f77b4;stroke:#1f77b4;\" x=\"307.539514\" xlink:href=\"#m5283cd44e2\" y=\"51.131165\"/>\r\n     <use style=\"fill:#1f77b4;stroke:#1f77b4;\" x=\"280.118981\" xlink:href=\"#m5283cd44e2\" y=\"124.179773\"/>\r\n     <use style=\"fill:#1f77b4;stroke:#1f77b4;\" x=\"74.714535\" xlink:href=\"#m5283cd44e2\" y=\"142.922968\"/>\r\n     <use style=\"fill:#1f77b4;stroke:#1f77b4;\" x=\"291.564667\" xlink:href=\"#m5283cd44e2\" y=\"67.352897\"/>\r\n     <use style=\"fill:#1f77b4;stroke:#1f77b4;\" x=\"64.65124\" xlink:href=\"#m5283cd44e2\" y=\"35.135604\"/>\r\n     <use style=\"fill:#1f77b4;stroke:#1f77b4;\" x=\"236.124481\" xlink:href=\"#m5283cd44e2\" y=\"65.210237\"/>\r\n     <use style=\"fill:#1f77b4;stroke:#1f77b4;\" x=\"315.663197\" xlink:href=\"#m5283cd44e2\" y=\"162.493175\"/>\r\n     <use style=\"fill:#1f77b4;stroke:#1f77b4;\" x=\"99.081612\" xlink:href=\"#m5283cd44e2\" y=\"22.501174\"/>\r\n     <use style=\"fill:#1f77b4;stroke:#1f77b4;\" x=\"320.019126\" xlink:href=\"#m5283cd44e2\" y=\"77.906453\"/>\r\n     <use style=\"fill:#1f77b4;stroke:#1f77b4;\" x=\"178.991162\" xlink:href=\"#m5283cd44e2\" y=\"159.02269\"/>\r\n     <use style=\"fill:#1f77b4;stroke:#1f77b4;\" x=\"332.356276\" xlink:href=\"#m5283cd44e2\" y=\"59.686525\"/>\r\n     <use style=\"fill:#1f77b4;stroke:#1f77b4;\" x=\"63.838494\" xlink:href=\"#m5283cd44e2\" y=\"162.429142\"/>\r\n     <use style=\"fill:#1f77b4;stroke:#1f77b4;\" x=\"359.432592\" xlink:href=\"#m5283cd44e2\" y=\"74.127801\"/>\r\n     <use style=\"fill:#1f77b4;stroke:#1f77b4;\" x=\"289.085806\" xlink:href=\"#m5283cd44e2\" y=\"205.914486\"/>\r\n     <use style=\"fill:#1f77b4;stroke:#1f77b4;\" x=\"366.613612\" xlink:href=\"#m5283cd44e2\" y=\"201.115608\"/>\r\n     <use style=\"fill:#1f77b4;stroke:#1f77b4;\" x=\"170.70178\" xlink:href=\"#m5283cd44e2\" y=\"126.305587\"/>\r\n     <use style=\"fill:#1f77b4;stroke:#1f77b4;\" x=\"268.282832\" xlink:href=\"#m5283cd44e2\" y=\"47.698671\"/>\r\n     <use style=\"fill:#1f77b4;stroke:#1f77b4;\" x=\"276.385018\" xlink:href=\"#m5283cd44e2\" y=\"104.403889\"/>\r\n     <use style=\"fill:#1f77b4;stroke:#1f77b4;\" x=\"152.353395\" xlink:href=\"#m5283cd44e2\" y=\"72.178882\"/>\r\n     <use style=\"fill:#1f77b4;stroke:#1f77b4;\" x=\"351.80492\" xlink:href=\"#m5283cd44e2\" y=\"89.18393\"/>\r\n     <use style=\"fill:#1f77b4;stroke:#1f77b4;\" x=\"235.757066\" xlink:href=\"#m5283cd44e2\" y=\"24.022163\"/>\r\n     <use style=\"fill:#1f77b4;stroke:#1f77b4;\" x=\"199.143074\" xlink:href=\"#m5283cd44e2\" y=\"113.840415\"/>\r\n     <use style=\"fill:#1f77b4;stroke:#1f77b4;\" x=\"351.815445\" xlink:href=\"#m5283cd44e2\" y=\"85.272499\"/>\r\n     <use style=\"fill:#1f77b4;stroke:#1f77b4;\" x=\"157.001532\" xlink:href=\"#m5283cd44e2\" y=\"81.442647\"/>\r\n     <use style=\"fill:#1f77b4;stroke:#1f77b4;\" x=\"307.267839\" xlink:href=\"#m5283cd44e2\" y=\"210.811777\"/>\r\n     <use style=\"fill:#1f77b4;stroke:#1f77b4;\" x=\"294.393349\" xlink:href=\"#m5283cd44e2\" y=\"140.222946\"/>\r\n     <use style=\"fill:#1f77b4;stroke:#1f77b4;\" x=\"124.083615\" xlink:href=\"#m5283cd44e2\" y=\"42.432764\"/>\r\n     <use style=\"fill:#1f77b4;stroke:#1f77b4;\" x=\"185.297835\" xlink:href=\"#m5283cd44e2\" y=\"88.351368\"/>\r\n     <use style=\"fill:#1f77b4;stroke:#1f77b4;\" x=\"162.156672\" xlink:href=\"#m5283cd44e2\" y=\"128.80637\"/>\r\n     <use style=\"fill:#1f77b4;stroke:#1f77b4;\" x=\"293.401034\" xlink:href=\"#m5283cd44e2\" y=\"175.73024\"/>\r\n     <use style=\"fill:#1f77b4;stroke:#1f77b4;\" x=\"102.263005\" xlink:href=\"#m5283cd44e2\" y=\"55.328054\"/>\r\n     <use style=\"fill:#1f77b4;stroke:#1f77b4;\" x=\"222.181969\" xlink:href=\"#m5283cd44e2\" y=\"212.327593\"/>\r\n     <use style=\"fill:#1f77b4;stroke:#1f77b4;\" x=\"230.735255\" xlink:href=\"#m5283cd44e2\" y=\"53.939028\"/>\r\n     <use style=\"fill:#1f77b4;stroke:#1f77b4;\" x=\"233.477254\" xlink:href=\"#m5283cd44e2\" y=\"68.734648\"/>\r\n     <use style=\"fill:#1f77b4;stroke:#1f77b4;\" x=\"71.826449\" xlink:href=\"#m5283cd44e2\" y=\"88.840804\"/>\r\n     <use style=\"fill:#1f77b4;stroke:#1f77b4;\" x=\"104.216713\" xlink:href=\"#m5283cd44e2\" y=\"134.824709\"/>\r\n     <use style=\"fill:#1f77b4;stroke:#1f77b4;\" x=\"64.014505\" xlink:href=\"#m5283cd44e2\" y=\"73.445368\"/>\r\n     <use style=\"fill:#1f77b4;stroke:#1f77b4;\" x=\"150.137008\" xlink:href=\"#m5283cd44e2\" y=\"26.449394\"/>\r\n     <use style=\"fill:#1f77b4;stroke:#1f77b4;\" x=\"125.202606\" xlink:href=\"#m5283cd44e2\" y=\"110.418011\"/>\r\n     <use style=\"fill:#1f77b4;stroke:#1f77b4;\" x=\"222.799928\" xlink:href=\"#m5283cd44e2\" y=\"105.680758\"/>\r\n     <use style=\"fill:#1f77b4;stroke:#1f77b4;\" x=\"359.126941\" xlink:href=\"#m5283cd44e2\" y=\"213.262021\"/>\r\n     <use style=\"fill:#1f77b4;stroke:#1f77b4;\" x=\"125.948715\" xlink:href=\"#m5283cd44e2\" y=\"56.670838\"/>\r\n     <use style=\"fill:#1f77b4;stroke:#1f77b4;\" x=\"77.524721\" xlink:href=\"#m5283cd44e2\" y=\"37.15033\"/>\r\n     <use style=\"fill:#1f77b4;stroke:#1f77b4;\" x=\"178.017154\" xlink:href=\"#m5283cd44e2\" y=\"21.285863\"/>\r\n     <use style=\"fill:#1f77b4;stroke:#1f77b4;\" x=\"157.271009\" xlink:href=\"#m5283cd44e2\" y=\"138.326335\"/>\r\n     <use style=\"fill:#1f77b4;stroke:#1f77b4;\" x=\"321.0584\" xlink:href=\"#m5283cd44e2\" y=\"105.488739\"/>\r\n     <use style=\"fill:#1f77b4;stroke:#1f77b4;\" x=\"138.29061\" xlink:href=\"#m5283cd44e2\" y=\"102.703255\"/>\r\n     <use style=\"fill:#1f77b4;stroke:#1f77b4;\" x=\"155.248047\" xlink:href=\"#m5283cd44e2\" y=\"131.493703\"/>\r\n     <use style=\"fill:#1f77b4;stroke:#1f77b4;\" x=\"181.479861\" xlink:href=\"#m5283cd44e2\" y=\"115.517464\"/>\r\n     <use style=\"fill:#1f77b4;stroke:#1f77b4;\" x=\"167.82728\" xlink:href=\"#m5283cd44e2\" y=\"172.94992\"/>\r\n     <use style=\"fill:#1f77b4;stroke:#1f77b4;\" x=\"200.064611\" xlink:href=\"#m5283cd44e2\" y=\"62.011358\"/>\r\n     <use style=\"fill:#1f77b4;stroke:#1f77b4;\" x=\"337.570877\" xlink:href=\"#m5283cd44e2\" y=\"19.954412\"/>\r\n     <use style=\"fill:#1f77b4;stroke:#1f77b4;\" x=\"262.661356\" xlink:href=\"#m5283cd44e2\" y=\"131.551138\"/>\r\n     <use style=\"fill:#1f77b4;stroke:#1f77b4;\" x=\"111.198949\" xlink:href=\"#m5283cd44e2\" y=\"148.968683\"/>\r\n     <use style=\"fill:#1f77b4;stroke:#1f77b4;\" x=\"223.455902\" xlink:href=\"#m5283cd44e2\" y=\"192.389685\"/>\r\n     <use style=\"fill:#1f77b4;stroke:#1f77b4;\" x=\"226.222415\" xlink:href=\"#m5283cd44e2\" y=\"133.370697\"/>\r\n     <use style=\"fill:#1f77b4;stroke:#1f77b4;\" x=\"105.593469\" xlink:href=\"#m5283cd44e2\" y=\"191.852847\"/>\r\n     <use style=\"fill:#1f77b4;stroke:#1f77b4;\" x=\"251.869662\" xlink:href=\"#m5283cd44e2\" y=\"110.134168\"/>\r\n     <use style=\"fill:#1f77b4;stroke:#1f77b4;\" x=\"193.35456\" xlink:href=\"#m5283cd44e2\" y=\"155.057698\"/>\r\n     <use style=\"fill:#1f77b4;stroke:#1f77b4;\" x=\"126.54145\" xlink:href=\"#m5283cd44e2\" y=\"22.929798\"/>\r\n     <use style=\"fill:#1f77b4;stroke:#1f77b4;\" x=\"172.15257\" xlink:href=\"#m5283cd44e2\" y=\"41.079327\"/>\r\n     <use style=\"fill:#1f77b4;stroke:#1f77b4;\" x=\"254.52523\" xlink:href=\"#m5283cd44e2\" y=\"143.025153\"/>\r\n     <use style=\"fill:#1f77b4;stroke:#1f77b4;\" x=\"230.124316\" xlink:href=\"#m5283cd44e2\" y=\"50.579065\"/>\r\n     <use style=\"fill:#1f77b4;stroke:#1f77b4;\" x=\"327.114302\" xlink:href=\"#m5283cd44e2\" y=\"181.432506\"/>\r\n     <use style=\"fill:#1f77b4;stroke:#1f77b4;\" x=\"259.872215\" xlink:href=\"#m5283cd44e2\" y=\"136.216559\"/>\r\n     <use style=\"fill:#1f77b4;stroke:#1f77b4;\" x=\"244.050138\" xlink:href=\"#m5283cd44e2\" y=\"187.378948\"/>\r\n     <use style=\"fill:#1f77b4;stroke:#1f77b4;\" x=\"251.359672\" xlink:href=\"#m5283cd44e2\" y=\"144.781782\"/>\r\n     <use style=\"fill:#1f77b4;stroke:#1f77b4;\" x=\"292.064343\" xlink:href=\"#m5283cd44e2\" y=\"203.674478\"/>\r\n     <use style=\"fill:#1f77b4;stroke:#1f77b4;\" x=\"351.262934\" xlink:href=\"#m5283cd44e2\" y=\"18.585518\"/>\r\n     <use style=\"fill:#1f77b4;stroke:#1f77b4;\" x=\"279.858114\" xlink:href=\"#m5283cd44e2\" y=\"36.746117\"/>\r\n     <use style=\"fill:#1f77b4;stroke:#1f77b4;\" x=\"335.837308\" xlink:href=\"#m5283cd44e2\" y=\"156.692126\"/>\r\n     <use style=\"fill:#1f77b4;stroke:#1f77b4;\" x=\"361.874958\" xlink:href=\"#m5283cd44e2\" y=\"88.017231\"/>\r\n     <use style=\"fill:#1f77b4;stroke:#1f77b4;\" x=\"137.07565\" xlink:href=\"#m5283cd44e2\" y=\"101.713866\"/>\r\n     <use style=\"fill:#1f77b4;stroke:#1f77b4;\" x=\"156.679187\" xlink:href=\"#m5283cd44e2\" y=\"195.177524\"/>\r\n     <use style=\"fill:#1f77b4;stroke:#1f77b4;\" x=\"95.392325\" xlink:href=\"#m5283cd44e2\" y=\"64.869589\"/>\r\n     <use style=\"fill:#1f77b4;stroke:#1f77b4;\" x=\"289.153075\" xlink:href=\"#m5283cd44e2\" y=\"83.631925\"/>\r\n     <use style=\"fill:#1f77b4;stroke:#1f77b4;\" x=\"317.129069\" xlink:href=\"#m5283cd44e2\" y=\"147.73352\"/>\r\n     <use style=\"fill:#1f77b4;stroke:#1f77b4;\" x=\"184.626847\" xlink:href=\"#m5283cd44e2\" y=\"126.835111\"/>\r\n     <use style=\"fill:#1f77b4;stroke:#1f77b4;\" x=\"365.382421\" xlink:href=\"#m5283cd44e2\" y=\"183.81572\"/>\r\n     <use style=\"fill:#1f77b4;stroke:#1f77b4;\" x=\"366.613772\" xlink:href=\"#m5283cd44e2\" y=\"127.727788\"/>\r\n     <use style=\"fill:#1f77b4;stroke:#1f77b4;\" x=\"151.901768\" xlink:href=\"#m5283cd44e2\" y=\"25.234542\"/>\r\n     <use style=\"fill:#1f77b4;stroke:#1f77b4;\" x=\"90.518284\" xlink:href=\"#m5283cd44e2\" y=\"139.408237\"/>\r\n     <use style=\"fill:#1f77b4;stroke:#1f77b4;\" x=\"159.944982\" xlink:href=\"#m5283cd44e2\" y=\"177.101778\"/>\r\n     <use style=\"fill:#1f77b4;stroke:#1f77b4;\" x=\"330.932961\" xlink:href=\"#m5283cd44e2\" y=\"154.078426\"/>\r\n     <use style=\"fill:#1f77b4;stroke:#1f77b4;\" x=\"341.709449\" xlink:href=\"#m5283cd44e2\" y=\"158.388191\"/>\r\n     <use style=\"fill:#1f77b4;stroke:#1f77b4;\" x=\"147.59816\" xlink:href=\"#m5283cd44e2\" y=\"49.443524\"/>\r\n     <use style=\"fill:#1f77b4;stroke:#1f77b4;\" x=\"263.815443\" xlink:href=\"#m5283cd44e2\" y=\"191.281067\"/>\r\n     <use style=\"fill:#1f77b4;stroke:#1f77b4;\" x=\"72.487335\" xlink:href=\"#m5283cd44e2\" y=\"128.609074\"/>\r\n     <use style=\"fill:#1f77b4;stroke:#1f77b4;\" x=\"150.571194\" xlink:href=\"#m5283cd44e2\" y=\"201.131225\"/>\r\n     <use style=\"fill:#1f77b4;stroke:#1f77b4;\" x=\"129.822093\" xlink:href=\"#m5283cd44e2\" y=\"137.427792\"/>\r\n     <use style=\"fill:#1f77b4;stroke:#1f77b4;\" x=\"102.793894\" xlink:href=\"#m5283cd44e2\" y=\"89.787817\"/>\r\n     <use style=\"fill:#1f77b4;stroke:#1f77b4;\" x=\"86.143111\" xlink:href=\"#m5283cd44e2\" y=\"169.944965\"/>\r\n     <use style=\"fill:#1f77b4;stroke:#1f77b4;\" x=\"74.451994\" xlink:href=\"#m5283cd44e2\" y=\"206.773107\"/>\r\n     <use style=\"fill:#1f77b4;stroke:#1f77b4;\" x=\"151.043979\" xlink:href=\"#m5283cd44e2\" y=\"53.475285\"/>\r\n     <use style=\"fill:#1f77b4;stroke:#1f77b4;\" x=\"324.592801\" xlink:href=\"#m5283cd44e2\" y=\"150.646992\"/>\r\n     <use style=\"fill:#1f77b4;stroke:#1f77b4;\" x=\"115.457377\" xlink:href=\"#m5283cd44e2\" y=\"134.196535\"/>\r\n     <use style=\"fill:#1f77b4;stroke:#1f77b4;\" x=\"250.327022\" xlink:href=\"#m5283cd44e2\" y=\"110.979671\"/>\r\n     <use style=\"fill:#1f77b4;stroke:#1f77b4;\" x=\"277.08483\" xlink:href=\"#m5283cd44e2\" y=\"157.333653\"/>\r\n     <use style=\"fill:#1f77b4;stroke:#1f77b4;\" x=\"107.772106\" xlink:href=\"#m5283cd44e2\" y=\"81.367025\"/>\r\n     <use style=\"fill:#1f77b4;stroke:#1f77b4;\" x=\"179.990794\" xlink:href=\"#m5283cd44e2\" y=\"196.146949\"/>\r\n     <use style=\"fill:#1f77b4;stroke:#1f77b4;\" x=\"328.632689\" xlink:href=\"#m5283cd44e2\" y=\"196.564572\"/>\r\n     <use style=\"fill:#1f77b4;stroke:#1f77b4;\" x=\"119.352759\" xlink:href=\"#m5283cd44e2\" y=\"47.556559\"/>\r\n     <use style=\"fill:#1f77b4;stroke:#1f77b4;\" x=\"97.661085\" xlink:href=\"#m5283cd44e2\" y=\"212.547807\"/>\r\n     <use style=\"fill:#1f77b4;stroke:#1f77b4;\" x=\"159.270099\" xlink:href=\"#m5283cd44e2\" y=\"112.061143\"/>\r\n     <use style=\"fill:#1f77b4;stroke:#1f77b4;\" x=\"328.804072\" xlink:href=\"#m5283cd44e2\" y=\"181.934039\"/>\r\n     <use style=\"fill:#1f77b4;stroke:#1f77b4;\" x=\"214.173833\" xlink:href=\"#m5283cd44e2\" y=\"109.295809\"/>\r\n     <use style=\"fill:#1f77b4;stroke:#1f77b4;\" x=\"198.949965\" xlink:href=\"#m5283cd44e2\" y=\"27.292917\"/>\r\n     <use style=\"fill:#1f77b4;stroke:#1f77b4;\" x=\"330.95921\" xlink:href=\"#m5283cd44e2\" y=\"211.53522\"/>\r\n     <use style=\"fill:#1f77b4;stroke:#1f77b4;\" x=\"107.800474\" xlink:href=\"#m5283cd44e2\" y=\"205.259925\"/>\r\n     <use style=\"fill:#1f77b4;stroke:#1f77b4;\" x=\"251.529021\" xlink:href=\"#m5283cd44e2\" y=\"93.998476\"/>\r\n     <use style=\"fill:#1f77b4;stroke:#1f77b4;\" x=\"251.295975\" xlink:href=\"#m5283cd44e2\" y=\"120.047109\"/>\r\n     <use style=\"fill:#1f77b4;stroke:#1f77b4;\" x=\"297.446661\" xlink:href=\"#m5283cd44e2\" y=\"17.083636\"/>\r\n     <use style=\"fill:#1f77b4;stroke:#1f77b4;\" x=\"158.096388\" xlink:href=\"#m5283cd44e2\" y=\"67.642193\"/>\r\n     <use style=\"fill:#1f77b4;stroke:#1f77b4;\" x=\"101.630069\" xlink:href=\"#m5283cd44e2\" y=\"39.048137\"/>\r\n     <use style=\"fill:#1f77b4;stroke:#1f77b4;\" x=\"173.014316\" xlink:href=\"#m5283cd44e2\" y=\"158.455467\"/>\r\n     <use style=\"fill:#1f77b4;stroke:#1f77b4;\" x=\"280.379943\" xlink:href=\"#m5283cd44e2\" y=\"123.928035\"/>\r\n     <use style=\"fill:#1f77b4;stroke:#1f77b4;\" x=\"172.456686\" xlink:href=\"#m5283cd44e2\" y=\"62.218703\"/>\r\n     <use style=\"fill:#1f77b4;stroke:#1f77b4;\" x=\"297.511806\" xlink:href=\"#m5283cd44e2\" y=\"106.613969\"/>\r\n     <use style=\"fill:#1f77b4;stroke:#1f77b4;\" x=\"170.218114\" xlink:href=\"#m5283cd44e2\" y=\"116.825454\"/>\r\n     <use style=\"fill:#1f77b4;stroke:#1f77b4;\" x=\"301.410372\" xlink:href=\"#m5283cd44e2\" y=\"161.600175\"/>\r\n     <use style=\"fill:#1f77b4;stroke:#1f77b4;\" x=\"174.386523\" xlink:href=\"#m5283cd44e2\" y=\"123.378269\"/>\r\n     <use style=\"fill:#1f77b4;stroke:#1f77b4;\" x=\"201.356329\" xlink:href=\"#m5283cd44e2\" y=\"167.799658\"/>\r\n     <use style=\"fill:#1f77b4;stroke:#1f77b4;\" x=\"335.875606\" xlink:href=\"#m5283cd44e2\" y=\"136.205377\"/>\r\n     <use style=\"fill:#1f77b4;stroke:#1f77b4;\" x=\"241.591509\" xlink:href=\"#m5283cd44e2\" y=\"77.914643\"/>\r\n     <use style=\"fill:#1f77b4;stroke:#1f77b4;\" x=\"122.493285\" xlink:href=\"#m5283cd44e2\" y=\"164.640375\"/>\r\n     <use style=\"fill:#1f77b4;stroke:#1f77b4;\" x=\"343.563139\" xlink:href=\"#m5283cd44e2\" y=\"74.429154\"/>\r\n     <use style=\"fill:#1f77b4;stroke:#1f77b4;\" x=\"121.525865\" xlink:href=\"#m5283cd44e2\" y=\"55.550924\"/>\r\n     <use style=\"fill:#1f77b4;stroke:#1f77b4;\" x=\"342.491871\" xlink:href=\"#m5283cd44e2\" y=\"74.438821\"/>\r\n     <use style=\"fill:#1f77b4;stroke:#1f77b4;\" x=\"329.034284\" xlink:href=\"#m5283cd44e2\" y=\"135.770536\"/>\r\n     <use style=\"fill:#1f77b4;stroke:#1f77b4;\" x=\"66.953828\" xlink:href=\"#m5283cd44e2\" y=\"214.222052\"/>\r\n     <use style=\"fill:#1f77b4;stroke:#1f77b4;\" x=\"174.027755\" xlink:href=\"#m5283cd44e2\" y=\"42.434971\"/>\r\n     <use style=\"fill:#1f77b4;stroke:#1f77b4;\" x=\"253.414725\" xlink:href=\"#m5283cd44e2\" y=\"66.09397\"/>\r\n     <use style=\"fill:#1f77b4;stroke:#1f77b4;\" x=\"278.044796\" xlink:href=\"#m5283cd44e2\" y=\"32.720483\"/>\r\n     <use style=\"fill:#1f77b4;stroke:#1f77b4;\" x=\"244.062551\" xlink:href=\"#m5283cd44e2\" y=\"175.585036\"/>\r\n     <use style=\"fill:#1f77b4;stroke:#1f77b4;\" x=\"71.928902\" xlink:href=\"#m5283cd44e2\" y=\"151.855716\"/>\r\n     <use style=\"fill:#1f77b4;stroke:#1f77b4;\" x=\"337.158568\" xlink:href=\"#m5283cd44e2\" y=\"155.690844\"/>\r\n     <use style=\"fill:#1f77b4;stroke:#1f77b4;\" x=\"366.026954\" xlink:href=\"#m5283cd44e2\" y=\"84.52688\"/>\r\n     <use style=\"fill:#1f77b4;stroke:#1f77b4;\" x=\"352.30956\" xlink:href=\"#m5283cd44e2\" y=\"43.125658\"/>\r\n     <use style=\"fill:#1f77b4;stroke:#1f77b4;\" x=\"300.409397\" xlink:href=\"#m5283cd44e2\" y=\"98.170668\"/>\r\n     <use style=\"fill:#1f77b4;stroke:#1f77b4;\" x=\"191.877945\" xlink:href=\"#m5283cd44e2\" y=\"129.695436\"/>\r\n     <use style=\"fill:#1f77b4;stroke:#1f77b4;\" x=\"168.707702\" xlink:href=\"#m5283cd44e2\" y=\"146.731191\"/>\r\n     <use style=\"fill:#1f77b4;stroke:#1f77b4;\" x=\"216.058305\" xlink:href=\"#m5283cd44e2\" y=\"25.851429\"/>\r\n     <use style=\"fill:#1f77b4;stroke:#1f77b4;\" x=\"70.762529\" xlink:href=\"#m5283cd44e2\" y=\"37.109437\"/>\r\n     <use style=\"fill:#1f77b4;stroke:#1f77b4;\" x=\"161.591399\" xlink:href=\"#m5283cd44e2\" y=\"158.38236\"/>\r\n     <use style=\"fill:#1f77b4;stroke:#1f77b4;\" x=\"354.117287\" xlink:href=\"#m5283cd44e2\" y=\"36.355271\"/>\r\n     <use style=\"fill:#1f77b4;stroke:#1f77b4;\" x=\"191.718566\" xlink:href=\"#m5283cd44e2\" y=\"103.015845\"/>\r\n     <use style=\"fill:#1f77b4;stroke:#1f77b4;\" x=\"195.044577\" xlink:href=\"#m5283cd44e2\" y=\"128.732569\"/>\r\n     <use style=\"fill:#1f77b4;stroke:#1f77b4;\" x=\"232.164642\" xlink:href=\"#m5283cd44e2\" y=\"105.421765\"/>\r\n     <use style=\"fill:#1f77b4;stroke:#1f77b4;\" x=\"315.180677\" xlink:href=\"#m5283cd44e2\" y=\"105.003645\"/>\r\n     <use style=\"fill:#1f77b4;stroke:#1f77b4;\" x=\"280.627082\" xlink:href=\"#m5283cd44e2\" y=\"44.423169\"/>\r\n     <use style=\"fill:#1f77b4;stroke:#1f77b4;\" x=\"162.482755\" xlink:href=\"#m5283cd44e2\" y=\"167.824706\"/>\r\n     <use style=\"fill:#1f77b4;stroke:#1f77b4;\" x=\"226.708067\" xlink:href=\"#m5283cd44e2\" y=\"185.622175\"/>\r\n     <use style=\"fill:#1f77b4;stroke:#1f77b4;\" x=\"261.341614\" xlink:href=\"#m5283cd44e2\" y=\"22.071821\"/>\r\n     <use style=\"fill:#1f77b4;stroke:#1f77b4;\" x=\"298.760958\" xlink:href=\"#m5283cd44e2\" y=\"166.793721\"/>\r\n     <use style=\"fill:#1f77b4;stroke:#1f77b4;\" x=\"127.244451\" xlink:href=\"#m5283cd44e2\" y=\"107.434608\"/>\r\n     <use style=\"fill:#1f77b4;stroke:#1f77b4;\" x=\"140.675484\" xlink:href=\"#m5283cd44e2\" y=\"82.369124\"/>\r\n     <use style=\"fill:#1f77b4;stroke:#1f77b4;\" x=\"210.341791\" xlink:href=\"#m5283cd44e2\" y=\"58.799482\"/>\r\n     <use style=\"fill:#1f77b4;stroke:#1f77b4;\" x=\"296.860976\" xlink:href=\"#m5283cd44e2\" y=\"47.157067\"/>\r\n     <use style=\"fill:#1f77b4;stroke:#1f77b4;\" x=\"97.015956\" xlink:href=\"#m5283cd44e2\" y=\"71.458626\"/>\r\n     <use style=\"fill:#1f77b4;stroke:#1f77b4;\" x=\"286.063891\" xlink:href=\"#m5283cd44e2\" y=\"58.381395\"/>\r\n     <use style=\"fill:#1f77b4;stroke:#1f77b4;\" x=\"116.669565\" xlink:href=\"#m5283cd44e2\" y=\"33.463595\"/>\r\n     <use style=\"fill:#1f77b4;stroke:#1f77b4;\" x=\"69.916893\" xlink:href=\"#m5283cd44e2\" y=\"171.671156\"/>\r\n     <use style=\"fill:#1f77b4;stroke:#1f77b4;\" x=\"214.474866\" xlink:href=\"#m5283cd44e2\" y=\"70.82007\"/>\r\n     <use style=\"fill:#1f77b4;stroke:#1f77b4;\" x=\"69.197443\" xlink:href=\"#m5283cd44e2\" y=\"42.552121\"/>\r\n     <use style=\"fill:#1f77b4;stroke:#1f77b4;\" x=\"215.381133\" xlink:href=\"#m5283cd44e2\" y=\"31.745433\"/>\r\n     <use style=\"fill:#1f77b4;stroke:#1f77b4;\" x=\"139.93431\" xlink:href=\"#m5283cd44e2\" y=\"82.255616\"/>\r\n     <use style=\"fill:#1f77b4;stroke:#1f77b4;\" x=\"94.943098\" xlink:href=\"#m5283cd44e2\" y=\"65.28079\"/>\r\n     <use style=\"fill:#1f77b4;stroke:#1f77b4;\" x=\"245.917175\" xlink:href=\"#m5283cd44e2\" y=\"150.172256\"/>\r\n     <use style=\"fill:#1f77b4;stroke:#1f77b4;\" x=\"224.459575\" xlink:href=\"#m5283cd44e2\" y=\"121.941407\"/>\r\n     <use style=\"fill:#1f77b4;stroke:#1f77b4;\" x=\"297.716843\" xlink:href=\"#m5283cd44e2\" y=\"43.735633\"/>\r\n     <use style=\"fill:#1f77b4;stroke:#1f77b4;\" x=\"174.848379\" xlink:href=\"#m5283cd44e2\" y=\"151.030882\"/>\r\n     <use style=\"fill:#1f77b4;stroke:#1f77b4;\" x=\"183.433336\" xlink:href=\"#m5283cd44e2\" y=\"96.625597\"/>\r\n     <use style=\"fill:#1f77b4;stroke:#1f77b4;\" x=\"246.563412\" xlink:href=\"#m5283cd44e2\" y=\"51.141625\"/>\r\n     <use style=\"fill:#1f77b4;stroke:#1f77b4;\" x=\"172.597579\" xlink:href=\"#m5283cd44e2\" y=\"202.385225\"/>\r\n     <use style=\"fill:#1f77b4;stroke:#1f77b4;\" x=\"256.239414\" xlink:href=\"#m5283cd44e2\" y=\"74.880954\"/>\r\n     <use style=\"fill:#1f77b4;stroke:#1f77b4;\" x=\"311.383737\" xlink:href=\"#m5283cd44e2\" y=\"126.785413\"/>\r\n     <use style=\"fill:#1f77b4;stroke:#1f77b4;\" x=\"146.112647\" xlink:href=\"#m5283cd44e2\" y=\"148.124676\"/>\r\n     <use style=\"fill:#1f77b4;stroke:#1f77b4;\" x=\"352.235763\" xlink:href=\"#m5283cd44e2\" y=\"95.942223\"/>\r\n     <use style=\"fill:#1f77b4;stroke:#1f77b4;\" x=\"248.218346\" xlink:href=\"#m5283cd44e2\" y=\"161.006544\"/>\r\n     <use style=\"fill:#1f77b4;stroke:#1f77b4;\" x=\"230.906968\" xlink:href=\"#m5283cd44e2\" y=\"24.398625\"/>\r\n     <use style=\"fill:#1f77b4;stroke:#1f77b4;\" x=\"123.724852\" xlink:href=\"#m5283cd44e2\" y=\"103.77496\"/>\r\n     <use style=\"fill:#1f77b4;stroke:#1f77b4;\" x=\"293.736133\" xlink:href=\"#m5283cd44e2\" y=\"206.016705\"/>\r\n     <use style=\"fill:#1f77b4;stroke:#1f77b4;\" x=\"267.721157\" xlink:href=\"#m5283cd44e2\" y=\"39.01153\"/>\r\n     <use style=\"fill:#1f77b4;stroke:#1f77b4;\" x=\"243.124041\" xlink:href=\"#m5283cd44e2\" y=\"141.22354\"/>\r\n     <use style=\"fill:#1f77b4;stroke:#1f77b4;\" x=\"145.3666\" xlink:href=\"#m5283cd44e2\" y=\"96.263486\"/>\r\n     <use style=\"fill:#1f77b4;stroke:#1f77b4;\" x=\"128.081204\" xlink:href=\"#m5283cd44e2\" y=\"130.81005\"/>\r\n     <use style=\"fill:#1f77b4;stroke:#1f77b4;\" x=\"200.483198\" xlink:href=\"#m5283cd44e2\" y=\"35.0444\"/>\r\n     <use style=\"fill:#1f77b4;stroke:#1f77b4;\" x=\"77.682273\" xlink:href=\"#m5283cd44e2\" y=\"169.560717\"/>\r\n     <use style=\"fill:#1f77b4;stroke:#1f77b4;\" x=\"118.841673\" xlink:href=\"#m5283cd44e2\" y=\"74.857398\"/>\r\n     <use style=\"fill:#1f77b4;stroke:#1f77b4;\" x=\"212.108031\" xlink:href=\"#m5283cd44e2\" y=\"168.506932\"/>\r\n     <use style=\"fill:#1f77b4;stroke:#1f77b4;\" x=\"149.425861\" xlink:href=\"#m5283cd44e2\" y=\"203.931252\"/>\r\n     <use style=\"fill:#1f77b4;stroke:#1f77b4;\" x=\"242.410539\" xlink:href=\"#m5283cd44e2\" y=\"39.039172\"/>\r\n     <use style=\"fill:#1f77b4;stroke:#1f77b4;\" x=\"79.636361\" xlink:href=\"#m5283cd44e2\" y=\"156.585748\"/>\r\n     <use style=\"fill:#1f77b4;stroke:#1f77b4;\" x=\"134.24425\" xlink:href=\"#m5283cd44e2\" y=\"79.241024\"/>\r\n     <use style=\"fill:#1f77b4;stroke:#1f77b4;\" x=\"290.671205\" xlink:href=\"#m5283cd44e2\" y=\"99.495501\"/>\r\n     <use style=\"fill:#1f77b4;stroke:#1f77b4;\" x=\"188.397397\" xlink:href=\"#m5283cd44e2\" y=\"84.957595\"/>\r\n     <use style=\"fill:#1f77b4;stroke:#1f77b4;\" x=\"128.996025\" xlink:href=\"#m5283cd44e2\" y=\"69.428578\"/>\r\n     <use style=\"fill:#1f77b4;stroke:#1f77b4;\" x=\"281.368548\" xlink:href=\"#m5283cd44e2\" y=\"26.55579\"/>\r\n     <use style=\"fill:#1f77b4;stroke:#1f77b4;\" x=\"236.782525\" xlink:href=\"#m5283cd44e2\" y=\"189.479122\"/>\r\n     <use style=\"fill:#1f77b4;stroke:#1f77b4;\" x=\"69.487904\" xlink:href=\"#m5283cd44e2\" y=\"59.787993\"/>\r\n     <use style=\"fill:#1f77b4;stroke:#1f77b4;\" x=\"241.48734\" xlink:href=\"#m5283cd44e2\" y=\"205.89345\"/>\r\n     <use style=\"fill:#1f77b4;stroke:#1f77b4;\" x=\"137.232841\" xlink:href=\"#m5283cd44e2\" y=\"145.641265\"/>\r\n     <use style=\"fill:#1f77b4;stroke:#1f77b4;\" x=\"227.593145\" xlink:href=\"#m5283cd44e2\" y=\"159.501638\"/>\r\n     <use style=\"fill:#1f77b4;stroke:#1f77b4;\" x=\"200.542889\" xlink:href=\"#m5283cd44e2\" y=\"144.656296\"/>\r\n     <use style=\"fill:#1f77b4;stroke:#1f77b4;\" x=\"339.531731\" xlink:href=\"#m5283cd44e2\" y=\"127.822849\"/>\r\n     <use style=\"fill:#1f77b4;stroke:#1f77b4;\" x=\"213.915427\" xlink:href=\"#m5283cd44e2\" y=\"90.384862\"/>\r\n     <use style=\"fill:#1f77b4;stroke:#1f77b4;\" x=\"313.771342\" xlink:href=\"#m5283cd44e2\" y=\"177.133314\"/>\r\n     <use style=\"fill:#1f77b4;stroke:#1f77b4;\" x=\"157.861296\" xlink:href=\"#m5283cd44e2\" y=\"65.91986\"/>\r\n     <use style=\"fill:#1f77b4;stroke:#1f77b4;\" x=\"108.901267\" xlink:href=\"#m5283cd44e2\" y=\"45.23318\"/>\r\n     <use style=\"fill:#1f77b4;stroke:#1f77b4;\" x=\"71.149316\" xlink:href=\"#m5283cd44e2\" y=\"142.692717\"/>\r\n     <use style=\"fill:#1f77b4;stroke:#1f77b4;\" x=\"70.870546\" xlink:href=\"#m5283cd44e2\" y=\"182.145713\"/>\r\n     <use style=\"fill:#1f77b4;stroke:#1f77b4;\" x=\"331.223638\" xlink:href=\"#m5283cd44e2\" y=\"21.086912\"/>\r\n     <use style=\"fill:#1f77b4;stroke:#1f77b4;\" x=\"70.440075\" xlink:href=\"#m5283cd44e2\" y=\"22.577244\"/>\r\n     <use style=\"fill:#1f77b4;stroke:#1f77b4;\" x=\"215.75929\" xlink:href=\"#m5283cd44e2\" y=\"145.408859\"/>\r\n     <use style=\"fill:#1f77b4;stroke:#1f77b4;\" x=\"67.474903\" xlink:href=\"#m5283cd44e2\" y=\"164.167364\"/>\r\n     <use style=\"fill:#1f77b4;stroke:#1f77b4;\" x=\"152.47262\" xlink:href=\"#m5283cd44e2\" y=\"204.100011\"/>\r\n     <use style=\"fill:#1f77b4;stroke:#1f77b4;\" x=\"69.039767\" xlink:href=\"#m5283cd44e2\" y=\"149.891905\"/>\r\n     <use style=\"fill:#1f77b4;stroke:#1f77b4;\" x=\"340.518632\" xlink:href=\"#m5283cd44e2\" y=\"211.291972\"/>\r\n     <use style=\"fill:#1f77b4;stroke:#1f77b4;\" x=\"268.203306\" xlink:href=\"#m5283cd44e2\" y=\"200.402432\"/>\r\n     <use style=\"fill:#1f77b4;stroke:#1f77b4;\" x=\"150.271153\" xlink:href=\"#m5283cd44e2\" y=\"163.351287\"/>\r\n     <use style=\"fill:#1f77b4;stroke:#1f77b4;\" x=\"286.79059\" xlink:href=\"#m5283cd44e2\" y=\"100.539802\"/>\r\n     <use style=\"fill:#1f77b4;stroke:#1f77b4;\" x=\"104.105275\" xlink:href=\"#m5283cd44e2\" y=\"73.214323\"/>\r\n     <use style=\"fill:#1f77b4;stroke:#1f77b4;\" x=\"351.784868\" xlink:href=\"#m5283cd44e2\" y=\"75.566441\"/>\r\n     <use style=\"fill:#1f77b4;stroke:#1f77b4;\" x=\"128.930098\" xlink:href=\"#m5283cd44e2\" y=\"27.868557\"/>\r\n     <use style=\"fill:#1f77b4;stroke:#1f77b4;\" x=\"128.090182\" xlink:href=\"#m5283cd44e2\" y=\"166.384654\"/>\r\n     <use style=\"fill:#1f77b4;stroke:#1f77b4;\" x=\"181.524288\" xlink:href=\"#m5283cd44e2\" y=\"153.928688\"/>\r\n     <use style=\"fill:#1f77b4;stroke:#1f77b4;\" x=\"221.884616\" xlink:href=\"#m5283cd44e2\" y=\"88.727903\"/>\r\n     <use style=\"fill:#1f77b4;stroke:#1f77b4;\" x=\"258.557104\" xlink:href=\"#m5283cd44e2\" y=\"136.637366\"/>\r\n     <use style=\"fill:#1f77b4;stroke:#1f77b4;\" x=\"354.056888\" xlink:href=\"#m5283cd44e2\" y=\"199.939481\"/>\r\n     <use style=\"fill:#1f77b4;stroke:#1f77b4;\" x=\"143.902107\" xlink:href=\"#m5283cd44e2\" y=\"104.637855\"/>\r\n     <use style=\"fill:#1f77b4;stroke:#1f77b4;\" x=\"213.711786\" xlink:href=\"#m5283cd44e2\" y=\"127.683296\"/>\r\n     <use style=\"fill:#1f77b4;stroke:#1f77b4;\" x=\"217.718124\" xlink:href=\"#m5283cd44e2\" y=\"26.994042\"/>\r\n     <use style=\"fill:#1f77b4;stroke:#1f77b4;\" x=\"133.139397\" xlink:href=\"#m5283cd44e2\" y=\"126.002546\"/>\r\n     <use style=\"fill:#1f77b4;stroke:#1f77b4;\" x=\"267.76849\" xlink:href=\"#m5283cd44e2\" y=\"39.950902\"/>\r\n     <use style=\"fill:#1f77b4;stroke:#1f77b4;\" x=\"347.376524\" xlink:href=\"#m5283cd44e2\" y=\"48.53162\"/>\r\n     <use style=\"fill:#1f77b4;stroke:#1f77b4;\" x=\"292.972175\" xlink:href=\"#m5283cd44e2\" y=\"89.828046\"/>\r\n     <use style=\"fill:#1f77b4;stroke:#1f77b4;\" x=\"338.576842\" xlink:href=\"#m5283cd44e2\" y=\"91.918636\"/>\r\n     <use style=\"fill:#1f77b4;stroke:#1f77b4;\" x=\"292.718782\" xlink:href=\"#m5283cd44e2\" y=\"179.888076\"/>\r\n     <use style=\"fill:#1f77b4;stroke:#1f77b4;\" x=\"343.653985\" xlink:href=\"#m5283cd44e2\" y=\"196.931822\"/>\r\n     <use style=\"fill:#1f77b4;stroke:#1f77b4;\" x=\"75.593134\" xlink:href=\"#m5283cd44e2\" y=\"112.459225\"/>\r\n     <use style=\"fill:#1f77b4;stroke:#1f77b4;\" x=\"89.959967\" xlink:href=\"#m5283cd44e2\" y=\"188.294322\"/>\r\n     <use style=\"fill:#1f77b4;stroke:#1f77b4;\" x=\"264.938348\" xlink:href=\"#m5283cd44e2\" y=\"208.464553\"/>\r\n     <use style=\"fill:#1f77b4;stroke:#1f77b4;\" x=\"92.323192\" xlink:href=\"#m5283cd44e2\" y=\"204.007368\"/>\r\n     <use style=\"fill:#1f77b4;stroke:#1f77b4;\" x=\"82.543166\" xlink:href=\"#m5283cd44e2\" y=\"116.040442\"/>\r\n     <use style=\"fill:#1f77b4;stroke:#1f77b4;\" x=\"82.75209\" xlink:href=\"#m5283cd44e2\" y=\"203.555298\"/>\r\n     <use style=\"fill:#1f77b4;stroke:#1f77b4;\" x=\"314.510799\" xlink:href=\"#m5283cd44e2\" y=\"147.962442\"/>\r\n     <use style=\"fill:#1f77b4;stroke:#1f77b4;\" x=\"185.917004\" xlink:href=\"#m5283cd44e2\" y=\"55.322347\"/>\r\n     <use style=\"fill:#1f77b4;stroke:#1f77b4;\" x=\"139.948642\" xlink:href=\"#m5283cd44e2\" y=\"204.128635\"/>\r\n     <use style=\"fill:#1f77b4;stroke:#1f77b4;\" x=\"244.585295\" xlink:href=\"#m5283cd44e2\" y=\"107.128518\"/>\r\n     <use style=\"fill:#1f77b4;stroke:#1f77b4;\" x=\"336.591688\" xlink:href=\"#m5283cd44e2\" y=\"188.486241\"/>\r\n     <use style=\"fill:#1f77b4;stroke:#1f77b4;\" x=\"235.440657\" xlink:href=\"#m5283cd44e2\" y=\"162.878407\"/>\r\n     <use style=\"fill:#1f77b4;stroke:#1f77b4;\" x=\"128.394178\" xlink:href=\"#m5283cd44e2\" y=\"200.175565\"/>\r\n     <use style=\"fill:#1f77b4;stroke:#1f77b4;\" x=\"155.422716\" xlink:href=\"#m5283cd44e2\" y=\"173.368688\"/>\r\n     <use style=\"fill:#1f77b4;stroke:#1f77b4;\" x=\"282.733783\" xlink:href=\"#m5283cd44e2\" y=\"135.298385\"/>\r\n     <use style=\"fill:#1f77b4;stroke:#1f77b4;\" x=\"151.48481\" xlink:href=\"#m5283cd44e2\" y=\"163.450473\"/>\r\n     <use style=\"fill:#1f77b4;stroke:#1f77b4;\" x=\"297.170042\" xlink:href=\"#m5283cd44e2\" y=\"95.087225\"/>\r\n     <use style=\"fill:#1f77b4;stroke:#1f77b4;\" x=\"172.376016\" xlink:href=\"#m5283cd44e2\" y=\"124.044248\"/>\r\n     <use style=\"fill:#1f77b4;stroke:#1f77b4;\" x=\"281.717967\" xlink:href=\"#m5283cd44e2\" y=\"176.484526\"/>\r\n     <use style=\"fill:#1f77b4;stroke:#1f77b4;\" x=\"245.623402\" xlink:href=\"#m5283cd44e2\" y=\"61.862882\"/>\r\n     <use style=\"fill:#1f77b4;stroke:#1f77b4;\" x=\"325.893761\" xlink:href=\"#m5283cd44e2\" y=\"100.829051\"/>\r\n     <use style=\"fill:#1f77b4;stroke:#1f77b4;\" x=\"253.472126\" xlink:href=\"#m5283cd44e2\" y=\"127.339444\"/>\r\n     <use style=\"fill:#1f77b4;stroke:#1f77b4;\" x=\"172.198232\" xlink:href=\"#m5283cd44e2\" y=\"23.475579\"/>\r\n     <use style=\"fill:#1f77b4;stroke:#1f77b4;\" x=\"98.661542\" xlink:href=\"#m5283cd44e2\" y=\"181.751477\"/>\r\n     <use style=\"fill:#1f77b4;stroke:#1f77b4;\" x=\"352.461095\" xlink:href=\"#m5283cd44e2\" y=\"174.266911\"/>\r\n     <use style=\"fill:#1f77b4;stroke:#1f77b4;\" x=\"313.05055\" xlink:href=\"#m5283cd44e2\" y=\"42.385444\"/>\r\n     <use style=\"fill:#1f77b4;stroke:#1f77b4;\" x=\"296.034558\" xlink:href=\"#m5283cd44e2\" y=\"133.085125\"/>\r\n     <use style=\"fill:#1f77b4;stroke:#1f77b4;\" x=\"281.245538\" xlink:href=\"#m5283cd44e2\" y=\"85.089977\"/>\r\n     <use style=\"fill:#1f77b4;stroke:#1f77b4;\" x=\"301.929768\" xlink:href=\"#m5283cd44e2\" y=\"171.011121\"/>\r\n     <use style=\"fill:#1f77b4;stroke:#1f77b4;\" x=\"322.758099\" xlink:href=\"#m5283cd44e2\" y=\"36.560309\"/>\r\n     <use style=\"fill:#1f77b4;stroke:#1f77b4;\" x=\"345.517138\" xlink:href=\"#m5283cd44e2\" y=\"123.202675\"/>\r\n     <use style=\"fill:#1f77b4;stroke:#1f77b4;\" x=\"164.911696\" xlink:href=\"#m5283cd44e2\" y=\"101.969674\"/>\r\n     <use style=\"fill:#1f77b4;stroke:#1f77b4;\" x=\"278.116394\" xlink:href=\"#m5283cd44e2\" y=\"134.22805\"/>\r\n     <use style=\"fill:#1f77b4;stroke:#1f77b4;\" x=\"232.472689\" xlink:href=\"#m5283cd44e2\" y=\"72.55074\"/>\r\n     <use style=\"fill:#1f77b4;stroke:#1f77b4;\" x=\"183.021357\" xlink:href=\"#m5283cd44e2\" y=\"187.355471\"/>\r\n     <use style=\"fill:#1f77b4;stroke:#1f77b4;\" x=\"304.453008\" xlink:href=\"#m5283cd44e2\" y=\"94.099803\"/>\r\n     <use style=\"fill:#1f77b4;stroke:#1f77b4;\" x=\"314.61827\" xlink:href=\"#m5283cd44e2\" y=\"67.292528\"/>\r\n     <use style=\"fill:#1f77b4;stroke:#1f77b4;\" x=\"86.520031\" xlink:href=\"#m5283cd44e2\" y=\"169.121855\"/>\r\n     <use style=\"fill:#1f77b4;stroke:#1f77b4;\" x=\"333.400456\" xlink:href=\"#m5283cd44e2\" y=\"126.401145\"/>\r\n     <use style=\"fill:#1f77b4;stroke:#1f77b4;\" x=\"232.464421\" xlink:href=\"#m5283cd44e2\" y=\"152.498298\"/>\r\n     <use style=\"fill:#1f77b4;stroke:#1f77b4;\" x=\"129.808377\" xlink:href=\"#m5283cd44e2\" y=\"152.322623\"/>\r\n     <use style=\"fill:#1f77b4;stroke:#1f77b4;\" x=\"201.116246\" xlink:href=\"#m5283cd44e2\" y=\"87.495512\"/>\r\n     <use style=\"fill:#1f77b4;stroke:#1f77b4;\" x=\"92.104866\" xlink:href=\"#m5283cd44e2\" y=\"26.056886\"/>\r\n     <use style=\"fill:#1f77b4;stroke:#1f77b4;\" x=\"111.674893\" xlink:href=\"#m5283cd44e2\" y=\"158.499064\"/>\r\n     <use style=\"fill:#1f77b4;stroke:#1f77b4;\" x=\"204.099277\" xlink:href=\"#m5283cd44e2\" y=\"132.689052\"/>\r\n     <use style=\"fill:#1f77b4;stroke:#1f77b4;\" x=\"230.927954\" xlink:href=\"#m5283cd44e2\" y=\"167.878559\"/>\r\n     <use style=\"fill:#1f77b4;stroke:#1f77b4;\" x=\"75.733736\" xlink:href=\"#m5283cd44e2\" y=\"94.503513\"/>\r\n     <use style=\"fill:#1f77b4;stroke:#1f77b4;\" x=\"99.89117\" xlink:href=\"#m5283cd44e2\" y=\"73.637343\"/>\r\n     <use style=\"fill:#1f77b4;stroke:#1f77b4;\" x=\"116.071138\" xlink:href=\"#m5283cd44e2\" y=\"152.223335\"/>\r\n     <use style=\"fill:#1f77b4;stroke:#1f77b4;\" x=\"137.506202\" xlink:href=\"#m5283cd44e2\" y=\"49.50744\"/>\r\n     <use style=\"fill:#1f77b4;stroke:#1f77b4;\" x=\"84.979845\" xlink:href=\"#m5283cd44e2\" y=\"173.184074\"/>\r\n     <use style=\"fill:#1f77b4;stroke:#1f77b4;\" x=\"304.714592\" xlink:href=\"#m5283cd44e2\" y=\"21.783899\"/>\r\n     <use style=\"fill:#1f77b4;stroke:#1f77b4;\" x=\"328.588878\" xlink:href=\"#m5283cd44e2\" y=\"51.032398\"/>\r\n     <use style=\"fill:#1f77b4;stroke:#1f77b4;\" x=\"197.884181\" xlink:href=\"#m5283cd44e2\" y=\"71.739172\"/>\r\n     <use style=\"fill:#1f77b4;stroke:#1f77b4;\" x=\"323.685434\" xlink:href=\"#m5283cd44e2\" y=\"183.071909\"/>\r\n     <use style=\"fill:#1f77b4;stroke:#1f77b4;\" x=\"117.856166\" xlink:href=\"#m5283cd44e2\" y=\"164.481059\"/>\r\n     <use style=\"fill:#1f77b4;stroke:#1f77b4;\" x=\"159.612126\" xlink:href=\"#m5283cd44e2\" y=\"61.833109\"/>\r\n     <use style=\"fill:#1f77b4;stroke:#1f77b4;\" x=\"106.661189\" xlink:href=\"#m5283cd44e2\" y=\"212.898052\"/>\r\n     <use style=\"fill:#1f77b4;stroke:#1f77b4;\" x=\"337.117501\" xlink:href=\"#m5283cd44e2\" y=\"105.847861\"/>\r\n     <use style=\"fill:#1f77b4;stroke:#1f77b4;\" x=\"69.573354\" xlink:href=\"#m5283cd44e2\" y=\"99.880579\"/>\r\n     <use style=\"fill:#1f77b4;stroke:#1f77b4;\" x=\"229.650322\" xlink:href=\"#m5283cd44e2\" y=\"119.681533\"/>\r\n     <use style=\"fill:#1f77b4;stroke:#1f77b4;\" x=\"340.565102\" xlink:href=\"#m5283cd44e2\" y=\"96.708859\"/>\r\n     <use style=\"fill:#1f77b4;stroke:#1f77b4;\" x=\"195.230474\" xlink:href=\"#m5283cd44e2\" y=\"162.158242\"/>\r\n     <use style=\"fill:#1f77b4;stroke:#1f77b4;\" x=\"296.793035\" xlink:href=\"#m5283cd44e2\" y=\"33.355426\"/>\r\n     <use style=\"fill:#1f77b4;stroke:#1f77b4;\" x=\"273.296391\" xlink:href=\"#m5283cd44e2\" y=\"118.405117\"/>\r\n     <use style=\"fill:#1f77b4;stroke:#1f77b4;\" x=\"292.768286\" xlink:href=\"#m5283cd44e2\" y=\"52.283896\"/>\r\n     <use style=\"fill:#1f77b4;stroke:#1f77b4;\" x=\"188.933299\" xlink:href=\"#m5283cd44e2\" y=\"205.120174\"/>\r\n     <use style=\"fill:#1f77b4;stroke:#1f77b4;\" x=\"65.916537\" xlink:href=\"#m5283cd44e2\" y=\"98.848266\"/>\r\n     <use style=\"fill:#1f77b4;stroke:#1f77b4;\" x=\"269.259676\" xlink:href=\"#m5283cd44e2\" y=\"153.450493\"/>\r\n     <use style=\"fill:#1f77b4;stroke:#1f77b4;\" x=\"351.350861\" xlink:href=\"#m5283cd44e2\" y=\"51.510933\"/>\r\n     <use style=\"fill:#1f77b4;stroke:#1f77b4;\" x=\"222.946539\" xlink:href=\"#m5283cd44e2\" y=\"35.916215\"/>\r\n     <use style=\"fill:#1f77b4;stroke:#1f77b4;\" x=\"125.286045\" xlink:href=\"#m5283cd44e2\" y=\"201.971037\"/>\r\n     <use style=\"fill:#1f77b4;stroke:#1f77b4;\" x=\"174.37981\" xlink:href=\"#m5283cd44e2\" y=\"66.949756\"/>\r\n     <use style=\"fill:#1f77b4;stroke:#1f77b4;\" x=\"124.914643\" xlink:href=\"#m5283cd44e2\" y=\"196.52265\"/>\r\n     <use style=\"fill:#1f77b4;stroke:#1f77b4;\" x=\"220.267081\" xlink:href=\"#m5283cd44e2\" y=\"156.997772\"/>\r\n     <use style=\"fill:#1f77b4;stroke:#1f77b4;\" x=\"248.564569\" xlink:href=\"#m5283cd44e2\" y=\"100.986787\"/>\r\n     <use style=\"fill:#1f77b4;stroke:#1f77b4;\" x=\"311.163247\" xlink:href=\"#m5283cd44e2\" y=\"126.702737\"/>\r\n     <use style=\"fill:#1f77b4;stroke:#1f77b4;\" x=\"310.33527\" xlink:href=\"#m5283cd44e2\" y=\"74.39499\"/>\r\n     <use style=\"fill:#1f77b4;stroke:#1f77b4;\" x=\"296.42285\" xlink:href=\"#m5283cd44e2\" y=\"131.198598\"/>\r\n     <use style=\"fill:#1f77b4;stroke:#1f77b4;\" x=\"247.262494\" xlink:href=\"#m5283cd44e2\" y=\"214.37572\"/>\r\n     <use style=\"fill:#1f77b4;stroke:#1f77b4;\" x=\"296.740351\" xlink:href=\"#m5283cd44e2\" y=\"167.536867\"/>\r\n     <use style=\"fill:#1f77b4;stroke:#1f77b4;\" x=\"328.226367\" xlink:href=\"#m5283cd44e2\" y=\"157.208176\"/>\r\n     <use style=\"fill:#1f77b4;stroke:#1f77b4;\" x=\"339.186292\" xlink:href=\"#m5283cd44e2\" y=\"143.98164\"/>\r\n     <use style=\"fill:#1f77b4;stroke:#1f77b4;\" x=\"174.16634\" xlink:href=\"#m5283cd44e2\" y=\"156.686579\"/>\r\n     <use style=\"fill:#1f77b4;stroke:#1f77b4;\" x=\"363.696998\" xlink:href=\"#m5283cd44e2\" y=\"31.085041\"/>\r\n     <use style=\"fill:#1f77b4;stroke:#1f77b4;\" x=\"247.438498\" xlink:href=\"#m5283cd44e2\" y=\"106.017933\"/>\r\n     <use style=\"fill:#1f77b4;stroke:#1f77b4;\" x=\"302.024639\" xlink:href=\"#m5283cd44e2\" y=\"84.977726\"/>\r\n     <use style=\"fill:#1f77b4;stroke:#1f77b4;\" x=\"291.73908\" xlink:href=\"#m5283cd44e2\" y=\"60.459506\"/>\r\n     <use style=\"fill:#1f77b4;stroke:#1f77b4;\" x=\"113.11152\" xlink:href=\"#m5283cd44e2\" y=\"159.278575\"/>\r\n     <use style=\"fill:#1f77b4;stroke:#1f77b4;\" x=\"311.699167\" xlink:href=\"#m5283cd44e2\" y=\"141.05323\"/>\r\n     <use style=\"fill:#1f77b4;stroke:#1f77b4;\" x=\"189.403426\" xlink:href=\"#m5283cd44e2\" y=\"192.884909\"/>\r\n     <use style=\"fill:#1f77b4;stroke:#1f77b4;\" x=\"334.512844\" xlink:href=\"#m5283cd44e2\" y=\"61.868312\"/>\r\n     <use style=\"fill:#1f77b4;stroke:#1f77b4;\" x=\"182.889272\" xlink:href=\"#m5283cd44e2\" y=\"75.062211\"/>\r\n     <use style=\"fill:#1f77b4;stroke:#1f77b4;\" x=\"260.050555\" xlink:href=\"#m5283cd44e2\" y=\"186.097473\"/>\r\n     <use style=\"fill:#1f77b4;stroke:#1f77b4;\" x=\"313.803042\" xlink:href=\"#m5283cd44e2\" y=\"205.069862\"/>\r\n     <use style=\"fill:#1f77b4;stroke:#1f77b4;\" x=\"170.787984\" xlink:href=\"#m5283cd44e2\" y=\"135.128645\"/>\r\n     <use style=\"fill:#1f77b4;stroke:#1f77b4;\" x=\"77.204472\" xlink:href=\"#m5283cd44e2\" y=\"52.885763\"/>\r\n     <use style=\"fill:#1f77b4;stroke:#1f77b4;\" x=\"245.369094\" xlink:href=\"#m5283cd44e2\" y=\"131.689481\"/>\r\n     <use style=\"fill:#1f77b4;stroke:#1f77b4;\" x=\"267.510486\" xlink:href=\"#m5283cd44e2\" y=\"44.920617\"/>\r\n     <use style=\"fill:#1f77b4;stroke:#1f77b4;\" x=\"121.997045\" xlink:href=\"#m5283cd44e2\" y=\"81.982137\"/>\r\n     <use style=\"fill:#1f77b4;stroke:#1f77b4;\" x=\"108.839333\" xlink:href=\"#m5283cd44e2\" y=\"150.105703\"/>\r\n     <use style=\"fill:#1f77b4;stroke:#1f77b4;\" x=\"344.210419\" xlink:href=\"#m5283cd44e2\" y=\"143.676403\"/>\r\n     <use style=\"fill:#1f77b4;stroke:#1f77b4;\" x=\"119.492372\" xlink:href=\"#m5283cd44e2\" y=\"49.620969\"/>\r\n    </g>\r\n   </g>\r\n   <g id=\"matplotlib.axis_1\">\r\n    <g id=\"xtick_1\">\r\n     <g id=\"line2d_1\">\r\n      <defs>\r\n       <path d=\"M 0 0 \r\nL 0 3.5 \r\n\" id=\"mcdbc1fd6eb\" style=\"stroke:#000000;stroke-width:0.8;\"/>\r\n      </defs>\r\n      <g>\r\n       <use style=\"stroke:#000000;stroke-width:0.8;\" x=\"63.629694\" xlink:href=\"#mcdbc1fd6eb\" y=\"224.64\"/>\r\n      </g>\r\n     </g>\r\n     <g id=\"text_1\">\r\n      <!-- 0.0 -->\r\n      <defs>\r\n       <path d=\"M 31.78125 66.40625 \r\nQ 24.171875 66.40625 20.328125 58.90625 \r\nQ 16.5 51.421875 16.5 36.375 \r\nQ 16.5 21.390625 20.328125 13.890625 \r\nQ 24.171875 6.390625 31.78125 6.390625 \r\nQ 39.453125 6.390625 43.28125 13.890625 \r\nQ 47.125 21.390625 47.125 36.375 \r\nQ 47.125 51.421875 43.28125 58.90625 \r\nQ 39.453125 66.40625 31.78125 66.40625 \r\nz\r\nM 31.78125 74.21875 \r\nQ 44.046875 74.21875 50.515625 64.515625 \r\nQ 56.984375 54.828125 56.984375 36.375 \r\nQ 56.984375 17.96875 50.515625 8.265625 \r\nQ 44.046875 -1.421875 31.78125 -1.421875 \r\nQ 19.53125 -1.421875 13.0625 8.265625 \r\nQ 6.59375 17.96875 6.59375 36.375 \r\nQ 6.59375 54.828125 13.0625 64.515625 \r\nQ 19.53125 74.21875 31.78125 74.21875 \r\nz\r\n\" id=\"DejaVuSans-48\"/>\r\n       <path d=\"M 10.6875 12.40625 \r\nL 21 12.40625 \r\nL 21 0 \r\nL 10.6875 0 \r\nz\r\n\" id=\"DejaVuSans-46\"/>\r\n      </defs>\r\n      <g transform=\"translate(55.678131 239.238437)scale(0.1 -0.1)\">\r\n       <use xlink:href=\"#DejaVuSans-48\"/>\r\n       <use x=\"63.623047\" xlink:href=\"#DejaVuSans-46\"/>\r\n       <use x=\"95.410156\" xlink:href=\"#DejaVuSans-48\"/>\r\n      </g>\r\n     </g>\r\n    </g>\r\n    <g id=\"xtick_2\">\r\n     <g id=\"line2d_2\">\r\n      <g>\r\n       <use style=\"stroke:#000000;stroke-width:0.8;\" x=\"124.558047\" xlink:href=\"#mcdbc1fd6eb\" y=\"224.64\"/>\r\n      </g>\r\n     </g>\r\n     <g id=\"text_2\">\r\n      <!-- 0.2 -->\r\n      <defs>\r\n       <path d=\"M 19.1875 8.296875 \r\nL 53.609375 8.296875 \r\nL 53.609375 0 \r\nL 7.328125 0 \r\nL 7.328125 8.296875 \r\nQ 12.9375 14.109375 22.625 23.890625 \r\nQ 32.328125 33.6875 34.8125 36.53125 \r\nQ 39.546875 41.84375 41.421875 45.53125 \r\nQ 43.3125 49.21875 43.3125 52.78125 \r\nQ 43.3125 58.59375 39.234375 62.25 \r\nQ 35.15625 65.921875 28.609375 65.921875 \r\nQ 23.96875 65.921875 18.8125 64.3125 \r\nQ 13.671875 62.703125 7.8125 59.421875 \r\nL 7.8125 69.390625 \r\nQ 13.765625 71.78125 18.9375 73 \r\nQ 24.125 74.21875 28.421875 74.21875 \r\nQ 39.75 74.21875 46.484375 68.546875 \r\nQ 53.21875 62.890625 53.21875 53.421875 \r\nQ 53.21875 48.921875 51.53125 44.890625 \r\nQ 49.859375 40.875 45.40625 35.40625 \r\nQ 44.1875 33.984375 37.640625 27.21875 \r\nQ 31.109375 20.453125 19.1875 8.296875 \r\nz\r\n\" id=\"DejaVuSans-50\"/>\r\n      </defs>\r\n      <g transform=\"translate(116.606484 239.238437)scale(0.1 -0.1)\">\r\n       <use xlink:href=\"#DejaVuSans-48\"/>\r\n       <use x=\"63.623047\" xlink:href=\"#DejaVuSans-46\"/>\r\n       <use x=\"95.410156\" xlink:href=\"#DejaVuSans-50\"/>\r\n      </g>\r\n     </g>\r\n    </g>\r\n    <g id=\"xtick_3\">\r\n     <g id=\"line2d_3\">\r\n      <g>\r\n       <use style=\"stroke:#000000;stroke-width:0.8;\" x=\"185.4864\" xlink:href=\"#mcdbc1fd6eb\" y=\"224.64\"/>\r\n      </g>\r\n     </g>\r\n     <g id=\"text_3\">\r\n      <!-- 0.4 -->\r\n      <defs>\r\n       <path d=\"M 37.796875 64.3125 \r\nL 12.890625 25.390625 \r\nL 37.796875 25.390625 \r\nz\r\nM 35.203125 72.90625 \r\nL 47.609375 72.90625 \r\nL 47.609375 25.390625 \r\nL 58.015625 25.390625 \r\nL 58.015625 17.1875 \r\nL 47.609375 17.1875 \r\nL 47.609375 0 \r\nL 37.796875 0 \r\nL 37.796875 17.1875 \r\nL 4.890625 17.1875 \r\nL 4.890625 26.703125 \r\nz\r\n\" id=\"DejaVuSans-52\"/>\r\n      </defs>\r\n      <g transform=\"translate(177.534837 239.238437)scale(0.1 -0.1)\">\r\n       <use xlink:href=\"#DejaVuSans-48\"/>\r\n       <use x=\"63.623047\" xlink:href=\"#DejaVuSans-46\"/>\r\n       <use x=\"95.410156\" xlink:href=\"#DejaVuSans-52\"/>\r\n      </g>\r\n     </g>\r\n    </g>\r\n    <g id=\"xtick_4\">\r\n     <g id=\"line2d_4\">\r\n      <g>\r\n       <use style=\"stroke:#000000;stroke-width:0.8;\" x=\"246.414753\" xlink:href=\"#mcdbc1fd6eb\" y=\"224.64\"/>\r\n      </g>\r\n     </g>\r\n     <g id=\"text_4\">\r\n      <!-- 0.6 -->\r\n      <defs>\r\n       <path d=\"M 33.015625 40.375 \r\nQ 26.375 40.375 22.484375 35.828125 \r\nQ 18.609375 31.296875 18.609375 23.390625 \r\nQ 18.609375 15.53125 22.484375 10.953125 \r\nQ 26.375 6.390625 33.015625 6.390625 \r\nQ 39.65625 6.390625 43.53125 10.953125 \r\nQ 47.40625 15.53125 47.40625 23.390625 \r\nQ 47.40625 31.296875 43.53125 35.828125 \r\nQ 39.65625 40.375 33.015625 40.375 \r\nz\r\nM 52.59375 71.296875 \r\nL 52.59375 62.3125 \r\nQ 48.875 64.0625 45.09375 64.984375 \r\nQ 41.3125 65.921875 37.59375 65.921875 \r\nQ 27.828125 65.921875 22.671875 59.328125 \r\nQ 17.53125 52.734375 16.796875 39.40625 \r\nQ 19.671875 43.65625 24.015625 45.921875 \r\nQ 28.375 48.1875 33.59375 48.1875 \r\nQ 44.578125 48.1875 50.953125 41.515625 \r\nQ 57.328125 34.859375 57.328125 23.390625 \r\nQ 57.328125 12.15625 50.6875 5.359375 \r\nQ 44.046875 -1.421875 33.015625 -1.421875 \r\nQ 20.359375 -1.421875 13.671875 8.265625 \r\nQ 6.984375 17.96875 6.984375 36.375 \r\nQ 6.984375 53.65625 15.1875 63.9375 \r\nQ 23.390625 74.21875 37.203125 74.21875 \r\nQ 40.921875 74.21875 44.703125 73.484375 \r\nQ 48.484375 72.75 52.59375 71.296875 \r\nz\r\n\" id=\"DejaVuSans-54\"/>\r\n      </defs>\r\n      <g transform=\"translate(238.46319 239.238437)scale(0.1 -0.1)\">\r\n       <use xlink:href=\"#DejaVuSans-48\"/>\r\n       <use x=\"63.623047\" xlink:href=\"#DejaVuSans-46\"/>\r\n       <use x=\"95.410156\" xlink:href=\"#DejaVuSans-54\"/>\r\n      </g>\r\n     </g>\r\n    </g>\r\n    <g id=\"xtick_5\">\r\n     <g id=\"line2d_5\">\r\n      <g>\r\n       <use style=\"stroke:#000000;stroke-width:0.8;\" x=\"307.343106\" xlink:href=\"#mcdbc1fd6eb\" y=\"224.64\"/>\r\n      </g>\r\n     </g>\r\n     <g id=\"text_5\">\r\n      <!-- 0.8 -->\r\n      <defs>\r\n       <path d=\"M 31.78125 34.625 \r\nQ 24.75 34.625 20.71875 30.859375 \r\nQ 16.703125 27.09375 16.703125 20.515625 \r\nQ 16.703125 13.921875 20.71875 10.15625 \r\nQ 24.75 6.390625 31.78125 6.390625 \r\nQ 38.8125 6.390625 42.859375 10.171875 \r\nQ 46.921875 13.96875 46.921875 20.515625 \r\nQ 46.921875 27.09375 42.890625 30.859375 \r\nQ 38.875 34.625 31.78125 34.625 \r\nz\r\nM 21.921875 38.8125 \r\nQ 15.578125 40.375 12.03125 44.71875 \r\nQ 8.5 49.078125 8.5 55.328125 \r\nQ 8.5 64.0625 14.71875 69.140625 \r\nQ 20.953125 74.21875 31.78125 74.21875 \r\nQ 42.671875 74.21875 48.875 69.140625 \r\nQ 55.078125 64.0625 55.078125 55.328125 \r\nQ 55.078125 49.078125 51.53125 44.71875 \r\nQ 48 40.375 41.703125 38.8125 \r\nQ 48.828125 37.15625 52.796875 32.3125 \r\nQ 56.78125 27.484375 56.78125 20.515625 \r\nQ 56.78125 9.90625 50.3125 4.234375 \r\nQ 43.84375 -1.421875 31.78125 -1.421875 \r\nQ 19.734375 -1.421875 13.25 4.234375 \r\nQ 6.78125 9.90625 6.78125 20.515625 \r\nQ 6.78125 27.484375 10.78125 32.3125 \r\nQ 14.796875 37.15625 21.921875 38.8125 \r\nz\r\nM 18.3125 54.390625 \r\nQ 18.3125 48.734375 21.84375 45.5625 \r\nQ 25.390625 42.390625 31.78125 42.390625 \r\nQ 38.140625 42.390625 41.71875 45.5625 \r\nQ 45.3125 48.734375 45.3125 54.390625 \r\nQ 45.3125 60.0625 41.71875 63.234375 \r\nQ 38.140625 66.40625 31.78125 66.40625 \r\nQ 25.390625 66.40625 21.84375 63.234375 \r\nQ 18.3125 60.0625 18.3125 54.390625 \r\nz\r\n\" id=\"DejaVuSans-56\"/>\r\n      </defs>\r\n      <g transform=\"translate(299.391543 239.238437)scale(0.1 -0.1)\">\r\n       <use xlink:href=\"#DejaVuSans-48\"/>\r\n       <use x=\"63.623047\" xlink:href=\"#DejaVuSans-46\"/>\r\n       <use x=\"95.410156\" xlink:href=\"#DejaVuSans-56\"/>\r\n      </g>\r\n     </g>\r\n    </g>\r\n    <g id=\"xtick_6\">\r\n     <g id=\"line2d_6\">\r\n      <g>\r\n       <use style=\"stroke:#000000;stroke-width:0.8;\" x=\"368.271459\" xlink:href=\"#mcdbc1fd6eb\" y=\"224.64\"/>\r\n      </g>\r\n     </g>\r\n     <g id=\"text_6\">\r\n      <!-- 1.0 -->\r\n      <defs>\r\n       <path d=\"M 12.40625 8.296875 \r\nL 28.515625 8.296875 \r\nL 28.515625 63.921875 \r\nL 10.984375 60.40625 \r\nL 10.984375 69.390625 \r\nL 28.421875 72.90625 \r\nL 38.28125 72.90625 \r\nL 38.28125 8.296875 \r\nL 54.390625 8.296875 \r\nL 54.390625 0 \r\nL 12.40625 0 \r\nz\r\n\" id=\"DejaVuSans-49\"/>\r\n      </defs>\r\n      <g transform=\"translate(360.319896 239.238437)scale(0.1 -0.1)\">\r\n       <use xlink:href=\"#DejaVuSans-49\"/>\r\n       <use x=\"63.623047\" xlink:href=\"#DejaVuSans-46\"/>\r\n       <use x=\"95.410156\" xlink:href=\"#DejaVuSans-48\"/>\r\n      </g>\r\n     </g>\r\n    </g>\r\n    <g id=\"text_7\">\r\n     <!-- Function 1 -->\r\n     <defs>\r\n      <path d=\"M 9.8125 72.90625 \r\nL 51.703125 72.90625 \r\nL 51.703125 64.59375 \r\nL 19.671875 64.59375 \r\nL 19.671875 43.109375 \r\nL 48.578125 43.109375 \r\nL 48.578125 34.8125 \r\nL 19.671875 34.8125 \r\nL 19.671875 0 \r\nL 9.8125 0 \r\nz\r\n\" id=\"DejaVuSans-70\"/>\r\n      <path d=\"M 8.5 21.578125 \r\nL 8.5 54.6875 \r\nL 17.484375 54.6875 \r\nL 17.484375 21.921875 \r\nQ 17.484375 14.15625 20.5 10.265625 \r\nQ 23.53125 6.390625 29.59375 6.390625 \r\nQ 36.859375 6.390625 41.078125 11.03125 \r\nQ 45.3125 15.671875 45.3125 23.6875 \r\nL 45.3125 54.6875 \r\nL 54.296875 54.6875 \r\nL 54.296875 0 \r\nL 45.3125 0 \r\nL 45.3125 8.40625 \r\nQ 42.046875 3.421875 37.71875 1 \r\nQ 33.40625 -1.421875 27.6875 -1.421875 \r\nQ 18.265625 -1.421875 13.375 4.4375 \r\nQ 8.5 10.296875 8.5 21.578125 \r\nz\r\nM 31.109375 56 \r\nz\r\n\" id=\"DejaVuSans-117\"/>\r\n      <path d=\"M 54.890625 33.015625 \r\nL 54.890625 0 \r\nL 45.90625 0 \r\nL 45.90625 32.71875 \r\nQ 45.90625 40.484375 42.875 44.328125 \r\nQ 39.84375 48.1875 33.796875 48.1875 \r\nQ 26.515625 48.1875 22.3125 43.546875 \r\nQ 18.109375 38.921875 18.109375 30.90625 \r\nL 18.109375 0 \r\nL 9.078125 0 \r\nL 9.078125 54.6875 \r\nL 18.109375 54.6875 \r\nL 18.109375 46.1875 \r\nQ 21.34375 51.125 25.703125 53.5625 \r\nQ 30.078125 56 35.796875 56 \r\nQ 45.21875 56 50.046875 50.171875 \r\nQ 54.890625 44.34375 54.890625 33.015625 \r\nz\r\n\" id=\"DejaVuSans-110\"/>\r\n      <path d=\"M 48.78125 52.59375 \r\nL 48.78125 44.1875 \r\nQ 44.96875 46.296875 41.140625 47.34375 \r\nQ 37.3125 48.390625 33.40625 48.390625 \r\nQ 24.65625 48.390625 19.8125 42.84375 \r\nQ 14.984375 37.3125 14.984375 27.296875 \r\nQ 14.984375 17.28125 19.8125 11.734375 \r\nQ 24.65625 6.203125 33.40625 6.203125 \r\nQ 37.3125 6.203125 41.140625 7.25 \r\nQ 44.96875 8.296875 48.78125 10.40625 \r\nL 48.78125 2.09375 \r\nQ 45.015625 0.34375 40.984375 -0.53125 \r\nQ 36.96875 -1.421875 32.421875 -1.421875 \r\nQ 20.0625 -1.421875 12.78125 6.34375 \r\nQ 5.515625 14.109375 5.515625 27.296875 \r\nQ 5.515625 40.671875 12.859375 48.328125 \r\nQ 20.21875 56 33.015625 56 \r\nQ 37.15625 56 41.109375 55.140625 \r\nQ 45.0625 54.296875 48.78125 52.59375 \r\nz\r\n\" id=\"DejaVuSans-99\"/>\r\n      <path d=\"M 18.3125 70.21875 \r\nL 18.3125 54.6875 \r\nL 36.8125 54.6875 \r\nL 36.8125 47.703125 \r\nL 18.3125 47.703125 \r\nL 18.3125 18.015625 \r\nQ 18.3125 11.328125 20.140625 9.421875 \r\nQ 21.96875 7.515625 27.59375 7.515625 \r\nL 36.8125 7.515625 \r\nL 36.8125 0 \r\nL 27.59375 0 \r\nQ 17.1875 0 13.234375 3.875 \r\nQ 9.28125 7.765625 9.28125 18.015625 \r\nL 9.28125 47.703125 \r\nL 2.6875 47.703125 \r\nL 2.6875 54.6875 \r\nL 9.28125 54.6875 \r\nL 9.28125 70.21875 \r\nz\r\n\" id=\"DejaVuSans-116\"/>\r\n      <path d=\"M 9.421875 54.6875 \r\nL 18.40625 54.6875 \r\nL 18.40625 0 \r\nL 9.421875 0 \r\nz\r\nM 9.421875 75.984375 \r\nL 18.40625 75.984375 \r\nL 18.40625 64.59375 \r\nL 9.421875 64.59375 \r\nz\r\n\" id=\"DejaVuSans-105\"/>\r\n      <path d=\"M 30.609375 48.390625 \r\nQ 23.390625 48.390625 19.1875 42.75 \r\nQ 14.984375 37.109375 14.984375 27.296875 \r\nQ 14.984375 17.484375 19.15625 11.84375 \r\nQ 23.34375 6.203125 30.609375 6.203125 \r\nQ 37.796875 6.203125 41.984375 11.859375 \r\nQ 46.1875 17.53125 46.1875 27.296875 \r\nQ 46.1875 37.015625 41.984375 42.703125 \r\nQ 37.796875 48.390625 30.609375 48.390625 \r\nz\r\nM 30.609375 56 \r\nQ 42.328125 56 49.015625 48.375 \r\nQ 55.71875 40.765625 55.71875 27.296875 \r\nQ 55.71875 13.875 49.015625 6.21875 \r\nQ 42.328125 -1.421875 30.609375 -1.421875 \r\nQ 18.84375 -1.421875 12.171875 6.21875 \r\nQ 5.515625 13.875 5.515625 27.296875 \r\nQ 5.515625 40.765625 12.171875 48.375 \r\nQ 18.84375 56 30.609375 56 \r\nz\r\n\" id=\"DejaVuSans-111\"/>\r\n      <path id=\"DejaVuSans-32\"/>\r\n     </defs>\r\n     <g transform=\"translate(176.967578 256.715781)scale(0.15 -0.15)\">\r\n      <use xlink:href=\"#DejaVuSans-70\"/>\r\n      <use x=\"52.019531\" xlink:href=\"#DejaVuSans-117\"/>\r\n      <use x=\"115.398438\" xlink:href=\"#DejaVuSans-110\"/>\r\n      <use x=\"178.777344\" xlink:href=\"#DejaVuSans-99\"/>\r\n      <use x=\"233.757812\" xlink:href=\"#DejaVuSans-116\"/>\r\n      <use x=\"272.966797\" xlink:href=\"#DejaVuSans-105\"/>\r\n      <use x=\"300.75\" xlink:href=\"#DejaVuSans-111\"/>\r\n      <use x=\"361.931641\" xlink:href=\"#DejaVuSans-110\"/>\r\n      <use x=\"425.310547\" xlink:href=\"#DejaVuSans-32\"/>\r\n      <use x=\"457.097656\" xlink:href=\"#DejaVuSans-49\"/>\r\n     </g>\r\n    </g>\r\n   </g>\r\n   <g id=\"matplotlib.axis_2\">\r\n    <g id=\"ytick_1\">\r\n     <g id=\"line2d_7\">\r\n      <defs>\r\n       <path d=\"M 0 0 \r\nL -3.5 0 \r\n\" id=\"ma090a8d73f\" style=\"stroke:#000000;stroke-width:0.8;\"/>\r\n      </defs>\r\n      <g>\r\n       <use style=\"stroke:#000000;stroke-width:0.8;\" x=\"48.620313\" xlink:href=\"#ma090a8d73f\" y=\"214.98713\"/>\r\n      </g>\r\n     </g>\r\n     <g id=\"text_8\">\r\n      <!-- 0.0 -->\r\n      <g transform=\"translate(25.717188 218.786349)scale(0.1 -0.1)\">\r\n       <use xlink:href=\"#DejaVuSans-48\"/>\r\n       <use x=\"63.623047\" xlink:href=\"#DejaVuSans-46\"/>\r\n       <use x=\"95.410156\" xlink:href=\"#DejaVuSans-48\"/>\r\n      </g>\r\n     </g>\r\n    </g>\r\n    <g id=\"ytick_2\">\r\n     <g id=\"line2d_8\">\r\n      <g>\r\n       <use style=\"stroke:#000000;stroke-width:0.8;\" x=\"48.620313\" xlink:href=\"#ma090a8d73f\" y=\"175.24407\"/>\r\n      </g>\r\n     </g>\r\n     <g id=\"text_9\">\r\n      <!-- 0.2 -->\r\n      <g transform=\"translate(25.717188 179.043289)scale(0.1 -0.1)\">\r\n       <use xlink:href=\"#DejaVuSans-48\"/>\r\n       <use x=\"63.623047\" xlink:href=\"#DejaVuSans-46\"/>\r\n       <use x=\"95.410156\" xlink:href=\"#DejaVuSans-50\"/>\r\n      </g>\r\n     </g>\r\n    </g>\r\n    <g id=\"ytick_3\">\r\n     <g id=\"line2d_9\">\r\n      <g>\r\n       <use style=\"stroke:#000000;stroke-width:0.8;\" x=\"48.620313\" xlink:href=\"#ma090a8d73f\" y=\"135.50101\"/>\r\n      </g>\r\n     </g>\r\n     <g id=\"text_10\">\r\n      <!-- 0.4 -->\r\n      <g transform=\"translate(25.717188 139.300228)scale(0.1 -0.1)\">\r\n       <use xlink:href=\"#DejaVuSans-48\"/>\r\n       <use x=\"63.623047\" xlink:href=\"#DejaVuSans-46\"/>\r\n       <use x=\"95.410156\" xlink:href=\"#DejaVuSans-52\"/>\r\n      </g>\r\n     </g>\r\n    </g>\r\n    <g id=\"ytick_4\">\r\n     <g id=\"line2d_10\">\r\n      <g>\r\n       <use style=\"stroke:#000000;stroke-width:0.8;\" x=\"48.620313\" xlink:href=\"#ma090a8d73f\" y=\"95.757949\"/>\r\n      </g>\r\n     </g>\r\n     <g id=\"text_11\">\r\n      <!-- 0.6 -->\r\n      <g transform=\"translate(25.717188 99.557168)scale(0.1 -0.1)\">\r\n       <use xlink:href=\"#DejaVuSans-48\"/>\r\n       <use x=\"63.623047\" xlink:href=\"#DejaVuSans-46\"/>\r\n       <use x=\"95.410156\" xlink:href=\"#DejaVuSans-54\"/>\r\n      </g>\r\n     </g>\r\n    </g>\r\n    <g id=\"ytick_5\">\r\n     <g id=\"line2d_11\">\r\n      <g>\r\n       <use style=\"stroke:#000000;stroke-width:0.8;\" x=\"48.620313\" xlink:href=\"#ma090a8d73f\" y=\"56.014889\"/>\r\n      </g>\r\n     </g>\r\n     <g id=\"text_12\">\r\n      <!-- 0.8 -->\r\n      <g transform=\"translate(25.717188 59.814108)scale(0.1 -0.1)\">\r\n       <use xlink:href=\"#DejaVuSans-48\"/>\r\n       <use x=\"63.623047\" xlink:href=\"#DejaVuSans-46\"/>\r\n       <use x=\"95.410156\" xlink:href=\"#DejaVuSans-56\"/>\r\n      </g>\r\n     </g>\r\n    </g>\r\n    <g id=\"ytick_6\">\r\n     <g id=\"line2d_12\">\r\n      <g>\r\n       <use style=\"stroke:#000000;stroke-width:0.8;\" x=\"48.620313\" xlink:href=\"#ma090a8d73f\" y=\"16.271828\"/>\r\n      </g>\r\n     </g>\r\n     <g id=\"text_13\">\r\n      <!-- 1.0 -->\r\n      <g transform=\"translate(25.717188 20.071047)scale(0.1 -0.1)\">\r\n       <use xlink:href=\"#DejaVuSans-49\"/>\r\n       <use x=\"63.623047\" xlink:href=\"#DejaVuSans-46\"/>\r\n       <use x=\"95.410156\" xlink:href=\"#DejaVuSans-48\"/>\r\n      </g>\r\n     </g>\r\n    </g>\r\n    <g id=\"text_14\">\r\n     <!-- Function 2 -->\r\n     <g transform=\"translate(18.597656 154.972734)rotate(-90)scale(0.15 -0.15)\">\r\n      <use xlink:href=\"#DejaVuSans-70\"/>\r\n      <use x=\"52.019531\" xlink:href=\"#DejaVuSans-117\"/>\r\n      <use x=\"115.398438\" xlink:href=\"#DejaVuSans-110\"/>\r\n      <use x=\"178.777344\" xlink:href=\"#DejaVuSans-99\"/>\r\n      <use x=\"233.757812\" xlink:href=\"#DejaVuSans-116\"/>\r\n      <use x=\"272.966797\" xlink:href=\"#DejaVuSans-105\"/>\r\n      <use x=\"300.75\" xlink:href=\"#DejaVuSans-111\"/>\r\n      <use x=\"361.931641\" xlink:href=\"#DejaVuSans-110\"/>\r\n      <use x=\"425.310547\" xlink:href=\"#DejaVuSans-32\"/>\r\n      <use x=\"457.097656\" xlink:href=\"#DejaVuSans-50\"/>\r\n     </g>\r\n    </g>\r\n   </g>\r\n   <g id=\"patch_3\">\r\n    <path d=\"M 48.620313 224.64 \r\nL 48.620313 7.2 \r\n\" style=\"fill:none;stroke:#000000;stroke-linecap:square;stroke-linejoin:miter;stroke-width:0.8;\"/>\r\n   </g>\r\n   <g id=\"patch_4\">\r\n    <path d=\"M 383.420313 224.64 \r\nL 383.420313 7.2 \r\n\" style=\"fill:none;stroke:#000000;stroke-linecap:square;stroke-linejoin:miter;stroke-width:0.8;\"/>\r\n   </g>\r\n   <g id=\"patch_5\">\r\n    <path d=\"M 48.620313 224.64 \r\nL 383.420312 224.64 \r\n\" style=\"fill:none;stroke:#000000;stroke-linecap:square;stroke-linejoin:miter;stroke-width:0.8;\"/>\r\n   </g>\r\n   <g id=\"patch_6\">\r\n    <path d=\"M 48.620313 7.2 \r\nL 383.420312 7.2 \r\n\" style=\"fill:none;stroke:#000000;stroke-linecap:square;stroke-linejoin:miter;stroke-width:0.8;\"/>\r\n   </g>\r\n  </g>\r\n </g>\r\n <defs>\r\n  <clipPath id=\"pf3f6138dcc\">\r\n   <rect height=\"217.44\" width=\"334.8\" x=\"48.620313\" y=\"7.2\"/>\r\n  </clipPath>\r\n </defs>\r\n</svg>\r\n",
      "image/png": "[encoded data removed]"
     },
     "metadata": {
      "needs_background": "light"
     }
    }
   ],
   "source": [
    "# sebelum \n",
    "plt.xlabel('Function 1', fontsize=15)\n",
    "plt.ylabel('Function 2', fontsize=15)\n",
    "plt.scatter(v1, v2)\n",
    "plt.show()"
   ]
  },
  {
   "cell_type": "code",
   "execution_count": 109,
   "metadata": {},
   "outputs": [],
   "source": [
    "def fast_non_dominated_sort(values1, values2):\n",
    "    S=[[] for i in range(0,len(values1))]\n",
    "    front = [[]]\n",
    "    n=[0 for i in range(0,len(values1))]\n",
    "    rank = [0 for i in range(0, len(values1))]\n",
    "\n",
    "    for p in range(0,len(values1)):\n",
    "        S[p]=[]\n",
    "        n[p]=0\n",
    "        for q in range(0, len(values1)):\n",
    "            if (values1[p] > values1[q] and values2[p] > values2[q]) or (values1[p] >= values1[q] and values2[p] > values2[q]) or (values1[p] > values1[q] and values2[p] >= values2[q]):\n",
    "                if q not in S[p]:\n",
    "                    S[p].append(q)\n",
    "            elif (values1[q] > values1[p] and values2[q] > values2[p]) or (values1[q] >= values1[p] and values2[q] > values2[p]) or (values1[q] > values1[p] and values2[q] >= values2[p]):\n",
    "                n[p] = n[p] + 1\n",
    "        if n[p]==0:\n",
    "            rank[p] = 0\n",
    "            if p not in front[0]:\n",
    "                front[0].append(p)\n",
    "\n",
    "    i = 0\n",
    "    while(front[i] != []):\n",
    "        Q=[]\n",
    "        for p in front[i]:\n",
    "            for q in S[p]:\n",
    "                n[q] =n[q] - 1\n",
    "                if( n[q]==0):\n",
    "                    rank[q]=i+1\n",
    "                    if q not in Q:\n",
    "                        Q.append(q)\n",
    "        i = i+1\n",
    "        front.append(Q)\n",
    "\n",
    "    del front[len(front)-1]\n",
    "    return front\n"
   ]
  },
  {
   "cell_type": "code",
   "execution_count": 110,
   "metadata": {},
   "outputs": [
    {
     "output_type": "stream",
     "name": "stdout",
     "text": "500\n"
    },
    {
     "output_type": "display_data",
     "data": {
      "text/plain": "<Figure size 432x288 with 1 Axes>",
      "image/svg+xml": "<?xml version=\"1.0\" encoding=\"utf-8\" standalone=\"no\"?>\r\n<!DOCTYPE svg PUBLIC \"-//W3C//DTD SVG 1.1//EN\"\r\n  \"http://www.w3.org/Graphics/SVG/1.1/DTD/svg11.dtd\">\r\n<!-- Created with matplotlib (https://matplotlib.org/) -->\r\n<svg height=\"267.035312pt\" version=\"1.1\" viewBox=\"0 0 390.620313 267.035312\" width=\"390.620313pt\" xmlns=\"http://www.w3.org/2000/svg\" xmlns:xlink=\"http://www.w3.org/1999/xlink\">\r\n <defs>\r\n  <style type=\"text/css\">\r\n*{stroke-linecap:butt;stroke-linejoin:round;}\r\n  </style>\r\n </defs>\r\n <g id=\"figure_1\">\r\n  <g id=\"patch_1\">\r\n   <path d=\"M 0 267.035312 \r\nL 390.620313 267.035312 \r\nL 390.620313 0 \r\nL 0 0 \r\nz\r\n\" style=\"fill:none;\"/>\r\n  </g>\r\n  <g id=\"axes_1\">\r\n   <g id=\"patch_2\">\r\n    <path d=\"M 48.620313 224.64 \r\nL 383.420313 224.64 \r\nL 383.420313 7.2 \r\nL 48.620313 7.2 \r\nz\r\n\" style=\"fill:#ffffff;\"/>\r\n   </g>\r\n   <g id=\"PathCollection_1\">\r\n    <defs>\r\n     <path d=\"M 0 3 \r\nC 0.795609 3 1.55874 2.683901 2.12132 2.12132 \r\nC 2.683901 1.55874 3 0.795609 3 0 \r\nC 3 -0.795609 2.683901 -1.55874 2.12132 -2.12132 \r\nC 1.55874 -2.683901 0.795609 -3 0 -3 \r\nC -0.795609 -3 -1.55874 -2.683901 -2.12132 -2.12132 \r\nC -2.683901 -1.55874 -3 -0.795609 -3 0 \r\nC -3 0.795609 -2.683901 1.55874 -2.12132 2.12132 \r\nC -1.55874 2.683901 -0.795609 3 0 3 \r\nz\r\n\" id=\"m9777a1799c\" style=\"stroke:#1f77b4;\"/>\r\n    </defs>\r\n    <g clip-path=\"url(#pa4ceb5be92)\">\r\n     <use style=\"fill:#1f77b4;stroke:#1f77b4;\" x=\"368.202131\" xlink:href=\"#m9777a1799c\" y=\"198.991354\"/>\r\n     <use style=\"fill:#1f77b4;stroke:#1f77b4;\" x=\"363.071883\" xlink:href=\"#m9777a1799c\" y=\"20.43484\"/>\r\n     <use style=\"fill:#1f77b4;stroke:#1f77b4;\" x=\"368.103446\" xlink:href=\"#m9777a1799c\" y=\"51.224521\"/>\r\n     <use style=\"fill:#1f77b4;stroke:#1f77b4;\" x=\"363.749852\" xlink:href=\"#m9777a1799c\" y=\"48.653776\"/>\r\n     <use style=\"fill:#1f77b4;stroke:#1f77b4;\" x=\"351.21758\" xlink:href=\"#m9777a1799c\" y=\"18.592472\"/>\r\n     <use style=\"fill:#1f77b4;stroke:#1f77b4;\" x=\"297.257216\" xlink:href=\"#m9777a1799c\" y=\"17.083636\"/>\r\n     <use style=\"fill:#1f77b4;stroke:#1f77b4;\" x=\"363.684936\" xlink:href=\"#m9777a1799c\" y=\"31.149868\"/>\r\n     <use style=\"fill:#1f77b4;stroke:#1f77b4;\" x=\"362.154573\" xlink:href=\"#m9777a1799c\" y=\"26.588544\"/>\r\n     <use style=\"fill:#1f77b4;stroke:#1f77b4;\" x=\"366.349694\" xlink:href=\"#m9777a1799c\" y=\"72.462809\"/>\r\n     <use style=\"fill:#1f77b4;stroke:#1f77b4;\" x=\"366.60952\" xlink:href=\"#m9777a1799c\" y=\"128.240074\"/>\r\n     <use style=\"fill:#1f77b4;stroke:#1f77b4;\" x=\"341.560108\" xlink:href=\"#m9777a1799c\" y=\"19.714143\"/>\r\n     <use style=\"fill:#1f77b4;stroke:#1f77b4;\" x=\"304.836721\" xlink:href=\"#m9777a1799c\" y=\"19.023684\"/>\r\n     <use style=\"fill:#1f77b4;stroke:#1f77b4;\" x=\"331.439114\" xlink:href=\"#m9777a1799c\" y=\"19.342523\"/>\r\n     <use style=\"fill:#1f77b4;stroke:#1f77b4;\" x=\"87.31164\" xlink:href=\"#m9777a1799c\" y=\"17.092031\"/>\r\n     <use style=\"fill:#1f77b4;stroke:#1f77b4;\" x=\"169.783097\" xlink:href=\"#m9777a1799c\" y=\"18.526702\"/>\r\n     <use style=\"fill:#1f77b4;stroke:#1f77b4;\" x=\"348.932339\" xlink:href=\"#m9777a1799c\" y=\"31.273408\"/>\r\n     <use style=\"fill:#1f77b4;stroke:#1f77b4;\" x=\"360.55499\" xlink:href=\"#m9777a1799c\" y=\"36.528098\"/>\r\n     <use style=\"fill:#1f77b4;stroke:#1f77b4;\" x=\"354.079575\" xlink:href=\"#m9777a1799c\" y=\"36.444499\"/>\r\n     <use style=\"fill:#1f77b4;stroke:#1f77b4;\" x=\"366.02113\" xlink:href=\"#m9777a1799c\" y=\"84.839144\"/>\r\n     <use style=\"fill:#1f77b4;stroke:#1f77b4;\" x=\"366.609359\" xlink:href=\"#m9777a1799c\" y=\"201.967682\"/>\r\n     <use style=\"fill:#1f77b4;stroke:#1f77b4;\" x=\"337.488863\" xlink:href=\"#m9777a1799c\" y=\"19.967704\"/>\r\n     <use style=\"fill:#1f77b4;stroke:#1f77b4;\" x=\"164.043531\" xlink:href=\"#m9777a1799c\" y=\"19.029448\"/>\r\n     <use style=\"fill:#1f77b4;stroke:#1f77b4;\" x=\"337.95594\" xlink:href=\"#m9777a1799c\" y=\"31.368395\"/>\r\n     <use style=\"fill:#1f77b4;stroke:#1f77b4;\" x=\"360.342955\" xlink:href=\"#m9777a1799c\" y=\"62.742256\"/>\r\n     <use style=\"fill:#1f77b4;stroke:#1f77b4;\" x=\"355.134871\" xlink:href=\"#m9777a1799c\" y=\"45.441751\"/>\r\n     <use style=\"fill:#1f77b4;stroke:#1f77b4;\" x=\"338.340216\" xlink:href=\"#m9777a1799c\" y=\"39.59473\"/>\r\n     <use style=\"fill:#1f77b4;stroke:#1f77b4;\" x=\"352.267008\" xlink:href=\"#m9777a1799c\" y=\"43.246234\"/>\r\n     <use style=\"fill:#1f77b4;stroke:#1f77b4;\" x=\"365.882424\" xlink:href=\"#m9777a1799c\" y=\"99.245421\"/>\r\n     <use style=\"fill:#1f77b4;stroke:#1f77b4;\" x=\"365.854981\" xlink:href=\"#m9777a1799c\" y=\"86.541485\"/>\r\n     <use style=\"fill:#1f77b4;stroke:#1f77b4;\" x=\"365.95451\" xlink:href=\"#m9777a1799c\" y=\"175.456656\"/>\r\n     <use style=\"fill:#1f77b4;stroke:#1f77b4;\" x=\"365.931787\" xlink:href=\"#m9777a1799c\" y=\"99.527363\"/>\r\n     <use style=\"fill:#1f77b4;stroke:#1f77b4;\" x=\"230.576682\" xlink:href=\"#m9777a1799c\" y=\"19.985703\"/>\r\n     <use style=\"fill:#1f77b4;stroke:#1f77b4;\" x=\"331.124629\" xlink:href=\"#m9777a1799c\" y=\"21.105448\"/>\r\n     <use style=\"fill:#1f77b4;stroke:#1f77b4;\" x=\"97.982142\" xlink:href=\"#m9777a1799c\" y=\"19.391291\"/>\r\n     <use style=\"fill:#1f77b4;stroke:#1f77b4;\" x=\"359.97913\" xlink:href=\"#m9777a1799c\" y=\"73.284808\"/>\r\n     <use style=\"fill:#1f77b4;stroke:#1f77b4;\" x=\"354.716392\" xlink:href=\"#m9777a1799c\" y=\"67.741868\"/>\r\n     <use style=\"fill:#1f77b4;stroke:#1f77b4;\" x=\"349.573899\" xlink:href=\"#m9777a1799c\" y=\"46.727333\"/>\r\n     <use style=\"fill:#1f77b4;stroke:#1f77b4;\" x=\"351.305743\" xlink:href=\"#m9777a1799c\" y=\"51.670332\"/>\r\n     <use style=\"fill:#1f77b4;stroke:#1f77b4;\" x=\"363.419639\" xlink:href=\"#m9777a1799c\" y=\"97.57078\"/>\r\n     <use style=\"fill:#1f77b4;stroke:#1f77b4;\" x=\"364.787593\" xlink:href=\"#m9777a1799c\" y=\"98.516069\"/>\r\n     <use style=\"fill:#1f77b4;stroke:#1f77b4;\" x=\"361.858017\" xlink:href=\"#m9777a1799c\" y=\"88.345656\"/>\r\n     <use style=\"fill:#1f77b4;stroke:#1f77b4;\" x=\"365.374871\" xlink:href=\"#m9777a1799c\" y=\"184.587694\"/>\r\n     <use style=\"fill:#1f77b4;stroke:#1f77b4;\" x=\"224.326593\" xlink:href=\"#m9777a1799c\" y=\"20.994827\"/>\r\n     <use style=\"fill:#1f77b4;stroke:#1f77b4;\" x=\"169.388217\" xlink:href=\"#m9777a1799c\" y=\"20.804679\"/>\r\n     <use style=\"fill:#1f77b4;stroke:#1f77b4;\" x=\"155.48787\" xlink:href=\"#m9777a1799c\" y=\"20.185366\"/>\r\n     <use style=\"fill:#1f77b4;stroke:#1f77b4;\" x=\"329.494025\" xlink:href=\"#m9777a1799c\" y=\"22.191916\"/>\r\n     <use style=\"fill:#1f77b4;stroke:#1f77b4;\" x=\"330.325237\" xlink:href=\"#m9777a1799c\" y=\"38.313467\"/>\r\n     <use style=\"fill:#1f77b4;stroke:#1f77b4;\" x=\"330.582437\" xlink:href=\"#m9777a1799c\" y=\"40.764966\"/>\r\n     <use style=\"fill:#1f77b4;stroke:#1f77b4;\" x=\"304.544606\" xlink:href=\"#m9777a1799c\" y=\"21.805662\"/>\r\n     <use style=\"fill:#1f77b4;stroke:#1f77b4;\" x=\"359.409111\" xlink:href=\"#m9777a1799c\" y=\"74.391917\"/>\r\n     <use style=\"fill:#1f77b4;stroke:#1f77b4;\" x=\"347.320764\" xlink:href=\"#m9777a1799c\" y=\"48.677225\"/>\r\n     <use style=\"fill:#1f77b4;stroke:#1f77b4;\" x=\"347.967133\" xlink:href=\"#m9777a1799c\" y=\"63.073574\"/>\r\n     <use style=\"fill:#1f77b4;stroke:#1f77b4;\" x=\"364.593925\" xlink:href=\"#m9777a1799c\" y=\"165.905527\"/>\r\n     <use style=\"fill:#1f77b4;stroke:#1f77b4;\" x=\"363.349223\" xlink:href=\"#m9777a1799c\" y=\"101.144122\"/>\r\n     <use style=\"fill:#1f77b4;stroke:#1f77b4;\" x=\"364.778576\" xlink:href=\"#m9777a1799c\" y=\"196.541453\"/>\r\n     <use style=\"fill:#1f77b4;stroke:#1f77b4;\" x=\"177.507941\" xlink:href=\"#m9777a1799c\" y=\"21.305319\"/>\r\n     <use style=\"fill:#1f77b4;stroke:#1f77b4;\" x=\"102.96872\" xlink:href=\"#m9777a1799c\" y=\"20.345634\"/>\r\n     <use style=\"fill:#1f77b4;stroke:#1f77b4;\" x=\"316.48897\" xlink:href=\"#m9777a1799c\" y=\"22.812009\"/>\r\n     <use style=\"fill:#1f77b4;stroke:#1f77b4;\" x=\"323.600546\" xlink:href=\"#m9777a1799c\" y=\"34.108937\"/>\r\n     <use style=\"fill:#1f77b4;stroke:#1f77b4;\" x=\"323.94844\" xlink:href=\"#m9777a1799c\" y=\"47.90914\"/>\r\n     <use style=\"fill:#1f77b4;stroke:#1f77b4;\" x=\"326.598435\" xlink:href=\"#m9777a1799c\" y=\"48.324758\"/>\r\n     <use style=\"fill:#1f77b4;stroke:#1f77b4;\" x=\"261.055499\" xlink:href=\"#m9777a1799c\" y=\"22.094916\"/>\r\n     <use style=\"fill:#1f77b4;stroke:#1f77b4;\" x=\"358.420402\" xlink:href=\"#m9777a1799c\" y=\"96.147167\"/>\r\n     <use style=\"fill:#1f77b4;stroke:#1f77b4;\" x=\"352.395257\" xlink:href=\"#m9777a1799c\" y=\"83.7672\"/>\r\n     <use style=\"fill:#1f77b4;stroke:#1f77b4;\" x=\"357.038417\" xlink:href=\"#m9777a1799c\" y=\"92.123412\"/>\r\n     <use style=\"fill:#1f77b4;stroke:#1f77b4;\" x=\"351.740911\" xlink:href=\"#m9777a1799c\" y=\"75.837218\"/>\r\n     <use style=\"fill:#1f77b4;stroke:#1f77b4;\" x=\"339.312703\" xlink:href=\"#m9777a1799c\" y=\"58.48671\"/>\r\n     <use style=\"fill:#1f77b4;stroke:#1f77b4;\" x=\"338.442667\" xlink:href=\"#m9777a1799c\" y=\"54.375583\"/>\r\n     <use style=\"fill:#1f77b4;stroke:#1f77b4;\" x=\"327.442265\" xlink:href=\"#m9777a1799c\" y=\"50.59336\"/>\r\n     <use style=\"fill:#1f77b4;stroke:#1f77b4;\" x=\"328.482815\" xlink:href=\"#m9777a1799c\" y=\"51.189582\"/>\r\n     <use style=\"fill:#1f77b4;stroke:#1f77b4;\" x=\"343.724783\" xlink:href=\"#m9777a1799c\" y=\"64.259078\"/>\r\n     <use style=\"fill:#1f77b4;stroke:#1f77b4;\" x=\"363.41845\" xlink:href=\"#m9777a1799c\" y=\"190.922289\"/>\r\n     <use style=\"fill:#1f77b4;stroke:#1f77b4;\" x=\"362.846024\" xlink:href=\"#m9777a1799c\" y=\"123.092477\"/>\r\n     <use style=\"fill:#1f77b4;stroke:#1f77b4;\" x=\"360.880147\" xlink:href=\"#m9777a1799c\" y=\"104.232666\"/>\r\n     <use style=\"fill:#1f77b4;stroke:#1f77b4;\" x=\"363.021352\" xlink:href=\"#m9777a1799c\" y=\"171.274092\"/>\r\n     <use style=\"fill:#1f77b4;stroke:#1f77b4;\" x=\"313.448429\" xlink:href=\"#m9777a1799c\" y=\"24.594446\"/>\r\n     <use style=\"fill:#1f77b4;stroke:#1f77b4;\" x=\"322.636425\" xlink:href=\"#m9777a1799c\" y=\"36.650487\"/>\r\n     <use style=\"fill:#1f77b4;stroke:#1f77b4;\" x=\"259.956253\" xlink:href=\"#m9777a1799c\" y=\"22.232086\"/>\r\n     <use style=\"fill:#1f77b4;stroke:#1f77b4;\" x=\"351.77157\" xlink:href=\"#m9777a1799c\" y=\"85.588216\"/>\r\n     <use style=\"fill:#1f77b4;stroke:#1f77b4;\" x=\"352.193013\" xlink:href=\"#m9777a1799c\" y=\"96.30734\"/>\r\n     <use style=\"fill:#1f77b4;stroke:#1f77b4;\" x=\"348.68206\" xlink:href=\"#m9777a1799c\" y=\"76.022324\"/>\r\n     <use style=\"fill:#1f77b4;stroke:#1f77b4;\" x=\"330.329778\" xlink:href=\"#m9777a1799c\" y=\"59.582513\"/>\r\n     <use style=\"fill:#1f77b4;stroke:#1f77b4;\" x=\"332.2603\" xlink:href=\"#m9777a1799c\" y=\"59.883777\"/>\r\n     <use style=\"fill:#1f77b4;stroke:#1f77b4;\" x=\"334.422642\" xlink:href=\"#m9777a1799c\" y=\"62.075667\"/>\r\n     <use style=\"fill:#1f77b4;stroke:#1f77b4;\" x=\"326.59441\" xlink:href=\"#m9777a1799c\" y=\"55.283089\"/>\r\n     <use style=\"fill:#1f77b4;stroke:#1f77b4;\" x=\"326.358592\" xlink:href=\"#m9777a1799c\" y=\"53.456657\"/>\r\n     <use style=\"fill:#1f77b4;stroke:#1f77b4;\" x=\"338.933962\" xlink:href=\"#m9777a1799c\" y=\"68.124068\"/>\r\n     <use style=\"fill:#1f77b4;stroke:#1f77b4;\" x=\"343.497169\" xlink:href=\"#m9777a1799c\" y=\"74.694665\"/>\r\n     <use style=\"fill:#1f77b4;stroke:#1f77b4;\" x=\"354.477114\" xlink:href=\"#m9777a1799c\" y=\"108.771946\"/>\r\n     <use style=\"fill:#1f77b4;stroke:#1f77b4;\" x=\"359.516687\" xlink:href=\"#m9777a1799c\" y=\"111.157816\"/>\r\n     <use style=\"fill:#1f77b4;stroke:#1f77b4;\" x=\"362.063857\" xlink:href=\"#m9777a1799c\" y=\"192.587197\"/>\r\n     <use style=\"fill:#1f77b4;stroke:#1f77b4;\" x=\"311.8642\" xlink:href=\"#m9777a1799c\" y=\"34.69217\"/>\r\n     <use style=\"fill:#1f77b4;stroke:#1f77b4;\" x=\"310.935856\" xlink:href=\"#m9777a1799c\" y=\"28.808941\"/>\r\n     <use style=\"fill:#1f77b4;stroke:#1f77b4;\" x=\"308.255414\" xlink:href=\"#m9777a1799c\" y=\"26.832286\"/>\r\n     <use style=\"fill:#1f77b4;stroke:#1f77b4;\" x=\"281.136054\" xlink:href=\"#m9777a1799c\" y=\"26.599646\"/>\r\n     <use style=\"fill:#1f77b4;stroke:#1f77b4;\" x=\"318.465282\" xlink:href=\"#m9777a1799c\" y=\"45.531119\"/>\r\n     <use style=\"fill:#1f77b4;stroke:#1f77b4;\" x=\"317.419806\" xlink:href=\"#m9777a1799c\" y=\"40.955658\"/>\r\n     <use style=\"fill:#1f77b4;stroke:#1f77b4;\" x=\"249.822528\" xlink:href=\"#m9777a1799c\" y=\"23.302891\"/>\r\n     <use style=\"fill:#1f77b4;stroke:#1f77b4;\" x=\"67.468588\" xlink:href=\"#m9777a1799c\" y=\"22.32106\"/>\r\n     <use style=\"fill:#1f77b4;stroke:#1f77b4;\" x=\"98.361052\" xlink:href=\"#m9777a1799c\" y=\"22.526257\"/>\r\n     <use style=\"fill:#1f77b4;stroke:#1f77b4;\" x=\"125.894412\" xlink:href=\"#m9777a1799c\" y=\"22.956866\"/>\r\n     <use style=\"fill:#1f77b4;stroke:#1f77b4;\" x=\"349.262254\" xlink:href=\"#m9777a1799c\" y=\"87.478204\"/>\r\n     <use style=\"fill:#1f77b4;stroke:#1f77b4;\" x=\"351.761017\" xlink:href=\"#m9777a1799c\" y=\"89.517757\"/>\r\n     <use style=\"fill:#1f77b4;stroke:#1f77b4;\" x=\"346.460467\" xlink:href=\"#m9777a1799c\" y=\"81.363823\"/>\r\n     <use style=\"fill:#1f77b4;stroke:#1f77b4;\" x=\"320.685462\" xlink:href=\"#m9777a1799c\" y=\"59.609979\"/>\r\n     <use style=\"fill:#1f77b4;stroke:#1f77b4;\" x=\"324.200438\" xlink:href=\"#m9777a1799c\" y=\"63.677096\"/>\r\n     <use style=\"fill:#1f77b4;stroke:#1f77b4;\" x=\"342.423033\" xlink:href=\"#m9777a1799c\" y=\"74.704377\"/>\r\n     <use style=\"fill:#1f77b4;stroke:#1f77b4;\" x=\"352.834317\" xlink:href=\"#m9777a1799c\" y=\"129.632927\"/>\r\n     <use style=\"fill:#1f77b4;stroke:#1f77b4;\" x=\"355.075416\" xlink:href=\"#m9777a1799c\" y=\"149.111865\"/>\r\n     <use style=\"fill:#1f77b4;stroke:#1f77b4;\" x=\"354.710442\" xlink:href=\"#m9777a1799c\" y=\"143.867181\"/>\r\n     <use style=\"fill:#1f77b4;stroke:#1f77b4;\" x=\"356.972274\" xlink:href=\"#m9777a1799c\" y=\"161.618637\"/>\r\n     <use style=\"fill:#1f77b4;stroke:#1f77b4;\" x=\"360.87083\" xlink:href=\"#m9777a1799c\" y=\"194.111868\"/>\r\n     <use style=\"fill:#1f77b4;stroke:#1f77b4;\" x=\"360.981908\" xlink:href=\"#m9777a1799c\" y=\"194.611692\"/>\r\n     <use style=\"fill:#1f77b4;stroke:#1f77b4;\" x=\"284.17116\" xlink:href=\"#m9777a1799c\" y=\"27.03651\"/>\r\n     <use style=\"fill:#1f77b4;stroke:#1f77b4;\" x=\"301.206752\" xlink:href=\"#m9777a1799c\" y=\"32.664221\"/>\r\n     <use style=\"fill:#1f77b4;stroke:#1f77b4;\" x=\"316.478825\" xlink:href=\"#m9777a1799c\" y=\"55.89992\"/>\r\n     <use style=\"fill:#1f77b4;stroke:#1f77b4;\" x=\"312.902883\" xlink:href=\"#m9777a1799c\" y=\"42.502592\"/>\r\n     <use style=\"fill:#1f77b4;stroke:#1f77b4;\" x=\"235.40245\" xlink:href=\"#m9777a1799c\" y=\"24.054288\"/>\r\n     <use style=\"fill:#1f77b4;stroke:#1f77b4;\" x=\"171.673439\" xlink:href=\"#m9777a1799c\" y=\"23.505174\"/>\r\n     <use style=\"fill:#1f77b4;stroke:#1f77b4;\" x=\"69.642828\" xlink:href=\"#m9777a1799c\" y=\"22.602679\"/>\r\n     <use style=\"fill:#1f77b4;stroke:#1f77b4;\" x=\"79.698431\" xlink:href=\"#m9777a1799c\" y=\"23.403312\"/>\r\n     <use style=\"fill:#1f77b4;stroke:#1f77b4;\" x=\"349.685148\" xlink:href=\"#m9777a1799c\" y=\"108.609045\"/>\r\n     <use style=\"fill:#1f77b4;stroke:#1f77b4;\" x=\"342.971155\" xlink:href=\"#m9777a1799c\" y=\"81.775675\"/>\r\n     <use style=\"fill:#1f77b4;stroke:#1f77b4;\" x=\"335.056258\" xlink:href=\"#m9777a1799c\" y=\"79.006863\"/>\r\n     <use style=\"fill:#1f77b4;stroke:#1f77b4;\" x=\"339.776905\" xlink:href=\"#m9777a1799c\" y=\"81.682536\"/>\r\n     <use style=\"fill:#1f77b4;stroke:#1f77b4;\" x=\"324.206638\" xlink:href=\"#m9777a1799c\" y=\"74.87767\"/>\r\n     <use style=\"fill:#1f77b4;stroke:#1f77b4;\" x=\"352.111838\" xlink:href=\"#m9777a1799c\" y=\"132.162597\"/>\r\n     <use style=\"fill:#1f77b4;stroke:#1f77b4;\" x=\"352.418949\" xlink:href=\"#m9777a1799c\" y=\"174.994675\"/>\r\n     <use style=\"fill:#1f77b4;stroke:#1f77b4;\" x=\"356.567691\" xlink:href=\"#m9777a1799c\" y=\"213.852972\"/>\r\n     <use style=\"fill:#1f77b4;stroke:#1f77b4;\" x=\"359.500683\" xlink:href=\"#m9777a1799c\" y=\"214.756364\"/>\r\n     <use style=\"fill:#1f77b4;stroke:#1f77b4;\" x=\"359.102642\" xlink:href=\"#m9777a1799c\" y=\"214.170333\"/>\r\n     <use style=\"fill:#1f77b4;stroke:#1f77b4;\" x=\"354.019015\" xlink:href=\"#m9777a1799c\" y=\"200.786109\"/>\r\n     <use style=\"fill:#1f77b4;stroke:#1f77b4;\" x=\"267.820484\" xlink:href=\"#m9777a1799c\" y=\"29.197834\"/>\r\n     <use style=\"fill:#1f77b4;stroke:#1f77b4;\" x=\"290.893559\" xlink:href=\"#m9777a1799c\" y=\"32.899384\"/>\r\n     <use style=\"fill:#1f77b4;stroke:#1f77b4;\" x=\"277.803403\" xlink:href=\"#m9777a1799c\" y=\"32.792882\"/>\r\n     <use style=\"fill:#1f77b4;stroke:#1f77b4;\" x=\"296.60184\" xlink:href=\"#m9777a1799c\" y=\"33.430765\"/>\r\n     <use style=\"fill:#1f77b4;stroke:#1f77b4;\" x=\"314.474801\" xlink:href=\"#m9777a1799c\" y=\"67.524997\"/>\r\n     <use style=\"fill:#1f77b4;stroke:#1f77b4;\" x=\"309.452396\" xlink:href=\"#m9777a1799c\" y=\"44.471443\"/>\r\n     <use style=\"fill:#1f77b4;stroke:#1f77b4;\" x=\"311.076093\" xlink:href=\"#m9777a1799c\" y=\"64.423915\"/>\r\n     <use style=\"fill:#1f77b4;stroke:#1f77b4;\" x=\"297.528121\" xlink:href=\"#m9777a1799c\" y=\"43.859033\"/>\r\n     <use style=\"fill:#1f77b4;stroke:#1f77b4;\" x=\"230.812519\" xlink:href=\"#m9777a1799c\" y=\"27.782846\"/>\r\n     <use style=\"fill:#1f77b4;stroke:#1f77b4;\" x=\"230.539366\" xlink:href=\"#m9777a1799c\" y=\"24.432494\"/>\r\n     <use style=\"fill:#1f77b4;stroke:#1f77b4;\" x=\"349.131589\" xlink:href=\"#m9777a1799c\" y=\"109.613146\"/>\r\n     <use style=\"fill:#1f77b4;stroke:#1f77b4;\" x=\"340.491105\" xlink:href=\"#m9777a1799c\" y=\"97.077526\"/>\r\n     <use style=\"fill:#1f77b4;stroke:#1f77b4;\" x=\"334.394831\" xlink:href=\"#m9777a1799c\" y=\"88.332622\"/>\r\n     <use style=\"fill:#1f77b4;stroke:#1f77b4;\" x=\"327.982876\" xlink:href=\"#m9777a1799c\" y=\"88.262847\"/>\r\n     <use style=\"fill:#1f77b4;stroke:#1f77b4;\" x=\"338.497521\" xlink:href=\"#m9777a1799c\" y=\"92.265124\"/>\r\n     <use style=\"fill:#1f77b4;stroke:#1f77b4;\" x=\"315.843284\" xlink:href=\"#m9777a1799c\" y=\"74.896039\"/>\r\n     <use style=\"fill:#1f77b4;stroke:#1f77b4;\" x=\"319.890118\" xlink:href=\"#m9777a1799c\" y=\"78.188064\"/>\r\n     <use style=\"fill:#1f77b4;stroke:#1f77b4;\" x=\"352.106336\" xlink:href=\"#m9777a1799c\" y=\"174.028564\"/>\r\n     <use style=\"fill:#1f77b4;stroke:#1f77b4;\" x=\"351.55187\" xlink:href=\"#m9777a1799c\" y=\"162.883324\"/>\r\n     <use style=\"fill:#1f77b4;stroke:#1f77b4;\" x=\"349.518141\" xlink:href=\"#m9777a1799c\" y=\"133.496475\"/>\r\n     <use style=\"fill:#1f77b4;stroke:#1f77b4;\" x=\"235.207725\" xlink:href=\"#m9777a1799c\" y=\"32.151084\"/>\r\n     <use style=\"fill:#1f77b4;stroke:#1f77b4;\" x=\"286.239817\" xlink:href=\"#m9777a1799c\" y=\"37.496767\"/>\r\n     <use style=\"fill:#1f77b4;stroke:#1f77b4;\" x=\"279.621577\" xlink:href=\"#m9777a1799c\" y=\"36.837155\"/>\r\n     <use style=\"fill:#1f77b4;stroke:#1f77b4;\" x=\"309.426674\" xlink:href=\"#m9777a1799c\" y=\"46.339642\"/>\r\n     <use style=\"fill:#1f77b4;stroke:#1f77b4;\" x=\"310.180334\" xlink:href=\"#m9777a1799c\" y=\"74.660343\"/>\r\n     <use style=\"fill:#1f77b4;stroke:#1f77b4;\" x=\"78.171199\" xlink:href=\"#m9777a1799c\" y=\"24.649826\"/>\r\n     <use style=\"fill:#1f77b4;stroke:#1f77b4;\" x=\"99.977531\" xlink:href=\"#m9777a1799c\" y=\"25.086798\"/>\r\n     <use style=\"fill:#1f77b4;stroke:#1f77b4;\" x=\"151.322632\" xlink:href=\"#m9777a1799c\" y=\"25.272281\"/>\r\n     <use style=\"fill:#1f77b4;stroke:#1f77b4;\" x=\"215.650945\" xlink:href=\"#m9777a1799c\" y=\"25.892024\"/>\r\n     <use style=\"fill:#1f77b4;stroke:#1f77b4;\" x=\"217.315209\" xlink:href=\"#m9777a1799c\" y=\"27.039928\"/>\r\n     <use style=\"fill:#1f77b4;stroke:#1f77b4;\" x=\"347.319831\" xlink:href=\"#m9777a1799c\" y=\"127.104923\"/>\r\n     <use style=\"fill:#1f77b4;stroke:#1f77b4;\" x=\"345.456399\" xlink:href=\"#m9777a1799c\" y=\"123.69401\"/>\r\n     <use style=\"fill:#1f77b4;stroke:#1f77b4;\" x=\"339.80213\" xlink:href=\"#m9777a1799c\" y=\"122.353038\"/>\r\n     <use style=\"fill:#1f77b4;stroke:#1f77b4;\" x=\"325.70678\" xlink:href=\"#m9777a1799c\" y=\"89.888625\"/>\r\n     <use style=\"fill:#1f77b4;stroke:#1f77b4;\" x=\"332.821288\" xlink:href=\"#m9777a1799c\" y=\"99.630391\"/>\r\n     <use style=\"fill:#1f77b4;stroke:#1f77b4;\" x=\"338.05929\" xlink:href=\"#m9777a1799c\" y=\"110.947354\"/>\r\n     <use style=\"fill:#1f77b4;stroke:#1f77b4;\" x=\"337.034273\" xlink:href=\"#m9777a1799c\" y=\"106.258842\"/>\r\n     <use style=\"fill:#1f77b4;stroke:#1f77b4;\" x=\"312.166063\" xlink:href=\"#m9777a1799c\" y=\"74.966075\"/>\r\n     <use style=\"fill:#1f77b4;stroke:#1f77b4;\" x=\"317.737821\" xlink:href=\"#m9777a1799c\" y=\"87.11553\"/>\r\n     <use style=\"fill:#1f77b4;stroke:#1f77b4;\" x=\"350.440558\" xlink:href=\"#m9777a1799c\" y=\"169.584924\"/>\r\n     <use style=\"fill:#1f77b4;stroke:#1f77b4;\" x=\"227.308134\" xlink:href=\"#m9777a1799c\" y=\"32.634102\"/>\r\n     <use style=\"fill:#1f77b4;stroke:#1f77b4;\" x=\"280.392603\" xlink:href=\"#m9777a1799c\" y=\"44.549751\"/>\r\n     <use style=\"fill:#1f77b4;stroke:#1f77b4;\" x=\"277.986887\" xlink:href=\"#m9777a1799c\" y=\"39.753509\"/>\r\n     <use style=\"fill:#1f77b4;stroke:#1f77b4;\" x=\"267.452123\" xlink:href=\"#m9777a1799c\" y=\"39.113057\"/>\r\n     <use style=\"fill:#1f77b4;stroke:#1f77b4;\" x=\"297.290527\" xlink:href=\"#m9777a1799c\" y=\"47.431712\"/>\r\n     <use style=\"fill:#1f77b4;stroke:#1f77b4;\" x=\"305.240157\" xlink:href=\"#m9777a1799c\" y=\"47.919615\"/>\r\n     <use style=\"fill:#1f77b4;stroke:#1f77b4;\" x=\"307.377092\" xlink:href=\"#m9777a1799c\" y=\"51.288806\"/>\r\n     <use style=\"fill:#1f77b4;stroke:#1f77b4;\" x=\"296.669962\" xlink:href=\"#m9777a1799c\" y=\"47.296308\"/>\r\n     <use style=\"fill:#1f77b4;stroke:#1f77b4;\" x=\"68.698523\" xlink:href=\"#m9777a1799c\" y=\"25.342801\"/>\r\n     <use style=\"fill:#1f77b4;stroke:#1f77b4;\" x=\"209.094051\" xlink:href=\"#m9777a1799c\" y=\"26.95503\"/>\r\n     <use style=\"fill:#1f77b4;stroke:#1f77b4;\" x=\"148.503086\" xlink:href=\"#m9777a1799c\" y=\"26.30898\"/>\r\n     <use style=\"fill:#1f77b4;stroke:#1f77b4;\" x=\"149.553147\" xlink:href=\"#m9777a1799c\" y=\"26.492757\"/>\r\n     <use style=\"fill:#1f77b4;stroke:#1f77b4;\" x=\"91.365626\" xlink:href=\"#m9777a1799c\" y=\"26.098432\"/>\r\n     <use style=\"fill:#1f77b4;stroke:#1f77b4;\" x=\"214.97196\" xlink:href=\"#m9777a1799c\" y=\"31.813318\"/>\r\n     <use style=\"fill:#1f77b4;stroke:#1f77b4;\" x=\"344.146183\" xlink:href=\"#m9777a1799c\" y=\"144.262531\"/>\r\n     <use style=\"fill:#1f77b4;stroke:#1f77b4;\" x=\"339.454967\" xlink:href=\"#m9777a1799c\" y=\"128.335575\"/>\r\n     <use style=\"fill:#1f77b4;stroke:#1f77b4;\" x=\"324.266551\" xlink:href=\"#m9777a1799c\" y=\"94.870443\"/>\r\n     <use style=\"fill:#1f77b4;stroke:#1f77b4;\" x=\"329.52772\" xlink:href=\"#m9777a1799c\" y=\"103.032135\"/>\r\n     <use style=\"fill:#1f77b4;stroke:#1f77b4;\" x=\"325.780482\" xlink:href=\"#m9777a1799c\" y=\"101.216795\"/>\r\n     <use style=\"fill:#1f77b4;stroke:#1f77b4;\" x=\"330.506581\" xlink:href=\"#m9777a1799c\" y=\"107.552863\"/>\r\n     <use style=\"fill:#1f77b4;stroke:#1f77b4;\" x=\"333.307276\" xlink:href=\"#m9777a1799c\" y=\"126.907288\"/>\r\n     <use style=\"fill:#1f77b4;stroke:#1f77b4;\" x=\"307.97923\" xlink:href=\"#m9777a1799c\" y=\"77.431846\"/>\r\n     <use style=\"fill:#1f77b4;stroke:#1f77b4;\" x=\"346.509002\" xlink:href=\"#m9777a1799c\" y=\"174.827994\"/>\r\n     <use style=\"fill:#1f77b4;stroke:#1f77b4;\" x=\"348.506219\" xlink:href=\"#m9777a1799c\" y=\"213.826839\"/>\r\n     <use style=\"fill:#1f77b4;stroke:#1f77b4;\" x=\"222.557622\" xlink:href=\"#m9777a1799c\" y=\"36.00341\"/>\r\n     <use style=\"fill:#1f77b4;stroke:#1f77b4;\" x=\"267.499582\" xlink:href=\"#m9777a1799c\" y=\"40.056778\"/>\r\n     <use style=\"fill:#1f77b4;stroke:#1f77b4;\" x=\"242.073736\" xlink:href=\"#m9777a1799c\" y=\"39.140827\"/>\r\n     <use style=\"fill:#1f77b4;stroke:#1f77b4;\" x=\"305.785401\" xlink:href=\"#m9777a1799c\" y=\"69.275072\"/>\r\n     <use style=\"fill:#1f77b4;stroke:#1f77b4;\" x=\"305.490387\" xlink:href=\"#m9777a1799c\" y=\"60.71008\"/>\r\n     <use style=\"fill:#1f77b4;stroke:#1f77b4;\" x=\"297.689044\" xlink:href=\"#m9777a1799c\" y=\"55.108561\"/>\r\n     <use style=\"fill:#1f77b4;stroke:#1f77b4;\" x=\"301.413029\" xlink:href=\"#m9777a1799c\" y=\"56.534804\"/>\r\n     <use style=\"fill:#1f77b4;stroke:#1f77b4;\" x=\"297.194891\" xlink:href=\"#m9777a1799c\" y=\"51.824089\"/>\r\n     <use style=\"fill:#1f77b4;stroke:#1f77b4;\" x=\"304.026729\" xlink:href=\"#m9777a1799c\" y=\"60.554588\"/>\r\n     <use style=\"fill:#1f77b4;stroke:#1f77b4;\" x=\"277.572749\" xlink:href=\"#m9777a1799c\" y=\"51.785992\"/>\r\n     <use style=\"fill:#1f77b4;stroke:#1f77b4;\" x=\"274.293316\" xlink:href=\"#m9777a1799c\" y=\"48.877867\"/>\r\n     <use style=\"fill:#1f77b4;stroke:#1f77b4;\" x=\"268.015302\" xlink:href=\"#m9777a1799c\" y=\"47.84042\"/>\r\n     <use style=\"fill:#1f77b4;stroke:#1f77b4;\" x=\"206.811569\" xlink:href=\"#m9777a1799c\" y=\"29.766679\"/>\r\n     <use style=\"fill:#1f77b4;stroke:#1f77b4;\" x=\"175.329809\" xlink:href=\"#m9777a1799c\" y=\"27.026924\"/>\r\n     <use style=\"fill:#1f77b4;stroke:#1f77b4;\" x=\"198.496799\" xlink:href=\"#m9777a1799c\" y=\"27.340186\"/>\r\n     <use style=\"fill:#1f77b4;stroke:#1f77b4;\" x=\"100.670411\" xlink:href=\"#m9777a1799c\" y=\"26.570134\"/>\r\n     <use style=\"fill:#1f77b4;stroke:#1f77b4;\" x=\"343.29076\" xlink:href=\"#m9777a1799c\" y=\"144.898387\"/>\r\n     <use style=\"fill:#1f77b4;stroke:#1f77b4;\" x=\"336.701362\" xlink:href=\"#m9777a1799c\" y=\"132.258395\"/>\r\n     <use style=\"fill:#1f77b4;stroke:#1f77b4;\" x=\"339.108603\" xlink:href=\"#m9777a1799c\" y=\"144.569181\"/>\r\n     <use style=\"fill:#1f77b4;stroke:#1f77b4;\" x=\"319.67673\" xlink:href=\"#m9777a1799c\" y=\"95.253761\"/>\r\n     <use style=\"fill:#1f77b4;stroke:#1f77b4;\" x=\"320.932175\" xlink:href=\"#m9777a1799c\" y=\"105.898057\"/>\r\n     <use style=\"fill:#1f77b4;stroke:#1f77b4;\" x=\"328.153625\" xlink:href=\"#m9777a1799c\" y=\"114.947813\"/>\r\n     <use style=\"fill:#1f77b4;stroke:#1f77b4;\" x=\"321.880619\" xlink:href=\"#m9777a1799c\" y=\"109.358046\"/>\r\n     <use style=\"fill:#1f77b4;stroke:#1f77b4;\" x=\"327.002756\" xlink:href=\"#m9777a1799c\" y=\"112.194397\"/>\r\n     <use style=\"fill:#1f77b4;stroke:#1f77b4;\" x=\"343.588258\" xlink:href=\"#m9777a1799c\" y=\"197.764525\"/>\r\n     <use style=\"fill:#1f77b4;stroke:#1f77b4;\" x=\"251.43353\" xlink:href=\"#m9777a1799c\" y=\"41.015456\"/>\r\n     <use style=\"fill:#1f77b4;stroke:#1f77b4;\" x=\"267.240888\" xlink:href=\"#m9777a1799c\" y=\"45.049503\"/>\r\n     <use style=\"fill:#1f77b4;stroke:#1f77b4;\" x=\"231.242707\" xlink:href=\"#m9777a1799c\" y=\"40.553501\"/>\r\n     <use style=\"fill:#1f77b4;stroke:#1f77b4;\" x=\"218.633096\" xlink:href=\"#m9777a1799c\" y=\"40.125601\"/>\r\n     <use style=\"fill:#1f77b4;stroke:#1f77b4;\" x=\"304.282322\" xlink:href=\"#m9777a1799c\" y=\"94.45639\"/>\r\n     <use style=\"fill:#1f77b4;stroke:#1f77b4;\" x=\"292.566315\" xlink:href=\"#m9777a1799c\" y=\"52.446874\"/>\r\n     <use style=\"fill:#1f77b4;stroke:#1f77b4;\" x=\"299.666631\" xlink:href=\"#m9777a1799c\" y=\"63.927088\"/>\r\n     <use style=\"fill:#1f77b4;stroke:#1f77b4;\" x=\"297.866516\" xlink:href=\"#m9777a1799c\" y=\"63.111594\"/>\r\n     <use style=\"fill:#1f77b4;stroke:#1f77b4;\" x=\"301.847451\" xlink:href=\"#m9777a1799c\" y=\"85.292077\"/>\r\n     <use style=\"fill:#1f77b4;stroke:#1f77b4;\" x=\"203.146904\" xlink:href=\"#m9777a1799c\" y=\"35.629397\"/>\r\n     <use style=\"fill:#1f77b4;stroke:#1f77b4;\" x=\"198.525202\" xlink:href=\"#m9777a1799c\" y=\"31.324986\"/>\r\n     <use style=\"fill:#1f77b4;stroke:#1f77b4;\" x=\"200.034137\" xlink:href=\"#m9777a1799c\" y=\"35.127559\"/>\r\n     <use style=\"fill:#1f77b4;stroke:#1f77b4;\" x=\"194.961608\" xlink:href=\"#m9777a1799c\" y=\"29.8651\"/>\r\n     <use style=\"fill:#1f77b4;stroke:#1f77b4;\" x=\"137.200882\" xlink:href=\"#m9777a1799c\" y=\"28.616678\"/>\r\n     <use style=\"fill:#1f77b4;stroke:#1f77b4;\" x=\"136.515198\" xlink:href=\"#m9777a1799c\" y=\"28.510976\"/>\r\n     <use style=\"fill:#1f77b4;stroke:#1f77b4;\" x=\"128.289456\" xlink:href=\"#m9777a1799c\" y=\"27.918491\"/>\r\n     <use style=\"fill:#1f77b4;stroke:#1f77b4;\" x=\"97.48474\" xlink:href=\"#m9777a1799c\" y=\"27.88422\"/>\r\n     <use style=\"fill:#1f77b4;stroke:#1f77b4;\" x=\"342.980257\" xlink:href=\"#m9777a1799c\" y=\"154.745554\"/>\r\n     <use style=\"fill:#1f77b4;stroke:#1f77b4;\" x=\"335.789053\" xlink:href=\"#m9777a1799c\" y=\"136.756915\"/>\r\n     <use style=\"fill:#1f77b4;stroke:#1f77b4;\" x=\"328.929413\" xlink:href=\"#m9777a1799c\" y=\"136.32006\"/>\r\n     <use style=\"fill:#1f77b4;stroke:#1f77b4;\" x=\"337.635328\" xlink:href=\"#m9777a1799c\" y=\"152.120557\"/>\r\n     <use style=\"fill:#1f77b4;stroke:#1f77b4;\" x=\"317.346649\" xlink:href=\"#m9777a1799c\" y=\"104.504503\"/>\r\n     <use style=\"fill:#1f77b4;stroke:#1f77b4;\" x=\"315.872925\" xlink:href=\"#m9777a1799c\" y=\"101.828526\"/>\r\n     <use style=\"fill:#1f77b4;stroke:#1f77b4;\" x=\"327.921189\" xlink:href=\"#m9777a1799c\" y=\"120.377108\"/>\r\n     <use style=\"fill:#1f77b4;stroke:#1f77b4;\" x=\"323.549022\" xlink:href=\"#m9777a1799c\" y=\"112.322861\"/>\r\n     <use style=\"fill:#1f77b4;stroke:#1f77b4;\" x=\"343.262818\" xlink:href=\"#m9777a1799c\" y=\"213.491725\"/>\r\n     <use style=\"fill:#1f77b4;stroke:#1f77b4;\" x=\"242.295657\" xlink:href=\"#m9777a1799c\" y=\"44.289144\"/>\r\n     <use style=\"fill:#1f77b4;stroke:#1f77b4;\" x=\"264.65465\" xlink:href=\"#m9777a1799c\" y=\"49.280266\"/>\r\n     <use style=\"fill:#1f77b4;stroke:#1f77b4;\" x=\"212.442725\" xlink:href=\"#m9777a1799c\" y=\"42.165604\"/>\r\n     <use style=\"fill:#1f77b4;stroke:#1f77b4;\" x=\"209.115086\" xlink:href=\"#m9777a1799c\" y=\"40.257517\"/>\r\n     <use style=\"fill:#1f77b4;stroke:#1f77b4;\" x=\"216.633369\" xlink:href=\"#m9777a1799c\" y=\"43.924764\"/>\r\n     <use style=\"fill:#1f77b4;stroke:#1f77b4;\" x=\"273.820557\" xlink:href=\"#m9777a1799c\" y=\"54.124876\"/>\r\n     <use style=\"fill:#1f77b4;stroke:#1f77b4;\" x=\"280.020856\" xlink:href=\"#m9777a1799c\" y=\"58.463776\"/>\r\n     <use style=\"fill:#1f77b4;stroke:#1f77b4;\" x=\"285.843969\" xlink:href=\"#m9777a1799c\" y=\"58.572605\"/>\r\n     <use style=\"fill:#1f77b4;stroke:#1f77b4;\" x=\"291.534353\" xlink:href=\"#m9777a1799c\" y=\"60.660338\"/>\r\n     <use style=\"fill:#1f77b4;stroke:#1f77b4;\" x=\"298.266324\" xlink:href=\"#m9777a1799c\" y=\"91.148408\"/>\r\n     <use style=\"fill:#1f77b4;stroke:#1f77b4;\" x=\"301.030207\" xlink:href=\"#m9777a1799c\" y=\"94.575967\"/>\r\n     <use style=\"fill:#1f77b4;stroke:#1f77b4;\" x=\"294.839591\" xlink:href=\"#m9777a1799c\" y=\"88.941454\"/>\r\n     <use style=\"fill:#1f77b4;stroke:#1f77b4;\" x=\"181.023715\" xlink:href=\"#m9777a1799c\" y=\"34.903528\"/>\r\n     <use style=\"fill:#1f77b4;stroke:#1f77b4;\" x=\"177.273035\" xlink:href=\"#m9777a1799c\" y=\"33.339286\"/>\r\n     <use style=\"fill:#1f77b4;stroke:#1f77b4;\" x=\"134.342796\" xlink:href=\"#m9777a1799c\" y=\"30.359336\"/>\r\n     <use style=\"fill:#1f77b4;stroke:#1f77b4;\" x=\"341.638516\" xlink:href=\"#m9777a1799c\" y=\"159.042435\"/>\r\n     <use style=\"fill:#1f77b4;stroke:#1f77b4;\" x=\"332.645969\" xlink:href=\"#m9777a1799c\" y=\"141.897178\"/>\r\n     <use style=\"fill:#1f77b4;stroke:#1f77b4;\" x=\"337.07545\" xlink:href=\"#m9777a1799c\" y=\"156.332599\"/>\r\n     <use style=\"fill:#1f77b4;stroke:#1f77b4;\" x=\"315.038714\" xlink:href=\"#m9777a1799c\" y=\"105.410717\"/>\r\n     <use style=\"fill:#1f77b4;stroke:#1f77b4;\" x=\"327.175829\" xlink:href=\"#m9777a1799c\" y=\"127.013774\"/>\r\n     <use style=\"fill:#1f77b4;stroke:#1f77b4;\" x=\"323.645942\" xlink:href=\"#m9777a1799c\" y=\"125.951444\"/>\r\n     <use style=\"fill:#1f77b4;stroke:#1f77b4;\" x=\"317.773507\" xlink:href=\"#m9777a1799c\" y=\"114.922969\"/>\r\n     <use style=\"fill:#1f77b4;stroke:#1f77b4;\" x=\"232.083607\" xlink:href=\"#m9777a1799c\" y=\"49.753734\"/>\r\n     <use style=\"fill:#1f77b4;stroke:#1f77b4;\" x=\"246.237729\" xlink:href=\"#m9777a1799c\" y=\"51.299314\"/>\r\n     <use style=\"fill:#1f77b4;stroke:#1f77b4;\" x=\"208.949609\" xlink:href=\"#m9777a1799c\" y=\"41.741372\"/>\r\n     <use style=\"fill:#1f77b4;stroke:#1f77b4;\" x=\"267.273124\" xlink:href=\"#m9777a1799c\" y=\"57.26086\"/>\r\n     <use style=\"fill:#1f77b4;stroke:#1f77b4;\" x=\"280.342694\" xlink:href=\"#m9777a1799c\" y=\"63.107106\"/>\r\n     <use style=\"fill:#1f77b4;stroke:#1f77b4;\" x=\"291.359473\" xlink:href=\"#m9777a1799c\" y=\"67.585645\"/>\r\n     <use style=\"fill:#1f77b4;stroke:#1f77b4;\" x=\"300.227884\" xlink:href=\"#m9777a1799c\" y=\"98.546103\"/>\r\n     <use style=\"fill:#1f77b4;stroke:#1f77b4;\" x=\"296.979856\" xlink:href=\"#m9777a1799c\" y=\"95.448384\"/>\r\n     <use style=\"fill:#1f77b4;stroke:#1f77b4;\" x=\"293.362314\" xlink:href=\"#m9777a1799c\" y=\"89.493866\"/>\r\n     <use style=\"fill:#1f77b4;stroke:#1f77b4;\" x=\"166.216712\" xlink:href=\"#m9777a1799c\" y=\"33.468423\"/>\r\n     <use style=\"fill:#1f77b4;stroke:#1f77b4;\" x=\"169.108369\" xlink:href=\"#m9777a1799c\" y=\"38.813694\"/>\r\n     <use style=\"fill:#1f77b4;stroke:#1f77b4;\" x=\"171.627655\" xlink:href=\"#m9777a1799c\" y=\"41.190428\"/>\r\n     <use style=\"fill:#1f77b4;stroke:#1f77b4;\" x=\"120.862501\" xlink:href=\"#m9777a1799c\" y=\"31.992683\"/>\r\n     <use style=\"fill:#1f77b4;stroke:#1f77b4;\" x=\"116.958778\" xlink:href=\"#m9777a1799c\" y=\"30.407861\"/>\r\n     <use style=\"fill:#1f77b4;stroke:#1f77b4;\" x=\"337.440395\" xlink:href=\"#m9777a1799c\" y=\"189.436008\"/>\r\n     <use style=\"fill:#1f77b4;stroke:#1f77b4;\" x=\"340.44451\" xlink:href=\"#m9777a1799c\" y=\"212.191163\"/>\r\n     <use style=\"fill:#1f77b4;stroke:#1f77b4;\" x=\"330.833174\" xlink:href=\"#m9777a1799c\" y=\"154.712716\"/>\r\n     <use style=\"fill:#1f77b4;stroke:#1f77b4;\" x=\"335.896283\" xlink:href=\"#m9777a1799c\" y=\"188.951674\"/>\r\n     <use style=\"fill:#1f77b4;stroke:#1f77b4;\" x=\"335.750652\" xlink:href=\"#m9777a1799c\" y=\"157.338517\"/>\r\n     <use style=\"fill:#1f77b4;stroke:#1f77b4;\" x=\"336.507052\" xlink:href=\"#m9777a1799c\" y=\"189.27984\"/>\r\n     <use style=\"fill:#1f77b4;stroke:#1f77b4;\" x=\"300.472739\" xlink:href=\"#m9777a1799c\" y=\"108.05172\"/>\r\n     <use style=\"fill:#1f77b4;stroke:#1f77b4;\" x=\"306.463323\" xlink:href=\"#m9777a1799c\" y=\"111.483657\"/>\r\n     <use style=\"fill:#1f77b4;stroke:#1f77b4;\" x=\"327.0512\" xlink:href=\"#m9777a1799c\" y=\"145.199572\"/>\r\n     <use style=\"fill:#1f77b4;stroke:#1f77b4;\" x=\"322.816751\" xlink:href=\"#m9777a1799c\" y=\"132.549544\"/>\r\n     <use style=\"fill:#1f77b4;stroke:#1f77b4;\" x=\"316.41035\" xlink:href=\"#m9777a1799c\" y=\"127.293123\"/>\r\n     <use style=\"fill:#1f77b4;stroke:#1f77b4;\" x=\"312.702915\" xlink:href=\"#m9777a1799c\" y=\"120.433714\"/>\r\n     <use style=\"fill:#1f77b4;stroke:#1f77b4;\" x=\"229.754618\" xlink:href=\"#m9777a1799c\" y=\"50.73415\"/>\r\n     <use style=\"fill:#1f77b4;stroke:#1f77b4;\" x=\"230.367192\" xlink:href=\"#m9777a1799c\" y=\"54.109669\"/>\r\n     <use style=\"fill:#1f77b4;stroke:#1f77b4;\" x=\"196.86379\" xlink:href=\"#m9777a1799c\" y=\"42.361767\"/>\r\n     <use style=\"fill:#1f77b4;stroke:#1f77b4;\" x=\"252.305836\" xlink:href=\"#m9777a1799c\" y=\"58.49757\"/>\r\n     <use style=\"fill:#1f77b4;stroke:#1f77b4;\" x=\"271.1145\" xlink:href=\"#m9777a1799c\" y=\"63.313277\"/>\r\n     <use style=\"fill:#1f77b4;stroke:#1f77b4;\" x=\"284.807265\" xlink:href=\"#m9777a1799c\" y=\"71.946075\"/>\r\n     <use style=\"fill:#1f77b4;stroke:#1f77b4;\" x=\"274.268351\" xlink:href=\"#m9777a1799c\" y=\"69.902717\"/>\r\n     <use style=\"fill:#1f77b4;stroke:#1f77b4;\" x=\"288.941424\" xlink:href=\"#m9777a1799c\" y=\"83.940045\"/>\r\n     <use style=\"fill:#1f77b4;stroke:#1f77b4;\" x=\"297.322535\" xlink:href=\"#m9777a1799c\" y=\"107.028497\"/>\r\n     <use style=\"fill:#1f77b4;stroke:#1f77b4;\" x=\"293.996533\" xlink:href=\"#m9777a1799c\" y=\"100.11272\"/>\r\n     <use style=\"fill:#1f77b4;stroke:#1f77b4;\" x=\"292.77075\" xlink:href=\"#m9777a1799c\" y=\"90.164855\"/>\r\n     <use style=\"fill:#1f77b4;stroke:#1f77b4;\" x=\"136.730009\" xlink:href=\"#m9777a1799c\" y=\"37.003408\"/>\r\n     <use style=\"fill:#1f77b4;stroke:#1f77b4;\" x=\"157.233382\" xlink:href=\"#m9777a1799c\" y=\"38.131306\"/>\r\n     <use style=\"fill:#1f77b4;stroke:#1f77b4;\" x=\"130.591606\" xlink:href=\"#m9777a1799c\" y=\"33.617241\"/>\r\n     <use style=\"fill:#1f77b4;stroke:#1f77b4;\" x=\"161.334422\" xlink:href=\"#m9777a1799c\" y=\"39.258735\"/>\r\n     <use style=\"fill:#1f77b4;stroke:#1f77b4;\" x=\"107.501884\" xlink:href=\"#m9777a1799c\" y=\"30.49588\"/>\r\n     <use style=\"fill:#1f77b4;stroke:#1f77b4;\" x=\"111.358227\" xlink:href=\"#m9777a1799c\" y=\"32.530621\"/>\r\n     <use style=\"fill:#1f77b4;stroke:#1f77b4;\" x=\"115.996096\" xlink:href=\"#m9777a1799c\" y=\"33.539435\"/>\r\n     <use style=\"fill:#1f77b4;stroke:#1f77b4;\" x=\"336.595134\" xlink:href=\"#m9777a1799c\" y=\"201.633912\"/>\r\n     <use style=\"fill:#1f77b4;stroke:#1f77b4;\" x=\"330.949886\" xlink:href=\"#m9777a1799c\" y=\"157.523908\"/>\r\n     <use style=\"fill:#1f77b4;stroke:#1f77b4;\" x=\"335.691507\" xlink:href=\"#m9777a1799c\" y=\"174.157467\"/>\r\n     <use style=\"fill:#1f77b4;stroke:#1f77b4;\" x=\"330.982652\" xlink:href=\"#m9777a1799c\" y=\"169.220564\"/>\r\n     <use style=\"fill:#1f77b4;stroke:#1f77b4;\" x=\"324.476038\" xlink:href=\"#m9777a1799c\" y=\"151.265394\"/>\r\n     <use style=\"fill:#1f77b4;stroke:#1f77b4;\" x=\"316.992323\" xlink:href=\"#m9777a1799c\" y=\"148.338433\"/>\r\n     <use style=\"fill:#1f77b4;stroke:#1f77b4;\" x=\"314.577116\" xlink:href=\"#m9777a1799c\" y=\"140.683363\"/>\r\n     <use style=\"fill:#1f77b4;stroke:#1f77b4;\" x=\"313.285547\" xlink:href=\"#m9777a1799c\" y=\"129.973706\"/>\r\n     <use style=\"fill:#1f77b4;stroke:#1f77b4;\" x=\"311.407661\" xlink:href=\"#m9777a1799c\" y=\"127.233828\"/>\r\n     <use style=\"fill:#1f77b4;stroke:#1f77b4;\" x=\"299.217406\" xlink:href=\"#m9777a1799c\" y=\"122.316429\"/>\r\n     <use style=\"fill:#1f77b4;stroke:#1f77b4;\" x=\"303.283994\" xlink:href=\"#m9777a1799c\" y=\"122.864035\"/>\r\n     <use style=\"fill:#1f77b4;stroke:#1f77b4;\" x=\"311.010527\" xlink:href=\"#m9777a1799c\" y=\"127.210276\"/>\r\n     <use style=\"fill:#1f77b4;stroke:#1f77b4;\" x=\"205.58958\" xlink:href=\"#m9777a1799c\" y=\"54.39791\"/>\r\n     <use style=\"fill:#1f77b4;stroke:#1f77b4;\" x=\"185.275759\" xlink:href=\"#m9777a1799c\" y=\"49.096545\"/>\r\n     <use style=\"fill:#1f77b4;stroke:#1f77b4;\" x=\"173.507861\" xlink:href=\"#m9777a1799c\" y=\"42.552349\"/>\r\n     <use style=\"fill:#1f77b4;stroke:#1f77b4;\" x=\"251.727125\" xlink:href=\"#m9777a1799c\" y=\"58.677682\"/>\r\n     <use style=\"fill:#1f77b4;stroke:#1f77b4;\" x=\"253.107386\" xlink:href=\"#m9777a1799c\" y=\"66.32089\"/>\r\n     <use style=\"fill:#1f77b4;stroke:#1f77b4;\" x=\"280.409252\" xlink:href=\"#m9777a1799c\" y=\"74.985505\"/>\r\n     <use style=\"fill:#1f77b4;stroke:#1f77b4;\" x=\"281.012715\" xlink:href=\"#m9777a1799c\" y=\"85.404848\"/>\r\n     <use style=\"fill:#1f77b4;stroke:#1f77b4;\" x=\"290.463619\" xlink:href=\"#m9777a1799c\" y=\"99.87707\"/>\r\n     <use style=\"fill:#1f77b4;stroke:#1f77b4;\" x=\"120.403272\" xlink:href=\"#m9777a1799c\" y=\"37.14395\"/>\r\n     <use style=\"fill:#1f77b4;stroke:#1f77b4;\" x=\"154.190739\" xlink:href=\"#m9777a1799c\" y=\"39.35943\"/>\r\n     <use style=\"fill:#1f77b4;stroke:#1f77b4;\" x=\"85.322583\" xlink:href=\"#m9777a1799c\" y=\"35.822528\"/>\r\n     <use style=\"fill:#1f77b4;stroke:#1f77b4;\" x=\"63.838494\" xlink:href=\"#m9777a1799c\" y=\"35.219185\"/>\r\n     <use style=\"fill:#1f77b4;stroke:#1f77b4;\" x=\"328.682524\" xlink:href=\"#m9777a1799c\" y=\"162.157959\"/>\r\n     <use style=\"fill:#1f77b4;stroke:#1f77b4;\" x=\"328.119334\" xlink:href=\"#m9777a1799c\" y=\"157.856957\"/>\r\n     <use style=\"fill:#1f77b4;stroke:#1f77b4;\" x=\"333.47415\" xlink:href=\"#m9777a1799c\" y=\"185.368503\"/>\r\n     <use style=\"fill:#1f77b4;stroke:#1f77b4;\" x=\"335.094829\" xlink:href=\"#m9777a1799c\" y=\"213.348986\"/>\r\n     <use style=\"fill:#1f77b4;stroke:#1f77b4;\" x=\"329.97054\" xlink:href=\"#m9777a1799c\" y=\"180.878974\"/>\r\n     <use style=\"fill:#1f77b4;stroke:#1f77b4;\" x=\"314.367042\" xlink:href=\"#m9777a1799c\" y=\"148.568415\"/>\r\n     <use style=\"fill:#1f77b4;stroke:#1f77b4;\" x=\"312.236903\" xlink:href=\"#m9777a1799c\" y=\"145.715198\"/>\r\n     <use style=\"fill:#1f77b4;stroke:#1f77b4;\" x=\"311.861068\" xlink:href=\"#m9777a1799c\" y=\"141.329628\"/>\r\n     <use style=\"fill:#1f77b4;stroke:#1f77b4;\" x=\"311.231608\" xlink:href=\"#m9777a1799c\" y=\"127.293336\"/>\r\n     <use style=\"fill:#1f77b4;stroke:#1f77b4;\" x=\"294.593846\" xlink:href=\"#m9777a1799c\" y=\"126.12035\"/>\r\n     <use style=\"fill:#1f77b4;stroke:#1f77b4;\" x=\"202.280858\" xlink:href=\"#m9777a1799c\" y=\"55.10689\"/>\r\n     <use style=\"fill:#1f77b4;stroke:#1f77b4;\" x=\"179.349558\" xlink:href=\"#m9777a1799c\" y=\"52.339504\"/>\r\n     <use style=\"fill:#1f77b4;stroke:#1f77b4;\" x=\"176.437351\" xlink:href=\"#m9777a1799c\" y=\"49.148792\"/>\r\n     <use style=\"fill:#1f77b4;stroke:#1f77b4;\" x=\"169.605368\" xlink:href=\"#m9777a1799c\" y=\"46.35738\"/>\r\n     <use style=\"fill:#1f77b4;stroke:#1f77b4;\" x=\"155.274865\" xlink:href=\"#m9777a1799c\" y=\"44.088508\"/>\r\n     <use style=\"fill:#1f77b4;stroke:#1f77b4;\" x=\"163.260833\" xlink:href=\"#m9777a1799c\" y=\"44.450333\"/>\r\n     <use style=\"fill:#1f77b4;stroke:#1f77b4;\" x=\"219.878703\" xlink:href=\"#m9777a1799c\" y=\"61.945631\"/>\r\n     <use style=\"fill:#1f77b4;stroke:#1f77b4;\" x=\"209.919126\" xlink:href=\"#m9777a1799c\" y=\"58.992628\"/>\r\n     <use style=\"fill:#1f77b4;stroke:#1f77b4;\" x=\"245.295202\" xlink:href=\"#m9777a1799c\" y=\"62.070211\"/>\r\n     <use style=\"fill:#1f77b4;stroke:#1f77b4;\" x=\"252.148628\" xlink:href=\"#m9777a1799c\" y=\"72.652561\"/>\r\n     <use style=\"fill:#1f77b4;stroke:#1f77b4;\" x=\"255.939639\" xlink:href=\"#m9777a1799c\" y=\"75.148557\"/>\r\n     <use style=\"fill:#1f77b4;stroke:#1f77b4;\" x=\"259.259646\" xlink:href=\"#m9777a1799c\" y=\"88.439351\"/>\r\n     <use style=\"fill:#1f77b4;stroke:#1f77b4;\" x=\"279.603356\" xlink:href=\"#m9777a1799c\" y=\"90.089162\"/>\r\n     <use style=\"fill:#1f77b4;stroke:#1f77b4;\" x=\"286.572614\" xlink:href=\"#m9777a1799c\" y=\"100.926206\"/>\r\n     <use style=\"fill:#1f77b4;stroke:#1f77b4;\" x=\"97.958111\" xlink:href=\"#m9777a1799c\" y=\"38.567191\"/>\r\n     <use style=\"fill:#1f77b4;stroke:#1f77b4;\" x=\"100.916332\" xlink:href=\"#m9777a1799c\" y=\"39.149834\"/>\r\n     <use style=\"fill:#1f77b4;stroke:#1f77b4;\" x=\"144.502153\" xlink:href=\"#m9777a1799c\" y=\"39.823073\"/>\r\n     <use style=\"fill:#1f77b4;stroke:#1f77b4;\" x=\"76.746443\" xlink:href=\"#m9777a1799c\" y=\"37.243239\"/>\r\n     <use style=\"fill:#1f77b4;stroke:#1f77b4;\" x=\"69.966146\" xlink:href=\"#m9777a1799c\" y=\"37.202157\"/>\r\n     <use style=\"fill:#1f77b4;stroke:#1f77b4;\" x=\"326.382547\" xlink:href=\"#m9777a1799c\" y=\"171.103768\"/>\r\n     <use style=\"fill:#1f77b4;stroke:#1f77b4;\" x=\"324.599486\" xlink:href=\"#m9777a1799c\" y=\"160.196289\"/>\r\n     <use style=\"fill:#1f77b4;stroke:#1f77b4;\" x=\"330.859494\" xlink:href=\"#m9777a1799c\" y=\"212.435537\"/>\r\n     <use style=\"fill:#1f77b4;stroke:#1f77b4;\" x=\"327.00429\" xlink:href=\"#m9777a1799c\" y=\"182.193446\"/>\r\n     <use style=\"fill:#1f77b4;stroke:#1f77b4;\" x=\"328.698585\" xlink:href=\"#m9777a1799c\" y=\"182.697301\"/>\r\n     <use style=\"fill:#1f77b4;stroke:#1f77b4;\" x=\"311.547882\" xlink:href=\"#m9777a1799c\" y=\"141.627213\"/>\r\n     <use style=\"fill:#1f77b4;stroke:#1f77b4;\" x=\"299.981432\" xlink:href=\"#m9777a1799c\" y=\"127.996493\"/>\r\n     <use style=\"fill:#1f77b4;stroke:#1f77b4;\" x=\"309.033453\" xlink:href=\"#m9777a1799c\" y=\"138.50301\"/>\r\n     <use style=\"fill:#1f77b4;stroke:#1f77b4;\" x=\"185.428943\" xlink:href=\"#m9777a1799c\" y=\"55.499394\"/>\r\n     <use style=\"fill:#1f77b4;stroke:#1f77b4;\" x=\"173.465588\" xlink:href=\"#m9777a1799c\" y=\"52.93093\"/>\r\n     <use style=\"fill:#1f77b4;stroke:#1f77b4;\" x=\"157.823826\" xlink:href=\"#m9777a1799c\" y=\"52.191511\"/>\r\n     <use style=\"fill:#1f77b4;stroke:#1f77b4;\" x=\"152.365276\" xlink:href=\"#m9777a1799c\" y=\"46.224797\"/>\r\n     <use style=\"fill:#1f77b4;stroke:#1f77b4;\" x=\"145.103483\" xlink:href=\"#m9777a1799c\" y=\"45.47381\"/>\r\n     <use style=\"fill:#1f77b4;stroke:#1f77b4;\" x=\"222.153147\" xlink:href=\"#m9777a1799c\" y=\"62.451095\"/>\r\n     <use style=\"fill:#1f77b4;stroke:#1f77b4;\" x=\"244.708524\" xlink:href=\"#m9777a1799c\" y=\"72.397422\"/>\r\n     <use style=\"fill:#1f77b4;stroke:#1f77b4;\" x=\"235.770848\" xlink:href=\"#m9777a1799c\" y=\"65.433065\"/>\r\n     <use style=\"fill:#1f77b4;stroke:#1f77b4;\" x=\"199.614429\" xlink:href=\"#m9777a1799c\" y=\"62.219375\"/>\r\n     <use style=\"fill:#1f77b4;stroke:#1f77b4;\" x=\"250.719948\" xlink:href=\"#m9777a1799c\" y=\"78.02582\"/>\r\n     <use style=\"fill:#1f77b4;stroke:#1f77b4;\" x=\"264.651479\" xlink:href=\"#m9777a1799c\" y=\"93.96372\"/>\r\n     <use style=\"fill:#1f77b4;stroke:#1f77b4;\" x=\"275.113444\" xlink:href=\"#m9777a1799c\" y=\"98.315092\"/>\r\n     <use style=\"fill:#1f77b4;stroke:#1f77b4;\" x=\"270.100634\" xlink:href=\"#m9777a1799c\" y=\"96.095649\"/>\r\n     <use style=\"fill:#1f77b4;stroke:#1f77b4;\" x=\"276.139181\" xlink:href=\"#m9777a1799c\" y=\"104.808185\"/>\r\n     <use style=\"fill:#1f77b4;stroke:#1f77b4;\" x=\"280.144802\" xlink:href=\"#m9777a1799c\" y=\"124.422728\"/>\r\n     <use style=\"fill:#1f77b4;stroke:#1f77b4;\" x=\"94.869521\" xlink:href=\"#m9777a1799c\" y=\"38.571469\"/>\r\n     <use style=\"fill:#1f77b4;stroke:#1f77b4;\" x=\"113.222361\" xlink:href=\"#m9777a1799c\" y=\"39.931104\"/>\r\n     <use style=\"fill:#1f77b4;stroke:#1f77b4;\" x=\"123.429997\" xlink:href=\"#m9777a1799c\" y=\"42.550132\"/>\r\n     <use style=\"fill:#1f77b4;stroke:#1f77b4;\" x=\"315.522526\" xlink:href=\"#m9777a1799c\" y=\"163.166426\"/>\r\n     <use style=\"fill:#1f77b4;stroke:#1f77b4;\" x=\"326.29582\" xlink:href=\"#m9777a1799c\" y=\"186.309458\"/>\r\n     <use style=\"fill:#1f77b4;stroke:#1f77b4;\" x=\"328.526743\" xlink:href=\"#m9777a1799c\" y=\"197.395574\"/>\r\n     <use style=\"fill:#1f77b4;stroke:#1f77b4;\" x=\"323.566243\" xlink:href=\"#m9777a1799c\" y=\"183.84044\"/>\r\n     <use style=\"fill:#1f77b4;stroke:#1f77b4;\" x=\"299.187983\" xlink:href=\"#m9777a1799c\" y=\"129.449114\"/>\r\n     <use style=\"fill:#1f77b4;stroke:#1f77b4;\" x=\"307.721448\" xlink:href=\"#m9777a1799c\" y=\"162.247923\"/>\r\n     <use style=\"fill:#1f77b4;stroke:#1f77b4;\" x=\"302.49469\" xlink:href=\"#m9777a1799c\" y=\"139.288588\"/>\r\n     <use style=\"fill:#1f77b4;stroke:#1f77b4;\" x=\"168.30858\" xlink:href=\"#m9777a1799c\" y=\"53.646378\"/>\r\n     <use style=\"fill:#1f77b4;stroke:#1f77b4;\" x=\"170.306001\" xlink:href=\"#m9777a1799c\" y=\"54.613342\"/>\r\n     <use style=\"fill:#1f77b4;stroke:#1f77b4;\" x=\"151.6464\" xlink:href=\"#m9777a1799c\" y=\"51.234357\"/>\r\n     <use style=\"fill:#1f77b4;stroke:#1f77b4;\" x=\"147.007501\" xlink:href=\"#m9777a1799c\" y=\"49.593351\"/>\r\n     <use style=\"fill:#1f77b4;stroke:#1f77b4;\" x=\"223.791517\" xlink:href=\"#m9777a1799c\" y=\"68.701116\"/>\r\n     <use style=\"fill:#1f77b4;stroke:#1f77b4;\" x=\"216.370663\" xlink:href=\"#m9777a1799c\" y=\"67.297687\"/>\r\n     <use style=\"fill:#1f77b4;stroke:#1f77b4;\" x=\"233.116533\" xlink:href=\"#m9777a1799c\" y=\"68.973794\"/>\r\n     <use style=\"fill:#1f77b4;stroke:#1f77b4;\" x=\"193.854586\" xlink:href=\"#m9777a1799c\" y=\"63.64854\"/>\r\n     <use style=\"fill:#1f77b4;stroke:#1f77b4;\" x=\"197.108614\" xlink:href=\"#m9777a1799c\" y=\"66.46116\"/>\r\n     <use style=\"fill:#1f77b4;stroke:#1f77b4;\" x=\"171.932585\" xlink:href=\"#m9777a1799c\" y=\"62.42768\"/>\r\n     <use style=\"fill:#1f77b4;stroke:#1f77b4;\" x=\"241.252514\" xlink:href=\"#m9777a1799c\" y=\"78.196293\"/>\r\n     <use style=\"fill:#1f77b4;stroke:#1f77b4;\" x=\"251.216634\" xlink:href=\"#m9777a1799c\" y=\"94.354594\"/>\r\n     <use style=\"fill:#1f77b4;stroke:#1f77b4;\" x=\"257.586854\" xlink:href=\"#m9777a1799c\" y=\"102.097883\"/>\r\n     <use style=\"fill:#1f77b4;stroke:#1f77b4;\" x=\"267.737411\" xlink:href=\"#m9777a1799c\" y=\"109.559508\"/>\r\n     <use style=\"fill:#1f77b4;stroke:#1f77b4;\" x=\"273.042284\" xlink:href=\"#m9777a1799c\" y=\"118.874239\"/>\r\n     <use style=\"fill:#1f77b4;stroke:#1f77b4;\" x=\"279.883141\" xlink:href=\"#m9777a1799c\" y=\"124.675631\"/>\r\n     <use style=\"fill:#1f77b4;stroke:#1f77b4;\" x=\"94.066552\" xlink:href=\"#m9777a1799c\" y=\"39.935087\"/>\r\n     <use style=\"fill:#1f77b4;stroke:#1f77b4;\" x=\"106.247089\" xlink:href=\"#m9777a1799c\" y=\"41.74907\"/>\r\n     <use style=\"fill:#1f77b4;stroke:#1f77b4;\" x=\"118.686474\" xlink:href=\"#m9777a1799c\" y=\"47.69765\"/>\r\n     <use style=\"fill:#1f77b4;stroke:#1f77b4;\" x=\"108.206999\" xlink:href=\"#m9777a1799c\" y=\"45.363514\"/>\r\n     <use style=\"fill:#1f77b4;stroke:#1f77b4;\" x=\"315.474325\" xlink:href=\"#m9777a1799c\" y=\"163.586388\"/>\r\n     <use style=\"fill:#1f77b4;stroke:#1f77b4;\" x=\"325.068156\" xlink:href=\"#m9777a1799c\" y=\"188.872221\"/>\r\n     <use style=\"fill:#1f77b4;stroke:#1f77b4;\" x=\"296.230664\" xlink:href=\"#m9777a1799c\" y=\"131.726954\"/>\r\n     <use style=\"fill:#1f77b4;stroke:#1f77b4;\" x=\"298.447232\" xlink:href=\"#m9777a1799c\" y=\"144.200065\"/>\r\n     <use style=\"fill:#1f77b4;stroke:#1f77b4;\" x=\"301.23154\" xlink:href=\"#m9777a1799c\" y=\"162.269291\"/>\r\n     <use style=\"fill:#1f77b4;stroke:#1f77b4;\" x=\"159.053634\" xlink:href=\"#m9777a1799c\" y=\"62.040301\"/>\r\n     <use style=\"fill:#1f77b4;stroke:#1f77b4;\" x=\"150.462546\" xlink:href=\"#m9777a1799c\" y=\"53.64378\"/>\r\n     <use style=\"fill:#1f77b4;stroke:#1f77b4;\" x=\"144.50875\" xlink:href=\"#m9777a1799c\" y=\"52.07428\"/>\r\n     <use style=\"fill:#1f77b4;stroke:#1f77b4;\" x=\"136.888523\" xlink:href=\"#m9777a1799c\" y=\"49.657563\"/>\r\n     <use style=\"fill:#1f77b4;stroke:#1f77b4;\" x=\"232.879855\" xlink:href=\"#m9777a1799c\" y=\"74.406711\"/>\r\n     <use style=\"fill:#1f77b4;stroke:#1f77b4;\" x=\"217.531198\" xlink:href=\"#m9777a1799c\" y=\"70.357963\"/>\r\n     <use style=\"fill:#1f77b4;stroke:#1f77b4;\" x=\"232.109278\" xlink:href=\"#m9777a1799c\" y=\"72.807555\"/>\r\n     <use style=\"fill:#1f77b4;stroke:#1f77b4;\" x=\"189.447174\" xlink:href=\"#m9777a1799c\" y=\"65.733331\"/>\r\n     <use style=\"fill:#1f77b4;stroke:#1f77b4;\" x=\"194.888652\" xlink:href=\"#m9777a1799c\" y=\"69.284307\"/>\r\n     <use style=\"fill:#1f77b4;stroke:#1f77b4;\" x=\"238.725961\" xlink:href=\"#m9777a1799c\" y=\"92.151389\"/>\r\n     <use style=\"fill:#1f77b4;stroke:#1f77b4;\" x=\"234.852112\" xlink:href=\"#m9777a1799c\" y=\"81.109503\"/>\r\n     <use style=\"fill:#1f77b4;stroke:#1f77b4;\" x=\"250.932441\" xlink:href=\"#m9777a1799c\" y=\"101.597552\"/>\r\n     <use style=\"fill:#1f77b4;stroke:#1f77b4;\" x=\"241.430112\" xlink:href=\"#m9777a1799c\" y=\"99.773137\"/>\r\n     <use style=\"fill:#1f77b4;stroke:#1f77b4;\" x=\"248.244244\" xlink:href=\"#m9777a1799c\" y=\"101.375261\"/>\r\n     <use style=\"fill:#1f77b4;stroke:#1f77b4;\" x=\"258.843243\" xlink:href=\"#m9777a1799c\" y=\"111.829867\"/>\r\n     <use style=\"fill:#1f77b4;stroke:#1f77b4;\" x=\"258.57293\" xlink:href=\"#m9777a1799c\" y=\"109.89684\"/>\r\n     <use style=\"fill:#1f77b4;stroke:#1f77b4;\" x=\"277.681283\" xlink:href=\"#m9777a1799c\" y=\"130.421484\"/>\r\n     <use style=\"fill:#1f77b4;stroke:#1f77b4;\" x=\"70.223771\" xlink:href=\"#m9777a1799c\" y=\"40.548755\"/>\r\n     <use style=\"fill:#1f77b4;stroke:#1f77b4;\" x=\"91.549149\" xlink:href=\"#m9777a1799c\" y=\"45.066417\"/>\r\n     <use style=\"fill:#1f77b4;stroke:#1f77b4;\" x=\"305.014719\" xlink:href=\"#m9777a1799c\" y=\"172.072226\"/>\r\n     <use style=\"fill:#1f77b4;stroke:#1f77b4;\" x=\"313.625606\" xlink:href=\"#m9777a1799c\" y=\"177.874349\"/>\r\n     <use style=\"fill:#1f77b4;stroke:#1f77b4;\" x=\"301.752326\" xlink:href=\"#m9777a1799c\" y=\"171.72381\"/>\r\n     <use style=\"fill:#1f77b4;stroke:#1f77b4;\" x=\"323.771224\" xlink:href=\"#m9777a1799c\" y=\"204.106755\"/>\r\n     <use style=\"fill:#1f77b4;stroke:#1f77b4;\" x=\"319.266067\" xlink:href=\"#m9777a1799c\" y=\"194.679954\"/>\r\n     <use style=\"fill:#1f77b4;stroke:#1f77b4;\" x=\"295.841332\" xlink:href=\"#m9777a1799c\" y=\"133.622215\"/>\r\n     <use style=\"fill:#1f77b4;stroke:#1f77b4;\" x=\"298.575031\" xlink:href=\"#m9777a1799c\" y=\"167.486883\"/>\r\n     <use style=\"fill:#1f77b4;stroke:#1f77b4;\" x=\"146.795191\" xlink:href=\"#m9777a1799c\" y=\"58.747495\"/>\r\n     <use style=\"fill:#1f77b4;stroke:#1f77b4;\" x=\"141.610165\" xlink:href=\"#m9777a1799c\" y=\"55.191519\"/>\r\n     <use style=\"fill:#1f77b4;stroke:#1f77b4;\" x=\"118.826461\" xlink:href=\"#m9777a1799c\" y=\"49.771618\"/>\r\n     <use style=\"fill:#1f77b4;stroke:#1f77b4;\" x=\"214.063267\" xlink:href=\"#m9777a1799c\" y=\"71.068871\"/>\r\n     <use style=\"fill:#1f77b4;stroke:#1f77b4;\" x=\"224.031453\" xlink:href=\"#m9777a1799c\" y=\"74.2585\"/>\r\n     <use style=\"fill:#1f77b4;stroke:#1f77b4;\" x=\"157.298117\" xlink:href=\"#m9777a1799c\" y=\"66.145974\"/>\r\n     <use style=\"fill:#1f77b4;stroke:#1f77b4;\" x=\"173.860858\" xlink:href=\"#m9777a1799c\" y=\"67.180638\"/>\r\n     <use style=\"fill:#1f77b4;stroke:#1f77b4;\" x=\"184.097129\" xlink:href=\"#m9777a1799c\" y=\"70.645449\"/>\r\n     <use style=\"fill:#1f77b4;stroke:#1f77b4;\" x=\"234.489281\" xlink:href=\"#m9777a1799c\" y=\"91.985964\"/>\r\n     <use style=\"fill:#1f77b4;stroke:#1f77b4;\" x=\"247.115158\" xlink:href=\"#m9777a1799c\" y=\"106.429701\"/>\r\n     <use style=\"fill:#1f77b4;stroke:#1f77b4;\" x=\"251.558186\" xlink:href=\"#m9777a1799c\" y=\"110.564995\"/>\r\n     <use style=\"fill:#1f77b4;stroke:#1f77b4;\" x=\"253.164941\" xlink:href=\"#m9777a1799c\" y=\"127.849932\"/>\r\n     <use style=\"fill:#1f77b4;stroke:#1f77b4;\" x=\"270.067977\" xlink:href=\"#m9777a1799c\" y=\"130.827357\"/>\r\n     <use style=\"fill:#1f77b4;stroke:#1f77b4;\" x=\"68.396869\" xlink:href=\"#m9777a1799c\" y=\"42.670041\"/>\r\n     <use style=\"fill:#1f77b4;stroke:#1f77b4;\" x=\"85.189183\" xlink:href=\"#m9777a1799c\" y=\"48.345658\"/>\r\n     <use style=\"fill:#1f77b4;stroke:#1f77b4;\" x=\"82.571024\" xlink:href=\"#m9777a1799c\" y=\"47.783786\"/>\r\n     <use style=\"fill:#1f77b4;stroke:#1f77b4;\" x=\"307.587144\" xlink:href=\"#m9777a1799c\" y=\"180.96849\"/>\r\n     <use style=\"fill:#1f77b4;stroke:#1f77b4;\" x=\"309.801048\" xlink:href=\"#m9777a1799c\" y=\"183.087865\"/>\r\n     <use style=\"fill:#1f77b4;stroke:#1f77b4;\" x=\"319.586713\" xlink:href=\"#m9777a1799c\" y=\"211.033299\"/>\r\n     <use style=\"fill:#1f77b4;stroke:#1f77b4;\" x=\"316.221107\" xlink:href=\"#m9777a1799c\" y=\"206.625937\"/>\r\n     <use style=\"fill:#1f77b4;stroke:#1f77b4;\" x=\"313.65739\" xlink:href=\"#m9777a1799c\" y=\"205.940244\"/>\r\n     <use style=\"fill:#1f77b4;stroke:#1f77b4;\" x=\"295.205658\" xlink:href=\"#m9777a1799c\" y=\"167.230686\"/>\r\n     <use style=\"fill:#1f77b4;stroke:#1f77b4;\" x=\"294.195729\" xlink:href=\"#m9777a1799c\" y=\"140.793085\"/>\r\n     <use style=\"fill:#1f77b4;stroke:#1f77b4;\" x=\"282.504945\" xlink:href=\"#m9777a1799c\" y=\"135.845723\"/>\r\n     <use style=\"fill:#1f77b4;stroke:#1f77b4;\" x=\"277.875192\" xlink:href=\"#m9777a1799c\" y=\"134.770432\"/>\r\n     <use style=\"fill:#1f77b4;stroke:#1f77b4;\" x=\"297.972535\" xlink:href=\"#m9777a1799c\" y=\"168.00384\"/>\r\n     <use style=\"fill:#1f77b4;stroke:#1f77b4;\" x=\"141.387265\" xlink:href=\"#m9777a1799c\" y=\"55.239295\"/>\r\n     <use style=\"fill:#1f77b4;stroke:#1f77b4;\" x=\"116.600727\" xlink:href=\"#m9777a1799c\" y=\"53.49026\"/>\r\n     <use style=\"fill:#1f77b4;stroke:#1f77b4;\" x=\"97.990978\" xlink:href=\"#m9777a1799c\" y=\"53.283499\"/>\r\n     <use style=\"fill:#1f77b4;stroke:#1f77b4;\" x=\"93.87989\" xlink:href=\"#m9777a1799c\" y=\"52.890425\"/>\r\n     <use style=\"fill:#1f77b4;stroke:#1f77b4;\" x=\"197.428161\" xlink:href=\"#m9777a1799c\" y=\"71.992229\"/>\r\n     <use style=\"fill:#1f77b4;stroke:#1f77b4;\" x=\"210.429175\" xlink:href=\"#m9777a1799c\" y=\"77.140593\"/>\r\n     <use style=\"fill:#1f77b4;stroke:#1f77b4;\" x=\"221.492857\" xlink:href=\"#m9777a1799c\" y=\"89.059618\"/>\r\n     <use style=\"fill:#1f77b4;stroke:#1f77b4;\" x=\"157.533838\" xlink:href=\"#m9777a1799c\" y=\"67.876281\"/>\r\n     <use style=\"fill:#1f77b4;stroke:#1f77b4;\" x=\"231.800407\" xlink:href=\"#m9777a1799c\" y=\"105.830773\"/>\r\n     <use style=\"fill:#1f77b4;stroke:#1f77b4;\" x=\"244.254316\" xlink:href=\"#m9777a1799c\" y=\"107.545428\"/>\r\n     <use style=\"fill:#1f77b4;stroke:#1f77b4;\" x=\"250.011415\" xlink:href=\"#m9777a1799c\" y=\"111.414412\"/>\r\n     <use style=\"fill:#1f77b4;stroke:#1f77b4;\" x=\"250.982963\" xlink:href=\"#m9777a1799c\" y=\"120.523833\"/>\r\n     <use style=\"fill:#1f77b4;stroke:#1f77b4;\" x=\"263.511205\" xlink:href=\"#m9777a1799c\" y=\"131.693364\"/>\r\n     <use style=\"fill:#1f77b4;stroke:#1f77b4;\" x=\"81.708904\" xlink:href=\"#m9777a1799c\" y=\"49.774859\"/>\r\n     <use style=\"fill:#1f77b4;stroke:#1f77b4;\" x=\"301.050235\" xlink:href=\"#m9777a1799c\" y=\"187.633582\"/>\r\n     <use style=\"fill:#1f77b4;stroke:#1f77b4;\" x=\"302.331298\" xlink:href=\"#m9777a1799c\" y=\"195.532854\"/>\r\n     <use style=\"fill:#1f77b4;stroke:#1f77b4;\" x=\"306.786767\" xlink:href=\"#m9777a1799c\" y=\"197.10586\"/>\r\n     <use style=\"fill:#1f77b4;stroke:#1f77b4;\" x=\"311.351767\" xlink:href=\"#m9777a1799c\" y=\"208.758565\"/>\r\n     <use style=\"fill:#1f77b4;stroke:#1f77b4;\" x=\"285.781024\" xlink:href=\"#m9777a1799c\" y=\"154.08127\"/>\r\n     <use style=\"fill:#1f77b4;stroke:#1f77b4;\" x=\"267.277446\" xlink:href=\"#m9777a1799c\" y=\"138.700563\"/>\r\n     <use style=\"fill:#1f77b4;stroke:#1f77b4;\" x=\"266.587102\" xlink:href=\"#m9777a1799c\" y=\"137.90573\"/>\r\n     <use style=\"fill:#1f77b4;stroke:#1f77b4;\" x=\"277.365397\" xlink:href=\"#m9777a1799c\" y=\"144.385563\"/>\r\n     <use style=\"fill:#1f77b4;stroke:#1f77b4;\" x=\"296.549015\" xlink:href=\"#m9777a1799c\" y=\"168.23347\"/>\r\n     <use style=\"fill:#1f77b4;stroke:#1f77b4;\" x=\"141.386661\" xlink:href=\"#m9777a1799c\" y=\"60.696287\"/>\r\n    </g>\r\n   </g>\r\n   <g id=\"matplotlib.axis_1\">\r\n    <g id=\"xtick_1\">\r\n     <g id=\"line2d_1\">\r\n      <defs>\r\n       <path d=\"M 0 0 \r\nL 0 3.5 \r\n\" id=\"m6183ba29e4\" style=\"stroke:#000000;stroke-width:0.8;\"/>\r\n      </defs>\r\n      <g>\r\n       <use style=\"stroke:#000000;stroke-width:0.8;\" x=\"62.814213\" xlink:href=\"#m6183ba29e4\" y=\"224.64\"/>\r\n      </g>\r\n     </g>\r\n     <g id=\"text_1\">\r\n      <!-- 0.0 -->\r\n      <defs>\r\n       <path d=\"M 31.78125 66.40625 \r\nQ 24.171875 66.40625 20.328125 58.90625 \r\nQ 16.5 51.421875 16.5 36.375 \r\nQ 16.5 21.390625 20.328125 13.890625 \r\nQ 24.171875 6.390625 31.78125 6.390625 \r\nQ 39.453125 6.390625 43.28125 13.890625 \r\nQ 47.125 21.390625 47.125 36.375 \r\nQ 47.125 51.421875 43.28125 58.90625 \r\nQ 39.453125 66.40625 31.78125 66.40625 \r\nz\r\nM 31.78125 74.21875 \r\nQ 44.046875 74.21875 50.515625 64.515625 \r\nQ 56.984375 54.828125 56.984375 36.375 \r\nQ 56.984375 17.96875 50.515625 8.265625 \r\nQ 44.046875 -1.421875 31.78125 -1.421875 \r\nQ 19.53125 -1.421875 13.0625 8.265625 \r\nQ 6.59375 17.96875 6.59375 36.375 \r\nQ 6.59375 54.828125 13.0625 64.515625 \r\nQ 19.53125 74.21875 31.78125 74.21875 \r\nz\r\n\" id=\"DejaVuSans-48\"/>\r\n       <path d=\"M 10.6875 12.40625 \r\nL 21 12.40625 \r\nL 21 0 \r\nL 10.6875 0 \r\nz\r\n\" id=\"DejaVuSans-46\"/>\r\n      </defs>\r\n      <g transform=\"translate(54.86265 239.238437)scale(0.1 -0.1)\">\r\n       <use xlink:href=\"#DejaVuSans-48\"/>\r\n       <use x=\"63.623047\" xlink:href=\"#DejaVuSans-46\"/>\r\n       <use x=\"95.410156\" xlink:href=\"#DejaVuSans-48\"/>\r\n      </g>\r\n     </g>\r\n    </g>\r\n    <g id=\"xtick_2\">\r\n     <g id=\"line2d_2\">\r\n      <g>\r\n       <use style=\"stroke:#000000;stroke-width:0.8;\" x=\"123.905699\" xlink:href=\"#m6183ba29e4\" y=\"224.64\"/>\r\n      </g>\r\n     </g>\r\n     <g id=\"text_2\">\r\n      <!-- 0.2 -->\r\n      <defs>\r\n       <path d=\"M 19.1875 8.296875 \r\nL 53.609375 8.296875 \r\nL 53.609375 0 \r\nL 7.328125 0 \r\nL 7.328125 8.296875 \r\nQ 12.9375 14.109375 22.625 23.890625 \r\nQ 32.328125 33.6875 34.8125 36.53125 \r\nQ 39.546875 41.84375 41.421875 45.53125 \r\nQ 43.3125 49.21875 43.3125 52.78125 \r\nQ 43.3125 58.59375 39.234375 62.25 \r\nQ 35.15625 65.921875 28.609375 65.921875 \r\nQ 23.96875 65.921875 18.8125 64.3125 \r\nQ 13.671875 62.703125 7.8125 59.421875 \r\nL 7.8125 69.390625 \r\nQ 13.765625 71.78125 18.9375 73 \r\nQ 24.125 74.21875 28.421875 74.21875 \r\nQ 39.75 74.21875 46.484375 68.546875 \r\nQ 53.21875 62.890625 53.21875 53.421875 \r\nQ 53.21875 48.921875 51.53125 44.890625 \r\nQ 49.859375 40.875 45.40625 35.40625 \r\nQ 44.1875 33.984375 37.640625 27.21875 \r\nQ 31.109375 20.453125 19.1875 8.296875 \r\nz\r\n\" id=\"DejaVuSans-50\"/>\r\n      </defs>\r\n      <g transform=\"translate(115.954136 239.238437)scale(0.1 -0.1)\">\r\n       <use xlink:href=\"#DejaVuSans-48\"/>\r\n       <use x=\"63.623047\" xlink:href=\"#DejaVuSans-46\"/>\r\n       <use x=\"95.410156\" xlink:href=\"#DejaVuSans-50\"/>\r\n      </g>\r\n     </g>\r\n    </g>\r\n    <g id=\"xtick_3\">\r\n     <g id=\"line2d_3\">\r\n      <g>\r\n       <use style=\"stroke:#000000;stroke-width:0.8;\" x=\"184.997185\" xlink:href=\"#m6183ba29e4\" y=\"224.64\"/>\r\n      </g>\r\n     </g>\r\n     <g id=\"text_3\">\r\n      <!-- 0.4 -->\r\n      <defs>\r\n       <path d=\"M 37.796875 64.3125 \r\nL 12.890625 25.390625 \r\nL 37.796875 25.390625 \r\nz\r\nM 35.203125 72.90625 \r\nL 47.609375 72.90625 \r\nL 47.609375 25.390625 \r\nL 58.015625 25.390625 \r\nL 58.015625 17.1875 \r\nL 47.609375 17.1875 \r\nL 47.609375 0 \r\nL 37.796875 0 \r\nL 37.796875 17.1875 \r\nL 4.890625 17.1875 \r\nL 4.890625 26.703125 \r\nz\r\n\" id=\"DejaVuSans-52\"/>\r\n      </defs>\r\n      <g transform=\"translate(177.045623 239.238437)scale(0.1 -0.1)\">\r\n       <use xlink:href=\"#DejaVuSans-48\"/>\r\n       <use x=\"63.623047\" xlink:href=\"#DejaVuSans-46\"/>\r\n       <use x=\"95.410156\" xlink:href=\"#DejaVuSans-52\"/>\r\n      </g>\r\n     </g>\r\n    </g>\r\n    <g id=\"xtick_4\">\r\n     <g id=\"line2d_4\">\r\n      <g>\r\n       <use style=\"stroke:#000000;stroke-width:0.8;\" x=\"246.088672\" xlink:href=\"#m6183ba29e4\" y=\"224.64\"/>\r\n      </g>\r\n     </g>\r\n     <g id=\"text_4\">\r\n      <!-- 0.6 -->\r\n      <defs>\r\n       <path d=\"M 33.015625 40.375 \r\nQ 26.375 40.375 22.484375 35.828125 \r\nQ 18.609375 31.296875 18.609375 23.390625 \r\nQ 18.609375 15.53125 22.484375 10.953125 \r\nQ 26.375 6.390625 33.015625 6.390625 \r\nQ 39.65625 6.390625 43.53125 10.953125 \r\nQ 47.40625 15.53125 47.40625 23.390625 \r\nQ 47.40625 31.296875 43.53125 35.828125 \r\nQ 39.65625 40.375 33.015625 40.375 \r\nz\r\nM 52.59375 71.296875 \r\nL 52.59375 62.3125 \r\nQ 48.875 64.0625 45.09375 64.984375 \r\nQ 41.3125 65.921875 37.59375 65.921875 \r\nQ 27.828125 65.921875 22.671875 59.328125 \r\nQ 17.53125 52.734375 16.796875 39.40625 \r\nQ 19.671875 43.65625 24.015625 45.921875 \r\nQ 28.375 48.1875 33.59375 48.1875 \r\nQ 44.578125 48.1875 50.953125 41.515625 \r\nQ 57.328125 34.859375 57.328125 23.390625 \r\nQ 57.328125 12.15625 50.6875 5.359375 \r\nQ 44.046875 -1.421875 33.015625 -1.421875 \r\nQ 20.359375 -1.421875 13.671875 8.265625 \r\nQ 6.984375 17.96875 6.984375 36.375 \r\nQ 6.984375 53.65625 15.1875 63.9375 \r\nQ 23.390625 74.21875 37.203125 74.21875 \r\nQ 40.921875 74.21875 44.703125 73.484375 \r\nQ 48.484375 72.75 52.59375 71.296875 \r\nz\r\n\" id=\"DejaVuSans-54\"/>\r\n      </defs>\r\n      <g transform=\"translate(238.137109 239.238437)scale(0.1 -0.1)\">\r\n       <use xlink:href=\"#DejaVuSans-48\"/>\r\n       <use x=\"63.623047\" xlink:href=\"#DejaVuSans-46\"/>\r\n       <use x=\"95.410156\" xlink:href=\"#DejaVuSans-54\"/>\r\n      </g>\r\n     </g>\r\n    </g>\r\n    <g id=\"xtick_5\">\r\n     <g id=\"line2d_5\">\r\n      <g>\r\n       <use style=\"stroke:#000000;stroke-width:0.8;\" x=\"307.180158\" xlink:href=\"#m6183ba29e4\" y=\"224.64\"/>\r\n      </g>\r\n     </g>\r\n     <g id=\"text_5\">\r\n      <!-- 0.8 -->\r\n      <defs>\r\n       <path d=\"M 31.78125 34.625 \r\nQ 24.75 34.625 20.71875 30.859375 \r\nQ 16.703125 27.09375 16.703125 20.515625 \r\nQ 16.703125 13.921875 20.71875 10.15625 \r\nQ 24.75 6.390625 31.78125 6.390625 \r\nQ 38.8125 6.390625 42.859375 10.171875 \r\nQ 46.921875 13.96875 46.921875 20.515625 \r\nQ 46.921875 27.09375 42.890625 30.859375 \r\nQ 38.875 34.625 31.78125 34.625 \r\nz\r\nM 21.921875 38.8125 \r\nQ 15.578125 40.375 12.03125 44.71875 \r\nQ 8.5 49.078125 8.5 55.328125 \r\nQ 8.5 64.0625 14.71875 69.140625 \r\nQ 20.953125 74.21875 31.78125 74.21875 \r\nQ 42.671875 74.21875 48.875 69.140625 \r\nQ 55.078125 64.0625 55.078125 55.328125 \r\nQ 55.078125 49.078125 51.53125 44.71875 \r\nQ 48 40.375 41.703125 38.8125 \r\nQ 48.828125 37.15625 52.796875 32.3125 \r\nQ 56.78125 27.484375 56.78125 20.515625 \r\nQ 56.78125 9.90625 50.3125 4.234375 \r\nQ 43.84375 -1.421875 31.78125 -1.421875 \r\nQ 19.734375 -1.421875 13.25 4.234375 \r\nQ 6.78125 9.90625 6.78125 20.515625 \r\nQ 6.78125 27.484375 10.78125 32.3125 \r\nQ 14.796875 37.15625 21.921875 38.8125 \r\nz\r\nM 18.3125 54.390625 \r\nQ 18.3125 48.734375 21.84375 45.5625 \r\nQ 25.390625 42.390625 31.78125 42.390625 \r\nQ 38.140625 42.390625 41.71875 45.5625 \r\nQ 45.3125 48.734375 45.3125 54.390625 \r\nQ 45.3125 60.0625 41.71875 63.234375 \r\nQ 38.140625 66.40625 31.78125 66.40625 \r\nQ 25.390625 66.40625 21.84375 63.234375 \r\nQ 18.3125 60.0625 18.3125 54.390625 \r\nz\r\n\" id=\"DejaVuSans-56\"/>\r\n      </defs>\r\n      <g transform=\"translate(299.228595 239.238437)scale(0.1 -0.1)\">\r\n       <use xlink:href=\"#DejaVuSans-48\"/>\r\n       <use x=\"63.623047\" xlink:href=\"#DejaVuSans-46\"/>\r\n       <use x=\"95.410156\" xlink:href=\"#DejaVuSans-56\"/>\r\n      </g>\r\n     </g>\r\n    </g>\r\n    <g id=\"xtick_6\">\r\n     <g id=\"line2d_6\">\r\n      <g>\r\n       <use style=\"stroke:#000000;stroke-width:0.8;\" x=\"368.271644\" xlink:href=\"#m6183ba29e4\" y=\"224.64\"/>\r\n      </g>\r\n     </g>\r\n     <g id=\"text_6\">\r\n      <!-- 1.0 -->\r\n      <defs>\r\n       <path d=\"M 12.40625 8.296875 \r\nL 28.515625 8.296875 \r\nL 28.515625 63.921875 \r\nL 10.984375 60.40625 \r\nL 10.984375 69.390625 \r\nL 28.421875 72.90625 \r\nL 38.28125 72.90625 \r\nL 38.28125 8.296875 \r\nL 54.390625 8.296875 \r\nL 54.390625 0 \r\nL 12.40625 0 \r\nz\r\n\" id=\"DejaVuSans-49\"/>\r\n      </defs>\r\n      <g transform=\"translate(360.320082 239.238437)scale(0.1 -0.1)\">\r\n       <use xlink:href=\"#DejaVuSans-49\"/>\r\n       <use x=\"63.623047\" xlink:href=\"#DejaVuSans-46\"/>\r\n       <use x=\"95.410156\" xlink:href=\"#DejaVuSans-48\"/>\r\n      </g>\r\n     </g>\r\n    </g>\r\n    <g id=\"text_7\">\r\n     <!-- Function 1 -->\r\n     <defs>\r\n      <path d=\"M 9.8125 72.90625 \r\nL 51.703125 72.90625 \r\nL 51.703125 64.59375 \r\nL 19.671875 64.59375 \r\nL 19.671875 43.109375 \r\nL 48.578125 43.109375 \r\nL 48.578125 34.8125 \r\nL 19.671875 34.8125 \r\nL 19.671875 0 \r\nL 9.8125 0 \r\nz\r\n\" id=\"DejaVuSans-70\"/>\r\n      <path d=\"M 8.5 21.578125 \r\nL 8.5 54.6875 \r\nL 17.484375 54.6875 \r\nL 17.484375 21.921875 \r\nQ 17.484375 14.15625 20.5 10.265625 \r\nQ 23.53125 6.390625 29.59375 6.390625 \r\nQ 36.859375 6.390625 41.078125 11.03125 \r\nQ 45.3125 15.671875 45.3125 23.6875 \r\nL 45.3125 54.6875 \r\nL 54.296875 54.6875 \r\nL 54.296875 0 \r\nL 45.3125 0 \r\nL 45.3125 8.40625 \r\nQ 42.046875 3.421875 37.71875 1 \r\nQ 33.40625 -1.421875 27.6875 -1.421875 \r\nQ 18.265625 -1.421875 13.375 4.4375 \r\nQ 8.5 10.296875 8.5 21.578125 \r\nz\r\nM 31.109375 56 \r\nz\r\n\" id=\"DejaVuSans-117\"/>\r\n      <path d=\"M 54.890625 33.015625 \r\nL 54.890625 0 \r\nL 45.90625 0 \r\nL 45.90625 32.71875 \r\nQ 45.90625 40.484375 42.875 44.328125 \r\nQ 39.84375 48.1875 33.796875 48.1875 \r\nQ 26.515625 48.1875 22.3125 43.546875 \r\nQ 18.109375 38.921875 18.109375 30.90625 \r\nL 18.109375 0 \r\nL 9.078125 0 \r\nL 9.078125 54.6875 \r\nL 18.109375 54.6875 \r\nL 18.109375 46.1875 \r\nQ 21.34375 51.125 25.703125 53.5625 \r\nQ 30.078125 56 35.796875 56 \r\nQ 45.21875 56 50.046875 50.171875 \r\nQ 54.890625 44.34375 54.890625 33.015625 \r\nz\r\n\" id=\"DejaVuSans-110\"/>\r\n      <path d=\"M 48.78125 52.59375 \r\nL 48.78125 44.1875 \r\nQ 44.96875 46.296875 41.140625 47.34375 \r\nQ 37.3125 48.390625 33.40625 48.390625 \r\nQ 24.65625 48.390625 19.8125 42.84375 \r\nQ 14.984375 37.3125 14.984375 27.296875 \r\nQ 14.984375 17.28125 19.8125 11.734375 \r\nQ 24.65625 6.203125 33.40625 6.203125 \r\nQ 37.3125 6.203125 41.140625 7.25 \r\nQ 44.96875 8.296875 48.78125 10.40625 \r\nL 48.78125 2.09375 \r\nQ 45.015625 0.34375 40.984375 -0.53125 \r\nQ 36.96875 -1.421875 32.421875 -1.421875 \r\nQ 20.0625 -1.421875 12.78125 6.34375 \r\nQ 5.515625 14.109375 5.515625 27.296875 \r\nQ 5.515625 40.671875 12.859375 48.328125 \r\nQ 20.21875 56 33.015625 56 \r\nQ 37.15625 56 41.109375 55.140625 \r\nQ 45.0625 54.296875 48.78125 52.59375 \r\nz\r\n\" id=\"DejaVuSans-99\"/>\r\n      <path d=\"M 18.3125 70.21875 \r\nL 18.3125 54.6875 \r\nL 36.8125 54.6875 \r\nL 36.8125 47.703125 \r\nL 18.3125 47.703125 \r\nL 18.3125 18.015625 \r\nQ 18.3125 11.328125 20.140625 9.421875 \r\nQ 21.96875 7.515625 27.59375 7.515625 \r\nL 36.8125 7.515625 \r\nL 36.8125 0 \r\nL 27.59375 0 \r\nQ 17.1875 0 13.234375 3.875 \r\nQ 9.28125 7.765625 9.28125 18.015625 \r\nL 9.28125 47.703125 \r\nL 2.6875 47.703125 \r\nL 2.6875 54.6875 \r\nL 9.28125 54.6875 \r\nL 9.28125 70.21875 \r\nz\r\n\" id=\"DejaVuSans-116\"/>\r\n      <path d=\"M 9.421875 54.6875 \r\nL 18.40625 54.6875 \r\nL 18.40625 0 \r\nL 9.421875 0 \r\nz\r\nM 9.421875 75.984375 \r\nL 18.40625 75.984375 \r\nL 18.40625 64.59375 \r\nL 9.421875 64.59375 \r\nz\r\n\" id=\"DejaVuSans-105\"/>\r\n      <path d=\"M 30.609375 48.390625 \r\nQ 23.390625 48.390625 19.1875 42.75 \r\nQ 14.984375 37.109375 14.984375 27.296875 \r\nQ 14.984375 17.484375 19.15625 11.84375 \r\nQ 23.34375 6.203125 30.609375 6.203125 \r\nQ 37.796875 6.203125 41.984375 11.859375 \r\nQ 46.1875 17.53125 46.1875 27.296875 \r\nQ 46.1875 37.015625 41.984375 42.703125 \r\nQ 37.796875 48.390625 30.609375 48.390625 \r\nz\r\nM 30.609375 56 \r\nQ 42.328125 56 49.015625 48.375 \r\nQ 55.71875 40.765625 55.71875 27.296875 \r\nQ 55.71875 13.875 49.015625 6.21875 \r\nQ 42.328125 -1.421875 30.609375 -1.421875 \r\nQ 18.84375 -1.421875 12.171875 6.21875 \r\nQ 5.515625 13.875 5.515625 27.296875 \r\nQ 5.515625 40.765625 12.171875 48.375 \r\nQ 18.84375 56 30.609375 56 \r\nz\r\n\" id=\"DejaVuSans-111\"/>\r\n      <path id=\"DejaVuSans-32\"/>\r\n     </defs>\r\n     <g transform=\"translate(176.967578 256.715781)scale(0.15 -0.15)\">\r\n      <use xlink:href=\"#DejaVuSans-70\"/>\r\n      <use x=\"52.019531\" xlink:href=\"#DejaVuSans-117\"/>\r\n      <use x=\"115.398438\" xlink:href=\"#DejaVuSans-110\"/>\r\n      <use x=\"178.777344\" xlink:href=\"#DejaVuSans-99\"/>\r\n      <use x=\"233.757812\" xlink:href=\"#DejaVuSans-116\"/>\r\n      <use x=\"272.966797\" xlink:href=\"#DejaVuSans-105\"/>\r\n      <use x=\"300.75\" xlink:href=\"#DejaVuSans-111\"/>\r\n      <use x=\"361.931641\" xlink:href=\"#DejaVuSans-110\"/>\r\n      <use x=\"425.310547\" xlink:href=\"#DejaVuSans-32\"/>\r\n      <use x=\"457.097656\" xlink:href=\"#DejaVuSans-49\"/>\r\n     </g>\r\n    </g>\r\n   </g>\r\n   <g id=\"matplotlib.axis_2\">\r\n    <g id=\"ytick_1\">\r\n     <g id=\"line2d_7\">\r\n      <defs>\r\n       <path d=\"M 0 0 \r\nL -3.5 0 \r\n\" id=\"m8e0471b91c\" style=\"stroke:#000000;stroke-width:0.8;\"/>\r\n      </defs>\r\n      <g>\r\n       <use style=\"stroke:#000000;stroke-width:0.8;\" x=\"48.620313\" xlink:href=\"#m8e0471b91c\" y=\"215.903429\"/>\r\n      </g>\r\n     </g>\r\n     <g id=\"text_8\">\r\n      <!-- 0.0 -->\r\n      <g transform=\"translate(25.717188 219.702648)scale(0.1 -0.1)\">\r\n       <use xlink:href=\"#DejaVuSans-48\"/>\r\n       <use x=\"63.623047\" xlink:href=\"#DejaVuSans-46\"/>\r\n       <use x=\"95.410156\" xlink:href=\"#DejaVuSans-48\"/>\r\n      </g>\r\n     </g>\r\n    </g>\r\n    <g id=\"ytick_2\">\r\n     <g id=\"line2d_8\">\r\n      <g>\r\n       <use style=\"stroke:#000000;stroke-width:0.8;\" x=\"48.620313\" xlink:href=\"#m8e0471b91c\" y=\"175.976357\"/>\r\n      </g>\r\n     </g>\r\n     <g id=\"text_9\">\r\n      <!-- 0.2 -->\r\n      <g transform=\"translate(25.717188 179.775576)scale(0.1 -0.1)\">\r\n       <use xlink:href=\"#DejaVuSans-48\"/>\r\n       <use x=\"63.623047\" xlink:href=\"#DejaVuSans-46\"/>\r\n       <use x=\"95.410156\" xlink:href=\"#DejaVuSans-50\"/>\r\n      </g>\r\n     </g>\r\n    </g>\r\n    <g id=\"ytick_3\">\r\n     <g id=\"line2d_9\">\r\n      <g>\r\n       <use style=\"stroke:#000000;stroke-width:0.8;\" x=\"48.620313\" xlink:href=\"#m8e0471b91c\" y=\"136.049285\"/>\r\n      </g>\r\n     </g>\r\n     <g id=\"text_10\">\r\n      <!-- 0.4 -->\r\n      <g transform=\"translate(25.717188 139.848504)scale(0.1 -0.1)\">\r\n       <use xlink:href=\"#DejaVuSans-48\"/>\r\n       <use x=\"63.623047\" xlink:href=\"#DejaVuSans-46\"/>\r\n       <use x=\"95.410156\" xlink:href=\"#DejaVuSans-52\"/>\r\n      </g>\r\n     </g>\r\n    </g>\r\n    <g id=\"ytick_4\">\r\n     <g id=\"line2d_10\">\r\n      <g>\r\n       <use style=\"stroke:#000000;stroke-width:0.8;\" x=\"48.620313\" xlink:href=\"#m8e0471b91c\" y=\"96.122214\"/>\r\n      </g>\r\n     </g>\r\n     <g id=\"text_11\">\r\n      <!-- 0.6 -->\r\n      <g transform=\"translate(25.717188 99.921432)scale(0.1 -0.1)\">\r\n       <use xlink:href=\"#DejaVuSans-48\"/>\r\n       <use x=\"63.623047\" xlink:href=\"#DejaVuSans-46\"/>\r\n       <use x=\"95.410156\" xlink:href=\"#DejaVuSans-54\"/>\r\n      </g>\r\n     </g>\r\n    </g>\r\n    <g id=\"ytick_5\">\r\n     <g id=\"line2d_11\">\r\n      <g>\r\n       <use style=\"stroke:#000000;stroke-width:0.8;\" x=\"48.620313\" xlink:href=\"#m8e0471b91c\" y=\"56.195142\"/>\r\n      </g>\r\n     </g>\r\n     <g id=\"text_12\">\r\n      <!-- 0.8 -->\r\n      <g transform=\"translate(25.717188 59.99436)scale(0.1 -0.1)\">\r\n       <use xlink:href=\"#DejaVuSans-48\"/>\r\n       <use x=\"63.623047\" xlink:href=\"#DejaVuSans-46\"/>\r\n       <use x=\"95.410156\" xlink:href=\"#DejaVuSans-56\"/>\r\n      </g>\r\n     </g>\r\n    </g>\r\n    <g id=\"ytick_6\">\r\n     <g id=\"line2d_12\">\r\n      <g>\r\n       <use style=\"stroke:#000000;stroke-width:0.8;\" x=\"48.620313\" xlink:href=\"#m8e0471b91c\" y=\"16.26807\"/>\r\n      </g>\r\n     </g>\r\n     <g id=\"text_13\">\r\n      <!-- 1.0 -->\r\n      <g transform=\"translate(25.717188 20.067288)scale(0.1 -0.1)\">\r\n       <use xlink:href=\"#DejaVuSans-49\"/>\r\n       <use x=\"63.623047\" xlink:href=\"#DejaVuSans-46\"/>\r\n       <use x=\"95.410156\" xlink:href=\"#DejaVuSans-48\"/>\r\n      </g>\r\n     </g>\r\n    </g>\r\n    <g id=\"text_14\">\r\n     <!-- Function 2 -->\r\n     <g transform=\"translate(18.597656 154.972734)rotate(-90)scale(0.15 -0.15)\">\r\n      <use xlink:href=\"#DejaVuSans-70\"/>\r\n      <use x=\"52.019531\" xlink:href=\"#DejaVuSans-117\"/>\r\n      <use x=\"115.398438\" xlink:href=\"#DejaVuSans-110\"/>\r\n      <use x=\"178.777344\" xlink:href=\"#DejaVuSans-99\"/>\r\n      <use x=\"233.757812\" xlink:href=\"#DejaVuSans-116\"/>\r\n      <use x=\"272.966797\" xlink:href=\"#DejaVuSans-105\"/>\r\n      <use x=\"300.75\" xlink:href=\"#DejaVuSans-111\"/>\r\n      <use x=\"361.931641\" xlink:href=\"#DejaVuSans-110\"/>\r\n      <use x=\"425.310547\" xlink:href=\"#DejaVuSans-32\"/>\r\n      <use x=\"457.097656\" xlink:href=\"#DejaVuSans-50\"/>\r\n     </g>\r\n    </g>\r\n   </g>\r\n   <g id=\"patch_3\">\r\n    <path d=\"M 48.620313 224.64 \r\nL 48.620313 7.2 \r\n\" style=\"fill:none;stroke:#000000;stroke-linecap:square;stroke-linejoin:miter;stroke-width:0.8;\"/>\r\n   </g>\r\n   <g id=\"patch_4\">\r\n    <path d=\"M 383.420313 224.64 \r\nL 383.420313 7.2 \r\n\" style=\"fill:none;stroke:#000000;stroke-linecap:square;stroke-linejoin:miter;stroke-width:0.8;\"/>\r\n   </g>\r\n   <g id=\"patch_5\">\r\n    <path d=\"M 48.620313 224.64 \r\nL 383.420313 224.64 \r\n\" style=\"fill:none;stroke:#000000;stroke-linecap:square;stroke-linejoin:miter;stroke-width:0.8;\"/>\r\n   </g>\r\n   <g id=\"patch_6\">\r\n    <path d=\"M 48.620313 7.2 \r\nL 383.420313 7.2 \r\n\" style=\"fill:none;stroke:#000000;stroke-linecap:square;stroke-linejoin:miter;stroke-width:0.8;\"/>\r\n   </g>\r\n  </g>\r\n </g>\r\n <defs>\r\n  <clipPath id=\"pa4ceb5be92\">\r\n   <rect height=\"217.44\" width=\"334.8\" x=\"48.620313\" y=\"7.2\"/>\r\n  </clipPath>\r\n </defs>\r\n</svg>\r\n",
      "image/png": "[encoded data removed]"
     },
     "metadata": {
      "needs_background": "light"
     }
    }
   ],
   "source": [
    "f_1 = f[0]\n",
    "#print(v1[38])\n",
    "v1New = []\n",
    "v2New = []\n",
    "print(int(nC/2))\n",
    "for i in f :\n",
    "    #print(i)\n",
    "    for j in i :\n",
    "        #print(v1[j])\n",
    "        if len(v1New) < int(nC/2) :\n",
    "            v1New.append(v1[j])\n",
    "            v2New.append(v2[j])\n",
    "        else :\n",
    "            break\n",
    "\n",
    "plt.xlabel('Function 1', fontsize=15)\n",
    "plt.ylabel('Function 2', fontsize=15)\n",
    "plt.scatter(v1New, v2New)\n",
    "plt.show()\n"
   ]
  },
  {
   "cell_type": "code",
   "execution_count": null,
   "metadata": {},
   "outputs": [],
   "source": []
  },
  {
   "cell_type": "code",
   "execution_count": null,
   "metadata": {},
   "outputs": [],
   "source": []
  }
 ],
 "metadata": {
  "colab": {
   "name": "Final_Project.ipynb",
   "provenance": [],
   "private_outputs": true
  },
  "kernelspec": {
   "display_name": "Python 3",
   "language": "python",
   "name": "python3"
  },
  "language_info": {
   "codemirror_mode": {
    "name": "ipython",
    "version": 3
   },
   "file_extension": ".py",
   "mimetype": "text/x-python",
   "name": "python",
   "nbconvert_exporter": "python",
   "pygments_lexer": "ipython3",
   "version": "3.7.4-final"
  }
 },
 "nbformat": 4,
 "nbformat_minor": 0
}