{
  "nbformat": 4,
  "nbformat_minor": 0,
  "metadata": {
    "colab": {
      "name": "Final_Project.ipynb",
      "provenance": [],
      "private_outputs": true
    },
    "kernelspec": {
      "display_name": "Python 3",
      "language": "python",
      "name": "python3"
    },
    "language_info": {
      "codemirror_mode": {
        "name": "ipython",
        "version": 3
      },
      "file_extension": ".py",
      "mimetype": "text/x-python",
      "name": "python",
      "nbconvert_exporter": "python",
      "pygments_lexer": "ipython3",
      "version": "3.7.4"
    }
  },
  "cells": [
    {
      "cell_type": "markdown",
      "metadata": {
        "colab_type": "text",
        "id": "LTqadf5GKMCw"
      },
      "source": [
        "## Import Library"
      ]
    },
    {
      "cell_type": "code",
      "metadata": {
        "colab_type": "code",
        "id": "SIw0TvdNcFQY",
        "colab": {}
      },
      "source": [
        "# Install rdkit\n",
        "\n",
        "def install_rdkit():\n",
        "  !wget -c https://repo.continuum.io/miniconda/Miniconda3-latest-Linux-x86_64.sh\n",
        "  !chmod +x Miniconda3-latest-Linux-x86_64.sh\n",
        "  !time bash ./Miniconda3-latest-Linux-x86_64.sh -b -f -p /usr/local\n",
        "  !time conda install -q -y -c conda-forge rdkit\n",
        "\n",
        "# install_rdkit()"
      ],
      "execution_count": 0,
      "outputs": []
    },
    {
      "cell_type": "code",
      "metadata": {
        "colab_type": "code",
        "id": "IePXvtoVkn3q",
        "colab": {}
      },
      "source": [
        "# Data\n",
        "\n",
        "#from google.colab import files\n",
        "import pandas as pd\n",
        "import numpy as np\n",
        "import regex as re\n",
        "\n",
        "# rdkit\n",
        "import sys\n",
        "#sys.path.append('/usr/local/lib/python3.7/site-packages/')\n",
        "from rdkit import Chem\n",
        "from rdkit.Chem import DataStructs\n",
        "\n",
        "# random\n",
        "import random as rd"
      ],
      "execution_count": 0,
      "outputs": []
    },
    {
      "cell_type": "markdown",
      "metadata": {
        "colab_type": "text",
        "id": "HMV8zmkwk9_z"
      },
      "source": [
        "## Data"
      ]
    },
    {
      "cell_type": "markdown",
      "metadata": {
        "colab_type": "text",
        "id": "MpX9zUAt82Tr"
      },
      "source": [
        "### Pre-Processing Data"
      ]
    },
    {
      "cell_type": "code",
      "metadata": {
        "colab_type": "code",
        "id": "OzqDxFp0kCaT",
        "colab": {}
      },
      "source": [
        "def preprocessing_data(link_of_data) :\n",
        "  dataset = pd.read_csv(link_of_data,sep=\";\")\n",
        "  dataset = dataset.iloc[:,[0,7,9,10,11]]\n",
        "\n",
        "  list_of_column_dataframe = dataset.columns\n",
        "  list_of_dataset_after = []\n",
        "\n",
        "  list_of_dataset_before = np.array(dataset)\n",
        "  \n",
        "  for data in list_of_dataset_before :\n",
        "    if data[2] == \"'='\" :\n",
        "      if data[4] == \"nM\" :\n",
        "        if data[3] < 10000 :\n",
        "          data[3] = data[3]/1000\n",
        "          list_of_dataset_after.append(data)\n",
        "  \n",
        "  dataframe_of_dataset_after = pd.DataFrame(list_of_dataset_after)\n",
        "  dataframe_of_dataset_after.columns = list_of_column_dataframe\n",
        "  name_of_file_download = \"Dataset_After.csv\"\n",
        "  dataframe_of_dataset_after.to_csv(name_of_file_download)\n",
        "  files.download(name_of_file_download)\n",
        "  return dataframe_of_dataset_after\n"
      ],
      "execution_count": 0,
      "outputs": []
    },
    {
      "cell_type": "code",
      "metadata": {
        "colab_type": "code",
        "id": "W47O-_Df2HU-",
        "colab": {}
      },
      "source": [
        "#preprocessing_data(\"https://raw.githubusercontent.com/relfarizi/Final_Project/master/Data/Dataset_Before.csv\")"
      ],
      "execution_count": 0,
      "outputs": []
    },
    {
      "cell_type": "markdown",
      "metadata": {
        "colab_type": "text",
        "id": "n_V57Wl-9BWQ"
      },
      "source": [
        "### Data After Pre-Processing"
      ]
    },
    {
      "cell_type": "code",
      "metadata": {
        "colab_type": "code",
        "id": "RA5IvTTn2pNb",
        "scrolled": true,
        "colab": {}
      },
      "source": [
        "# for colab\n",
        "\n",
        "dataset = pd.read_csv('https://raw.githubusercontent.com/relfarizi/Final_Project/master/Data/Dataset_After.csv', index_col= 0)\n",
        "\n",
        "\n",
        "#dataset = pd.read_csv('Data/Dataset_After.csv',index_col = 0)\n",
        "dataset.head(5)"
      ],
      "execution_count": 0,
      "outputs": []
    },
    {
      "cell_type": "code",
      "metadata": {
        "colab_type": "code",
        "id": "hmjrEPcEgMFh",
        "colab": {}
      },
      "source": [
        "#dataset = dataset.drop_duplicates(keep=False,inplace=True)\n",
        "dataset = dataset.dropna()\n",
        "mol_smiles = dataset.iloc[:,1].values.tolist()\n",
        "row_drop = []\n",
        "for i in range(len(mol_smiles)) :\n",
        "  #print(mol_smiles[i])\n",
        "  if len(str(mol_smiles[i])) < 5 :\n",
        "    row_drop.append(i)\n",
        "print(row_drop)\n",
        "dataset.drop(row_drop)\n",
        "dataset.iloc[258,:]"
      ],
      "execution_count": 0,
      "outputs": []
    },
    {
      "cell_type": "markdown",
      "metadata": {
        "colab_type": "text",
        "id": "jr6v-7v0j-JM"
      },
      "source": [
        "## Probability Activity"
      ]
    },
    {
      "cell_type": "markdown",
      "metadata": {
        "colab_type": "text",
        "id": "Ppj_X-CZ720j"
      },
      "source": [
        "### 1. Molecule Activity\n",
        "Untuk mencari jumlah dari nilai aktivitas masing2 molekul\n",
        "\n",
        "variabel yang digunakan :\n",
        "* mol_name = list nama molekul\n",
        "* mol_smile = list smile molekul\n",
        "* mol_act = list berisi nilai IC50\n",
        "* act = nilai aktivitas tiap molekul\n",
        "* sum_act = Nilai jumlah dari a"
      ]
    },
    {
      "cell_type": "code",
      "metadata": {
        "colab_type": "code",
        "id": "cIMuhWGr7zlj",
        "colab": {}
      },
      "source": [
        "mol_name = dataset.iloc[:,0].values.tolist()\n",
        "mol_smiles = dataset.iloc[:,1].values.tolist()\n",
        "mol_act = dataset.iloc[:,3].values.tolist()\n",
        "sum_act = 0\n",
        "for molekul in mol_act :\n",
        "  act = np.exp(-molekul)\n",
        "  sum_act  += act\n",
        "print(sum_act)"
      ],
      "execution_count": 0,
      "outputs": []
    },
    {
      "cell_type": "markdown",
      "metadata": {
        "colab_type": "text",
        "id": "iYqPm_bI8VZ1"
      },
      "source": [
        "### 2. Probability Succes\n",
        "\n",
        "\n",
        "Mencari nilai probabilitas kesuksesan untuk setiap molekul\n",
        "\n",
        "Variabel yang digunakan :\n",
        "* n = banyaknya molekul\n",
        "* mol_prob = list probabilitas setiap molekul\n",
        "* act = nilai aktivitas molekul\n",
        "* prob = nilai probabilitas kesuksesan molekul\n",
        "* sum_pro = nilai jumlah dari Probabiliras Kesuksesan\n",
        "\n",
        "\n"
      ]
    },
    {
      "cell_type": "code",
      "metadata": {
        "colab_type": "code",
        "id": "J9ISKgMpljNb",
        "colab": {}
      },
      "source": [
        "n = len(mol_act)\n",
        "#p_avg = 1/n\n",
        "mol_prob = []\n",
        "\n",
        "# act = probabilitas kesuksesan\n",
        "\n",
        "sum_pro = 0\n",
        "for molekul in mol_act :\n",
        "  #act = (molekul[1]*p_avg*n)/sum_act\n",
        "  act = np.exp(-molekul)\n",
        "  prob = act/sum_act\n",
        "  prob = round(prob,8)\n",
        "  mol_prob.append(prob)\n",
        "  sum_pro += prob\n",
        "print(sum_pro)\n"
      ],
      "execution_count": 0,
      "outputs": []
    },
    {
      "cell_type": "markdown",
      "metadata": {
        "id": "NH1drdfpv36v",
        "colab_type": "text"
      },
      "source": [
        "## Cost (Trial)\n",
        "\n",
        "Menentukan cost dari setiap molekul. cell ini baru coba di-generate hanya dengan mengalikan dengan sum_of_cost dengan probability kesuksesannya. sehingga nilai probabilitas terbesar diasumsikan memiliki cost yang besar pula"
      ]
    },
    {
      "cell_type": "code",
      "metadata": {
        "id": "l-3pPCk9v36x",
        "colab_type": "code",
        "colab": {}
      },
      "source": [
        "sum_of_cost = 500000\n",
        "mol_cost = []\n",
        "sum_cost = 0\n",
        "for mol in mol_prob:\n",
        "    cost = mol*sum_of_cost\n",
        "    mol_cost.append(round(cost,4))\n",
        "    sum_cost += cost\n",
        "print(sum_cost)"
      ],
      "execution_count": 0,
      "outputs": []
    },
    {
      "cell_type": "markdown",
      "metadata": {
        "colab_type": "text",
        "id": "3enxBzZ33Hn1"
      },
      "source": [
        "## Fingerprint\n",
        "\n",
        "berisi bit biner dari sifat yang menggambarkan suatu molekul (baca lagi)\n",
        "\n",
        "Variabel yang digunakan :\n",
        "* fingerprint suatu molekul (dalam bit biner)\n",
        "* mol_fp = list dari fingerprint setiap molekul\n"
      ]
    },
    {
      "cell_type": "code",
      "metadata": {
        "colab_type": "code",
        "id": "w9iB6gWO3PAo",
        "colab": {}
      },
      "source": [
        "mol_fp = []\n",
        "i = 0\n",
        "print(mol_smiles[258])\n",
        "for molekul in mol_smiles :\n",
        "  smiles = Chem.MolFromSmiles(str(molekul))\n",
        "  fp = Chem.RDKFingerprint(smiles)\n",
        "  #print(i)\n",
        "  i+= 1\n",
        "  mol_fp.append(fp)\n",
        "print((mol_fp))"
      ],
      "execution_count": 0,
      "outputs": []
    },
    {
      "cell_type": "markdown",
      "metadata": {
        "colab_type": "text",
        "id": "zzqnv1Ri-UO6"
      },
      "source": [
        "## To DataFrame"
      ]
    },
    {
      "cell_type": "code",
      "metadata": {
        "colab_type": "code",
        "id": "zsyu8ksX-UqX",
        "colab": {}
      },
      "source": [
        "#df_mol = pd.DataFrame.from_dict(mol_act_dict, orient='index')\n",
        "#df_mol.columns = [\"IC50\",\"Molecule Activity\", \"Probability Activity\"]\n",
        "#df_mol.sort_values(by=[\"IC50\"], ascending=False)\n",
        "#mol_name = pd.Series(mol_name)\n",
        "#mol_act = pd.Series(mol_act)\n",
        "#df_mol = pd.concat(mol_name,mol_act)\n",
        "#print(len(mol_name))\n",
        "#print(len(mol_smiles))\n",
        "#print(len(mol_fp))\n",
        "#print(len(mol_act))\n",
        "#print(len(mol_prob))\n",
        "\n",
        "df = pd.DataFrame({'mol_name':mol_name,\n",
        "                       'mol_smiles' : mol_smiles,\n",
        "                       'mol_act':mol_act,\n",
        "                       'mol_fp' : mol_fp,\n",
        "                       'mol_prob' : mol_prob,\n",
        "                       'mol_cost' : mol_cost\n",
        "                       })\n",
        "\n",
        "df.head()"
      ],
      "execution_count": 0,
      "outputs": []
    },
    {
      "cell_type": "code",
      "metadata": {
        "id": "vRWCXOctv37L",
        "colab_type": "code",
        "colab": {}
      },
      "source": [
        "df_mol = df.iloc[:,[0,2,3,5]]\n",
        "df_mol"
      ],
      "execution_count": 0,
      "outputs": []
    },
    {
      "cell_type": "markdown",
      "metadata": {
        "id": "9_1rELu8v37S",
        "colab_type": "text"
      },
      "source": [
        "## Individu\n",
        "suatu fungsi yang bertujuan untuk me-return dari suatu populasi (kumpulan individu berdasarkan subset yang diberikan). \n",
        "\n",
        "return :\n",
        "* mol_name\n",
        "* rata-rata dari act\n",
        "* rata-rata dari mol_fp\n",
        "\n",
        "cara menyari diversity :\n",
        "\n",
        "dengan menghitung semua similarity antar molekul kemudian hasilnya di rata2kan\n",
        "\n",
        "sebagai contoh :\n",
        "\n",
        "ada 3 (subset) molekul (A,B,C), maka menghitungnya\n",
        "\n",
        "* A -> B\n",
        "* A -> C\n",
        "* B -> C\n",
        "\n",
        "kemudian dirata2kan"
      ]
    },
    {
      "cell_type": "code",
      "metadata": {
        "colab_type": "code",
        "id": "GYPOqUS0drKW",
        "colab": {}
      },
      "source": [
        "n_subset = 5\n",
        "\n",
        "def individu(subset):\n",
        "    #subset = np.array(subset.values.tolist())\n",
        "    mol_name = subset.iloc[:,0].values\n",
        "    mol_act = subset.iloc[:,1].values\n",
        "    mol_fp = subset.iloc[:,2].values\n",
        "    #print(mol_name)\n",
        "    #print(mol_act)\n",
        "    #print(mol_fp[1])\n",
        "\n",
        "    \n",
        "    fp_list = []\n",
        "    n = len(subset)\n",
        "    \n",
        "    for i in range(n):\n",
        "        for j in range(n):\n",
        "            if i > j :\n",
        "                tmp_fp = DataStructs.FingerprintSimilarity(mol_fp[i],mol_fp[j])\n",
        "                fp_list.append(tmp_fp)\n",
        "                \n",
        "    avg_act = np.mean(mol_act)\n",
        "    avg_div = np.mean(fp_list)\n",
        "    if [mol_name,avg_act,avg_div] is not None :\n",
        "        return [mol_name,avg_act,avg_div]\n",
        "    else :\n",
        "        return []\n",
        "\n"
      ],
      "execution_count": 0,
      "outputs": []
    },
    {
      "cell_type": "markdown",
      "metadata": {
        "id": "LVr2yDUTxkrn",
        "colab_type": "text"
      },
      "source": [
        "### cek budget\n",
        "\n",
        "mengecek apakah molekul yang terpilih (yang ada di subset) tidak melebihi budget yang diberikan"
      ]
    },
    {
      "cell_type": "code",
      "metadata": {
        "id": "mIo9EgPmv37b",
        "colab_type": "code",
        "colab": {}
      },
      "source": [
        "def is_budget_enough(subset,budget):\n",
        "    subset =  subset.iloc[:,3].values\n",
        "    sum_of_subset = sum(subset)\n",
        "    if sum_of_subset <= budget :\n",
        "        check = True\n",
        "    else :\n",
        "        check = False\n",
        "    return [check,sum_of_subset]"
      ],
      "execution_count": 0,
      "outputs": []
    },
    {
      "cell_type": "markdown",
      "metadata": {
        "id": "P7Roz7DLv37k",
        "colab_type": "text"
      },
      "source": [
        "### NSGA-II"
      ]
    },
    {
      "cell_type": "markdown",
      "metadata": {
        "id": "pY0p4TMPxwTW",
        "colab_type": "text"
      },
      "source": [
        "#### Initialization Individu\n",
        "\n",
        "Menginisialisasi individu yang akan digunakan berdasarkan subset yang ada"
      ]
    },
    {
      "cell_type": "code",
      "metadata": {
        "id": "jcsRuWEXv37l",
        "colab_type": "code",
        "colab": {}
      },
      "source": [
        "# Initialization of Individu\n",
        "budget = 50\n",
        "n_subset = 20\n",
        "\n",
        "def initialization_individu(df_mol,budget,n_subset) :\n",
        "    i = 0\n",
        "    iteration = 100\n",
        "    calon_individu = df_mol.sample(n_subset)\n",
        "\n",
        "    while(not is_budget_enough(calon_individu,budget)[0]) and i < iteration :\n",
        "        calon_individu = df_mol.sample(n_subset)\n",
        "        i+=1\n",
        "    if is_budget_enough(calon_individu,budget)[0]:\n",
        "        return individu(calon_individu)\n",
        "    else :\n",
        "        return []\n",
        "\n",
        "        \n",
        "        "
      ],
      "execution_count": 0,
      "outputs": []
    },
    {
      "cell_type": "code",
      "metadata": {
        "id": "titcO-Mlv37p",
        "colab_type": "code",
        "colab": {}
      },
      "source": [
        "if initialization_individu(df_mol,budget,n_subset) != [] :\n",
        "    print(initialization_individu(df_mol,budget,n_subset))\n",
        "else :\n",
        "    print(\"can't continue\")"
      ],
      "execution_count": 0,
      "outputs": []
    },
    {
      "cell_type": "markdown",
      "metadata": {
        "id": "DvP9RFqKv37u",
        "colab_type": "text"
      },
      "source": [
        "### Try Pymoo"
      ]
    },
    {
      "cell_type": "code",
      "metadata": {
        "id": "RGyRGej4v37v",
        "colab_type": "code",
        "colab": {}
      },
      "source": [
        "from pymoo.algorithms.nsga2 import NSGA2\n",
        "from pymoo.factory import get_problem, get_sampling, get_crossover, get_mutation\n",
        "from pymoo.optimize import minimize\n",
        "from pymoo.visualization.scatter import Scatter\n",
        "\n",
        "problem = get_problem(\"zdt5\")\n",
        "\n",
        "print(problem)\n",
        "\n",
        "algorithm = NSGA2(pop_size=100,\n",
        "                  sampling=get_sampling(\"bin_random\"),\n",
        "                  crossover=get_crossover(\"bin_two_point\"),\n",
        "                  mutation=get_mutation(\"bin_bitflip\"),\n",
        "                  eliminate_duplicates=True)\n",
        "\n",
        "res = minimize(problem,\n",
        "               algorithm,\n",
        "               ('n_gen', 500),\n",
        "               seed=1,\n",
        "               verbose=True)\n",
        "\n",
        "print(res)\n"
      ],
      "execution_count": 0,
      "outputs": []
    },
    {
      "cell_type": "code",
      "metadata": {
        "id": "G8HbYb6nv371",
        "colab_type": "code",
        "colab": {}
      },
      "source": [
        "Scatter().add(res.F).show()"
      ],
      "execution_count": 0,
      "outputs": []
    },
    {
      "cell_type": "markdown",
      "metadata": {
        "colab_type": "text",
        "id": "93Y9R84yri4k"
      },
      "source": [
        "## For git (Can't be use yet)\n",
        "\n",
        "file > save a copy in Github"
      ]
    },
    {
      "cell_type": "code",
      "metadata": {
        "colab_type": "code",
        "id": "g830FMTXpZHR",
        "colab": {}
      },
      "source": [
        "#!git init\n",
        "\n",
        "#!git config --global user.name “relfarizi”\n",
        "\n",
        "#!git remote add origin https://github.com/relfarizi/Final_Project.git\n",
        "\n",
        "#!git add .\n",
        "\n",
        "#!git commit -m \"Probability Activity\"\n",
        "\n",
        "#!git push\n",
        "\n",
        "#!git status"
      ],
      "execution_count": 0,
      "outputs": []
    },
    {
      "cell_type": "markdown",
      "metadata": {
        "id": "eko3JgJ_v378",
        "colab_type": "text"
      },
      "source": [
        "### lampau"
      ]
    },
    {
      "cell_type": "code",
      "metadata": {
        "id": "IWFLWPYuv378",
        "colab_type": "code",
        "colab": {}
      },
      "source": [
        "subset_row = []\n",
        "sum_of_subset = 10\n",
        "\n",
        "for i in range(sum_of_subset):\n",
        "    random = rd.randint(0,len(df_mol))\n",
        "    while random in subset_row:\n",
        "        random = rd.randint(0,len(df_mol))\n",
        "    subset_row.append(random)\n",
        "    \n",
        "print(subset_row)\n",
        "calon_individu = df_mol.iloc[subset_row,:].values.tolist()\n",
        "calon_individu\n",
        "\n",
        "individu(calon_individu)"
      ],
      "execution_count": 0,
      "outputs": []
    },
    {
      "cell_type": "code",
      "metadata": {
        "id": "_i899fUEv37-",
        "colab_type": "code",
        "colab": {}
      },
      "source": [
        "# Inisialisasi Individu\n",
        "\n",
        "def initialization_individu() :\n",
        "    for i in range(sum_of_subset):\n",
        "        random = rd.randint(0,len(df_mol))\n",
        "        while random in subset_row:\n",
        "            random = rd.randint(0,len(df_mol))\n",
        "        subset_row.append(random)\n",
        "#subset_row = rd.sample(df_mol.values,10)\n",
        "df\n",
        "list_subset = []\n",
        "for i in (df_mol).index :\n",
        "    if i in subset_row:\n",
        "        is_subset = 1\n",
        "    else :\n",
        "        is_subset = 0\n",
        "    list_subset.append(is_subset)\n",
        "print(list_subset)"
      ],
      "execution_count": 0,
      "outputs": []
    }
  ]
}