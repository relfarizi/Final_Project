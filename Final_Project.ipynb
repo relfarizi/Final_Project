{
  "nbformat": 4,
  "nbformat_minor": 0,
  "metadata": {
    "colab": {
      "name": "Final_Project.ipynb",
      "provenance": [],
      "private_outputs": true,
      "toc_visible": true,
      "include_colab_link": true
    },
    "kernelspec": {
      "name": "python3",
      "display_name": "Python 3"
    }
  },
  "cells": [
    {
      "cell_type": "markdown",
      "metadata": {
        "id": "view-in-github",
        "colab_type": "text"
      },
      "source": [
        "<a href=\"https://colab.research.google.com/github/relfarizi/Final_Project/blob/master/Final_Project.ipynb\" target=\"_parent\"><img src=\"https://colab.research.google.com/assets/colab-badge.svg\" alt=\"Open In Colab\"/></a>"
      ]
    },
    {
      "cell_type": "markdown",
      "metadata": {
        "id": "LTqadf5GKMCw",
        "colab_type": "text"
      },
      "source": [
        "## Import Library"
      ]
    },
    {
      "cell_type": "code",
      "metadata": {
        "id": "IePXvtoVkn3q",
        "colab_type": "code",
        "colab": {}
      },
      "source": [
        "# Data\n",
        "\n",
        "from google.colab import files\n",
        "import pandas as pd\n",
        "import numpy as np"
      ],
      "execution_count": 0,
      "outputs": []
    },
    {
      "cell_type": "markdown",
      "metadata": {
        "id": "HMV8zmkwk9_z",
        "colab_type": "text"
      },
      "source": [
        "## Data"
      ]
    },
    {
      "cell_type": "code",
      "metadata": {
        "id": "E-K8a2C3lAXA",
        "colab_type": "code",
        "colab": {}
      },
      "source": [
        "#data = files.upload()"
      ],
      "execution_count": 0,
      "outputs": []
    },
    {
      "cell_type": "code",
      "metadata": {
        "id": "OzqDxFp0kCaT",
        "colab_type": "code",
        "outputId": "082bfa29-bf2f-46ec-b0b2-1c5284422d3b",
        "colab": {
          "base_uri": "https://localhost:8080/",
          "height": 406
        }
      },
      "source": [
        "dataset = pd.read_csv(\"https://raw.githubusercontent.com/relfarizi/Final_Project/master/Data/dataset_aktif.csv?token=ALFJUNXTUYDET4JWGB6RXPK6L6XAY\",sep=\";\")\n",
        "dataset"
      ],
      "execution_count": 15,
      "outputs": [
        {
          "output_type": "execute_result",
          "data": {
            "text/html": [
              "<div>\n",
              "<style scoped>\n",
              "    .dataframe tbody tr th:only-of-type {\n",
              "        vertical-align: middle;\n",
              "    }\n",
              "\n",
              "    .dataframe tbody tr th {\n",
              "        vertical-align: top;\n",
              "    }\n",
              "\n",
              "    .dataframe thead th {\n",
              "        text-align: right;\n",
              "    }\n",
              "</style>\n",
              "<table border=\"1\" class=\"dataframe\">\n",
              "  <thead>\n",
              "    <tr style=\"text-align: right;\">\n",
              "      <th></th>\n",
              "      <th>Molecule ChEMBL ID</th>\n",
              "      <th>Standard Type</th>\n",
              "      <th>Standard Relation</th>\n",
              "      <th>Standard Value</th>\n",
              "    </tr>\n",
              "  </thead>\n",
              "  <tbody>\n",
              "    <tr>\n",
              "      <th>0</th>\n",
              "      <td>CHEMBL3781168</td>\n",
              "      <td>GI50</td>\n",
              "      <td>'&gt;'</td>\n",
              "      <td>10000</td>\n",
              "    </tr>\n",
              "    <tr>\n",
              "      <th>1</th>\n",
              "      <td>CHEMBL1421</td>\n",
              "      <td>GI50</td>\n",
              "      <td>'='</td>\n",
              "      <td>3</td>\n",
              "    </tr>\n",
              "    <tr>\n",
              "      <th>2</th>\n",
              "      <td>CHEMBL3781721</td>\n",
              "      <td>GI50</td>\n",
              "      <td>'='</td>\n",
              "      <td>61</td>\n",
              "    </tr>\n",
              "    <tr>\n",
              "      <th>3</th>\n",
              "      <td>CHEMBL3780586</td>\n",
              "      <td>GI50</td>\n",
              "      <td>'='</td>\n",
              "      <td>9</td>\n",
              "    </tr>\n",
              "    <tr>\n",
              "      <th>4</th>\n",
              "      <td>CHEMBL3780219</td>\n",
              "      <td>GI50</td>\n",
              "      <td>'='</td>\n",
              "      <td>140</td>\n",
              "    </tr>\n",
              "    <tr>\n",
              "      <th>...</th>\n",
              "      <td>...</td>\n",
              "      <td>...</td>\n",
              "      <td>...</td>\n",
              "      <td>...</td>\n",
              "    </tr>\n",
              "    <tr>\n",
              "      <th>106</th>\n",
              "      <td>CHEMBL1421</td>\n",
              "      <td>GI50</td>\n",
              "      <td>'='</td>\n",
              "      <td>14</td>\n",
              "    </tr>\n",
              "    <tr>\n",
              "      <th>107</th>\n",
              "      <td>CHEMBL1421</td>\n",
              "      <td>GI50</td>\n",
              "      <td>'='</td>\n",
              "      <td>3</td>\n",
              "    </tr>\n",
              "    <tr>\n",
              "      <th>108</th>\n",
              "      <td>CHEMBL1421</td>\n",
              "      <td>GI50</td>\n",
              "      <td>'='</td>\n",
              "      <td>1</td>\n",
              "    </tr>\n",
              "    <tr>\n",
              "      <th>109</th>\n",
              "      <td>CHEMBL1421</td>\n",
              "      <td>GI50</td>\n",
              "      <td>'='</td>\n",
              "      <td>8</td>\n",
              "    </tr>\n",
              "    <tr>\n",
              "      <th>110</th>\n",
              "      <td>CHEMBL941</td>\n",
              "      <td>GI50</td>\n",
              "      <td>'='</td>\n",
              "      <td>659</td>\n",
              "    </tr>\n",
              "  </tbody>\n",
              "</table>\n",
              "<p>111 rows × 4 columns</p>\n",
              "</div>"
            ],
            "text/plain": [
              "    Molecule ChEMBL ID Standard Type Standard Relation  Standard Value\n",
              "0        CHEMBL3781168          GI50               '>'           10000\n",
              "1           CHEMBL1421          GI50               '='               3\n",
              "2        CHEMBL3781721          GI50               '='              61\n",
              "3        CHEMBL3780586          GI50               '='               9\n",
              "4        CHEMBL3780219          GI50               '='             140\n",
              "..                 ...           ...               ...             ...\n",
              "106         CHEMBL1421          GI50               '='              14\n",
              "107         CHEMBL1421          GI50               '='               3\n",
              "108         CHEMBL1421          GI50               '='               1\n",
              "109         CHEMBL1421          GI50               '='               8\n",
              "110          CHEMBL941          GI50               '='             659\n",
              "\n",
              "[111 rows x 4 columns]"
            ]
          },
          "metadata": {
            "tags": []
          },
          "execution_count": 15
        }
      ]
    },
    {
      "cell_type": "markdown",
      "metadata": {
        "id": "jr6v-7v0j-JM",
        "colab_type": "text"
      },
      "source": [
        "## Probability Activity"
      ]
    },
    {
      "cell_type": "code",
      "metadata": {
        "id": "J9ISKgMpljNb",
        "colab_type": "code",
        "outputId": "82dbf08e-8b5e-4623-edd5-422c1cae8fc0",
        "colab": {
          "base_uri": "https://localhost:8080/",
          "height": 55
        }
      },
      "source": [
        "mol_act = dataset.iloc[:,[0,3]]\n",
        "mol_act\n",
        "n = len(mol_act)\n",
        "p_avg = 1/n\n",
        "mol_act_dict = {}\n",
        "sum_act = 0\n",
        "\n",
        "for molekul in mol_act.values :\n",
        "  a = np.exp(-molekul[1])\n",
        "  sum_act  += a\n",
        "\n",
        "for molekul in mol_act.values :\n",
        "  #act = (molekul[1]*p_avg*n)/sum_act\n",
        "  a = np.exp(-molekul[1])\n",
        "  act = a/sum_act\n",
        "  act = round(act,8)\n",
        "  mol_act_dict[molekul[0]] = [molekul[1],act]\n",
        "\n",
        "print(mol_act_dict)"
      ],
      "execution_count": 31,
      "outputs": [
        {
          "output_type": "stream",
          "text": [
            "{'CHEMBL3781168': [10000, 0.0], 'CHEMBL1421': [8, 0.00063516], 'CHEMBL3781721': [66, 0.0], 'CHEMBL3780586': [15, 5.8e-07], 'CHEMBL3780219': [7, 0.00172655], 'CHEMBL3781013': [570, 0.0], 'CHEMBL3781859': [1200, 0.0], 'CHEMBL3781577': [1849, 0.0], 'CHEMBL255863': [25, 0.0], 'CHEMBL3780622': [6, 0.00469325], 'CHEMBL3781512': [15, 5.8e-07], 'CHEMBL3780441': [42, 0.0], 'CHEMBL3780983': [5, 0.01275759], 'CHEMBL3780835': [1290, 0.0], 'CHEMBL3781199': [5200, 0.0], 'CHEMBL1214141': [14, 1.57e-06], 'CHEMBL3780326': [100, 0.0], 'CHEMBL2403816': [4300, 0.0], 'CHEMBL3780177': [1380, 0.0], 'CHEMBL3781685': [2043, 0.0], 'CHEMBL3780940': [590, 0.0], 'CHEMBL3780377': [983, 0.0], 'CHEMBL2403814': [4100, 0.0], 'CHEMBL3781253': [50, 0.0], 'CHEMBL3780021': [20, 0.0], 'CHEMBL3780040': [31, 0.0], 'CHEMBL3781590': [1300, 0.0], 'CHEMBL3780544': [55, 0.0], 'CHEMBL3780370': [1100, 0.0], 'CHEMBL3780190': [2900, 0.0], 'CHEMBL3781353': [628, 0.0], 'CHEMBL3780628': [124, 0.0], 'CHEMBL3781900': [36, 0.0], 'CHEMBL3780453': [1500, 0.0], 'CHEMBL3781678': [4240, 0.0], 'CHEMBL1336': [7300, 0.0], 'CHEMBL941': [659, 0.0], 'CHEMBL3781090': [126, 0.0], 'CHEMBL3781789': [96, 0.0], 'CHEMBL3780978': [46, 0.0], 'CHEMBL3593290': [190, 0.0], 'CHEMBL3780101': [294, 0.0], 'CHEMBL3781173': [67, 0.0], 'CHEMBL3780255': [10000, 0.0], 'CHEMBL3781278': [1600, 0.0], 'CHEMBL3780222': [670, 0.0], 'CHEMBL3780478': [1100, 0.0], 'CHEMBL3781644': [132, 0.0], 'CHEMBL576982': [20000, 0.0], 'CHEMBL608533': [20000, 0.0]}\n"
          ],
          "name": "stdout"
        }
      ]
    },
    {
      "cell_type": "markdown",
      "metadata": {
        "id": "93Y9R84yri4k",
        "colab_type": "text"
      },
      "source": [
        "## For git"
      ]
    },
    {
      "cell_type": "code",
      "metadata": {
        "id": "g830FMTXpZHR",
        "colab_type": "code",
        "colab": {}
      },
      "source": [
        "#!git init\n",
        "\n",
        "#!git config --global user.name “relfarizi”\n",
        "\n",
        "#!git remote add origin https://github.com/relfarizi/Final_Project.git\n",
        "\n",
        "#!git add .\n",
        "\n",
        "#!git commit -m \"Probability Activity\"\n",
        "\n",
        "#!git push\n",
        "\n",
        "#!git status"
      ],
      "execution_count": 0,
      "outputs": []
    },
    {
      "cell_type": "code",
      "metadata": {
        "id": "PKz1DGzdmCWn",
        "colab_type": "code",
        "colab": {}
      },
      "source": [
        ""
      ],
      "execution_count": 0,
      "outputs": []
    }
  ]
}