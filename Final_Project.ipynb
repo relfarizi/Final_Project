{
 "cells": [
  {
   "cell_type": "markdown",
   "metadata": {
    "colab_type": "text",
    "id": "view-in-github"
   },
   "source": [
    "<a href=\"https://colab.research.google.com/github/relfarizi/Final_Project/blob/master/Final_Project.ipynb\" target=\"_parent\"><img src=\"https://colab.research.google.com/assets/colab-badge.svg\" alt=\"Open In Colab\"/></a>"
   ]
  },
  {
   "cell_type": "markdown",
   "metadata": {
    "colab_type": "text",
    "id": "LTqadf5GKMCw"
   },
   "source": [
    "## Import Library"
   ]
  },
  {
   "cell_type": "code",
   "execution_count": 23,
   "metadata": {
    "colab": {},
    "colab_type": "code",
    "id": "SIw0TvdNcFQY"
   },
   "outputs": [],
   "source": [
    "# Install rdkit\n",
    "\n",
    "def install_rdkit():\n",
    "  !wget -c https://repo.continuum.io/miniconda/Miniconda3-latest-Linux-x86_64.sh\n",
    "  !chmod +x Miniconda3-latest-Linux-x86_64.sh\n",
    "  !time bash ./Miniconda3-latest-Linux-x86_64.sh -b -f -p /usr/local\n",
    "  !time conda install -q -y -c conda-forge rdkit\n",
    "\n",
    "# install_rdkit()"
   ]
  },
  {
   "cell_type": "code",
   "execution_count": 24,
   "metadata": {
    "colab": {},
    "colab_type": "code",
    "id": "IePXvtoVkn3q"
   },
   "outputs": [],
   "source": [
    "# Data\n",
    "\n",
    "#from google.colab import files\n",
    "import pandas as pd\n",
    "import numpy as np\n",
    "import regex as re\n",
    "\n",
    "# rdkit\n",
    "import sys\n",
    "#sys.path.append('/usr/local/lib/python3.7/site-packages/')\n",
    "from rdkit import Chem\n",
    "from rdkit.Chem import DataStructs"
   ]
  },
  {
   "cell_type": "markdown",
   "metadata": {
    "colab_type": "text",
    "id": "HMV8zmkwk9_z"
   },
   "source": [
    "## Data"
   ]
  },
  {
   "cell_type": "markdown",
   "metadata": {
    "colab_type": "text",
    "id": "MpX9zUAt82Tr"
   },
   "source": [
    "### Pre-Processing Data"
   ]
  },
  {
   "cell_type": "code",
   "execution_count": 25,
   "metadata": {
    "colab": {},
    "colab_type": "code",
    "id": "OzqDxFp0kCaT"
   },
   "outputs": [],
   "source": [
    "def preprocessing_data(link_of_data) :\n",
    "  dataset = pd.read_csv(link_of_data,sep=\";\")\n",
    "  dataset = dataset.iloc[:,[0,7,9,10,11]]\n",
    "\n",
    "  list_of_column_dataframe = dataset.columns\n",
    "  list_of_dataset_after = []\n",
    "\n",
    "  list_of_dataset_before = np.array(dataset)\n",
    "  \n",
    "  for data in list_of_dataset_before :\n",
    "    if data[2] == \"'='\" :\n",
    "      if data[4] == \"nM\" :\n",
    "        if data[3] < 10000 :\n",
    "          data[3] = data[3]/1000\n",
    "          list_of_dataset_after.append(data)\n",
    "  \n",
    "  dataframe_of_dataset_after = pd.DataFrame(list_of_dataset_after)\n",
    "  dataframe_of_dataset_after.columns = list_of_column_dataframe\n",
    "  name_of_file_download = \"Dataset_After.csv\"\n",
    "  dataframe_of_dataset_after.to_csv(name_of_file_download)\n",
    "  files.download(name_of_file_download)\n",
    "  return dataframe_of_dataset_after\n"
   ]
  },
  {
   "cell_type": "code",
   "execution_count": 26,
   "metadata": {
    "colab": {},
    "colab_type": "code",
    "id": "W47O-_Df2HU-"
   },
   "outputs": [],
   "source": [
    "#preprocessing_data(\"https://raw.githubusercontent.com/relfarizi/Final_Project/master/Data/Dataset_Before.csv\")"
   ]
  },
  {
   "cell_type": "markdown",
   "metadata": {
    "colab_type": "text",
    "id": "n_V57Wl-9BWQ"
   },
   "source": [
    "### Data After Pre-Processing"
   ]
  },
  {
   "cell_type": "code",
   "execution_count": 31,
   "metadata": {
    "colab": {},
    "colab_type": "code",
    "id": "RA5IvTTn2pNb"
   },
   "outputs": [
    {
     "data": {
      "text/html": [
       "<div>\n",
       "<style scoped>\n",
       "    .dataframe tbody tr th:only-of-type {\n",
       "        vertical-align: middle;\n",
       "    }\n",
       "\n",
       "    .dataframe tbody tr th {\n",
       "        vertical-align: top;\n",
       "    }\n",
       "\n",
       "    .dataframe thead th {\n",
       "        text-align: right;\n",
       "    }\n",
       "</style>\n",
       "<table border=\"1\" class=\"dataframe\">\n",
       "  <thead>\n",
       "    <tr style=\"text-align: right;\">\n",
       "      <th></th>\n",
       "      <th>Molecule ChEMBL ID</th>\n",
       "      <th>Smiles</th>\n",
       "      <th>Standard Relation</th>\n",
       "      <th>Standard Value</th>\n",
       "      <th>Standard Units</th>\n",
       "    </tr>\n",
       "  </thead>\n",
       "  <tbody>\n",
       "    <tr>\n",
       "      <td>0</td>\n",
       "      <td>CHEMBL2263120</td>\n",
       "      <td>CC1(C)CC[C@]2(C(=O)OCCCCCCCCCCC(=O)O)CC[C@]3(C...</td>\n",
       "      <td>'='</td>\n",
       "      <td>0.7200</td>\n",
       "      <td>nM</td>\n",
       "    </tr>\n",
       "    <tr>\n",
       "      <td>1</td>\n",
       "      <td>CHEMBL2263121</td>\n",
       "      <td>CC1(C)CC[C@]2(C(=O)NC(Cc3ccccc3)C(=O)O)CC[C@]3...</td>\n",
       "      <td>'='</td>\n",
       "      <td>3.3100</td>\n",
       "      <td>nM</td>\n",
       "    </tr>\n",
       "    <tr>\n",
       "      <td>2</td>\n",
       "      <td>CHEMBL168</td>\n",
       "      <td>CC1(C)CC[C@]2(C(=O)O)CC[C@]3(C)C(=CC[C@@H]4[C@...</td>\n",
       "      <td>'='</td>\n",
       "      <td>5.0501</td>\n",
       "      <td>nM</td>\n",
       "    </tr>\n",
       "    <tr>\n",
       "      <td>3</td>\n",
       "      <td>CHEMBL508831</td>\n",
       "      <td>CC1(C)CC[C@]2(C(=O)O)CC[C@]3(C)C(=CC[C@@H]4[C@...</td>\n",
       "      <td>'='</td>\n",
       "      <td>0.5400</td>\n",
       "      <td>nM</td>\n",
       "    </tr>\n",
       "    <tr>\n",
       "      <td>4</td>\n",
       "      <td>CHEMBL506556</td>\n",
       "      <td>CC1(C)CC[C@]2(C(=O)O)CC[C@]3(C)C(=CC[C@@H]4[C@...</td>\n",
       "      <td>'='</td>\n",
       "      <td>0.6200</td>\n",
       "      <td>nM</td>\n",
       "    </tr>\n",
       "  </tbody>\n",
       "</table>\n",
       "</div>"
      ],
      "text/plain": [
       "  Molecule ChEMBL ID                                             Smiles  \\\n",
       "0      CHEMBL2263120  CC1(C)CC[C@]2(C(=O)OCCCCCCCCCCC(=O)O)CC[C@]3(C...   \n",
       "1      CHEMBL2263121  CC1(C)CC[C@]2(C(=O)NC(Cc3ccccc3)C(=O)O)CC[C@]3...   \n",
       "2          CHEMBL168  CC1(C)CC[C@]2(C(=O)O)CC[C@]3(C)C(=CC[C@@H]4[C@...   \n",
       "3       CHEMBL508831  CC1(C)CC[C@]2(C(=O)O)CC[C@]3(C)C(=CC[C@@H]4[C@...   \n",
       "4       CHEMBL506556  CC1(C)CC[C@]2(C(=O)O)CC[C@]3(C)C(=CC[C@@H]4[C@...   \n",
       "\n",
       "  Standard Relation  Standard Value Standard Units  \n",
       "0               '='          0.7200             nM  \n",
       "1               '='          3.3100             nM  \n",
       "2               '='          5.0501             nM  \n",
       "3               '='          0.5400             nM  \n",
       "4               '='          0.6200             nM  "
      ]
     },
     "execution_count": 31,
     "metadata": {},
     "output_type": "execute_result"
    }
   ],
   "source": [
    "#dataset = pd.read_csv('https://raw.githubusercontent.com/relfarizi/Final_Project/master/Data/Dataset_After.csv', index_col= 0)\n",
    "dataset = pd.read_csv('Data/Dataset_After.csv',index_col = 0)\n",
    "dataset.head(5)"
   ]
  },
  {
   "cell_type": "code",
   "execution_count": 32,
   "metadata": {
    "colab": {},
    "colab_type": "code",
    "id": "hmjrEPcEgMFh"
   },
   "outputs": [
    {
     "name": "stdout",
     "output_type": "stream",
     "text": [
      "[258, 1012, 1051, 1312, 1338, 1473]\n"
     ]
    },
    {
     "data": {
      "text/html": [
       "<div>\n",
       "<style scoped>\n",
       "    .dataframe tbody tr th:only-of-type {\n",
       "        vertical-align: middle;\n",
       "    }\n",
       "\n",
       "    .dataframe tbody tr th {\n",
       "        vertical-align: top;\n",
       "    }\n",
       "\n",
       "    .dataframe thead th {\n",
       "        text-align: right;\n",
       "    }\n",
       "</style>\n",
       "<table border=\"1\" class=\"dataframe\">\n",
       "  <thead>\n",
       "    <tr style=\"text-align: right;\">\n",
       "      <th></th>\n",
       "      <th>Molecule ChEMBL ID</th>\n",
       "      <th>Smiles</th>\n",
       "      <th>Standard Relation</th>\n",
       "      <th>Standard Value</th>\n",
       "      <th>Standard Units</th>\n",
       "    </tr>\n",
       "  </thead>\n",
       "  <tbody>\n",
       "    <tr>\n",
       "      <td>2</td>\n",
       "      <td>CHEMBL168</td>\n",
       "      <td>CC1(C)CC[C@]2(C(=O)O)CC[C@]3(C)C(=CC[C@@H]4[C@...</td>\n",
       "      <td>'='</td>\n",
       "      <td>5.0501</td>\n",
       "      <td>nM</td>\n",
       "    </tr>\n",
       "    <tr>\n",
       "      <td>16</td>\n",
       "      <td>CHEMBL280487</td>\n",
       "      <td>C=C1[C@@H]([C@@H](O)C[C@H](C)[C@H]2O[C@@]3(CCC...</td>\n",
       "      <td>'='</td>\n",
       "      <td>1.3000</td>\n",
       "      <td>nM</td>\n",
       "    </tr>\n",
       "    <tr>\n",
       "      <td>17</td>\n",
       "      <td>CHEMBL140954</td>\n",
       "      <td>O=P(O)(O)C(F)(F)c1ccc(COc2ccc(OCc3ccc(C(F)(F)P...</td>\n",
       "      <td>'='</td>\n",
       "      <td>4.2000</td>\n",
       "      <td>nM</td>\n",
       "    </tr>\n",
       "    <tr>\n",
       "      <td>18</td>\n",
       "      <td>CHEMBL440955</td>\n",
       "      <td>O=C1C[C@@H](c2ccc(C[C@H](Nc3nc4ccccc4s3)c3nc4c...</td>\n",
       "      <td>'='</td>\n",
       "      <td>0.2700</td>\n",
       "      <td>nM</td>\n",
       "    </tr>\n",
       "    <tr>\n",
       "      <td>19</td>\n",
       "      <td>CHEMBL246869</td>\n",
       "      <td>O=C1CC(c2ccc(C[C@H](Nc3nc4ccc(Br)cc4s3)c3nc4cc...</td>\n",
       "      <td>'='</td>\n",
       "      <td>0.5000</td>\n",
       "      <td>nM</td>\n",
       "    </tr>\n",
       "    <tr>\n",
       "      <td>...</td>\n",
       "      <td>...</td>\n",
       "      <td>...</td>\n",
       "      <td>...</td>\n",
       "      <td>...</td>\n",
       "      <td>...</td>\n",
       "    </tr>\n",
       "    <tr>\n",
       "      <td>1855</td>\n",
       "      <td>CHEMBL1782241</td>\n",
       "      <td>CC(C)=CCC/C(C)=C/Cc1c(O)c(CC=C(C)C)c(O)c2c(=O)...</td>\n",
       "      <td>'='</td>\n",
       "      <td>5.2000</td>\n",
       "      <td>nM</td>\n",
       "    </tr>\n",
       "    <tr>\n",
       "      <td>1856</td>\n",
       "      <td>CHEMBL323197</td>\n",
       "      <td>COc1c(O)cc2oc3cc(O)c(CC=C(C)C)c(O)c3c(=O)c2c1C...</td>\n",
       "      <td>'='</td>\n",
       "      <td>5.5000</td>\n",
       "      <td>nM</td>\n",
       "    </tr>\n",
       "    <tr>\n",
       "      <td>1857</td>\n",
       "      <td>CHEMBL4071698</td>\n",
       "      <td>CCCc1cc(O)cc(OC(=O)c2c(O)cc(O)cc2CCC)c1</td>\n",
       "      <td>'='</td>\n",
       "      <td>0.7200</td>\n",
       "      <td>nM</td>\n",
       "    </tr>\n",
       "    <tr>\n",
       "      <td>1858</td>\n",
       "      <td>CHEMBL3770020</td>\n",
       "      <td>CCCc1cc(O)cc(O)c1C(=O)O</td>\n",
       "      <td>'='</td>\n",
       "      <td>1.5800</td>\n",
       "      <td>nM</td>\n",
       "    </tr>\n",
       "    <tr>\n",
       "      <td>1859</td>\n",
       "      <td>CHEMBL4278170</td>\n",
       "      <td>FC(F)(F)Sc1ccc(CNCc2ccc(SC(F)(F)F)cc2)cc1</td>\n",
       "      <td>'='</td>\n",
       "      <td>0.7000</td>\n",
       "      <td>nM</td>\n",
       "    </tr>\n",
       "  </tbody>\n",
       "</table>\n",
       "<p>1612 rows × 5 columns</p>\n",
       "</div>"
      ],
      "text/plain": [
       "     Molecule ChEMBL ID                                             Smiles  \\\n",
       "2             CHEMBL168  CC1(C)CC[C@]2(C(=O)O)CC[C@]3(C)C(=CC[C@@H]4[C@...   \n",
       "16         CHEMBL280487  C=C1[C@@H]([C@@H](O)C[C@H](C)[C@H]2O[C@@]3(CCC...   \n",
       "17         CHEMBL140954  O=P(O)(O)C(F)(F)c1ccc(COc2ccc(OCc3ccc(C(F)(F)P...   \n",
       "18         CHEMBL440955  O=C1C[C@@H](c2ccc(C[C@H](Nc3nc4ccccc4s3)c3nc4c...   \n",
       "19         CHEMBL246869  O=C1CC(c2ccc(C[C@H](Nc3nc4ccc(Br)cc4s3)c3nc4cc...   \n",
       "...                 ...                                                ...   \n",
       "1855      CHEMBL1782241  CC(C)=CCC/C(C)=C/Cc1c(O)c(CC=C(C)C)c(O)c2c(=O)...   \n",
       "1856       CHEMBL323197  COc1c(O)cc2oc3cc(O)c(CC=C(C)C)c(O)c3c(=O)c2c1C...   \n",
       "1857      CHEMBL4071698            CCCc1cc(O)cc(OC(=O)c2c(O)cc(O)cc2CCC)c1   \n",
       "1858      CHEMBL3770020                            CCCc1cc(O)cc(O)c1C(=O)O   \n",
       "1859      CHEMBL4278170          FC(F)(F)Sc1ccc(CNCc2ccc(SC(F)(F)F)cc2)cc1   \n",
       "\n",
       "     Standard Relation  Standard Value Standard Units  \n",
       "2                  '='          5.0501             nM  \n",
       "16                 '='          1.3000             nM  \n",
       "17                 '='          4.2000             nM  \n",
       "18                 '='          0.2700             nM  \n",
       "19                 '='          0.5000             nM  \n",
       "...                ...             ...            ...  \n",
       "1855               '='          5.2000             nM  \n",
       "1856               '='          5.5000             nM  \n",
       "1857               '='          0.7200             nM  \n",
       "1858               '='          1.5800             nM  \n",
       "1859               '='          0.7000             nM  \n",
       "\n",
       "[1612 rows x 5 columns]"
      ]
     },
     "execution_count": 32,
     "metadata": {},
     "output_type": "execute_result"
    }
   ],
   "source": [
    "dataset.drop_duplicates(keep=False,inplace=True)\n",
    "dataset.dropna()\n",
    "mol_smiles = dataset.iloc[:,1].values.tolist()\n",
    "row_drop = []\n",
    "for i in range(len(mol_smiles)) :\n",
    "  #print(mol_smiles[i])\n",
    "  if len(str(mol_smiles[i])) < 5 :\n",
    "    row_drop.append(i)\n",
    "print(row_drop)\n",
    "#dataset.drop(row_drop)\n",
    "#dataset = dataset.iloc[258,1]\n",
    "dataset"
   ]
  },
  {
   "cell_type": "markdown",
   "metadata": {
    "colab_type": "text",
    "id": "jr6v-7v0j-JM"
   },
   "source": [
    "## Probability Activity"
   ]
  },
  {
   "cell_type": "markdown",
   "metadata": {
    "colab_type": "text",
    "id": "Ppj_X-CZ720j"
   },
   "source": [
    "### 1. Molecule Activity\n",
    "Untuk mencari jumlah dari nilai aktivitas masing2 molekul\n",
    "\n",
    "variabel yang digunakan :\n",
    "* mol_name = list nama molekul\n",
    "* mol_smile = list smile molekul\n",
    "* mol_act = list berisi nilai IC50\n",
    "* act = nilai aktivitas tiap molekul\n",
    "* sum_act = Nilai jumlah dari a"
   ]
  },
  {
   "cell_type": "code",
   "execution_count": 33,
   "metadata": {
    "colab": {},
    "colab_type": "code",
    "id": "cIMuhWGr7zlj"
   },
   "outputs": [
    {
     "name": "stdout",
     "output_type": "stream",
     "text": [
      "532.5312832056926\n"
     ]
    }
   ],
   "source": [
    "mol_name = dataset.iloc[:,0].values.tolist()\n",
    "mol_smiles = dataset.iloc[:,1].values.tolist()\n",
    "mol_act = dataset.iloc[:,3].values.tolist()\n",
    "sum_act = 0\n",
    "for molekul in mol_act :\n",
    "  act = np.exp(-molekul)\n",
    "  sum_act  += act\n",
    "print(sum_act)"
   ]
  },
  {
   "cell_type": "markdown",
   "metadata": {
    "colab_type": "text",
    "id": "iYqPm_bI8VZ1"
   },
   "source": [
    "### 2. Probability Succes\n",
    "\n",
    "\n",
    "Mencari nilai probabilitas kesuksesan untuk setiap molekul\n",
    "\n",
    "Variabel yang digunakan :\n",
    "* n = banyaknya molekul\n",
    "* mol_act_dict = Dictioary yang akan menampung nilai activity dan probabilitas\n",
    ">* mol_act_dict[keys][0] = IC50(dari data)\n",
    ">* mol_act_dict[keys][1] = Aktifitas Molekul (dari rumus)\n",
    ">* mol_act_dict[keys][2] = Probabilitas Kesuksesan\n",
    "* act = nilai aktivitas molekul\n",
    "* prob = nilai probabilitas kesuksesan molekul\n",
    "* sum_pro = nilai jumlah dari Probabiliras Kesuksesan\n",
    "\n",
    "\n"
   ]
  },
  {
   "cell_type": "code",
   "execution_count": 34,
   "metadata": {
    "colab": {},
    "colab_type": "code",
    "id": "J9ISKgMpljNb"
   },
   "outputs": [
    {
     "name": "stdout",
     "output_type": "stream",
     "text": [
      "0.9999999100000042\n"
     ]
    }
   ],
   "source": [
    "n = len(mol_act)\n",
    "#p_avg = 1/n\n",
    "mol_prob = []\n",
    "\n",
    "# act = probabilitas kesuksesan\n",
    "\n",
    "sum_pro = 0\n",
    "for molekul in mol_act :\n",
    "  #act = (molekul[1]*p_avg*n)/sum_act\n",
    "  act = np.exp(-molekul)\n",
    "  prob = act/sum_act\n",
    "  prob = round(prob,8)\n",
    "  mol_prob.append(prob)\n",
    "  sum_pro += prob\n",
    "print(sum_pro)\n"
   ]
  },
  {
   "cell_type": "markdown",
   "metadata": {
    "colab_type": "text",
    "id": "3enxBzZ33Hn1"
   },
   "source": [
    "## Fingerprint"
   ]
  },
  {
   "cell_type": "code",
   "execution_count": 35,
   "metadata": {
    "colab": {},
    "colab_type": "code",
    "id": "w9iB6gWO3PAo"
   },
   "outputs": [
    {
     "name": "stdout",
     "output_type": "stream",
     "text": [
      "nan\n",
      "0\n",
      "1\n",
      "2\n",
      "3\n",
      "4\n",
      "5\n",
      "6\n",
      "7\n",
      "8\n",
      "9\n",
      "10\n",
      "11\n",
      "12\n",
      "13\n",
      "14\n",
      "15\n",
      "16\n",
      "17\n",
      "18\n",
      "19\n",
      "20\n",
      "21\n",
      "22\n",
      "23\n",
      "24\n",
      "25\n",
      "26\n",
      "27\n",
      "28\n",
      "29\n",
      "30\n",
      "31\n",
      "32\n",
      "33\n",
      "34\n",
      "35\n",
      "36\n",
      "37\n",
      "38\n",
      "39\n",
      "40\n",
      "41\n",
      "42\n",
      "43\n",
      "44\n",
      "45\n",
      "46\n",
      "47\n",
      "48\n",
      "49\n",
      "50\n",
      "51\n",
      "52\n",
      "53\n",
      "54\n",
      "55\n",
      "56\n",
      "57\n",
      "58\n",
      "59\n",
      "60\n",
      "61\n",
      "62\n",
      "63\n",
      "64\n",
      "65\n",
      "66\n",
      "67\n",
      "68\n",
      "69\n",
      "70\n",
      "71\n",
      "72\n",
      "73\n",
      "74\n",
      "75\n",
      "76\n",
      "77\n",
      "78\n",
      "79\n",
      "80\n",
      "81\n",
      "82\n",
      "83\n",
      "84\n",
      "85\n",
      "86\n",
      "87\n",
      "88\n",
      "89\n",
      "90\n",
      "91\n",
      "92\n",
      "93\n",
      "94\n",
      "95\n",
      "96\n",
      "97\n",
      "98\n",
      "99\n",
      "100\n",
      "101\n",
      "102\n",
      "103\n",
      "104\n",
      "105\n",
      "106\n",
      "107\n",
      "108\n",
      "109\n",
      "110\n",
      "111\n",
      "112\n",
      "113\n",
      "114\n",
      "115\n",
      "116\n",
      "117\n",
      "118\n",
      "119\n",
      "120\n",
      "121\n",
      "122\n",
      "123\n",
      "124\n",
      "125\n",
      "126\n",
      "127\n",
      "128\n",
      "129\n",
      "130\n",
      "131\n",
      "132\n",
      "133\n",
      "134\n",
      "135\n",
      "136\n",
      "137\n",
      "138\n",
      "139\n",
      "140\n",
      "141\n",
      "142\n",
      "143\n",
      "144\n",
      "145\n",
      "146\n",
      "147\n",
      "148\n",
      "149\n",
      "150\n",
      "151\n",
      "152\n",
      "153\n",
      "154\n",
      "155\n",
      "156\n",
      "157\n",
      "158\n",
      "159\n",
      "160\n",
      "161\n",
      "162\n",
      "163\n",
      "164\n",
      "165\n",
      "166\n",
      "167\n",
      "168\n",
      "169\n",
      "170\n",
      "171\n",
      "172\n",
      "173\n",
      "174\n",
      "175\n",
      "176\n",
      "177\n",
      "178\n",
      "179\n",
      "180\n",
      "181\n",
      "182\n",
      "183\n",
      "184\n",
      "185\n",
      "186\n",
      "187\n",
      "188\n",
      "189\n",
      "190\n",
      "191\n",
      "192\n",
      "193\n",
      "194\n",
      "195\n",
      "196\n",
      "197\n",
      "198\n",
      "199\n",
      "200\n",
      "201\n",
      "202\n",
      "203\n",
      "204\n",
      "205\n",
      "206\n",
      "207\n",
      "208\n",
      "209\n",
      "210\n",
      "211\n",
      "212\n",
      "213\n",
      "214\n",
      "215\n",
      "216\n",
      "217\n",
      "218\n",
      "219\n",
      "220\n",
      "221\n",
      "222\n",
      "223\n",
      "224\n",
      "225\n",
      "226\n",
      "227\n",
      "228\n",
      "229\n",
      "230\n",
      "231\n",
      "232\n",
      "233\n",
      "234\n",
      "235\n",
      "236\n",
      "237\n",
      "238\n",
      "239\n",
      "240\n",
      "241\n",
      "242\n",
      "243\n",
      "244\n",
      "245\n",
      "246\n",
      "247\n",
      "248\n",
      "249\n",
      "250\n",
      "251\n",
      "252\n",
      "253\n",
      "254\n",
      "255\n",
      "256\n",
      "257\n"
     ]
    },
    {
     "ename": "ArgumentError",
     "evalue": "Python argument types in\n    rdkit.Chem.rdmolops.RDKFingerprint(NoneType)\ndid not match C++ signature:\n    RDKFingerprint(class RDKit::ROMol mol, unsigned int minPath=1, unsigned int maxPath=7, unsigned int fpSize=2048, unsigned int nBitsPerHash=2, bool useHs=True, double tgtDensity=0.0, unsigned int minSize=128, bool branchedPaths=True, bool useBondOrder=True, class boost::python::api::object atomInvariants=0, class boost::python::api::object fromAtoms=0, class boost::python::api::object atomBits=None, class boost::python::api::object bitInfo=None)",
     "output_type": "error",
     "traceback": [
      "\u001b[1;31m---------------------------------------------------------------------------\u001b[0m",
      "\u001b[1;31mArgumentError\u001b[0m                             Traceback (most recent call last)",
      "\u001b[1;32m<ipython-input-35-b9f9c320bc1c>\u001b[0m in \u001b[0;36m<module>\u001b[1;34m\u001b[0m\n\u001b[0;32m      4\u001b[0m \u001b[1;32mfor\u001b[0m \u001b[0mmolekul\u001b[0m \u001b[1;32min\u001b[0m \u001b[0mmol_smiles\u001b[0m \u001b[1;33m:\u001b[0m\u001b[1;33m\u001b[0m\u001b[1;33m\u001b[0m\u001b[0m\n\u001b[0;32m      5\u001b[0m   \u001b[0msmiles\u001b[0m \u001b[1;33m=\u001b[0m \u001b[0mChem\u001b[0m\u001b[1;33m.\u001b[0m\u001b[0mMolFromSmiles\u001b[0m\u001b[1;33m(\u001b[0m\u001b[0mstr\u001b[0m\u001b[1;33m(\u001b[0m\u001b[0mmolekul\u001b[0m\u001b[1;33m)\u001b[0m\u001b[1;33m)\u001b[0m\u001b[1;33m\u001b[0m\u001b[1;33m\u001b[0m\u001b[0m\n\u001b[1;32m----> 6\u001b[1;33m   \u001b[0mfp\u001b[0m \u001b[1;33m=\u001b[0m \u001b[0mChem\u001b[0m\u001b[1;33m.\u001b[0m\u001b[0mRDKFingerprint\u001b[0m\u001b[1;33m(\u001b[0m\u001b[0msmiles\u001b[0m\u001b[1;33m)\u001b[0m\u001b[1;33m\u001b[0m\u001b[1;33m\u001b[0m\u001b[0m\n\u001b[0m\u001b[0;32m      7\u001b[0m   \u001b[0mprint\u001b[0m\u001b[1;33m(\u001b[0m\u001b[0mi\u001b[0m\u001b[1;33m)\u001b[0m\u001b[1;33m\u001b[0m\u001b[1;33m\u001b[0m\u001b[0m\n\u001b[0;32m      8\u001b[0m   \u001b[0mi\u001b[0m\u001b[1;33m+=\u001b[0m \u001b[1;36m1\u001b[0m\u001b[1;33m\u001b[0m\u001b[1;33m\u001b[0m\u001b[0m\n",
      "\u001b[1;31mArgumentError\u001b[0m: Python argument types in\n    rdkit.Chem.rdmolops.RDKFingerprint(NoneType)\ndid not match C++ signature:\n    RDKFingerprint(class RDKit::ROMol mol, unsigned int minPath=1, unsigned int maxPath=7, unsigned int fpSize=2048, unsigned int nBitsPerHash=2, bool useHs=True, double tgtDensity=0.0, unsigned int minSize=128, bool branchedPaths=True, bool useBondOrder=True, class boost::python::api::object atomInvariants=0, class boost::python::api::object fromAtoms=0, class boost::python::api::object atomBits=None, class boost::python::api::object bitInfo=None)"
     ]
    }
   ],
   "source": [
    "mol_fp = []\n",
    "i = 0\n",
    "print(mol_smiles[258])\n",
    "for molekul in mol_smiles :\n",
    "  smiles = Chem.MolFromSmiles(str(molekul))\n",
    "  fp = Chem.RDKFingerprint(smiles)\n",
    "  print(i)\n",
    "  i+= 1\n",
    "  mol_fp.append(fp)"
   ]
  },
  {
   "cell_type": "markdown",
   "metadata": {
    "colab_type": "text",
    "id": "zzqnv1Ri-UO6"
   },
   "source": [
    "## To DataFrame"
   ]
  },
  {
   "cell_type": "code",
   "execution_count": 36,
   "metadata": {
    "colab": {},
    "colab_type": "code",
    "id": "zsyu8ksX-UqX"
   },
   "outputs": [
    {
     "ename": "ValueError",
     "evalue": "arrays must all be same length",
     "output_type": "error",
     "traceback": [
      "\u001b[1;31m---------------------------------------------------------------------------\u001b[0m",
      "\u001b[1;31mValueError\u001b[0m                                Traceback (most recent call last)",
      "\u001b[1;32m<ipython-input-36-2d617a54b35e>\u001b[0m in \u001b[0;36m<module>\u001b[1;34m\u001b[0m\n\u001b[0;32m      9\u001b[0m                        \u001b[1;34m'mol_fp'\u001b[0m \u001b[1;33m:\u001b[0m \u001b[0mmol_fp\u001b[0m\u001b[1;33m,\u001b[0m\u001b[1;33m\u001b[0m\u001b[1;33m\u001b[0m\u001b[0m\n\u001b[0;32m     10\u001b[0m                        \u001b[1;34m'mol_act'\u001b[0m\u001b[1;33m:\u001b[0m\u001b[0mmol_act\u001b[0m\u001b[1;33m,\u001b[0m\u001b[1;33m\u001b[0m\u001b[1;33m\u001b[0m\u001b[0m\n\u001b[1;32m---> 11\u001b[1;33m                        \u001b[1;34m'mol_prob'\u001b[0m \u001b[1;33m:\u001b[0m \u001b[0mmol_prob\u001b[0m\u001b[1;33m\u001b[0m\u001b[1;33m\u001b[0m\u001b[0m\n\u001b[0m\u001b[0;32m     12\u001b[0m                        })\n\u001b[0;32m     13\u001b[0m \u001b[0mdf_mol\u001b[0m\u001b[1;33m\u001b[0m\u001b[1;33m\u001b[0m\u001b[0m\n",
      "\u001b[1;32m~\\Anaconda3\\lib\\site-packages\\pandas\\core\\frame.py\u001b[0m in \u001b[0;36m__init__\u001b[1;34m(self, data, index, columns, dtype, copy)\u001b[0m\n\u001b[0;32m    409\u001b[0m             )\n\u001b[0;32m    410\u001b[0m         \u001b[1;32melif\u001b[0m \u001b[0misinstance\u001b[0m\u001b[1;33m(\u001b[0m\u001b[0mdata\u001b[0m\u001b[1;33m,\u001b[0m \u001b[0mdict\u001b[0m\u001b[1;33m)\u001b[0m\u001b[1;33m:\u001b[0m\u001b[1;33m\u001b[0m\u001b[1;33m\u001b[0m\u001b[0m\n\u001b[1;32m--> 411\u001b[1;33m             \u001b[0mmgr\u001b[0m \u001b[1;33m=\u001b[0m \u001b[0minit_dict\u001b[0m\u001b[1;33m(\u001b[0m\u001b[0mdata\u001b[0m\u001b[1;33m,\u001b[0m \u001b[0mindex\u001b[0m\u001b[1;33m,\u001b[0m \u001b[0mcolumns\u001b[0m\u001b[1;33m,\u001b[0m \u001b[0mdtype\u001b[0m\u001b[1;33m=\u001b[0m\u001b[0mdtype\u001b[0m\u001b[1;33m)\u001b[0m\u001b[1;33m\u001b[0m\u001b[1;33m\u001b[0m\u001b[0m\n\u001b[0m\u001b[0;32m    412\u001b[0m         \u001b[1;32melif\u001b[0m \u001b[0misinstance\u001b[0m\u001b[1;33m(\u001b[0m\u001b[0mdata\u001b[0m\u001b[1;33m,\u001b[0m \u001b[0mma\u001b[0m\u001b[1;33m.\u001b[0m\u001b[0mMaskedArray\u001b[0m\u001b[1;33m)\u001b[0m\u001b[1;33m:\u001b[0m\u001b[1;33m\u001b[0m\u001b[1;33m\u001b[0m\u001b[0m\n\u001b[0;32m    413\u001b[0m             \u001b[1;32mimport\u001b[0m \u001b[0mnumpy\u001b[0m\u001b[1;33m.\u001b[0m\u001b[0mma\u001b[0m\u001b[1;33m.\u001b[0m\u001b[0mmrecords\u001b[0m \u001b[1;32mas\u001b[0m \u001b[0mmrecords\u001b[0m\u001b[1;33m\u001b[0m\u001b[1;33m\u001b[0m\u001b[0m\n",
      "\u001b[1;32m~\\Anaconda3\\lib\\site-packages\\pandas\\core\\internals\\construction.py\u001b[0m in \u001b[0;36minit_dict\u001b[1;34m(data, index, columns, dtype)\u001b[0m\n\u001b[0;32m    255\u001b[0m             \u001b[0marr\u001b[0m \u001b[1;32mif\u001b[0m \u001b[1;32mnot\u001b[0m \u001b[0mis_datetime64tz_dtype\u001b[0m\u001b[1;33m(\u001b[0m\u001b[0marr\u001b[0m\u001b[1;33m)\u001b[0m \u001b[1;32melse\u001b[0m \u001b[0marr\u001b[0m\u001b[1;33m.\u001b[0m\u001b[0mcopy\u001b[0m\u001b[1;33m(\u001b[0m\u001b[1;33m)\u001b[0m \u001b[1;32mfor\u001b[0m \u001b[0marr\u001b[0m \u001b[1;32min\u001b[0m \u001b[0marrays\u001b[0m\u001b[1;33m\u001b[0m\u001b[1;33m\u001b[0m\u001b[0m\n\u001b[0;32m    256\u001b[0m         ]\n\u001b[1;32m--> 257\u001b[1;33m     \u001b[1;32mreturn\u001b[0m \u001b[0marrays_to_mgr\u001b[0m\u001b[1;33m(\u001b[0m\u001b[0marrays\u001b[0m\u001b[1;33m,\u001b[0m \u001b[0mdata_names\u001b[0m\u001b[1;33m,\u001b[0m \u001b[0mindex\u001b[0m\u001b[1;33m,\u001b[0m \u001b[0mcolumns\u001b[0m\u001b[1;33m,\u001b[0m \u001b[0mdtype\u001b[0m\u001b[1;33m=\u001b[0m\u001b[0mdtype\u001b[0m\u001b[1;33m)\u001b[0m\u001b[1;33m\u001b[0m\u001b[1;33m\u001b[0m\u001b[0m\n\u001b[0m\u001b[0;32m    258\u001b[0m \u001b[1;33m\u001b[0m\u001b[0m\n\u001b[0;32m    259\u001b[0m \u001b[1;33m\u001b[0m\u001b[0m\n",
      "\u001b[1;32m~\\Anaconda3\\lib\\site-packages\\pandas\\core\\internals\\construction.py\u001b[0m in \u001b[0;36marrays_to_mgr\u001b[1;34m(arrays, arr_names, index, columns, dtype)\u001b[0m\n\u001b[0;32m     75\u001b[0m     \u001b[1;31m# figure out the index, if necessary\u001b[0m\u001b[1;33m\u001b[0m\u001b[1;33m\u001b[0m\u001b[1;33m\u001b[0m\u001b[0m\n\u001b[0;32m     76\u001b[0m     \u001b[1;32mif\u001b[0m \u001b[0mindex\u001b[0m \u001b[1;32mis\u001b[0m \u001b[1;32mNone\u001b[0m\u001b[1;33m:\u001b[0m\u001b[1;33m\u001b[0m\u001b[1;33m\u001b[0m\u001b[0m\n\u001b[1;32m---> 77\u001b[1;33m         \u001b[0mindex\u001b[0m \u001b[1;33m=\u001b[0m \u001b[0mextract_index\u001b[0m\u001b[1;33m(\u001b[0m\u001b[0marrays\u001b[0m\u001b[1;33m)\u001b[0m\u001b[1;33m\u001b[0m\u001b[1;33m\u001b[0m\u001b[0m\n\u001b[0m\u001b[0;32m     78\u001b[0m     \u001b[1;32melse\u001b[0m\u001b[1;33m:\u001b[0m\u001b[1;33m\u001b[0m\u001b[1;33m\u001b[0m\u001b[0m\n\u001b[0;32m     79\u001b[0m         \u001b[0mindex\u001b[0m \u001b[1;33m=\u001b[0m \u001b[0mensure_index\u001b[0m\u001b[1;33m(\u001b[0m\u001b[0mindex\u001b[0m\u001b[1;33m)\u001b[0m\u001b[1;33m\u001b[0m\u001b[1;33m\u001b[0m\u001b[0m\n",
      "\u001b[1;32m~\\Anaconda3\\lib\\site-packages\\pandas\\core\\internals\\construction.py\u001b[0m in \u001b[0;36mextract_index\u001b[1;34m(data)\u001b[0m\n\u001b[0;32m    366\u001b[0m             \u001b[0mlengths\u001b[0m \u001b[1;33m=\u001b[0m \u001b[0mlist\u001b[0m\u001b[1;33m(\u001b[0m\u001b[0mset\u001b[0m\u001b[1;33m(\u001b[0m\u001b[0mraw_lengths\u001b[0m\u001b[1;33m)\u001b[0m\u001b[1;33m)\u001b[0m\u001b[1;33m\u001b[0m\u001b[1;33m\u001b[0m\u001b[0m\n\u001b[0;32m    367\u001b[0m             \u001b[1;32mif\u001b[0m \u001b[0mlen\u001b[0m\u001b[1;33m(\u001b[0m\u001b[0mlengths\u001b[0m\u001b[1;33m)\u001b[0m \u001b[1;33m>\u001b[0m \u001b[1;36m1\u001b[0m\u001b[1;33m:\u001b[0m\u001b[1;33m\u001b[0m\u001b[1;33m\u001b[0m\u001b[0m\n\u001b[1;32m--> 368\u001b[1;33m                 \u001b[1;32mraise\u001b[0m \u001b[0mValueError\u001b[0m\u001b[1;33m(\u001b[0m\u001b[1;34m\"arrays must all be same length\"\u001b[0m\u001b[1;33m)\u001b[0m\u001b[1;33m\u001b[0m\u001b[1;33m\u001b[0m\u001b[0m\n\u001b[0m\u001b[0;32m    369\u001b[0m \u001b[1;33m\u001b[0m\u001b[0m\n\u001b[0;32m    370\u001b[0m             \u001b[1;32mif\u001b[0m \u001b[0mhave_dicts\u001b[0m\u001b[1;33m:\u001b[0m\u001b[1;33m\u001b[0m\u001b[1;33m\u001b[0m\u001b[0m\n",
      "\u001b[1;31mValueError\u001b[0m: arrays must all be same length"
     ]
    }
   ],
   "source": [
    "#df_mol = pd.DataFrame.from_dict(mol_act_dict, orient='index')\n",
    "#df_mol.columns = [\"IC50\",\"Molecule Activity\", \"Probability Activity\"]\n",
    "#df_mol.sort_values(by=[\"IC50\"], ascending=False)\n",
    "#mol_name = pd.Series(mol_name)\n",
    "#mol_act = pd.Series(mol_act)\n",
    "#df_mol = pd.concat(mol_name,mol_act)\n",
    "df_mol = pd.DataFrame({'mol_name':mol_name,\n",
    "                       'mol_smiles' : mol_smiles,\n",
    "                       'mol_fp' : mol_fp,\n",
    "                       'mol_act':mol_act,\n",
    "                       'mol_prob' : mol_prob\n",
    "                       })\n",
    "df_mol"
   ]
  },
  {
   "cell_type": "markdown",
   "metadata": {
    "colab_type": "text",
    "id": "tXdysajfbus6"
   },
   "source": [
    "### 3. Diversity"
   ]
  },
  {
   "cell_type": "code",
   "execution_count": 0,
   "metadata": {
    "colab": {},
    "colab_type": "code",
    "id": "GYPOqUS0drKW"
   },
   "outputs": [],
   "source": [
    "n_subset = 5\n",
    "fps_list = []\n",
    "\n",
    "for i in range(n_subset):\n",
    "  for j in range(n_subset):\n",
    "    if i > j :\n",
    "      print(mol_fp[i])\n",
    "      print(mol_fp[j])\n",
    "      tmp = DataStructs.FingerprintSimilarity(mol_fp[0],mol_fp[0])\n",
    "      fps_list.append(tmp)"
   ]
  },
  {
   "cell_type": "markdown",
   "metadata": {
    "colab_type": "text",
    "id": "93Y9R84yri4k"
   },
   "source": [
    "## For git (Can't be use yet)\n",
    "\n",
    "file > save a copy in Github"
   ]
  },
  {
   "cell_type": "code",
   "execution_count": 0,
   "metadata": {
    "colab": {},
    "colab_type": "code",
    "id": "g830FMTXpZHR"
   },
   "outputs": [],
   "source": [
    "#!git init\n",
    "\n",
    "#!git config --global user.name “relfarizi”\n",
    "\n",
    "#!git remote add origin https://github.com/relfarizi/Final_Project.git\n",
    "\n",
    "#!git add .\n",
    "\n",
    "#!git commit -m \"Probability Activity\"\n",
    "\n",
    "#!git push\n",
    "\n",
    "#!git status"
   ]
  }
 ],
 "metadata": {
  "colab": {
   "include_colab_link": true,
   "name": "Final_Project.ipynb",
   "private_outputs": true,
   "provenance": []
  },
  "kernelspec": {
   "display_name": "Python 3",
   "language": "python",
   "name": "python3"
  },
  "language_info": {
   "codemirror_mode": {
    "name": "ipython",
    "version": 3
   },
   "file_extension": ".py",
   "mimetype": "text/x-python",
   "name": "python",
   "nbconvert_exporter": "python",
   "pygments_lexer": "ipython3",
   "version": "3.7.4"
  }
 },
 "nbformat": 4,
 "nbformat_minor": 1
}
