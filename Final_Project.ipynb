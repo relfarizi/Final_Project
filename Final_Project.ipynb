{
  "nbformat": 4,
  "nbformat_minor": 0,
  "metadata": {
    "colab": {
      "name": "Final_Project.ipynb",
      "provenance": [],
      "private_outputs": true,
      "include_colab_link": true
    },
    "kernelspec": {
      "name": "python3",
      "display_name": "Python 3"
    }
  },
  "cells": [
    {
      "cell_type": "markdown",
      "metadata": {
        "id": "view-in-github",
        "colab_type": "text"
      },
      "source": [
        "<a href=\"https://colab.research.google.com/github/relfarizi/Final_Project/blob/master/Final_Project.ipynb\" target=\"_parent\"><img src=\"https://colab.research.google.com/assets/colab-badge.svg\" alt=\"Open In Colab\"/></a>"
      ]
    },
    {
      "cell_type": "markdown",
      "metadata": {
        "id": "LTqadf5GKMCw",
        "colab_type": "text"
      },
      "source": [
        "## Import Library"
      ]
    },
    {
      "cell_type": "code",
      "metadata": {
        "id": "IePXvtoVkn3q",
        "colab_type": "code",
        "colab": {}
      },
      "source": [
        "# Data\n",
        "\n",
        "from google.colab import files\n",
        "import pandas as pd\n",
        "import numpy as np\n",
        "import regex as re"
      ],
      "execution_count": 0,
      "outputs": []
    },
    {
      "cell_type": "markdown",
      "metadata": {
        "id": "HMV8zmkwk9_z",
        "colab_type": "text"
      },
      "source": [
        "## Data"
      ]
    },
    {
      "cell_type": "markdown",
      "metadata": {
        "id": "MpX9zUAt82Tr",
        "colab_type": "text"
      },
      "source": [
        "### Pre-Processing Data"
      ]
    },
    {
      "cell_type": "code",
      "metadata": {
        "id": "OzqDxFp0kCaT",
        "colab_type": "code",
        "colab": {}
      },
      "source": [
        "def preprocessing_data(link_of_data) :\n",
        "  dataset = pd.read_csv(link_of_data,sep=\";\")\n",
        "  dataset = dataset.iloc[:,[0,7,9,10,11]]\n",
        "\n",
        "  list_of_column_dataframe = dataset.columns\n",
        "  list_of_dataset_after = []\n",
        "\n",
        "  list_of_dataset_before = np.array(dataset)\n",
        "  \n",
        "  for data in list_of_dataset_before :\n",
        "    if data[2] == \"'='\" :\n",
        "      if data[4] == \"nM\" :\n",
        "        if data[3] < 10000 :\n",
        "          data[3] = data[3]/1000\n",
        "          list_of_dataset_after.append(data)\n",
        "  \n",
        "  dataframe_of_dataset_after = pd.DataFrame(list_of_dataset_after)\n",
        "  dataframe_of_dataset_after.columns = list_of_column_dataframe\n",
        "  name_of_file_download = \"Dataset_After.csv\"\n",
        "  dataframe_of_dataset_after.to_csv(name_of_file_download)\n",
        "  files.download(name_of_file_download)\n",
        "  return dataframe_of_dataset_after\n"
      ],
      "execution_count": 0,
      "outputs": []
    },
    {
      "cell_type": "code",
      "metadata": {
        "id": "W47O-_Df2HU-",
        "colab_type": "code",
        "colab": {}
      },
      "source": [
        "#preprocessing_data(\"https://raw.githubusercontent.com/relfarizi/Final_Project/master/Data/Dataset_Before.csv\")"
      ],
      "execution_count": 0,
      "outputs": []
    },
    {
      "cell_type": "markdown",
      "metadata": {
        "id": "n_V57Wl-9BWQ",
        "colab_type": "text"
      },
      "source": [
        "### Data After Pre-Processing"
      ]
    },
    {
      "cell_type": "code",
      "metadata": {
        "id": "RA5IvTTn2pNb",
        "colab_type": "code",
        "colab": {}
      },
      "source": [
        "dataset = pd.read_csv(\"https://raw.githubusercontent.com/relfarizi/Final_Project/master/Data/Dataset_After.csv\")\n",
        "dataset"
      ],
      "execution_count": 0,
      "outputs": []
    },
    {
      "cell_type": "markdown",
      "metadata": {
        "id": "jr6v-7v0j-JM",
        "colab_type": "text"
      },
      "source": [
        "## Probability Activity"
      ]
    },
    {
      "cell_type": "markdown",
      "metadata": {
        "id": "Ppj_X-CZ720j",
        "colab_type": "text"
      },
      "source": [
        "### 1. Molecule Activity\n",
        "Untuk mencari jumlah dari nilai aktivitas masing2 molekul\n",
        "\n",
        "variabel yang digunakan :\n",
        "* mol_act = list berisi nilai IC50\n",
        "* act = nilai aktivitas tiap molekul\n",
        "* sum_act = Nilai jumlah dari a"
      ]
    },
    {
      "cell_type": "code",
      "metadata": {
        "id": "cIMuhWGr7zlj",
        "colab_type": "code",
        "colab": {}
      },
      "source": [
        "mol_act = dataset.iloc[:,[1,2,4]]\n",
        "sum_act = 0\n",
        "for molekul in mol_act.values :\n",
        "  act = np.exp(-molekul[2])\n",
        "  sum_act  += act\n",
        "print(sum_act)"
      ],
      "execution_count": 0,
      "outputs": []
    },
    {
      "cell_type": "markdown",
      "metadata": {
        "id": "iYqPm_bI8VZ1",
        "colab_type": "text"
      },
      "source": [
        "### 2. Probability Succes\n",
        "\n",
        "\n",
        "Mencari nilai probabilitas kesuksesan untuk setiap molekul\n",
        "\n",
        "Variabel yang digunakan :\n",
        "* n = banyaknya molekul\n",
        "* mol_act_dict = Dictioary yang akan menampung nilai activity dan probabilitas\n",
        ">* mol_act_dict[keys][0] = IC50(dari data)\n",
        ">* mol_act_dict[keys][1] = Aktifitas Molekul (dari rumus)\n",
        ">* mol_act_dict[keys][2] = Probabilitas Kesuksesan\n",
        "* act = nilai aktivitas molekul\n",
        "* prob = nilai probabilitas kesuksesan molekul\n",
        "* sum_pro = nilai jumlah dari Probabiliras Kesuksesan\n",
        "\n",
        "\n"
      ]
    },
    {
      "cell_type": "code",
      "metadata": {
        "id": "J9ISKgMpljNb",
        "colab_type": "code",
        "colab": {}
      },
      "source": [
        "n = len(mol_act)\n",
        "#p_avg = 1/n\n",
        "mol_act_dict = {}\n",
        "\n",
        "# act = probabilitas kesuksesan\n",
        "\n",
        "sum_pro = 0\n",
        "for molekul in mol_act.values :\n",
        "  #act = (molekul[1]*p_avg*n)/sum_act\n",
        "  act = np.exp(-molekul[2])\n",
        "  prob = act/sum_act\n",
        "  prob = round(prob,8)\n",
        "  mol_act_dict[molekul[0]] = [molekul[1],molekul[2],act,prob]\n",
        "  sum_pro += prob\n",
        "print(mol_act_dict)\n",
        "print(sum_pro)\n"
      ],
      "execution_count": 0,
      "outputs": []
    },
    {
      "cell_type": "markdown",
      "metadata": {
        "id": "zzqnv1Ri-UO6",
        "colab_type": "text"
      },
      "source": [
        "#### 2.1 To DataFrame"
      ]
    },
    {
      "cell_type": "code",
      "metadata": {
        "id": "zsyu8ksX-UqX",
        "colab_type": "code",
        "colab": {}
      },
      "source": [
        "df_mol = pd.DataFrame.from_dict(mol_act_dict, orient='index')\n",
        "df_mol.columns = [\"Smiles\",\"IC50\",\"Molecule Activity\", \"Probability Activity\"]\n",
        "df_mol.sort_values(by=[\"IC50\"], ascending=False)"
      ],
      "execution_count": 0,
      "outputs": []
    },
    {
      "cell_type": "markdown",
      "metadata": {
        "id": "93Y9R84yri4k",
        "colab_type": "text"
      },
      "source": [
        "## For git (Can't be use yet)\n",
        "\n",
        "file > save a copy in Github"
      ]
    },
    {
      "cell_type": "code",
      "metadata": {
        "id": "g830FMTXpZHR",
        "colab_type": "code",
        "colab": {}
      },
      "source": [
        "#!git init\n",
        "\n",
        "#!git config --global user.name “relfarizi”\n",
        "\n",
        "#!git remote add origin https://github.com/relfarizi/Final_Project.git\n",
        "\n",
        "#!git add .\n",
        "\n",
        "#!git commit -m \"Probability Activity\"\n",
        "\n",
        "#!git push\n",
        "\n",
        "#!git status"
      ],
      "execution_count": 0,
      "outputs": []
    }
  ]
}