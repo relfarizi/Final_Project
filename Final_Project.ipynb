{
  "cells": [
    {
      "cell_type": "markdown",
      "metadata": {
        "colab_type": "text",
        "id": "LTqadf5GKMCw"
      },
      "source": [
        "## Import Library"
      ]
    },
    {
      "cell_type": "code",
      "metadata": {
        "colab_type": "code",
        "id": "SIw0TvdNcFQY",
        "colab": {}
      },
      "source": [
        "# Install rdkit\n",
        "\n",
        "def install_rdkit():\n",
        "  !wget -c https://repo.continuum.io/miniconda/Miniconda3-latest-Linux-x86_64.sh\n",
        "  !chmod +x Miniconda3-latest-Linux-x86_64.sh\n",
        "  !time bash ./Miniconda3-latest-Linux-x86_64.sh -b -f -p /usr/local\n",
        "  !time conda install -q -y -c conda-forge rdkit\n",
        "\n",
        "# install_rdkit()"
      ],
      "execution_count": 3,
      "outputs": []
    },
    {
      "cell_type": "code",
      "metadata": {
        "colab_type": "code",
        "id": "IePXvtoVkn3q",
        "colab": {}
      },
      "source": [
        "# Data\n",
        "\n",
        "#from google.colab import files\n",
        "import pandas as pd\n",
        "import numpy as np\n",
        "import regex as re\n",
        "\n",
        "# rdkit\n",
        "import sys\n",
        "#sys.path.append('/usr/local/lib/python3.7/site-packages/')\n",
        "from rdkit import Chem\n",
        "from rdkit.Chem import DataStructs\n",
        "\n",
        "# random\n",
        "import random as rd"
      ],
      "execution_count": 4,
      "outputs": [
        {
          "output_type": "stream",
          "name": "stderr",
          "text": "RDKit WARNING: [13:41:37] Enabling RDKit 2019.09.1 jupyter extensions\n"
        }
      ]
    },
    {
      "cell_type": "markdown",
      "metadata": {
        "colab_type": "text",
        "id": "HMV8zmkwk9_z"
      },
      "source": [
        "## Data"
      ]
    },
    {
      "cell_type": "markdown",
      "metadata": {
        "colab_type": "text",
        "id": "MpX9zUAt82Tr"
      },
      "source": [
        "### Pre-Processing Data"
      ]
    },
    {
      "cell_type": "code",
      "metadata": {
        "colab_type": "code",
        "id": "OzqDxFp0kCaT",
        "colab": {},
        "tags": [
          "outputPrepend"
        ]
      },
      "source": [
        "def preprocessing_data(link_of_data) :\n",
        "  dataset = pd.read_csv(link_of_data,sep=\";\")\n",
        "  dataset = dataset.iloc[:,[0,7,9,10,11]]\n",
        "\n",
        "  sameMol = []\n",
        "  sameMolCount = {}\n",
        "  dataset_handle = []\n",
        "\n",
        "  for x in dataset.values:\n",
        "    mol_name = x[0]\n",
        "    if mol_name in sameMol:\n",
        "      print(\"uye\")\n",
        "      x[0] = mol_name+\"(\"+str(sameMolCount[mol_name])+\")\"\n",
        "      sameMolCount[mol_name] += 1\n",
        "    else:\n",
        "      sameMol.append(x[0])\n",
        "      sameMolCount[mol_name] = 1\n",
        "    dataset_handle.append(x)\n",
        "\n",
        "  #print(dataset_handle)\n",
        "    \n",
        "  list_of_column_dataframe = dataset.columns\n",
        "  list_of_dataset_after = []\n",
        "\n",
        "  list_of_dataset_before = np.array(dataset_handle)\n",
        "  \n",
        "  for data in list_of_dataset_before :\n",
        "    if data[2] == \"'='\" :\n",
        "      if data[4] == \"nM\" :\n",
        "        if data[3] < 10000 :\n",
        "          data[3] = data[3]/1000\n",
        "          list_of_dataset_after.append(data)\n",
        "  \n",
        "  dataframe_of_dataset_after = pd.DataFrame(list_of_dataset_after)\n",
        "  dataframe_of_dataset_after.columns = list_of_column_dataframe\n",
        "  name_of_file_download = \"Dataset_After.csv\"\n",
        "  dataframe_of_dataset_after.to_csv(name_of_file_download)\n",
        "  #files.download(name_of_file_download)\n",
        "  return dataframe_of_dataset_after\n",
        "\n"
      ],
      "execution_count": 5,
      "outputs": []
    },
    {
      "cell_type": "code",
      "metadata": {
        "colab_type": "code",
        "id": "W47O-_Df2HU-",
        "colab": {},
        "tags": [
          "outputPrepend",
          "outputPrepend"
        ]
      },
      "source": [
        "#preprocessing_data(\"https://raw.githubusercontent.com/relfarizi/Final_Project/master/Data/Dataset_Before.csv\")"
      ],
      "execution_count": 6,
      "outputs": []
    },
    {
      "cell_type": "markdown",
      "metadata": {
        "colab_type": "text",
        "id": "n_V57Wl-9BWQ"
      },
      "source": [
        "### Data After Pre-Processing"
      ]
    },
    {
      "cell_type": "code",
      "metadata": {
        "colab_type": "code",
        "id": "RA5IvTTn2pNb",
        "scrolled": true,
        "colab": {}
      },
      "source": [
        "# for colab\n",
        "\n",
        "#dataset = pd.read_csv('https://raw.githubusercontent.com/relfarizi/Final_Project/master/Data/Dataset_After.csv', index_col= 0)\n",
        "\n",
        "\n",
        "dataset = pd.read_csv('Dataset_After.csv',index_col = 0)\n",
        "dataset.head(5)"
      ],
      "execution_count": 7,
      "outputs": [
        {
          "output_type": "execute_result",
          "data": {
            "text/plain": "  Molecule ChEMBL ID                                             Smiles  \\\n0      CHEMBL2263120  CC1(C)CC[C@]2(C(=O)OCCCCCCCCCCC(=O)O)CC[C@]3(C...   \n1      CHEMBL2263121  CC1(C)CC[C@]2(C(=O)NC(Cc3ccccc3)C(=O)O)CC[C@]3...   \n2          CHEMBL168  CC1(C)CC[C@]2(C(=O)O)CC[C@]3(C)C(=CC[C@@H]4[C@...   \n3       CHEMBL508831  CC1(C)CC[C@]2(C(=O)O)CC[C@]3(C)C(=CC[C@@H]4[C@...   \n4       CHEMBL506556  CC1(C)CC[C@]2(C(=O)O)CC[C@]3(C)C(=CC[C@@H]4[C@...   \n\n  Standard Relation  Standard Value Standard Units  \n0               '='          0.7200             nM  \n1               '='          3.3100             nM  \n2               '='          5.0501             nM  \n3               '='          0.5400             nM  \n4               '='          0.6200             nM  ",
            "text/html": "<div>\n<style scoped>\n    .dataframe tbody tr th:only-of-type {\n        vertical-align: middle;\n    }\n\n    .dataframe tbody tr th {\n        vertical-align: top;\n    }\n\n    .dataframe thead th {\n        text-align: right;\n    }\n</style>\n<table border=\"1\" class=\"dataframe\">\n  <thead>\n    <tr style=\"text-align: right;\">\n      <th></th>\n      <th>Molecule ChEMBL ID</th>\n      <th>Smiles</th>\n      <th>Standard Relation</th>\n      <th>Standard Value</th>\n      <th>Standard Units</th>\n    </tr>\n  </thead>\n  <tbody>\n    <tr>\n      <th>0</th>\n      <td>CHEMBL2263120</td>\n      <td>CC1(C)CC[C@]2(C(=O)OCCCCCCCCCCC(=O)O)CC[C@]3(C...</td>\n      <td>'='</td>\n      <td>0.7200</td>\n      <td>nM</td>\n    </tr>\n    <tr>\n      <th>1</th>\n      <td>CHEMBL2263121</td>\n      <td>CC1(C)CC[C@]2(C(=O)NC(Cc3ccccc3)C(=O)O)CC[C@]3...</td>\n      <td>'='</td>\n      <td>3.3100</td>\n      <td>nM</td>\n    </tr>\n    <tr>\n      <th>2</th>\n      <td>CHEMBL168</td>\n      <td>CC1(C)CC[C@]2(C(=O)O)CC[C@]3(C)C(=CC[C@@H]4[C@...</td>\n      <td>'='</td>\n      <td>5.0501</td>\n      <td>nM</td>\n    </tr>\n    <tr>\n      <th>3</th>\n      <td>CHEMBL508831</td>\n      <td>CC1(C)CC[C@]2(C(=O)O)CC[C@]3(C)C(=CC[C@@H]4[C@...</td>\n      <td>'='</td>\n      <td>0.5400</td>\n      <td>nM</td>\n    </tr>\n    <tr>\n      <th>4</th>\n      <td>CHEMBL506556</td>\n      <td>CC1(C)CC[C@]2(C(=O)O)CC[C@]3(C)C(=CC[C@@H]4[C@...</td>\n      <td>'='</td>\n      <td>0.6200</td>\n      <td>nM</td>\n    </tr>\n  </tbody>\n</table>\n</div>"
          },
          "metadata": {},
          "execution_count": 7
        }
      ]
    },
    {
      "cell_type": "code",
      "metadata": {
        "colab_type": "code",
        "id": "hmjrEPcEgMFh",
        "colab": {}
      },
      "source": [
        "#dataset = dataset.drop_duplicates(keep=False,inplace=True)\n",
        "dataset = dataset.dropna()\n",
        "mol_smiles = dataset.iloc[:,1].values.tolist()\n",
        "row_drop = []\n",
        "for i in range(len(mol_smiles)) :\n",
        "  #print(mol_smiles[i])\n",
        "  if len(str(mol_smiles[i])) < 5 :\n",
        "    row_drop.append(i)\n",
        "print(row_drop)\n",
        "dataset.drop(row_drop)\n",
        "dataset.iloc[258,:]"
      ],
      "execution_count": 8,
      "outputs": [
        {
          "output_type": "stream",
          "name": "stdout",
          "text": "[]\n"
        },
        {
          "output_type": "execute_result",
          "data": {
            "text/plain": "Molecule ChEMBL ID                                         CHEMBL504726\nSmiles                COc1ccc(OC)c([C@@H]2O[C@H](CNC(=O)c3ccccc3)[C@...\nStandard Relation                                                   '='\nStandard Value                                                     4.13\nStandard Units                                                       nM\nName: 258, dtype: object"
          },
          "metadata": {},
          "execution_count": 8
        }
      ]
    },
    {
      "cell_type": "markdown",
      "metadata": {
        "colab_type": "text",
        "id": "jr6v-7v0j-JM"
      },
      "source": [
        "## Probability Activity"
      ]
    },
    {
      "cell_type": "markdown",
      "metadata": {
        "colab_type": "text",
        "id": "Ppj_X-CZ720j"
      },
      "source": [
        "### 1. Molecule Activity\n",
        "Untuk mencari jumlah dari nilai aktivitas masing2 molekul\n",
        "\n",
        "variabel yang digunakan :\n",
        "* mol_name = list nama molekul\n",
        "* mol_smile = list smile molekul\n",
        "* mol_act = list berisi nilai IC50\n",
        "* act = nilai aktivitas tiap molekul\n",
        "* sum_act = Nilai jumlah dari a"
      ]
    },
    {
      "cell_type": "code",
      "metadata": {
        "colab_type": "code",
        "id": "cIMuhWGr7zlj",
        "colab": {}
      },
      "source": [
        "mol_name = dataset.iloc[:,0].values.tolist()\n",
        "mol_smiles = dataset.iloc[:,1].values.tolist()\n",
        "mol_act = dataset.iloc[:,3].values.tolist()\n",
        "sum_act = 0\n",
        "for molekul in mol_act :\n",
        "  act = np.exp(-molekul)\n",
        "  sum_act  += act\n",
        "print(sum_act)"
      ],
      "execution_count": 9,
      "outputs": [
        {
          "output_type": "stream",
          "name": "stdout",
          "text": "616.3006027743246\n"
        }
      ]
    },
    {
      "cell_type": "markdown",
      "metadata": {
        "colab_type": "text",
        "id": "iYqPm_bI8VZ1"
      },
      "source": [
        "### 2. Probability Succes\n",
        "\n",
        "\n",
        "Mencari nilai probabilitas kesuksesan untuk setiap molekul\n",
        "\n",
        "Variabel yang digunakan :\n",
        "* n = banyaknya molekul\n",
        "* mol_prob = list probabilitas setiap molekul\n",
        "* act = nilai aktivitas molekul\n",
        "* prob = nilai probabilitas kesuksesan molekul\n",
        "* sum_pro = nilai jumlah dari Probabiliras Kesuksesan\n",
        "\n",
        "\n"
      ]
    },
    {
      "cell_type": "code",
      "metadata": {
        "colab_type": "code",
        "id": "J9ISKgMpljNb",
        "colab": {}
      },
      "source": [
        "n = len(mol_act)\n",
        "#p_avg = 1/n\n",
        "mol_prob = []\n",
        "\n",
        "# act = probabilitas kesuksesan\n",
        "\n",
        "sum_pro = 0\n",
        "for molekul in mol_act :\n",
        "  #act = (molekul[1]*p_avg*n)/sum_act\n",
        "  act = np.exp(-molekul)\n",
        "  prob = act/sum_act\n",
        "  prob = round(prob,8)\n",
        "  mol_prob.append(prob)\n",
        "  sum_pro += prob\n",
        "print(sum_pro)\n"
      ],
      "execution_count": 10,
      "outputs": [
        {
          "output_type": "stream",
          "name": "stdout",
          "text": "0.9999999799999977\n"
        }
      ]
    },
    {
      "cell_type": "markdown",
      "metadata": {
        "id": "NH1drdfpv36v",
        "colab_type": "text"
      },
      "source": [
        "## Cost (Trial)\n",
        "\n",
        "Menentukan cost dari setiap molekul. cell ini baru coba di-generate hanya dengan mengalikan dengan sum_of_cost dengan probability kesuksesannya. sehingga nilai probabilitas terbesar diasumsikan memiliki cost yang besar pula"
      ]
    },
    {
      "cell_type": "code",
      "metadata": {
        "id": "l-3pPCk9v36x",
        "colab_type": "code",
        "colab": {}
      },
      "source": [
        "sum_of_cost = 500000\n",
        "mol_cost = []\n",
        "sum_cost = 0\n",
        "for mol in mol_prob:\n",
        "    cost = mol*sum_of_cost\n",
        "    mol_cost.append(round(cost,4))\n",
        "    sum_cost += cost\n",
        "print(sum_cost)"
      ],
      "execution_count": 11,
      "outputs": [
        {
          "output_type": "stream",
          "name": "stdout",
          "text": "499999.99000000075\n"
        }
      ]
    },
    {
      "cell_type": "markdown",
      "metadata": {
        "colab_type": "text",
        "id": "3enxBzZ33Hn1"
      },
      "source": [
        "## Fingerprint\n",
        "\n",
        "berisi bit biner dari sifat yang menggambarkan suatu molekul (baca lagi)\n",
        "\n",
        "Variabel yang digunakan :\n",
        "* fingerprint suatu molekul (dalam bit biner)\n",
        "* mol_fp = list dari fingerprint setiap molekul\n"
      ]
    },
    {
      "cell_type": "code",
      "metadata": {
        "colab_type": "code",
        "id": "w9iB6gWO3PAo",
        "colab": {},
        "tags": [
          "outputPrepend"
        ]
      },
      "source": [
        "mol_fp = []\n",
        "i = 0\n",
        "print(mol_smiles[258])\n",
        "for molekul in mol_smiles :\n",
        "  smiles = Chem.MolFromSmiles(str(molekul))\n",
        "  fp = Chem.RDKFingerprint(smiles)\n",
        "  #print(i)\n",
        "  i+= 1\n",
        "  mol_fp.append(fp)\n",
        "print((mol_fp))"
      ],
      "execution_count": 12,
      "outputs": [
        {
          "output_type": "stream",
          "name": "stdout",
          "text": "E630E28490>, <rdkit.DataStructs.cDataStructs.ExplicitBitVect object at 0x000001E630E284E0>, <rdkit.DataStructs.cDataStructs.ExplicitBitVect object at 0x000001E630E28530>, <rdkit.DataStructs.cDataStructs.ExplicitBitVect object at 0x000001E630E28580>, <rdkit.DataStructs.cDataStructs.ExplicitBitVect object at 0x000001E630E285D0>, <rdkit.DataStructs.cDataStructs.ExplicitBitVect object at 0x000001E630E28620>, <rdkit.DataStructs.cDataStructs.ExplicitBitVect object at 0x000001E630E28670>, <rdkit.DataStructs.cDataStructs.ExplicitBitVect object at 0x000001E630E286C0>, <rdkit.DataStructs.cDataStructs.ExplicitBitVect object at 0x000001E630E28710>, <rdkit.DataStructs.cDataStructs.ExplicitBitVect object at 0x000001E630E28760>, <rdkit.DataStructs.cDataStructs.ExplicitBitVect object at 0x000001E630E287B0>, <rdkit.DataStructs.cDataStructs.ExplicitBitVect object at 0x000001E630E28800>, <rdkit.DataStructs.cDataStructs.ExplicitBitVect object at 0x000001E630E28850>, <rdkit.DataStructs.cDataStructs.ExplicitBitVect object at 0x000001E630E288A0>, <rdkit.DataStructs.cDataStructs.ExplicitBitVect object at 0x000001E630E288F0>, <rdkit.DataStructs.cDataStructs.ExplicitBitVect object at 0x000001E630E28940>, <rdkit.DataStructs.cDataStructs.ExplicitBitVect object at 0x000001E630E28990>, <rdkit.DataStructs.cDataStructs.ExplicitBitVect object at 0x000001E630E289E0>, <rdkit.DataStructs.cDataStructs.ExplicitBitVect object at 0x000001E630E28A30>, <rdkit.DataStructs.cDataStructs.ExplicitBitVect object at 0x000001E630E28A80>, <rdkit.DataStructs.cDataStructs.ExplicitBitVect object at 0x000001E630E28AD0>, <rdkit.DataStructs.cDataStructs.ExplicitBitVect object at 0x000001E630E28B20>, <rdkit.DataStructs.cDataStructs.ExplicitBitVect object at 0x000001E630E28B70>, <rdkit.DataStructs.cDataStructs.ExplicitBitVect object at 0x000001E630E28BC0>, <rdkit.DataStructs.cDataStructs.ExplicitBitVect object at 0x000001E630E28C10>, <rdkit.DataStructs.cDataStructs.ExplicitBitVect object at 0x000001E630E28C60>, <rdkit.DataStructs.cDataStructs.ExplicitBitVect object at 0x000001E630E28CB0>, <rdkit.DataStructs.cDataStructs.ExplicitBitVect object at 0x000001E630E28D00>, <rdkit.DataStructs.cDataStructs.ExplicitBitVect object at 0x000001E630E28D50>, <rdkit.DataStructs.cDataStructs.ExplicitBitVect object at 0x000001E630E28DA0>, <rdkit.DataStructs.cDataStructs.ExplicitBitVect object at 0x000001E630E28DF0>, <rdkit.DataStructs.cDataStructs.ExplicitBitVect object at 0x000001E630E28E40>, <rdkit.DataStructs.cDataStructs.ExplicitBitVect object at 0x000001E630E28E90>, <rdkit.DataStructs.cDataStructs.ExplicitBitVect object at 0x000001E630E28EE0>, <rdkit.DataStructs.cDataStructs.ExplicitBitVect object at 0x000001E630E28F30>, <rdkit.DataStructs.cDataStructs.ExplicitBitVect object at 0x000001E630E28F80>, <rdkit.DataStructs.cDataStructs.ExplicitBitVect object at 0x000001E630E29030>, <rdkit.DataStructs.cDataStructs.ExplicitBitVect object at 0x000001E630E29080>, <rdkit.DataStructs.cDataStructs.ExplicitBitVect object at 0x000001E630E290D0>, <rdkit.DataStructs.cDataStructs.ExplicitBitVect object at 0x000001E630E29120>, <rdkit.DataStructs.cDataStructs.ExplicitBitVect object at 0x000001E630E29170>, <rdkit.DataStructs.cDataStructs.ExplicitBitVect object at 0x000001E630E291C0>, <rdkit.DataStructs.cDataStructs.ExplicitBitVect object at 0x000001E630E29210>, <rdkit.DataStructs.cDataStructs.ExplicitBitVect object at 0x000001E630E29260>, <rdkit.DataStructs.cDataStructs.ExplicitBitVect object at 0x000001E630E292B0>, <rdkit.DataStructs.cDataStructs.ExplicitBitVect object at 0x000001E630E29300>, <rdkit.DataStructs.cDataStructs.ExplicitBitVect object at 0x000001E630E29350>, <rdkit.DataStructs.cDataStructs.ExplicitBitVect object at 0x000001E630E293A0>, <rdkit.DataStructs.cDataStructs.ExplicitBitVect object at 0x000001E630E293F0>, <rdkit.DataStructs.cDataStructs.ExplicitBitVect object at 0x000001E630E29440>, <rdkit.DataStructs.cDataStructs.ExplicitBitVect object at 0x000001E630E29490>, <rdkit.DataStructs.cDataStructs.ExplicitBitVect object at 0x000001E630E294E0>, <rdkit.DataStructs.cDataStructs.ExplicitBitVect object at 0x000001E630E29530>, <rdkit.DataStructs.cDataStructs.ExplicitBitVect object at 0x000001E630E29580>, <rdkit.DataStructs.cDataStructs.ExplicitBitVect object at 0x000001E630E295D0>, <rdkit.DataStructs.cDataStructs.ExplicitBitVect object at 0x000001E630E29620>, <rdkit.DataStructs.cDataStructs.ExplicitBitVect object at 0x000001E630E29670>, <rdkit.DataStructs.cDataStructs.ExplicitBitVect object at 0x000001E630E296C0>, <rdkit.DataStructs.cDataStructs.ExplicitBitVect object at 0x000001E630E29710>, <rdkit.DataStructs.cDataStructs.ExplicitBitVect object at 0x000001E630E29760>, <rdkit.DataStructs.cDataStructs.ExplicitBitVect object at 0x000001E630E297B0>, <rdkit.DataStructs.cDataStructs.ExplicitBitVect object at 0x000001E630E29800>, <rdkit.DataStructs.cDataStructs.ExplicitBitVect object at 0x000001E630E29850>, <rdkit.DataStructs.cDataStructs.ExplicitBitVect object at 0x000001E630E298A0>, <rdkit.DataStructs.cDataStructs.ExplicitBitVect object at 0x000001E630E298F0>, <rdkit.DataStructs.cDataStructs.ExplicitBitVect object at 0x000001E630E29940>, <rdkit.DataStructs.cDataStructs.ExplicitBitVect object at 0x000001E630E29990>, <rdkit.DataStructs.cDataStructs.ExplicitBitVect object at 0x000001E630E299E0>, <rdkit.DataStructs.cDataStructs.ExplicitBitVect object at 0x000001E630E29A30>, <rdkit.DataStructs.cDataStructs.ExplicitBitVect object at 0x000001E630E29A80>, <rdkit.DataStructs.cDataStructs.ExplicitBitVect object at 0x000001E630E29AD0>, <rdkit.DataStructs.cDataStructs.ExplicitBitVect object at 0x000001E630E29B20>, <rdkit.DataStructs.cDataStructs.ExplicitBitVect object at 0x000001E630E29B70>, <rdkit.DataStructs.cDataStructs.ExplicitBitVect object at 0x000001E630E29BC0>, <rdkit.DataStructs.cDataStructs.ExplicitBitVect object at 0x000001E630E29C10>, <rdkit.DataStructs.cDataStructs.ExplicitBitVect object at 0x000001E630E29C60>, <rdkit.DataStructs.cDataStructs.ExplicitBitVect object at 0x000001E630E29CB0>, <rdkit.DataStructs.cDataStructs.ExplicitBitVect object at 0x000001E630E29D00>, <rdkit.DataStructs.cDataStructs.ExplicitBitVect object at 0x000001E630E29D50>, <rdkit.DataStructs.cDataStructs.ExplicitBitVect object at 0x000001E630E29DA0>, <rdkit.DataStructs.cDataStructs.ExplicitBitVect object at 0x000001E630E29DF0>, <rdkit.DataStructs.cDataStructs.ExplicitBitVect object at 0x000001E630E29E40>, <rdkit.DataStructs.cDataStructs.ExplicitBitVect object at 0x000001E630E29E90>, <rdkit.DataStructs.cDataStructs.ExplicitBitVect object at 0x000001E630E29EE0>, <rdkit.DataStructs.cDataStructs.ExplicitBitVect object at 0x000001E630E29F30>, <rdkit.DataStructs.cDataStructs.ExplicitBitVect object at 0x000001E630E29F80>, <rdkit.DataStructs.cDataStructs.ExplicitBitVect object at 0x000001E630E2A030>, <rdkit.DataStructs.cDataStructs.ExplicitBitVect object at 0x000001E630E2A080>, <rdkit.DataStructs.cDataStructs.ExplicitBitVect object at 0x000001E630E2A0D0>, <rdkit.DataStructs.cDataStructs.ExplicitBitVect object at 0x000001E630E2A120>, <rdkit.DataStructs.cDataStructs.ExplicitBitVect object at 0x000001E630E2A170>, <rdkit.DataStructs.cDataStructs.ExplicitBitVect object at 0x000001E630E2A1C0>, <rdkit.DataStructs.cDataStructs.ExplicitBitVect object at 0x000001E630E2A210>, <rdkit.DataStructs.cDataStructs.ExplicitBitVect object at 0x000001E630E2A260>, <rdkit.DataStructs.cDataStructs.ExplicitBitVect object at 0x000001E630E2A2B0>, <rdkit.DataStructs.cDataStructs.ExplicitBitVect object at 0x000001E630E2A300>, <rdkit.DataStructs.cDataStructs.ExplicitBitVect object at 0x000001E630E2A350>, <rdkit.DataStructs.cDataStructs.ExplicitBitVect object at 0x000001E630E2A3A0>, <rdkit.DataStructs.cDataStructs.ExplicitBitVect object at 0x000001E630E2A3F0>, <rdkit.DataStructs.cDataStructs.ExplicitBitVect object at 0x000001E630E2A440>, <rdkit.DataStructs.cDataStructs.ExplicitBitVect object at 0x000001E630E2A490>, <rdkit.DataStructs.cDataStructs.ExplicitBitVect object at 0x000001E630E2A4E0>, <rdkit.DataStructs.cDataStructs.ExplicitBitVect object at 0x000001E630E2A530>, <rdkit.DataStructs.cDataStructs.ExplicitBitVect object at 0x000001E630E2A580>, <rdkit.DataStructs.cDataStructs.ExplicitBitVect object at 0x000001E630E2A5D0>, <rdkit.DataStructs.cDataStructs.ExplicitBitVect object at 0x000001E630E2A620>, <rdkit.DataStructs.cDataStructs.ExplicitBitVect object at 0x000001E630E2A670>, <rdkit.DataStructs.cDataStructs.ExplicitBitVect object at 0x000001E630E2A6C0>, <rdkit.DataStructs.cDataStructs.ExplicitBitVect object at 0x000001E630E2A710>, <rdkit.DataStructs.cDataStructs.ExplicitBitVect object at 0x000001E630E2A760>, <rdkit.DataStructs.cDataStructs.ExplicitBitVect object at 0x000001E630E2A7B0>, <rdkit.DataStructs.cDataStructs.ExplicitBitVect object at 0x000001E630E2A800>, <rdkit.DataStructs.cDataStructs.ExplicitBitVect object at 0x000001E630E2A850>, <rdkit.DataStructs.cDataStructs.ExplicitBitVect object at 0x000001E630E2A8A0>, <rdkit.DataStructs.cDataStructs.ExplicitBitVect object at 0x000001E630E2A8F0>, <rdkit.DataStructs.cDataStructs.ExplicitBitVect object at 0x000001E630E2A940>, <rdkit.DataStructs.cDataStructs.ExplicitBitVect object at 0x000001E630E2A990>, <rdkit.DataStructs.cDataStructs.ExplicitBitVect object at 0x000001E630E2A9E0>, <rdkit.DataStructs.cDataStructs.ExplicitBitVect object at 0x000001E630E2AA30>, <rdkit.DataStructs.cDataStructs.ExplicitBitVect object at 0x000001E630E2AA80>, <rdkit.DataStructs.cDataStructs.ExplicitBitVect object at 0x000001E630E2AAD0>, <rdkit.DataStructs.cDataStructs.ExplicitBitVect object at 0x000001E630E2AB20>, <rdkit.DataStructs.cDataStructs.ExplicitBitVect object at 0x000001E630E2AB70>, <rdkit.DataStructs.cDataStructs.ExplicitBitVect object at 0x000001E630E2ABC0>, <rdkit.DataStructs.cDataStructs.ExplicitBitVect object at 0x000001E630E2AC10>, <rdkit.DataStructs.cDataStructs.ExplicitBitVect object at 0x000001E630E2AC60>, <rdkit.DataStructs.cDataStructs.ExplicitBitVect object at 0x000001E630E2ACB0>, <rdkit.DataStructs.cDataStructs.ExplicitBitVect object at 0x000001E630E2AD00>, <rdkit.DataStructs.cDataStructs.ExplicitBitVect object at 0x000001E630E2AD50>, <rdkit.DataStructs.cDataStructs.ExplicitBitVect object at 0x000001E630E2ADA0>, <rdkit.DataStructs.cDataStructs.ExplicitBitVect object at 0x000001E630E2ADF0>, <rdkit.DataStructs.cDataStructs.ExplicitBitVect object at 0x000001E630E2AE40>, <rdkit.DataStructs.cDataStructs.ExplicitBitVect object at 0x000001E630E2AE90>, <rdkit.DataStructs.cDataStructs.ExplicitBitVect object at 0x000001E630E2AEE0>, <rdkit.DataStructs.cDataStructs.ExplicitBitVect object at 0x000001E630E2AF30>, <rdkit.DataStructs.cDataStructs.ExplicitBitVect object at 0x000001E630E2AF80>, <rdkit.DataStructs.cDataStructs.ExplicitBitVect object at 0x000001E630E2B030>, <rdkit.DataStructs.cDataStructs.ExplicitBitVect object at 0x000001E630E2B080>, <rdkit.DataStructs.cDataStructs.ExplicitBitVect object at 0x000001E630E2B0D0>, <rdkit.DataStructs.cDataStructs.ExplicitBitVect object at 0x000001E630E2B120>, <rdkit.DataStructs.cDataStructs.ExplicitBitVect object at 0x000001E630E2B170>, <rdkit.DataStructs.cDataStructs.ExplicitBitVect object at 0x000001E630E2B1C0>, <rdkit.DataStructs.cDataStructs.ExplicitBitVect object at 0x000001E630E2B210>, <rdkit.DataStructs.cDataStructs.ExplicitBitVect object at 0x000001E630E2B260>, <rdkit.DataStructs.cDataStructs.ExplicitBitVect object at 0x000001E630E2B2B0>, <rdkit.DataStructs.cDataStructs.ExplicitBitVect object at 0x000001E630E2B300>, <rdkit.DataStructs.cDataStructs.ExplicitBitVect object at 0x000001E630E2B350>, <rdkit.DataStructs.cDataStructs.ExplicitBitVect object at 0x000001E630E2B3A0>, <rdkit.DataStructs.cDataStructs.ExplicitBitVect object at 0x000001E630E2B3F0>, <rdkit.DataStructs.cDataStructs.ExplicitBitVect object at 0x000001E630E2B440>, <rdkit.DataStructs.cDataStructs.ExplicitBitVect object at 0x000001E630E2B490>, <rdkit.DataStructs.cDataStructs.ExplicitBitVect object at 0x000001E630E2B4E0>, <rdkit.DataStructs.cDataStructs.ExplicitBitVect object at 0x000001E630E2B530>, <rdkit.DataStructs.cDataStructs.ExplicitBitVect object at 0x000001E630E2B580>, <rdkit.DataStructs.cDataStructs.ExplicitBitVect object at 0x000001E630E2B5D0>, <rdkit.DataStructs.cDataStructs.ExplicitBitVect object at 0x000001E630E2B620>, <rdkit.DataStructs.cDataStructs.ExplicitBitVect object at 0x000001E630E2B670>, <rdkit.DataStructs.cDataStructs.ExplicitBitVect object at 0x000001E630E2B6C0>, <rdkit.DataStructs.cDataStructs.ExplicitBitVect object at 0x000001E630E2B710>, <rdkit.DataStructs.cDataStructs.ExplicitBitVect object at 0x000001E630E2B760>, <rdkit.DataStructs.cDataStructs.ExplicitBitVect object at 0x000001E630E2B7B0>, <rdkit.DataStructs.cDataStructs.ExplicitBitVect object at 0x000001E630E2B800>, <rdkit.DataStructs.cDataStructs.ExplicitBitVect object at 0x000001E630E2B850>, <rdkit.DataStructs.cDataStructs.ExplicitBitVect object at 0x000001E630E2B8A0>, <rdkit.DataStructs.cDataStructs.ExplicitBitVect object at 0x000001E630E2B8F0>, <rdkit.DataStructs.cDataStructs.ExplicitBitVect object at 0x000001E630E2B940>, <rdkit.DataStructs.cDataStructs.ExplicitBitVect object at 0x000001E630E2B990>, <rdkit.DataStructs.cDataStructs.ExplicitBitVect object at 0x000001E630E2B9E0>, <rdkit.DataStructs.cDataStructs.ExplicitBitVect object at 0x000001E630E2BA30>, <rdkit.DataStructs.cDataStructs.ExplicitBitVect object at 0x000001E630E2BA80>, <rdkit.DataStructs.cDataStructs.ExplicitBitVect object at 0x000001E630E2BAD0>, <rdkit.DataStructs.cDataStructs.ExplicitBitVect object at 0x000001E630E2BB20>, <rdkit.DataStructs.cDataStructs.ExplicitBitVect object at 0x000001E630E2BB70>, <rdkit.DataStructs.cDataStructs.ExplicitBitVect object at 0x000001E630E2BBC0>, <rdkit.DataStructs.cDataStructs.ExplicitBitVect object at 0x000001E630E2BC10>, <rdkit.DataStructs.cDataStructs.ExplicitBitVect object at 0x000001E630E2BC60>, <rdkit.DataStructs.cDataStructs.ExplicitBitVect object at 0x000001E630E2BCB0>, <rdkit.DataStructs.cDataStructs.ExplicitBitVect object at 0x000001E630E2BD00>, <rdkit.DataStructs.cDataStructs.ExplicitBitVect object at 0x000001E630E2BD50>, <rdkit.DataStructs.cDataStructs.ExplicitBitVect object at 0x000001E630E2BDA0>, <rdkit.DataStructs.cDataStructs.ExplicitBitVect object at 0x000001E630E2BDF0>, <rdkit.DataStructs.cDataStructs.ExplicitBitVect object at 0x000001E630E2BE40>, <rdkit.DataStructs.cDataStructs.ExplicitBitVect object at 0x000001E630E2BE90>, <rdkit.DataStructs.cDataStructs.ExplicitBitVect object at 0x000001E630E2BEE0>, <rdkit.DataStructs.cDataStructs.ExplicitBitVect object at 0x000001E630E2BF30>, <rdkit.DataStructs.cDataStructs.ExplicitBitVect object at 0x000001E630E2BF80>, <rdkit.DataStructs.cDataStructs.ExplicitBitVect object at 0x000001E630E2C030>, <rdkit.DataStructs.cDataStructs.ExplicitBitVect object at 0x000001E630E2C080>, <rdkit.DataStructs.cDataStructs.ExplicitBitVect object at 0x000001E630E2C0D0>, <rdkit.DataStructs.cDataStructs.ExplicitBitVect object at 0x000001E630E2C120>, <rdkit.DataStructs.cDataStructs.ExplicitBitVect object at 0x000001E630E2C170>, <rdkit.DataStructs.cDataStructs.ExplicitBitVect object at 0x000001E630E2C1C0>, <rdkit.DataStructs.cDataStructs.ExplicitBitVect object at 0x000001E630E2C210>, <rdkit.DataStructs.cDataStructs.ExplicitBitVect object at 0x000001E630E2C260>, <rdkit.DataStructs.cDataStructs.ExplicitBitVect object at 0x000001E630E2C2B0>, <rdkit.DataStructs.cDataStructs.ExplicitBitVect object at 0x000001E630E2C300>, <rdkit.DataStructs.cDataStructs.ExplicitBitVect object at 0x000001E630E2C350>, <rdkit.DataStructs.cDataStructs.ExplicitBitVect object at 0x000001E630E2C3A0>, <rdkit.DataStructs.cDataStructs.ExplicitBitVect object at 0x000001E630E2C3F0>, <rdkit.DataStructs.cDataStructs.ExplicitBitVect object at 0x000001E630E2C440>, <rdkit.DataStructs.cDataStructs.ExplicitBitVect object at 0x000001E630E2C490>, <rdkit.DataStructs.cDataStructs.ExplicitBitVect object at 0x000001E630E2C4E0>, <rdkit.DataStructs.cDataStructs.ExplicitBitVect object at 0x000001E630E2C530>, <rdkit.DataStructs.cDataStructs.ExplicitBitVect object at 0x000001E630E2C580>, <rdkit.DataStructs.cDataStructs.ExplicitBitVect object at 0x000001E630E2C5D0>, <rdkit.DataStructs.cDataStructs.ExplicitBitVect object at 0x000001E630E2C620>, <rdkit.DataStructs.cDataStructs.ExplicitBitVect object at 0x000001E630E2C670>, <rdkit.DataStructs.cDataStructs.ExplicitBitVect object at 0x000001E630E2C6C0>, <rdkit.DataStructs.cDataStructs.ExplicitBitVect object at 0x000001E630E2C710>, <rdkit.DataStructs.cDataStructs.ExplicitBitVect object at 0x000001E630E2C760>, <rdkit.DataStructs.cDataStructs.ExplicitBitVect object at 0x000001E630E2C7B0>, <rdkit.DataStructs.cDataStructs.ExplicitBitVect object at 0x000001E630E2C800>, <rdkit.DataStructs.cDataStructs.ExplicitBitVect object at 0x000001E630E2C850>, <rdkit.DataStructs.cDataStructs.ExplicitBitVect object at 0x000001E630E2C8A0>, <rdkit.DataStructs.cDataStructs.ExplicitBitVect object at 0x000001E630E2C8F0>, <rdkit.DataStructs.cDataStructs.ExplicitBitVect object at 0x000001E630E2C940>, <rdkit.DataStructs.cDataStructs.ExplicitBitVect object at 0x000001E630E2C990>, <rdkit.DataStructs.cDataStructs.ExplicitBitVect object at 0x000001E630E2C9E0>, <rdkit.DataStructs.cDataStructs.ExplicitBitVect object at 0x000001E630E2CA30>, <rdkit.DataStructs.cDataStructs.ExplicitBitVect object at 0x000001E630E2CA80>, <rdkit.DataStructs.cDataStructs.ExplicitBitVect object at 0x000001E630E2CAD0>, <rdkit.DataStructs.cDataStructs.ExplicitBitVect object at 0x000001E630E2CB20>, <rdkit.DataStructs.cDataStructs.ExplicitBitVect object at 0x000001E630E2CB70>, <rdkit.DataStructs.cDataStructs.ExplicitBitVect object at 0x000001E630E2CBC0>, <rdkit.DataStructs.cDataStructs.ExplicitBitVect object at 0x000001E630E2CC10>, <rdkit.DataStructs.cDataStructs.ExplicitBitVect object at 0x000001E630E2CC60>, <rdkit.DataStructs.cDataStructs.ExplicitBitVect object at 0x000001E630E2CCB0>, <rdkit.DataStructs.cDataStructs.ExplicitBitVect object at 0x000001E630E2CD00>, <rdkit.DataStructs.cDataStructs.ExplicitBitVect object at 0x000001E630E2CD50>, <rdkit.DataStructs.cDataStructs.ExplicitBitVect object at 0x000001E630E2CDA0>, <rdkit.DataStructs.cDataStructs.ExplicitBitVect object at 0x000001E630E2CDF0>, <rdkit.DataStructs.cDataStructs.ExplicitBitVect object at 0x000001E630E2CE40>, <rdkit.DataStructs.cDataStructs.ExplicitBitVect object at 0x000001E630E2CE90>, <rdkit.DataStructs.cDataStructs.ExplicitBitVect object at 0x000001E630E2CEE0>, <rdkit.DataStructs.cDataStructs.ExplicitBitVect object at 0x000001E630E2CF30>, <rdkit.DataStructs.cDataStructs.ExplicitBitVect object at 0x000001E630E2CF80>, <rdkit.DataStructs.cDataStructs.ExplicitBitVect object at 0x000001E630E2D030>, <rdkit.DataStructs.cDataStructs.ExplicitBitVect object at 0x000001E630E2D080>, <rdkit.DataStructs.cDataStructs.ExplicitBitVect object at 0x000001E630E2D0D0>, <rdkit.DataStructs.cDataStructs.ExplicitBitVect object at 0x000001E630E2D120>, <rdkit.DataStructs.cDataStructs.ExplicitBitVect object at 0x000001E630E2D170>, <rdkit.DataStructs.cDataStructs.ExplicitBitVect object at 0x000001E630E2D1C0>, <rdkit.DataStructs.cDataStructs.ExplicitBitVect object at 0x000001E630E2D210>, <rdkit.DataStructs.cDataStructs.ExplicitBitVect object at 0x000001E630E2D260>, <rdkit.DataStructs.cDataStructs.ExplicitBitVect object at 0x000001E630E2D2B0>, <rdkit.DataStructs.cDataStructs.ExplicitBitVect object at 0x000001E630E2D300>, <rdkit.DataStructs.cDataStructs.ExplicitBitVect object at 0x000001E630E2D350>, <rdkit.DataStructs.cDataStructs.ExplicitBitVect object at 0x000001E630E2D3A0>, <rdkit.DataStructs.cDataStructs.ExplicitBitVect object at 0x000001E630E2D3F0>, <rdkit.DataStructs.cDataStructs.ExplicitBitVect object at 0x000001E630E2D440>, <rdkit.DataStructs.cDataStructs.ExplicitBitVect object at 0x000001E630E2D490>, <rdkit.DataStructs.cDataStructs.ExplicitBitVect object at 0x000001E630E2D4E0>, <rdkit.DataStructs.cDataStructs.ExplicitBitVect object at 0x000001E630E2D530>, <rdkit.DataStructs.cDataStructs.ExplicitBitVect object at 0x000001E630E2D580>]\n"
        }
      ]
    },
    {
      "cell_type": "markdown",
      "metadata": {
        "colab_type": "text",
        "id": "zzqnv1Ri-UO6"
      },
      "source": [
        "## To DataFrame"
      ]
    },
    {
      "cell_type": "code",
      "metadata": {
        "colab_type": "code",
        "id": "zsyu8ksX-UqX",
        "colab": {}
      },
      "source": [
        "#df_mol = pd.DataFrame.from_dict(mol_act_dict, orient='index')\n",
        "#df_mol.columns = [\"IC50\",\"Molecule Activity\", \"Probability Activity\"]\n",
        "#df_mol.sort_values(by=[\"IC50\"], ascending=False)\n",
        "#mol_name = pd.Series(mol_name)\n",
        "#mol_act = pd.Series(mol_act)\n",
        "#df_mol = pd.concat(mol_name,mol_act)\n",
        "#print(len(mol_name))\n",
        "#print(len(mol_smiles))\n",
        "#print(len(mol_fp))\n",
        "#print(len(mol_act))\n",
        "#print(len(mol_prob))\n",
        "\n",
        "df = pd.DataFrame({'mol_name':mol_name,\n",
        "                       'mol_smiles' : mol_smiles,\n",
        "                       'mol_act':mol_act,\n",
        "                       'mol_fp' : mol_fp,\n",
        "                       'mol_prob' : mol_prob,\n",
        "                       'mol_cost' : mol_cost\n",
        "                       })\n",
        "\n",
        "df.head()"
      ],
      "execution_count": 13,
      "outputs": [
        {
          "output_type": "execute_result",
          "data": {
            "text/plain": "        mol_name                                         mol_smiles  mol_act  \\\n0  CHEMBL2263120  CC1(C)CC[C@]2(C(=O)OCCCCCCCCCCC(=O)O)CC[C@]3(C...   0.7200   \n1  CHEMBL2263121  CC1(C)CC[C@]2(C(=O)NC(Cc3ccccc3)C(=O)O)CC[C@]3...   3.3100   \n2      CHEMBL168  CC1(C)CC[C@]2(C(=O)O)CC[C@]3(C)C(=CC[C@@H]4[C@...   5.0501   \n3   CHEMBL508831  CC1(C)CC[C@]2(C(=O)O)CC[C@]3(C)C(=CC[C@@H]4[C@...   0.5400   \n4   CHEMBL506556  CC1(C)CC[C@]2(C(=O)O)CC[C@]3(C)C(=CC[C@@H]4[C@...   0.6200   \n\n                                              mol_fp  mol_prob  mol_cost  \n0  [0, 0, 1, 0, 0, 0, 1, 0, 1, 1, 0, 0, 0, 0, 0, ...  0.000790   394.900  \n1  [0, 0, 0, 0, 0, 0, 1, 1, 1, 0, 1, 0, 0, 0, 0, ...  0.000059    29.625  \n2  [0, 0, 0, 0, 0, 0, 1, 0, 1, 1, 0, 0, 0, 0, 0, ...  0.000010     5.200  \n3  [0, 0, 0, 0, 0, 0, 1, 0, 1, 1, 0, 0, 0, 0, 0, ...  0.000946   472.780  \n4  [0, 0, 0, 0, 0, 0, 1, 0, 1, 1, 0, 0, 0, 0, 1, ...  0.000873   436.430  ",
            "text/html": "<div>\n<style scoped>\n    .dataframe tbody tr th:only-of-type {\n        vertical-align: middle;\n    }\n\n    .dataframe tbody tr th {\n        vertical-align: top;\n    }\n\n    .dataframe thead th {\n        text-align: right;\n    }\n</style>\n<table border=\"1\" class=\"dataframe\">\n  <thead>\n    <tr style=\"text-align: right;\">\n      <th></th>\n      <th>mol_name</th>\n      <th>mol_smiles</th>\n      <th>mol_act</th>\n      <th>mol_fp</th>\n      <th>mol_prob</th>\n      <th>mol_cost</th>\n    </tr>\n  </thead>\n  <tbody>\n    <tr>\n      <th>0</th>\n      <td>CHEMBL2263120</td>\n      <td>CC1(C)CC[C@]2(C(=O)OCCCCCCCCCCC(=O)O)CC[C@]3(C...</td>\n      <td>0.7200</td>\n      <td>[0, 0, 1, 0, 0, 0, 1, 0, 1, 1, 0, 0, 0, 0, 0, ...</td>\n      <td>0.000790</td>\n      <td>394.900</td>\n    </tr>\n    <tr>\n      <th>1</th>\n      <td>CHEMBL2263121</td>\n      <td>CC1(C)CC[C@]2(C(=O)NC(Cc3ccccc3)C(=O)O)CC[C@]3...</td>\n      <td>3.3100</td>\n      <td>[0, 0, 0, 0, 0, 0, 1, 1, 1, 0, 1, 0, 0, 0, 0, ...</td>\n      <td>0.000059</td>\n      <td>29.625</td>\n    </tr>\n    <tr>\n      <th>2</th>\n      <td>CHEMBL168</td>\n      <td>CC1(C)CC[C@]2(C(=O)O)CC[C@]3(C)C(=CC[C@@H]4[C@...</td>\n      <td>5.0501</td>\n      <td>[0, 0, 0, 0, 0, 0, 1, 0, 1, 1, 0, 0, 0, 0, 0, ...</td>\n      <td>0.000010</td>\n      <td>5.200</td>\n    </tr>\n    <tr>\n      <th>3</th>\n      <td>CHEMBL508831</td>\n      <td>CC1(C)CC[C@]2(C(=O)O)CC[C@]3(C)C(=CC[C@@H]4[C@...</td>\n      <td>0.5400</td>\n      <td>[0, 0, 0, 0, 0, 0, 1, 0, 1, 1, 0, 0, 0, 0, 0, ...</td>\n      <td>0.000946</td>\n      <td>472.780</td>\n    </tr>\n    <tr>\n      <th>4</th>\n      <td>CHEMBL506556</td>\n      <td>CC1(C)CC[C@]2(C(=O)O)CC[C@]3(C)C(=CC[C@@H]4[C@...</td>\n      <td>0.6200</td>\n      <td>[0, 0, 0, 0, 0, 0, 1, 0, 1, 1, 0, 0, 0, 0, 1, ...</td>\n      <td>0.000873</td>\n      <td>436.430</td>\n    </tr>\n  </tbody>\n</table>\n</div>"
          },
          "metadata": {},
          "execution_count": 13
        }
      ]
    },
    {
      "cell_type": "code",
      "metadata": {
        "id": "vRWCXOctv37L",
        "colab_type": "code",
        "colab": {}
      },
      "source": [
        "df_mol = df.iloc[:,[0,2,3,5]]\n",
        "df_mol"
      ],
      "execution_count": 14,
      "outputs": [
        {
          "output_type": "execute_result",
          "data": {
            "text/plain": "           mol_name  mol_act  \\\n0     CHEMBL2263120   0.7200   \n1     CHEMBL2263121   3.3100   \n2         CHEMBL168   5.0501   \n3      CHEMBL508831   0.5400   \n4      CHEMBL506556   0.6200   \n...             ...      ...   \n1847  CHEMBL1782241   5.2000   \n1848   CHEMBL323197   5.5000   \n1849  CHEMBL4071698   0.7200   \n1850  CHEMBL3770020   1.5800   \n1851  CHEMBL4278170   0.7000   \n\n                                                 mol_fp  mol_cost  \n0     [0, 0, 1, 0, 0, 0, 1, 0, 1, 1, 0, 0, 0, 0, 0, ...   394.900  \n1     [0, 0, 0, 0, 0, 0, 1, 1, 1, 0, 1, 0, 0, 0, 0, ...    29.625  \n2     [0, 0, 0, 0, 0, 0, 1, 0, 1, 1, 0, 0, 0, 0, 0, ...     5.200  \n3     [0, 0, 0, 0, 0, 0, 1, 0, 1, 1, 0, 0, 0, 0, 0, ...   472.780  \n4     [0, 0, 0, 0, 0, 0, 1, 0, 1, 1, 0, 0, 0, 0, 1, ...   436.430  \n...                                                 ...       ...  \n1847  [0, 1, 0, 0, 0, 0, 1, 1, 1, 0, 0, 0, 0, 1, 0, ...     4.475  \n1848  [1, 1, 0, 0, 0, 1, 1, 1, 1, 0, 0, 0, 1, 1, 0, ...     3.315  \n1849  [1, 0, 0, 0, 0, 1, 1, 0, 0, 0, 1, 0, 0, 0, 0, ...   394.900  \n1850  [1, 0, 0, 0, 0, 1, 1, 0, 0, 0, 1, 0, 0, 0, 0, ...   167.105  \n1851  [0, 0, 0, 0, 0, 1, 0, 0, 0, 0, 1, 0, 0, 1, 0, ...   402.875  \n\n[1852 rows x 4 columns]",
            "text/html": "<div>\n<style scoped>\n    .dataframe tbody tr th:only-of-type {\n        vertical-align: middle;\n    }\n\n    .dataframe tbody tr th {\n        vertical-align: top;\n    }\n\n    .dataframe thead th {\n        text-align: right;\n    }\n</style>\n<table border=\"1\" class=\"dataframe\">\n  <thead>\n    <tr style=\"text-align: right;\">\n      <th></th>\n      <th>mol_name</th>\n      <th>mol_act</th>\n      <th>mol_fp</th>\n      <th>mol_cost</th>\n    </tr>\n  </thead>\n  <tbody>\n    <tr>\n      <th>0</th>\n      <td>CHEMBL2263120</td>\n      <td>0.7200</td>\n      <td>[0, 0, 1, 0, 0, 0, 1, 0, 1, 1, 0, 0, 0, 0, 0, ...</td>\n      <td>394.900</td>\n    </tr>\n    <tr>\n      <th>1</th>\n      <td>CHEMBL2263121</td>\n      <td>3.3100</td>\n      <td>[0, 0, 0, 0, 0, 0, 1, 1, 1, 0, 1, 0, 0, 0, 0, ...</td>\n      <td>29.625</td>\n    </tr>\n    <tr>\n      <th>2</th>\n      <td>CHEMBL168</td>\n      <td>5.0501</td>\n      <td>[0, 0, 0, 0, 0, 0, 1, 0, 1, 1, 0, 0, 0, 0, 0, ...</td>\n      <td>5.200</td>\n    </tr>\n    <tr>\n      <th>3</th>\n      <td>CHEMBL508831</td>\n      <td>0.5400</td>\n      <td>[0, 0, 0, 0, 0, 0, 1, 0, 1, 1, 0, 0, 0, 0, 0, ...</td>\n      <td>472.780</td>\n    </tr>\n    <tr>\n      <th>4</th>\n      <td>CHEMBL506556</td>\n      <td>0.6200</td>\n      <td>[0, 0, 0, 0, 0, 0, 1, 0, 1, 1, 0, 0, 0, 0, 1, ...</td>\n      <td>436.430</td>\n    </tr>\n    <tr>\n      <th>...</th>\n      <td>...</td>\n      <td>...</td>\n      <td>...</td>\n      <td>...</td>\n    </tr>\n    <tr>\n      <th>1847</th>\n      <td>CHEMBL1782241</td>\n      <td>5.2000</td>\n      <td>[0, 1, 0, 0, 0, 0, 1, 1, 1, 0, 0, 0, 0, 1, 0, ...</td>\n      <td>4.475</td>\n    </tr>\n    <tr>\n      <th>1848</th>\n      <td>CHEMBL323197</td>\n      <td>5.5000</td>\n      <td>[1, 1, 0, 0, 0, 1, 1, 1, 1, 0, 0, 0, 1, 1, 0, ...</td>\n      <td>3.315</td>\n    </tr>\n    <tr>\n      <th>1849</th>\n      <td>CHEMBL4071698</td>\n      <td>0.7200</td>\n      <td>[1, 0, 0, 0, 0, 1, 1, 0, 0, 0, 1, 0, 0, 0, 0, ...</td>\n      <td>394.900</td>\n    </tr>\n    <tr>\n      <th>1850</th>\n      <td>CHEMBL3770020</td>\n      <td>1.5800</td>\n      <td>[1, 0, 0, 0, 0, 1, 1, 0, 0, 0, 1, 0, 0, 0, 0, ...</td>\n      <td>167.105</td>\n    </tr>\n    <tr>\n      <th>1851</th>\n      <td>CHEMBL4278170</td>\n      <td>0.7000</td>\n      <td>[0, 0, 0, 0, 0, 1, 0, 0, 0, 0, 1, 0, 0, 1, 0, ...</td>\n      <td>402.875</td>\n    </tr>\n  </tbody>\n</table>\n<p>1852 rows × 4 columns</p>\n</div>"
          },
          "metadata": {},
          "execution_count": 14
        }
      ]
    },
    {
      "cell_type": "markdown",
      "metadata": {
        "id": "9_1rELu8v37S",
        "colab_type": "text"
      },
      "source": [
        "## Individu\n",
        "suatu fungsi yang bertujuan untuk me-return dari suatu populasi (kumpulan individu berdasarkan subset yang diberikan). \n",
        "\n",
        "return :\n",
        "* mol_name\n",
        "* rata-rata dari act\n",
        "* rata-rata dari mol_fp\n",
        "\n",
        "cara menyari diversity :\n",
        "\n",
        "dengan menghitung semua similarity antar molekul kemudian hasilnya di rata2kan\n",
        "\n",
        "sebagai contoh :\n",
        "\n",
        "ada 3 (subset) molekul (A,B,C), maka menghitungnya\n",
        "\n",
        "* A -> B\n",
        "* A -> C\n",
        "* B -> C\n",
        "\n",
        "kemudian dirata2kan"
      ]
    },
    {
      "cell_type": "code",
      "metadata": {
        "colab_type": "code",
        "id": "GYPOqUS0drKW",
        "colab": {}
      },
      "source": [
        "n_subset = 5\n",
        "\n",
        "def individu(subset):\n",
        "    #subset = np.array(subset.values.tolist())\n",
        "    mol_name = subset.iloc[:,0].values\n",
        "    mol_act = subset.iloc[:,1].values\n",
        "    mol_fp = subset.iloc[:,2].values\n",
        "    #print(mol_name)\n",
        "    #print(mol_act)\n",
        "    #print(mol_fp[1])\n",
        "\n",
        "    \n",
        "    fp_list = []\n",
        "    n = len(subset)\n",
        "    \n",
        "    for i in range(n):\n",
        "        for j in range(n):\n",
        "            if i > j :\n",
        "                tmp_fp = DataStructs.FingerprintSimilarity(mol_fp[i],mol_fp[j])\n",
        "                fp_list.append(tmp_fp)\n",
        "                \n",
        "    avg_act = np.mean(mol_act)\n",
        "    avg_div = np.mean(fp_list)\n",
        "    \n",
        "    if [mol_name,avg_act,avg_div] is not None :\n",
        "        return [mol_name,avg_act,avg_div]\n",
        "    else :\n",
        "        return []\n",
        "\n"
      ],
      "execution_count": 15,
      "outputs": []
    },
    {
      "cell_type": "markdown",
      "metadata": {
        "id": "LVr2yDUTxkrn",
        "colab_type": "text"
      },
      "source": [
        "### cek budget\n",
        "\n",
        "mengecek apakah molekul yang terpilih (yang ada di subset) tidak melebihi budget yang diberikan"
      ]
    },
    {
      "cell_type": "code",
      "metadata": {
        "id": "mIo9EgPmv37b",
        "colab_type": "code",
        "colab": {}
      },
      "source": [
        "def is_budget_enough(subset,budget):\n",
        "    subset =  subset.iloc[:,3].values\n",
        "    sum_of_subset = np.sum(subset)\n",
        "    if sum_of_subset <= budget :\n",
        "        check = True\n",
        "    else :\n",
        "        check = False\n",
        "    return [check,sum_of_subset]"
      ],
      "execution_count": 16,
      "outputs": []
    },
    {
      "cell_type": "markdown",
      "metadata": {
        "id": "P7Roz7DLv37k",
        "colab_type": "text"
      },
      "source": [
        "### NSGA-II"
      ]
    },
    {
      "cell_type": "markdown",
      "metadata": {
        "id": "pY0p4TMPxwTW",
        "colab_type": "text"
      },
      "source": [
        "#### Initialization Individu\n",
        "\n",
        "Menginisialisasi individu yang akan digunakan berdasarkan subset yang ada"
      ]
    },
    {
      "cell_type": "code",
      "metadata": {
        "id": "jcsRuWEXv37l",
        "colab_type": "code",
        "colab": {}
      },
      "source": [
        "# Initialization of Individu\n",
        "budget = 5000\n",
        "n_subset = 20\n",
        "\n",
        "def initialization_individu(df_mol,budget,n_subset) :\n",
        "    i = 0\n",
        "    iteration = 100\n",
        "    calon_individu = df_mol.sample(n_subset)\n",
        "\n",
        "    while(not is_budget_enough(calon_individu,budget)[0]) and i < iteration :\n",
        "        calon_individu = df_mol.sample(n_subset)\n",
        "        i+=1\n",
        "    if is_budget_enough(calon_individu,budget)[0]:\n",
        "        return individu(calon_individu)\n",
        "    else :\n",
        "        return []\n",
        "\n",
        "        \n",
        "        "
      ],
      "execution_count": 17,
      "outputs": []
    },
    {
      "cell_type": "code",
      "metadata": {
        "id": "titcO-Mlv37p",
        "colab_type": "code",
        "colab": {}
      },
      "source": [
        "if initialization_individu(df_mol,budget,n_subset) != [] :\n",
        "    print(initialization_individu(df_mol,budget,n_subset))\n",
        "else :\n",
        "    print(\"can't continue\")"
      ],
      "execution_count": 18,
      "outputs": [
        {
          "output_type": "stream",
          "name": "stdout",
          "text": "[array(['CHEMBL1783775(1)', 'CHEMBL504397(2)', 'CHEMBL4078186',\n       'CHEMBL3098853', 'CHEMBL276376', 'CHEMBL3427131', 'CHEMBL516014',\n       'CHEMBL2424661(1)', 'CHEMBL3350943', 'CHEMBL1938823',\n       'CHEMBL1164945', 'CHEMBL278096', 'CHEMBL1783789', 'CHEMBL267759',\n       'CHEMBL556913', 'CHEMBL2063152', 'CHEMBL1778901', 'CHEMBL1162226',\n       'CHEMBL3350944', 'CHEMBL380467'], dtype=object), 2.422885, 0.29527774178774113]\n"
        }
      ]
    },
    {
      "cell_type": "code",
      "execution_count": 19,
      "metadata": {},
      "outputs": [
        {
          "output_type": "stream",
          "name": "stdout",
          "text": "['CHEMBL193233(1)' 'CHEMBL301567' 'CHEMBL510225(1)' 'CHEMBL9363'\n 'CHEMBL4069413' 'CHEMBL193134(1)' 'CHEMBL1778901' 'CHEMBL403577'\n 'CHEMBL3088258' 'CHEMBL2263119(1)' 'CHEMBL556914' 'CHEMBL1935491'\n 'CHEMBL4064802' 'CHEMBL3402414' 'CHEMBL169(25)' 'CHEMBL426373(5)'\n 'CHEMBL204337' 'CHEMBL57391' 'CHEMBL314412' 'CHEMBL1935609']\n"
        }
      ],
      "source": [
        "ind = initialization_individu(df_mol,budget,n_subset)\n",
        "print(ind[0])"
      ]
    },
    {
      "cell_type": "code",
      "execution_count": 20,
      "metadata": {
        "tags": [
          "outputPrepend"
        ]
      },
      "outputs": [
        {
          "output_type": "stream",
          "name": "stdout",
          "text": "nama molekul sama = 0 jumlah molekul yang sama = 0\n"
        }
      ],
      "source": [
        "coba = df_mol.iloc[:,:]\n",
        "ls = []\n",
        "dict_cek ={}\n",
        "for i in coba.values:\n",
        "    if i[0] in dict_cek.keys():\n",
        "        dict_cek[i[0]] +=1\n",
        "    else :\n",
        "        dict_cek[i[0]] =1\n",
        "    #print(i[0])\n",
        "    ls.append(i.tolist())\n",
        "#pd.DataFrame(ls)\n",
        "sum = 0\n",
        "sum_ = 0\n",
        "for x in dict_cek:\n",
        "    if dict_cek[x] > 1 :\n",
        "        sum += 1\n",
        "        sum_ += dict_cek[x]\n",
        "print(\"nama molekul sama =\",sum,\"jumlah molekul yang sama =\",sum_)\n",
        "#print(dict_cek)"
      ]
    },
    {
      "cell_type": "code",
      "execution_count": null,
      "metadata": {},
      "outputs": [],
      "source": []
    },
    {
      "cell_type": "markdown",
      "metadata": {},
      "source": [
        "### Mutation"
      ]
    },
    {
      "cell_type": "code",
      "execution_count": 21,
      "metadata": {},
      "outputs": [
        {
          "output_type": "stream",
          "name": "stdout",
          "text": "20\n[array(['CHEMBL193233(1)', 'CHEMBL301567', 'CHEMBL510225(1)', 'CHEMBL9363',\n       'CHEMBL4069413', 'CHEMBL193134(1)', 'CHEMBL1778901',\n       'CHEMBL403577', 'CHEMBL3088258', 'CHEMBL2263119(1)',\n       'CHEMBL556914', 'CHEMBL1935491', 'CHEMBL4064802', 'CHEMBL3402414',\n       'CHEMBL169(25)', 'CHEMBL426373(5)', 'CHEMBL204337', 'CHEMBL57391',\n       'CHEMBL314412', 'CHEMBL1935609'], dtype=object), 3.0331889999999997, 0.3046866397682243]\n20\n"
        }
      ],
      "source": [
        "def mutation(indvd,df_mol) :\n",
        "    #print(type(individu))\n",
        "    #individu =df_ind.tolist()\n",
        "    # 1. deleting a single randomly choosen molecule\n",
        "    inDltd = rd.choice(indvd[0])\n",
        "    # 2. Adding a randomly choosen new molecule\n",
        "    molecule = df_mol[\"mol_name\"].tolist()\n",
        "    inAdd = rd.choice(molecule)\n",
        "\n",
        "    # 3. replacing a molecule inside the portfolio by a molecule outside portfolio\n",
        "    inNew = indvd[0].tolist()\n",
        "    inNew.remove(inDltd)\n",
        "    inNew.append(inAdd)\n",
        "    column = df_mol.columns\n",
        "    inNewLst = []\n",
        "    for data in df_mol.values:\n",
        "        if data[0] in inNew :\n",
        "            inNewLst.append(data)\n",
        "    print(len(inNewLst))\n",
        "    df_new = pd.DataFrame(inNewLst)\n",
        "    df_new.columns = column\n",
        "    #print(type(df_new))\n",
        "    \n",
        "    max_iter = 1000\n",
        "    iter = 0\n",
        "    while(iter < max_iter) :\n",
        "        if is_budget_enough(df_new,budget)[0] :\n",
        "            return individu(df_new)\n",
        "            break\n",
        "        iter += 1\n",
        "        \n",
        "    else :\n",
        "        print(iter)\n",
        "        return []\n",
        "\n",
        "print(len(ind[0]))\n",
        "print(ind)\n",
        "ind2 = (mutation(ind,df_mol))\n",
        "#print(is_budget_enough(mutation(ind[0],df_mol),budget))\n"
      ]
    },
    {
      "cell_type": "markdown",
      "metadata": {},
      "source": [
        "### Non Dominated Sorted\n"
      ]
    },
    {
      "cell_type": "code",
      "execution_count": 22,
      "metadata": {},
      "outputs": [],
      "source": [
        "def fast_non_dominated_sort(values1, values2):\n",
        "    S=[[] for i in range(0,len(values1))]\n",
        "    front = [[]]\n",
        "    n=[0 for i in range(0,len(values1))]\n",
        "    rank = [0 for i in range(0, len(values1))]\n",
        "\n",
        "    for p in range(0,len(values1)):\n",
        "        S[p]=[]\n",
        "        n[p]=0\n",
        "        for q in range(0, len(values1)):\n",
        "            if (values1[p] > values1[q] and values2[p] > values2[q]) or (values1[p] >= values1[q] and values2[p] > values2[q]) or (values1[p] > values1[q] and values2[p] >= values2[q]):\n",
        "                if q not in S[p]:\n",
        "                    S[p].append(q)\n",
        "            elif (values1[q] > values1[p] and values2[q] > values2[p]) or (values1[q] >= values1[p] and values2[q] > values2[p]) or (values1[q] > values1[p] and values2[q] >= values2[p]):\n",
        "                n[p] = n[p] + 1\n",
        "        if n[p]==0:\n",
        "            rank[p] = 0\n",
        "            if p not in front[0]:\n",
        "                front[0].append(p)\n",
        "\n",
        "    i = 0\n",
        "    while(front[i] != []):\n",
        "        Q=[]\n",
        "        for p in front[i]:\n",
        "            for q in S[p]:\n",
        "                n[q] =n[q] - 1\n",
        "                if( n[q]==0):\n",
        "                    rank[q]=i+1\n",
        "                    if q not in Q:\n",
        "                        Q.append(q)\n",
        "        i = i+1\n",
        "        front.append(Q)\n",
        "\n",
        "    del front[len(front)-1]\n",
        "    return front\n",
        "\n"
      ]
    },
    {
      "cell_type": "code",
      "execution_count": 38,
      "metadata": {},
      "outputs": [],
      "source": [
        "nPortfolio = 5\n",
        "nSubset = 5\n",
        "fMaxObj1 = []\n",
        "fMaxObj2 = []\n",
        "solution = []\n",
        "for i in range(nPortfolio) :\n",
        "    portfolio = initialization_individu(df_mol,budget,nSubset)\n",
        "    solution.append(portfolio[0])\n",
        "    fMaxObj1.append(portfolio[1]) # Probabilitas Kesuksesan\n",
        "    fMaxObj2.append(portfolio[2]) # Diversity   \n",
        "    "
      ]
    },
    {
      "cell_type": "code",
      "execution_count": 39,
      "metadata": {},
      "outputs": [
        {
          "output_type": "execute_result",
          "data": {
            "text/plain": "[[1, 2, 4], [0], [3]]"
          },
          "metadata": {},
          "execution_count": 39
        }
      ],
      "source": [
        "fast_non_dominated_sort(fMaxObj1,fMaxObj2)"
      ]
    },
    {
      "cell_type": "code",
      "execution_count": 49,
      "metadata": {},
      "outputs": [],
      "source": [
        "import math\n",
        "def sort_by_values(list1, values):\n",
        "    sorted_list = []\n",
        "    while(len(sorted_list)!=len(list1)):\n",
        "        if index_of(min(values),values) in list1:\n",
        "            sorted_list.append(index_of(min(values),values))\n",
        "        values[index_of(min(values),values)] = math.inf\n",
        "    return sorted_list\n"
      ]
    },
    {
      "cell_type": "code",
      "execution_count": 50,
      "metadata": {},
      "outputs": [],
      "source": [
        "def crowding_distance(values1, values2, front):\n",
        "    distance = [0 for i in range(0,len(front))]\n",
        "    sorted1 = sort_by_values(front, values1[:])\n",
        "    sorted2 = sort_by_values(front, values2[:])\n",
        "    distance[0] = 4444444444444444\n",
        "    distance[len(front) - 1] = 4444444444444444\n",
        "    for k in range(1,len(front)-1):\n",
        "        distance[k] = distance[k]+ (values1[sorted1[k+1]] - values2[sorted1[k-1]])/(max(values1)-min(values1))\n",
        "    for k in range(1,len(front)-1):\n",
        "        distance[k] = distance[k]+ (values1[sorted2[k+1]] - values2[sorted2[k-1]])/(max(values2)-min(values2))\n",
        "    return distance"
      ]
    },
    {
      "cell_type": "code",
      "execution_count": 51,
      "metadata": {},
      "outputs": [],
      "source": [
        "def index_of(a,list):\n",
        "    for i in range(0,len(list)):\n",
        "        if list[i] == a:\n",
        "            return i\n",
        "    return -1"
      ]
    },
    {
      "cell_type": "code",
      "execution_count": 52,
      "metadata": {},
      "outputs": [
        {
          "output_type": "stream",
          "name": "stdout",
          "text": "f1v [2.586, 2.49, 4.5236979999999996, 2.332, 5.4494]\nf2v [0.27188426587744285, 0.3357729240807005, 0.32279801866942537, 0.2342112858898162, 0.3116429361028151]\nnon-dominated [[1, 2, 4], [0], [3]]\nThe best front for Generation number  0  is\nvaluez 1 ['CHEMBL370140' 'CHEMBL3234648' 'CHEMBL2262836(1)' 'CHEMBL3394773'\n 'CHEMBL599257'] valuez 2 ['CHEMBL443007' 'CHEMBL3310443' 'CHEMBL1801404' 'CHEMBL284363(1)'\n 'CHEMBL211990'] valuez 4 ['CHEMBL464651' 'CHEMBL168(10)' 'CHEMBL168(20)' 'CHEMBL1242363'\n 'CHEMBL3219584'] \n\n"
        },
        {
          "output_type": "error",
          "ename": "NameError",
          "evalue": "name 'random' is not defined",
          "traceback": [
            "\u001b[1;31m---------------------------------------------------------------------------\u001b[0m",
            "\u001b[1;31mNameError\u001b[0m                                 Traceback (most recent call last)",
            "\u001b[1;32m<ipython-input-52-b0695e2061ab>\u001b[0m in \u001b[0;36m<module>\u001b[1;34m\u001b[0m\n\u001b[0;32m     38\u001b[0m     \u001b[1;31m#Generating offsprings\u001b[0m\u001b[1;33m\u001b[0m\u001b[1;33m\u001b[0m\u001b[1;33m\u001b[0m\u001b[0m\n\u001b[0;32m     39\u001b[0m     \u001b[1;32mwhile\u001b[0m\u001b[1;33m(\u001b[0m\u001b[0mlen\u001b[0m\u001b[1;33m(\u001b[0m\u001b[0msolution2\u001b[0m\u001b[1;33m)\u001b[0m\u001b[1;33m!=\u001b[0m\u001b[1;36m2\u001b[0m\u001b[1;33m*\u001b[0m\u001b[0mpop_size\u001b[0m\u001b[1;33m)\u001b[0m\u001b[1;33m:\u001b[0m\u001b[1;33m\u001b[0m\u001b[1;33m\u001b[0m\u001b[0m\n\u001b[1;32m---> 40\u001b[1;33m         \u001b[0ma1\u001b[0m \u001b[1;33m=\u001b[0m \u001b[0mrandom\u001b[0m\u001b[1;33m.\u001b[0m\u001b[0mrandint\u001b[0m\u001b[1;33m(\u001b[0m\u001b[1;36m0\u001b[0m\u001b[1;33m,\u001b[0m\u001b[0mpop_size\u001b[0m\u001b[1;33m-\u001b[0m\u001b[1;36m1\u001b[0m\u001b[1;33m)\u001b[0m\u001b[1;33m\u001b[0m\u001b[1;33m\u001b[0m\u001b[0m\n\u001b[0m\u001b[0;32m     41\u001b[0m         \u001b[0mb1\u001b[0m \u001b[1;33m=\u001b[0m \u001b[0mrandom\u001b[0m\u001b[1;33m.\u001b[0m\u001b[0mrandint\u001b[0m\u001b[1;33m(\u001b[0m\u001b[1;36m0\u001b[0m\u001b[1;33m,\u001b[0m\u001b[0mpop_size\u001b[0m\u001b[1;33m-\u001b[0m\u001b[1;36m1\u001b[0m\u001b[1;33m)\u001b[0m\u001b[1;33m\u001b[0m\u001b[1;33m\u001b[0m\u001b[0m\n\u001b[0;32m     42\u001b[0m         \u001b[0msolution2\u001b[0m\u001b[1;33m.\u001b[0m\u001b[0mappend\u001b[0m\u001b[1;33m(\u001b[0m\u001b[0mcrossover\u001b[0m\u001b[1;33m(\u001b[0m\u001b[0msolution\u001b[0m\u001b[1;33m[\u001b[0m\u001b[0ma1\u001b[0m\u001b[1;33m]\u001b[0m\u001b[1;33m,\u001b[0m\u001b[0msolution\u001b[0m\u001b[1;33m[\u001b[0m\u001b[0mb1\u001b[0m\u001b[1;33m]\u001b[0m\u001b[1;33m)\u001b[0m\u001b[1;33m)\u001b[0m\u001b[1;33m\u001b[0m\u001b[1;33m\u001b[0m\u001b[0m\n",
            "\u001b[1;31mNameError\u001b[0m: name 'random' is not defined"
          ]
        }
      ],
      "source": [
        "\n",
        "#Main program starts here\n",
        "pop_size = 7 # ini banyaknya individu dalam 1 populasi (subset kata pak isman mah)\n",
        "max_gen = 50\n",
        "\n",
        "#Initialization\n",
        "min_x=-55\n",
        "max_x=55\n",
        "\n",
        "# Ini kayanya buat bikin solusi individu (0 atau 1)\n",
        "#solution=[round(min_x+(max_x-min_x)*random.random(),3) for i in range(0,pop_size)] # Portofolio \n",
        "#print(\"sol\",solution) # --> [-51.492, -31.654, -47.084, -11.823, 41.043]\n",
        "\n",
        "gen_no=0\n",
        "\n",
        "\n",
        "while(gen_no<max_gen):\n",
        "    function1_values = fMaxObj1 # Kumpulan function 1 dari 1 portofolio\n",
        "    function2_values = fMaxObj2# Kumpulan function 2 dari 1 portofolio\n",
        "    print(\"f1v\",function1_values) # --> [-2651.4260639999998, -1001.975716, -2216.903056, -139.783329, -1684.5278489999998]\n",
        "    print(\"f2v\",function2_values) # -->  [-2861.3940639999996, -1132.5917159999997, -2409.2390560000003, -191.075329, -1524.355849]\n",
        "    \n",
        "    non_dominated_sorted_solution = fast_non_dominated_sort(function1_values[:],function2_values[:])\n",
        "    print(\"non-dominated\",non_dominated_sorted_solution)\n",
        "    print(\"The best front for Generation number \",gen_no, \" is\")\n",
        "    \n",
        "    for valuez in non_dominated_sorted_solution[0]:\n",
        "        print(\"valuez\",valuez,solution[valuez],end=\" \")\n",
        "    print(\"\\n\")\n",
        "    crowding_distance_values=[]\n",
        "    \n",
        "    \n",
        "    for i in range(0,len(non_dominated_sorted_solution)):\n",
        "        crowding_distance_values.append(crowding_distance(function1_values[:],function2_values[:],non_dominated_sorted_solution[i][:]))\n",
        "    solution2 = solution[:]\n",
        "    \n",
        "    \n",
        "    \n",
        "    #Generating offsprings\n",
        "\n",
        "    # sementara pake random dulu\n",
        "    \"\"\"\n",
        "    while(len(solution2)!=2*pop_size):\n",
        "        a1 = random.randint(0,pop_size-1)\n",
        "        b1 = random.randint(0,pop_size-1)\n",
        "        solution2.append(crossover(solution[a1],solution[b1]))\n",
        "        \n",
        "    \"\"\"    \n",
        "    \n",
        "        \n",
        "    function1_values2 = [function1(solution2[i])for i in range(0,2*pop_size)]\n",
        "    function2_values2 = [function2(solution2[i])for i in range(0,2*pop_size)]\n",
        "    non_dominated_sorted_solution2 = fast_non_dominated_sort(function1_values2[:],function2_values2[:])\n",
        "    print(\"non-dominated sorteed =\",non_dominated_sorted_solution2)\n",
        "    \"\"\"\n",
        "        Hasil dari non_domiated_sorted\n",
        "        \n",
        "        From :\n",
        "        [[0, 5], [1], [2], [3, 4], [6], [9], [7], [8]]\n",
        "\n",
        "        to :\n",
        "\n",
        "        [[0, 1, 2, 3, 4], [6], [9], [5], [7], [8]]\n",
        "    \n",
        "    \"\"\"\n",
        "    crowding_distance_values2=[]\n",
        "    \n",
        "    \n",
        "    \n",
        "    for i in range(0,len(non_dominated_sorted_solution2)):\n",
        "        crowding_distance_values2.append(crowding_distance(function1_values2[:],function2_values2[:],non_dominated_sorted_solution2[i][:]))\n",
        "    new_solution= []\n",
        "    \n",
        "    \n",
        "    for i in range(0,len(non_dominated_sorted_solution2)):\n",
        "        non_dominated_sorted_solution2_1 = [index_of(non_dominated_sorted_solution2[i][j],non_dominated_sorted_solution2[i] ) for j in range(0,len(non_dominated_sorted_solution2[i]))]\n",
        "        front22 = sort_by_values(non_dominated_sorted_solution2_1[:], crowding_distance_values2[i][:])\n",
        "        front = [non_dominated_sorted_solution2[i][front22[j]] for j in range(0,len(non_dominated_sorted_solution2[i]))]\n",
        "        front.reverse()\n",
        "        \n",
        "        \n",
        "        for value in front:\n",
        "            new_solution.append(value)\n",
        "            \n",
        "            if(len(new_solution)==pop_size):\n",
        "                break\n",
        "                \n",
        "        if (len(new_solution) == pop_size):\n",
        "            break\n",
        "            \n",
        "    # update solution\n",
        "    solution = [solution2[i] for i in new_solution]\n",
        "    gen_no = gen_no + 1"
      ]
    },
    {
      "cell_type": "code",
      "execution_count": 40,
      "metadata": {},
      "outputs": [],
      "source": [
        "def nonDominatedsorted(p,q) :\n",
        "    \n",
        "    budget = 5000\n",
        "    n_subset = 5\n",
        "\n",
        "    # Fungsi buat Dominance test\n",
        "\n",
        "    def isDominated(p,q): # success !!\n",
        "\n",
        "        fObj1 = {\"p\": p[1], \"q\" : q[1]}\n",
        "        fObj2 = {\"p\": p[2], \"q\" : q[2]}\n",
        "        if fObj1[\"p\"] > fObj1[\"q\"] or fObj2[\"p\"] > fObj2[\"q\"] :\n",
        "            return True\n",
        "        else :\n",
        "            return False\n",
        "    \"\"\"\n",
        "    if isDominated(p,q):\n",
        "        return [[p[1],q[1]],[p[2],q[2]]]\n",
        "    else :\n",
        "        return \"Not uye\"\n",
        "    \"\"\"\n",
        "\n",
        "    # Fungsi buat Inisialisasi individu (Masih Random)\n",
        "\n",
        "    def initialization_individu(df_mol,budget,n_subset) :\n",
        "        i = 0\n",
        "        iteration = 100\n",
        "        calon_individu = df_mol.sample(n_subset)\n",
        "\n",
        "        while(not is_budget_enough(calon_individu,budget)[0]) and i < iteration :\n",
        "            calon_individu = df_mol.sample(n_subset)\n",
        "            i+=1\n",
        "        if is_budget_enough(calon_individu,budget)[0]:\n",
        "            return individu(calon_individu)\n",
        "        else :\n",
        "            return []\n",
        "    \n",
        "    \"\"\" --- Start Non Dominated Sorted --- \"\"\"\n",
        "\n",
        "    Sp = []\n",
        "    np = 0\n",
        "    \n",
        "    # Inisialisasi q\n",
        "\n",
        "    q = initialization_individu(df_mol,budget,n_subset)\n",
        "\n",
        "nonDominatedsorted(ind,ind2) \n",
        "\n"
      ]
    },
    {
      "cell_type": "markdown",
      "metadata": {
        "id": "DvP9RFqKv37u",
        "colab_type": "text"
      },
      "source": [
        "### Try Pymoo"
      ]
    },
    {
      "cell_type": "code",
      "metadata": {
        "id": "RGyRGej4v37v",
        "colab_type": "code",
        "colab": {},
        "tags": [
          "outputPrepend",
          "outputPrepend",
          "outputPrepend",
          "outputPrepend",
          "outputPrepend",
          "outputPrepend",
          "outputPrepend",
          "outputPrepend",
          "outputPrepend",
          "outputPrepend",
          "outputPrepend",
          "outputPrepend",
          "outputPrepend",
          "outputPrepend",
          "outputPrepend",
          "outputPrepend",
          "outputPrepend",
          "outputPrepend",
          "outputPrepend",
          "outputPrepend",
          "outputPrepend",
          "outputPrepend",
          "outputPrepend",
          "outputPrepend",
          "outputPrepend",
          "outputPrepend",
          "outputPrepend",
          "outputPrepend",
          "outputPrepend",
          "outputPrepend",
          "outputPrepend",
          "outputPrepend",
          "outputPrepend",
          "outputPrepend",
          "outputPrepend"
        ]
      },
      "source": [
        "from pymoo.algorithms.nsga2 import NSGA2\n",
        "from pymoo.factory import get_problem, get_sampling, get_crossover, get_mutation\n",
        "from pymoo.optimize import minimize\n",
        "from pymoo.visualization.scatter import Scatter\n",
        "\n",
        "problem = get_problem(\"zdt5\")\n",
        "\n",
        "print(problem)\n",
        "\n",
        "algorithm = NSGA2(pop_size=100,\n",
        "                  sampling=get_sampling(\"bin_random\"),\n",
        "                  crossover=get_crossover(\"bin_two_point\"),\n",
        "                  mutation=get_mutation(\"bin_bitflip\"),\n",
        "                  eliminate_duplicates=True)\n",
        "\n",
        "res = minimize(problem,\n",
        "               algorithm,\n",
        "               ('n_gen', 500),\n",
        "               seed=1,\n",
        "               verbose=True)\n",
        "\n",
        "print(res)\n"
      ],
      "execution_count": 363,
      "outputs": [
        {
          "output_type": "stream",
          "name": "stdout",
          "text": "  | 17400   | 0.0346606260 | 0.0330232870 | 0.8544639539\n175   | 17500   | 0.0346606260 | 0.0336564633 | 0.8544639539\n176   | 17600   | 0.0346606260 | 0.0339003063 | 0.8544639539\n177   | 17700   | 0.0346606260 | 0.0339370820 | 0.8544639539\n178   | 17800   | 0.0346606260 | 0.0349496790 | 0.8544639539\n179   | 17900   | 0.0346606260 | 0.0350604661 | 0.8544639539\n180   | 18000   | 0.0346606260 | 0.0354691853 | 0.8544639539\n181   | 18100   | 0.0346606260 | 0.0361976592 | 0.8544639539\n182   | 18200   | 0.0346606260 | 0.0363128766 | 0.8544639539\n183   | 18300   | 0.0346606260 | 0.0350975757 | 0.8544639539\n184   | 18400   | 0.0346606260 | 0.0329168305 | 0.8544639539\n185   | 18500   | 0.0346606260 | 0.0344034038 | 0.8544639539\n186   | 18600   | 0.0346606260 | 0.0350984957 | 0.8544639539\n187   | 18700   | 0.0346606260 | 0.0336898798 | 0.8544639539\n188   | 18800   | 0.0346606260 | 0.0336059297 | 0.8544639539\n189   | 18900   | 0.0346606260 | 0.0329664851 | 0.8544639539\n190   | 19000   | 0.0346606260 | 0.0329510701 | 0.8544639539\n191   | 19100   | 0.0346606260 | 0.0325269587 | 0.8544639539\n192   | 19200   | 0.0346606260 | 0.0327084766 | 0.8544639539\n193   | 19300   | 0.0346606260 | 0.0333757787 | 0.8544639539\n194   | 19400   | 0.0346606260 | 0.0323795615 | 0.8544639539\n195   | 19500   | 0.0346606260 | 0.0326817710 | 0.8544639539\n196   | 19600   | 0.0346606260 | 0.0334876234 | 0.8544639539\n197   | 19700   | 0.0346606260 | 0.0330562549 | 0.8544639539\n198   | 19800   | 0.0346606260 | 0.0332528819 | 0.8544639539\n199   | 19900   | 0.0346606260 | 0.0333728009 | 0.8544639539\n200   | 20000   | 0.0346606260 | 0.0337651673 | 0.8544639539\n201   | 20100   | 0.0346606260 | 0.0331297514 | 0.8544639539\n202   | 20200   | 0.0346606260 | 0.0339490095 | 0.8544639539\n203   | 20300   | 0.0346606260 | 0.0333226329 | 0.8544639539\n204   | 20400   | 0.0346606260 | 0.0334976956 | 0.8544639539\n205   | 20500   | 0.0346606260 | 0.0332215858 | 0.8544639539\n206   | 20600   | 0.0346606260 | 0.0336503167 | 0.8544639539\n207   | 20700   | 0.0346606260 | 0.0344698084 | 0.8544639539\n208   | 20800   | 0.0346606260 | 0.0341145050 | 0.8544639539\n209   | 20900   | 0.0346606260 | 0.0338717669 | 0.8544639539\n210   | 21000   | 0.0346606260 | 0.0343566577 | 0.8544639539\n211   | 21100   | 0.0346606260 | 0.0336210009 | 0.8544639539\n212   | 21200   | 0.0346606260 | 0.0334328457 | 0.8544639539\n213   | 21300   | 0.0346606260 | 0.0324084997 | 0.8544639539\n214   | 21400   | 0.0346606260 | 0.0315212658 | 0.8544639539\n215   | 21500   | 0.0346606260 | 0.0317943836 | 0.8544639539\n216   | 21600   | 0.0346606260 | 0.0317568786 | 0.8544639539\n217   | 21700   | 0.0346606260 | 0.0321570968 | 0.8544639539\n218   | 21800   | 0.0346606260 | 0.0330376197 | 0.8544639539\n219   | 21900   | 0.0346606260 | 0.0321758533 | 0.8544639539\n220   | 22000   | 0.0346606260 | 0.0329333590 | 0.8544639539\n221   | 22100   | 0.0346606260 | 0.0332169520 | 0.8544639539\n222   | 22200   | 0.0346606260 | 0.0339738945 | 0.8544639539\n223   | 22300   | 0.0346606260 | 0.0330128679 | 0.8544639539\n224   | 22400   | 0.0346606260 | 0.0338044878 | 0.8544639539\n225   | 22500   | 0.0346606260 | 0.0340492002 | 0.8544639539\n226   | 22600   | 0.0346606260 | 0.0342717832 | 0.8544639539\n227   | 22700   | 0.0346606260 | 0.0338488510 | 0.8544639539\n228   | 22800   | 0.0346606260 | 0.0339412513 | 0.8544639539\n229   | 22900   | 0.0346606260 | 0.0342373757 | 0.8544639539\n230   | 23000   | 0.0346606260 | 0.0346217419 | 0.8544639539\n231   | 23100   | 0.0346606260 | 0.0348032548 | 0.8544639539\n232   | 23200   | 0.0346606260 | 0.0345406966 | 0.8544639539\n233   | 23300   | 0.0346606260 | 0.0343002982 | 0.8544639539\n234   | 23400   | 0.0346606260 | 0.0343501728 | 0.8544639539\n235   | 23500   | 0.0346606260 | 0.0345448759 | 0.8544639539\n236   | 23600   | 0.0346606260 | 0.0339302473 | 0.8544639539\n237   | 23700   | 0.0346606260 | 0.0337852499 | 0.8544639539\n238   | 23800   | 0.0346606260 | 0.0336430338 | 0.8544639539\n239   | 23900   | 0.0346606260 | 0.0335793106 | 0.8544639539\n240   | 24000   | 0.0346606260 | 0.0344642208 | 0.8544639539\n241   | 24100   | 0.0346606260 | 0.0338999229 | 0.8544639539\n242   | 24200   | 0.0346606260 | 0.0344426392 | 0.8544639539\n243   | 24300   | 0.0346606260 | 0.0338320269 | 0.8544639539\n244   | 24400   | 0.0346606260 | 0.0339549305 | 0.8544639539\n245   | 24500   | 0.0346606260 | 0.0351839533 | 0.8544639539\n246   | 24600   | 0.0346606260 | 0.0345112921 | 0.8544639539\n247   | 24700   | 0.0346606260 | 0.0344907720 | 0.8544639539\n248   | 24800   | 0.0346606260 | 0.0335469044 | 0.8544639539\n249   | 24900   | 0.0346606260 | 0.0324286414 | 0.8544639539\n250   | 25000   | 0.0346606260 | 0.0331217052 | 0.8544639539\n251   | 25100   | 0.0346606260 | 0.0327451730 | 0.8544639539\n252   | 25200   | 0.0346606260 | 0.0335846155 | 0.8544639539\n253   | 25300   | 0.0346606260 | 0.0341756259 | 0.8544639539\n254   | 25400   | 0.0346606260 | 0.0344369142 | 0.8544639539\n255   | 25500   | 0.0346606260 | 0.0341854519 | 0.8544639539\n256   | 25600   | 0.0346606260 | 0.0351541993 | 0.8544639539\n257   | 25700   | 0.0346606260 | 0.0351179156 | 0.8544639539\n258   | 25800   | 0.0346606260 | 0.0350091909 | 0.8544639539\n259   | 25900   | 0.0346606260 | 0.0339406623 | 0.8544639539\n260   | 26000   | 0.0346606260 | 0.0327203599 | 0.8544639539\n261   | 26100   | 0.0346606260 | 0.0323509799 | 0.8544639539\n262   | 26200   | 0.0346606260 | 0.0325599375 | 0.8544639539\n263   | 26300   | 0.0346606260 | 0.0325088658 | 0.8544639539\n264   | 26400   | 0.0346606260 | 0.0342134294 | 0.8544639539\n265   | 26500   | 0.0346606260 | 0.0350931802 | 0.8544639539\n266   | 26600   | 0.0346606260 | 0.0345192868 | 0.8544639539\n267   | 26700   | 0.0346606260 | 0.0339564324 | 0.8544639539\n268   | 26800   | 0.0346606260 | 0.0342795553 | 0.8544639539\n269   | 26900   | 0.0346606260 | 0.0344749167 | 0.8544639539\n270   | 27000   | 0.0346606260 | 0.0331645204 | 0.8544639539\n271   | 27100   | 0.0346606260 | 0.0329174237 | 0.8544639539\n272   | 27200   | 0.0346606260 | 0.0335951856 | 0.8544639539\n273   | 27300   | 0.0346606260 | 0.0345896485 | 0.8544639539\n274   | 27400   | 0.0346606260 | 0.0340073851 | 0.8544639539\n275   | 27500   | 0.0346606260 | 0.0338612438 | 0.8544639539\n276   | 27600   | 0.0346606260 | 0.0328908414 | 0.8544639539\n277   | 27700   | 0.0346606260 | 0.0321234868 | 0.8544639539\n278   | 27800   | 0.0346606260 | 0.0326986129 | 0.8544639539\n279   | 27900   | 0.0346606260 | 0.0331050021 | 0.8544639539\n280   | 28000   | 0.0346606260 | 0.0327453604 | 0.8544639539\n281   | 28100   | 0.0346606260 | 0.0327548336 | 0.8544639539\n282   | 28200   | 0.0346606260 | 0.0320901113 | 0.8544639539\n283   | 28300   | 0.0346606260 | 0.0320206006 | 0.8544639539\n284   | 28400   | 0.0346606260 | 0.0322713590 | 0.8544639539\n285   | 28500   | 0.0346606260 | 0.0327423656 | 0.8544639539\n286   | 28600   | 0.0346606260 | 0.0325103952 | 0.8544639539\n287   | 28700   | 0.0346606260 | 0.0326370845 | 0.8544639539\n288   | 28800   | 0.0346606260 | 0.0328693778 | 0.8544639539\n289   | 28900   | 0.0346606260 | 0.0326848218 | 0.8544639539\n290   | 29000   | 0.0346606260 | 0.0330149623 | 0.8544639539\n291   | 29100   | 0.0346606260 | 0.0337367829 | 0.8544639539\n292   | 29200   | 0.0343193723 | 0.0336359575 | 0.8544639539\n293   | 29300   | 0.0343193723 | 0.0323335468 | 0.8544639539\n294   | 29400   | 0.0343193723 | 0.0320154229 | 0.8544639539\n295   | 29500   | 0.0343193723 | 0.0316403931 | 0.8544639539\n296   | 29600   | 0.0343193723 | 0.0317357665 | 0.8544639539\n297   | 29700   | 0.0343193723 | 0.0313069258 | 0.8544639539\n298   | 29800   | 0.0343193723 | 0.0324033878 | 0.8544639539\n299   | 29900   | 0.0343193723 | 0.0327565117 | 0.8544639539\n300   | 30000   | 0.0343193723 | 0.0335831806 | 0.8544639539\n301   | 30100   | 0.0343193723 | 0.0336588239 | 0.8544639539\n302   | 30200   | 0.0343193723 | 0.0333616025 | 0.8544639539\n303   | 30300   | 0.0343193723 | 0.0327191242 | 0.8544639539\n304   | 30400   | 0.0343193723 | 0.0320600921 | 0.8544639539\n305   | 30500   | 0.0343193723 | 0.0325926615 | 0.8544639539\n306   | 30600   | 0.0343193723 | 0.0322868179 | 0.8544639539\n307   | 30700   | 0.0343193723 | 0.0320990133 | 0.8544639539\n308   | 30800   | 0.0343193723 | 0.0326429781 | 0.8544639539\n309   | 30900   | 0.0343193723 | 0.0325863226 | 0.8544639539\n310   | 31000   | 0.0343193723 | 0.0317063813 | 0.8544639539\n311   | 31100   | 0.0343193723 | 0.0322602553 | 0.8544639539\n312   | 31200   | 0.0343193723 | 0.0325762616 | 0.8544639539\n313   | 31300   | 0.0343193723 | 0.0331521140 | 0.8544639539\n314   | 31400   | 0.0343193723 | 0.0322722840 | 0.8544639539\n315   | 31500   | 0.0343193723 | 0.0323964962 | 0.8544639539\n316   | 31600   | 0.0343193723 | 0.0322209402 | 0.8544639539\n317   | 31700   | 0.0343193723 | 0.0319943538 | 0.8544639539\n318   | 31800   | 0.0343193723 | 0.0327067956 | 0.8544639539\n319   | 31900   | 0.0343193723 | 0.0333254523 | 0.8544639539\n320   | 32000   | 0.0343193723 | 0.0330795164 | 0.8544639539\n321   | 32100   | 0.0343193723 | 0.0327178595 | 0.8544639539\n322   | 32200   | 0.0343193723 | 0.0324178903 | 0.8544639539\n323   | 32300   | 0.0343193723 | 0.0336301651 | 0.8544639539\n324   | 32400   | 0.0343193723 | 0.0338931755 | 0.8544639539\n325   | 32500   | 0.0343193723 | 0.0336137117 | 0.8544639539\n326   | 32600   | 0.0343193723 | 0.0332799061 | 0.8544639539\n327   | 32700   | 0.0343193723 | 0.0316641066 | 0.8544639539\n328   | 32800   | 0.0343193723 | 0.0319093857 | 0.8544639539\n329   | 32900   | 0.0343193723 | 0.0325396617 | 0.8544639539\n330   | 33000   | 0.0343193723 | 0.0322307457 | 0.8544639539\n331   | 33100   | 0.0343193723 | 0.0314547690 | 0.8544639539\n332   | 33200   | 0.0343193723 | 0.0310697010 | 0.8544639539\n333   | 33300   | 0.0343193723 | 0.0312374103 | 0.8544639539\n334   | 33400   | 0.0343193723 | 0.0323580231 | 0.8544639539\n335   | 33500   | 0.0343193723 | 0.0318762284 | 0.8544639539\n336   | 33600   | 0.0343193723 | 0.0322734912 | 0.8544639539\n337   | 33700   | 0.0343193723 | 0.0319314178 | 0.8544639539\n338   | 33800   | 0.0343193723 | 0.0326512295 | 0.8544639539\n339   | 33900   | 0.0343193723 | 0.0333561398 | 0.8544639539\n340   | 34000   | 0.0343193723 | 0.0343165802 | 0.8544639539\n341   | 34100   | 0.0343193723 | 0.0348491401 | 0.8544639539\n342   | 34200   | 0.0343193723 | 0.0344537473 | 0.8544639539\n343   | 34300   | 0.0343193723 | 0.0341603823 | 0.8544639539\n344   | 34400   | 0.0343193723 | 0.0343830892 | 0.8544639539\n345   | 34500   | 0.0343193723 | 0.0341206285 | 0.8544639539\n346   | 34600   | 0.0343193723 | 0.0344119185 | 0.8544639539\n347   | 34700   | 0.0343193723 | 0.0343090878 | 0.8544639539\n348   | 34800   | 0.0343193723 | 0.0338915721 | 0.8544639539\n349   | 34900   | 0.0343193723 | 0.0347902263 | 0.8544639539\n350   | 35000   | 0.0343193723 | 0.0342805721 | 0.8544639539\n351   | 35100   | 0.0343193723 | 0.0351360035 | 0.8544639539\n352   | 35200   | 0.0343193723 | 0.0349568982 | 0.8544639539\n353   | 35300   | 0.0343193723 | 0.0339848710 | 0.8544639539\n354   | 35400   | 0.0343193723 | 0.0339404343 | 0.8544639539\n355   | 35500   | 0.0343193723 | 0.0328283010 | 0.8544639539\n356   | 35600   | 0.0343193723 | 0.0331139148 | 0.8544639539\n357   | 35700   | 0.0343193723 | 0.0326353816 | 0.8544639539\n358   | 35800   | 0.0343193723 | 0.0331481195 | 0.8544639539\n359   | 35900   | 0.0343193723 | 0.0324036411 | 0.8544639539\n360   | 36000   | 0.0343193723 | 0.0327309428 | 0.8544639539\n361   | 36100   | 0.0343193723 | 0.0320926817 | 0.8544639539\n362   | 36200   | 0.0343193723 | 0.0315970504 | 0.8544639539\n363   | 36300   | 0.0343193723 | 0.0327547354 | 0.8544639539\n364   | 36400   | 0.0343193723 | 0.0320216321 | 0.8544639539\n365   | 36500   | 0.0343193723 | 0.0320895780 | 0.8544639539\n366   | 36600   | 0.0343193723 | 0.0330397980 | 0.8544639539\n367   | 36700   | 0.0343193723 | 0.0320643682 | 0.8544639539\n368   | 36800   | 0.0343193723 | 0.0321354775 | 0.8544639539\n369   | 36900   | 0.0343193723 | 0.0316958198 | 0.8544639539\n370   | 37000   | 0.0343193723 | 0.0325084133 | 0.8544639539\n371   | 37100   | 0.0343193723 | 0.0333800275 | 0.8544639539\n372   | 37200   | 0.0343193723 | 0.0342127533 | 0.8544639539\n373   | 37300   | 0.0343193723 | 0.0331162271 | 0.8544639539\n374   | 37400   | 0.0343193723 | 0.0332358458 | 0.8544639539\n375   | 37500   | 0.0343193723 | 0.0329855518 | 0.8544639539\n376   | 37600   | 0.0343193723 | 0.0333924742 | 0.8544639539\n377   | 37700   | 0.0343193723 | 0.0329800163 | 0.8544639539\n378   | 37800   | 0.0343193723 | 0.0329527609 | 0.8544639539\n379   | 37900   | 0.0343193723 | 0.0337578093 | 0.8544639539\n380   | 38000   | 0.0343193723 | 0.0350199956 | 0.8544639539\n381   | 38100   | 0.0343193723 | 0.0337631812 | 0.8544639539\n382   | 38200   | 0.0343193723 | 0.0321418038 | 0.8544639539\n383   | 38300   | 0.0343193723 | 0.0316710972 | 0.8544639539\n384   | 38400   | 0.0343193723 | 0.0320749324 | 0.8544639539\n385   | 38500   | 0.0343193723 | 0.0322721990 | 0.8544639539\n386   | 38600   | 0.0343193723 | 0.0323499287 | 0.8544639539\n387   | 38700   | 0.0343193723 | 0.0322825431 | 0.8544639539\n388   | 38800   | 0.0343193723 | 0.0315154096 | 0.8544639539\n389   | 38900   | 0.0343193723 | 0.0317116803 | 0.8544639539\n390   | 39000   | 0.0343193723 | 0.0337498668 | 0.8544639539\n391   | 39100   | 0.0343193723 | 0.0325635912 | 0.8544639539\n392   | 39200   | 0.0343193723 | 0.0333766077 | 0.8544639539\n393   | 39300   | 0.0343193723 | 0.0337354848 | 0.8544639539\n394   | 39400   | 0.0343193723 | 0.0333987230 | 0.8544639539\n395   | 39500   | 0.0343193723 | 0.0339728640 | 0.8544639539\n396   | 39600   | 0.0343193723 | 0.0339040599 | 0.8544639539\n397   | 39700   | 0.0343193723 | 0.0340775077 | 0.8544639539\n398   | 39800   | 0.0343193723 | 0.0354819042 | 0.8544639539\n399   | 39900   | 0.0343193723 | 0.0326006247 | 0.8544639539\n400   | 40000   | 0.0343193723 | 0.0339193194 | 0.8544639539\n401   | 40100   | 0.0343193723 | 0.0332602496 | 0.8544639539\n402   | 40200   | 0.0343193723 | 0.0334272613 | 0.8544639539\n403   | 40300   | 0.0343193723 | 0.0344433791 | 0.8544639539\n404   | 40400   | 0.0343193723 | 0.0335610596 | 0.8544639539\n405   | 40500   | 0.0343193723 | 0.0335512712 | 0.8544639539\n406   | 40600   | 0.0343193723 | 0.0340489613 | 0.8544639539\n407   | 40700   | 0.0343193723 | 0.0348070609 | 0.8544639539\n408   | 40800   | 0.0343193723 | 0.0348052514 | 0.8544639539\n409   | 40900   | 0.0343193723 | 0.0340133986 | 0.8544639539\n410   | 41000   | 0.0343193723 | 0.0340765366 | 0.8544639539\n411   | 41100   | 0.0343193723 | 0.0346029997 | 0.8544639539\n412   | 41200   | 0.0343193723 | 0.0347963173 | 0.8544639539\n413   | 41300   | 0.0343193723 | 0.0337437464 | 0.8544639539\n414   | 41400   | 0.0343193723 | 0.0344002866 | 0.8544639539\n415   | 41500   | 0.0343193723 | 0.0339239505 | 0.8544639539\n416   | 41600   | 0.0343193723 | 0.0348923455 | 0.8544639539\n417   | 41700   | 0.0343193723 | 0.0348154048 | 0.8544639539\n418   | 41800   | 0.0343193723 | 0.0335859037 | 0.8544639539\n419   | 41900   | 0.0343193723 | 0.0338228967 | 0.8544639539\n420   | 42000   | 0.0343193723 | 0.0328124601 | 0.8544639539\n421   | 42100   | 0.0343193723 | 0.0321219674 | 0.8544639539\n422   | 42200   | 0.0343193723 | 0.0326268859 | 0.8544639539\n423   | 42300   | 0.0343193723 | 0.0326409505 | 0.8544639539\n424   | 42400   | 0.0343193723 | 0.0321525100 | 0.8544639539\n425   | 42500   | 0.0343193723 | 0.0324567789 | 0.8544639539\n426   | 42600   | 0.0343193723 | 0.0322338600 | 0.8544639539\n427   | 42700   | 0.0343193723 | 0.0323784106 | 0.8544639539\n428   | 42800   | 0.0343193723 | 0.0327532041 | 0.8544639539\n429   | 42900   | 0.0343193723 | 0.0325650251 | 0.8544639539\n430   | 43000   | 0.0343193723 | 0.0332210595 | 0.8544639539\n431   | 43100   | 0.0343193723 | 0.0323038431 | 0.8544639539\n432   | 43200   | 0.0343193723 | 0.0325275653 | 0.8544639539\n433   | 43300   | 0.0343193723 | 0.0313838740 | 0.8544639539\n434   | 43400   | 0.0343193723 | 0.0314420464 | 0.8544639539\n435   | 43500   | 0.0343193723 | 0.0315945798 | 0.8544639539\n436   | 43600   | 0.0343193723 | 0.0313362703 | 0.8544639539\n437   | 43700   | 0.0343193723 | 0.0311999004 | 0.8544639539\n438   | 43800   | 0.0343193723 | 0.0306997756 | 0.8544639539\n439   | 43900   | 0.0343193723 | 0.0301660864 | 0.8544639539\n440   | 44000   | 0.0343193723 | 0.0312715712 | 0.8544639539\n441   | 44100   | 0.0343193723 | 0.0300554330 | 0.8544639539\n442   | 44200   | 0.0343193723 | 0.0298319872 | 0.8544639539\n443   | 44300   | 0.0343193723 | 0.0307344994 | 0.8544639539\n444   | 44400   | 0.0343193723 | 0.0312403643 | 0.8544639539\n445   | 44500   | 0.0343193723 | 0.0309454635 | 0.8544639539\n446   | 44600   | 0.0343193723 | 0.0301660551 | 0.8544639539\n447   | 44700   | 0.0343193723 | 0.0306730891 | 0.8544639539\n448   | 44800   | 0.0343193723 | 0.0309934681 | 0.8544639539\n449   | 44900   | 0.0343193723 | 0.0311644110 | 0.8544639539\n450   | 45000   | 0.0343193723 | 0.0326199071 | 0.8544639539\n451   | 45100   | 0.0343193723 | 0.0317252225 | 0.8544639539\n452   | 45200   | 0.0343193723 | 0.0320116294 | 0.8544639539\n453   | 45300   | 0.0343193723 | 0.0329990564 | 0.8544639539\n454   | 45400   | 0.0343193723 | 0.0316418541 | 0.8544639539\n455   | 45500   | 0.0343193723 | 0.0321966753 | 0.8544639539\n456   | 45600   | 0.0343193723 | 0.0323446377 | 0.8544639539\n457   | 45700   | 0.0343193723 | 0.0328290751 | 0.8544639539\n458   | 45800   | 0.0343193723 | 0.0331347031 | 0.8544639539\n459   | 45900   | 0.0343193723 | 0.0338770755 | 0.8544639539\n460   | 46000   | 0.0343193723 | 0.0335002378 | 0.8544639539\n461   | 46100   | 0.0343193723 | 0.0333169925 | 0.8544639539\n462   | 46200   | 0.0343193723 | 0.0336636570 | 0.8544639539\n463   | 46300   | 0.0343193723 | 0.0339543306 | 0.8544639539\n464   | 46400   | 0.0343193723 | 0.0341988274 | 0.8544639539\n465   | 46500   | 0.0343193723 | 0.0347110169 | 0.8544639539\n466   | 46600   | 0.0343193723 | 0.0332272097 | 0.8544639539\n467   | 46700   | 0.0343193723 | 0.0337974361 | 0.8544639539\n468   | 46800   | 0.0343193723 | 0.0334655803 | 0.8544639539\n469   | 46900   | 0.0343193723 | 0.0336372512 | 0.8544639539\n470   | 47000   | 0.0343193723 | 0.0335046025 | 0.8544639539\n471   | 47100   | 0.0343193723 | 0.0336220360 | 0.8544639539\n472   | 47200   | 0.0343193723 | 0.0333570839 | 0.8544639539\n473   | 47300   | 0.0343193723 | 0.0328166208 | 0.8544639539\n474   | 47400   | 0.0343193723 | 0.0331988710 | 0.8544639539\n475   | 47500   | 0.0343193723 | 0.0345611747 | 0.8544639539\n476   | 47600   | 0.0343193723 | 0.0344455652 | 0.8544639539\n477   | 47700   | 0.0343193723 | 0.0346716705 | 0.8544639539\n478   | 47800   | 0.0343193723 | 0.0342988498 | 0.8544639539\n479   | 47900   | 0.0343193723 | 0.0337872776 | 0.8544639539\n480   | 48000   | 0.0343193723 | 0.0328016367 | 0.8544639539\n481   | 48100   | 0.0343193723 | 0.0328967725 | 0.8544639539\n482   | 48200   | 0.0343193723 | 0.0334452911 | 0.8544639539\n483   | 48300   | 0.0343193723 | 0.0319839432 | 0.8544639539\n484   | 48400   | 0.0343193723 | 0.0317957109 | 0.8544639539\n485   | 48500   | 0.0343193723 | 0.0323899560 | 0.8544639539\n486   | 48600   | 0.0343193723 | 0.0327415297 | 0.8544639539\n487   | 48700   | 0.0343193723 | 0.0335438896 | 0.8544639539\n488   | 48800   | 0.0343193723 | 0.0341550812 | 0.8544639539\n489   | 48900   | 0.0343193723 | 0.0334118150 | 0.8544639539\n490   | 49000   | 0.0343193723 | 0.0330970004 | 0.8544639539\n491   | 49100   | 0.0343193723 | 0.0326975069 | 0.8544639539\n492   | 49200   | 0.0343193723 | 0.0320318024 | 0.8544639539\n493   | 49300   | 0.0343193723 | 0.0315433017 | 0.8544639539\n494   | 49400   | 0.0343193723 | 0.0315679668 | 0.8544639539\n495   | 49500   | 0.0343193723 | 0.0326823451 | 0.8544639539\n496   | 49600   | 0.0343193723 | 0.0331439750 | 0.8544639539\n497   | 49700   | 0.0343193723 | 0.0324518620 | 0.8544639539\n498   | 49800   | 0.0343193723 | 0.0343121073 | 0.8544639539\n499   | 49900   | 0.0343193723 | 0.0335698216 | 0.8544639539\n500   | 50000   | 0.0343193723 | 0.0335125640 | 0.8544639539\n<pymoo.model.result.Result object at 0x000002340A532B48>\n"
        }
      ]
    },
    {
      "cell_type": "code",
      "metadata": {
        "id": "G8HbYb6nv371",
        "colab_type": "code",
        "colab": {}
      },
      "source": [
        "Scatter().add(res.F).show()"
      ],
      "execution_count": 38,
      "outputs": [
        {
          "output_type": "display_data",
          "data": {
            "text/plain": "<Figure size 576x432 with 1 Axes>",
            "image/svg+xml": "<?xml version=\"1.0\" encoding=\"utf-8\" standalone=\"no\"?>\r\n<!DOCTYPE svg PUBLIC \"-//W3C//DTD SVG 1.1//EN\"\r\n  \"http://www.w3.org/Graphics/SVG/1.1/DTD/svg11.dtd\">\r\n<!-- Created with matplotlib (https://matplotlib.org/) -->\r\n<svg height=\"370.91625pt\" version=\"1.1\" viewBox=\"0 0 497.38125 370.91625\" width=\"497.38125pt\" xmlns=\"http://www.w3.org/2000/svg\" xmlns:xlink=\"http://www.w3.org/1999/xlink\">\r\n <defs>\r\n  <style type=\"text/css\">\r\n*{stroke-linecap:butt;stroke-linejoin:round;}\r\n  </style>\r\n </defs>\r\n <g id=\"figure_1\">\r\n  <g id=\"patch_1\">\r\n   <path d=\"M 0 370.91625 \r\nL 497.38125 370.91625 \r\nL 497.38125 0 \r\nL 0 0 \r\nz\r\n\" style=\"fill:none;\"/>\r\n  </g>\r\n  <g id=\"axes_1\">\r\n   <g id=\"patch_2\">\r\n    <path d=\"M 43.78125 333.36 \r\nL 490.18125 333.36 \r\nL 490.18125 7.2 \r\nL 43.78125 7.2 \r\nz\r\n\" style=\"fill:#ffffff;\"/>\r\n   </g>\r\n   <g id=\"PathCollection_1\">\r\n    <defs>\r\n     <path d=\"M 0 3 \r\nC 0.795609 3 1.55874 2.683901 2.12132 2.12132 \r\nC 2.683901 1.55874 3 0.795609 3 0 \r\nC 3 -0.795609 2.683901 -1.55874 2.12132 -2.12132 \r\nC 1.55874 -2.683901 0.795609 -3 0 -3 \r\nC -0.795609 -3 -1.55874 -2.683901 -2.12132 -2.12132 \r\nC -2.683901 -1.55874 -3 -0.795609 -3 0 \r\nC -3 0.795609 -2.683901 1.55874 -2.12132 2.12132 \r\nC -1.55874 2.683901 -0.795609 3 0 3 \r\nz\r\n\" id=\"me96586b54c\" style=\"stroke:#1f77b4;\"/>\r\n    </defs>\r\n    <g clip-path=\"url(#p41a0b1f3b9)\">\r\n     <use style=\"fill:#1f77b4;stroke:#1f77b4;\" x=\"64.072159\" xlink:href=\"#me96586b54c\" y=\"22.025455\"/>\r\n     <use style=\"fill:#1f77b4;stroke:#1f77b4;\" x=\"469.890341\" xlink:href=\"#me96586b54c\" y=\"318.534545\"/>\r\n     <use style=\"fill:#1f77b4;stroke:#1f77b4;\" x=\"77.599432\" xlink:href=\"#me96586b54c\" y=\"175.221818\"/>\r\n     <use style=\"fill:#1f77b4;stroke:#1f77b4;\" x=\"91.126705\" xlink:href=\"#me96586b54c\" y=\"226.287273\"/>\r\n     <use style=\"fill:#1f77b4;stroke:#1f77b4;\" x=\"104.653977\" xlink:href=\"#me96586b54c\" y=\"251.82\"/>\r\n     <use style=\"fill:#1f77b4;stroke:#1f77b4;\" x=\"118.18125\" xlink:href=\"#me96586b54c\" y=\"267.139636\"/>\r\n     <use style=\"fill:#1f77b4;stroke:#1f77b4;\" x=\"131.708523\" xlink:href=\"#me96586b54c\" y=\"277.352727\"/>\r\n     <use style=\"fill:#1f77b4;stroke:#1f77b4;\" x=\"145.235795\" xlink:href=\"#me96586b54c\" y=\"284.647792\"/>\r\n     <use style=\"fill:#1f77b4;stroke:#1f77b4;\" x=\"158.763068\" xlink:href=\"#me96586b54c\" y=\"290.119091\"/>\r\n     <use style=\"fill:#1f77b4;stroke:#1f77b4;\" x=\"172.290341\" xlink:href=\"#me96586b54c\" y=\"294.374545\"/>\r\n     <use style=\"fill:#1f77b4;stroke:#1f77b4;\" x=\"185.817614\" xlink:href=\"#me96586b54c\" y=\"297.778909\"/>\r\n     <use style=\"fill:#1f77b4;stroke:#1f77b4;\" x=\"199.344886\" xlink:href=\"#me96586b54c\" y=\"300.564298\"/>\r\n     <use style=\"fill:#1f77b4;stroke:#1f77b4;\" x=\"212.872159\" xlink:href=\"#me96586b54c\" y=\"302.885455\"/>\r\n     <use style=\"fill:#1f77b4;stroke:#1f77b4;\" x=\"226.399432\" xlink:href=\"#me96586b54c\" y=\"304.84951\"/>\r\n     <use style=\"fill:#1f77b4;stroke:#1f77b4;\" x=\"239.926705\" xlink:href=\"#me96586b54c\" y=\"306.532987\"/>\r\n     <use style=\"fill:#1f77b4;stroke:#1f77b4;\" x=\"253.453977\" xlink:href=\"#me96586b54c\" y=\"307.992\"/>\r\n     <use style=\"fill:#1f77b4;stroke:#1f77b4;\" x=\"266.98125\" xlink:href=\"#me96586b54c\" y=\"309.268636\"/>\r\n     <use style=\"fill:#1f77b4;stroke:#1f77b4;\" x=\"280.508523\" xlink:href=\"#me96586b54c\" y=\"310.39508\"/>\r\n     <use style=\"fill:#1f77b4;stroke:#1f77b4;\" x=\"294.035795\" xlink:href=\"#me96586b54c\" y=\"311.396364\"/>\r\n     <use style=\"fill:#1f77b4;stroke:#1f77b4;\" x=\"307.563068\" xlink:href=\"#me96586b54c\" y=\"312.292249\"/>\r\n     <use style=\"fill:#1f77b4;stroke:#1f77b4;\" x=\"321.090341\" xlink:href=\"#me96586b54c\" y=\"313.098545\"/>\r\n     <use style=\"fill:#1f77b4;stroke:#1f77b4;\" x=\"334.617614\" xlink:href=\"#me96586b54c\" y=\"313.828052\"/>\r\n     <use style=\"fill:#1f77b4;stroke:#1f77b4;\" x=\"348.144886\" xlink:href=\"#me96586b54c\" y=\"314.49124\"/>\r\n     <use style=\"fill:#1f77b4;stroke:#1f77b4;\" x=\"361.672159\" xlink:href=\"#me96586b54c\" y=\"315.096759\"/>\r\n     <use style=\"fill:#1f77b4;stroke:#1f77b4;\" x=\"375.199432\" xlink:href=\"#me96586b54c\" y=\"315.651818\"/>\r\n     <use style=\"fill:#1f77b4;stroke:#1f77b4;\" x=\"388.726705\" xlink:href=\"#me96586b54c\" y=\"316.162473\"/>\r\n     <use style=\"fill:#1f77b4;stroke:#1f77b4;\" x=\"402.253977\" xlink:href=\"#me96586b54c\" y=\"316.633846\"/>\r\n     <use style=\"fill:#1f77b4;stroke:#1f77b4;\" x=\"415.78125\" xlink:href=\"#me96586b54c\" y=\"317.070303\"/>\r\n     <use style=\"fill:#1f77b4;stroke:#1f77b4;\" x=\"429.308523\" xlink:href=\"#me96586b54c\" y=\"317.475584\"/>\r\n     <use style=\"fill:#1f77b4;stroke:#1f77b4;\" x=\"442.835795\" xlink:href=\"#me96586b54c\" y=\"317.852915\"/>\r\n     <use style=\"fill:#1f77b4;stroke:#1f77b4;\" x=\"456.363068\" xlink:href=\"#me96586b54c\" y=\"318.205091\"/>\r\n     <use style=\"fill:#1f77b4;stroke:#1f77b4;\" x=\"158.763068\" xlink:href=\"#me96586b54c\" y=\"290.119091\"/>\r\n     <use style=\"fill:#1f77b4;stroke:#1f77b4;\" x=\"294.035795\" xlink:href=\"#me96586b54c\" y=\"311.396364\"/>\r\n     <use style=\"fill:#1f77b4;stroke:#1f77b4;\" x=\"348.144886\" xlink:href=\"#me96586b54c\" y=\"314.49124\"/>\r\n     <use style=\"fill:#1f77b4;stroke:#1f77b4;\" x=\"239.926705\" xlink:href=\"#me96586b54c\" y=\"306.532987\"/>\r\n     <use style=\"fill:#1f77b4;stroke:#1f77b4;\" x=\"334.617614\" xlink:href=\"#me96586b54c\" y=\"313.828052\"/>\r\n     <use style=\"fill:#1f77b4;stroke:#1f77b4;\" x=\"266.98125\" xlink:href=\"#me96586b54c\" y=\"309.268636\"/>\r\n     <use style=\"fill:#1f77b4;stroke:#1f77b4;\" x=\"172.290341\" xlink:href=\"#me96586b54c\" y=\"294.374545\"/>\r\n     <use style=\"fill:#1f77b4;stroke:#1f77b4;\" x=\"307.563068\" xlink:href=\"#me96586b54c\" y=\"312.292249\"/>\r\n     <use style=\"fill:#1f77b4;stroke:#1f77b4;\" x=\"239.926705\" xlink:href=\"#me96586b54c\" y=\"306.532987\"/>\r\n     <use style=\"fill:#1f77b4;stroke:#1f77b4;\" x=\"280.508523\" xlink:href=\"#me96586b54c\" y=\"310.39508\"/>\r\n     <use style=\"fill:#1f77b4;stroke:#1f77b4;\" x=\"321.090341\" xlink:href=\"#me96586b54c\" y=\"313.098545\"/>\r\n     <use style=\"fill:#1f77b4;stroke:#1f77b4;\" x=\"348.144886\" xlink:href=\"#me96586b54c\" y=\"314.49124\"/>\r\n     <use style=\"fill:#1f77b4;stroke:#1f77b4;\" x=\"199.344886\" xlink:href=\"#me96586b54c\" y=\"300.564298\"/>\r\n     <use style=\"fill:#1f77b4;stroke:#1f77b4;\" x=\"294.035795\" xlink:href=\"#me96586b54c\" y=\"311.396364\"/>\r\n     <use style=\"fill:#1f77b4;stroke:#1f77b4;\" x=\"375.199432\" xlink:href=\"#me96586b54c\" y=\"315.651818\"/>\r\n     <use style=\"fill:#1f77b4;stroke:#1f77b4;\" x=\"456.363068\" xlink:href=\"#me96586b54c\" y=\"318.205091\"/>\r\n     <use style=\"fill:#1f77b4;stroke:#1f77b4;\" x=\"294.035795\" xlink:href=\"#me96586b54c\" y=\"311.396364\"/>\r\n     <use style=\"fill:#1f77b4;stroke:#1f77b4;\" x=\"361.672159\" xlink:href=\"#me96586b54c\" y=\"315.096759\"/>\r\n     <use style=\"fill:#1f77b4;stroke:#1f77b4;\" x=\"321.090341\" xlink:href=\"#me96586b54c\" y=\"313.098545\"/>\r\n     <use style=\"fill:#1f77b4;stroke:#1f77b4;\" x=\"321.090341\" xlink:href=\"#me96586b54c\" y=\"313.098545\"/>\r\n     <use style=\"fill:#1f77b4;stroke:#1f77b4;\" x=\"172.290341\" xlink:href=\"#me96586b54c\" y=\"294.374545\"/>\r\n     <use style=\"fill:#1f77b4;stroke:#1f77b4;\" x=\"239.926705\" xlink:href=\"#me96586b54c\" y=\"306.532987\"/>\r\n     <use style=\"fill:#1f77b4;stroke:#1f77b4;\" x=\"172.290341\" xlink:href=\"#me96586b54c\" y=\"294.374545\"/>\r\n     <use style=\"fill:#1f77b4;stroke:#1f77b4;\" x=\"131.708523\" xlink:href=\"#me96586b54c\" y=\"277.352727\"/>\r\n     <use style=\"fill:#1f77b4;stroke:#1f77b4;\" x=\"158.763068\" xlink:href=\"#me96586b54c\" y=\"290.119091\"/>\r\n     <use style=\"fill:#1f77b4;stroke:#1f77b4;\" x=\"185.817614\" xlink:href=\"#me96586b54c\" y=\"297.778909\"/>\r\n     <use style=\"fill:#1f77b4;stroke:#1f77b4;\" x=\"266.98125\" xlink:href=\"#me96586b54c\" y=\"309.268636\"/>\r\n     <use style=\"fill:#1f77b4;stroke:#1f77b4;\" x=\"348.144886\" xlink:href=\"#me96586b54c\" y=\"314.49124\"/>\r\n     <use style=\"fill:#1f77b4;stroke:#1f77b4;\" x=\"294.035795\" xlink:href=\"#me96586b54c\" y=\"311.396364\"/>\r\n     <use style=\"fill:#1f77b4;stroke:#1f77b4;\" x=\"375.199432\" xlink:href=\"#me96586b54c\" y=\"315.651818\"/>\r\n     <use style=\"fill:#1f77b4;stroke:#1f77b4;\" x=\"334.617614\" xlink:href=\"#me96586b54c\" y=\"313.828052\"/>\r\n     <use style=\"fill:#1f77b4;stroke:#1f77b4;\" x=\"158.763068\" xlink:href=\"#me96586b54c\" y=\"290.119091\"/>\r\n     <use style=\"fill:#1f77b4;stroke:#1f77b4;\" x=\"294.035795\" xlink:href=\"#me96586b54c\" y=\"311.396364\"/>\r\n     <use style=\"fill:#1f77b4;stroke:#1f77b4;\" x=\"131.708523\" xlink:href=\"#me96586b54c\" y=\"277.352727\"/>\r\n     <use style=\"fill:#1f77b4;stroke:#1f77b4;\" x=\"172.290341\" xlink:href=\"#me96586b54c\" y=\"294.374545\"/>\r\n     <use style=\"fill:#1f77b4;stroke:#1f77b4;\" x=\"415.78125\" xlink:href=\"#me96586b54c\" y=\"317.070303\"/>\r\n     <use style=\"fill:#1f77b4;stroke:#1f77b4;\" x=\"280.508523\" xlink:href=\"#me96586b54c\" y=\"310.39508\"/>\r\n     <use style=\"fill:#1f77b4;stroke:#1f77b4;\" x=\"348.144886\" xlink:href=\"#me96586b54c\" y=\"314.49124\"/>\r\n     <use style=\"fill:#1f77b4;stroke:#1f77b4;\" x=\"185.817614\" xlink:href=\"#me96586b54c\" y=\"297.778909\"/>\r\n     <use style=\"fill:#1f77b4;stroke:#1f77b4;\" x=\"145.235795\" xlink:href=\"#me96586b54c\" y=\"284.647792\"/>\r\n     <use style=\"fill:#1f77b4;stroke:#1f77b4;\" x=\"375.199432\" xlink:href=\"#me96586b54c\" y=\"315.651818\"/>\r\n     <use style=\"fill:#1f77b4;stroke:#1f77b4;\" x=\"239.926705\" xlink:href=\"#me96586b54c\" y=\"306.532987\"/>\r\n     <use style=\"fill:#1f77b4;stroke:#1f77b4;\" x=\"334.617614\" xlink:href=\"#me96586b54c\" y=\"313.828052\"/>\r\n     <use style=\"fill:#1f77b4;stroke:#1f77b4;\" x=\"266.98125\" xlink:href=\"#me96586b54c\" y=\"309.268636\"/>\r\n     <use style=\"fill:#1f77b4;stroke:#1f77b4;\" x=\"361.672159\" xlink:href=\"#me96586b54c\" y=\"315.096759\"/>\r\n     <use style=\"fill:#1f77b4;stroke:#1f77b4;\" x=\"104.653977\" xlink:href=\"#me96586b54c\" y=\"251.82\"/>\r\n     <use style=\"fill:#1f77b4;stroke:#1f77b4;\" x=\"185.817614\" xlink:href=\"#me96586b54c\" y=\"297.778909\"/>\r\n     <use style=\"fill:#1f77b4;stroke:#1f77b4;\" x=\"361.672159\" xlink:href=\"#me96586b54c\" y=\"315.096759\"/>\r\n     <use style=\"fill:#1f77b4;stroke:#1f77b4;\" x=\"266.98125\" xlink:href=\"#me96586b54c\" y=\"309.268636\"/>\r\n     <use style=\"fill:#1f77b4;stroke:#1f77b4;\" x=\"77.599432\" xlink:href=\"#me96586b54c\" y=\"175.221818\"/>\r\n     <use style=\"fill:#1f77b4;stroke:#1f77b4;\" x=\"158.763068\" xlink:href=\"#me96586b54c\" y=\"290.119091\"/>\r\n     <use style=\"fill:#1f77b4;stroke:#1f77b4;\" x=\"307.563068\" xlink:href=\"#me96586b54c\" y=\"312.292249\"/>\r\n     <use style=\"fill:#1f77b4;stroke:#1f77b4;\" x=\"226.399432\" xlink:href=\"#me96586b54c\" y=\"304.84951\"/>\r\n     <use style=\"fill:#1f77b4;stroke:#1f77b4;\" x=\"145.235795\" xlink:href=\"#me96586b54c\" y=\"284.647792\"/>\r\n     <use style=\"fill:#1f77b4;stroke:#1f77b4;\" x=\"212.872159\" xlink:href=\"#me96586b54c\" y=\"302.885455\"/>\r\n     <use style=\"fill:#1f77b4;stroke:#1f77b4;\" x=\"294.035795\" xlink:href=\"#me96586b54c\" y=\"311.396364\"/>\r\n     <use style=\"fill:#1f77b4;stroke:#1f77b4;\" x=\"348.144886\" xlink:href=\"#me96586b54c\" y=\"314.49124\"/>\r\n     <use style=\"fill:#1f77b4;stroke:#1f77b4;\" x=\"375.199432\" xlink:href=\"#me96586b54c\" y=\"315.651818\"/>\r\n     <use style=\"fill:#1f77b4;stroke:#1f77b4;\" x=\"199.344886\" xlink:href=\"#me96586b54c\" y=\"300.564298\"/>\r\n     <use style=\"fill:#1f77b4;stroke:#1f77b4;\" x=\"266.98125\" xlink:href=\"#me96586b54c\" y=\"309.268636\"/>\r\n     <use style=\"fill:#1f77b4;stroke:#1f77b4;\" x=\"199.344886\" xlink:href=\"#me96586b54c\" y=\"300.564298\"/>\r\n     <use style=\"fill:#1f77b4;stroke:#1f77b4;\" x=\"172.290341\" xlink:href=\"#me96586b54c\" y=\"294.374545\"/>\r\n     <use style=\"fill:#1f77b4;stroke:#1f77b4;\" x=\"429.308523\" xlink:href=\"#me96586b54c\" y=\"317.475584\"/>\r\n     <use style=\"fill:#1f77b4;stroke:#1f77b4;\" x=\"253.453977\" xlink:href=\"#me96586b54c\" y=\"307.992\"/>\r\n     <use style=\"fill:#1f77b4;stroke:#1f77b4;\" x=\"104.653977\" xlink:href=\"#me96586b54c\" y=\"251.82\"/>\r\n     <use style=\"fill:#1f77b4;stroke:#1f77b4;\" x=\"239.926705\" xlink:href=\"#me96586b54c\" y=\"306.532987\"/>\r\n     <use style=\"fill:#1f77b4;stroke:#1f77b4;\" x=\"118.18125\" xlink:href=\"#me96586b54c\" y=\"267.139636\"/>\r\n     <use style=\"fill:#1f77b4;stroke:#1f77b4;\" x=\"158.763068\" xlink:href=\"#me96586b54c\" y=\"290.119091\"/>\r\n     <use style=\"fill:#1f77b4;stroke:#1f77b4;\" x=\"239.926705\" xlink:href=\"#me96586b54c\" y=\"306.532987\"/>\r\n    </g>\r\n   </g>\r\n   <g id=\"matplotlib.axis_1\">\r\n    <g id=\"xtick_1\">\r\n     <g id=\"line2d_1\">\r\n      <defs>\r\n       <path d=\"M 0 0 \r\nL 0 3.5 \r\n\" id=\"meed15d73b9\" style=\"stroke:#000000;stroke-width:0.8;\"/>\r\n      </defs>\r\n      <g>\r\n       <use style=\"stroke:#000000;stroke-width:0.8;\" x=\"64.072159\" xlink:href=\"#meed15d73b9\" y=\"333.36\"/>\r\n      </g>\r\n     </g>\r\n     <g id=\"text_1\">\r\n      <!-- 0.0 -->\r\n      <defs>\r\n       <path d=\"M 31.78125 3.421875 \r\nQ 39.265625 3.421875 42.96875 11.625 \r\nQ 46.6875 19.828125 46.6875 36.375 \r\nQ 46.6875 52.984375 42.96875 61.1875 \r\nQ 39.265625 69.390625 31.78125 69.390625 \r\nQ 24.3125 69.390625 20.59375 61.1875 \r\nQ 16.890625 52.984375 16.890625 36.375 \r\nQ 16.890625 19.828125 20.59375 11.625 \r\nQ 24.3125 3.421875 31.78125 3.421875 \r\nz\r\nM 31.78125 -1.421875 \r\nQ 19.921875 -1.421875 13.25 8.53125 \r\nQ 6.59375 18.5 6.59375 36.375 \r\nQ 6.59375 54.296875 13.25 64.25 \r\nQ 19.921875 74.21875 31.78125 74.21875 \r\nQ 43.703125 74.21875 50.34375 64.25 \r\nQ 56.984375 54.296875 56.984375 36.375 \r\nQ 56.984375 18.5 50.34375 8.53125 \r\nQ 43.703125 -1.421875 31.78125 -1.421875 \r\nz\r\n\" id=\"DejaVuSerif-48\"/>\r\n       <path d=\"M 9.421875 5.078125 \r\nQ 9.421875 7.8125 11.28125 9.71875 \r\nQ 13.140625 11.625 15.921875 11.625 \r\nQ 18.609375 11.625 20.5 9.71875 \r\nQ 22.40625 7.8125 22.40625 5.078125 \r\nQ 22.40625 2.390625 20.5 0.484375 \r\nQ 18.609375 -1.421875 15.921875 -1.421875 \r\nQ 13.140625 -1.421875 11.28125 0.453125 \r\nQ 9.421875 2.34375 9.421875 5.078125 \r\nz\r\n\" id=\"DejaVuSerif-46\"/>\r\n      </defs>\r\n      <g transform=\"translate(56.120597 347.958438)scale(0.1 -0.1)\">\r\n       <use xlink:href=\"#DejaVuSerif-48\"/>\r\n       <use x=\"63.623047\" xlink:href=\"#DejaVuSerif-46\"/>\r\n       <use x=\"95.410156\" xlink:href=\"#DejaVuSerif-48\"/>\r\n      </g>\r\n     </g>\r\n    </g>\r\n    <g id=\"xtick_2\">\r\n     <g id=\"line2d_2\">\r\n      <g>\r\n       <use style=\"stroke:#000000;stroke-width:0.8;\" x=\"145.235795\" xlink:href=\"#meed15d73b9\" y=\"333.36\"/>\r\n      </g>\r\n     </g>\r\n     <g id=\"text_2\">\r\n      <!-- 0.2 -->\r\n      <defs>\r\n       <path d=\"M 12.796875 55.515625 \r\nL 7.328125 55.515625 \r\nL 7.328125 68.5 \r\nQ 12.546875 71.296875 17.84375 72.75 \r\nQ 23.140625 74.21875 28.21875 74.21875 \r\nQ 39.59375 74.21875 46.1875 68.703125 \r\nQ 52.78125 63.1875 52.78125 53.71875 \r\nQ 52.78125 43.015625 37.84375 28.125 \r\nQ 36.671875 27 36.078125 26.421875 \r\nL 17.671875 8.015625 \r\nL 48.09375 8.015625 \r\nL 48.09375 17 \r\nL 53.8125 17 \r\nL 53.8125 0 \r\nL 6.78125 0 \r\nL 6.78125 5.328125 \r\nL 28.90625 27.390625 \r\nQ 36.234375 34.71875 39.359375 40.84375 \r\nQ 42.484375 46.96875 42.484375 53.71875 \r\nQ 42.484375 61.078125 38.640625 65.234375 \r\nQ 34.8125 69.390625 28.078125 69.390625 \r\nQ 21.09375 69.390625 17.28125 65.921875 \r\nQ 13.484375 62.453125 12.796875 55.515625 \r\nz\r\n\" id=\"DejaVuSerif-50\"/>\r\n      </defs>\r\n      <g transform=\"translate(137.284233 347.958438)scale(0.1 -0.1)\">\r\n       <use xlink:href=\"#DejaVuSerif-48\"/>\r\n       <use x=\"63.623047\" xlink:href=\"#DejaVuSerif-46\"/>\r\n       <use x=\"95.410156\" xlink:href=\"#DejaVuSerif-50\"/>\r\n      </g>\r\n     </g>\r\n    </g>\r\n    <g id=\"xtick_3\">\r\n     <g id=\"line2d_3\">\r\n      <g>\r\n       <use style=\"stroke:#000000;stroke-width:0.8;\" x=\"226.399432\" xlink:href=\"#meed15d73b9\" y=\"333.36\"/>\r\n      </g>\r\n     </g>\r\n     <g id=\"text_3\">\r\n      <!-- 0.4 -->\r\n      <defs>\r\n       <path d=\"M 34.90625 24.703125 \r\nL 34.90625 63.484375 \r\nL 10.015625 24.703125 \r\nz\r\nM 56.390625 0 \r\nL 23.1875 0 \r\nL 23.1875 5.171875 \r\nL 34.90625 5.171875 \r\nL 34.90625 19.484375 \r\nL 3.078125 19.484375 \r\nL 3.078125 24.8125 \r\nL 35.015625 74.21875 \r\nL 44.671875 74.21875 \r\nL 44.671875 24.703125 \r\nL 58.59375 24.703125 \r\nL 58.59375 19.484375 \r\nL 44.671875 19.484375 \r\nL 44.671875 5.171875 \r\nL 56.390625 5.171875 \r\nz\r\n\" id=\"DejaVuSerif-52\"/>\r\n      </defs>\r\n      <g transform=\"translate(218.447869 347.958438)scale(0.1 -0.1)\">\r\n       <use xlink:href=\"#DejaVuSerif-48\"/>\r\n       <use x=\"63.623047\" xlink:href=\"#DejaVuSerif-46\"/>\r\n       <use x=\"95.410156\" xlink:href=\"#DejaVuSerif-52\"/>\r\n      </g>\r\n     </g>\r\n    </g>\r\n    <g id=\"xtick_4\">\r\n     <g id=\"line2d_4\">\r\n      <g>\r\n       <use style=\"stroke:#000000;stroke-width:0.8;\" x=\"307.563068\" xlink:href=\"#meed15d73b9\" y=\"333.36\"/>\r\n      </g>\r\n     </g>\r\n     <g id=\"text_4\">\r\n      <!-- 0.6 -->\r\n      <defs>\r\n       <path d=\"M 32.71875 3.421875 \r\nQ 39.59375 3.421875 43.296875 8.46875 \r\nQ 47.015625 13.53125 47.015625 23 \r\nQ 47.015625 32.46875 43.296875 37.515625 \r\nQ 39.59375 42.578125 32.71875 42.578125 \r\nQ 25.734375 42.578125 22.0625 37.6875 \r\nQ 18.40625 32.8125 18.40625 23.578125 \r\nQ 18.40625 13.875 22.109375 8.640625 \r\nQ 25.828125 3.421875 32.71875 3.421875 \r\nz\r\nM 16.796875 40.140625 \r\nQ 20.125 43.796875 24.3125 45.59375 \r\nQ 28.515625 47.40625 33.796875 47.40625 \r\nQ 44.671875 47.40625 51 40.859375 \r\nQ 57.328125 34.328125 57.328125 23 \r\nQ 57.328125 11.921875 50.515625 5.25 \r\nQ 43.703125 -1.421875 32.328125 -1.421875 \r\nQ 19.96875 -1.421875 13.328125 7.78125 \r\nQ 6.6875 17 6.6875 34.078125 \r\nQ 6.6875 53.21875 14.546875 63.71875 \r\nQ 22.40625 74.21875 36.71875 74.21875 \r\nQ 40.578125 74.21875 44.828125 73.484375 \r\nQ 49.078125 72.75 53.515625 71.296875 \r\nL 53.515625 59.28125 \r\nL 48 59.28125 \r\nQ 47.40625 64.203125 44.234375 66.796875 \r\nQ 41.0625 69.390625 35.6875 69.390625 \r\nQ 26.21875 69.390625 21.578125 62.203125 \r\nQ 16.9375 55.03125 16.796875 40.140625 \r\nz\r\n\" id=\"DejaVuSerif-54\"/>\r\n      </defs>\r\n      <g transform=\"translate(299.611506 347.958438)scale(0.1 -0.1)\">\r\n       <use xlink:href=\"#DejaVuSerif-48\"/>\r\n       <use x=\"63.623047\" xlink:href=\"#DejaVuSerif-46\"/>\r\n       <use x=\"95.410156\" xlink:href=\"#DejaVuSerif-54\"/>\r\n      </g>\r\n     </g>\r\n    </g>\r\n    <g id=\"xtick_5\">\r\n     <g id=\"line2d_5\">\r\n      <g>\r\n       <use style=\"stroke:#000000;stroke-width:0.8;\" x=\"388.726705\" xlink:href=\"#meed15d73b9\" y=\"333.36\"/>\r\n      </g>\r\n     </g>\r\n     <g id=\"text_5\">\r\n      <!-- 0.8 -->\r\n      <defs>\r\n       <path d=\"M 46.578125 19.921875 \r\nQ 46.578125 27.734375 42.6875 32.046875 \r\nQ 38.8125 36.375 31.78125 36.375 \r\nQ 24.75 36.375 20.875 32.046875 \r\nQ 17 27.734375 17 19.921875 \r\nQ 17 12.0625 20.875 7.734375 \r\nQ 24.75 3.421875 31.78125 3.421875 \r\nQ 38.8125 3.421875 42.6875 7.734375 \r\nQ 46.578125 12.0625 46.578125 19.921875 \r\nz\r\nM 44.578125 55.328125 \r\nQ 44.578125 61.96875 41.203125 65.671875 \r\nQ 37.84375 69.390625 31.78125 69.390625 \r\nQ 25.78125 69.390625 22.390625 65.671875 \r\nQ 19 61.96875 19 55.328125 \r\nQ 19 48.640625 22.390625 44.921875 \r\nQ 25.78125 41.21875 31.78125 41.21875 \r\nQ 37.84375 41.21875 41.203125 44.921875 \r\nQ 44.578125 48.640625 44.578125 55.328125 \r\nz\r\nM 39.3125 38.8125 \r\nQ 47.609375 37.703125 52.25 32.6875 \r\nQ 56.890625 27.6875 56.890625 19.921875 \r\nQ 56.890625 9.671875 50.390625 4.125 \r\nQ 43.890625 -1.421875 31.78125 -1.421875 \r\nQ 19.734375 -1.421875 13.203125 4.125 \r\nQ 6.6875 9.671875 6.6875 19.921875 \r\nQ 6.6875 27.6875 11.328125 32.6875 \r\nQ 15.96875 37.703125 24.3125 38.8125 \r\nQ 16.9375 40.140625 13 44.40625 \r\nQ 9.078125 48.6875 9.078125 55.328125 \r\nQ 9.078125 64.109375 15.125 69.15625 \r\nQ 21.1875 74.21875 31.78125 74.21875 \r\nQ 42.390625 74.21875 48.4375 69.15625 \r\nQ 54.5 64.109375 54.5 55.328125 \r\nQ 54.5 48.6875 50.5625 44.40625 \r\nQ 46.625 40.140625 39.3125 38.8125 \r\nz\r\n\" id=\"DejaVuSerif-56\"/>\r\n      </defs>\r\n      <g transform=\"translate(380.775142 347.958438)scale(0.1 -0.1)\">\r\n       <use xlink:href=\"#DejaVuSerif-48\"/>\r\n       <use x=\"63.623047\" xlink:href=\"#DejaVuSerif-46\"/>\r\n       <use x=\"95.410156\" xlink:href=\"#DejaVuSerif-56\"/>\r\n      </g>\r\n     </g>\r\n    </g>\r\n    <g id=\"xtick_6\">\r\n     <g id=\"line2d_6\">\r\n      <g>\r\n       <use style=\"stroke:#000000;stroke-width:0.8;\" x=\"469.890341\" xlink:href=\"#meed15d73b9\" y=\"333.36\"/>\r\n      </g>\r\n     </g>\r\n     <g id=\"text_6\">\r\n      <!-- 1.0 -->\r\n      <defs>\r\n       <path d=\"M 14.203125 0 \r\nL 14.203125 5.171875 \r\nL 26.90625 5.171875 \r\nL 26.90625 65.828125 \r\nL 12.203125 56.296875 \r\nL 12.203125 62.703125 \r\nL 29.984375 74.21875 \r\nL 36.71875 74.21875 \r\nL 36.71875 5.171875 \r\nL 49.421875 5.171875 \r\nL 49.421875 0 \r\nz\r\n\" id=\"DejaVuSerif-49\"/>\r\n      </defs>\r\n      <g transform=\"translate(461.938778 347.958438)scale(0.1 -0.1)\">\r\n       <use xlink:href=\"#DejaVuSerif-49\"/>\r\n       <use x=\"63.623047\" xlink:href=\"#DejaVuSerif-46\"/>\r\n       <use x=\"95.410156\" xlink:href=\"#DejaVuSerif-48\"/>\r\n      </g>\r\n     </g>\r\n    </g>\r\n    <g id=\"text_7\">\r\n     <!-- $f_{1}$ -->\r\n     <defs>\r\n      <path d=\"M 47.796875 75.984375 \r\nL 46.390625 68.5 \r\nL 37.796875 68.5 \r\nQ 32.90625 68.5 30.6875 66.578125 \r\nQ 28.46875 64.65625 27.390625 59.515625 \r\nL 26.421875 54.6875 \r\nL 41.21875 54.6875 \r\nL 39.890625 47.703125 \r\nL 25.09375 47.703125 \r\nL 15.828125 0 \r\nL 6.78125 0 \r\nL 16.109375 47.703125 \r\nL 7.515625 47.703125 \r\nL 8.796875 54.6875 \r\nL 17.390625 54.6875 \r\nL 18.109375 58.5 \r\nQ 19.96875 68.171875 24.625 72.078125 \r\nQ 29.296875 75.984375 39.3125 75.984375 \r\nz\r\n\" id=\"DejaVuSans-Oblique-102\"/>\r\n      <path d=\"M 12.40625 8.296875 \r\nL 28.515625 8.296875 \r\nL 28.515625 63.921875 \r\nL 10.984375 60.40625 \r\nL 10.984375 69.390625 \r\nL 28.421875 72.90625 \r\nL 38.28125 72.90625 \r\nL 38.28125 8.296875 \r\nL 54.390625 8.296875 \r\nL 54.390625 0 \r\nL 12.40625 0 \r\nz\r\n\" id=\"DejaVuSans-49\"/>\r\n     </defs>\r\n     <g transform=\"translate(262.83125 361.636563)scale(0.1 -0.1)\">\r\n      <use transform=\"translate(0 0.015625)\" xlink:href=\"#DejaVuSans-Oblique-102\"/>\r\n      <use transform=\"translate(35.205078 -16.390625)scale(0.7)\" xlink:href=\"#DejaVuSans-49\"/>\r\n     </g>\r\n    </g>\r\n   </g>\r\n   <g id=\"matplotlib.axis_2\">\r\n    <g id=\"ytick_1\">\r\n     <g id=\"line2d_7\">\r\n      <defs>\r\n       <path d=\"M 0 0 \r\nL -3.5 0 \r\n\" id=\"m869685b907\" style=\"stroke:#000000;stroke-width:0.8;\"/>\r\n      </defs>\r\n      <g>\r\n       <use style=\"stroke:#000000;stroke-width:0.8;\" x=\"43.78125\" xlink:href=\"#m869685b907\" y=\"321.358442\"/>\r\n      </g>\r\n     </g>\r\n     <g id=\"text_8\">\r\n      <!-- 0.0 -->\r\n      <g transform=\"translate(20.878125 325.15766)scale(0.1 -0.1)\">\r\n       <use xlink:href=\"#DejaVuSerif-48\"/>\r\n       <use x=\"63.623047\" xlink:href=\"#DejaVuSerif-46\"/>\r\n       <use x=\"95.410156\" xlink:href=\"#DejaVuSerif-48\"/>\r\n      </g>\r\n     </g>\r\n    </g>\r\n    <g id=\"ytick_2\">\r\n     <g id=\"line2d_8\">\r\n      <g>\r\n       <use style=\"stroke:#000000;stroke-width:0.8;\" x=\"43.78125\" xlink:href=\"#m869685b907\" y=\"279\"/>\r\n      </g>\r\n     </g>\r\n     <g id=\"text_9\">\r\n      <!-- 0.2 -->\r\n      <g transform=\"translate(20.878125 282.799219)scale(0.1 -0.1)\">\r\n       <use xlink:href=\"#DejaVuSerif-48\"/>\r\n       <use x=\"63.623047\" xlink:href=\"#DejaVuSerif-46\"/>\r\n       <use x=\"95.410156\" xlink:href=\"#DejaVuSerif-50\"/>\r\n      </g>\r\n     </g>\r\n    </g>\r\n    <g id=\"ytick_3\">\r\n     <g id=\"line2d_9\">\r\n      <g>\r\n       <use style=\"stroke:#000000;stroke-width:0.8;\" x=\"43.78125\" xlink:href=\"#m869685b907\" y=\"236.641558\"/>\r\n      </g>\r\n     </g>\r\n     <g id=\"text_10\">\r\n      <!-- 0.4 -->\r\n      <g transform=\"translate(20.878125 240.440777)scale(0.1 -0.1)\">\r\n       <use xlink:href=\"#DejaVuSerif-48\"/>\r\n       <use x=\"63.623047\" xlink:href=\"#DejaVuSerif-46\"/>\r\n       <use x=\"95.410156\" xlink:href=\"#DejaVuSerif-52\"/>\r\n      </g>\r\n     </g>\r\n    </g>\r\n    <g id=\"ytick_4\">\r\n     <g id=\"line2d_10\">\r\n      <g>\r\n       <use style=\"stroke:#000000;stroke-width:0.8;\" x=\"43.78125\" xlink:href=\"#m869685b907\" y=\"194.283117\"/>\r\n      </g>\r\n     </g>\r\n     <g id=\"text_11\">\r\n      <!-- 0.6 -->\r\n      <g transform=\"translate(20.878125 198.082336)scale(0.1 -0.1)\">\r\n       <use xlink:href=\"#DejaVuSerif-48\"/>\r\n       <use x=\"63.623047\" xlink:href=\"#DejaVuSerif-46\"/>\r\n       <use x=\"95.410156\" xlink:href=\"#DejaVuSerif-54\"/>\r\n      </g>\r\n     </g>\r\n    </g>\r\n    <g id=\"ytick_5\">\r\n     <g id=\"line2d_11\">\r\n      <g>\r\n       <use style=\"stroke:#000000;stroke-width:0.8;\" x=\"43.78125\" xlink:href=\"#m869685b907\" y=\"151.924675\"/>\r\n      </g>\r\n     </g>\r\n     <g id=\"text_12\">\r\n      <!-- 0.8 -->\r\n      <g transform=\"translate(20.878125 155.723894)scale(0.1 -0.1)\">\r\n       <use xlink:href=\"#DejaVuSerif-48\"/>\r\n       <use x=\"63.623047\" xlink:href=\"#DejaVuSerif-46\"/>\r\n       <use x=\"95.410156\" xlink:href=\"#DejaVuSerif-56\"/>\r\n      </g>\r\n     </g>\r\n    </g>\r\n    <g id=\"ytick_6\">\r\n     <g id=\"line2d_12\">\r\n      <g>\r\n       <use style=\"stroke:#000000;stroke-width:0.8;\" x=\"43.78125\" xlink:href=\"#m869685b907\" y=\"109.566234\"/>\r\n      </g>\r\n     </g>\r\n     <g id=\"text_13\">\r\n      <!-- 1.0 -->\r\n      <g transform=\"translate(20.878125 113.365453)scale(0.1 -0.1)\">\r\n       <use xlink:href=\"#DejaVuSerif-49\"/>\r\n       <use x=\"63.623047\" xlink:href=\"#DejaVuSerif-46\"/>\r\n       <use x=\"95.410156\" xlink:href=\"#DejaVuSerif-48\"/>\r\n      </g>\r\n     </g>\r\n    </g>\r\n    <g id=\"ytick_7\">\r\n     <g id=\"line2d_13\">\r\n      <g>\r\n       <use style=\"stroke:#000000;stroke-width:0.8;\" x=\"43.78125\" xlink:href=\"#m869685b907\" y=\"67.207792\"/>\r\n      </g>\r\n     </g>\r\n     <g id=\"text_14\">\r\n      <!-- 1.2 -->\r\n      <g transform=\"translate(20.878125 71.007011)scale(0.1 -0.1)\">\r\n       <use xlink:href=\"#DejaVuSerif-49\"/>\r\n       <use x=\"63.623047\" xlink:href=\"#DejaVuSerif-46\"/>\r\n       <use x=\"95.410156\" xlink:href=\"#DejaVuSerif-50\"/>\r\n      </g>\r\n     </g>\r\n    </g>\r\n    <g id=\"ytick_8\">\r\n     <g id=\"line2d_14\">\r\n      <g>\r\n       <use style=\"stroke:#000000;stroke-width:0.8;\" x=\"43.78125\" xlink:href=\"#m869685b907\" y=\"24.849351\"/>\r\n      </g>\r\n     </g>\r\n     <g id=\"text_15\">\r\n      <!-- 1.4 -->\r\n      <g transform=\"translate(20.878125 28.648569)scale(0.1 -0.1)\">\r\n       <use xlink:href=\"#DejaVuSerif-49\"/>\r\n       <use x=\"63.623047\" xlink:href=\"#DejaVuSerif-46\"/>\r\n       <use x=\"95.410156\" xlink:href=\"#DejaVuSerif-52\"/>\r\n      </g>\r\n     </g>\r\n    </g>\r\n    <g id=\"text_16\">\r\n     <!-- $f_{2}$ -->\r\n     <defs>\r\n      <path d=\"M 19.1875 8.296875 \r\nL 53.609375 8.296875 \r\nL 53.609375 0 \r\nL 7.328125 0 \r\nL 7.328125 8.296875 \r\nQ 12.9375 14.109375 22.625 23.890625 \r\nQ 32.328125 33.6875 34.8125 36.53125 \r\nQ 39.546875 41.84375 41.421875 45.53125 \r\nQ 43.3125 49.21875 43.3125 52.78125 \r\nQ 43.3125 58.59375 39.234375 62.25 \r\nQ 35.15625 65.921875 28.609375 65.921875 \r\nQ 23.96875 65.921875 18.8125 64.3125 \r\nQ 13.671875 62.703125 7.8125 59.421875 \r\nL 7.8125 69.390625 \r\nQ 13.765625 71.78125 18.9375 73 \r\nQ 24.125 74.21875 28.421875 74.21875 \r\nQ 39.75 74.21875 46.484375 68.546875 \r\nQ 53.21875 62.890625 53.21875 53.421875 \r\nQ 53.21875 48.921875 51.53125 44.890625 \r\nQ 49.859375 40.875 45.40625 35.40625 \r\nQ 44.1875 33.984375 37.640625 27.21875 \r\nQ 31.109375 20.453125 19.1875 8.296875 \r\nz\r\n\" id=\"DejaVuSans-50\"/>\r\n     </defs>\r\n     <g transform=\"translate(14.798438 174.43)rotate(-90)scale(0.1 -0.1)\">\r\n      <use transform=\"translate(0 0.015625)\" xlink:href=\"#DejaVuSans-Oblique-102\"/>\r\n      <use transform=\"translate(35.205078 -16.390625)scale(0.7)\" xlink:href=\"#DejaVuSans-50\"/>\r\n     </g>\r\n    </g>\r\n   </g>\r\n   <g id=\"patch_3\">\r\n    <path d=\"M 43.78125 333.36 \r\nL 43.78125 7.2 \r\n\" style=\"fill:none;stroke:#000000;stroke-linecap:square;stroke-linejoin:miter;stroke-width:0.8;\"/>\r\n   </g>\r\n   <g id=\"patch_4\">\r\n    <path d=\"M 490.18125 333.36 \r\nL 490.18125 7.2 \r\n\" style=\"fill:none;stroke:#000000;stroke-linecap:square;stroke-linejoin:miter;stroke-width:0.8;\"/>\r\n   </g>\r\n   <g id=\"patch_5\">\r\n    <path d=\"M 43.78125 333.36 \r\nL 490.18125 333.36 \r\n\" style=\"fill:none;stroke:#000000;stroke-linecap:square;stroke-linejoin:miter;stroke-width:0.8;\"/>\r\n   </g>\r\n   <g id=\"patch_6\">\r\n    <path d=\"M 43.78125 7.2 \r\nL 490.18125 7.2 \r\n\" style=\"fill:none;stroke:#000000;stroke-linecap:square;stroke-linejoin:miter;stroke-width:0.8;\"/>\r\n   </g>\r\n  </g>\r\n </g>\r\n <defs>\r\n  <clipPath id=\"p41a0b1f3b9\">\r\n   <rect height=\"326.16\" width=\"446.4\" x=\"43.78125\" y=\"7.2\"/>\r\n  </clipPath>\r\n </defs>\r\n</svg>\r\n",
            "image/png": "[encoded data removed]"
          },
          "metadata": {
            "needs_background": "light"
          }
        }
      ]
    },
    {
      "cell_type": "markdown",
      "metadata": {
        "colab_type": "text",
        "id": "93Y9R84yri4k"
      },
      "source": [
        "## For git (Can't be use yet)\n",
        "\n",
        "file > save a copy in Github"
      ]
    },
    {
      "cell_type": "code",
      "metadata": {
        "colab_type": "code",
        "id": "g830FMTXpZHR",
        "colab": {}
      },
      "source": [
        "#!git init\n",
        "\n",
        "#!git config --global user.name “relfarizi”\n",
        "\n",
        "#!git remote add origin https://github.com/relfarizi/Final_Project.git\n",
        "\n",
        "#!git add .\n",
        "\n",
        "#!git commit -m \"Probability Activity\"\n",
        "\n",
        "#!git push\n",
        "\n",
        "#!git status"
      ],
      "execution_count": 0,
      "outputs": []
    },
    {
      "cell_type": "markdown",
      "metadata": {
        "id": "eko3JgJ_v378",
        "colab_type": "text"
      },
      "source": [
        "### lampau"
      ]
    },
    {
      "cell_type": "code",
      "metadata": {
        "id": "IWFLWPYuv378",
        "colab_type": "code",
        "colab": {}
      },
      "source": [
        "subset_row = []\n",
        "sum_of_subset = 10\n",
        "\n",
        "for i in range(sum_of_subset):\n",
        "    random = rd.randint(0,len(df_mol))\n",
        "    while random in subset_row:\n",
        "        random = rd.randint(0,len(df_mol))\n",
        "    subset_row.append(random)\n",
        "    \n",
        "print(subset_row)\n",
        "calon_individu = df_mol.iloc[subset_row,:].values.tolist()\n",
        "calon_individu\n",
        "\n",
        "individu(calon_individu)"
      ],
      "execution_count": 0,
      "outputs": []
    },
    {
      "cell_type": "code",
      "metadata": {
        "id": "_i899fUEv37-",
        "colab_type": "code",
        "colab": {}
      },
      "source": [
        "# Inisialisasi Individu\n",
        "\n",
        "def initialization_individu() :\n",
        "    for i in range(sum_of_subset):\n",
        "        random = rd.randint(0,len(df_mol))\n",
        "        while random in subset_row:\n",
        "            random = rd.randint(0,len(df_mol))\n",
        "        subset_row.append(random)\n",
        "#subset_row = rd.sample(df_mol.values,10)\n",
        "df\n",
        "list_subset = []\n",
        "for i in (df_mol).index :\n",
        "    if i in subset_row:\n",
        "        is_subset = 1\n",
        "    else :\n",
        "        is_subset = 0\n",
        "    list_subset.append(is_subset)\n",
        "print(list_subset)"
      ],
      "execution_count": 0,
      "outputs": []
    }
  ],
  "metadata": {
    "colab": {
      "name": "Final_Project.ipynb",
      "provenance": [],
      "private_outputs": true
    },
    "kernelspec": {
      "display_name": "Python 3",
      "language": "python",
      "name": "python3"
    },
    "language_info": {
      "codemirror_mode": {
        "name": "ipython",
        "version": 3
      },
      "file_extension": ".py",
      "mimetype": "text/x-python",
      "name": "python",
      "nbconvert_exporter": "python",
      "pygments_lexer": "ipython3",
      "version": "3.7.4-final"
    }
  },
  "nbformat": 4,
  "nbformat_minor": 0
}