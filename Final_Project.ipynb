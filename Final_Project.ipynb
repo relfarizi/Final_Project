{
  "nbformat": 4,
  "nbformat_minor": 0,
  "metadata": {
    "colab": {
      "name": "Final Project.ipynb",
      "provenance": []
    },
    "kernelspec": {
      "name": "python3",
      "display_name": "Python 3"
    }
  },
  "cells": [
    {
      "cell_type": "markdown",
      "metadata": {
        "id": "LTqadf5GKMCw",
        "colab_type": "text"
      },
      "source": [
        "## Import Library"
      ]
    }
  ]
}