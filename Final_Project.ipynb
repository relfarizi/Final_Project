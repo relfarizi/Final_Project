{
 "cells": [
  {
   "cell_type": "markdown",
   "metadata": {
    "colab_type": "text",
    "id": "LTqadf5GKMCw"
   },
   "source": [
    "## Import Library"
   ]
  },
  {
   "cell_type": "code",
   "execution_count": 1,
   "metadata": {
    "colab": {},
    "colab_type": "code",
    "id": "SIw0TvdNcFQY"
   },
   "outputs": [],
   "source": [
    "# Install rdkit\n",
    "\n",
    "def install_rdkit():\n",
    "  !wget -c https://repo.continuum.io/miniconda/Miniconda3-latest-Linux-x86_64.sh\n",
    "  !chmod +x Miniconda3-latest-Linux-x86_64.sh\n",
    "  !time bash ./Miniconda3-latest-Linux-x86_64.sh -b -f -p /usr/local\n",
    "  !time conda install -q -y -c conda-forge rdkit\n",
    "\n",
    "# install_rdkit()"
   ]
  },
  {
   "cell_type": "code",
   "execution_count": 2,
   "metadata": {
    "colab": {},
    "colab_type": "code",
    "id": "IePXvtoVkn3q"
   },
   "outputs": [],
   "source": [
    "# Data\n",
    "\n",
    "#from google.colab import files\n",
    "import pandas as pd\n",
    "import numpy as np\n",
    "import regex as re\n",
    "\n",
    "# rdkit\n",
    "import sys\n",
    "#sys.path.append('/usr/local/lib/python3.7/site-packages/')\n",
    "from rdkit import Chem\n",
    "from rdkit.Chem import DataStructs\n",
    "\n",
    "# random\n",
    "import random as rd"
   ]
  },
  {
   "cell_type": "markdown",
   "metadata": {
    "colab_type": "text",
    "id": "HMV8zmkwk9_z"
   },
   "source": [
    "## Data"
   ]
  },
  {
   "cell_type": "markdown",
   "metadata": {
    "colab_type": "text",
    "id": "MpX9zUAt82Tr"
   },
   "source": [
    "### Pre-Processing Data"
   ]
  },
  {
   "cell_type": "code",
   "execution_count": 3,
   "metadata": {
    "colab": {},
    "colab_type": "code",
    "id": "OzqDxFp0kCaT",
    "tags": []
   },
   "outputs": [],
   "source": [
    "def preprocessing_data(link_of_data) :\n",
    "  dataset = pd.read_csv(link_of_data,sep=\";\")\n",
    "  dataset = dataset.iloc[:,[0,7,9,10,11]]\n",
    "\n",
    "  sameMol = []\n",
    "  sameMolCount = {}\n",
    "  dataset_handle = []\n",
    "\n",
    "  for x in dataset.values:\n",
    "    mol_name = x[0]\n",
    "    if mol_name in sameMol:\n",
    "      print(\"uye\")\n",
    "      x[0] = mol_name+\"(\"+str(sameMolCount[mol_name])+\")\"\n",
    "      sameMolCount[mol_name] += 1\n",
    "    else:\n",
    "      sameMol.append(x[0])\n",
    "      sameMolCount[mol_name] = 1\n",
    "    dataset_handle.append(x)\n",
    "\n",
    "  #print(dataset_handle)\n",
    "    \n",
    "  list_of_column_dataframe = dataset.columns\n",
    "  list_of_dataset_after = []\n",
    "\n",
    "  list_of_dataset_before = np.array(dataset_handle)\n",
    "  \n",
    "  for data in list_of_dataset_before :\n",
    "    if data[2] == \"'='\" :\n",
    "      if data[4] == \"nM\" :\n",
    "        if data[3] < 10000 :\n",
    "          data[3] = data[3]/1000\n",
    "          list_of_dataset_after.append(data)\n",
    "  \n",
    "  dataframe_of_dataset_after = pd.DataFrame(list_of_dataset_after)\n",
    "  dataframe_of_dataset_after.columns = list_of_column_dataframe\n",
    "  name_of_file_download = \"Dataset_After.csv\"\n",
    "  dataframe_of_dataset_after.to_csv(name_of_file_download)\n",
    "  #files.download(name_of_file_download)\n",
    "  return dataframe_of_dataset_after\n",
    "\n",
    "\n"
   ]
  },
  {
   "cell_type": "code",
   "execution_count": 4,
   "metadata": {
    "colab": {},
    "colab_type": "code",
    "id": "W47O-_Df2HU-",
    "tags": []
   },
   "outputs": [],
   "source": [
    "#preprocessing_data(\"https://raw.githubusercontent.com/relfarizi/Final_Project/master/Data/Dataset_Before.csv\")"
   ]
  },
  {
   "cell_type": "markdown",
   "metadata": {
    "colab_type": "text",
    "id": "n_V57Wl-9BWQ"
   },
   "source": [
    "### Data After Pre-Processing"
   ]
  },
  {
   "cell_type": "code",
   "execution_count": 5,
   "metadata": {
    "colab": {},
    "colab_type": "code",
    "id": "RA5IvTTn2pNb",
    "scrolled": true
   },
   "outputs": [
    {
     "output_type": "execute_result",
     "data": {
      "text/plain": "  Molecule ChEMBL ID                                             Smiles  \\\n0      CHEMBL2263120  CC1(C)CC[C@]2(C(=O)OCCCCCCCCCCC(=O)O)CC[C@]3(C...   \n1      CHEMBL2263121  CC1(C)CC[C@]2(C(=O)NC(Cc3ccccc3)C(=O)O)CC[C@]3...   \n2          CHEMBL168  CC1(C)CC[C@]2(C(=O)O)CC[C@]3(C)C(=CC[C@@H]4[C@...   \n3       CHEMBL508831  CC1(C)CC[C@]2(C(=O)O)CC[C@]3(C)C(=CC[C@@H]4[C@...   \n4       CHEMBL506556  CC1(C)CC[C@]2(C(=O)O)CC[C@]3(C)C(=CC[C@@H]4[C@...   \n\n  Standard Relation  Standard Value Standard Units  \n0               '='          0.7200             nM  \n1               '='          3.3100             nM  \n2               '='          5.0501             nM  \n3               '='          0.5400             nM  \n4               '='          0.6200             nM  ",
      "text/html": "<div>\n<style scoped>\n    .dataframe tbody tr th:only-of-type {\n        vertical-align: middle;\n    }\n\n    .dataframe tbody tr th {\n        vertical-align: top;\n    }\n\n    .dataframe thead th {\n        text-align: right;\n    }\n</style>\n<table border=\"1\" class=\"dataframe\">\n  <thead>\n    <tr style=\"text-align: right;\">\n      <th></th>\n      <th>Molecule ChEMBL ID</th>\n      <th>Smiles</th>\n      <th>Standard Relation</th>\n      <th>Standard Value</th>\n      <th>Standard Units</th>\n    </tr>\n  </thead>\n  <tbody>\n    <tr>\n      <th>0</th>\n      <td>CHEMBL2263120</td>\n      <td>CC1(C)CC[C@]2(C(=O)OCCCCCCCCCCC(=O)O)CC[C@]3(C...</td>\n      <td>'='</td>\n      <td>0.7200</td>\n      <td>nM</td>\n    </tr>\n    <tr>\n      <th>1</th>\n      <td>CHEMBL2263121</td>\n      <td>CC1(C)CC[C@]2(C(=O)NC(Cc3ccccc3)C(=O)O)CC[C@]3...</td>\n      <td>'='</td>\n      <td>3.3100</td>\n      <td>nM</td>\n    </tr>\n    <tr>\n      <th>2</th>\n      <td>CHEMBL168</td>\n      <td>CC1(C)CC[C@]2(C(=O)O)CC[C@]3(C)C(=CC[C@@H]4[C@...</td>\n      <td>'='</td>\n      <td>5.0501</td>\n      <td>nM</td>\n    </tr>\n    <tr>\n      <th>3</th>\n      <td>CHEMBL508831</td>\n      <td>CC1(C)CC[C@]2(C(=O)O)CC[C@]3(C)C(=CC[C@@H]4[C@...</td>\n      <td>'='</td>\n      <td>0.5400</td>\n      <td>nM</td>\n    </tr>\n    <tr>\n      <th>4</th>\n      <td>CHEMBL506556</td>\n      <td>CC1(C)CC[C@]2(C(=O)O)CC[C@]3(C)C(=CC[C@@H]4[C@...</td>\n      <td>'='</td>\n      <td>0.6200</td>\n      <td>nM</td>\n    </tr>\n  </tbody>\n</table>\n</div>"
     },
     "metadata": {},
     "execution_count": 5
    }
   ],
   "source": [
    "# for colab\n",
    "\n",
    "#dataset = pd.read_csv('https://raw.githubusercontent.com/relfarizi/Final_Project/master/Data/Dataset_After.csv', index_col= 0)\n",
    "\n",
    "\n",
    "dataset = pd.read_csv('Dataset_After.csv',index_col = 0)\n",
    "dataset.head(5)"
   ]
  },
  {
   "cell_type": "code",
   "execution_count": 6,
   "metadata": {
    "colab": {},
    "colab_type": "code",
    "id": "hmjrEPcEgMFh",
    "tags": []
   },
   "outputs": [
    {
     "output_type": "stream",
     "name": "stdout",
     "text": "[]\n"
    },
    {
     "output_type": "execute_result",
     "data": {
      "text/plain": "Molecule ChEMBL ID                              CHEMBL2424703\nSmiles                COc1ccccc1N1N=C2COC(C)(C)C=C2C(C#N)=C1N\nStandard Relation                                         '='\nStandard Value                                            6.2\nStandard Units                                             nM\nName: 258, dtype: object"
     },
     "metadata": {},
     "execution_count": 6
    }
   ],
   "source": [
    "#dataset = dataset.drop_duplicates(keep=False,inplace=True)\n",
    "dataset = dataset.dropna()\n",
    "mol_smiles = dataset.iloc[:,1].values.tolist()\n",
    "row_drop = []\n",
    "for i in range(len(mol_smiles)) :\n",
    "  #print(mol_smiles[i])\n",
    "  if len(str(mol_smiles[i])) < 5 :\n",
    "    row_drop.append(i)\n",
    "print(row_drop)\n",
    "dataset.drop(row_drop)\n",
    "dataset.iloc[258,:]"
   ]
  },
  {
   "cell_type": "markdown",
   "metadata": {
    "colab_type": "text",
    "id": "jr6v-7v0j-JM"
   },
   "source": [
    "## Probability Activity"
   ]
  },
  {
   "cell_type": "markdown",
   "metadata": {
    "colab_type": "text",
    "id": "Ppj_X-CZ720j"
   },
   "source": [
    "### 1. Molecule Activity\n",
    "Untuk mencari jumlah dari nilai aktivitas masing2 molekul\n",
    "\n",
    "variabel yang digunakan :\n",
    "* mol_name = list nama molekul\n",
    "* mol_smile = list smile molekul\n",
    "* mol_act = list berisi nilai IC50\n",
    "* act = nilai aktivitas tiap molekul\n",
    "* sum_act = Nilai jumlah dari a"
   ]
  },
  {
   "cell_type": "code",
   "execution_count": 7,
   "metadata": {
    "colab": {},
    "colab_type": "code",
    "id": "cIMuhWGr7zlj",
    "tags": []
   },
   "outputs": [
    {
     "output_type": "stream",
     "name": "stdout",
     "text": "527.8597010596824\n"
    }
   ],
   "source": [
    "mol_name = dataset.iloc[:,0].values.tolist()\n",
    "mol_smiles = dataset.iloc[:,1].values.tolist()\n",
    "mol_act = dataset.iloc[:,3].values.tolist()\n",
    "sum_act = 0\n",
    "for molekul in mol_act :\n",
    "  act = np.exp(-molekul)\n",
    "  sum_act  += act\n",
    "print(sum_act)"
   ]
  },
  {
   "cell_type": "markdown",
   "metadata": {
    "colab_type": "text",
    "id": "iYqPm_bI8VZ1"
   },
   "source": [
    "### 2. Probability Succes\n",
    "\n",
    "\n",
    "Mencari nilai probabilitas kesuksesan untuk setiap molekul\n",
    "\n",
    "Variabel yang digunakan :\n",
    "* n = banyaknya molekul\n",
    "* mol_prob = list probabilitas setiap molekul\n",
    "* act = nilai aktivitas molekul\n",
    "* prob = nilai probabilitas kesuksesan molekul\n",
    "* sum_pro = nilai jumlah dari Probabiliras Kesuksesan\n",
    "\n",
    "\n"
   ]
  },
  {
   "cell_type": "code",
   "execution_count": 9,
   "metadata": {
    "colab": {},
    "colab_type": "code",
    "id": "J9ISKgMpljNb",
    "tags": []
   },
   "outputs": [
    {
     "output_type": "stream",
     "name": "stdout",
     "text": "1.0000005199999988\n"
    }
   ],
   "source": [
    "n = len(mol_act)\n",
    "#p_avg = 1/n\n",
    "mol_prob = []\n",
    "\n",
    "# act = probabilitas kesuksesan\n",
    "\n",
    "sum_pro = 0\n",
    "for molekul in mol_act :\n",
    "  #act = (molekul[1]*p_avg*n)/sum_act\n",
    "  act = np.exp(-molekul)\n",
    "  prob = act/sum_act\n",
    "  prob = round(prob,8)\n",
    "  mol_prob.append(prob)\n",
    "  sum_pro += prob\n",
    "print(sum_pro)\n"
   ]
  },
  {
   "cell_type": "markdown",
   "metadata": {
    "colab_type": "text",
    "id": "NH1drdfpv36v"
   },
   "source": [
    "## Cost (Trial)\n",
    "\n",
    "Menentukan cost dari setiap molekul. cell ini baru coba di-generate hanya dengan mengalikan dengan sum_of_cost dengan probability kesuksesannya. sehingga nilai probabilitas terbesar diasumsikan memiliki cost yang besar pula"
   ]
  },
  {
   "cell_type": "code",
   "execution_count": 10,
   "metadata": {
    "colab": {},
    "colab_type": "code",
    "id": "l-3pPCk9v36x",
    "tags": []
   },
   "outputs": [
    {
     "output_type": "stream",
     "name": "stdout",
     "text": "500000.2599999993\n"
    }
   ],
   "source": [
    "sum_of_cost = 500000\n",
    "mol_cost = []\n",
    "sum_cost = 0\n",
    "for mol in mol_prob:\n",
    "    cost = mol*sum_of_cost\n",
    "    mol_cost.append(round(cost,4))\n",
    "    sum_cost += cost\n",
    "print(sum_cost)"
   ]
  },
  {
   "cell_type": "markdown",
   "metadata": {
    "colab_type": "text",
    "id": "3enxBzZ33Hn1"
   },
   "source": [
    "## Fingerprint\n",
    "\n",
    "berisi bit biner dari sifat yang menggambarkan suatu molekul (baca lagi)\n",
    "\n",
    "Variabel yang digunakan :\n",
    "* fingerprint suatu molekul (dalam bit biner)\n",
    "* mol_fp = list dari fingerprint setiap molekul\n"
   ]
  },
  {
   "cell_type": "code",
   "execution_count": 11,
   "metadata": {
    "colab": {},
    "colab_type": "code",
    "id": "w9iB6gWO3PAo",
    "tags": []
   },
   "outputs": [
    {
     "output_type": "stream",
     "name": "stdout",
     "text": "COc1ccccc1N1N=C2COC(C)(C)C=C2C(C#N)=C1N\n[<rdkit.DataStructs.cDataStructs.ExplicitBitVect object at 0x000002620843CD00>, <rdkit.DataStructs.cDataStructs.ExplicitBitVect object at 0x000002620843CA80>, <rdkit.DataStructs.cDataStructs.ExplicitBitVect object at 0x000002620843CD50>, <rdkit.DataStructs.cDataStructs.ExplicitBitVect object at 0x000002620843CDA0>, <rdkit.DataStructs.cDataStructs.ExplicitBitVect object at 0x000002620843C260>, <rdkit.DataStructs.cDataStructs.ExplicitBitVect object at 0x000002620843CDF0>, <rdkit.DataStructs.cDataStructs.ExplicitBitVect object at 0x000002620843CE40>, <rdkit.DataStructs.cDataStructs.ExplicitBitVect object at 0x000002620843CE90>, <rdkit.DataStructs.cDataStructs.ExplicitBitVect object at 0x000002620843CEE0>, <rdkit.DataStructs.cDataStructs.ExplicitBitVect object at 0x000002620843CF30>, <rdkit.DataStructs.cDataStructs.ExplicitBitVect object at 0x000002620843CF80>, <rdkit.DataStructs.cDataStructs.ExplicitBitVect object at 0x000002620845A030>, <rdkit.DataStructs.cDataStructs.ExplicitBitVect object at 0x000002620845A080>, <rdkit.DataStructs.cDataStructs.ExplicitBitVect object at 0x000002620845A0D0>, <rdkit.DataStructs.cDataStructs.ExplicitBitVect object at 0x000002620845A120>, <rdkit.DataStructs.cDataStructs.ExplicitBitVect object at 0x000002620845A1C0>, <rdkit.DataStructs.cDataStructs.ExplicitBitVect object at 0x000002620845A210>, <rdkit.DataStructs.cDataStructs.ExplicitBitVect object at 0x000002620845A170>, <rdkit.DataStructs.cDataStructs.ExplicitBitVect object at 0x000002620845A260>, <rdkit.DataStructs.cDataStructs.ExplicitBitVect object at 0x000002620845A2B0>, <rdkit.DataStructs.cDataStructs.ExplicitBitVect object at 0x000002620845A300>, <rdkit.DataStructs.cDataStructs.ExplicitBitVect object at 0x000002620845A350>, <rdkit.DataStructs.cDataStructs.ExplicitBitVect object at 0x000002620845A3A0>, <rdkit.DataStructs.cDataStructs.ExplicitBitVect object at 0x000002620845A3F0>, <rdkit.DataStructs.cDataStructs.ExplicitBitVect object at 0x000002620845A440>, <rdkit.DataStructs.cDataStructs.ExplicitBitVect object at 0x000002620845A490>, <rdkit.DataStructs.cDataStructs.ExplicitBitVect object at 0x000002620845A4E0>, <rdkit.DataStructs.cDataStructs.ExplicitBitVect object at 0x000002620845A530>, <rdkit.DataStructs.cDataStructs.ExplicitBitVect object at 0x000002620845A580>, <rdkit.DataStructs.cDataStructs.ExplicitBitVect object at 0x000002620845A5D0>, <rdkit.DataStructs.cDataStructs.ExplicitBitVect object at 0x000002620845A620>, <rdkit.DataStructs.cDataStructs.ExplicitBitVect object at 0x000002620845A670>, <rdkit.DataStructs.cDataStructs.ExplicitBitVect object at 0x000002620845A6C0>, <rdkit.DataStructs.cDataStructs.ExplicitBitVect object at 0x000002620845A710>, <rdkit.DataStructs.cDataStructs.ExplicitBitVect object at 0x000002620845A760>, <rdkit.DataStructs.cDataStructs.ExplicitBitVect object at 0x000002620845A7B0>, <rdkit.DataStructs.cDataStructs.ExplicitBitVect object at 0x000002620845A800>, <rdkit.DataStructs.cDataStructs.ExplicitBitVect object at 0x000002620845A850>, <rdkit.DataStructs.cDataStructs.ExplicitBitVect object at 0x000002620845A8A0>, <rdkit.DataStructs.cDataStructs.ExplicitBitVect object at 0x000002620845A8F0>, <rdkit.DataStructs.cDataStructs.ExplicitBitVect object at 0x000002620845A940>, <rdkit.DataStructs.cDataStructs.ExplicitBitVect object at 0x000002620845A990>, <rdkit.DataStructs.cDataStructs.ExplicitBitVect object at 0x000002620845A9E0>, <rdkit.DataStructs.cDataStructs.ExplicitBitVect object at 0x000002620845AA30>, <rdkit.DataStructs.cDataStructs.ExplicitBitVect object at 0x000002620845AA80>, <rdkit.DataStructs.cDataStructs.ExplicitBitVect object at 0x000002620845AAD0>, <rdkit.DataStructs.cDataStructs.ExplicitBitVect object at 0x000002620845AB20>, <rdkit.DataStructs.cDataStructs.ExplicitBitVect object at 0x000002620845AB70>, <rdkit.DataStructs.cDataStructs.ExplicitBitVect object at 0x000002620845ABC0>, <rdkit.DataStructs.cDataStructs.ExplicitBitVect object at 0x000002620845AC10>, <rdkit.DataStructs.cDataStructs.ExplicitBitVect object at 0x000002620845AC60>, <rdkit.DataStructs.cDataStructs.ExplicitBitVect object at 0x000002620845ACB0>, <rdkit.DataStructs.cDataStructs.ExplicitBitVect object at 0x000002620845AD00>, <rdkit.DataStructs.cDataStructs.ExplicitBitVect object at 0x000002620845AD50>, <rdkit.DataStructs.cDataStructs.ExplicitBitVect object at 0x000002620845ADA0>, <rdkit.DataStructs.cDataStructs.ExplicitBitVect object at 0x000002620845ADF0>, <rdkit.DataStructs.cDataStructs.ExplicitBitVect object at 0x000002620845AE40>, <rdkit.DataStructs.cDataStructs.ExplicitBitVect object at 0x000002620845AE90>, <rdkit.DataStructs.cDataStructs.ExplicitBitVect object at 0x000002620845AEE0>, <rdkit.DataStructs.cDataStructs.ExplicitBitVect object at 0x000002620845AF30>, <rdkit.DataStructs.cDataStructs.ExplicitBitVect object at 0x000002620845AF80>, <rdkit.DataStructs.cDataStructs.ExplicitBitVect object at 0x000002620845B030>, <rdkit.DataStructs.cDataStructs.ExplicitBitVect object at 0x000002620845B080>, <rdkit.DataStructs.cDataStructs.ExplicitBitVect object at 0x000002620845B0D0>, <rdkit.DataStructs.cDataStructs.ExplicitBitVect object at 0x000002620845B120>, <rdkit.DataStructs.cDataStructs.ExplicitBitVect object at 0x000002620845B170>, <rdkit.DataStructs.cDataStructs.ExplicitBitVect object at 0x000002620845B1C0>, <rdkit.DataStructs.cDataStructs.ExplicitBitVect object at 0x000002620845B210>, <rdkit.DataStructs.cDataStructs.ExplicitBitVect object at 0x000002620845B260>, <rdkit.DataStructs.cDataStructs.ExplicitBitVect object at 0x000002620845B2B0>, <rdkit.DataStructs.cDataStructs.ExplicitBitVect object at 0x000002620845B300>, <rdkit.DataStructs.cDataStructs.ExplicitBitVect object at 0x000002620845B350>, <rdkit.DataStructs.cDataStructs.ExplicitBitVect object at 0x000002620845B3A0>, <rdkit.DataStructs.cDataStructs.ExplicitBitVect object at 0x000002620845B3F0>, <rdkit.DataStructs.cDataStructs.ExplicitBitVect object at 0x000002620845B440>, <rdkit.DataStructs.cDataStructs.ExplicitBitVect object at 0x000002620845B490>, <rdkit.DataStructs.cDataStructs.ExplicitBitVect object at 0x000002620845B4E0>, <rdkit.DataStructs.cDataStructs.ExplicitBitVect object at 0x000002620845B530>, <rdkit.DataStructs.cDataStructs.ExplicitBitVect object at 0x000002620845B580>, <rdkit.DataStructs.cDataStructs.ExplicitBitVect object at 0x000002620845B5D0>, <rdkit.DataStructs.cDataStructs.ExplicitBitVect object at 0x000002620845B620>, <rdkit.DataStructs.cDataStructs.ExplicitBitVect object at 0x000002620845B670>, <rdkit.DataStructs.cDataStructs.ExplicitBitVect object at 0x000002620845B6C0>, <rdkit.DataStructs.cDataStructs.ExplicitBitVect object at 0x000002620845B710>, <rdkit.DataStructs.cDataStructs.ExplicitBitVect object at 0x000002620845B760>, <rdkit.DataStructs.cDataStructs.ExplicitBitVect object at 0x000002620845B7B0>, <rdkit.DataStructs.cDataStructs.ExplicitBitVect object at 0x000002620845B800>, <rdkit.DataStructs.cDataStructs.ExplicitBitVect object at 0x000002620845B850>, <rdkit.DataStructs.cDataStructs.ExplicitBitVect object at 0x000002620845B8A0>, <rdkit.DataStructs.cDataStructs.ExplicitBitVect object at 0x000002620845B8F0>, <rdkit.DataStructs.cDataStructs.ExplicitBitVect object at 0x000002620845B940>, <rdkit.DataStructs.cDataStructs.ExplicitBitVect object at 0x000002620845B990>, <rdkit.DataStructs.cDataStructs.ExplicitBitVect object at 0x000002620845B9E0>, <rdkit.DataStructs.cDataStructs.ExplicitBitVect object at 0x000002620845BA30>, <rdkit.DataStructs.cDataStructs.ExplicitBitVect object at 0x000002620845BA80>, <rdkit.DataStructs.cDataStructs.ExplicitBitVect object at 0x000002620845BAD0>, <rdkit.DataStructs.cDataStructs.ExplicitBitVect object at 0x000002620845BB20>, <rdkit.DataStructs.cDataStructs.ExplicitBitVect object at 0x000002620845BB70>, <rdkit.DataStructs.cDataStructs.ExplicitBitVect object at 0x000002620845BBC0>, <rdkit.DataStructs.cDataStructs.ExplicitBitVect object at 0x000002620845BC10>, <rdkit.DataStructs.cDataStructs.ExplicitBitVect object at 0x000002620845BC60>, <rdkit.DataStructs.cDataStructs.ExplicitBitVect object at 0x000002620845BCB0>, <rdkit.DataStructs.cDataStructs.ExplicitBitVect object at 0x000002620845BD00>, <rdkit.DataStructs.cDataStructs.ExplicitBitVect object at 0x000002620845BD50>, <rdkit.DataStructs.cDataStructs.ExplicitBitVect object at 0x000002620845BDA0>, <rdkit.DataStructs.cDataStructs.ExplicitBitVect object at 0x000002620845BDF0>, <rdkit.DataStructs.cDataStructs.ExplicitBitVect object at 0x000002620845BE40>, <rdkit.DataStructs.cDataStructs.ExplicitBitVect object at 0x000002620845BE90>, <rdkit.DataStructs.cDataStructs.ExplicitBitVect object at 0x000002620845BEE0>, <rdkit.DataStructs.cDataStructs.ExplicitBitVect object at 0x000002620845BF30>, <rdkit.DataStructs.cDataStructs.ExplicitBitVect object at 0x000002620845BF80>, <rdkit.DataStructs.cDataStructs.ExplicitBitVect object at 0x000002620844A030>, <rdkit.DataStructs.cDataStructs.ExplicitBitVect object at 0x000002620844A080>, <rdkit.DataStructs.cDataStructs.ExplicitBitVect object at 0x000002620844A0D0>, <rdkit.DataStructs.cDataStructs.ExplicitBitVect object at 0x000002620844A120>, <rdkit.DataStructs.cDataStructs.ExplicitBitVect object at 0x000002620844A170>, <rdkit.DataStructs.cDataStructs.ExplicitBitVect object at 0x000002620844A1C0>, <rdkit.DataStructs.cDataStructs.ExplicitBitVect object at 0x000002620844A210>, <rdkit.DataStructs.cDataStructs.ExplicitBitVect object at 0x000002620844A260>, <rdkit.DataStructs.cDataStructs.ExplicitBitVect object at 0x000002620844A2B0>, <rdkit.DataStructs.cDataStructs.ExplicitBitVect object at 0x000002620844A300>, <rdkit.DataStructs.cDataStructs.ExplicitBitVect object at 0x000002620844A350>, <rdkit.DataStructs.cDataStructs.ExplicitBitVect object at 0x000002620844A3A0>, <rdkit.DataStructs.cDataStructs.ExplicitBitVect object at 0x000002620844A3F0>, <rdkit.DataStructs.cDataStructs.ExplicitBitVect object at 0x000002620844A440>, <rdkit.DataStructs.cDataStructs.ExplicitBitVect object at 0x000002620844A490>, <rdkit.DataStructs.cDataStructs.ExplicitBitVect object at 0x000002620844A4E0>, <rdkit.DataStructs.cDataStructs.ExplicitBitVect object at 0x000002620844A530>, <rdkit.DataStructs.cDataStructs.ExplicitBitVect object at 0x000002620844A580>, <rdkit.DataStructs.cDataStructs.ExplicitBitVect object at 0x000002620844A5D0>, <rdkit.DataStructs.cDataStructs.ExplicitBitVect object at 0x000002620844A620>, <rdkit.DataStructs.cDataStructs.ExplicitBitVect object at 0x000002620844A670>, <rdkit.DataStructs.cDataStructs.ExplicitBitVect object at 0x000002620844A6C0>, <rdkit.DataStructs.cDataStructs.ExplicitBitVect object at 0x000002620844A710>, <rdkit.DataStructs.cDataStructs.ExplicitBitVect object at 0x000002620844A760>, <rdkit.DataStructs.cDataStructs.ExplicitBitVect object at 0x000002620844A7B0>, <rdkit.DataStructs.cDataStructs.ExplicitBitVect object at 0x000002620844A800>, <rdkit.DataStructs.cDataStructs.ExplicitBitVect object at 0x000002620844A850>, <rdkit.DataStructs.cDataStructs.ExplicitBitVect object at 0x000002620844A8A0>, <rdkit.DataStructs.cDataStructs.ExplicitBitVect object at 0x000002620844A8F0>, <rdkit.DataStructs.cDataStructs.ExplicitBitVect object at 0x000002620844A940>, <rdkit.DataStructs.cDataStructs.ExplicitBitVect object at 0x000002620844A990>, <rdkit.DataStructs.cDataStructs.ExplicitBitVect object at 0x000002620844A9E0>, <rdkit.DataStructs.cDataStructs.ExplicitBitVect object at 0x000002620844AA30>, <rdkit.DataStructs.cDataStructs.ExplicitBitVect object at 0x000002620844AA80>, <rdkit.DataStructs.cDataStructs.ExplicitBitVect object at 0x000002620844AAD0>, <rdkit.DataStructs.cDataStructs.ExplicitBitVect object at 0x000002620844AB20>, <rdkit.DataStructs.cDataStructs.ExplicitBitVect object at 0x000002620844AB70>, <rdkit.DataStructs.cDataStructs.ExplicitBitVect object at 0x000002620844ABC0>, <rdkit.DataStructs.cDataStructs.ExplicitBitVect object at 0x000002620844AC10>, <rdkit.DataStructs.cDataStructs.ExplicitBitVect object at 0x000002620844AC60>, <rdkit.DataStructs.cDataStructs.ExplicitBitVect object at 0x000002620844ACB0>, <rdkit.DataStructs.cDataStructs.ExplicitBitVect object at 0x000002620844AD00>, <rdkit.DataStructs.cDataStructs.ExplicitBitVect object at 0x000002620844AD50>, <rdkit.DataStructs.cDataStructs.ExplicitBitVect object at 0x000002620844ADA0>, <rdkit.DataStructs.cDataStructs.ExplicitBitVect object at 0x000002620844ADF0>, <rdkit.DataStructs.cDataStructs.ExplicitBitVect object at 0x000002620844AE40>, <rdkit.DataStructs.cDataStructs.ExplicitBitVect object at 0x000002620844AE90>, <rdkit.DataStructs.cDataStructs.ExplicitBitVect object at 0x000002620844AEE0>, <rdkit.DataStructs.cDataStructs.ExplicitBitVect object at 0x000002620844AF30>, <rdkit.DataStructs.cDataStructs.ExplicitBitVect object at 0x000002620844AF80>, <rdkit.DataStructs.cDataStructs.ExplicitBitVect object at 0x000002620845C030>, <rdkit.DataStructs.cDataStructs.ExplicitBitVect object at 0x000002620845C080>, <rdkit.DataStructs.cDataStructs.ExplicitBitVect object at 0x000002620845C0D0>, <rdkit.DataStructs.cDataStructs.ExplicitBitVect object at 0x000002620845C120>, <rdkit.DataStructs.cDataStructs.ExplicitBitVect object at 0x000002620845C170>, <rdkit.DataStructs.cDataStructs.ExplicitBitVect object at 0x000002620845C1C0>, <rdkit.DataStructs.cDataStructs.ExplicitBitVect object at 0x000002620845C210>, <rdkit.DataStructs.cDataStructs.ExplicitBitVect object at 0x000002620845C260>, <rdkit.DataStructs.cDataStructs.ExplicitBitVect object at 0x000002620845C2B0>, <rdkit.DataStructs.cDataStructs.ExplicitBitVect object at 0x000002620845C300>, <rdkit.DataStructs.cDataStructs.ExplicitBitVect object at 0x000002620845C350>, <rdkit.DataStructs.cDataStructs.ExplicitBitVect object at 0x000002620845C3A0>, <rdkit.DataStructs.cDataStructs.ExplicitBitVect object at 0x000002620845C3F0>, <rdkit.DataStructs.cDataStructs.ExplicitBitVect object at 0x000002620845C440>, <rdkit.DataStructs.cDataStructs.ExplicitBitVect object at 0x000002620845C490>, <rdkit.DataStructs.cDataStructs.ExplicitBitVect object at 0x000002620845C4E0>, <rdkit.DataStructs.cDataStructs.ExplicitBitVect object at 0x000002620845C530>, <rdkit.DataStructs.cDataStructs.ExplicitBitVect object at 0x000002620845C580>, <rdkit.DataStructs.cDataStructs.ExplicitBitVect object at 0x000002620845C5D0>, <rdkit.DataStructs.cDataStructs.ExplicitBitVect object at 0x000002620845C620>, <rdkit.DataStructs.cDataStructs.ExplicitBitVect object at 0x000002620845C670>, <rdkit.DataStructs.cDataStructs.ExplicitBitVect object at 0x000002620845C6C0>, <rdkit.DataStructs.cDataStructs.ExplicitBitVect object at 0x000002620845C710>, <rdkit.DataStructs.cDataStructs.ExplicitBitVect object at 0x000002620845C760>, <rdkit.DataStructs.cDataStructs.ExplicitBitVect object at 0x000002620845C7B0>, <rdkit.DataStructs.cDataStructs.ExplicitBitVect object at 0x000002620845C800>, <rdkit.DataStructs.cDataStructs.ExplicitBitVect object at 0x000002620845C850>, <rdkit.DataStructs.cDataStructs.ExplicitBitVect object at 0x000002620845C8A0>, <rdkit.DataStructs.cDataStructs.ExplicitBitVect object at 0x000002620845C8F0>, <rdkit.DataStructs.cDataStructs.ExplicitBitVect object at 0x000002620845C940>, <rdkit.DataStructs.cDataStructs.ExplicitBitVect object at 0x000002620845C990>, <rdkit.DataStructs.cDataStructs.ExplicitBitVect object at 0x000002620845C9E0>, <rdkit.DataStructs.cDataStructs.ExplicitBitVect object at 0x000002620845CA30>, <rdkit.DataStructs.cDataStructs.ExplicitBitVect object at 0x000002620845CA80>, <rdkit.DataStructs.cDataStructs.ExplicitBitVect object at 0x000002620845CAD0>, <rdkit.DataStructs.cDataStructs.ExplicitBitVect object at 0x000002620845CB20>, <rdkit.DataStructs.cDataStructs.ExplicitBitVect object at 0x000002620845CB70>, <rdkit.DataStructs.cDataStructs.ExplicitBitVect object at 0x000002620845CBC0>, <rdkit.DataStructs.cDataStructs.ExplicitBitVect object at 0x000002620845CC10>, <rdkit.DataStructs.cDataStructs.ExplicitBitVect object at 0x000002620845CC60>, <rdkit.DataStructs.cDataStructs.ExplicitBitVect object at 0x000002620845CCB0>, <rdkit.DataStructs.cDataStructs.ExplicitBitVect object at 0x000002620845CD00>, <rdkit.DataStructs.cDataStructs.ExplicitBitVect object at 0x000002620845CD50>, <rdkit.DataStructs.cDataStructs.ExplicitBitVect object at 0x000002620845CDA0>, <rdkit.DataStructs.cDataStructs.ExplicitBitVect object at 0x000002620845CDF0>, <rdkit.DataStructs.cDataStructs.ExplicitBitVect object at 0x000002620845CE40>, <rdkit.DataStructs.cDataStructs.ExplicitBitVect object at 0x000002620845CE90>, <rdkit.DataStructs.cDataStructs.ExplicitBitVect object at 0x000002620845CEE0>, <rdkit.DataStructs.cDataStructs.ExplicitBitVect object at 0x000002620845CF30>, <rdkit.DataStructs.cDataStructs.ExplicitBitVect object at 0x000002620845CF80>, <rdkit.DataStructs.cDataStructs.ExplicitBitVect object at 0x000002620845D030>, <rdkit.DataStructs.cDataStructs.ExplicitBitVect object at 0x000002620845D080>, <rdkit.DataStructs.cDataStructs.ExplicitBitVect object at 0x000002620845D0D0>, <rdkit.DataStructs.cDataStructs.ExplicitBitVect object at 0x000002620845D120>, <rdkit.DataStructs.cDataStructs.ExplicitBitVect object at 0x000002620845D170>, <rdkit.DataStructs.cDataStructs.ExplicitBitVect object at 0x000002620845D1C0>, <rdkit.DataStructs.cDataStructs.ExplicitBitVect object at 0x000002620845D210>, <rdkit.DataStructs.cDataStructs.ExplicitBitVect object at 0x000002620845D260>, <rdkit.DataStructs.cDataStructs.ExplicitBitVect object at 0x000002620845D2B0>, <rdkit.DataStructs.cDataStructs.ExplicitBitVect object at 0x000002620845D300>, <rdkit.DataStructs.cDataStructs.ExplicitBitVect object at 0x000002620845D350>, <rdkit.DataStructs.cDataStructs.ExplicitBitVect object at 0x000002620845D3A0>, <rdkit.DataStructs.cDataStructs.ExplicitBitVect object at 0x000002620845D3F0>, <rdkit.DataStructs.cDataStructs.ExplicitBitVect object at 0x000002620845D440>, <rdkit.DataStructs.cDataStructs.ExplicitBitVect object at 0x000002620845D490>, <rdkit.DataStructs.cDataStructs.ExplicitBitVect object at 0x000002620845D4E0>, <rdkit.DataStructs.cDataStructs.ExplicitBitVect object at 0x000002620845D530>, <rdkit.DataStructs.cDataStructs.ExplicitBitVect object at 0x000002620845D580>, <rdkit.DataStructs.cDataStructs.ExplicitBitVect object at 0x000002620845D5D0>, <rdkit.DataStructs.cDataStructs.ExplicitBitVect object at 0x000002620845D620>, <rdkit.DataStructs.cDataStructs.ExplicitBitVect object at 0x000002620845D670>, <rdkit.DataStructs.cDataStructs.ExplicitBitVect object at 0x000002620845D6C0>, <rdkit.DataStructs.cDataStructs.ExplicitBitVect object at 0x000002620845D710>, <rdkit.DataStructs.cDataStructs.ExplicitBitVect object at 0x000002620845D760>, <rdkit.DataStructs.cDataStructs.ExplicitBitVect object at 0x000002620845D7B0>, <rdkit.DataStructs.cDataStructs.ExplicitBitVect object at 0x000002620845D800>, <rdkit.DataStructs.cDataStructs.ExplicitBitVect object at 0x000002620845D850>, <rdkit.DataStructs.cDataStructs.ExplicitBitVect object at 0x000002620845D8A0>, <rdkit.DataStructs.cDataStructs.ExplicitBitVect object at 0x000002620845D8F0>, <rdkit.DataStructs.cDataStructs.ExplicitBitVect object at 0x000002620845D940>, <rdkit.DataStructs.cDataStructs.ExplicitBitVect object at 0x000002620845D990>, <rdkit.DataStructs.cDataStructs.ExplicitBitVect object at 0x000002620845D9E0>, <rdkit.DataStructs.cDataStructs.ExplicitBitVect object at 0x000002620845DA30>, <rdkit.DataStructs.cDataStructs.ExplicitBitVect object at 0x000002620845DA80>, <rdkit.DataStructs.cDataStructs.ExplicitBitVect object at 0x000002620845DAD0>, <rdkit.DataStructs.cDataStructs.ExplicitBitVect object at 0x000002620845DB20>, <rdkit.DataStructs.cDataStructs.ExplicitBitVect object at 0x000002620845DB70>, <rdkit.DataStructs.cDataStructs.ExplicitBitVect object at 0x000002620845DBC0>, <rdkit.DataStructs.cDataStructs.ExplicitBitVect object at 0x000002620845DC10>, <rdkit.DataStructs.cDataStructs.ExplicitBitVect object at 0x000002620845DC60>, <rdkit.DataStructs.cDataStructs.ExplicitBitVect object at 0x000002620845DCB0>, <rdkit.DataStructs.cDataStructs.ExplicitBitVect object at 0x000002620845DD00>, <rdkit.DataStructs.cDataStructs.ExplicitBitVect object at 0x000002620845DD50>, <rdkit.DataStructs.cDataStructs.ExplicitBitVect object at 0x000002620845DDA0>, <rdkit.DataStructs.cDataStructs.ExplicitBitVect object at 0x000002620845DDF0>, <rdkit.DataStructs.cDataStructs.ExplicitBitVect object at 0x000002620845DE40>, <rdkit.DataStructs.cDataStructs.ExplicitBitVect object at 0x000002620845DE90>, <rdkit.DataStructs.cDataStructs.ExplicitBitVect object at 0x000002620845DEE0>, <rdkit.DataStructs.cDataStructs.ExplicitBitVect object at 0x000002620845DF30>, <rdkit.DataStructs.cDataStructs.ExplicitBitVect object at 0x000002620845DF80>, <rdkit.DataStructs.cDataStructs.ExplicitBitVect object at 0x000002620845E030>, <rdkit.DataStructs.cDataStructs.ExplicitBitVect object at 0x000002620845E080>, <rdkit.DataStructs.cDataStructs.ExplicitBitVect object at 0x000002620845E0D0>, <rdkit.DataStructs.cDataStructs.ExplicitBitVect object at 0x000002620845E120>, <rdkit.DataStructs.cDataStructs.ExplicitBitVect object at 0x000002620845E170>, <rdkit.DataStructs.cDataStructs.ExplicitBitVect object at 0x000002620845E1C0>, <rdkit.DataStructs.cDataStructs.ExplicitBitVect object at 0x000002620845E210>, <rdkit.DataStructs.cDataStructs.ExplicitBitVect object at 0x000002620845E260>, <rdkit.DataStructs.cDataStructs.ExplicitBitVect object at 0x000002620845E2B0>, <rdkit.DataStructs.cDataStructs.ExplicitBitVect object at 0x000002620845E300>, <rdkit.DataStructs.cDataStructs.ExplicitBitVect object at 0x000002620845E350>, <rdkit.DataStructs.cDataStructs.ExplicitBitVect object at 0x000002620845E3A0>, <rdkit.DataStructs.cDataStructs.ExplicitBitVect object at 0x000002620845E3F0>, <rdkit.DataStructs.cDataStructs.ExplicitBitVect object at 0x000002620845E440>, <rdkit.DataStructs.cDataStructs.ExplicitBitVect object at 0x000002620845E490>, <rdkit.DataStructs.cDataStructs.ExplicitBitVect object at 0x000002620845E4E0>, <rdkit.DataStructs.cDataStructs.ExplicitBitVect object at 0x000002620845E530>, <rdkit.DataStructs.cDataStructs.ExplicitBitVect object at 0x000002620845E580>, <rdkit.DataStructs.cDataStructs.ExplicitBitVect object at 0x000002620845E5D0>, <rdkit.DataStructs.cDataStructs.ExplicitBitVect object at 0x000002620845E620>, <rdkit.DataStructs.cDataStructs.ExplicitBitVect object at 0x000002620845E670>, <rdkit.DataStructs.cDataStructs.ExplicitBitVect object at 0x000002620845E6C0>, <rdkit.DataStructs.cDataStructs.ExplicitBitVect object at 0x000002620845E710>, <rdkit.DataStructs.cDataStructs.ExplicitBitVect object at 0x000002620845E760>, <rdkit.DataStructs.cDataStructs.ExplicitBitVect object at 0x000002620845E7B0>, <rdkit.DataStructs.cDataStructs.ExplicitBitVect object at 0x000002620845E800>, <rdkit.DataStructs.cDataStructs.ExplicitBitVect object at 0x000002620845E850>, <rdkit.DataStructs.cDataStructs.ExplicitBitVect object at 0x000002620845E8A0>, <rdkit.DataStructs.cDataStructs.ExplicitBitVect object at 0x000002620845E8F0>, <rdkit.DataStructs.cDataStructs.ExplicitBitVect object at 0x000002620845E940>, <rdkit.DataStructs.cDataStructs.ExplicitBitVect object at 0x000002620845E990>, <rdkit.DataStructs.cDataStructs.ExplicitBitVect object at 0x000002620845E9E0>, <rdkit.DataStructs.cDataStructs.ExplicitBitVect object at 0x000002620845EA30>, <rdkit.DataStructs.cDataStructs.ExplicitBitVect object at 0x000002620845EA80>, <rdkit.DataStructs.cDataStructs.ExplicitBitVect object at 0x000002620845EAD0>, <rdkit.DataStructs.cDataStructs.ExplicitBitVect object at 0x000002620845EB20>, <rdkit.DataStructs.cDataStructs.ExplicitBitVect object at 0x000002620845EB70>, <rdkit.DataStructs.cDataStructs.ExplicitBitVect object at 0x000002620845EBC0>, <rdkit.DataStructs.cDataStructs.ExplicitBitVect object at 0x000002620845EC10>, <rdkit.DataStructs.cDataStructs.ExplicitBitVect object at 0x000002620845EC60>, <rdkit.DataStructs.cDataStructs.ExplicitBitVect object at 0x000002620845ECB0>, <rdkit.DataStructs.cDataStructs.ExplicitBitVect object at 0x000002620845ED00>, <rdkit.DataStructs.cDataStructs.ExplicitBitVect object at 0x000002620845ED50>, <rdkit.DataStructs.cDataStructs.ExplicitBitVect object at 0x000002620845EDA0>, <rdkit.DataStructs.cDataStructs.ExplicitBitVect object at 0x000002620845EDF0>, <rdkit.DataStructs.cDataStructs.ExplicitBitVect object at 0x000002620845EE40>, <rdkit.DataStructs.cDataStructs.ExplicitBitVect object at 0x000002620845EE90>, <rdkit.DataStructs.cDataStructs.ExplicitBitVect object at 0x000002620845EEE0>, <rdkit.DataStructs.cDataStructs.ExplicitBitVect object at 0x000002620845EF30>, <rdkit.DataStructs.cDataStructs.ExplicitBitVect object at 0x000002620845EF80>, <rdkit.DataStructs.cDataStructs.ExplicitBitVect object at 0x000002620845F030>, <rdkit.DataStructs.cDataStructs.ExplicitBitVect object at 0x000002620845F080>, <rdkit.DataStructs.cDataStructs.ExplicitBitVect object at 0x000002620845F0D0>, <rdkit.DataStructs.cDataStructs.ExplicitBitVect object at 0x000002620845F120>, <rdkit.DataStructs.cDataStructs.ExplicitBitVect object at 0x000002620845F170>, <rdkit.DataStructs.cDataStructs.ExplicitBitVect object at 0x000002620845F1C0>, <rdkit.DataStructs.cDataStructs.ExplicitBitVect object at 0x000002620845F210>, <rdkit.DataStructs.cDataStructs.ExplicitBitVect object at 0x000002620845F260>, <rdkit.DataStructs.cDataStructs.ExplicitBitVect object at 0x000002620845F2B0>, <rdkit.DataStructs.cDataStructs.ExplicitBitVect object at 0x000002620845F300>, <rdkit.DataStructs.cDataStructs.ExplicitBitVect object at 0x000002620845F350>, <rdkit.DataStructs.cDataStructs.ExplicitBitVect object at 0x000002620845F3A0>, <rdkit.DataStructs.cDataStructs.ExplicitBitVect object at 0x000002620845F3F0>, <rdkit.DataStructs.cDataStructs.ExplicitBitVect object at 0x000002620845F440>, <rdkit.DataStructs.cDataStructs.ExplicitBitVect object at 0x000002620845F490>, <rdkit.DataStructs.cDataStructs.ExplicitBitVect object at 0x000002620845F4E0>, <rdkit.DataStructs.cDataStructs.ExplicitBitVect object at 0x000002620845F530>, <rdkit.DataStructs.cDataStructs.ExplicitBitVect object at 0x000002620845F580>, <rdkit.DataStructs.cDataStructs.ExplicitBitVect object at 0x000002620845F5D0>, <rdkit.DataStructs.cDataStructs.ExplicitBitVect object at 0x000002620845F620>, <rdkit.DataStructs.cDataStructs.ExplicitBitVect object at 0x000002620845F670>, <rdkit.DataStructs.cDataStructs.ExplicitBitVect object at 0x000002620845F6C0>, <rdkit.DataStructs.cDataStructs.ExplicitBitVect object at 0x000002620845F710>, <rdkit.DataStructs.cDataStructs.ExplicitBitVect object at 0x000002620845F760>, <rdkit.DataStructs.cDataStructs.ExplicitBitVect object at 0x000002620845F7B0>, <rdkit.DataStructs.cDataStructs.ExplicitBitVect object at 0x000002620845F800>, <rdkit.DataStructs.cDataStructs.ExplicitBitVect object at 0x000002620845F850>, <rdkit.DataStructs.cDataStructs.ExplicitBitVect object at 0x000002620845F8A0>, <rdkit.DataStructs.cDataStructs.ExplicitBitVect object at 0x000002620845F8F0>, <rdkit.DataStructs.cDataStructs.ExplicitBitVect object at 0x000002620845F940>, <rdkit.DataStructs.cDataStructs.ExplicitBitVect object at 0x000002620845F990>, <rdkit.DataStructs.cDataStructs.ExplicitBitVect object at 0x000002620845F9E0>, <rdkit.DataStructs.cDataStructs.ExplicitBitVect object at 0x000002620845FA30>, <rdkit.DataStructs.cDataStructs.ExplicitBitVect object at 0x000002620845FA80>, <rdkit.DataStructs.cDataStructs.ExplicitBitVect object at 0x000002620845FAD0>, <rdkit.DataStructs.cDataStructs.ExplicitBitVect object at 0x000002620845FB20>, <rdkit.DataStructs.cDataStructs.ExplicitBitVect object at 0x000002620845FB70>, <rdkit.DataStructs.cDataStructs.ExplicitBitVect object at 0x000002620845FBC0>, <rdkit.DataStructs.cDataStructs.ExplicitBitVect object at 0x000002620845FC10>, <rdkit.DataStructs.cDataStructs.ExplicitBitVect object at 0x000002620845FC60>, <rdkit.DataStructs.cDataStructs.ExplicitBitVect object at 0x000002620845FCB0>, <rdkit.DataStructs.cDataStructs.ExplicitBitVect object at 0x000002620845FD00>, <rdkit.DataStructs.cDataStructs.ExplicitBitVect object at 0x000002620845FD50>, <rdkit.DataStructs.cDataStructs.ExplicitBitVect object at 0x000002620845FDA0>, <rdkit.DataStructs.cDataStructs.ExplicitBitVect object at 0x000002620845FDF0>, <rdkit.DataStructs.cDataStructs.ExplicitBitVect object at 0x000002620845FE40>, <rdkit.DataStructs.cDataStructs.ExplicitBitVect object at 0x000002620845FE90>, <rdkit.DataStructs.cDataStructs.ExplicitBitVect object at 0x000002620845FEE0>, <rdkit.DataStructs.cDataStructs.ExplicitBitVect object at 0x000002620845FF30>, <rdkit.DataStructs.cDataStructs.ExplicitBitVect object at 0x000002620845FF80>, <rdkit.DataStructs.cDataStructs.ExplicitBitVect object at 0x0000026208460030>, <rdkit.DataStructs.cDataStructs.ExplicitBitVect object at 0x0000026208460080>, <rdkit.DataStructs.cDataStructs.ExplicitBitVect object at 0x00000262084600D0>, <rdkit.DataStructs.cDataStructs.ExplicitBitVect object at 0x0000026208460120>, <rdkit.DataStructs.cDataStructs.ExplicitBitVect object at 0x0000026208460170>, <rdkit.DataStructs.cDataStructs.ExplicitBitVect object at 0x00000262084601C0>, <rdkit.DataStructs.cDataStructs.ExplicitBitVect object at 0x0000026208460210>, <rdkit.DataStructs.cDataStructs.ExplicitBitVect object at 0x0000026208460260>, <rdkit.DataStructs.cDataStructs.ExplicitBitVect object at 0x00000262084602B0>, <rdkit.DataStructs.cDataStructs.ExplicitBitVect object at 0x0000026208460300>, <rdkit.DataStructs.cDataStructs.ExplicitBitVect object at 0x0000026208460350>, <rdkit.DataStructs.cDataStructs.ExplicitBitVect object at 0x00000262084603A0>, <rdkit.DataStructs.cDataStructs.ExplicitBitVect object at 0x00000262084603F0>, <rdkit.DataStructs.cDataStructs.ExplicitBitVect object at 0x0000026208460440>, <rdkit.DataStructs.cDataStructs.ExplicitBitVect object at 0x0000026208460490>, <rdkit.DataStructs.cDataStructs.ExplicitBitVect object at 0x00000262084604E0>, <rdkit.DataStructs.cDataStructs.ExplicitBitVect object at 0x0000026208460530>, <rdkit.DataStructs.cDataStructs.ExplicitBitVect object at 0x0000026208460580>, <rdkit.DataStructs.cDataStructs.ExplicitBitVect object at 0x00000262084605D0>, <rdkit.DataStructs.cDataStructs.ExplicitBitVect object at 0x0000026208460620>, <rdkit.DataStructs.cDataStructs.ExplicitBitVect object at 0x0000026208460670>, <rdkit.DataStructs.cDataStructs.ExplicitBitVect object at 0x00000262084606C0>, <rdkit.DataStructs.cDataStructs.ExplicitBitVect object at 0x0000026208460710>, <rdkit.DataStructs.cDataStructs.ExplicitBitVect object at 0x0000026208460760>, <rdkit.DataStructs.cDataStructs.ExplicitBitVect object at 0x00000262084607B0>, <rdkit.DataStructs.cDataStructs.ExplicitBitVect object at 0x0000026208460800>, <rdkit.DataStructs.cDataStructs.ExplicitBitVect object at 0x0000026208460850>, <rdkit.DataStructs.cDataStructs.ExplicitBitVect object at 0x00000262084608A0>, <rdkit.DataStructs.cDataStructs.ExplicitBitVect object at 0x00000262084608F0>, <rdkit.DataStructs.cDataStructs.ExplicitBitVect object at 0x0000026208460940>, <rdkit.DataStructs.cDataStructs.ExplicitBitVect object at 0x0000026208460990>, <rdkit.DataStructs.cDataStructs.ExplicitBitVect object at 0x00000262084609E0>, <rdkit.DataStructs.cDataStructs.ExplicitBitVect object at 0x0000026208460A30>, <rdkit.DataStructs.cDataStructs.ExplicitBitVect object at 0x0000026208460A80>, <rdkit.DataStructs.cDataStructs.ExplicitBitVect object at 0x0000026208460AD0>, <rdkit.DataStructs.cDataStructs.ExplicitBitVect object at 0x0000026208460B20>, <rdkit.DataStructs.cDataStructs.ExplicitBitVect object at 0x0000026208460B70>, <rdkit.DataStructs.cDataStructs.ExplicitBitVect object at 0x0000026208460BC0>, <rdkit.DataStructs.cDataStructs.ExplicitBitVect object at 0x0000026208460C10>, <rdkit.DataStructs.cDataStructs.ExplicitBitVect object at 0x0000026208460C60>, <rdkit.DataStructs.cDataStructs.ExplicitBitVect object at 0x0000026208460CB0>, <rdkit.DataStructs.cDataStructs.ExplicitBitVect object at 0x0000026208460D00>, <rdkit.DataStructs.cDataStructs.ExplicitBitVect object at 0x0000026208460D50>, <rdkit.DataStructs.cDataStructs.ExplicitBitVect object at 0x0000026208460DA0>, <rdkit.DataStructs.cDataStructs.ExplicitBitVect object at 0x0000026208460DF0>, <rdkit.DataStructs.cDataStructs.ExplicitBitVect object at 0x0000026208460E40>, <rdkit.DataStructs.cDataStructs.ExplicitBitVect object at 0x0000026208460E90>, <rdkit.DataStructs.cDataStructs.ExplicitBitVect object at 0x0000026208460EE0>, <rdkit.DataStructs.cDataStructs.ExplicitBitVect object at 0x0000026208460F30>, <rdkit.DataStructs.cDataStructs.ExplicitBitVect object at 0x0000026208460F80>, <rdkit.DataStructs.cDataStructs.ExplicitBitVect object at 0x0000026208461030>, <rdkit.DataStructs.cDataStructs.ExplicitBitVect object at 0x0000026208461080>, <rdkit.DataStructs.cDataStructs.ExplicitBitVect object at 0x00000262084610D0>, <rdkit.DataStructs.cDataStructs.ExplicitBitVect object at 0x0000026208461120>, <rdkit.DataStructs.cDataStructs.ExplicitBitVect object at 0x0000026208461170>, <rdkit.DataStructs.cDataStructs.ExplicitBitVect object at 0x00000262084611C0>, <rdkit.DataStructs.cDataStructs.ExplicitBitVect object at 0x0000026208461210>, <rdkit.DataStructs.cDataStructs.ExplicitBitVect object at 0x0000026208461260>, <rdkit.DataStructs.cDataStructs.ExplicitBitVect object at 0x00000262084612B0>, <rdkit.DataStructs.cDataStructs.ExplicitBitVect object at 0x0000026208461300>, <rdkit.DataStructs.cDataStructs.ExplicitBitVect object at 0x0000026208461350>, <rdkit.DataStructs.cDataStructs.ExplicitBitVect object at 0x00000262084613A0>, <rdkit.DataStructs.cDataStructs.ExplicitBitVect object at 0x00000262084613F0>, <rdkit.DataStructs.cDataStructs.ExplicitBitVect object at 0x0000026208461440>, <rdkit.DataStructs.cDataStructs.ExplicitBitVect object at 0x0000026208461490>, <rdkit.DataStructs.cDataStructs.ExplicitBitVect object at 0x00000262084614E0>, <rdkit.DataStructs.cDataStructs.ExplicitBitVect object at 0x0000026208461530>, <rdkit.DataStructs.cDataStructs.ExplicitBitVect object at 0x0000026208461580>, <rdkit.DataStructs.cDataStructs.ExplicitBitVect object at 0x00000262084615D0>, <rdkit.DataStructs.cDataStructs.ExplicitBitVect object at 0x0000026208461620>, <rdkit.DataStructs.cDataStructs.ExplicitBitVect object at 0x0000026208461670>, <rdkit.DataStructs.cDataStructs.ExplicitBitVect object at 0x00000262084616C0>, <rdkit.DataStructs.cDataStructs.ExplicitBitVect object at 0x0000026208461710>, <rdkit.DataStructs.cDataStructs.ExplicitBitVect object at 0x0000026208461760>, <rdkit.DataStructs.cDataStructs.ExplicitBitVect object at 0x00000262084617B0>, <rdkit.DataStructs.cDataStructs.ExplicitBitVect object at 0x0000026208461800>, <rdkit.DataStructs.cDataStructs.ExplicitBitVect object at 0x0000026208461850>, <rdkit.DataStructs.cDataStructs.ExplicitBitVect object at 0x00000262084618A0>, <rdkit.DataStructs.cDataStructs.ExplicitBitVect object at 0x00000262084618F0>, <rdkit.DataStructs.cDataStructs.ExplicitBitVect object at 0x0000026208461940>, <rdkit.DataStructs.cDataStructs.ExplicitBitVect object at 0x0000026208461990>, <rdkit.DataStructs.cDataStructs.ExplicitBitVect object at 0x00000262084619E0>, <rdkit.DataStructs.cDataStructs.ExplicitBitVect object at 0x0000026208461A30>, <rdkit.DataStructs.cDataStructs.ExplicitBitVect object at 0x0000026208461A80>, <rdkit.DataStructs.cDataStructs.ExplicitBitVect object at 0x0000026208461AD0>, <rdkit.DataStructs.cDataStructs.ExplicitBitVect object at 0x0000026208461B20>, <rdkit.DataStructs.cDataStructs.ExplicitBitVect object at 0x0000026208461B70>, <rdkit.DataStructs.cDataStructs.ExplicitBitVect object at 0x0000026208461BC0>, <rdkit.DataStructs.cDataStructs.ExplicitBitVect object at 0x0000026208461C10>, <rdkit.DataStructs.cDataStructs.ExplicitBitVect object at 0x0000026208461C60>, <rdkit.DataStructs.cDataStructs.ExplicitBitVect object at 0x0000026208461CB0>, <rdkit.DataStructs.cDataStructs.ExplicitBitVect object at 0x0000026208461D00>, <rdkit.DataStructs.cDataStructs.ExplicitBitVect object at 0x0000026208461D50>, <rdkit.DataStructs.cDataStructs.ExplicitBitVect object at 0x0000026208461DA0>, <rdkit.DataStructs.cDataStructs.ExplicitBitVect object at 0x0000026208461DF0>, <rdkit.DataStructs.cDataStructs.ExplicitBitVect object at 0x0000026208461E40>, <rdkit.DataStructs.cDataStructs.ExplicitBitVect object at 0x0000026208461E90>, <rdkit.DataStructs.cDataStructs.ExplicitBitVect object at 0x0000026208461EE0>, <rdkit.DataStructs.cDataStructs.ExplicitBitVect object at 0x0000026208461F30>, <rdkit.DataStructs.cDataStructs.ExplicitBitVect object at 0x0000026208461F80>, <rdkit.DataStructs.cDataStructs.ExplicitBitVect object at 0x0000026208462030>, <rdkit.DataStructs.cDataStructs.ExplicitBitVect object at 0x0000026208462080>, <rdkit.DataStructs.cDataStructs.ExplicitBitVect object at 0x00000262084620D0>, <rdkit.DataStructs.cDataStructs.ExplicitBitVect object at 0x0000026208462120>, <rdkit.DataStructs.cDataStructs.ExplicitBitVect object at 0x0000026208462170>, <rdkit.DataStructs.cDataStructs.ExplicitBitVect object at 0x00000262084621C0>, <rdkit.DataStructs.cDataStructs.ExplicitBitVect object at 0x0000026208462210>, <rdkit.DataStructs.cDataStructs.ExplicitBitVect object at 0x0000026208462260>, <rdkit.DataStructs.cDataStructs.ExplicitBitVect object at 0x00000262084622B0>, <rdkit.DataStructs.cDataStructs.ExplicitBitVect object at 0x0000026208462300>, <rdkit.DataStructs.cDataStructs.ExplicitBitVect object at 0x0000026208462350>, <rdkit.DataStructs.cDataStructs.ExplicitBitVect object at 0x00000262084623A0>, <rdkit.DataStructs.cDataStructs.ExplicitBitVect object at 0x00000262084623F0>, <rdkit.DataStructs.cDataStructs.ExplicitBitVect object at 0x0000026208462440>, <rdkit.DataStructs.cDataStructs.ExplicitBitVect object at 0x0000026208462490>, <rdkit.DataStructs.cDataStructs.ExplicitBitVect object at 0x00000262084624E0>, <rdkit.DataStructs.cDataStructs.ExplicitBitVect object at 0x0000026208462530>, <rdkit.DataStructs.cDataStructs.ExplicitBitVect object at 0x0000026208462580>, <rdkit.DataStructs.cDataStructs.ExplicitBitVect object at 0x00000262084625D0>, <rdkit.DataStructs.cDataStructs.ExplicitBitVect object at 0x0000026208462620>, <rdkit.DataStructs.cDataStructs.ExplicitBitVect object at 0x0000026208462670>, <rdkit.DataStructs.cDataStructs.ExplicitBitVect object at 0x00000262084626C0>, <rdkit.DataStructs.cDataStructs.ExplicitBitVect object at 0x0000026208462710>, <rdkit.DataStructs.cDataStructs.ExplicitBitVect object at 0x0000026208462760>, <rdkit.DataStructs.cDataStructs.ExplicitBitVect object at 0x00000262084627B0>, <rdkit.DataStructs.cDataStructs.ExplicitBitVect object at 0x0000026208462800>, <rdkit.DataStructs.cDataStructs.ExplicitBitVect object at 0x0000026208462850>, <rdkit.DataStructs.cDataStructs.ExplicitBitVect object at 0x00000262084628A0>, <rdkit.DataStructs.cDataStructs.ExplicitBitVect object at 0x00000262084628F0>, <rdkit.DataStructs.cDataStructs.ExplicitBitVect object at 0x0000026208462940>, <rdkit.DataStructs.cDataStructs.ExplicitBitVect object at 0x0000026208462990>, <rdkit.DataStructs.cDataStructs.ExplicitBitVect object at 0x00000262084629E0>, <rdkit.DataStructs.cDataStructs.ExplicitBitVect object at 0x0000026208462A30>, <rdkit.DataStructs.cDataStructs.ExplicitBitVect object at 0x0000026208462A80>, <rdkit.DataStructs.cDataStructs.ExplicitBitVect object at 0x0000026208462AD0>, <rdkit.DataStructs.cDataStructs.ExplicitBitVect object at 0x0000026208462B20>, <rdkit.DataStructs.cDataStructs.ExplicitBitVect object at 0x0000026208462B70>, <rdkit.DataStructs.cDataStructs.ExplicitBitVect object at 0x0000026208462BC0>, <rdkit.DataStructs.cDataStructs.ExplicitBitVect object at 0x0000026208462C10>, <rdkit.DataStructs.cDataStructs.ExplicitBitVect object at 0x0000026208462C60>, <rdkit.DataStructs.cDataStructs.ExplicitBitVect object at 0x0000026208462CB0>, <rdkit.DataStructs.cDataStructs.ExplicitBitVect object at 0x0000026208462D00>, <rdkit.DataStructs.cDataStructs.ExplicitBitVect object at 0x0000026208462D50>, <rdkit.DataStructs.cDataStructs.ExplicitBitVect object at 0x0000026208462DA0>, <rdkit.DataStructs.cDataStructs.ExplicitBitVect object at 0x0000026208462DF0>, <rdkit.DataStructs.cDataStructs.ExplicitBitVect object at 0x0000026208462E40>, <rdkit.DataStructs.cDataStructs.ExplicitBitVect object at 0x0000026208462E90>, <rdkit.DataStructs.cDataStructs.ExplicitBitVect object at 0x0000026208462EE0>, <rdkit.DataStructs.cDataStructs.ExplicitBitVect object at 0x0000026208462F30>, <rdkit.DataStructs.cDataStructs.ExplicitBitVect object at 0x0000026208462F80>, <rdkit.DataStructs.cDataStructs.ExplicitBitVect object at 0x0000026208463030>, <rdkit.DataStructs.cDataStructs.ExplicitBitVect object at 0x0000026208463080>, <rdkit.DataStructs.cDataStructs.ExplicitBitVect object at 0x00000262084630D0>, <rdkit.DataStructs.cDataStructs.ExplicitBitVect object at 0x0000026208463120>, <rdkit.DataStructs.cDataStructs.ExplicitBitVect object at 0x0000026208463170>, <rdkit.DataStructs.cDataStructs.ExplicitBitVect object at 0x00000262084631C0>, <rdkit.DataStructs.cDataStructs.ExplicitBitVect object at 0x0000026208463210>, <rdkit.DataStructs.cDataStructs.ExplicitBitVect object at 0x0000026208463260>, <rdkit.DataStructs.cDataStructs.ExplicitBitVect object at 0x00000262084632B0>, <rdkit.DataStructs.cDataStructs.ExplicitBitVect object at 0x0000026208463300>, <rdkit.DataStructs.cDataStructs.ExplicitBitVect object at 0x0000026208463350>, <rdkit.DataStructs.cDataStructs.ExplicitBitVect object at 0x00000262084633A0>, <rdkit.DataStructs.cDataStructs.ExplicitBitVect object at 0x00000262084633F0>, <rdkit.DataStructs.cDataStructs.ExplicitBitVect object at 0x0000026208463440>, <rdkit.DataStructs.cDataStructs.ExplicitBitVect object at 0x0000026208463490>, <rdkit.DataStructs.cDataStructs.ExplicitBitVect object at 0x00000262084634E0>, <rdkit.DataStructs.cDataStructs.ExplicitBitVect object at 0x0000026208463530>, <rdkit.DataStructs.cDataStructs.ExplicitBitVect object at 0x0000026208463580>, <rdkit.DataStructs.cDataStructs.ExplicitBitVect object at 0x00000262084635D0>, <rdkit.DataStructs.cDataStructs.ExplicitBitVect object at 0x0000026208463620>, <rdkit.DataStructs.cDataStructs.ExplicitBitVect object at 0x0000026208463670>, <rdkit.DataStructs.cDataStructs.ExplicitBitVect object at 0x00000262084636C0>, <rdkit.DataStructs.cDataStructs.ExplicitBitVect object at 0x0000026208463710>, <rdkit.DataStructs.cDataStructs.ExplicitBitVect object at 0x0000026208463760>, <rdkit.DataStructs.cDataStructs.ExplicitBitVect object at 0x00000262084637B0>, <rdkit.DataStructs.cDataStructs.ExplicitBitVect object at 0x0000026208463800>, <rdkit.DataStructs.cDataStructs.ExplicitBitVect object at 0x0000026208463850>, <rdkit.DataStructs.cDataStructs.ExplicitBitVect object at 0x00000262084638A0>, <rdkit.DataStructs.cDataStructs.ExplicitBitVect object at 0x00000262084638F0>, <rdkit.DataStructs.cDataStructs.ExplicitBitVect object at 0x0000026208463940>, <rdkit.DataStructs.cDataStructs.ExplicitBitVect object at 0x0000026208463990>, <rdkit.DataStructs.cDataStructs.ExplicitBitVect object at 0x00000262084639E0>, <rdkit.DataStructs.cDataStructs.ExplicitBitVect object at 0x0000026208463A30>, <rdkit.DataStructs.cDataStructs.ExplicitBitVect object at 0x0000026208463A80>, <rdkit.DataStructs.cDataStructs.ExplicitBitVect object at 0x0000026208463AD0>, <rdkit.DataStructs.cDataStructs.ExplicitBitVect object at 0x0000026208463B20>, <rdkit.DataStructs.cDataStructs.ExplicitBitVect object at 0x0000026208463B70>, <rdkit.DataStructs.cDataStructs.ExplicitBitVect object at 0x0000026208463BC0>, <rdkit.DataStructs.cDataStructs.ExplicitBitVect object at 0x0000026208463C10>, <rdkit.DataStructs.cDataStructs.ExplicitBitVect object at 0x0000026208463C60>, <rdkit.DataStructs.cDataStructs.ExplicitBitVect object at 0x0000026208463CB0>, <rdkit.DataStructs.cDataStructs.ExplicitBitVect object at 0x0000026208463D00>, <rdkit.DataStructs.cDataStructs.ExplicitBitVect object at 0x0000026208463D50>, <rdkit.DataStructs.cDataStructs.ExplicitBitVect object at 0x0000026208463DA0>, <rdkit.DataStructs.cDataStructs.ExplicitBitVect object at 0x0000026208463DF0>, <rdkit.DataStructs.cDataStructs.ExplicitBitVect object at 0x0000026208463E40>, <rdkit.DataStructs.cDataStructs.ExplicitBitVect object at 0x0000026208463E90>, <rdkit.DataStructs.cDataStructs.ExplicitBitVect object at 0x0000026208463EE0>, <rdkit.DataStructs.cDataStructs.ExplicitBitVect object at 0x0000026208463F30>, <rdkit.DataStructs.cDataStructs.ExplicitBitVect object at 0x0000026208463F80>, <rdkit.DataStructs.cDataStructs.ExplicitBitVect object at 0x0000026208464030>, <rdkit.DataStructs.cDataStructs.ExplicitBitVect object at 0x0000026208464080>, <rdkit.DataStructs.cDataStructs.ExplicitBitVect object at 0x00000262084640D0>, <rdkit.DataStructs.cDataStructs.ExplicitBitVect object at 0x0000026208464120>, <rdkit.DataStructs.cDataStructs.ExplicitBitVect object at 0x0000026208464170>, <rdkit.DataStructs.cDataStructs.ExplicitBitVect object at 0x00000262084641C0>, <rdkit.DataStructs.cDataStructs.ExplicitBitVect object at 0x0000026208464210>, <rdkit.DataStructs.cDataStructs.ExplicitBitVect object at 0x0000026208464260>, <rdkit.DataStructs.cDataStructs.ExplicitBitVect object at 0x00000262084642B0>, <rdkit.DataStructs.cDataStructs.ExplicitBitVect object at 0x0000026208464300>, <rdkit.DataStructs.cDataStructs.ExplicitBitVect object at 0x0000026208464350>, <rdkit.DataStructs.cDataStructs.ExplicitBitVect object at 0x00000262084643A0>, <rdkit.DataStructs.cDataStructs.ExplicitBitVect object at 0x00000262084643F0>, <rdkit.DataStructs.cDataStructs.ExplicitBitVect object at 0x0000026208464440>, <rdkit.DataStructs.cDataStructs.ExplicitBitVect object at 0x0000026208464490>, <rdkit.DataStructs.cDataStructs.ExplicitBitVect object at 0x00000262084644E0>, <rdkit.DataStructs.cDataStructs.ExplicitBitVect object at 0x0000026208464530>, <rdkit.DataStructs.cDataStructs.ExplicitBitVect object at 0x0000026208464580>, <rdkit.DataStructs.cDataStructs.ExplicitBitVect object at 0x00000262084645D0>, <rdkit.DataStructs.cDataStructs.ExplicitBitVect object at 0x0000026208464620>, <rdkit.DataStructs.cDataStructs.ExplicitBitVect object at 0x0000026208464670>, <rdkit.DataStructs.cDataStructs.ExplicitBitVect object at 0x00000262084646C0>, <rdkit.DataStructs.cDataStructs.ExplicitBitVect object at 0x0000026208464710>, <rdkit.DataStructs.cDataStructs.ExplicitBitVect object at 0x0000026208464760>, <rdkit.DataStructs.cDataStructs.ExplicitBitVect object at 0x00000262084647B0>, <rdkit.DataStructs.cDataStructs.ExplicitBitVect object at 0x0000026208464800>, <rdkit.DataStructs.cDataStructs.ExplicitBitVect object at 0x0000026208464850>, <rdkit.DataStructs.cDataStructs.ExplicitBitVect object at 0x00000262084648A0>, <rdkit.DataStructs.cDataStructs.ExplicitBitVect object at 0x00000262084648F0>, <rdkit.DataStructs.cDataStructs.ExplicitBitVect object at 0x0000026208464940>, <rdkit.DataStructs.cDataStructs.ExplicitBitVect object at 0x0000026208464990>, <rdkit.DataStructs.cDataStructs.ExplicitBitVect object at 0x00000262084649E0>, <rdkit.DataStructs.cDataStructs.ExplicitBitVect object at 0x0000026208464A30>, <rdkit.DataStructs.cDataStructs.ExplicitBitVect object at 0x0000026208464A80>, <rdkit.DataStructs.cDataStructs.ExplicitBitVect object at 0x0000026208464AD0>, <rdkit.DataStructs.cDataStructs.ExplicitBitVect object at 0x0000026208464B20>, <rdkit.DataStructs.cDataStructs.ExplicitBitVect object at 0x0000026208464B70>, <rdkit.DataStructs.cDataStructs.ExplicitBitVect object at 0x0000026208464BC0>, <rdkit.DataStructs.cDataStructs.ExplicitBitVect object at 0x0000026208464C10>, <rdkit.DataStructs.cDataStructs.ExplicitBitVect object at 0x0000026208464C60>, <rdkit.DataStructs.cDataStructs.ExplicitBitVect object at 0x0000026208464CB0>, <rdkit.DataStructs.cDataStructs.ExplicitBitVect object at 0x0000026208464D00>, <rdkit.DataStructs.cDataStructs.ExplicitBitVect object at 0x0000026208464D50>, <rdkit.DataStructs.cDataStructs.ExplicitBitVect object at 0x0000026208464DA0>, <rdkit.DataStructs.cDataStructs.ExplicitBitVect object at 0x0000026208464DF0>, <rdkit.DataStructs.cDataStructs.ExplicitBitVect object at 0x0000026208464E40>, <rdkit.DataStructs.cDataStructs.ExplicitBitVect object at 0x0000026208464E90>, <rdkit.DataStructs.cDataStructs.ExplicitBitVect object at 0x0000026208464EE0>, <rdkit.DataStructs.cDataStructs.ExplicitBitVect object at 0x0000026208464F30>, <rdkit.DataStructs.cDataStructs.ExplicitBitVect object at 0x0000026208464F80>, <rdkit.DataStructs.cDataStructs.ExplicitBitVect object at 0x0000026208465030>, <rdkit.DataStructs.cDataStructs.ExplicitBitVect object at 0x0000026208465080>, <rdkit.DataStructs.cDataStructs.ExplicitBitVect object at 0x00000262084650D0>, <rdkit.DataStructs.cDataStructs.ExplicitBitVect object at 0x0000026208465120>, <rdkit.DataStructs.cDataStructs.ExplicitBitVect object at 0x0000026208465170>, <rdkit.DataStructs.cDataStructs.ExplicitBitVect object at 0x00000262084651C0>, <rdkit.DataStructs.cDataStructs.ExplicitBitVect object at 0x0000026208465210>, <rdkit.DataStructs.cDataStructs.ExplicitBitVect object at 0x0000026208465260>, <rdkit.DataStructs.cDataStructs.ExplicitBitVect object at 0x00000262084652B0>, <rdkit.DataStructs.cDataStructs.ExplicitBitVect object at 0x0000026208465300>, <rdkit.DataStructs.cDataStructs.ExplicitBitVect object at 0x0000026208465350>, <rdkit.DataStructs.cDataStructs.ExplicitBitVect object at 0x00000262084653A0>, <rdkit.DataStructs.cDataStructs.ExplicitBitVect object at 0x00000262084653F0>, <rdkit.DataStructs.cDataStructs.ExplicitBitVect object at 0x0000026208465440>, <rdkit.DataStructs.cDataStructs.ExplicitBitVect object at 0x0000026208465490>, <rdkit.DataStructs.cDataStructs.ExplicitBitVect object at 0x00000262084654E0>, <rdkit.DataStructs.cDataStructs.ExplicitBitVect object at 0x0000026208465530>, <rdkit.DataStructs.cDataStructs.ExplicitBitVect object at 0x0000026208465580>, <rdkit.DataStructs.cDataStructs.ExplicitBitVect object at 0x00000262084655D0>, <rdkit.DataStructs.cDataStructs.ExplicitBitVect object at 0x0000026208465620>, <rdkit.DataStructs.cDataStructs.ExplicitBitVect object at 0x0000026208465670>, <rdkit.DataStructs.cDataStructs.ExplicitBitVect object at 0x00000262084656C0>, <rdkit.DataStructs.cDataStructs.ExplicitBitVect object at 0x0000026208465710>, <rdkit.DataStructs.cDataStructs.ExplicitBitVect object at 0x0000026208465760>, <rdkit.DataStructs.cDataStructs.ExplicitBitVect object at 0x00000262084657B0>, <rdkit.DataStructs.cDataStructs.ExplicitBitVect object at 0x0000026208465800>, <rdkit.DataStructs.cDataStructs.ExplicitBitVect object at 0x0000026208465850>, <rdkit.DataStructs.cDataStructs.ExplicitBitVect object at 0x00000262084658A0>, <rdkit.DataStructs.cDataStructs.ExplicitBitVect object at 0x00000262084658F0>, <rdkit.DataStructs.cDataStructs.ExplicitBitVect object at 0x0000026208465940>, <rdkit.DataStructs.cDataStructs.ExplicitBitVect object at 0x0000026208465990>, <rdkit.DataStructs.cDataStructs.ExplicitBitVect object at 0x00000262084659E0>, <rdkit.DataStructs.cDataStructs.ExplicitBitVect object at 0x0000026208465A30>, <rdkit.DataStructs.cDataStructs.ExplicitBitVect object at 0x0000026208465A80>, <rdkit.DataStructs.cDataStructs.ExplicitBitVect object at 0x0000026208465AD0>, <rdkit.DataStructs.cDataStructs.ExplicitBitVect object at 0x0000026208465B20>, <rdkit.DataStructs.cDataStructs.ExplicitBitVect object at 0x0000026208465B70>, <rdkit.DataStructs.cDataStructs.ExplicitBitVect object at 0x0000026208465BC0>, <rdkit.DataStructs.cDataStructs.ExplicitBitVect object at 0x0000026208465C10>, <rdkit.DataStructs.cDataStructs.ExplicitBitVect object at 0x0000026208465C60>, <rdkit.DataStructs.cDataStructs.ExplicitBitVect object at 0x0000026208465CB0>, <rdkit.DataStructs.cDataStructs.ExplicitBitVect object at 0x0000026208465D00>, <rdkit.DataStructs.cDataStructs.ExplicitBitVect object at 0x0000026208465D50>, <rdkit.DataStructs.cDataStructs.ExplicitBitVect object at 0x0000026208465DA0>, <rdkit.DataStructs.cDataStructs.ExplicitBitVect object at 0x0000026208465DF0>, <rdkit.DataStructs.cDataStructs.ExplicitBitVect object at 0x0000026208465E40>, <rdkit.DataStructs.cDataStructs.ExplicitBitVect object at 0x0000026208465E90>, <rdkit.DataStructs.cDataStructs.ExplicitBitVect object at 0x0000026208465EE0>, <rdkit.DataStructs.cDataStructs.ExplicitBitVect object at 0x0000026208465F30>, <rdkit.DataStructs.cDataStructs.ExplicitBitVect object at 0x0000026208465F80>, <rdkit.DataStructs.cDataStructs.ExplicitBitVect object at 0x0000026208466030>, <rdkit.DataStructs.cDataStructs.ExplicitBitVect object at 0x0000026208466080>, <rdkit.DataStructs.cDataStructs.ExplicitBitVect object at 0x00000262084660D0>, <rdkit.DataStructs.cDataStructs.ExplicitBitVect object at 0x0000026208466120>, <rdkit.DataStructs.cDataStructs.ExplicitBitVect object at 0x0000026208466170>, <rdkit.DataStructs.cDataStructs.ExplicitBitVect object at 0x00000262084661C0>, <rdkit.DataStructs.cDataStructs.ExplicitBitVect object at 0x0000026208466210>, <rdkit.DataStructs.cDataStructs.ExplicitBitVect object at 0x0000026208466260>, <rdkit.DataStructs.cDataStructs.ExplicitBitVect object at 0x00000262084662B0>, <rdkit.DataStructs.cDataStructs.ExplicitBitVect object at 0x0000026208466300>, <rdkit.DataStructs.cDataStructs.ExplicitBitVect object at 0x0000026208466350>, <rdkit.DataStructs.cDataStructs.ExplicitBitVect object at 0x00000262084663A0>, <rdkit.DataStructs.cDataStructs.ExplicitBitVect object at 0x00000262084663F0>, <rdkit.DataStructs.cDataStructs.ExplicitBitVect object at 0x0000026208466440>, <rdkit.DataStructs.cDataStructs.ExplicitBitVect object at 0x0000026208466490>, <rdkit.DataStructs.cDataStructs.ExplicitBitVect object at 0x00000262084664E0>, <rdkit.DataStructs.cDataStructs.ExplicitBitVect object at 0x0000026208466530>, <rdkit.DataStructs.cDataStructs.ExplicitBitVect object at 0x0000026208466580>, <rdkit.DataStructs.cDataStructs.ExplicitBitVect object at 0x00000262084665D0>, <rdkit.DataStructs.cDataStructs.ExplicitBitVect object at 0x0000026208466620>, <rdkit.DataStructs.cDataStructs.ExplicitBitVect object at 0x0000026208466670>, <rdkit.DataStructs.cDataStructs.ExplicitBitVect object at 0x00000262084666C0>, <rdkit.DataStructs.cDataStructs.ExplicitBitVect object at 0x0000026208466710>, <rdkit.DataStructs.cDataStructs.ExplicitBitVect object at 0x0000026208466760>, <rdkit.DataStructs.cDataStructs.ExplicitBitVect object at 0x00000262084667B0>, <rdkit.DataStructs.cDataStructs.ExplicitBitVect object at 0x0000026208466800>, <rdkit.DataStructs.cDataStructs.ExplicitBitVect object at 0x0000026208466850>, <rdkit.DataStructs.cDataStructs.ExplicitBitVect object at 0x00000262084668A0>, <rdkit.DataStructs.cDataStructs.ExplicitBitVect object at 0x00000262084668F0>, <rdkit.DataStructs.cDataStructs.ExplicitBitVect object at 0x0000026208466940>, <rdkit.DataStructs.cDataStructs.ExplicitBitVect object at 0x0000026208466990>, <rdkit.DataStructs.cDataStructs.ExplicitBitVect object at 0x00000262084669E0>, <rdkit.DataStructs.cDataStructs.ExplicitBitVect object at 0x0000026208466A30>, <rdkit.DataStructs.cDataStructs.ExplicitBitVect object at 0x0000026208466A80>, <rdkit.DataStructs.cDataStructs.ExplicitBitVect object at 0x0000026208466AD0>, <rdkit.DataStructs.cDataStructs.ExplicitBitVect object at 0x0000026208466B20>, <rdkit.DataStructs.cDataStructs.ExplicitBitVect object at 0x0000026208466B70>, <rdkit.DataStructs.cDataStructs.ExplicitBitVect object at 0x0000026208466BC0>, <rdkit.DataStructs.cDataStructs.ExplicitBitVect object at 0x0000026208466C10>, <rdkit.DataStructs.cDataStructs.ExplicitBitVect object at 0x0000026208466C60>, <rdkit.DataStructs.cDataStructs.ExplicitBitVect object at 0x0000026208466CB0>, <rdkit.DataStructs.cDataStructs.ExplicitBitVect object at 0x0000026208466D00>, <rdkit.DataStructs.cDataStructs.ExplicitBitVect object at 0x0000026208466D50>, <rdkit.DataStructs.cDataStructs.ExplicitBitVect object at 0x0000026208466DA0>, <rdkit.DataStructs.cDataStructs.ExplicitBitVect object at 0x0000026208466DF0>, <rdkit.DataStructs.cDataStructs.ExplicitBitVect object at 0x0000026208466E40>, <rdkit.DataStructs.cDataStructs.ExplicitBitVect object at 0x0000026208466E90>, <rdkit.DataStructs.cDataStructs.ExplicitBitVect object at 0x0000026208466EE0>, <rdkit.DataStructs.cDataStructs.ExplicitBitVect object at 0x0000026208466F30>, <rdkit.DataStructs.cDataStructs.ExplicitBitVect object at 0x0000026208466F80>, <rdkit.DataStructs.cDataStructs.ExplicitBitVect object at 0x0000026208467030>, <rdkit.DataStructs.cDataStructs.ExplicitBitVect object at 0x0000026208467080>, <rdkit.DataStructs.cDataStructs.ExplicitBitVect object at 0x00000262084670D0>, <rdkit.DataStructs.cDataStructs.ExplicitBitVect object at 0x0000026208467120>, <rdkit.DataStructs.cDataStructs.ExplicitBitVect object at 0x0000026208467170>, <rdkit.DataStructs.cDataStructs.ExplicitBitVect object at 0x00000262084671C0>, <rdkit.DataStructs.cDataStructs.ExplicitBitVect object at 0x0000026208467210>, <rdkit.DataStructs.cDataStructs.ExplicitBitVect object at 0x0000026208467260>, <rdkit.DataStructs.cDataStructs.ExplicitBitVect object at 0x00000262084672B0>, <rdkit.DataStructs.cDataStructs.ExplicitBitVect object at 0x0000026208467300>, <rdkit.DataStructs.cDataStructs.ExplicitBitVect object at 0x0000026208467350>, <rdkit.DataStructs.cDataStructs.ExplicitBitVect object at 0x00000262084673A0>, <rdkit.DataStructs.cDataStructs.ExplicitBitVect object at 0x00000262084673F0>, <rdkit.DataStructs.cDataStructs.ExplicitBitVect object at 0x0000026208467440>, <rdkit.DataStructs.cDataStructs.ExplicitBitVect object at 0x0000026208467490>, <rdkit.DataStructs.cDataStructs.ExplicitBitVect object at 0x00000262084674E0>, <rdkit.DataStructs.cDataStructs.ExplicitBitVect object at 0x0000026208467530>, <rdkit.DataStructs.cDataStructs.ExplicitBitVect object at 0x0000026208467580>, <rdkit.DataStructs.cDataStructs.ExplicitBitVect object at 0x00000262084675D0>, <rdkit.DataStructs.cDataStructs.ExplicitBitVect object at 0x0000026208467620>, <rdkit.DataStructs.cDataStructs.ExplicitBitVect object at 0x0000026208467670>, <rdkit.DataStructs.cDataStructs.ExplicitBitVect object at 0x00000262084676C0>, <rdkit.DataStructs.cDataStructs.ExplicitBitVect object at 0x0000026208467710>, <rdkit.DataStructs.cDataStructs.ExplicitBitVect object at 0x0000026208467760>, <rdkit.DataStructs.cDataStructs.ExplicitBitVect object at 0x00000262084677B0>, <rdkit.DataStructs.cDataStructs.ExplicitBitVect object at 0x0000026208467800>, <rdkit.DataStructs.cDataStructs.ExplicitBitVect object at 0x0000026208467850>, <rdkit.DataStructs.cDataStructs.ExplicitBitVect object at 0x00000262084678A0>, <rdkit.DataStructs.cDataStructs.ExplicitBitVect object at 0x00000262084678F0>, <rdkit.DataStructs.cDataStructs.ExplicitBitVect object at 0x0000026208467940>, <rdkit.DataStructs.cDataStructs.ExplicitBitVect object at 0x0000026208467990>, <rdkit.DataStructs.cDataStructs.ExplicitBitVect object at 0x00000262084679E0>, <rdkit.DataStructs.cDataStructs.ExplicitBitVect object at 0x0000026208467A30>, <rdkit.DataStructs.cDataStructs.ExplicitBitVect object at 0x0000026208467A80>, <rdkit.DataStructs.cDataStructs.ExplicitBitVect object at 0x0000026208467AD0>, <rdkit.DataStructs.cDataStructs.ExplicitBitVect object at 0x0000026208467B20>, <rdkit.DataStructs.cDataStructs.ExplicitBitVect object at 0x0000026208467B70>, <rdkit.DataStructs.cDataStructs.ExplicitBitVect object at 0x0000026208467BC0>, <rdkit.DataStructs.cDataStructs.ExplicitBitVect object at 0x0000026208467C10>, <rdkit.DataStructs.cDataStructs.ExplicitBitVect object at 0x0000026208467C60>, <rdkit.DataStructs.cDataStructs.ExplicitBitVect object at 0x0000026208467CB0>, <rdkit.DataStructs.cDataStructs.ExplicitBitVect object at 0x0000026208467D00>, <rdkit.DataStructs.cDataStructs.ExplicitBitVect object at 0x0000026208467D50>, <rdkit.DataStructs.cDataStructs.ExplicitBitVect object at 0x0000026208467DA0>, <rdkit.DataStructs.cDataStructs.ExplicitBitVect object at 0x0000026208467DF0>, <rdkit.DataStructs.cDataStructs.ExplicitBitVect object at 0x0000026208467E40>, <rdkit.DataStructs.cDataStructs.ExplicitBitVect object at 0x0000026208467E90>, <rdkit.DataStructs.cDataStructs.ExplicitBitVect object at 0x0000026208467EE0>, <rdkit.DataStructs.cDataStructs.ExplicitBitVect object at 0x0000026208467F30>, <rdkit.DataStructs.cDataStructs.ExplicitBitVect object at 0x0000026208467F80>, <rdkit.DataStructs.cDataStructs.ExplicitBitVect object at 0x0000026208468030>, <rdkit.DataStructs.cDataStructs.ExplicitBitVect object at 0x0000026208468080>, <rdkit.DataStructs.cDataStructs.ExplicitBitVect object at 0x00000262084680D0>, <rdkit.DataStructs.cDataStructs.ExplicitBitVect object at 0x0000026208468120>, <rdkit.DataStructs.cDataStructs.ExplicitBitVect object at 0x0000026208468170>, <rdkit.DataStructs.cDataStructs.ExplicitBitVect object at 0x00000262084681C0>, <rdkit.DataStructs.cDataStructs.ExplicitBitVect object at 0x0000026208468210>, <rdkit.DataStructs.cDataStructs.ExplicitBitVect object at 0x0000026208468260>, <rdkit.DataStructs.cDataStructs.ExplicitBitVect object at 0x00000262084682B0>, <rdkit.DataStructs.cDataStructs.ExplicitBitVect object at 0x0000026208468300>, <rdkit.DataStructs.cDataStructs.ExplicitBitVect object at 0x0000026208468350>, <rdkit.DataStructs.cDataStructs.ExplicitBitVect object at 0x00000262084683A0>, <rdkit.DataStructs.cDataStructs.ExplicitBitVect object at 0x00000262084683F0>, <rdkit.DataStructs.cDataStructs.ExplicitBitVect object at 0x0000026208468440>, <rdkit.DataStructs.cDataStructs.ExplicitBitVect object at 0x0000026208468490>, <rdkit.DataStructs.cDataStructs.ExplicitBitVect object at 0x00000262084684E0>, <rdkit.DataStructs.cDataStructs.ExplicitBitVect object at 0x0000026208468530>, <rdkit.DataStructs.cDataStructs.ExplicitBitVect object at 0x0000026208468580>, <rdkit.DataStructs.cDataStructs.ExplicitBitVect object at 0x00000262084685D0>, <rdkit.DataStructs.cDataStructs.ExplicitBitVect object at 0x0000026208468620>, <rdkit.DataStructs.cDataStructs.ExplicitBitVect object at 0x0000026208468670>, <rdkit.DataStructs.cDataStructs.ExplicitBitVect object at 0x00000262084686C0>, <rdkit.DataStructs.cDataStructs.ExplicitBitVect object at 0x0000026208468710>, <rdkit.DataStructs.cDataStructs.ExplicitBitVect object at 0x0000026208468760>, <rdkit.DataStructs.cDataStructs.ExplicitBitVect object at 0x00000262084687B0>, <rdkit.DataStructs.cDataStructs.ExplicitBitVect object at 0x0000026208468800>, <rdkit.DataStructs.cDataStructs.ExplicitBitVect object at 0x0000026208468850>, <rdkit.DataStructs.cDataStructs.ExplicitBitVect object at 0x00000262084688A0>, <rdkit.DataStructs.cDataStructs.ExplicitBitVect object at 0x00000262084688F0>, <rdkit.DataStructs.cDataStructs.ExplicitBitVect object at 0x0000026208468940>, <rdkit.DataStructs.cDataStructs.ExplicitBitVect object at 0x0000026208468990>, <rdkit.DataStructs.cDataStructs.ExplicitBitVect object at 0x00000262084689E0>, <rdkit.DataStructs.cDataStructs.ExplicitBitVect object at 0x0000026208468A30>, <rdkit.DataStructs.cDataStructs.ExplicitBitVect object at 0x0000026208468A80>, <rdkit.DataStructs.cDataStructs.ExplicitBitVect object at 0x0000026208468AD0>, <rdkit.DataStructs.cDataStructs.ExplicitBitVect object at 0x0000026208468B20>, <rdkit.DataStructs.cDataStructs.ExplicitBitVect object at 0x0000026208468B70>, <rdkit.DataStructs.cDataStructs.ExplicitBitVect object at 0x0000026208468BC0>, <rdkit.DataStructs.cDataStructs.ExplicitBitVect object at 0x0000026208468C10>, <rdkit.DataStructs.cDataStructs.ExplicitBitVect object at 0x0000026208468C60>, <rdkit.DataStructs.cDataStructs.ExplicitBitVect object at 0x0000026208468CB0>, <rdkit.DataStructs.cDataStructs.ExplicitBitVect object at 0x0000026208468D00>, <rdkit.DataStructs.cDataStructs.ExplicitBitVect object at 0x0000026208468D50>, <rdkit.DataStructs.cDataStructs.ExplicitBitVect object at 0x0000026208468DA0>, <rdkit.DataStructs.cDataStructs.ExplicitBitVect object at 0x0000026208468DF0>, <rdkit.DataStructs.cDataStructs.ExplicitBitVect object at 0x0000026208468E40>, <rdkit.DataStructs.cDataStructs.ExplicitBitVect object at 0x0000026208468E90>, <rdkit.DataStructs.cDataStructs.ExplicitBitVect object at 0x0000026208468EE0>, <rdkit.DataStructs.cDataStructs.ExplicitBitVect object at 0x0000026208468F30>, <rdkit.DataStructs.cDataStructs.ExplicitBitVect object at 0x0000026208468F80>, <rdkit.DataStructs.cDataStructs.ExplicitBitVect object at 0x0000026208469030>, <rdkit.DataStructs.cDataStructs.ExplicitBitVect object at 0x0000026208469080>, <rdkit.DataStructs.cDataStructs.ExplicitBitVect object at 0x00000262084690D0>, <rdkit.DataStructs.cDataStructs.ExplicitBitVect object at 0x0000026208469120>, <rdkit.DataStructs.cDataStructs.ExplicitBitVect object at 0x0000026208469170>, <rdkit.DataStructs.cDataStructs.ExplicitBitVect object at 0x00000262084691C0>, <rdkit.DataStructs.cDataStructs.ExplicitBitVect object at 0x0000026208469210>, <rdkit.DataStructs.cDataStructs.ExplicitBitVect object at 0x0000026208469260>, <rdkit.DataStructs.cDataStructs.ExplicitBitVect object at 0x00000262084692B0>, <rdkit.DataStructs.cDataStructs.ExplicitBitVect object at 0x0000026208469300>, <rdkit.DataStructs.cDataStructs.ExplicitBitVect object at 0x0000026208469350>, <rdkit.DataStructs.cDataStructs.ExplicitBitVect object at 0x00000262084693A0>, <rdkit.DataStructs.cDataStructs.ExplicitBitVect object at 0x00000262084693F0>, <rdkit.DataStructs.cDataStructs.ExplicitBitVect object at 0x0000026208469440>, <rdkit.DataStructs.cDataStructs.ExplicitBitVect object at 0x0000026208469490>, <rdkit.DataStructs.cDataStructs.ExplicitBitVect object at 0x00000262084694E0>, <rdkit.DataStructs.cDataStructs.ExplicitBitVect object at 0x0000026208469530>, <rdkit.DataStructs.cDataStructs.ExplicitBitVect object at 0x0000026208469580>, <rdkit.DataStructs.cDataStructs.ExplicitBitVect object at 0x00000262084695D0>, <rdkit.DataStructs.cDataStructs.ExplicitBitVect object at 0x0000026208469620>, <rdkit.DataStructs.cDataStructs.ExplicitBitVect object at 0x0000026208469670>, <rdkit.DataStructs.cDataStructs.ExplicitBitVect object at 0x00000262084696C0>, <rdkit.DataStructs.cDataStructs.ExplicitBitVect object at 0x0000026208469710>, <rdkit.DataStructs.cDataStructs.ExplicitBitVect object at 0x0000026208469760>, <rdkit.DataStructs.cDataStructs.ExplicitBitVect object at 0x00000262084697B0>, <rdkit.DataStructs.cDataStructs.ExplicitBitVect object at 0x0000026208469800>, <rdkit.DataStructs.cDataStructs.ExplicitBitVect object at 0x0000026208469850>, <rdkit.DataStructs.cDataStructs.ExplicitBitVect object at 0x00000262084698A0>, <rdkit.DataStructs.cDataStructs.ExplicitBitVect object at 0x00000262084698F0>, <rdkit.DataStructs.cDataStructs.ExplicitBitVect object at 0x0000026208469940>, <rdkit.DataStructs.cDataStructs.ExplicitBitVect object at 0x0000026208469990>, <rdkit.DataStructs.cDataStructs.ExplicitBitVect object at 0x00000262084699E0>, <rdkit.DataStructs.cDataStructs.ExplicitBitVect object at 0x0000026208469A30>, <rdkit.DataStructs.cDataStructs.ExplicitBitVect object at 0x0000026208469A80>, <rdkit.DataStructs.cDataStructs.ExplicitBitVect object at 0x0000026208469AD0>, <rdkit.DataStructs.cDataStructs.ExplicitBitVect object at 0x0000026208469B20>, <rdkit.DataStructs.cDataStructs.ExplicitBitVect object at 0x0000026208469B70>, <rdkit.DataStructs.cDataStructs.ExplicitBitVect object at 0x0000026208469BC0>, <rdkit.DataStructs.cDataStructs.ExplicitBitVect object at 0x0000026208469C10>, <rdkit.DataStructs.cDataStructs.ExplicitBitVect object at 0x0000026208469C60>, <rdkit.DataStructs.cDataStructs.ExplicitBitVect object at 0x0000026208469CB0>, <rdkit.DataStructs.cDataStructs.ExplicitBitVect object at 0x0000026208469D00>, <rdkit.DataStructs.cDataStructs.ExplicitBitVect object at 0x0000026208469D50>, <rdkit.DataStructs.cDataStructs.ExplicitBitVect object at 0x0000026208469DA0>, <rdkit.DataStructs.cDataStructs.ExplicitBitVect object at 0x0000026208469DF0>, <rdkit.DataStructs.cDataStructs.ExplicitBitVect object at 0x0000026208469E40>, <rdkit.DataStructs.cDataStructs.ExplicitBitVect object at 0x0000026208469E90>, <rdkit.DataStructs.cDataStructs.ExplicitBitVect object at 0x0000026208469EE0>, <rdkit.DataStructs.cDataStructs.ExplicitBitVect object at 0x0000026208469F30>, <rdkit.DataStructs.cDataStructs.ExplicitBitVect object at 0x0000026208469F80>, <rdkit.DataStructs.cDataStructs.ExplicitBitVect object at 0x000002620846A030>, <rdkit.DataStructs.cDataStructs.ExplicitBitVect object at 0x000002620846A080>, <rdkit.DataStructs.cDataStructs.ExplicitBitVect object at 0x000002620846A0D0>, <rdkit.DataStructs.cDataStructs.ExplicitBitVect object at 0x000002620846A120>, <rdkit.DataStructs.cDataStructs.ExplicitBitVect object at 0x000002620846A170>, <rdkit.DataStructs.cDataStructs.ExplicitBitVect object at 0x000002620846A1C0>, <rdkit.DataStructs.cDataStructs.ExplicitBitVect object at 0x000002620846A210>, <rdkit.DataStructs.cDataStructs.ExplicitBitVect object at 0x000002620846A260>, <rdkit.DataStructs.cDataStructs.ExplicitBitVect object at 0x000002620846A2B0>, <rdkit.DataStructs.cDataStructs.ExplicitBitVect object at 0x000002620846A300>, <rdkit.DataStructs.cDataStructs.ExplicitBitVect object at 0x000002620846A350>, <rdkit.DataStructs.cDataStructs.ExplicitBitVect object at 0x000002620846A3A0>, <rdkit.DataStructs.cDataStructs.ExplicitBitVect object at 0x000002620846A3F0>, <rdkit.DataStructs.cDataStructs.ExplicitBitVect object at 0x000002620846A440>, <rdkit.DataStructs.cDataStructs.ExplicitBitVect object at 0x000002620846A490>, <rdkit.DataStructs.cDataStructs.ExplicitBitVect object at 0x000002620846A4E0>, <rdkit.DataStructs.cDataStructs.ExplicitBitVect object at 0x000002620846A530>, <rdkit.DataStructs.cDataStructs.ExplicitBitVect object at 0x000002620846A580>, <rdkit.DataStructs.cDataStructs.ExplicitBitVect object at 0x000002620846A5D0>, <rdkit.DataStructs.cDataStructs.ExplicitBitVect object at 0x000002620846A620>, <rdkit.DataStructs.cDataStructs.ExplicitBitVect object at 0x000002620846A670>, <rdkit.DataStructs.cDataStructs.ExplicitBitVect object at 0x000002620846A6C0>, <rdkit.DataStructs.cDataStructs.ExplicitBitVect object at 0x000002620846A710>, <rdkit.DataStructs.cDataStructs.ExplicitBitVect object at 0x000002620846A760>, <rdkit.DataStructs.cDataStructs.ExplicitBitVect object at 0x000002620846A7B0>, <rdkit.DataStructs.cDataStructs.ExplicitBitVect object at 0x000002620846A800>, <rdkit.DataStructs.cDataStructs.ExplicitBitVect object at 0x000002620846A850>, <rdkit.DataStructs.cDataStructs.ExplicitBitVect object at 0x000002620846A8A0>, <rdkit.DataStructs.cDataStructs.ExplicitBitVect object at 0x000002620846A8F0>, <rdkit.DataStructs.cDataStructs.ExplicitBitVect object at 0x000002620846A940>, <rdkit.DataStructs.cDataStructs.ExplicitBitVect object at 0x000002620846A990>, <rdkit.DataStructs.cDataStructs.ExplicitBitVect object at 0x000002620846A9E0>, <rdkit.DataStructs.cDataStructs.ExplicitBitVect object at 0x000002620846AA30>, <rdkit.DataStructs.cDataStructs.ExplicitBitVect object at 0x000002620846AA80>, <rdkit.DataStructs.cDataStructs.ExplicitBitVect object at 0x000002620846AAD0>, <rdkit.DataStructs.cDataStructs.ExplicitBitVect object at 0x000002620846AB20>, <rdkit.DataStructs.cDataStructs.ExplicitBitVect object at 0x000002620846AB70>, <rdkit.DataStructs.cDataStructs.ExplicitBitVect object at 0x000002620846ABC0>, <rdkit.DataStructs.cDataStructs.ExplicitBitVect object at 0x000002620846AC10>, <rdkit.DataStructs.cDataStructs.ExplicitBitVect object at 0x000002620846AC60>, <rdkit.DataStructs.cDataStructs.ExplicitBitVect object at 0x000002620846ACB0>, <rdkit.DataStructs.cDataStructs.ExplicitBitVect object at 0x000002620846AD00>, <rdkit.DataStructs.cDataStructs.ExplicitBitVect object at 0x000002620846AD50>, <rdkit.DataStructs.cDataStructs.ExplicitBitVect object at 0x000002620846ADA0>, <rdkit.DataStructs.cDataStructs.ExplicitBitVect object at 0x000002620846ADF0>, <rdkit.DataStructs.cDataStructs.ExplicitBitVect object at 0x000002620846AE40>, <rdkit.DataStructs.cDataStructs.ExplicitBitVect object at 0x000002620846AE90>, <rdkit.DataStructs.cDataStructs.ExplicitBitVect object at 0x000002620846AEE0>, <rdkit.DataStructs.cDataStructs.ExplicitBitVect object at 0x000002620846AF30>, <rdkit.DataStructs.cDataStructs.ExplicitBitVect object at 0x000002620846AF80>, <rdkit.DataStructs.cDataStructs.ExplicitBitVect object at 0x000002620846B030>, <rdkit.DataStructs.cDataStructs.ExplicitBitVect object at 0x000002620846B080>, <rdkit.DataStructs.cDataStructs.ExplicitBitVect object at 0x000002620846B0D0>, <rdkit.DataStructs.cDataStructs.ExplicitBitVect object at 0x000002620846B120>, <rdkit.DataStructs.cDataStructs.ExplicitBitVect object at 0x000002620846B170>, <rdkit.DataStructs.cDataStructs.ExplicitBitVect object at 0x000002620846B1C0>, <rdkit.DataStructs.cDataStructs.ExplicitBitVect object at 0x000002620846B210>, <rdkit.DataStructs.cDataStructs.ExplicitBitVect object at 0x000002620846B260>, <rdkit.DataStructs.cDataStructs.ExplicitBitVect object at 0x000002620846B2B0>, <rdkit.DataStructs.cDataStructs.ExplicitBitVect object at 0x000002620846B300>, <rdkit.DataStructs.cDataStructs.ExplicitBitVect object at 0x000002620846B350>, <rdkit.DataStructs.cDataStructs.ExplicitBitVect object at 0x000002620846B3A0>, <rdkit.DataStructs.cDataStructs.ExplicitBitVect object at 0x000002620846B3F0>, <rdkit.DataStructs.cDataStructs.ExplicitBitVect object at 0x000002620846B440>, <rdkit.DataStructs.cDataStructs.ExplicitBitVect object at 0x000002620846B490>, <rdkit.DataStructs.cDataStructs.ExplicitBitVect object at 0x000002620846B4E0>, <rdkit.DataStructs.cDataStructs.ExplicitBitVect object at 0x000002620846B530>, <rdkit.DataStructs.cDataStructs.ExplicitBitVect object at 0x000002620846B580>, <rdkit.DataStructs.cDataStructs.ExplicitBitVect object at 0x000002620846B5D0>, <rdkit.DataStructs.cDataStructs.ExplicitBitVect object at 0x000002620846B620>, <rdkit.DataStructs.cDataStructs.ExplicitBitVect object at 0x000002620846B670>, <rdkit.DataStructs.cDataStructs.ExplicitBitVect object at 0x000002620846B6C0>, <rdkit.DataStructs.cDataStructs.ExplicitBitVect object at 0x000002620846B710>, <rdkit.DataStructs.cDataStructs.ExplicitBitVect object at 0x000002620846B760>, <rdkit.DataStructs.cDataStructs.ExplicitBitVect object at 0x000002620846B7B0>, <rdkit.DataStructs.cDataStructs.ExplicitBitVect object at 0x000002620846B800>, <rdkit.DataStructs.cDataStructs.ExplicitBitVect object at 0x000002620846B850>, <rdkit.DataStructs.cDataStructs.ExplicitBitVect object at 0x000002620846B8A0>, <rdkit.DataStructs.cDataStructs.ExplicitBitVect object at 0x000002620846B8F0>, <rdkit.DataStructs.cDataStructs.ExplicitBitVect object at 0x000002620846B940>, <rdkit.DataStructs.cDataStructs.ExplicitBitVect object at 0x000002620846B990>, <rdkit.DataStructs.cDataStructs.ExplicitBitVect object at 0x000002620846B9E0>, <rdkit.DataStructs.cDataStructs.ExplicitBitVect object at 0x000002620846BA30>, <rdkit.DataStructs.cDataStructs.ExplicitBitVect object at 0x000002620846BA80>, <rdkit.DataStructs.cDataStructs.ExplicitBitVect object at 0x000002620846BAD0>, <rdkit.DataStructs.cDataStructs.ExplicitBitVect object at 0x000002620846BB20>, <rdkit.DataStructs.cDataStructs.ExplicitBitVect object at 0x000002620846BB70>, <rdkit.DataStructs.cDataStructs.ExplicitBitVect object at 0x000002620846BBC0>, <rdkit.DataStructs.cDataStructs.ExplicitBitVect object at 0x000002620846BC10>, <rdkit.DataStructs.cDataStructs.ExplicitBitVect object at 0x000002620846BC60>, <rdkit.DataStructs.cDataStructs.ExplicitBitVect object at 0x000002620846BCB0>, <rdkit.DataStructs.cDataStructs.ExplicitBitVect object at 0x000002620846BD00>, <rdkit.DataStructs.cDataStructs.ExplicitBitVect object at 0x000002620846BD50>, <rdkit.DataStructs.cDataStructs.ExplicitBitVect object at 0x000002620846BDA0>, <rdkit.DataStructs.cDataStructs.ExplicitBitVect object at 0x000002620846BDF0>, <rdkit.DataStructs.cDataStructs.ExplicitBitVect object at 0x000002620846BE40>, <rdkit.DataStructs.cDataStructs.ExplicitBitVect object at 0x000002620846BE90>, <rdkit.DataStructs.cDataStructs.ExplicitBitVect object at 0x000002620846BEE0>, <rdkit.DataStructs.cDataStructs.ExplicitBitVect object at 0x000002620846BF30>, <rdkit.DataStructs.cDataStructs.ExplicitBitVect object at 0x000002620846BF80>, <rdkit.DataStructs.cDataStructs.ExplicitBitVect object at 0x000002620846C030>, <rdkit.DataStructs.cDataStructs.ExplicitBitVect object at 0x000002620846C080>, <rdkit.DataStructs.cDataStructs.ExplicitBitVect object at 0x000002620846C0D0>, <rdkit.DataStructs.cDataStructs.ExplicitBitVect object at 0x000002620846C120>, <rdkit.DataStructs.cDataStructs.ExplicitBitVect object at 0x000002620846C170>, <rdkit.DataStructs.cDataStructs.ExplicitBitVect object at 0x000002620846C1C0>, <rdkit.DataStructs.cDataStructs.ExplicitBitVect object at 0x000002620846C210>, <rdkit.DataStructs.cDataStructs.ExplicitBitVect object at 0x000002620846C260>, <rdkit.DataStructs.cDataStructs.ExplicitBitVect object at 0x000002620846C2B0>, <rdkit.DataStructs.cDataStructs.ExplicitBitVect object at 0x000002620846C300>, <rdkit.DataStructs.cDataStructs.ExplicitBitVect object at 0x000002620846C350>, <rdkit.DataStructs.cDataStructs.ExplicitBitVect object at 0x000002620846C3A0>, <rdkit.DataStructs.cDataStructs.ExplicitBitVect object at 0x000002620846C3F0>, <rdkit.DataStructs.cDataStructs.ExplicitBitVect object at 0x000002620846C440>, <rdkit.DataStructs.cDataStructs.ExplicitBitVect object at 0x000002620846C490>, <rdkit.DataStructs.cDataStructs.ExplicitBitVect object at 0x000002620846C4E0>, <rdkit.DataStructs.cDataStructs.ExplicitBitVect object at 0x000002620846C530>, <rdkit.DataStructs.cDataStructs.ExplicitBitVect object at 0x000002620846C580>, <rdkit.DataStructs.cDataStructs.ExplicitBitVect object at 0x000002620846C5D0>, <rdkit.DataStructs.cDataStructs.ExplicitBitVect object at 0x000002620846C620>, <rdkit.DataStructs.cDataStructs.ExplicitBitVect object at 0x000002620846C670>, <rdkit.DataStructs.cDataStructs.ExplicitBitVect object at 0x000002620846C6C0>, <rdkit.DataStructs.cDataStructs.ExplicitBitVect object at 0x000002620846C710>, <rdkit.DataStructs.cDataStructs.ExplicitBitVect object at 0x000002620846C760>, <rdkit.DataStructs.cDataStructs.ExplicitBitVect object at 0x000002620846C7B0>, <rdkit.DataStructs.cDataStructs.ExplicitBitVect object at 0x000002620846C800>, <rdkit.DataStructs.cDataStructs.ExplicitBitVect object at 0x000002620846C850>, <rdkit.DataStructs.cDataStructs.ExplicitBitVect object at 0x000002620846C8A0>, <rdkit.DataStructs.cDataStructs.ExplicitBitVect object at 0x000002620846C8F0>, <rdkit.DataStructs.cDataStructs.ExplicitBitVect object at 0x000002620846C940>, <rdkit.DataStructs.cDataStructs.ExplicitBitVect object at 0x000002620846C990>, <rdkit.DataStructs.cDataStructs.ExplicitBitVect object at 0x000002620846C9E0>, <rdkit.DataStructs.cDataStructs.ExplicitBitVect object at 0x000002620846CA30>, <rdkit.DataStructs.cDataStructs.ExplicitBitVect object at 0x000002620846CA80>, <rdkit.DataStructs.cDataStructs.ExplicitBitVect object at 0x000002620846CAD0>, <rdkit.DataStructs.cDataStructs.ExplicitBitVect object at 0x000002620846CB20>, <rdkit.DataStructs.cDataStructs.ExplicitBitVect object at 0x000002620846CB70>, <rdkit.DataStructs.cDataStructs.ExplicitBitVect object at 0x000002620846CBC0>, <rdkit.DataStructs.cDataStructs.ExplicitBitVect object at 0x000002620846CC10>, <rdkit.DataStructs.cDataStructs.ExplicitBitVect object at 0x000002620846CC60>, <rdkit.DataStructs.cDataStructs.ExplicitBitVect object at 0x000002620846CCB0>, <rdkit.DataStructs.cDataStructs.ExplicitBitVect object at 0x000002620846CD00>, <rdkit.DataStructs.cDataStructs.ExplicitBitVect object at 0x000002620846CD50>, <rdkit.DataStructs.cDataStructs.ExplicitBitVect object at 0x000002620846CDA0>, <rdkit.DataStructs.cDataStructs.ExplicitBitVect object at 0x000002620846CDF0>, <rdkit.DataStructs.cDataStructs.ExplicitBitVect object at 0x000002620846CE40>, <rdkit.DataStructs.cDataStructs.ExplicitBitVect object at 0x000002620846CE90>, <rdkit.DataStructs.cDataStructs.ExplicitBitVect object at 0x000002620846CEE0>, <rdkit.DataStructs.cDataStructs.ExplicitBitVect object at 0x000002620846CF30>, <rdkit.DataStructs.cDataStructs.ExplicitBitVect object at 0x000002620846CF80>, <rdkit.DataStructs.cDataStructs.ExplicitBitVect object at 0x000002620846D030>, <rdkit.DataStructs.cDataStructs.ExplicitBitVect object at 0x000002620846D080>, <rdkit.DataStructs.cDataStructs.ExplicitBitVect object at 0x000002620846D0D0>, <rdkit.DataStructs.cDataStructs.ExplicitBitVect object at 0x000002620846D120>, <rdkit.DataStructs.cDataStructs.ExplicitBitVect object at 0x000002620846D170>, <rdkit.DataStructs.cDataStructs.ExplicitBitVect object at 0x000002620846D1C0>, <rdkit.DataStructs.cDataStructs.ExplicitBitVect object at 0x000002620846D210>, <rdkit.DataStructs.cDataStructs.ExplicitBitVect object at 0x000002620846D260>, <rdkit.DataStructs.cDataStructs.ExplicitBitVect object at 0x000002620846D2B0>, <rdkit.DataStructs.cDataStructs.ExplicitBitVect object at 0x000002620846D300>, <rdkit.DataStructs.cDataStructs.ExplicitBitVect object at 0x000002620846D350>, <rdkit.DataStructs.cDataStructs.ExplicitBitVect object at 0x000002620846D3A0>, <rdkit.DataStructs.cDataStructs.ExplicitBitVect object at 0x000002620846D3F0>, <rdkit.DataStructs.cDataStructs.ExplicitBitVect object at 0x000002620846D440>, <rdkit.DataStructs.cDataStructs.ExplicitBitVect object at 0x000002620846D490>, <rdkit.DataStructs.cDataStructs.ExplicitBitVect object at 0x000002620846D4E0>, <rdkit.DataStructs.cDataStructs.ExplicitBitVect object at 0x000002620846D530>, <rdkit.DataStructs.cDataStructs.ExplicitBitVect object at 0x000002620846D580>, <rdkit.DataStructs.cDataStructs.ExplicitBitVect object at 0x000002620846D5D0>, <rdkit.DataStructs.cDataStructs.ExplicitBitVect object at 0x000002620846D620>, <rdkit.DataStructs.cDataStructs.ExplicitBitVect object at 0x000002620846D670>, <rdkit.DataStructs.cDataStructs.ExplicitBitVect object at 0x000002620846D6C0>, <rdkit.DataStructs.cDataStructs.ExplicitBitVect object at 0x000002620846D710>, <rdkit.DataStructs.cDataStructs.ExplicitBitVect object at 0x000002620846D760>, <rdkit.DataStructs.cDataStructs.ExplicitBitVect object at 0x000002620846D7B0>, <rdkit.DataStructs.cDataStructs.ExplicitBitVect object at 0x000002620846D800>, <rdkit.DataStructs.cDataStructs.ExplicitBitVect object at 0x000002620846D850>, <rdkit.DataStructs.cDataStructs.ExplicitBitVect object at 0x000002620846D8A0>, <rdkit.DataStructs.cDataStructs.ExplicitBitVect object at 0x000002620846D8F0>, <rdkit.DataStructs.cDataStructs.ExplicitBitVect object at 0x000002620846D940>, <rdkit.DataStructs.cDataStructs.ExplicitBitVect object at 0x000002620846D990>, <rdkit.DataStructs.cDataStructs.ExplicitBitVect object at 0x000002620846D9E0>, <rdkit.DataStructs.cDataStructs.ExplicitBitVect object at 0x000002620846DA30>, <rdkit.DataStructs.cDataStructs.ExplicitBitVect object at 0x000002620846DA80>, <rdkit.DataStructs.cDataStructs.ExplicitBitVect object at 0x000002620846DAD0>, <rdkit.DataStructs.cDataStructs.ExplicitBitVect object at 0x000002620846DB20>, <rdkit.DataStructs.cDataStructs.ExplicitBitVect object at 0x000002620846DB70>, <rdkit.DataStructs.cDataStructs.ExplicitBitVect object at 0x000002620846DBC0>, <rdkit.DataStructs.cDataStructs.ExplicitBitVect object at 0x000002620846DC10>, <rdkit.DataStructs.cDataStructs.ExplicitBitVect object at 0x000002620846DC60>, <rdkit.DataStructs.cDataStructs.ExplicitBitVect object at 0x000002620846DCB0>, <rdkit.DataStructs.cDataStructs.ExplicitBitVect object at 0x000002620846DD00>, <rdkit.DataStructs.cDataStructs.ExplicitBitVect object at 0x000002620846DD50>, <rdkit.DataStructs.cDataStructs.ExplicitBitVect object at 0x000002620846DDA0>, <rdkit.DataStructs.cDataStructs.ExplicitBitVect object at 0x000002620846DDF0>, <rdkit.DataStructs.cDataStructs.ExplicitBitVect object at 0x000002620846DE40>, <rdkit.DataStructs.cDataStructs.ExplicitBitVect object at 0x000002620846DE90>, <rdkit.DataStructs.cDataStructs.ExplicitBitVect object at 0x000002620846DEE0>, <rdkit.DataStructs.cDataStructs.ExplicitBitVect object at 0x000002620846DF30>, <rdkit.DataStructs.cDataStructs.ExplicitBitVect object at 0x000002620846DF80>, <rdkit.DataStructs.cDataStructs.ExplicitBitVect object at 0x000002620846E030>, <rdkit.DataStructs.cDataStructs.ExplicitBitVect object at 0x000002620846E080>, <rdkit.DataStructs.cDataStructs.ExplicitBitVect object at 0x000002620846E0D0>, <rdkit.DataStructs.cDataStructs.ExplicitBitVect object at 0x000002620846E120>, <rdkit.DataStructs.cDataStructs.ExplicitBitVect object at 0x000002620846E170>, <rdkit.DataStructs.cDataStructs.ExplicitBitVect object at 0x000002620846E1C0>, <rdkit.DataStructs.cDataStructs.ExplicitBitVect object at 0x000002620846E210>, <rdkit.DataStructs.cDataStructs.ExplicitBitVect object at 0x000002620846E260>, <rdkit.DataStructs.cDataStructs.ExplicitBitVect object at 0x000002620846E2B0>, <rdkit.DataStructs.cDataStructs.ExplicitBitVect object at 0x000002620846E300>, <rdkit.DataStructs.cDataStructs.ExplicitBitVect object at 0x000002620846E350>, <rdkit.DataStructs.cDataStructs.ExplicitBitVect object at 0x000002620846E3A0>, <rdkit.DataStructs.cDataStructs.ExplicitBitVect object at 0x000002620846E3F0>, <rdkit.DataStructs.cDataStructs.ExplicitBitVect object at 0x000002620846E440>, <rdkit.DataStructs.cDataStructs.ExplicitBitVect object at 0x000002620846E490>, <rdkit.DataStructs.cDataStructs.ExplicitBitVect object at 0x000002620846E4E0>, <rdkit.DataStructs.cDataStructs.ExplicitBitVect object at 0x000002620846E530>, <rdkit.DataStructs.cDataStructs.ExplicitBitVect object at 0x000002620846E580>, <rdkit.DataStructs.cDataStructs.ExplicitBitVect object at 0x000002620846E5D0>, <rdkit.DataStructs.cDataStructs.ExplicitBitVect object at 0x000002620846E620>, <rdkit.DataStructs.cDataStructs.ExplicitBitVect object at 0x000002620846E670>, <rdkit.DataStructs.cDataStructs.ExplicitBitVect object at 0x000002620846E6C0>, <rdkit.DataStructs.cDataStructs.ExplicitBitVect object at 0x000002620846E710>, <rdkit.DataStructs.cDataStructs.ExplicitBitVect object at 0x000002620846E760>, <rdkit.DataStructs.cDataStructs.ExplicitBitVect object at 0x000002620846E7B0>, <rdkit.DataStructs.cDataStructs.ExplicitBitVect object at 0x000002620846E800>, <rdkit.DataStructs.cDataStructs.ExplicitBitVect object at 0x000002620846E850>, <rdkit.DataStructs.cDataStructs.ExplicitBitVect object at 0x000002620846E8A0>, <rdkit.DataStructs.cDataStructs.ExplicitBitVect object at 0x000002620846E8F0>, <rdkit.DataStructs.cDataStructs.ExplicitBitVect object at 0x000002620846E940>, <rdkit.DataStructs.cDataStructs.ExplicitBitVect object at 0x000002620846E990>, <rdkit.DataStructs.cDataStructs.ExplicitBitVect object at 0x000002620846E9E0>, <rdkit.DataStructs.cDataStructs.ExplicitBitVect object at 0x000002620846EA30>, <rdkit.DataStructs.cDataStructs.ExplicitBitVect object at 0x000002620846EA80>, <rdkit.DataStructs.cDataStructs.ExplicitBitVect object at 0x000002620846EAD0>, <rdkit.DataStructs.cDataStructs.ExplicitBitVect object at 0x000002620846EB20>, <rdkit.DataStructs.cDataStructs.ExplicitBitVect object at 0x000002620846EB70>, <rdkit.DataStructs.cDataStructs.ExplicitBitVect object at 0x000002620846EBC0>, <rdkit.DataStructs.cDataStructs.ExplicitBitVect object at 0x000002620846EC10>, <rdkit.DataStructs.cDataStructs.ExplicitBitVect object at 0x000002620846EC60>, <rdkit.DataStructs.cDataStructs.ExplicitBitVect object at 0x000002620846ECB0>, <rdkit.DataStructs.cDataStructs.ExplicitBitVect object at 0x000002620846ED00>, <rdkit.DataStructs.cDataStructs.ExplicitBitVect object at 0x000002620846ED50>, <rdkit.DataStructs.cDataStructs.ExplicitBitVect object at 0x000002620846EDA0>, <rdkit.DataStructs.cDataStructs.ExplicitBitVect object at 0x000002620846EDF0>, <rdkit.DataStructs.cDataStructs.ExplicitBitVect object at 0x000002620846EE40>, <rdkit.DataStructs.cDataStructs.ExplicitBitVect object at 0x000002620846EE90>, <rdkit.DataStructs.cDataStructs.ExplicitBitVect object at 0x000002620846EEE0>, <rdkit.DataStructs.cDataStructs.ExplicitBitVect object at 0x000002620846EF30>, <rdkit.DataStructs.cDataStructs.ExplicitBitVect object at 0x000002620846EF80>, <rdkit.DataStructs.cDataStructs.ExplicitBitVect object at 0x000002620846F030>, <rdkit.DataStructs.cDataStructs.ExplicitBitVect object at 0x000002620846F080>, <rdkit.DataStructs.cDataStructs.ExplicitBitVect object at 0x000002620846F0D0>, <rdkit.DataStructs.cDataStructs.ExplicitBitVect object at 0x000002620846F120>, <rdkit.DataStructs.cDataStructs.ExplicitBitVect object at 0x000002620846F170>, <rdkit.DataStructs.cDataStructs.ExplicitBitVect object at 0x000002620846F1C0>, <rdkit.DataStructs.cDataStructs.ExplicitBitVect object at 0x000002620846F210>, <rdkit.DataStructs.cDataStructs.ExplicitBitVect object at 0x000002620846F260>, <rdkit.DataStructs.cDataStructs.ExplicitBitVect object at 0x000002620846F2B0>, <rdkit.DataStructs.cDataStructs.ExplicitBitVect object at 0x000002620846F300>, <rdkit.DataStructs.cDataStructs.ExplicitBitVect object at 0x000002620846F350>, <rdkit.DataStructs.cDataStructs.ExplicitBitVect object at 0x000002620846F3A0>, <rdkit.DataStructs.cDataStructs.ExplicitBitVect object at 0x000002620846F3F0>, <rdkit.DataStructs.cDataStructs.ExplicitBitVect object at 0x000002620846F440>, <rdkit.DataStructs.cDataStructs.ExplicitBitVect object at 0x000002620846F490>, <rdkit.DataStructs.cDataStructs.ExplicitBitVect object at 0x000002620846F4E0>, <rdkit.DataStructs.cDataStructs.ExplicitBitVect object at 0x000002620846F530>, <rdkit.DataStructs.cDataStructs.ExplicitBitVect object at 0x000002620846F580>, <rdkit.DataStructs.cDataStructs.ExplicitBitVect object at 0x000002620846F5D0>, <rdkit.DataStructs.cDataStructs.ExplicitBitVect object at 0x000002620846F620>, <rdkit.DataStructs.cDataStructs.ExplicitBitVect object at 0x000002620846F670>, <rdkit.DataStructs.cDataStructs.ExplicitBitVect object at 0x000002620846F6C0>, <rdkit.DataStructs.cDataStructs.ExplicitBitVect object at 0x000002620846F710>, <rdkit.DataStructs.cDataStructs.ExplicitBitVect object at 0x000002620846F760>, <rdkit.DataStructs.cDataStructs.ExplicitBitVect object at 0x000002620846F7B0>, <rdkit.DataStructs.cDataStructs.ExplicitBitVect object at 0x000002620846F800>, <rdkit.DataStructs.cDataStructs.ExplicitBitVect object at 0x000002620846F850>, <rdkit.DataStructs.cDataStructs.ExplicitBitVect object at 0x000002620846F8A0>, <rdkit.DataStructs.cDataStructs.ExplicitBitVect object at 0x000002620846F8F0>, <rdkit.DataStructs.cDataStructs.ExplicitBitVect object at 0x000002620846F940>, <rdkit.DataStructs.cDataStructs.ExplicitBitVect object at 0x000002620846F990>, <rdkit.DataStructs.cDataStructs.ExplicitBitVect object at 0x000002620846F9E0>, <rdkit.DataStructs.cDataStructs.ExplicitBitVect object at 0x000002620846FA30>, <rdkit.DataStructs.cDataStructs.ExplicitBitVect object at 0x000002620846FA80>, <rdkit.DataStructs.cDataStructs.ExplicitBitVect object at 0x000002620846FAD0>, <rdkit.DataStructs.cDataStructs.ExplicitBitVect object at 0x000002620846FB20>, <rdkit.DataStructs.cDataStructs.ExplicitBitVect object at 0x000002620846FB70>, <rdkit.DataStructs.cDataStructs.ExplicitBitVect object at 0x000002620846FBC0>, <rdkit.DataStructs.cDataStructs.ExplicitBitVect object at 0x000002620846FC10>, <rdkit.DataStructs.cDataStructs.ExplicitBitVect object at 0x000002620846FC60>, <rdkit.DataStructs.cDataStructs.ExplicitBitVect object at 0x000002620846FCB0>, <rdkit.DataStructs.cDataStructs.ExplicitBitVect object at 0x000002620846FD00>, <rdkit.DataStructs.cDataStructs.ExplicitBitVect object at 0x000002620846FD50>, <rdkit.DataStructs.cDataStructs.ExplicitBitVect object at 0x000002620846FDA0>, <rdkit.DataStructs.cDataStructs.ExplicitBitVect object at 0x000002620846FDF0>, <rdkit.DataStructs.cDataStructs.ExplicitBitVect object at 0x000002620846FE40>, <rdkit.DataStructs.cDataStructs.ExplicitBitVect object at 0x000002620846FE90>, <rdkit.DataStructs.cDataStructs.ExplicitBitVect object at 0x000002620846FEE0>, <rdkit.DataStructs.cDataStructs.ExplicitBitVect object at 0x000002620846FF30>, <rdkit.DataStructs.cDataStructs.ExplicitBitVect object at 0x000002620846FF80>, <rdkit.DataStructs.cDataStructs.ExplicitBitVect object at 0x0000026208470030>, <rdkit.DataStructs.cDataStructs.ExplicitBitVect object at 0x0000026208470080>, <rdkit.DataStructs.cDataStructs.ExplicitBitVect object at 0x00000262084700D0>, <rdkit.DataStructs.cDataStructs.ExplicitBitVect object at 0x0000026208470120>, <rdkit.DataStructs.cDataStructs.ExplicitBitVect object at 0x0000026208470170>, <rdkit.DataStructs.cDataStructs.ExplicitBitVect object at 0x00000262084701C0>, <rdkit.DataStructs.cDataStructs.ExplicitBitVect object at 0x0000026208470210>, <rdkit.DataStructs.cDataStructs.ExplicitBitVect object at 0x0000026208470260>, <rdkit.DataStructs.cDataStructs.ExplicitBitVect object at 0x00000262084702B0>, <rdkit.DataStructs.cDataStructs.ExplicitBitVect object at 0x0000026208470300>, <rdkit.DataStructs.cDataStructs.ExplicitBitVect object at 0x0000026208470350>, <rdkit.DataStructs.cDataStructs.ExplicitBitVect object at 0x00000262084703A0>, <rdkit.DataStructs.cDataStructs.ExplicitBitVect object at 0x00000262084703F0>, <rdkit.DataStructs.cDataStructs.ExplicitBitVect object at 0x0000026208470440>, <rdkit.DataStructs.cDataStructs.ExplicitBitVect object at 0x0000026208470490>, <rdkit.DataStructs.cDataStructs.ExplicitBitVect object at 0x00000262084704E0>, <rdkit.DataStructs.cDataStructs.ExplicitBitVect object at 0x0000026208470530>, <rdkit.DataStructs.cDataStructs.ExplicitBitVect object at 0x0000026208470580>, <rdkit.DataStructs.cDataStructs.ExplicitBitVect object at 0x00000262084705D0>, <rdkit.DataStructs.cDataStructs.ExplicitBitVect object at 0x0000026208470620>, <rdkit.DataStructs.cDataStructs.ExplicitBitVect object at 0x0000026208470670>, <rdkit.DataStructs.cDataStructs.ExplicitBitVect object at 0x00000262084706C0>, <rdkit.DataStructs.cDataStructs.ExplicitBitVect object at 0x0000026208470710>, <rdkit.DataStructs.cDataStructs.ExplicitBitVect object at 0x0000026208470760>, <rdkit.DataStructs.cDataStructs.ExplicitBitVect object at 0x00000262084707B0>, <rdkit.DataStructs.cDataStructs.ExplicitBitVect object at 0x0000026208470800>, <rdkit.DataStructs.cDataStructs.ExplicitBitVect object at 0x0000026208470850>, <rdkit.DataStructs.cDataStructs.ExplicitBitVect object at 0x00000262084708A0>, <rdkit.DataStructs.cDataStructs.ExplicitBitVect object at 0x00000262084708F0>, <rdkit.DataStructs.cDataStructs.ExplicitBitVect object at 0x0000026208470940>, <rdkit.DataStructs.cDataStructs.ExplicitBitVect object at 0x0000026208470990>, <rdkit.DataStructs.cDataStructs.ExplicitBitVect object at 0x00000262084709E0>, <rdkit.DataStructs.cDataStructs.ExplicitBitVect object at 0x0000026208470A30>, <rdkit.DataStructs.cDataStructs.ExplicitBitVect object at 0x0000026208470A80>, <rdkit.DataStructs.cDataStructs.ExplicitBitVect object at 0x0000026208470AD0>, <rdkit.DataStructs.cDataStructs.ExplicitBitVect object at 0x0000026208470B20>, <rdkit.DataStructs.cDataStructs.ExplicitBitVect object at 0x0000026208470B70>, <rdkit.DataStructs.cDataStructs.ExplicitBitVect object at 0x0000026208470BC0>, <rdkit.DataStructs.cDataStructs.ExplicitBitVect object at 0x0000026208470C10>, <rdkit.DataStructs.cDataStructs.ExplicitBitVect object at 0x0000026208470C60>, <rdkit.DataStructs.cDataStructs.ExplicitBitVect object at 0x0000026208470CB0>, <rdkit.DataStructs.cDataStructs.ExplicitBitVect object at 0x0000026208470D00>, <rdkit.DataStructs.cDataStructs.ExplicitBitVect object at 0x0000026208470D50>, <rdkit.DataStructs.cDataStructs.ExplicitBitVect object at 0x0000026208470DA0>, <rdkit.DataStructs.cDataStructs.ExplicitBitVect object at 0x0000026208470DF0>, <rdkit.DataStructs.cDataStructs.ExplicitBitVect object at 0x0000026208470E40>, <rdkit.DataStructs.cDataStructs.ExplicitBitVect object at 0x0000026208470E90>, <rdkit.DataStructs.cDataStructs.ExplicitBitVect object at 0x0000026208470EE0>, <rdkit.DataStructs.cDataStructs.ExplicitBitVect object at 0x0000026208470F30>, <rdkit.DataStructs.cDataStructs.ExplicitBitVect object at 0x0000026208470F80>, <rdkit.DataStructs.cDataStructs.ExplicitBitVect object at 0x0000026208471030>, <rdkit.DataStructs.cDataStructs.ExplicitBitVect object at 0x0000026208471080>, <rdkit.DataStructs.cDataStructs.ExplicitBitVect object at 0x00000262084710D0>, <rdkit.DataStructs.cDataStructs.ExplicitBitVect object at 0x0000026208471120>, <rdkit.DataStructs.cDataStructs.ExplicitBitVect object at 0x0000026208471170>, <rdkit.DataStructs.cDataStructs.ExplicitBitVect object at 0x00000262084711C0>, <rdkit.DataStructs.cDataStructs.ExplicitBitVect object at 0x0000026208471210>, <rdkit.DataStructs.cDataStructs.ExplicitBitVect object at 0x0000026208471260>, <rdkit.DataStructs.cDataStructs.ExplicitBitVect object at 0x00000262084712B0>, <rdkit.DataStructs.cDataStructs.ExplicitBitVect object at 0x0000026208471300>, <rdkit.DataStructs.cDataStructs.ExplicitBitVect object at 0x0000026208471350>, <rdkit.DataStructs.cDataStructs.ExplicitBitVect object at 0x00000262084713A0>, <rdkit.DataStructs.cDataStructs.ExplicitBitVect object at 0x00000262084713F0>, <rdkit.DataStructs.cDataStructs.ExplicitBitVect object at 0x0000026208471440>, <rdkit.DataStructs.cDataStructs.ExplicitBitVect object at 0x0000026208471490>, <rdkit.DataStructs.cDataStructs.ExplicitBitVect object at 0x00000262084714E0>, <rdkit.DataStructs.cDataStructs.ExplicitBitVect object at 0x0000026208471530>, <rdkit.DataStructs.cDataStructs.ExplicitBitVect object at 0x0000026208471580>, <rdkit.DataStructs.cDataStructs.ExplicitBitVect object at 0x00000262084715D0>, <rdkit.DataStructs.cDataStructs.ExplicitBitVect object at 0x0000026208471620>, <rdkit.DataStructs.cDataStructs.ExplicitBitVect object at 0x0000026208471670>, <rdkit.DataStructs.cDataStructs.ExplicitBitVect object at 0x00000262084716C0>, <rdkit.DataStructs.cDataStructs.ExplicitBitVect object at 0x0000026208471710>, <rdkit.DataStructs.cDataStructs.ExplicitBitVect object at 0x0000026208471760>, <rdkit.DataStructs.cDataStructs.ExplicitBitVect object at 0x00000262084717B0>, <rdkit.DataStructs.cDataStructs.ExplicitBitVect object at 0x0000026208471800>, <rdkit.DataStructs.cDataStructs.ExplicitBitVect object at 0x0000026208471850>, <rdkit.DataStructs.cDataStructs.ExplicitBitVect object at 0x00000262084718A0>, <rdkit.DataStructs.cDataStructs.ExplicitBitVect object at 0x00000262084718F0>, <rdkit.DataStructs.cDataStructs.ExplicitBitVect object at 0x0000026208471940>, <rdkit.DataStructs.cDataStructs.ExplicitBitVect object at 0x0000026208471990>, <rdkit.DataStructs.cDataStructs.ExplicitBitVect object at 0x00000262084719E0>, <rdkit.DataStructs.cDataStructs.ExplicitBitVect object at 0x0000026208471A30>, <rdkit.DataStructs.cDataStructs.ExplicitBitVect object at 0x0000026208471A80>, <rdkit.DataStructs.cDataStructs.ExplicitBitVect object at 0x0000026208471AD0>, <rdkit.DataStructs.cDataStructs.ExplicitBitVect object at 0x0000026208471B20>, <rdkit.DataStructs.cDataStructs.ExplicitBitVect object at 0x0000026208471B70>, <rdkit.DataStructs.cDataStructs.ExplicitBitVect object at 0x0000026208471BC0>, <rdkit.DataStructs.cDataStructs.ExplicitBitVect object at 0x0000026208471C10>, <rdkit.DataStructs.cDataStructs.ExplicitBitVect object at 0x0000026208471C60>, <rdkit.DataStructs.cDataStructs.ExplicitBitVect object at 0x0000026208471CB0>, <rdkit.DataStructs.cDataStructs.ExplicitBitVect object at 0x0000026208471D00>, <rdkit.DataStructs.cDataStructs.ExplicitBitVect object at 0x0000026208471D50>, <rdkit.DataStructs.cDataStructs.ExplicitBitVect object at 0x0000026208471DA0>, <rdkit.DataStructs.cDataStructs.ExplicitBitVect object at 0x0000026208471DF0>, <rdkit.DataStructs.cDataStructs.ExplicitBitVect object at 0x0000026208471E40>, <rdkit.DataStructs.cDataStructs.ExplicitBitVect object at 0x0000026208471E90>, <rdkit.DataStructs.cDataStructs.ExplicitBitVect object at 0x0000026208471EE0>, <rdkit.DataStructs.cDataStructs.ExplicitBitVect object at 0x0000026208471F30>, <rdkit.DataStructs.cDataStructs.ExplicitBitVect object at 0x0000026208471F80>, <rdkit.DataStructs.cDataStructs.ExplicitBitVect object at 0x0000026208472030>, <rdkit.DataStructs.cDataStructs.ExplicitBitVect object at 0x0000026208472080>, <rdkit.DataStructs.cDataStructs.ExplicitBitVect object at 0x00000262084720D0>, <rdkit.DataStructs.cDataStructs.ExplicitBitVect object at 0x0000026208472120>, <rdkit.DataStructs.cDataStructs.ExplicitBitVect object at 0x0000026208472170>, <rdkit.DataStructs.cDataStructs.ExplicitBitVect object at 0x00000262084721C0>, <rdkit.DataStructs.cDataStructs.ExplicitBitVect object at 0x0000026208472210>, <rdkit.DataStructs.cDataStructs.ExplicitBitVect object at 0x0000026208472260>, <rdkit.DataStructs.cDataStructs.ExplicitBitVect object at 0x00000262084722B0>, <rdkit.DataStructs.cDataStructs.ExplicitBitVect object at 0x0000026208472300>, <rdkit.DataStructs.cDataStructs.ExplicitBitVect object at 0x0000026208472350>, <rdkit.DataStructs.cDataStructs.ExplicitBitVect object at 0x00000262084723A0>, <rdkit.DataStructs.cDataStructs.ExplicitBitVect object at 0x00000262084723F0>, <rdkit.DataStructs.cDataStructs.ExplicitBitVect object at 0x0000026208472440>, <rdkit.DataStructs.cDataStructs.ExplicitBitVect object at 0x0000026208472490>, <rdkit.DataStructs.cDataStructs.ExplicitBitVect object at 0x00000262084724E0>, <rdkit.DataStructs.cDataStructs.ExplicitBitVect object at 0x0000026208472530>, <rdkit.DataStructs.cDataStructs.ExplicitBitVect object at 0x0000026208472580>, <rdkit.DataStructs.cDataStructs.ExplicitBitVect object at 0x00000262084725D0>, <rdkit.DataStructs.cDataStructs.ExplicitBitVect object at 0x0000026208472620>, <rdkit.DataStructs.cDataStructs.ExplicitBitVect object at 0x0000026208472670>, <rdkit.DataStructs.cDataStructs.ExplicitBitVect object at 0x00000262084726C0>, <rdkit.DataStructs.cDataStructs.ExplicitBitVect object at 0x0000026208472710>, <rdkit.DataStructs.cDataStructs.ExplicitBitVect object at 0x0000026208472760>, <rdkit.DataStructs.cDataStructs.ExplicitBitVect object at 0x00000262084727B0>, <rdkit.DataStructs.cDataStructs.ExplicitBitVect object at 0x0000026208472800>, <rdkit.DataStructs.cDataStructs.ExplicitBitVect object at 0x0000026208472850>, <rdkit.DataStructs.cDataStructs.ExplicitBitVect object at 0x00000262084728A0>, <rdkit.DataStructs.cDataStructs.ExplicitBitVect object at 0x00000262084728F0>, <rdkit.DataStructs.cDataStructs.ExplicitBitVect object at 0x0000026208472940>, <rdkit.DataStructs.cDataStructs.ExplicitBitVect object at 0x0000026208472990>, <rdkit.DataStructs.cDataStructs.ExplicitBitVect object at 0x00000262084729E0>, <rdkit.DataStructs.cDataStructs.ExplicitBitVect object at 0x0000026208472A30>, <rdkit.DataStructs.cDataStructs.ExplicitBitVect object at 0x0000026208472A80>, <rdkit.DataStructs.cDataStructs.ExplicitBitVect object at 0x0000026208472AD0>, <rdkit.DataStructs.cDataStructs.ExplicitBitVect object at 0x0000026208472B20>, <rdkit.DataStructs.cDataStructs.ExplicitBitVect object at 0x0000026208472B70>, <rdkit.DataStructs.cDataStructs.ExplicitBitVect object at 0x0000026208472BC0>, <rdkit.DataStructs.cDataStructs.ExplicitBitVect object at 0x0000026208472C10>, <rdkit.DataStructs.cDataStructs.ExplicitBitVect object at 0x0000026208472C60>, <rdkit.DataStructs.cDataStructs.ExplicitBitVect object at 0x0000026208472CB0>, <rdkit.DataStructs.cDataStructs.ExplicitBitVect object at 0x0000026208472D00>, <rdkit.DataStructs.cDataStructs.ExplicitBitVect object at 0x0000026208472D50>, <rdkit.DataStructs.cDataStructs.ExplicitBitVect object at 0x0000026208472DA0>, <rdkit.DataStructs.cDataStructs.ExplicitBitVect object at 0x0000026208472DF0>, <rdkit.DataStructs.cDataStructs.ExplicitBitVect object at 0x0000026208472E40>, <rdkit.DataStructs.cDataStructs.ExplicitBitVect object at 0x0000026208472E90>, <rdkit.DataStructs.cDataStructs.ExplicitBitVect object at 0x0000026208472EE0>, <rdkit.DataStructs.cDataStructs.ExplicitBitVect object at 0x0000026208472F30>, <rdkit.DataStructs.cDataStructs.ExplicitBitVect object at 0x0000026208472F80>, <rdkit.DataStructs.cDataStructs.ExplicitBitVect object at 0x0000026208473030>, <rdkit.DataStructs.cDataStructs.ExplicitBitVect object at 0x0000026208473080>, <rdkit.DataStructs.cDataStructs.ExplicitBitVect object at 0x00000262084730D0>, <rdkit.DataStructs.cDataStructs.ExplicitBitVect object at 0x0000026208473120>, <rdkit.DataStructs.cDataStructs.ExplicitBitVect object at 0x0000026208473170>, <rdkit.DataStructs.cDataStructs.ExplicitBitVect object at 0x00000262084731C0>, <rdkit.DataStructs.cDataStructs.ExplicitBitVect object at 0x0000026208473210>, <rdkit.DataStructs.cDataStructs.ExplicitBitVect object at 0x0000026208473260>, <rdkit.DataStructs.cDataStructs.ExplicitBitVect object at 0x00000262084732B0>, <rdkit.DataStructs.cDataStructs.ExplicitBitVect object at 0x0000026208473300>, <rdkit.DataStructs.cDataStructs.ExplicitBitVect object at 0x0000026208473350>, <rdkit.DataStructs.cDataStructs.ExplicitBitVect object at 0x00000262084733A0>, <rdkit.DataStructs.cDataStructs.ExplicitBitVect object at 0x00000262084733F0>, <rdkit.DataStructs.cDataStructs.ExplicitBitVect object at 0x0000026208473440>, <rdkit.DataStructs.cDataStructs.ExplicitBitVect object at 0x0000026208473490>, <rdkit.DataStructs.cDataStructs.ExplicitBitVect object at 0x00000262084734E0>, <rdkit.DataStructs.cDataStructs.ExplicitBitVect object at 0x0000026208473530>, <rdkit.DataStructs.cDataStructs.ExplicitBitVect object at 0x0000026208473580>, <rdkit.DataStructs.cDataStructs.ExplicitBitVect object at 0x00000262084735D0>, <rdkit.DataStructs.cDataStructs.ExplicitBitVect object at 0x0000026208473620>, <rdkit.DataStructs.cDataStructs.ExplicitBitVect object at 0x0000026208473670>, <rdkit.DataStructs.cDataStructs.ExplicitBitVect object at 0x00000262084736C0>, <rdkit.DataStructs.cDataStructs.ExplicitBitVect object at 0x0000026208473710>, <rdkit.DataStructs.cDataStructs.ExplicitBitVect object at 0x0000026208473760>, <rdkit.DataStructs.cDataStructs.ExplicitBitVect object at 0x00000262084737B0>, <rdkit.DataStructs.cDataStructs.ExplicitBitVect object at 0x0000026208473800>, <rdkit.DataStructs.cDataStructs.ExplicitBitVect object at 0x0000026208473850>, <rdkit.DataStructs.cDataStructs.ExplicitBitVect object at 0x00000262084738A0>, <rdkit.DataStructs.cDataStructs.ExplicitBitVect object at 0x00000262084738F0>, <rdkit.DataStructs.cDataStructs.ExplicitBitVect object at 0x0000026208473940>, <rdkit.DataStructs.cDataStructs.ExplicitBitVect object at 0x0000026208473990>, <rdkit.DataStructs.cDataStructs.ExplicitBitVect object at 0x00000262084739E0>, <rdkit.DataStructs.cDataStructs.ExplicitBitVect object at 0x0000026208473A30>, <rdkit.DataStructs.cDataStructs.ExplicitBitVect object at 0x0000026208473A80>, <rdkit.DataStructs.cDataStructs.ExplicitBitVect object at 0x0000026208473AD0>, <rdkit.DataStructs.cDataStructs.ExplicitBitVect object at 0x0000026208473B20>, <rdkit.DataStructs.cDataStructs.ExplicitBitVect object at 0x0000026208473B70>, <rdkit.DataStructs.cDataStructs.ExplicitBitVect object at 0x0000026208473BC0>, <rdkit.DataStructs.cDataStructs.ExplicitBitVect object at 0x0000026208473C10>, <rdkit.DataStructs.cDataStructs.ExplicitBitVect object at 0x0000026208473C60>, <rdkit.DataStructs.cDataStructs.ExplicitBitVect object at 0x0000026208473CB0>, <rdkit.DataStructs.cDataStructs.ExplicitBitVect object at 0x0000026208473D00>, <rdkit.DataStructs.cDataStructs.ExplicitBitVect object at 0x0000026208473D50>, <rdkit.DataStructs.cDataStructs.ExplicitBitVect object at 0x0000026208473DA0>, <rdkit.DataStructs.cDataStructs.ExplicitBitVect object at 0x0000026208473DF0>, <rdkit.DataStructs.cDataStructs.ExplicitBitVect object at 0x0000026208473E40>, <rdkit.DataStructs.cDataStructs.ExplicitBitVect object at 0x0000026208473E90>, <rdkit.DataStructs.cDataStructs.ExplicitBitVect object at 0x0000026208473EE0>, <rdkit.DataStructs.cDataStructs.ExplicitBitVect object at 0x0000026208473F30>, <rdkit.DataStructs.cDataStructs.ExplicitBitVect object at 0x0000026208473F80>, <rdkit.DataStructs.cDataStructs.ExplicitBitVect object at 0x0000026208474030>, <rdkit.DataStructs.cDataStructs.ExplicitBitVect object at 0x0000026208474080>, <rdkit.DataStructs.cDataStructs.ExplicitBitVect object at 0x00000262084740D0>, <rdkit.DataStructs.cDataStructs.ExplicitBitVect object at 0x0000026208474120>, <rdkit.DataStructs.cDataStructs.ExplicitBitVect object at 0x0000026208474170>, <rdkit.DataStructs.cDataStructs.ExplicitBitVect object at 0x00000262084741C0>, <rdkit.DataStructs.cDataStructs.ExplicitBitVect object at 0x0000026208474210>, <rdkit.DataStructs.cDataStructs.ExplicitBitVect object at 0x0000026208474260>, <rdkit.DataStructs.cDataStructs.ExplicitBitVect object at 0x00000262084742B0>, <rdkit.DataStructs.cDataStructs.ExplicitBitVect object at 0x0000026208474300>, <rdkit.DataStructs.cDataStructs.ExplicitBitVect object at 0x0000026208474350>, <rdkit.DataStructs.cDataStructs.ExplicitBitVect object at 0x00000262084743A0>, <rdkit.DataStructs.cDataStructs.ExplicitBitVect object at 0x00000262084743F0>, <rdkit.DataStructs.cDataStructs.ExplicitBitVect object at 0x0000026208474440>, <rdkit.DataStructs.cDataStructs.ExplicitBitVect object at 0x0000026208474490>, <rdkit.DataStructs.cDataStructs.ExplicitBitVect object at 0x00000262084744E0>, <rdkit.DataStructs.cDataStructs.ExplicitBitVect object at 0x0000026208474530>, <rdkit.DataStructs.cDataStructs.ExplicitBitVect object at 0x0000026208474580>, <rdkit.DataStructs.cDataStructs.ExplicitBitVect object at 0x00000262084745D0>, <rdkit.DataStructs.cDataStructs.ExplicitBitVect object at 0x0000026208474620>, <rdkit.DataStructs.cDataStructs.ExplicitBitVect object at 0x0000026208474670>, <rdkit.DataStructs.cDataStructs.ExplicitBitVect object at 0x00000262084746C0>, <rdkit.DataStructs.cDataStructs.ExplicitBitVect object at 0x0000026208474710>, <rdkit.DataStructs.cDataStructs.ExplicitBitVect object at 0x0000026208474760>, <rdkit.DataStructs.cDataStructs.ExplicitBitVect object at 0x00000262084747B0>, <rdkit.DataStructs.cDataStructs.ExplicitBitVect object at 0x0000026208474800>, <rdkit.DataStructs.cDataStructs.ExplicitBitVect object at 0x0000026208474850>, <rdkit.DataStructs.cDataStructs.ExplicitBitVect object at 0x00000262084748A0>, <rdkit.DataStructs.cDataStructs.ExplicitBitVect object at 0x00000262084748F0>, <rdkit.DataStructs.cDataStructs.ExplicitBitVect object at 0x0000026208474940>, <rdkit.DataStructs.cDataStructs.ExplicitBitVect object at 0x0000026208474990>, <rdkit.DataStructs.cDataStructs.ExplicitBitVect object at 0x00000262084749E0>, <rdkit.DataStructs.cDataStructs.ExplicitBitVect object at 0x0000026208474A30>, <rdkit.DataStructs.cDataStructs.ExplicitBitVect object at 0x0000026208474A80>, <rdkit.DataStructs.cDataStructs.ExplicitBitVect object at 0x0000026208474AD0>, <rdkit.DataStructs.cDataStructs.ExplicitBitVect object at 0x0000026208474B20>, <rdkit.DataStructs.cDataStructs.ExplicitBitVect object at 0x0000026208474B70>, <rdkit.DataStructs.cDataStructs.ExplicitBitVect object at 0x0000026208474BC0>, <rdkit.DataStructs.cDataStructs.ExplicitBitVect object at 0x0000026208474C10>, <rdkit.DataStructs.cDataStructs.ExplicitBitVect object at 0x0000026208474C60>, <rdkit.DataStructs.cDataStructs.ExplicitBitVect object at 0x0000026208474CB0>, <rdkit.DataStructs.cDataStructs.ExplicitBitVect object at 0x0000026208474D00>, <rdkit.DataStructs.cDataStructs.ExplicitBitVect object at 0x0000026208474D50>, <rdkit.DataStructs.cDataStructs.ExplicitBitVect object at 0x0000026208474DA0>, <rdkit.DataStructs.cDataStructs.ExplicitBitVect object at 0x0000026208474DF0>, <rdkit.DataStructs.cDataStructs.ExplicitBitVect object at 0x0000026208474E40>, <rdkit.DataStructs.cDataStructs.ExplicitBitVect object at 0x0000026208474E90>, <rdkit.DataStructs.cDataStructs.ExplicitBitVect object at 0x0000026208474EE0>, <rdkit.DataStructs.cDataStructs.ExplicitBitVect object at 0x0000026208474F30>, <rdkit.DataStructs.cDataStructs.ExplicitBitVect object at 0x0000026208474F80>, <rdkit.DataStructs.cDataStructs.ExplicitBitVect object at 0x0000026208475030>, <rdkit.DataStructs.cDataStructs.ExplicitBitVect object at 0x0000026208475080>, <rdkit.DataStructs.cDataStructs.ExplicitBitVect object at 0x00000262084750D0>, <rdkit.DataStructs.cDataStructs.ExplicitBitVect object at 0x0000026208475120>, <rdkit.DataStructs.cDataStructs.ExplicitBitVect object at 0x0000026208475170>, <rdkit.DataStructs.cDataStructs.ExplicitBitVect object at 0x00000262084751C0>, <rdkit.DataStructs.cDataStructs.ExplicitBitVect object at 0x0000026208475210>, <rdkit.DataStructs.cDataStructs.ExplicitBitVect object at 0x0000026208475260>, <rdkit.DataStructs.cDataStructs.ExplicitBitVect object at 0x00000262084752B0>, <rdkit.DataStructs.cDataStructs.ExplicitBitVect object at 0x0000026208475300>, <rdkit.DataStructs.cDataStructs.ExplicitBitVect object at 0x0000026208475350>, <rdkit.DataStructs.cDataStructs.ExplicitBitVect object at 0x00000262084753A0>, <rdkit.DataStructs.cDataStructs.ExplicitBitVect object at 0x00000262084753F0>, <rdkit.DataStructs.cDataStructs.ExplicitBitVect object at 0x0000026208475440>, <rdkit.DataStructs.cDataStructs.ExplicitBitVect object at 0x0000026208475490>, <rdkit.DataStructs.cDataStructs.ExplicitBitVect object at 0x00000262084754E0>, <rdkit.DataStructs.cDataStructs.ExplicitBitVect object at 0x0000026208475530>, <rdkit.DataStructs.cDataStructs.ExplicitBitVect object at 0x0000026208475580>, <rdkit.DataStructs.cDataStructs.ExplicitBitVect object at 0x00000262084755D0>, <rdkit.DataStructs.cDataStructs.ExplicitBitVect object at 0x0000026208475620>, <rdkit.DataStructs.cDataStructs.ExplicitBitVect object at 0x0000026208475670>, <rdkit.DataStructs.cDataStructs.ExplicitBitVect object at 0x00000262084756C0>, <rdkit.DataStructs.cDataStructs.ExplicitBitVect object at 0x0000026208475710>, <rdkit.DataStructs.cDataStructs.ExplicitBitVect object at 0x0000026208475760>, <rdkit.DataStructs.cDataStructs.ExplicitBitVect object at 0x00000262084757B0>, <rdkit.DataStructs.cDataStructs.ExplicitBitVect object at 0x0000026208475800>, <rdkit.DataStructs.cDataStructs.ExplicitBitVect object at 0x0000026208475850>, <rdkit.DataStructs.cDataStructs.ExplicitBitVect object at 0x00000262084758A0>, <rdkit.DataStructs.cDataStructs.ExplicitBitVect object at 0x00000262084758F0>, <rdkit.DataStructs.cDataStructs.ExplicitBitVect object at 0x0000026208475940>, <rdkit.DataStructs.cDataStructs.ExplicitBitVect object at 0x0000026208475990>, <rdkit.DataStructs.cDataStructs.ExplicitBitVect object at 0x00000262084759E0>, <rdkit.DataStructs.cDataStructs.ExplicitBitVect object at 0x0000026208475A30>, <rdkit.DataStructs.cDataStructs.ExplicitBitVect object at 0x0000026208475A80>, <rdkit.DataStructs.cDataStructs.ExplicitBitVect object at 0x0000026208475AD0>, <rdkit.DataStructs.cDataStructs.ExplicitBitVect object at 0x0000026208475B20>, <rdkit.DataStructs.cDataStructs.ExplicitBitVect object at 0x0000026208475B70>, <rdkit.DataStructs.cDataStructs.ExplicitBitVect object at 0x0000026208475BC0>, <rdkit.DataStructs.cDataStructs.ExplicitBitVect object at 0x0000026208475C10>, <rdkit.DataStructs.cDataStructs.ExplicitBitVect object at 0x0000026208475C60>, <rdkit.DataStructs.cDataStructs.ExplicitBitVect object at 0x0000026208475CB0>, <rdkit.DataStructs.cDataStructs.ExplicitBitVect object at 0x0000026208475D00>, <rdkit.DataStructs.cDataStructs.ExplicitBitVect object at 0x0000026208475D50>, <rdkit.DataStructs.cDataStructs.ExplicitBitVect object at 0x0000026208475DA0>, <rdkit.DataStructs.cDataStructs.ExplicitBitVect object at 0x0000026208475DF0>, <rdkit.DataStructs.cDataStructs.ExplicitBitVect object at 0x0000026208475E40>, <rdkit.DataStructs.cDataStructs.ExplicitBitVect object at 0x0000026208475E90>, <rdkit.DataStructs.cDataStructs.ExplicitBitVect object at 0x0000026208475EE0>, <rdkit.DataStructs.cDataStructs.ExplicitBitVect object at 0x0000026208475F30>, <rdkit.DataStructs.cDataStructs.ExplicitBitVect object at 0x0000026208475F80>, <rdkit.DataStructs.cDataStructs.ExplicitBitVect object at 0x0000026208476030>, <rdkit.DataStructs.cDataStructs.ExplicitBitVect object at 0x0000026208476080>, <rdkit.DataStructs.cDataStructs.ExplicitBitVect object at 0x00000262084760D0>, <rdkit.DataStructs.cDataStructs.ExplicitBitVect object at 0x0000026208476120>, <rdkit.DataStructs.cDataStructs.ExplicitBitVect object at 0x0000026208476170>, <rdkit.DataStructs.cDataStructs.ExplicitBitVect object at 0x00000262084761C0>, <rdkit.DataStructs.cDataStructs.ExplicitBitVect object at 0x0000026208476210>, <rdkit.DataStructs.cDataStructs.ExplicitBitVect object at 0x0000026208476260>, <rdkit.DataStructs.cDataStructs.ExplicitBitVect object at 0x00000262084762B0>, <rdkit.DataStructs.cDataStructs.ExplicitBitVect object at 0x0000026208476300>, <rdkit.DataStructs.cDataStructs.ExplicitBitVect object at 0x0000026208476350>, <rdkit.DataStructs.cDataStructs.ExplicitBitVect object at 0x00000262084763A0>, <rdkit.DataStructs.cDataStructs.ExplicitBitVect object at 0x00000262084763F0>, <rdkit.DataStructs.cDataStructs.ExplicitBitVect object at 0x0000026208476440>, <rdkit.DataStructs.cDataStructs.ExplicitBitVect object at 0x0000026208476490>, <rdkit.DataStructs.cDataStructs.ExplicitBitVect object at 0x00000262084764E0>, <rdkit.DataStructs.cDataStructs.ExplicitBitVect object at 0x0000026208476530>, <rdkit.DataStructs.cDataStructs.ExplicitBitVect object at 0x0000026208476580>, <rdkit.DataStructs.cDataStructs.ExplicitBitVect object at 0x00000262084765D0>, <rdkit.DataStructs.cDataStructs.ExplicitBitVect object at 0x0000026208476620>, <rdkit.DataStructs.cDataStructs.ExplicitBitVect object at 0x0000026208476670>, <rdkit.DataStructs.cDataStructs.ExplicitBitVect object at 0x00000262084766C0>, <rdkit.DataStructs.cDataStructs.ExplicitBitVect object at 0x0000026208476710>, <rdkit.DataStructs.cDataStructs.ExplicitBitVect object at 0x0000026208476760>, <rdkit.DataStructs.cDataStructs.ExplicitBitVect object at 0x00000262084767B0>, <rdkit.DataStructs.cDataStructs.ExplicitBitVect object at 0x0000026208476800>, <rdkit.DataStructs.cDataStructs.ExplicitBitVect object at 0x0000026208476850>, <rdkit.DataStructs.cDataStructs.ExplicitBitVect object at 0x00000262084768A0>, <rdkit.DataStructs.cDataStructs.ExplicitBitVect object at 0x00000262084768F0>, <rdkit.DataStructs.cDataStructs.ExplicitBitVect object at 0x0000026208476940>, <rdkit.DataStructs.cDataStructs.ExplicitBitVect object at 0x0000026208476990>, <rdkit.DataStructs.cDataStructs.ExplicitBitVect object at 0x00000262084769E0>, <rdkit.DataStructs.cDataStructs.ExplicitBitVect object at 0x0000026208476A30>, <rdkit.DataStructs.cDataStructs.ExplicitBitVect object at 0x0000026208476A80>, <rdkit.DataStructs.cDataStructs.ExplicitBitVect object at 0x0000026208476AD0>, <rdkit.DataStructs.cDataStructs.ExplicitBitVect object at 0x0000026208476B20>, <rdkit.DataStructs.cDataStructs.ExplicitBitVect object at 0x0000026208476B70>, <rdkit.DataStructs.cDataStructs.ExplicitBitVect object at 0x0000026208476BC0>, <rdkit.DataStructs.cDataStructs.ExplicitBitVect object at 0x0000026208476C10>, <rdkit.DataStructs.cDataStructs.ExplicitBitVect object at 0x0000026208476C60>, <rdkit.DataStructs.cDataStructs.ExplicitBitVect object at 0x0000026208476CB0>, <rdkit.DataStructs.cDataStructs.ExplicitBitVect object at 0x0000026208476D00>, <rdkit.DataStructs.cDataStructs.ExplicitBitVect object at 0x0000026208476D50>, <rdkit.DataStructs.cDataStructs.ExplicitBitVect object at 0x0000026208476DA0>, <rdkit.DataStructs.cDataStructs.ExplicitBitVect object at 0x0000026208476DF0>, <rdkit.DataStructs.cDataStructs.ExplicitBitVect object at 0x0000026208476E40>, <rdkit.DataStructs.cDataStructs.ExplicitBitVect object at 0x0000026208476E90>, <rdkit.DataStructs.cDataStructs.ExplicitBitVect object at 0x0000026208476EE0>, <rdkit.DataStructs.cDataStructs.ExplicitBitVect object at 0x0000026208476F30>, <rdkit.DataStructs.cDataStructs.ExplicitBitVect object at 0x0000026208476F80>, <rdkit.DataStructs.cDataStructs.ExplicitBitVect object at 0x0000026208477030>, <rdkit.DataStructs.cDataStructs.ExplicitBitVect object at 0x0000026208477080>, <rdkit.DataStructs.cDataStructs.ExplicitBitVect object at 0x00000262084770D0>, <rdkit.DataStructs.cDataStructs.ExplicitBitVect object at 0x0000026208477120>, <rdkit.DataStructs.cDataStructs.ExplicitBitVect object at 0x0000026208477170>, <rdkit.DataStructs.cDataStructs.ExplicitBitVect object at 0x00000262084771C0>, <rdkit.DataStructs.cDataStructs.ExplicitBitVect object at 0x0000026208477210>, <rdkit.DataStructs.cDataStructs.ExplicitBitVect object at 0x0000026208477260>, <rdkit.DataStructs.cDataStructs.ExplicitBitVect object at 0x00000262084772B0>, <rdkit.DataStructs.cDataStructs.ExplicitBitVect object at 0x0000026208477300>, <rdkit.DataStructs.cDataStructs.ExplicitBitVect object at 0x0000026208477350>, <rdkit.DataStructs.cDataStructs.ExplicitBitVect object at 0x00000262084773A0>, <rdkit.DataStructs.cDataStructs.ExplicitBitVect object at 0x00000262084773F0>, <rdkit.DataStructs.cDataStructs.ExplicitBitVect object at 0x0000026208477440>, <rdkit.DataStructs.cDataStructs.ExplicitBitVect object at 0x0000026208477490>, <rdkit.DataStructs.cDataStructs.ExplicitBitVect object at 0x00000262084774E0>, <rdkit.DataStructs.cDataStructs.ExplicitBitVect object at 0x0000026208477530>, <rdkit.DataStructs.cDataStructs.ExplicitBitVect object at 0x0000026208477580>, <rdkit.DataStructs.cDataStructs.ExplicitBitVect object at 0x00000262084775D0>, <rdkit.DataStructs.cDataStructs.ExplicitBitVect object at 0x0000026208477620>, <rdkit.DataStructs.cDataStructs.ExplicitBitVect object at 0x0000026208477670>, <rdkit.DataStructs.cDataStructs.ExplicitBitVect object at 0x00000262084776C0>, <rdkit.DataStructs.cDataStructs.ExplicitBitVect object at 0x0000026208477710>, <rdkit.DataStructs.cDataStructs.ExplicitBitVect object at 0x0000026208477760>, <rdkit.DataStructs.cDataStructs.ExplicitBitVect object at 0x00000262084777B0>, <rdkit.DataStructs.cDataStructs.ExplicitBitVect object at 0x0000026208477800>, <rdkit.DataStructs.cDataStructs.ExplicitBitVect object at 0x0000026208477850>, <rdkit.DataStructs.cDataStructs.ExplicitBitVect object at 0x00000262084778A0>, <rdkit.DataStructs.cDataStructs.ExplicitBitVect object at 0x00000262084778F0>, <rdkit.DataStructs.cDataStructs.ExplicitBitVect object at 0x0000026208477940>, <rdkit.DataStructs.cDataStructs.ExplicitBitVect object at 0x0000026208477990>, <rdkit.DataStructs.cDataStructs.ExplicitBitVect object at 0x00000262084779E0>, <rdkit.DataStructs.cDataStructs.ExplicitBitVect object at 0x0000026208477A30>, <rdkit.DataStructs.cDataStructs.ExplicitBitVect object at 0x0000026208477A80>, <rdkit.DataStructs.cDataStructs.ExplicitBitVect object at 0x0000026208477AD0>, <rdkit.DataStructs.cDataStructs.ExplicitBitVect object at 0x0000026208477B20>, <rdkit.DataStructs.cDataStructs.ExplicitBitVect object at 0x0000026208477B70>, <rdkit.DataStructs.cDataStructs.ExplicitBitVect object at 0x0000026208477BC0>, <rdkit.DataStructs.cDataStructs.ExplicitBitVect object at 0x0000026208477C10>, <rdkit.DataStructs.cDataStructs.ExplicitBitVect object at 0x0000026208477C60>, <rdkit.DataStructs.cDataStructs.ExplicitBitVect object at 0x0000026208477CB0>, <rdkit.DataStructs.cDataStructs.ExplicitBitVect object at 0x0000026208477D00>, <rdkit.DataStructs.cDataStructs.ExplicitBitVect object at 0x0000026208477D50>, <rdkit.DataStructs.cDataStructs.ExplicitBitVect object at 0x0000026208477DA0>, <rdkit.DataStructs.cDataStructs.ExplicitBitVect object at 0x0000026208477DF0>, <rdkit.DataStructs.cDataStructs.ExplicitBitVect object at 0x0000026208477E40>, <rdkit.DataStructs.cDataStructs.ExplicitBitVect object at 0x0000026208477E90>, <rdkit.DataStructs.cDataStructs.ExplicitBitVect object at 0x0000026208477EE0>, <rdkit.DataStructs.cDataStructs.ExplicitBitVect object at 0x0000026208477F30>, <rdkit.DataStructs.cDataStructs.ExplicitBitVect object at 0x0000026208477F80>, <rdkit.DataStructs.cDataStructs.ExplicitBitVect object at 0x0000026208478030>, <rdkit.DataStructs.cDataStructs.ExplicitBitVect object at 0x0000026208478080>, <rdkit.DataStructs.cDataStructs.ExplicitBitVect object at 0x00000262084780D0>, <rdkit.DataStructs.cDataStructs.ExplicitBitVect object at 0x0000026208478120>, <rdkit.DataStructs.cDataStructs.ExplicitBitVect object at 0x0000026208478170>, <rdkit.DataStructs.cDataStructs.ExplicitBitVect object at 0x00000262084781C0>, <rdkit.DataStructs.cDataStructs.ExplicitBitVect object at 0x0000026208478210>, <rdkit.DataStructs.cDataStructs.ExplicitBitVect object at 0x0000026208478260>, <rdkit.DataStructs.cDataStructs.ExplicitBitVect object at 0x00000262084782B0>, <rdkit.DataStructs.cDataStructs.ExplicitBitVect object at 0x0000026208478300>, <rdkit.DataStructs.cDataStructs.ExplicitBitVect object at 0x0000026208478350>, <rdkit.DataStructs.cDataStructs.ExplicitBitVect object at 0x00000262084783A0>, <rdkit.DataStructs.cDataStructs.ExplicitBitVect object at 0x00000262084783F0>, <rdkit.DataStructs.cDataStructs.ExplicitBitVect object at 0x0000026208478440>, <rdkit.DataStructs.cDataStructs.ExplicitBitVect object at 0x0000026208478490>, <rdkit.DataStructs.cDataStructs.ExplicitBitVect object at 0x00000262084784E0>, <rdkit.DataStructs.cDataStructs.ExplicitBitVect object at 0x0000026208478530>, <rdkit.DataStructs.cDataStructs.ExplicitBitVect object at 0x0000026208478580>, <rdkit.DataStructs.cDataStructs.ExplicitBitVect object at 0x00000262084785D0>, <rdkit.DataStructs.cDataStructs.ExplicitBitVect object at 0x0000026208478620>, <rdkit.DataStructs.cDataStructs.ExplicitBitVect object at 0x0000026208478670>, <rdkit.DataStructs.cDataStructs.ExplicitBitVect object at 0x00000262084786C0>, <rdkit.DataStructs.cDataStructs.ExplicitBitVect object at 0x0000026208478710>, <rdkit.DataStructs.cDataStructs.ExplicitBitVect object at 0x0000026208478760>, <rdkit.DataStructs.cDataStructs.ExplicitBitVect object at 0x00000262084787B0>, <rdkit.DataStructs.cDataStructs.ExplicitBitVect object at 0x0000026208478800>, <rdkit.DataStructs.cDataStructs.ExplicitBitVect object at 0x0000026208478850>, <rdkit.DataStructs.cDataStructs.ExplicitBitVect object at 0x00000262084788A0>, <rdkit.DataStructs.cDataStructs.ExplicitBitVect object at 0x00000262084788F0>, <rdkit.DataStructs.cDataStructs.ExplicitBitVect object at 0x0000026208478940>, <rdkit.DataStructs.cDataStructs.ExplicitBitVect object at 0x0000026208478990>, <rdkit.DataStructs.cDataStructs.ExplicitBitVect object at 0x00000262084789E0>]\n"
    }
   ],
   "source": [
    "mol_fp = []\n",
    "i = 0\n",
    "print(mol_smiles[258])\n",
    "for molekul in mol_smiles :\n",
    "  smiles = Chem.MolFromSmiles(str(molekul))\n",
    "  fp = Chem.RDKFingerprint(smiles)\n",
    "  #print(i)\n",
    "  i+= 1\n",
    "  mol_fp.append(fp)\n",
    "print((mol_fp))"
   ]
  },
  {
   "cell_type": "markdown",
   "metadata": {
    "colab_type": "text",
    "id": "zzqnv1Ri-UO6"
   },
   "source": [
    "## To DataFrame"
   ]
  },
  {
   "cell_type": "code",
   "execution_count": 12,
   "metadata": {
    "colab": {},
    "colab_type": "code",
    "id": "zsyu8ksX-UqX"
   },
   "outputs": [
    {
     "output_type": "execute_result",
     "data": {
      "text/plain": "        mol_name                                         mol_smiles  mol_act  \\\n0  CHEMBL2263120  CC1(C)CC[C@]2(C(=O)OCCCCCCCCCCC(=O)O)CC[C@]3(C...   0.7200   \n1  CHEMBL2263121  CC1(C)CC[C@]2(C(=O)NC(Cc3ccccc3)C(=O)O)CC[C@]3...   3.3100   \n2      CHEMBL168  CC1(C)CC[C@]2(C(=O)O)CC[C@]3(C)C(=CC[C@@H]4[C@...   5.0501   \n3   CHEMBL508831  CC1(C)CC[C@]2(C(=O)O)CC[C@]3(C)C(=CC[C@@H]4[C@...   0.5400   \n4   CHEMBL506556  CC1(C)CC[C@]2(C(=O)O)CC[C@]3(C)C(=CC[C@@H]4[C@...   0.6200   \n\n                                              mol_fp  mol_prob  mol_cost  \n0  [0, 0, 1, 0, 0, 0, 1, 0, 1, 1, 0, 0, 0, 0, 0, ...  0.000922    461.06  \n1  [0, 0, 0, 0, 0, 0, 1, 1, 1, 0, 1, 0, 0, 0, 0, ...  0.000069     34.59  \n2  [0, 0, 0, 0, 0, 0, 1, 0, 1, 1, 0, 0, 0, 0, 0, ...  0.000012      6.07  \n3  [0, 0, 0, 0, 0, 0, 1, 0, 1, 1, 0, 0, 0, 0, 0, ...  0.001104    551.99  \n4  [0, 0, 0, 0, 0, 0, 1, 0, 1, 1, 0, 0, 0, 0, 1, ...  0.001019    509.55  ",
      "text/html": "<div>\n<style scoped>\n    .dataframe tbody tr th:only-of-type {\n        vertical-align: middle;\n    }\n\n    .dataframe tbody tr th {\n        vertical-align: top;\n    }\n\n    .dataframe thead th {\n        text-align: right;\n    }\n</style>\n<table border=\"1\" class=\"dataframe\">\n  <thead>\n    <tr style=\"text-align: right;\">\n      <th></th>\n      <th>mol_name</th>\n      <th>mol_smiles</th>\n      <th>mol_act</th>\n      <th>mol_fp</th>\n      <th>mol_prob</th>\n      <th>mol_cost</th>\n    </tr>\n  </thead>\n  <tbody>\n    <tr>\n      <th>0</th>\n      <td>CHEMBL2263120</td>\n      <td>CC1(C)CC[C@]2(C(=O)OCCCCCCCCCCC(=O)O)CC[C@]3(C...</td>\n      <td>0.7200</td>\n      <td>[0, 0, 1, 0, 0, 0, 1, 0, 1, 1, 0, 0, 0, 0, 0, ...</td>\n      <td>0.000922</td>\n      <td>461.06</td>\n    </tr>\n    <tr>\n      <th>1</th>\n      <td>CHEMBL2263121</td>\n      <td>CC1(C)CC[C@]2(C(=O)NC(Cc3ccccc3)C(=O)O)CC[C@]3...</td>\n      <td>3.3100</td>\n      <td>[0, 0, 0, 0, 0, 0, 1, 1, 1, 0, 1, 0, 0, 0, 0, ...</td>\n      <td>0.000069</td>\n      <td>34.59</td>\n    </tr>\n    <tr>\n      <th>2</th>\n      <td>CHEMBL168</td>\n      <td>CC1(C)CC[C@]2(C(=O)O)CC[C@]3(C)C(=CC[C@@H]4[C@...</td>\n      <td>5.0501</td>\n      <td>[0, 0, 0, 0, 0, 0, 1, 0, 1, 1, 0, 0, 0, 0, 0, ...</td>\n      <td>0.000012</td>\n      <td>6.07</td>\n    </tr>\n    <tr>\n      <th>3</th>\n      <td>CHEMBL508831</td>\n      <td>CC1(C)CC[C@]2(C(=O)O)CC[C@]3(C)C(=CC[C@@H]4[C@...</td>\n      <td>0.5400</td>\n      <td>[0, 0, 0, 0, 0, 0, 1, 0, 1, 1, 0, 0, 0, 0, 0, ...</td>\n      <td>0.001104</td>\n      <td>551.99</td>\n    </tr>\n    <tr>\n      <th>4</th>\n      <td>CHEMBL506556</td>\n      <td>CC1(C)CC[C@]2(C(=O)O)CC[C@]3(C)C(=CC[C@@H]4[C@...</td>\n      <td>0.6200</td>\n      <td>[0, 0, 0, 0, 0, 0, 1, 0, 1, 1, 0, 0, 0, 0, 1, ...</td>\n      <td>0.001019</td>\n      <td>509.55</td>\n    </tr>\n  </tbody>\n</table>\n</div>"
     },
     "metadata": {},
     "execution_count": 12
    }
   ],
   "source": [
    "#df_mol = pd.DataFrame.from_dict(mol_act_dict, orient='index')\n",
    "#df_mol.columns = [\"IC50\",\"Molecule Activity\", \"Probability Activity\"]\n",
    "#df_mol.sort_values(by=[\"IC50\"], ascending=False)\n",
    "#mol_name = pd.Series(mol_name)\n",
    "#mol_act = pd.Series(mol_act)\n",
    "#df_mol = pd.concat(mol_name,mol_act)\n",
    "#print(len(mol_name))\n",
    "#print(len(mol_smiles))\n",
    "#print(len(mol_fp))\n",
    "#print(len(mol_act))\n",
    "#print(len(mol_prob))\n",
    "\n",
    "df = pd.DataFrame({'mol_name':mol_name,\n",
    "                       'mol_smiles' : mol_smiles,\n",
    "                       'mol_act':mol_act,\n",
    "                       'mol_fp' : mol_fp,\n",
    "                       'mol_prob' : mol_prob,\n",
    "                       'mol_cost' : mol_cost\n",
    "                       })\n",
    "\n",
    "df.head()"
   ]
  },
  {
   "cell_type": "code",
   "execution_count": 13,
   "metadata": {
    "colab": {},
    "colab_type": "code",
    "id": "vRWCXOctv37L"
   },
   "outputs": [
    {
     "output_type": "execute_result",
     "data": {
      "text/plain": "           mol_name  mol_act  \\\n0     CHEMBL2263120   0.7200   \n1     CHEMBL2263121   3.3100   \n2         CHEMBL168   5.0501   \n3      CHEMBL508831   0.5400   \n4      CHEMBL506556   0.6200   \n...             ...      ...   \n1588  CHEMBL1782241   5.2000   \n1589   CHEMBL323197   5.5000   \n1590  CHEMBL4071698   0.7200   \n1591  CHEMBL3770020   1.5800   \n1592  CHEMBL4278170   0.7000   \n\n                                                 mol_fp  mol_cost  \n0     [0, 0, 1, 0, 0, 0, 1, 0, 1, 1, 0, 0, 0, 0, 0, ...   461.060  \n1     [0, 0, 0, 0, 0, 0, 1, 1, 1, 0, 1, 0, 0, 0, 0, ...    34.590  \n2     [0, 0, 0, 0, 0, 0, 1, 0, 1, 1, 0, 0, 0, 0, 0, ...     6.070  \n3     [0, 0, 0, 0, 0, 0, 1, 0, 1, 1, 0, 0, 0, 0, 0, ...   551.990  \n4     [0, 0, 0, 0, 0, 0, 1, 0, 1, 1, 0, 0, 0, 0, 1, ...   509.550  \n...                                                 ...       ...  \n1588  [0, 1, 0, 0, 0, 0, 1, 1, 1, 0, 0, 0, 0, 1, 0, ...     5.225  \n1589  [1, 1, 0, 0, 0, 1, 1, 1, 1, 0, 0, 0, 1, 1, 0, ...     3.870  \n1590  [1, 0, 0, 0, 0, 1, 1, 0, 0, 0, 1, 0, 0, 0, 0, ...   461.060  \n1591  [1, 0, 0, 0, 0, 1, 1, 0, 0, 0, 1, 0, 0, 0, 0, ...   195.105  \n1592  [0, 0, 0, 0, 0, 1, 0, 0, 0, 0, 1, 0, 0, 1, 0, ...   470.375  \n\n[1593 rows x 4 columns]",
      "text/html": "<div>\n<style scoped>\n    .dataframe tbody tr th:only-of-type {\n        vertical-align: middle;\n    }\n\n    .dataframe tbody tr th {\n        vertical-align: top;\n    }\n\n    .dataframe thead th {\n        text-align: right;\n    }\n</style>\n<table border=\"1\" class=\"dataframe\">\n  <thead>\n    <tr style=\"text-align: right;\">\n      <th></th>\n      <th>mol_name</th>\n      <th>mol_act</th>\n      <th>mol_fp</th>\n      <th>mol_cost</th>\n    </tr>\n  </thead>\n  <tbody>\n    <tr>\n      <th>0</th>\n      <td>CHEMBL2263120</td>\n      <td>0.7200</td>\n      <td>[0, 0, 1, 0, 0, 0, 1, 0, 1, 1, 0, 0, 0, 0, 0, ...</td>\n      <td>461.060</td>\n    </tr>\n    <tr>\n      <th>1</th>\n      <td>CHEMBL2263121</td>\n      <td>3.3100</td>\n      <td>[0, 0, 0, 0, 0, 0, 1, 1, 1, 0, 1, 0, 0, 0, 0, ...</td>\n      <td>34.590</td>\n    </tr>\n    <tr>\n      <th>2</th>\n      <td>CHEMBL168</td>\n      <td>5.0501</td>\n      <td>[0, 0, 0, 0, 0, 0, 1, 0, 1, 1, 0, 0, 0, 0, 0, ...</td>\n      <td>6.070</td>\n    </tr>\n    <tr>\n      <th>3</th>\n      <td>CHEMBL508831</td>\n      <td>0.5400</td>\n      <td>[0, 0, 0, 0, 0, 0, 1, 0, 1, 1, 0, 0, 0, 0, 0, ...</td>\n      <td>551.990</td>\n    </tr>\n    <tr>\n      <th>4</th>\n      <td>CHEMBL506556</td>\n      <td>0.6200</td>\n      <td>[0, 0, 0, 0, 0, 0, 1, 0, 1, 1, 0, 0, 0, 0, 1, ...</td>\n      <td>509.550</td>\n    </tr>\n    <tr>\n      <th>...</th>\n      <td>...</td>\n      <td>...</td>\n      <td>...</td>\n      <td>...</td>\n    </tr>\n    <tr>\n      <th>1588</th>\n      <td>CHEMBL1782241</td>\n      <td>5.2000</td>\n      <td>[0, 1, 0, 0, 0, 0, 1, 1, 1, 0, 0, 0, 0, 1, 0, ...</td>\n      <td>5.225</td>\n    </tr>\n    <tr>\n      <th>1589</th>\n      <td>CHEMBL323197</td>\n      <td>5.5000</td>\n      <td>[1, 1, 0, 0, 0, 1, 1, 1, 1, 0, 0, 0, 1, 1, 0, ...</td>\n      <td>3.870</td>\n    </tr>\n    <tr>\n      <th>1590</th>\n      <td>CHEMBL4071698</td>\n      <td>0.7200</td>\n      <td>[1, 0, 0, 0, 0, 1, 1, 0, 0, 0, 1, 0, 0, 0, 0, ...</td>\n      <td>461.060</td>\n    </tr>\n    <tr>\n      <th>1591</th>\n      <td>CHEMBL3770020</td>\n      <td>1.5800</td>\n      <td>[1, 0, 0, 0, 0, 1, 1, 0, 0, 0, 1, 0, 0, 0, 0, ...</td>\n      <td>195.105</td>\n    </tr>\n    <tr>\n      <th>1592</th>\n      <td>CHEMBL4278170</td>\n      <td>0.7000</td>\n      <td>[0, 0, 0, 0, 0, 1, 0, 0, 0, 0, 1, 0, 0, 1, 0, ...</td>\n      <td>470.375</td>\n    </tr>\n  </tbody>\n</table>\n<p>1593 rows × 4 columns</p>\n</div>"
     },
     "metadata": {},
     "execution_count": 13
    }
   ],
   "source": [
    "df_mol = df.iloc[:,[0,2,3,5]]\n",
    "df_mol"
   ]
  },
  {
   "cell_type": "markdown",
   "metadata": {
    "colab_type": "text",
    "id": "9_1rELu8v37S"
   },
   "source": [
    "## Individu\n",
    "suatu fungsi yang bertujuan untuk me-return dari suatu populasi (kumpulan individu berdasarkan subset yang diberikan). \n",
    "\n",
    "return :\n",
    "* mol_name\n",
    "* rata-rata dari act\n",
    "* rata-rata dari mol_fp\n",
    "\n",
    "cara menyari diversity :\n",
    "\n",
    "dengan menghitung semua similarity antar molekul kemudian hasilnya di rata2kan\n",
    "\n",
    "sebagai contoh :\n",
    "\n",
    "ada 3 (subset) molekul (A,B,C), maka menghitungnya\n",
    "\n",
    "* A -> B\n",
    "* A -> C\n",
    "* B -> C\n",
    "\n",
    "kemudian dirata2kan"
   ]
  },
  {
   "cell_type": "code",
   "execution_count": 14,
   "metadata": {
    "colab": {},
    "colab_type": "code",
    "id": "GYPOqUS0drKW"
   },
   "outputs": [],
   "source": [
    "n_subset = 5\n",
    "\n",
    "def individu(subset,dfMol = df_mol):\n",
    "    #subset = np.array(subset.values.tolist())\n",
    "    mol_name = subset.iloc[:,0].values\n",
    "    mol_act = subset.iloc[:,1].values\n",
    "    mol_fp = subset.iloc[:,2].values\n",
    "    #print(mol_name)\n",
    "    #print(mol_act)\n",
    "    #print(mol_fp[1])\n",
    "\n",
    "    bitString = []\n",
    "    for mol in df_mol[\"mol_name\"].values:\n",
    "        if mol in mol_name :\n",
    "            bit = 1\n",
    "        else :\n",
    "            bit = 0\n",
    "        bitString.append(bit)\n",
    "    fp_list = []\n",
    "    n = len(subset)\n",
    "    \n",
    "    for i in range(n):\n",
    "        for j in range(n):\n",
    "            if i > j :\n",
    "                tmp_fp = DataStructs.FingerprintSimilarity(mol_fp[i],mol_fp[j])\n",
    "                fp_list.append(tmp_fp)\n",
    "                \n",
    "    avg_act = np.mean(mol_act)\n",
    "    avg_div = np.mean(fp_list)\n",
    "    \n",
    "    if [bitString,avg_act,avg_div] is not None :\n",
    "        return [bitString,avg_act,avg_div]\n",
    "    else :\n",
    "        return []\n",
    "\n"
   ]
  },
  {
   "cell_type": "code",
   "execution_count": null,
   "metadata": {},
   "outputs": [],
   "source": []
  },
  {
   "cell_type": "markdown",
   "metadata": {
    "colab_type": "text",
    "id": "LVr2yDUTxkrn"
   },
   "source": [
    "### cek budget\n",
    "\n",
    "mengecek apakah molekul yang terpilih (yang ada di subset) tidak melebihi budget yang diberikan"
   ]
  },
  {
   "cell_type": "code",
   "execution_count": 15,
   "metadata": {
    "colab": {},
    "colab_type": "code",
    "id": "mIo9EgPmv37b"
   },
   "outputs": [],
   "source": [
    "def is_budget_enough(subset,budget):\n",
    "    subset =  subset.iloc[:,3].values\n",
    "    sum_of_subset = np.sum(subset)\n",
    "    if sum_of_subset <= budget :\n",
    "        check = True\n",
    "    else :\n",
    "        check = False\n",
    "    return [check,sum_of_subset]"
   ]
  },
  {
   "cell_type": "markdown",
   "metadata": {
    "colab_type": "text",
    "id": "P7Roz7DLv37k"
   },
   "source": [
    "### NSGA-II"
   ]
  },
  {
   "cell_type": "markdown",
   "metadata": {
    "colab_type": "text",
    "id": "pY0p4TMPxwTW"
   },
   "source": [
    "#### Initialization Individu\n",
    "\n",
    "Menginisialisasi individu yang akan digunakan berdasarkan subset yang ada"
   ]
  },
  {
   "cell_type": "code",
   "execution_count": 16,
   "metadata": {
    "colab": {},
    "colab_type": "code",
    "id": "jcsRuWEXv37l"
   },
   "outputs": [],
   "source": [
    "# Initialization of Individu\n",
    "budget = 5000\n",
    "n_subset = 20\n",
    "\n",
    "def initialization_individu(df_mol,budget,n_subset) :\n",
    "    i = 0\n",
    "    iteration = 100\n",
    "    calon_individu = df_mol.sample(n_subset)\n",
    "\n",
    "    while(not is_budget_enough(calon_individu,budget)[0]) and i < iteration :\n",
    "        calon_individu = df_mol.sample(n_subset)\n",
    "        i+=1\n",
    "    if is_budget_enough(calon_individu,budget)[0]:\n",
    "        return individu(calon_individu)\n",
    "    else :\n",
    "        return []\n",
    "\n",
    "        \n",
    "        "
   ]
  },
  {
   "cell_type": "code",
   "execution_count": 17,
   "metadata": {
    "colab": {},
    "colab_type": "code",
    "id": "titcO-Mlv37p",
    "tags": []
   },
   "outputs": [
    {
     "output_type": "stream",
     "name": "stdout",
     "text": "[[0, 0, 0, 0, 0, 0, 0, 0, 0, 0, 0, 0, 0, 0, 0, 0, 0, 0, 0, 0, 0, 0, 0, 0, 0, 0, 0, 0, 0, 0, 0, 0, 0, 0, 0, 0, 0, 0, 0, 0, 0, 0, 0, 0, 0, 0, 0, 0, 0, 0, 0, 0, 0, 0, 0, 0, 0, 0, 0, 0, 0, 0, 0, 0, 0, 0, 0, 0, 0, 0, 0, 0, 0, 0, 0, 0, 0, 0, 0, 0, 0, 0, 0, 0, 0, 0, 0, 0, 0, 0, 0, 0, 0, 0, 0, 0, 0, 0, 0, 0, 0, 0, 0, 0, 0, 0, 0, 0, 0, 0, 0, 0, 0, 0, 0, 0, 0, 0, 0, 0, 0, 0, 0, 0, 0, 0, 0, 0, 0, 0, 0, 0, 0, 0, 0, 0, 0, 0, 0, 0, 0, 0, 0, 0, 0, 0, 0, 0, 0, 0, 0, 0, 0, 0, 0, 0, 0, 0, 0, 0, 0, 0, 0, 0, 0, 0, 0, 0, 0, 0, 0, 0, 0, 0, 0, 0, 0, 0, 0, 0, 0, 0, 0, 0, 0, 0, 0, 0, 0, 0, 0, 0, 0, 0, 0, 0, 0, 0, 0, 0, 0, 0, 0, 0, 0, 0, 0, 0, 0, 0, 0, 0, 0, 0, 0, 0, 0, 0, 0, 0, 0, 0, 0, 0, 0, 0, 0, 0, 0, 0, 0, 0, 0, 0, 0, 0, 0, 0, 0, 0, 0, 0, 0, 0, 0, 1, 0, 0, 0, 0, 0, 0, 0, 0, 0, 0, 0, 0, 0, 0, 0, 0, 0, 0, 0, 0, 0, 0, 0, 0, 0, 0, 0, 0, 0, 0, 0, 0, 0, 0, 0, 0, 0, 0, 0, 0, 0, 0, 0, 0, 0, 0, 0, 0, 0, 0, 0, 0, 0, 0, 0, 0, 0, 0, 1, 0, 0, 0, 0, 0, 0, 0, 0, 0, 0, 0, 0, 0, 0, 0, 0, 0, 0, 0, 0, 0, 0, 0, 0, 0, 0, 0, 0, 0, 0, 0, 0, 0, 0, 0, 0, 0, 0, 0, 0, 0, 0, 0, 0, 0, 0, 0, 0, 0, 0, 0, 0, 0, 0, 0, 0, 0, 0, 0, 0, 0, 0, 0, 0, 0, 0, 0, 0, 0, 0, 0, 0, 0, 0, 0, 0, 0, 0, 0, 0, 0, 0, 0, 0, 0, 0, 0, 0, 0, 0, 0, 0, 0, 0, 0, 0, 0, 0, 0, 0, 1, 0, 0, 0, 0, 0, 0, 0, 0, 0, 0, 0, 0, 0, 0, 0, 0, 0, 0, 0, 0, 0, 0, 0, 0, 0, 0, 0, 0, 0, 0, 0, 0, 0, 0, 0, 0, 0, 0, 0, 0, 0, 0, 0, 0, 0, 0, 0, 0, 0, 0, 0, 0, 0, 0, 0, 0, 0, 0, 0, 0, 0, 1, 0, 0, 0, 0, 0, 0, 0, 0, 0, 0, 0, 0, 0, 0, 0, 0, 0, 0, 0, 0, 0, 0, 0, 0, 0, 0, 0, 0, 0, 0, 0, 0, 0, 0, 0, 0, 1, 0, 0, 0, 0, 0, 0, 0, 0, 0, 0, 0, 0, 0, 0, 0, 0, 0, 0, 0, 0, 0, 0, 0, 0, 0, 1, 0, 0, 1, 0, 0, 0, 0, 0, 0, 0, 0, 0, 0, 0, 0, 0, 0, 0, 0, 0, 0, 0, 0, 0, 0, 0, 0, 0, 0, 0, 0, 0, 0, 0, 0, 0, 0, 0, 0, 0, 0, 0, 0, 0, 0, 0, 0, 0, 0, 0, 1, 0, 0, 0, 0, 0, 0, 0, 0, 0, 0, 0, 0, 0, 0, 0, 0, 0, 0, 0, 0, 0, 0, 0, 0, 0, 0, 0, 0, 0, 0, 0, 0, 0, 0, 0, 0, 0, 0, 0, 0, 0, 0, 0, 0, 0, 0, 0, 0, 0, 0, 0, 0, 0, 0, 0, 0, 0, 0, 0, 0, 0, 0, 0, 0, 0, 0, 0, 0, 0, 0, 0, 0, 0, 0, 0, 0, 0, 0, 0, 0, 0, 0, 0, 0, 0, 0, 0, 0, 0, 0, 0, 0, 0, 0, 0, 0, 0, 0, 0, 0, 0, 0, 0, 0, 0, 0, 0, 0, 0, 0, 0, 0, 0, 0, 0, 0, 0, 0, 0, 0, 0, 0, 0, 0, 1, 0, 0, 0, 0, 0, 0, 0, 0, 0, 0, 0, 0, 0, 0, 0, 0, 0, 0, 0, 0, 0, 0, 0, 0, 0, 0, 0, 0, 0, 0, 0, 0, 0, 0, 0, 0, 0, 0, 0, 0, 0, 0, 0, 0, 0, 0, 0, 0, 0, 0, 0, 0, 0, 0, 0, 0, 0, 0, 0, 0, 0, 0, 0, 0, 0, 0, 0, 0, 0, 0, 0, 0, 0, 0, 0, 0, 0, 0, 0, 0, 0, 0, 0, 0, 0, 0, 0, 0, 0, 0, 0, 0, 0, 0, 0, 0, 0, 0, 0, 0, 0, 0, 0, 0, 0, 0, 0, 0, 0, 0, 0, 0, 0, 0, 0, 0, 0, 0, 0, 0, 0, 0, 0, 0, 0, 0, 0, 0, 0, 0, 0, 0, 0, 0, 0, 1, 0, 0, 0, 0, 0, 0, 0, 0, 0, 0, 0, 0, 0, 0, 0, 0, 0, 0, 0, 0, 0, 0, 0, 0, 0, 0, 0, 0, 0, 0, 0, 0, 0, 0, 0, 0, 0, 0, 0, 0, 0, 0, 0, 0, 0, 0, 0, 0, 0, 0, 0, 0, 0, 0, 0, 0, 0, 0, 0, 0, 0, 0, 0, 0, 0, 0, 0, 0, 0, 0, 0, 0, 0, 0, 0, 0, 0, 0, 0, 0, 0, 0, 0, 0, 0, 0, 0, 0, 0, 0, 0, 0, 0, 0, 0, 0, 0, 0, 0, 0, 0, 0, 0, 0, 0, 0, 0, 0, 0, 0, 0, 0, 0, 0, 0, 0, 0, 0, 0, 0, 0, 0, 0, 0, 0, 0, 0, 0, 0, 0, 0, 0, 0, 0, 0, 0, 0, 0, 0, 0, 0, 0, 0, 0, 0, 0, 0, 0, 0, 0, 0, 0, 0, 0, 0, 0, 0, 0, 0, 0, 0, 0, 0, 0, 0, 0, 0, 0, 0, 0, 0, 0, 0, 0, 0, 0, 0, 0, 0, 0, 0, 0, 0, 0, 0, 0, 0, 0, 0, 0, 0, 0, 0, 0, 0, 0, 0, 0, 0, 0, 1, 0, 0, 0, 0, 0, 0, 0, 0, 0, 0, 0, 0, 0, 0, 0, 0, 0, 0, 0, 0, 0, 0, 0, 0, 0, 0, 0, 0, 0, 0, 0, 0, 0, 0, 0, 0, 0, 0, 0, 0, 0, 0, 0, 0, 0, 0, 0, 0, 0, 0, 0, 0, 0, 0, 0, 0, 0, 0, 0, 0, 0, 0, 0, 0, 0, 0, 0, 0, 0, 0, 0, 0, 0, 0, 0, 0, 0, 0, 0, 0, 0, 0, 0, 0, 0, 0, 0, 0, 0, 0, 0, 0, 0, 0, 0, 0, 0, 0, 0, 0, 0, 0, 0, 0, 0, 0, 0, 0, 0, 0, 0, 0, 0, 0, 0, 0, 0, 0, 0, 0, 0, 0, 0, 0, 0, 0, 0, 0, 0, 0, 0, 0, 0, 0, 0, 0, 0, 0, 0, 0, 0, 0, 0, 0, 0, 0, 0, 0, 0, 0, 0, 0, 0, 0, 0, 0, 0, 0, 0, 0, 0, 0, 0, 0, 0, 0, 0, 0, 0, 0, 0, 0, 0, 0, 0, 1, 0, 0, 0, 0, 0, 0, 0, 0, 0, 0, 0, 0, 0, 0, 0, 0, 0, 0, 0, 0, 0, 0, 0, 0, 0, 0, 0, 0, 0, 0, 0, 0, 0, 0, 0, 1, 0, 0, 0, 0, 0, 0, 0, 0, 0, 0, 0, 0, 0, 0, 0, 0, 0, 0, 0, 0, 0, 0, 0, 0, 0, 0, 0, 0, 0, 1, 0, 0, 0, 0, 0, 0, 0, 0, 0, 0, 0, 0, 0, 0, 0, 0, 0, 0, 0, 0, 0, 0, 0, 0, 0, 0, 0, 0, 0, 0, 0, 0, 0, 1, 0, 0, 0, 0, 0, 0, 0, 0, 0, 0, 0, 0, 0, 0, 0, 0, 0, 0, 0, 0, 0, 0, 1, 0, 0, 0, 0, 0, 0, 0, 0, 0, 0, 0, 0, 0, 0, 0, 0, 0, 0, 0, 0, 0, 0, 0, 0, 0, 0, 0, 0, 0, 0, 0, 0, 0, 1, 0, 0, 0, 0, 0, 0, 0, 0, 0, 0, 0, 0, 0, 0, 0, 0, 0, 0, 0, 0, 0, 0, 0, 0, 0, 0, 0, 0, 0, 0, 0, 0, 0, 0, 0, 0, 0, 0, 1, 0, 0, 0, 0, 0, 0, 0, 0, 0, 0, 0, 0, 0, 0, 0, 0, 0, 0, 0, 0, 1, 0, 0, 0, 0, 0, 0, 0, 0, 0, 0, 0, 0, 0, 0, 0, 0, 0, 1, 0, 0, 0, 0, 0, 0, 0, 0, 0, 0, 0, 0, 0, 0, 0, 0, 0, 0, 0, 0, 0, 0, 0, 0, 0, 0, 0, 0, 0, 0, 0, 0, 0, 1, 0, 0, 0, 0, 0, 0, 0, 0, 0, 0, 0, 0, 0, 0, 0, 0, 0, 0, 0, 0, 0, 0, 0, 0, 0, 0, 0, 0, 0, 0, 1, 0, 0, 0, 0, 0, 0, 0, 0, 1, 0, 0, 0, 0, 0, 0, 0, 0, 0, 0, 1, 0, 0, 0, 0, 0, 0, 0, 0, 0, 0, 0, 0, 0, 0, 0, 0, 0, 0, 0, 0, 0, 0, 0, 0, 0, 0, 0, 0, 0, 0, 0, 0, 0, 0, 0, 0, 0, 0, 0, 0, 0, 0, 0, 0, 0, 0, 0, 0, 0, 0, 0, 0, 0], 3.7836999999999996, 0.33306093815781657]\n"
    }
   ],
   "source": [
    "if initialization_individu(df_mol,budget,n_subset) != [] :\n",
    "    print(initialization_individu(df_mol,budget,n_subset))\n",
    "else :\n",
    "    print(\"can't continue\")"
   ]
  },
  {
   "cell_type": "code",
   "execution_count": 18,
   "metadata": {
    "tags": []
   },
   "outputs": [
    {
     "output_type": "stream",
     "name": "stdout",
     "text": "[0, 0, 1, 1, 0, 0, 0, 0, 0, 0, 0, 0, 0, 0, 0, 0, 0, 0, 0, 0, 0, 0, 0, 0, 0, 0, 0, 0, 0, 0, 0, 0, 0, 0, 0, 0, 0, 0, 0, 0, 0, 0, 0, 0, 0, 0, 0, 0, 0, 0, 0, 0, 0, 0, 0, 0, 0, 0, 0, 0, 0, 0, 0, 0, 0, 0, 0, 0, 0, 0, 0, 0, 1, 0, 0, 0, 0, 0, 0, 0, 0, 0, 0, 0, 0, 0, 0, 0, 0, 0, 0, 0, 0, 0, 0, 0, 0, 0, 0, 0, 0, 0, 0, 0, 0, 0, 0, 0, 0, 0, 0, 0, 0, 0, 0, 0, 0, 0, 0, 0, 0, 0, 0, 0, 0, 0, 0, 0, 0, 0, 0, 0, 0, 0, 0, 0, 0, 0, 0, 0, 0, 0, 0, 0, 0, 0, 0, 0, 0, 0, 0, 0, 0, 0, 0, 0, 1, 0, 0, 0, 0, 0, 0, 0, 0, 0, 0, 0, 0, 0, 0, 0, 0, 0, 0, 0, 0, 0, 0, 0, 0, 0, 0, 0, 0, 0, 0, 0, 0, 0, 0, 0, 0, 0, 0, 0, 0, 0, 0, 1, 0, 0, 0, 0, 0, 0, 0, 0, 0, 0, 0, 0, 0, 0, 0, 0, 0, 0, 0, 0, 0, 0, 0, 0, 0, 0, 0, 0, 0, 0, 0, 0, 0, 0, 0, 0, 0, 0, 0, 0, 0, 0, 0, 0, 0, 0, 0, 0, 0, 0, 0, 0, 0, 0, 0, 0, 0, 0, 0, 0, 0, 0, 0, 0, 0, 0, 0, 0, 0, 0, 0, 0, 0, 0, 0, 0, 0, 0, 0, 0, 0, 0, 0, 0, 0, 0, 0, 0, 0, 0, 0, 0, 0, 0, 0, 0, 0, 0, 0, 0, 0, 0, 0, 0, 0, 0, 0, 0, 0, 0, 0, 0, 0, 0, 0, 0, 0, 0, 0, 0, 0, 0, 0, 0, 0, 0, 0, 0, 0, 0, 0, 0, 1, 0, 0, 0, 0, 0, 0, 0, 0, 0, 0, 0, 0, 0, 0, 0, 0, 0, 0, 0, 0, 0, 0, 0, 0, 0, 0, 0, 0, 0, 1, 0, 0, 0, 0, 0, 0, 0, 0, 0, 0, 0, 0, 0, 0, 0, 0, 0, 0, 0, 0, 0, 0, 0, 0, 0, 0, 0, 0, 0, 1, 0, 0, 0, 0, 0, 0, 0, 0, 0, 0, 0, 0, 0, 0, 0, 0, 0, 0, 0, 0, 0, 0, 0, 0, 0, 0, 0, 1, 0, 0, 0, 0, 0, 0, 0, 0, 0, 0, 0, 0, 0, 0, 0, 0, 0, 0, 0, 0, 0, 0, 0, 0, 0, 0, 0, 0, 0, 0, 0, 0, 0, 0, 0, 0, 0, 0, 0, 0, 0, 0, 0, 0, 0, 0, 0, 1, 0, 0, 0, 0, 0, 0, 0, 0, 0, 0, 0, 0, 0, 0, 0, 0, 0, 0, 0, 0, 0, 0, 0, 0, 0, 0, 0, 0, 0, 0, 0, 0, 0, 1, 0, 0, 0, 0, 0, 0, 0, 0, 0, 0, 0, 0, 0, 0, 0, 0, 0, 0, 0, 0, 0, 0, 0, 0, 0, 0, 0, 0, 0, 0, 0, 0, 0, 0, 0, 0, 0, 0, 0, 0, 0, 0, 0, 0, 1, 0, 0, 0, 0, 0, 0, 0, 0, 0, 0, 0, 0, 0, 0, 1, 0, 0, 0, 0, 0, 0, 0, 0, 0, 0, 0, 0, 1, 0, 0, 0, 0, 0, 0, 0, 0, 0, 0, 0, 0, 0, 0, 0, 0, 0, 0, 0, 0, 0, 0, 0, 0, 0, 0, 0, 0, 0, 0, 0, 0, 0, 0, 0, 0, 0, 1, 0, 0, 0, 0, 0, 0, 0, 0, 0, 0, 0, 0, 0, 0, 0, 0, 0, 0, 1, 0, 0, 0, 0, 0, 0, 0, 0, 0, 0, 0, 0, 0, 0, 0, 0, 0, 0, 0, 0, 0, 0, 0, 0, 0, 0, 0, 0, 0, 0, 0, 0, 0, 0, 0, 0, 0, 0, 0, 0, 0, 0, 0, 0, 0, 0, 0, 0, 0, 0, 0, 0, 0, 0, 0, 0, 0, 0, 0, 0, 0, 0, 0, 0, 0, 0, 0, 0, 0, 0, 0, 0, 0, 0, 0, 0, 0, 0, 0, 0, 0, 0, 0, 0, 0, 0, 0, 0, 0, 0, 0, 0, 0, 0, 0, 0, 0, 0, 0, 0, 0, 0, 0, 0, 0, 0, 0, 0, 0, 0, 0, 0, 0, 0, 0, 0, 0, 0, 0, 0, 1, 0, 0, 0, 0, 0, 0, 0, 0, 0, 0, 0, 0, 1, 0, 0, 0, 1, 0, 0, 0, 0, 0, 0, 0, 0, 0, 0, 0, 0, 0, 0, 0, 0, 0, 0, 0, 0, 0, 0, 0, 0, 0, 0, 0, 0, 0, 0, 0, 0, 0, 0, 1, 0, 0, 0, 0, 0, 0, 0, 0, 1, 0, 0, 0, 0, 0, 0, 0, 0, 0, 0, 0, 0, 0, 0, 0, 0, 0, 0, 0, 0, 0, 0, 0, 0, 0, 0, 0, 0, 0, 0, 0, 0, 0, 0, 0, 0, 0, 0, 0, 0, 0, 0, 0, 0, 0, 0, 0, 0, 0, 0, 0, 1, 0, 0, 0, 0, 0, 0, 0, 0, 0, 0, 0, 0, 0, 0, 0, 0, 0, 0, 0, 0, 0, 0, 0, 0, 0, 1, 0, 0, 0, 0, 0, 0, 0, 0, 0, 0, 0, 0, 0, 0, 0, 0, 0, 0, 0, 1, 0, 0, 0, 0, 0, 0, 0, 0, 0, 0, 0, 0, 0, 0, 0, 0, 0, 0, 1, 0, 0, 0, 0, 0, 0, 0, 0, 0, 0, 0, 0, 0, 0, 0, 0, 0, 0, 0, 0, 0, 0, 0, 0, 0, 0, 0, 0, 0, 0, 0, 0, 0, 0, 0, 0, 0, 0, 0, 0, 0, 0, 0, 0, 0, 0, 0, 0, 0, 0, 0, 0, 0, 1, 0, 0, 0, 0, 0, 0, 0, 0, 0, 0, 0, 0, 0, 0, 0, 0, 0, 0, 0, 0, 0, 0, 0, 0, 0, 0, 0, 0, 0, 0, 0, 0, 0, 0, 0, 0, 0, 0, 0, 0, 0, 0, 0, 0, 0, 0, 0, 0, 0, 0, 0, 1, 0, 0, 0, 0, 0, 0, 0, 1, 0, 0, 0, 0, 0, 0, 0, 0, 0, 0, 0, 0, 0, 0, 0, 0, 0, 0, 0, 0, 0, 0, 1, 0, 0, 0, 0, 0, 0, 0, 0, 0, 0, 0, 0, 0, 0, 0, 0, 0, 0, 0, 0, 0, 0, 0, 0, 0, 0, 0, 0, 0, 0, 0, 0, 0, 0, 0, 0, 0, 1, 0, 0, 0, 0, 0, 0, 0, 0, 1, 0, 0, 0, 0, 0, 0, 0, 0, 0, 0, 0, 0, 0, 0, 0, 0, 0, 0, 0, 0, 0, 0, 0, 0, 0, 0, 0, 0, 0, 1, 0, 1, 0, 0, 0, 0, 0, 0, 0, 0, 0, 0, 0, 0, 0, 0, 0, 0, 0, 0, 0, 0, 0, 0, 0, 0, 0, 0, 0, 0, 0, 0, 0, 0, 0, 0, 0, 0, 0, 0, 0, 0, 0, 1, 0, 0, 0, 0, 1, 0, 0, 0, 0, 0, 0, 0, 0, 0, 0, 0, 0, 0, 0, 0, 0, 0, 0, 0, 0, 0, 0, 0, 0, 0, 0, 0, 0, 0, 0, 0, 0, 0, 0, 0, 0, 0, 0, 0, 0, 0, 0, 0, 0, 0, 0, 0, 0, 0, 0, 0, 0, 0, 0, 0, 1, 0, 0, 1, 0, 0, 0, 0, 0, 0, 0, 0, 0, 0, 0, 0, 0, 0, 0, 0, 0, 0, 0, 0, 0, 0, 0, 0, 0, 0, 0, 0, 0, 0, 0, 0, 0, 0, 0, 0, 0, 0, 0, 0, 0, 0, 0, 0, 0, 0, 0, 0, 0, 0, 1, 0, 1, 0, 0, 0, 0, 0, 0, 0, 0, 0, 1, 0, 0, 0, 0, 0, 0, 0, 0, 0, 0, 0, 0, 0, 0, 0, 0, 0, 0, 0, 0, 0, 0, 0, 0, 0, 0, 0, 0, 0, 0, 0, 0, 0, 0, 0, 0, 0, 0, 0, 0, 0, 0, 0, 1, 0, 1, 0, 0, 0, 0, 1, 0, 0, 0, 0, 0, 0, 0, 0, 0, 0, 0, 0, 0, 0, 0, 0, 0, 0, 0, 0, 0, 0, 0, 0, 0, 0, 0, 0, 0, 0, 0, 0, 0, 0, 0, 0, 0, 0, 0, 0, 0, 0, 0, 0, 0, 0, 0, 0, 0, 0, 0, 0, 0, 0, 0, 0, 0, 0, 0, 0, 0, 0, 0, 0, 1, 0, 0, 0, 0, 0, 0, 0, 0, 0, 0, 0, 0, 0, 0, 0, 0, 0, 0, 0, 0, 0, 0, 0, 0, 0, 0, 0, 0, 0, 0, 0, 0, 0, 0, 0, 0, 0, 0, 0, 0, 0, 0, 0, 0, 0, 0, 0, 0, 0, 0, 0, 0, 0, 0, 0, 0, 0, 0, 0, 0, 0, 0, 0, 0, 0, 0, 0, 0, 0, 0, 0, 0, 0, 0, 1, 0, 0, 0, 0, 0, 0, 0, 0, 0, 0, 0, 0, 0, 0, 0, 0, 0, 0, 0, 0, 0, 0, 0, 0, 0, 0, 0, 0, 0, 0, 0, 0, 1, 0, 0, 0, 0, 1, 0, 0, 0, 0, 0, 0, 0, 0, 0, 0, 0, 0, 0, 0, 0, 0, 0, 0, 0, 0, 0, 0, 0, 0, 0, 0, 0, 0, 0, 0, 1, 0, 0, 1, 1, 0, 0, 0, 0, 1, 0, 0, 0, 0, 0, 0, 0]\n"
    }
   ],
   "source": [
    "ind = initialization_individu(df_mol,budget,n_subset)\n",
    "print(ind[0])"
   ]
  },
  {
   "cell_type": "markdown",
   "metadata": {},
   "source": [
    "## Cuma buat cek aja"
   ]
  },
  {
   "cell_type": "code",
   "execution_count": 19,
   "metadata": {
    "tags": []
   },
   "outputs": [
    {
     "output_type": "stream",
     "name": "stdout",
     "text": "nama molekul sama = 181 jumlah molekul yang sama = 465\n"
    }
   ],
   "source": [
    "coba = df_mol.iloc[:,:]\n",
    "ls = []\n",
    "dict_cek ={}\n",
    "for i in coba.values:\n",
    "    if i[0] in dict_cek.keys():\n",
    "        dict_cek[i[0]] +=1\n",
    "    else :\n",
    "        dict_cek[i[0]] =1\n",
    "    #print(i[0])\n",
    "    ls.append(i.tolist())\n",
    "#pd.DataFrame(ls)\n",
    "sum = 0\n",
    "sum_ = 0\n",
    "for x in dict_cek:\n",
    "    if dict_cek[x] > 1 :\n",
    "        sum += 1\n",
    "        sum_ += dict_cek[x]\n",
    "print(\"nama molekul sama =\",sum,\"jumlah molekul yang sama =\",sum_)\n",
    "#print(dict_cek)"
   ]
  },
  {
   "cell_type": "code",
   "execution_count": null,
   "metadata": {},
   "outputs": [],
   "source": []
  },
  {
   "cell_type": "markdown",
   "metadata": {},
   "source": [
    "### Mutation"
   ]
  },
  {
   "cell_type": "code",
   "execution_count": 20,
   "metadata": {
    "tags": []
   },
   "outputs": [
    {
     "output_type": "stream",
     "name": "stdout",
     "text": "1593\n[[0, 0, 1, 1, 0, 0, 0, 0, 0, 0, 0, 0, 0, 0, 0, 0, 0, 0, 0, 0, 0, 0, 0, 0, 0, 0, 0, 0, 0, 0, 0, 0, 0, 0, 0, 0, 0, 0, 0, 0, 0, 0, 0, 0, 0, 0, 0, 0, 0, 0, 0, 0, 0, 0, 0, 0, 0, 0, 0, 0, 0, 0, 0, 0, 0, 0, 0, 0, 0, 0, 0, 0, 1, 0, 0, 0, 0, 0, 0, 0, 0, 0, 0, 0, 0, 0, 0, 0, 0, 0, 0, 0, 0, 0, 0, 0, 0, 0, 0, 0, 0, 0, 0, 0, 0, 0, 0, 0, 0, 0, 0, 0, 0, 0, 0, 0, 0, 0, 0, 0, 0, 0, 0, 0, 0, 0, 0, 0, 0, 0, 0, 0, 0, 0, 0, 0, 0, 0, 0, 0, 0, 0, 0, 0, 0, 0, 0, 0, 0, 0, 0, 0, 0, 0, 0, 0, 1, 0, 0, 0, 0, 0, 0, 0, 0, 0, 0, 0, 0, 0, 0, 0, 0, 0, 0, 0, 0, 0, 0, 0, 0, 0, 0, 0, 0, 0, 0, 0, 0, 0, 0, 0, 0, 0, 0, 0, 0, 0, 0, 1, 0, 0, 0, 0, 0, 0, 0, 0, 0, 0, 0, 0, 0, 0, 0, 0, 0, 0, 0, 0, 0, 0, 0, 0, 0, 0, 0, 0, 0, 0, 0, 0, 0, 0, 0, 0, 0, 0, 0, 0, 0, 0, 0, 0, 0, 0, 0, 0, 0, 0, 0, 0, 0, 0, 0, 0, 0, 0, 0, 0, 0, 0, 0, 0, 0, 0, 0, 0, 0, 0, 0, 0, 0, 0, 0, 0, 0, 0, 0, 0, 0, 0, 0, 0, 0, 0, 0, 0, 0, 0, 0, 0, 0, 0, 0, 0, 0, 0, 0, 0, 0, 0, 0, 0, 0, 0, 0, 0, 0, 0, 0, 0, 0, 0, 0, 0, 0, 0, 0, 0, 0, 0, 0, 0, 0, 0, 0, 0, 0, 0, 0, 0, 1, 0, 0, 0, 0, 0, 0, 0, 0, 0, 0, 0, 0, 0, 0, 0, 0, 0, 0, 0, 0, 0, 0, 0, 0, 0, 0, 0, 0, 0, 1, 0, 0, 0, 0, 0, 0, 0, 0, 0, 0, 0, 0, 0, 0, 0, 0, 0, 0, 0, 0, 0, 0, 0, 0, 0, 0, 0, 0, 0, 1, 0, 0, 0, 0, 0, 0, 0, 0, 0, 0, 0, 0, 0, 0, 0, 0, 0, 0, 0, 0, 0, 0, 0, 0, 0, 0, 0, 1, 0, 0, 0, 0, 0, 0, 0, 0, 0, 0, 0, 0, 0, 0, 0, 0, 0, 0, 0, 0, 0, 0, 0, 0, 0, 0, 0, 0, 0, 0, 0, 0, 0, 0, 0, 0, 0, 0, 0, 0, 0, 0, 0, 0, 0, 0, 0, 1, 0, 0, 0, 0, 0, 0, 0, 0, 0, 0, 0, 0, 0, 0, 0, 0, 0, 0, 0, 0, 0, 0, 0, 0, 0, 0, 0, 0, 0, 0, 0, 0, 0, 1, 0, 0, 0, 0, 0, 0, 0, 0, 0, 0, 0, 0, 0, 0, 0, 0, 0, 0, 0, 0, 0, 0, 0, 0, 0, 0, 0, 0, 0, 0, 0, 0, 0, 0, 0, 0, 0, 0, 0, 0, 0, 0, 0, 0, 1, 0, 0, 0, 0, 0, 0, 0, 0, 0, 0, 0, 0, 0, 0, 1, 0, 0, 0, 0, 0, 0, 0, 0, 0, 0, 0, 0, 1, 0, 0, 0, 0, 0, 0, 0, 0, 0, 0, 0, 0, 0, 0, 0, 0, 0, 0, 0, 0, 0, 0, 0, 0, 0, 0, 0, 0, 0, 0, 0, 0, 0, 0, 0, 0, 0, 1, 0, 0, 0, 0, 0, 0, 0, 0, 0, 0, 0, 0, 0, 0, 0, 0, 0, 0, 1, 0, 0, 0, 0, 0, 0, 0, 0, 0, 0, 0, 0, 0, 0, 0, 0, 0, 0, 0, 0, 0, 0, 0, 0, 0, 0, 0, 0, 0, 0, 0, 0, 0, 0, 0, 0, 0, 0, 0, 0, 0, 0, 0, 0, 0, 0, 0, 0, 0, 0, 0, 0, 0, 0, 0, 0, 0, 0, 0, 0, 0, 0, 0, 0, 0, 0, 0, 0, 0, 0, 0, 0, 0, 0, 0, 0, 0, 0, 0, 0, 0, 0, 0, 0, 0, 0, 0, 0, 0, 0, 0, 0, 0, 0, 0, 0, 0, 0, 0, 0, 0, 0, 0, 0, 0, 0, 0, 0, 0, 0, 0, 0, 0, 0, 0, 0, 0, 0, 0, 0, 1, 0, 0, 0, 0, 0, 0, 0, 0, 0, 0, 0, 0, 1, 0, 0, 0, 1, 0, 0, 0, 0, 0, 0, 0, 0, 0, 0, 0, 0, 0, 0, 0, 0, 0, 0, 0, 0, 0, 0, 0, 0, 0, 0, 0, 0, 0, 0, 0, 0, 0, 0, 1, 0, 0, 0, 0, 0, 0, 0, 0, 1, 0, 0, 0, 0, 0, 0, 0, 0, 0, 0, 0, 0, 0, 0, 0, 0, 0, 0, 0, 0, 0, 0, 0, 0, 0, 0, 0, 0, 0, 0, 0, 0, 0, 0, 0, 0, 0, 0, 0, 0, 0, 0, 0, 0, 0, 0, 0, 0, 0, 0, 0, 1, 0, 0, 0, 0, 0, 0, 0, 0, 0, 0, 0, 0, 0, 0, 0, 0, 0, 0, 0, 0, 0, 0, 0, 0, 0, 1, 0, 0, 0, 0, 0, 0, 0, 0, 0, 0, 0, 0, 0, 0, 0, 0, 0, 0, 0, 1, 0, 0, 0, 0, 0, 0, 0, 0, 0, 0, 0, 0, 0, 0, 0, 0, 0, 0, 1, 0, 0, 0, 0, 0, 0, 0, 0, 0, 0, 0, 0, 0, 0, 0, 0, 0, 0, 0, 0, 0, 0, 0, 0, 0, 0, 0, 0, 0, 0, 0, 0, 0, 0, 0, 0, 0, 0, 0, 0, 0, 0, 0, 0, 0, 0, 0, 0, 0, 0, 0, 0, 0, 1, 0, 0, 0, 0, 0, 0, 0, 0, 0, 0, 0, 0, 0, 0, 0, 0, 0, 0, 0, 0, 0, 0, 0, 0, 0, 0, 0, 0, 0, 0, 0, 0, 0, 0, 0, 0, 0, 0, 0, 0, 0, 0, 0, 0, 0, 0, 0, 0, 0, 0, 0, 1, 0, 0, 0, 0, 0, 0, 0, 1, 0, 0, 0, 0, 0, 0, 0, 0, 0, 0, 0, 0, 0, 0, 0, 0, 0, 0, 0, 0, 0, 0, 1, 0, 0, 0, 0, 0, 0, 0, 0, 0, 0, 0, 0, 0, 0, 0, 0, 0, 0, 0, 0, 0, 0, 0, 0, 0, 0, 0, 0, 0, 0, 0, 0, 0, 0, 0, 0, 0, 1, 0, 0, 0, 0, 0, 0, 0, 0, 1, 0, 0, 0, 0, 0, 0, 0, 0, 0, 0, 0, 0, 0, 0, 0, 0, 0, 0, 0, 0, 0, 0, 0, 0, 0, 0, 0, 0, 0, 1, 0, 1, 0, 0, 0, 0, 0, 0, 0, 0, 0, 0, 0, 0, 0, 0, 0, 0, 0, 0, 0, 0, 0, 0, 0, 0, 0, 0, 0, 0, 0, 0, 0, 0, 0, 0, 0, 0, 0, 0, 0, 0, 0, 1, 0, 0, 0, 0, 1, 0, 0, 0, 0, 0, 0, 0, 0, 0, 0, 0, 0, 0, 0, 0, 0, 0, 0, 0, 0, 0, 0, 0, 0, 0, 0, 0, 0, 0, 0, 0, 0, 0, 0, 0, 0, 0, 0, 0, 0, 0, 0, 0, 0, 0, 0, 0, 0, 0, 0, 0, 0, 0, 0, 0, 1, 0, 0, 1, 0, 0, 0, 0, 0, 0, 0, 0, 0, 0, 0, 0, 0, 0, 0, 0, 0, 0, 0, 0, 0, 0, 0, 0, 0, 0, 0, 0, 0, 0, 0, 0, 0, 0, 0, 0, 0, 0, 0, 0, 0, 0, 0, 0, 0, 0, 0, 0, 0, 0, 1, 0, 1, 0, 0, 0, 0, 0, 0, 0, 0, 0, 1, 0, 0, 0, 0, 0, 0, 0, 0, 0, 0, 0, 0, 0, 0, 0, 0, 0, 0, 0, 0, 0, 0, 0, 0, 0, 0, 0, 0, 0, 0, 0, 0, 0, 0, 0, 0, 0, 0, 0, 0, 0, 0, 0, 1, 0, 1, 0, 0, 0, 0, 1, 0, 0, 0, 0, 0, 0, 0, 0, 0, 0, 0, 0, 0, 0, 0, 0, 0, 0, 0, 0, 0, 0, 0, 0, 0, 0, 0, 0, 0, 0, 0, 0, 0, 0, 0, 0, 0, 0, 0, 0, 0, 0, 0, 0, 0, 0, 0, 0, 0, 0, 0, 0, 0, 0, 0, 0, 0, 0, 0, 0, 0, 0, 0, 0, 1, 0, 0, 0, 0, 0, 0, 0, 0, 0, 0, 0, 0, 0, 0, 0, 0, 0, 0, 0, 0, 0, 0, 0, 0, 0, 0, 0, 0, 0, 0, 0, 0, 0, 0, 0, 0, 0, 0, 0, 0, 0, 0, 0, 0, 0, 0, 0, 0, 0, 0, 0, 0, 0, 0, 0, 0, 0, 0, 0, 0, 0, 0, 0, 0, 0, 0, 0, 0, 0, 0, 0, 0, 0, 0, 1, 0, 0, 0, 0, 0, 0, 0, 0, 0, 0, 0, 0, 0, 0, 0, 0, 0, 0, 0, 0, 0, 0, 0, 0, 0, 0, 0, 0, 0, 0, 0, 0, 1, 0, 0, 0, 0, 1, 0, 0, 0, 0, 0, 0, 0, 0, 0, 0, 0, 0, 0, 0, 0, 0, 0, 0, 0, 0, 0, 0, 0, 0, 0, 0, 0, 0, 0, 0, 1, 0, 0, 1, 1, 0, 0, 0, 0, 1, 0, 0, 0, 0, 0, 0, 0], 3.6444999999999994, 0.34487585927605774]\n"
    },
    {
     "output_type": "error",
     "ename": "AttributeError",
     "evalue": "'list' object has no attribute 'tolist'",
     "traceback": [
      "\u001b[1;31m---------------------------------------------------------------------------\u001b[0m",
      "\u001b[1;31mAttributeError\u001b[0m                            Traceback (most recent call last)",
      "\u001b[1;32m<ipython-input-20-fa756286a9a3>\u001b[0m in \u001b[0;36m<module>\u001b[1;34m\u001b[0m\n\u001b[0;32m     36\u001b[0m \u001b[0mprint\u001b[0m\u001b[1;33m(\u001b[0m\u001b[0mlen\u001b[0m\u001b[1;33m(\u001b[0m\u001b[0mind\u001b[0m\u001b[1;33m[\u001b[0m\u001b[1;36m0\u001b[0m\u001b[1;33m]\u001b[0m\u001b[1;33m)\u001b[0m\u001b[1;33m)\u001b[0m\u001b[1;33m\u001b[0m\u001b[1;33m\u001b[0m\u001b[0m\n\u001b[0;32m     37\u001b[0m \u001b[0mprint\u001b[0m\u001b[1;33m(\u001b[0m\u001b[0mind\u001b[0m\u001b[1;33m)\u001b[0m\u001b[1;33m\u001b[0m\u001b[1;33m\u001b[0m\u001b[0m\n\u001b[1;32m---> 38\u001b[1;33m \u001b[0mind2\u001b[0m \u001b[1;33m=\u001b[0m \u001b[1;33m(\u001b[0m\u001b[0mmutation\u001b[0m\u001b[1;33m(\u001b[0m\u001b[0mind\u001b[0m\u001b[1;33m,\u001b[0m\u001b[0mdf_mol\u001b[0m\u001b[1;33m)\u001b[0m\u001b[1;33m)\u001b[0m\u001b[1;33m\u001b[0m\u001b[1;33m\u001b[0m\u001b[0m\n\u001b[0m\u001b[0;32m     39\u001b[0m \u001b[1;31m#print(is_budget_enough(mutation(ind[0],df_mol),budget))\u001b[0m\u001b[1;33m\u001b[0m\u001b[1;33m\u001b[0m\u001b[1;33m\u001b[0m\u001b[0m\n",
      "\u001b[1;32m<ipython-input-20-fa756286a9a3>\u001b[0m in \u001b[0;36mmutation\u001b[1;34m(indvd, df_mol)\u001b[0m\n\u001b[0;32m      9\u001b[0m \u001b[1;33m\u001b[0m\u001b[0m\n\u001b[0;32m     10\u001b[0m     \u001b[1;31m# 3. replacing a molecule inside the portfolio by a molecule outside portfolio\u001b[0m\u001b[1;33m\u001b[0m\u001b[1;33m\u001b[0m\u001b[1;33m\u001b[0m\u001b[0m\n\u001b[1;32m---> 11\u001b[1;33m     \u001b[0minNew\u001b[0m \u001b[1;33m=\u001b[0m \u001b[0mindvd\u001b[0m\u001b[1;33m[\u001b[0m\u001b[1;36m0\u001b[0m\u001b[1;33m]\u001b[0m\u001b[1;33m.\u001b[0m\u001b[0mtolist\u001b[0m\u001b[1;33m(\u001b[0m\u001b[1;33m)\u001b[0m\u001b[1;33m\u001b[0m\u001b[1;33m\u001b[0m\u001b[0m\n\u001b[0m\u001b[0;32m     12\u001b[0m     \u001b[0minNew\u001b[0m\u001b[1;33m.\u001b[0m\u001b[0mremove\u001b[0m\u001b[1;33m(\u001b[0m\u001b[0minDltd\u001b[0m\u001b[1;33m)\u001b[0m\u001b[1;33m\u001b[0m\u001b[1;33m\u001b[0m\u001b[0m\n\u001b[0;32m     13\u001b[0m     \u001b[0minNew\u001b[0m\u001b[1;33m.\u001b[0m\u001b[0mappend\u001b[0m\u001b[1;33m(\u001b[0m\u001b[0minAdd\u001b[0m\u001b[1;33m)\u001b[0m\u001b[1;33m\u001b[0m\u001b[1;33m\u001b[0m\u001b[0m\n",
      "\u001b[1;31mAttributeError\u001b[0m: 'list' object has no attribute 'tolist'"
     ]
    }
   ],
   "source": [
    "def mutation(indvd,df_mol) :\n",
    "    #print(type(individu))\n",
    "    #individu =df_ind.tolist()\n",
    "    # 1. deleting a single randomly choosen molecule\n",
    "    inDltd = rd.choice(indvd[0])\n",
    "    # 2. Adding a randomly choosen new molecule\n",
    "    molecule = df_mol[\"mol_name\"].tolist()\n",
    "    inAdd = rd.choice(molecule)\n",
    "\n",
    "    # 3. replacing a molecule inside the portfolio by a molecule outside portfolio\n",
    "    inNew = indvd[0].tolist()\n",
    "    inNew.remove(inDltd)\n",
    "    inNew.append(inAdd)\n",
    "    column = df_mol.columns\n",
    "    inNewLst = []\n",
    "    for data in df_mol.values:\n",
    "        if data[0] in inNew :\n",
    "            inNewLst.append(data)\n",
    "    print(len(inNewLst))\n",
    "    df_new = pd.DataFrame(inNewLst)\n",
    "    df_new.columns = column\n",
    "    #print(type(df_new))\n",
    "    \n",
    "    max_iter = 1000\n",
    "    iter = 0\n",
    "    while(iter < max_iter) :\n",
    "        if is_budget_enough(df_new,budget)[0] :\n",
    "            return individu(df_new)\n",
    "            break\n",
    "        iter += 1\n",
    "        \n",
    "    else :\n",
    "        print(iter)\n",
    "        return []\n",
    "\n",
    "print(len(ind[0]))\n",
    "print(ind)\n",
    "ind2 = (mutation(ind,df_mol))\n",
    "#print(is_budget_enough(mutation(ind[0],df_mol),budget))\n"
   ]
  },
  {
   "cell_type": "code",
   "execution_count": null,
   "metadata": {},
   "outputs": [],
   "source": []
  },
  {
   "cell_type": "markdown",
   "metadata": {},
   "source": [
    "## Inisialisasi populasi bit string"
   ]
  },
  {
   "cell_type": "code",
   "execution_count": null,
   "metadata": {},
   "outputs": [],
   "source": [
    "\n",
    "def initPopulation(nPortofolio,nSubset,dfMol=df_mol):\n",
    "    mol = dfMol[\"mol_name\"].tolist()\n",
    "\n",
    "    def molToBit(portfolio,mol = mol):\n",
    "        bitString = []\n",
    "        for x in mol :\n",
    "            if x in portfolio :\n",
    "                bit = 1\n",
    "            else :\n",
    "                bit = 0\n",
    "            bitString.append(bit)\n",
    "        return bitString\n",
    "    \n",
    "    population = []\n",
    "    for i in range(nPortofolio) :\n",
    "        individu = rd.sample(mol,nSubset)\n",
    "        bitString = molToBit(individu)\n",
    "        population.append(bitString)\n",
    "    return population\n",
    "        \n",
    "\n",
    "population=((initPopulation(100,100)))\n",
    "print(len(population))"
   ]
  },
  {
   "cell_type": "markdown",
   "metadata": {},
   "source": [
    "## Mutation and Crossover on Bitstring"
   ]
  },
  {
   "cell_type": "code",
   "execution_count": null,
   "metadata": {},
   "outputs": [],
   "source": [
    "def mutation(portfolio) :\n",
    "    bit1 = []\n",
    "    bit0 = []\n",
    "    for idx,bit in enumerate(portfolio) :\n",
    "        if bit == 1 :\n",
    "            bit1.append(idx)\n",
    "        else :\n",
    "            bit0.append(idx)\n",
    "    replace = False\n",
    "\n",
    "    # Add\n",
    "    portfolio[rd.choice(bit0)] = 1\n",
    "\n",
    "    # Del\n",
    "    portfolio[rd.choice(bit1)] = 0\n",
    "    \n",
    "    return portfolio\n",
    "#mutation(ind[0])\n"
   ]
  },
  {
   "cell_type": "code",
   "execution_count": null,
   "metadata": {},
   "outputs": [],
   "source": [
    "def crossover(population=population) :\n",
    "    parent1,parent2 = rd.sample(population,2)\n",
    "    newPopulaiton = [parent1]\n",
    "    for i in range(population) :\n",
    "\n",
    "    barier = len(parent1)//10\n",
    "    \n",
    "\n",
    "    parentTmp = parent1[:barier]+parent2[barier:]\n",
    "    parent1 = parent2[:barier]+parent1[barier:]\n",
    "    parent2 = parentTmp\n",
    "    return barier\n",
    "crossover()"
   ]
  },
  {
   "cell_type": "code",
   "execution_count": null,
   "metadata": {},
   "outputs": [],
   "source": [
    "# Lagi gak dipake !!!1\n",
    "\n",
    "def initialPopulation(df_mol,budget,nSubset,nPortfolio) :\n",
    "    fMaxObj1 = []\n",
    "    fMaxObj2 = []\n",
    "    solution = []\n",
    "    for i in range(nPortfolio) :\n",
    "        portfolio = initialization_individu(df_mol,budget,nSubset)\n",
    "        solution.append(portfolio[0])\n",
    "        fMaxObj1.append(portfolio[1]) # Probabilitas Kesuksesan\n",
    "        fMaxObj2.append(portfolio[2]) # Diversity\n",
    "    return [solution,fMaxObj1,fMaxObj2]\n"
   ]
  },
  {
   "cell_type": "markdown",
   "metadata": {},
   "source": [
    "### Non Dominated Sorted\n"
   ]
  },
  {
   "cell_type": "code",
   "execution_count": null,
   "metadata": {},
   "outputs": [],
   "source": [
    "def fast_non_dominated_sort(values1, values2):\n",
    "    S=[[] for i in range(0,len(values1))]\n",
    "    front = [[]]\n",
    "    n=[0 for i in range(0,len(values1))]\n",
    "    rank = [0 for i in range(0, len(values1))]\n",
    "\n",
    "    for p in range(0,len(values1)):\n",
    "        S[p]=[]\n",
    "        n[p]=0\n",
    "        for q in range(0, len(values1)):\n",
    "            if (values1[p] > values1[q] and values2[p] > values2[q]) or (values1[p] >= values1[q] and values2[p] > values2[q]) or (values1[p] > values1[q] and values2[p] >= values2[q]):\n",
    "                if q not in S[p]:\n",
    "                    S[p].append(q)\n",
    "            elif (values1[q] > values1[p] and values2[q] > values2[p]) or (values1[q] >= values1[p] and values2[q] > values2[p]) or (values1[q] > values1[p] and values2[q] >= values2[p]):\n",
    "                n[p] = n[p] + 1\n",
    "        if n[p]==0:\n",
    "            rank[p] = 0\n",
    "            if p not in front[0]:\n",
    "                front[0].append(p)\n",
    "\n",
    "    i = 0\n",
    "    while(front[i] != []):\n",
    "        Q=[]\n",
    "        for p in front[i]:\n",
    "            for q in S[p]:\n",
    "                n[q] =n[q] - 1\n",
    "                if( n[q]==0):\n",
    "                    rank[q]=i+1\n",
    "                    if q not in Q:\n",
    "                        Q.append(q)\n",
    "        i = i+1\n",
    "        front.append(Q)\n",
    "\n",
    "    del front[len(front)-1]\n",
    "    return front\n",
    "\n"
   ]
  },
  {
   "cell_type": "code",
   "execution_count": null,
   "metadata": {},
   "outputs": [],
   "source": [
    "nPortfolio = 5\n",
    "nSubset = 5\n",
    "fMaxObj1 = []\n",
    "fMaxObj2 = []\n",
    "solution = []\n",
    "for i in range(nPortfolio) :\n",
    "    portfolio = initialization_individu(df_mol,budget,nSubset)\n",
    "    solution.append(portfolio[0])\n",
    "    fMaxObj1.append(portfolio[1]) # Probabilitas Kesuksesan\n",
    "    fMaxObj2.append(portfolio[2]) # Diversity   \n",
    "    "
   ]
  },
  {
   "cell_type": "code",
   "execution_count": 27,
   "metadata": {},
   "outputs": [
    {
     "output_type": "execute_result",
     "data": {
      "text/plain": "[[1, 2], [4, 0, 3]]"
     },
     "metadata": {},
     "execution_count": 27
    }
   ],
   "source": [
    "fast_non_dominated_sort(fMaxObj1,fMaxObj2)"
   ]
  },
  {
   "cell_type": "code",
   "execution_count": 28,
   "metadata": {},
   "outputs": [],
   "source": [
    "import math\n",
    "def sort_by_values(list1, values):\n",
    "    sorted_list = []\n",
    "    while(len(sorted_list)!=len(list1)):\n",
    "        if index_of(min(values),values) in list1:\n",
    "            sorted_list.append(index_of(min(values),values))\n",
    "        values[index_of(min(values),values)] = math.inf\n",
    "    return sorted_list\n"
   ]
  },
  {
   "cell_type": "code",
   "execution_count": 29,
   "metadata": {},
   "outputs": [],
   "source": [
    "def crowding_distance(values1, values2, front):\n",
    "    distance = [0 for i in range(0,len(front))]\n",
    "    sorted1 = sort_by_values(front, values1[:])\n",
    "    sorted2 = sort_by_values(front, values2[:])\n",
    "    distance[0] = 4444444444444444\n",
    "    distance[len(front) - 1] = 4444444444444444\n",
    "    for k in range(1,len(front)-1):\n",
    "        distance[k] = distance[k]+ (values1[sorted1[k+1]] - values2[sorted1[k-1]])/(max(values1)-min(values1))\n",
    "    for k in range(1,len(front)-1):\n",
    "        distance[k] = distance[k]+ (values1[sorted2[k+1]] - values2[sorted2[k-1]])/(max(values2)-min(values2))\n",
    "    return distance"
   ]
  },
  {
   "cell_type": "code",
   "execution_count": 30,
   "metadata": {},
   "outputs": [],
   "source": [
    "def index_of(a,list):\n",
    "    for i in range(0,len(list)):\n",
    "        if list[i] == a:\n",
    "            return i\n",
    "    return -1"
   ]
  },
  {
   "cell_type": "code",
   "execution_count": 31,
   "metadata": {
    "tags": []
   },
   "outputs": [
    {
     "output_type": "stream",
     "name": "stdout",
     "text": "f1v [2.8419999999999996, 1.5318, 3.9139999999999993, 1.4042000000000001, 1.14964]\nf2v [0.29783157570598384, 0.35646653634233616, 0.32221312663385016, 0.31746271049388425, 0.3492786932439773]\nnon-dominated [[1, 2], [4, 0, 3]]\nThe best front for Generation number  0  is\nnon-dominated sorteed = [[1, 3, 5], [0, 2], [4]]\nf1v [2.8419999999999996, 1.5318, 3.9139999999999993, 1.4042000000000001, 1.14964]\nf2v [0.29783157570598384, 0.35646653634233616, 0.32221312663385016, 0.31746271049388425, 0.3492786932439773]\nnon-dominated [[1, 2], [4, 0, 3]]\nThe best front for Generation number  1  is\nnon-dominated sorteed = [[2, 3, 4], [5], [0, 1]]\nf1v [2.8419999999999996, 1.5318, 3.9139999999999993, 1.4042000000000001, 1.14964]\nf2v [0.29783157570598384, 0.35646653634233616, 0.32221312663385016, 0.31746271049388425, 0.3492786932439773]\nnon-dominated [[1, 2], [4, 0, 3]]\nThe best front for Generation number  2  is\nnon-dominated sorteed = [[2, 4], [3, 5, 0], [1]]\nf1v [2.8419999999999996, 1.5318, 3.9139999999999993, 1.4042000000000001, 1.14964]\nf2v [0.29783157570598384, 0.35646653634233616, 0.32221312663385016, 0.31746271049388425, 0.3492786932439773]\nnon-dominated [[1, 2], [4, 0, 3]]\nThe best front for Generation number  3  is\nnon-dominated sorteed = [[0, 3], [1, 4, 5], [2]]\nf1v [2.8419999999999996, 1.5318, 3.9139999999999993, 1.4042000000000001, 1.14964]\nf2v [0.29783157570598384, 0.35646653634233616, 0.32221312663385016, 0.31746271049388425, 0.3492786932439773]\nnon-dominated [[1, 2], [4, 0, 3]]\nThe best front for Generation number  4  is\nnon-dominated sorteed = [[1, 3, 4], [0, 2, 5]]\nf1v [2.8419999999999996, 1.5318, 3.9139999999999993, 1.4042000000000001, 1.14964]\nf2v [0.29783157570598384, 0.35646653634233616, 0.32221312663385016, 0.31746271049388425, 0.3492786932439773]\nnon-dominated [[1, 2], [4, 0, 3]]\nThe best front for Generation number  5  is\nnon-dominated sorteed = [[2, 4], [1, 3, 5], [0]]\nf1v [2.8419999999999996, 1.5318, 3.9139999999999993, 1.4042000000000001, 1.14964]\nf2v [0.29783157570598384, 0.35646653634233616, 0.32221312663385016, 0.31746271049388425, 0.3492786932439773]\nnon-dominated [[1, 2], [4, 0, 3]]\nThe best front for Generation number  6  is\nnon-dominated sorteed = [[1, 3, 5], [0, 2], [4]]\nf1v [2.8419999999999996, 1.5318, 3.9139999999999993, 1.4042000000000001, 1.14964]\nf2v [0.29783157570598384, 0.35646653634233616, 0.32221312663385016, 0.31746271049388425, 0.3492786932439773]\nnon-dominated [[1, 2], [4, 0, 3]]\nThe best front for Generation number  7  is\nnon-dominated sorteed = [[1, 2, 3, 4], [0], [5]]\nf1v [2.8419999999999996, 1.5318, 3.9139999999999993, 1.4042000000000001, 1.14964]\nf2v [0.29783157570598384, 0.35646653634233616, 0.32221312663385016, 0.31746271049388425, 0.3492786932439773]\nnon-dominated [[1, 2], [4, 0, 3]]\nThe best front for Generation number  8  is\nnon-dominated sorteed = [[1, 3, 4], [5, 2], [0]]\nf1v [2.8419999999999996, 1.5318, 3.9139999999999993, 1.4042000000000001, 1.14964]\nf2v [0.29783157570598384, 0.35646653634233616, 0.32221312663385016, 0.31746271049388425, 0.3492786932439773]\nnon-dominated [[1, 2], [4, 0, 3]]\nThe best front for Generation number  9  is\nnon-dominated sorteed = [[0, 2, 3], [1, 4], [5]]\nf1v [2.8419999999999996, 1.5318, 3.9139999999999993, 1.4042000000000001, 1.14964]\nf2v [0.29783157570598384, 0.35646653634233616, 0.32221312663385016, 0.31746271049388425, 0.3492786932439773]\nnon-dominated [[1, 2], [4, 0, 3]]\nThe best front for Generation number  10  is\nnon-dominated sorteed = [[3, 4], [5, 0, 1, 2]]\nf1v [2.8419999999999996, 1.5318, 3.9139999999999993, 1.4042000000000001, 1.14964]\nf2v [0.29783157570598384, 0.35646653634233616, 0.32221312663385016, 0.31746271049388425, 0.3492786932439773]\nnon-dominated [[1, 2], [4, 0, 3]]\nThe best front for Generation number  11  is\nnon-dominated sorteed = [[0, 1, 3], [4, 5], [2]]\nf1v [2.8419999999999996, 1.5318, 3.9139999999999993, 1.4042000000000001, 1.14964]\nf2v [0.29783157570598384, 0.35646653634233616, 0.32221312663385016, 0.31746271049388425, 0.3492786932439773]\nnon-dominated [[1, 2], [4, 0, 3]]\nThe best front for Generation number  12  is\nnon-dominated sorteed = [[0, 1, 2], [3, 5, 4]]\nf1v [2.8419999999999996, 1.5318, 3.9139999999999993, 1.4042000000000001, 1.14964]\nf2v [0.29783157570598384, 0.35646653634233616, 0.32221312663385016, 0.31746271049388425, 0.3492786932439773]\nnon-dominated [[1, 2], [4, 0, 3]]\nThe best front for Generation number  13  is\nnon-dominated sorteed = [[0], [1, 3, 4, 5], [2]]\nf1v [2.8419999999999996, 1.5318, 3.9139999999999993, 1.4042000000000001, 1.14964]\nf2v [0.29783157570598384, 0.35646653634233616, 0.32221312663385016, 0.31746271049388425, 0.3492786932439773]\nnon-dominated [[1, 2], [4, 0, 3]]\nThe best front for Generation number  14  is\nnon-dominated sorteed = [[0, 2, 4], [3, 5], [1]]\nf1v [2.8419999999999996, 1.5318, 3.9139999999999993, 1.4042000000000001, 1.14964]\nf2v [0.29783157570598384, 0.35646653634233616, 0.32221312663385016, 0.31746271049388425, 0.3492786932439773]\nnon-dominated [[1, 2], [4, 0, 3]]\nThe best front for Generation number  15  is\nnon-dominated sorteed = [[1, 2, 4], [5, 3], [0]]\nf1v [2.8419999999999996, 1.5318, 3.9139999999999993, 1.4042000000000001, 1.14964]\nf2v [0.29783157570598384, 0.35646653634233616, 0.32221312663385016, 0.31746271049388425, 0.3492786932439773]\nnon-dominated [[1, 2], [4, 0, 3]]\nThe best front for Generation number  16  is\nnon-dominated sorteed = [[3], [0, 2, 4], [1, 5]]\nf1v [2.8419999999999996, 1.5318, 3.9139999999999993, 1.4042000000000001, 1.14964]\nf2v [0.29783157570598384, 0.35646653634233616, 0.32221312663385016, 0.31746271049388425, 0.3492786932439773]\nnon-dominated [[1, 2], [4, 0, 3]]\nThe best front for Generation number  17  is\nnon-dominated sorteed = [[3, 4], [2, 5, 1], [0]]\nf1v [2.8419999999999996, 1.5318, 3.9139999999999993, 1.4042000000000001, 1.14964]\nf2v [0.29783157570598384, 0.35646653634233616, 0.32221312663385016, 0.31746271049388425, 0.3492786932439773]\nnon-dominated [[1, 2], [4, 0, 3]]\nThe best front for Generation number  18  is\nnon-dominated sorteed = [[2, 5], [0, 1, 3, 4]]\nf1v [2.8419999999999996, 1.5318, 3.9139999999999993, 1.4042000000000001, 1.14964]\nf2v [0.29783157570598384, 0.35646653634233616, 0.32221312663385016, 0.31746271049388425, 0.3492786932439773]\nnon-dominated [[1, 2], [4, 0, 3]]\nThe best front for Generation number  19  is\nnon-dominated sorteed = [[1, 2, 3, 5], [0, 4]]\nf1v [2.8419999999999996, 1.5318, 3.9139999999999993, 1.4042000000000001, 1.14964]\nf2v [0.29783157570598384, 0.35646653634233616, 0.32221312663385016, 0.31746271049388425, 0.3492786932439773]\nnon-dominated [[1, 2], [4, 0, 3]]\nThe best front for Generation number  20  is\nnon-dominated sorteed = [[1], [2, 4], [5, 3], [0]]\nf1v [2.8419999999999996, 1.5318, 3.9139999999999993, 1.4042000000000001, 1.14964]\nf2v [0.29783157570598384, 0.35646653634233616, 0.32221312663385016, 0.31746271049388425, 0.3492786932439773]\nnon-dominated [[1, 2], [4, 0, 3]]\nThe best front for Generation number  21  is\nnon-dominated sorteed = [[1, 2, 3, 4, 5], [0]]\nf1v [2.8419999999999996, 1.5318, 3.9139999999999993, 1.4042000000000001, 1.14964]\nf2v [0.29783157570598384, 0.35646653634233616, 0.32221312663385016, 0.31746271049388425, 0.3492786932439773]\nnon-dominated [[1, 2], [4, 0, 3]]\nThe best front for Generation number  22  is\nnon-dominated sorteed = [[0, 2, 5], [1, 4, 3]]\nf1v [2.8419999999999996, 1.5318, 3.9139999999999993, 1.4042000000000001, 1.14964]\nf2v [0.29783157570598384, 0.35646653634233616, 0.32221312663385016, 0.31746271049388425, 0.3492786932439773]\nnon-dominated [[1, 2], [4, 0, 3]]\nThe best front for Generation number  23  is\nnon-dominated sorteed = [[1, 2, 4], [3], [0, 5]]\nf1v [2.8419999999999996, 1.5318, 3.9139999999999993, 1.4042000000000001, 1.14964]\nf2v [0.29783157570598384, 0.35646653634233616, 0.32221312663385016, 0.31746271049388425, 0.3492786932439773]\nnon-dominated [[1, 2], [4, 0, 3]]\nThe best front for Generation number  24  is\nnon-dominated sorteed = [[1, 2, 4], [5, 0, 3]]\nf1v [2.8419999999999996, 1.5318, 3.9139999999999993, 1.4042000000000001, 1.14964]\nf2v [0.29783157570598384, 0.35646653634233616, 0.32221312663385016, 0.31746271049388425, 0.3492786932439773]\nnon-dominated [[1, 2], [4, 0, 3]]\nThe best front for Generation number  25  is\nnon-dominated sorteed = [[1, 5], [0, 2, 4], [3]]\nf1v [2.8419999999999996, 1.5318, 3.9139999999999993, 1.4042000000000001, 1.14964]\nf2v [0.29783157570598384, 0.35646653634233616, 0.32221312663385016, 0.31746271049388425, 0.3492786932439773]\nnon-dominated [[1, 2], [4, 0, 3]]\nThe best front for Generation number  26  is\nnon-dominated sorteed = [[0, 2], [1, 3], [4, 5]]\nf1v [2.8419999999999996, 1.5318, 3.9139999999999993, 1.4042000000000001, 1.14964]\nf2v [0.29783157570598384, 0.35646653634233616, 0.32221312663385016, 0.31746271049388425, 0.3492786932439773]\nnon-dominated [[1, 2], [4, 0, 3]]\nThe best front for Generation number  27  is\nnon-dominated sorteed = [[0, 2], [1, 4], [5], [3]]\nf1v [2.8419999999999996, 1.5318, 3.9139999999999993, 1.4042000000000001, 1.14964]\nf2v [0.29783157570598384, 0.35646653634233616, 0.32221312663385016, 0.31746271049388425, 0.3492786932439773]\nnon-dominated [[1, 2], [4, 0, 3]]\nThe best front for Generation number  28  is\nnon-dominated sorteed = [[2, 5], [0, 4], [3], [1]]\nf1v [2.8419999999999996, 1.5318, 3.9139999999999993, 1.4042000000000001, 1.14964]\nf2v [0.29783157570598384, 0.35646653634233616, 0.32221312663385016, 0.31746271049388425, 0.3492786932439773]\nnon-dominated [[1, 2], [4, 0, 3]]\nThe best front for Generation number  29  is\nnon-dominated sorteed = [[0, 1, 4], [2, 3, 5]]\nf1v [2.8419999999999996, 1.5318, 3.9139999999999993, 1.4042000000000001, 1.14964]\nf2v [0.29783157570598384, 0.35646653634233616, 0.32221312663385016, 0.31746271049388425, 0.3492786932439773]\nnon-dominated [[1, 2], [4, 0, 3]]\nThe best front for Generation number  30  is\nnon-dominated sorteed = [[0, 1, 5], [2], [3, 4]]\nf1v [2.8419999999999996, 1.5318, 3.9139999999999993, 1.4042000000000001, 1.14964]\nf2v [0.29783157570598384, 0.35646653634233616, 0.32221312663385016, 0.31746271049388425, 0.3492786932439773]\nnon-dominated [[1, 2], [4, 0, 3]]\nThe best front for Generation number  31  is\nnon-dominated sorteed = [[1, 2, 4, 5], [3], [0]]\nf1v [2.8419999999999996, 1.5318, 3.9139999999999993, 1.4042000000000001, 1.14964]\nf2v [0.29783157570598384, 0.35646653634233616, 0.32221312663385016, 0.31746271049388425, 0.3492786932439773]\nnon-dominated [[1, 2], [4, 0, 3]]\nThe best front for Generation number  32  is\nnon-dominated sorteed = [[3, 4], [2], [1, 5], [0]]\nf1v [2.8419999999999996, 1.5318, 3.9139999999999993, 1.4042000000000001, 1.14964]\nf2v [0.29783157570598384, 0.35646653634233616, 0.32221312663385016, 0.31746271049388425, 0.3492786932439773]\nnon-dominated [[1, 2], [4, 0, 3]]\nThe best front for Generation number  33  is\nnon-dominated sorteed = [[0, 3, 4, 5], [1, 2]]\nf1v [2.8419999999999996, 1.5318, 3.9139999999999993, 1.4042000000000001, 1.14964]\nf2v [0.29783157570598384, 0.35646653634233616, 0.32221312663385016, 0.31746271049388425, 0.3492786932439773]\nnon-dominated [[1, 2], [4, 0, 3]]\nThe best front for Generation number  34  is\nnon-dominated sorteed = [[2, 5], [1, 4], [0], [3]]\nf1v [2.8419999999999996, 1.5318, 3.9139999999999993, 1.4042000000000001, 1.14964]\nf2v [0.29783157570598384, 0.35646653634233616, 0.32221312663385016, 0.31746271049388425, 0.3492786932439773]\nnon-dominated [[1, 2], [4, 0, 3]]\nThe best front for Generation number  35  is\nnon-dominated sorteed = [[3, 4, 5], [2], [1], [0]]\nf1v [2.8419999999999996, 1.5318, 3.9139999999999993, 1.4042000000000001, 1.14964]\nf2v [0.29783157570598384, 0.35646653634233616, 0.32221312663385016, 0.31746271049388425, 0.3492786932439773]\nnon-dominated [[1, 2], [4, 0, 3]]\nThe best front for Generation number  36  is\nnon-dominated sorteed = [[0, 1, 3, 5], [2, 4]]\nf1v [2.8419999999999996, 1.5318, 3.9139999999999993, 1.4042000000000001, 1.14964]\nf2v [0.29783157570598384, 0.35646653634233616, 0.32221312663385016, 0.31746271049388425, 0.3492786932439773]\nnon-dominated [[1, 2], [4, 0, 3]]\nThe best front for Generation number  37  is\nnon-dominated sorteed = [[1, 4], [2, 3, 5], [0]]\nf1v [2.8419999999999996, 1.5318, 3.9139999999999993, 1.4042000000000001, 1.14964]\nf2v [0.29783157570598384, 0.35646653634233616, 0.32221312663385016, 0.31746271049388425, 0.3492786932439773]\nnon-dominated [[1, 2], [4, 0, 3]]\nThe best front for Generation number  38  is\nnon-dominated sorteed = [[3, 4], [2, 0, 1], [5]]\nf1v [2.8419999999999996, 1.5318, 3.9139999999999993, 1.4042000000000001, 1.14964]\nf2v [0.29783157570598384, 0.35646653634233616, 0.32221312663385016, 0.31746271049388425, 0.3492786932439773]\nnon-dominated [[1, 2], [4, 0, 3]]\nThe best front for Generation number  39  is\nnon-dominated sorteed = [[0, 1, 2], [5, 3, 4]]\nf1v [2.8419999999999996, 1.5318, 3.9139999999999993, 1.4042000000000001, 1.14964]\nf2v [0.29783157570598384, 0.35646653634233616, 0.32221312663385016, 0.31746271049388425, 0.3492786932439773]\nnon-dominated [[1, 2], [4, 0, 3]]\nThe best front for Generation number  40  is\nnon-dominated sorteed = [[0, 4, 5], [1, 2, 3]]\nf1v [2.8419999999999996, 1.5318, 3.9139999999999993, 1.4042000000000001, 1.14964]\nf2v [0.29783157570598384, 0.35646653634233616, 0.32221312663385016, 0.31746271049388425, 0.3492786932439773]\nnon-dominated [[1, 2], [4, 0, 3]]\nThe best front for Generation number  41  is\nnon-dominated sorteed = [[5], [0, 2, 3], [1], [4]]\nf1v [2.8419999999999996, 1.5318, 3.9139999999999993, 1.4042000000000001, 1.14964]\nf2v [0.29783157570598384, 0.35646653634233616, 0.32221312663385016, 0.31746271049388425, 0.3492786932439773]\nnon-dominated [[1, 2], [4, 0, 3]]\nThe best front for Generation number  42  is\nnon-dominated sorteed = [[0, 4], [3, 5], [1], [2]]\nf1v [2.8419999999999996, 1.5318, 3.9139999999999993, 1.4042000000000001, 1.14964]\nf2v [0.29783157570598384, 0.35646653634233616, 0.32221312663385016, 0.31746271049388425, 0.3492786932439773]\nnon-dominated [[1, 2], [4, 0, 3]]\nThe best front for Generation number  43  is\nnon-dominated sorteed = [[0, 2], [1, 4], [5, 3]]\nf1v [2.8419999999999996, 1.5318, 3.9139999999999993, 1.4042000000000001, 1.14964]\nf2v [0.29783157570598384, 0.35646653634233616, 0.32221312663385016, 0.31746271049388425, 0.3492786932439773]\nnon-dominated [[1, 2], [4, 0, 3]]\nThe best front for Generation number  44  is\nnon-dominated sorteed = [[1, 4, 5], [3], [0], [2]]\nf1v [2.8419999999999996, 1.5318, 3.9139999999999993, 1.4042000000000001, 1.14964]\nf2v [0.29783157570598384, 0.35646653634233616, 0.32221312663385016, 0.31746271049388425, 0.3492786932439773]\nnon-dominated [[1, 2], [4, 0, 3]]\nThe best front for Generation number  45  is\nnon-dominated sorteed = [[1, 2], [0, 4], [5], [3]]\nf1v [2.8419999999999996, 1.5318, 3.9139999999999993, 1.4042000000000001, 1.14964]\nf2v [0.29783157570598384, 0.35646653634233616, 0.32221312663385016, 0.31746271049388425, 0.3492786932439773]\nnon-dominated [[1, 2], [4, 0, 3]]\nThe best front for Generation number  46  is\nnon-dominated sorteed = [[0, 1, 4, 5], [3, 2]]\nf1v [2.8419999999999996, 1.5318, 3.9139999999999993, 1.4042000000000001, 1.14964]\nf2v [0.29783157570598384, 0.35646653634233616, 0.32221312663385016, 0.31746271049388425, 0.3492786932439773]\nnon-dominated [[1, 2], [4, 0, 3]]\nThe best front for Generation number  47  is\nnon-dominated sorteed = [[1, 2], [3, 4, 5], [0]]\nf1v [2.8419999999999996, 1.5318, 3.9139999999999993, 1.4042000000000001, 1.14964]\nf2v [0.29783157570598384, 0.35646653634233616, 0.32221312663385016, 0.31746271049388425, 0.3492786932439773]\nnon-dominated [[1, 2], [4, 0, 3]]\nThe best front for Generation number  48  is\nnon-dominated sorteed = [[5], [1, 3], [0, 4], [2]]\nf1v [2.8419999999999996, 1.5318, 3.9139999999999993, 1.4042000000000001, 1.14964]\nf2v [0.29783157570598384, 0.35646653634233616, 0.32221312663385016, 0.31746271049388425, 0.3492786932439773]\nnon-dominated [[1, 2], [4, 0, 3]]\nThe best front for Generation number  49  is\nnon-dominated sorteed = [[1], [2, 3, 4, 5], [0]]\nf1v [2.8419999999999996, 1.5318, 3.9139999999999993, 1.4042000000000001, 1.14964]\nf2v [0.29783157570598384, 0.35646653634233616, 0.32221312663385016, 0.31746271049388425, 0.3492786932439773]\nnon-dominated [[1, 2], [4, 0, 3]]\nThe best front for Generation number  50  is\nnon-dominated sorteed = [[3, 4], [2, 0], [1, 5]]\nf1v [2.8419999999999996, 1.5318, 3.9139999999999993, 1.4042000000000001, 1.14964]\nf2v [0.29783157570598384, 0.35646653634233616, 0.32221312663385016, 0.31746271049388425, 0.3492786932439773]\nnon-dominated [[1, 2], [4, 0, 3]]\nThe best front for Generation number  51  is\nnon-dominated sorteed = [[1, 2, 4], [3, 5], [0]]\nf1v [2.8419999999999996, 1.5318, 3.9139999999999993, 1.4042000000000001, 1.14964]\nf2v [0.29783157570598384, 0.35646653634233616, 0.32221312663385016, 0.31746271049388425, 0.3492786932439773]\nnon-dominated [[1, 2], [4, 0, 3]]\nThe best front for Generation number  52  is\nnon-dominated sorteed = [[0, 2, 3], [1, 4, 5]]\nf1v [2.8419999999999996, 1.5318, 3.9139999999999993, 1.4042000000000001, 1.14964]\nf2v [0.29783157570598384, 0.35646653634233616, 0.32221312663385016, 0.31746271049388425, 0.3492786932439773]\nnon-dominated [[1, 2], [4, 0, 3]]\nThe best front for Generation number  53  is\nnon-dominated sorteed = [[0, 1, 3, 4], [2, 5]]\nf1v [2.8419999999999996, 1.5318, 3.9139999999999993, 1.4042000000000001, 1.14964]\nf2v [0.29783157570598384, 0.35646653634233616, 0.32221312663385016, 0.31746271049388425, 0.3492786932439773]\nnon-dominated [[1, 2], [4, 0, 3]]\nThe best front for Generation number  54  is\nnon-dominated sorteed = [[1, 2, 3, 4], [0, 5]]\nf1v [2.8419999999999996, 1.5318, 3.9139999999999993, 1.4042000000000001, 1.14964]\nf2v [0.29783157570598384, 0.35646653634233616, 0.32221312663385016, 0.31746271049388425, 0.3492786932439773]\nnon-dominated [[1, 2], [4, 0, 3]]\nThe best front for Generation number  55  is\nnon-dominated sorteed = [[0, 3, 4], [1, 5], [2]]\nf1v [2.8419999999999996, 1.5318, 3.9139999999999993, 1.4042000000000001, 1.14964]\nf2v [0.29783157570598384, 0.35646653634233616, 0.32221312663385016, 0.31746271049388425, 0.3492786932439773]\nnon-dominated [[1, 2], [4, 0, 3]]\nThe best front for Generation number  56  is\nnon-dominated sorteed = [[2, 3], [4], [1], [0], [5]]\nf1v [2.8419999999999996, 1.5318, 3.9139999999999993, 1.4042000000000001, 1.14964]\nf2v [0.29783157570598384, 0.35646653634233616, 0.32221312663385016, 0.31746271049388425, 0.3492786932439773]\nnon-dominated [[1, 2], [4, 0, 3]]\nThe best front for Generation number  57  is\nnon-dominated sorteed = [[0, 1, 3, 4], [2, 5]]\nf1v [2.8419999999999996, 1.5318, 3.9139999999999993, 1.4042000000000001, 1.14964]\nf2v [0.29783157570598384, 0.35646653634233616, 0.32221312663385016, 0.31746271049388425, 0.3492786932439773]\nnon-dominated [[1, 2], [4, 0, 3]]\nThe best front for Generation number  58  is\nnon-dominated sorteed = [[0, 2, 4], [1, 3], [5]]\nf1v [2.8419999999999996, 1.5318, 3.9139999999999993, 1.4042000000000001, 1.14964]\nf2v [0.29783157570598384, 0.35646653634233616, 0.32221312663385016, 0.31746271049388425, 0.3492786932439773]\nnon-dominated [[1, 2], [4, 0, 3]]\nThe best front for Generation number  59  is\nnon-dominated sorteed = [[0, 1, 3], [5, 4], [2]]\nf1v [2.8419999999999996, 1.5318, 3.9139999999999993, 1.4042000000000001, 1.14964]\nf2v [0.29783157570598384, 0.35646653634233616, 0.32221312663385016, 0.31746271049388425, 0.3492786932439773]\nnon-dominated [[1, 2], [4, 0, 3]]\nThe best front for Generation number  60  is\nnon-dominated sorteed = [[3, 5], [1, 0], [4, 2]]\nf1v [2.8419999999999996, 1.5318, 3.9139999999999993, 1.4042000000000001, 1.14964]\nf2v [0.29783157570598384, 0.35646653634233616, 0.32221312663385016, 0.31746271049388425, 0.3492786932439773]\nnon-dominated [[1, 2], [4, 0, 3]]\nThe best front for Generation number  61  is\nnon-dominated sorteed = [[1, 5], [0, 3], [2, 4]]\nf1v [2.8419999999999996, 1.5318, 3.9139999999999993, 1.4042000000000001, 1.14964]\nf2v [0.29783157570598384, 0.35646653634233616, 0.32221312663385016, 0.31746271049388425, 0.3492786932439773]\nnon-dominated [[1, 2], [4, 0, 3]]\nThe best front for Generation number  62  is\nnon-dominated sorteed = [[1, 2, 3, 4], [0, 5]]\nf1v [2.8419999999999996, 1.5318, 3.9139999999999993, 1.4042000000000001, 1.14964]\nf2v [0.29783157570598384, 0.35646653634233616, 0.32221312663385016, 0.31746271049388425, 0.3492786932439773]\nnon-dominated [[1, 2], [4, 0, 3]]\nThe best front for Generation number  63  is\nnon-dominated sorteed = [[0, 2, 4, 5], [1, 3]]\nf1v [2.8419999999999996, 1.5318, 3.9139999999999993, 1.4042000000000001, 1.14964]\nf2v [0.29783157570598384, 0.35646653634233616, 0.32221312663385016, 0.31746271049388425, 0.3492786932439773]\nnon-dominated [[1, 2], [4, 0, 3]]\nThe best front for Generation number  64  is\nnon-dominated sorteed = [[0, 1, 2, 4], [3, 5]]\nf1v [2.8419999999999996, 1.5318, 3.9139999999999993, 1.4042000000000001, 1.14964]\nf2v [0.29783157570598384, 0.35646653634233616, 0.32221312663385016, 0.31746271049388425, 0.3492786932439773]\nnon-dominated [[1, 2], [4, 0, 3]]\nThe best front for Generation number  65  is\nnon-dominated sorteed = [[2], [1, 3, 5], [0, 4]]\nf1v [2.8419999999999996, 1.5318, 3.9139999999999993, 1.4042000000000001, 1.14964]\nf2v [0.29783157570598384, 0.35646653634233616, 0.32221312663385016, 0.31746271049388425, 0.3492786932439773]\nnon-dominated [[1, 2], [4, 0, 3]]\nThe best front for Generation number  66  is\nnon-dominated sorteed = [[2, 3], [1, 0, 5], [4]]\nf1v [2.8419999999999996, 1.5318, 3.9139999999999993, 1.4042000000000001, 1.14964]\nf2v [0.29783157570598384, 0.35646653634233616, 0.32221312663385016, 0.31746271049388425, 0.3492786932439773]\nnon-dominated [[1, 2], [4, 0, 3]]\nThe best front for Generation number  67  is\nnon-dominated sorteed = [[2, 3], [0, 5], [1], [4]]\nf1v [2.8419999999999996, 1.5318, 3.9139999999999993, 1.4042000000000001, 1.14964]\nf2v [0.29783157570598384, 0.35646653634233616, 0.32221312663385016, 0.31746271049388425, 0.3492786932439773]\nnon-dominated [[1, 2], [4, 0, 3]]\nThe best front for Generation number  68  is\nnon-dominated sorteed = [[2, 3], [0, 1, 4], [5]]\nf1v [2.8419999999999996, 1.5318, 3.9139999999999993, 1.4042000000000001, 1.14964]\nf2v [0.29783157570598384, 0.35646653634233616, 0.32221312663385016, 0.31746271049388425, 0.3492786932439773]\nnon-dominated [[1, 2], [4, 0, 3]]\nThe best front for Generation number  69  is\nnon-dominated sorteed = [[0, 1, 2], [3, 4], [5]]\nf1v [2.8419999999999996, 1.5318, 3.9139999999999993, 1.4042000000000001, 1.14964]\nf2v [0.29783157570598384, 0.35646653634233616, 0.32221312663385016, 0.31746271049388425, 0.3492786932439773]\nnon-dominated [[1, 2], [4, 0, 3]]\nThe best front for Generation number  70  is\nnon-dominated sorteed = [[0, 2], [4, 5, 1, 3]]\nf1v [2.8419999999999996, 1.5318, 3.9139999999999993, 1.4042000000000001, 1.14964]\nf2v [0.29783157570598384, 0.35646653634233616, 0.32221312663385016, 0.31746271049388425, 0.3492786932439773]\nnon-dominated [[1, 2], [4, 0, 3]]\nThe best front for Generation number  71  is\nnon-dominated sorteed = [[0, 4], [5, 2], [3, 1]]\nf1v [2.8419999999999996, 1.5318, 3.9139999999999993, 1.4042000000000001, 1.14964]\nf2v [0.29783157570598384, 0.35646653634233616, 0.32221312663385016, 0.31746271049388425, 0.3492786932439773]\nnon-dominated [[1, 2], [4, 0, 3]]\nThe best front for Generation number  72  is\nnon-dominated sorteed = [[0, 5], [1, 2, 3], [4]]\nf1v [2.8419999999999996, 1.5318, 3.9139999999999993, 1.4042000000000001, 1.14964]\nf2v [0.29783157570598384, 0.35646653634233616, 0.32221312663385016, 0.31746271049388425, 0.3492786932439773]\nnon-dominated [[1, 2], [4, 0, 3]]\nThe best front for Generation number  73  is\nnon-dominated sorteed = [[0, 2, 3, 5], [1], [4]]\nf1v [2.8419999999999996, 1.5318, 3.9139999999999993, 1.4042000000000001, 1.14964]\nf2v [0.29783157570598384, 0.35646653634233616, 0.32221312663385016, 0.31746271049388425, 0.3492786932439773]\nnon-dominated [[1, 2], [4, 0, 3]]\nThe best front for Generation number  74  is\nnon-dominated sorteed = [[2, 4], [1, 3], [0], [5]]\nf1v [2.8419999999999996, 1.5318, 3.9139999999999993, 1.4042000000000001, 1.14964]\nf2v [0.29783157570598384, 0.35646653634233616, 0.32221312663385016, 0.31746271049388425, 0.3492786932439773]\nnon-dominated [[1, 2], [4, 0, 3]]\nThe best front for Generation number  75  is\nnon-dominated sorteed = [[4], [0, 1, 2, 5], [3]]\nf1v [2.8419999999999996, 1.5318, 3.9139999999999993, 1.4042000000000001, 1.14964]\nf2v [0.29783157570598384, 0.35646653634233616, 0.32221312663385016, 0.31746271049388425, 0.3492786932439773]\nnon-dominated [[1, 2], [4, 0, 3]]\nThe best front for Generation number  76  is\nnon-dominated sorteed = [[0, 1, 2, 3, 5], [4]]\nf1v [2.8419999999999996, 1.5318, 3.9139999999999993, 1.4042000000000001, 1.14964]\nf2v [0.29783157570598384, 0.35646653634233616, 0.32221312663385016, 0.31746271049388425, 0.3492786932439773]\nnon-dominated [[1, 2], [4, 0, 3]]\nThe best front for Generation number  77  is\nnon-dominated sorteed = [[1, 3, 4], [5, 2], [0]]\nf1v [2.8419999999999996, 1.5318, 3.9139999999999993, 1.4042000000000001, 1.14964]\nf2v [0.29783157570598384, 0.35646653634233616, 0.32221312663385016, 0.31746271049388425, 0.3492786932439773]\nnon-dominated [[1, 2], [4, 0, 3]]\nThe best front for Generation number  78  is\nnon-dominated sorteed = [[1, 3, 5], [4, 2], [0]]\nf1v [2.8419999999999996, 1.5318, 3.9139999999999993, 1.4042000000000001, 1.14964]\nf2v [0.29783157570598384, 0.35646653634233616, 0.32221312663385016, 0.31746271049388425, 0.3492786932439773]\nnon-dominated [[1, 2], [4, 0, 3]]\nThe best front for Generation number  79  is\nnon-dominated sorteed = [[0, 3, 4, 5], [1, 2]]\nf1v [2.8419999999999996, 1.5318, 3.9139999999999993, 1.4042000000000001, 1.14964]\nf2v [0.29783157570598384, 0.35646653634233616, 0.32221312663385016, 0.31746271049388425, 0.3492786932439773]\nnon-dominated [[1, 2], [4, 0, 3]]\nThe best front for Generation number  80  is\nnon-dominated sorteed = [[0, 1, 2], [5, 4], [3]]\nf1v [2.8419999999999996, 1.5318, 3.9139999999999993, 1.4042000000000001, 1.14964]\nf2v [0.29783157570598384, 0.35646653634233616, 0.32221312663385016, 0.31746271049388425, 0.3492786932439773]\nnon-dominated [[1, 2], [4, 0, 3]]\nThe best front for Generation number  81  is\nnon-dominated sorteed = [[0, 1, 2], [3, 5], [4]]\nf1v [2.8419999999999996, 1.5318, 3.9139999999999993, 1.4042000000000001, 1.14964]\nf2v [0.29783157570598384, 0.35646653634233616, 0.32221312663385016, 0.31746271049388425, 0.3492786932439773]\nnon-dominated [[1, 2], [4, 0, 3]]\nThe best front for Generation number  82  is\nnon-dominated sorteed = [[2, 3], [0, 1], [5, 4]]\nf1v [2.8419999999999996, 1.5318, 3.9139999999999993, 1.4042000000000001, 1.14964]\nf2v [0.29783157570598384, 0.35646653634233616, 0.32221312663385016, 0.31746271049388425, 0.3492786932439773]\nnon-dominated [[1, 2], [4, 0, 3]]\nThe best front for Generation number  83  is\nnon-dominated sorteed = [[2, 3, 4], [0, 1, 5]]\nf1v [2.8419999999999996, 1.5318, 3.9139999999999993, 1.4042000000000001, 1.14964]\nf2v [0.29783157570598384, 0.35646653634233616, 0.32221312663385016, 0.31746271049388425, 0.3492786932439773]\nnon-dominated [[1, 2], [4, 0, 3]]\nThe best front for Generation number  84  is\nnon-dominated sorteed = [[1, 3, 4], [5], [0], [2]]\nf1v [2.8419999999999996, 1.5318, 3.9139999999999993, 1.4042000000000001, 1.14964]\nf2v [0.29783157570598384, 0.35646653634233616, 0.32221312663385016, 0.31746271049388425, 0.3492786932439773]\nnon-dominated [[1, 2], [4, 0, 3]]\nThe best front for Generation number  85  is\nnon-dominated sorteed = [[0, 3, 4], [5, 1], [2]]\nf1v [2.8419999999999996, 1.5318, 3.9139999999999993, 1.4042000000000001, 1.14964]\nf2v [0.29783157570598384, 0.35646653634233616, 0.32221312663385016, 0.31746271049388425, 0.3492786932439773]\nnon-dominated [[1, 2], [4, 0, 3]]\nThe best front for Generation number  86  is\nnon-dominated sorteed =[[4, 5], [2, 3, 0], [1]]\nf1v [2.8419999999999996, 1.5318, 3.9139999999999993, 1.4042000000000001, 1.14964]\nf2v [0.29783157570598384, 0.35646653634233616, 0.32221312663385016, 0.31746271049388425, 0.3492786932439773]\nnon-dominated [[1, 2], [4, 0, 3]]\nThe best front for Generation number  87  is\nnon-dominated sorteed = [[2, 3, 5], [0, 1, 4]]\nf1v [2.8419999999999996, 1.5318, 3.9139999999999993, 1.4042000000000001, 1.14964]\nf2v [0.29783157570598384, 0.35646653634233616, 0.32221312663385016, 0.31746271049388425, 0.3492786932439773]\nnon-dominated [[1, 2], [4, 0, 3]]\nThe best front for Generation number  88  is\nnon-dominated sorteed = [[0, 4], [1, 2, 3], [5]]\nf1v [2.8419999999999996, 1.5318, 3.9139999999999993, 1.4042000000000001, 1.14964]\nf2v [0.29783157570598384, 0.35646653634233616, 0.32221312663385016, 0.31746271049388425, 0.3492786932439773]\nnon-dominated [[1, 2], [4, 0, 3]]\nThe best front for Generation number  89  is\nnon-dominated sorteed = [[0, 1, 2], [4], [3, 5]]\nf1v [2.8419999999999996, 1.5318, 3.9139999999999993, 1.4042000000000001, 1.14964]\nf2v [0.29783157570598384, 0.35646653634233616, 0.32221312663385016, 0.31746271049388425, 0.3492786932439773]\nnon-dominated [[1, 2], [4, 0, 3]]\nThe best front for Generation number  90  is\nnon-dominated sorteed = [[1, 3], [4, 0], [2, 5]]\nf1v [2.8419999999999996, 1.5318, 3.9139999999999993, 1.4042000000000001, 1.14964]\nf2v [0.29783157570598384, 0.35646653634233616, 0.32221312663385016, 0.31746271049388425, 0.3492786932439773]\nnon-dominated [[1, 2], [4, 0, 3]]\nThe best front for Generation number  91  is\nnon-dominated sorteed = [[1, 5], [4, 0], [2, 3]]\nf1v [2.8419999999999996, 1.5318, 3.9139999999999993, 1.4042000000000001, 1.14964]\nf2v [0.29783157570598384, 0.35646653634233616, 0.32221312663385016, 0.31746271049388425, 0.3492786932439773]\nnon-dominated [[1, 2], [4, 0, 3]]\nThe best front for Generation number  92  is\nnon-dominated sorteed = [[0, 4], [2, 3, 5], [1]]\nf1v [2.8419999999999996, 1.5318, 3.9139999999999993, 1.4042000000000001, 1.14964]\nf2v [0.29783157570598384, 0.35646653634233616, 0.32221312663385016, 0.31746271049388425, 0.3492786932439773]\nnon-dominated [[1, 2], [4, 0, 3]]\nThe best front for Generation number  93  is\nnon-dominated sorteed = [[2, 4], [0, 1, 3], [5]]\nf1v [2.8419999999999996, 1.5318, 3.9139999999999993, 1.4042000000000001, 1.14964]\nf2v [0.29783157570598384, 0.35646653634233616, 0.32221312663385016, 0.31746271049388425, 0.3492786932439773]\nnon-dominated [[1, 2], [4, 0, 3]]\nThe best front for Generation number  94  is\nnon-dominated sorteed = [[0, 1, 4, 5], [2, 3]]\nf1v [2.8419999999999996, 1.5318, 3.9139999999999993, 1.4042000000000001, 1.14964]\nf2v [0.29783157570598384, 0.35646653634233616, 0.32221312663385016, 0.31746271049388425, 0.3492786932439773]\nnon-dominated [[1, 2], [4, 0, 3]]\nThe best front for Generation number  95  is\nnon-dominated sorteed = [[0, 1, 5], [2, 4, 3]]\nf1v [2.8419999999999996, 1.5318, 3.9139999999999993, 1.4042000000000001, 1.14964]\nf2v [0.29783157570598384, 0.35646653634233616, 0.32221312663385016, 0.31746271049388425, 0.3492786932439773]\nnon-dominated [[1, 2], [4, 0, 3]]\nThe best front for Generation number  96  is\nnon-dominated sorteed = [[2, 4, 5], [0, 3], [1]]\nf1v [2.8419999999999996, 1.5318, 3.9139999999999993, 1.4042000000000001, 1.14964]\nf2v [0.29783157570598384, 0.35646653634233616, 0.32221312663385016, 0.31746271049388425, 0.3492786932439773]\nnon-dominated [[1, 2], [4, 0, 3]]\nThe best front for Generation number  97  is\nnon-dominated sorteed = [[2, 4], [0, 1, 3, 5]]\nf1v [2.8419999999999996, 1.5318, 3.9139999999999993, 1.4042000000000001, 1.14964]\nf2v [0.29783157570598384, 0.35646653634233616, 0.32221312663385016, 0.31746271049388425, 0.3492786932439773]\nnon-dominated [[1, 2], [4, 0, 3]]\nThe best front for Generation number  98  is\nnon-dominated sorteed = [[2, 3, 4], [0, 1, 5]]\nf1v [2.8419999999999996, 1.5318, 3.9139999999999993, 1.4042000000000001, 1.14964]\nf2v [0.29783157570598384, 0.35646653634233616, 0.32221312663385016, 0.31746271049388425, 0.3492786932439773]\nnon-dominated [[1, 2], [4, 0, 3]]\nThe best front for Generation number  99  is\nnon-dominated sorteed = [[2, 3, 4], [1], [5], [0]]\n"
    }
   ],
   "source": [
    "\n",
    "#Main program starts here\n",
    "pop_size = 7 # ini banyaknya individu dalam 1 populasi (subset kata pak isman mah)\n",
    "max_gen = 100\n",
    "nPortfolio = 6\n",
    "#Initialization\n",
    "min_x=-55\n",
    "max_x=55\n",
    "\n",
    "# Ini kayanya buat bikin solusi individu (0 atau 1)\n",
    "#solution=[round(min_x+(max_x-min_x)*random.random(),3) for i in range(0,pop_size)] # Portofolio \n",
    "#print(\"sol\",solution) # --> [-51.492, -31.654, -47.084, -11.823, 41.043]\n",
    "\n",
    "gen_no=0\n",
    "\n",
    "\n",
    "while(gen_no<max_gen):\n",
    "    function1_values = fMaxObj1 # Kumpulan function 1 dari 1 portofolio\n",
    "    function2_values = fMaxObj2# Kumpulan function 2 dari 1 portofolio\n",
    "    print(\"f1v\",function1_values) # --> [-2651.4260639999998, -1001.975716, -2216.903056, -139.783329, -1684.5278489999998]\n",
    "    print(\"f2v\",function2_values) # -->  [-2861.3940639999996, -1132.5917159999997, -2409.2390560000003, -191.075329, -1524.355849]\n",
    "    \n",
    "    non_dominated_sorted_solution = fast_non_dominated_sort(function1_values[:],function2_values[:])\n",
    "    print(\"non-dominated\",non_dominated_sorted_solution)\n",
    "    print(\"The best front for Generation number \",gen_no, \" is\")\n",
    "    \"\"\"  \n",
    "    for valuez in non_dominated_sorted_solution[0]:\n",
    "        print(\"valuez\",valuez,solution[valuez],end=\" \")\n",
    "    print(\"\\n\")\n",
    "    \"\"\"\n",
    "    crowding_distance_values=[]\n",
    "    \n",
    "    for i in range(0,len(non_dominated_sorted_solution)):\n",
    "        crowding_distance_values.append(crowding_distance(function1_values[:],function2_values[:],non_dominated_sorted_solution[i][:]))\n",
    "    solution2 = solution[:]\n",
    "    \n",
    "    \n",
    "    \n",
    "    #Generating offsprings\n",
    "\n",
    "    # sementara pake random dulu\n",
    "    # belum dibuat yang randomnya\n",
    "    \n",
    "    \"\"\"\n",
    "    while(len(solution2)!=2*pop_size):\n",
    "        a1 = random.randint(0,pop_size-1)\n",
    "        b1 = random.randint(0,pop_size-1)\n",
    "        solution2.append(crossover(solution[a1],solution[b1]))\n",
    "  \n",
    "\n",
    "        \n",
    "    function1_values2 = [function1(solution2[i])for i in range(0,2*pop_size)]\n",
    "    function2_values2 = [function2(solution2[i])for i in range(0,2*pop_size)]\n",
    "    \"\"\"\n",
    "\n",
    "\n",
    "    function1_values2,function2_values2 =initialPopulation(df_mol,budget,nSubset,nPortfolio)[1:]\n",
    "    non_dominated_sorted_solution2 = fast_non_dominated_sort(function1_values2[:],function2_values2[:])\n",
    "    print(\"non-dominated sorteed =\",non_dominated_sorted_solution2)\n",
    "    \"\"\"\n",
    "        Hasil dari non_domiated_sorted\n",
    "        \n",
    "        From :\n",
    "        [[0, 5], [1], [2], [3, 4], [6], [9], [7], [8]]\n",
    "\n",
    "        to :\n",
    "\n",
    "        [[0, 1, 2, 3, 4], [6], [9], [5], [7], [8]]\n",
    "    \n",
    "    \"\"\"\n",
    "    crowding_distance_values2=[]\n",
    "    \n",
    "    \n",
    "    \n",
    "    for i in range(0,len(non_dominated_sorted_solution2)):\n",
    "        crowding_distance_values2.append(crowding_distance(function1_values2[:],function2_values2[:],non_dominated_sorted_solution2[i][:]))\n",
    "    new_solution= []\n",
    "    \n",
    "    \n",
    "    for i in range(0,len(non_dominated_sorted_solution2)):\n",
    "        non_dominated_sorted_solution2_1 = [index_of(non_dominated_sorted_solution2[i][j],non_dominated_sorted_solution2[i] ) for j in range(0,len(non_dominated_sorted_solution2[i]))]\n",
    "        front22 = sort_by_values(non_dominated_sorted_solution2_1[:], crowding_distance_values2[i][:])\n",
    "        front = [non_dominated_sorted_solution2[i][front22[j]] for j in range(0,len(non_dominated_sorted_solution2[i]))]\n",
    "        front.reverse()\n",
    "        \n",
    "        \n",
    "        for value in front:\n",
    "            new_solution.append(value)\n",
    "            \n",
    "            if(len(new_solution)==pop_size):\n",
    "                break\n",
    "                \n",
    "        if (len(new_solution) == pop_size):\n",
    "            break\n",
    "            \n",
    "    # update solution\n",
    "    #olution = [solution2[i] for i in new_solution]\n",
    "    gen_no = gen_no + 1"
   ]
  },
  {
   "cell_type": "code",
   "execution_count": 32,
   "metadata": {},
   "outputs": [
    {
     "output_type": "display_data",
     "data": {
      "text/plain": "<Figure size 432x288 with 1 Axes>",
      "image/svg+xml": "<?xml version=\"1.0\" encoding=\"utf-8\" standalone=\"no\"?>\r\n<!DOCTYPE svg PUBLIC \"-//W3C//DTD SVG 1.1//EN\"\r\n  \"http://www.w3.org/Graphics/SVG/1.1/DTD/svg11.dtd\">\r\n<!-- Created with matplotlib (https://matplotlib.org/) -->\r\n<svg height=\"267.035312pt\" version=\"1.1\" viewBox=\"0 0 405.3625 267.035312\" width=\"405.3625pt\" xmlns=\"http://www.w3.org/2000/svg\" xmlns:xlink=\"http://www.w3.org/1999/xlink\">\r\n <defs>\r\n  <style type=\"text/css\">\r\n*{stroke-linecap:butt;stroke-linejoin:round;}\r\n  </style>\r\n </defs>\r\n <g id=\"figure_1\">\r\n  <g id=\"patch_1\">\r\n   <path d=\"M 0 267.035312 \r\nL 405.3625 267.035312 \r\nL 405.3625 0 \r\nL 0 0 \r\nz\r\n\" style=\"fill:none;\"/>\r\n  </g>\r\n  <g id=\"axes_1\">\r\n   <g id=\"patch_2\">\r\n    <path d=\"M 63.3625 224.64 \r\nL 398.1625 224.64 \r\nL 398.1625 7.2 \r\nL 63.3625 7.2 \r\nz\r\n\" style=\"fill:#ffffff;\"/>\r\n   </g>\r\n   <g id=\"PathCollection_1\">\r\n    <defs>\r\n     <path d=\"M 0 3 \r\nC 0.795609 3 1.55874 2.683901 2.12132 2.12132 \r\nC 2.683901 1.55874 3 0.795609 3 0 \r\nC 3 -0.795609 2.683901 -1.55874 2.12132 -2.12132 \r\nC 1.55874 -2.683901 0.795609 -3 0 -3 \r\nC -0.795609 -3 -1.55874 -2.683901 -2.12132 -2.12132 \r\nC -2.683901 -1.55874 -3 -0.795609 -3 0 \r\nC -3 0.795609 -2.683901 1.55874 -2.12132 2.12132 \r\nC -1.55874 2.683901 -0.795609 3 0 3 \r\nz\r\n\" id=\"md62f5269df\" style=\"stroke:#1f77b4;\"/>\r\n    </defs>\r\n    <g clip-path=\"url(#pddab172fe3)\">\r\n     <use style=\"fill:#1f77b4;stroke:#1f77b4;\" x=\"196.610829\" xlink:href=\"#md62f5269df\" y=\"17.083636\"/>\r\n     <use style=\"fill:#1f77b4;stroke:#1f77b4;\" x=\"340.867451\" xlink:href=\"#md62f5269df\" y=\"214.756364\"/>\r\n     <use style=\"fill:#1f77b4;stroke:#1f77b4;\" x=\"78.580682\" xlink:href=\"#md62f5269df\" y=\"99.27978\"/>\r\n     <use style=\"fill:#1f77b4;stroke:#1f77b4;\" x=\"354.916562\" xlink:href=\"#md62f5269df\" y=\"83.264971\"/>\r\n     <use style=\"fill:#1f77b4;stroke:#1f77b4;\" x=\"382.944318\" xlink:href=\"#md62f5269df\" y=\"190.524395\"/>\r\n    </g>\r\n   </g>\r\n   <g id=\"matplotlib.axis_1\">\r\n    <g id=\"xtick_1\">\r\n     <g id=\"line2d_1\">\r\n      <defs>\r\n       <path d=\"M 0 0 \r\nL 0 3.5 \r\n\" id=\"mb59bc7db83\" style=\"stroke:#000000;stroke-width:0.8;\"/>\r\n      </defs>\r\n      <g>\r\n       <use style=\"stroke:#000000;stroke-width:0.8;\" x=\"69.111845\" xlink:href=\"#mb59bc7db83\" y=\"224.64\"/>\r\n      </g>\r\n     </g>\r\n     <g id=\"text_1\">\r\n      <!-- −4.0 -->\r\n      <defs>\r\n       <path d=\"M 10.59375 35.5 \r\nL 73.1875 35.5 \r\nL 73.1875 27.203125 \r\nL 10.59375 27.203125 \r\nz\r\n\" id=\"DejaVuSans-8722\"/>\r\n       <path d=\"M 37.796875 64.3125 \r\nL 12.890625 25.390625 \r\nL 37.796875 25.390625 \r\nz\r\nM 35.203125 72.90625 \r\nL 47.609375 72.90625 \r\nL 47.609375 25.390625 \r\nL 58.015625 25.390625 \r\nL 58.015625 17.1875 \r\nL 47.609375 17.1875 \r\nL 47.609375 0 \r\nL 37.796875 0 \r\nL 37.796875 17.1875 \r\nL 4.890625 17.1875 \r\nL 4.890625 26.703125 \r\nz\r\n\" id=\"DejaVuSans-52\"/>\r\n       <path d=\"M 10.6875 12.40625 \r\nL 21 12.40625 \r\nL 21 0 \r\nL 10.6875 0 \r\nz\r\n\" id=\"DejaVuSans-46\"/>\r\n       <path d=\"M 31.78125 66.40625 \r\nQ 24.171875 66.40625 20.328125 58.90625 \r\nQ 16.5 51.421875 16.5 36.375 \r\nQ 16.5 21.390625 20.328125 13.890625 \r\nQ 24.171875 6.390625 31.78125 6.390625 \r\nQ 39.453125 6.390625 43.28125 13.890625 \r\nQ 47.125 21.390625 47.125 36.375 \r\nQ 47.125 51.421875 43.28125 58.90625 \r\nQ 39.453125 66.40625 31.78125 66.40625 \r\nz\r\nM 31.78125 74.21875 \r\nQ 44.046875 74.21875 50.515625 64.515625 \r\nQ 56.984375 54.828125 56.984375 36.375 \r\nQ 56.984375 17.96875 50.515625 8.265625 \r\nQ 44.046875 -1.421875 31.78125 -1.421875 \r\nQ 19.53125 -1.421875 13.0625 8.265625 \r\nQ 6.59375 17.96875 6.59375 36.375 \r\nQ 6.59375 54.828125 13.0625 64.515625 \r\nQ 19.53125 74.21875 31.78125 74.21875 \r\nz\r\n\" id=\"DejaVuSans-48\"/>\r\n      </defs>\r\n      <g transform=\"translate(56.970439 239.238437)scale(0.1 -0.1)\">\r\n       <use xlink:href=\"#DejaVuSans-8722\"/>\r\n       <use x=\"83.789062\" xlink:href=\"#DejaVuSans-52\"/>\r\n       <use x=\"147.412109\" xlink:href=\"#DejaVuSans-46\"/>\r\n       <use x=\"179.199219\" xlink:href=\"#DejaVuSans-48\"/>\r\n      </g>\r\n     </g>\r\n    </g>\r\n    <g id=\"xtick_2\">\r\n     <g id=\"line2d_2\">\r\n      <g>\r\n       <use style=\"stroke:#000000;stroke-width:0.8;\" x=\"124.16322\" xlink:href=\"#mb59bc7db83\" y=\"224.64\"/>\r\n      </g>\r\n     </g>\r\n     <g id=\"text_2\">\r\n      <!-- −3.5 -->\r\n      <defs>\r\n       <path d=\"M 40.578125 39.3125 \r\nQ 47.65625 37.796875 51.625 33 \r\nQ 55.609375 28.21875 55.609375 21.1875 \r\nQ 55.609375 10.40625 48.1875 4.484375 \r\nQ 40.765625 -1.421875 27.09375 -1.421875 \r\nQ 22.515625 -1.421875 17.65625 -0.515625 \r\nQ 12.796875 0.390625 7.625 2.203125 \r\nL 7.625 11.71875 \r\nQ 11.71875 9.328125 16.59375 8.109375 \r\nQ 21.484375 6.890625 26.8125 6.890625 \r\nQ 36.078125 6.890625 40.9375 10.546875 \r\nQ 45.796875 14.203125 45.796875 21.1875 \r\nQ 45.796875 27.640625 41.28125 31.265625 \r\nQ 36.765625 34.90625 28.71875 34.90625 \r\nL 20.21875 34.90625 \r\nL 20.21875 43.015625 \r\nL 29.109375 43.015625 \r\nQ 36.375 43.015625 40.234375 45.921875 \r\nQ 44.09375 48.828125 44.09375 54.296875 \r\nQ 44.09375 59.90625 40.109375 62.90625 \r\nQ 36.140625 65.921875 28.71875 65.921875 \r\nQ 24.65625 65.921875 20.015625 65.03125 \r\nQ 15.375 64.15625 9.8125 62.3125 \r\nL 9.8125 71.09375 \r\nQ 15.4375 72.65625 20.34375 73.4375 \r\nQ 25.25 74.21875 29.59375 74.21875 \r\nQ 40.828125 74.21875 47.359375 69.109375 \r\nQ 53.90625 64.015625 53.90625 55.328125 \r\nQ 53.90625 49.265625 50.4375 45.09375 \r\nQ 46.96875 40.921875 40.578125 39.3125 \r\nz\r\n\" id=\"DejaVuSans-51\"/>\r\n       <path d=\"M 10.796875 72.90625 \r\nL 49.515625 72.90625 \r\nL 49.515625 64.59375 \r\nL 19.828125 64.59375 \r\nL 19.828125 46.734375 \r\nQ 21.96875 47.46875 24.109375 47.828125 \r\nQ 26.265625 48.1875 28.421875 48.1875 \r\nQ 40.625 48.1875 47.75 41.5 \r\nQ 54.890625 34.8125 54.890625 23.390625 \r\nQ 54.890625 11.625 47.5625 5.09375 \r\nQ 40.234375 -1.421875 26.90625 -1.421875 \r\nQ 22.3125 -1.421875 17.546875 -0.640625 \r\nQ 12.796875 0.140625 7.71875 1.703125 \r\nL 7.71875 11.625 \r\nQ 12.109375 9.234375 16.796875 8.0625 \r\nQ 21.484375 6.890625 26.703125 6.890625 \r\nQ 35.15625 6.890625 40.078125 11.328125 \r\nQ 45.015625 15.765625 45.015625 23.390625 \r\nQ 45.015625 31 40.078125 35.4375 \r\nQ 35.15625 39.890625 26.703125 39.890625 \r\nQ 22.75 39.890625 18.8125 39.015625 \r\nQ 14.890625 38.140625 10.796875 36.28125 \r\nz\r\n\" id=\"DejaVuSans-53\"/>\r\n      </defs>\r\n      <g transform=\"translate(112.021814 239.238437)scale(0.1 -0.1)\">\r\n       <use xlink:href=\"#DejaVuSans-8722\"/>\r\n       <use x=\"83.789062\" xlink:href=\"#DejaVuSans-51\"/>\r\n       <use x=\"147.412109\" xlink:href=\"#DejaVuSans-46\"/>\r\n       <use x=\"179.199219\" xlink:href=\"#DejaVuSans-53\"/>\r\n      </g>\r\n     </g>\r\n    </g>\r\n    <g id=\"xtick_3\">\r\n     <g id=\"line2d_3\">\r\n      <g>\r\n       <use style=\"stroke:#000000;stroke-width:0.8;\" x=\"179.214595\" xlink:href=\"#mb59bc7db83\" y=\"224.64\"/>\r\n      </g>\r\n     </g>\r\n     <g id=\"text_3\">\r\n      <!-- −3.0 -->\r\n      <g transform=\"translate(167.073189 239.238437)scale(0.1 -0.1)\">\r\n       <use xlink:href=\"#DejaVuSans-8722\"/>\r\n       <use x=\"83.789062\" xlink:href=\"#DejaVuSans-51\"/>\r\n       <use x=\"147.412109\" xlink:href=\"#DejaVuSans-46\"/>\r\n       <use x=\"179.199219\" xlink:href=\"#DejaVuSans-48\"/>\r\n      </g>\r\n     </g>\r\n    </g>\r\n    <g id=\"xtick_4\">\r\n     <g id=\"line2d_4\">\r\n      <g>\r\n       <use style=\"stroke:#000000;stroke-width:0.8;\" x=\"234.265969\" xlink:href=\"#mb59bc7db83\" y=\"224.64\"/>\r\n      </g>\r\n     </g>\r\n     <g id=\"text_4\">\r\n      <!-- −2.5 -->\r\n      <defs>\r\n       <path d=\"M 19.1875 8.296875 \r\nL 53.609375 8.296875 \r\nL 53.609375 0 \r\nL 7.328125 0 \r\nL 7.328125 8.296875 \r\nQ 12.9375 14.109375 22.625 23.890625 \r\nQ 32.328125 33.6875 34.8125 36.53125 \r\nQ 39.546875 41.84375 41.421875 45.53125 \r\nQ 43.3125 49.21875 43.3125 52.78125 \r\nQ 43.3125 58.59375 39.234375 62.25 \r\nQ 35.15625 65.921875 28.609375 65.921875 \r\nQ 23.96875 65.921875 18.8125 64.3125 \r\nQ 13.671875 62.703125 7.8125 59.421875 \r\nL 7.8125 69.390625 \r\nQ 13.765625 71.78125 18.9375 73 \r\nQ 24.125 74.21875 28.421875 74.21875 \r\nQ 39.75 74.21875 46.484375 68.546875 \r\nQ 53.21875 62.890625 53.21875 53.421875 \r\nQ 53.21875 48.921875 51.53125 44.890625 \r\nQ 49.859375 40.875 45.40625 35.40625 \r\nQ 44.1875 33.984375 37.640625 27.21875 \r\nQ 31.109375 20.453125 19.1875 8.296875 \r\nz\r\n\" id=\"DejaVuSans-50\"/>\r\n      </defs>\r\n      <g transform=\"translate(222.124563 239.238437)scale(0.1 -0.1)\">\r\n       <use xlink:href=\"#DejaVuSans-8722\"/>\r\n       <use x=\"83.789062\" xlink:href=\"#DejaVuSans-50\"/>\r\n       <use x=\"147.412109\" xlink:href=\"#DejaVuSans-46\"/>\r\n       <use x=\"179.199219\" xlink:href=\"#DejaVuSans-53\"/>\r\n      </g>\r\n     </g>\r\n    </g>\r\n    <g id=\"xtick_5\">\r\n     <g id=\"line2d_5\">\r\n      <g>\r\n       <use style=\"stroke:#000000;stroke-width:0.8;\" x=\"289.317344\" xlink:href=\"#mb59bc7db83\" y=\"224.64\"/>\r\n      </g>\r\n     </g>\r\n     <g id=\"text_5\">\r\n      <!-- −2.0 -->\r\n      <g transform=\"translate(277.175938 239.238437)scale(0.1 -0.1)\">\r\n       <use xlink:href=\"#DejaVuSans-8722\"/>\r\n       <use x=\"83.789062\" xlink:href=\"#DejaVuSans-50\"/>\r\n       <use x=\"147.412109\" xlink:href=\"#DejaVuSans-46\"/>\r\n       <use x=\"179.199219\" xlink:href=\"#DejaVuSans-48\"/>\r\n      </g>\r\n     </g>\r\n    </g>\r\n    <g id=\"xtick_6\">\r\n     <g id=\"line2d_6\">\r\n      <g>\r\n       <use style=\"stroke:#000000;stroke-width:0.8;\" x=\"344.368719\" xlink:href=\"#mb59bc7db83\" y=\"224.64\"/>\r\n      </g>\r\n     </g>\r\n     <g id=\"text_6\">\r\n      <!-- −1.5 -->\r\n      <defs>\r\n       <path d=\"M 12.40625 8.296875 \r\nL 28.515625 8.296875 \r\nL 28.515625 63.921875 \r\nL 10.984375 60.40625 \r\nL 10.984375 69.390625 \r\nL 28.421875 72.90625 \r\nL 38.28125 72.90625 \r\nL 38.28125 8.296875 \r\nL 54.390625 8.296875 \r\nL 54.390625 0 \r\nL 12.40625 0 \r\nz\r\n\" id=\"DejaVuSans-49\"/>\r\n      </defs>\r\n      <g transform=\"translate(332.227313 239.238437)scale(0.1 -0.1)\">\r\n       <use xlink:href=\"#DejaVuSans-8722\"/>\r\n       <use x=\"83.789062\" xlink:href=\"#DejaVuSans-49\"/>\r\n       <use x=\"147.412109\" xlink:href=\"#DejaVuSans-46\"/>\r\n       <use x=\"179.199219\" xlink:href=\"#DejaVuSans-53\"/>\r\n      </g>\r\n     </g>\r\n    </g>\r\n    <g id=\"text_7\">\r\n     <!-- Function 1 -->\r\n     <defs>\r\n      <path d=\"M 9.8125 72.90625 \r\nL 51.703125 72.90625 \r\nL 51.703125 64.59375 \r\nL 19.671875 64.59375 \r\nL 19.671875 43.109375 \r\nL 48.578125 43.109375 \r\nL 48.578125 34.8125 \r\nL 19.671875 34.8125 \r\nL 19.671875 0 \r\nL 9.8125 0 \r\nz\r\n\" id=\"DejaVuSans-70\"/>\r\n      <path d=\"M 8.5 21.578125 \r\nL 8.5 54.6875 \r\nL 17.484375 54.6875 \r\nL 17.484375 21.921875 \r\nQ 17.484375 14.15625 20.5 10.265625 \r\nQ 23.53125 6.390625 29.59375 6.390625 \r\nQ 36.859375 6.390625 41.078125 11.03125 \r\nQ 45.3125 15.671875 45.3125 23.6875 \r\nL 45.3125 54.6875 \r\nL 54.296875 54.6875 \r\nL 54.296875 0 \r\nL 45.3125 0 \r\nL 45.3125 8.40625 \r\nQ 42.046875 3.421875 37.71875 1 \r\nQ 33.40625 -1.421875 27.6875 -1.421875 \r\nQ 18.265625 -1.421875 13.375 4.4375 \r\nQ 8.5 10.296875 8.5 21.578125 \r\nz\r\nM 31.109375 56 \r\nz\r\n\" id=\"DejaVuSans-117\"/>\r\n      <path d=\"M 54.890625 33.015625 \r\nL 54.890625 0 \r\nL 45.90625 0 \r\nL 45.90625 32.71875 \r\nQ 45.90625 40.484375 42.875 44.328125 \r\nQ 39.84375 48.1875 33.796875 48.1875 \r\nQ 26.515625 48.1875 22.3125 43.546875 \r\nQ 18.109375 38.921875 18.109375 30.90625 \r\nL 18.109375 0 \r\nL 9.078125 0 \r\nL 9.078125 54.6875 \r\nL 18.109375 54.6875 \r\nL 18.109375 46.1875 \r\nQ 21.34375 51.125 25.703125 53.5625 \r\nQ 30.078125 56 35.796875 56 \r\nQ 45.21875 56 50.046875 50.171875 \r\nQ 54.890625 44.34375 54.890625 33.015625 \r\nz\r\n\" id=\"DejaVuSans-110\"/>\r\n      <path d=\"M 48.78125 52.59375 \r\nL 48.78125 44.1875 \r\nQ 44.96875 46.296875 41.140625 47.34375 \r\nQ 37.3125 48.390625 33.40625 48.390625 \r\nQ 24.65625 48.390625 19.8125 42.84375 \r\nQ 14.984375 37.3125 14.984375 27.296875 \r\nQ 14.984375 17.28125 19.8125 11.734375 \r\nQ 24.65625 6.203125 33.40625 6.203125 \r\nQ 37.3125 6.203125 41.140625 7.25 \r\nQ 44.96875 8.296875 48.78125 10.40625 \r\nL 48.78125 2.09375 \r\nQ 45.015625 0.34375 40.984375 -0.53125 \r\nQ 36.96875 -1.421875 32.421875 -1.421875 \r\nQ 20.0625 -1.421875 12.78125 6.34375 \r\nQ 5.515625 14.109375 5.515625 27.296875 \r\nQ 5.515625 40.671875 12.859375 48.328125 \r\nQ 20.21875 56 33.015625 56 \r\nQ 37.15625 56 41.109375 55.140625 \r\nQ 45.0625 54.296875 48.78125 52.59375 \r\nz\r\n\" id=\"DejaVuSans-99\"/>\r\n      <path d=\"M 18.3125 70.21875 \r\nL 18.3125 54.6875 \r\nL 36.8125 54.6875 \r\nL 36.8125 47.703125 \r\nL 18.3125 47.703125 \r\nL 18.3125 18.015625 \r\nQ 18.3125 11.328125 20.140625 9.421875 \r\nQ 21.96875 7.515625 27.59375 7.515625 \r\nL 36.8125 7.515625 \r\nL 36.8125 0 \r\nL 27.59375 0 \r\nQ 17.1875 0 13.234375 3.875 \r\nQ 9.28125 7.765625 9.28125 18.015625 \r\nL 9.28125 47.703125 \r\nL 2.6875 47.703125 \r\nL 2.6875 54.6875 \r\nL 9.28125 54.6875 \r\nL 9.28125 70.21875 \r\nz\r\n\" id=\"DejaVuSans-116\"/>\r\n      <path d=\"M 9.421875 54.6875 \r\nL 18.40625 54.6875 \r\nL 18.40625 0 \r\nL 9.421875 0 \r\nz\r\nM 9.421875 75.984375 \r\nL 18.40625 75.984375 \r\nL 18.40625 64.59375 \r\nL 9.421875 64.59375 \r\nz\r\n\" id=\"DejaVuSans-105\"/>\r\n      <path d=\"M 30.609375 48.390625 \r\nQ 23.390625 48.390625 19.1875 42.75 \r\nQ 14.984375 37.109375 14.984375 27.296875 \r\nQ 14.984375 17.484375 19.15625 11.84375 \r\nQ 23.34375 6.203125 30.609375 6.203125 \r\nQ 37.796875 6.203125 41.984375 11.859375 \r\nQ 46.1875 17.53125 46.1875 27.296875 \r\nQ 46.1875 37.015625 41.984375 42.703125 \r\nQ 37.796875 48.390625 30.609375 48.390625 \r\nz\r\nM 30.609375 56 \r\nQ 42.328125 56 49.015625 48.375 \r\nQ 55.71875 40.765625 55.71875 27.296875 \r\nQ 55.71875 13.875 49.015625 6.21875 \r\nQ 42.328125 -1.421875 30.609375 -1.421875 \r\nQ 18.84375 -1.421875 12.171875 6.21875 \r\nQ 5.515625 13.875 5.515625 27.296875 \r\nQ 5.515625 40.765625 12.171875 48.375 \r\nQ 18.84375 56 30.609375 56 \r\nz\r\n\" id=\"DejaVuSans-111\"/>\r\n      <path id=\"DejaVuSans-32\"/>\r\n     </defs>\r\n     <g transform=\"translate(191.709766 256.715781)scale(0.15 -0.15)\">\r\n      <use xlink:href=\"#DejaVuSans-70\"/>\r\n      <use x=\"52.019531\" xlink:href=\"#DejaVuSans-117\"/>\r\n      <use x=\"115.398438\" xlink:href=\"#DejaVuSans-110\"/>\r\n      <use x=\"178.777344\" xlink:href=\"#DejaVuSans-99\"/>\r\n      <use x=\"233.757812\" xlink:href=\"#DejaVuSans-116\"/>\r\n      <use x=\"272.966797\" xlink:href=\"#DejaVuSans-105\"/>\r\n      <use x=\"300.75\" xlink:href=\"#DejaVuSans-111\"/>\r\n      <use x=\"361.931641\" xlink:href=\"#DejaVuSans-110\"/>\r\n      <use x=\"425.310547\" xlink:href=\"#DejaVuSans-32\"/>\r\n      <use x=\"457.097656\" xlink:href=\"#DejaVuSans-49\"/>\r\n     </g>\r\n    </g>\r\n   </g>\r\n   <g id=\"matplotlib.axis_2\">\r\n    <g id=\"ytick_1\">\r\n     <g id=\"line2d_7\">\r\n      <defs>\r\n       <path d=\"M 0 0 \r\nL -3.5 0 \r\n\" id=\"m5737456768\" style=\"stroke:#000000;stroke-width:0.8;\"/>\r\n      </defs>\r\n      <g>\r\n       <use style=\"stroke:#000000;stroke-width:0.8;\" x=\"63.3625\" xlink:href=\"#m5737456768\" y=\"192.956095\"/>\r\n      </g>\r\n     </g>\r\n     <g id=\"text_8\">\r\n      <!-- −0.35 -->\r\n      <g transform=\"translate(25.717188 196.755314)scale(0.1 -0.1)\">\r\n       <use xlink:href=\"#DejaVuSans-8722\"/>\r\n       <use x=\"83.789062\" xlink:href=\"#DejaVuSans-48\"/>\r\n       <use x=\"147.412109\" xlink:href=\"#DejaVuSans-46\"/>\r\n       <use x=\"179.199219\" xlink:href=\"#DejaVuSans-51\"/>\r\n       <use x=\"242.822266\" xlink:href=\"#DejaVuSans-53\"/>\r\n      </g>\r\n     </g>\r\n    </g>\r\n    <g id=\"ytick_2\">\r\n     <g id=\"line2d_8\">\r\n      <g>\r\n       <use style=\"stroke:#000000;stroke-width:0.8;\" x=\"63.3625\" xlink:href=\"#m5737456768\" y=\"159.243661\"/>\r\n      </g>\r\n     </g>\r\n     <g id=\"text_9\">\r\n      <!-- −0.34 -->\r\n      <g transform=\"translate(25.717188 163.04288)scale(0.1 -0.1)\">\r\n       <use xlink:href=\"#DejaVuSans-8722\"/>\r\n       <use x=\"83.789062\" xlink:href=\"#DejaVuSans-48\"/>\r\n       <use x=\"147.412109\" xlink:href=\"#DejaVuSans-46\"/>\r\n       <use x=\"179.199219\" xlink:href=\"#DejaVuSans-51\"/>\r\n       <use x=\"242.822266\" xlink:href=\"#DejaVuSans-52\"/>\r\n      </g>\r\n     </g>\r\n    </g>\r\n    <g id=\"ytick_3\">\r\n     <g id=\"line2d_9\">\r\n      <g>\r\n       <use style=\"stroke:#000000;stroke-width:0.8;\" x=\"63.3625\" xlink:href=\"#m5737456768\" y=\"125.531226\"/>\r\n      </g>\r\n     </g>\r\n     <g id=\"text_10\">\r\n      <!-- −0.33 -->\r\n      <g transform=\"translate(25.717188 129.330445)scale(0.1 -0.1)\">\r\n       <use xlink:href=\"#DejaVuSans-8722\"/>\r\n       <use x=\"83.789062\" xlink:href=\"#DejaVuSans-48\"/>\r\n       <use x=\"147.412109\" xlink:href=\"#DejaVuSans-46\"/>\r\n       <use x=\"179.199219\" xlink:href=\"#DejaVuSans-51\"/>\r\n       <use x=\"242.822266\" xlink:href=\"#DejaVuSans-51\"/>\r\n      </g>\r\n     </g>\r\n    </g>\r\n    <g id=\"ytick_4\">\r\n     <g id=\"line2d_10\">\r\n      <g>\r\n       <use style=\"stroke:#000000;stroke-width:0.8;\" x=\"63.3625\" xlink:href=\"#m5737456768\" y=\"91.818792\"/>\r\n      </g>\r\n     </g>\r\n     <g id=\"text_11\">\r\n      <!-- −0.32 -->\r\n      <g transform=\"translate(25.717188 95.61801)scale(0.1 -0.1)\">\r\n       <use xlink:href=\"#DejaVuSans-8722\"/>\r\n       <use x=\"83.789062\" xlink:href=\"#DejaVuSans-48\"/>\r\n       <use x=\"147.412109\" xlink:href=\"#DejaVuSans-46\"/>\r\n       <use x=\"179.199219\" xlink:href=\"#DejaVuSans-51\"/>\r\n       <use x=\"242.822266\" xlink:href=\"#DejaVuSans-50\"/>\r\n      </g>\r\n     </g>\r\n    </g>\r\n    <g id=\"ytick_5\">\r\n     <g id=\"line2d_11\">\r\n      <g>\r\n       <use style=\"stroke:#000000;stroke-width:0.8;\" x=\"63.3625\" xlink:href=\"#m5737456768\" y=\"58.106357\"/>\r\n      </g>\r\n     </g>\r\n     <g id=\"text_12\">\r\n      <!-- −0.31 -->\r\n      <g transform=\"translate(25.717188 61.905576)scale(0.1 -0.1)\">\r\n       <use xlink:href=\"#DejaVuSans-8722\"/>\r\n       <use x=\"83.789062\" xlink:href=\"#DejaVuSans-48\"/>\r\n       <use x=\"147.412109\" xlink:href=\"#DejaVuSans-46\"/>\r\n       <use x=\"179.199219\" xlink:href=\"#DejaVuSans-51\"/>\r\n       <use x=\"242.822266\" xlink:href=\"#DejaVuSans-49\"/>\r\n      </g>\r\n     </g>\r\n    </g>\r\n    <g id=\"ytick_6\">\r\n     <g id=\"line2d_12\">\r\n      <g>\r\n       <use style=\"stroke:#000000;stroke-width:0.8;\" x=\"63.3625\" xlink:href=\"#m5737456768\" y=\"24.393923\"/>\r\n      </g>\r\n     </g>\r\n     <g id=\"text_13\">\r\n      <!-- −0.30 -->\r\n      <g transform=\"translate(25.717188 28.193141)scale(0.1 -0.1)\">\r\n       <use xlink:href=\"#DejaVuSans-8722\"/>\r\n       <use x=\"83.789062\" xlink:href=\"#DejaVuSans-48\"/>\r\n       <use x=\"147.412109\" xlink:href=\"#DejaVuSans-46\"/>\r\n       <use x=\"179.199219\" xlink:href=\"#DejaVuSans-51\"/>\r\n       <use x=\"242.822266\" xlink:href=\"#DejaVuSans-48\"/>\r\n      </g>\r\n     </g>\r\n    </g>\r\n    <g id=\"text_14\">\r\n     <!-- Function 2 -->\r\n     <g transform=\"translate(18.597656 154.972734)rotate(-90)scale(0.15 -0.15)\">\r\n      <use xlink:href=\"#DejaVuSans-70\"/>\r\n      <use x=\"52.019531\" xlink:href=\"#DejaVuSans-117\"/>\r\n      <use x=\"115.398438\" xlink:href=\"#DejaVuSans-110\"/>\r\n      <use x=\"178.777344\" xlink:href=\"#DejaVuSans-99\"/>\r\n      <use x=\"233.757812\" xlink:href=\"#DejaVuSans-116\"/>\r\n      <use x=\"272.966797\" xlink:href=\"#DejaVuSans-105\"/>\r\n      <use x=\"300.75\" xlink:href=\"#DejaVuSans-111\"/>\r\n      <use x=\"361.931641\" xlink:href=\"#DejaVuSans-110\"/>\r\n      <use x=\"425.310547\" xlink:href=\"#DejaVuSans-32\"/>\r\n      <use x=\"457.097656\" xlink:href=\"#DejaVuSans-50\"/>\r\n     </g>\r\n    </g>\r\n   </g>\r\n   <g id=\"patch_3\">\r\n    <path d=\"M 63.3625 224.64 \r\nL 63.3625 7.2 \r\n\" style=\"fill:none;stroke:#000000;stroke-linecap:square;stroke-linejoin:miter;stroke-width:0.8;\"/>\r\n   </g>\r\n   <g id=\"patch_4\">\r\n    <path d=\"M 398.1625 224.64 \r\nL 398.1625 7.2 \r\n\" style=\"fill:none;stroke:#000000;stroke-linecap:square;stroke-linejoin:miter;stroke-width:0.8;\"/>\r\n   </g>\r\n   <g id=\"patch_5\">\r\n    <path d=\"M 63.3625 224.64 \r\nL 398.1625 224.64 \r\n\" style=\"fill:none;stroke:#000000;stroke-linecap:square;stroke-linejoin:miter;stroke-width:0.8;\"/>\r\n   </g>\r\n   <g id=\"patch_6\">\r\n    <path d=\"M 63.3625 7.2 \r\nL 398.1625 7.2 \r\n\" style=\"fill:none;stroke:#000000;stroke-linecap:square;stroke-linejoin:miter;stroke-width:0.8;\"/>\r\n   </g>\r\n  </g>\r\n </g>\r\n <defs>\r\n  <clipPath id=\"pddab172fe3\">\r\n   <rect height=\"217.44\" width=\"334.8\" x=\"63.3625\" y=\"7.2\"/>\r\n  </clipPath>\r\n </defs>\r\n</svg>\r\n",
      "image/png": "[encoded data removed]"
     },
     "metadata": {
      "needs_background": "light"
     }
    }
   ],
   "source": [
    "import matplotlib.pyplot as plt\n",
    "f1 = [i * -1 for i in function1_values]\n",
    "f2 = [j * -1 for j in function2_values]\n",
    "plt.xlabel('Function 1', fontsize=15)\n",
    "plt.ylabel('Function 2', fontsize=15)\n",
    "plt.scatter(f1, f2)\n",
    "plt.show()"
   ]
  },
  {
   "cell_type": "code",
   "execution_count": 66,
   "metadata": {},
   "outputs": [],
   "source": [
    "def nonDominatedsorted(p,q) :\n",
    "    \n",
    "    budget = 5000\n",
    "    n_subset = 5\n",
    "\n",
    "    # Fungsi buat Dominance test\n",
    "\n",
    "    def isDominated(p,q): # success !!\n",
    "\n",
    "        fObj1 = {\"p\": p[1], \"q\" : q[1]}\n",
    "        fObj2 = {\"p\": p[2], \"q\" : q[2]}\n",
    "        if fObj1[\"p\"] > fObj1[\"q\"] or fObj2[\"p\"] > fObj2[\"q\"] :\n",
    "            return True\n",
    "        else :\n",
    "            return False\n",
    "    \"\"\"\n",
    "    if isDominated(p,q):\n",
    "        return [[p[1],q[1]],[p[2],q[2]]]\n",
    "    else :\n",
    "        return \"Not uye\"\n",
    "    \"\"\"\n",
    "\n",
    "    # Fungsi buat Inisialisasi individu (Masih Random)\n",
    "\n",
    "    def initialization_individu(df_mol,budget,n_subset) :\n",
    "        i = 0\n",
    "        iteration = 100\n",
    "        calon_individu = df_mol.sample(n_subset)\n",
    "\n",
    "        while(not is_budget_enough(calon_individu,budget)[0]) and i < iteration :\n",
    "            calon_individu = df_mol.sample(n_subset)\n",
    "            i+=1\n",
    "        if is_budget_enough(calon_individu,budget)[0]:\n",
    "            return individu(calon_individu)\n",
    "        else :\n",
    "            return []\n",
    "    \n",
    "    \"\"\" --- Start Non Dominated Sorted --- \"\"\"\n",
    "\n",
    "    Sp = []\n",
    "    np = 0\n",
    "    \n",
    "    # Inisialisasi q\n",
    "\n",
    "    q = initialization_individu(df_mol,budget,n_subset)\n",
    "\n",
    "nonDominatedsorted(ind,ind2) \n",
    "\n"
   ]
  },
  {
   "cell_type": "markdown",
   "metadata": {
    "colab_type": "text",
    "id": "DvP9RFqKv37u"
   },
   "source": [
    "### Try Pymoo"
   ]
  },
  {
   "cell_type": "code",
   "execution_count": null,
   "metadata": {
    "colab": {},
    "colab_type": "code",
    "id": "RGyRGej4v37v",
    "tags": [
     "outputPrepend",
     "outputPrepend",
     "outputPrepend",
     "outputPrepend",
     "outputPrepend",
     "outputPrepend",
     "outputPrepend",
     "outputPrepend",
     "outputPrepend",
     "outputPrepend",
     "outputPrepend",
     "outputPrepend",
     "outputPrepend",
     "outputPrepend",
     "outputPrepend",
     "outputPrepend",
     "outputPrepend",
     "outputPrepend",
     "outputPrepend",
     "outputPrepend",
     "outputPrepend",
     "outputPrepend",
     "outputPrepend",
     "outputPrepend",
     "outputPrepend",
     "outputPrepend",
     "outputPrepend",
     "outputPrepend",
     "outputPrepend",
     "outputPrepend",
     "outputPrepend",
     "outputPrepend",
     "outputPrepend",
     "outputPrepend",
     "outputPrepend"
    ]
   },
   "outputs": [],
   "source": [
    "from pymoo.algorithms.nsga2 import NSGA2\n",
    "from pymoo.factory import get_problem, get_sampling, get_crossover, get_mutation\n",
    "from pymoo.optimize import minimize\n",
    "from pymoo.visualization.scatter import Scatter\n",
    "\n",
    "problem = get_problem(\"zdt5\")\n",
    "\n",
    "print(problem)\n",
    "\n",
    "algorithm = NSGA2(pop_size=100,\n",
    "                  sampling=get_sampling(\"bin_random\"),\n",
    "                  crossover=get_crossover(\"bin_two_point\"),\n",
    "                  mutation=get_mutation(\"bin_bitflip\"),\n",
    "                  eliminate_duplicates=True)\n",
    "\n",
    "res = minimize(problem,\n",
    "               algorithm,\n",
    "               ('n_gen', 500),\n",
    "               seed=1,\n",
    "               verbose=True)\n",
    "\n",
    "print(res)\n"
   ]
  },
  {
   "cell_type": "code",
   "execution_count": null,
   "metadata": {
    "colab": {},
    "colab_type": "code",
    "id": "G8HbYb6nv371"
   },
   "outputs": [],
   "source": [
    "Scatter().add(res.F).show()"
   ]
  },
  {
   "cell_type": "markdown",
   "metadata": {
    "colab_type": "text",
    "id": "93Y9R84yri4k"
   },
   "source": [
    "## For git (Can't be use yet)\n",
    "\n",
    "file > save a copy in Github"
   ]
  },
  {
   "cell_type": "code",
   "execution_count": null,
   "metadata": {
    "colab": {},
    "colab_type": "code",
    "id": "g830FMTXpZHR"
   },
   "outputs": [],
   "source": [
    "#!git init\n",
    "\n",
    "#!git config --global user.name “relfarizi”\n",
    "\n",
    "#!git remote add origin https://github.com/relfarizi/Final_Project.git\n",
    "\n",
    "#!git add .\n",
    "\n",
    "#!git commit -m \"Probability Activity\"\n",
    "\n",
    "#!git push\n",
    "\n",
    "#!git status"
   ]
  },
  {
   "cell_type": "markdown",
   "metadata": {
    "colab_type": "text",
    "id": "eko3JgJ_v378"
   },
   "source": [
    "### lampau"
   ]
  },
  {
   "cell_type": "code",
   "execution_count": null,
   "metadata": {
    "colab": {},
    "colab_type": "code",
    "id": "IWFLWPYuv378"
   },
   "outputs": [],
   "source": [
    "subset_row = []\n",
    "sum_of_subset = 10\n",
    "\n",
    "for i in range(sum_of_subset):\n",
    "    random = rd.randint(0,len(df_mol))\n",
    "    while random in subset_row:\n",
    "        random = rd.randint(0,len(df_mol))\n",
    "    subset_row.append(random)\n",
    "    \n",
    "print(subset_row)\n",
    "calon_individu = df_mol.iloc[subset_row,:].values.tolist()\n",
    "calon_individu\n",
    "\n",
    "individu(calon_individu)"
   ]
  },
  {
   "cell_type": "code",
   "execution_count": null,
   "metadata": {
    "colab": {},
    "colab_type": "code",
    "id": "_i899fUEv37-"
   },
   "outputs": [],
   "source": [
    "# Inisialisasi Individu\n",
    "\n",
    "def initialization_individu() :\n",
    "    for i in range(sum_of_subset):\n",
    "        random = rd.randint(0,len(df_mol))\n",
    "        while random in subset_row:\n",
    "            random = rd.randint(0,len(df_mol))\n",
    "        subset_row.append(random)\n",
    "#subset_row = rd.sample(df_mol.values,10)\n",
    "df\n",
    "list_subset = []\n",
    "for i in (df_mol).index :\n",
    "    if i in subset_row:\n",
    "        is_subset = 1\n",
    "    else :\n",
    "        is_subset = 0\n",
    "    list_subset.append(is_subset)\n",
    "print(list_subset)"
   ]
  }
 ],
 "metadata": {
  "colab": {
   "name": "Final_Project.ipynb",
   "private_outputs": true,
   "provenance": []
  },
  "kernelspec": {
   "display_name": "Python 3",
   "language": "python",
   "name": "python3"
  },
  "language_info": {
   "codemirror_mode": {
    "name": "ipython",
    "version": 3
   },
   "file_extension": ".py",
   "mimetype": "text/x-python",
   "name": "python",
   "nbconvert_exporter": "python",
   "pygments_lexer": "ipython3",
   "version": "3.7.4"
  }
 },
 "nbformat": 4,
 "nbformat_minor": 1
}