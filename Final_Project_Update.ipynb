{
  "cells": [
    {
      "cell_type": "markdown",
      "metadata": {
        "colab_type": "text",
        "id": "LTqadf5GKMCw"
      },
      "source": [
        "## Import Library"
      ]
    },
    {
      "cell_type": "code",
      "metadata": {
        "colab_type": "code",
        "id": "SIw0TvdNcFQY",
        "colab": {}
      },
      "source": [
        "# Install rdkit\n",
        "\n",
        "def install_rdkit():\n",
        "  !wget -c https://repo.continuum.io/miniconda/Miniconda3-latest-Linux-x86_64.sh\n",
        "  !chmod +x Miniconda3-latest-Linux-x86_64.sh\n",
        "  !time bash ./Miniconda3-latest-Linux-x86_64.sh -b -f -p /usr/local\n",
        "  !time conda install -q -y -c conda-forge rdkit\n",
        "\n",
        "# install_rdkit()"
      ],
      "execution_count": 1,
      "outputs": []
    },
    {
      "cell_type": "code",
      "metadata": {
        "colab_type": "code",
        "id": "IePXvtoVkn3q",
        "colab": {}
      },
      "source": [
        "# Data\n",
        "\n",
        "#from google.colab import files\n",
        "import pandas as pd\n",
        "import numpy as np\n",
        "import regex as re\n",
        "\n",
        "# rdkit\n",
        "import sys\n",
        "#sys.path.append('/usr/local/lib/python3.7/site-packages/')\n",
        "from rdkit import Chem\n",
        "from rdkit.Chem import DataStructs\n",
        "\n",
        "# random\n",
        "import random as rd\n",
        "\n",
        "import math"
      ],
      "execution_count": 2,
      "outputs": [
        {
          "output_type": "stream",
          "name": "stderr",
          "text": "RDKit WARNING: [21:00:49] Enabling RDKit 2019.09.1 jupyter extensions\n"
        }
      ]
    },
    {
      "cell_type": "markdown",
      "metadata": {
        "colab_type": "text",
        "id": "HMV8zmkwk9_z"
      },
      "source": [
        "## Data"
      ]
    },
    {
      "cell_type": "markdown",
      "metadata": {
        "colab_type": "text",
        "id": "MpX9zUAt82Tr"
      },
      "source": [
        "### Pre-Processing Data"
      ]
    },
    {
      "cell_type": "code",
      "metadata": {
        "colab_type": "code",
        "id": "OzqDxFp0kCaT",
        "colab": {},
        "tags": [
          "outputPrepend"
        ]
      },
      "source": [
        "def preprocessing_data(link_of_data) :\n",
        "  dataset = pd.read_csv(link_of_data,sep=\";\")\n",
        "  dataset = dataset.iloc[:,[0,7,9,10,11]]\n",
        "\n",
        "  sameMol = []\n",
        "  sameMolCount = {}\n",
        "  dataset_handle = []\n",
        "\n",
        "  for x in dataset.values:\n",
        "    mol_name = x[0]\n",
        "    if mol_name in sameMol:\n",
        "      print(\"uye\")\n",
        "      x[0] = mol_name+\"(\"+str(sameMolCount[mol_name])+\")\"\n",
        "      sameMolCount[mol_name] += 1\n",
        "    else:\n",
        "      sameMol.append(x[0])\n",
        "      sameMolCount[mol_name] = 1\n",
        "    dataset_handle.append(x)\n",
        "\n",
        "  #print(dataset_handle)\n",
        "    \n",
        "  list_of_column_dataframe = dataset.columns\n",
        "  list_of_dataset_after = []\n",
        "\n",
        "  list_of_dataset_before = np.array(dataset_handle)\n",
        "  \n",
        "  for data in list_of_dataset_before :\n",
        "    if data[2] == \"'='\" :\n",
        "      if data[4] == \"nM\" :\n",
        "        if data[3] < 10000 :\n",
        "          data[3] = data[3]/1000\n",
        "          list_of_dataset_after.append(data)\n",
        "  \n",
        "  dataframe_of_dataset_after = pd.DataFrame(list_of_dataset_after)\n",
        "  dataframe_of_dataset_after.columns = list_of_column_dataframe\n",
        "  name_of_file_download = \"Dataset_After.csv\"\n",
        "  dataframe_of_dataset_after.to_csv(name_of_file_download)\n",
        "  #files.download(name_of_file_download)\n",
        "  return dataframe_of_dataset_after\n",
        "\n",
        "\n"
      ],
      "execution_count": 3,
      "outputs": []
    },
    {
      "cell_type": "code",
      "metadata": {
        "colab_type": "code",
        "id": "W47O-_Df2HU-",
        "colab": {},
        "tags": [
          "outputPrepend",
          "outputPrepend"
        ]
      },
      "source": [
        "#preprocessing_data(\"https://raw.githubusercontent.com/relfarizi/Final_Project/master/Data/Dataset_Before.csv\")"
      ],
      "execution_count": 4,
      "outputs": []
    },
    {
      "cell_type": "markdown",
      "metadata": {
        "colab_type": "text",
        "id": "n_V57Wl-9BWQ"
      },
      "source": [
        "### Data After Pre-Processing"
      ]
    },
    {
      "cell_type": "code",
      "metadata": {
        "colab_type": "code",
        "id": "RA5IvTTn2pNb",
        "scrolled": true,
        "colab": {}
      },
      "source": [
        "# for colab\n",
        "\n",
        "#dataset = pd.read_csv('https://raw.githubusercontent.com/relfarizi/Final_Project/master/Data/Dataset_After.csv', index_col= 0)\n",
        "\n",
        "\n",
        "dataset = pd.read_csv('Dataset_After.csv',index_col = 0)\n",
        "dataset.head(5)"
      ],
      "execution_count": 5,
      "outputs": [
        {
          "output_type": "execute_result",
          "data": {
            "text/plain": "  Molecule ChEMBL ID                                             Smiles  \\\n0      CHEMBL2263120  CC1(C)CC[C@]2(C(=O)OCCCCCCCCCCC(=O)O)CC[C@]3(C...   \n1      CHEMBL2263121  CC1(C)CC[C@]2(C(=O)NC(Cc3ccccc3)C(=O)O)CC[C@]3...   \n2          CHEMBL168  CC1(C)CC[C@]2(C(=O)O)CC[C@]3(C)C(=CC[C@@H]4[C@...   \n3       CHEMBL508831  CC1(C)CC[C@]2(C(=O)O)CC[C@]3(C)C(=CC[C@@H]4[C@...   \n4       CHEMBL506556  CC1(C)CC[C@]2(C(=O)O)CC[C@]3(C)C(=CC[C@@H]4[C@...   \n\n  Standard Relation  Standard Value Standard Units  \n0               '='          0.7200             nM  \n1               '='          3.3100             nM  \n2               '='          5.0501             nM  \n3               '='          0.5400             nM  \n4               '='          0.6200             nM  ",
            "text/html": "<div>\n<style scoped>\n    .dataframe tbody tr th:only-of-type {\n        vertical-align: middle;\n    }\n\n    .dataframe tbody tr th {\n        vertical-align: top;\n    }\n\n    .dataframe thead th {\n        text-align: right;\n    }\n</style>\n<table border=\"1\" class=\"dataframe\">\n  <thead>\n    <tr style=\"text-align: right;\">\n      <th></th>\n      <th>Molecule ChEMBL ID</th>\n      <th>Smiles</th>\n      <th>Standard Relation</th>\n      <th>Standard Value</th>\n      <th>Standard Units</th>\n    </tr>\n  </thead>\n  <tbody>\n    <tr>\n      <th>0</th>\n      <td>CHEMBL2263120</td>\n      <td>CC1(C)CC[C@]2(C(=O)OCCCCCCCCCCC(=O)O)CC[C@]3(C...</td>\n      <td>'='</td>\n      <td>0.7200</td>\n      <td>nM</td>\n    </tr>\n    <tr>\n      <th>1</th>\n      <td>CHEMBL2263121</td>\n      <td>CC1(C)CC[C@]2(C(=O)NC(Cc3ccccc3)C(=O)O)CC[C@]3...</td>\n      <td>'='</td>\n      <td>3.3100</td>\n      <td>nM</td>\n    </tr>\n    <tr>\n      <th>2</th>\n      <td>CHEMBL168</td>\n      <td>CC1(C)CC[C@]2(C(=O)O)CC[C@]3(C)C(=CC[C@@H]4[C@...</td>\n      <td>'='</td>\n      <td>5.0501</td>\n      <td>nM</td>\n    </tr>\n    <tr>\n      <th>3</th>\n      <td>CHEMBL508831</td>\n      <td>CC1(C)CC[C@]2(C(=O)O)CC[C@]3(C)C(=CC[C@@H]4[C@...</td>\n      <td>'='</td>\n      <td>0.5400</td>\n      <td>nM</td>\n    </tr>\n    <tr>\n      <th>4</th>\n      <td>CHEMBL506556</td>\n      <td>CC1(C)CC[C@]2(C(=O)O)CC[C@]3(C)C(=CC[C@@H]4[C@...</td>\n      <td>'='</td>\n      <td>0.6200</td>\n      <td>nM</td>\n    </tr>\n  </tbody>\n</table>\n</div>"
          },
          "metadata": {},
          "execution_count": 5
        }
      ]
    },
    {
      "cell_type": "code",
      "metadata": {
        "colab_type": "code",
        "id": "hmjrEPcEgMFh",
        "colab": {}
      },
      "source": [
        "#dataset = dataset.drop_duplicates(keep=False,inplace=True)\n",
        "dataset = dataset.dropna()\n",
        "mol_smiles = dataset.iloc[:,1].values.tolist()\n",
        "row_drop = []\n",
        "for i in range(len(mol_smiles)) :\n",
        "  #print(mol_smiles[i])\n",
        "  if len(str(mol_smiles[i])) < 5 :\n",
        "    row_drop.append(i)\n",
        "print(row_drop)\n",
        "dataset.drop(row_drop)\n",
        "dataset = dataset.iloc[:500,:]"
      ],
      "execution_count": 6,
      "outputs": [
        {
          "output_type": "stream",
          "name": "stdout",
          "text": "[]\n"
        }
      ]
    },
    {
      "cell_type": "markdown",
      "metadata": {
        "colab_type": "text",
        "id": "jr6v-7v0j-JM"
      },
      "source": [
        "## Probability Activity"
      ]
    },
    {
      "cell_type": "markdown",
      "metadata": {
        "colab_type": "text",
        "id": "Ppj_X-CZ720j"
      },
      "source": [
        "### 1. Molecule Activity\n",
        "Untuk mencari jumlah dari nilai aktivitas masing2 molekul\n",
        "\n",
        "variabel yang digunakan :\n",
        "* mol_name = list nama molekul\n",
        "* mol_smile = list smile molekul\n",
        "* mol_act = list berisi nilai IC50\n",
        "* act = nilai aktivitas tiap molekul\n",
        "* sum_act = Nilai jumlah dari a"
      ]
    },
    {
      "cell_type": "code",
      "metadata": {
        "colab_type": "code",
        "id": "cIMuhWGr7zlj",
        "colab": {}
      },
      "source": [
        "mol_name = dataset.iloc[:,0].values.tolist()\n",
        "mol_smiles = dataset.iloc[:,1].values.tolist()\n",
        "mol_act = dataset.iloc[:,3].values.tolist()\n",
        "sum_act = 0\n",
        "for molekul in mol_act :\n",
        "  act = np.exp(-molekul)\n",
        "  sum_act  += act\n",
        "print(sum_act)"
      ],
      "execution_count": 7,
      "outputs": [
        {
          "output_type": "stream",
          "name": "stdout",
          "text": "210.82550253137364\n"
        }
      ]
    },
    {
      "cell_type": "markdown",
      "metadata": {
        "colab_type": "text",
        "id": "iYqPm_bI8VZ1"
      },
      "source": [
        "### 2. Probability Succes\n",
        "\n",
        "\n",
        "Mencari nilai probabilitas kesuksesan untuk setiap molekul\n",
        "\n",
        "Variabel yang digunakan :\n",
        "* n = banyaknya molekul\n",
        "* mol_prob = list probabilitas setiap molekul\n",
        "* act = nilai aktivitas molekul\n",
        "* prob = nilai probabilitas kesuksesan molekul\n",
        "* sum_pro = nilai jumlah dari Probabiliras Kesuksesan\n",
        "\n",
        "\n"
      ]
    },
    {
      "cell_type": "code",
      "metadata": {
        "colab_type": "code",
        "id": "J9ISKgMpljNb",
        "colab": {}
      },
      "source": [
        "n = len(mol_act)\n",
        "#p_avg = 1/n\n",
        "mol_prob = []\n",
        "\n",
        "# act = probabilitas kesuksesan\n",
        "\n",
        "sum_pro = 0\n",
        "for molekul in mol_act :\n",
        "  #act = (molekul[1]*p_avg*n)/sum_act\n",
        "  act = np.exp(-molekul)\n",
        "  prob = act/sum_act\n",
        "  prob = round(prob,8)\n",
        "  mol_prob.append(prob)\n",
        "  sum_pro += prob\n",
        "print(sum_pro)\n"
      ],
      "execution_count": 8,
      "outputs": [
        {
          "output_type": "stream",
          "name": "stdout",
          "text": "0.9999999200000004\n"
        }
      ]
    },
    {
      "cell_type": "markdown",
      "metadata": {
        "id": "NH1drdfpv36v",
        "colab_type": "text"
      },
      "source": [
        "## Cost (Trial)\n",
        "\n",
        "Menentukan cost dari setiap molekul. cell ini baru coba di-generate hanya dengan mengalikan dengan sum_of_cost dengan probability kesuksesannya. sehingga nilai probabilitas terbesar diasumsikan memiliki cost yang besar pula"
      ]
    },
    {
      "cell_type": "code",
      "metadata": {
        "id": "l-3pPCk9v36x",
        "colab_type": "code",
        "colab": {}
      },
      "source": [
        "sum_of_cost = 500000\n",
        "mol_cost = []\n",
        "sum_cost = 0\n",
        "for mol in mol_prob:\n",
        "    cost = mol*sum_of_cost\n",
        "    mol_cost.append(round(cost,4))\n",
        "    sum_cost += cost\n",
        "print(sum_cost)"
      ],
      "execution_count": 9,
      "outputs": [
        {
          "output_type": "stream",
          "name": "stdout",
          "text": "499999.9599999998\n"
        }
      ]
    },
    {
      "cell_type": "markdown",
      "metadata": {
        "colab_type": "text",
        "id": "3enxBzZ33Hn1"
      },
      "source": [
        "## Fingerprint\n",
        "\n",
        "berisi bit biner dari sifat yang menggambarkan suatu molekul (baca lagi)\n",
        "\n",
        "Variabel yang digunakan :\n",
        "* fingerprint suatu molekul (dalam bit biner)\n",
        "* mol_fp = list dari fingerprint setiap molekul\n"
      ]
    },
    {
      "cell_type": "code",
      "metadata": {
        "colab_type": "code",
        "id": "w9iB6gWO3PAo",
        "colab": {},
        "tags": [
          "outputPrepend"
        ]
      },
      "source": [
        "mol_fp = []\n",
        "i = 0\n",
        "#print(mol_smiles[258])\n",
        "for molekul in mol_smiles :\n",
        "  smiles = Chem.MolFromSmiles(str(molekul))\n",
        "  fp = Chem.RDKFingerprint(smiles)\n",
        "  #print(i)\n",
        "  i+= 1\n",
        "  mol_fp.append(fp)\n",
        "#print((mol_fp))"
      ],
      "execution_count": 10,
      "outputs": []
    },
    {
      "cell_type": "markdown",
      "metadata": {
        "colab_type": "text",
        "id": "zzqnv1Ri-UO6"
      },
      "source": [
        "## To DataFrame"
      ]
    },
    {
      "cell_type": "code",
      "metadata": {
        "colab_type": "code",
        "id": "zsyu8ksX-UqX",
        "colab": {}
      },
      "source": [
        "#df_mol = pd.DataFrame.from_dict(mol_act_dict, orient='index')\n",
        "#df_mol.columns = [\"IC50\",\"Molecule Activity\", \"Probability Activity\"]\n",
        "#df_mol.sort_values(by=[\"IC50\"], ascending=False)\n",
        "#mol_name = pd.Series(mol_name)\n",
        "#mol_act = pd.Series(mol_act)\n",
        "#df_mol = pd.concat(mol_name,mol_act)\n",
        "#print(len(mol_name))\n",
        "#print(len(mol_smiles))\n",
        "#print(len(mol_fp))\n",
        "#print(len(mol_act))\n",
        "#print(len(mol_prob))\n",
        "\n",
        "df = pd.DataFrame({'mol_name':mol_name,\n",
        "                       'mol_smiles' : mol_smiles,\n",
        "                       'mol_act':mol_act,\n",
        "                       'mol_fp' : mol_fp,\n",
        "                       'mol_prob' : mol_prob,\n",
        "                       'mol_cost' : mol_cost\n",
        "                       })\n",
        "\n",
        "df.head()"
      ],
      "execution_count": 11,
      "outputs": [
        {
          "output_type": "execute_result",
          "data": {
            "text/plain": "        mol_name                                         mol_smiles  mol_act  \\\n0  CHEMBL2263120  CC1(C)CC[C@]2(C(=O)OCCCCCCCCCCC(=O)O)CC[C@]3(C...   0.7200   \n1  CHEMBL2263121  CC1(C)CC[C@]2(C(=O)NC(Cc3ccccc3)C(=O)O)CC[C@]3...   3.3100   \n2      CHEMBL168  CC1(C)CC[C@]2(C(=O)O)CC[C@]3(C)C(=CC[C@@H]4[C@...   5.0501   \n3   CHEMBL508831  CC1(C)CC[C@]2(C(=O)O)CC[C@]3(C)C(=CC[C@@H]4[C@...   0.5400   \n4   CHEMBL506556  CC1(C)CC[C@]2(C(=O)O)CC[C@]3(C)C(=CC[C@@H]4[C@...   0.6200   \n\n                                              mol_fp  mol_prob  mol_cost  \n0  [0, 0, 1, 0, 0, 0, 1, 0, 1, 1, 0, 0, 0, 0, 0, ...  0.002309  1154.395  \n1  [0, 0, 0, 0, 0, 0, 1, 1, 1, 0, 1, 0, 0, 0, 0, ...  0.000173    86.605  \n2  [0, 0, 0, 0, 0, 0, 1, 0, 1, 1, 0, 0, 0, 0, 0, ...  0.000030    15.200  \n3  [0, 0, 0, 0, 0, 0, 1, 0, 1, 1, 0, 0, 0, 0, 0, ...  0.002764  1382.065  \n4  [0, 0, 0, 0, 0, 0, 1, 0, 1, 1, 0, 0, 0, 0, 1, ...  0.002552  1275.805  ",
            "text/html": "<div>\n<style scoped>\n    .dataframe tbody tr th:only-of-type {\n        vertical-align: middle;\n    }\n\n    .dataframe tbody tr th {\n        vertical-align: top;\n    }\n\n    .dataframe thead th {\n        text-align: right;\n    }\n</style>\n<table border=\"1\" class=\"dataframe\">\n  <thead>\n    <tr style=\"text-align: right;\">\n      <th></th>\n      <th>mol_name</th>\n      <th>mol_smiles</th>\n      <th>mol_act</th>\n      <th>mol_fp</th>\n      <th>mol_prob</th>\n      <th>mol_cost</th>\n    </tr>\n  </thead>\n  <tbody>\n    <tr>\n      <th>0</th>\n      <td>CHEMBL2263120</td>\n      <td>CC1(C)CC[C@]2(C(=O)OCCCCCCCCCCC(=O)O)CC[C@]3(C...</td>\n      <td>0.7200</td>\n      <td>[0, 0, 1, 0, 0, 0, 1, 0, 1, 1, 0, 0, 0, 0, 0, ...</td>\n      <td>0.002309</td>\n      <td>1154.395</td>\n    </tr>\n    <tr>\n      <th>1</th>\n      <td>CHEMBL2263121</td>\n      <td>CC1(C)CC[C@]2(C(=O)NC(Cc3ccccc3)C(=O)O)CC[C@]3...</td>\n      <td>3.3100</td>\n      <td>[0, 0, 0, 0, 0, 0, 1, 1, 1, 0, 1, 0, 0, 0, 0, ...</td>\n      <td>0.000173</td>\n      <td>86.605</td>\n    </tr>\n    <tr>\n      <th>2</th>\n      <td>CHEMBL168</td>\n      <td>CC1(C)CC[C@]2(C(=O)O)CC[C@]3(C)C(=CC[C@@H]4[C@...</td>\n      <td>5.0501</td>\n      <td>[0, 0, 0, 0, 0, 0, 1, 0, 1, 1, 0, 0, 0, 0, 0, ...</td>\n      <td>0.000030</td>\n      <td>15.200</td>\n    </tr>\n    <tr>\n      <th>3</th>\n      <td>CHEMBL508831</td>\n      <td>CC1(C)CC[C@]2(C(=O)O)CC[C@]3(C)C(=CC[C@@H]4[C@...</td>\n      <td>0.5400</td>\n      <td>[0, 0, 0, 0, 0, 0, 1, 0, 1, 1, 0, 0, 0, 0, 0, ...</td>\n      <td>0.002764</td>\n      <td>1382.065</td>\n    </tr>\n    <tr>\n      <th>4</th>\n      <td>CHEMBL506556</td>\n      <td>CC1(C)CC[C@]2(C(=O)O)CC[C@]3(C)C(=CC[C@@H]4[C@...</td>\n      <td>0.6200</td>\n      <td>[0, 0, 0, 0, 0, 0, 1, 0, 1, 1, 0, 0, 0, 0, 1, ...</td>\n      <td>0.002552</td>\n      <td>1275.805</td>\n    </tr>\n  </tbody>\n</table>\n</div>"
          },
          "metadata": {},
          "execution_count": 11
        }
      ]
    },
    {
      "cell_type": "code",
      "metadata": {
        "id": "vRWCXOctv37L",
        "colab_type": "code",
        "colab": {}
      },
      "source": [
        "df_mol = df.iloc[:,[0,2,3,5]]\n",
        "df_mol"
      ],
      "execution_count": 12,
      "outputs": [
        {
          "output_type": "execute_result",
          "data": {
            "text/plain": "            mol_name  mol_act  \\\n0      CHEMBL2263120   0.7200   \n1      CHEMBL2263121   3.3100   \n2          CHEMBL168   5.0501   \n3       CHEMBL508831   0.5400   \n4       CHEMBL506556   0.6200   \n..               ...      ...   \n495  CHEMBL276376(1)   0.1600   \n496     CHEMBL210965   0.0790   \n497     CHEMBL209304   0.1300   \n498     CHEMBL211990   0.1600   \n499    CHEMBL9252(1)   0.0690   \n\n                                                mol_fp  mol_cost  \n0    [0, 0, 1, 0, 0, 0, 1, 0, 1, 1, 0, 0, 0, 0, 0, ...  1154.395  \n1    [0, 0, 0, 0, 0, 0, 1, 1, 1, 0, 1, 0, 0, 0, 0, ...    86.605  \n2    [0, 0, 0, 0, 0, 0, 1, 0, 1, 1, 0, 0, 0, 0, 0, ...    15.200  \n3    [0, 0, 0, 0, 0, 0, 1, 0, 1, 1, 0, 0, 0, 0, 0, ...  1382.065  \n4    [0, 0, 0, 0, 0, 0, 1, 0, 1, 1, 0, 0, 0, 0, 1, ...  1275.805  \n..                                                 ...       ...  \n495  [1, 0, 0, 0, 0, 0, 0, 0, 1, 0, 0, 0, 0, 0, 0, ...  2020.970  \n496  [1, 0, 1, 1, 1, 1, 0, 0, 1, 0, 0, 1, 0, 1, 1, ...  2191.480  \n497  [1, 0, 1, 1, 1, 1, 1, 0, 1, 0, 0, 1, 0, 1, 1, ...  2082.515  \n498  [1, 0, 1, 1, 1, 1, 0, 0, 1, 0, 0, 1, 0, 1, 1, ...  2020.970  \n499  [1, 1, 1, 1, 1, 1, 1, 0, 0, 0, 0, 0, 0, 1, 0, ...  2213.505  \n\n[500 rows x 4 columns]",
            "text/html": "<div>\n<style scoped>\n    .dataframe tbody tr th:only-of-type {\n        vertical-align: middle;\n    }\n\n    .dataframe tbody tr th {\n        vertical-align: top;\n    }\n\n    .dataframe thead th {\n        text-align: right;\n    }\n</style>\n<table border=\"1\" class=\"dataframe\">\n  <thead>\n    <tr style=\"text-align: right;\">\n      <th></th>\n      <th>mol_name</th>\n      <th>mol_act</th>\n      <th>mol_fp</th>\n      <th>mol_cost</th>\n    </tr>\n  </thead>\n  <tbody>\n    <tr>\n      <th>0</th>\n      <td>CHEMBL2263120</td>\n      <td>0.7200</td>\n      <td>[0, 0, 1, 0, 0, 0, 1, 0, 1, 1, 0, 0, 0, 0, 0, ...</td>\n      <td>1154.395</td>\n    </tr>\n    <tr>\n      <th>1</th>\n      <td>CHEMBL2263121</td>\n      <td>3.3100</td>\n      <td>[0, 0, 0, 0, 0, 0, 1, 1, 1, 0, 1, 0, 0, 0, 0, ...</td>\n      <td>86.605</td>\n    </tr>\n    <tr>\n      <th>2</th>\n      <td>CHEMBL168</td>\n      <td>5.0501</td>\n      <td>[0, 0, 0, 0, 0, 0, 1, 0, 1, 1, 0, 0, 0, 0, 0, ...</td>\n      <td>15.200</td>\n    </tr>\n    <tr>\n      <th>3</th>\n      <td>CHEMBL508831</td>\n      <td>0.5400</td>\n      <td>[0, 0, 0, 0, 0, 0, 1, 0, 1, 1, 0, 0, 0, 0, 0, ...</td>\n      <td>1382.065</td>\n    </tr>\n    <tr>\n      <th>4</th>\n      <td>CHEMBL506556</td>\n      <td>0.6200</td>\n      <td>[0, 0, 0, 0, 0, 0, 1, 0, 1, 1, 0, 0, 0, 0, 1, ...</td>\n      <td>1275.805</td>\n    </tr>\n    <tr>\n      <th>...</th>\n      <td>...</td>\n      <td>...</td>\n      <td>...</td>\n      <td>...</td>\n    </tr>\n    <tr>\n      <th>495</th>\n      <td>CHEMBL276376(1)</td>\n      <td>0.1600</td>\n      <td>[1, 0, 0, 0, 0, 0, 0, 0, 1, 0, 0, 0, 0, 0, 0, ...</td>\n      <td>2020.970</td>\n    </tr>\n    <tr>\n      <th>496</th>\n      <td>CHEMBL210965</td>\n      <td>0.0790</td>\n      <td>[1, 0, 1, 1, 1, 1, 0, 0, 1, 0, 0, 1, 0, 1, 1, ...</td>\n      <td>2191.480</td>\n    </tr>\n    <tr>\n      <th>497</th>\n      <td>CHEMBL209304</td>\n      <td>0.1300</td>\n      <td>[1, 0, 1, 1, 1, 1, 1, 0, 1, 0, 0, 1, 0, 1, 1, ...</td>\n      <td>2082.515</td>\n    </tr>\n    <tr>\n      <th>498</th>\n      <td>CHEMBL211990</td>\n      <td>0.1600</td>\n      <td>[1, 0, 1, 1, 1, 1, 0, 0, 1, 0, 0, 1, 0, 1, 1, ...</td>\n      <td>2020.970</td>\n    </tr>\n    <tr>\n      <th>499</th>\n      <td>CHEMBL9252(1)</td>\n      <td>0.0690</td>\n      <td>[1, 1, 1, 1, 1, 1, 1, 0, 0, 0, 0, 0, 0, 1, 0, ...</td>\n      <td>2213.505</td>\n    </tr>\n  </tbody>\n</table>\n<p>500 rows × 4 columns</p>\n</div>"
          },
          "metadata": {},
          "execution_count": 12
        }
      ]
    },
    {
      "cell_type": "markdown",
      "metadata": {
        "id": "9_1rELu8v37S",
        "colab_type": "text"
      },
      "source": [
        "## Individu\n",
        "suatu fungsi yang bertujuan untuk me-return dari suatu populasi (kumpulan individu berdasarkan subset yang diberikan). \n",
        "\n",
        "return :\n",
        "* mol_name\n",
        "* rata-rata dari act\n",
        "* rata-rata dari mol_fp\n",
        "\n",
        "cara menyari diversity :\n",
        "\n",
        "dengan menghitung semua similarity antar molekul kemudian hasilnya di rata2kan\n",
        "\n",
        "sebagai contoh :\n",
        "\n",
        "ada 3 (subset) molekul (A,B,C), maka menghitungnya\n",
        "\n",
        "* A -> B\n",
        "* A -> C\n",
        "* B -> C\n",
        "\n",
        "kemudian dirata2kan"
      ]
    },
    {
      "cell_type": "code",
      "metadata": {
        "colab_type": "code",
        "id": "GYPOqUS0drKW",
        "colab": {}
      },
      "source": [
        "n_subset = 5\n",
        "\n",
        "def bundleIndividu(individu,dfMol = df_mol):\n",
        "    #subset = np.array(subset.values.tolist())\n",
        "    #print(len(individu))\n",
        "    molName = dfMol[\"mol_name\"].tolist()\n",
        "    molAct = dfMol[\"mol_act\"].tolist()\n",
        "    molFp = dfMol[\"mol_fp\"].tolist()\n",
        "    #print(mol_name)\n",
        "    #print(mol_act)\n",
        "    #print(mol_fp[1])\n",
        "\n",
        "    bitString = []\n",
        "    for mol in molName:\n",
        "        if mol in individu :\n",
        "            bit = 1\n",
        "        else :\n",
        "            bit = 0\n",
        "        bitString.append(bit)\n",
        "    fp_list = []\n",
        "    n = len(molName)\n",
        "\n",
        "    def fObjective(individu = bitString,dfMol = df_mol) :\n",
        "    \n",
        "        def fObj1(individu = individu,dfMol = dfMol) :\n",
        "            act = []\n",
        "            for idx,x in enumerate(individu) :\n",
        "                if x  == 1 :\n",
        "                    act.append(dfMol[\"mol_act\"][idx])\n",
        "            #print(np.mean(act))\n",
        "            return np.mean(act)\n",
        "        \n",
        "        def fObj2(individu = individu, dfMol = dfMol) :\n",
        "            fpList = []\n",
        "            \n",
        "            #print(n)\n",
        "            molFp = []\n",
        "            \n",
        "            for idx,x in enumerate(individu) :\n",
        "                if x == 1 :\n",
        "                    molFp.append(dfMol[\"mol_fp\"][idx])\n",
        "            n = len(molFp)\n",
        "            for i in range(n):\n",
        "                for j in range(n):\n",
        "                    if i > j :\n",
        "                        tmpFp = DataStructs.FingerprintSimilarity(molFp[i],molFp[j])\n",
        "                        fpList.append(tmpFp)\n",
        "            #print(\"fplist\",fpList)\n",
        "            return np.mean(fpList)\n",
        "\n",
        "        return fObj1(), fObj2()\n",
        "\n",
        "    fObj1,fObj2 = fObjective()\n",
        "    \n",
        "    if [bitString,fObj1,fObj2] is not None :\n",
        "        return [bitString,fObj1,fObj2]\n",
        "    else :\n",
        "        return []\n",
        "\n"
      ],
      "execution_count": 71,
      "outputs": []
    },
    {
      "cell_type": "markdown",
      "metadata": {
        "id": "LVr2yDUTxkrn",
        "colab_type": "text"
      },
      "source": [
        "### cek budget\n",
        "\n",
        "mengecek apakah molekul yang terpilih (yang ada di subset) tidak melebihi budget yang diberikan"
      ]
    },
    {
      "cell_type": "code",
      "metadata": {
        "id": "mIo9EgPmv37b",
        "colab_type": "code",
        "colab": {}
      },
      "source": [
        "def is_budget_enough(subset,budget):\n",
        "    subset =  subset.iloc[:,3].values\n",
        "    sum_of_subset = np.sum(subset)\n",
        "    if sum_of_subset <= budget :\n",
        "        check = True\n",
        "    else :\n",
        "        check = False\n",
        "    return [check,sum_of_subset]"
      ],
      "execution_count": 72,
      "outputs": []
    },
    {
      "cell_type": "markdown",
      "metadata": {
        "id": "P7Roz7DLv37k",
        "colab_type": "text"
      },
      "source": [
        "### NSGA-II"
      ]
    },
    {
      "cell_type": "code",
      "execution_count": 73,
      "metadata": {},
      "outputs": [],
      "source": [
        "def fObjective(individu,dfMol = df_mol) :\n",
        "    \n",
        "    def fObj1(individu = individu,dfMol = dfMol) :\n",
        "        act = []\n",
        "        for idx,x in enumerate(individu) :\n",
        "            if x  == 1 :\n",
        "                act.append(dfMol[\"mol_act\"][idx])\n",
        "        return np.mean(act)\n",
        "    \n",
        "    def fObj2(individu = individu, dfMol = dfMol) :\n",
        "        fpList = []\n",
        "        n = len(individu)\n",
        "        for i in range(n):\n",
        "            for j in range(n):\n",
        "                if i > j :\n",
        "                    tmpFp = DataStructs.FingerprintSimilarity(mol_fp[i],mol_fp[j])\n",
        "                    fpList.append(tmpFp)\n",
        "        return np.mean(fpList)\n",
        "\n",
        "    return fObj1(), fObj2()\n",
        "#fObjective(population[1])"
      ]
    },
    {
      "cell_type": "markdown",
      "metadata": {},
      "source": [
        "## Inisialisasi populasi bit string"
      ]
    },
    {
      "cell_type": "code",
      "execution_count": 74,
      "metadata": {},
      "outputs": [
        {
          "output_type": "execute_result",
          "data": {
            "text/plain": "            mol_name  mol_act  \\\n0      CHEMBL2263120   0.7200   \n1      CHEMBL2263121   3.3100   \n2          CHEMBL168   5.0501   \n3       CHEMBL508831   0.5400   \n4       CHEMBL506556   0.6200   \n..               ...      ...   \n495  CHEMBL276376(1)   0.1600   \n496     CHEMBL210965   0.0790   \n497     CHEMBL209304   0.1300   \n498     CHEMBL211990   0.1600   \n499    CHEMBL9252(1)   0.0690   \n\n                                                mol_fp  mol_cost  \n0    [0, 0, 1, 0, 0, 0, 1, 0, 1, 1, 0, 0, 0, 0, 0, ...  1154.395  \n1    [0, 0, 0, 0, 0, 0, 1, 1, 1, 0, 1, 0, 0, 0, 0, ...    86.605  \n2    [0, 0, 0, 0, 0, 0, 1, 0, 1, 1, 0, 0, 0, 0, 0, ...    15.200  \n3    [0, 0, 0, 0, 0, 0, 1, 0, 1, 1, 0, 0, 0, 0, 0, ...  1382.065  \n4    [0, 0, 0, 0, 0, 0, 1, 0, 1, 1, 0, 0, 0, 0, 1, ...  1275.805  \n..                                                 ...       ...  \n495  [1, 0, 0, 0, 0, 0, 0, 0, 1, 0, 0, 0, 0, 0, 0, ...  2020.970  \n496  [1, 0, 1, 1, 1, 1, 0, 0, 1, 0, 0, 1, 0, 1, 1, ...  2191.480  \n497  [1, 0, 1, 1, 1, 1, 1, 0, 1, 0, 0, 1, 0, 1, 1, ...  2082.515  \n498  [1, 0, 1, 1, 1, 1, 0, 0, 1, 0, 0, 1, 0, 1, 1, ...  2020.970  \n499  [1, 1, 1, 1, 1, 1, 1, 0, 0, 0, 0, 0, 0, 1, 0, ...  2213.505  \n\n[500 rows x 4 columns]",
            "text/html": "<div>\n<style scoped>\n    .dataframe tbody tr th:only-of-type {\n        vertical-align: middle;\n    }\n\n    .dataframe tbody tr th {\n        vertical-align: top;\n    }\n\n    .dataframe thead th {\n        text-align: right;\n    }\n</style>\n<table border=\"1\" class=\"dataframe\">\n  <thead>\n    <tr style=\"text-align: right;\">\n      <th></th>\n      <th>mol_name</th>\n      <th>mol_act</th>\n      <th>mol_fp</th>\n      <th>mol_cost</th>\n    </tr>\n  </thead>\n  <tbody>\n    <tr>\n      <th>0</th>\n      <td>CHEMBL2263120</td>\n      <td>0.7200</td>\n      <td>[0, 0, 1, 0, 0, 0, 1, 0, 1, 1, 0, 0, 0, 0, 0, ...</td>\n      <td>1154.395</td>\n    </tr>\n    <tr>\n      <th>1</th>\n      <td>CHEMBL2263121</td>\n      <td>3.3100</td>\n      <td>[0, 0, 0, 0, 0, 0, 1, 1, 1, 0, 1, 0, 0, 0, 0, ...</td>\n      <td>86.605</td>\n    </tr>\n    <tr>\n      <th>2</th>\n      <td>CHEMBL168</td>\n      <td>5.0501</td>\n      <td>[0, 0, 0, 0, 0, 0, 1, 0, 1, 1, 0, 0, 0, 0, 0, ...</td>\n      <td>15.200</td>\n    </tr>\n    <tr>\n      <th>3</th>\n      <td>CHEMBL508831</td>\n      <td>0.5400</td>\n      <td>[0, 0, 0, 0, 0, 0, 1, 0, 1, 1, 0, 0, 0, 0, 0, ...</td>\n      <td>1382.065</td>\n    </tr>\n    <tr>\n      <th>4</th>\n      <td>CHEMBL506556</td>\n      <td>0.6200</td>\n      <td>[0, 0, 0, 0, 0, 0, 1, 0, 1, 1, 0, 0, 0, 0, 1, ...</td>\n      <td>1275.805</td>\n    </tr>\n    <tr>\n      <th>...</th>\n      <td>...</td>\n      <td>...</td>\n      <td>...</td>\n      <td>...</td>\n    </tr>\n    <tr>\n      <th>495</th>\n      <td>CHEMBL276376(1)</td>\n      <td>0.1600</td>\n      <td>[1, 0, 0, 0, 0, 0, 0, 0, 1, 0, 0, 0, 0, 0, 0, ...</td>\n      <td>2020.970</td>\n    </tr>\n    <tr>\n      <th>496</th>\n      <td>CHEMBL210965</td>\n      <td>0.0790</td>\n      <td>[1, 0, 1, 1, 1, 1, 0, 0, 1, 0, 0, 1, 0, 1, 1, ...</td>\n      <td>2191.480</td>\n    </tr>\n    <tr>\n      <th>497</th>\n      <td>CHEMBL209304</td>\n      <td>0.1300</td>\n      <td>[1, 0, 1, 1, 1, 1, 1, 0, 1, 0, 0, 1, 0, 1, 1, ...</td>\n      <td>2082.515</td>\n    </tr>\n    <tr>\n      <th>498</th>\n      <td>CHEMBL211990</td>\n      <td>0.1600</td>\n      <td>[1, 0, 1, 1, 1, 1, 0, 0, 1, 0, 0, 1, 0, 1, 1, ...</td>\n      <td>2020.970</td>\n    </tr>\n    <tr>\n      <th>499</th>\n      <td>CHEMBL9252(1)</td>\n      <td>0.0690</td>\n      <td>[1, 1, 1, 1, 1, 1, 1, 0, 0, 0, 0, 0, 0, 1, 0, ...</td>\n      <td>2213.505</td>\n    </tr>\n  </tbody>\n</table>\n<p>500 rows × 4 columns</p>\n</div>"
          },
          "metadata": {},
          "execution_count": 74
        }
      ],
      "source": [
        "df_mol"
      ]
    },
    {
      "cell_type": "code",
      "execution_count": 75,
      "metadata": {},
      "outputs": [],
      "source": [
        "type(df_mol[\"mol_name\"])\n",
        "nx = df_mol.shape[0]\n",
        "#[rd.randint(0,len(df_mol)) for i in range(100)]"
      ]
    },
    {
      "cell_type": "code",
      "execution_count": 76,
      "metadata": {
        "tags": [
          "outputPrepend",
          "outputPrepend",
          "outputPrepend",
          "outputPrepend",
          "outputPrepend",
          "outputPrepend",
          "outputPrepend",
          "outputPrepend",
          "outputPrepend"
        ]
      },
      "outputs": [
        {
          "output_type": "stream",
          "name": "stdout",
          "text": "[[1, 0, 0, 1, 0, 1, 1, 0, 1, 0, 1, 1, 0, 1, 1, 1, 0, 1, 0, 0, 0, 1, 1, 1, 0, 1, 1, 1, 1, 0, 0, 1, 1, 1, 0, 1, 1, 1, 1, 1, 0, 1, 1, 0, 0, 1, 1, 0, 1, 1, 1, 1, 0, 0, 1, 1, 1, 1, 1, 1, 1, 1, 1, 0, 1, 0, 1, 1, 0, 1, 0, 0, 1, 1, 0, 0, 1, 1, 0, 1, 1, 1, 0, 1, 0, 0, 0, 0, 1, 0, 0, 0, 1, 1, 1, 0, 1, 1, 1, 1, 1, 1, 1, 1, 1, 0, 0, 1, 0, 1, 1, 1, 0, 1, 1, 0, 0, 1, 1, 0, 0, 1, 0, 1, 1, 1, 1, 1, 1, 0, 1, 1, 0, 0, 1, 1, 1, 1, 1, 1, 1, 1, 1, 1, 1, 1, 1, 0, 1, 0, 1, 1, 1, 0, 1, 1, 1, 0, 1, 0, 1, 0, 0, 1, 0, 1, 1, 1, 1, 0, 1, 0, 1, 1, 1, 1, 0, 1, 0, 1, 1, 1, 1, 0, 1, 0, 1, 1, 1, 1, 1, 0, 1, 0, 0, 1, 1, 1, 1, 0, 0, 1, 1, 0, 0, 0, 1, 1, 1, 1, 1, 1, 1, 0, 1, 0, 1, 1, 0, 1, 0, 0, 0, 1, 0, 1, 1, 1, 0, 1, 1, 1, 1, 1, 1, 0, 1, 1, 0, 1, 0, 1, 1, 1, 1, 1, 0, 1, 0, 0, 1, 1, 1, 1, 0, 1, 1, 1, 1, 1, 1, 1, 0, 0, 0, 1, 0, 0, 1, 1, 1, 1, 0, 1, 0, 1, 1, 0, 0, 0, 1, 0, 1, 0, 0, 1, 0, 1, 1, 0, 1, 0, 1, 1, 1, 1, 1, 1, 0, 0, 0, 1, 1, 1, 1, 0, 1, 0, 0, 1, 1, 1, 0, 0, 1, 1, 1, 1, 0, 0, 1, 0, 1, 1, 1, 1, 1, 1, 1, 0, 0, 1, 1, 0, 0, 1, 1, 0, 0, 0, 1, 1, 0, 1, 0, 1, 1, 1, 0, 0, 1, 1, 0, 1, 0, 0, 0, 1, 1, 1, 1, 1, 0, 0, 1, 1, 1, 0, 1, 0, 1, 1, 1, 0, 1, 1, 1, 0, 0, 0, 1, 1, 1, 1, 1, 0, 1, 1, 1, 0, 1, 0, 0, 0, 0, 0, 1, 0, 1, 1, 1, 0, 0, 0, 0, 1, 1, 1, 1, 0, 1, 1, 1, 0, 0, 0, 0, 1, 1, 1, 1, 1, 1, 0, 1, 1, 1, 0, 0, 0, 1, 1, 1, 1, 0, 1, 1, 0, 0, 1, 1, 1, 0, 0, 1, 1, 0, 1, 1, 1, 0, 1, 1, 1, 1, 1, 1, 1, 1, 1, 1, 1, 0, 0, 1, 1, 0, 0, 0, 1, 1, 1, 0, 1, 0, 0, 0, 0, 1, 1, 0, 1, 0, 1, 1, 1, 1, 1, 0, 1, 0, 1, 1, 0, 1, 0, 1, 1, 1, 1], 2.0789628749999998, 0.3319725594550775]\n"
        }
      ],
      "source": [
        "\n",
        "def initPopulation(nPortfolio,dfMol=df_mol):\n",
        "    molName = dfMol[\"mol_name\"].tolist()\n",
        "    #print(len(molName))\n",
        "    molAct = dfMol[\"mol_act\"].tolist()\n",
        "    molFp = dfMol[\"mol_fp\"].tolist()\n",
        "    #print(molFp)\n",
        "    population = []\n",
        "    \n",
        "    nSubset = dfMol.shape[0]\n",
        "    #print(nPortfolio)\n",
        "\n",
        "    for i in range(nPortfolio) :\n",
        "        randIndividu = [rd.randint(0,len(df_mol)-1) for i in range(nSubset-1)]\n",
        "        molNameList = []\n",
        "        for j in randIndividu :\n",
        "            molNameList.append(molName[j])\n",
        "        individu = molNameList\n",
        "        bInd = bundleIndividu(individu)\n",
        "        #print(bInd)\n",
        "        #bitString = bInd[0]\n",
        "        population.append(bInd)\n",
        "    return population\n",
        "        \n",
        "\n",
        "population=((initPopulation(10)))\n",
        "print((population[2]))"
      ]
    },
    {
      "cell_type": "markdown",
      "metadata": {},
      "source": [
        "#### Generate Offspring ( crossover and mutation )"
      ]
    },
    {
      "cell_type": "code",
      "execution_count": 77,
      "metadata": {},
      "outputs": [
        {
          "output_type": "stream",
          "name": "stdout",
          "text": "20\n"
        }
      ],
      "source": [
        "def generateOffspring(population,dfMol = df_mol) :\n",
        "    sizeOfPop = len(population)\n",
        "    def parent(population=population, sizeOfPop = sizeOfPop):\n",
        "        #sizeOfPop = len(population[0])\n",
        "        parent1 = population[rd.randint(0,sizeOfPop-1)]\n",
        "        parent2 = population[rd.randint(0,sizeOfPop-1)]\n",
        "        return [parent1,parent2]\n",
        "\n",
        "    def crossover(parent,pCo = 0.5) :\n",
        "        randCo = rd.random()\n",
        "        #print(randCo)\n",
        "        parent1,parent2 = parent\n",
        "        nPoint = 0.5\n",
        "        barier =(math.floor(len(population[0])*nPoint))\n",
        "\n",
        "        if randCo > pCo :\n",
        "            offspring1 = parent1[:barier]+parent2[barier:]\n",
        "            offspring2 = parent2[:barier]+parent1[barier:]\n",
        "        else :\n",
        "            offspring1 = parent1[:barier]+parent2[barier:]\n",
        "            offspring2 = parent2[:barier]+parent1[barier:]\n",
        "\n",
        "        return [offspring1,offspring2]\n",
        "\n",
        "   # Flip mutation \n",
        "    def mutation(offSpring,pMut = 0.2) :\n",
        "        randMut = rd.uniform(0,1)\n",
        "        #print(randMut)\n",
        "        newOffspring = []\n",
        "        if randMut > pMut :\n",
        "            for bit in offSpring :\n",
        "                if bit == 1 :\n",
        "                    newBit = 1\n",
        "                else :\n",
        "                    newBit = 0\n",
        "                newOffspring.append(newBit)\n",
        "            offSpring = newOffspring\n",
        "        return offSpring\n",
        "\n",
        "\n",
        "\n",
        "    \n",
        "    # Start Generate\n",
        "    solution = []\n",
        "    while(len(solution) < 2*sizeOfPop):\n",
        "        parents = parent()\n",
        "        #print(parents)\n",
        "        offSpring = crossover(parents)\n",
        "        for x in offSpring :\n",
        "            solution.append(bundleIndividu(mutation(x),dfMol))\n",
        "    return solution\n",
        "\n",
        "print(len(generateOffspring(population)))\n"
      ]
    },
    {
      "cell_type": "code",
      "execution_count": 78,
      "metadata": {},
      "outputs": [],
      "source": [
        "def fast_non_dominated_sort(values1, values2):\n",
        "    S=[[] for i in range(0,len(values1))]\n",
        "    front = [[]]\n",
        "    n=[0 for i in range(0,len(values1))]\n",
        "    rank = [0 for i in range(0, len(values1))]\n",
        "\n",
        "    for p in range(0,len(values1)):\n",
        "        S[p]=[]\n",
        "        n[p]=0\n",
        "        for q in range(0, len(values1)):\n",
        "            if (values1[p] > values1[q] and values2[p] > values2[q]) or (values1[p] >= values1[q] and values2[p] > values2[q]) or (values1[p] > values1[q] and values2[p] >= values2[q]):\n",
        "                if q not in S[p]:\n",
        "                    S[p].append(q)\n",
        "            elif (values1[q] > values1[p] and values2[q] > values2[p]) or (values1[q] >= values1[p] and values2[q] > values2[p]) or (values1[q] > values1[p] and values2[q] >= values2[p]):\n",
        "                n[p] = n[p] + 1\n",
        "        if n[p]==0:\n",
        "            rank[p] = 0\n",
        "            if p not in front[0]:\n",
        "                front[0].append(p)\n",
        "\n",
        "    i = 0\n",
        "    while(front[i] != []):\n",
        "        Q=[]\n",
        "        for p in front[i]:\n",
        "            for q in S[p]:\n",
        "                n[q] =n[q] - 1\n",
        "                if( n[q]==0):\n",
        "                    rank[q]=i+1\n",
        "                    if q not in Q:\n",
        "                        Q.append(q)\n",
        "        i = i+1\n",
        "        front.append(Q)\n",
        "\n",
        "    del front[len(front)-1]\n",
        "    return front\n",
        "\n"
      ]
    },
    {
      "cell_type": "code",
      "execution_count": 79,
      "metadata": {},
      "outputs": [],
      "source": [
        "def unpackInd(population) :\n",
        "    fMaxObj1 = []\n",
        "    fMaxObj2 = []\n",
        "    solution = []\n",
        "    for idx,individu in enumerate(population) :\n",
        "        #print(idx)\n",
        "        solution.append(individu[0])\n",
        "        fMaxObj1.append(individu[1]) # Probabilitas Kesuksesan\n",
        "        fMaxObj2.append(individu[2]) # Diversity   \n",
        "    return [solution,fMaxObj1,fMaxObj2]"
      ]
    },
    {
      "cell_type": "code",
      "execution_count": 80,
      "metadata": {},
      "outputs": [],
      "source": [
        "#fast_non_dominated_sort(fMaxObj1,fMaxObj2)"
      ]
    },
    {
      "cell_type": "code",
      "execution_count": 81,
      "metadata": {},
      "outputs": [],
      "source": [
        "import math\n",
        "def sort_by_values(list1, values):\n",
        "    sorted_list = []\n",
        "    while(len(sorted_list)!=len(list1)):\n",
        "        if index_of(min(values),values) in list1:\n",
        "            sorted_list.append(index_of(min(values),values))\n",
        "        values[index_of(min(values),values)] = math.inf\n",
        "    return sorted_list\n"
      ]
    },
    {
      "cell_type": "code",
      "execution_count": 82,
      "metadata": {},
      "outputs": [],
      "source": [
        "def crowding_distance(values1, values2, front):\n",
        "    distance = [0 for i in range(0,len(front))]\n",
        "    #print(distance)\n",
        "    print(values2)\n",
        "    sorted1 = sort_by_values(front, values1[:])\n",
        "    print(\"sorted1\",sorted1)\n",
        "    sorted2 = sort_by_values(front, values2[:])\n",
        "    \n",
        "    distance[0] = 4444444444444444\n",
        "    distance[len(front) - 1] = 4444444444444444\n",
        "    for k in range(1,len(front)-1):\n",
        "        print(\"k=\",k)\n",
        "        distance[k] = distance[k]+ (values1[sorted1[k+1]] - values2[sorted1[k-1]])/(max(values1)-min(values1))\n",
        "    for k in range(1,len(front)-1):\n",
        "        distance[k] = distance[k]+ (values1[sorted2[k+1]] - values2[sorted2[k-1]])/(max(values2)-min(values2))\n",
        "    return distance"
      ]
    },
    {
      "cell_type": "code",
      "execution_count": 83,
      "metadata": {},
      "outputs": [],
      "source": [
        "def index_of(a,list):\n",
        "    for i in range(0,len(list)):\n",
        "        if list[i] == a:\n",
        "            return i\n",
        "    return -1"
      ]
    },
    {
      "cell_type": "markdown",
      "metadata": {},
      "source": [
        "### Coba NSGA"
      ]
    },
    {
      "cell_type": "code",
      "execution_count": 87,
      "metadata": {
        "tags": [
          "outputPrepend",
          "outputPrepend",
          "outputPrepend",
          "outputPrepend",
          "outputPrepend",
          "outputPrepend",
          "outputPrepend",
          "outputPrepend",
          "outputPrepend",
          "outputPrepend"
        ]
      },
      "outputs": [
        {
          "output_type": "stream",
          "name": "stdout",
          "text": "[0, 1, 3, 4]\n0\n[0.33132342225620687, 0.3295107211657516, 0.3328654983304843, 0.3357281258948895, 0.3341457549698863, 0.32928669516191633, 0.3303596486675395, 0.32714041565243945, 0.3320727466293108, 0.3272168618949739]\nsorted1 [3, 4, 0, 1]\nk= 1\nk= 2\n1\n[0.33132342225620687, 0.3295107211657516, 0.3328654983304843, 0.3357281258948895, 0.3341457549698863, 0.32928669516191633, 0.3303596486675395, 0.32714041565243945, 0.3320727466293108, 0.3272168618949739]\nsorted1 [2, 8, 5]\nk= 1\n2\n[0.33132342225620687, 0.3295107211657516, 0.3328654983304843, 0.3357281258948895, 0.3341457549698863, 0.32928669516191633, 0.3303596486675395, 0.32714041565243945, 0.3320727466293108, 0.3272168618949739]\nsorted1 [6, 9]\n3\n[0.33132342225620687, 0.3295107211657516, 0.3328654983304843, 0.3357281258948895, 0.3341457549698863, 0.32928669516191633, 0.3303596486675395, 0.32714041565243945, 0.3320727466293108, 0.3272168618949739]\nsorted1 [7]\n"
        }
      ],
      "source": [
        "maxGen = 1\n",
        "gen_0 = 0\n",
        "nPortfolio = 10 # banyaknya individu dalam satu populasi\n",
        "\n",
        "population = initPopulation(nPortfolio)\n",
        "\n",
        "for gen in range(maxGen) :\n",
        "    bitPopulation = unpackInd(population)[0]\n",
        "    fObj1 = unpackInd(population)[1]\n",
        "    fObj2 = unpackInd(population)[2]\n",
        "    #nonDominatedSorted = fast_non_dominated_sort(fObj1,fObj2)\n",
        "\n",
        "    # generate Offspring\n",
        "\n",
        "    offsprings = generateOffspring(bitPopulation)\n",
        "    \n",
        "    # Non Dominating\n",
        "\n",
        "    fObj1 = unpackInd(population)[1]\n",
        "    fObj2 = unpackInd(population)[2]\n",
        "    #print(unpackInd(population))\n",
        "    #print(population[0])\n",
        "    nonDominatedSorted = fast_non_dominated_sort(fObj1,fObj2)\n",
        "\n",
        "    # crowding distance\n",
        "    print(nonDominatedSorted[0][:])\n",
        "    crowdingDistance = []\n",
        "    for i in range(len(nonDominatedSorted)) :\n",
        "        print(i)\n",
        "        crowdingDistance.append(crowding_distance(fObj1,fObj2,nonDominatedSorted[i]))"
      ]
    },
    {
      "cell_type": "code",
      "metadata": {
        "id": "_i899fUEv37-",
        "colab_type": "code",
        "colab": {}
      },
      "source": [
        "# Inisialisasi Individu\n",
        "\n",
        "def initialization_individu() :\n",
        "    for i in range(sum_of_subset):\n",
        "        random = rd.randint(0,len(df_mol))\n",
        "        while random in subset_row:\n",
        "            random = rd.randint(0,len(df_mol))\n",
        "        subset_row.append(random)\n",
        "#subset_row = rd.sample(df_mol.values,10)\n",
        "df\n",
        "list_subset = []\n",
        "for i in (df_mol).index :\n",
        "    if i in subset_row:\n",
        "        is_subset = 1\n",
        "    else :\n",
        "        is_subset = 0\n",
        "    list_subset.append(is_subset)\n",
        "print(list_subset)"
      ],
      "execution_count": 85,
      "outputs": [
        {
          "output_type": "error",
          "ename": "NameError",
          "evalue": "name 'subset_row' is not defined",
          "traceback": [
            "\u001b[1;31m---------------------------------------------------------------------------\u001b[0m",
            "\u001b[1;31mNameError\u001b[0m                                 Traceback (most recent call last)",
            "\u001b[1;32m<ipython-input-85-86a503b50625>\u001b[0m in \u001b[0;36m<module>\u001b[1;34m\u001b[0m\n\u001b[0;32m     11\u001b[0m \u001b[0mlist_subset\u001b[0m \u001b[1;33m=\u001b[0m \u001b[1;33m[\u001b[0m\u001b[1;33m]\u001b[0m\u001b[1;33m\u001b[0m\u001b[1;33m\u001b[0m\u001b[0m\n\u001b[0;32m     12\u001b[0m \u001b[1;32mfor\u001b[0m \u001b[0mi\u001b[0m \u001b[1;32min\u001b[0m \u001b[1;33m(\u001b[0m\u001b[0mdf_mol\u001b[0m\u001b[1;33m)\u001b[0m\u001b[1;33m.\u001b[0m\u001b[0mindex\u001b[0m \u001b[1;33m:\u001b[0m\u001b[1;33m\u001b[0m\u001b[1;33m\u001b[0m\u001b[0m\n\u001b[1;32m---> 13\u001b[1;33m     \u001b[1;32mif\u001b[0m \u001b[0mi\u001b[0m \u001b[1;32min\u001b[0m \u001b[0msubset_row\u001b[0m\u001b[1;33m:\u001b[0m\u001b[1;33m\u001b[0m\u001b[1;33m\u001b[0m\u001b[0m\n\u001b[0m\u001b[0;32m     14\u001b[0m         \u001b[0mis_subset\u001b[0m \u001b[1;33m=\u001b[0m \u001b[1;36m1\u001b[0m\u001b[1;33m\u001b[0m\u001b[1;33m\u001b[0m\u001b[0m\n\u001b[0;32m     15\u001b[0m     \u001b[1;32melse\u001b[0m \u001b[1;33m:\u001b[0m\u001b[1;33m\u001b[0m\u001b[1;33m\u001b[0m\u001b[0m\n",
            "\u001b[1;31mNameError\u001b[0m: name 'subset_row' is not defined"
          ]
        }
      ]
    },
    {
      "cell_type": "code",
      "execution_count": null,
      "metadata": {},
      "outputs": [],
      "source": []
    },
    {
      "cell_type": "code",
      "execution_count": null,
      "metadata": {
        "tags": [
          "outputPrepend",
          "outputPrepend",
          "outputPrepend"
        ]
      },
      "outputs": [],
      "source": [
        "\n",
        "#Main program starts here\n",
        "pop_size = 7 # ini banyaknya individu dalam 1 populasi (subset kata pak isman mah)\n",
        "max_gen = 100\n",
        "nPortfolio = 6\n",
        "#Initialization\n",
        "min_x=-55\n",
        "max_x=55\n",
        "\n",
        "# Ini kayanya buat bikin solusi individu (0 atau 1)\n",
        "#solution=[round(min_x+(max_x-min_x)*random.random(),3) for i in range(0,pop_size)] # Portofolio \n",
        "#print(\"sol\",solution) # --> [-51.492, -31.654, -47.084, -11.823, 41.043]\n",
        "population = initPopulation(nPortfolio)\n",
        "gen_no=0\n",
        "\n",
        "\n",
        "while(gen_no<max_gen):\n",
        "    function1_values = unpackInd(population)[1] # Kumpulan function 1 dari 1 portofolio\n",
        "    function2_values = unpackInd(population)[2]# Kumpulan function 2 dari 1 portofolio\n",
        "    print(\"f1v\",function1_values) # --> [-2651.4260639999998, -1001.975716, -2216.903056, -139.783329, -1684.5278489999998]\n",
        "    print(\"f2v\",function2_values) # -->  [-2861.3940639999996, -1132.5917159999997, -2409.2390560000003, -191.075329, -1524.355849]\n",
        "    \n",
        "    non_dominated_sorted_solution = fast_non_dominated_sort(function1_values[:],function2_values[:])\n",
        "    print(\"non-dominated\",non_dominated_sorted_solution)\n",
        "    print(\"The best front for Generation number \",gen_no, \" is\")\n",
        "    \"\"\"  \n",
        "    for valuez in non_dominated_sorted_solution[0]:\n",
        "        print(\"valuez\",valuez,solution[valuez],end=\" \")\n",
        "    print(\"\\n\")\n",
        "\n",
        "    crowding_distance_values=[]\n",
        "    \n",
        "    for i in range(0,len(non_dominated_sorted_solution)):\n",
        "        crowding_distance_values.append(crowding_distance(function1_values[:],function2_values[:],non_dominated_sorted_solution[i][:]))\n",
        "    \"\"\"\n",
        "    solution2 = solution[:]\n",
        "    \n",
        "    \n",
        "    \n",
        "    # Generating offsprings\n",
        "\n",
        "    offsprings = generateOffspring(population)\n",
        "    \n",
        "    function1_values2 = unpackInd(offsprings)[1]\n",
        "    function2_values2 = unpackInd(offsprings)[2]\n",
        "    non_dominated_sorted_solution2 = fast_non_dominated_sort(function1_values2[:],function2_values2[:])\n",
        "    print(\"non-dominated sorteed =\",non_dominated_sorted_solution2)\n",
        "    \"\"\"\n",
        "        Hasil dari non_domiated_sorted\n",
        "        \n",
        "        From :\n",
        "        [[0, 5], [1], [2], [3, 4], [6], [9], [7], [8]]\n",
        "\n",
        "        to :\n",
        "\n",
        "        [[0, 1, 2, 3, 4], [6], [9], [5], [7], [8]]\n",
        "    \n",
        "    \"\"\"\n",
        "    crowding_distance_values2=[]\n",
        "    \n",
        "    \n",
        "    \n",
        "    for i in range(0,len(non_dominated_sorted_solution2)):\n",
        "        crowding_distance_values2.append(crowding_distance(function1_values2[:],function2_values2[:],non_dominated_sorted_solution2[i][:]))\n",
        "    new_solution= []\n",
        "    \n",
        "    \n",
        "    for i in range(0,len(non_dominated_sorted_solution2)):\n",
        "        non_dominated_sorted_solution2_1 = [index_of(non_dominated_sorted_solution2[i][j],non_dominated_sorted_solution2[i] ) for j in range(0,len(non_dominated_sorted_solution2[i]))]\n",
        "        \n",
        "        front22 = sort_by_values(non_dominated_sorted_solution2_1[:], crowding_distance_values2[i][:])\n",
        "        front = [non_dominated_sorted_solution2[i][front22[j]] for j in range(0,len(non_dominated_sorted_solution2[i]))]\n",
        "        front.reverse()\n",
        "        \n",
        "        print(\"crowding_distance beres\")\n",
        "        for value in front:\n",
        "            new_solution.append(value)\n",
        "            \n",
        "            if(len(new_solution)==pop_size):\n",
        "                break\n",
        "                \n",
        "        if (len(new_solution) == pop_size):\n",
        "            break\n",
        "\n",
        "        print(\"value beres\")\n",
        "\n",
        "            \n",
        "    # update solution\n",
        "    #solution = [solution2[i] for i in new_solution]\n",
        "    gen_no = gen_no + 1"
      ]
    },
    {
      "cell_type": "code",
      "execution_count": null,
      "metadata": {},
      "outputs": [],
      "source": [
        "import matplotlib.pyplot as plt\n",
        "f1 = [i * -1 for i in function1_values]\n",
        "f2 = [j * -1 for j in function2_values]\n",
        "plt.xlabel('Function 1', fontsize=15)\n",
        "plt.ylabel('Function 2', fontsize=15)\n",
        "plt.scatter(f1, f2)\n",
        "plt.show()"
      ]
    },
    {
      "cell_type": "code",
      "execution_count": null,
      "metadata": {},
      "outputs": [],
      "source": [
        "def nonDominatedsorted(p,q) :\n",
        "    \n",
        "    budget = 5000\n",
        "    n_subset = 5\n",
        "\n",
        "    # Fungsi buat Dominance test\n",
        "\n",
        "    def isDominated(p,q): # success !!\n",
        "\n",
        "        fObj1 = {\"p\": p[1], \"q\" : q[1]}\n",
        "        fObj2 = {\"p\": p[2], \"q\" : q[2]}\n",
        "        if fObj1[\"p\"] > fObj1[\"q\"] or fObj2[\"p\"] > fObj2[\"q\"] :\n",
        "            return True\n",
        "        else :\n",
        "            return False\n",
        "    \"\"\"\n",
        "    if isDominated(p,q):\n",
        "        return [[p[1],q[1]],[p[2],q[2]]]\n",
        "    else :\n",
        "        return \"Not uye\"\n",
        "    \"\"\"\n",
        "\n",
        "    # Fungsi buat Inisialisasi individu (Masih Random)\n",
        "\n",
        "    def initialization_individu(df_mol,budget,n_subset) :\n",
        "        i = 0\n",
        "        iteration = 100\n",
        "        calon_individu = df_mol.sample(n_subset)\n",
        "\n",
        "        while(not is_budget_enough(calon_individu,budget)[0]) and i < iteration :\n",
        "            calon_individu = df_mol.sample(n_subset)\n",
        "            i+=1\n",
        "        if is_budget_enough(calon_individu,budget)[0]:\n",
        "            return individu(calon_individu)\n",
        "        else :\n",
        "            return []\n",
        "    \n",
        "    \"\"\" --- Start Non Dominated Sorted --- \"\"\"\n",
        "\n",
        "    Sp = []\n",
        "    np = 0\n",
        "    \n",
        "    # Inisialisasi q\n",
        "\n",
        "    q = initialization_individu(df_mol,budget,n_subset)\n",
        "\n",
        "nonDominatedsorted(ind,ind2) \n",
        "\n"
      ]
    },
    {
      "cell_type": "markdown",
      "metadata": {
        "id": "DvP9RFqKv37u",
        "colab_type": "text"
      },
      "source": [
        "### Try Pymoo"
      ]
    },
    {
      "cell_type": "code",
      "metadata": {
        "id": "RGyRGej4v37v",
        "colab_type": "code",
        "colab": {},
        "tags": [
          "outputPrepend",
          "outputPrepend",
          "outputPrepend",
          "outputPrepend",
          "outputPrepend",
          "outputPrepend",
          "outputPrepend",
          "outputPrepend",
          "outputPrepend",
          "outputPrepend",
          "outputPrepend",
          "outputPrepend",
          "outputPrepend",
          "outputPrepend",
          "outputPrepend",
          "outputPrepend",
          "outputPrepend",
          "outputPrepend",
          "outputPrepend",
          "outputPrepend",
          "outputPrepend",
          "outputPrepend",
          "outputPrepend",
          "outputPrepend",
          "outputPrepend",
          "outputPrepend",
          "outputPrepend",
          "outputPrepend",
          "outputPrepend",
          "outputPrepend",
          "outputPrepend",
          "outputPrepend",
          "outputPrepend",
          "outputPrepend",
          "outputPrepend"
        ]
      },
      "source": [
        "from pymoo.algorithms.nsga2 import NSGA2\n",
        "from pymoo.factory import get_problem, get_sampling, get_crossover, get_mutation\n",
        "from pymoo.optimize import minimize\n",
        "from pymoo.visualization.scatter import Scatter\n",
        "\n",
        "problem = get_problem(\"zdt5\")\n",
        "\n",
        "print(problem)\n",
        "\n",
        "algorithm = NSGA2(pop_size=100,\n",
        "                  sampling=get_sampling(\"bin_random\"),\n",
        "                  crossover=get_crossover(\"bin_two_point\"),\n",
        "                  mutation=get_mutation(\"bin_bitflip\"),\n",
        "                  eliminate_duplicates=True)\n",
        "\n",
        "res = minimize(problem,\n",
        "               algorithm,\n",
        "               ('n_gen', 500),\n",
        "               seed=1,\n",
        "               verbose=True)\n",
        "\n",
        "print(res)\n"
      ],
      "execution_count": null,
      "outputs": []
    },
    {
      "cell_type": "code",
      "metadata": {
        "id": "G8HbYb6nv371",
        "colab_type": "code",
        "colab": {}
      },
      "source": [
        "Scatter().add(res.F).show()"
      ],
      "execution_count": null,
      "outputs": []
    },
    {
      "cell_type": "markdown",
      "metadata": {
        "colab_type": "text",
        "id": "93Y9R84yri4k"
      },
      "source": [
        "## For git (Can't be use yet)\n",
        "\n",
        "file > save a copy in Github"
      ]
    },
    {
      "cell_type": "code",
      "metadata": {
        "colab_type": "code",
        "id": "g830FMTXpZHR",
        "colab": {}
      },
      "source": [
        "#!git init\n",
        "\n",
        "#!git config --global user.name “relfarizi”\n",
        "\n",
        "#!git remote add origin https://github.com/relfarizi/Final_Project.git\n",
        "\n",
        "#!git add .\n",
        "\n",
        "#!git commit -m \"Probability Activity\"\n",
        "\n",
        "#!git push\n",
        "\n",
        "#!git status"
      ],
      "execution_count": null,
      "outputs": []
    },
    {
      "cell_type": "markdown",
      "metadata": {
        "id": "eko3JgJ_v378",
        "colab_type": "text"
      },
      "source": [
        "### lampau"
      ]
    },
    {
      "cell_type": "code",
      "metadata": {
        "id": "IWFLWPYuv378",
        "colab_type": "code",
        "colab": {}
      },
      "source": [
        "subset_row = []\n",
        "sum_of_subset = 10\n",
        "\n",
        "for i in range(sum_of_subset):\n",
        "    random = rd.randint(0,len(df_mol))\n",
        "    while random in subset_row:\n",
        "        random = rd.randint(0,len(df_mol))\n",
        "    subset_row.append(random)\n",
        "    \n",
        "print(subset_row)\n",
        "calon_individu = df_mol.iloc[subset_row,:].values.tolist()\n",
        "calon_individu\n",
        "\n",
        "individu(calon_individu)"
      ],
      "execution_count": null,
      "outputs": []
    }
  ],
  "metadata": {
    "colab": {
      "name": "Final_Project.ipynb",
      "provenance": [],
      "private_outputs": true
    },
    "kernelspec": {
      "display_name": "Python 3",
      "language": "python",
      "name": "python3"
    },
    "language_info": {
      "codemirror_mode": {
        "name": "ipython",
        "version": 3
      },
      "file_extension": ".py",
      "mimetype": "text/x-python",
      "name": "python",
      "nbconvert_exporter": "python",
      "pygments_lexer": "ipython3",
      "version": "3.7.4-final"
    }
  },
  "nbformat": 4,
  "nbformat_minor": 0
}