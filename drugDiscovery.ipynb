{
 "cells": [
  {
   "cell_type": "markdown",
   "metadata": {
    "colab_type": "text",
    "id": "LTqadf5GKMCw"
   },
   "source": [
    "## Import Library"
   ]
  },
  {
   "cell_type": "code",
   "metadata": {
    "colab_type": "code",
    "id": "SIw0TvdNcFQY",
    "colab": {}
   },
   "source": [
    "# Install rdkit\n",
    "\n",
    "def install_rdkit():\n",
    "  !wget -c https://repo.continuum.io/miniconda/Miniconda3-latest-Linux-x86_64.sh\n",
    "  !chmod +x Miniconda3-latest-Linux-x86_64.sh\n",
    "  !time bash ./Miniconda3-latest-Linux-x86_64.sh -b -f -p /usr/local\n",
    "  !time conda install -q -y -c conda-forge rdkit\n",
    "\n",
    "# install_rdkit()"
   ],
   "execution_count": 1,
   "outputs": []
  },
  {
   "cell_type": "code",
   "metadata": {
    "colab_type": "code",
    "id": "IePXvtoVkn3q",
    "colab": {}
   },
   "source": [
    "# Data\n",
    "\n",
    "#from google.colab import files\n",
    "import pandas as pd\n",
    "import numpy as np\n",
    "import regex as re\n",
    "\n",
    "# rdkit\n",
    "import sys\n",
    "#sys.path.append('/usr/local/lib/python3.7/site-packages/')\n",
    "from rdkit import Chem\n",
    "from rdkit.Chem import DataStructs\n",
    "\n",
    "# random\n",
    "import random as rd\n",
    "\n",
    "import math"
   ],
   "execution_count": 2,
   "outputs": [
    {
     "output_type": "stream",
     "name": "stderr",
     "text": "RDKit WARNING: [21:54:55] Enabling RDKit 2019.09.1 jupyter extensions\n"
    }
   ]
  },
  {
   "cell_type": "markdown",
   "metadata": {
    "colab_type": "text",
    "id": "HMV8zmkwk9_z"
   },
   "source": [
    "## Data"
   ]
  },
  {
   "cell_type": "markdown",
   "metadata": {
    "colab_type": "text",
    "id": "MpX9zUAt82Tr"
   },
   "source": [
    "### Pre-Processing Data"
   ]
  },
  {
   "cell_type": "code",
   "metadata": {
    "colab_type": "code",
    "id": "OzqDxFp0kCaT",
    "colab": {},
    "tags": [
     "outputPrepend"
    ]
   },
   "source": [
    "def preprocessing_data(link_of_data) :\n",
    "  dataset = pd.read_csv(link_of_data,sep=\";\")\n",
    "  dataset = dataset.iloc[:,[0,7,9,10,11]]\n",
    "\n",
    "  sameMol = []\n",
    "  sameMolCount = {}\n",
    "  dataset_handle = []\n",
    "\n",
    "  for x in dataset.values:\n",
    "    mol_name = x[0]\n",
    "    if mol_name in sameMol:\n",
    "      print(\"uye\")\n",
    "      x[0] = mol_name+\"(\"+str(sameMolCount[mol_name])+\")\"\n",
    "      sameMolCount[mol_name] += 1\n",
    "    else:\n",
    "      sameMol.append(x[0])\n",
    "      sameMolCount[mol_name] = 1\n",
    "    dataset_handle.append(x)\n",
    "\n",
    "  #print(dataset_handle)\n",
    "    \n",
    "  list_of_column_dataframe = dataset.columns\n",
    "  list_of_dataset_after = []\n",
    "\n",
    "  list_of_dataset_before = np.array(dataset_handle)\n",
    "  \n",
    "  for data in list_of_dataset_before :\n",
    "    if data[2] == \"'='\" :\n",
    "      if data[4] == \"nM\" :\n",
    "        if data[3] < 10000 :\n",
    "          data[3] = data[3]/1000\n",
    "          list_of_dataset_after.append(data)\n",
    "  \n",
    "  dataframe_of_dataset_after = pd.DataFrame(list_of_dataset_after)\n",
    "  dataframe_of_dataset_after.columns = list_of_column_dataframe\n",
    "  name_of_file_download = \"Dataset_After.csv\"\n",
    "  dataframe_of_dataset_after.to_csv(name_of_file_download)\n",
    "  #files.download(name_of_file_download)\n",
    "  return dataframe_of_dataset_after\n",
    "\n",
    "\n"
   ],
   "execution_count": 3,
   "outputs": []
  },
  {
   "cell_type": "code",
   "metadata": {
    "colab_type": "code",
    "id": "W47O-_Df2HU-",
    "colab": {},
    "tags": [
     "outputPrepend",
     "outputPrepend"
    ]
   },
   "source": [
    "#preprocessing_data(\"https://raw.githubusercontent.com/relfarizi/Final_Project/master/Data/Dataset_Before.csv\")"
   ],
   "execution_count": 4,
   "outputs": []
  },
  {
   "cell_type": "markdown",
   "metadata": {
    "colab_type": "text",
    "id": "n_V57Wl-9BWQ"
   },
   "source": [
    "### Data After Pre-Processing"
   ]
  },
  {
   "cell_type": "code",
   "metadata": {
    "colab_type": "code",
    "id": "RA5IvTTn2pNb",
    "scrolled": true,
    "colab": {}
   },
   "source": [
    "# for colab\n",
    "\n",
    "#dataset = pd.read_csv('https://raw.githubusercontent.com/relfarizi/Final_Project/master/Data/Dataset_After.csv', index_col= 0)\n",
    "\n",
    "\n",
    "dataset = pd.read_csv('Dataset_After.csv',index_col = 0)\n",
    "dataset.head(5)"
   ],
   "execution_count": 5,
   "outputs": [
    {
     "output_type": "execute_result",
     "data": {
      "text/plain": "  Molecule ChEMBL ID                                             Smiles  \\\n0      CHEMBL2263120  CC1(C)CC[C@]2(C(=O)OCCCCCCCCCCC(=O)O)CC[C@]3(C...   \n1      CHEMBL2263121  CC1(C)CC[C@]2(C(=O)NC(Cc3ccccc3)C(=O)O)CC[C@]3...   \n2          CHEMBL168  CC1(C)CC[C@]2(C(=O)O)CC[C@]3(C)C(=CC[C@@H]4[C@...   \n3       CHEMBL508831  CC1(C)CC[C@]2(C(=O)O)CC[C@]3(C)C(=CC[C@@H]4[C@...   \n4       CHEMBL506556  CC1(C)CC[C@]2(C(=O)O)CC[C@]3(C)C(=CC[C@@H]4[C@...   \n\n  Standard Relation  Standard Value Standard Units  \n0               '='          0.7200             nM  \n1               '='          3.3100             nM  \n2               '='          5.0501             nM  \n3               '='          0.5400             nM  \n4               '='          0.6200             nM  ",
      "text/html": "<div>\n<style scoped>\n    .dataframe tbody tr th:only-of-type {\n        vertical-align: middle;\n    }\n\n    .dataframe tbody tr th {\n        vertical-align: top;\n    }\n\n    .dataframe thead th {\n        text-align: right;\n    }\n</style>\n<table border=\"1\" class=\"dataframe\">\n  <thead>\n    <tr style=\"text-align: right;\">\n      <th></th>\n      <th>Molecule ChEMBL ID</th>\n      <th>Smiles</th>\n      <th>Standard Relation</th>\n      <th>Standard Value</th>\n      <th>Standard Units</th>\n    </tr>\n  </thead>\n  <tbody>\n    <tr>\n      <th>0</th>\n      <td>CHEMBL2263120</td>\n      <td>CC1(C)CC[C@]2(C(=O)OCCCCCCCCCCC(=O)O)CC[C@]3(C...</td>\n      <td>'='</td>\n      <td>0.7200</td>\n      <td>nM</td>\n    </tr>\n    <tr>\n      <th>1</th>\n      <td>CHEMBL2263121</td>\n      <td>CC1(C)CC[C@]2(C(=O)NC(Cc3ccccc3)C(=O)O)CC[C@]3...</td>\n      <td>'='</td>\n      <td>3.3100</td>\n      <td>nM</td>\n    </tr>\n    <tr>\n      <th>2</th>\n      <td>CHEMBL168</td>\n      <td>CC1(C)CC[C@]2(C(=O)O)CC[C@]3(C)C(=CC[C@@H]4[C@...</td>\n      <td>'='</td>\n      <td>5.0501</td>\n      <td>nM</td>\n    </tr>\n    <tr>\n      <th>3</th>\n      <td>CHEMBL508831</td>\n      <td>CC1(C)CC[C@]2(C(=O)O)CC[C@]3(C)C(=CC[C@@H]4[C@...</td>\n      <td>'='</td>\n      <td>0.5400</td>\n      <td>nM</td>\n    </tr>\n    <tr>\n      <th>4</th>\n      <td>CHEMBL506556</td>\n      <td>CC1(C)CC[C@]2(C(=O)O)CC[C@]3(C)C(=CC[C@@H]4[C@...</td>\n      <td>'='</td>\n      <td>0.6200</td>\n      <td>nM</td>\n    </tr>\n  </tbody>\n</table>\n</div>"
     },
     "metadata": {},
     "execution_count": 5
    }
   ]
  },
  {
   "cell_type": "code",
   "metadata": {
    "colab_type": "code",
    "id": "hmjrEPcEgMFh",
    "colab": {}
   },
   "source": [
    "#dataset = dataset.drop_duplicates(keep=False,inplace=True)\n",
    "dataset = dataset.dropna()\n",
    "mol_smiles = dataset.iloc[:,1].values.tolist()\n",
    "row_drop = []\n",
    "for i in range(len(mol_smiles)) :\n",
    "  #print(mol_smiles[i])\n",
    "  if len(str(mol_smiles[i])) < 5 :\n",
    "    row_drop.append(i)\n",
    "print(row_drop)\n",
    "dataset.drop(row_drop)\n",
    "#dataset = dataset.iloc[:500,:]"
   ],
   "execution_count": 6,
   "outputs": [
    {
     "output_type": "stream",
     "name": "stdout",
     "text": "[]\n"
    },
    {
     "output_type": "execute_result",
     "data": {
      "text/plain": "     Molecule ChEMBL ID                                             Smiles  \\\n0         CHEMBL2263120  CC1(C)CC[C@]2(C(=O)OCCCCCCCCCCC(=O)O)CC[C@]3(C...   \n1         CHEMBL2263121  CC1(C)CC[C@]2(C(=O)NC(Cc3ccccc3)C(=O)O)CC[C@]3...   \n2             CHEMBL168  CC1(C)CC[C@]2(C(=O)O)CC[C@]3(C)C(=CC[C@@H]4[C@...   \n3          CHEMBL508831  CC1(C)CC[C@]2(C(=O)O)CC[C@]3(C)C(=CC[C@@H]4[C@...   \n4          CHEMBL506556  CC1(C)CC[C@]2(C(=O)O)CC[C@]3(C)C(=CC[C@@H]4[C@...   \n...                 ...                                                ...   \n1855      CHEMBL1782241  CC(C)=CCC/C(C)=C/Cc1c(O)c(CC=C(C)C)c(O)c2c(=O)...   \n1856       CHEMBL323197  COc1c(O)cc2oc3cc(O)c(CC=C(C)C)c(O)c3c(=O)c2c1C...   \n1857      CHEMBL4071698            CCCc1cc(O)cc(OC(=O)c2c(O)cc(O)cc2CCC)c1   \n1858      CHEMBL3770020                            CCCc1cc(O)cc(O)c1C(=O)O   \n1859      CHEMBL4278170          FC(F)(F)Sc1ccc(CNCc2ccc(SC(F)(F)F)cc2)cc1   \n\n     Standard Relation  Standard Value Standard Units  \n0                  '='          0.7200             nM  \n1                  '='          3.3100             nM  \n2                  '='          5.0501             nM  \n3                  '='          0.5400             nM  \n4                  '='          0.6200             nM  \n...                ...             ...            ...  \n1855               '='          5.2000             nM  \n1856               '='          5.5000             nM  \n1857               '='          0.7200             nM  \n1858               '='          1.5800             nM  \n1859               '='          0.7000             nM  \n\n[1852 rows x 5 columns]",
      "text/html": "<div>\n<style scoped>\n    .dataframe tbody tr th:only-of-type {\n        vertical-align: middle;\n    }\n\n    .dataframe tbody tr th {\n        vertical-align: top;\n    }\n\n    .dataframe thead th {\n        text-align: right;\n    }\n</style>\n<table border=\"1\" class=\"dataframe\">\n  <thead>\n    <tr style=\"text-align: right;\">\n      <th></th>\n      <th>Molecule ChEMBL ID</th>\n      <th>Smiles</th>\n      <th>Standard Relation</th>\n      <th>Standard Value</th>\n      <th>Standard Units</th>\n    </tr>\n  </thead>\n  <tbody>\n    <tr>\n      <th>0</th>\n      <td>CHEMBL2263120</td>\n      <td>CC1(C)CC[C@]2(C(=O)OCCCCCCCCCCC(=O)O)CC[C@]3(C...</td>\n      <td>'='</td>\n      <td>0.7200</td>\n      <td>nM</td>\n    </tr>\n    <tr>\n      <th>1</th>\n      <td>CHEMBL2263121</td>\n      <td>CC1(C)CC[C@]2(C(=O)NC(Cc3ccccc3)C(=O)O)CC[C@]3...</td>\n      <td>'='</td>\n      <td>3.3100</td>\n      <td>nM</td>\n    </tr>\n    <tr>\n      <th>2</th>\n      <td>CHEMBL168</td>\n      <td>CC1(C)CC[C@]2(C(=O)O)CC[C@]3(C)C(=CC[C@@H]4[C@...</td>\n      <td>'='</td>\n      <td>5.0501</td>\n      <td>nM</td>\n    </tr>\n    <tr>\n      <th>3</th>\n      <td>CHEMBL508831</td>\n      <td>CC1(C)CC[C@]2(C(=O)O)CC[C@]3(C)C(=CC[C@@H]4[C@...</td>\n      <td>'='</td>\n      <td>0.5400</td>\n      <td>nM</td>\n    </tr>\n    <tr>\n      <th>4</th>\n      <td>CHEMBL506556</td>\n      <td>CC1(C)CC[C@]2(C(=O)O)CC[C@]3(C)C(=CC[C@@H]4[C@...</td>\n      <td>'='</td>\n      <td>0.6200</td>\n      <td>nM</td>\n    </tr>\n    <tr>\n      <th>...</th>\n      <td>...</td>\n      <td>...</td>\n      <td>...</td>\n      <td>...</td>\n      <td>...</td>\n    </tr>\n    <tr>\n      <th>1855</th>\n      <td>CHEMBL1782241</td>\n      <td>CC(C)=CCC/C(C)=C/Cc1c(O)c(CC=C(C)C)c(O)c2c(=O)...</td>\n      <td>'='</td>\n      <td>5.2000</td>\n      <td>nM</td>\n    </tr>\n    <tr>\n      <th>1856</th>\n      <td>CHEMBL323197</td>\n      <td>COc1c(O)cc2oc3cc(O)c(CC=C(C)C)c(O)c3c(=O)c2c1C...</td>\n      <td>'='</td>\n      <td>5.5000</td>\n      <td>nM</td>\n    </tr>\n    <tr>\n      <th>1857</th>\n      <td>CHEMBL4071698</td>\n      <td>CCCc1cc(O)cc(OC(=O)c2c(O)cc(O)cc2CCC)c1</td>\n      <td>'='</td>\n      <td>0.7200</td>\n      <td>nM</td>\n    </tr>\n    <tr>\n      <th>1858</th>\n      <td>CHEMBL3770020</td>\n      <td>CCCc1cc(O)cc(O)c1C(=O)O</td>\n      <td>'='</td>\n      <td>1.5800</td>\n      <td>nM</td>\n    </tr>\n    <tr>\n      <th>1859</th>\n      <td>CHEMBL4278170</td>\n      <td>FC(F)(F)Sc1ccc(CNCc2ccc(SC(F)(F)F)cc2)cc1</td>\n      <td>'='</td>\n      <td>0.7000</td>\n      <td>nM</td>\n    </tr>\n  </tbody>\n</table>\n<p>1852 rows × 5 columns</p>\n</div>"
     },
     "metadata": {},
     "execution_count": 6
    }
   ]
  },
  {
   "cell_type": "code",
   "execution_count": 7,
   "metadata": {},
   "outputs": [],
   "source": [
    "#dataset.to_csv(\"Dataset.csv\")"
   ]
  },
  {
   "cell_type": "markdown",
   "metadata": {
    "colab_type": "text",
    "id": "jr6v-7v0j-JM"
   },
   "source": [
    "## Probability Activity"
   ]
  },
  {
   "cell_type": "markdown",
   "metadata": {
    "colab_type": "text",
    "id": "Ppj_X-CZ720j"
   },
   "source": [
    "### 1. Molecule Activity\n",
    "Untuk mencari jumlah dari nilai aktivitas masing2 molekul\n",
    "\n",
    "variabel yang digunakan :\n",
    "* mol_name = list nama molekul\n",
    "* mol_smile = list smile molekul\n",
    "* mol_act = list berisi nilai IC50\n",
    "* act = nilai aktivitas tiap molekul\n",
    "* sum_act = Nilai jumlah dari a"
   ]
  },
  {
   "cell_type": "code",
   "metadata": {
    "colab_type": "code",
    "id": "cIMuhWGr7zlj",
    "colab": {}
   },
   "source": [
    "mol_name = dataset.iloc[:,0].values.tolist()\n",
    "mol_smiles = dataset.iloc[:,1].values.tolist()\n",
    "mol_act = dataset.iloc[:,3].values.tolist()\n",
    "sum_act = 0\n",
    "for molekul in mol_act :\n",
    "  act = np.exp(-molekul)\n",
    "  sum_act  += act\n",
    "print(sum_act)"
   ],
   "execution_count": 8,
   "outputs": [
    {
     "output_type": "stream",
     "name": "stdout",
     "text": "616.3006027743246\n"
    }
   ]
  },
  {
   "cell_type": "markdown",
   "metadata": {
    "colab_type": "text",
    "id": "iYqPm_bI8VZ1"
   },
   "source": [
    "### 2. Probability Succes\n",
    "\n",
    "\n",
    "Mencari nilai probabilitas kesuksesan untuk setiap molekul\n",
    "\n",
    "Variabel yang digunakan :\n",
    "* n = banyaknya molekul\n",
    "* mol_prob = list probabilitas setiap molekul\n",
    "* act = nilai aktivitas molekul\n",
    "* prob = nilai probabilitas kesuksesan molekul\n",
    "* sum_pro = nilai jumlah dari Probabiliras Kesuksesan\n",
    "\n",
    "\n"
   ]
  },
  {
   "cell_type": "code",
   "metadata": {
    "colab_type": "code",
    "id": "J9ISKgMpljNb",
    "colab": {}
   },
   "source": [
    "n = len(mol_act)\n",
    "#p_avg = 1/n\n",
    "mol_prob = []\n",
    "\n",
    "# act = probabilitas kesuksesan\n",
    "\n",
    "sum_pro = 0\n",
    "for molekul in mol_act :\n",
    "  #act = (molekul[1]*p_avg*n)/sum_act\n",
    "  act = np.exp(-molekul)\n",
    "  prob = act/sum_act\n",
    "  prob = round(prob,8)\n",
    "  mol_prob.append(prob)\n",
    "  sum_pro += prob\n",
    "print(sum_pro)\n"
   ],
   "execution_count": 9,
   "outputs": [
    {
     "output_type": "stream",
     "name": "stdout",
     "text": "0.9999999799999977\n"
    }
   ]
  },
  {
   "cell_type": "markdown",
   "metadata": {
    "id": "NH1drdfpv36v",
    "colab_type": "text"
   },
   "source": [
    "## Cost (Trial)\n",
    "\n",
    "Menentukan cost dari setiap molekul. cell ini baru coba di-generate hanya dengan mengalikan dengan sum_of_cost dengan probability kesuksesannya. sehingga nilai probabilitas terbesar diasumsikan memiliki cost yang besar pula"
   ]
  },
  {
   "cell_type": "code",
   "metadata": {
    "id": "l-3pPCk9v36x",
    "colab_type": "code",
    "colab": {}
   },
   "source": [
    "sum_of_cost = 500000\n",
    "mol_cost = []\n",
    "sum_cost = 0\n",
    "for mol in mol_prob:\n",
    "    cost = mol*sum_of_cost\n",
    "    mol_cost.append(round(cost,4))\n",
    "    sum_cost += cost\n",
    "print(sum_cost)"
   ],
   "execution_count": 10,
   "outputs": [
    {
     "output_type": "stream",
     "name": "stdout",
     "text": "499999.99000000075\n"
    }
   ]
  },
  {
   "cell_type": "markdown",
   "metadata": {
    "colab_type": "text",
    "id": "3enxBzZ33Hn1"
   },
   "source": [
    "## Fingerprint\n",
    "\n",
    "berisi bit biner dari sifat yang menggambarkan suatu molekul (baca lagi)\n",
    "\n",
    "Variabel yang digunakan :\n",
    "* fingerprint suatu molekul (dalam bit biner)\n",
    "* mol_fp = list dari fingerprint setiap molekul\n"
   ]
  },
  {
   "cell_type": "code",
   "metadata": {
    "colab_type": "code",
    "id": "w9iB6gWO3PAo",
    "colab": {},
    "tags": [
     "outputPrepend"
    ]
   },
   "source": [
    "mol_fp = []\n",
    "for molekul in mol_smiles :\n",
    "  smiles = Chem.MolFromSmiles(str(molekul))\n",
    "  fp = Chem.RDKFingerprint(smiles)\n",
    "  mol_fp.append(fp)"
   ],
   "execution_count": 11,
   "outputs": []
  },
  {
   "cell_type": "markdown",
   "metadata": {
    "colab_type": "text",
    "id": "zzqnv1Ri-UO6"
   },
   "source": [
    "## To DataFrame"
   ]
  },
  {
   "cell_type": "code",
   "metadata": {
    "colab_type": "code",
    "id": "zsyu8ksX-UqX",
    "colab": {}
   },
   "source": [
    "#df_mol = pd.DataFrame.from_dict(mol_act_dict, orient='index')\n",
    "#df_mol.columns = [\"IC50\",\"Molecule Activity\", \"Probability Activity\"]\n",
    "#df_mol.sort_values(by=[\"IC50\"], ascending=False)\n",
    "#mol_name = pd.Series(mol_name)\n",
    "#mol_act = pd.Series(mol_act)\n",
    "#df_mol = pd.concat(mol_name,mol_act)\n",
    "#print(len(mol_name))\n",
    "#print(len(mol_smiles))\n",
    "#print(len(mol_fp))\n",
    "#print(len(mol_act))\n",
    "#print(len(mol_prob))\n",
    "\n",
    "df = pd.DataFrame({'mol_name':mol_name,\n",
    "                       'mol_smiles' : mol_smiles,\n",
    "                       'mol_act':mol_act,\n",
    "                       'mol_fp' : mol_fp,\n",
    "                       'mol_prob' : mol_prob,\n",
    "                       'mol_cost' : mol_cost\n",
    "                       })\n",
    "\n",
    "df.head()"
   ],
   "execution_count": 12,
   "outputs": [
    {
     "output_type": "execute_result",
     "data": {
      "text/plain": "        mol_name                                         mol_smiles  mol_act  \\\n0  CHEMBL2263120  CC1(C)CC[C@]2(C(=O)OCCCCCCCCCCC(=O)O)CC[C@]3(C...   0.7200   \n1  CHEMBL2263121  CC1(C)CC[C@]2(C(=O)NC(Cc3ccccc3)C(=O)O)CC[C@]3...   3.3100   \n2      CHEMBL168  CC1(C)CC[C@]2(C(=O)O)CC[C@]3(C)C(=CC[C@@H]4[C@...   5.0501   \n3   CHEMBL508831  CC1(C)CC[C@]2(C(=O)O)CC[C@]3(C)C(=CC[C@@H]4[C@...   0.5400   \n4   CHEMBL506556  CC1(C)CC[C@]2(C(=O)O)CC[C@]3(C)C(=CC[C@@H]4[C@...   0.6200   \n\n                                              mol_fp  mol_prob  mol_cost  \n0  [0, 0, 1, 0, 0, 0, 1, 0, 1, 1, 0, 0, 0, 0, 0, ...  0.000790   394.900  \n1  [0, 0, 0, 0, 0, 0, 1, 1, 1, 0, 1, 0, 0, 0, 0, ...  0.000059    29.625  \n2  [0, 0, 0, 0, 0, 0, 1, 0, 1, 1, 0, 0, 0, 0, 0, ...  0.000010     5.200  \n3  [0, 0, 0, 0, 0, 0, 1, 0, 1, 1, 0, 0, 0, 0, 0, ...  0.000946   472.780  \n4  [0, 0, 0, 0, 0, 0, 1, 0, 1, 1, 0, 0, 0, 0, 1, ...  0.000873   436.430  ",
      "text/html": "<div>\n<style scoped>\n    .dataframe tbody tr th:only-of-type {\n        vertical-align: middle;\n    }\n\n    .dataframe tbody tr th {\n        vertical-align: top;\n    }\n\n    .dataframe thead th {\n        text-align: right;\n    }\n</style>\n<table border=\"1\" class=\"dataframe\">\n  <thead>\n    <tr style=\"text-align: right;\">\n      <th></th>\n      <th>mol_name</th>\n      <th>mol_smiles</th>\n      <th>mol_act</th>\n      <th>mol_fp</th>\n      <th>mol_prob</th>\n      <th>mol_cost</th>\n    </tr>\n  </thead>\n  <tbody>\n    <tr>\n      <th>0</th>\n      <td>CHEMBL2263120</td>\n      <td>CC1(C)CC[C@]2(C(=O)OCCCCCCCCCCC(=O)O)CC[C@]3(C...</td>\n      <td>0.7200</td>\n      <td>[0, 0, 1, 0, 0, 0, 1, 0, 1, 1, 0, 0, 0, 0, 0, ...</td>\n      <td>0.000790</td>\n      <td>394.900</td>\n    </tr>\n    <tr>\n      <th>1</th>\n      <td>CHEMBL2263121</td>\n      <td>CC1(C)CC[C@]2(C(=O)NC(Cc3ccccc3)C(=O)O)CC[C@]3...</td>\n      <td>3.3100</td>\n      <td>[0, 0, 0, 0, 0, 0, 1, 1, 1, 0, 1, 0, 0, 0, 0, ...</td>\n      <td>0.000059</td>\n      <td>29.625</td>\n    </tr>\n    <tr>\n      <th>2</th>\n      <td>CHEMBL168</td>\n      <td>CC1(C)CC[C@]2(C(=O)O)CC[C@]3(C)C(=CC[C@@H]4[C@...</td>\n      <td>5.0501</td>\n      <td>[0, 0, 0, 0, 0, 0, 1, 0, 1, 1, 0, 0, 0, 0, 0, ...</td>\n      <td>0.000010</td>\n      <td>5.200</td>\n    </tr>\n    <tr>\n      <th>3</th>\n      <td>CHEMBL508831</td>\n      <td>CC1(C)CC[C@]2(C(=O)O)CC[C@]3(C)C(=CC[C@@H]4[C@...</td>\n      <td>0.5400</td>\n      <td>[0, 0, 0, 0, 0, 0, 1, 0, 1, 1, 0, 0, 0, 0, 0, ...</td>\n      <td>0.000946</td>\n      <td>472.780</td>\n    </tr>\n    <tr>\n      <th>4</th>\n      <td>CHEMBL506556</td>\n      <td>CC1(C)CC[C@]2(C(=O)O)CC[C@]3(C)C(=CC[C@@H]4[C@...</td>\n      <td>0.6200</td>\n      <td>[0, 0, 0, 0, 0, 0, 1, 0, 1, 1, 0, 0, 0, 0, 1, ...</td>\n      <td>0.000873</td>\n      <td>436.430</td>\n    </tr>\n  </tbody>\n</table>\n</div>"
     },
     "metadata": {},
     "execution_count": 12
    }
   ]
  },
  {
   "cell_type": "code",
   "metadata": {
    "id": "vRWCXOctv37L",
    "colab_type": "code",
    "colab": {}
   },
   "source": [
    "df_mol = df.iloc[:,[0,2,3,5]]\n",
    "df_mol"
   ],
   "execution_count": 13,
   "outputs": [
    {
     "output_type": "execute_result",
     "data": {
      "text/plain": "           mol_name  mol_act  \\\n0     CHEMBL2263120   0.7200   \n1     CHEMBL2263121   3.3100   \n2         CHEMBL168   5.0501   \n3      CHEMBL508831   0.5400   \n4      CHEMBL506556   0.6200   \n...             ...      ...   \n1847  CHEMBL1782241   5.2000   \n1848   CHEMBL323197   5.5000   \n1849  CHEMBL4071698   0.7200   \n1850  CHEMBL3770020   1.5800   \n1851  CHEMBL4278170   0.7000   \n\n                                                 mol_fp  mol_cost  \n0     [0, 0, 1, 0, 0, 0, 1, 0, 1, 1, 0, 0, 0, 0, 0, ...   394.900  \n1     [0, 0, 0, 0, 0, 0, 1, 1, 1, 0, 1, 0, 0, 0, 0, ...    29.625  \n2     [0, 0, 0, 0, 0, 0, 1, 0, 1, 1, 0, 0, 0, 0, 0, ...     5.200  \n3     [0, 0, 0, 0, 0, 0, 1, 0, 1, 1, 0, 0, 0, 0, 0, ...   472.780  \n4     [0, 0, 0, 0, 0, 0, 1, 0, 1, 1, 0, 0, 0, 0, 1, ...   436.430  \n...                                                 ...       ...  \n1847  [0, 1, 0, 0, 0, 0, 1, 1, 1, 0, 0, 0, 0, 1, 0, ...     4.475  \n1848  [1, 1, 0, 0, 0, 1, 1, 1, 1, 0, 0, 0, 1, 1, 0, ...     3.315  \n1849  [1, 0, 0, 0, 0, 1, 1, 0, 0, 0, 1, 0, 0, 0, 0, ...   394.900  \n1850  [1, 0, 0, 0, 0, 1, 1, 0, 0, 0, 1, 0, 0, 0, 0, ...   167.105  \n1851  [0, 0, 0, 0, 0, 1, 0, 0, 0, 0, 1, 0, 0, 1, 0, ...   402.875  \n\n[1852 rows x 4 columns]",
      "text/html": "<div>\n<style scoped>\n    .dataframe tbody tr th:only-of-type {\n        vertical-align: middle;\n    }\n\n    .dataframe tbody tr th {\n        vertical-align: top;\n    }\n\n    .dataframe thead th {\n        text-align: right;\n    }\n</style>\n<table border=\"1\" class=\"dataframe\">\n  <thead>\n    <tr style=\"text-align: right;\">\n      <th></th>\n      <th>mol_name</th>\n      <th>mol_act</th>\n      <th>mol_fp</th>\n      <th>mol_cost</th>\n    </tr>\n  </thead>\n  <tbody>\n    <tr>\n      <th>0</th>\n      <td>CHEMBL2263120</td>\n      <td>0.7200</td>\n      <td>[0, 0, 1, 0, 0, 0, 1, 0, 1, 1, 0, 0, 0, 0, 0, ...</td>\n      <td>394.900</td>\n    </tr>\n    <tr>\n      <th>1</th>\n      <td>CHEMBL2263121</td>\n      <td>3.3100</td>\n      <td>[0, 0, 0, 0, 0, 0, 1, 1, 1, 0, 1, 0, 0, 0, 0, ...</td>\n      <td>29.625</td>\n    </tr>\n    <tr>\n      <th>2</th>\n      <td>CHEMBL168</td>\n      <td>5.0501</td>\n      <td>[0, 0, 0, 0, 0, 0, 1, 0, 1, 1, 0, 0, 0, 0, 0, ...</td>\n      <td>5.200</td>\n    </tr>\n    <tr>\n      <th>3</th>\n      <td>CHEMBL508831</td>\n      <td>0.5400</td>\n      <td>[0, 0, 0, 0, 0, 0, 1, 0, 1, 1, 0, 0, 0, 0, 0, ...</td>\n      <td>472.780</td>\n    </tr>\n    <tr>\n      <th>4</th>\n      <td>CHEMBL506556</td>\n      <td>0.6200</td>\n      <td>[0, 0, 0, 0, 0, 0, 1, 0, 1, 1, 0, 0, 0, 0, 1, ...</td>\n      <td>436.430</td>\n    </tr>\n    <tr>\n      <th>...</th>\n      <td>...</td>\n      <td>...</td>\n      <td>...</td>\n      <td>...</td>\n    </tr>\n    <tr>\n      <th>1847</th>\n      <td>CHEMBL1782241</td>\n      <td>5.2000</td>\n      <td>[0, 1, 0, 0, 0, 0, 1, 1, 1, 0, 0, 0, 0, 1, 0, ...</td>\n      <td>4.475</td>\n    </tr>\n    <tr>\n      <th>1848</th>\n      <td>CHEMBL323197</td>\n      <td>5.5000</td>\n      <td>[1, 1, 0, 0, 0, 1, 1, 1, 1, 0, 0, 0, 1, 1, 0, ...</td>\n      <td>3.315</td>\n    </tr>\n    <tr>\n      <th>1849</th>\n      <td>CHEMBL4071698</td>\n      <td>0.7200</td>\n      <td>[1, 0, 0, 0, 0, 1, 1, 0, 0, 0, 1, 0, 0, 0, 0, ...</td>\n      <td>394.900</td>\n    </tr>\n    <tr>\n      <th>1850</th>\n      <td>CHEMBL3770020</td>\n      <td>1.5800</td>\n      <td>[1, 0, 0, 0, 0, 1, 1, 0, 0, 0, 1, 0, 0, 0, 0, ...</td>\n      <td>167.105</td>\n    </tr>\n    <tr>\n      <th>1851</th>\n      <td>CHEMBL4278170</td>\n      <td>0.7000</td>\n      <td>[0, 0, 0, 0, 0, 1, 0, 0, 0, 0, 1, 0, 0, 1, 0, ...</td>\n      <td>402.875</td>\n    </tr>\n  </tbody>\n</table>\n<p>1852 rows × 4 columns</p>\n</div>"
     },
     "metadata": {},
     "execution_count": 13
    }
   ]
  },
  {
   "cell_type": "markdown",
   "metadata": {
    "id": "9_1rELu8v37S",
    "colab_type": "text"
   },
   "source": [
    "## Individu\n",
    "suatu fungsi yang bertujuan untuk me-return dari suatu populasi (kumpulan individu berdasarkan subset yang diberikan). \n",
    "\n",
    "return :\n",
    "* mol_name\n",
    "* rata-rata dari act\n",
    "* rata-rata dari mol_fp\n",
    "\n",
    "cara menyari diversity :\n",
    "\n",
    "dengan menghitung semua similarity antar molekul kemudian hasilnya di rata2kan\n",
    "\n",
    "sebagai contoh :\n",
    "\n",
    "ada 3 (subset) molekul (A,B,C), maka menghitungnya\n",
    "\n",
    "* A -> B\n",
    "* A -> C\n",
    "* B -> C\n",
    "\n",
    "kemudian dirata2kan"
   ]
  },
  {
   "cell_type": "code",
   "execution_count": 14,
   "metadata": {},
   "outputs": [
    {
     "output_type": "stream",
     "name": "stdout",
     "text": "sumDup\n"
    }
   ],
   "source": [
    "dictDup = {}\n",
    "for x in df_mol[\"mol_name\"]:\n",
    "    if x in dictDup.keys() :\n",
    "        dictDup[i] += 1\n",
    "    else :\n",
    "        dictDup[i] = 1\n",
    "print(\"sumDup\")\n",
    "\n",
    "for i in dictDup :\n",
    "    if dictDup[i] > 1 :\n",
    "        print(i,dictDup[i])"
   ]
  },
  {
   "cell_type": "code",
   "execution_count": 90,
   "metadata": {},
   "outputs": [
    {
     "output_type": "execute_result",
     "data": {
      "text/plain": "False"
     },
     "metadata": {},
     "execution_count": 90
    }
   ],
   "source": [
    "# checked\n",
    "\n",
    "\n",
    "def isDupInd(individu,population,dfMol = df_mol) :\n",
    "    same = False\n",
    "    molName = dfMol[\"mol_name\"]\n",
    "    molNameList = []\n",
    "    for gen in individu :\n",
    "        molNameList.append(gen)\n",
    "    individu = molNameList\n",
    "    sizeList = len(individu)\n",
    "    #print(sizeList)\n",
    "    count = 0\n",
    "    for ind in population :\n",
    "        ind = ind[0]\n",
    "        for gen in individu :\n",
    "            if gen in ind :\n",
    "                count += 1\n",
    "        \n",
    "        if count == sizeList :\n",
    "            #print(count)\n",
    "            #print(\"masuk\")\n",
    "            same = True\n",
    "            break\n",
    "        else :\n",
    "            count = 0\n",
    "    return same\n",
    "pop=population[1]\n",
    "#print(pop)\n",
    "pop = ['CHEMBL197884', 'CHEMBL3238195', 'cek', 'CHEMBL208985', 'CHEMBL252710', 'CHEMBL280388', 'CHEMBL9321(1)', 'CHEMBL1783782', 'CHEMBL393682', 'CHEMBL2263121', 'CHEMBL267022', 'CHEMBL57157', 'CHEMBL4214309', 'CHEMBL9070(1)', 'CHEMBL253269', 'CHEMBL1935610', 'CHEMBL515146', 'CHEMBL246454', 'CHEMBL1766712', 'CHEMBL263348', 'CHEMBL4067159', 'CHEMBL578429', 'CHEMBL1085070(1)', 'CHEMBL3238201', 'CHEMBL4288744', 'CHEMBL52290', 'CHEMBL2263121(1)', 'CHEMBL1164828', 'CHEMBL1240534', 'CHEMBL169(22)', 'CHEMBL565795', 'CHEMBL1242552', 'CHEMBL2436037', 'CHEMBL2262830(1)', 'CHEMBL2263114', 'CHEMBL1086226', 'CHEMBL210837', 'CHEMBL2436032', 'CHEMBL1650892', 'CHEMBL266753(1)', 'CHEMBL190535', 'CHEMBL395156', 'CHEMBL3219582', 'CHEMBL1779053', 'CHEMBL445491', 'CHEMBL451520', 'CHEMBL3758490', 'CHEMBL1086228(1)', 'CHEMBL300119', 'CHEMBL4069413', 'CHEMBL2262832(1)', 'CHEMBL1163827', 'CHEMBL437964(2)', 'CHEMBL1778902', 'CHEMBL2424711(1)', 'CHEMBL1163236', 'CHEMBL557450', 'CHEMBL7152', 'CHEMBL3310429', 'CHEMBL3786595', 'CHEMBL24843(1)', 'CHEMBL25558', 'CHEMBL211369(1)', 'CHEMBL1086230', 'CHEMBL4066472', 'CHEMBL4095230', 'CHEMBL371929', 'CHEMBL426373', 'CHEMBL523885', 'CHEMBL1778901', 'CHEMBL323712', 'CHEMBL2087688', 'CHEMBL403117', 'CHEMBL4086351', 'CHEMBL1823960', 'CHEMBL2349151', 'CHEMBL279242', 'CHEMBL298849', 'CHEMBL1778913', 'CHEMBL246870', 'CHEMBL2424709(1)', 'CHEMBL370584', 'CHEMBL24141', 'CHEMBL57036', 'CHEMBL377905', 'CHEMBL83179', 'CHEMBL403746', 'CHEMBL25628', 'CHEMBL3098944', 'CHEMBL169(2)', 'CHEMBL2087690', 'CHEMBL110642', 'CHEMBL506260', 'CHEMBL2373418', 'CHEMBL1242736', 'CHEMBL378992', 'CHEMBL3633139', 'CHEMBL2208256', 'CHEMBL117869(1)', 'CHEMBL2205521']\n",
    "#print(pop)\n",
    "#print(population[0])\n",
    "isDupInd(pop,population)"
   ]
  },
  {
   "cell_type": "code",
   "metadata": {
    "colab_type": "code",
    "id": "GYPOqUS0drKW",
    "colab": {}
   },
   "source": [
    "n_subset = 5\n",
    "\n",
    "def bundleIndividu(individu,dfMol = df_mol):\n",
    "    #subset = np.array(subset.values.tolist())\n",
    "    #print((individu))\n",
    "    molName = dfMol[\"mol_name\"].tolist()\n",
    "    molAct = dfMol[\"mol_act\"].tolist()\n",
    "    molFp = dfMol[\"mol_fp\"].tolist()\n",
    "    #print(mol_name)\n",
    "    #print(mol_act)\n",
    "    #print(mol_fp[1])\n",
    "\n",
    "    #cek duplicate\n",
    "    \"\"\"\n",
    "    sumDup = 0\n",
    "    listDup = []\n",
    "    dictDup = {}\n",
    "    for i in individu :\n",
    "        if i in dictDup.keys() :\n",
    "            dictDup[i] += 1\n",
    "        else :\n",
    "            dictDup[i] = 1\n",
    "    print(\"sumDup\")\n",
    "    \n",
    "\n",
    "    for i in dictDup :\n",
    "        if dictDup[i] > 1 :\n",
    "            print(i,dictDup[i])\n",
    "    \"\"\"\n",
    "    bitString = []\n",
    "    sumBit = 0\n",
    "    #print(\"ind\",(individu))\n",
    "    for mol in molName:\n",
    "        #print(\"mol\",mol)\n",
    "        if mol in individu :\n",
    "            bit = 1\n",
    "            sumBit+=1\n",
    "        else :\n",
    "            bit = 0\n",
    "        bitString.append(bit)\n",
    "    #print(\"bitstring\" ,sumBit)\n",
    "    fp_list = []\n",
    "    n = len(molName)\n",
    "\n",
    "    def fObjective(individu = individu,dfMol = df_mol) :\n",
    "    \n",
    "        def fObj1(individu = individu,dfMol = dfMol) :\n",
    "            act = []\n",
    "            for idx,x in enumerate(molName) :\n",
    "                if x  in individu :\n",
    "                    act.append(dfMol[\"mol_act\"][idx])\n",
    "            #print(np.mean(act))\n",
    "            return np.mean(act)\n",
    "        \n",
    "        def fObj2(individu = individu, dfMol = dfMol) :\n",
    "            fpList = []\n",
    "            \n",
    "            #print(n)\n",
    "            molFp = []\n",
    "            \n",
    "            for idx,x in enumerate(molName) :\n",
    "                if x in individu :\n",
    "                    molFp.append(dfMol[\"mol_fp\"][idx])\n",
    "            n = len(molFp)\n",
    "            for i in range(n):\n",
    "                for j in range(n):\n",
    "                    if i > j :\n",
    "                        tmpFp = DataStructs.FingerprintSimilarity(molFp[i],molFp[j])\n",
    "                        fpList.append(tmpFp)\n",
    "            #print(\"fplist\",fpList)\n",
    "            return 1/(np.mean(fpList))\n",
    "\n",
    "        return fObj1(), fObj2()\n",
    "\n",
    "    fObj1,fObj2 = fObjective()\n",
    "    \n",
    "    if [individu,fObj1,fObj2] is not None :\n",
    "        return [individu,fObj1,fObj2]\n",
    "    else :\n",
    "        return []\n",
    "#print(bundleIndividu(population[0][0]))\n"
   ],
   "execution_count": 16,
   "outputs": []
  },
  {
   "cell_type": "markdown",
   "metadata": {
    "id": "P7Roz7DLv37k",
    "colab_type": "text"
   },
   "source": [
    "### NSGA-II"
   ]
  },
  {
   "cell_type": "markdown",
   "metadata": {
    "pycharm": {
     "name": "#%% md\n"
    }
   },
   "source": [
    "## Inisialisasi populasi bit string"
   ]
  },
  {
   "cell_type": "code",
   "execution_count": 80,
   "metadata": {
    "tags": [
     "outputPrepend",
     "outputPrepend",
     "outputPrepend",
     "outputPrepend",
     "outputPrepend",
     "outputPrepend",
     "outputPrepend",
     "outputPrepend",
     "outputPrepend"
    ],
    "pycharm": {
     "name": "#%%\n"
    }
   },
   "outputs": [
    {
     "output_type": "stream",
     "name": "stdout",
     "text": "100\n"
    }
   ],
   "source": [
    "\n",
    "def initPopulation(nPortfolio,nGen,dfMol=df_mol):\n",
    "    def initIndividu(dfMol = df_mol,nGen=nGen):\n",
    "        randIndividu = []\n",
    "        while(len(randIndividu) < nGen) :\n",
    "            gen = rd.randint(0,len(dfMol)-1)\n",
    "            if gen not in randIndividu:\n",
    "                randIndividu.append(gen)\n",
    "        return randIndividu\n",
    "\n",
    "    molName = dfMol[\"mol_name\"].tolist()\n",
    "    #print(len(molName))\n",
    "    molAct = dfMol[\"mol_act\"].tolist()\n",
    "    molFp = dfMol[\"mol_fp\"].tolist()\n",
    "    #print(molFp)\n",
    "    population = []\n",
    "    \n",
    "    nSubset = dfMol.shape[0]\n",
    "    #print(nPortfolio)\n",
    "\n",
    "    for i in range(nPortfolio) :\n",
    "        #randIndividu = [rd.randint(0,len(df_mol)-1) for i in range(nGen)]\n",
    "        #print(len(randIndividu))\n",
    "        randIndividu = initIndividu()\n",
    "\n",
    "        if i > 0 :\n",
    "            while(isDupInd(randIndividu,population)) :\n",
    "                randIndividu = initIndividu()\n",
    "        #print(randIndividu)\n",
    "\n",
    "        molNameList = []\n",
    "        for j in randIndividu :\n",
    "            molNameList.append(molName[j])\n",
    "        #print(len(molNameList))        \n",
    "        individu = molNameList\n",
    "        bInd = bundleIndividu(individu)\n",
    "        #print(bInd)\n",
    "        #bitString = bInd[0]\n",
    "        population.append(bInd)\n",
    "    return population\n",
    "        \n",
    "\n",
    "population=((initPopulation(10,100)))\n",
    "print(len(population[2][0]))"
   ]
  },
  {
   "cell_type": "markdown",
   "metadata": {},
   "source": [
    "## cek duplikat"
   ]
  },
  {
   "cell_type": "code",
   "execution_count": 18,
   "metadata": {},
   "outputs": [
    {
     "output_type": "stream",
     "name": "stdout",
     "text": "individu {2: 3}\n"
    }
   ],
   "source": [
    "def duplicate(individu) :\n",
    "    dupInd = {}\n",
    "    individu = individu[0]\n",
    "    #print(population)\n",
    "    dupMol = {}\n",
    "    for mol in individu :\n",
    "        #print(mol)\n",
    "        if mol in dupMol.keys() :\n",
    "            dupMol[mol] += 1\n",
    "        else :\n",
    "            dupMol[mol] = 1\n",
    "\n",
    "    listDup = {}\n",
    "    for mol in dupMol :\n",
    "        if (dupMol[mol]) > 1 :\n",
    "            listDup[mol] = dupMol[mol]\n",
    "    print(\"individu\", end =\" \")\n",
    "    if len(listDup) > 0 :\n",
    "        print(listDup)\n",
    "    else :\n",
    "        print(\"Non Duplicate\")\n",
    "\n",
    "duplicate([[1,2,2,2],0,0])\n",
    "         \n"
   ]
  },
  {
   "cell_type": "code",
   "execution_count": 20,
   "metadata": {},
   "outputs": [
    {
     "output_type": "stream",
     "name": "stdout",
     "text": "individu Non Duplicate\nindividu Non Duplicate\nindividu Non Duplicate\nindividu Non Duplicate\nindividu Non Duplicate\nindividu Non Duplicate\nindividu Non Duplicate\nindividu Non Duplicate\nindividu Non Duplicate\nindividu Non Duplicate\n"
    }
   ],
   "source": [
    "for ind in population :\n",
    "    duplicate(ind)"
   ]
  },
  {
   "cell_type": "code",
   "execution_count": 22,
   "metadata": {},
   "outputs": [],
   "source": [
    "def unpackInd(population) :\n",
    "    fMaxObj1 = []\n",
    "    fMaxObj2 = []\n",
    "    solution = []\n",
    "    for idx,individu in enumerate(population) :\n",
    "        #print(idx)\n",
    "        solution.append(individu[0])\n",
    "        fMaxObj1.append(individu[1]) # Probabilitas Kesuksesan\n",
    "        fMaxObj2.append(individu[2]) # Diversity   \n",
    "    return [solution,fMaxObj1,fMaxObj2]"
   ]
  },
  {
   "cell_type": "code",
   "execution_count": 23,
   "metadata": {},
   "outputs": [
    {
     "output_type": "execute_result",
     "data": {
      "text/plain": "(0, [])"
     },
     "metadata": {},
     "execution_count": 23
    }
   ],
   "source": [
    "def duplicateInd(population) :\n",
    "    population = unpackInd(population)[0]\n",
    "    def isSame(ind1,ind2):\n",
    "        same = False\n",
    "        sizeList = len(ind1)\n",
    "        count = 0\n",
    "        for i in ind1 :\n",
    "            if i in ind2 :\n",
    "                count += 1\n",
    "        \n",
    "        if count == sizeList:\n",
    "            same = True\n",
    "        return same\n",
    "\n",
    "    count = 0\n",
    "    sameInd = []\n",
    "    for i in range(len(population)) :\n",
    "        for j in range(len(population)) :\n",
    "            if i > j :\n",
    "                if isSame(population[i],population[j]) :\n",
    "                    count+=1\n",
    "                    sameInd.append([population[i],population[j]])\n",
    "    return count,sameInd\n",
    "\n",
    "dupInd = duplicateInd(population)\n",
    "dupInd"
   ]
  },
  {
   "cell_type": "markdown",
   "metadata": {},
   "source": [
    "#### Generate Offspring ( crossover and mutation )"
   ]
  },
  {
   "cell_type": "code",
   "execution_count": 24,
   "metadata": {},
   "outputs": [
    {
     "output_type": "stream",
     "name": "stdout",
     "text": "100\n"
    }
   ],
   "source": [
    "print(len(population[1][0]))"
   ]
  },
  {
   "cell_type": "code",
   "execution_count": 106,
   "metadata": {
    "tags": [
     "outputPrepend",
     "outputPrepend",
     "outputPrepend",
     "outputPrepend",
     "outputPrepend",
     "outputPrepend",
     "outputPrepend"
    ]
   },
   "outputs": [
    {
     "output_type": "execute_result",
     "data": {
      "text/plain": "0"
     },
     "metadata": {},
     "execution_count": 106
    }
   ],
   "source": [
    "def generateOffspring(population,dfMol = df_mol) :\n",
    "    sizeOfPop = len(population)\n",
    "\n",
    "    def duplicateMol(parent) :\n",
    "        parent1,parent2 = parent\n",
    "        dupGen = []\n",
    "        #print(\"par\",len(parent1))\n",
    "        for gen in parent1 :\n",
    "            if gen in parent2 :\n",
    "                dupGen.append(gen)\n",
    "        return dupGen\n",
    "\n",
    "    def generateParent(population=population, sizeOfPop = sizeOfPop):\n",
    "        #sizeOfPop = len(population[0])\n",
    "        parent1 = population[rd.randint(0,sizeOfPop-1)][0]\n",
    "        parent2 = population[rd.randint(0,sizeOfPop-1)][0]\n",
    "        #print(\"parent1\",parent1)\n",
    "        return [parent1,parent2]\n",
    "\n",
    "    def crossover(parent,pCo = 0.5) :\n",
    "       \n",
    "        randCo = rd.random()\n",
    "        #print(randCo)\n",
    "        parents = generateParent()\n",
    "        parent1,parent2 = (parents)\n",
    "        dupMol = ((duplicateMol(parents)))\n",
    "        parent1 = list(set(parent1)-set(dupMol))\n",
    "        parent2 = list(set(parent2)-set(dupMol))\n",
    "        #print(\"parent\",parent1)\n",
    "        #print(parent1)\n",
    "        nGen = len(parent1)\n",
    "        #print(\"nGen\",nGen)\n",
    "        \n",
    "        nPoint = 0.5\n",
    "        #barier =(math.floor(len(population[0])*nPoint))\n",
    "        barier = math.floor(nGen*nPoint) \n",
    "\n",
    "        if randCo < pCo :\n",
    "            offspring1 = parent1[:barier]+parent2[barier:]\n",
    "            offspring2 = parent2[:barier]+parent1[barier:]\n",
    "        else :\n",
    "            offspring1 = parent1\n",
    "            offspring2 = parent2\n",
    "        offspring1 += dupMol\n",
    "        offspring2 += dupMol\n",
    "        #print(\"oofspring\",offspring1)\n",
    "        #print(\"moltobit\",sum(molToBit([offspring1,offspring2])[1]))\n",
    "        return ([offspring1,offspring2])\n",
    "\n",
    "   # Flip mutation \n",
    "    def mutation(individu,pMut = 0.2,pMr = 0.5,dfMol = dfMol) :\n",
    "        randMut = rd.uniform(0,1)\n",
    "        #print(randMut)\n",
    "        newOffspring = []\n",
    "        if randMut > pMut :\n",
    "            newInd = []\n",
    "            molName = [mol for mol in dfMol[\"mol_name\"] if mol not in individu]\n",
    "            for idx,gen in enumerate(individu) :\n",
    "                randRep = rd.uniform(0,1)\n",
    "                if randRep > pMr :\n",
    "                    newMol = rd.choice(molName)\n",
    "                    while(newMol in individu) :\n",
    "                        individu[idx] = rd.choice(molName)\n",
    "            #individu = newInd\n",
    "\n",
    "\n",
    "        return individu\n",
    "\n",
    "\n",
    "\n",
    "    \n",
    "    # Start Generate\n",
    "    solution = []\n",
    "    while(len(solution) < 2*sizeOfPop):\n",
    "        parents = generateParent()\n",
    "        #print(parents)\n",
    "        offSpring = crossover(parents)\n",
    "        for x in offSpring :\n",
    "            if len(solution) > 0 :\n",
    "                #print(\"x\",x)\n",
    "                \n",
    "                if not isDupInd(x,solution) :\n",
    "                    solution.append(bundleIndividu(mutation(x),dfMol))\n",
    "                else :\n",
    "                    continue\n",
    "            else :\n",
    "                 solution.append(bundleIndividu(mutation(x),dfMol))\n",
    "        #print(len(solution))\n",
    "    return solution\n",
    "\n",
    "genOff = ((generateOffspring(population)))\n",
    "dupOff = duplicateInd(genOff)[0]\n",
    "dupOff\n"
   ]
  },
  {
   "cell_type": "code",
   "execution_count": 95,
   "metadata": {
    "pycharm": {
     "name": "#%%\n"
    }
   },
   "outputs": [],
   "source": [
    "def fast_non_dominated_sort(values1, values2):\n",
    "    S=[[] for i in range(0,len(values1))]\n",
    "    front = [[]]\n",
    "    n=[0 for i in range(0,len(values1))]\n",
    "    rank = [0 for i in range(0, len(values1))]\n",
    "\n",
    "    for p in range(0,len(values1)):\n",
    "        S[p]=[]\n",
    "        n[p]=0\n",
    "        for q in range(0, len(values1)):\n",
    "            if (values1[p] > values1[q] and values2[p] > values2[q]) or (values1[p] >= values1[q] and values2[p] > values2[q]) or (values1[p] > values1[q] and values2[p] >= values2[q]):\n",
    "                if q not in S[p]:\n",
    "                    S[p].append(q)\n",
    "            elif (values1[q] > values1[p] and values2[q] > values2[p]) or (values1[q] >= values1[p] and values2[q] > values2[p]) or (values1[q] > values1[p] and values2[q] >= values2[p]):\n",
    "                n[p] = n[p] + 1\n",
    "        if n[p]==0:\n",
    "            rank[p] = 0\n",
    "            if p not in front[0]:\n",
    "                front[0].append(p)\n",
    "\n",
    "    i = 0\n",
    "    while(front[i] != []):\n",
    "        Q=[]\n",
    "        for p in front[i]:\n",
    "            for q in S[p]:\n",
    "                n[q] =n[q] - 1\n",
    "                if( n[q]==0):\n",
    "                    rank[q]=i+1\n",
    "                    if q not in Q:\n",
    "                        Q.append(q)\n",
    "        i = i+1\n",
    "        front.append(Q)\n",
    "\n",
    "    del front[len(front)-1]\n",
    "    return front\n",
    "\n"
   ]
  },
  {
   "cell_type": "code",
   "execution_count": 96,
   "metadata": {},
   "outputs": [],
   "source": [
    "#fast_non_dominated_sort(fMaxObj1,fMaxObj2)"
   ]
  },
  {
   "cell_type": "code",
   "execution_count": 97,
   "metadata": {},
   "outputs": [],
   "source": [
    "import math\n",
    "def sort_by_values(list1, values):\n",
    "    sorted_list = []\n",
    "    while(len(sorted_list)!=len(list1)):\n",
    "        if index_of(min(values),values) in list1:\n",
    "            sorted_list.append(index_of(min(values),values))\n",
    "        values[index_of(min(values),values)] = math.inf\n",
    "    return sorted_list\n"
   ]
  },
  {
   "cell_type": "code",
   "execution_count": 98,
   "outputs": [],
   "source": [
    "def fast_non_dominated_sort(values1, values2):\n",
    "    S=[[] for i in range(0,len(values1))]\n",
    "    front = [[]]\n",
    "    n=[0 for i in range(0,len(values1))]\n",
    "    rank = [0 for i in range(0, len(values1))]\n",
    "\n",
    "    for p in range(0,len(values1)):\n",
    "        S[p]=[]\n",
    "        n[p]=0\n",
    "        for q in range(0, len(values1)):\n",
    "            if (values1[p] > values1[q] and values2[p] > values2[q]) or (values1[p] >= values1[q] and values2[p] > values2[q]) or (values1[p] > values1[q] and values2[p] >= values2[q]):\n",
    "                if q not in S[p]:\n",
    "                    S[p].append(q)\n",
    "            elif (values1[q] > values1[p] and values2[q] > values2[p]) or (values1[q] >= values1[p] and values2[q] > values2[p]) or (values1[q] > values1[p] and values2[q] >= values2[p]):\n",
    "                n[p] = n[p] + 1\n",
    "        if n[p]==0:\n",
    "            rank[p] = 0\n",
    "            if p not in front[0]:\n",
    "                front[0].append(p)\n",
    "\n",
    "    i = 0\n",
    "    while(front[i] != []):\n",
    "        Q=[]\n",
    "        for p in front[i]:\n",
    "            for q in S[p]:\n",
    "                n[q] =n[q] - 1\n",
    "                if( n[q]==0):\n",
    "                    rank[q]=i+1\n",
    "                    if q not in Q:\n",
    "                        Q.append(q)\n",
    "        i = i+1\n",
    "        front.append(Q)\n",
    "\n",
    "    del front[len(front)-1]\n",
    "    return front\n"
   ],
   "metadata": {
    "collapsed": false,
    "pycharm": {
     "name": "#%%\n"
    }
   }
  },
  {
   "cell_type": "code",
   "execution_count": 99,
   "metadata": {},
   "outputs": [],
   "source": [
    "def crowding_distance(values1, values2, front):\n",
    "    distance = [0 for i in range(0,len(front))]\n",
    "    #print(distance)\n",
    "    #print(values2)\n",
    "    sorted1 = sort_by_values(front, values1[:])\n",
    "    #print(\"sorted1\",sorted1)\n",
    "    sorted2 = sort_by_values(front, values2[:])\n",
    "    \n",
    "    distance[0] = math.inf\n",
    "    distance[len(front) - 1] = math.inf\n",
    "    for k in range(1,len(front)-1):\n",
    "        #print(\"k=\",k)\n",
    "        distance[k] = distance[k]+ (values1[sorted1[k+1]] - values2[sorted1[k-1]])/(max(values1)-min(values1))\n",
    "        \n",
    "    for k in range(1,len(front)-1):\n",
    "        distance[k] = distance[k]+ (values1[sorted2[k+1]] - values2[sorted2[k-1]])/(max(values2)-min(values2))\n",
    "    return distance"
   ]
  },
  {
   "cell_type": "code",
   "execution_count": 100,
   "metadata": {},
   "outputs": [],
   "source": [
    "def index_of(a,list):\n",
    "    for i in range(0,len(list)):\n",
    "        if list[i] == a:\n",
    "            return i\n",
    "    return -1"
   ]
  },
  {
   "cell_type": "markdown",
   "metadata": {
    "pycharm": {
     "name": "#%% md\n"
    }
   },
   "source": [
    "### Coba NSGA"
   ]
  },
  {
   "cell_type": "code",
   "execution_count": 101,
   "metadata": {},
   "outputs": [],
   "source": [
    "#ls = cSave\n",
    "\n",
    "def sortByValue(ls) :\n",
    "    sort = sorted((value,index) for index,value in enumerate(ls))\n",
    "    sortLs = []\n",
    "    for x in sort :\n",
    "        sortLs.append((x[1]))\n",
    "    return sortLs\n",
    "#sortByValue(ls)"
   ]
  },
  {
   "cell_type": "code",
   "execution_count": 102,
   "metadata": {
    "pycharm": {
     "name": "#%%\n"
    }
   },
   "outputs": [
    {
     "output_type": "stream",
     "name": "stdout",
     "text": "uye Non Duplicate\n"
    }
   ],
   "source": [
    "def elDup(ls,name) :\n",
    "    dupDict = {}\n",
    "    for x in ls :\n",
    "        if x in dupDict :\n",
    "            dupDict[x] += 1\n",
    "        else :\n",
    "            dupDict[x] = 1\n",
    "    listDupt = {}\n",
    "\n",
    "    for x in dupDict :\n",
    "        if dupDict[x] > 1 :\n",
    "            listDupt[x] = dupDict[x]\n",
    "            \n",
    "    print(name,end=\" \")\n",
    "    if len(listDupt) > 0 :\n",
    "        print(listDupt)\n",
    "    else :\n",
    "        print(\"Non Duplicate\")\n",
    "elDup([1,2,3],\"uye\")"
   ]
  },
  {
   "cell_type": "code",
   "execution_count": 141,
   "metadata": {
    "tags": [
     "outputPrepend",
     "outputPrepend",
     "outputPrepend"
    ]
   },
   "outputs": [
    {
     "output_type": "stream",
     "name": "stdout",
     "text": "gen 0\nfObj1 Non Duplicate\nfront22 Non Duplicate\nfront Non Duplicate\nnew_sol Non Duplicate\ngen 1\nfObj1 Non Duplicate\nfront22 Non Duplicate\nfront Non Duplicate\nnew_sol Non Duplicate\ngen 2\nfObj1 {3.347: 2, 4.2: 2}\nfront22 Non Duplicate\nfront Non Duplicate\nnew_sol Non Duplicate\ngen 3\nfObj1 {4.036: 2}\nfront22 Non Duplicate\nfront Non Duplicate\nnew_sol Non Duplicate\ngen 4\nfObj1 {6.394: 2, 5.922: 2}\nfront22 Non Duplicate\nfront Non Duplicate\nnew_sol Non Duplicate\ngen 5\nfObj1 {5.464: 2, 5.918000000000001: 2}\nfront22 Non Duplicate\nfront Non Duplicate\nnew_sol Non Duplicate\ngen 6\nfObj1 {6.934: 2, 5.644: 2, 5.918000000000001: 2, 5.970000000000001: 2}\nfront22 Non Duplicate\nfront Non Duplicate\nnew_sol Non Duplicate\ngen 7\nfObj1 Non Duplicate\nfront22 Non Duplicate\nfront Non Duplicate\nnew_sol Non Duplicate\ngen 8\nfObj1 {7.194: 2, 8.25: 2, 6.37: 2}\nfront22 Non Duplicate\nfront Non Duplicate\nnew_sol Non Duplicate\ngen 9\nfObj1 {7.234: 2, 7.453999999999999: 2, 8.25: 2}\nfront22 Non Duplicate\nfront Non Duplicate\nnew_sol Non Duplicate\ngen 10\nfObj1 {6.551400000000001: 2, 8.790000000000001: 2, 8.074000000000002: 2, 8.034: 2, 8.25: 2}\nfront22 Non Duplicate\nfront Non Duplicate\nnew_sol Non Duplicate\ngen 11\nfObj1 {7.2174000000000005: 2, 8.790000000000001: 2, 8.25: 2, 9.05: 2, 8.384: 2, 8.074000000000002: 2, 7.75: 2, 7.95: 2}\nfront22 Non Duplicate\nfront Non Duplicate\nnew_sol Non Duplicate\ngen 12\nfObj1 {8.034: 2, 8.384: 2, 8.074000000000002: 2, 6.551400000000001: 2, 8.790000000000001: 2, 7.2174000000000005: 2, 9.05: 2, 8.37: 2, 8.748: 2}\nfront22 Non Duplicate\nfront Non Duplicate\nnew_sol Non Duplicate\ngen 13\nfObj1 {8.748: 2, 8.790000000000001: 2, 9.05: 2, 7.273999999999999: 2, 8.074000000000002: 2, 8.384: 2}\nfront22 Non Duplicate\nfront Non Duplicate\nnew_sol Non Duplicate\ngen 14\nfObj1 {8.37: 2, 9.05: 2, 8.074000000000002: 2, 8.790000000000001: 2, 8.032: 2, 8.398: 2, 7.2174000000000005: 2, 7.624: 2}\nfront22 Non Duplicate\nfront Non Duplicate\nnew_sol Non Duplicate\ngen 15\nfObj1 {8.748: 2, 8.790000000000001: 2, 9.05: 2, 8.032: 2, 8.074000000000002: 2}\nfront22 Non Duplicate\nfront Non Duplicate\nnew_sol Non Duplicate\ngen 16\nfObj1 {9.05: 2, 8.790000000000001: 2, 7.75: 2}\nfront22 Non Duplicate\nfront Non Duplicate\nnew_sol Non Duplicate\ngen 17\nfObj1 {9.05: 2, 8.790000000000001: 2, 7.2174000000000005: 2, 7.732000000000001: 2, 8.748: 2}\nfront22 Non Duplicate\nfront Non Duplicate\nnew_sol Non Duplicate\ngen 18\nfObj1 {8.790000000000001: 2, 9.05: 2, 8.748: 2, 7.532000000000001: 2, 8.55: 2, 8.508: 2}\nfront22 Non Duplicate\nfront Non Duplicate\nnew_sol Non Duplicate\ngen 19\nfObj1 {7.532000000000001: 2, 8.790000000000001: 2, 9.05: 2, 8.124: 2}\nfront22 Non Duplicate\nfront Non Duplicate\nnew_sol Non Duplicate\ngen 20\nfObj1 {9.05: 2, 8.790000000000001: 2, 7.532000000000001: 2, 8.748: 2}\nfront22 Non Duplicate\nfront Non Duplicate\nnew_sol Non Duplicate\ngen 21\nfObj1 {8.790000000000001: 2, 7.532000000000001: 2, 9.05: 2, 8.748: 2, 7.574: 2}\nfront22 Non Duplicate\nfront Non Duplicate\nnew_sol Non Duplicate\ngen 22\nfObj1 {7.532000000000001: 2, 8.384: 2, 9.05: 2, 8.748: 2, 8.790000000000001: 2}\nfront22 Non Duplicate\nfront Non Duplicate\nnew_sol Non Duplicate\ngen 23\nfObj1 {9.05: 2, 8.790000000000001: 2, 7.532000000000001: 2, 8.748: 2}\nfront22 Non Duplicate\nfront Non Duplicate\nnew_sol Non Duplicate\ngen 24\nfObj1 {7.532000000000001: 2, 9.05: 2, 7.574: 2}\nfront22 Non Duplicate\nfront Non Duplicate\nnew_sol Non Duplicate\ngen 25\nfObj1 {9.05: 2, 7.884: 2}\nfront22 Non Duplicate\nfront Non Duplicate\nnew_sol Non Duplicate\ngen 26\nfObj1 {9.05: 2, 8.212: 2, 8.384: 2}\nfront22 Non Duplicate\nfront Non Duplicate\nnew_sol Non Duplicate\ngen 27\nfObj1 {9.05: 2}\nfront22 Non Duplicate\nfront Non Duplicate\nnew_sol Non Duplicate\ngen 28\nfObj1 {9.05: 2, 8.748: 2, 8.384: 2}\nfront22 Non Duplicate\nfront Non Duplicate\nnew_sol Non Duplicate\ngen 29\nfObj1 {9.05: 2, 8.790000000000001: 2}\nfront22 Non Duplicate\nfront Non Duplicate\nnew_sol Non Duplicate\ngen 30\nfObj1 {9.05: 2, 8.790000000000001: 2}\nfront22 Non Duplicate\nfront Non Duplicate\nnew_sol Non Duplicate\ngen 31\nfObj1 {9.05: 2, 8.790000000000001: 2, 8.748: 2}\nfront22 Non Duplicate\nfront Non Duplicate\nnew_sol Non Duplicate\ngen 32\nfObj1 {8.790000000000001: 2, 9.05: 2, 8.748: 2}\nfront22 Non Duplicate\nfront Non Duplicate\nnew_sol Non Duplicate\ngen 33\nfObj1 {8.748: 2, 9.05: 2, 8.790000000000001: 2, 8.384: 2}\nfront22 Non Duplicate\nfront Non Duplicate\nnew_sol Non Duplicate\ngen 34\nfObj1 {8.748: 2, 8.384: 2, 9.05: 2, 8.790000000000001: 2}\nfront22 Non Duplicate\nfront Non Duplicate\nnew_sol Non Duplicate\ngen 35\nfObj1 {8.790000000000001: 2, 9.05: 2}\nfront22 Non Duplicate\nfront Non Duplicate\nnew_sol Non Duplicate\ngen 36\nfObj1 {9.05: 2, 8.790000000000001: 2, 8.748: 2}\nfront22 Non Duplicate\nfront Non Duplicate\nnew_sol Non Duplicate\ngen 37\nfObj1 {8.748: 2, 8.790000000000001: 2, 9.05: 2}\nfront22 Non Duplicate\nfront Non Duplicate\nnew_sol Non Duplicate\ngen 38\nfObj1 {8.748: 2, 8.790000000000001: 2, 9.05: 2}\nfront22 Non Duplicate\nfront Non Duplicate\nnew_sol Non Duplicate\ngen 39\nfObj1 {8.790000000000001: 2, 9.05: 2, 8.748: 2}\nfront22 Non Duplicate\nfront Non Duplicate\nnew_sol Non Duplicate\ngen 40\nfObj1 {8.748: 2, 9.05: 2, 8.790000000000001: 2, 8.124: 2}\nfront22 Non Duplicate\nfront Non Duplicate\nnew_sol Non Duplicate\ngen 41\nfObj1 {9.05: 2, 8.748: 2, 8.790000000000001: 2}\nfront22 Non Duplicate\nfront Non Duplicate\nnew_sol Non Duplicate\ngen 42\nfObj1 {9.05: 2, 8.790000000000001: 2}\nfront22 Non Duplicate\nfront Non Duplicate\nnew_sol Non Duplicate\ngen 43\nfObj1 {9.05: 2, 8.748: 2, 8.790000000000001: 2}\nfront22 Non Duplicate\nfront Non Duplicate\nnew_sol Non Duplicate\ngen 44\nfObj1 {8.748: 2, 8.790000000000001: 2, 9.05: 2}\nfront22 Non Duplicate\nfront Non Duplicate\nnew_sol Non Duplicate\ngen 45\nfObj1 {8.790000000000001: 2, 8.748: 2, 9.05: 2}\nfront22 Non Duplicate\nfront Non Duplicate\nnew_sol Non Duplicate\ngen 46\nfObj1 {8.384: 2, 8.748: 2, 9.05: 2, 8.790000000000001: 2}\nfront22 Non Duplicate\nfront Non Duplicate\nnew_sol Non Duplicate\ngen 47\nfObj1 {9.05: 2, 8.748: 2}\nfront22 Non Duplicate\nfront Non Duplicate\nnew_sol Non Duplicate\ngen 48\nfObj1 {8.748: 2, 9.05: 2}\nfront22 Non Duplicate\nfront Non Duplicate\nnew_sol Non Duplicate\ngen 49\nfObj1 {9.05: 2, 8.212: 2}\nfront22 Non Duplicate\nfront Non Duplicate\nnew_sol Non Duplicate\ngen 50\nfObj1 {8.748: 2, 9.05: 2}\nfront22 Non Duplicate\nfront Non Duplicate\nnew_sol Non Duplicate\ngen 51\nfObj1 {9.05: 2}\nfront22 Non Duplicate\nfront Non Duplicate\nnew_sol Non Duplicate\ngen 52\nfObj1 {8.748: 2, 9.05: 2}\nfront22 Non Duplicate\nfront Non Duplicate\nnew_sol Non Duplicate\ngen 53\nfObj1 {9.05: 2, 8.212: 2}\nfront22 Non Duplicate\nfront Non Duplicate\nnew_sol Non Duplicate\ngen 54\nfObj1 {9.05: 2, 8.748: 2}\nfront22 Non Duplicate\nfront Non Duplicate\nnew_sol Non Duplicate\ngen 55\nfObj1 {9.05: 2}\nfront22 Non Duplicate\nfront Non Duplicate\nnew_sol Non Duplicate\ngen 56\nfObj1 {8.384: 2, 9.05: 2, 8.748: 2}\nfront22 Non Duplicate\nfront Non Duplicate\nnew_sol Non Duplicate\ngen 57\nfObj1 {9.05: 2, 8.212: 2}\nfront22 Non Duplicate\nfront Non Duplicate\nnew_sol Non Duplicate\ngen 58\nfObj1 {8.748: 2, 9.05: 2}\nfront22 Non Duplicate\nfront Non Duplicate\nnew_sol Non Duplicate\ngen 59\nfObj1 {9.05: 2, 8.384: 2}\nfront22 Non Duplicate\nfront Non Duplicate\nnew_sol Non Duplicate\ngen 60\nfObj1 {8.790000000000001: 2, 9.05: 2}\nfront22 Non Duplicate\nfront Non Duplicate\nnew_sol Non Duplicate\ngen 61\nfObj1 {8.748: 2, 9.05: 2, 8.790000000000001: 2, 8.384: 2}\nfront22 Non Duplicate\nfront Non Duplicate\nnew_sol Non Duplicate\ngen 62\nfObj1 {9.05: 2, 8.790000000000001: 2}\nfront22 Non Duplicate\nfront Non Duplicate\nnew_sol Non Duplicate\ngen 63\nfObj1 {9.05: 2, 8.748: 2, 8.384: 2, 8.790000000000001: 2}\nfront22 Non Duplicate\nfront Non Duplicate\nnew_sol Non Duplicate\ngen 64\nfObj1 {8.748: 2, 9.05: 2, 8.790000000000001: 2}\nfront22 Non Duplicate\nfront Non Duplicate\nnew_sol Non Duplicate\ngen 65\nfObj1 {9.05: 2, 8.790000000000001: 2, 8.212: 2}\nfront22 Non Duplicate\nfront Non Duplicate\nnew_sol Non Duplicate\ngen 66\nfObj1 {9.05: 2, 8.790000000000001: 2, 8.748: 2}\nfront22 Non Duplicate\nfront Non Duplicate\nnew_sol Non Duplicate\ngen 67\nfObj1 {9.05: 2, 8.790000000000001: 2, 8.748: 2}\nfront22 Non Duplicate\nfront Non Duplicate\nnew_sol Non Duplicate\ngen 68\nfObj1 {8.790000000000001: 2, 9.05: 2}\nfront22 Non Duplicate\nfront Non Duplicate\nnew_sol Non Duplicate\ngen 69\nfObj1 {9.05: 2, 8.212: 2}\nfront22 Non Duplicate\nfront Non Duplicate\nnew_sol Non Duplicate\ngen 70\nfObj1 {8.790000000000001: 2, 9.05: 2}\nfront22 Non Duplicate\nfront Non Duplicate\nnew_sol Non Duplicate\ngen 71\nfObj1 {8.748: 2, 9.05: 2, 8.790000000000001: 2}\nfront22 Non Duplicate\nfront Non Duplicate\nnew_sol Non Duplicate\ngen 72\nfObj1 {8.748: 2, 9.05: 2, 8.790000000000001: 2}\nfront22 Non Duplicate\nfront Non Duplicate\nnew_sol Non Duplicate\ngen 73\nfObj1 {8.790000000000001: 2, 9.05: 2, 8.384: 2, 8.748: 2}\nfront22 Non Duplicate\nfront Non Duplicate\nnew_sol Non Duplicate\ngen 74\nfObj1 {8.790000000000001: 2, 8.384: 2, 9.05: 2}\nfront22 Non Duplicate\nfront Non Duplicate\nnew_sol Non Duplicate\ngen 75\nfObj1 {8.790000000000001: 2, 8.748: 2, 9.05: 2}\nfront22 Non Duplicate\nfront Non Duplicate\nnew_sol Non Duplicate\ngen 76\nfObj1 {9.05: 2, 8.748: 2, 8.790000000000001: 2}\nfront22 Non Duplicate\nfront Non Duplicate\nnew_sol Non Duplicate\ngen 77\nfObj1 {9.05: 2, 8.384: 2}\nfront22 Non Duplicate\nfront Non Duplicate\nnew_sol Non Duplicate\ngen 78\nfObj1 {9.05: 2}\nfront22 Non Duplicate\nfront Non Duplicate\nnew_sol Non Duplicate\ngen 79\nfObj1 {9.05: 2, 8.384: 2}\nfront22 Non Duplicate\nfront Non Duplicate\nnew_sol Non Duplicate\ngen 80\nfObj1 {9.05: 2, 8.124: 2}\nfront22 Non Duplicate\nfront Non Duplicate\nnew_sol Non Duplicate\ngen 81\nfObj1 {9.05: 2}\nfront22 Non Duplicate\nfront Non Duplicate\nnew_sol Non Duplicate\ngen 82\nfObj1 {9.05: 2, 8.384: 2}\nfront22 Non Duplicate\nfront Non Duplicate\nnew_sol Non Duplicate\ngen 83\nfObj1 {9.05: 2}\nfront22 Non Duplicate\nfront Non Duplicate\nnew_sol Non Duplicate\ngen 84\nfObj1 {8.748: 2, 9.05: 2, 8.384: 2}\nfront22 Non Duplicate\nfront Non Duplicate\nnew_sol Non Duplicate\ngen 85\nfObj1 {9.05: 2}\nfront22 Non Duplicate\nfront Non Duplicate\nnew_sol Non Duplicate\ngen 86\nfObj1 {9.05: 2}\nfront22 Non Duplicate\nfront Non Duplicate\nnew_sol Non Duplicate\ngen 87\nfObj1 {9.05: 2}\nfront22 Non Duplicate\nfront Non Duplicate\nnew_sol Non Duplicate\ngen 88\nfObj1 {9.05: 2}\nfront22 Non Duplicate\nfront Non Duplicate\nnew_sol Non Duplicate\ngen 89\nfObj1 {9.05: 2, 8.790000000000001: 2}\nfront22 Non Duplicate\nfront Non Duplicate\nnew_sol Non Duplicate\ngen 90\nfObj1 {8.748: 2, 9.05: 2, 8.790000000000001: 2}\nfront22 Non Duplicate\nfront Non Duplicate\nnew_sol Non Duplicate\ngen 91\nfObj1 {8.790000000000001: 2, 8.748: 2, 9.05: 2}\nfront22 Non Duplicate\nfront Non Duplicate\nnew_sol Non Duplicate\ngen 92\nfObj1 {8.790000000000001: 2, 9.05: 2}\nfront22 Non Duplicate\nfront Non Duplicate\nnew_sol Non Duplicate\ngen 93\nfObj1 {9.05: 2, 8.790000000000001: 2}\nfront22 Non Duplicate\nfront Non Duplicate\nnew_sol Non Duplicate\ngen 94\nfObj1 {8.384: 2, 8.748: 2, 9.05: 2}\nfront22 Non Duplicate\nfront Non Duplicate\nnew_sol Non Duplicate\ngen 95\nfObj1 {9.05: 2, 8.748: 2}\nfront22 Non Duplicate\nfront Non Duplicate\nnew_sol Non Duplicate\ngen 96\nfObj1 {8.748: 2, 9.05: 2, 8.212: 2, 8.790000000000001: 2}\nfront22 Non Duplicate\nfront Non Duplicate\nnew_sol Non Duplicate\ngen 97\nfObj1 {8.790000000000001: 2, 9.05: 2}\nfront22 Non Duplicate\nfront Non Duplicate\nnew_sol Non Duplicate\ngen 98\nfObj1 {8.790000000000001: 2, 9.05: 2, 8.384: 2}\nfront22 Non Duplicate\nfront Non Duplicate\nnew_sol Non Duplicate\ngen 99\nfObj1 {9.05: 2, 8.748: 2, 8.790000000000001: 2, 8.384: 2}\nfront22 Non Duplicate\nfront Non Duplicate\nnew_sol Non Duplicate\ngen 100\nfObj1 {9.05: 2, 8.790000000000001: 2}\nfront22 Non Duplicate\nfront Non Duplicate\nnew_sol Non Duplicate\ngen 101\nfObj1 {8.790000000000001: 2, 9.05: 2}\nfront22 Non Duplicate\nfront Non Duplicate\nnew_sol Non Duplicate\ngen 102\nfObj1 {8.748: 2, 9.05: 2, 8.384: 2, 8.790000000000001: 2}\nfront22 Non Duplicate\nfront Non Duplicate\nnew_sol Non Duplicate\ngen 103\nfObj1 {8.748: 2, 9.05: 2, 8.790000000000001: 2}\nfront22 Non Duplicate\nfront Non Duplicate\nnew_sol Non Duplicate\ngen 104\nfObj1 {8.384: 2, 9.05: 2, 8.790000000000001: 2}\nfront22 Non Duplicate\nfront Non Duplicate\nnew_sol Non Duplicate\ngen 105\nfObj1 {8.790000000000001: 2, 9.05: 2, 8.384: 2, 8.748: 2}\nfront22 Non Duplicate\nfront Non Duplicate\nnew_sol Non Duplicate\ngen 106\nfObj1 {9.05: 2, 8.790000000000001: 2}\nfront22 Non Duplicate\nfront Non Duplicate\nnew_sol Non Duplicate\ngen 107\nfObj1 {9.05: 2}\nfront22 Non Duplicate\nfront Non Duplicate\nnew_sol Non Duplicate\ngen 108\nfObj1 {9.05: 2, 8.790000000000001: 2, 8.384: 2}\nfront22 Non Duplicate\nfront Non Duplicate\nnew_sol Non Duplicate\ngen 109\nfObj1 {8.384: 2, 9.05: 2}\nfront22 Non Duplicate\nfront Non Duplicate\nnew_sol Non Duplicate\ngen 110\nfObj1 {8.748: 2, 9.05: 2}\nfront22 Non Duplicate\nfront Non Duplicate\nnew_sol Non Duplicate\ngen 111\nfObj1 {9.05: 2}\nfront22 Non Duplicate\nfront Non Duplicate\nnew_sol Non Duplicate\ngen 112\nfObj1 {9.05: 2}\nfront22 Non Duplicate\nfront Non Duplicate\nnew_sol Non Duplicate\ngen 113\nfObj1 {9.05: 2, 8.748: 2}\nfront22 Non Duplicate\nfront Non Duplicate\nnew_sol Non Duplicate\ngen 114\nfObj1 {8.748: 2, 9.05: 2}\nfront22 Non Duplicate\nfront Non Duplicate\nnew_sol Non Duplicate\ngen 115\nfObj1 {8.790000000000001: 2, 9.05: 2}\nfront22 Non Duplicate\nfront Non Duplicate\nnew_sol Non Duplicate\ngen 116\nfObj1 {8.748: 2, 9.05: 2}\nfront22 Non Duplicate\nfront Non Duplicate\nnew_sol Non Duplicate\ngen 117\nfObj1 {9.05: 2, 8.790000000000001: 2, 8.748: 2, 8.212: 2}\nfront22 Non Duplicate\nfront Non Duplicate\nnew_sol Non Duplicate\ngen 118\nfObj1 {8.748: 2, 9.05: 2}\nfront22 Non Duplicate\nfront Non Duplicate\nnew_sol Non Duplicate\ngen 119\nfObj1 {9.05: 2}\nfront22 Non Duplicate\nfront Non Duplicate\nnew_sol Non Duplicate\ngen 120\nfObj1 {9.05: 2, 8.384: 2}\nfront22 Non Duplicate\nfront Non Duplicate\nnew_sol Non Duplicate\ngen 121\nfObj1 {9.05: 2}\nfront22 Non Duplicate\nfront Non Duplicate\nnew_sol Non Duplicate\ngen 122\nfObj1 {8.748: 2, 9.05: 2, 8.384: 2}\nfront22 Non Duplicate\nfront Non Duplicate\nnew_sol Non Duplicate\ngen 123\nfObj1 {9.05: 2}\nfront22 Non Duplicate\nfront Non Duplicate\nnew_sol Non Duplicate\ngen 124\nfObj1 {9.05: 2}\nfront22 Non Duplicate\nfront Non Duplicate\nnew_sol Non Duplicate\ngen 125\nfObj1 {9.05: 2}\nfront22 Non Duplicate\nfront Non Duplicate\nnew_sol Non Duplicate\ngen 126\nfObj1 {9.05: 2, 8.748: 2}\nfront22 Non Duplicate\nfront Non Duplicate\nnew_sol Non Duplicate\ngen 127\nfObj1 {8.790000000000001: 2, 9.05: 2}\nfront22 Non Duplicate\nfront Non Duplicate\nnew_sol Non Duplicate\ngen 128\nfObj1 {9.05: 2, 8.790000000000001: 2}\nfront22 Non Duplicate\nfront Non Duplicate\nnew_sol Non Duplicate\ngen 129\nfObj1 {9.05: 2, 8.790000000000001: 2}\nfront22 Non Duplicate\nfront Non Duplicate\nnew_sol Non Duplicate\ngen 130\nfObj1 {9.05: 2, 8.790000000000001: 2, 8.748: 2}\nfront22 Non Duplicate\nfront Non Duplicate\nnew_sol Non Duplicate\ngen 131\nfObj1 {9.05: 2, 8.748: 2}\nfront22 Non Duplicate\nfront Non Duplicate\nnew_sol Non Duplicate\ngen 132\nfObj1 {9.05: 2, 8.748: 2}\nfront22 Non Duplicate\nfront Non Duplicate\nnew_sol Non Duplicate\ngen 133\nfObj1 {9.05: 2, 8.790000000000001: 2, 8.124: 2}\nfront22 Non Duplicate\nfront Non Duplicate\nnew_sol Non Duplicate\ngen 134\nfObj1 {9.05: 2, 8.790000000000001: 2}\nfront22 Non Duplicate\nfront Non Duplicate\nnew_sol Non Duplicate\ngen 135\nfObj1 {8.384: 2, 8.790000000000001: 2, 9.05: 2, 8.748: 2}\nfront22 Non Duplicate\nfront Non Duplicate\nnew_sol Non Duplicate\ngen 136\nfObj1 {8.790000000000001: 2, 9.05: 2, 8.748: 2}\nfront22 Non Duplicate\nfront Non Duplicate\nnew_sol Non Duplicate\ngen 137\nfObj1 {8.790000000000001: 2, 9.05: 2}\nfront22 Non Duplicate\nfront Non Duplicate\nnew_sol Non Duplicate\ngen 138\nfObj1 {9.05: 2, 8.748: 2}\nfront22 Non Duplicate\nfront Non Duplicate\nnew_sol Non Duplicate\ngen 139\nfObj1 {8.748: 2, 9.05: 2}\nfront22 Non Duplicate\nfront Non Duplicate\nnew_sol Non Duplicate\ngen 140\nfObj1 {9.05: 2}\nfront22 Non Duplicate\nfront Non Duplicate\nnew_sol Non Duplicate\ngen 141\nfObj1 {9.05: 2}\nfront22 Non Duplicate\nfront Non Duplicate\nnew_sol Non Duplicate\ngen 142\nfObj1 {9.05: 2}\nfront22 Non Duplicate\nfront Non Duplicate\nnew_sol Non Duplicate\ngen 143\nfObj1 {9.05: 2, 8.384: 2}\nfront22 Non Duplicate\nfront Non Duplicate\nnew_sol Non Duplicate\ngen 144\nfObj1 {9.05: 2, 8.384: 2, 8.748: 2}\nfront22 Non Duplicate\nfront Non Duplicate\nnew_sol Non Duplicate\ngen 145\nfObj1 {9.05: 2}\nfront22 Non Duplicate\nfront Non Duplicate\nnew_sol Non Duplicate\ngen 146\nfObj1 {8.384: 2, 9.05: 2, 8.748: 2}\nfront22 Non Duplicate\nfront Non Duplicate\nnew_sol Non Duplicate\ngen 147\nfObj1 {9.05: 2}\nfront22 Non Duplicate\nfront Non Duplicate\nnew_sol Non Duplicate\ngen 148\nfObj1 {9.05: 2}\nfront22 Non Duplicate\nfront Non Duplicate\nnew_sol Non Duplicate\ngen 149\nfObj1 {8.748: 2, 9.05: 2}\nfront22 Non Duplicate\nfront Non Duplicate\nnew_sol Non Duplicate\n"
    }
   ],
   "source": [
    "maxGen = 150\n",
    "gen_0 = 0\n",
    "nGen = 100\n",
    "nPortfolio = 100 # banyaknya individu dalam satu populasi\n",
    "\n",
    "population = initPopulation(nPortfolio,nGen)\n",
    "\n",
    "initFobj1 = unpackInd(population)[1]\n",
    "initFobj2 = unpackInd(population)[2]\n",
    "\n",
    "animX = [initFobj1]\n",
    "animY = [initFobj2]\n",
    "for x in population :\n",
    "    #duplicate(x)\n",
    "    break\n",
    "for gen in range(maxGen) :\n",
    "    print(\"gen\", gen)\n",
    "\n",
    "\n",
    "    # Step 1 Generate Offsprings\n",
    "   \n",
    "    offsprings = generateOffspring(population)\n",
    "    \n",
    "    # Step 2 assingn nilai fungsi\n",
    "    fObj1 = unpackInd(offsprings)[1]\n",
    "    fObj2 = unpackInd(offsprings)[2]\n",
    "    elDup(fObj1,\"fObj1\")\n",
    "    \n",
    "    # Step 3 Fast Non Dominated\n",
    "    nonDominatedSorted = fast_non_dominated_sort(fObj1[:],fObj2[:])\n",
    "    \n",
    "    # Step 4 crowding distance\n",
    "    #print(nonDominatedSorted)\n",
    "    crowdingDistance = []\n",
    "    for i in range(len(nonDominatedSorted)) :\n",
    "        crowdingDistance.append(crowding_distance(fObj1[:],fObj2[:],nonDominatedSorted[i][:]))\n",
    "    \n",
    "\n",
    "    # Step 5 Individu selection\n",
    "    newNonDominatedSorted = []\n",
    "    new_solution = []\n",
    "    for i in range(0,len(nonDominatedSorted)):    \n",
    "        # step 5.1 assign sort by index dari crowding distance\n",
    "        #front22 = sort_by_values([x for x in range(len(crowdingDistance[i][:]))], crowdingDistance[i][:])\n",
    "        front22 = sortByValue(crowdingDistance[i][:])\n",
    "        if gen == 1 :\n",
    "            cSave = crowdingDistance[i][:]\n",
    "            fSave = front22\n",
    "\n",
    "        # step 5.2 memasukkan nilai dari non_dominated .. berdasrkan urutan crowding\n",
    "        front = []\n",
    "        for j in range(len(nonDominatedSorted[i])):\n",
    "            front.append(nonDominatedSorted[i][front22[j]])\n",
    "\n",
    "        # Step 5.3 masukin ke new_sol sesuai dengan keperluan pop_size\n",
    "        for value in front:\n",
    "            new_solution.append(value)\n",
    "            \n",
    "            if(len(new_solution)==nPortfolio):\n",
    "                break\n",
    "                \n",
    "        if (len(new_solution) == nPortfolio):\n",
    "            break\n",
    "    elDup(front22,\"front22\")\n",
    "    \n",
    "    #print(nonDominatedSorted)\n",
    "    #print(\"newSol\",new_solution)\n",
    "    population = [offsprings[i] for i in new_solution]\n",
    "\n",
    "    maxFObj1 = unpackInd(population)[1]\n",
    "    maxFObj2 = unpackInd(population)[2]\n",
    "\n",
    "    animX.append(maxFObj1)\n",
    "    animY.append(maxFObj2)\n",
    "\n",
    "    for x in population :\n",
    "        #elDup(x[0],\"individu\")\n",
    "        continue\n",
    "    #print(\"pop\",len(population))\n",
    "\n",
    "    elDup(front,\"front\")\n",
    "    elDup(new_solution,\"new_sol\")\n",
    "    \n",
    "\n",
    "    #print(population)\n",
    "\n",
    "    "
   ]
  },
  {
   "cell_type": "code",
   "execution_count": 123,
   "metadata": {},
   "outputs": [
    {
     "output_type": "stream",
     "name": "stdout",
     "text": "newSol Non Duplicate\n"
    }
   ],
   "source": [
    "elDup(new_solution,\"newSol\")"
   ]
  },
  {
   "cell_type": "code",
   "execution_count": 156,
   "metadata": {},
   "outputs": [
    {
     "output_type": "display_data",
     "data": {
      "text/plain": "<Figure size 432x288 with 1 Axes>",
      "image/svg+xml": "<?xml version=\"1.0\" encoding=\"utf-8\" standalone=\"no\"?>\r\n<!DOCTYPE svg PUBLIC \"-//W3C//DTD SVG 1.1//EN\"\r\n  \"http://www.w3.org/Graphics/SVG/1.1/DTD/svg11.dtd\">\r\n<!-- Created with matplotlib (https://matplotlib.org/) -->\r\n<svg height=\"267.035313pt\" version=\"1.1\" viewBox=\"0 0 388.842444 267.035313\" width=\"388.842444pt\" xmlns=\"http://www.w3.org/2000/svg\" xmlns:xlink=\"http://www.w3.org/1999/xlink\">\r\n <defs>\r\n  <style type=\"text/css\">\r\n*{stroke-linecap:butt;stroke-linejoin:round;}\r\n  </style>\r\n </defs>\r\n <g id=\"figure_1\">\r\n  <g id=\"patch_1\">\r\n   <path d=\"M -0 267.035313 \r\nL 388.842444 267.035313 \r\nL 388.842444 0 \r\nL -0 0 \r\nz\r\n\" style=\"fill:none;\"/>\r\n  </g>\r\n  <g id=\"axes_1\">\r\n   <g id=\"patch_2\">\r\n    <path d=\"M 39.079687 224.64 \r\nL 373.879687 224.64 \r\nL 373.879687 7.2 \r\nL 39.079687 7.2 \r\nz\r\n\" style=\"fill:#ffffff;\"/>\r\n   </g>\r\n   <g id=\"PathCollection_1\">\r\n    <defs>\r\n     <path d=\"M 0 3 \r\nC 0.795609 3 1.55874 2.683901 2.12132 2.12132 \r\nC 2.683901 1.55874 3 0.795609 3 0 \r\nC 3 -0.795609 2.683901 -1.55874 2.12132 -2.12132 \r\nC 1.55874 -2.683901 0.795609 -3 0 -3 \r\nC -0.795609 -3 -1.55874 -2.683901 -2.12132 -2.12132 \r\nC -2.683901 -1.55874 -3 -0.795609 -3 0 \r\nC -3 0.795609 -2.683901 1.55874 -2.12132 2.12132 \r\nC -1.55874 2.683901 -0.795609 3 0 3 \r\nz\r\n\" id=\"m1ba595daa5\" style=\"stroke:#1f77b4;\"/>\r\n    </defs>\r\n    <g clip-path=\"url(#pba34a95a3a)\">\r\n     <use style=\"fill:#1f77b4;stroke:#1f77b4;\" x=\"255.499903\" xlink:href=\"#m1ba595daa5\" y=\"138.680607\"/>\r\n     <use style=\"fill:#1f77b4;stroke:#1f77b4;\" x=\"233.749361\" xlink:href=\"#m1ba595daa5\" y=\"82.183742\"/>\r\n     <use style=\"fill:#1f77b4;stroke:#1f77b4;\" x=\"163.197274\" xlink:href=\"#m1ba595daa5\" y=\"115.648312\"/>\r\n     <use style=\"fill:#1f77b4;stroke:#1f77b4;\" x=\"54.297869\" xlink:href=\"#m1ba595daa5\" y=\"58.067574\"/>\r\n     <use style=\"fill:#1f77b4;stroke:#1f77b4;\" x=\"65.129391\" xlink:href=\"#m1ba595daa5\" y=\"22.757033\"/>\r\n     <use style=\"fill:#1f77b4;stroke:#1f77b4;\" x=\"193.097103\" xlink:href=\"#m1ba595daa5\" y=\"168.199204\"/>\r\n     <use style=\"fill:#1f77b4;stroke:#1f77b4;\" x=\"189.519686\" xlink:href=\"#m1ba595daa5\" y=\"122.541065\"/>\r\n     <use style=\"fill:#1f77b4;stroke:#1f77b4;\" x=\"178.968913\" xlink:href=\"#m1ba595daa5\" y=\"144.032229\"/>\r\n     <use style=\"fill:#1f77b4;stroke:#1f77b4;\" x=\"124.055015\" xlink:href=\"#m1ba595daa5\" y=\"17.083636\"/>\r\n     <use style=\"fill:#1f77b4;stroke:#1f77b4;\" x=\"264.609391\" xlink:href=\"#m1ba595daa5\" y=\"107.773299\"/>\r\n     <use style=\"fill:#1f77b4;stroke:#1f77b4;\" x=\"358.661506\" xlink:href=\"#m1ba595daa5\" y=\"119.687432\"/>\r\n     <use style=\"fill:#1f77b4;stroke:#1f77b4;\" x=\"200.657383\" xlink:href=\"#m1ba595daa5\" y=\"182.391162\"/>\r\n     <use style=\"fill:#1f77b4;stroke:#1f77b4;\" x=\"195.853904\" xlink:href=\"#m1ba595daa5\" y=\"93.615212\"/>\r\n     <use style=\"fill:#1f77b4;stroke:#1f77b4;\" x=\"317.631663\" xlink:href=\"#m1ba595daa5\" y=\"61.290232\"/>\r\n     <use style=\"fill:#1f77b4;stroke:#1f77b4;\" x=\"80.574047\" xlink:href=\"#m1ba595daa5\" y=\"204.517408\"/>\r\n     <use style=\"fill:#1f77b4;stroke:#1f77b4;\" x=\"91.469036\" xlink:href=\"#m1ba595daa5\" y=\"87.222056\"/>\r\n     <use style=\"fill:#1f77b4;stroke:#1f77b4;\" x=\"303.716758\" xlink:href=\"#m1ba595daa5\" y=\"97.669319\"/>\r\n     <use style=\"fill:#1f77b4;stroke:#1f77b4;\" x=\"124.22166\" xlink:href=\"#m1ba595daa5\" y=\"208.343902\"/>\r\n     <use style=\"fill:#1f77b4;stroke:#1f77b4;\" x=\"126.731481\" xlink:href=\"#m1ba595daa5\" y=\"211.811109\"/>\r\n     <use style=\"fill:#1f77b4;stroke:#1f77b4;\" x=\"155.441432\" xlink:href=\"#m1ba595daa5\" y=\"111.329757\"/>\r\n     <use style=\"fill:#1f77b4;stroke:#1f77b4;\" x=\"99.578792\" xlink:href=\"#m1ba595daa5\" y=\"135.396812\"/>\r\n     <use style=\"fill:#1f77b4;stroke:#1f77b4;\" x=\"129.22178\" xlink:href=\"#m1ba595daa5\" y=\"138.939551\"/>\r\n     <use style=\"fill:#1f77b4;stroke:#1f77b4;\" x=\"182.342347\" xlink:href=\"#m1ba595daa5\" y=\"78.559542\"/>\r\n     <use style=\"fill:#1f77b4;stroke:#1f77b4;\" x=\"92.870715\" xlink:href=\"#m1ba595daa5\" y=\"104.301519\"/>\r\n     <use style=\"fill:#1f77b4;stroke:#1f77b4;\" x=\"160.298918\" xlink:href=\"#m1ba595daa5\" y=\"150.162884\"/>\r\n     <use style=\"fill:#1f77b4;stroke:#1f77b4;\" x=\"77.710958\" xlink:href=\"#m1ba595daa5\" y=\"189.401617\"/>\r\n     <use style=\"fill:#1f77b4;stroke:#1f77b4;\" x=\"223.363271\" xlink:href=\"#m1ba595daa5\" y=\"175.743974\"/>\r\n     <use style=\"fill:#1f77b4;stroke:#1f77b4;\" x=\"187.815069\" xlink:href=\"#m1ba595daa5\" y=\"192.875683\"/>\r\n     <use style=\"fill:#1f77b4;stroke:#1f77b4;\" x=\"73.957376\" xlink:href=\"#m1ba595daa5\" y=\"45.281263\"/>\r\n     <use style=\"fill:#1f77b4;stroke:#1f77b4;\" x=\"187.851516\" xlink:href=\"#m1ba595daa5\" y=\"124.327762\"/>\r\n     <use style=\"fill:#1f77b4;stroke:#1f77b4;\" x=\"291.885094\" xlink:href=\"#m1ba595daa5\" y=\"115.118908\"/>\r\n     <use style=\"fill:#1f77b4;stroke:#1f77b4;\" x=\"233.985579\" xlink:href=\"#m1ba595daa5\" y=\"101.253127\"/>\r\n     <use style=\"fill:#1f77b4;stroke:#1f77b4;\" x=\"97.744385\" xlink:href=\"#m1ba595daa5\" y=\"32.315012\"/>\r\n     <use style=\"fill:#1f77b4;stroke:#1f77b4;\" x=\"100.502854\" xlink:href=\"#m1ba595daa5\" y=\"54.100261\"/>\r\n     <use style=\"fill:#1f77b4;stroke:#1f77b4;\" x=\"168.913605\" xlink:href=\"#m1ba595daa5\" y=\"117.197911\"/>\r\n     <use style=\"fill:#1f77b4;stroke:#1f77b4;\" x=\"157.330122\" xlink:href=\"#m1ba595daa5\" y=\"100.094993\"/>\r\n     <use style=\"fill:#1f77b4;stroke:#1f77b4;\" x=\"264.478102\" xlink:href=\"#m1ba595daa5\" y=\"154.261278\"/>\r\n     <use style=\"fill:#1f77b4;stroke:#1f77b4;\" x=\"223.7738\" xlink:href=\"#m1ba595daa5\" y=\"19.36993\"/>\r\n     <use style=\"fill:#1f77b4;stroke:#1f77b4;\" x=\"76.612172\" xlink:href=\"#m1ba595daa5\" y=\"140.712869\"/>\r\n     <use style=\"fill:#1f77b4;stroke:#1f77b4;\" x=\"113.872608\" xlink:href=\"#m1ba595daa5\" y=\"185.1873\"/>\r\n     <use style=\"fill:#1f77b4;stroke:#1f77b4;\" x=\"182.957381\" xlink:href=\"#m1ba595daa5\" y=\"170.848764\"/>\r\n     <use style=\"fill:#1f77b4;stroke:#1f77b4;\" x=\"140.507714\" xlink:href=\"#m1ba595daa5\" y=\"86.180522\"/>\r\n     <use style=\"fill:#1f77b4;stroke:#1f77b4;\" x=\"209.097816\" xlink:href=\"#m1ba595daa5\" y=\"121.110014\"/>\r\n     <use style=\"fill:#1f77b4;stroke:#1f77b4;\" x=\"80.271855\" xlink:href=\"#m1ba595daa5\" y=\"214.756364\"/>\r\n     <use style=\"fill:#1f77b4;stroke:#1f77b4;\" x=\"180.822292\" xlink:href=\"#m1ba595daa5\" y=\"28.938494\"/>\r\n     <use style=\"fill:#1f77b4;stroke:#1f77b4;\" x=\"251.50416\" xlink:href=\"#m1ba595daa5\" y=\"111.414434\"/>\r\n     <use style=\"fill:#1f77b4;stroke:#1f77b4;\" x=\"92.397525\" xlink:href=\"#m1ba595daa5\" y=\"98.882156\"/>\r\n     <use style=\"fill:#1f77b4;stroke:#1f77b4;\" x=\"110.064826\" xlink:href=\"#m1ba595daa5\" y=\"135.886248\"/>\r\n     <use style=\"fill:#1f77b4;stroke:#1f77b4;\" x=\"192.930516\" xlink:href=\"#m1ba595daa5\" y=\"122.848106\"/>\r\n     <use style=\"fill:#1f77b4;stroke:#1f77b4;\" x=\"108.44785\" xlink:href=\"#m1ba595daa5\" y=\"45.535295\"/>\r\n    </g>\r\n   </g>\r\n   <g id=\"matplotlib.axis_1\">\r\n    <g id=\"xtick_1\">\r\n     <g id=\"line2d_1\">\r\n      <defs>\r\n       <path d=\"M 0 0 \r\nL 0 3.5 \r\n\" id=\"m28595d375d\" style=\"stroke:#000000;stroke-width:0.8;\"/>\r\n      </defs>\r\n      <g>\r\n       <use style=\"stroke:#000000;stroke-width:0.8;\" x=\"89.409151\" xlink:href=\"#m28595d375d\" y=\"224.64\"/>\r\n      </g>\r\n     </g>\r\n     <g id=\"text_1\">\r\n      <!-- 2.5 -->\r\n      <defs>\r\n       <path d=\"M 19.1875 8.296875 \r\nL 53.609375 8.296875 \r\nL 53.609375 0 \r\nL 7.328125 0 \r\nL 7.328125 8.296875 \r\nQ 12.9375 14.109375 22.625 23.890625 \r\nQ 32.328125 33.6875 34.8125 36.53125 \r\nQ 39.546875 41.84375 41.421875 45.53125 \r\nQ 43.3125 49.21875 43.3125 52.78125 \r\nQ 43.3125 58.59375 39.234375 62.25 \r\nQ 35.15625 65.921875 28.609375 65.921875 \r\nQ 23.96875 65.921875 18.8125 64.3125 \r\nQ 13.671875 62.703125 7.8125 59.421875 \r\nL 7.8125 69.390625 \r\nQ 13.765625 71.78125 18.9375 73 \r\nQ 24.125 74.21875 28.421875 74.21875 \r\nQ 39.75 74.21875 46.484375 68.546875 \r\nQ 53.21875 62.890625 53.21875 53.421875 \r\nQ 53.21875 48.921875 51.53125 44.890625 \r\nQ 49.859375 40.875 45.40625 35.40625 \r\nQ 44.1875 33.984375 37.640625 27.21875 \r\nQ 31.109375 20.453125 19.1875 8.296875 \r\nz\r\n\" id=\"DejaVuSans-50\"/>\r\n       <path d=\"M 10.6875 12.40625 \r\nL 21 12.40625 \r\nL 21 0 \r\nL 10.6875 0 \r\nz\r\n\" id=\"DejaVuSans-46\"/>\r\n       <path d=\"M 10.796875 72.90625 \r\nL 49.515625 72.90625 \r\nL 49.515625 64.59375 \r\nL 19.828125 64.59375 \r\nL 19.828125 46.734375 \r\nQ 21.96875 47.46875 24.109375 47.828125 \r\nQ 26.265625 48.1875 28.421875 48.1875 \r\nQ 40.625 48.1875 47.75 41.5 \r\nQ 54.890625 34.8125 54.890625 23.390625 \r\nQ 54.890625 11.625 47.5625 5.09375 \r\nQ 40.234375 -1.421875 26.90625 -1.421875 \r\nQ 22.3125 -1.421875 17.546875 -0.640625 \r\nQ 12.796875 0.140625 7.71875 1.703125 \r\nL 7.71875 11.625 \r\nQ 12.109375 9.234375 16.796875 8.0625 \r\nQ 21.484375 6.890625 26.703125 6.890625 \r\nQ 35.15625 6.890625 40.078125 11.328125 \r\nQ 45.015625 15.765625 45.015625 23.390625 \r\nQ 45.015625 31 40.078125 35.4375 \r\nQ 35.15625 39.890625 26.703125 39.890625 \r\nQ 22.75 39.890625 18.8125 39.015625 \r\nQ 14.890625 38.140625 10.796875 36.28125 \r\nz\r\n\" id=\"DejaVuSans-53\"/>\r\n      </defs>\r\n      <g transform=\"translate(81.457588 239.238438)scale(0.1 -0.1)\">\r\n       <use xlink:href=\"#DejaVuSans-50\"/>\r\n       <use x=\"63.623047\" xlink:href=\"#DejaVuSans-46\"/>\r\n       <use x=\"95.410156\" xlink:href=\"#DejaVuSans-53\"/>\r\n      </g>\r\n     </g>\r\n    </g>\r\n    <g id=\"xtick_2\">\r\n     <g id=\"line2d_2\">\r\n      <g>\r\n       <use style=\"stroke:#000000;stroke-width:0.8;\" x=\"160.479583\" xlink:href=\"#m28595d375d\" y=\"224.64\"/>\r\n      </g>\r\n     </g>\r\n     <g id=\"text_2\">\r\n      <!-- 3.0 -->\r\n      <defs>\r\n       <path d=\"M 40.578125 39.3125 \r\nQ 47.65625 37.796875 51.625 33 \r\nQ 55.609375 28.21875 55.609375 21.1875 \r\nQ 55.609375 10.40625 48.1875 4.484375 \r\nQ 40.765625 -1.421875 27.09375 -1.421875 \r\nQ 22.515625 -1.421875 17.65625 -0.515625 \r\nQ 12.796875 0.390625 7.625 2.203125 \r\nL 7.625 11.71875 \r\nQ 11.71875 9.328125 16.59375 8.109375 \r\nQ 21.484375 6.890625 26.8125 6.890625 \r\nQ 36.078125 6.890625 40.9375 10.546875 \r\nQ 45.796875 14.203125 45.796875 21.1875 \r\nQ 45.796875 27.640625 41.28125 31.265625 \r\nQ 36.765625 34.90625 28.71875 34.90625 \r\nL 20.21875 34.90625 \r\nL 20.21875 43.015625 \r\nL 29.109375 43.015625 \r\nQ 36.375 43.015625 40.234375 45.921875 \r\nQ 44.09375 48.828125 44.09375 54.296875 \r\nQ 44.09375 59.90625 40.109375 62.90625 \r\nQ 36.140625 65.921875 28.71875 65.921875 \r\nQ 24.65625 65.921875 20.015625 65.03125 \r\nQ 15.375 64.15625 9.8125 62.3125 \r\nL 9.8125 71.09375 \r\nQ 15.4375 72.65625 20.34375 73.4375 \r\nQ 25.25 74.21875 29.59375 74.21875 \r\nQ 40.828125 74.21875 47.359375 69.109375 \r\nQ 53.90625 64.015625 53.90625 55.328125 \r\nQ 53.90625 49.265625 50.4375 45.09375 \r\nQ 46.96875 40.921875 40.578125 39.3125 \r\nz\r\n\" id=\"DejaVuSans-51\"/>\r\n       <path d=\"M 31.78125 66.40625 \r\nQ 24.171875 66.40625 20.328125 58.90625 \r\nQ 16.5 51.421875 16.5 36.375 \r\nQ 16.5 21.390625 20.328125 13.890625 \r\nQ 24.171875 6.390625 31.78125 6.390625 \r\nQ 39.453125 6.390625 43.28125 13.890625 \r\nQ 47.125 21.390625 47.125 36.375 \r\nQ 47.125 51.421875 43.28125 58.90625 \r\nQ 39.453125 66.40625 31.78125 66.40625 \r\nz\r\nM 31.78125 74.21875 \r\nQ 44.046875 74.21875 50.515625 64.515625 \r\nQ 56.984375 54.828125 56.984375 36.375 \r\nQ 56.984375 17.96875 50.515625 8.265625 \r\nQ 44.046875 -1.421875 31.78125 -1.421875 \r\nQ 19.53125 -1.421875 13.0625 8.265625 \r\nQ 6.59375 17.96875 6.59375 36.375 \r\nQ 6.59375 54.828125 13.0625 64.515625 \r\nQ 19.53125 74.21875 31.78125 74.21875 \r\nz\r\n\" id=\"DejaVuSans-48\"/>\r\n      </defs>\r\n      <g transform=\"translate(152.528021 239.238438)scale(0.1 -0.1)\">\r\n       <use xlink:href=\"#DejaVuSans-51\"/>\r\n       <use x=\"63.623047\" xlink:href=\"#DejaVuSans-46\"/>\r\n       <use x=\"95.410156\" xlink:href=\"#DejaVuSans-48\"/>\r\n      </g>\r\n     </g>\r\n    </g>\r\n    <g id=\"xtick_3\">\r\n     <g id=\"line2d_3\">\r\n      <g>\r\n       <use style=\"stroke:#000000;stroke-width:0.8;\" x=\"231.550016\" xlink:href=\"#m28595d375d\" y=\"224.64\"/>\r\n      </g>\r\n     </g>\r\n     <g id=\"text_3\">\r\n      <!-- 3.5 -->\r\n      <g transform=\"translate(223.598454 239.238438)scale(0.1 -0.1)\">\r\n       <use xlink:href=\"#DejaVuSans-51\"/>\r\n       <use x=\"63.623047\" xlink:href=\"#DejaVuSans-46\"/>\r\n       <use x=\"95.410156\" xlink:href=\"#DejaVuSans-53\"/>\r\n      </g>\r\n     </g>\r\n    </g>\r\n    <g id=\"xtick_4\">\r\n     <g id=\"line2d_4\">\r\n      <g>\r\n       <use style=\"stroke:#000000;stroke-width:0.8;\" x=\"302.620449\" xlink:href=\"#m28595d375d\" y=\"224.64\"/>\r\n      </g>\r\n     </g>\r\n     <g id=\"text_4\">\r\n      <!-- 4.0 -->\r\n      <defs>\r\n       <path d=\"M 37.796875 64.3125 \r\nL 12.890625 25.390625 \r\nL 37.796875 25.390625 \r\nz\r\nM 35.203125 72.90625 \r\nL 47.609375 72.90625 \r\nL 47.609375 25.390625 \r\nL 58.015625 25.390625 \r\nL 58.015625 17.1875 \r\nL 47.609375 17.1875 \r\nL 47.609375 0 \r\nL 37.796875 0 \r\nL 37.796875 17.1875 \r\nL 4.890625 17.1875 \r\nL 4.890625 26.703125 \r\nz\r\n\" id=\"DejaVuSans-52\"/>\r\n      </defs>\r\n      <g transform=\"translate(294.668886 239.238438)scale(0.1 -0.1)\">\r\n       <use xlink:href=\"#DejaVuSans-52\"/>\r\n       <use x=\"63.623047\" xlink:href=\"#DejaVuSans-46\"/>\r\n       <use x=\"95.410156\" xlink:href=\"#DejaVuSans-48\"/>\r\n      </g>\r\n     </g>\r\n    </g>\r\n    <g id=\"xtick_5\">\r\n     <g id=\"line2d_5\">\r\n      <g>\r\n       <use style=\"stroke:#000000;stroke-width:0.8;\" x=\"373.690882\" xlink:href=\"#m28595d375d\" y=\"224.64\"/>\r\n      </g>\r\n     </g>\r\n     <g id=\"text_5\">\r\n      <!-- 4.5 -->\r\n      <g transform=\"translate(365.739319 239.238438)scale(0.1 -0.1)\">\r\n       <use xlink:href=\"#DejaVuSans-52\"/>\r\n       <use x=\"63.623047\" xlink:href=\"#DejaVuSans-46\"/>\r\n       <use x=\"95.410156\" xlink:href=\"#DejaVuSans-53\"/>\r\n      </g>\r\n     </g>\r\n    </g>\r\n    <g id=\"text_6\">\r\n     <!-- Function 1 -->\r\n     <defs>\r\n      <path d=\"M 9.8125 72.90625 \r\nL 51.703125 72.90625 \r\nL 51.703125 64.59375 \r\nL 19.671875 64.59375 \r\nL 19.671875 43.109375 \r\nL 48.578125 43.109375 \r\nL 48.578125 34.8125 \r\nL 19.671875 34.8125 \r\nL 19.671875 0 \r\nL 9.8125 0 \r\nz\r\n\" id=\"DejaVuSans-70\"/>\r\n      <path d=\"M 8.5 21.578125 \r\nL 8.5 54.6875 \r\nL 17.484375 54.6875 \r\nL 17.484375 21.921875 \r\nQ 17.484375 14.15625 20.5 10.265625 \r\nQ 23.53125 6.390625 29.59375 6.390625 \r\nQ 36.859375 6.390625 41.078125 11.03125 \r\nQ 45.3125 15.671875 45.3125 23.6875 \r\nL 45.3125 54.6875 \r\nL 54.296875 54.6875 \r\nL 54.296875 0 \r\nL 45.3125 0 \r\nL 45.3125 8.40625 \r\nQ 42.046875 3.421875 37.71875 1 \r\nQ 33.40625 -1.421875 27.6875 -1.421875 \r\nQ 18.265625 -1.421875 13.375 4.4375 \r\nQ 8.5 10.296875 8.5 21.578125 \r\nz\r\nM 31.109375 56 \r\nz\r\n\" id=\"DejaVuSans-117\"/>\r\n      <path d=\"M 54.890625 33.015625 \r\nL 54.890625 0 \r\nL 45.90625 0 \r\nL 45.90625 32.71875 \r\nQ 45.90625 40.484375 42.875 44.328125 \r\nQ 39.84375 48.1875 33.796875 48.1875 \r\nQ 26.515625 48.1875 22.3125 43.546875 \r\nQ 18.109375 38.921875 18.109375 30.90625 \r\nL 18.109375 0 \r\nL 9.078125 0 \r\nL 9.078125 54.6875 \r\nL 18.109375 54.6875 \r\nL 18.109375 46.1875 \r\nQ 21.34375 51.125 25.703125 53.5625 \r\nQ 30.078125 56 35.796875 56 \r\nQ 45.21875 56 50.046875 50.171875 \r\nQ 54.890625 44.34375 54.890625 33.015625 \r\nz\r\n\" id=\"DejaVuSans-110\"/>\r\n      <path d=\"M 48.78125 52.59375 \r\nL 48.78125 44.1875 \r\nQ 44.96875 46.296875 41.140625 47.34375 \r\nQ 37.3125 48.390625 33.40625 48.390625 \r\nQ 24.65625 48.390625 19.8125 42.84375 \r\nQ 14.984375 37.3125 14.984375 27.296875 \r\nQ 14.984375 17.28125 19.8125 11.734375 \r\nQ 24.65625 6.203125 33.40625 6.203125 \r\nQ 37.3125 6.203125 41.140625 7.25 \r\nQ 44.96875 8.296875 48.78125 10.40625 \r\nL 48.78125 2.09375 \r\nQ 45.015625 0.34375 40.984375 -0.53125 \r\nQ 36.96875 -1.421875 32.421875 -1.421875 \r\nQ 20.0625 -1.421875 12.78125 6.34375 \r\nQ 5.515625 14.109375 5.515625 27.296875 \r\nQ 5.515625 40.671875 12.859375 48.328125 \r\nQ 20.21875 56 33.015625 56 \r\nQ 37.15625 56 41.109375 55.140625 \r\nQ 45.0625 54.296875 48.78125 52.59375 \r\nz\r\n\" id=\"DejaVuSans-99\"/>\r\n      <path d=\"M 18.3125 70.21875 \r\nL 18.3125 54.6875 \r\nL 36.8125 54.6875 \r\nL 36.8125 47.703125 \r\nL 18.3125 47.703125 \r\nL 18.3125 18.015625 \r\nQ 18.3125 11.328125 20.140625 9.421875 \r\nQ 21.96875 7.515625 27.59375 7.515625 \r\nL 36.8125 7.515625 \r\nL 36.8125 0 \r\nL 27.59375 0 \r\nQ 17.1875 0 13.234375 3.875 \r\nQ 9.28125 7.765625 9.28125 18.015625 \r\nL 9.28125 47.703125 \r\nL 2.6875 47.703125 \r\nL 2.6875 54.6875 \r\nL 9.28125 54.6875 \r\nL 9.28125 70.21875 \r\nz\r\n\" id=\"DejaVuSans-116\"/>\r\n      <path d=\"M 9.421875 54.6875 \r\nL 18.40625 54.6875 \r\nL 18.40625 0 \r\nL 9.421875 0 \r\nz\r\nM 9.421875 75.984375 \r\nL 18.40625 75.984375 \r\nL 18.40625 64.59375 \r\nL 9.421875 64.59375 \r\nz\r\n\" id=\"DejaVuSans-105\"/>\r\n      <path d=\"M 30.609375 48.390625 \r\nQ 23.390625 48.390625 19.1875 42.75 \r\nQ 14.984375 37.109375 14.984375 27.296875 \r\nQ 14.984375 17.484375 19.15625 11.84375 \r\nQ 23.34375 6.203125 30.609375 6.203125 \r\nQ 37.796875 6.203125 41.984375 11.859375 \r\nQ 46.1875 17.53125 46.1875 27.296875 \r\nQ 46.1875 37.015625 41.984375 42.703125 \r\nQ 37.796875 48.390625 30.609375 48.390625 \r\nz\r\nM 30.609375 56 \r\nQ 42.328125 56 49.015625 48.375 \r\nQ 55.71875 40.765625 55.71875 27.296875 \r\nQ 55.71875 13.875 49.015625 6.21875 \r\nQ 42.328125 -1.421875 30.609375 -1.421875 \r\nQ 18.84375 -1.421875 12.171875 6.21875 \r\nQ 5.515625 13.875 5.515625 27.296875 \r\nQ 5.515625 40.765625 12.171875 48.375 \r\nQ 18.84375 56 30.609375 56 \r\nz\r\n\" id=\"DejaVuSans-111\"/>\r\n      <path id=\"DejaVuSans-32\"/>\r\n      <path d=\"M 12.40625 8.296875 \r\nL 28.515625 8.296875 \r\nL 28.515625 63.921875 \r\nL 10.984375 60.40625 \r\nL 10.984375 69.390625 \r\nL 28.421875 72.90625 \r\nL 38.28125 72.90625 \r\nL 38.28125 8.296875 \r\nL 54.390625 8.296875 \r\nL 54.390625 0 \r\nL 12.40625 0 \r\nz\r\n\" id=\"DejaVuSans-49\"/>\r\n     </defs>\r\n     <g transform=\"translate(167.426953 256.715781)scale(0.15 -0.15)\">\r\n      <use xlink:href=\"#DejaVuSans-70\"/>\r\n      <use x=\"52.019531\" xlink:href=\"#DejaVuSans-117\"/>\r\n      <use x=\"115.398438\" xlink:href=\"#DejaVuSans-110\"/>\r\n      <use x=\"178.777344\" xlink:href=\"#DejaVuSans-99\"/>\r\n      <use x=\"233.757812\" xlink:href=\"#DejaVuSans-116\"/>\r\n      <use x=\"272.966797\" xlink:href=\"#DejaVuSans-105\"/>\r\n      <use x=\"300.75\" xlink:href=\"#DejaVuSans-111\"/>\r\n      <use x=\"361.931641\" xlink:href=\"#DejaVuSans-110\"/>\r\n      <use x=\"425.310547\" xlink:href=\"#DejaVuSans-32\"/>\r\n      <use x=\"457.097656\" xlink:href=\"#DejaVuSans-49\"/>\r\n     </g>\r\n    </g>\r\n   </g>\r\n   <g id=\"matplotlib.axis_2\">\r\n    <g id=\"ytick_1\">\r\n     <g id=\"line2d_6\">\r\n      <defs>\r\n       <path d=\"M 0 0 \r\nL -3.5 0 \r\n\" id=\"m649594e298\" style=\"stroke:#000000;stroke-width:0.8;\"/>\r\n      </defs>\r\n      <g>\r\n       <use style=\"stroke:#000000;stroke-width:0.8;\" x=\"39.079687\" xlink:href=\"#m649594e298\" y=\"186.438749\"/>\r\n      </g>\r\n     </g>\r\n     <g id=\"text_7\">\r\n      <!-- 1 -->\r\n      <g transform=\"translate(25.717187 190.237968)scale(0.1 -0.1)\">\r\n       <use xlink:href=\"#DejaVuSans-49\"/>\r\n      </g>\r\n     </g>\r\n    </g>\r\n    <g id=\"ytick_2\">\r\n     <g id=\"line2d_7\">\r\n      <g>\r\n       <use style=\"stroke:#000000;stroke-width:0.8;\" x=\"39.079687\" xlink:href=\"#m649594e298\" y=\"144.099971\"/>\r\n      </g>\r\n     </g>\r\n     <g id=\"text_8\">\r\n      <!-- 2 -->\r\n      <g transform=\"translate(25.717187 147.89919)scale(0.1 -0.1)\">\r\n       <use xlink:href=\"#DejaVuSans-50\"/>\r\n      </g>\r\n     </g>\r\n    </g>\r\n    <g id=\"ytick_3\">\r\n     <g id=\"line2d_8\">\r\n      <g>\r\n       <use style=\"stroke:#000000;stroke-width:0.8;\" x=\"39.079687\" xlink:href=\"#m649594e298\" y=\"101.761193\"/>\r\n      </g>\r\n     </g>\r\n     <g id=\"text_9\">\r\n      <!-- 3 -->\r\n      <g transform=\"translate(25.717187 105.560412)scale(0.1 -0.1)\">\r\n       <use xlink:href=\"#DejaVuSans-51\"/>\r\n      </g>\r\n     </g>\r\n    </g>\r\n    <g id=\"ytick_4\">\r\n     <g id=\"line2d_9\">\r\n      <g>\r\n       <use style=\"stroke:#000000;stroke-width:0.8;\" x=\"39.079687\" xlink:href=\"#m649594e298\" y=\"59.422415\"/>\r\n      </g>\r\n     </g>\r\n     <g id=\"text_10\">\r\n      <!-- 4 -->\r\n      <g transform=\"translate(25.717187 63.221633)scale(0.1 -0.1)\">\r\n       <use xlink:href=\"#DejaVuSans-52\"/>\r\n      </g>\r\n     </g>\r\n    </g>\r\n    <g id=\"ytick_5\">\r\n     <g id=\"line2d_10\">\r\n      <g>\r\n       <use style=\"stroke:#000000;stroke-width:0.8;\" x=\"39.079687\" xlink:href=\"#m649594e298\" y=\"17.083636\"/>\r\n      </g>\r\n     </g>\r\n     <g id=\"text_11\">\r\n      <!-- 5 -->\r\n      <g transform=\"translate(25.717187 20.882855)scale(0.1 -0.1)\">\r\n       <use xlink:href=\"#DejaVuSans-53\"/>\r\n      </g>\r\n     </g>\r\n    </g>\r\n    <g id=\"text_12\">\r\n     <!-- Function 2 -->\r\n     <g transform=\"translate(18.597656 154.972734)rotate(-90)scale(0.15 -0.15)\">\r\n      <use xlink:href=\"#DejaVuSans-70\"/>\r\n      <use x=\"52.019531\" xlink:href=\"#DejaVuSans-117\"/>\r\n      <use x=\"115.398438\" xlink:href=\"#DejaVuSans-110\"/>\r\n      <use x=\"178.777344\" xlink:href=\"#DejaVuSans-99\"/>\r\n      <use x=\"233.757812\" xlink:href=\"#DejaVuSans-116\"/>\r\n      <use x=\"272.966797\" xlink:href=\"#DejaVuSans-105\"/>\r\n      <use x=\"300.75\" xlink:href=\"#DejaVuSans-111\"/>\r\n      <use x=\"361.931641\" xlink:href=\"#DejaVuSans-110\"/>\r\n      <use x=\"425.310547\" xlink:href=\"#DejaVuSans-32\"/>\r\n      <use x=\"457.097656\" xlink:href=\"#DejaVuSans-50\"/>\r\n     </g>\r\n    </g>\r\n   </g>\r\n   <g id=\"patch_3\">\r\n    <path d=\"M 39.079687 224.64 \r\nL 39.079687 7.2 \r\n\" style=\"fill:none;stroke:#000000;stroke-linecap:square;stroke-linejoin:miter;stroke-width:0.8;\"/>\r\n   </g>\r\n   <g id=\"patch_4\">\r\n    <path d=\"M 373.879687 224.64 \r\nL 373.879687 7.2 \r\n\" style=\"fill:none;stroke:#000000;stroke-linecap:square;stroke-linejoin:miter;stroke-width:0.8;\"/>\r\n   </g>\r\n   <g id=\"patch_5\">\r\n    <path d=\"M 39.079687 224.64 \r\nL 373.879687 224.64 \r\n\" style=\"fill:none;stroke:#000000;stroke-linecap:square;stroke-linejoin:miter;stroke-width:0.8;\"/>\r\n   </g>\r\n   <g id=\"patch_6\">\r\n    <path d=\"M 39.079687 7.2 \r\nL 373.879687 7.2 \r\n\" style=\"fill:none;stroke:#000000;stroke-linecap:square;stroke-linejoin:miter;stroke-width:0.8;\"/>\r\n   </g>\r\n  </g>\r\n </g>\r\n <defs>\r\n  <clipPath id=\"pba34a95a3a\">\r\n   <rect height=\"217.44\" width=\"334.8\" x=\"39.079687\" y=\"7.2\"/>\r\n  </clipPath>\r\n </defs>\r\n</svg>\r\n",
      "image/png": "[encoded data removed]"
     },
     "metadata": {
      "needs_background": "light"
     }
    }
   ],
   "source": [
    "import matplotlib.pyplot as plt\n",
    "#f1 = [i * -1 for i in function1_values]\n",
    "#f2 = [j * -1 for j in function2_values]\n",
    "#f1 = look[0]\n",
    "#f2 = look[1]\n",
    "f1 = initFobj1\n",
    "f2 = initFobj2\n",
    "#print(f1)\n",
    "#print(f2)\n",
    "#print(lookNonDom)\n",
    "plt.xlabel('Function 1', fontsize=15)\n",
    "plt.ylabel('Function 2', fontsize=15)\n",
    "#plt.plot(f1,f2, '.b-')\n",
    "plt.scatter(f2,f1)\n",
    "plt.show()"
   ]
  },
  {
   "cell_type": "code",
   "execution_count": 157,
   "metadata": {},
   "outputs": [
    {
     "output_type": "display_data",
     "data": {
      "text/plain": "<Figure size 432x288 with 1 Axes>",
      "image/svg+xml": "<?xml version=\"1.0\" encoding=\"utf-8\" standalone=\"no\"?>\r\n<!DOCTYPE svg PUBLIC \"-//W3C//DTD SVG 1.1//EN\"\r\n  \"http://www.w3.org/Graphics/SVG/1.1/DTD/svg11.dtd\">\r\n<!-- Created with matplotlib (https://matplotlib.org/) -->\r\n<svg height=\"267.035313pt\" version=\"1.1\" viewBox=\"0 0 390.620312 267.035313\" width=\"390.620312pt\" xmlns=\"http://www.w3.org/2000/svg\" xmlns:xlink=\"http://www.w3.org/1999/xlink\">\r\n <defs>\r\n  <style type=\"text/css\">\r\n*{stroke-linecap:butt;stroke-linejoin:round;}\r\n  </style>\r\n </defs>\r\n <g id=\"figure_1\">\r\n  <g id=\"patch_1\">\r\n   <path d=\"M 0 267.035313 \r\nL 390.620312 267.035313 \r\nL 390.620312 0 \r\nL 0 0 \r\nz\r\n\" style=\"fill:none;\"/>\r\n  </g>\r\n  <g id=\"axes_1\">\r\n   <g id=\"patch_2\">\r\n    <path d=\"M 48.620313 224.64 \r\nL 383.420313 224.64 \r\nL 383.420313 7.2 \r\nL 48.620313 7.2 \r\nz\r\n\" style=\"fill:#ffffff;\"/>\r\n   </g>\r\n   <g id=\"PathCollection_1\">\r\n    <defs>\r\n     <path d=\"M 0 3 \r\nC 0.795609 3 1.55874 2.683901 2.12132 2.12132 \r\nC 2.683901 1.55874 3 0.795609 3 0 \r\nC 3 -0.795609 2.683901 -1.55874 2.12132 -2.12132 \r\nC 1.55874 -2.683901 0.795609 -3 0 -3 \r\nC -0.795609 -3 -1.55874 -2.683901 -2.12132 -2.12132 \r\nC -2.683901 -1.55874 -3 -0.795609 -3 0 \r\nC -3 0.795609 -2.683901 1.55874 -2.12132 2.12132 \r\nC -1.55874 2.683901 -0.795609 3 0 3 \r\nz\r\n\" id=\"mdaf95aeb53\" style=\"stroke:#1f77b4;\"/>\r\n    </defs>\r\n    <g clip-path=\"url(#pac58a1a977)\">\r\n     <use style=\"fill:#1f77b4;stroke:#1f77b4;\" x=\"368.202131\" xlink:href=\"#mdaf95aeb53\" y=\"120.606508\"/>\r\n     <use style=\"fill:#1f77b4;stroke:#1f77b4;\" x=\"281.774121\" xlink:href=\"#mdaf95aeb53\" y=\"39.46696\"/>\r\n     <use style=\"fill:#1f77b4;stroke:#1f77b4;\" x=\"302.73991\" xlink:href=\"#mdaf95aeb53\" y=\"87.667413\"/>\r\n     <use style=\"fill:#1f77b4;stroke:#1f77b4;\" x=\"217.71344\" xlink:href=\"#mdaf95aeb53\" y=\"24.078425\"/>\r\n     <use style=\"fill:#1f77b4;stroke:#1f77b4;\" x=\"255.670885\" xlink:href=\"#mdaf95aeb53\" y=\"36.796223\"/>\r\n     <use style=\"fill:#1f77b4;stroke:#1f77b4;\" x=\"201.779236\" xlink:href=\"#mdaf95aeb53\" y=\"17.083636\"/>\r\n     <use style=\"fill:#1f77b4;stroke:#1f77b4;\" x=\"330.171297\" xlink:href=\"#mdaf95aeb53\" y=\"90.33815\"/>\r\n     <use style=\"fill:#1f77b4;stroke:#1f77b4;\" x=\"325.231218\" xlink:href=\"#mdaf95aeb53\" y=\"88.812015\"/>\r\n     <use style=\"fill:#1f77b4;stroke:#1f77b4;\" x=\"247.711959\" xlink:href=\"#mdaf95aeb53\" y=\"26.749162\"/>\r\n     <use style=\"fill:#1f77b4;stroke:#1f77b4;\" x=\"288.806297\" xlink:href=\"#mdaf95aeb53\" y=\"46.461749\"/>\r\n     <use style=\"fill:#1f77b4;stroke:#1f77b4;\" x=\"299.406744\" xlink:href=\"#mdaf95aeb53\" y=\"75.076793\"/>\r\n     <use style=\"fill:#1f77b4;stroke:#1f77b4;\" x=\"363.712453\" xlink:href=\"#mdaf95aeb53\" y=\"180.888869\"/>\r\n     <use style=\"fill:#1f77b4;stroke:#1f77b4;\" x=\"317.900817\" xlink:href=\"#mdaf95aeb53\" y=\"109.414847\"/>\r\n     <use style=\"fill:#1f77b4;stroke:#1f77b4;\" x=\"229.27559\" xlink:href=\"#mdaf95aeb53\" y=\"33.616773\"/>\r\n     <use style=\"fill:#1f77b4;stroke:#1f77b4;\" x=\"245.260676\" xlink:href=\"#mdaf95aeb53\" y=\"40.611562\"/>\r\n     <use style=\"fill:#1f77b4;stroke:#1f77b4;\" x=\"325.656737\" xlink:href=\"#mdaf95aeb53\" y=\"117.935771\"/>\r\n     <use style=\"fill:#1f77b4;stroke:#1f77b4;\" x=\"276.188839\" xlink:href=\"#mdaf95aeb53\" y=\"69.989674\"/>\r\n     <use style=\"fill:#1f77b4;stroke:#1f77b4;\" x=\"264.486426\" xlink:href=\"#mdaf95aeb53\" y=\"43.282299\"/>\r\n     <use style=\"fill:#1f77b4;stroke:#1f77b4;\" x=\"123.503009\" xlink:href=\"#mdaf95aeb53\" y=\"24.078425\"/>\r\n     <use style=\"fill:#1f77b4;stroke:#1f77b4;\" x=\"152.196716\" xlink:href=\"#mdaf95aeb53\" y=\"27.893764\"/>\r\n     <use style=\"fill:#1f77b4;stroke:#1f77b4;\" x=\"132.816581\" xlink:href=\"#mdaf95aeb53\" y=\"26.749162\"/>\r\n     <use style=\"fill:#1f77b4;stroke:#1f77b4;\" x=\"158.542416\" xlink:href=\"#mdaf95aeb53\" y=\"30.564502\"/>\r\n     <use style=\"fill:#1f77b4;stroke:#1f77b4;\" x=\"101.191204\" xlink:href=\"#mdaf95aeb53\" y=\"20.898976\"/>\r\n     <use style=\"fill:#1f77b4;stroke:#1f77b4;\" x=\"295.435083\" xlink:href=\"#mdaf95aeb53\" y=\"79.146488\"/>\r\n     <use style=\"fill:#1f77b4;stroke:#1f77b4;\" x=\"337.693152\" xlink:href=\"#mdaf95aeb53\" y=\"184.488005\"/>\r\n     <use style=\"fill:#1f77b4;stroke:#1f77b4;\" x=\"358.246867\" xlink:href=\"#mdaf95aeb53\" y=\"214.756364\"/>\r\n     <use style=\"fill:#1f77b4;stroke:#1f77b4;\" x=\"323.75722\" xlink:href=\"#mdaf95aeb53\" y=\"143.282341\"/>\r\n     <use style=\"fill:#1f77b4;stroke:#1f77b4;\" x=\"301.922479\" xlink:href=\"#mdaf95aeb53\" y=\"140.954984\"/>\r\n     <use style=\"fill:#1f77b4;stroke:#1f77b4;\" x=\"323.978056\" xlink:href=\"#mdaf95aeb53\" y=\"150.620511\"/>\r\n     <use style=\"fill:#1f77b4;stroke:#1f77b4;\" x=\"261.845178\" xlink:href=\"#mdaf95aeb53\" y=\"67.954827\"/>\r\n     <use style=\"fill:#1f77b4;stroke:#1f77b4;\" x=\"217.05954\" xlink:href=\"#mdaf95aeb53\" y=\"47.60635\"/>\r\n     <use style=\"fill:#1f77b4;stroke:#1f77b4;\" x=\"193.032414\" xlink:href=\"#mdaf95aeb53\" y=\"44.554079\"/>\r\n     <use style=\"fill:#1f77b4;stroke:#1f77b4;\" x=\"272.255453\" xlink:href=\"#mdaf95aeb53\" y=\"72.406056\"/>\r\n     <use style=\"fill:#1f77b4;stroke:#1f77b4;\" x=\"226.008068\" xlink:href=\"#mdaf95aeb53\" y=\"51.548868\"/>\r\n     <use style=\"fill:#1f77b4;stroke:#1f77b4;\" x=\"260.947683\" xlink:href=\"#mdaf95aeb53\" y=\"66.428691\"/>\r\n     <use style=\"fill:#1f77b4;stroke:#1f77b4;\" x=\"97.286965\" xlink:href=\"#mdaf95aeb53\" y=\"28.020942\"/>\r\n     <use style=\"fill:#1f77b4;stroke:#1f77b4;\" x=\"81.766104\" xlink:href=\"#mdaf95aeb53\" y=\"25.350205\"/>\r\n     <use style=\"fill:#1f77b4;stroke:#1f77b4;\" x=\"237.255592\" xlink:href=\"#mdaf95aeb53\" y=\"63.630775\"/>\r\n     <use style=\"fill:#1f77b4;stroke:#1f77b4;\" x=\"183.139783\" xlink:href=\"#mdaf95aeb53\" y=\"33.743951\"/>\r\n     <use style=\"fill:#1f77b4;stroke:#1f77b4;\" x=\"293.461923\" xlink:href=\"#mdaf95aeb53\" y=\"86.141277\"/>\r\n     <use style=\"fill:#1f77b4;stroke:#1f77b4;\" x=\"267.310948\" xlink:href=\"#mdaf95aeb53\" y=\"97.078583\"/>\r\n     <use style=\"fill:#1f77b4;stroke:#1f77b4;\" x=\"247.372408\" xlink:href=\"#mdaf95aeb53\" y=\"90.083794\"/>\r\n     <use style=\"fill:#1f77b4;stroke:#1f77b4;\" x=\"192.057456\" xlink:href=\"#mdaf95aeb53\" y=\"55.872919\"/>\r\n     <use style=\"fill:#1f77b4;stroke:#1f77b4;\" x=\"319.64584\" xlink:href=\"#mdaf95aeb53\" y=\"149.094375\"/>\r\n     <use style=\"fill:#1f77b4;stroke:#1f77b4;\" x=\"294.37102\" xlink:href=\"#mdaf95aeb53\" y=\"141.20934\"/>\r\n     <use style=\"fill:#1f77b4;stroke:#1f77b4;\" x=\"242.126446\" xlink:href=\"#mdaf95aeb53\" y=\"67.318937\"/>\r\n     <use style=\"fill:#1f77b4;stroke:#1f77b4;\" x=\"66.603374\" xlink:href=\"#mdaf95aeb53\" y=\"31.836282\"/>\r\n     <use style=\"fill:#1f77b4;stroke:#1f77b4;\" x=\"224.212658\" xlink:href=\"#mdaf95aeb53\" y=\"58.543656\"/>\r\n     <use style=\"fill:#1f77b4;stroke:#1f77b4;\" x=\"182.121863\" xlink:href=\"#mdaf95aeb53\" y=\"41.247452\"/>\r\n     <use style=\"fill:#1f77b4;stroke:#1f77b4;\" x=\"63.838494\" xlink:href=\"#mdaf95aeb53\" y=\"29.165544\"/>\r\n    </g>\r\n   </g>\r\n   <g id=\"matplotlib.axis_1\">\r\n    <g id=\"xtick_1\">\r\n     <g id=\"line2d_1\">\r\n      <defs>\r\n       <path d=\"M 0 0 \r\nL 0 3.5 \r\n\" id=\"m1d616fe24f\" style=\"stroke:#000000;stroke-width:0.8;\"/>\r\n      </defs>\r\n      <g>\r\n       <use style=\"stroke:#000000;stroke-width:0.8;\" x=\"53.434097\" xlink:href=\"#m1d616fe24f\" y=\"224.64\"/>\r\n      </g>\r\n     </g>\r\n     <g id=\"text_1\">\r\n      <!-- 4.0 -->\r\n      <defs>\r\n       <path d=\"M 37.796875 64.3125 \r\nL 12.890625 25.390625 \r\nL 37.796875 25.390625 \r\nz\r\nM 35.203125 72.90625 \r\nL 47.609375 72.90625 \r\nL 47.609375 25.390625 \r\nL 58.015625 25.390625 \r\nL 58.015625 17.1875 \r\nL 47.609375 17.1875 \r\nL 47.609375 0 \r\nL 37.796875 0 \r\nL 37.796875 17.1875 \r\nL 4.890625 17.1875 \r\nL 4.890625 26.703125 \r\nz\r\n\" id=\"DejaVuSans-52\"/>\r\n       <path d=\"M 10.6875 12.40625 \r\nL 21 12.40625 \r\nL 21 0 \r\nL 10.6875 0 \r\nz\r\n\" id=\"DejaVuSans-46\"/>\r\n       <path d=\"M 31.78125 66.40625 \r\nQ 24.171875 66.40625 20.328125 58.90625 \r\nQ 16.5 51.421875 16.5 36.375 \r\nQ 16.5 21.390625 20.328125 13.890625 \r\nQ 24.171875 6.390625 31.78125 6.390625 \r\nQ 39.453125 6.390625 43.28125 13.890625 \r\nQ 47.125 21.390625 47.125 36.375 \r\nQ 47.125 51.421875 43.28125 58.90625 \r\nQ 39.453125 66.40625 31.78125 66.40625 \r\nz\r\nM 31.78125 74.21875 \r\nQ 44.046875 74.21875 50.515625 64.515625 \r\nQ 56.984375 54.828125 56.984375 36.375 \r\nQ 56.984375 17.96875 50.515625 8.265625 \r\nQ 44.046875 -1.421875 31.78125 -1.421875 \r\nQ 19.53125 -1.421875 13.0625 8.265625 \r\nQ 6.59375 17.96875 6.59375 36.375 \r\nQ 6.59375 54.828125 13.0625 64.515625 \r\nQ 19.53125 74.21875 31.78125 74.21875 \r\nz\r\n\" id=\"DejaVuSans-48\"/>\r\n      </defs>\r\n      <g transform=\"translate(45.482534 239.238438)scale(0.1 -0.1)\">\r\n       <use xlink:href=\"#DejaVuSans-52\"/>\r\n       <use x=\"63.623047\" xlink:href=\"#DejaVuSans-46\"/>\r\n       <use x=\"95.410156\" xlink:href=\"#DejaVuSans-48\"/>\r\n      </g>\r\n     </g>\r\n    </g>\r\n    <g id=\"xtick_2\">\r\n     <g id=\"line2d_2\">\r\n      <g>\r\n       <use style=\"stroke:#000000;stroke-width:0.8;\" x=\"105.089589\" xlink:href=\"#m1d616fe24f\" y=\"224.64\"/>\r\n      </g>\r\n     </g>\r\n     <g id=\"text_2\">\r\n      <!-- 4.5 -->\r\n      <defs>\r\n       <path d=\"M 10.796875 72.90625 \r\nL 49.515625 72.90625 \r\nL 49.515625 64.59375 \r\nL 19.828125 64.59375 \r\nL 19.828125 46.734375 \r\nQ 21.96875 47.46875 24.109375 47.828125 \r\nQ 26.265625 48.1875 28.421875 48.1875 \r\nQ 40.625 48.1875 47.75 41.5 \r\nQ 54.890625 34.8125 54.890625 23.390625 \r\nQ 54.890625 11.625 47.5625 5.09375 \r\nQ 40.234375 -1.421875 26.90625 -1.421875 \r\nQ 22.3125 -1.421875 17.546875 -0.640625 \r\nQ 12.796875 0.140625 7.71875 1.703125 \r\nL 7.71875 11.625 \r\nQ 12.109375 9.234375 16.796875 8.0625 \r\nQ 21.484375 6.890625 26.703125 6.890625 \r\nQ 35.15625 6.890625 40.078125 11.328125 \r\nQ 45.015625 15.765625 45.015625 23.390625 \r\nQ 45.015625 31 40.078125 35.4375 \r\nQ 35.15625 39.890625 26.703125 39.890625 \r\nQ 22.75 39.890625 18.8125 39.015625 \r\nQ 14.890625 38.140625 10.796875 36.28125 \r\nz\r\n\" id=\"DejaVuSans-53\"/>\r\n      </defs>\r\n      <g transform=\"translate(97.138026 239.238438)scale(0.1 -0.1)\">\r\n       <use xlink:href=\"#DejaVuSans-52\"/>\r\n       <use x=\"63.623047\" xlink:href=\"#DejaVuSans-46\"/>\r\n       <use x=\"95.410156\" xlink:href=\"#DejaVuSans-53\"/>\r\n      </g>\r\n     </g>\r\n    </g>\r\n    <g id=\"xtick_3\">\r\n     <g id=\"line2d_3\">\r\n      <g>\r\n       <use style=\"stroke:#000000;stroke-width:0.8;\" x=\"156.745081\" xlink:href=\"#m1d616fe24f\" y=\"224.64\"/>\r\n      </g>\r\n     </g>\r\n     <g id=\"text_3\">\r\n      <!-- 5.0 -->\r\n      <g transform=\"translate(148.793518 239.238438)scale(0.1 -0.1)\">\r\n       <use xlink:href=\"#DejaVuSans-53\"/>\r\n       <use x=\"63.623047\" xlink:href=\"#DejaVuSans-46\"/>\r\n       <use x=\"95.410156\" xlink:href=\"#DejaVuSans-48\"/>\r\n      </g>\r\n     </g>\r\n    </g>\r\n    <g id=\"xtick_4\">\r\n     <g id=\"line2d_4\">\r\n      <g>\r\n       <use style=\"stroke:#000000;stroke-width:0.8;\" x=\"208.400573\" xlink:href=\"#m1d616fe24f\" y=\"224.64\"/>\r\n      </g>\r\n     </g>\r\n     <g id=\"text_4\">\r\n      <!-- 5.5 -->\r\n      <g transform=\"translate(200.44901 239.238438)scale(0.1 -0.1)\">\r\n       <use xlink:href=\"#DejaVuSans-53\"/>\r\n       <use x=\"63.623047\" xlink:href=\"#DejaVuSans-46\"/>\r\n       <use x=\"95.410156\" xlink:href=\"#DejaVuSans-53\"/>\r\n      </g>\r\n     </g>\r\n    </g>\r\n    <g id=\"xtick_5\">\r\n     <g id=\"line2d_5\">\r\n      <g>\r\n       <use style=\"stroke:#000000;stroke-width:0.8;\" x=\"260.056064\" xlink:href=\"#m1d616fe24f\" y=\"224.64\"/>\r\n      </g>\r\n     </g>\r\n     <g id=\"text_5\">\r\n      <!-- 6.0 -->\r\n      <defs>\r\n       <path d=\"M 33.015625 40.375 \r\nQ 26.375 40.375 22.484375 35.828125 \r\nQ 18.609375 31.296875 18.609375 23.390625 \r\nQ 18.609375 15.53125 22.484375 10.953125 \r\nQ 26.375 6.390625 33.015625 6.390625 \r\nQ 39.65625 6.390625 43.53125 10.953125 \r\nQ 47.40625 15.53125 47.40625 23.390625 \r\nQ 47.40625 31.296875 43.53125 35.828125 \r\nQ 39.65625 40.375 33.015625 40.375 \r\nz\r\nM 52.59375 71.296875 \r\nL 52.59375 62.3125 \r\nQ 48.875 64.0625 45.09375 64.984375 \r\nQ 41.3125 65.921875 37.59375 65.921875 \r\nQ 27.828125 65.921875 22.671875 59.328125 \r\nQ 17.53125 52.734375 16.796875 39.40625 \r\nQ 19.671875 43.65625 24.015625 45.921875 \r\nQ 28.375 48.1875 33.59375 48.1875 \r\nQ 44.578125 48.1875 50.953125 41.515625 \r\nQ 57.328125 34.859375 57.328125 23.390625 \r\nQ 57.328125 12.15625 50.6875 5.359375 \r\nQ 44.046875 -1.421875 33.015625 -1.421875 \r\nQ 20.359375 -1.421875 13.671875 8.265625 \r\nQ 6.984375 17.96875 6.984375 36.375 \r\nQ 6.984375 53.65625 15.1875 63.9375 \r\nQ 23.390625 74.21875 37.203125 74.21875 \r\nQ 40.921875 74.21875 44.703125 73.484375 \r\nQ 48.484375 72.75 52.59375 71.296875 \r\nz\r\n\" id=\"DejaVuSans-54\"/>\r\n      </defs>\r\n      <g transform=\"translate(252.104502 239.238438)scale(0.1 -0.1)\">\r\n       <use xlink:href=\"#DejaVuSans-54\"/>\r\n       <use x=\"63.623047\" xlink:href=\"#DejaVuSans-46\"/>\r\n       <use x=\"95.410156\" xlink:href=\"#DejaVuSans-48\"/>\r\n      </g>\r\n     </g>\r\n    </g>\r\n    <g id=\"xtick_6\">\r\n     <g id=\"line2d_6\">\r\n      <g>\r\n       <use style=\"stroke:#000000;stroke-width:0.8;\" x=\"311.711556\" xlink:href=\"#m1d616fe24f\" y=\"224.64\"/>\r\n      </g>\r\n     </g>\r\n     <g id=\"text_6\">\r\n      <!-- 6.5 -->\r\n      <g transform=\"translate(303.759994 239.238438)scale(0.1 -0.1)\">\r\n       <use xlink:href=\"#DejaVuSans-54\"/>\r\n       <use x=\"63.623047\" xlink:href=\"#DejaVuSans-46\"/>\r\n       <use x=\"95.410156\" xlink:href=\"#DejaVuSans-53\"/>\r\n      </g>\r\n     </g>\r\n    </g>\r\n    <g id=\"xtick_7\">\r\n     <g id=\"line2d_7\">\r\n      <g>\r\n       <use style=\"stroke:#000000;stroke-width:0.8;\" x=\"363.367048\" xlink:href=\"#m1d616fe24f\" y=\"224.64\"/>\r\n      </g>\r\n     </g>\r\n     <g id=\"text_7\">\r\n      <!-- 7.0 -->\r\n      <defs>\r\n       <path d=\"M 8.203125 72.90625 \r\nL 55.078125 72.90625 \r\nL 55.078125 68.703125 \r\nL 28.609375 0 \r\nL 18.3125 0 \r\nL 43.21875 64.59375 \r\nL 8.203125 64.59375 \r\nz\r\n\" id=\"DejaVuSans-55\"/>\r\n      </defs>\r\n      <g transform=\"translate(355.415486 239.238438)scale(0.1 -0.1)\">\r\n       <use xlink:href=\"#DejaVuSans-55\"/>\r\n       <use x=\"63.623047\" xlink:href=\"#DejaVuSans-46\"/>\r\n       <use x=\"95.410156\" xlink:href=\"#DejaVuSans-48\"/>\r\n      </g>\r\n     </g>\r\n    </g>\r\n    <g id=\"text_8\">\r\n     <!-- Function 1 -->\r\n     <defs>\r\n      <path d=\"M 9.8125 72.90625 \r\nL 51.703125 72.90625 \r\nL 51.703125 64.59375 \r\nL 19.671875 64.59375 \r\nL 19.671875 43.109375 \r\nL 48.578125 43.109375 \r\nL 48.578125 34.8125 \r\nL 19.671875 34.8125 \r\nL 19.671875 0 \r\nL 9.8125 0 \r\nz\r\n\" id=\"DejaVuSans-70\"/>\r\n      <path d=\"M 8.5 21.578125 \r\nL 8.5 54.6875 \r\nL 17.484375 54.6875 \r\nL 17.484375 21.921875 \r\nQ 17.484375 14.15625 20.5 10.265625 \r\nQ 23.53125 6.390625 29.59375 6.390625 \r\nQ 36.859375 6.390625 41.078125 11.03125 \r\nQ 45.3125 15.671875 45.3125 23.6875 \r\nL 45.3125 54.6875 \r\nL 54.296875 54.6875 \r\nL 54.296875 0 \r\nL 45.3125 0 \r\nL 45.3125 8.40625 \r\nQ 42.046875 3.421875 37.71875 1 \r\nQ 33.40625 -1.421875 27.6875 -1.421875 \r\nQ 18.265625 -1.421875 13.375 4.4375 \r\nQ 8.5 10.296875 8.5 21.578125 \r\nz\r\nM 31.109375 56 \r\nz\r\n\" id=\"DejaVuSans-117\"/>\r\n      <path d=\"M 54.890625 33.015625 \r\nL 54.890625 0 \r\nL 45.90625 0 \r\nL 45.90625 32.71875 \r\nQ 45.90625 40.484375 42.875 44.328125 \r\nQ 39.84375 48.1875 33.796875 48.1875 \r\nQ 26.515625 48.1875 22.3125 43.546875 \r\nQ 18.109375 38.921875 18.109375 30.90625 \r\nL 18.109375 0 \r\nL 9.078125 0 \r\nL 9.078125 54.6875 \r\nL 18.109375 54.6875 \r\nL 18.109375 46.1875 \r\nQ 21.34375 51.125 25.703125 53.5625 \r\nQ 30.078125 56 35.796875 56 \r\nQ 45.21875 56 50.046875 50.171875 \r\nQ 54.890625 44.34375 54.890625 33.015625 \r\nz\r\n\" id=\"DejaVuSans-110\"/>\r\n      <path d=\"M 48.78125 52.59375 \r\nL 48.78125 44.1875 \r\nQ 44.96875 46.296875 41.140625 47.34375 \r\nQ 37.3125 48.390625 33.40625 48.390625 \r\nQ 24.65625 48.390625 19.8125 42.84375 \r\nQ 14.984375 37.3125 14.984375 27.296875 \r\nQ 14.984375 17.28125 19.8125 11.734375 \r\nQ 24.65625 6.203125 33.40625 6.203125 \r\nQ 37.3125 6.203125 41.140625 7.25 \r\nQ 44.96875 8.296875 48.78125 10.40625 \r\nL 48.78125 2.09375 \r\nQ 45.015625 0.34375 40.984375 -0.53125 \r\nQ 36.96875 -1.421875 32.421875 -1.421875 \r\nQ 20.0625 -1.421875 12.78125 6.34375 \r\nQ 5.515625 14.109375 5.515625 27.296875 \r\nQ 5.515625 40.671875 12.859375 48.328125 \r\nQ 20.21875 56 33.015625 56 \r\nQ 37.15625 56 41.109375 55.140625 \r\nQ 45.0625 54.296875 48.78125 52.59375 \r\nz\r\n\" id=\"DejaVuSans-99\"/>\r\n      <path d=\"M 18.3125 70.21875 \r\nL 18.3125 54.6875 \r\nL 36.8125 54.6875 \r\nL 36.8125 47.703125 \r\nL 18.3125 47.703125 \r\nL 18.3125 18.015625 \r\nQ 18.3125 11.328125 20.140625 9.421875 \r\nQ 21.96875 7.515625 27.59375 7.515625 \r\nL 36.8125 7.515625 \r\nL 36.8125 0 \r\nL 27.59375 0 \r\nQ 17.1875 0 13.234375 3.875 \r\nQ 9.28125 7.765625 9.28125 18.015625 \r\nL 9.28125 47.703125 \r\nL 2.6875 47.703125 \r\nL 2.6875 54.6875 \r\nL 9.28125 54.6875 \r\nL 9.28125 70.21875 \r\nz\r\n\" id=\"DejaVuSans-116\"/>\r\n      <path d=\"M 9.421875 54.6875 \r\nL 18.40625 54.6875 \r\nL 18.40625 0 \r\nL 9.421875 0 \r\nz\r\nM 9.421875 75.984375 \r\nL 18.40625 75.984375 \r\nL 18.40625 64.59375 \r\nL 9.421875 64.59375 \r\nz\r\n\" id=\"DejaVuSans-105\"/>\r\n      <path d=\"M 30.609375 48.390625 \r\nQ 23.390625 48.390625 19.1875 42.75 \r\nQ 14.984375 37.109375 14.984375 27.296875 \r\nQ 14.984375 17.484375 19.15625 11.84375 \r\nQ 23.34375 6.203125 30.609375 6.203125 \r\nQ 37.796875 6.203125 41.984375 11.859375 \r\nQ 46.1875 17.53125 46.1875 27.296875 \r\nQ 46.1875 37.015625 41.984375 42.703125 \r\nQ 37.796875 48.390625 30.609375 48.390625 \r\nz\r\nM 30.609375 56 \r\nQ 42.328125 56 49.015625 48.375 \r\nQ 55.71875 40.765625 55.71875 27.296875 \r\nQ 55.71875 13.875 49.015625 6.21875 \r\nQ 42.328125 -1.421875 30.609375 -1.421875 \r\nQ 18.84375 -1.421875 12.171875 6.21875 \r\nQ 5.515625 13.875 5.515625 27.296875 \r\nQ 5.515625 40.765625 12.171875 48.375 \r\nQ 18.84375 56 30.609375 56 \r\nz\r\n\" id=\"DejaVuSans-111\"/>\r\n      <path id=\"DejaVuSans-32\"/>\r\n      <path d=\"M 12.40625 8.296875 \r\nL 28.515625 8.296875 \r\nL 28.515625 63.921875 \r\nL 10.984375 60.40625 \r\nL 10.984375 69.390625 \r\nL 28.421875 72.90625 \r\nL 38.28125 72.90625 \r\nL 38.28125 8.296875 \r\nL 54.390625 8.296875 \r\nL 54.390625 0 \r\nL 12.40625 0 \r\nz\r\n\" id=\"DejaVuSans-49\"/>\r\n     </defs>\r\n     <g transform=\"translate(176.967578 256.715781)scale(0.15 -0.15)\">\r\n      <use xlink:href=\"#DejaVuSans-70\"/>\r\n      <use x=\"52.019531\" xlink:href=\"#DejaVuSans-117\"/>\r\n      <use x=\"115.398438\" xlink:href=\"#DejaVuSans-110\"/>\r\n      <use x=\"178.777344\" xlink:href=\"#DejaVuSans-99\"/>\r\n      <use x=\"233.757812\" xlink:href=\"#DejaVuSans-116\"/>\r\n      <use x=\"272.966797\" xlink:href=\"#DejaVuSans-105\"/>\r\n      <use x=\"300.75\" xlink:href=\"#DejaVuSans-111\"/>\r\n      <use x=\"361.931641\" xlink:href=\"#DejaVuSans-110\"/>\r\n      <use x=\"425.310547\" xlink:href=\"#DejaVuSans-32\"/>\r\n      <use x=\"457.097656\" xlink:href=\"#DejaVuSans-49\"/>\r\n     </g>\r\n    </g>\r\n   </g>\r\n   <g id=\"matplotlib.axis_2\">\r\n    <g id=\"ytick_1\">\r\n     <g id=\"line2d_8\">\r\n      <defs>\r\n       <path d=\"M 0 0 \r\nL -3.5 0 \r\n\" id=\"m9e4f22f1fa\" style=\"stroke:#000000;stroke-width:0.8;\"/>\r\n      </defs>\r\n      <g>\r\n       <use style=\"stroke:#000000;stroke-width:0.8;\" x=\"48.620313\" xlink:href=\"#m9e4f22f1fa\" y=\"218.024838\"/>\r\n      </g>\r\n     </g>\r\n     <g id=\"text_9\">\r\n      <!-- 6.0 -->\r\n      <g transform=\"translate(25.717188 221.824056)scale(0.1 -0.1)\">\r\n       <use xlink:href=\"#DejaVuSans-54\"/>\r\n       <use x=\"63.623047\" xlink:href=\"#DejaVuSans-46\"/>\r\n       <use x=\"95.410156\" xlink:href=\"#DejaVuSans-48\"/>\r\n      </g>\r\n     </g>\r\n    </g>\r\n    <g id=\"ytick_2\">\r\n     <g id=\"line2d_9\">\r\n      <g>\r\n       <use style=\"stroke:#000000;stroke-width:0.8;\" x=\"48.620313\" xlink:href=\"#m9e4f22f1fa\" y=\"186.230344\"/>\r\n      </g>\r\n     </g>\r\n     <g id=\"text_10\">\r\n      <!-- 6.5 -->\r\n      <g transform=\"translate(25.717188 190.029562)scale(0.1 -0.1)\">\r\n       <use xlink:href=\"#DejaVuSans-54\"/>\r\n       <use x=\"63.623047\" xlink:href=\"#DejaVuSans-46\"/>\r\n       <use x=\"95.410156\" xlink:href=\"#DejaVuSans-53\"/>\r\n      </g>\r\n     </g>\r\n    </g>\r\n    <g id=\"ytick_3\">\r\n     <g id=\"line2d_10\">\r\n      <g>\r\n       <use style=\"stroke:#000000;stroke-width:0.8;\" x=\"48.620313\" xlink:href=\"#m9e4f22f1fa\" y=\"154.43585\"/>\r\n      </g>\r\n     </g>\r\n     <g id=\"text_11\">\r\n      <!-- 7.0 -->\r\n      <g transform=\"translate(25.717188 158.235069)scale(0.1 -0.1)\">\r\n       <use xlink:href=\"#DejaVuSans-55\"/>\r\n       <use x=\"63.623047\" xlink:href=\"#DejaVuSans-46\"/>\r\n       <use x=\"95.410156\" xlink:href=\"#DejaVuSans-48\"/>\r\n      </g>\r\n     </g>\r\n    </g>\r\n    <g id=\"ytick_4\">\r\n     <g id=\"line2d_11\">\r\n      <g>\r\n       <use style=\"stroke:#000000;stroke-width:0.8;\" x=\"48.620313\" xlink:href=\"#m9e4f22f1fa\" y=\"122.641356\"/>\r\n      </g>\r\n     </g>\r\n     <g id=\"text_12\">\r\n      <!-- 7.5 -->\r\n      <g transform=\"translate(25.717188 126.440575)scale(0.1 -0.1)\">\r\n       <use xlink:href=\"#DejaVuSans-55\"/>\r\n       <use x=\"63.623047\" xlink:href=\"#DejaVuSans-46\"/>\r\n       <use x=\"95.410156\" xlink:href=\"#DejaVuSans-53\"/>\r\n      </g>\r\n     </g>\r\n    </g>\r\n    <g id=\"ytick_5\">\r\n     <g id=\"line2d_12\">\r\n      <g>\r\n       <use style=\"stroke:#000000;stroke-width:0.8;\" x=\"48.620313\" xlink:href=\"#m9e4f22f1fa\" y=\"90.846862\"/>\r\n      </g>\r\n     </g>\r\n     <g id=\"text_13\">\r\n      <!-- 8.0 -->\r\n      <defs>\r\n       <path d=\"M 31.78125 34.625 \r\nQ 24.75 34.625 20.71875 30.859375 \r\nQ 16.703125 27.09375 16.703125 20.515625 \r\nQ 16.703125 13.921875 20.71875 10.15625 \r\nQ 24.75 6.390625 31.78125 6.390625 \r\nQ 38.8125 6.390625 42.859375 10.171875 \r\nQ 46.921875 13.96875 46.921875 20.515625 \r\nQ 46.921875 27.09375 42.890625 30.859375 \r\nQ 38.875 34.625 31.78125 34.625 \r\nz\r\nM 21.921875 38.8125 \r\nQ 15.578125 40.375 12.03125 44.71875 \r\nQ 8.5 49.078125 8.5 55.328125 \r\nQ 8.5 64.0625 14.71875 69.140625 \r\nQ 20.953125 74.21875 31.78125 74.21875 \r\nQ 42.671875 74.21875 48.875 69.140625 \r\nQ 55.078125 64.0625 55.078125 55.328125 \r\nQ 55.078125 49.078125 51.53125 44.71875 \r\nQ 48 40.375 41.703125 38.8125 \r\nQ 48.828125 37.15625 52.796875 32.3125 \r\nQ 56.78125 27.484375 56.78125 20.515625 \r\nQ 56.78125 9.90625 50.3125 4.234375 \r\nQ 43.84375 -1.421875 31.78125 -1.421875 \r\nQ 19.734375 -1.421875 13.25 4.234375 \r\nQ 6.78125 9.90625 6.78125 20.515625 \r\nQ 6.78125 27.484375 10.78125 32.3125 \r\nQ 14.796875 37.15625 21.921875 38.8125 \r\nz\r\nM 18.3125 54.390625 \r\nQ 18.3125 48.734375 21.84375 45.5625 \r\nQ 25.390625 42.390625 31.78125 42.390625 \r\nQ 38.140625 42.390625 41.71875 45.5625 \r\nQ 45.3125 48.734375 45.3125 54.390625 \r\nQ 45.3125 60.0625 41.71875 63.234375 \r\nQ 38.140625 66.40625 31.78125 66.40625 \r\nQ 25.390625 66.40625 21.84375 63.234375 \r\nQ 18.3125 60.0625 18.3125 54.390625 \r\nz\r\n\" id=\"DejaVuSans-56\"/>\r\n      </defs>\r\n      <g transform=\"translate(25.717188 94.646081)scale(0.1 -0.1)\">\r\n       <use xlink:href=\"#DejaVuSans-56\"/>\r\n       <use x=\"63.623047\" xlink:href=\"#DejaVuSans-46\"/>\r\n       <use x=\"95.410156\" xlink:href=\"#DejaVuSans-48\"/>\r\n      </g>\r\n     </g>\r\n    </g>\r\n    <g id=\"ytick_6\">\r\n     <g id=\"line2d_13\">\r\n      <g>\r\n       <use style=\"stroke:#000000;stroke-width:0.8;\" x=\"48.620313\" xlink:href=\"#m9e4f22f1fa\" y=\"59.052368\"/>\r\n      </g>\r\n     </g>\r\n     <g id=\"text_14\">\r\n      <!-- 8.5 -->\r\n      <g transform=\"translate(25.717188 62.851587)scale(0.1 -0.1)\">\r\n       <use xlink:href=\"#DejaVuSans-56\"/>\r\n       <use x=\"63.623047\" xlink:href=\"#DejaVuSans-46\"/>\r\n       <use x=\"95.410156\" xlink:href=\"#DejaVuSans-53\"/>\r\n      </g>\r\n     </g>\r\n    </g>\r\n    <g id=\"ytick_7\">\r\n     <g id=\"line2d_14\">\r\n      <g>\r\n       <use style=\"stroke:#000000;stroke-width:0.8;\" x=\"48.620313\" xlink:href=\"#m9e4f22f1fa\" y=\"27.257874\"/>\r\n      </g>\r\n     </g>\r\n     <g id=\"text_15\">\r\n      <!-- 9.0 -->\r\n      <defs>\r\n       <path d=\"M 10.984375 1.515625 \r\nL 10.984375 10.5 \r\nQ 14.703125 8.734375 18.5 7.8125 \r\nQ 22.3125 6.890625 25.984375 6.890625 \r\nQ 35.75 6.890625 40.890625 13.453125 \r\nQ 46.046875 20.015625 46.78125 33.40625 \r\nQ 43.953125 29.203125 39.59375 26.953125 \r\nQ 35.25 24.703125 29.984375 24.703125 \r\nQ 19.046875 24.703125 12.671875 31.3125 \r\nQ 6.296875 37.9375 6.296875 49.421875 \r\nQ 6.296875 60.640625 12.9375 67.421875 \r\nQ 19.578125 74.21875 30.609375 74.21875 \r\nQ 43.265625 74.21875 49.921875 64.515625 \r\nQ 56.59375 54.828125 56.59375 36.375 \r\nQ 56.59375 19.140625 48.40625 8.859375 \r\nQ 40.234375 -1.421875 26.421875 -1.421875 \r\nQ 22.703125 -1.421875 18.890625 -0.6875 \r\nQ 15.09375 0.046875 10.984375 1.515625 \r\nz\r\nM 30.609375 32.421875 \r\nQ 37.25 32.421875 41.125 36.953125 \r\nQ 45.015625 41.5 45.015625 49.421875 \r\nQ 45.015625 57.28125 41.125 61.84375 \r\nQ 37.25 66.40625 30.609375 66.40625 \r\nQ 23.96875 66.40625 20.09375 61.84375 \r\nQ 16.21875 57.28125 16.21875 49.421875 \r\nQ 16.21875 41.5 20.09375 36.953125 \r\nQ 23.96875 32.421875 30.609375 32.421875 \r\nz\r\n\" id=\"DejaVuSans-57\"/>\r\n      </defs>\r\n      <g transform=\"translate(25.717188 31.057093)scale(0.1 -0.1)\">\r\n       <use xlink:href=\"#DejaVuSans-57\"/>\r\n       <use x=\"63.623047\" xlink:href=\"#DejaVuSans-46\"/>\r\n       <use x=\"95.410156\" xlink:href=\"#DejaVuSans-48\"/>\r\n      </g>\r\n     </g>\r\n    </g>\r\n    <g id=\"text_16\">\r\n     <!-- Function 2 -->\r\n     <defs>\r\n      <path d=\"M 19.1875 8.296875 \r\nL 53.609375 8.296875 \r\nL 53.609375 0 \r\nL 7.328125 0 \r\nL 7.328125 8.296875 \r\nQ 12.9375 14.109375 22.625 23.890625 \r\nQ 32.328125 33.6875 34.8125 36.53125 \r\nQ 39.546875 41.84375 41.421875 45.53125 \r\nQ 43.3125 49.21875 43.3125 52.78125 \r\nQ 43.3125 58.59375 39.234375 62.25 \r\nQ 35.15625 65.921875 28.609375 65.921875 \r\nQ 23.96875 65.921875 18.8125 64.3125 \r\nQ 13.671875 62.703125 7.8125 59.421875 \r\nL 7.8125 69.390625 \r\nQ 13.765625 71.78125 18.9375 73 \r\nQ 24.125 74.21875 28.421875 74.21875 \r\nQ 39.75 74.21875 46.484375 68.546875 \r\nQ 53.21875 62.890625 53.21875 53.421875 \r\nQ 53.21875 48.921875 51.53125 44.890625 \r\nQ 49.859375 40.875 45.40625 35.40625 \r\nQ 44.1875 33.984375 37.640625 27.21875 \r\nQ 31.109375 20.453125 19.1875 8.296875 \r\nz\r\n\" id=\"DejaVuSans-50\"/>\r\n     </defs>\r\n     <g transform=\"translate(18.597656 154.972734)rotate(-90)scale(0.15 -0.15)\">\r\n      <use xlink:href=\"#DejaVuSans-70\"/>\r\n      <use x=\"52.019531\" xlink:href=\"#DejaVuSans-117\"/>\r\n      <use x=\"115.398438\" xlink:href=\"#DejaVuSans-110\"/>\r\n      <use x=\"178.777344\" xlink:href=\"#DejaVuSans-99\"/>\r\n      <use x=\"233.757812\" xlink:href=\"#DejaVuSans-116\"/>\r\n      <use x=\"272.966797\" xlink:href=\"#DejaVuSans-105\"/>\r\n      <use x=\"300.75\" xlink:href=\"#DejaVuSans-111\"/>\r\n      <use x=\"361.931641\" xlink:href=\"#DejaVuSans-110\"/>\r\n      <use x=\"425.310547\" xlink:href=\"#DejaVuSans-32\"/>\r\n      <use x=\"457.097656\" xlink:href=\"#DejaVuSans-50\"/>\r\n     </g>\r\n    </g>\r\n   </g>\r\n   <g id=\"patch_3\">\r\n    <path d=\"M 48.620313 224.64 \r\nL 48.620313 7.2 \r\n\" style=\"fill:none;stroke:#000000;stroke-linecap:square;stroke-linejoin:miter;stroke-width:0.8;\"/>\r\n   </g>\r\n   <g id=\"patch_4\">\r\n    <path d=\"M 383.420313 224.64 \r\nL 383.420313 7.2 \r\n\" style=\"fill:none;stroke:#000000;stroke-linecap:square;stroke-linejoin:miter;stroke-width:0.8;\"/>\r\n   </g>\r\n   <g id=\"patch_5\">\r\n    <path d=\"M 48.620313 224.64 \r\nL 383.420313 224.64 \r\n\" style=\"fill:none;stroke:#000000;stroke-linecap:square;stroke-linejoin:miter;stroke-width:0.8;\"/>\r\n   </g>\r\n   <g id=\"patch_6\">\r\n    <path d=\"M 48.620313 7.2 \r\nL 383.420313 7.2 \r\n\" style=\"fill:none;stroke:#000000;stroke-linecap:square;stroke-linejoin:miter;stroke-width:0.8;\"/>\r\n   </g>\r\n  </g>\r\n </g>\r\n <defs>\r\n  <clipPath id=\"pac58a1a977\">\r\n   <rect height=\"217.44\" width=\"334.8\" x=\"48.620313\" y=\"7.2\"/>\r\n  </clipPath>\r\n </defs>\r\n</svg>\r\n",
      "image/png": "[encoded data removed]"
     },
     "metadata": {
      "needs_background": "light"
     }
    }
   ],
   "source": [
    "import matplotlib.pyplot as plt\n",
    "#f1 = [i * -1 for i in function1_values]\n",
    "#f2 = [j * -1 for j in function2_values]\n",
    "#f1 = look[0]\n",
    "#f2 = look[1]\n",
    "f1 = maxFObj1\n",
    "f2 = maxFObj2\n",
    "#print(f1)\n",
    "#print(f2)\n",
    "#print(lookNonDom)\n",
    "plt.xlabel('Function 1', fontsize=15)\n",
    "plt.ylabel('Function 2', fontsize=15)\n",
    "#plt.plot(f1,f2, '.b-')\n",
    "plt.scatter(f2,f1)\n",
    "plt.show()"
   ]
  }
 ],
 "metadata": {
  "colab": {
   "name": "Final_Project.ipynb",
   "provenance": [],
   "private_outputs": true
  },
  "kernelspec": {
   "display_name": "Python 3",
   "language": "python",
   "name": "python3"
  },
  "language_info": {
   "codemirror_mode": {
    "name": "ipython",
    "version": 3
   },
   "file_extension": ".py",
   "mimetype": "text/x-python",
   "name": "python",
   "nbconvert_exporter": "python",
   "pygments_lexer": "ipython3",
   "version": "3.7.4-final"
  }
 },
 "nbformat": 4,
 "nbformat_minor": 0
}