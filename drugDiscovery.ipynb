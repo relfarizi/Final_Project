{
 "cells": [
  {
   "cell_type": "markdown",
   "metadata": {
    "colab_type": "text",
    "id": "view-in-github"
   },
   "source": [
    "<a href=\"https://colab.research.google.com/github/relfarizi/Final_Project/blob/master/drugDiscovery.ipynb\" target=\"_parent\"><img src=\"https://colab.research.google.com/assets/colab-badge.svg\" alt=\"Open In Colab\"/></a>"
   ]
  },
  {
   "cell_type": "markdown",
   "metadata": {
    "colab_type": "text",
    "id": "LTqadf5GKMCw"
   },
   "source": [
    "## 1. Import Library"
   ]
  },
  {
   "cell_type": "markdown",
   "metadata": {
    "colab_type": "text",
    "id": "jF_syCBVt6F6"
   },
   "source": [
    "### - Install RDKIT"
   ]
  },
  {
   "cell_type": "code",
   "execution_count": null,
   "metadata": {
    "colab": {},
    "colab_type": "code",
    "id": "SIw0TvdNcFQY"
   },
   "outputs": [],
   "source": [
    "# Install rdkit\n",
    "\n",
    "def install_rdkit():\n",
    "  !wget -c https://repo.continuum.io/miniconda/Miniconda3-latest-Linux-x86_64.sh\n",
    "  !chmod +x Miniconda3-latest-Linux-x86_64.sh\n",
    "  !time bash ./Miniconda3-latest-Linux-x86_64.sh -b -f -p /usr/local\n",
    "  !time conda install -q -y -c conda-forge rdkit\n",
    "\n",
    "# install_rdkit()"
   ]
  },
  {
   "cell_type": "markdown",
   "metadata": {
    "colab_type": "text",
    "id": "28HWid9Ot6GB"
   },
   "source": [
    "### - Library"
   ]
  },
  {
   "cell_type": "code",
   "execution_count": null,
   "metadata": {
    "colab": {},
    "colab_type": "code",
    "id": "IePXvtoVkn3q"
   },
   "outputs": [],
   "source": [
    "# Data\n",
    "\n",
    "#from google.colab import files\n",
    "import pandas as pd\n",
    "import numpy as np\n",
    "import regex as re\n",
    "\n",
    "# rdkit\n",
    "import sys\n",
    "#sys.path.append('/usr/local/lib/python3.7/site-packages/')\n",
    "from rdkit import Chem\n",
    "from rdkit.Chem import DataStructs\n",
    "\n",
    "# random\n",
    "import random as rd\n",
    "\n",
    "import math"
   ]
  },
  {
   "cell_type": "markdown",
   "metadata": {
    "colab_type": "text",
    "id": "HMV8zmkwk9_z"
   },
   "source": [
    "## 2. Data"
   ]
  },
  {
   "cell_type": "markdown",
   "metadata": {
    "colab_type": "text",
    "id": "MpX9zUAt82Tr"
   },
   "source": [
    "### Pre-Processing Data"
   ]
  },
  {
   "cell_type": "code",
   "execution_count": null,
   "metadata": {
    "colab": {},
    "colab_type": "code",
    "id": "W47O-_Df2HU-",
    "tags": [
     "outputPrepend",
     "outputPrepend"
    ]
   },
   "outputs": [],
   "source": [
    "def preprocessing_data(link_of_data) :\n",
    "  dataset = pd.read_csv(link_of_data,sep=\";\")\n",
    "  dataset = dataset.iloc[:,[0,7,9,10,11]]\n",
    "\n",
    "  sameMol = []\n",
    "  sameMolCount = {}\n",
    "  dataset_handle = []\n",
    "\n",
    "  # drop Nan value\n",
    "  mol_smiles = dataset.iloc[:,1].values.tolist()\n",
    "  row_drop = []\n",
    "  for i in range(len(mol_smiles)) :\n",
    "    if len(str(mol_smiles[i])) < 5 :\n",
    "      row_drop.append(i)\n",
    "  dfNan = dataset.iloc[row_drop,:]\n",
    "  dataset = dataset.drop(row_drop)\n",
    "\n",
    "  molDup = []\n",
    "  molDup1 = []\n",
    "  for x in dataset.values:\n",
    "    mol_name = x[0]\n",
    "    if mol_name in sameMol:\n",
    "      #print(\"uye\")\n",
    "      x[0] = mol_name+\"(\"+str(sameMolCount[mol_name])+\")\"\n",
    "      molDup.append(x[0])\n",
    "      molDup1.append(mol_name)\n",
    "      sameMolCount[mol_name] += 1\n",
    "    else:\n",
    "      sameMol.append(x[0])\n",
    "      sameMolCount[mol_name] = 1\n",
    "    dataset_handle.append(x)\n",
    "  dfMol = pd.DataFrame({\"mol\" : molDup, \"dup\" : molDup1})\n",
    "  dfMol.to_csv(\"dup.csv\")\n",
    "\n",
    "  #print(dataset_handle)\n",
    "    \n",
    "  list_of_column_dataframe = dataset.columns\n",
    "  list_of_dataset_after = []\n",
    "\n",
    "  list_of_dataset_before = np.array(dataset_handle)\n",
    "  \n",
    "  for data in list_of_dataset_before :\n",
    "    if data[2] == \"'='\" :\n",
    "      if data[4] == \"nM\" :\n",
    "        if data[3] < 10000 :\n",
    "          data[3] = data[3]/1000\n",
    "          list_of_dataset_after.append(data)\n",
    "\n",
    "  dataframe_of_dataset_after = pd.DataFrame(list_of_dataset_after)\n",
    "  dataframe_of_dataset_after.columns = list_of_column_dataframe\n",
    "  name_of_file_download = \"Dataset_After.csv\"\n",
    "  #dataframe_of_dataset_after.to_csv(name_of_file_download)\n",
    "  #files.download(name_of_file_download)\n",
    "  return dataframe_of_dataset_after\n",
    "\n",
    "# Run untuk mendapatkan datase setelah preprocessing\n",
    "#preprocessing_data(\"https://raw.githubusercontent.com/relfarizi/Final_Project/master/Data/Dataset_Before.csv\")"
   ]
  },
  {
   "cell_type": "markdown",
   "metadata": {
    "colab_type": "text",
    "id": "n_V57Wl-9BWQ"
   },
   "source": [
    "### Data After Pre-Processing"
   ]
  },
  {
   "cell_type": "code",
   "execution_count": null,
   "metadata": {
    "colab": {},
    "colab_type": "code",
    "id": "RA5IvTTn2pNb",
    "scrolled": true
   },
   "outputs": [],
   "source": [
    "# for colab\n",
    "\n",
    "#dataset = pd.read_csv('https://raw.githubusercontent.com/relfarizi/Final_Project/master/Data/Dataset_After.csv', index_col= 0)\n",
    "\n",
    "\n",
    "dataset = pd.read_csv('Dataset_After.csv',index_col = 0)\n",
    "dataset.head(5)"
   ]
  },
  {
   "cell_type": "markdown",
   "metadata": {
    "colab_type": "text",
    "id": "dTjFQtFBt6GP"
   },
   "source": [
    "#### - Fix Missing Value in Smiles"
   ]
  },
  {
   "cell_type": "code",
   "execution_count": null,
   "metadata": {
    "colab": {},
    "colab_type": "code",
    "id": "hmjrEPcEgMFh"
   },
   "outputs": [],
   "source": [
    "#dataset = dataset.dropna()\n",
    "mol_smiles = dataset.iloc[:,1].values.tolist()\n",
    "row_drop = []\n",
    "for i in range(len(mol_smiles)) :\n",
    "  if len(str(mol_smiles[i])) < 5 :\n",
    "    row_drop.append(i)\n",
    "print(row_drop)\n",
    "dataset.drop(row_drop)"
   ]
  },
  {
   "cell_type": "code",
   "execution_count": null,
   "metadata": {},
   "outputs": [],
   "source": [
    "dataset.iloc[row_drop,:]"
   ]
  },
  {
   "cell_type": "markdown",
   "metadata": {
    "colab_type": "text",
    "id": "jr6v-7v0j-JM"
   },
   "source": [
    "## 3. Fitur yang digunakan\n",
    "\n",
    "variabel yang digunakan :\n",
    "* mol_name = list nama molekul\n",
    "* mol_smile = list smile molekul\n",
    "* mol_act = list berisi nilai IC50\n",
    "* mol_fp = list yang berisi fingerprint dari setiap molekul"
   ]
  },
  {
   "cell_type": "code",
   "execution_count": null,
   "metadata": {
    "colab": {},
    "colab_type": "code",
    "id": "cIMuhWGr7zlj"
   },
   "outputs": [],
   "source": [
    "mol_name = dataset.iloc[:,0].values.tolist()\n",
    "mol_smiles = dataset.iloc[:,1].values.tolist()\n",
    "mol_act = dataset.iloc[:,3].values.tolist()\n",
    "\n",
    "mol_fp = []\n",
    "for molekul in mol_smiles :\n",
    "  smiles = Chem.MolFromSmiles(str(molekul))\n",
    "  fp = Chem.RDKFingerprint(smiles)\n",
    "  mol_fp.append(fp)\n"
   ]
  },
  {
   "cell_type": "code",
   "execution_count": null,
   "metadata": {
    "colab": {},
    "colab_type": "code",
    "id": "zsyu8ksX-UqX"
   },
   "outputs": [],
   "source": [
    "df = pd.DataFrame({'mol_name':mol_name,\n",
    "                       'mol_smiles' : mol_smiles,\n",
    "                       'mol_act':mol_act,\n",
    "                       'mol_fp' : mol_fp,\n",
    "                       })\n",
    "\n",
    "df.head()"
   ]
  },
  {
   "cell_type": "code",
   "execution_count": 13,
   "metadata": {
    "colab": {},
    "colab_type": "code",
    "id": "vRWCXOctv37L"
   },
   "outputs": [
    {
     "output_type": "execute_result",
     "data": {
      "text/plain": "        mol_name  mol_act                                             mol_fp\n0  CHEMBL2263120   0.7200  [0, 0, 1, 0, 0, 0, 1, 0, 1, 1, 0, 0, 0, 0, 0, ...\n1  CHEMBL2263121   3.3100  [0, 0, 0, 0, 0, 0, 1, 1, 1, 0, 1, 0, 0, 0, 0, ...\n2      CHEMBL168   5.0501  [0, 0, 0, 0, 0, 0, 1, 0, 1, 1, 0, 0, 0, 0, 0, ...\n3   CHEMBL508831   0.5400  [0, 0, 0, 0, 0, 0, 1, 0, 1, 1, 0, 0, 0, 0, 0, ...\n4   CHEMBL506556   0.6200  [0, 0, 0, 0, 0, 0, 1, 0, 1, 1, 0, 0, 0, 0, 1, ...",
      "text/html": "<div>\n<style scoped>\n    .dataframe tbody tr th:only-of-type {\n        vertical-align: middle;\n    }\n\n    .dataframe tbody tr th {\n        vertical-align: top;\n    }\n\n    .dataframe thead th {\n        text-align: right;\n    }\n</style>\n<table border=\"1\" class=\"dataframe\">\n  <thead>\n    <tr style=\"text-align: right;\">\n      <th></th>\n      <th>mol_name</th>\n      <th>mol_act</th>\n      <th>mol_fp</th>\n    </tr>\n  </thead>\n  <tbody>\n    <tr>\n      <th>0</th>\n      <td>CHEMBL2263120</td>\n      <td>0.7200</td>\n      <td>[0, 0, 1, 0, 0, 0, 1, 0, 1, 1, 0, 0, 0, 0, 0, ...</td>\n    </tr>\n    <tr>\n      <th>1</th>\n      <td>CHEMBL2263121</td>\n      <td>3.3100</td>\n      <td>[0, 0, 0, 0, 0, 0, 1, 1, 1, 0, 1, 0, 0, 0, 0, ...</td>\n    </tr>\n    <tr>\n      <th>2</th>\n      <td>CHEMBL168</td>\n      <td>5.0501</td>\n      <td>[0, 0, 0, 0, 0, 0, 1, 0, 1, 1, 0, 0, 0, 0, 0, ...</td>\n    </tr>\n    <tr>\n      <th>3</th>\n      <td>CHEMBL508831</td>\n      <td>0.5400</td>\n      <td>[0, 0, 0, 0, 0, 0, 1, 0, 1, 1, 0, 0, 0, 0, 0, ...</td>\n    </tr>\n    <tr>\n      <th>4</th>\n      <td>CHEMBL506556</td>\n      <td>0.6200</td>\n      <td>[0, 0, 0, 0, 0, 0, 1, 0, 1, 1, 0, 0, 0, 0, 1, ...</td>\n    </tr>\n  </tbody>\n</table>\n</div>"
     },
     "metadata": {},
     "execution_count": 13
    }
   ],
   "source": [
    "df_mol = df.iloc[:,[0,2,3]]\n",
    "df_mol.iloc[:5,:]"
   ]
  },
  {
   "cell_type": "code",
   "execution_count": 11,
   "metadata": {},
   "outputs": [
    {
     "output_type": "stream",
     "name": "stdout",
     "text": "<rdkit.DataStructs.cDataStructs.ExplicitBitVect object at 0x000001EE8E7F8C10>\n<rdkit.DataStructs.cDataStructs.ExplicitBitVect object at 0x000001EE91E4E670>\n<rdkit.DataStructs.cDataStructs.ExplicitBitVect object at 0x000001EE8E7F2670>\n<rdkit.DataStructs.cDataStructs.ExplicitBitVect object at 0x000001EE91E4EEE0>\n<rdkit.DataStructs.cDataStructs.ExplicitBitVect object at 0x000001EE91E4E030>\n<rdkit.DataStructs.cDataStructs.ExplicitBitVect object at 0x000001EE91E4E170>\n<rdkit.DataStructs.cDataStructs.ExplicitBitVect object at 0x000001EE91E4EB20>\n<rdkit.DataStructs.cDataStructs.ExplicitBitVect object at 0x000001EE91E45F80>\n<rdkit.DataStructs.cDataStructs.ExplicitBitVect object at 0x000001EE91E45120>\n<rdkit.DataStructs.cDataStructs.ExplicitBitVect object at 0x000001EE91E45620>\n<rdkit.DataStructs.cDataStructs.ExplicitBitVect object at 0x000001EE91E45940>\n<rdkit.DataStructs.cDataStructs.ExplicitBitVect object at 0x000001EE91E45760>\n<rdkit.DataStructs.cDataStructs.ExplicitBitVect object at 0x000001EE91E458F0>\n<rdkit.DataStructs.cDataStructs.ExplicitBitVect object at 0x000001EE91E45D50>\n<rdkit.DataStructs.cDataStructs.ExplicitBitVect object at 0x000001EE91E45E40>\n<rdkit.DataStructs.cDataStructs.ExplicitBitVect object at 0x000001EE91E45AD0>\n<rdkit.DataStructs.cDataStructs.ExplicitBitVect object at 0x000001EE91E45E90>\n<rdkit.DataStructs.cDataStructs.ExplicitBitVect object at 0x000001EE91E45EE0>\n<rdkit.DataStructs.cDataStructs.ExplicitBitVect object at 0x000001EE91E45A30>\n<rdkit.DataStructs.cDataStructs.ExplicitBitVect object at 0x000001EE91E45CB0>\n<rdkit.DataStructs.cDataStructs.ExplicitBitVect object at 0x000001EE91E45A80>\n<rdkit.DataStructs.cDataStructs.ExplicitBitVect object at 0x000001EE91E45850>\n<rdkit.DataStructs.cDataStructs.ExplicitBitVect object at 0x000001EE91E45DA0>\n<rdkit.DataStructs.cDataStructs.ExplicitBitVect object at 0x000001EE91E45DF0>\n<rdkit.DataStructs.cDataStructs.ExplicitBitVect object at 0x000001EE91E45C60>\n<rdkit.DataStructs.cDataStructs.ExplicitBitVect object at 0x000001EE91E45F30>\n<rdkit.DataStructs.cDataStructs.ExplicitBitVect object at 0x000001EE91E47350>\n<rdkit.DataStructs.cDataStructs.ExplicitBitVect object at 0x000001EE91E47710>\n<rdkit.DataStructs.cDataStructs.ExplicitBitVect object at 0x000001EE91E471C0>\n<rdkit.DataStructs.cDataStructs.ExplicitBitVect object at 0x000001EE91E47260>\n<rdkit.DataStructs.cDataStructs.ExplicitBitVect object at 0x000001EE91E476C0>\n<rdkit.DataStructs.cDataStructs.ExplicitBitVect object at 0x000001EE91E47210>\n<rdkit.DataStructs.cDataStructs.ExplicitBitVect object at 0x000001EE91E47030>\n<rdkit.DataStructs.cDataStructs.ExplicitBitVect object at 0x000001EE91E47080>\n<rdkit.DataStructs.cDataStructs.ExplicitBitVect object at 0x000001EE91E470D0>\n<rdkit.DataStructs.cDataStructs.ExplicitBitVect object at 0x000001EE91E47120>\n<rdkit.DataStructs.cDataStructs.ExplicitBitVect object at 0x000001EE91E47170>\n<rdkit.DataStructs.cDataStructs.ExplicitBitVect object at 0x000001EE91E473A0>\n<rdkit.DataStructs.cDataStructs.ExplicitBitVect object at 0x000001EE91E473F0>\n<rdkit.DataStructs.cDataStructs.ExplicitBitVect object at 0x000001EE91E47440>\n<rdkit.DataStructs.cDataStructs.ExplicitBitVect object at 0x000001EE91E474E0>\n<rdkit.DataStructs.cDataStructs.ExplicitBitVect object at 0x000001EE91E47490>\n<rdkit.DataStructs.cDataStructs.ExplicitBitVect object at 0x000001EE91E47530>\n<rdkit.DataStructs.cDataStructs.ExplicitBitVect object at 0x000001EE91E47580>\n<rdkit.DataStructs.cDataStructs.ExplicitBitVect object at 0x000001EE91E475D0>\n<rdkit.DataStructs.cDataStructs.ExplicitBitVect object at 0x000001EE91E47670>\n<rdkit.DataStructs.cDataStructs.ExplicitBitVect object at 0x000001EE91E47620>\n<rdkit.DataStructs.cDataStructs.ExplicitBitVect object at 0x000001EE91E47760>\n<rdkit.DataStructs.cDataStructs.ExplicitBitVect object at 0x000001EE91E477B0>\n<rdkit.DataStructs.cDataStructs.ExplicitBitVect object at 0x000001EE91E47800>\n<rdkit.DataStructs.cDataStructs.ExplicitBitVect object at 0x000001EE91E478A0>\n<rdkit.DataStructs.cDataStructs.ExplicitBitVect object at 0x000001EE91E47850>\n<rdkit.DataStructs.cDataStructs.ExplicitBitVect object at 0x000001EE91E478F0>\n<rdkit.DataStructs.cDataStructs.ExplicitBitVect object at 0x000001EE91E47940>\n<rdkit.DataStructs.cDataStructs.ExplicitBitVect object at 0x000001EE91E47990>\n<rdkit.DataStructs.cDataStructs.ExplicitBitVect object at 0x000001EE91E47A30>\n<rdkit.DataStructs.cDataStructs.ExplicitBitVect object at 0x000001EE91E479E0>\n<rdkit.DataStructs.cDataStructs.ExplicitBitVect object at 0x000001EE91E47A80>\n<rdkit.DataStructs.cDataStructs.ExplicitBitVect object at 0x000001EE91E47AD0>\n<rdkit.DataStructs.cDataStructs.ExplicitBitVect object at 0x000001EE91E47B20>\n<rdkit.DataStructs.cDataStructs.ExplicitBitVect object at 0x000001EE91E47BC0>\n<rdkit.DataStructs.cDataStructs.ExplicitBitVect object at 0x000001EE91E47B70>\n<rdkit.DataStructs.cDataStructs.ExplicitBitVect object at 0x000001EE91E47C10>\n<rdkit.DataStructs.cDataStructs.ExplicitBitVect object at 0x000001EE91E47C60>\n<rdkit.DataStructs.cDataStructs.ExplicitBitVect object at 0x000001EE91E47CB0>\n<rdkit.DataStructs.cDataStructs.ExplicitBitVect object at 0x000001EE91E47D00>\n<rdkit.DataStructs.cDataStructs.ExplicitBitVect object at 0x000001EE91E47D50>\n<rdkit.DataStructs.cDataStructs.ExplicitBitVect object at 0x000001EE91E47DA0>\n<rdkit.DataStructs.cDataStructs.ExplicitBitVect object at 0x000001EE91E47DF0>\n<rdkit.DataStructs.cDataStructs.ExplicitBitVect object at 0x000001EE91E47E40>\n<rdkit.DataStructs.cDataStructs.ExplicitBitVect object at 0x000001EE91E47E90>\n<rdkit.DataStructs.cDataStructs.ExplicitBitVect object at 0x000001EE91E47EE0>\n<rdkit.DataStructs.cDataStructs.ExplicitBitVect object at 0x000001EE91E47F30>\n<rdkit.DataStructs.cDataStructs.ExplicitBitVect object at 0x000001EE91E47F80>\n<rdkit.DataStructs.cDataStructs.ExplicitBitVect object at 0x000001EE91E54030>\n<rdkit.DataStructs.cDataStructs.ExplicitBitVect object at 0x000001EE91E54080>\n<rdkit.DataStructs.cDataStructs.ExplicitBitVect object at 0x000001EE91E540D0>\n<rdkit.DataStructs.cDataStructs.ExplicitBitVect object at 0x000001EE91E54120>\n<rdkit.DataStructs.cDataStructs.ExplicitBitVect object at 0x000001EE91E54170>\n<rdkit.DataStructs.cDataStructs.ExplicitBitVect object at 0x000001EE91E541C0>\n<rdkit.DataStructs.cDataStructs.ExplicitBitVect object at 0x000001EE91E54210>\n<rdkit.DataStructs.cDataStructs.ExplicitBitVect object at 0x000001EE91E54260>\n<rdkit.DataStructs.cDataStructs.ExplicitBitVect object at 0x000001EE91E542B0>\n<rdkit.DataStructs.cDataStructs.ExplicitBitVect object at 0x000001EE91E54300>\n<rdkit.DataStructs.cDataStructs.ExplicitBitVect object at 0x000001EE91E54350>\n<rdkit.DataStructs.cDataStructs.ExplicitBitVect object at 0x000001EE91E543A0>\n<rdkit.DataStructs.cDataStructs.ExplicitBitVect object at 0x000001EE91E543F0>\n<rdkit.DataStructs.cDataStructs.ExplicitBitVect object at 0x000001EE91E54440>\n<rdkit.DataStructs.cDataStructs.ExplicitBitVect object at 0x000001EE91E54490>\n<rdkit.DataStructs.cDataStructs.ExplicitBitVect object at 0x000001EE91E544E0>\n<rdkit.DataStructs.cDataStructs.ExplicitBitVect object at 0x000001EE91E54530>\n<rdkit.DataStructs.cDataStructs.ExplicitBitVect object at 0x000001EE91E54580>\n<rdkit.DataStructs.cDataStructs.ExplicitBitVect object at 0x000001EE91E545D0>\n<rdkit.DataStructs.cDataStructs.ExplicitBitVect object at 0x000001EE91E54620>\n<rdkit.DataStructs.cDataStructs.ExplicitBitVect object at 0x000001EE91E54670>\n<rdkit.DataStructs.cDataStructs.ExplicitBitVect object at 0x000001EE91E546C0>\n<rdkit.DataStructs.cDataStructs.ExplicitBitVect object at 0x000001EE91E54710>\n<rdkit.DataStructs.cDataStructs.ExplicitBitVect object at 0x000001EE91E54760>\n<rdkit.DataStructs.cDataStructs.ExplicitBitVect object at 0x000001EE91E547B0>\n<rdkit.DataStructs.cDataStructs.ExplicitBitVect object at 0x000001EE91E54800>\n<rdkit.DataStructs.cDataStructs.ExplicitBitVect object at 0x000001EE91E54850>\n<rdkit.DataStructs.cDataStructs.ExplicitBitVect object at 0x000001EE91E548A0>\n<rdkit.DataStructs.cDataStructs.ExplicitBitVect object at 0x000001EE91E548F0>\n<rdkit.DataStructs.cDataStructs.ExplicitBitVect object at 0x000001EE91E54940>\n<rdkit.DataStructs.cDataStructs.ExplicitBitVect object at 0x000001EE91E54990>\n<rdkit.DataStructs.cDataStructs.ExplicitBitVect object at 0x000001EE91E549E0>\n<rdkit.DataStructs.cDataStructs.ExplicitBitVect object at 0x000001EE91E54A30>\n<rdkit.DataStructs.cDataStructs.ExplicitBitVect object at 0x000001EE91E54A80>\n<rdkit.DataStructs.cDataStructs.ExplicitBitVect object at 0x000001EE91E54AD0>\n<rdkit.DataStructs.cDataStructs.ExplicitBitVect object at 0x000001EE91E54B20>\n<rdkit.DataStructs.cDataStructs.ExplicitBitVect object at 0x000001EE91E54B70>\n<rdkit.DataStructs.cDataStructs.ExplicitBitVect object at 0x000001EE91E54BC0>\n<rdkit.DataStructs.cDataStructs.ExplicitBitVect object at 0x000001EE91E54C10>\n<rdkit.DataStructs.cDataStructs.ExplicitBitVect object at 0x000001EE91E54C60>\n<rdkit.DataStructs.cDataStructs.ExplicitBitVect object at 0x000001EE91E54CB0>\n<rdkit.DataStructs.cDataStructs.ExplicitBitVect object at 0x000001EE91E54D00>\n<rdkit.DataStructs.cDataStructs.ExplicitBitVect object at 0x000001EE91E54D50>\n<rdkit.DataStructs.cDataStructs.ExplicitBitVect object at 0x000001EE91E54DA0>\n<rdkit.DataStructs.cDataStructs.ExplicitBitVect object at 0x000001EE91E54DF0>\n<rdkit.DataStructs.cDataStructs.ExplicitBitVect object at 0x000001EE91E54E40>\n<rdkit.DataStructs.cDataStructs.ExplicitBitVect object at 0x000001EE91E54E90>\n<rdkit.DataStructs.cDataStructs.ExplicitBitVect object at 0x000001EE91E54EE0>\n<rdkit.DataStructs.cDataStructs.ExplicitBitVect object at 0x000001EE91E54F30>\n<rdkit.DataStructs.cDataStructs.ExplicitBitVect object at 0x000001EE91E54F80>\n<rdkit.DataStructs.cDataStructs.ExplicitBitVect object at 0x000001EE91E58030>\n<rdkit.DataStructs.cDataStructs.ExplicitBitVect object at 0x000001EE91E58080>\n<rdkit.DataStructs.cDataStructs.ExplicitBitVect object at 0x000001EE91E580D0>\n<rdkit.DataStructs.cDataStructs.ExplicitBitVect object at 0x000001EE91E58120>\n<rdkit.DataStructs.cDataStructs.ExplicitBitVect object at 0x000001EE91E58170>\n<rdkit.DataStructs.cDataStructs.ExplicitBitVect object at 0x000001EE91E581C0>\n<rdkit.DataStructs.cDataStructs.ExplicitBitVect object at 0x000001EE91E58210>\n<rdkit.DataStructs.cDataStructs.ExplicitBitVect object at 0x000001EE91E58260>\n<rdkit.DataStructs.cDataStructs.ExplicitBitVect object at 0x000001EE91E582B0>\n<rdkit.DataStructs.cDataStructs.ExplicitBitVect object at 0x000001EE91E58300>\n<rdkit.DataStructs.cDataStructs.ExplicitBitVect object at 0x000001EE91E58350>\n<rdkit.DataStructs.cDataStructs.ExplicitBitVect object at 0x000001EE91E583A0>\n<rdkit.DataStructs.cDataStructs.ExplicitBitVect object at 0x000001EE91E583F0>\n<rdkit.DataStructs.cDataStructs.ExplicitBitVect object at 0x000001EE91E58440>\n<rdkit.DataStructs.cDataStructs.ExplicitBitVect object at 0x000001EE91E58490>\n<rdkit.DataStructs.cDataStructs.ExplicitBitVect object at 0x000001EE91E584E0>\n<rdkit.DataStructs.cDataStructs.ExplicitBitVect object at 0x000001EE91E58530>\n<rdkit.DataStructs.cDataStructs.ExplicitBitVect object at 0x000001EE91E58580>\n<rdkit.DataStructs.cDataStructs.ExplicitBitVect object at 0x000001EE91E585D0>\n<rdkit.DataStructs.cDataStructs.ExplicitBitVect object at 0x000001EE91E58620>\n<rdkit.DataStructs.cDataStructs.ExplicitBitVect object at 0x000001EE91E58670>\n<rdkit.DataStructs.cDataStructs.ExplicitBitVect object at 0x000001EE91E586C0>\n<rdkit.DataStructs.cDataStructs.ExplicitBitVect object at 0x000001EE91E58710>\n<rdkit.DataStructs.cDataStructs.ExplicitBitVect object at 0x000001EE91E58760>\n<rdkit.DataStructs.cDataStructs.ExplicitBitVect object at 0x000001EE91E587B0>\n<rdkit.DataStructs.cDataStructs.ExplicitBitVect object at 0x000001EE91E58800>\n<rdkit.DataStructs.cDataStructs.ExplicitBitVect object at 0x000001EE91E58850>\n<rdkit.DataStructs.cDataStructs.ExplicitBitVect object at 0x000001EE91E588A0>\n<rdkit.DataStructs.cDataStructs.ExplicitBitVect object at 0x000001EE91E588F0>\n<rdkit.DataStructs.cDataStructs.ExplicitBitVect object at 0x000001EE91E58940>\n<rdkit.DataStructs.cDataStructs.ExplicitBitVect object at 0x000001EE91E58990>\n<rdkit.DataStructs.cDataStructs.ExplicitBitVect object at 0x000001EE91E589E0>\n<rdkit.DataStructs.cDataStructs.ExplicitBitVect object at 0x000001EE91E58A30>\n<rdkit.DataStructs.cDataStructs.ExplicitBitVect object at 0x000001EE91E58A80>\n<rdkit.DataStructs.cDataStructs.ExplicitBitVect object at 0x000001EE91E58AD0>\n<rdkit.DataStructs.cDataStructs.ExplicitBitVect object at 0x000001EE91E58B20>\n<rdkit.DataStructs.cDataStructs.ExplicitBitVect object at 0x000001EE91E58B70>\n<rdkit.DataStructs.cDataStructs.ExplicitBitVect object at 0x000001EE91E58BC0>\n<rdkit.DataStructs.cDataStructs.ExplicitBitVect object at 0x000001EE91E58C10>\n<rdkit.DataStructs.cDataStructs.ExplicitBitVect object at 0x000001EE91E58C60>\n<rdkit.DataStructs.cDataStructs.ExplicitBitVect object at 0x000001EE91E58CB0>\n<rdkit.DataStructs.cDataStructs.ExplicitBitVect object at 0x000001EE91E58D00>\n<rdkit.DataStructs.cDataStructs.ExplicitBitVect object at 0x000001EE91E58D50>\n<rdkit.DataStructs.cDataStructs.ExplicitBitVect object at 0x000001EE91E58DA0>\n<rdkit.DataStructs.cDataStructs.ExplicitBitVect object at 0x000001EE91E58DF0>\n<rdkit.DataStructs.cDataStructs.ExplicitBitVect object at 0x000001EE91E58E40>\n<rdkit.DataStructs.cDataStructs.ExplicitBitVect object at 0x000001EE91E58E90>\n<rdkit.DataStructs.cDataStructs.ExplicitBitVect object at 0x000001EE91E58EE0>\n<rdkit.DataStructs.cDataStructs.ExplicitBitVect object at 0x000001EE91E58F30>\n<rdkit.DataStructs.cDataStructs.ExplicitBitVect object at 0x000001EE91E58F80>\n<rdkit.DataStructs.cDataStructs.ExplicitBitVect object at 0x000001EE91E66030>\n<rdkit.DataStructs.cDataStructs.ExplicitBitVect object at 0x000001EE91E66080>\n<rdkit.DataStructs.cDataStructs.ExplicitBitVect object at 0x000001EE91E660D0>\n<rdkit.DataStructs.cDataStructs.ExplicitBitVect object at 0x000001EE91E66120>\n<rdkit.DataStructs.cDataStructs.ExplicitBitVect object at 0x000001EE91E66170>\n<rdkit.DataStructs.cDataStructs.ExplicitBitVect object at 0x000001EE91E661C0>\n<rdkit.DataStructs.cDataStructs.ExplicitBitVect object at 0x000001EE91E66210>\n<rdkit.DataStructs.cDataStructs.ExplicitBitVect object at 0x000001EE91E66260>\n<rdkit.DataStructs.cDataStructs.ExplicitBitVect object at 0x000001EE91E662B0>\n<rdkit.DataStructs.cDataStructs.ExplicitBitVect object at 0x000001EE91E66300>\n<rdkit.DataStructs.cDataStructs.ExplicitBitVect object at 0x000001EE91E66350>\n<rdkit.DataStructs.cDataStructs.ExplicitBitVect object at 0x000001EE91E663A0>\n<rdkit.DataStructs.cDataStructs.ExplicitBitVect object at 0x000001EE91E663F0>\n<rdkit.DataStructs.cDataStructs.ExplicitBitVect object at 0x000001EE91E66440>\n<rdkit.DataStructs.cDataStructs.ExplicitBitVect object at 0x000001EE91E66490>\n<rdkit.DataStructs.cDataStructs.ExplicitBitVect object at 0x000001EE91E664E0>\n<rdkit.DataStructs.cDataStructs.ExplicitBitVect object at 0x000001EE91E66530>\n<rdkit.DataStructs.cDataStructs.ExplicitBitVect object at 0x000001EE91E66580>\n<rdkit.DataStructs.cDataStructs.ExplicitBitVect object at 0x000001EE91E665D0>\n<rdkit.DataStructs.cDataStructs.ExplicitBitVect object at 0x000001EE91E66620>\n<rdkit.DataStructs.cDataStructs.ExplicitBitVect object at 0x000001EE91E66670>\n<rdkit.DataStructs.cDataStructs.ExplicitBitVect object at 0x000001EE91E666C0>\n<rdkit.DataStructs.cDataStructs.ExplicitBitVect object at 0x000001EE91E66710>\n<rdkit.DataStructs.cDataStructs.ExplicitBitVect object at 0x000001EE91E66760>\n<rdkit.DataStructs.cDataStructs.ExplicitBitVect object at 0x000001EE91E667B0>\n<rdkit.DataStructs.cDataStructs.ExplicitBitVect object at 0x000001EE91E66800>\n<rdkit.DataStructs.cDataStructs.ExplicitBitVect object at 0x000001EE91E66850>\n<rdkit.DataStructs.cDataStructs.ExplicitBitVect object at 0x000001EE91E668A0>\n<rdkit.DataStructs.cDataStructs.ExplicitBitVect object at 0x000001EE91E668F0>\n<rdkit.DataStructs.cDataStructs.ExplicitBitVect object at 0x000001EE91E66940>\n<rdkit.DataStructs.cDataStructs.ExplicitBitVect object at 0x000001EE91E66990>\n<rdkit.DataStructs.cDataStructs.ExplicitBitVect object at 0x000001EE91E669E0>\n<rdkit.DataStructs.cDataStructs.ExplicitBitVect object at 0x000001EE91E66A30>\n<rdkit.DataStructs.cDataStructs.ExplicitBitVect object at 0x000001EE91E66A80>\n<rdkit.DataStructs.cDataStructs.ExplicitBitVect object at 0x000001EE91E66AD0>\n<rdkit.DataStructs.cDataStructs.ExplicitBitVect object at 0x000001EE91E66B20>\n<rdkit.DataStructs.cDataStructs.ExplicitBitVect object at 0x000001EE91E66B70>\n<rdkit.DataStructs.cDataStructs.ExplicitBitVect object at 0x000001EE91E66BC0>\n<rdkit.DataStructs.cDataStructs.ExplicitBitVect object at 0x000001EE91E66C10>\n<rdkit.DataStructs.cDataStructs.ExplicitBitVect object at 0x000001EE91E66C60>\n<rdkit.DataStructs.cDataStructs.ExplicitBitVect object at 0x000001EE91E66CB0>\n<rdkit.DataStructs.cDataStructs.ExplicitBitVect object at 0x000001EE91E66D00>\n<rdkit.DataStructs.cDataStructs.ExplicitBitVect object at 0x000001EE91E66D50>\n<rdkit.DataStructs.cDataStructs.ExplicitBitVect object at 0x000001EE91E66DA0>\n<rdkit.DataStructs.cDataStructs.ExplicitBitVect object at 0x000001EE91E66DF0>\n<rdkit.DataStructs.cDataStructs.ExplicitBitVect object at 0x000001EE91E66E40>\n<rdkit.DataStructs.cDataStructs.ExplicitBitVect object at 0x000001EE91E66E90>\n<rdkit.DataStructs.cDataStructs.ExplicitBitVect object at 0x000001EE91E66EE0>\n<rdkit.DataStructs.cDataStructs.ExplicitBitVect object at 0x000001EE91E66F30>\n<rdkit.DataStructs.cDataStructs.ExplicitBitVect object at 0x000001EE91E66F80>\n<rdkit.DataStructs.cDataStructs.ExplicitBitVect object at 0x000001EE91E67030>\n<rdkit.DataStructs.cDataStructs.ExplicitBitVect object at 0x000001EE91E67080>\n<rdkit.DataStructs.cDataStructs.ExplicitBitVect object at 0x000001EE91E670D0>\n<rdkit.DataStructs.cDataStructs.ExplicitBitVect object at 0x000001EE91E67120>\n<rdkit.DataStructs.cDataStructs.ExplicitBitVect object at 0x000001EE91E67170>\n<rdkit.DataStructs.cDataStructs.ExplicitBitVect object at 0x000001EE91E671C0>\n<rdkit.DataStructs.cDataStructs.ExplicitBitVect object at 0x000001EE91E67210>\n<rdkit.DataStructs.cDataStructs.ExplicitBitVect object at 0x000001EE91E67260>\n<rdkit.DataStructs.cDataStructs.ExplicitBitVect object at 0x000001EE91E672B0>\n<rdkit.DataStructs.cDataStructs.ExplicitBitVect object at 0x000001EE91E67300>\n<rdkit.DataStructs.cDataStructs.ExplicitBitVect object at 0x000001EE91E67350>\n<rdkit.DataStructs.cDataStructs.ExplicitBitVect object at 0x000001EE91E673A0>\n<rdkit.DataStructs.cDataStructs.ExplicitBitVect object at 0x000001EE91E673F0>\n<rdkit.DataStructs.cDataStructs.ExplicitBitVect object at 0x000001EE91E67440>\n<rdkit.DataStructs.cDataStructs.ExplicitBitVect object at 0x000001EE91E67490>\n<rdkit.DataStructs.cDataStructs.ExplicitBitVect object at 0x000001EE91E674E0>\n<rdkit.DataStructs.cDataStructs.ExplicitBitVect object at 0x000001EE91E67530>\n<rdkit.DataStructs.cDataStructs.ExplicitBitVect object at 0x000001EE91E67580>\n<rdkit.DataStructs.cDataStructs.ExplicitBitVect object at 0x000001EE91E675D0>\n<rdkit.DataStructs.cDataStructs.ExplicitBitVect object at 0x000001EE91E67620>\n<rdkit.DataStructs.cDataStructs.ExplicitBitVect object at 0x000001EE91E67670>\n<rdkit.DataStructs.cDataStructs.ExplicitBitVect object at 0x000001EE91E676C0>\n<rdkit.DataStructs.cDataStructs.ExplicitBitVect object at 0x000001EE91E67710>\n<rdkit.DataStructs.cDataStructs.ExplicitBitVect object at 0x000001EE91E67760>\n<rdkit.DataStructs.cDataStructs.ExplicitBitVect object at 0x000001EE91E677B0>\n<rdkit.DataStructs.cDataStructs.ExplicitBitVect object at 0x000001EE91E67800>\n<rdkit.DataStructs.cDataStructs.ExplicitBitVect object at 0x000001EE91E67850>\n<rdkit.DataStructs.cDataStructs.ExplicitBitVect object at 0x000001EE91E678A0>\n<rdkit.DataStructs.cDataStructs.ExplicitBitVect object at 0x000001EE91E678F0>\n<rdkit.DataStructs.cDataStructs.ExplicitBitVect object at 0x000001EE91E67940>\n<rdkit.DataStructs.cDataStructs.ExplicitBitVect object at 0x000001EE91E67990>\n<rdkit.DataStructs.cDataStructs.ExplicitBitVect object at 0x000001EE91E679E0>\n<rdkit.DataStructs.cDataStructs.ExplicitBitVect object at 0x000001EE91E67A30>\n<rdkit.DataStructs.cDataStructs.ExplicitBitVect object at 0x000001EE91E67A80>\n<rdkit.DataStructs.cDataStructs.ExplicitBitVect object at 0x000001EE91E67AD0>\n<rdkit.DataStructs.cDataStructs.ExplicitBitVect object at 0x000001EE91E67B20>\n<rdkit.DataStructs.cDataStructs.ExplicitBitVect object at 0x000001EE91E67B70>\n<rdkit.DataStructs.cDataStructs.ExplicitBitVect object at 0x000001EE91E67BC0>\n<rdkit.DataStructs.cDataStructs.ExplicitBitVect object at 0x000001EE91E67C10>\n<rdkit.DataStructs.cDataStructs.ExplicitBitVect object at 0x000001EE91E67C60>\n<rdkit.DataStructs.cDataStructs.ExplicitBitVect object at 0x000001EE91E67CB0>\n<rdkit.DataStructs.cDataStructs.ExplicitBitVect object at 0x000001EE91E67D00>\n<rdkit.DataStructs.cDataStructs.ExplicitBitVect object at 0x000001EE91E67D50>\n<rdkit.DataStructs.cDataStructs.ExplicitBitVect object at 0x000001EE91E67DA0>\n<rdkit.DataStructs.cDataStructs.ExplicitBitVect object at 0x000001EE91E67DF0>\n<rdkit.DataStructs.cDataStructs.ExplicitBitVect object at 0x000001EE91E67E40>\n<rdkit.DataStructs.cDataStructs.ExplicitBitVect object at 0x000001EE91E67E90>\n<rdkit.DataStructs.cDataStructs.ExplicitBitVect object at 0x000001EE91E67EE0>\n<rdkit.DataStructs.cDataStructs.ExplicitBitVect object at 0x000001EE91E67F30>\n<rdkit.DataStructs.cDataStructs.ExplicitBitVect object at 0x000001EE91E67F80>\n<rdkit.DataStructs.cDataStructs.ExplicitBitVect object at 0x000001EE91E68030>\n<rdkit.DataStructs.cDataStructs.ExplicitBitVect object at 0x000001EE91E68080>\n<rdkit.DataStructs.cDataStructs.ExplicitBitVect object at 0x000001EE91E680D0>\n<rdkit.DataStructs.cDataStructs.ExplicitBitVect object at 0x000001EE91E68120>\n<rdkit.DataStructs.cDataStructs.ExplicitBitVect object at 0x000001EE91E68170>\n<rdkit.DataStructs.cDataStructs.ExplicitBitVect object at 0x000001EE91E681C0>\n<rdkit.DataStructs.cDataStructs.ExplicitBitVect object at 0x000001EE91E68210>\n<rdkit.DataStructs.cDataStructs.ExplicitBitVect object at 0x000001EE91E68260>\n<rdkit.DataStructs.cDataStructs.ExplicitBitVect object at 0x000001EE91E682B0>\n<rdkit.DataStructs.cDataStructs.ExplicitBitVect object at 0x000001EE91E68300>\n<rdkit.DataStructs.cDataStructs.ExplicitBitVect object at 0x000001EE91E68350>\n<rdkit.DataStructs.cDataStructs.ExplicitBitVect object at 0x000001EE91E683A0>\n<rdkit.DataStructs.cDataStructs.ExplicitBitVect object at 0x000001EE91E683F0>\n<rdkit.DataStructs.cDataStructs.ExplicitBitVect object at 0x000001EE91E68440>\n<rdkit.DataStructs.cDataStructs.ExplicitBitVect object at 0x000001EE91E68490>\n<rdkit.DataStructs.cDataStructs.ExplicitBitVect object at 0x000001EE91E684E0>\n<rdkit.DataStructs.cDataStructs.ExplicitBitVect object at 0x000001EE91E68530>\n<rdkit.DataStructs.cDataStructs.ExplicitBitVect object at 0x000001EE91E68580>\n<rdkit.DataStructs.cDataStructs.ExplicitBitVect object at 0x000001EE91E685D0>\n<rdkit.DataStructs.cDataStructs.ExplicitBitVect object at 0x000001EE91E68620>\n<rdkit.DataStructs.cDataStructs.ExplicitBitVect object at 0x000001EE91E68670>\n<rdkit.DataStructs.cDataStructs.ExplicitBitVect object at 0x000001EE91E686C0>\n<rdkit.DataStructs.cDataStructs.ExplicitBitVect object at 0x000001EE91E68710>\n<rdkit.DataStructs.cDataStructs.ExplicitBitVect object at 0x000001EE91E68760>\n<rdkit.DataStructs.cDataStructs.ExplicitBitVect object at 0x000001EE91E687B0>\n<rdkit.DataStructs.cDataStructs.ExplicitBitVect object at 0x000001EE91E68800>\n<rdkit.DataStructs.cDataStructs.ExplicitBitVect object at 0x000001EE91E68850>\n<rdkit.DataStructs.cDataStructs.ExplicitBitVect object at 0x000001EE91E688A0>\n<rdkit.DataStructs.cDataStructs.ExplicitBitVect object at 0x000001EE91E688F0>\n<rdkit.DataStructs.cDataStructs.ExplicitBitVect object at 0x000001EE91E68940>\n<rdkit.DataStructs.cDataStructs.ExplicitBitVect object at 0x000001EE91E68990>\n<rdkit.DataStructs.cDataStructs.ExplicitBitVect object at 0x000001EE91E689E0>\n<rdkit.DataStructs.cDataStructs.ExplicitBitVect object at 0x000001EE91E68A30>\n<rdkit.DataStructs.cDataStructs.ExplicitBitVect object at 0x000001EE91E68A80>\n<rdkit.DataStructs.cDataStructs.ExplicitBitVect object at 0x000001EE91E68AD0>\n<rdkit.DataStructs.cDataStructs.ExplicitBitVect object at 0x000001EE91E68B20>\n<rdkit.DataStructs.cDataStructs.ExplicitBitVect object at 0x000001EE91E68B70>\n<rdkit.DataStructs.cDataStructs.ExplicitBitVect object at 0x000001EE91E68BC0>\n<rdkit.DataStructs.cDataStructs.ExplicitBitVect object at 0x000001EE91E68C10>\n<rdkit.DataStructs.cDataStructs.ExplicitBitVect object at 0x000001EE91E68C60>\n<rdkit.DataStructs.cDataStructs.ExplicitBitVect object at 0x000001EE91E68CB0>\n<rdkit.DataStructs.cDataStructs.ExplicitBitVect object at 0x000001EE91E68D00>\n<rdkit.DataStructs.cDataStructs.ExplicitBitVect object at 0x000001EE91E68D50>\n<rdkit.DataStructs.cDataStructs.ExplicitBitVect object at 0x000001EE91E68DA0>\n<rdkit.DataStructs.cDataStructs.ExplicitBitVect object at 0x000001EE91E68DF0>\n<rdkit.DataStructs.cDataStructs.ExplicitBitVect object at 0x000001EE91E68E40>\n<rdkit.DataStructs.cDataStructs.ExplicitBitVect object at 0x000001EE91E68E90>\n<rdkit.DataStructs.cDataStructs.ExplicitBitVect object at 0x000001EE91E68EE0>\n<rdkit.DataStructs.cDataStructs.ExplicitBitVect object at 0x000001EE91E68F30>\n<rdkit.DataStructs.cDataStructs.ExplicitBitVect object at 0x000001EE91E68F80>\n<rdkit.DataStructs.cDataStructs.ExplicitBitVect object at 0x000001EE91E69030>\n<rdkit.DataStructs.cDataStructs.ExplicitBitVect object at 0x000001EE91E69080>\n<rdkit.DataStructs.cDataStructs.ExplicitBitVect object at 0x000001EE91E690D0>\n<rdkit.DataStructs.cDataStructs.ExplicitBitVect object at 0x000001EE91E69120>\n<rdkit.DataStructs.cDataStructs.ExplicitBitVect object at 0x000001EE91E69170>\n<rdkit.DataStructs.cDataStructs.ExplicitBitVect object at 0x000001EE91E691C0>\n<rdkit.DataStructs.cDataStructs.ExplicitBitVect object at 0x000001EE91E69210>\n<rdkit.DataStructs.cDataStructs.ExplicitBitVect object at 0x000001EE91E69260>\n<rdkit.DataStructs.cDataStructs.ExplicitBitVect object at 0x000001EE91E692B0>\n<rdkit.DataStructs.cDataStructs.ExplicitBitVect object at 0x000001EE91E69300>\n<rdkit.DataStructs.cDataStructs.ExplicitBitVect object at 0x000001EE91E69350>\n<rdkit.DataStructs.cDataStructs.ExplicitBitVect object at 0x000001EE91E693A0>\n<rdkit.DataStructs.cDataStructs.ExplicitBitVect object at 0x000001EE91E693F0>\n<rdkit.DataStructs.cDataStructs.ExplicitBitVect object at 0x000001EE91E69440>\n<rdkit.DataStructs.cDataStructs.ExplicitBitVect object at 0x000001EE91E69490>\n<rdkit.DataStructs.cDataStructs.ExplicitBitVect object at 0x000001EE91E694E0>\n<rdkit.DataStructs.cDataStructs.ExplicitBitVect object at 0x000001EE91E69530>\n<rdkit.DataStructs.cDataStructs.ExplicitBitVect object at 0x000001EE91E69580>\n<rdkit.DataStructs.cDataStructs.ExplicitBitVect object at 0x000001EE91E695D0>\n<rdkit.DataStructs.cDataStructs.ExplicitBitVect object at 0x000001EE91E69620>\n<rdkit.DataStructs.cDataStructs.ExplicitBitVect object at 0x000001EE91E69670>\n<rdkit.DataStructs.cDataStructs.ExplicitBitVect object at 0x000001EE91E696C0>\n<rdkit.DataStructs.cDataStructs.ExplicitBitVect object at 0x000001EE91E69710>\n<rdkit.DataStructs.cDataStructs.ExplicitBitVect object at 0x000001EE91E69760>\n<rdkit.DataStructs.cDataStructs.ExplicitBitVect object at 0x000001EE91E697B0>\n<rdkit.DataStructs.cDataStructs.ExplicitBitVect object at 0x000001EE91E69800>\n<rdkit.DataStructs.cDataStructs.ExplicitBitVect object at 0x000001EE91E69850>\n<rdkit.DataStructs.cDataStructs.ExplicitBitVect object at 0x000001EE91E698A0>\n<rdkit.DataStructs.cDataStructs.ExplicitBitVect object at 0x000001EE91E698F0>\n<rdkit.DataStructs.cDataStructs.ExplicitBitVect object at 0x000001EE91E69940>\n<rdkit.DataStructs.cDataStructs.ExplicitBitVect object at 0x000001EE91E69990>\n<rdkit.DataStructs.cDataStructs.ExplicitBitVect object at 0x000001EE91E699E0>\n<rdkit.DataStructs.cDataStructs.ExplicitBitVect object at 0x000001EE91E69A30>\n<rdkit.DataStructs.cDataStructs.ExplicitBitVect object at 0x000001EE91E69A80>\n<rdkit.DataStructs.cDataStructs.ExplicitBitVect object at 0x000001EE91E69AD0>\n<rdkit.DataStructs.cDataStructs.ExplicitBitVect object at 0x000001EE91E69B20>\n<rdkit.DataStructs.cDataStructs.ExplicitBitVect object at 0x000001EE91E69B70>\n<rdkit.DataStructs.cDataStructs.ExplicitBitVect object at 0x000001EE91E69BC0>\n<rdkit.DataStructs.cDataStructs.ExplicitBitVect object at 0x000001EE91E69C10>\n<rdkit.DataStructs.cDataStructs.ExplicitBitVect object at 0x000001EE91E69C60>\n<rdkit.DataStructs.cDataStructs.ExplicitBitVect object at 0x000001EE91E69CB0>\n<rdkit.DataStructs.cDataStructs.ExplicitBitVect object at 0x000001EE91E69D00>\n<rdkit.DataStructs.cDataStructs.ExplicitBitVect object at 0x000001EE91E69D50>\n<rdkit.DataStructs.cDataStructs.ExplicitBitVect object at 0x000001EE91E69DA0>\n<rdkit.DataStructs.cDataStructs.ExplicitBitVect object at 0x000001EE91E69DF0>\n<rdkit.DataStructs.cDataStructs.ExplicitBitVect object at 0x000001EE91E69E40>\n<rdkit.DataStructs.cDataStructs.ExplicitBitVect object at 0x000001EE91E69E90>\n<rdkit.DataStructs.cDataStructs.ExplicitBitVect object at 0x000001EE91E69EE0>\n<rdkit.DataStructs.cDataStructs.ExplicitBitVect object at 0x000001EE91E69F30>\n<rdkit.DataStructs.cDataStructs.ExplicitBitVect object at 0x000001EE91E69F80>\n<rdkit.DataStructs.cDataStructs.ExplicitBitVect object at 0x000001EE91E6A030>\n<rdkit.DataStructs.cDataStructs.ExplicitBitVect object at 0x000001EE91E6A080>\n<rdkit.DataStructs.cDataStructs.ExplicitBitVect object at 0x000001EE91E6A0D0>\n<rdkit.DataStructs.cDataStructs.ExplicitBitVect object at 0x000001EE91E6A120>\n<rdkit.DataStructs.cDataStructs.ExplicitBitVect object at 0x000001EE91E6A170>\n<rdkit.DataStructs.cDataStructs.ExplicitBitVect object at 0x000001EE91E6A1C0>\n<rdkit.DataStructs.cDataStructs.ExplicitBitVect object at 0x000001EE91E6A210>\n<rdkit.DataStructs.cDataStructs.ExplicitBitVect object at 0x000001EE91E6A260>\n<rdkit.DataStructs.cDataStructs.ExplicitBitVect object at 0x000001EE91E6A2B0>\n<rdkit.DataStructs.cDataStructs.ExplicitBitVect object at 0x000001EE91E6A300>\n<rdkit.DataStructs.cDataStructs.ExplicitBitVect object at 0x000001EE91E6A350>\n<rdkit.DataStructs.cDataStructs.ExplicitBitVect object at 0x000001EE91E6A3A0>\n<rdkit.DataStructs.cDataStructs.ExplicitBitVect object at 0x000001EE91E6A3F0>\n<rdkit.DataStructs.cDataStructs.ExplicitBitVect object at 0x000001EE91E6A440>\n<rdkit.DataStructs.cDataStructs.ExplicitBitVect object at 0x000001EE91E6A490>\n<rdkit.DataStructs.cDataStructs.ExplicitBitVect object at 0x000001EE91E6A4E0>\n<rdkit.DataStructs.cDataStructs.ExplicitBitVect object at 0x000001EE91E6A530>\n<rdkit.DataStructs.cDataStructs.ExplicitBitVect object at 0x000001EE91E6A580>\n<rdkit.DataStructs.cDataStructs.ExplicitBitVect object at 0x000001EE91E6A5D0>\n<rdkit.DataStructs.cDataStructs.ExplicitBitVect object at 0x000001EE91E6A620>\n<rdkit.DataStructs.cDataStructs.ExplicitBitVect object at 0x000001EE91E6A670>\n<rdkit.DataStructs.cDataStructs.ExplicitBitVect object at 0x000001EE91E6A6C0>\n<rdkit.DataStructs.cDataStructs.ExplicitBitVect object at 0x000001EE91E6A710>\n<rdkit.DataStructs.cDataStructs.ExplicitBitVect object at 0x000001EE91E6A760>\n<rdkit.DataStructs.cDataStructs.ExplicitBitVect object at 0x000001EE91E6A7B0>\n<rdkit.DataStructs.cDataStructs.ExplicitBitVect object at 0x000001EE91E6A800>\n<rdkit.DataStructs.cDataStructs.ExplicitBitVect object at 0x000001EE91E6A850>\n<rdkit.DataStructs.cDataStructs.ExplicitBitVect object at 0x000001EE91E6A8A0>\n<rdkit.DataStructs.cDataStructs.ExplicitBitVect object at 0x000001EE91E6A8F0>\n<rdkit.DataStructs.cDataStructs.ExplicitBitVect object at 0x000001EE91E6A940>\n<rdkit.DataStructs.cDataStructs.ExplicitBitVect object at 0x000001EE91E6A990>\n<rdkit.DataStructs.cDataStructs.ExplicitBitVect object at 0x000001EE91E6A9E0>\n<rdkit.DataStructs.cDataStructs.ExplicitBitVect object at 0x000001EE91E6AA30>\n<rdkit.DataStructs.cDataStructs.ExplicitBitVect object at 0x000001EE91E6AA80>\n<rdkit.DataStructs.cDataStructs.ExplicitBitVect object at 0x000001EE91E6AAD0>\n<rdkit.DataStructs.cDataStructs.ExplicitBitVect object at 0x000001EE91E6AB20>\n<rdkit.DataStructs.cDataStructs.ExplicitBitVect object at 0x000001EE91E6AB70>\n<rdkit.DataStructs.cDataStructs.ExplicitBitVect object at 0x000001EE91E6ABC0>\n<rdkit.DataStructs.cDataStructs.ExplicitBitVect object at 0x000001EE91E6AC10>\n<rdkit.DataStructs.cDataStructs.ExplicitBitVect object at 0x000001EE91E6AC60>\n<rdkit.DataStructs.cDataStructs.ExplicitBitVect object at 0x000001EE91E6ACB0>\n<rdkit.DataStructs.cDataStructs.ExplicitBitVect object at 0x000001EE91E6AD00>\n<rdkit.DataStructs.cDataStructs.ExplicitBitVect object at 0x000001EE91E6AD50>\n<rdkit.DataStructs.cDataStructs.ExplicitBitVect object at 0x000001EE91E6ADA0>\n<rdkit.DataStructs.cDataStructs.ExplicitBitVect object at 0x000001EE91E6ADF0>\n<rdkit.DataStructs.cDataStructs.ExplicitBitVect object at 0x000001EE91E6AE40>\n<rdkit.DataStructs.cDataStructs.ExplicitBitVect object at 0x000001EE91E6AE90>\n<rdkit.DataStructs.cDataStructs.ExplicitBitVect object at 0x000001EE91E6AEE0>\n<rdkit.DataStructs.cDataStructs.ExplicitBitVect object at 0x000001EE91E6AF30>\n<rdkit.DataStructs.cDataStructs.ExplicitBitVect object at 0x000001EE91E6AF80>\n<rdkit.DataStructs.cDataStructs.ExplicitBitVect object at 0x000001EE91E6B030>\n<rdkit.DataStructs.cDataStructs.ExplicitBitVect object at 0x000001EE91E6B080>\n<rdkit.DataStructs.cDataStructs.ExplicitBitVect object at 0x000001EE91E6B0D0>\n<rdkit.DataStructs.cDataStructs.ExplicitBitVect object at 0x000001EE91E6B120>\n<rdkit.DataStructs.cDataStructs.ExplicitBitVect object at 0x000001EE91E6B170>\n<rdkit.DataStructs.cDataStructs.ExplicitBitVect object at 0x000001EE91E6B1C0>\n<rdkit.DataStructs.cDataStructs.ExplicitBitVect object at 0x000001EE91E6B210>\n<rdkit.DataStructs.cDataStructs.ExplicitBitVect object at 0x000001EE91E6B260>\n<rdkit.DataStructs.cDataStructs.ExplicitBitVect object at 0x000001EE91E6B2B0>\n<rdkit.DataStructs.cDataStructs.ExplicitBitVect object at 0x000001EE91E6B300>\n<rdkit.DataStructs.cDataStructs.ExplicitBitVect object at 0x000001EE91E6B350>\n<rdkit.DataStructs.cDataStructs.ExplicitBitVect object at 0x000001EE91E6B3A0>\n<rdkit.DataStructs.cDataStructs.ExplicitBitVect object at 0x000001EE91E6B3F0>\n<rdkit.DataStructs.cDataStructs.ExplicitBitVect object at 0x000001EE91E6B440>\n<rdkit.DataStructs.cDataStructs.ExplicitBitVect object at 0x000001EE91E6B490>\n<rdkit.DataStructs.cDataStructs.ExplicitBitVect object at 0x000001EE91E6B4E0>\n<rdkit.DataStructs.cDataStructs.ExplicitBitVect object at 0x000001EE91E6B530>\n<rdkit.DataStructs.cDataStructs.ExplicitBitVect object at 0x000001EE91E6B580>\n<rdkit.DataStructs.cDataStructs.ExplicitBitVect object at 0x000001EE91E6B5D0>\n<rdkit.DataStructs.cDataStructs.ExplicitBitVect object at 0x000001EE91E6B620>\n<rdkit.DataStructs.cDataStructs.ExplicitBitVect object at 0x000001EE91E6B670>\n<rdkit.DataStructs.cDataStructs.ExplicitBitVect object at 0x000001EE91E6B6C0>\n<rdkit.DataStructs.cDataStructs.ExplicitBitVect object at 0x000001EE91E6B710>\n<rdkit.DataStructs.cDataStructs.ExplicitBitVect object at 0x000001EE91E6B760>\n<rdkit.DataStructs.cDataStructs.ExplicitBitVect object at 0x000001EE91E6B7B0>\n<rdkit.DataStructs.cDataStructs.ExplicitBitVect object at 0x000001EE91E6B800>\n<rdkit.DataStructs.cDataStructs.ExplicitBitVect object at 0x000001EE91E6B850>\n<rdkit.DataStructs.cDataStructs.ExplicitBitVect object at 0x000001EE91E6B8A0>\n<rdkit.DataStructs.cDataStructs.ExplicitBitVect object at 0x000001EE91E6B8F0>\n<rdkit.DataStructs.cDataStructs.ExplicitBitVect object at 0x000001EE91E6B940>\n<rdkit.DataStructs.cDataStructs.ExplicitBitVect object at 0x000001EE91E6B990>\n<rdkit.DataStructs.cDataStructs.ExplicitBitVect object at 0x000001EE91E6B9E0>\n<rdkit.DataStructs.cDataStructs.ExplicitBitVect object at 0x000001EE91E6BA30>\n<rdkit.DataStructs.cDataStructs.ExplicitBitVect object at 0x000001EE91E6BA80>\n<rdkit.DataStructs.cDataStructs.ExplicitBitVect object at 0x000001EE91E6BAD0>\n<rdkit.DataStructs.cDataStructs.ExplicitBitVect object at 0x000001EE91E6BB20>\n<rdkit.DataStructs.cDataStructs.ExplicitBitVect object at 0x000001EE91E6BB70>\n<rdkit.DataStructs.cDataStructs.ExplicitBitVect object at 0x000001EE91E6BBC0>\n<rdkit.DataStructs.cDataStructs.ExplicitBitVect object at 0x000001EE91E6BC10>\n<rdkit.DataStructs.cDataStructs.ExplicitBitVect object at 0x000001EE91E6BC60>\n<rdkit.DataStructs.cDataStructs.ExplicitBitVect object at 0x000001EE91E6BCB0>\n<rdkit.DataStructs.cDataStructs.ExplicitBitVect object at 0x000001EE91E6BD00>\n<rdkit.DataStructs.cDataStructs.ExplicitBitVect object at 0x000001EE91E6BD50>\n<rdkit.DataStructs.cDataStructs.ExplicitBitVect object at 0x000001EE91E6BDA0>\n<rdkit.DataStructs.cDataStructs.ExplicitBitVect object at 0x000001EE91E6BDF0>\n<rdkit.DataStructs.cDataStructs.ExplicitBitVect object at 0x000001EE91E6BE40>\n<rdkit.DataStructs.cDataStructs.ExplicitBitVect object at 0x000001EE91E6BE90>\n<rdkit.DataStructs.cDataStructs.ExplicitBitVect object at 0x000001EE91E6BEE0>\n<rdkit.DataStructs.cDataStructs.ExplicitBitVect object at 0x000001EE91E6BF30>\n<rdkit.DataStructs.cDataStructs.ExplicitBitVect object at 0x000001EE91E6BF80>\n<rdkit.DataStructs.cDataStructs.ExplicitBitVect object at 0x000001EE91E6C030>\n<rdkit.DataStructs.cDataStructs.ExplicitBitVect object at 0x000001EE91E6C080>\n<rdkit.DataStructs.cDataStructs.ExplicitBitVect object at 0x000001EE91E6C0D0>\n<rdkit.DataStructs.cDataStructs.ExplicitBitVect object at 0x000001EE91E6C120>\n<rdkit.DataStructs.cDataStructs.ExplicitBitVect object at 0x000001EE91E6C170>\n<rdkit.DataStructs.cDataStructs.ExplicitBitVect object at 0x000001EE91E6C1C0>\n<rdkit.DataStructs.cDataStructs.ExplicitBitVect object at 0x000001EE91E6C210>\n<rdkit.DataStructs.cDataStructs.ExplicitBitVect object at 0x000001EE91E6C260>\n<rdkit.DataStructs.cDataStructs.ExplicitBitVect object at 0x000001EE91E6C2B0>\n<rdkit.DataStructs.cDataStructs.ExplicitBitVect object at 0x000001EE91E6C300>\n<rdkit.DataStructs.cDataStructs.ExplicitBitVect object at 0x000001EE91E6C350>\n<rdkit.DataStructs.cDataStructs.ExplicitBitVect object at 0x000001EE91E6C3A0>\n<rdkit.DataStructs.cDataStructs.ExplicitBitVect object at 0x000001EE91E6C3F0>\n<rdkit.DataStructs.cDataStructs.ExplicitBitVect object at 0x000001EE91E6C440>\n<rdkit.DataStructs.cDataStructs.ExplicitBitVect object at 0x000001EE91E6C490>\n<rdkit.DataStructs.cDataStructs.ExplicitBitVect object at 0x000001EE91E6C4E0>\n<rdkit.DataStructs.cDataStructs.ExplicitBitVect object at 0x000001EE91E6C530>\n<rdkit.DataStructs.cDataStructs.ExplicitBitVect object at 0x000001EE91E6C580>\n<rdkit.DataStructs.cDataStructs.ExplicitBitVect object at 0x000001EE91E6C5D0>\n<rdkit.DataStructs.cDataStructs.ExplicitBitVect object at 0x000001EE91E6C620>\n<rdkit.DataStructs.cDataStructs.ExplicitBitVect object at 0x000001EE91E6C670>\n<rdkit.DataStructs.cDataStructs.ExplicitBitVect object at 0x000001EE91E6C6C0>\n<rdkit.DataStructs.cDataStructs.ExplicitBitVect object at 0x000001EE91E6C710>\n<rdkit.DataStructs.cDataStructs.ExplicitBitVect object at 0x000001EE91E6C760>\n<rdkit.DataStructs.cDataStructs.ExplicitBitVect object at 0x000001EE91E6C7B0>\n<rdkit.DataStructs.cDataStructs.ExplicitBitVect object at 0x000001EE91E6C800>\n<rdkit.DataStructs.cDataStructs.ExplicitBitVect object at 0x000001EE91E6C850>\n<rdkit.DataStructs.cDataStructs.ExplicitBitVect object at 0x000001EE91E6C8A0>\n<rdkit.DataStructs.cDataStructs.ExplicitBitVect object at 0x000001EE91E6C8F0>\n<rdkit.DataStructs.cDataStructs.ExplicitBitVect object at 0x000001EE91E6C940>\n<rdkit.DataStructs.cDataStructs.ExplicitBitVect object at 0x000001EE91E6C990>\n<rdkit.DataStructs.cDataStructs.ExplicitBitVect object at 0x000001EE91E6C9E0>\n<rdkit.DataStructs.cDataStructs.ExplicitBitVect object at 0x000001EE91E6CA30>\n<rdkit.DataStructs.cDataStructs.ExplicitBitVect object at 0x000001EE91E6CA80>\n<rdkit.DataStructs.cDataStructs.ExplicitBitVect object at 0x000001EE91E6CAD0>\n<rdkit.DataStructs.cDataStructs.ExplicitBitVect object at 0x000001EE91E6CB20>\n<rdkit.DataStructs.cDataStructs.ExplicitBitVect object at 0x000001EE91E6CB70>\n<rdkit.DataStructs.cDataStructs.ExplicitBitVect object at 0x000001EE91E6CBC0>\n<rdkit.DataStructs.cDataStructs.ExplicitBitVect object at 0x000001EE91E6CC10>\n<rdkit.DataStructs.cDataStructs.ExplicitBitVect object at 0x000001EE91E6CC60>\n<rdkit.DataStructs.cDataStructs.ExplicitBitVect object at 0x000001EE91E6CCB0>\n<rdkit.DataStructs.cDataStructs.ExplicitBitVect object at 0x000001EE91E6CD00>\n<rdkit.DataStructs.cDataStructs.ExplicitBitVect object at 0x000001EE91E6CD50>\n<rdkit.DataStructs.cDataStructs.ExplicitBitVect object at 0x000001EE91E6CDA0>\n<rdkit.DataStructs.cDataStructs.ExplicitBitVect object at 0x000001EE91E6CDF0>\n<rdkit.DataStructs.cDataStructs.ExplicitBitVect object at 0x000001EE91E6CE40>\n<rdkit.DataStructs.cDataStructs.ExplicitBitVect object at 0x000001EE91E6CE90>\n<rdkit.DataStructs.cDataStructs.ExplicitBitVect object at 0x000001EE91E6CEE0>\n<rdkit.DataStructs.cDataStructs.ExplicitBitVect object at 0x000001EE91E6CF30>\n<rdkit.DataStructs.cDataStructs.ExplicitBitVect object at 0x000001EE91E6CF80>\n<rdkit.DataStructs.cDataStructs.ExplicitBitVect object at 0x000001EE91E6D030>\n<rdkit.DataStructs.cDataStructs.ExplicitBitVect object at 0x000001EE91E6D080>\n<rdkit.DataStructs.cDataStructs.ExplicitBitVect object at 0x000001EE91E6D0D0>\n<rdkit.DataStructs.cDataStructs.ExplicitBitVect object at 0x000001EE91E6D120>\n<rdkit.DataStructs.cDataStructs.ExplicitBitVect object at 0x000001EE91E6D170>\n<rdkit.DataStructs.cDataStructs.ExplicitBitVect object at 0x000001EE91E6D1C0>\n<rdkit.DataStructs.cDataStructs.ExplicitBitVect object at 0x000001EE91E6D210>\n<rdkit.DataStructs.cDataStructs.ExplicitBitVect object at 0x000001EE91E6D260>\n<rdkit.DataStructs.cDataStructs.ExplicitBitVect object at 0x000001EE91E6D2B0>\n<rdkit.DataStructs.cDataStructs.ExplicitBitVect object at 0x000001EE91E6D300>\n<rdkit.DataStructs.cDataStructs.ExplicitBitVect object at 0x000001EE91E6D350>\n<rdkit.DataStructs.cDataStructs.ExplicitBitVect object at 0x000001EE91E6D3A0>\n<rdkit.DataStructs.cDataStructs.ExplicitBitVect object at 0x000001EE91E6D3F0>\n<rdkit.DataStructs.cDataStructs.ExplicitBitVect object at 0x000001EE91E6D440>\n<rdkit.DataStructs.cDataStructs.ExplicitBitVect object at 0x000001EE91E6D490>\n<rdkit.DataStructs.cDataStructs.ExplicitBitVect object at 0x000001EE91E6D4E0>\n<rdkit.DataStructs.cDataStructs.ExplicitBitVect object at 0x000001EE91E6D530>\n<rdkit.DataStructs.cDataStructs.ExplicitBitVect object at 0x000001EE91E6D580>\n<rdkit.DataStructs.cDataStructs.ExplicitBitVect object at 0x000001EE91E6D5D0>\n<rdkit.DataStructs.cDataStructs.ExplicitBitVect object at 0x000001EE91E6D620>\n<rdkit.DataStructs.cDataStructs.ExplicitBitVect object at 0x000001EE91E6D670>\n<rdkit.DataStructs.cDataStructs.ExplicitBitVect object at 0x000001EE91E6D6C0>\n<rdkit.DataStructs.cDataStructs.ExplicitBitVect object at 0x000001EE91E6D710>\n<rdkit.DataStructs.cDataStructs.ExplicitBitVect object at 0x000001EE91E6D760>\n<rdkit.DataStructs.cDataStructs.ExplicitBitVect object at 0x000001EE91E6D7B0>\n<rdkit.DataStructs.cDataStructs.ExplicitBitVect object at 0x000001EE91E6D800>\n<rdkit.DataStructs.cDataStructs.ExplicitBitVect object at 0x000001EE91E6D850>\n<rdkit.DataStructs.cDataStructs.ExplicitBitVect object at 0x000001EE91E6D8A0>\n<rdkit.DataStructs.cDataStructs.ExplicitBitVect object at 0x000001EE91E6D8F0>\n<rdkit.DataStructs.cDataStructs.ExplicitBitVect object at 0x000001EE91E6D940>\n<rdkit.DataStructs.cDataStructs.ExplicitBitVect object at 0x000001EE91E6D990>\n<rdkit.DataStructs.cDataStructs.ExplicitBitVect object at 0x000001EE91E6D9E0>\n<rdkit.DataStructs.cDataStructs.ExplicitBitVect object at 0x000001EE91E6DA30>\n<rdkit.DataStructs.cDataStructs.ExplicitBitVect object at 0x000001EE91E6DA80>\n<rdkit.DataStructs.cDataStructs.ExplicitBitVect object at 0x000001EE91E6DAD0>\n<rdkit.DataStructs.cDataStructs.ExplicitBitVect object at 0x000001EE91E6DB20>\n<rdkit.DataStructs.cDataStructs.ExplicitBitVect object at 0x000001EE91E6DB70>\n<rdkit.DataStructs.cDataStructs.ExplicitBitVect object at 0x000001EE91E6DBC0>\n<rdkit.DataStructs.cDataStructs.ExplicitBitVect object at 0x000001EE91E6DC10>\n<rdkit.DataStructs.cDataStructs.ExplicitBitVect object at 0x000001EE91E6DC60>\n<rdkit.DataStructs.cDataStructs.ExplicitBitVect object at 0x000001EE91E6DCB0>\n<rdkit.DataStructs.cDataStructs.ExplicitBitVect object at 0x000001EE91E6DD00>\n<rdkit.DataStructs.cDataStructs.ExplicitBitVect object at 0x000001EE91E6DD50>\n<rdkit.DataStructs.cDataStructs.ExplicitBitVect object at 0x000001EE91E6DDA0>\n<rdkit.DataStructs.cDataStructs.ExplicitBitVect object at 0x000001EE91E6DDF0>\n<rdkit.DataStructs.cDataStructs.ExplicitBitVect object at 0x000001EE91E6DE40>\n<rdkit.DataStructs.cDataStructs.ExplicitBitVect object at 0x000001EE91E6DE90>\n<rdkit.DataStructs.cDataStructs.ExplicitBitVect object at 0x000001EE91E6DEE0>\n<rdkit.DataStructs.cDataStructs.ExplicitBitVect object at 0x000001EE91E6DF30>\n<rdkit.DataStructs.cDataStructs.ExplicitBitVect object at 0x000001EE91E6DF80>\n<rdkit.DataStructs.cDataStructs.ExplicitBitVect object at 0x000001EE91E6E030>\n<rdkit.DataStructs.cDataStructs.ExplicitBitVect object at 0x000001EE91E6E080>\n<rdkit.DataStructs.cDataStructs.ExplicitBitVect object at 0x000001EE91E6E0D0>\n<rdkit.DataStructs.cDataStructs.ExplicitBitVect object at 0x000001EE91E6E120>\n<rdkit.DataStructs.cDataStructs.ExplicitBitVect object at 0x000001EE91E6E170>\n<rdkit.DataStructs.cDataStructs.ExplicitBitVect object at 0x000001EE91E6E1C0>\n<rdkit.DataStructs.cDataStructs.ExplicitBitVect object at 0x000001EE91E6E210>\n<rdkit.DataStructs.cDataStructs.ExplicitBitVect object at 0x000001EE91E6E260>\n<rdkit.DataStructs.cDataStructs.ExplicitBitVect object at 0x000001EE91E6E2B0>\n<rdkit.DataStructs.cDataStructs.ExplicitBitVect object at 0x000001EE91E6E300>\n<rdkit.DataStructs.cDataStructs.ExplicitBitVect object at 0x000001EE91E6E350>\n<rdkit.DataStructs.cDataStructs.ExplicitBitVect object at 0x000001EE91E6E3A0>\n<rdkit.DataStructs.cDataStructs.ExplicitBitVect object at 0x000001EE91E6E3F0>\n<rdkit.DataStructs.cDataStructs.ExplicitBitVect object at 0x000001EE91E6E440>\n<rdkit.DataStructs.cDataStructs.ExplicitBitVect object at 0x000001EE91E6E490>\n<rdkit.DataStructs.cDataStructs.ExplicitBitVect object at 0x000001EE91E6E4E0>\n<rdkit.DataStructs.cDataStructs.ExplicitBitVect object at 0x000001EE91E6E530>\n<rdkit.DataStructs.cDataStructs.ExplicitBitVect object at 0x000001EE91E6E580>\n<rdkit.DataStructs.cDataStructs.ExplicitBitVect object at 0x000001EE91E6E5D0>\n<rdkit.DataStructs.cDataStructs.ExplicitBitVect object at 0x000001EE91E6E620>\n<rdkit.DataStructs.cDataStructs.ExplicitBitVect object at 0x000001EE91E6E670>\n<rdkit.DataStructs.cDataStructs.ExplicitBitVect object at 0x000001EE91E6E6C0>\n<rdkit.DataStructs.cDataStructs.ExplicitBitVect object at 0x000001EE91E6E710>\n<rdkit.DataStructs.cDataStructs.ExplicitBitVect object at 0x000001EE91E6E760>\n<rdkit.DataStructs.cDataStructs.ExplicitBitVect object at 0x000001EE91E6E7B0>\n<rdkit.DataStructs.cDataStructs.ExplicitBitVect object at 0x000001EE91E6E800>\n<rdkit.DataStructs.cDataStructs.ExplicitBitVect object at 0x000001EE91E6E850>\n<rdkit.DataStructs.cDataStructs.ExplicitBitVect object at 0x000001EE91E6E8A0>\n<rdkit.DataStructs.cDataStructs.ExplicitBitVect object at 0x000001EE91E6E8F0>\n<rdkit.DataStructs.cDataStructs.ExplicitBitVect object at 0x000001EE91E6E940>\n<rdkit.DataStructs.cDataStructs.ExplicitBitVect object at 0x000001EE91E6E990>\n<rdkit.DataStructs.cDataStructs.ExplicitBitVect object at 0x000001EE91E6E9E0>\n<rdkit.DataStructs.cDataStructs.ExplicitBitVect object at 0x000001EE91E6EA30>\n<rdkit.DataStructs.cDataStructs.ExplicitBitVect object at 0x000001EE91E6EA80>\n<rdkit.DataStructs.cDataStructs.ExplicitBitVect object at 0x000001EE91E6EAD0>\n<rdkit.DataStructs.cDataStructs.ExplicitBitVect object at 0x000001EE91E6EB20>\n<rdkit.DataStructs.cDataStructs.ExplicitBitVect object at 0x000001EE91E6EB70>\n<rdkit.DataStructs.cDataStructs.ExplicitBitVect object at 0x000001EE91E6EBC0>\n<rdkit.DataStructs.cDataStructs.ExplicitBitVect object at 0x000001EE91E6EC10>\n<rdkit.DataStructs.cDataStructs.ExplicitBitVect object at 0x000001EE91E6EC60>\n<rdkit.DataStructs.cDataStructs.ExplicitBitVect object at 0x000001EE91E6ECB0>\n<rdkit.DataStructs.cDataStructs.ExplicitBitVect object at 0x000001EE91E6ED00>\n<rdkit.DataStructs.cDataStructs.ExplicitBitVect object at 0x000001EE91E6ED50>\n<rdkit.DataStructs.cDataStructs.ExplicitBitVect object at 0x000001EE91E6EDA0>\n<rdkit.DataStructs.cDataStructs.ExplicitBitVect object at 0x000001EE91E6EDF0>\n<rdkit.DataStructs.cDataStructs.ExplicitBitVect object at 0x000001EE91E6EE40>\n<rdkit.DataStructs.cDataStructs.ExplicitBitVect object at 0x000001EE91E6EE90>\n<rdkit.DataStructs.cDataStructs.ExplicitBitVect object at 0x000001EE91E6EEE0>\n<rdkit.DataStructs.cDataStructs.ExplicitBitVect object at 0x000001EE91E6EF30>\n<rdkit.DataStructs.cDataStructs.ExplicitBitVect object at 0x000001EE91E6EF80>\n<rdkit.DataStructs.cDataStructs.ExplicitBitVect object at 0x000001EE91E6F030>\n<rdkit.DataStructs.cDataStructs.ExplicitBitVect object at 0x000001EE91E6F080>\n<rdkit.DataStructs.cDataStructs.ExplicitBitVect object at 0x000001EE91E6F0D0>\n<rdkit.DataStructs.cDataStructs.ExplicitBitVect object at 0x000001EE91E6F120>\n<rdkit.DataStructs.cDataStructs.ExplicitBitVect object at 0x000001EE91E6F170>\n<rdkit.DataStructs.cDataStructs.ExplicitBitVect object at 0x000001EE91E6F1C0>\n<rdkit.DataStructs.cDataStructs.ExplicitBitVect object at 0x000001EE91E6F210>\n<rdkit.DataStructs.cDataStructs.ExplicitBitVect object at 0x000001EE91E6F260>\n<rdkit.DataStructs.cDataStructs.ExplicitBitVect object at 0x000001EE91E6F2B0>\n<rdkit.DataStructs.cDataStructs.ExplicitBitVect object at 0x000001EE91E6F300>\n<rdkit.DataStructs.cDataStructs.ExplicitBitVect object at 0x000001EE91E6F350>\n<rdkit.DataStructs.cDataStructs.ExplicitBitVect object at 0x000001EE91E6F3A0>\n<rdkit.DataStructs.cDataStructs.ExplicitBitVect object at 0x000001EE91E6F3F0>\n<rdkit.DataStructs.cDataStructs.ExplicitBitVect object at 0x000001EE91E6F440>\n<rdkit.DataStructs.cDataStructs.ExplicitBitVect object at 0x000001EE91E6F490>\n<rdkit.DataStructs.cDataStructs.ExplicitBitVect object at 0x000001EE91E6F4E0>\n<rdkit.DataStructs.cDataStructs.ExplicitBitVect object at 0x000001EE91E6F530>\n<rdkit.DataStructs.cDataStructs.ExplicitBitVect object at 0x000001EE91E6F580>\n<rdkit.DataStructs.cDataStructs.ExplicitBitVect object at 0x000001EE91E6F5D0>\n<rdkit.DataStructs.cDataStructs.ExplicitBitVect object at 0x000001EE91E6F620>\n<rdkit.DataStructs.cDataStructs.ExplicitBitVect object at 0x000001EE91E6F670>\n<rdkit.DataStructs.cDataStructs.ExplicitBitVect object at 0x000001EE91E6F6C0>\n<rdkit.DataStructs.cDataStructs.ExplicitBitVect object at 0x000001EE91E6F710>\n<rdkit.DataStructs.cDataStructs.ExplicitBitVect object at 0x000001EE91E6F760>\n<rdkit.DataStructs.cDataStructs.ExplicitBitVect object at 0x000001EE91E6F7B0>\n<rdkit.DataStructs.cDataStructs.ExplicitBitVect object at 0x000001EE91E6F800>\n<rdkit.DataStructs.cDataStructs.ExplicitBitVect object at 0x000001EE91E6F850>\n<rdkit.DataStructs.cDataStructs.ExplicitBitVect object at 0x000001EE91E6F8A0>\n<rdkit.DataStructs.cDataStructs.ExplicitBitVect object at 0x000001EE91E6F8F0>\n<rdkit.DataStructs.cDataStructs.ExplicitBitVect object at 0x000001EE91E6F940>\n<rdkit.DataStructs.cDataStructs.ExplicitBitVect object at 0x000001EE91E6F990>\n<rdkit.DataStructs.cDataStructs.ExplicitBitVect object at 0x000001EE91E6F9E0>\n<rdkit.DataStructs.cDataStructs.ExplicitBitVect object at 0x000001EE91E6FA30>\n<rdkit.DataStructs.cDataStructs.ExplicitBitVect object at 0x000001EE91E6FA80>\n<rdkit.DataStructs.cDataStructs.ExplicitBitVect object at 0x000001EE91E6FAD0>\n<rdkit.DataStructs.cDataStructs.ExplicitBitVect object at 0x000001EE91E6FB20>\n<rdkit.DataStructs.cDataStructs.ExplicitBitVect object at 0x000001EE91E6FB70>\n<rdkit.DataStructs.cDataStructs.ExplicitBitVect object at 0x000001EE91E6FBC0>\n<rdkit.DataStructs.cDataStructs.ExplicitBitVect object at 0x000001EE91E6FC10>\n<rdkit.DataStructs.cDataStructs.ExplicitBitVect object at 0x000001EE91E6FC60>\n<rdkit.DataStructs.cDataStructs.ExplicitBitVect object at 0x000001EE91E6FCB0>\n<rdkit.DataStructs.cDataStructs.ExplicitBitVect object at 0x000001EE91E6FD00>\n<rdkit.DataStructs.cDataStructs.ExplicitBitVect object at 0x000001EE91E6FD50>\n<rdkit.DataStructs.cDataStructs.ExplicitBitVect object at 0x000001EE91E6FDA0>\n<rdkit.DataStructs.cDataStructs.ExplicitBitVect object at 0x000001EE91E6FDF0>\n<rdkit.DataStructs.cDataStructs.ExplicitBitVect object at 0x000001EE91E6FE40>\n<rdkit.DataStructs.cDataStructs.ExplicitBitVect object at 0x000001EE91E6FE90>\n<rdkit.DataStructs.cDataStructs.ExplicitBitVect object at 0x000001EE91E6FEE0>\n<rdkit.DataStructs.cDataStructs.ExplicitBitVect object at 0x000001EE91E6FF30>\n<rdkit.DataStructs.cDataStructs.ExplicitBitVect object at 0x000001EE91E6FF80>\n<rdkit.DataStructs.cDataStructs.ExplicitBitVect object at 0x000001EE91E70030>\n<rdkit.DataStructs.cDataStructs.ExplicitBitVect object at 0x000001EE91E70080>\n<rdkit.DataStructs.cDataStructs.ExplicitBitVect object at 0x000001EE91E700D0>\n<rdkit.DataStructs.cDataStructs.ExplicitBitVect object at 0x000001EE91E70120>\n<rdkit.DataStructs.cDataStructs.ExplicitBitVect object at 0x000001EE91E70170>\n<rdkit.DataStructs.cDataStructs.ExplicitBitVect object at 0x000001EE91E701C0>\n<rdkit.DataStructs.cDataStructs.ExplicitBitVect object at 0x000001EE91E70210>\n<rdkit.DataStructs.cDataStructs.ExplicitBitVect object at 0x000001EE91E70260>\n<rdkit.DataStructs.cDataStructs.ExplicitBitVect object at 0x000001EE91E702B0>\n<rdkit.DataStructs.cDataStructs.ExplicitBitVect object at 0x000001EE91E70300>\n<rdkit.DataStructs.cDataStructs.ExplicitBitVect object at 0x000001EE91E70350>\n<rdkit.DataStructs.cDataStructs.ExplicitBitVect object at 0x000001EE91E703A0>\n<rdkit.DataStructs.cDataStructs.ExplicitBitVect object at 0x000001EE91E703F0>\n<rdkit.DataStructs.cDataStructs.ExplicitBitVect object at 0x000001EE91E70440>\n<rdkit.DataStructs.cDataStructs.ExplicitBitVect object at 0x000001EE91E70490>\n<rdkit.DataStructs.cDataStructs.ExplicitBitVect object at 0x000001EE91E704E0>\n<rdkit.DataStructs.cDataStructs.ExplicitBitVect object at 0x000001EE91E70530>\n<rdkit.DataStructs.cDataStructs.ExplicitBitVect object at 0x000001EE91E70580>\n<rdkit.DataStructs.cDataStructs.ExplicitBitVect object at 0x000001EE91E705D0>\n<rdkit.DataStructs.cDataStructs.ExplicitBitVect object at 0x000001EE91E70620>\n<rdkit.DataStructs.cDataStructs.ExplicitBitVect object at 0x000001EE91E70670>\n<rdkit.DataStructs.cDataStructs.ExplicitBitVect object at 0x000001EE91E706C0>\n<rdkit.DataStructs.cDataStructs.ExplicitBitVect object at 0x000001EE91E70710>\n<rdkit.DataStructs.cDataStructs.ExplicitBitVect object at 0x000001EE91E70760>\n<rdkit.DataStructs.cDataStructs.ExplicitBitVect object at 0x000001EE91E707B0>\n<rdkit.DataStructs.cDataStructs.ExplicitBitVect object at 0x000001EE91E70800>\n<rdkit.DataStructs.cDataStructs.ExplicitBitVect object at 0x000001EE91E70850>\n<rdkit.DataStructs.cDataStructs.ExplicitBitVect object at 0x000001EE91E708A0>\n<rdkit.DataStructs.cDataStructs.ExplicitBitVect object at 0x000001EE91E708F0>\n<rdkit.DataStructs.cDataStructs.ExplicitBitVect object at 0x000001EE91E70940>\n<rdkit.DataStructs.cDataStructs.ExplicitBitVect object at 0x000001EE91E70990>\n<rdkit.DataStructs.cDataStructs.ExplicitBitVect object at 0x000001EE91E709E0>\n<rdkit.DataStructs.cDataStructs.ExplicitBitVect object at 0x000001EE91E70A30>\n<rdkit.DataStructs.cDataStructs.ExplicitBitVect object at 0x000001EE91E70A80>\n<rdkit.DataStructs.cDataStructs.ExplicitBitVect object at 0x000001EE91E70AD0>\n<rdkit.DataStructs.cDataStructs.ExplicitBitVect object at 0x000001EE91E70B20>\n<rdkit.DataStructs.cDataStructs.ExplicitBitVect object at 0x000001EE91E70B70>\n<rdkit.DataStructs.cDataStructs.ExplicitBitVect object at 0x000001EE91E70BC0>\n<rdkit.DataStructs.cDataStructs.ExplicitBitVect object at 0x000001EE91E70C10>\n<rdkit.DataStructs.cDataStructs.ExplicitBitVect object at 0x000001EE91E70C60>\n<rdkit.DataStructs.cDataStructs.ExplicitBitVect object at 0x000001EE91E70CB0>\n<rdkit.DataStructs.cDataStructs.ExplicitBitVect object at 0x000001EE91E70D00>\n<rdkit.DataStructs.cDataStructs.ExplicitBitVect object at 0x000001EE91E70D50>\n<rdkit.DataStructs.cDataStructs.ExplicitBitVect object at 0x000001EE91E70DA0>\n<rdkit.DataStructs.cDataStructs.ExplicitBitVect object at 0x000001EE91E70DF0>\n<rdkit.DataStructs.cDataStructs.ExplicitBitVect object at 0x000001EE91E70E40>\n<rdkit.DataStructs.cDataStructs.ExplicitBitVect object at 0x000001EE91E70E90>\n<rdkit.DataStructs.cDataStructs.ExplicitBitVect object at 0x000001EE91E70EE0>\n<rdkit.DataStructs.cDataStructs.ExplicitBitVect object at 0x000001EE91E70F30>\n<rdkit.DataStructs.cDataStructs.ExplicitBitVect object at 0x000001EE91E70F80>\n<rdkit.DataStructs.cDataStructs.ExplicitBitVect object at 0x000001EE91E71030>\n<rdkit.DataStructs.cDataStructs.ExplicitBitVect object at 0x000001EE91E71080>\n<rdkit.DataStructs.cDataStructs.ExplicitBitVect object at 0x000001EE91E710D0>\n<rdkit.DataStructs.cDataStructs.ExplicitBitVect object at 0x000001EE91E71120>\n<rdkit.DataStructs.cDataStructs.ExplicitBitVect object at 0x000001EE91E71170>\n<rdkit.DataStructs.cDataStructs.ExplicitBitVect object at 0x000001EE91E711C0>\n<rdkit.DataStructs.cDataStructs.ExplicitBitVect object at 0x000001EE91E71210>\n<rdkit.DataStructs.cDataStructs.ExplicitBitVect object at 0x000001EE91E71260>\n<rdkit.DataStructs.cDataStructs.ExplicitBitVect object at 0x000001EE91E712B0>\n<rdkit.DataStructs.cDataStructs.ExplicitBitVect object at 0x000001EE91E71300>\n<rdkit.DataStructs.cDataStructs.ExplicitBitVect object at 0x000001EE91E71350>\n<rdkit.DataStructs.cDataStructs.ExplicitBitVect object at 0x000001EE91E713A0>\n<rdkit.DataStructs.cDataStructs.ExplicitBitVect object at 0x000001EE91E713F0>\n<rdkit.DataStructs.cDataStructs.ExplicitBitVect object at 0x000001EE91E71440>\n<rdkit.DataStructs.cDataStructs.ExplicitBitVect object at 0x000001EE91E71490>\n<rdkit.DataStructs.cDataStructs.ExplicitBitVect object at 0x000001EE91E714E0>\n<rdkit.DataStructs.cDataStructs.ExplicitBitVect object at 0x000001EE91E71530>\n<rdkit.DataStructs.cDataStructs.ExplicitBitVect object at 0x000001EE91E71580>\n<rdkit.DataStructs.cDataStructs.ExplicitBitVect object at 0x000001EE91E715D0>\n<rdkit.DataStructs.cDataStructs.ExplicitBitVect object at 0x000001EE91E71620>\n<rdkit.DataStructs.cDataStructs.ExplicitBitVect object at 0x000001EE91E71670>\n<rdkit.DataStructs.cDataStructs.ExplicitBitVect object at 0x000001EE91E716C0>\n<rdkit.DataStructs.cDataStructs.ExplicitBitVect object at 0x000001EE91E71710>\n<rdkit.DataStructs.cDataStructs.ExplicitBitVect object at 0x000001EE91E71760>\n<rdkit.DataStructs.cDataStructs.ExplicitBitVect object at 0x000001EE91E717B0>\n<rdkit.DataStructs.cDataStructs.ExplicitBitVect object at 0x000001EE91E71800>\n<rdkit.DataStructs.cDataStructs.ExplicitBitVect object at 0x000001EE91E71850>\n<rdkit.DataStructs.cDataStructs.ExplicitBitVect object at 0x000001EE91E718A0>\n<rdkit.DataStructs.cDataStructs.ExplicitBitVect object at 0x000001EE91E718F0>\n<rdkit.DataStructs.cDataStructs.ExplicitBitVect object at 0x000001EE91E71940>\n<rdkit.DataStructs.cDataStructs.ExplicitBitVect object at 0x000001EE91E71990>\n<rdkit.DataStructs.cDataStructs.ExplicitBitVect object at 0x000001EE91E719E0>\n<rdkit.DataStructs.cDataStructs.ExplicitBitVect object at 0x000001EE91E71A30>\n<rdkit.DataStructs.cDataStructs.ExplicitBitVect object at 0x000001EE91E71A80>\n<rdkit.DataStructs.cDataStructs.ExplicitBitVect object at 0x000001EE91E71AD0>\n<rdkit.DataStructs.cDataStructs.ExplicitBitVect object at 0x000001EE91E71B20>\n<rdkit.DataStructs.cDataStructs.ExplicitBitVect object at 0x000001EE91E71B70>\n<rdkit.DataStructs.cDataStructs.ExplicitBitVect object at 0x000001EE91E71BC0>\n<rdkit.DataStructs.cDataStructs.ExplicitBitVect object at 0x000001EE91E71C10>\n<rdkit.DataStructs.cDataStructs.ExplicitBitVect object at 0x000001EE91E71C60>\n<rdkit.DataStructs.cDataStructs.ExplicitBitVect object at 0x000001EE91E71CB0>\n<rdkit.DataStructs.cDataStructs.ExplicitBitVect object at 0x000001EE91E71D00>\n<rdkit.DataStructs.cDataStructs.ExplicitBitVect object at 0x000001EE91E71D50>\n<rdkit.DataStructs.cDataStructs.ExplicitBitVect object at 0x000001EE91E71DA0>\n<rdkit.DataStructs.cDataStructs.ExplicitBitVect object at 0x000001EE91E71DF0>\n<rdkit.DataStructs.cDataStructs.ExplicitBitVect object at 0x000001EE91E71E40>\n<rdkit.DataStructs.cDataStructs.ExplicitBitVect object at 0x000001EE91E71E90>\n<rdkit.DataStructs.cDataStructs.ExplicitBitVect object at 0x000001EE91E71EE0>\n<rdkit.DataStructs.cDataStructs.ExplicitBitVect object at 0x000001EE91E71F30>\n<rdkit.DataStructs.cDataStructs.ExplicitBitVect object at 0x000001EE91E71F80>\n<rdkit.DataStructs.cDataStructs.ExplicitBitVect object at 0x000001EE91E72030>\n<rdkit.DataStructs.cDataStructs.ExplicitBitVect object at 0x000001EE91E72080>\n<rdkit.DataStructs.cDataStructs.ExplicitBitVect object at 0x000001EE91E720D0>\n<rdkit.DataStructs.cDataStructs.ExplicitBitVect object at 0x000001EE91E72120>\n<rdkit.DataStructs.cDataStructs.ExplicitBitVect object at 0x000001EE91E72170>\n<rdkit.DataStructs.cDataStructs.ExplicitBitVect object at 0x000001EE91E721C0>\n<rdkit.DataStructs.cDataStructs.ExplicitBitVect object at 0x000001EE91E72210>\n<rdkit.DataStructs.cDataStructs.ExplicitBitVect object at 0x000001EE91E72260>\n<rdkit.DataStructs.cDataStructs.ExplicitBitVect object at 0x000001EE91E722B0>\n<rdkit.DataStructs.cDataStructs.ExplicitBitVect object at 0x000001EE91E72300>\n<rdkit.DataStructs.cDataStructs.ExplicitBitVect object at 0x000001EE91E72350>\n<rdkit.DataStructs.cDataStructs.ExplicitBitVect object at 0x000001EE91E723A0>\n<rdkit.DataStructs.cDataStructs.ExplicitBitVect object at 0x000001EE91E723F0>\n<rdkit.DataStructs.cDataStructs.ExplicitBitVect object at 0x000001EE91E72440>\n<rdkit.DataStructs.cDataStructs.ExplicitBitVect object at 0x000001EE91E72490>\n<rdkit.DataStructs.cDataStructs.ExplicitBitVect object at 0x000001EE91E724E0>\n<rdkit.DataStructs.cDataStructs.ExplicitBitVect object at 0x000001EE91E72530>\n<rdkit.DataStructs.cDataStructs.ExplicitBitVect object at 0x000001EE91E72580>\n<rdkit.DataStructs.cDataStructs.ExplicitBitVect object at 0x000001EE91E725D0>\n<rdkit.DataStructs.cDataStructs.ExplicitBitVect object at 0x000001EE91E72620>\n<rdkit.DataStructs.cDataStructs.ExplicitBitVect object at 0x000001EE91E72670>\n<rdkit.DataStructs.cDataStructs.ExplicitBitVect object at 0x000001EE91E726C0>\n<rdkit.DataStructs.cDataStructs.ExplicitBitVect object at 0x000001EE91E72710>\n<rdkit.DataStructs.cDataStructs.ExplicitBitVect object at 0x000001EE91E72760>\n<rdkit.DataStructs.cDataStructs.ExplicitBitVect object at 0x000001EE91E727B0>\n<rdkit.DataStructs.cDataStructs.ExplicitBitVect object at 0x000001EE91E72800>\n<rdkit.DataStructs.cDataStructs.ExplicitBitVect object at 0x000001EE91E72850>\n<rdkit.DataStructs.cDataStructs.ExplicitBitVect object at 0x000001EE91E728A0>\n<rdkit.DataStructs.cDataStructs.ExplicitBitVect object at 0x000001EE91E728F0>\n<rdkit.DataStructs.cDataStructs.ExplicitBitVect object at 0x000001EE91E72940>\n<rdkit.DataStructs.cDataStructs.ExplicitBitVect object at 0x000001EE91E72990>\n<rdkit.DataStructs.cDataStructs.ExplicitBitVect object at 0x000001EE91E729E0>\n<rdkit.DataStructs.cDataStructs.ExplicitBitVect object at 0x000001EE91E72A30>\n<rdkit.DataStructs.cDataStructs.ExplicitBitVect object at 0x000001EE91E72A80>\n<rdkit.DataStructs.cDataStructs.ExplicitBitVect object at 0x000001EE91E72AD0>\n<rdkit.DataStructs.cDataStructs.ExplicitBitVect object at 0x000001EE91E72B20>\n<rdkit.DataStructs.cDataStructs.ExplicitBitVect object at 0x000001EE91E72B70>\n<rdkit.DataStructs.cDataStructs.ExplicitBitVect object at 0x000001EE91E72BC0>\n<rdkit.DataStructs.cDataStructs.ExplicitBitVect object at 0x000001EE91E72C10>\n<rdkit.DataStructs.cDataStructs.ExplicitBitVect object at 0x000001EE91E72C60>\n<rdkit.DataStructs.cDataStructs.ExplicitBitVect object at 0x000001EE91E72CB0>\n<rdkit.DataStructs.cDataStructs.ExplicitBitVect object at 0x000001EE91E72D00>\n<rdkit.DataStructs.cDataStructs.ExplicitBitVect object at 0x000001EE91E72D50>\n<rdkit.DataStructs.cDataStructs.ExplicitBitVect object at 0x000001EE91E72DA0>\n<rdkit.DataStructs.cDataStructs.ExplicitBitVect object at 0x000001EE91E72DF0>\n<rdkit.DataStructs.cDataStructs.ExplicitBitVect object at 0x000001EE91E72E40>\n<rdkit.DataStructs.cDataStructs.ExplicitBitVect object at 0x000001EE91E72E90>\n<rdkit.DataStructs.cDataStructs.ExplicitBitVect object at 0x000001EE91E72EE0>\n<rdkit.DataStructs.cDataStructs.ExplicitBitVect object at 0x000001EE91E72F30>\n<rdkit.DataStructs.cDataStructs.ExplicitBitVect object at 0x000001EE91E72F80>\n<rdkit.DataStructs.cDataStructs.ExplicitBitVect object at 0x000001EE91E73030>\n<rdkit.DataStructs.cDataStructs.ExplicitBitVect object at 0x000001EE91E73080>\n<rdkit.DataStructs.cDataStructs.ExplicitBitVect object at 0x000001EE91E730D0>\n<rdkit.DataStructs.cDataStructs.ExplicitBitVect object at 0x000001EE91E73120>\n<rdkit.DataStructs.cDataStructs.ExplicitBitVect object at 0x000001EE91E73170>\n<rdkit.DataStructs.cDataStructs.ExplicitBitVect object at 0x000001EE91E731C0>\n<rdkit.DataStructs.cDataStructs.ExplicitBitVect object at 0x000001EE91E73210>\n<rdkit.DataStructs.cDataStructs.ExplicitBitVect object at 0x000001EE91E73260>\n<rdkit.DataStructs.cDataStructs.ExplicitBitVect object at 0x000001EE91E732B0>\n<rdkit.DataStructs.cDataStructs.ExplicitBitVect object at 0x000001EE91E73300>\n<rdkit.DataStructs.cDataStructs.ExplicitBitVect object at 0x000001EE91E73350>\n<rdkit.DataStructs.cDataStructs.ExplicitBitVect object at 0x000001EE91E733A0>\n<rdkit.DataStructs.cDataStructs.ExplicitBitVect object at 0x000001EE91E733F0>\n<rdkit.DataStructs.cDataStructs.ExplicitBitVect object at 0x000001EE91E73440>\n<rdkit.DataStructs.cDataStructs.ExplicitBitVect object at 0x000001EE91E73490>\n<rdkit.DataStructs.cDataStructs.ExplicitBitVect object at 0x000001EE91E734E0>\n<rdkit.DataStructs.cDataStructs.ExplicitBitVect object at 0x000001EE91E73530>\n<rdkit.DataStructs.cDataStructs.ExplicitBitVect object at 0x000001EE91E73580>\n<rdkit.DataStructs.cDataStructs.ExplicitBitVect object at 0x000001EE91E735D0>\n<rdkit.DataStructs.cDataStructs.ExplicitBitVect object at 0x000001EE91E73620>\n<rdkit.DataStructs.cDataStructs.ExplicitBitVect object at 0x000001EE91E73670>\n<rdkit.DataStructs.cDataStructs.ExplicitBitVect object at 0x000001EE91E736C0>\n<rdkit.DataStructs.cDataStructs.ExplicitBitVect object at 0x000001EE91E73710>\n<rdkit.DataStructs.cDataStructs.ExplicitBitVect object at 0x000001EE91E73760>\n<rdkit.DataStructs.cDataStructs.ExplicitBitVect object at 0x000001EE91E737B0>\n<rdkit.DataStructs.cDataStructs.ExplicitBitVect object at 0x000001EE91E73800>\n<rdkit.DataStructs.cDataStructs.ExplicitBitVect object at 0x000001EE91E73850>\n<rdkit.DataStructs.cDataStructs.ExplicitBitVect object at 0x000001EE91E738A0>\n<rdkit.DataStructs.cDataStructs.ExplicitBitVect object at 0x000001EE91E738F0>\n<rdkit.DataStructs.cDataStructs.ExplicitBitVect object at 0x000001EE91E73940>\n<rdkit.DataStructs.cDataStructs.ExplicitBitVect object at 0x000001EE91E73990>\n<rdkit.DataStructs.cDataStructs.ExplicitBitVect object at 0x000001EE91E739E0>\n<rdkit.DataStructs.cDataStructs.ExplicitBitVect object at 0x000001EE91E73A30>\n<rdkit.DataStructs.cDataStructs.ExplicitBitVect object at 0x000001EE91E73A80>\n<rdkit.DataStructs.cDataStructs.ExplicitBitVect object at 0x000001EE91E73AD0>\n<rdkit.DataStructs.cDataStructs.ExplicitBitVect object at 0x000001EE91E73B20>\n<rdkit.DataStructs.cDataStructs.ExplicitBitVect object at 0x000001EE91E73B70>\n<rdkit.DataStructs.cDataStructs.ExplicitBitVect object at 0x000001EE91E73BC0>\n<rdkit.DataStructs.cDataStructs.ExplicitBitVect object at 0x000001EE91E73C10>\n<rdkit.DataStructs.cDataStructs.ExplicitBitVect object at 0x000001EE91E73C60>\n<rdkit.DataStructs.cDataStructs.ExplicitBitVect object at 0x000001EE91E73CB0>\n<rdkit.DataStructs.cDataStructs.ExplicitBitVect object at 0x000001EE91E73D00>\n<rdkit.DataStructs.cDataStructs.ExplicitBitVect object at 0x000001EE91E73D50>\n<rdkit.DataStructs.cDataStructs.ExplicitBitVect object at 0x000001EE91E73DA0>\n<rdkit.DataStructs.cDataStructs.ExplicitBitVect object at 0x000001EE91E73DF0>\n<rdkit.DataStructs.cDataStructs.ExplicitBitVect object at 0x000001EE91E73E40>\n<rdkit.DataStructs.cDataStructs.ExplicitBitVect object at 0x000001EE91E73E90>\n<rdkit.DataStructs.cDataStructs.ExplicitBitVect object at 0x000001EE91E73EE0>\n<rdkit.DataStructs.cDataStructs.ExplicitBitVect object at 0x000001EE91E73F30>\n<rdkit.DataStructs.cDataStructs.ExplicitBitVect object at 0x000001EE91E73F80>\n<rdkit.DataStructs.cDataStructs.ExplicitBitVect object at 0x000001EE91E74030>\n<rdkit.DataStructs.cDataStructs.ExplicitBitVect object at 0x000001EE91E74080>\n<rdkit.DataStructs.cDataStructs.ExplicitBitVect object at 0x000001EE91E740D0>\n<rdkit.DataStructs.cDataStructs.ExplicitBitVect object at 0x000001EE91E74120>\n<rdkit.DataStructs.cDataStructs.ExplicitBitVect object at 0x000001EE91E74170>\n<rdkit.DataStructs.cDataStructs.ExplicitBitVect object at 0x000001EE91E741C0>\n<rdkit.DataStructs.cDataStructs.ExplicitBitVect object at 0x000001EE91E74210>\n<rdkit.DataStructs.cDataStructs.ExplicitBitVect object at 0x000001EE91E74260>\n<rdkit.DataStructs.cDataStructs.ExplicitBitVect object at 0x000001EE91E742B0>\n<rdkit.DataStructs.cDataStructs.ExplicitBitVect object at 0x000001EE91E74300>\n<rdkit.DataStructs.cDataStructs.ExplicitBitVect object at 0x000001EE91E74350>\n<rdkit.DataStructs.cDataStructs.ExplicitBitVect object at 0x000001EE91E743A0>\n<rdkit.DataStructs.cDataStructs.ExplicitBitVect object at 0x000001EE91E743F0>\n<rdkit.DataStructs.cDataStructs.ExplicitBitVect object at 0x000001EE91E74440>\n<rdkit.DataStructs.cDataStructs.ExplicitBitVect object at 0x000001EE91E74490>\n<rdkit.DataStructs.cDataStructs.ExplicitBitVect object at 0x000001EE91E744E0>\n<rdkit.DataStructs.cDataStructs.ExplicitBitVect object at 0x000001EE91E74530>\n<rdkit.DataStructs.cDataStructs.ExplicitBitVect object at 0x000001EE91E74580>\n<rdkit.DataStructs.cDataStructs.ExplicitBitVect object at 0x000001EE91E745D0>\n<rdkit.DataStructs.cDataStructs.ExplicitBitVect object at 0x000001EE91E74620>\n<rdkit.DataStructs.cDataStructs.ExplicitBitVect object at 0x000001EE91E74670>\n<rdkit.DataStructs.cDataStructs.ExplicitBitVect object at 0x000001EE91E746C0>\n<rdkit.DataStructs.cDataStructs.ExplicitBitVect object at 0x000001EE91E74710>\n<rdkit.DataStructs.cDataStructs.ExplicitBitVect object at 0x000001EE91E74760>\n<rdkit.DataStructs.cDataStructs.ExplicitBitVect object at 0x000001EE91E747B0>\n<rdkit.DataStructs.cDataStructs.ExplicitBitVect object at 0x000001EE91E74800>\n<rdkit.DataStructs.cDataStructs.ExplicitBitVect object at 0x000001EE91E74850>\n<rdkit.DataStructs.cDataStructs.ExplicitBitVect object at 0x000001EE91E748A0>\n<rdkit.DataStructs.cDataStructs.ExplicitBitVect object at 0x000001EE91E748F0>\n<rdkit.DataStructs.cDataStructs.ExplicitBitVect object at 0x000001EE91E74940>\n<rdkit.DataStructs.cDataStructs.ExplicitBitVect object at 0x000001EE91E74990>\n<rdkit.DataStructs.cDataStructs.ExplicitBitVect object at 0x000001EE91E749E0>\n<rdkit.DataStructs.cDataStructs.ExplicitBitVect object at 0x000001EE91E74A30>\n<rdkit.DataStructs.cDataStructs.ExplicitBitVect object at 0x000001EE91E74A80>\n<rdkit.DataStructs.cDataStructs.ExplicitBitVect object at 0x000001EE91E74AD0>\n<rdkit.DataStructs.cDataStructs.ExplicitBitVect object at 0x000001EE91E74B20>\n<rdkit.DataStructs.cDataStructs.ExplicitBitVect object at 0x000001EE91E74B70>\n<rdkit.DataStructs.cDataStructs.ExplicitBitVect object at 0x000001EE91E74BC0>\n<rdkit.DataStructs.cDataStructs.ExplicitBitVect object at 0x000001EE91E74C10>\n<rdkit.DataStructs.cDataStructs.ExplicitBitVect object at 0x000001EE91E74C60>\n<rdkit.DataStructs.cDataStructs.ExplicitBitVect object at 0x000001EE91E74CB0>\n<rdkit.DataStructs.cDataStructs.ExplicitBitVect object at 0x000001EE91E74D00>\n<rdkit.DataStructs.cDataStructs.ExplicitBitVect object at 0x000001EE91E74D50>\n<rdkit.DataStructs.cDataStructs.ExplicitBitVect object at 0x000001EE91E74DA0>\n<rdkit.DataStructs.cDataStructs.ExplicitBitVect object at 0x000001EE91E74DF0>\n<rdkit.DataStructs.cDataStructs.ExplicitBitVect object at 0x000001EE91E74E40>\n<rdkit.DataStructs.cDataStructs.ExplicitBitVect object at 0x000001EE91E74E90>\n<rdkit.DataStructs.cDataStructs.ExplicitBitVect object at 0x000001EE91E74EE0>\n<rdkit.DataStructs.cDataStructs.ExplicitBitVect object at 0x000001EE91E74F30>\n<rdkit.DataStructs.cDataStructs.ExplicitBitVect object at 0x000001EE91E74F80>\n<rdkit.DataStructs.cDataStructs.ExplicitBitVect object at 0x000001EE91E75030>\n<rdkit.DataStructs.cDataStructs.ExplicitBitVect object at 0x000001EE91E75080>\n<rdkit.DataStructs.cDataStructs.ExplicitBitVect object at 0x000001EE91E750D0>\n<rdkit.DataStructs.cDataStructs.ExplicitBitVect object at 0x000001EE91E75120>\n<rdkit.DataStructs.cDataStructs.ExplicitBitVect object at 0x000001EE91E75170>\n<rdkit.DataStructs.cDataStructs.ExplicitBitVect object at 0x000001EE91E751C0>\n<rdkit.DataStructs.cDataStructs.ExplicitBitVect object at 0x000001EE91E75210>\n<rdkit.DataStructs.cDataStructs.ExplicitBitVect object at 0x000001EE91E75260>\n<rdkit.DataStructs.cDataStructs.ExplicitBitVect object at 0x000001EE91E752B0>\n<rdkit.DataStructs.cDataStructs.ExplicitBitVect object at 0x000001EE91E75300>\n<rdkit.DataStructs.cDataStructs.ExplicitBitVect object at 0x000001EE91E75350>\n<rdkit.DataStructs.cDataStructs.ExplicitBitVect object at 0x000001EE91E753A0>\n<rdkit.DataStructs.cDataStructs.ExplicitBitVect object at 0x000001EE91E753F0>\n<rdkit.DataStructs.cDataStructs.ExplicitBitVect object at 0x000001EE91E75440>\n<rdkit.DataStructs.cDataStructs.ExplicitBitVect object at 0x000001EE91E75490>\n<rdkit.DataStructs.cDataStructs.ExplicitBitVect object at 0x000001EE91E754E0>\n<rdkit.DataStructs.cDataStructs.ExplicitBitVect object at 0x000001EE91E75530>\n<rdkit.DataStructs.cDataStructs.ExplicitBitVect object at 0x000001EE91E75580>\n<rdkit.DataStructs.cDataStructs.ExplicitBitVect object at 0x000001EE91E755D0>\n<rdkit.DataStructs.cDataStructs.ExplicitBitVect object at 0x000001EE91E75620>\n<rdkit.DataStructs.cDataStructs.ExplicitBitVect object at 0x000001EE91E75670>\n<rdkit.DataStructs.cDataStructs.ExplicitBitVect object at 0x000001EE91E756C0>\n<rdkit.DataStructs.cDataStructs.ExplicitBitVect object at 0x000001EE91E75710>\n<rdkit.DataStructs.cDataStructs.ExplicitBitVect object at 0x000001EE91E75760>\n<rdkit.DataStructs.cDataStructs.ExplicitBitVect object at 0x000001EE91E757B0>\n<rdkit.DataStructs.cDataStructs.ExplicitBitVect object at 0x000001EE91E75800>\n<rdkit.DataStructs.cDataStructs.ExplicitBitVect object at 0x000001EE91E75850>\n<rdkit.DataStructs.cDataStructs.ExplicitBitVect object at 0x000001EE91E758A0>\n<rdkit.DataStructs.cDataStructs.ExplicitBitVect object at 0x000001EE91E758F0>\n<rdkit.DataStructs.cDataStructs.ExplicitBitVect object at 0x000001EE91E75940>\n<rdkit.DataStructs.cDataStructs.ExplicitBitVect object at 0x000001EE91E75990>\n<rdkit.DataStructs.cDataStructs.ExplicitBitVect object at 0x000001EE91E759E0>\n<rdkit.DataStructs.cDataStructs.ExplicitBitVect object at 0x000001EE91E75A30>\n<rdkit.DataStructs.cDataStructs.ExplicitBitVect object at 0x000001EE91E75A80>\n<rdkit.DataStructs.cDataStructs.ExplicitBitVect object at 0x000001EE91E75AD0>\n<rdkit.DataStructs.cDataStructs.ExplicitBitVect object at 0x000001EE91E75B20>\n<rdkit.DataStructs.cDataStructs.ExplicitBitVect object at 0x000001EE91E75B70>\n<rdkit.DataStructs.cDataStructs.ExplicitBitVect object at 0x000001EE91E75BC0>\n<rdkit.DataStructs.cDataStructs.ExplicitBitVect object at 0x000001EE91E75C10>\n<rdkit.DataStructs.cDataStructs.ExplicitBitVect object at 0x000001EE91E75C60>\n<rdkit.DataStructs.cDataStructs.ExplicitBitVect object at 0x000001EE91E75CB0>\n<rdkit.DataStructs.cDataStructs.ExplicitBitVect object at 0x000001EE91E75D00>\n<rdkit.DataStructs.cDataStructs.ExplicitBitVect object at 0x000001EE91E75D50>\n<rdkit.DataStructs.cDataStructs.ExplicitBitVect object at 0x000001EE91E75DA0>\n<rdkit.DataStructs.cDataStructs.ExplicitBitVect object at 0x000001EE91E75DF0>\n<rdkit.DataStructs.cDataStructs.ExplicitBitVect object at 0x000001EE91E75E40>\n<rdkit.DataStructs.cDataStructs.ExplicitBitVect object at 0x000001EE91E75E90>\n<rdkit.DataStructs.cDataStructs.ExplicitBitVect object at 0x000001EE91E75EE0>\n<rdkit.DataStructs.cDataStructs.ExplicitBitVect object at 0x000001EE91E75F30>\n<rdkit.DataStructs.cDataStructs.ExplicitBitVect object at 0x000001EE91E75F80>\n<rdkit.DataStructs.cDataStructs.ExplicitBitVect object at 0x000001EE91E76030>\n<rdkit.DataStructs.cDataStructs.ExplicitBitVect object at 0x000001EE91E76080>\n<rdkit.DataStructs.cDataStructs.ExplicitBitVect object at 0x000001EE91E760D0>\n<rdkit.DataStructs.cDataStructs.ExplicitBitVect object at 0x000001EE91E76120>\n<rdkit.DataStructs.cDataStructs.ExplicitBitVect object at 0x000001EE91E76170>\n<rdkit.DataStructs.cDataStructs.ExplicitBitVect object at 0x000001EE91E761C0>\n<rdkit.DataStructs.cDataStructs.ExplicitBitVect object at 0x000001EE91E76210>\n<rdkit.DataStructs.cDataStructs.ExplicitBitVect object at 0x000001EE91E76260>\n<rdkit.DataStructs.cDataStructs.ExplicitBitVect object at 0x000001EE91E762B0>\n<rdkit.DataStructs.cDataStructs.ExplicitBitVect object at 0x000001EE91E76300>\n<rdkit.DataStructs.cDataStructs.ExplicitBitVect object at 0x000001EE91E76350>\n<rdkit.DataStructs.cDataStructs.ExplicitBitVect object at 0x000001EE91E763A0>\n<rdkit.DataStructs.cDataStructs.ExplicitBitVect object at 0x000001EE91E763F0>\n<rdkit.DataStructs.cDataStructs.ExplicitBitVect object at 0x000001EE91E76440>\n<rdkit.DataStructs.cDataStructs.ExplicitBitVect object at 0x000001EE91E76490>\n<rdkit.DataStructs.cDataStructs.ExplicitBitVect object at 0x000001EE91E764E0>\n<rdkit.DataStructs.cDataStructs.ExplicitBitVect object at 0x000001EE91E76530>\n<rdkit.DataStructs.cDataStructs.ExplicitBitVect object at 0x000001EE91E76580>\n<rdkit.DataStructs.cDataStructs.ExplicitBitVect object at 0x000001EE91E765D0>\n<rdkit.DataStructs.cDataStructs.ExplicitBitVect object at 0x000001EE91E76620>\n<rdkit.DataStructs.cDataStructs.ExplicitBitVect object at 0x000001EE91E76670>\n<rdkit.DataStructs.cDataStructs.ExplicitBitVect object at 0x000001EE91E766C0>\n<rdkit.DataStructs.cDataStructs.ExplicitBitVect object at 0x000001EE91E76710>\n<rdkit.DataStructs.cDataStructs.ExplicitBitVect object at 0x000001EE91E76760>\n<rdkit.DataStructs.cDataStructs.ExplicitBitVect object at 0x000001EE91E767B0>\n<rdkit.DataStructs.cDataStructs.ExplicitBitVect object at 0x000001EE91E76800>\n<rdkit.DataStructs.cDataStructs.ExplicitBitVect object at 0x000001EE91E76850>\n<rdkit.DataStructs.cDataStructs.ExplicitBitVect object at 0x000001EE91E768A0>\n<rdkit.DataStructs.cDataStructs.ExplicitBitVect object at 0x000001EE91E768F0>\n<rdkit.DataStructs.cDataStructs.ExplicitBitVect object at 0x000001EE91E76940>\n<rdkit.DataStructs.cDataStructs.ExplicitBitVect object at 0x000001EE91E76990>\n<rdkit.DataStructs.cDataStructs.ExplicitBitVect object at 0x000001EE91E769E0>\n<rdkit.DataStructs.cDataStructs.ExplicitBitVect object at 0x000001EE91E76A30>\n<rdkit.DataStructs.cDataStructs.ExplicitBitVect object at 0x000001EE91E76A80>\n<rdkit.DataStructs.cDataStructs.ExplicitBitVect object at 0x000001EE91E76AD0>\n<rdkit.DataStructs.cDataStructs.ExplicitBitVect object at 0x000001EE91E76B20>\n<rdkit.DataStructs.cDataStructs.ExplicitBitVect object at 0x000001EE91E76B70>\n<rdkit.DataStructs.cDataStructs.ExplicitBitVect object at 0x000001EE91E76BC0>\n<rdkit.DataStructs.cDataStructs.ExplicitBitVect object at 0x000001EE91E76C10>\n<rdkit.DataStructs.cDataStructs.ExplicitBitVect object at 0x000001EE91E76C60>\n<rdkit.DataStructs.cDataStructs.ExplicitBitVect object at 0x000001EE91E76CB0>\n<rdkit.DataStructs.cDataStructs.ExplicitBitVect object at 0x000001EE91E76D00>\n<rdkit.DataStructs.cDataStructs.ExplicitBitVect object at 0x000001EE91E76D50>\n<rdkit.DataStructs.cDataStructs.ExplicitBitVect object at 0x000001EE91E76DA0>\n<rdkit.DataStructs.cDataStructs.ExplicitBitVect object at 0x000001EE91E76DF0>\n<rdkit.DataStructs.cDataStructs.ExplicitBitVect object at 0x000001EE91E76E40>\n<rdkit.DataStructs.cDataStructs.ExplicitBitVect object at 0x000001EE91E76E90>\n<rdkit.DataStructs.cDataStructs.ExplicitBitVect object at 0x000001EE91E76EE0>\n<rdkit.DataStructs.cDataStructs.ExplicitBitVect object at 0x000001EE91E76F30>\n<rdkit.DataStructs.cDataStructs.ExplicitBitVect object at 0x000001EE91E76F80>\n<rdkit.DataStructs.cDataStructs.ExplicitBitVect object at 0x000001EE91E77030>\n<rdkit.DataStructs.cDataStructs.ExplicitBitVect object at 0x000001EE91E77080>\n<rdkit.DataStructs.cDataStructs.ExplicitBitVect object at 0x000001EE91E770D0>\n<rdkit.DataStructs.cDataStructs.ExplicitBitVect object at 0x000001EE91E77120>\n<rdkit.DataStructs.cDataStructs.ExplicitBitVect object at 0x000001EE91E77170>\n<rdkit.DataStructs.cDataStructs.ExplicitBitVect object at 0x000001EE91E771C0>\n<rdkit.DataStructs.cDataStructs.ExplicitBitVect object at 0x000001EE91E77210>\n<rdkit.DataStructs.cDataStructs.ExplicitBitVect object at 0x000001EE91E77260>\n<rdkit.DataStructs.cDataStructs.ExplicitBitVect object at 0x000001EE91E772B0>\n<rdkit.DataStructs.cDataStructs.ExplicitBitVect object at 0x000001EE91E77300>\n<rdkit.DataStructs.cDataStructs.ExplicitBitVect object at 0x000001EE91E77350>\n<rdkit.DataStructs.cDataStructs.ExplicitBitVect object at 0x000001EE91E773A0>\n<rdkit.DataStructs.cDataStructs.ExplicitBitVect object at 0x000001EE91E773F0>\n<rdkit.DataStructs.cDataStructs.ExplicitBitVect object at 0x000001EE91E77440>\n<rdkit.DataStructs.cDataStructs.ExplicitBitVect object at 0x000001EE91E77490>\n<rdkit.DataStructs.cDataStructs.ExplicitBitVect object at 0x000001EE91E774E0>\n<rdkit.DataStructs.cDataStructs.ExplicitBitVect object at 0x000001EE91E77530>\n<rdkit.DataStructs.cDataStructs.ExplicitBitVect object at 0x000001EE91E77580>\n<rdkit.DataStructs.cDataStructs.ExplicitBitVect object at 0x000001EE91E775D0>\n<rdkit.DataStructs.cDataStructs.ExplicitBitVect object at 0x000001EE91E77620>\n<rdkit.DataStructs.cDataStructs.ExplicitBitVect object at 0x000001EE91E77670>\n<rdkit.DataStructs.cDataStructs.ExplicitBitVect object at 0x000001EE91E776C0>\n<rdkit.DataStructs.cDataStructs.ExplicitBitVect object at 0x000001EE91E77710>\n<rdkit.DataStructs.cDataStructs.ExplicitBitVect object at 0x000001EE91E77760>\n<rdkit.DataStructs.cDataStructs.ExplicitBitVect object at 0x000001EE91E777B0>\n<rdkit.DataStructs.cDataStructs.ExplicitBitVect object at 0x000001EE91E77800>\n<rdkit.DataStructs.cDataStructs.ExplicitBitVect object at 0x000001EE91E77850>\n<rdkit.DataStructs.cDataStructs.ExplicitBitVect object at 0x000001EE91E778A0>\n<rdkit.DataStructs.cDataStructs.ExplicitBitVect object at 0x000001EE91E778F0>\n<rdkit.DataStructs.cDataStructs.ExplicitBitVect object at 0x000001EE91E77940>\n<rdkit.DataStructs.cDataStructs.ExplicitBitVect object at 0x000001EE91E77990>\n<rdkit.DataStructs.cDataStructs.ExplicitBitVect object at 0x000001EE91E779E0>\n<rdkit.DataStructs.cDataStructs.ExplicitBitVect object at 0x000001EE91E77A30>\n<rdkit.DataStructs.cDataStructs.ExplicitBitVect object at 0x000001EE91E77A80>\n<rdkit.DataStructs.cDataStructs.ExplicitBitVect object at 0x000001EE91E77AD0>\n<rdkit.DataStructs.cDataStructs.ExplicitBitVect object at 0x000001EE91E77B20>\n<rdkit.DataStructs.cDataStructs.ExplicitBitVect object at 0x000001EE91E77B70>\n<rdkit.DataStructs.cDataStructs.ExplicitBitVect object at 0x000001EE91E77BC0>\n<rdkit.DataStructs.cDataStructs.ExplicitBitVect object at 0x000001EE91E77C10>\n<rdkit.DataStructs.cDataStructs.ExplicitBitVect object at 0x000001EE91E77C60>\n<rdkit.DataStructs.cDataStructs.ExplicitBitVect object at 0x000001EE91E77CB0>\n<rdkit.DataStructs.cDataStructs.ExplicitBitVect object at 0x000001EE91E77D00>\n<rdkit.DataStructs.cDataStructs.ExplicitBitVect object at 0x000001EE91E77D50>\n<rdkit.DataStructs.cDataStructs.ExplicitBitVect object at 0x000001EE91E77DA0>\n<rdkit.DataStructs.cDataStructs.ExplicitBitVect object at 0x000001EE91E77DF0>\n<rdkit.DataStructs.cDataStructs.ExplicitBitVect object at 0x000001EE91E77E40>\n<rdkit.DataStructs.cDataStructs.ExplicitBitVect object at 0x000001EE91E77E90>\n<rdkit.DataStructs.cDataStructs.ExplicitBitVect object at 0x000001EE91E77EE0>\n<rdkit.DataStructs.cDataStructs.ExplicitBitVect object at 0x000001EE91E77F30>\n<rdkit.DataStructs.cDataStructs.ExplicitBitVect object at 0x000001EE91E77F80>\n<rdkit.DataStructs.cDataStructs.ExplicitBitVect object at 0x000001EE91E78030>\n<rdkit.DataStructs.cDataStructs.ExplicitBitVect object at 0x000001EE91E78080>\n<rdkit.DataStructs.cDataStructs.ExplicitBitVect object at 0x000001EE91E780D0>\n<rdkit.DataStructs.cDataStructs.ExplicitBitVect object at 0x000001EE91E78120>\n<rdkit.DataStructs.cDataStructs.ExplicitBitVect object at 0x000001EE91E78170>\n<rdkit.DataStructs.cDataStructs.ExplicitBitVect object at 0x000001EE91E781C0>\n<rdkit.DataStructs.cDataStructs.ExplicitBitVect object at 0x000001EE91E78210>\n<rdkit.DataStructs.cDataStructs.ExplicitBitVect object at 0x000001EE91E78260>\n<rdkit.DataStructs.cDataStructs.ExplicitBitVect object at 0x000001EE91E782B0>\n<rdkit.DataStructs.cDataStructs.ExplicitBitVect object at 0x000001EE91E78300>\n<rdkit.DataStructs.cDataStructs.ExplicitBitVect object at 0x000001EE91E78350>\n<rdkit.DataStructs.cDataStructs.ExplicitBitVect object at 0x000001EE91E783A0>\n<rdkit.DataStructs.cDataStructs.ExplicitBitVect object at 0x000001EE91E783F0>\n<rdkit.DataStructs.cDataStructs.ExplicitBitVect object at 0x000001EE91E78440>\n<rdkit.DataStructs.cDataStructs.ExplicitBitVect object at 0x000001EE91E78490>\n<rdkit.DataStructs.cDataStructs.ExplicitBitVect object at 0x000001EE91E784E0>\n<rdkit.DataStructs.cDataStructs.ExplicitBitVect object at 0x000001EE91E78530>\n<rdkit.DataStructs.cDataStructs.ExplicitBitVect object at 0x000001EE91E78580>\n<rdkit.DataStructs.cDataStructs.ExplicitBitVect object at 0x000001EE91E785D0>\n<rdkit.DataStructs.cDataStructs.ExplicitBitVect object at 0x000001EE91E78620>\n<rdkit.DataStructs.cDataStructs.ExplicitBitVect object at 0x000001EE91E78670>\n<rdkit.DataStructs.cDataStructs.ExplicitBitVect object at 0x000001EE91E786C0>\n<rdkit.DataStructs.cDataStructs.ExplicitBitVect object at 0x000001EE91E78710>\n<rdkit.DataStructs.cDataStructs.ExplicitBitVect object at 0x000001EE91E78760>\n<rdkit.DataStructs.cDataStructs.ExplicitBitVect object at 0x000001EE91E787B0>\n<rdkit.DataStructs.cDataStructs.ExplicitBitVect object at 0x000001EE91E78800>\n<rdkit.DataStructs.cDataStructs.ExplicitBitVect object at 0x000001EE91E78850>\n<rdkit.DataStructs.cDataStructs.ExplicitBitVect object at 0x000001EE91E788A0>\n<rdkit.DataStructs.cDataStructs.ExplicitBitVect object at 0x000001EE91E788F0>\n<rdkit.DataStructs.cDataStructs.ExplicitBitVect object at 0x000001EE91E78940>\n<rdkit.DataStructs.cDataStructs.ExplicitBitVect object at 0x000001EE91E78990>\n<rdkit.DataStructs.cDataStructs.ExplicitBitVect object at 0x000001EE91E789E0>\n<rdkit.DataStructs.cDataStructs.ExplicitBitVect object at 0x000001EE91E78A30>\n<rdkit.DataStructs.cDataStructs.ExplicitBitVect object at 0x000001EE91E78A80>\n<rdkit.DataStructs.cDataStructs.ExplicitBitVect object at 0x000001EE91E78AD0>\n<rdkit.DataStructs.cDataStructs.ExplicitBitVect object at 0x000001EE91E78B20>\n<rdkit.DataStructs.cDataStructs.ExplicitBitVect object at 0x000001EE91E78B70>\n<rdkit.DataStructs.cDataStructs.ExplicitBitVect object at 0x000001EE91E78BC0>\n<rdkit.DataStructs.cDataStructs.ExplicitBitVect object at 0x000001EE91E78C10>\n<rdkit.DataStructs.cDataStructs.ExplicitBitVect object at 0x000001EE91E78C60>\n<rdkit.DataStructs.cDataStructs.ExplicitBitVect object at 0x000001EE91E78CB0>\n<rdkit.DataStructs.cDataStructs.ExplicitBitVect object at 0x000001EE91E78D00>\n<rdkit.DataStructs.cDataStructs.ExplicitBitVect object at 0x000001EE91E78D50>\n<rdkit.DataStructs.cDataStructs.ExplicitBitVect object at 0x000001EE91E78DA0>\n<rdkit.DataStructs.cDataStructs.ExplicitBitVect object at 0x000001EE91E78DF0>\n<rdkit.DataStructs.cDataStructs.ExplicitBitVect object at 0x000001EE91E78E40>\n<rdkit.DataStructs.cDataStructs.ExplicitBitVect object at 0x000001EE91E78E90>\n<rdkit.DataStructs.cDataStructs.ExplicitBitVect object at 0x000001EE91E78EE0>\n<rdkit.DataStructs.cDataStructs.ExplicitBitVect object at 0x000001EE91E78F30>\n<rdkit.DataStructs.cDataStructs.ExplicitBitVect object at 0x000001EE91E78F80>\n<rdkit.DataStructs.cDataStructs.ExplicitBitVect object at 0x000001EE91E79030>\n<rdkit.DataStructs.cDataStructs.ExplicitBitVect object at 0x000001EE91E79080>\n<rdkit.DataStructs.cDataStructs.ExplicitBitVect object at 0x000001EE91E790D0>\n<rdkit.DataStructs.cDataStructs.ExplicitBitVect object at 0x000001EE91E79120>\n<rdkit.DataStructs.cDataStructs.ExplicitBitVect object at 0x000001EE91E79170>\n<rdkit.DataStructs.cDataStructs.ExplicitBitVect object at 0x000001EE91E791C0>\n<rdkit.DataStructs.cDataStructs.ExplicitBitVect object at 0x000001EE91E79210>\n<rdkit.DataStructs.cDataStructs.ExplicitBitVect object at 0x000001EE91E79260>\n<rdkit.DataStructs.cDataStructs.ExplicitBitVect object at 0x000001EE91E792B0>\n<rdkit.DataStructs.cDataStructs.ExplicitBitVect object at 0x000001EE91E79300>\n<rdkit.DataStructs.cDataStructs.ExplicitBitVect object at 0x000001EE91E79350>\n<rdkit.DataStructs.cDataStructs.ExplicitBitVect object at 0x000001EE91E793A0>\n<rdkit.DataStructs.cDataStructs.ExplicitBitVect object at 0x000001EE91E793F0>\n<rdkit.DataStructs.cDataStructs.ExplicitBitVect object at 0x000001EE91E79440>\n<rdkit.DataStructs.cDataStructs.ExplicitBitVect object at 0x000001EE91E79490>\n<rdkit.DataStructs.cDataStructs.ExplicitBitVect object at 0x000001EE91E794E0>\n<rdkit.DataStructs.cDataStructs.ExplicitBitVect object at 0x000001EE91E79530>\n<rdkit.DataStructs.cDataStructs.ExplicitBitVect object at 0x000001EE91E79580>\n<rdkit.DataStructs.cDataStructs.ExplicitBitVect object at 0x000001EE91E795D0>\n<rdkit.DataStructs.cDataStructs.ExplicitBitVect object at 0x000001EE91E79620>\n<rdkit.DataStructs.cDataStructs.ExplicitBitVect object at 0x000001EE91E79670>\n<rdkit.DataStructs.cDataStructs.ExplicitBitVect object at 0x000001EE91E796C0>\n<rdkit.DataStructs.cDataStructs.ExplicitBitVect object at 0x000001EE91E79710>\n<rdkit.DataStructs.cDataStructs.ExplicitBitVect object at 0x000001EE91E79760>\n<rdkit.DataStructs.cDataStructs.ExplicitBitVect object at 0x000001EE91E797B0>\n<rdkit.DataStructs.cDataStructs.ExplicitBitVect object at 0x000001EE91E79800>\n<rdkit.DataStructs.cDataStructs.ExplicitBitVect object at 0x000001EE91E79850>\n<rdkit.DataStructs.cDataStructs.ExplicitBitVect object at 0x000001EE91E798A0>\n<rdkit.DataStructs.cDataStructs.ExplicitBitVect object at 0x000001EE91E798F0>\n<rdkit.DataStructs.cDataStructs.ExplicitBitVect object at 0x000001EE91E79940>\n<rdkit.DataStructs.cDataStructs.ExplicitBitVect object at 0x000001EE91E79990>\n<rdkit.DataStructs.cDataStructs.ExplicitBitVect object at 0x000001EE91E799E0>\n<rdkit.DataStructs.cDataStructs.ExplicitBitVect object at 0x000001EE91E79A30>\n<rdkit.DataStructs.cDataStructs.ExplicitBitVect object at 0x000001EE91E79A80>\n<rdkit.DataStructs.cDataStructs.ExplicitBitVect object at 0x000001EE91E79AD0>\n<rdkit.DataStructs.cDataStructs.ExplicitBitVect object at 0x000001EE91E79B20>\n<rdkit.DataStructs.cDataStructs.ExplicitBitVect object at 0x000001EE91E79B70>\n<rdkit.DataStructs.cDataStructs.ExplicitBitVect object at 0x000001EE91E79BC0>\n<rdkit.DataStructs.cDataStructs.ExplicitBitVect object at 0x000001EE91E79C10>\n<rdkit.DataStructs.cDataStructs.ExplicitBitVect object at 0x000001EE91E79C60>\n<rdkit.DataStructs.cDataStructs.ExplicitBitVect object at 0x000001EE91E79CB0>\n<rdkit.DataStructs.cDataStructs.ExplicitBitVect object at 0x000001EE91E79D00>\n<rdkit.DataStructs.cDataStructs.ExplicitBitVect object at 0x000001EE91E79D50>\n<rdkit.DataStructs.cDataStructs.ExplicitBitVect object at 0x000001EE91E79DA0>\n<rdkit.DataStructs.cDataStructs.ExplicitBitVect object at 0x000001EE91E79DF0>\n<rdkit.DataStructs.cDataStructs.ExplicitBitVect object at 0x000001EE91E79E40>\n<rdkit.DataStructs.cDataStructs.ExplicitBitVect object at 0x000001EE91E79E90>\n<rdkit.DataStructs.cDataStructs.ExplicitBitVect object at 0x000001EE91E79EE0>\n<rdkit.DataStructs.cDataStructs.ExplicitBitVect object at 0x000001EE91E79F30>\n<rdkit.DataStructs.cDataStructs.ExplicitBitVect object at 0x000001EE91E79F80>\n<rdkit.DataStructs.cDataStructs.ExplicitBitVect object at 0x000001EE91E7A030>\n<rdkit.DataStructs.cDataStructs.ExplicitBitVect object at 0x000001EE91E7A080>\n<rdkit.DataStructs.cDataStructs.ExplicitBitVect object at 0x000001EE91E7A0D0>\n<rdkit.DataStructs.cDataStructs.ExplicitBitVect object at 0x000001EE91E7A120>\n<rdkit.DataStructs.cDataStructs.ExplicitBitVect object at 0x000001EE91E7A170>\n<rdkit.DataStructs.cDataStructs.ExplicitBitVect object at 0x000001EE91E7A1C0>\n<rdkit.DataStructs.cDataStructs.ExplicitBitVect object at 0x000001EE91E7A210>\n<rdkit.DataStructs.cDataStructs.ExplicitBitVect object at 0x000001EE91E7A260>\n<rdkit.DataStructs.cDataStructs.ExplicitBitVect object at 0x000001EE91E7A2B0>\n<rdkit.DataStructs.cDataStructs.ExplicitBitVect object at 0x000001EE91E7A300>\n<rdkit.DataStructs.cDataStructs.ExplicitBitVect object at 0x000001EE91E7A350>\n<rdkit.DataStructs.cDataStructs.ExplicitBitVect object at 0x000001EE91E7A3A0>\n<rdkit.DataStructs.cDataStructs.ExplicitBitVect object at 0x000001EE91E7A3F0>\n<rdkit.DataStructs.cDataStructs.ExplicitBitVect object at 0x000001EE91E7A440>\n<rdkit.DataStructs.cDataStructs.ExplicitBitVect object at 0x000001EE91E7A490>\n<rdkit.DataStructs.cDataStructs.ExplicitBitVect object at 0x000001EE91E7A4E0>\n<rdkit.DataStructs.cDataStructs.ExplicitBitVect object at 0x000001EE91E7A530>\n<rdkit.DataStructs.cDataStructs.ExplicitBitVect object at 0x000001EE91E7A580>\n<rdkit.DataStructs.cDataStructs.ExplicitBitVect object at 0x000001EE91E7A5D0>\n<rdkit.DataStructs.cDataStructs.ExplicitBitVect object at 0x000001EE91E7A620>\n<rdkit.DataStructs.cDataStructs.ExplicitBitVect object at 0x000001EE91E7A670>\n<rdkit.DataStructs.cDataStructs.ExplicitBitVect object at 0x000001EE91E7A6C0>\n<rdkit.DataStructs.cDataStructs.ExplicitBitVect object at 0x000001EE91E7A710>\n<rdkit.DataStructs.cDataStructs.ExplicitBitVect object at 0x000001EE91E7A760>\n<rdkit.DataStructs.cDataStructs.ExplicitBitVect object at 0x000001EE91E7A7B0>\n<rdkit.DataStructs.cDataStructs.ExplicitBitVect object at 0x000001EE91E7A800>\n<rdkit.DataStructs.cDataStructs.ExplicitBitVect object at 0x000001EE91E7A850>\n<rdkit.DataStructs.cDataStructs.ExplicitBitVect object at 0x000001EE91E7A8A0>\n<rdkit.DataStructs.cDataStructs.ExplicitBitVect object at 0x000001EE91E7A8F0>\n<rdkit.DataStructs.cDataStructs.ExplicitBitVect object at 0x000001EE91E7A940>\n<rdkit.DataStructs.cDataStructs.ExplicitBitVect object at 0x000001EE91E7A990>\n<rdkit.DataStructs.cDataStructs.ExplicitBitVect object at 0x000001EE91E7A9E0>\n<rdkit.DataStructs.cDataStructs.ExplicitBitVect object at 0x000001EE91E7AA30>\n<rdkit.DataStructs.cDataStructs.ExplicitBitVect object at 0x000001EE91E7AA80>\n<rdkit.DataStructs.cDataStructs.ExplicitBitVect object at 0x000001EE91E7AAD0>\n<rdkit.DataStructs.cDataStructs.ExplicitBitVect object at 0x000001EE91E7AB20>\n<rdkit.DataStructs.cDataStructs.ExplicitBitVect object at 0x000001EE91E7AB70>\n<rdkit.DataStructs.cDataStructs.ExplicitBitVect object at 0x000001EE91E7ABC0>\n<rdkit.DataStructs.cDataStructs.ExplicitBitVect object at 0x000001EE91E7AC10>\n<rdkit.DataStructs.cDataStructs.ExplicitBitVect object at 0x000001EE91E7AC60>\n<rdkit.DataStructs.cDataStructs.ExplicitBitVect object at 0x000001EE91E7ACB0>\n<rdkit.DataStructs.cDataStructs.ExplicitBitVect object at 0x000001EE91E7AD00>\n<rdkit.DataStructs.cDataStructs.ExplicitBitVect object at 0x000001EE91E7AD50>\n<rdkit.DataStructs.cDataStructs.ExplicitBitVect object at 0x000001EE91E7ADA0>\n<rdkit.DataStructs.cDataStructs.ExplicitBitVect object at 0x000001EE91E7ADF0>\n<rdkit.DataStructs.cDataStructs.ExplicitBitVect object at 0x000001EE91E7AE40>\n<rdkit.DataStructs.cDataStructs.ExplicitBitVect object at 0x000001EE91E7AE90>\n<rdkit.DataStructs.cDataStructs.ExplicitBitVect object at 0x000001EE91E7AEE0>\n<rdkit.DataStructs.cDataStructs.ExplicitBitVect object at 0x000001EE91E7AF30>\n<rdkit.DataStructs.cDataStructs.ExplicitBitVect object at 0x000001EE91E7AF80>\n<rdkit.DataStructs.cDataStructs.ExplicitBitVect object at 0x000001EE91E7B030>\n<rdkit.DataStructs.cDataStructs.ExplicitBitVect object at 0x000001EE91E7B080>\n<rdkit.DataStructs.cDataStructs.ExplicitBitVect object at 0x000001EE91E7B0D0>\n<rdkit.DataStructs.cDataStructs.ExplicitBitVect object at 0x000001EE91E7B120>\n<rdkit.DataStructs.cDataStructs.ExplicitBitVect object at 0x000001EE91E7B170>\n<rdkit.DataStructs.cDataStructs.ExplicitBitVect object at 0x000001EE91E7B1C0>\n<rdkit.DataStructs.cDataStructs.ExplicitBitVect object at 0x000001EE91E7B210>\n<rdkit.DataStructs.cDataStructs.ExplicitBitVect object at 0x000001EE91E7B260>\n<rdkit.DataStructs.cDataStructs.ExplicitBitVect object at 0x000001EE91E7B2B0>\n<rdkit.DataStructs.cDataStructs.ExplicitBitVect object at 0x000001EE91E7B300>\n<rdkit.DataStructs.cDataStructs.ExplicitBitVect object at 0x000001EE91E7B350>\n<rdkit.DataStructs.cDataStructs.ExplicitBitVect object at 0x000001EE91E7B3A0>\n<rdkit.DataStructs.cDataStructs.ExplicitBitVect object at 0x000001EE91E7B3F0>\n<rdkit.DataStructs.cDataStructs.ExplicitBitVect object at 0x000001EE91E7B440>\n<rdkit.DataStructs.cDataStructs.ExplicitBitVect object at 0x000001EE91E7B490>\n<rdkit.DataStructs.cDataStructs.ExplicitBitVect object at 0x000001EE91E7B4E0>\n<rdkit.DataStructs.cDataStructs.ExplicitBitVect object at 0x000001EE91E7B530>\n<rdkit.DataStructs.cDataStructs.ExplicitBitVect object at 0x000001EE91E7B580>\n<rdkit.DataStructs.cDataStructs.ExplicitBitVect object at 0x000001EE91E7B5D0>\n<rdkit.DataStructs.cDataStructs.ExplicitBitVect object at 0x000001EE91E7B620>\n<rdkit.DataStructs.cDataStructs.ExplicitBitVect object at 0x000001EE91E7B670>\n<rdkit.DataStructs.cDataStructs.ExplicitBitVect object at 0x000001EE91E7B6C0>\n<rdkit.DataStructs.cDataStructs.ExplicitBitVect object at 0x000001EE91E7B710>\n<rdkit.DataStructs.cDataStructs.ExplicitBitVect object at 0x000001EE91E7B760>\n<rdkit.DataStructs.cDataStructs.ExplicitBitVect object at 0x000001EE91E7B7B0>\n<rdkit.DataStructs.cDataStructs.ExplicitBitVect object at 0x000001EE91E7B800>\n<rdkit.DataStructs.cDataStructs.ExplicitBitVect object at 0x000001EE91E7B850>\n<rdkit.DataStructs.cDataStructs.ExplicitBitVect object at 0x000001EE91E7B8A0>\n<rdkit.DataStructs.cDataStructs.ExplicitBitVect object at 0x000001EE91E7B8F0>\n<rdkit.DataStructs.cDataStructs.ExplicitBitVect object at 0x000001EE91E7B940>\n<rdkit.DataStructs.cDataStructs.ExplicitBitVect object at 0x000001EE91E7B990>\n<rdkit.DataStructs.cDataStructs.ExplicitBitVect object at 0x000001EE91E7B9E0>\n<rdkit.DataStructs.cDataStructs.ExplicitBitVect object at 0x000001EE91E7BA30>\n<rdkit.DataStructs.cDataStructs.ExplicitBitVect object at 0x000001EE91E7BA80>\n<rdkit.DataStructs.cDataStructs.ExplicitBitVect object at 0x000001EE91E7BAD0>\n<rdkit.DataStructs.cDataStructs.ExplicitBitVect object at 0x000001EE91E7BB20>\n<rdkit.DataStructs.cDataStructs.ExplicitBitVect object at 0x000001EE91E7BB70>\n<rdkit.DataStructs.cDataStructs.ExplicitBitVect object at 0x000001EE91E7BBC0>\n<rdkit.DataStructs.cDataStructs.ExplicitBitVect object at 0x000001EE91E7BC10>\n<rdkit.DataStructs.cDataStructs.ExplicitBitVect object at 0x000001EE91E7BC60>\n<rdkit.DataStructs.cDataStructs.ExplicitBitVect object at 0x000001EE91E7BCB0>\n<rdkit.DataStructs.cDataStructs.ExplicitBitVect object at 0x000001EE91E7BD00>\n<rdkit.DataStructs.cDataStructs.ExplicitBitVect object at 0x000001EE91E7BD50>\n<rdkit.DataStructs.cDataStructs.ExplicitBitVect object at 0x000001EE91E7BDA0>\n<rdkit.DataStructs.cDataStructs.ExplicitBitVect object at 0x000001EE91E7BDF0>\n<rdkit.DataStructs.cDataStructs.ExplicitBitVect object at 0x000001EE91E7BE40>\n<rdkit.DataStructs.cDataStructs.ExplicitBitVect object at 0x000001EE91E7BE90>\n<rdkit.DataStructs.cDataStructs.ExplicitBitVect object at 0x000001EE91E7BEE0>\n<rdkit.DataStructs.cDataStructs.ExplicitBitVect object at 0x000001EE91E7BF30>\n<rdkit.DataStructs.cDataStructs.ExplicitBitVect object at 0x000001EE91E7BF80>\n<rdkit.DataStructs.cDataStructs.ExplicitBitVect object at 0x000001EE91E7C030>\n<rdkit.DataStructs.cDataStructs.ExplicitBitVect object at 0x000001EE91E7C080>\n<rdkit.DataStructs.cDataStructs.ExplicitBitVect object at 0x000001EE91E7C0D0>\n<rdkit.DataStructs.cDataStructs.ExplicitBitVect object at 0x000001EE91E7C120>\n<rdkit.DataStructs.cDataStructs.ExplicitBitVect object at 0x000001EE91E7C170>\n<rdkit.DataStructs.cDataStructs.ExplicitBitVect object at 0x000001EE91E7C1C0>\n<rdkit.DataStructs.cDataStructs.ExplicitBitVect object at 0x000001EE91E7C210>\n<rdkit.DataStructs.cDataStructs.ExplicitBitVect object at 0x000001EE91E7C260>\n<rdkit.DataStructs.cDataStructs.ExplicitBitVect object at 0x000001EE91E7C2B0>\n<rdkit.DataStructs.cDataStructs.ExplicitBitVect object at 0x000001EE91E7C300>\n<rdkit.DataStructs.cDataStructs.ExplicitBitVect object at 0x000001EE91E7C350>\n<rdkit.DataStructs.cDataStructs.ExplicitBitVect object at 0x000001EE91E7C3A0>\n<rdkit.DataStructs.cDataStructs.ExplicitBitVect object at 0x000001EE91E7C3F0>\n<rdkit.DataStructs.cDataStructs.ExplicitBitVect object at 0x000001EE91E7C440>\n<rdkit.DataStructs.cDataStructs.ExplicitBitVect object at 0x000001EE91E7C490>\n<rdkit.DataStructs.cDataStructs.ExplicitBitVect object at 0x000001EE91E7C4E0>\n<rdkit.DataStructs.cDataStructs.ExplicitBitVect object at 0x000001EE91E7C530>\n<rdkit.DataStructs.cDataStructs.ExplicitBitVect object at 0x000001EE91E7C580>\n<rdkit.DataStructs.cDataStructs.ExplicitBitVect object at 0x000001EE91E7C5D0>\n<rdkit.DataStructs.cDataStructs.ExplicitBitVect object at 0x000001EE91E7C620>\n<rdkit.DataStructs.cDataStructs.ExplicitBitVect object at 0x000001EE91E7C670>\n<rdkit.DataStructs.cDataStructs.ExplicitBitVect object at 0x000001EE91E7C6C0>\n<rdkit.DataStructs.cDataStructs.ExplicitBitVect object at 0x000001EE91E7C710>\n<rdkit.DataStructs.cDataStructs.ExplicitBitVect object at 0x000001EE91E7C760>\n<rdkit.DataStructs.cDataStructs.ExplicitBitVect object at 0x000001EE91E7C7B0>\n<rdkit.DataStructs.cDataStructs.ExplicitBitVect object at 0x000001EE91E7C800>\n<rdkit.DataStructs.cDataStructs.ExplicitBitVect object at 0x000001EE91E7C850>\n<rdkit.DataStructs.cDataStructs.ExplicitBitVect object at 0x000001EE91E7C8A0>\n<rdkit.DataStructs.cDataStructs.ExplicitBitVect object at 0x000001EE91E7C8F0>\n<rdkit.DataStructs.cDataStructs.ExplicitBitVect object at 0x000001EE91E7C940>\n<rdkit.DataStructs.cDataStructs.ExplicitBitVect object at 0x000001EE91E7C990>\n<rdkit.DataStructs.cDataStructs.ExplicitBitVect object at 0x000001EE91E7C9E0>\n<rdkit.DataStructs.cDataStructs.ExplicitBitVect object at 0x000001EE91E7CA30>\n<rdkit.DataStructs.cDataStructs.ExplicitBitVect object at 0x000001EE91E7CA80>\n<rdkit.DataStructs.cDataStructs.ExplicitBitVect object at 0x000001EE91E7CAD0>\n<rdkit.DataStructs.cDataStructs.ExplicitBitVect object at 0x000001EE91E7CB20>\n<rdkit.DataStructs.cDataStructs.ExplicitBitVect object at 0x000001EE91E7CB70>\n<rdkit.DataStructs.cDataStructs.ExplicitBitVect object at 0x000001EE91E7CBC0>\n<rdkit.DataStructs.cDataStructs.ExplicitBitVect object at 0x000001EE91E7CC10>\n<rdkit.DataStructs.cDataStructs.ExplicitBitVect object at 0x000001EE91E7CC60>\n<rdkit.DataStructs.cDataStructs.ExplicitBitVect object at 0x000001EE91E7CCB0>\n<rdkit.DataStructs.cDataStructs.ExplicitBitVect object at 0x000001EE91E7CD00>\n<rdkit.DataStructs.cDataStructs.ExplicitBitVect object at 0x000001EE91E7CD50>\n<rdkit.DataStructs.cDataStructs.ExplicitBitVect object at 0x000001EE91E7CDA0>\n<rdkit.DataStructs.cDataStructs.ExplicitBitVect object at 0x000001EE91E7CDF0>\n<rdkit.DataStructs.cDataStructs.ExplicitBitVect object at 0x000001EE91E7CE40>\n<rdkit.DataStructs.cDataStructs.ExplicitBitVect object at 0x000001EE91E7CE90>\n<rdkit.DataStructs.cDataStructs.ExplicitBitVect object at 0x000001EE91E7CEE0>\n<rdkit.DataStructs.cDataStructs.ExplicitBitVect object at 0x000001EE91E7CF30>\n<rdkit.DataStructs.cDataStructs.ExplicitBitVect object at 0x000001EE91E7CF80>\n<rdkit.DataStructs.cDataStructs.ExplicitBitVect object at 0x000001EE91E7D030>\n<rdkit.DataStructs.cDataStructs.ExplicitBitVect object at 0x000001EE91E7D080>\n<rdkit.DataStructs.cDataStructs.ExplicitBitVect object at 0x000001EE91E7D0D0>\n<rdkit.DataStructs.cDataStructs.ExplicitBitVect object at 0x000001EE91E7D120>\n<rdkit.DataStructs.cDataStructs.ExplicitBitVect object at 0x000001EE91E7D170>\n<rdkit.DataStructs.cDataStructs.ExplicitBitVect object at 0x000001EE91E7D1C0>\n<rdkit.DataStructs.cDataStructs.ExplicitBitVect object at 0x000001EE91E7D210>\n<rdkit.DataStructs.cDataStructs.ExplicitBitVect object at 0x000001EE91E7D260>\n<rdkit.DataStructs.cDataStructs.ExplicitBitVect object at 0x000001EE91E7D2B0>\n<rdkit.DataStructs.cDataStructs.ExplicitBitVect object at 0x000001EE91E7D300>\n<rdkit.DataStructs.cDataStructs.ExplicitBitVect object at 0x000001EE91E7D350>\n<rdkit.DataStructs.cDataStructs.ExplicitBitVect object at 0x000001EE91E7D3A0>\n<rdkit.DataStructs.cDataStructs.ExplicitBitVect object at 0x000001EE91E7D3F0>\n<rdkit.DataStructs.cDataStructs.ExplicitBitVect object at 0x000001EE91E7D440>\n<rdkit.DataStructs.cDataStructs.ExplicitBitVect object at 0x000001EE91E7D490>\n<rdkit.DataStructs.cDataStructs.ExplicitBitVect object at 0x000001EE91E7D4E0>\n<rdkit.DataStructs.cDataStructs.ExplicitBitVect object at 0x000001EE91E7D530>\n<rdkit.DataStructs.cDataStructs.ExplicitBitVect object at 0x000001EE91E7D580>\n<rdkit.DataStructs.cDataStructs.ExplicitBitVect object at 0x000001EE91E7D5D0>\n<rdkit.DataStructs.cDataStructs.ExplicitBitVect object at 0x000001EE91E7D620>\n<rdkit.DataStructs.cDataStructs.ExplicitBitVect object at 0x000001EE91E7D670>\n<rdkit.DataStructs.cDataStructs.ExplicitBitVect object at 0x000001EE91E7D6C0>\n<rdkit.DataStructs.cDataStructs.ExplicitBitVect object at 0x000001EE91E7D710>\n<rdkit.DataStructs.cDataStructs.ExplicitBitVect object at 0x000001EE91E7D760>\n<rdkit.DataStructs.cDataStructs.ExplicitBitVect object at 0x000001EE91E7D7B0>\n<rdkit.DataStructs.cDataStructs.ExplicitBitVect object at 0x000001EE91E7D800>\n<rdkit.DataStructs.cDataStructs.ExplicitBitVect object at 0x000001EE91E7D850>\n<rdkit.DataStructs.cDataStructs.ExplicitBitVect object at 0x000001EE91E7D8A0>\n<rdkit.DataStructs.cDataStructs.ExplicitBitVect object at 0x000001EE91E7D8F0>\n<rdkit.DataStructs.cDataStructs.ExplicitBitVect object at 0x000001EE91E7D940>\n<rdkit.DataStructs.cDataStructs.ExplicitBitVect object at 0x000001EE91E7D990>\n<rdkit.DataStructs.cDataStructs.ExplicitBitVect object at 0x000001EE91E7D9E0>\n<rdkit.DataStructs.cDataStructs.ExplicitBitVect object at 0x000001EE91E7DA30>\n<rdkit.DataStructs.cDataStructs.ExplicitBitVect object at 0x000001EE91E7DA80>\n<rdkit.DataStructs.cDataStructs.ExplicitBitVect object at 0x000001EE91E7DAD0>\n<rdkit.DataStructs.cDataStructs.ExplicitBitVect object at 0x000001EE91E7DB20>\n<rdkit.DataStructs.cDataStructs.ExplicitBitVect object at 0x000001EE91E7DB70>\n<rdkit.DataStructs.cDataStructs.ExplicitBitVect object at 0x000001EE91E7DBC0>\n<rdkit.DataStructs.cDataStructs.ExplicitBitVect object at 0x000001EE91E7DC10>\n<rdkit.DataStructs.cDataStructs.ExplicitBitVect object at 0x000001EE91E7DC60>\n<rdkit.DataStructs.cDataStructs.ExplicitBitVect object at 0x000001EE91E7DCB0>\n<rdkit.DataStructs.cDataStructs.ExplicitBitVect object at 0x000001EE91E7DD00>\n<rdkit.DataStructs.cDataStructs.ExplicitBitVect object at 0x000001EE91E7DD50>\n<rdkit.DataStructs.cDataStructs.ExplicitBitVect object at 0x000001EE91E7DDA0>\n<rdkit.DataStructs.cDataStructs.ExplicitBitVect object at 0x000001EE91E7DDF0>\n<rdkit.DataStructs.cDataStructs.ExplicitBitVect object at 0x000001EE91E7DE40>\n<rdkit.DataStructs.cDataStructs.ExplicitBitVect object at 0x000001EE91E7DE90>\n<rdkit.DataStructs.cDataStructs.ExplicitBitVect object at 0x000001EE91E7DEE0>\n<rdkit.DataStructs.cDataStructs.ExplicitBitVect object at 0x000001EE91E7DF30>\n<rdkit.DataStructs.cDataStructs.ExplicitBitVect object at 0x000001EE91E7DF80>\n<rdkit.DataStructs.cDataStructs.ExplicitBitVect object at 0x000001EE91E7E030>\n<rdkit.DataStructs.cDataStructs.ExplicitBitVect object at 0x000001EE91E7E080>\n<rdkit.DataStructs.cDataStructs.ExplicitBitVect object at 0x000001EE91E7E0D0>\n<rdkit.DataStructs.cDataStructs.ExplicitBitVect object at 0x000001EE91E7E120>\n<rdkit.DataStructs.cDataStructs.ExplicitBitVect object at 0x000001EE91E7E170>\n<rdkit.DataStructs.cDataStructs.ExplicitBitVect object at 0x000001EE91E7E1C0>\n<rdkit.DataStructs.cDataStructs.ExplicitBitVect object at 0x000001EE91E7E210>\n<rdkit.DataStructs.cDataStructs.ExplicitBitVect object at 0x000001EE91E7E260>\n<rdkit.DataStructs.cDataStructs.ExplicitBitVect object at 0x000001EE91E7E2B0>\n<rdkit.DataStructs.cDataStructs.ExplicitBitVect object at 0x000001EE91E7E300>\n<rdkit.DataStructs.cDataStructs.ExplicitBitVect object at 0x000001EE91E7E350>\n<rdkit.DataStructs.cDataStructs.ExplicitBitVect object at 0x000001EE91E7E3A0>\n<rdkit.DataStructs.cDataStructs.ExplicitBitVect object at 0x000001EE91E7E3F0>\n<rdkit.DataStructs.cDataStructs.ExplicitBitVect object at 0x000001EE91E7E440>\n<rdkit.DataStructs.cDataStructs.ExplicitBitVect object at 0x000001EE91E7E490>\n<rdkit.DataStructs.cDataStructs.ExplicitBitVect object at 0x000001EE91E7E4E0>\n<rdkit.DataStructs.cDataStructs.ExplicitBitVect object at 0x000001EE91E7E530>\n<rdkit.DataStructs.cDataStructs.ExplicitBitVect object at 0x000001EE91E7E580>\n<rdkit.DataStructs.cDataStructs.ExplicitBitVect object at 0x000001EE91E7E5D0>\n<rdkit.DataStructs.cDataStructs.ExplicitBitVect object at 0x000001EE91E7E620>\n<rdkit.DataStructs.cDataStructs.ExplicitBitVect object at 0x000001EE91E7E670>\n<rdkit.DataStructs.cDataStructs.ExplicitBitVect object at 0x000001EE91E7E6C0>\n<rdkit.DataStructs.cDataStructs.ExplicitBitVect object at 0x000001EE91E7E710>\n<rdkit.DataStructs.cDataStructs.ExplicitBitVect object at 0x000001EE91E7E760>\n<rdkit.DataStructs.cDataStructs.ExplicitBitVect object at 0x000001EE91E7E7B0>\n<rdkit.DataStructs.cDataStructs.ExplicitBitVect object at 0x000001EE91E7E800>\n<rdkit.DataStructs.cDataStructs.ExplicitBitVect object at 0x000001EE91E7E850>\n<rdkit.DataStructs.cDataStructs.ExplicitBitVect object at 0x000001EE91E7E8A0>\n<rdkit.DataStructs.cDataStructs.ExplicitBitVect object at 0x000001EE91E7E8F0>\n<rdkit.DataStructs.cDataStructs.ExplicitBitVect object at 0x000001EE91E7E940>\n<rdkit.DataStructs.cDataStructs.ExplicitBitVect object at 0x000001EE91E7E990>\n<rdkit.DataStructs.cDataStructs.ExplicitBitVect object at 0x000001EE91E7E9E0>\n<rdkit.DataStructs.cDataStructs.ExplicitBitVect object at 0x000001EE91E7EA30>\n<rdkit.DataStructs.cDataStructs.ExplicitBitVect object at 0x000001EE91E7EA80>\n<rdkit.DataStructs.cDataStructs.ExplicitBitVect object at 0x000001EE91E7EAD0>\n<rdkit.DataStructs.cDataStructs.ExplicitBitVect object at 0x000001EE91E7EB20>\n<rdkit.DataStructs.cDataStructs.ExplicitBitVect object at 0x000001EE91E7EB70>\n<rdkit.DataStructs.cDataStructs.ExplicitBitVect object at 0x000001EE91E7EBC0>\n<rdkit.DataStructs.cDataStructs.ExplicitBitVect object at 0x000001EE91E7EC10>\n<rdkit.DataStructs.cDataStructs.ExplicitBitVect object at 0x000001EE91E7EC60>\n<rdkit.DataStructs.cDataStructs.ExplicitBitVect object at 0x000001EE91E7ECB0>\n<rdkit.DataStructs.cDataStructs.ExplicitBitVect object at 0x000001EE91E7ED00>\n<rdkit.DataStructs.cDataStructs.ExplicitBitVect object at 0x000001EE91E7ED50>\n<rdkit.DataStructs.cDataStructs.ExplicitBitVect object at 0x000001EE91E7EDA0>\n<rdkit.DataStructs.cDataStructs.ExplicitBitVect object at 0x000001EE91E7EDF0>\n<rdkit.DataStructs.cDataStructs.ExplicitBitVect object at 0x000001EE91E7EE40>\n<rdkit.DataStructs.cDataStructs.ExplicitBitVect object at 0x000001EE91E7EE90>\n<rdkit.DataStructs.cDataStructs.ExplicitBitVect object at 0x000001EE91E7EEE0>\n<rdkit.DataStructs.cDataStructs.ExplicitBitVect object at 0x000001EE91E7EF30>\n<rdkit.DataStructs.cDataStructs.ExplicitBitVect object at 0x000001EE91E7EF80>\n<rdkit.DataStructs.cDataStructs.ExplicitBitVect object at 0x000001EE91E7F030>\n<rdkit.DataStructs.cDataStructs.ExplicitBitVect object at 0x000001EE91E7F080>\n<rdkit.DataStructs.cDataStructs.ExplicitBitVect object at 0x000001EE91E7F0D0>\n<rdkit.DataStructs.cDataStructs.ExplicitBitVect object at 0x000001EE91E7F120>\n<rdkit.DataStructs.cDataStructs.ExplicitBitVect object at 0x000001EE91E7F170>\n<rdkit.DataStructs.cDataStructs.ExplicitBitVect object at 0x000001EE91E7F1C0>\n<rdkit.DataStructs.cDataStructs.ExplicitBitVect object at 0x000001EE91E7F210>\n<rdkit.DataStructs.cDataStructs.ExplicitBitVect object at 0x000001EE91E7F260>\n<rdkit.DataStructs.cDataStructs.ExplicitBitVect object at 0x000001EE91E7F2B0>\n<rdkit.DataStructs.cDataStructs.ExplicitBitVect object at 0x000001EE91E7F300>\n<rdkit.DataStructs.cDataStructs.ExplicitBitVect object at 0x000001EE91E7F350>\n<rdkit.DataStructs.cDataStructs.ExplicitBitVect object at 0x000001EE91E7F3A0>\n<rdkit.DataStructs.cDataStructs.ExplicitBitVect object at 0x000001EE91E7F3F0>\n<rdkit.DataStructs.cDataStructs.ExplicitBitVect object at 0x000001EE91E7F440>\n<rdkit.DataStructs.cDataStructs.ExplicitBitVect object at 0x000001EE91E7F490>\n<rdkit.DataStructs.cDataStructs.ExplicitBitVect object at 0x000001EE91E7F4E0>\n<rdkit.DataStructs.cDataStructs.ExplicitBitVect object at 0x000001EE91E7F530>\n<rdkit.DataStructs.cDataStructs.ExplicitBitVect object at 0x000001EE91E7F580>\n<rdkit.DataStructs.cDataStructs.ExplicitBitVect object at 0x000001EE91E7F5D0>\n<rdkit.DataStructs.cDataStructs.ExplicitBitVect object at 0x000001EE91E7F620>\n<rdkit.DataStructs.cDataStructs.ExplicitBitVect object at 0x000001EE91E7F670>\n<rdkit.DataStructs.cDataStructs.ExplicitBitVect object at 0x000001EE91E7F6C0>\n<rdkit.DataStructs.cDataStructs.ExplicitBitVect object at 0x000001EE91E7F710>\n<rdkit.DataStructs.cDataStructs.ExplicitBitVect object at 0x000001EE91E7F760>\n<rdkit.DataStructs.cDataStructs.ExplicitBitVect object at 0x000001EE91E7F7B0>\n<rdkit.DataStructs.cDataStructs.ExplicitBitVect object at 0x000001EE91E7F800>\n<rdkit.DataStructs.cDataStructs.ExplicitBitVect object at 0x000001EE91E7F850>\n<rdkit.DataStructs.cDataStructs.ExplicitBitVect object at 0x000001EE91E7F8A0>\n<rdkit.DataStructs.cDataStructs.ExplicitBitVect object at 0x000001EE91E7F8F0>\n<rdkit.DataStructs.cDataStructs.ExplicitBitVect object at 0x000001EE91E7F940>\n<rdkit.DataStructs.cDataStructs.ExplicitBitVect object at 0x000001EE91E7F990>\n<rdkit.DataStructs.cDataStructs.ExplicitBitVect object at 0x000001EE91E7F9E0>\n<rdkit.DataStructs.cDataStructs.ExplicitBitVect object at 0x000001EE91E7FA30>\n<rdkit.DataStructs.cDataStructs.ExplicitBitVect object at 0x000001EE91E7FA80>\n<rdkit.DataStructs.cDataStructs.ExplicitBitVect object at 0x000001EE91E7FAD0>\n<rdkit.DataStructs.cDataStructs.ExplicitBitVect object at 0x000001EE91E7FB20>\n<rdkit.DataStructs.cDataStructs.ExplicitBitVect object at 0x000001EE91E7FB70>\n<rdkit.DataStructs.cDataStructs.ExplicitBitVect object at 0x000001EE91E7FBC0>\n<rdkit.DataStructs.cDataStructs.ExplicitBitVect object at 0x000001EE91E7FC10>\n<rdkit.DataStructs.cDataStructs.ExplicitBitVect object at 0x000001EE91E7FC60>\n<rdkit.DataStructs.cDataStructs.ExplicitBitVect object at 0x000001EE91E7FCB0>\n<rdkit.DataStructs.cDataStructs.ExplicitBitVect object at 0x000001EE91E7FD00>\n<rdkit.DataStructs.cDataStructs.ExplicitBitVect object at 0x000001EE91E7FD50>\n<rdkit.DataStructs.cDataStructs.ExplicitBitVect object at 0x000001EE91E7FDA0>\n<rdkit.DataStructs.cDataStructs.ExplicitBitVect object at 0x000001EE91E7FDF0>\n<rdkit.DataStructs.cDataStructs.ExplicitBitVect object at 0x000001EE91E7FE40>\n<rdkit.DataStructs.cDataStructs.ExplicitBitVect object at 0x000001EE91E7FE90>\n<rdkit.DataStructs.cDataStructs.ExplicitBitVect object at 0x000001EE91E7FEE0>\n<rdkit.DataStructs.cDataStructs.ExplicitBitVect object at 0x000001EE91E7FF30>\n<rdkit.DataStructs.cDataStructs.ExplicitBitVect object at 0x000001EE91E7FF80>\n<rdkit.DataStructs.cDataStructs.ExplicitBitVect object at 0x000001EE91E80030>\n<rdkit.DataStructs.cDataStructs.ExplicitBitVect object at 0x000001EE91E80080>\n<rdkit.DataStructs.cDataStructs.ExplicitBitVect object at 0x000001EE91E800D0>\n<rdkit.DataStructs.cDataStructs.ExplicitBitVect object at 0x000001EE91E80120>\n<rdkit.DataStructs.cDataStructs.ExplicitBitVect object at 0x000001EE91E80170>\n<rdkit.DataStructs.cDataStructs.ExplicitBitVect object at 0x000001EE91E801C0>\n<rdkit.DataStructs.cDataStructs.ExplicitBitVect object at 0x000001EE91E80210>\n<rdkit.DataStructs.cDataStructs.ExplicitBitVect object at 0x000001EE91E80260>\n<rdkit.DataStructs.cDataStructs.ExplicitBitVect object at 0x000001EE91E802B0>\n<rdkit.DataStructs.cDataStructs.ExplicitBitVect object at 0x000001EE91E80300>\n<rdkit.DataStructs.cDataStructs.ExplicitBitVect object at 0x000001EE91E80350>\n<rdkit.DataStructs.cDataStructs.ExplicitBitVect object at 0x000001EE91E803A0>\n<rdkit.DataStructs.cDataStructs.ExplicitBitVect object at 0x000001EE91E803F0>\n<rdkit.DataStructs.cDataStructs.ExplicitBitVect object at 0x000001EE91E80440>\n<rdkit.DataStructs.cDataStructs.ExplicitBitVect object at 0x000001EE91E80490>\n<rdkit.DataStructs.cDataStructs.ExplicitBitVect object at 0x000001EE91E804E0>\n<rdkit.DataStructs.cDataStructs.ExplicitBitVect object at 0x000001EE91E80530>\n<rdkit.DataStructs.cDataStructs.ExplicitBitVect object at 0x000001EE91E80580>\n<rdkit.DataStructs.cDataStructs.ExplicitBitVect object at 0x000001EE91E805D0>\n<rdkit.DataStructs.cDataStructs.ExplicitBitVect object at 0x000001EE91E80620>\n<rdkit.DataStructs.cDataStructs.ExplicitBitVect object at 0x000001EE91E80670>\n<rdkit.DataStructs.cDataStructs.ExplicitBitVect object at 0x000001EE91E806C0>\n<rdkit.DataStructs.cDataStructs.ExplicitBitVect object at 0x000001EE91E80710>\n<rdkit.DataStructs.cDataStructs.ExplicitBitVect object at 0x000001EE91E80760>\n<rdkit.DataStructs.cDataStructs.ExplicitBitVect object at 0x000001EE91E807B0>\n<rdkit.DataStructs.cDataStructs.ExplicitBitVect object at 0x000001EE91E80800>\n<rdkit.DataStructs.cDataStructs.ExplicitBitVect object at 0x000001EE91E80850>\n<rdkit.DataStructs.cDataStructs.ExplicitBitVect object at 0x000001EE91E808A0>\n<rdkit.DataStructs.cDataStructs.ExplicitBitVect object at 0x000001EE91E808F0>\n<rdkit.DataStructs.cDataStructs.ExplicitBitVect object at 0x000001EE91E80940>\n<rdkit.DataStructs.cDataStructs.ExplicitBitVect object at 0x000001EE91E80990>\n<rdkit.DataStructs.cDataStructs.ExplicitBitVect object at 0x000001EE91E809E0>\n<rdkit.DataStructs.cDataStructs.ExplicitBitVect object at 0x000001EE91E80A30>\n<rdkit.DataStructs.cDataStructs.ExplicitBitVect object at 0x000001EE91E80A80>\n<rdkit.DataStructs.cDataStructs.ExplicitBitVect object at 0x000001EE91E80AD0>\n<rdkit.DataStructs.cDataStructs.ExplicitBitVect object at 0x000001EE91E80B20>\n<rdkit.DataStructs.cDataStructs.ExplicitBitVect object at 0x000001EE91E80B70>\n<rdkit.DataStructs.cDataStructs.ExplicitBitVect object at 0x000001EE91E80BC0>\n<rdkit.DataStructs.cDataStructs.ExplicitBitVect object at 0x000001EE91E80C10>\n<rdkit.DataStructs.cDataStructs.ExplicitBitVect object at 0x000001EE91E80C60>\n<rdkit.DataStructs.cDataStructs.ExplicitBitVect object at 0x000001EE91E80CB0>\n<rdkit.DataStructs.cDataStructs.ExplicitBitVect object at 0x000001EE91E80D00>\n<rdkit.DataStructs.cDataStructs.ExplicitBitVect object at 0x000001EE91E80D50>\n<rdkit.DataStructs.cDataStructs.ExplicitBitVect object at 0x000001EE91E80DA0>\n<rdkit.DataStructs.cDataStructs.ExplicitBitVect object at 0x000001EE91E80DF0>\n<rdkit.DataStructs.cDataStructs.ExplicitBitVect object at 0x000001EE91E80E40>\n<rdkit.DataStructs.cDataStructs.ExplicitBitVect object at 0x000001EE91E80E90>\n<rdkit.DataStructs.cDataStructs.ExplicitBitVect object at 0x000001EE91E80EE0>\n<rdkit.DataStructs.cDataStructs.ExplicitBitVect object at 0x000001EE91E80F30>\n<rdkit.DataStructs.cDataStructs.ExplicitBitVect object at 0x000001EE91E80F80>\n<rdkit.DataStructs.cDataStructs.ExplicitBitVect object at 0x000001EE91E81030>\n<rdkit.DataStructs.cDataStructs.ExplicitBitVect object at 0x000001EE91E81080>\n<rdkit.DataStructs.cDataStructs.ExplicitBitVect object at 0x000001EE91E810D0>\n<rdkit.DataStructs.cDataStructs.ExplicitBitVect object at 0x000001EE91E81120>\n<rdkit.DataStructs.cDataStructs.ExplicitBitVect object at 0x000001EE91E81170>\n<rdkit.DataStructs.cDataStructs.ExplicitBitVect object at 0x000001EE91E811C0>\n<rdkit.DataStructs.cDataStructs.ExplicitBitVect object at 0x000001EE91E81210>\n<rdkit.DataStructs.cDataStructs.ExplicitBitVect object at 0x000001EE91E81260>\n<rdkit.DataStructs.cDataStructs.ExplicitBitVect object at 0x000001EE91E812B0>\n<rdkit.DataStructs.cDataStructs.ExplicitBitVect object at 0x000001EE91E81300>\n<rdkit.DataStructs.cDataStructs.ExplicitBitVect object at 0x000001EE91E81350>\n<rdkit.DataStructs.cDataStructs.ExplicitBitVect object at 0x000001EE91E813A0>\n<rdkit.DataStructs.cDataStructs.ExplicitBitVect object at 0x000001EE91E813F0>\n<rdkit.DataStructs.cDataStructs.ExplicitBitVect object at 0x000001EE91E81440>\n<rdkit.DataStructs.cDataStructs.ExplicitBitVect object at 0x000001EE91E81490>\n<rdkit.DataStructs.cDataStructs.ExplicitBitVect object at 0x000001EE91E814E0>\n<rdkit.DataStructs.cDataStructs.ExplicitBitVect object at 0x000001EE91E81530>\n<rdkit.DataStructs.cDataStructs.ExplicitBitVect object at 0x000001EE91E81580>\n<rdkit.DataStructs.cDataStructs.ExplicitBitVect object at 0x000001EE91E815D0>\n<rdkit.DataStructs.cDataStructs.ExplicitBitVect object at 0x000001EE91E81620>\n<rdkit.DataStructs.cDataStructs.ExplicitBitVect object at 0x000001EE91E81670>\n<rdkit.DataStructs.cDataStructs.ExplicitBitVect object at 0x000001EE91E816C0>\n<rdkit.DataStructs.cDataStructs.ExplicitBitVect object at 0x000001EE91E81710>\n<rdkit.DataStructs.cDataStructs.ExplicitBitVect object at 0x000001EE91E81760>\n<rdkit.DataStructs.cDataStructs.ExplicitBitVect object at 0x000001EE91E817B0>\n<rdkit.DataStructs.cDataStructs.ExplicitBitVect object at 0x000001EE91E81800>\n<rdkit.DataStructs.cDataStructs.ExplicitBitVect object at 0x000001EE91E81850>\n<rdkit.DataStructs.cDataStructs.ExplicitBitVect object at 0x000001EE91E818A0>\n<rdkit.DataStructs.cDataStructs.ExplicitBitVect object at 0x000001EE91E818F0>\n<rdkit.DataStructs.cDataStructs.ExplicitBitVect object at 0x000001EE91E81940>\n<rdkit.DataStructs.cDataStructs.ExplicitBitVect object at 0x000001EE91E81990>\n<rdkit.DataStructs.cDataStructs.ExplicitBitVect object at 0x000001EE91E819E0>\n<rdkit.DataStructs.cDataStructs.ExplicitBitVect object at 0x000001EE91E81A30>\n<rdkit.DataStructs.cDataStructs.ExplicitBitVect object at 0x000001EE91E81A80>\n<rdkit.DataStructs.cDataStructs.ExplicitBitVect object at 0x000001EE91E81AD0>\n<rdkit.DataStructs.cDataStructs.ExplicitBitVect object at 0x000001EE91E81B20>\n<rdkit.DataStructs.cDataStructs.ExplicitBitVect object at 0x000001EE91E81B70>\n<rdkit.DataStructs.cDataStructs.ExplicitBitVect object at 0x000001EE91E81BC0>\n<rdkit.DataStructs.cDataStructs.ExplicitBitVect object at 0x000001EE91E81C10>\n<rdkit.DataStructs.cDataStructs.ExplicitBitVect object at 0x000001EE91E81C60>\n<rdkit.DataStructs.cDataStructs.ExplicitBitVect object at 0x000001EE91E81CB0>\n<rdkit.DataStructs.cDataStructs.ExplicitBitVect object at 0x000001EE91E81D00>\n<rdkit.DataStructs.cDataStructs.ExplicitBitVect object at 0x000001EE91E81D50>\n<rdkit.DataStructs.cDataStructs.ExplicitBitVect object at 0x000001EE91E81DA0>\n<rdkit.DataStructs.cDataStructs.ExplicitBitVect object at 0x000001EE91E81DF0>\n<rdkit.DataStructs.cDataStructs.ExplicitBitVect object at 0x000001EE91E81E40>\n<rdkit.DataStructs.cDataStructs.ExplicitBitVect object at 0x000001EE91E81E90>\n<rdkit.DataStructs.cDataStructs.ExplicitBitVect object at 0x000001EE91E81EE0>\n<rdkit.DataStructs.cDataStructs.ExplicitBitVect object at 0x000001EE91E81F30>\n<rdkit.DataStructs.cDataStructs.ExplicitBitVect object at 0x000001EE91E81F80>\n<rdkit.DataStructs.cDataStructs.ExplicitBitVect object at 0x000001EE91E82030>\n<rdkit.DataStructs.cDataStructs.ExplicitBitVect object at 0x000001EE91E82080>\n<rdkit.DataStructs.cDataStructs.ExplicitBitVect object at 0x000001EE91E820D0>\n<rdkit.DataStructs.cDataStructs.ExplicitBitVect object at 0x000001EE91E82120>\n<rdkit.DataStructs.cDataStructs.ExplicitBitVect object at 0x000001EE91E82170>\n<rdkit.DataStructs.cDataStructs.ExplicitBitVect object at 0x000001EE91E821C0>\n<rdkit.DataStructs.cDataStructs.ExplicitBitVect object at 0x000001EE91E82210>\n<rdkit.DataStructs.cDataStructs.ExplicitBitVect object at 0x000001EE91E82260>\n<rdkit.DataStructs.cDataStructs.ExplicitBitVect object at 0x000001EE91E822B0>\n<rdkit.DataStructs.cDataStructs.ExplicitBitVect object at 0x000001EE91E82300>\n<rdkit.DataStructs.cDataStructs.ExplicitBitVect object at 0x000001EE91E82350>\n<rdkit.DataStructs.cDataStructs.ExplicitBitVect object at 0x000001EE91E823A0>\n<rdkit.DataStructs.cDataStructs.ExplicitBitVect object at 0x000001EE91E823F0>\n<rdkit.DataStructs.cDataStructs.ExplicitBitVect object at 0x000001EE91E82440>\n<rdkit.DataStructs.cDataStructs.ExplicitBitVect object at 0x000001EE91E82490>\n<rdkit.DataStructs.cDataStructs.ExplicitBitVect object at 0x000001EE91E824E0>\n<rdkit.DataStructs.cDataStructs.ExplicitBitVect object at 0x000001EE91E82530>\n<rdkit.DataStructs.cDataStructs.ExplicitBitVect object at 0x000001EE91E82580>\n<rdkit.DataStructs.cDataStructs.ExplicitBitVect object at 0x000001EE91E825D0>\n<rdkit.DataStructs.cDataStructs.ExplicitBitVect object at 0x000001EE91E82620>\n<rdkit.DataStructs.cDataStructs.ExplicitBitVect object at 0x000001EE91E82670>\n<rdkit.DataStructs.cDataStructs.ExplicitBitVect object at 0x000001EE91E826C0>\n<rdkit.DataStructs.cDataStructs.ExplicitBitVect object at 0x000001EE91E82710>\n<rdkit.DataStructs.cDataStructs.ExplicitBitVect object at 0x000001EE91E82760>\n<rdkit.DataStructs.cDataStructs.ExplicitBitVect object at 0x000001EE91E827B0>\n<rdkit.DataStructs.cDataStructs.ExplicitBitVect object at 0x000001EE91E82800>\n<rdkit.DataStructs.cDataStructs.ExplicitBitVect object at 0x000001EE91E82850>\n<rdkit.DataStructs.cDataStructs.ExplicitBitVect object at 0x000001EE91E828A0>\n<rdkit.DataStructs.cDataStructs.ExplicitBitVect object at 0x000001EE91E828F0>\n<rdkit.DataStructs.cDataStructs.ExplicitBitVect object at 0x000001EE91E82940>\n<rdkit.DataStructs.cDataStructs.ExplicitBitVect object at 0x000001EE91E82990>\n<rdkit.DataStructs.cDataStructs.ExplicitBitVect object at 0x000001EE91E829E0>\n<rdkit.DataStructs.cDataStructs.ExplicitBitVect object at 0x000001EE91E82A30>\n<rdkit.DataStructs.cDataStructs.ExplicitBitVect object at 0x000001EE91E82A80>\n<rdkit.DataStructs.cDataStructs.ExplicitBitVect object at 0x000001EE91E82AD0>\n<rdkit.DataStructs.cDataStructs.ExplicitBitVect object at 0x000001EE91E82B20>\n<rdkit.DataStructs.cDataStructs.ExplicitBitVect object at 0x000001EE91E82B70>\n<rdkit.DataStructs.cDataStructs.ExplicitBitVect object at 0x000001EE91E82BC0>\n<rdkit.DataStructs.cDataStructs.ExplicitBitVect object at 0x000001EE91E82C10>\n<rdkit.DataStructs.cDataStructs.ExplicitBitVect object at 0x000001EE91E82C60>\n<rdkit.DataStructs.cDataStructs.ExplicitBitVect object at 0x000001EE91E82CB0>\n<rdkit.DataStructs.cDataStructs.ExplicitBitVect object at 0x000001EE91E82D00>\n<rdkit.DataStructs.cDataStructs.ExplicitBitVect object at 0x000001EE91E82D50>\n<rdkit.DataStructs.cDataStructs.ExplicitBitVect object at 0x000001EE91E82DA0>\n<rdkit.DataStructs.cDataStructs.ExplicitBitVect object at 0x000001EE91E82DF0>\n<rdkit.DataStructs.cDataStructs.ExplicitBitVect object at 0x000001EE91E82E40>\n<rdkit.DataStructs.cDataStructs.ExplicitBitVect object at 0x000001EE91E82E90>\n<rdkit.DataStructs.cDataStructs.ExplicitBitVect object at 0x000001EE91E82EE0>\n<rdkit.DataStructs.cDataStructs.ExplicitBitVect object at 0x000001EE91E82F30>\n<rdkit.DataStructs.cDataStructs.ExplicitBitVect object at 0x000001EE91E82F80>\n<rdkit.DataStructs.cDataStructs.ExplicitBitVect object at 0x000001EE91E83030>\n<rdkit.DataStructs.cDataStructs.ExplicitBitVect object at 0x000001EE91E83080>\n<rdkit.DataStructs.cDataStructs.ExplicitBitVect object at 0x000001EE91E830D0>\n<rdkit.DataStructs.cDataStructs.ExplicitBitVect object at 0x000001EE91E83120>\n<rdkit.DataStructs.cDataStructs.ExplicitBitVect object at 0x000001EE91E83170>\n<rdkit.DataStructs.cDataStructs.ExplicitBitVect object at 0x000001EE91E831C0>\n<rdkit.DataStructs.cDataStructs.ExplicitBitVect object at 0x000001EE91E83210>\n<rdkit.DataStructs.cDataStructs.ExplicitBitVect object at 0x000001EE91E83260>\n<rdkit.DataStructs.cDataStructs.ExplicitBitVect object at 0x000001EE91E832B0>\n<rdkit.DataStructs.cDataStructs.ExplicitBitVect object at 0x000001EE91E83300>\n<rdkit.DataStructs.cDataStructs.ExplicitBitVect object at 0x000001EE91E83350>\n<rdkit.DataStructs.cDataStructs.ExplicitBitVect object at 0x000001EE91E833A0>\n<rdkit.DataStructs.cDataStructs.ExplicitBitVect object at 0x000001EE91E833F0>\n<rdkit.DataStructs.cDataStructs.ExplicitBitVect object at 0x000001EE91E83440>\n<rdkit.DataStructs.cDataStructs.ExplicitBitVect object at 0x000001EE91E83490>\n<rdkit.DataStructs.cDataStructs.ExplicitBitVect object at 0x000001EE91E834E0>\n<rdkit.DataStructs.cDataStructs.ExplicitBitVect object at 0x000001EE91E83530>\n<rdkit.DataStructs.cDataStructs.ExplicitBitVect object at 0x000001EE91E83580>\n<rdkit.DataStructs.cDataStructs.ExplicitBitVect object at 0x000001EE91E835D0>\n<rdkit.DataStructs.cDataStructs.ExplicitBitVect object at 0x000001EE91E83620>\n<rdkit.DataStructs.cDataStructs.ExplicitBitVect object at 0x000001EE91E83670>\n<rdkit.DataStructs.cDataStructs.ExplicitBitVect object at 0x000001EE91E836C0>\n<rdkit.DataStructs.cDataStructs.ExplicitBitVect object at 0x000001EE91E83710>\n<rdkit.DataStructs.cDataStructs.ExplicitBitVect object at 0x000001EE91E83760>\n<rdkit.DataStructs.cDataStructs.ExplicitBitVect object at 0x000001EE91E837B0>\n<rdkit.DataStructs.cDataStructs.ExplicitBitVect object at 0x000001EE91E83800>\n<rdkit.DataStructs.cDataStructs.ExplicitBitVect object at 0x000001EE91E83850>\n<rdkit.DataStructs.cDataStructs.ExplicitBitVect object at 0x000001EE91E838A0>\n<rdkit.DataStructs.cDataStructs.ExplicitBitVect object at 0x000001EE91E838F0>\n<rdkit.DataStructs.cDataStructs.ExplicitBitVect object at 0x000001EE91E83940>\n<rdkit.DataStructs.cDataStructs.ExplicitBitVect object at 0x000001EE91E83990>\n<rdkit.DataStructs.cDataStructs.ExplicitBitVect object at 0x000001EE91E839E0>\n<rdkit.DataStructs.cDataStructs.ExplicitBitVect object at 0x000001EE91E83A30>\n<rdkit.DataStructs.cDataStructs.ExplicitBitVect object at 0x000001EE91E83A80>\n<rdkit.DataStructs.cDataStructs.ExplicitBitVect object at 0x000001EE91E83AD0>\n<rdkit.DataStructs.cDataStructs.ExplicitBitVect object at 0x000001EE91E83B20>\n<rdkit.DataStructs.cDataStructs.ExplicitBitVect object at 0x000001EE91E83B70>\n<rdkit.DataStructs.cDataStructs.ExplicitBitVect object at 0x000001EE91E83BC0>\n<rdkit.DataStructs.cDataStructs.ExplicitBitVect object at 0x000001EE91E83C10>\n<rdkit.DataStructs.cDataStructs.ExplicitBitVect object at 0x000001EE91E83C60>\n<rdkit.DataStructs.cDataStructs.ExplicitBitVect object at 0x000001EE91E83CB0>\n<rdkit.DataStructs.cDataStructs.ExplicitBitVect object at 0x000001EE91E83D00>\n<rdkit.DataStructs.cDataStructs.ExplicitBitVect object at 0x000001EE91E83D50>\n<rdkit.DataStructs.cDataStructs.ExplicitBitVect object at 0x000001EE91E83DA0>\n<rdkit.DataStructs.cDataStructs.ExplicitBitVect object at 0x000001EE91E83DF0>\n<rdkit.DataStructs.cDataStructs.ExplicitBitVect object at 0x000001EE91E83E40>\n<rdkit.DataStructs.cDataStructs.ExplicitBitVect object at 0x000001EE91E83E90>\n<rdkit.DataStructs.cDataStructs.ExplicitBitVect object at 0x000001EE91E83EE0>\n<rdkit.DataStructs.cDataStructs.ExplicitBitVect object at 0x000001EE91E83F30>\n<rdkit.DataStructs.cDataStructs.ExplicitBitVect object at 0x000001EE91E83F80>\n<rdkit.DataStructs.cDataStructs.ExplicitBitVect object at 0x000001EE91E84030>\n<rdkit.DataStructs.cDataStructs.ExplicitBitVect object at 0x000001EE91E84080>\n<rdkit.DataStructs.cDataStructs.ExplicitBitVect object at 0x000001EE91E840D0>\n<rdkit.DataStructs.cDataStructs.ExplicitBitVect object at 0x000001EE91E84120>\n<rdkit.DataStructs.cDataStructs.ExplicitBitVect object at 0x000001EE91E84170>\n<rdkit.DataStructs.cDataStructs.ExplicitBitVect object at 0x000001EE91E841C0>\n<rdkit.DataStructs.cDataStructs.ExplicitBitVect object at 0x000001EE91E84210>\n<rdkit.DataStructs.cDataStructs.ExplicitBitVect object at 0x000001EE91E84260>\n<rdkit.DataStructs.cDataStructs.ExplicitBitVect object at 0x000001EE91E842B0>\n<rdkit.DataStructs.cDataStructs.ExplicitBitVect object at 0x000001EE91E84300>\n<rdkit.DataStructs.cDataStructs.ExplicitBitVect object at 0x000001EE91E84350>\n<rdkit.DataStructs.cDataStructs.ExplicitBitVect object at 0x000001EE91E843A0>\n<rdkit.DataStructs.cDataStructs.ExplicitBitVect object at 0x000001EE91E843F0>\n<rdkit.DataStructs.cDataStructs.ExplicitBitVect object at 0x000001EE91E84440>\n<rdkit.DataStructs.cDataStructs.ExplicitBitVect object at 0x000001EE91E84490>\n<rdkit.DataStructs.cDataStructs.ExplicitBitVect object at 0x000001EE91E844E0>\n<rdkit.DataStructs.cDataStructs.ExplicitBitVect object at 0x000001EE91E84530>\n<rdkit.DataStructs.cDataStructs.ExplicitBitVect object at 0x000001EE91E84580>\n<rdkit.DataStructs.cDataStructs.ExplicitBitVect object at 0x000001EE91E845D0>\n<rdkit.DataStructs.cDataStructs.ExplicitBitVect object at 0x000001EE91E84620>\n<rdkit.DataStructs.cDataStructs.ExplicitBitVect object at 0x000001EE91E84670>\n<rdkit.DataStructs.cDataStructs.ExplicitBitVect object at 0x000001EE91E846C0>\n<rdkit.DataStructs.cDataStructs.ExplicitBitVect object at 0x000001EE91E84710>\n<rdkit.DataStructs.cDataStructs.ExplicitBitVect object at 0x000001EE91E84760>\n<rdkit.DataStructs.cDataStructs.ExplicitBitVect object at 0x000001EE91E847B0>\n<rdkit.DataStructs.cDataStructs.ExplicitBitVect object at 0x000001EE91E84800>\n<rdkit.DataStructs.cDataStructs.ExplicitBitVect object at 0x000001EE91E84850>\n<rdkit.DataStructs.cDataStructs.ExplicitBitVect object at 0x000001EE91E848A0>\n<rdkit.DataStructs.cDataStructs.ExplicitBitVect object at 0x000001EE91E848F0>\n<rdkit.DataStructs.cDataStructs.ExplicitBitVect object at 0x000001EE91E84940>\n<rdkit.DataStructs.cDataStructs.ExplicitBitVect object at 0x000001EE91E84990>\n<rdkit.DataStructs.cDataStructs.ExplicitBitVect object at 0x000001EE91E849E0>\n<rdkit.DataStructs.cDataStructs.ExplicitBitVect object at 0x000001EE91E84A30>\n<rdkit.DataStructs.cDataStructs.ExplicitBitVect object at 0x000001EE91E84A80>\n<rdkit.DataStructs.cDataStructs.ExplicitBitVect object at 0x000001EE91E84AD0>\n<rdkit.DataStructs.cDataStructs.ExplicitBitVect object at 0x000001EE91E84B20>\n<rdkit.DataStructs.cDataStructs.ExplicitBitVect object at 0x000001EE91E84B70>\n<rdkit.DataStructs.cDataStructs.ExplicitBitVect object at 0x000001EE91E84BC0>\n<rdkit.DataStructs.cDataStructs.ExplicitBitVect object at 0x000001EE91E84C10>\n<rdkit.DataStructs.cDataStructs.ExplicitBitVect object at 0x000001EE91E84C60>\n<rdkit.DataStructs.cDataStructs.ExplicitBitVect object at 0x000001EE91E84CB0>\n<rdkit.DataStructs.cDataStructs.ExplicitBitVect object at 0x000001EE91E84D00>\n<rdkit.DataStructs.cDataStructs.ExplicitBitVect object at 0x000001EE91E84D50>\n<rdkit.DataStructs.cDataStructs.ExplicitBitVect object at 0x000001EE91E84DA0>\n<rdkit.DataStructs.cDataStructs.ExplicitBitVect object at 0x000001EE91E84DF0>\n<rdkit.DataStructs.cDataStructs.ExplicitBitVect object at 0x000001EE91E84E40>\n<rdkit.DataStructs.cDataStructs.ExplicitBitVect object at 0x000001EE91E84E90>\n<rdkit.DataStructs.cDataStructs.ExplicitBitVect object at 0x000001EE91E84EE0>\n<rdkit.DataStructs.cDataStructs.ExplicitBitVect object at 0x000001EE91E84F30>\n<rdkit.DataStructs.cDataStructs.ExplicitBitVect object at 0x000001EE91E84F80>\n<rdkit.DataStructs.cDataStructs.ExplicitBitVect object at 0x000001EE91E85030>\n<rdkit.DataStructs.cDataStructs.ExplicitBitVect object at 0x000001EE91E85080>\n<rdkit.DataStructs.cDataStructs.ExplicitBitVect object at 0x000001EE91E850D0>\n<rdkit.DataStructs.cDataStructs.ExplicitBitVect object at 0x000001EE91E85120>\n<rdkit.DataStructs.cDataStructs.ExplicitBitVect object at 0x000001EE91E85170>\n<rdkit.DataStructs.cDataStructs.ExplicitBitVect object at 0x000001EE91E851C0>\n<rdkit.DataStructs.cDataStructs.ExplicitBitVect object at 0x000001EE91E85210>\n<rdkit.DataStructs.cDataStructs.ExplicitBitVect object at 0x000001EE91E85260>\n<rdkit.DataStructs.cDataStructs.ExplicitBitVect object at 0x000001EE91E852B0>\n<rdkit.DataStructs.cDataStructs.ExplicitBitVect object at 0x000001EE91E85300>\n<rdkit.DataStructs.cDataStructs.ExplicitBitVect object at 0x000001EE91E85350>\n<rdkit.DataStructs.cDataStructs.ExplicitBitVect object at 0x000001EE91E853A0>\n<rdkit.DataStructs.cDataStructs.ExplicitBitVect object at 0x000001EE91E853F0>\n<rdkit.DataStructs.cDataStructs.ExplicitBitVect object at 0x000001EE91E85440>\n<rdkit.DataStructs.cDataStructs.ExplicitBitVect object at 0x000001EE91E85490>\n<rdkit.DataStructs.cDataStructs.ExplicitBitVect object at 0x000001EE91E854E0>\n<rdkit.DataStructs.cDataStructs.ExplicitBitVect object at 0x000001EE91E85530>\n<rdkit.DataStructs.cDataStructs.ExplicitBitVect object at 0x000001EE91E85580>\n<rdkit.DataStructs.cDataStructs.ExplicitBitVect object at 0x000001EE91E855D0>\n<rdkit.DataStructs.cDataStructs.ExplicitBitVect object at 0x000001EE91E85620>\n<rdkit.DataStructs.cDataStructs.ExplicitBitVect object at 0x000001EE91E85670>\n<rdkit.DataStructs.cDataStructs.ExplicitBitVect object at 0x000001EE91E856C0>\n<rdkit.DataStructs.cDataStructs.ExplicitBitVect object at 0x000001EE91E85710>\n<rdkit.DataStructs.cDataStructs.ExplicitBitVect object at 0x000001EE91E85760>\n<rdkit.DataStructs.cDataStructs.ExplicitBitVect object at 0x000001EE91E857B0>\n<rdkit.DataStructs.cDataStructs.ExplicitBitVect object at 0x000001EE91E85800>\n<rdkit.DataStructs.cDataStructs.ExplicitBitVect object at 0x000001EE91E85850>\n<rdkit.DataStructs.cDataStructs.ExplicitBitVect object at 0x000001EE91E858A0>\n<rdkit.DataStructs.cDataStructs.ExplicitBitVect object at 0x000001EE91E858F0>\n<rdkit.DataStructs.cDataStructs.ExplicitBitVect object at 0x000001EE91E85940>\n<rdkit.DataStructs.cDataStructs.ExplicitBitVect object at 0x000001EE91E85990>\n<rdkit.DataStructs.cDataStructs.ExplicitBitVect object at 0x000001EE91E859E0>\n<rdkit.DataStructs.cDataStructs.ExplicitBitVect object at 0x000001EE91E85A30>\n<rdkit.DataStructs.cDataStructs.ExplicitBitVect object at 0x000001EE91E85A80>\n<rdkit.DataStructs.cDataStructs.ExplicitBitVect object at 0x000001EE91E85AD0>\n<rdkit.DataStructs.cDataStructs.ExplicitBitVect object at 0x000001EE91E85B20>\n<rdkit.DataStructs.cDataStructs.ExplicitBitVect object at 0x000001EE91E85B70>\n<rdkit.DataStructs.cDataStructs.ExplicitBitVect object at 0x000001EE91E85BC0>\n<rdkit.DataStructs.cDataStructs.ExplicitBitVect object at 0x000001EE91E85C10>\n<rdkit.DataStructs.cDataStructs.ExplicitBitVect object at 0x000001EE91E85C60>\n<rdkit.DataStructs.cDataStructs.ExplicitBitVect object at 0x000001EE91E85CB0>\n<rdkit.DataStructs.cDataStructs.ExplicitBitVect object at 0x000001EE91E85D00>\n<rdkit.DataStructs.cDataStructs.ExplicitBitVect object at 0x000001EE91E85D50>\n<rdkit.DataStructs.cDataStructs.ExplicitBitVect object at 0x000001EE91E85DA0>\n<rdkit.DataStructs.cDataStructs.ExplicitBitVect object at 0x000001EE91E85DF0>\n<rdkit.DataStructs.cDataStructs.ExplicitBitVect object at 0x000001EE91E85E40>\n<rdkit.DataStructs.cDataStructs.ExplicitBitVect object at 0x000001EE91E85E90>\n<rdkit.DataStructs.cDataStructs.ExplicitBitVect object at 0x000001EE91E85EE0>\n<rdkit.DataStructs.cDataStructs.ExplicitBitVect object at 0x000001EE91E85F30>\n<rdkit.DataStructs.cDataStructs.ExplicitBitVect object at 0x000001EE91E85F80>\n<rdkit.DataStructs.cDataStructs.ExplicitBitVect object at 0x000001EE91E86030>\n<rdkit.DataStructs.cDataStructs.ExplicitBitVect object at 0x000001EE91E86080>\n<rdkit.DataStructs.cDataStructs.ExplicitBitVect object at 0x000001EE91E860D0>\n<rdkit.DataStructs.cDataStructs.ExplicitBitVect object at 0x000001EE91E86120>\n<rdkit.DataStructs.cDataStructs.ExplicitBitVect object at 0x000001EE91E86170>\n<rdkit.DataStructs.cDataStructs.ExplicitBitVect object at 0x000001EE91E861C0>\n<rdkit.DataStructs.cDataStructs.ExplicitBitVect object at 0x000001EE91E86210>\n<rdkit.DataStructs.cDataStructs.ExplicitBitVect object at 0x000001EE91E86260>\n<rdkit.DataStructs.cDataStructs.ExplicitBitVect object at 0x000001EE91E862B0>\n<rdkit.DataStructs.cDataStructs.ExplicitBitVect object at 0x000001EE91E86300>\n<rdkit.DataStructs.cDataStructs.ExplicitBitVect object at 0x000001EE91E86350>\n<rdkit.DataStructs.cDataStructs.ExplicitBitVect object at 0x000001EE91E863A0>\n<rdkit.DataStructs.cDataStructs.ExplicitBitVect object at 0x000001EE91E863F0>\n<rdkit.DataStructs.cDataStructs.ExplicitBitVect object at 0x000001EE91E86440>\n<rdkit.DataStructs.cDataStructs.ExplicitBitVect object at 0x000001EE91E86490>\n<rdkit.DataStructs.cDataStructs.ExplicitBitVect object at 0x000001EE91E864E0>\n<rdkit.DataStructs.cDataStructs.ExplicitBitVect object at 0x000001EE91E86530>\n<rdkit.DataStructs.cDataStructs.ExplicitBitVect object at 0x000001EE91E86580>\n<rdkit.DataStructs.cDataStructs.ExplicitBitVect object at 0x000001EE91E865D0>\n<rdkit.DataStructs.cDataStructs.ExplicitBitVect object at 0x000001EE91E86620>\n<rdkit.DataStructs.cDataStructs.ExplicitBitVect object at 0x000001EE91E86670>\n<rdkit.DataStructs.cDataStructs.ExplicitBitVect object at 0x000001EE91E866C0>\n<rdkit.DataStructs.cDataStructs.ExplicitBitVect object at 0x000001EE91E86710>\n<rdkit.DataStructs.cDataStructs.ExplicitBitVect object at 0x000001EE91E86760>\n<rdkit.DataStructs.cDataStructs.ExplicitBitVect object at 0x000001EE91E867B0>\n<rdkit.DataStructs.cDataStructs.ExplicitBitVect object at 0x000001EE91E86800>\n<rdkit.DataStructs.cDataStructs.ExplicitBitVect object at 0x000001EE91E86850>\n<rdkit.DataStructs.cDataStructs.ExplicitBitVect object at 0x000001EE91E868A0>\n<rdkit.DataStructs.cDataStructs.ExplicitBitVect object at 0x000001EE91E868F0>\n<rdkit.DataStructs.cDataStructs.ExplicitBitVect object at 0x000001EE91E86940>\n<rdkit.DataStructs.cDataStructs.ExplicitBitVect object at 0x000001EE91E86990>\n<rdkit.DataStructs.cDataStructs.ExplicitBitVect object at 0x000001EE91E869E0>\n<rdkit.DataStructs.cDataStructs.ExplicitBitVect object at 0x000001EE91E86A30>\n<rdkit.DataStructs.cDataStructs.ExplicitBitVect object at 0x000001EE91E86A80>\n<rdkit.DataStructs.cDataStructs.ExplicitBitVect object at 0x000001EE91E86AD0>\n<rdkit.DataStructs.cDataStructs.ExplicitBitVect object at 0x000001EE91E86B20>\n<rdkit.DataStructs.cDataStructs.ExplicitBitVect object at 0x000001EE91E86B70>\n<rdkit.DataStructs.cDataStructs.ExplicitBitVect object at 0x000001EE91E86BC0>\n<rdkit.DataStructs.cDataStructs.ExplicitBitVect object at 0x000001EE91E86C10>\n<rdkit.DataStructs.cDataStructs.ExplicitBitVect object at 0x000001EE91E86C60>\n<rdkit.DataStructs.cDataStructs.ExplicitBitVect object at 0x000001EE91E86CB0>\n<rdkit.DataStructs.cDataStructs.ExplicitBitVect object at 0x000001EE91E86D00>\n<rdkit.DataStructs.cDataStructs.ExplicitBitVect object at 0x000001EE91E86D50>\n<rdkit.DataStructs.cDataStructs.ExplicitBitVect object at 0x000001EE91E86DA0>\n<rdkit.DataStructs.cDataStructs.ExplicitBitVect object at 0x000001EE91E86DF0>\n<rdkit.DataStructs.cDataStructs.ExplicitBitVect object at 0x000001EE91E86E40>\n<rdkit.DataStructs.cDataStructs.ExplicitBitVect object at 0x000001EE91E86E90>\n<rdkit.DataStructs.cDataStructs.ExplicitBitVect object at 0x000001EE91E86EE0>\n<rdkit.DataStructs.cDataStructs.ExplicitBitVect object at 0x000001EE91E86F30>\n<rdkit.DataStructs.cDataStructs.ExplicitBitVect object at 0x000001EE91E86F80>\n<rdkit.DataStructs.cDataStructs.ExplicitBitVect object at 0x000001EE91E87030>\n<rdkit.DataStructs.cDataStructs.ExplicitBitVect object at 0x000001EE91E87080>\n<rdkit.DataStructs.cDataStructs.ExplicitBitVect object at 0x000001EE91E870D0>\n<rdkit.DataStructs.cDataStructs.ExplicitBitVect object at 0x000001EE91E87120>\n<rdkit.DataStructs.cDataStructs.ExplicitBitVect object at 0x000001EE91E87170>\n<rdkit.DataStructs.cDataStructs.ExplicitBitVect object at 0x000001EE91E871C0>\n<rdkit.DataStructs.cDataStructs.ExplicitBitVect object at 0x000001EE91E87210>\n<rdkit.DataStructs.cDataStructs.ExplicitBitVect object at 0x000001EE91E87260>\n<rdkit.DataStructs.cDataStructs.ExplicitBitVect object at 0x000001EE91E872B0>\n<rdkit.DataStructs.cDataStructs.ExplicitBitVect object at 0x000001EE91E87300>\n<rdkit.DataStructs.cDataStructs.ExplicitBitVect object at 0x000001EE91E87350>\n<rdkit.DataStructs.cDataStructs.ExplicitBitVect object at 0x000001EE91E873A0>\n<rdkit.DataStructs.cDataStructs.ExplicitBitVect object at 0x000001EE91E873F0>\n<rdkit.DataStructs.cDataStructs.ExplicitBitVect object at 0x000001EE91E87440>\n<rdkit.DataStructs.cDataStructs.ExplicitBitVect object at 0x000001EE91E87490>\n<rdkit.DataStructs.cDataStructs.ExplicitBitVect object at 0x000001EE91E874E0>\n<rdkit.DataStructs.cDataStructs.ExplicitBitVect object at 0x000001EE91E87530>\n<rdkit.DataStructs.cDataStructs.ExplicitBitVect object at 0x000001EE91E87580>\n<rdkit.DataStructs.cDataStructs.ExplicitBitVect object at 0x000001EE91E875D0>\n<rdkit.DataStructs.cDataStructs.ExplicitBitVect object at 0x000001EE91E87620>\n<rdkit.DataStructs.cDataStructs.ExplicitBitVect object at 0x000001EE91E87670>\n<rdkit.DataStructs.cDataStructs.ExplicitBitVect object at 0x000001EE91E876C0>\n<rdkit.DataStructs.cDataStructs.ExplicitBitVect object at 0x000001EE91E87710>\n<rdkit.DataStructs.cDataStructs.ExplicitBitVect object at 0x000001EE91E87760>\n<rdkit.DataStructs.cDataStructs.ExplicitBitVect object at 0x000001EE91E877B0>\n<rdkit.DataStructs.cDataStructs.ExplicitBitVect object at 0x000001EE91E87800>\n<rdkit.DataStructs.cDataStructs.ExplicitBitVect object at 0x000001EE91E87850>\n<rdkit.DataStructs.cDataStructs.ExplicitBitVect object at 0x000001EE91E878A0>\n"
    }
   ],
   "source": [
    "for x in df_mol[\"mol_fp\"]:\n",
    "    print(x)"
   ]
  },
  {
   "cell_type": "markdown",
   "metadata": {
    "colab_type": "text",
    "id": "rD0lGTgQt6Gb"
   },
   "source": [
    "## 4. Algoritma NSGA II"
   ]
  },
  {
   "cell_type": "markdown",
   "metadata": {},
   "source": [
    "### Supurt function"
   ]
  },
  {
   "cell_type": "markdown",
   "metadata": {},
   "source": [
    "#### Display"
   ]
  },
  {
   "cell_type": "code",
   "execution_count": null,
   "metadata": {},
   "outputs": [],
   "source": [
    "def dislay(f1,f2,gen,animate=False) :\n",
    "    plt.title(\"gen \"+str(gen+1))\n",
    "    plt.xlabel('Diversity', fontsize=15)\n",
    "    plt.ylabel('Activity', fontsize=15)\n",
    "    plt.scatter(f2, f1)\n",
    "    plt.figure(figsize=(15,15))\n",
    "    plt.show()"
   ]
  },
  {
   "cell_type": "markdown",
   "metadata": {
    "colab_type": "text",
    "id": "u2BuGOe0vK6D"
   },
   "source": [
    "#### Cek Duplikat Individu\n",
    "Melakukan pengecekan terhadap individu yang sama (mempunyai keseluruhan anggota yang sama) dalam suatu populasi\n",
    "\n",
    "---\n",
    "Contoh :\n",
    "\n",
    "\n",
    "```\n",
    "a = [1,2,3,4,5]\n",
    "b = [2,3,4,5,7]\n",
    "c = [1,5,2,3,4]\n",
    "\n",
    "pop = [a,b,c]\n",
    "\n",
    "```\n",
    "Maka :\n",
    "```\n",
    "isDupInd(c,pop) ==> True\n",
    "isDupInd(b,pop) ==> False\n",
    "```\n",
    "---\n",
    "\n",
    "\n",
    "\n"
   ]
  },
  {
   "cell_type": "code",
   "execution_count": null,
   "metadata": {
    "colab": {},
    "colab_type": "code",
    "id": "e7obWtUmt6Gc"
   },
   "outputs": [],
   "source": [
    "def isDupInd(individu,population,dfMol = df_mol) :\n",
    "    same = False\n",
    "    molName = dfMol[\"mol_name\"]\n",
    "    molNameList = []\n",
    "    for gen in individu :\n",
    "        molNameList.append(gen)\n",
    "    individu = molNameList\n",
    "    sizeList = len(individu)\n",
    "    #print(sizeList)\n",
    "    count = 0\n",
    "    for ind in population :\n",
    "        ind = ind[0]\n",
    "        for gen in individu :\n",
    "            if gen in ind :\n",
    "                count += 1\n",
    "        \n",
    "        if count == sizeList :\n",
    "            #print(count)\n",
    "            #print(\"masuk\")\n",
    "            same = True\n",
    "            break\n",
    "        else :\n",
    "            count = 0\n",
    "    return same\n"
   ]
  },
  {
   "cell_type": "markdown",
   "metadata": {
    "colab_type": "text",
    "id": "L8JNNbA-xUVx"
   },
   "source": [
    "#### Sort by Value\n",
    "Me-return list berupa index dari element yang sudah terurut(descend)"
   ]
  },
  {
   "cell_type": "code",
   "execution_count": null,
   "metadata": {
    "colab": {},
    "colab_type": "code",
    "id": "pbLwvrxst6Gq"
   },
   "outputs": [],
   "source": [
    "def index_of(a,list):\n",
    "    for i in range(0,len(list)):\n",
    "        if list[i] == a:\n",
    "            return i\n",
    "    return -1"
   ]
  },
  {
   "cell_type": "code",
   "execution_count": null,
   "metadata": {
    "colab": {},
    "colab_type": "code",
    "id": "txhN38Q4t6Go"
   },
   "outputs": [],
   "source": [
    "import math\n",
    "def sort_by_values(list1, values):\n",
    "    sorted_list = []\n",
    "    while(len(sorted_list)!=len(list1)):\n",
    "        if index_of(min(values),values) in list1:\n",
    "            sorted_list.append(index_of(min(values),values))\n",
    "        values[index_of(min(values),values)] = math.inf\n",
    "    return sorted_list\n"
   ]
  },
  {
   "cell_type": "code",
   "execution_count": null,
   "metadata": {
    "colab": {},
    "colab_type": "code",
    "id": "zGTe36ovt6Gh"
   },
   "outputs": [],
   "source": [
    "def sortByValue(ls) :\n",
    "    sort = sorted((value,index) for index,value in enumerate(ls))\n",
    "    sortLs = []\n",
    "    for x in sort :\n",
    "        sortLs.append((x[1]))\n",
    "    return sortLs\n",
    "#sortByValue(ls)"
   ]
  },
  {
   "cell_type": "markdown",
   "metadata": {},
   "source": [
    "#### bundling Individu\n",
    "Menghitung nilai activity dan diversity dari masing - masing Individu"
   ]
  },
  {
   "cell_type": "code",
   "execution_count": null,
   "metadata": {
    "colab": {},
    "colab_type": "code",
    "id": "GYPOqUS0drKW"
   },
   "outputs": [],
   "source": [
    "def bundleIndividu(individu,dfMol = df_mol):\n",
    "    molName = dfMol[\"mol_name\"].tolist()\n",
    "    molAct = dfMol[\"mol_act\"].tolist()\n",
    "    molFp = dfMol[\"mol_fp\"].tolist()\n",
    " \n",
    "    fp_list = []\n",
    "    n = len(molName)\n",
    "\n",
    "    def fObjective(individu = individu,dfMol = df_mol) :\n",
    "    \n",
    "        def fObj1(individu = individu,dfMol = dfMol) :\n",
    "            act = []\n",
    "            for idx,x in enumerate(molName) :\n",
    "                if x  in individu :\n",
    "                    act.append(dfMol[\"mol_act\"][idx])\n",
    "            return np.mean(act)\n",
    "        \n",
    "        def fObj2(individu = individu, dfMol = dfMol) :\n",
    "            fpList = []\n",
    "            molFp = []\n",
    "\n",
    "            for idx,x in enumerate(molName) :\n",
    "                if x in individu :\n",
    "                    molFp.append(dfMol[\"mol_fp\"][idx])\n",
    "            n = len(molFp)\n",
    "            for i in range(n):\n",
    "                for j in range(n):\n",
    "                    if i > j :\n",
    "                        tmpFp = DataStructs.FingerprintSimilarity(molFp[i],molFp[j])\n",
    "                        fpList.append(tmpFp)\n",
    "            return 1/(np.mean(fpList))\n",
    "\n",
    "        return fObj1(), fObj2()\n",
    "\n",
    "    fObj1,fObj2 = fObjective()\n",
    "    \n",
    "    if [individu,fObj1,fObj2] is not None :\n",
    "        return [individu,fObj1,fObj2]\n",
    "    else :\n",
    "        return []\n"
   ]
  },
  {
   "cell_type": "markdown",
   "metadata": {},
   "source": [
    "#### Extract Individu\n",
    "mengekstract nilai pada setiap individu yang terdapat pada 1 populasi"
   ]
  },
  {
   "cell_type": "code",
   "execution_count": null,
   "metadata": {
    "colab": {},
    "colab_type": "code",
    "id": "ThfGkUust6G1"
   },
   "outputs": [],
   "source": [
    "def unpackInd(population) :\n",
    "    fMaxObj1 = []\n",
    "    fMaxObj2 = []\n",
    "    solution = []\n",
    "    for idx,individu in enumerate(population) :\n",
    "        #print(idx)\n",
    "        solution.append(individu[0])\n",
    "        fMaxObj1.append(individu[1]) # Probabilitas Kesuksesan\n",
    "        fMaxObj2.append(individu[2]) # Diversity   \n",
    "    return [solution,fMaxObj1,fMaxObj2]"
   ]
  },
  {
   "cell_type": "markdown",
   "metadata": {
    "colab_type": "text",
    "id": "LqgIYxqkt6Gy",
    "pycharm": {
     "name": "#%% md\n"
    }
   },
   "source": [
    "### Inisialisasi populasi\n",
    "\n",
    "Pada proses ini akan dihasilkan sekumpulan nPortfolio individu (Portfolio). Setiap individu terdiri dari nGen Gen (Molekul)"
   ]
  },
  {
   "cell_type": "code",
   "execution_count": null,
   "metadata": {
    "colab": {},
    "colab_type": "code",
    "id": "DEBgQJnHt6Gz",
    "pycharm": {
     "name": "#%%\n"
    },
    "tags": [
     "outputPrepend",
     "outputPrepend",
     "outputPrepend",
     "outputPrepend",
     "outputPrepend",
     "outputPrepend",
     "outputPrepend",
     "outputPrepend",
     "outputPrepend"
    ]
   },
   "outputs": [],
   "source": [
    "def initPopulation(nPortfolio,nGen,dfMol=df_mol):\n",
    "    def initIndividu(dfMol = df_mol,nGen=nGen):\n",
    "        randIndividu = []\n",
    "        while(len(randIndividu) < nGen) :\n",
    "            gen = rd.randint(0,len(dfMol)-1)\n",
    "            if gen not in randIndividu:\n",
    "                randIndividu.append(gen)\n",
    "        return randIndividu\n",
    "\n",
    "    molName = dfMol[\"mol_name\"].tolist()\n",
    "    molAct = dfMol[\"mol_act\"].tolist()\n",
    "    molFp = dfMol[\"mol_fp\"].tolist()\n",
    "    population = []\n",
    "    \n",
    "    nSubset = dfMol.shape[0]\n",
    "\n",
    "    for i in range(nPortfolio) :\n",
    "        randIndividu = initIndividu()\n",
    "\n",
    "        if i > 0 :\n",
    "            while(isDupInd(randIndividu,population)) :\n",
    "                randIndividu = initIndividu()\n",
    "\n",
    "        molNameList = []\n",
    "        for j in randIndividu :\n",
    "            molNameList.append(molName[j])     \n",
    "        individu = molNameList\n",
    "        bInd = bundleIndividu(individu)\n",
    "        population.append(bInd)\n",
    "    return population"
   ]
  },
  {
   "cell_type": "markdown",
   "metadata": {
    "colab_type": "text",
    "id": "2-MNtgHkt6G3"
   },
   "source": [
    "### Generate Offspring ( crossover and mutation )\n",
    "Pada proses ini akan dihasilkan sekumpulan individu sebanyak 2 kali lipat dari populasi sebelumnya. Untuk mendapatkannya dilakukan :\n",
    "\n",
    "*   Crossover\n",
    "*   Mutation\n",
    "\n",
    "Hal yang harus dihindari : Pengulangan individu yang sama dalam 1 populasi baru\n",
    "\n"
   ]
  },
  {
   "cell_type": "code",
   "execution_count": null,
   "metadata": {
    "colab": {},
    "colab_type": "code",
    "id": "rWD5DD6ht6G3",
    "tags": [
     "outputPrepend",
     "outputPrepend",
     "outputPrepend",
     "outputPrepend",
     "outputPrepend",
     "outputPrepend",
     "outputPrepend"
    ]
   },
   "outputs": [],
   "source": [
    "def generateOffspring(population,dfMol = df_mol) :\n",
    "    sizeOfPop = len(population)\n",
    "\n",
    "    def duplicateMol(parent) :\n",
    "        parent1,parent2 = parent\n",
    "        dupGen = []\n",
    "        for gen in parent1 :\n",
    "            if gen in parent2 :\n",
    "                dupGen.append(gen)\n",
    "        return dupGen\n",
    "\n",
    "    def generateParent(population=population, sizeOfPop = sizeOfPop):\n",
    "        parent1 = population[rd.randint(0,sizeOfPop-1)][0]\n",
    "        parent2 = population[rd.randint(0,sizeOfPop-1)][0]\n",
    "        return [parent1,parent2]\n",
    "\n",
    "    def crossover(parent,pCo = 0.5) :\n",
    "       \n",
    "        randCo = rd.random()\n",
    "        parents = generateParent()\n",
    "        parent1,parent2 = (parents)\n",
    "        dupMol = ((duplicateMol(parents)))\n",
    "        parent1 = list(set(parent1)-set(dupMol))\n",
    "        parent2 = list(set(parent2)-set(dupMol))\n",
    "        nGen = len(parent1)\n",
    "        \n",
    "        nPoint = 0.5\n",
    "        barier = math.floor(nGen*nPoint) \n",
    "\n",
    "        if randCo < pCo :\n",
    "            offspring1 = parent1[:barier]+parent2[barier:]\n",
    "            offspring2 = parent2[:barier]+parent1[barier:]\n",
    "        else :\n",
    "            offspring1 = parent1\n",
    "            offspring2 = parent2\n",
    "        offspring1 += dupMol\n",
    "        offspring2 += dupMol\n",
    "        return ([offspring1,offspring2])\n",
    "\n",
    "   # Flip mutation \n",
    "    def mutation(individu,pMut = 0.2,pMr = 0.5,dfMol = dfMol) :\n",
    "        randMut = rd.uniform(0,1)\n",
    "        newOffspring = []\n",
    "        if randMut > pMut :\n",
    "            newInd = []\n",
    "            molName = [mol for mol in dfMol[\"mol_name\"] if mol not in individu]\n",
    "            for idx,gen in enumerate(individu) :\n",
    "                randRep = rd.uniform(0,1)\n",
    "                if randRep > pMr :\n",
    "                    newMol = rd.choice(molName)\n",
    "                    while(newMol in individu) :\n",
    "                        individu[idx] = rd.choice(molName)\n",
    "\n",
    "\n",
    "        return individu\n",
    "\n",
    "\n",
    "\n",
    "    \n",
    "    # Start Generate\n",
    "    solution = []\n",
    "    while(len(solution) < 2*sizeOfPop):\n",
    "        parents = generateParent()\n",
    "        offSpring = crossover(parents)\n",
    "        for x in offSpring :\n",
    "            if len(solution) > 0 :\n",
    "                if not isDupInd(x,solution) :\n",
    "                    solution.append(bundleIndividu(mutation(x),dfMol))\n",
    "                else :\n",
    "                    continue\n",
    "            else :\n",
    "                 solution.append(bundleIndividu(mutation(x),dfMol))\n",
    "    return solution\n"
   ]
  },
  {
   "cell_type": "markdown",
   "metadata": {
    "colab_type": "text",
    "id": "-L2laXs000tJ"
   },
   "source": [
    "### Non-Dominated Sorted\n",
    "\n",
    "Proses Sorting berdasarkan prinsip non dominance antar fungsi"
   ]
  },
  {
   "cell_type": "code",
   "execution_count": null,
   "metadata": {
    "colab": {},
    "colab_type": "code",
    "id": "CRb0RydHt6G5",
    "pycharm": {
     "name": "#%%\n"
    }
   },
   "outputs": [],
   "source": [
    "def fast_non_dominated_sort(values1, values2):\n",
    "    S=[[] for i in range(0,len(values1))]\n",
    "    front = [[]]\n",
    "    n=[0 for i in range(0,len(values1))]\n",
    "    rank = [0 for i in range(0, len(values1))]\n",
    "\n",
    "    for p in range(0,len(values1)):\n",
    "        S[p]=[]\n",
    "        n[p]=0\n",
    "        for q in range(0, len(values1)):\n",
    "            if (values1[p] > values1[q] and values2[p] > values2[q]) or (values1[p] >= values1[q] and values2[p] > values2[q]) or (values1[p] > values1[q] and values2[p] >= values2[q]):\n",
    "                if q not in S[p]:\n",
    "                    S[p].append(q)\n",
    "            elif (values1[q] > values1[p] and values2[q] > values2[p]) or (values1[q] >= values1[p] and values2[q] > values2[p]) or (values1[q] > values1[p] and values2[q] >= values2[p]):\n",
    "                n[p] = n[p] + 1\n",
    "        if n[p]==0:\n",
    "            rank[p] = 0\n",
    "            if p not in front[0]:\n",
    "                front[0].append(p)\n",
    "\n",
    "    i = 0\n",
    "    while(front[i] != []):\n",
    "        Q=[]\n",
    "        for p in front[i]:\n",
    "            for q in S[p]:\n",
    "                n[q] =n[q] - 1\n",
    "                if( n[q]==0):\n",
    "                    rank[q]=i+1\n",
    "                    if q not in Q:\n",
    "                        Q.append(q)\n",
    "        i = i+1\n",
    "        front.append(Q)\n",
    "\n",
    "    del front[len(front)-1]\n",
    "    return front\n",
    "\n"
   ]
  },
  {
   "cell_type": "markdown",
   "metadata": {
    "colab_type": "text",
    "id": "I3mM-TgO08Qw"
   },
   "source": [
    "### Crowding Distance\n",
    "Untuk meng-eliminasi beberapa individu yang mempunyai perfomansi sama"
   ]
  },
  {
   "cell_type": "code",
   "execution_count": null,
   "metadata": {
    "colab": {},
    "colab_type": "code",
    "id": "4ffg-MQut6HB"
   },
   "outputs": [],
   "source": [
    "def crowding_distance(values1, values2, front):\n",
    "    distance = [0 for i in range(0,len(front))]\n",
    "    sorted1 = sort_by_values(front, values1[:])\n",
    "\n",
    "    sorted2 = sort_by_values(front, values2[:])\n",
    "    \n",
    "    distance[0] = math.inf\n",
    "    distance[len(front) - 1] = math.inf\n",
    "    for k in range(1,len(front)-1):\n",
    "\n",
    "        distance[k] = distance[k]+ (values1[sorted1[k+1]] - values2[sorted1[k-1]])/(max(values1)-min(values1))\n",
    "        \n",
    "    for k in range(1,len(front)-1):\n",
    "        distance[k] = distance[k]+ (values1[sorted2[k+1]] - values2[sorted2[k-1]])/(max(values2)-min(values2))\n",
    "    return distance"
   ]
  },
  {
   "cell_type": "markdown",
   "metadata": {
    "colab_type": "text",
    "id": "xpyQ3OeXt6HE",
    "pycharm": {
     "name": "#%% md\n"
    }
   },
   "source": [
    "### Main Program"
   ]
  },
  {
   "cell_type": "code",
   "execution_count": null,
   "metadata": {
    "colab": {},
    "colab_type": "code",
    "id": "wKzC048ut6HE",
    "tags": [
     "outputPrepend",
     "outputPrepend",
     "outputPrepend"
    ]
   },
   "outputs": [],
   "source": [
    "# Parameter\n",
    "import matplotlib.pyplot as plt\n",
    "maxGen = 100\n",
    "gen_0 = 0\n",
    "nGen = 100\n",
    "nPortfolio = 100 # banyaknya individu dalam satu populasi\n",
    "\n",
    "\n",
    "# Step 1 Generate Population\n",
    "population = initPopulation(nPortfolio,nGen)\n",
    "initFobj1 = unpackInd(population)[1]\n",
    "initFobj2 = unpackInd(population)[2]\n",
    "\n",
    "print(\"Start\")\n",
    "for gen in range(maxGen) :\n",
    "    #print(\"gen \", gen+1, \"Start!\")\n",
    "\n",
    "    # Step 2 Generate Offsprings\n",
    "   \n",
    "    offsprings = generateOffspring(population)\n",
    "    fObj1 = unpackInd(offsprings)[1]\n",
    "    fObj2 = unpackInd(offsprings)[2]\n",
    "    print(len(fObj1))\n",
    "    \n",
    "    # Step 3 Fast Non Dominated\n",
    "    nonDominatedSorted = fast_non_dominated_sort(fObj1[:],fObj2[:])\n",
    "    \n",
    "    # Step 4 crowding distance\n",
    "    crowdingDistance = []\n",
    "    for i in range(len(nonDominatedSorted)) :\n",
    "        crowdingDistance.append(crowding_distance(fObj1[:],fObj2[:],nonDominatedSorted[i][:]))\n",
    "    \n",
    "\n",
    "    # Step 5 Individu selection\n",
    "    newNonDominatedSorted = []\n",
    "    new_solution = []\n",
    "\n",
    "    for i in range(0,len(nonDominatedSorted)):  \n",
    "\n",
    "        # step 5.1 assign sort by index dari crowding distance\n",
    "\n",
    "        front22 = sortByValue(crowdingDistance[i][:])\n",
    "        if gen == 1 :\n",
    "            cSave = crowdingDistance[i][:]\n",
    "            fSave = front22\n",
    "\n",
    "        # step 5.2 memasukkan nilai dari non_dominated .. berdasrkan urutan crowding\n",
    "\n",
    "        front = []\n",
    "        for j in range(len(nonDominatedSorted[i])):\n",
    "            front.append(nonDominatedSorted[i][front22[j]])\n",
    "\n",
    "        # Step 5.3 masukin ke new_sol sesuai dengan keperluan pop_size\n",
    "\n",
    "        for value in front:\n",
    "            new_solution.append(value)\n",
    "            \n",
    "            if(len(new_solution)==nPortfolio):\n",
    "                break\n",
    "                \n",
    "        if (len(new_solution) == nPortfolio):\n",
    "            break\n",
    "    \n",
    "    population = [offsprings[i] for i in new_solution]\n",
    "\n",
    "    maxFObj1 = unpackInd(population)[1]\n",
    "    maxFObj2 = unpackInd(population)[2]\n",
    "\n",
    "    plt.title(\"gen \"+str(gen+1))\n",
    "    plt.xlabel('Diversity', fontsize=15)\n",
    "    plt.ylabel('Activtity', fontsize=15)\n",
    "    plt.scatter(maxFObj2, maxFObj1)\n",
    "    \n",
    "    plt.show()\n",
    "    #clear_output(wait=True)\n",
    "    \n",
    "\n",
    "    "
   ]
  },
  {
   "cell_type": "code",
   "execution_count": null,
   "metadata": {
    "colab": {},
    "colab_type": "code",
    "id": "zTzyiR3mt6HL"
   },
   "outputs": [],
   "source": [
    "f1 = [initFobj1,maxFObj1]\n",
    "f2 = [initFobj2,maxFObj2]\n",
    "title = [\"Generasi ke 1\",\"Generasi ke \"+str(maxGen)]\n",
    "n = len(f1)\n",
    "fig, ax = plt.subplots(ncols=n,figsize=(18,5))\n",
    "fig.tight_layout(pad=5.0)\n",
    "for i in range(n) :\n",
    "    ax[i].scatter(f2[i],f1[i])\n",
    "    ax[i].set(xlabel=\"Diversity\",ylabel=\"Activity\")\n",
    "    ax[i].set_title(title[i],fontsize=20)\n",
    "\n",
    "plt.show()"
   ]
  },
  {
   "cell_type": "code",
   "execution_count": null,
   "metadata": {},
   "outputs": [],
   "source": []
  }
 ],
 "metadata": {
  "celltoolbar": "Edit Metadata",
  "colab": {
   "include_colab_link": true,
   "name": "Final_Project.ipynb",
   "private_outputs": true,
   "provenance": []
  },
  "kernelspec": {
   "display_name": "Python 3",
   "language": "python",
   "name": "python3"
  },
  "language_info": {
   "codemirror_mode": {
    "name": "ipython",
    "version": 3
   },
   "file_extension": ".py",
   "mimetype": "text/x-python",
   "name": "python",
   "nbconvert_exporter": "python",
   "pygments_lexer": "ipython3",
   "version": "3.7.4-final"
  }
 },
 "nbformat": 4,
 "nbformat_minor": 1
}