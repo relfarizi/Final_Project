{
  "nbformat": 4,
  "nbformat_minor": 0,
  "metadata": {
    "colab": {
      "name": "Final_Project.ipynb",
      "provenance": [],
      "private_outputs": true,
      "include_colab_link": true
    },
    "kernelspec": {
      "display_name": "Python 3",
      "language": "python",
      "name": "python3"
    },
    "language_info": {
      "codemirror_mode": {
        "name": "ipython",
        "version": 3
      },
      "file_extension": ".py",
      "mimetype": "text/x-python",
      "name": "python",
      "nbconvert_exporter": "python",
      "pygments_lexer": "ipython3",
      "version": "3.7.4"
    }
  },
  "cells": [
    {
      "cell_type": "markdown",
      "metadata": {
        "id": "view-in-github",
        "colab_type": "text"
      },
      "source": [
        "<a href=\"https://colab.research.google.com/github/relfarizi/Final_Project/blob/master/drugDiscovery.ipynb\" target=\"_parent\"><img src=\"https://colab.research.google.com/assets/colab-badge.svg\" alt=\"Open In Colab\"/></a>"
      ]
    },
    {
      "cell_type": "markdown",
      "metadata": {
        "colab_type": "text",
        "id": "LTqadf5GKMCw"
      },
      "source": [
        "## 1. Import Library"
      ]
    },
    {
      "cell_type": "markdown",
      "metadata": {
        "id": "jF_syCBVt6F6",
        "colab_type": "text"
      },
      "source": [
        "### - Install RDKIT"
      ]
    },
    {
      "cell_type": "code",
      "metadata": {
        "colab_type": "code",
        "id": "SIw0TvdNcFQY",
        "colab": {}
      },
      "source": [
        "# Install rdkit\n",
        "\n",
        "def install_rdkit():\n",
        "  !wget -c https://repo.continuum.io/miniconda/Miniconda3-latest-Linux-x86_64.sh\n",
        "  !chmod +x Miniconda3-latest-Linux-x86_64.sh\n",
        "  !time bash ./Miniconda3-latest-Linux-x86_64.sh -b -f -p /usr/local\n",
        "  !time conda install -q -y -c conda-forge rdkit\n",
        "\n",
        "# install_rdkit()"
      ],
      "execution_count": 0,
      "outputs": []
    },
    {
      "cell_type": "markdown",
      "metadata": {
        "id": "28HWid9Ot6GB",
        "colab_type": "text"
      },
      "source": [
        "### - Library"
      ]
    },
    {
      "cell_type": "code",
      "metadata": {
        "colab_type": "code",
        "id": "IePXvtoVkn3q",
        "colab": {}
      },
      "source": [
        "# Data\n",
        "\n",
        "#from google.colab import files\n",
        "import pandas as pd\n",
        "import numpy as np\n",
        "import regex as re\n",
        "\n",
        "# rdkit\n",
        "import sys\n",
        "#sys.path.append('/usr/local/lib/python3.7/site-packages/')\n",
        "from rdkit import Chem\n",
        "from rdkit.Chem import DataStructs\n",
        "\n",
        "# random\n",
        "import random as rd\n",
        "\n",
        "import math"
      ],
      "execution_count": 0,
      "outputs": []
    },
    {
      "cell_type": "markdown",
      "metadata": {
        "colab_type": "text",
        "id": "HMV8zmkwk9_z"
      },
      "source": [
        "## 2. Data"
      ]
    },
    {
      "cell_type": "markdown",
      "metadata": {
        "colab_type": "text",
        "id": "MpX9zUAt82Tr"
      },
      "source": [
        "### Pre-Processing Data"
      ]
    },
    {
      "cell_type": "code",
      "metadata": {
        "colab_type": "code",
        "id": "W47O-_Df2HU-",
        "tags": [
          "outputPrepend",
          "outputPrepend"
        ],
        "colab": {}
      },
      "source": [
        "def preprocessing_data(link_of_data) :\n",
        "  dataset = pd.read_csv(link_of_data,sep=\";\")\n",
        "  dataset = dataset.iloc[:,[0,7,9,10,11]]\n",
        "\n",
        "  sameMol = []\n",
        "  sameMolCount = {}\n",
        "  dataset_handle = []\n",
        "\n",
        "  for x in dataset.values:\n",
        "    mol_name = x[0]\n",
        "    if mol_name in sameMol:\n",
        "      print(\"uye\")\n",
        "      x[0] = mol_name+\"(\"+str(sameMolCount[mol_name])+\")\"\n",
        "      sameMolCount[mol_name] += 1\n",
        "    else:\n",
        "      sameMol.append(x[0])\n",
        "      sameMolCount[mol_name] = 1\n",
        "    dataset_handle.append(x)\n",
        "\n",
        "  #print(dataset_handle)\n",
        "    \n",
        "  list_of_column_dataframe = dataset.columns\n",
        "  list_of_dataset_after = []\n",
        "\n",
        "  list_of_dataset_before = np.array(dataset_handle)\n",
        "  \n",
        "  for data in list_of_dataset_before :\n",
        "    if data[2] == \"'='\" :\n",
        "      if data[4] == \"nM\" :\n",
        "        if data[3] < 10000 :\n",
        "          data[3] = data[3]/1000\n",
        "          list_of_dataset_after.append(data)\n",
        "  \n",
        "  dataframe_of_dataset_after = pd.DataFrame(list_of_dataset_after)\n",
        "  dataframe_of_dataset_after.columns = list_of_column_dataframe\n",
        "  name_of_file_download = \"Dataset_After.csv\"\n",
        "  dataframe_of_dataset_after.to_csv(name_of_file_download)\n",
        "  #files.download(name_of_file_download)\n",
        "  return dataframe_of_dataset_after\n",
        "\n",
        "# Run untuk mendapatkan datase setelah preprocessing\n",
        "#preprocessing_data(\"https://raw.githubusercontent.com/relfarizi/Final_Project/master/Data/Dataset_Before.csv\")"
      ],
      "execution_count": 0,
      "outputs": []
    },
    {
      "cell_type": "markdown",
      "metadata": {
        "colab_type": "text",
        "id": "n_V57Wl-9BWQ"
      },
      "source": [
        "### Data After Pre-Processing"
      ]
    },
    {
      "cell_type": "code",
      "metadata": {
        "colab_type": "code",
        "id": "RA5IvTTn2pNb",
        "scrolled": true,
        "colab": {}
      },
      "source": [
        "# for colab\n",
        "\n",
        "#dataset = pd.read_csv('https://raw.githubusercontent.com/relfarizi/Final_Project/master/Data/Dataset_After.csv', index_col= 0)\n",
        "\n",
        "\n",
        "dataset = pd.read_csv('Dataset_After.csv',index_col = 0)\n",
        "dataset.head(5)"
      ],
      "execution_count": 0,
      "outputs": []
    },
    {
      "cell_type": "markdown",
      "metadata": {
        "id": "dTjFQtFBt6GP",
        "colab_type": "text"
      },
      "source": [
        "#### - Fix Missing Value in Smiles"
      ]
    },
    {
      "cell_type": "code",
      "metadata": {
        "colab_type": "code",
        "id": "hmjrEPcEgMFh",
        "colab": {}
      },
      "source": [
        "dataset = dataset.dropna()\n",
        "mol_smiles = dataset.iloc[:,1].values.tolist()\n",
        "row_drop = []\n",
        "for i in range(len(mol_smiles)) :\n",
        "  if len(str(mol_smiles[i])) < 5 :\n",
        "    row_drop.append(i)\n",
        "print(row_drop)\n",
        "dataset.drop(row_drop)"
      ],
      "execution_count": 0,
      "outputs": []
    },
    {
      "cell_type": "markdown",
      "metadata": {
        "colab_type": "text",
        "id": "jr6v-7v0j-JM"
      },
      "source": [
        "## 3. Fitur yang digunakan"
      ]
    },
    {
      "cell_type": "markdown",
      "metadata": {
        "colab_type": "text",
        "id": "Ppj_X-CZ720j"
      },
      "source": [
        "### 3.1. Molecule Activity\n",
        "Untuk mencari jumlah dari nilai aktivitas masing2 molekul\n",
        "\n",
        "variabel yang digunakan :\n",
        "* mol_name = list nama molekul\n",
        "* mol_smile = list smile molekul\n",
        "* mol_act = list berisi nilai IC50\n",
        "* act = nilai aktivitas tiap molekul\n",
        "* sum_act = Nilai jumlah dari a"
      ]
    },
    {
      "cell_type": "code",
      "metadata": {
        "colab_type": "code",
        "id": "cIMuhWGr7zlj",
        "colab": {}
      },
      "source": [
        "mol_name = dataset.iloc[:,0].values.tolist()\n",
        "mol_smiles = dataset.iloc[:,1].values.tolist()\n",
        "mol_act = dataset.iloc[:,3].values.tolist()\n",
        "\n",
        "mol_fp = []\n",
        "for molekul in mol_smiles :\n",
        "  smiles = Chem.MolFromSmiles(str(molekul))\n",
        "  fp = Chem.RDKFingerprint(smiles)\n",
        "  mol_fp.append(fp)\n"
      ],
      "execution_count": 0,
      "outputs": []
    },
    {
      "cell_type": "markdown",
      "metadata": {
        "colab_type": "text",
        "id": "3enxBzZ33Hn1"
      },
      "source": [
        "### 3.2 Fingerprint\n",
        "\n",
        "berisi bit biner dari sifat yang menggambarkan suatu molekul (baca lagi)\n",
        "\n",
        "Variabel yang digunakan :\n",
        "* fingerprint suatu molekul (dalam bit biner)\n",
        "* mol_fp = list dari fingerprint setiap molekul\n"
      ]
    },
    {
      "cell_type": "markdown",
      "metadata": {
        "colab_type": "text",
        "id": "zzqnv1Ri-UO6"
      },
      "source": [
        "### 3.3 To DataFrame"
      ]
    },
    {
      "cell_type": "code",
      "metadata": {
        "colab_type": "code",
        "id": "zsyu8ksX-UqX",
        "colab": {}
      },
      "source": [
        "df = pd.DataFrame({'mol_name':mol_name,\n",
        "                       'mol_smiles' : mol_smiles,\n",
        "                       'mol_act':mol_act,\n",
        "                       'mol_fp' : mol_fp,\n",
        "                       })\n",
        "\n",
        "df.head()"
      ],
      "execution_count": 0,
      "outputs": []
    },
    {
      "cell_type": "code",
      "metadata": {
        "colab_type": "code",
        "id": "vRWCXOctv37L",
        "colab": {}
      },
      "source": [
        "df_mol = df.iloc[:,[0,2,3]]\n",
        "df_mol"
      ],
      "execution_count": 0,
      "outputs": []
    },
    {
      "cell_type": "markdown",
      "metadata": {
        "id": "rD0lGTgQt6Gb",
        "colab_type": "text"
      },
      "source": [
        "## 4. Algoritma NSGA II"
      ]
    },
    {
      "cell_type": "markdown",
      "metadata": {
        "id": "PANc1zG9t6Gc",
        "colab_type": "text"
      },
      "source": [
        "### support function"
      ]
    },
    {
      "cell_type": "markdown",
      "metadata": {
        "id": "u2BuGOe0vK6D",
        "colab_type": "text"
      },
      "source": [
        "#### Cek Duplikat Individu\n",
        "Melakukan pengecekan terhadap individu yang sama (mempunyai keseluruhan anggota yang sama) dalam suatu populasi\n",
        "\n",
        "---\n",
        "Contoh :\n",
        "\n",
        "\n",
        "```\n",
        "a = [1,2,3,4,5]\n",
        "b = [2,3,4,5,7]\n",
        "c = [1,5,2,3,4]\n",
        "\n",
        "pop = [a,b,c]\n",
        "\n",
        "```\n",
        "Maka :\n",
        "```\n",
        "isDupInd(c,pop) ==> True\n",
        "isDupInd(b,pop) ==> False\n",
        "```\n",
        "---\n",
        "\n",
        "\n",
        "\n"
      ]
    },
    {
      "cell_type": "code",
      "metadata": {
        "id": "e7obWtUmt6Gc",
        "colab_type": "code",
        "colab": {}
      },
      "source": [
        "def isDupInd(individu,population,dfMol = df_mol) :\n",
        "    same = False\n",
        "    molName = dfMol[\"mol_name\"]\n",
        "    molNameList = []\n",
        "    for gen in individu :\n",
        "        molNameList.append(gen)\n",
        "    individu = molNameList\n",
        "    sizeList = len(individu)\n",
        "    #print(sizeList)\n",
        "    count = 0\n",
        "    for ind in population :\n",
        "        ind = ind[0]\n",
        "        for gen in individu :\n",
        "            if gen in ind :\n",
        "                count += 1\n",
        "        \n",
        "        if count == sizeList :\n",
        "            #print(count)\n",
        "            #print(\"masuk\")\n",
        "            same = True\n",
        "            break\n",
        "        else :\n",
        "            count = 0\n",
        "    return same\n"
      ],
      "execution_count": 0,
      "outputs": []
    },
    {
      "cell_type": "markdown",
      "metadata": {
        "id": "L8JNNbA-xUVx",
        "colab_type": "text"
      },
      "source": [
        "#### Sort by Value\n",
        "Me-return list berupa index dari element yang sudah terurut(descend)"
      ]
    },
    {
      "cell_type": "code",
      "metadata": {
        "id": "pbLwvrxst6Gq",
        "colab_type": "code",
        "colab": {}
      },
      "source": [
        "def index_of(a,list):\n",
        "    for i in range(0,len(list)):\n",
        "        if list[i] == a:\n",
        "            return i\n",
        "    return -1"
      ],
      "execution_count": 0,
      "outputs": []
    },
    {
      "cell_type": "code",
      "metadata": {
        "id": "txhN38Q4t6Go",
        "colab_type": "code",
        "colab": {}
      },
      "source": [
        "import math\n",
        "def sort_by_values(list1, values):\n",
        "    sorted_list = []\n",
        "    while(len(sorted_list)!=len(list1)):\n",
        "        if index_of(min(values),values) in list1:\n",
        "            sorted_list.append(index_of(min(values),values))\n",
        "        values[index_of(min(values),values)] = math.inf\n",
        "    return sorted_list\n"
      ],
      "execution_count": 0,
      "outputs": []
    },
    {
      "cell_type": "code",
      "metadata": {
        "id": "zGTe36ovt6Gh",
        "colab_type": "code",
        "colab": {}
      },
      "source": [
        "def sortByValue(ls) :\n",
        "    sort = sorted((value,index) for index,value in enumerate(ls))\n",
        "    sortLs = []\n",
        "    for x in sort :\n",
        "        sortLs.append((x[1]))\n",
        "    return sortLs\n",
        "#sortByValue(ls)"
      ],
      "execution_count": 0,
      "outputs": []
    },
    {
      "cell_type": "code",
      "metadata": {
        "colab_type": "code",
        "id": "GYPOqUS0drKW",
        "colab": {}
      },
      "source": [
        "def bundleIndividu(individu,dfMol = df_mol):\n",
        "    molName = dfMol[\"mol_name\"].tolist()\n",
        "    molAct = dfMol[\"mol_act\"].tolist()\n",
        "    molFp = dfMol[\"mol_fp\"].tolist()\n",
        " \n",
        "    fp_list = []\n",
        "    n = len(molName)\n",
        "\n",
        "    def fObjective(individu = individu,dfMol = df_mol) :\n",
        "    \n",
        "        def fObj1(individu = individu,dfMol = dfMol) :\n",
        "            act = []\n",
        "            for idx,x in enumerate(molName) :\n",
        "                if x  in individu :\n",
        "                    act.append(dfMol[\"mol_act\"][idx])\n",
        "            return np.mean(act)\n",
        "        \n",
        "        def fObj2(individu = individu, dfMol = dfMol) :\n",
        "            fpList = []\n",
        "            molFp = []\n",
        "\n",
        "            for idx,x in enumerate(molName) :\n",
        "                if x in individu :\n",
        "                    molFp.append(dfMol[\"mol_fp\"][idx])\n",
        "            n = len(molFp)\n",
        "            for i in range(n):\n",
        "                for j in range(n):\n",
        "                    if i > j :\n",
        "                        tmpFp = DataStructs.FingerprintSimilarity(molFp[i],molFp[j])\n",
        "                        fpList.append(tmpFp)\n",
        "            return 1/(np.mean(fpList))\n",
        "\n",
        "        return fObj1(), fObj2()\n",
        "\n",
        "    fObj1,fObj2 = fObjective()\n",
        "    \n",
        "    if [individu,fObj1,fObj2] is not None :\n",
        "        return [individu,fObj1,fObj2]\n",
        "    else :\n",
        "        return []\n"
      ],
      "execution_count": 0,
      "outputs": []
    },
    {
      "cell_type": "code",
      "metadata": {
        "id": "ThfGkUust6G1",
        "colab_type": "code",
        "colab": {}
      },
      "source": [
        "def unpackInd(population) :\n",
        "    fMaxObj1 = []\n",
        "    fMaxObj2 = []\n",
        "    solution = []\n",
        "    for idx,individu in enumerate(population) :\n",
        "        #print(idx)\n",
        "        solution.append(individu[0])\n",
        "        fMaxObj1.append(individu[1]) # Probabilitas Kesuksesan\n",
        "        fMaxObj2.append(individu[2]) # Diversity   \n",
        "    return [solution,fMaxObj1,fMaxObj2]"
      ],
      "execution_count": 0,
      "outputs": []
    },
    {
      "cell_type": "markdown",
      "metadata": {
        "colab_type": "text",
        "id": "9_1rELu8v37S"
      },
      "source": [
        "## Individu\n",
        "cara menyari diversity :\n",
        "\n",
        "dengan menghitung semua similarity antar molekul kemudian hasilnya di rata2kan\n",
        "\n",
        "sebagai contoh :\n",
        "\n",
        "ada 3 (subset) molekul (A,B,C), maka menghitungnya\n",
        "\n",
        "* A -> B\n",
        "* A -> C\n",
        "* B -> C\n",
        "\n",
        "kemudian dirata2kan"
      ]
    },
    {
      "cell_type": "markdown",
      "metadata": {
        "pycharm": {
          "name": "#%% md\n"
        },
        "id": "LqgIYxqkt6Gy",
        "colab_type": "text"
      },
      "source": [
        "### Inisialisasi populasi\n",
        "\n",
        "Pada proses ini akan dihasilkan sekumpulan nPortfolio individu (Portfolio). Setiap individu terdiri dari nGen Gen (Molekul)"
      ]
    },
    {
      "cell_type": "code",
      "metadata": {
        "pycharm": {
          "name": "#%%\n"
        },
        "tags": [
          "outputPrepend",
          "outputPrepend",
          "outputPrepend",
          "outputPrepend",
          "outputPrepend",
          "outputPrepend",
          "outputPrepend",
          "outputPrepend",
          "outputPrepend"
        ],
        "id": "DEBgQJnHt6Gz",
        "colab_type": "code",
        "colab": {}
      },
      "source": [
        "def initPopulation(nPortfolio,nGen,dfMol=df_mol):\n",
        "    def initIndividu(dfMol = df_mol,nGen=nGen):\n",
        "        randIndividu = []\n",
        "        while(len(randIndividu) < nGen) :\n",
        "            gen = rd.randint(0,len(dfMol)-1)\n",
        "            if gen not in randIndividu:\n",
        "                randIndividu.append(gen)\n",
        "        return randIndividu\n",
        "\n",
        "    molName = dfMol[\"mol_name\"].tolist()\n",
        "    molAct = dfMol[\"mol_act\"].tolist()\n",
        "    molFp = dfMol[\"mol_fp\"].tolist()\n",
        "    population = []\n",
        "    \n",
        "    nSubset = dfMol.shape[0]\n",
        "\n",
        "    for i in range(nPortfolio) :\n",
        "        randIndividu = initIndividu()\n",
        "\n",
        "        if i > 0 :\n",
        "            while(isDupInd(randIndividu,population)) :\n",
        "                randIndividu = initIndividu()\n",
        "\n",
        "        molNameList = []\n",
        "        for j in randIndividu :\n",
        "            molNameList.append(molName[j])     \n",
        "        individu = molNameList\n",
        "        bInd = bundleIndividu(individu)\n",
        "        population.append(bInd)\n",
        "    return population"
      ],
      "execution_count": 0,
      "outputs": []
    },
    {
      "cell_type": "markdown",
      "metadata": {
        "id": "2-MNtgHkt6G3",
        "colab_type": "text"
      },
      "source": [
        "### Generate Offspring ( crossover and mutation )\n",
        "Pada proses ini akan dihasilkan sekumpulan individu sebanyak 2 kali lipat dari populasi sebelumnya. Untuk mendapatkannya dilakukan :\n",
        "\n",
        "*   Crossover\n",
        "*   Mutation\n",
        "\n",
        "Hal yang harus dihindari : Pengulangan individu yang sama dalam 1 populasi baru\n",
        "\n"
      ]
    },
    {
      "cell_type": "code",
      "metadata": {
        "tags": [
          "outputPrepend",
          "outputPrepend",
          "outputPrepend",
          "outputPrepend",
          "outputPrepend",
          "outputPrepend",
          "outputPrepend"
        ],
        "id": "rWD5DD6ht6G3",
        "colab_type": "code",
        "colab": {}
      },
      "source": [
        "def generateOffspring(population,dfMol = df_mol) :\n",
        "    sizeOfPop = len(population)\n",
        "\n",
        "    def duplicateMol(parent) :\n",
        "        parent1,parent2 = parent\n",
        "        dupGen = []\n",
        "        for gen in parent1 :\n",
        "            if gen in parent2 :\n",
        "                dupGen.append(gen)\n",
        "        return dupGen\n",
        "\n",
        "    def generateParent(population=population, sizeOfPop = sizeOfPop):\n",
        "        parent1 = population[rd.randint(0,sizeOfPop-1)][0]\n",
        "        parent2 = population[rd.randint(0,sizeOfPop-1)][0]\n",
        "        return [parent1,parent2]\n",
        "\n",
        "    def crossover(parent,pCo = 0.5) :\n",
        "       \n",
        "        randCo = rd.random()\n",
        "        parents = generateParent()\n",
        "        parent1,parent2 = (parents)\n",
        "        dupMol = ((duplicateMol(parents)))\n",
        "        parent1 = list(set(parent1)-set(dupMol))\n",
        "        parent2 = list(set(parent2)-set(dupMol))\n",
        "        nGen = len(parent1)\n",
        "        \n",
        "        nPoint = 0.5\n",
        "        barier = math.floor(nGen*nPoint) \n",
        "\n",
        "        if randCo < pCo :\n",
        "            offspring1 = parent1[:barier]+parent2[barier:]\n",
        "            offspring2 = parent2[:barier]+parent1[barier:]\n",
        "        else :\n",
        "            offspring1 = parent1\n",
        "            offspring2 = parent2\n",
        "        offspring1 += dupMol\n",
        "        offspring2 += dupMol\n",
        "        return ([offspring1,offspring2])\n",
        "\n",
        "   # Flip mutation \n",
        "    def mutation(individu,pMut = 0.2,pMr = 0.5,dfMol = dfMol) :\n",
        "        randMut = rd.uniform(0,1)\n",
        "        newOffspring = []\n",
        "        if randMut > pMut :\n",
        "            newInd = []\n",
        "            molName = [mol for mol in dfMol[\"mol_name\"] if mol not in individu]\n",
        "            for idx,gen in enumerate(individu) :\n",
        "                randRep = rd.uniform(0,1)\n",
        "                if randRep > pMr :\n",
        "                    newMol = rd.choice(molName)\n",
        "                    while(newMol in individu) :\n",
        "                        individu[idx] = rd.choice(molName)\n",
        "\n",
        "\n",
        "        return individu\n",
        "\n",
        "\n",
        "\n",
        "    \n",
        "    # Start Generate\n",
        "    solution = []\n",
        "    while(len(solution) < 2*sizeOfPop):\n",
        "        parents = generateParent()\n",
        "        offSpring = crossover(parents)\n",
        "        for x in offSpring :\n",
        "            if len(solution) > 0 :\n",
        "                if not isDupInd(x,solution) :\n",
        "                    solution.append(bundleIndividu(mutation(x),dfMol))\n",
        "                else :\n",
        "                    continue\n",
        "            else :\n",
        "                 solution.append(bundleIndividu(mutation(x),dfMol))\n",
        "    return solution\n"
      ],
      "execution_count": 0,
      "outputs": []
    },
    {
      "cell_type": "markdown",
      "metadata": {
        "id": "-L2laXs000tJ",
        "colab_type": "text"
      },
      "source": [
        "### Non-Dominated Sorted\n",
        "\n",
        "Proses Sorting berdasarkan prinsip non dominance antar fungsi"
      ]
    },
    {
      "cell_type": "code",
      "metadata": {
        "pycharm": {
          "name": "#%%\n"
        },
        "id": "CRb0RydHt6G5",
        "colab_type": "code",
        "colab": {}
      },
      "source": [
        "def fast_non_dominated_sort(values1, values2):\n",
        "    S=[[] for i in range(0,len(values1))]\n",
        "    front = [[]]\n",
        "    n=[0 for i in range(0,len(values1))]\n",
        "    rank = [0 for i in range(0, len(values1))]\n",
        "\n",
        "    for p in range(0,len(values1)):\n",
        "        S[p]=[]\n",
        "        n[p]=0\n",
        "        for q in range(0, len(values1)):\n",
        "            if (values1[p] > values1[q] and values2[p] > values2[q]) or (values1[p] >= values1[q] and values2[p] > values2[q]) or (values1[p] > values1[q] and values2[p] >= values2[q]):\n",
        "                if q not in S[p]:\n",
        "                    S[p].append(q)\n",
        "            elif (values1[q] > values1[p] and values2[q] > values2[p]) or (values1[q] >= values1[p] and values2[q] > values2[p]) or (values1[q] > values1[p] and values2[q] >= values2[p]):\n",
        "                n[p] = n[p] + 1\n",
        "        if n[p]==0:\n",
        "            rank[p] = 0\n",
        "            if p not in front[0]:\n",
        "                front[0].append(p)\n",
        "\n",
        "    i = 0\n",
        "    while(front[i] != []):\n",
        "        Q=[]\n",
        "        for p in front[i]:\n",
        "            for q in S[p]:\n",
        "                n[q] =n[q] - 1\n",
        "                if( n[q]==0):\n",
        "                    rank[q]=i+1\n",
        "                    if q not in Q:\n",
        "                        Q.append(q)\n",
        "        i = i+1\n",
        "        front.append(Q)\n",
        "\n",
        "    del front[len(front)-1]\n",
        "    return front\n",
        "\n"
      ],
      "execution_count": 0,
      "outputs": []
    },
    {
      "cell_type": "markdown",
      "metadata": {
        "id": "I3mM-TgO08Qw",
        "colab_type": "text"
      },
      "source": [
        "### Crowding Distance\n",
        "Untuk meng-eliminasi beberapa individu yang mempunyai perfomansi sama"
      ]
    },
    {
      "cell_type": "code",
      "metadata": {
        "id": "4ffg-MQut6HB",
        "colab_type": "code",
        "colab": {}
      },
      "source": [
        "def crowding_distance(values1, values2, front):\n",
        "    distance = [0 for i in range(0,len(front))]\n",
        "    sorted1 = sort_by_values(front, values1[:])\n",
        "\n",
        "    sorted2 = sort_by_values(front, values2[:])\n",
        "    \n",
        "    distance[0] = math.inf\n",
        "    distance[len(front) - 1] = math.inf\n",
        "    for k in range(1,len(front)-1):\n",
        "\n",
        "        distance[k] = distance[k]+ (values1[sorted1[k+1]] - values2[sorted1[k-1]])/(max(values1)-min(values1))\n",
        "        \n",
        "    for k in range(1,len(front)-1):\n",
        "        distance[k] = distance[k]+ (values1[sorted2[k+1]] - values2[sorted2[k-1]])/(max(values2)-min(values2))\n",
        "    return distance"
      ],
      "execution_count": 0,
      "outputs": []
    },
    {
      "cell_type": "markdown",
      "metadata": {
        "pycharm": {
          "name": "#%% md\n"
        },
        "id": "xpyQ3OeXt6HE",
        "colab_type": "text"
      },
      "source": [
        "### Main Program"
      ]
    },
    {
      "cell_type": "code",
      "metadata": {
        "tags": [
          "outputPrepend",
          "outputPrepend",
          "outputPrepend"
        ],
        "id": "wKzC048ut6HE",
        "colab_type": "code",
        "colab": {}
      },
      "source": [
        "# Parameter \n",
        "maxGen = 150\n",
        "gen_0 = 0\n",
        "nGen = 100\n",
        "nPortfolio = 100 # banyaknya individu dalam satu populasi\n",
        "\n",
        "\n",
        "# Step 1 Generate Population\n",
        "population = initPopulation(nPortfolio,nGen)\n",
        "initFobj1 = unpackInd(population)[1]\n",
        "initFobj2 = unpackInd(population)[2]\n",
        "\n",
        "for gen in range(maxGen) :\n",
        "    print(\"gen\", gen)\n",
        "\n",
        "\n",
        "    # Step 2 Generate Offsprings\n",
        "   \n",
        "    offsprings = generateOffspring(population)\n",
        "    fObj1 = unpackInd(offsprings)[1]\n",
        "    fObj2 = unpackInd(offsprings)[2]\n",
        "    \n",
        "    # Step 3 Fast Non Dominated\n",
        "    nonDominatedSorted = fast_non_dominated_sort(fObj1[:],fObj2[:])\n",
        "    \n",
        "    # Step 4 crowding distance\n",
        "    crowdingDistance = []\n",
        "    for i in range(len(nonDominatedSorted)) :\n",
        "        crowdingDistance.append(crowding_distance(fObj1[:],fObj2[:],nonDominatedSorted[i][:]))\n",
        "    \n",
        "\n",
        "    # Step 5 Individu selection\n",
        "    newNonDominatedSorted = []\n",
        "    new_solution = []\n",
        "\n",
        "    for i in range(0,len(nonDominatedSorted)):  \n",
        "\n",
        "        # step 5.1 assign sort by index dari crowding distance\n",
        "\n",
        "        front22 = sortByValue(crowdingDistance[i][:])\n",
        "        if gen == 1 :\n",
        "            cSave = crowdingDistance[i][:]\n",
        "            fSave = front22\n",
        "\n",
        "        # step 5.2 memasukkan nilai dari non_dominated .. berdasrkan urutan crowding\n",
        "\n",
        "        front = []\n",
        "        for j in range(len(nonDominatedSorted[i])):\n",
        "            front.append(nonDominatedSorted[i][front22[j]])\n",
        "\n",
        "        # Step 5.3 masukin ke new_sol sesuai dengan keperluan pop_size\n",
        "\n",
        "        for value in front:\n",
        "            new_solution.append(value)\n",
        "            \n",
        "            if(len(new_solution)==nPortfolio):\n",
        "                break\n",
        "                \n",
        "        if (len(new_solution) == nPortfolio):\n",
        "            break\n",
        "    \n",
        "    population = [offsprings[i] for i in new_solution]\n",
        "\n",
        "    maxFObj1 = unpackInd(population)[1]\n",
        "    maxFObj2 = unpackInd(population)[2]"
      ],
      "execution_count": 0,
      "outputs": []
    },
    {
      "cell_type": "code",
      "metadata": {
        "id": "jhFt2hWft6HH",
        "colab_type": "code",
        "colab": {}
      },
      "source": [
        "import matplotlib.pyplot as plt\n",
        "\n",
        "plt.xlabel('Activity', fontsize=15)\n",
        "plt.ylabel('Diversity', fontsize=15)\n",
        "plt.scatter(initFobj2,initFobj1)\n",
        "plt.show()"
      ],
      "execution_count": 0,
      "outputs": []
    },
    {
      "cell_type": "code",
      "metadata": {
        "id": "yA1V-ulCt6HJ",
        "colab_type": "code",
        "colab": {}
      },
      "source": [
        "import matplotlib.pyplot as plt\n",
        "#f1 = [i * -1 for i in function1_values]\n",
        "#f2 = [j * -1 for j in function2_values]\n",
        "#f1 = look[0]\n",
        "#f2 = look[1]\n",
        "f1 = maxFObj1\n",
        "f2 = maxFObj2\n",
        "#print(f1)\n",
        "#print(f2)\n",
        "#print(lookNonDom)\n",
        "plt.xlabel('Function 1', fontsize=15)\n",
        "plt.ylabel('Function 2', fontsize=15)\n",
        "#plt.plot(f1,f2, '.b-')\n",
        "plt.scatter(f2,f1)\n",
        "plt.show()"
      ],
      "execution_count": 0,
      "outputs": []
    },
    {
      "cell_type": "code",
      "metadata": {
        "id": "zTzyiR3mt6HL",
        "colab_type": "code",
        "colab": {}
      },
      "source": [
        ""
      ],
      "execution_count": 0,
      "outputs": []
    }
  ]
}